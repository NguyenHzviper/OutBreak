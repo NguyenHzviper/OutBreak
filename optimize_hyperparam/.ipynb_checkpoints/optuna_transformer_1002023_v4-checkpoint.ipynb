{
 "cells": [
  {
   "cell_type": "markdown",
   "metadata": {
    "id": "l4Smx2B-csrq"
   },
   "source": [
    "# Import Library"
   ]
  },
  {
   "cell_type": "code",
   "execution_count": 1,
   "metadata": {
    "colab": {
     "base_uri": "https://localhost:8080/"
    },
    "executionInfo": {
     "elapsed": 20046,
     "status": "ok",
     "timestamp": 1675094773069,
     "user": {
      "displayName": "UIT LAB",
      "userId": "02565400251772639252"
     },
     "user_tz": -420
    },
    "id": "VW4v2IEcTYHa",
    "outputId": "dc0cb1f6-5979-4b78-9717-d4e9e8b0c19c"
   },
   "outputs": [
    {
     "name": "stdout",
     "output_type": "stream",
     "text": [
      "Looking in indexes: https://pypi.org/simple, https://us-python.pkg.dev/colab-wheels/public/simple/\n",
      "Requirement already satisfied: scikit-learn in /usr/local/lib/python3.8/dist-packages (1.0.2)\n",
      "Collecting scikit-learn\n",
      "  Downloading scikit_learn-1.2.1-cp38-cp38-manylinux_2_17_x86_64.manylinux2014_x86_64.whl (9.8 MB)\n",
      "\u001b[2K     \u001b[90m━━━━━━━━━━━━━━━━━━━━━━━━━━━━━━━━━━━━━━━━\u001b[0m \u001b[32m9.8/9.8 MB\u001b[0m \u001b[31m94.6 MB/s\u001b[0m eta \u001b[36m0:00:00\u001b[0m\n",
      "\u001b[?25hRequirement already satisfied: joblib>=1.1.1 in /usr/local/lib/python3.8/dist-packages (from scikit-learn) (1.2.0)\n",
      "Requirement already satisfied: scipy>=1.3.2 in /usr/local/lib/python3.8/dist-packages (from scikit-learn) (1.7.3)\n",
      "Requirement already satisfied: numpy>=1.17.3 in /usr/local/lib/python3.8/dist-packages (from scikit-learn) (1.21.6)\n",
      "Requirement already satisfied: threadpoolctl>=2.0.0 in /usr/local/lib/python3.8/dist-packages (from scikit-learn) (3.1.0)\n",
      "Installing collected packages: scikit-learn\n",
      "  Attempting uninstall: scikit-learn\n",
      "    Found existing installation: scikit-learn 1.0.2\n",
      "    Uninstalling scikit-learn-1.0.2:\n",
      "      Successfully uninstalled scikit-learn-1.0.2\n",
      "Successfully installed scikit-learn-1.2.1\n",
      "Looking in indexes: https://pypi.org/simple, https://us-python.pkg.dev/colab-wheels/public/simple/\n",
      "Collecting ftfy\n",
      "  Downloading ftfy-6.1.1-py3-none-any.whl (53 kB)\n",
      "\u001b[2K     \u001b[90m━━━━━━━━━━━━━━━━━━━━━━━━━━━━━━━━━━━━━━━━\u001b[0m \u001b[32m53.1/53.1 KB\u001b[0m \u001b[31m6.5 MB/s\u001b[0m eta \u001b[36m0:00:00\u001b[0m\n",
      "\u001b[?25hRequirement already satisfied: wcwidth>=0.2.5 in /usr/local/lib/python3.8/dist-packages (from ftfy) (0.2.5)\n",
      "Installing collected packages: ftfy\n",
      "Successfully installed ftfy-6.1.1\n",
      "Looking in indexes: https://pypi.org/simple, https://us-python.pkg.dev/colab-wheels/public/simple/\n",
      "Collecting optuna\n",
      "  Downloading optuna-3.1.0-py3-none-any.whl (365 kB)\n",
      "\u001b[2K     \u001b[90m━━━━━━━━━━━━━━━━━━━━━━━━━━━━━━━━━━━━━━\u001b[0m \u001b[32m365.3/365.3 KB\u001b[0m \u001b[31m31.1 MB/s\u001b[0m eta \u001b[36m0:00:00\u001b[0m\n",
      "\u001b[?25hCollecting alembic>=1.5.0\n",
      "  Downloading alembic-1.9.2-py3-none-any.whl (210 kB)\n",
      "\u001b[2K     \u001b[90m━━━━━━━━━━━━━━━━━━━━━━━━━━━━━━━━━━━━━━\u001b[0m \u001b[32m210.6/210.6 KB\u001b[0m \u001b[31m30.1 MB/s\u001b[0m eta \u001b[36m0:00:00\u001b[0m\n",
      "\u001b[?25hRequirement already satisfied: sqlalchemy>=1.3.0 in /usr/local/lib/python3.8/dist-packages (from optuna) (1.4.46)\n",
      "Collecting colorlog\n",
      "  Downloading colorlog-6.7.0-py2.py3-none-any.whl (11 kB)\n",
      "Collecting cmaes>=0.9.1\n",
      "  Downloading cmaes-0.9.1-py3-none-any.whl (21 kB)\n",
      "Requirement already satisfied: tqdm in /usr/local/lib/python3.8/dist-packages (from optuna) (4.64.1)\n",
      "Requirement already satisfied: PyYAML in /usr/local/lib/python3.8/dist-packages (from optuna) (6.0)\n",
      "Requirement already satisfied: packaging>=20.0 in /usr/local/lib/python3.8/dist-packages (from optuna) (21.3)\n",
      "Requirement already satisfied: numpy in /usr/local/lib/python3.8/dist-packages (from optuna) (1.21.6)\n",
      "Collecting Mako\n",
      "  Downloading Mako-1.2.4-py3-none-any.whl (78 kB)\n",
      "\u001b[2K     \u001b[90m━━━━━━━━━━━━━━━━━━━━━━━━━━━━━━━━━━━━━━━━\u001b[0m \u001b[32m78.7/78.7 KB\u001b[0m \u001b[31m12.4 MB/s\u001b[0m eta \u001b[36m0:00:00\u001b[0m\n",
      "\u001b[?25hRequirement already satisfied: importlib-resources in /usr/local/lib/python3.8/dist-packages (from alembic>=1.5.0->optuna) (5.10.2)\n",
      "Requirement already satisfied: importlib-metadata in /usr/local/lib/python3.8/dist-packages (from alembic>=1.5.0->optuna) (6.0.0)\n",
      "Requirement already satisfied: pyparsing!=3.0.5,>=2.0.2 in /usr/local/lib/python3.8/dist-packages (from packaging>=20.0->optuna) (3.0.9)\n",
      "Requirement already satisfied: greenlet!=0.4.17 in /usr/local/lib/python3.8/dist-packages (from sqlalchemy>=1.3.0->optuna) (2.0.1)\n",
      "Requirement already satisfied: zipp>=0.5 in /usr/local/lib/python3.8/dist-packages (from importlib-metadata->alembic>=1.5.0->optuna) (3.11.0)\n",
      "Requirement already satisfied: MarkupSafe>=0.9.2 in /usr/local/lib/python3.8/dist-packages (from Mako->alembic>=1.5.0->optuna) (2.0.1)\n",
      "Installing collected packages: Mako, colorlog, cmaes, alembic, optuna\n",
      "Successfully installed Mako-1.2.4 alembic-1.9.2 cmaes-0.9.1 colorlog-6.7.0 optuna-3.1.0\n"
     ]
    }
   ],
   "source": [
    "# Install packages\n",
    "%pip install -U scikit-learn\n",
    "%pip install ftfy\n",
    "%pip install optuna"
   ]
  },
  {
   "cell_type": "code",
   "execution_count": 2,
   "metadata": {
    "executionInfo": {
     "elapsed": 4799,
     "status": "ok",
     "timestamp": 1675094777863,
     "user": {
      "displayName": "UIT LAB",
      "userId": "02565400251772639252"
     },
     "user_tz": -420
    },
    "id": "b8I8S9koHjT_"
   },
   "outputs": [],
   "source": [
    "# Imports\n",
    "\n",
    "# from google.colab import drive\n",
    "import os\n",
    "\n",
    "import traceback\n",
    "import sys\n",
    "import copy\n",
    "import numpy as np\n",
    "import pandas as pd\n",
    "import matplotlib.pyplot as plt\n",
    "from datetime import datetime\n",
    "from sklearn.metrics import mean_squared_error, mean_absolute_error, mean_absolute_percentage_error\n",
    "from sklearn.preprocessing import MinMaxScaler\n",
    "from sklearn.feature_selection import RFE\n",
    "from sklearn.ensemble import RandomForestRegressor\n",
    "import optuna\n",
    "from optuna.trial import TrialState\n",
    "\n",
    "import torch\n",
    "import torch.nn as nn\n",
    "import torch.nn.functional as F\n",
    "from torch.utils.data import TensorDataset, DataLoader\n",
    "from torch.autograd import Variable\n",
    "\n",
    "from ftfy import fix_text\n",
    "import warnings\n",
    "warnings.simplefilter(\"ignore\", UserWarning)\n",
    "\n",
    "from pandas.core.common import SettingWithCopyWarning\n",
    "\n",
    "warnings.simplefilter(action=\"ignore\", category=SettingWithCopyWarning)\n",
    "warnings.simplefilter(action='ignore', category=FutureWarning)\n",
    "\n",
    "import math"
   ]
  },
  {
   "cell_type": "markdown",
   "metadata": {
    "id": "oA7yvJS1czVO"
   },
   "source": [
    "# Set Path"
   ]
  },
  {
   "cell_type": "code",
   "execution_count": 3,
   "metadata": {
    "colab": {
     "base_uri": "https://localhost:8080/"
    },
    "executionInfo": {
     "elapsed": 29910,
     "status": "ok",
     "timestamp": 1675094807767,
     "user": {
      "displayName": "UIT LAB",
      "userId": "02565400251772639252"
     },
     "user_tz": -420
    },
    "id": "MNAuUk6_HVs1",
    "outputId": "ea244873-6bb5-46f3-dce5-f766883fb58f"
   },
   "outputs": [
    {
     "name": "stdout",
     "output_type": "stream",
     "text": [
      "Mounted at /content/drive\n"
     ]
    }
   ],
   "source": [
    "\n",
    "prj_path = '/home/mlworker/Quang/HealthCare/Source_14012023_v4/'\n",
    "data_path = prj_path + \"/data/\"\n",
    "prj_path_opt= prj_path + \"optimize_hyperparam/opt_results/opt_results_10022023_v4/\"\n",
    "\n",
    "os.chdir(prj_path)"
   ]
  },
  {
   "cell_type": "markdown",
   "metadata": {
    "id": "X94Oj9inc8Fk"
   },
   "source": [
    "# Create Dict data for all cities"
   ]
  },
  {
   "cell_type": "code",
   "execution_count": 4,
   "metadata": {
    "executionInfo": {
     "elapsed": 3822,
     "status": "ok",
     "timestamp": 1675094811587,
     "user": {
      "displayName": "UIT LAB",
      "userId": "02565400251772639252"
     },
     "user_tz": -420
    },
    "id": "ONDHBTEPRMTu"
   },
   "outputs": [],
   "source": [
    "cities = ['An Giang', 'BR Vũng Tàu', 'Bình Phước', 'Bình Thuận', 'Bình Định',\n",
    "        'Bạc Liêu', 'Bắc Kạn', 'Bắc Giang', 'Cao Bằng', 'Cà Mau',\n",
    "        'Cần Thơ', 'Gia Lai', 'Hà Giang', 'Hà Nội', 'Hà Tĩnh', 'Hòa Bình',\n",
    "        'Hưng Yên', 'Hải Dương', 'Hải Phòng', 'Khánh Hòa', 'Kiên Giang',\n",
    "        'Kon Tum', 'Lai Châu', 'Long An', 'Lào Cai', 'Lâm Đồng',\n",
    "        'Lạng Sơn', 'Nam Định', 'Nghệ An', 'Ninh Bình', 'Ninh Thuận',\n",
    "        'Phú Thọ', 'Phú Yên', 'Quảng Bình', 'Quảng Nam', 'Quảng Ngãi',\n",
    "        'Quảng Ninh', 'Quảng Trị', 'Sóc Trăng', 'Sơn La', 'TT Huế',\n",
    "        'Thanh Hóa', 'Thái Bình', 'Thái Nguyên', 'Tiền Giang', 'Trà Vinh',\n",
    "        'Tuyên Quang', 'Tây Ninh', 'Vĩnh Phúc', 'Yên Bái', 'Điện Biên',\n",
    "         'Đà Nẵng', 'Đắk Nông', 'Đắk Lắk', 'Đồng Tháp']\n",
    "\n",
    "def get_dict_all_city_data():\n",
    "  cities_data = {}  \n",
    "  for city in cities:\n",
    "    city_result = pd.read_excel(prj_path+'data/new_data/DH/squeezed/squeezed_'+city+'.xlsx')  \n",
    "    # Đoạn này rất quan trọng. Vì việc optimize không được đụng vào 24 tháng (2016-2017) để dự báo. \n",
    "    # Dữ liệu optimize tính từ 1997- 30/12/2015. Sau đó tách ra train và test trên bộ này.\n",
    "    # lọc 2 năm cuối ra khỏi bộ dữ liệu trước khi chạy optimize \n",
    "    # đoạn này áp dụng cho tất cả các bước optimize trong project\n",
    "    city_result = city_result.loc[city_result['year_month'] < '2015-1-1'] \n",
    "    cities_data[city] = city_result\n",
    "  return cities_data\n",
    "\n",
    "dict_full_data = get_dict_all_city_data()"
   ]
  },
  {
   "cell_type": "markdown",
   "metadata": {
    "id": "OUPWuxbOdBlU"
   },
   "source": [
    "# Seed and Configuration"
   ]
  },
  {
   "cell_type": "code",
   "execution_count": 5,
   "metadata": {
    "executionInfo": {
     "elapsed": 18,
     "status": "ok",
     "timestamp": 1675094811587,
     "user": {
      "displayName": "UIT LAB",
      "userId": "02565400251772639252"
     },
     "user_tz": -420
    },
    "id": "fVkHGeUPO6cO"
   },
   "outputs": [],
   "source": [
    "def seed_everything(seed: int):\n",
    "    import random, os\n",
    "    import numpy as np\n",
    "    import torch\n",
    "    \n",
    "    random.seed(seed)\n",
    "    np.random.seed(seed)\n",
    "    torch.manual_seed(seed)\n",
    "\n",
    "seed_everything(42)"
   ]
  },
  {
   "cell_type": "code",
   "execution_count": 6,
   "metadata": {
    "executionInfo": {
     "elapsed": 18,
     "status": "ok",
     "timestamp": 1675094811588,
     "user": {
      "displayName": "UIT LAB",
      "userId": "02565400251772639252"
     },
     "user_tz": -420
    },
    "id": "lEn56jmQtEmD"
   },
   "outputs": [],
   "source": [
    "# Set hyperparameters as args using the Configuration class\n",
    "class Configuration():\n",
    "    def __init__(self):\n",
    "        self.test_size = 36\n",
    "        self.look_back = 3\n",
    "        self.n_predicted_month = 3\n",
    "        self.n_features = 3\n",
    "        self.seed = 42\n",
    "        self.batch_size = 16\n",
    "        self.device = torch.device(\"cuda\")\n",
    "        self.epochs = 300\n",
    "\n",
    "args = Configuration()"
   ]
  },
  {
   "cell_type": "markdown",
   "metadata": {
    "id": "4OyQATbT2nRz"
   },
   "source": [
    "# Pre-processing Functions"
   ]
  },
  {
   "cell_type": "code",
   "execution_count": 7,
   "metadata": {
    "executionInfo": {
     "elapsed": 18,
     "status": "ok",
     "timestamp": 1675094811588,
     "user": {
      "displayName": "UIT LAB",
      "userId": "02565400251772639252"
     },
     "user_tz": -420
    },
    "id": "ukoPuS5CHvdl"
   },
   "outputs": [],
   "source": [
    "# Define data (pre-)processing functions\n",
    "# modification\n",
    "def get_city_data(city_name):\n",
    "    \"\"\"Returns Diarrhoea rate and climate data\"\"\" \n",
    "    city_data = dict_full_data[city_name].drop(columns=['Diarrhoea_cases', 'province', 'year_month',\n",
    "                                                        'Influenza_rates','Dengue_fever_rates',\n",
    "                                                        'Influenza_cases','Dengue_fever_cases', 'year', 'month'], \n",
    "                                                                  axis=1, \n",
    "                                                                  inplace=False)    \n",
    "    return city_data\n",
    "\n",
    "\n",
    "def convert_to_stationary(city_data):\n",
    "    \"\"\"Subtracts previous value for all cols except disease rates\"\"\"\n",
    "    for col_name in city_data.columns:\n",
    "        if col_name != 'Diarrhoea_rates':\n",
    "            try:\n",
    "                city_data[col_name] = city_data[col_name] - city_data[col_name].shift()\n",
    "            except:\n",
    "                print(col_name)\n",
    "    return city_data\n",
    "\n",
    "def impute_missing_value(city_data):\n",
    "    \"\"\"\n",
    "    Cơ bản dữ liệu bị thiếu sót rất nhiều: Như Điện Biên 1997 -2003 là thiếu dữ liệu về bệnh\n",
    "    Hàm này sẽ tự sinh ra dữ liệu bị thiếu. Nếu tháng nào không có số liệu thì tính như sau:\n",
    "    12 tháng đầu không có số liệu thì gán = 0\n",
    "    tháng 13-24 không có số liệu, sẽ lấy giá trị của tháng cùng kỳ năm trước\n",
    "    tháng từ 24 trở đi sẽ lấy giá trị nhỏ nhất của 2 tháng cùng kỳ trong 2 năm gần nhất.\n",
    "    Do Điện Biên bằng 0 nên sau khi xử lý từ 1997 -2003 là đều = 0.  \n",
    "    \"\"\"\n",
    "    for col in city_data.columns:\n",
    "        for index in range(len(city_data[col])):\n",
    "            if np.isnan(city_data[col].iloc[index]):\n",
    "                if index < 12:\n",
    "                    city_data[col].iloc[index] = 0\n",
    "                elif index >= 12 and index <= 24:\n",
    "                    city_data[col].iloc[index] = city_data[col].iloc[index - 12]\n",
    "                else:\n",
    "                    city_data[col].iloc[index] = min(city_data[col].iloc[index - 12], city_data[col].iloc[index - 24])\n",
    "    return city_data"
   ]
  },
  {
   "cell_type": "code",
   "execution_count": 8,
   "metadata": {
    "executionInfo": {
     "elapsed": 18,
     "status": "ok",
     "timestamp": 1675094811588,
     "user": {
      "displayName": "UIT LAB",
      "userId": "02565400251772639252"
     },
     "user_tz": -420
    },
    "id": "RT8LmtHts4fQ"
   },
   "outputs": [],
   "source": [
    "def split_data(data, look_back ):\n",
    "    \"\"\"Splits data into train and test sets based on args (Configuration class)\"\"\"\n",
    "    train = data[: -args.test_size]\n",
    "    print('lookback', look_back)\n",
    "    test = data[-args.test_size - look_back: ]\n",
    "    return train, test"
   ]
  },
  {
   "cell_type": "code",
   "execution_count": 9,
   "metadata": {
    "executionInfo": {
     "elapsed": 19,
     "status": "ok",
     "timestamp": 1675094811589,
     "user": {
      "displayName": "UIT LAB",
      "userId": "02565400251772639252"
     },
     "user_tz": -420
    },
    "id": "6Wdc44U0uMbP"
   },
   "outputs": [],
   "source": [
    "def to_supervised(data, d_in=args.look_back, d_out=args.n_predicted_month, features_list=[]):\n",
    "    \"\"\"\n",
    "    Frames time-series as supervised learning dataset.\n",
    "    \n",
    "    Args:\n",
    "      d_in: lookback window\n",
    "      d_out: number of predicted months\n",
    "      features_list: list of all features **where last col is the disease incidence**\n",
    "\n",
    "    Returns:\n",
    "      Numpy arrays of disease incidence (y) and other predictors (X)\n",
    "    \"\"\"\n",
    "    X, y = list(), list()\n",
    "    for index, _ in enumerate(data):\n",
    "        in_end = index + d_in\n",
    "        out_end = in_end + d_out\n",
    "        if out_end <= len(data):\n",
    "            if len(features_list) == 0 :\n",
    "                X.append(data[index: in_end, :])\n",
    "            else:\n",
    "                X.append(data[index: in_end, features_list])\n",
    "            y.append(data[in_end: out_end, -1])\n",
    "    return np.array(X), np.array(y)"
   ]
  },
  {
   "cell_type": "code",
   "execution_count": 10,
   "metadata": {
    "executionInfo": {
     "elapsed": 18,
     "status": "ok",
     "timestamp": 1675094811589,
     "user": {
      "displayName": "UIT LAB",
      "userId": "02565400251772639252"
     },
     "user_tz": -420
    },
    "id": "x_RfqYtVGTAk"
   },
   "outputs": [],
   "source": [
    "def select_feature(train, specific_data):\n",
    "    \"\"\"Selects args.n_features top features using RFE\"\"\"\n",
    "    train_X, train_y = to_supervised(train, d_in=1, d_out=1)\n",
    "    train_X, train_y = np.squeeze(train_X), np.squeeze(train_y)\n",
    "    rfe = RFE(RandomForestRegressor(n_estimators=500, random_state=args.seed), n_features_to_select=args.n_features)\n",
    "    fit = rfe.fit(train_X, train_y)\n",
    "    important_features = list()\n",
    "    # print(\"Important Feature:\")\n",
    "    for i in range(len(fit.support_)):\n",
    "        if fit.support_[i]:\n",
    "            important_features.append(i)\n",
    "            # print(specific_data.columns[i])\n",
    "    return np.array(important_features)"
   ]
  },
  {
   "cell_type": "code",
   "execution_count": 11,
   "metadata": {
    "executionInfo": {
     "elapsed": 18,
     "status": "ok",
     "timestamp": 1675094811589,
     "user": {
      "displayName": "UIT LAB",
      "userId": "02565400251772639252"
     },
     "user_tz": -420
    },
    "id": "OsgC3mbHV96C"
   },
   "outputs": [],
   "source": [
    "def get_data(train_np, test_np, batch_size, specific_data):\n",
    "    \"\"\"\n",
    "    Returns important feature list and data formatted for input into Pytorch \n",
    "    models\n",
    "    \"\"\"\n",
    "    important_features = select_feature(train_np, specific_data)\n",
    "\n",
    "    train_X, train_y = to_supervised(train_np, features_list=important_features)\n",
    "    test_X, test_y = to_supervised(test_np, features_list=important_features)\n",
    "    train_tensor = TensorDataset(torch.from_numpy(train_X), torch.from_numpy(train_y))\n",
    "    test_tensor = (torch.from_numpy(test_X), torch.from_numpy(test_y))\n",
    "\n",
    "    train_loader = DataLoader(train_tensor, batch_size=batch_size, shuffle=True)\n",
    "\n",
    "    return important_features, train_loader, test_tensor"
   ]
  },
  {
   "cell_type": "code",
   "execution_count": 12,
   "metadata": {
    "executionInfo": {
     "elapsed": 18,
     "status": "ok",
     "timestamp": 1675094811589,
     "user": {
      "displayName": "UIT LAB",
      "userId": "02565400251772639252"
     },
     "user_tz": -420
    },
    "id": "PW18DMZgF5K_"
   },
   "outputs": [],
   "source": [
    "#Define Pytorch LSTM model\n",
    "class MultiVariateLSTM(nn.Module):\n",
    "    def __init__(self, n_feature=3, n_layers=2, hidden_size=50):\n",
    "        super(MultiVariateLSTM, self).__init__()\n",
    "        self.lstm = nn.LSTM(input_size=n_feature, hidden_size=hidden_size, num_layers=n_layers, batch_first=True)\n",
    "        self.linear = nn.Linear(hidden_size, args.n_predicted_month)\n",
    "        self.loss_fn = nn.MSELoss()\n",
    "        self.sigma = nn.Parameter(torch.ones(args.n_predicted_month))\n",
    "    \n",
    "    def forward(self, X_batch, y_batch=None):\n",
    "        output, (last_hidden, _) = self.lstm(X_batch)\n",
    "        last_hidden_vector = output[:, -1, :]\n",
    "        y_predicted = self.linear(last_hidden_vector)\n",
    "        if y_batch != None:\n",
    "            assert y_predicted.size() == y_batch.size()\n",
    "            loss = self.loss_fn(y_predicted, y_batch)\n",
    "            loss = 0.5 * loss / self.sigma**2\n",
    "            loss = loss.sum() + torch.log(1 + self.sigma.prod())\n",
    "            return y_predicted, loss\n",
    "            #return y_predicted, self.loss_fn(y_predicted, y_batch)\n",
    "        else:\n",
    "            return y_predicted\n",
    "    \n",
    "    def predict(self, X):\n",
    "        X = torch.tensor(X, device=args.device)\n",
    "        return self.forward(X)\n",
    "\n",
    "#Define Pytorch LSTM-ATT model\n",
    "class MultiVariateLSTM_Attention(nn.Module):\n",
    "    def __init__(self, n_feature=3, n_layers=2, hidden_size=50):\n",
    "        super(MultiVariateLSTM_Attention, self).__init__()\n",
    "        self.lstm = nn.LSTM(input_size=n_feature, hidden_size=hidden_size, num_layers=n_layers, batch_first=True)\n",
    "        self.attention_linear = nn.Linear(hidden_size, hidden_size)\n",
    "        # self.linear = nn.Linear(hidden_size*2, args.n_predicted_month)\n",
    "        self.linear = nn.Linear(hidden_size, args.n_predicted_month)\n",
    "        self.loss_fn = nn.MSELoss()\n",
    "        self.sigma = nn.Parameter(torch.ones(args.n_predicted_month))\n",
    "    \n",
    "    def forward(self, X_batch, y_batch=None):\n",
    "        output, (last_hidden, _) = self.lstm(X_batch)\n",
    "        last_hidden_vector = last_hidden[-1]\n",
    "        remain_hidden_vector = output\n",
    "        e_t = remain_hidden_vector.bmm(self.attention_linear(last_hidden_vector).unsqueeze(2)).squeeze(-1)\n",
    "        alpha_t = F.softmax(e_t, dim=1)\n",
    "        attenion_vector = remain_hidden_vector.transpose(2, 1).bmm(alpha_t.unsqueeze(2)).squeeze(-1)\n",
    "        # combine_vector = torch.cat((last_hidden_vector, attenion_vector), dim=1)\n",
    "        # combine_vector = last_hidden_vector + attenion_vector\n",
    "        y_predicted = self.linear(attenion_vector)\n",
    "        if y_batch != None:\n",
    "            assert y_predicted.size() == y_batch.size()\n",
    "            loss = self.loss_fn(y_predicted, y_batch)\n",
    "            loss = 0.5 * loss / self.sigma**2\n",
    "            loss = loss.sum() + torch.log(1 + self.sigma.prod())\n",
    "            return y_predicted, loss\n",
    "            # return y_predicted, self.loss_fn(y_predicted, y_batch)\n",
    "        else:\n",
    "            return y_predicted\n",
    "    \n",
    "    def predict(self, X):\n",
    "        X = torch.tensor(X, device=args.device)\n",
    "        return self.forward(X)\n",
    "\n",
    "# Define Pytorch CNN model\n",
    "class MultivariateCNN(nn.Module):\n",
    "    def __init__(self, num_filters=[100, 100, 100], dropout=0.01):\n",
    "        super(MultivariateCNN, self).__init__()\n",
    "        self.loss_fn = loss = nn.MSELoss()\n",
    "        self.filter_sizes = [1, 2, 3]\n",
    "        self.conv1d_list = nn.ModuleList([nn.Conv1d(args.n_features, num_filters[i], self.filter_sizes[i]) for i in range(len(self.filter_sizes))])\n",
    "        self.linear = nn.Linear(np.sum(num_filters), args.n_predicted_month)\n",
    "        self.dropout = nn.Dropout(dropout)\n",
    "        self.sigma = nn.Parameter(torch.ones(args.n_predicted_month))\n",
    "\n",
    "    def forward(self, X_batch, y_batch=None):\n",
    "        X_batch = X_batch.permute(0, 2, 1)  #(batch_size, n_features, n_look_back)\n",
    "        X_conv_list = [F.relu(conv1d(X_batch)) for conv1d in self.conv1d_list]\n",
    "        X_pool_list = [F.max_pool1d(x_conv, kernel_size=x_conv.shape[2]) for x_conv in X_conv_list]\n",
    "        X_fc = torch.cat([x_pool.squeeze(dim=2) for x_pool in X_pool_list], dim=1)\n",
    "        y_predicted = self.linear(self.dropout(X_fc))\n",
    "        if y_batch != None:\n",
    "            assert y_predicted.size() == y_batch.size()\n",
    "            loss = self.loss_fn(y_predicted, y_batch)\n",
    "            loss = 0.5 * loss / self.sigma**2\n",
    "            loss = loss.sum() + torch.log(1 + self.sigma.prod())\n",
    "            return y_predicted, loss\n",
    "            # return y_predicted, self.loss_fn(y_predicted, y_batch)\n",
    "        else:\n",
    "            return y_predicted\n",
    "\n",
    "    def predict(self, X):\n",
    "        X = torch.tensor(X, device=args.device)\n",
    "        return self.forward(X)"
   ]
  },
  {
   "cell_type": "markdown",
   "metadata": {
    "id": "Zs3TB2E72MDb"
   },
   "source": [
    "# Define Transformer Model"
   ]
  },
  {
   "cell_type": "code",
   "execution_count": 13,
   "metadata": {
    "executionInfo": {
     "elapsed": 18,
     "status": "ok",
     "timestamp": 1675094811590,
     "user": {
      "displayName": "UIT LAB",
      "userId": "02565400251772639252"
     },
     "user_tz": -420
    },
    "id": "ZvmfYUt4vWeP"
   },
   "outputs": [],
   "source": [
    "# Define Pytorch Transformer model\n",
    "class PositionalEncoder(nn.Module):\n",
    "    def __init__(self, d_model=3, n_feature=3, dropout=0.1):\n",
    "        super().__init__()\n",
    "        \n",
    "        self.d_model = d_model\n",
    "        self.dropout = nn.Dropout(dropout)\n",
    "        \n",
    "        pe = torch.zeros(n_feature, d_model)\n",
    "        for pos in range(n_feature):\n",
    "            for i in range(0, d_model, 2):\n",
    "                pe[pos, i] = math.sin(pos/(10000**(2*i/d_model)))\n",
    "                if i + 1 < d_model:\n",
    "                    pe[pos, i+1] = math.cos(pos/(10000**((2*i+1)/d_model)))\n",
    "        pe = pe.unsqueeze(0)        \n",
    "        self.register_buffer('pe', pe)\n",
    "    \n",
    "    def forward(self, x):\n",
    "        x = x*math.sqrt(self.d_model)\n",
    "        length = x.size(1)\n",
    "        pe = Variable(self.pe[:, :length], requires_grad=False)\n",
    "        if x.is_cuda:\n",
    "            pe.cuda()\n",
    "        x = x + pe\n",
    "        x = self.dropout(x)\n",
    "        \n",
    "        return x\n",
    "\n",
    "class TransformerModel(nn.Module):\n",
    "    def __init__(self, d_input=3, n_head=3, hidden_size=256, n_layers=3, dropout=0.5):\n",
    "        super(TransformerModel, self).__init__()\n",
    "        self.hidden_size = hidden_size\n",
    "        self.pe = PositionalEncoder(dropout=dropout)\n",
    "        encoder_layers = nn.TransformerEncoderLayer(d_model=d_input, nhead=n_head, dim_feedforward=hidden_size, dropout=dropout, activation='gelu')\n",
    "        self.transformer_encoder = nn.TransformerEncoder(encoder_layers, n_layers)\n",
    "        self.decoder = nn.Linear(d_input*n_head, args.n_predicted_month)\n",
    "        self.sigma = nn.Parameter(torch.ones(args.n_predicted_month))\n",
    "        self.loss_fn = nn.MSELoss()\n",
    "    \n",
    "    def forward(self, X_batch, y_batch=None):\n",
    "        X_batch = self.pe(X_batch)\n",
    "        X_batch = self.transformer_encoder(X_batch)\n",
    "        X_batch = X_batch.view(X_batch.size(0), -1)\n",
    "        \n",
    "        y_predicted = self.decoder(X_batch)\n",
    "        if y_batch != None:\n",
    "            assert y_predicted.size() == y_batch.size()\n",
    "            loss = self.loss_fn(y_predicted, y_batch)\n",
    "            loss = 0.5 * loss / self.sigma**2\n",
    "            loss = loss.sum() + torch.log(1 + self.sigma.prod())\n",
    "            return y_predicted, loss\n",
    "        else:\n",
    "            return y_predicted\n",
    "        return X_batch\n",
    "    \n",
    "    def predict(self, X):\n",
    "        with torch.no_grad():\n",
    "            X = torch.tensor(X, device=args.device)\n",
    "        return self.forward(X).squeeze()"
   ]
  },
  {
   "cell_type": "markdown",
   "metadata": {
    "id": "oaAY5LAp2Htc"
   },
   "source": [
    "# Class Trainer"
   ]
  },
  {
   "cell_type": "code",
   "execution_count": 14,
   "metadata": {
    "executionInfo": {
     "elapsed": 18,
     "status": "ok",
     "timestamp": 1675094811590,
     "user": {
      "displayName": "UIT LAB",
      "userId": "02565400251772639252"
     },
     "user_tz": -420
    },
    "id": "8TvH93W9mNWQ"
   },
   "outputs": [],
   "source": [
    "# Create class to train and evaluate models\n",
    "class Trainer():\n",
    "    def __init__(self, city, model_type, learning_rate, important_features, train_loader, test_tensor, n_layers=2, hidden_size=128, num_filters=[100, 100, 100], dropout=0.01):\n",
    "        \"\"\"\n",
    "        Initialise trainer, allowing input of LSTM, LSTM-ATT, or CNN \n",
    "        hyperparameters. Adam optimiser used for all models.\n",
    "        \"\"\"\n",
    "        self.model_type = model_type    \n",
    "        self.city = city    \n",
    "        self.Model = self.init_model(model_type, n_layers, hidden_size, num_filters, dropout, city)\n",
    "        self.Model.double().to(args.device)\n",
    "        self.optimizer = torch.optim.Adam(self.Model.parameters(), lr=learning_rate)\n",
    "        self.important_features, self.train_loader, self.test_tensor = important_features, train_loader, test_tensor\n",
    "    \n",
    "    def init_model(self, model_type, n_layers, hidden_size, num_filters, dropout, city):\n",
    "        \"\"\"Initialise a model based on whether LSTM, LSTM-ATT, CNN or Transformer is chosen.\"\"\"\n",
    "        model = TransformerModel()\n",
    "        if model_type.lower() == 'lstm':\n",
    "            model = MultiVariateLSTM(args.n_features, n_layers, hidden_size)\n",
    "        elif model_type.lower() == 'lstm_attention':\n",
    "            model = MultiVariateLSTM_Attention(args.n_features, n_layers, hidden_size)\n",
    "        elif model_type.lower() == 'cnn':\n",
    "            model = MultivariateCNN(num_filters, dropout)\n",
    "        elif model_type.lower() == 'transformers':\n",
    "            model = TransformerModel(d_input=args.look_back, n_head=3, hidden_size=hidden_size, n_layers=n_layers, dropout=dropout)\n",
    "        return model\n",
    "\n",
    "    def step(self, batch):\n",
    "        self.Model.train()\n",
    "        X_batch, y_batch = tuple(t.to(args.device) for t in batch)\n",
    "        self.optimizer.zero_grad()\n",
    "        y_pred, loss = self.Model.forward(X_batch, y_batch)\n",
    "        loss.backward()\n",
    "        self.optimizer.step()\n",
    "        return loss.mean().item()\n",
    "\n",
    "    def validation(self):\n",
    "        self.Model.eval()\n",
    "        eval_loss = 0.0\n",
    "\n",
    "        result = {}\n",
    "\n",
    "        y_true = np.array([])\n",
    "        y_pred = np.array([])\n",
    "\n",
    "        X_batch, y_batch = tuple(t.to(args.device) for t in self.test_tensor)\n",
    "        with torch.no_grad():\n",
    "            outputs, loss = self.Model.forward(X_batch, y_batch)\n",
    "            eval_loss = loss.mean().item()\n",
    "\n",
    "        return eval_loss\n",
    "\n",
    "    def train(self, epochs=20):\n",
    "        best_lost = float(\"inf\")\n",
    "        best_model = None\n",
    "        for epoch in range(epochs):\n",
    "            total_loss = 0.0\n",
    "            for batch in self.train_loader:\n",
    "                loss = self.step(batch)\n",
    "                total_loss += loss\n",
    "            train_loss = total_loss/len(self.train_loader)\n",
    "            eval_loss = self.validation()\n",
    "            if eval_loss < best_lost:\n",
    "                best_lost = eval_loss\n",
    "                best_model = copy.deepcopy(self.Model)\n",
    "            if (epoch + 1) == epochs or (epoch + 1) in [c + 1 for c in range(epochs) if c % int(epochs/4) == 0]:\n",
    "                print(f\"Epoch: {epoch:2}/{epochs:2} - train_loss: {train_loss:.4f} - test_loss: {eval_loss:4f}\")\n",
    "        self.Model = best_model\n",
    "        self.Model.eval()\n",
    "        return None\n",
    "\n",
    "    # Lưu model vào trong thư mục models\n",
    "    def save_model_to(self, path = '', city =''):       \n",
    "        torch.save(self.Model, path)\n",
    "\n",
    "    def load_model_to(self, path = ''):       \n",
    "        return torch.load(path)\n",
    "\n",
    "    def evaluate_model(self, np_data=None, plot=True, scaled=True, city=None, k_steps=None, y_scaler =None):\n",
    "        assert scaled, \"data must be scaled\"\n",
    "        self.Model.eval()\n",
    "        tensor_data = torch.from_numpy(np_data)\n",
    "        rmse_list = []\n",
    "        mae_list = [] \n",
    "        mape_list = []\n",
    "\n",
    "        y_predicted_list = []\n",
    "        y_true_list = []\n",
    "\n",
    "        for k_steps in range(1, args.n_predicted_month + 1):\n",
    "            y_predicted = []\n",
    "            y_true = []\n",
    "            for index in range(tensor_data.size(0) - args.look_back):\n",
    "                X = tensor_data[index: index + args.look_back, self.important_features]\n",
    "                # yhat = self.Model.predict(X.unsqueeze(0)).squeeze()\n",
    "\n",
    "                yhat = self.Model.predict(X.unsqueeze(0))\n",
    "                yhat = yhat.squeeze()\n",
    "\n",
    "                y_predicted.append(yhat.detach().cpu().numpy()[k_steps - 1])\n",
    "                y_true.append(tensor_data[index + args.look_back, -1].detach().cpu().numpy())\n",
    "\n",
    "            y_predicted = y_scaler.inverse_transform(np.array(y_predicted).reshape(-1, 1)).reshape(-1, )\n",
    "            y_true = y_scaler.inverse_transform(np.array(y_true).reshape(-1, 1)).reshape(-1, )\n",
    "\n",
    "            rmse = mean_squared_error(y_true, y_predicted, squared=False)\n",
    "            mae = mean_absolute_error(y_true, y_predicted)\n",
    "            mape = mean_absolute_percentage_error(y_true, y_predicted)\n",
    "\n",
    "            rmse_list.append(rmse)\n",
    "            mae_list.append(mae)\n",
    "            mape_list.append(mape)\n",
    "\n",
    "            # print('City: '+self.city+'  _algo:'+self.model_type+'  -RMSE: '+str(rmse))\n",
    "            if plot==True:\n",
    "              plt.grid(True)\n",
    "              plt.plot(y_predicted, label='predicted')\n",
    "              plt.plot(y_true, label='actual')\n",
    "              plt.title(f\"k-steps = {k_steps} - city: \"+self.city+'  _algo:'+self.model_type+'  -RMSE: '+str(rmse))\n",
    "              plt.legend()\n",
    "              plt.show()\n",
    "\n",
    "              plt.show()\n",
    "            y_predicted_list.append(y_predicted)\n",
    "            y_true_list.append(y_true)\n",
    "\n",
    "        return y_true_list, y_predicted_list, rmse_list, mae_list, mape_list"
   ]
  },
  {
   "cell_type": "markdown",
   "metadata": {
    "id": "6gOIdsGo19Oc"
   },
   "source": [
    "# Objective Function"
   ]
  },
  {
   "cell_type": "code",
   "execution_count": 15,
   "metadata": {
    "executionInfo": {
     "elapsed": 18,
     "status": "ok",
     "timestamp": 1675094811590,
     "user": {
      "displayName": "UIT LAB",
      "userId": "02565400251772639252"
     },
     "user_tz": -420
    },
    "id": "8px_TDW2mtRt"
   },
   "outputs": [],
   "source": [
    "def objective(trial, city):\n",
    "    # Define search parameters\n",
    "    n_layers = trial.suggest_int('n layers', 3, 6) # a    \n",
    "    hidden_size = trial.suggest_int('Hidden size', 5, 384, log=True) #b\n",
    "    learning_rate = trial.suggest_loguniform('Learning rate', 1e-4, 1e-2)\n",
    "    dropout = trial.suggest_uniform('Dropout rate', 0.01, 0.80)\n",
    "    args.epochs = trial.suggest_int('Epochs', 100, 500, step=10)\n",
    "    lookback_window = 3 # fix cứng optimize sau\n",
    "\n",
    "    # Pre-process data\n",
    "    specific_data = get_city_data(fix_text(city))\n",
    "    specific_data = impute_missing_value(specific_data)\n",
    "    specific_data = convert_to_stationary(specific_data)\n",
    "    specific_data.dropna(inplace=True)\n",
    "\n",
    "    train, test = split_data(specific_data,lookback_window)\n",
    "\n",
    "    # Fit data scaler to training data\n",
    "    full_scaler = MinMaxScaler().fit(train)\n",
    "    y_scaler = MinMaxScaler().fit(train.values[:, -1].reshape(-1, 1))\n",
    "\n",
    "    # Scale train and test data\n",
    "    train = full_scaler.transform(train)\n",
    "    test = full_scaler.transform(test)\n",
    "\n",
    "    # Get data to run model\n",
    "    important_features, train_loader, test_tensor = get_data(train, test, args.batch_size, specific_data)\n",
    "\n",
    "    # Transformer model\n",
    "    trainer = Trainer(model_type='transformer',\n",
    "                  city = city,\n",
    "                  important_features=important_features,\n",
    "                  train_loader=train_loader,\n",
    "                  test_tensor=test_tensor,\n",
    "                  n_layers=n_layers,\n",
    "                  hidden_size=hidden_size,\n",
    "                  learning_rate=learning_rate,\n",
    "                  dropout=dropout)\n",
    "\n",
    "    # Train model\n",
    "    # trainer.train(epochs=args.epochs, trial=trial)\n",
    "    trainer.train(epochs=args.epochs)\n",
    "\n",
    "    # Evaluate model\n",
    "    y_true, y_pred, rmse_list, mae_list, mape_list = trainer.evaluate_model(np_data=test, plot= False, scaled=True, city=city, y_scaler = y_scaler)\n",
    "    # _, _, rmse, mae, = trainer.evaluate_model(np_data=test, plot=False, scaled=True, city=city, y_scaler=y_scaler)\n",
    "\n",
    "    return mae_list[0]    "
   ]
  },
  {
   "cell_type": "markdown",
   "metadata": {
    "id": "zHbv5lQ7dn3S"
   },
   "source": [
    "# Main Cell For Optimize"
   ]
  },
  {
   "cell_type": "code",
   "execution_count": 16,
   "metadata": {
    "colab": {
     "base_uri": "https://localhost:8080/"
    },
    "executionInfo": {
     "elapsed": 594842,
     "status": "ok",
     "timestamp": 1675100689079,
     "user": {
      "displayName": "UIT LAB",
      "userId": "02565400251772639252"
     },
     "user_tz": -420
    },
    "id": "ggBbhETfXbsk",
    "outputId": "1e070923-9b2b-4779-bf3f-bf2cbed8c2b6"
   },
   "outputs": [
    {
     "metadata": {
      "tags": null
     },
     "name": "stderr",
     "output_type": "stream",
     "text": [
      "\u001b[32m[I 2023-01-30 16:06:56,205]\u001b[0m A new study created in memory with name: no-name-5a356869-3706-4f91-b45e-6c0ae68dbe20\u001b[0m\n"
     ]
    },
    {
     "metadata": {
      "tags": null
     },
     "name": "stdout",
     "output_type": "stream",
     "text": [
      "lookback 3\n",
      "lookback 3\n",
      "Epoch:  0/280 - train_loss: 1.5431 - test_loss: 0.830203\n",
      "Epoch:  0/280 - train_loss: 0.9297 - test_loss: 0.790428\n",
      "Epoch: 70/280 - train_loss: 0.3939 - test_loss: 0.332205\n",
      "Epoch: 70/280 - train_loss: 0.5058 - test_loss: 0.456403\n",
      "Epoch: 140/280 - train_loss: 0.3924 - test_loss: 0.324462\n",
      "Epoch: 140/280 - train_loss: 0.4065 - test_loss: 0.354879\n",
      "Epoch: 210/280 - train_loss: 0.3941 - test_loss: 0.332700\n",
      "Epoch: 210/280 - train_loss: 0.3943 - test_loss: 0.341285\n",
      "Epoch: 279/280 - train_loss: 0.3933 - test_loss: 0.334253\n"
     ]
    },
    {
     "metadata": {
      "tags": null
     },
     "name": "stderr",
     "output_type": "stream",
     "text": [
      "\u001b[32m[I 2023-01-30 16:09:12,615]\u001b[0m Trial 1 finished with value: 42.9888255093739 and parameters: {'n layers': 5, 'Hidden size': 40, 'Learning rate': 0.005019818823367779, 'Dropout rate': 0.744892468182327, 'Epochs': 280}. Best is trial 1 with value: 42.9888255093739.\u001b[0m\n"
     ]
    },
    {
     "metadata": {
      "tags": null
     },
     "name": "stdout",
     "output_type": "stream",
     "text": [
      "lookback 3\n",
      "Epoch: 279/280 - train_loss: 0.3893 - test_loss: 0.336944\n"
     ]
    },
    {
     "metadata": {
      "tags": null
     },
     "name": "stderr",
     "output_type": "stream",
     "text": [
      "\u001b[32m[I 2023-01-30 16:09:18,827]\u001b[0m Trial 0 finished with value: 51.23651075479772 and parameters: {'n layers': 4, 'Hidden size': 32, 'Learning rate': 0.00030526313391481783, 'Dropout rate': 0.1665237993824824, 'Epochs': 240}. Best is trial 1 with value: 42.9888255093739.\u001b[0m\n"
     ]
    },
    {
     "metadata": {
      "tags": null
     },
     "name": "stdout",
     "output_type": "stream",
     "text": [
      "lookback 3\n",
      "Epoch:  0/360 - train_loss: 1.6022 - test_loss: 1.347687\n",
      "Epoch:  0/360 - train_loss: 0.9429 - test_loss: 0.634140\n",
      "Epoch: 90/360 - train_loss: 0.6500 - test_loss: 0.567559\n",
      "Epoch: 90/360 - train_loss: 0.3971 - test_loss: 0.345579\n",
      "Epoch: 180/360 - train_loss: 0.5105 - test_loss: 0.455568\n",
      "Epoch: 180/360 - train_loss: 0.3916 - test_loss: 0.335259\n",
      "Epoch: 270/360 - train_loss: 0.4216 - test_loss: 0.378602\n",
      "Epoch: 270/360 - train_loss: 0.3912 - test_loss: 0.322120\n",
      "Epoch: 359/360 - train_loss: 0.4018 - test_loss: 0.340692\n"
     ]
    },
    {
     "metadata": {
      "tags": null
     },
     "name": "stderr",
     "output_type": "stream",
     "text": [
      "\u001b[32m[I 2023-01-30 16:11:31,045]\u001b[0m Trial 2 finished with value: 49.176067639664524 and parameters: {'n layers': 5, 'Hidden size': 23, 'Learning rate': 0.00012077390451154993, 'Dropout rate': 0.4251372341274407, 'Epochs': 400}. Best is trial 1 with value: 42.9888255093739.\u001b[0m\n"
     ]
    },
    {
     "metadata": {
      "tags": null
     },
     "name": "stdout",
     "output_type": "stream",
     "text": [
      "lookback 3\n",
      "Epoch: 359/360 - train_loss: 0.3938 - test_loss: 0.338560\n"
     ]
    },
    {
     "metadata": {
      "tags": null
     },
     "name": "stderr",
     "output_type": "stream",
     "text": [
      "\u001b[32m[I 2023-01-30 16:11:43,831]\u001b[0m Trial 3 finished with value: 38.34493461529125 and parameters: {'n layers': 6, 'Hidden size': 88, 'Learning rate': 0.009406862830361643, 'Dropout rate': 0.2859250601935292, 'Epochs': 360}. Best is trial 3 with value: 38.34493461529125.\u001b[0m\n"
     ]
    },
    {
     "metadata": {
      "tags": null
     },
     "name": "stdout",
     "output_type": "stream",
     "text": [
      "lookback 3\n",
      "Epoch:  0/220 - train_loss: 1.4598 - test_loss: 0.974177\n",
      "Epoch:  0/220 - train_loss: 1.1208 - test_loss: 0.720671\n",
      "Epoch: 55/220 - train_loss: 0.6781 - test_loss: 0.616342\n",
      "Epoch: 55/220 - train_loss: 0.3946 - test_loss: 0.315940\n",
      "Epoch: 110/220 - train_loss: 0.5615 - test_loss: 0.515619\n",
      "Epoch: 110/220 - train_loss: 0.3962 - test_loss: 0.365717\n",
      "Epoch: 165/220 - train_loss: 0.4836 - test_loss: 0.439223\n",
      "Epoch: 165/220 - train_loss: 0.3958 - test_loss: 0.349396\n",
      "Epoch: 219/220 - train_loss: 0.4366 - test_loss: 0.388268\n"
     ]
    },
    {
     "metadata": {
      "tags": null
     },
     "name": "stderr",
     "output_type": "stream",
     "text": [
      "\u001b[32m[I 2023-01-30 16:13:16,560]\u001b[0m Trial 4 finished with value: 51.32954532298573 and parameters: {'n layers': 5, 'Hidden size': 5, 'Learning rate': 0.00014001213344606866, 'Dropout rate': 0.6237871289568256, 'Epochs': 450}. Best is trial 3 with value: 38.34493461529125.\u001b[0m\n"
     ]
    },
    {
     "metadata": {
      "tags": null
     },
     "name": "stdout",
     "output_type": "stream",
     "text": [
      "lookback 3\n",
      "Epoch: 219/220 - train_loss: 0.3903 - test_loss: 0.342335\n"
     ]
    },
    {
     "metadata": {
      "tags": null
     },
     "name": "stderr",
     "output_type": "stream",
     "text": [
      "\u001b[32m[I 2023-01-30 16:13:31,464]\u001b[0m Trial 5 finished with value: 43.97461520643398 and parameters: {'n layers': 3, 'Hidden size': 12, 'Learning rate': 0.003278195269020481, 'Dropout rate': 0.5236317232082459, 'Epochs': 220}. Best is trial 3 with value: 38.34493461529125.\u001b[0m\n"
     ]
    },
    {
     "metadata": {
      "tags": null
     },
     "name": "stdout",
     "output_type": "stream",
     "text": [
      "lookback 3\n",
      "Epoch:  0/390 - train_loss: 1.4095 - test_loss: 1.058707\n",
      "Epoch:  0/390 - train_loss: 1.5588 - test_loss: 1.569165\n",
      "Epoch: 97/390 - train_loss: 0.3926 - test_loss: 0.349107\n",
      "Epoch: 97/390 - train_loss: 0.4135 - test_loss: 0.369559\n",
      "Epoch: 194/390 - train_loss: 0.3875 - test_loss: 0.327322\n",
      "Epoch: 194/390 - train_loss: 0.3977 - test_loss: 0.346416\n",
      "Epoch: 291/390 - train_loss: 0.3926 - test_loss: 0.337277\n",
      "Epoch: 291/390 - train_loss: 0.3916 - test_loss: 0.339695\n",
      "Epoch: 388/390 - train_loss: 0.3940 - test_loss: 0.345791\n",
      "Epoch: 389/390 - train_loss: 0.3920 - test_loss: 0.331819\n"
     ]
    },
    {
     "metadata": {
      "tags": null
     },
     "name": "stderr",
     "output_type": "stream",
     "text": [
      "\u001b[32m[I 2023-01-30 16:15:40,842]\u001b[0m Trial 6 finished with value: 46.00184567195236 and parameters: {'n layers': 4, 'Hidden size': 99, 'Learning rate': 0.0016573033222838278, 'Dropout rate': 0.7391462642414494, 'Epochs': 410}. Best is trial 3 with value: 38.34493461529125.\u001b[0m\n"
     ]
    },
    {
     "metadata": {
      "tags": null
     },
     "name": "stdout",
     "output_type": "stream",
     "text": [
      "lookback 3\n",
      "Epoch: 388/390 - train_loss: 0.3916 - test_loss: 0.340266\n",
      "Epoch: 389/390 - train_loss: 0.3918 - test_loss: 0.347458\n"
     ]
    },
    {
     "metadata": {
      "tags": null
     },
     "name": "stderr",
     "output_type": "stream",
     "text": [
      "\u001b[32m[I 2023-01-30 16:16:01,916]\u001b[0m Trial 7 finished with value: 50.083491767105144 and parameters: {'n layers': 3, 'Hidden size': 15, 'Learning rate': 0.0004381714410163357, 'Dropout rate': 0.09190428489623488, 'Epochs': 390}. Best is trial 3 with value: 38.34493461529125.\u001b[0m\n"
     ]
    },
    {
     "metadata": {
      "tags": null
     },
     "name": "stdout",
     "output_type": "stream",
     "text": [
      "lookback 3\n",
      "Epoch:  0/250 - train_loss: 1.3201 - test_loss: 0.931760\n",
      "Epoch:  0/250 - train_loss: 1.6080 - test_loss: 1.030923\n",
      "Epoch: 62/250 - train_loss: 0.3952 - test_loss: 0.339419\n",
      "Epoch: 62/250 - train_loss: 0.3902 - test_loss: 0.352812\n",
      "Epoch: 124/250 - train_loss: 0.3921 - test_loss: 0.323299\n",
      "Epoch: 124/250 - train_loss: 0.3948 - test_loss: 0.366919\n",
      "Epoch: 186/250 - train_loss: 0.3927 - test_loss: 0.339094\n",
      "Epoch: 248/250 - train_loss: 0.3924 - test_loss: 0.332690\n",
      "Epoch: 186/250 - train_loss: 0.3933 - test_loss: 0.354041\n",
      "Epoch: 249/250 - train_loss: 0.3915 - test_loss: 0.333132\n"
     ]
    },
    {
     "metadata": {
      "tags": null
     },
     "name": "stderr",
     "output_type": "stream",
     "text": [
      "\u001b[32m[I 2023-01-30 16:17:30,503]\u001b[0m Trial 8 finished with value: 48.23362200685069 and parameters: {'n layers': 6, 'Hidden size': 27, 'Learning rate': 0.000872056242619949, 'Dropout rate': 0.09792552301204187, 'Epochs': 220}. Best is trial 3 with value: 38.34493461529125.\u001b[0m\n"
     ]
    },
    {
     "metadata": {
      "tags": null
     },
     "name": "stdout",
     "output_type": "stream",
     "text": [
      "lookback 3\n",
      "Epoch: 248/250 - train_loss: 0.3922 - test_loss: 0.342242\n",
      "Epoch: 249/250 - train_loss: 0.3919 - test_loss: 0.341321\n"
     ]
    },
    {
     "metadata": {
      "tags": null
     },
     "name": "stderr",
     "output_type": "stream",
     "text": [
      "\u001b[32m[I 2023-01-30 16:17:54,409]\u001b[0m Trial 9 finished with value: 49.93944359400857 and parameters: {'n layers': 4, 'Hidden size': 372, 'Learning rate': 0.0015046053524371806, 'Dropout rate': 0.29975366393614394, 'Epochs': 250}. Best is trial 3 with value: 38.34493461529125.\u001b[0m\n"
     ]
    },
    {
     "metadata": {
      "tags": null
     },
     "name": "stdout",
     "output_type": "stream",
     "text": [
      "lookback 3\n",
      "Epoch:  0/110 - train_loss: 1.1319 - test_loss: 0.796841\n",
      "Epoch: 27/110 - train_loss: 0.6765 - test_loss: 0.607577\n",
      "Epoch: 54/110 - train_loss: 0.5509 - test_loss: 0.507603\n",
      "Epoch:  0/110 - train_loss: 1.1101 - test_loss: 0.694588\n",
      "Epoch: 81/110 - train_loss: 0.4781 - test_loss: 0.429446\n",
      "Epoch: 27/110 - train_loss: 0.3957 - test_loss: 0.390681\n",
      "Epoch: 108/110 - train_loss: 0.4249 - test_loss: 0.382888\n",
      "Epoch: 109/110 - train_loss: 0.4302 - test_loss: 0.380565\n"
     ]
    },
    {
     "metadata": {
      "tags": null
     },
     "name": "stderr",
     "output_type": "stream",
     "text": [
      "\u001b[32m[I 2023-01-30 16:18:46,590]\u001b[0m Trial 10 finished with value: 50.68196513695571 and parameters: {'n layers': 6, 'Hidden size': 68, 'Learning rate': 0.00031210415253012314, 'Dropout rate': 0.3133040019528438, 'Epochs': 100}. Best is trial 3 with value: 38.34493461529125.\u001b[0m\n"
     ]
    },
    {
     "metadata": {
      "tags": null
     },
     "name": "stdout",
     "output_type": "stream",
     "text": [
      "lookback 3\n",
      "Epoch: 54/110 - train_loss: 0.3930 - test_loss: 0.353408\n",
      "Epoch: 81/110 - train_loss: 0.3970 - test_loss: 0.305024\n",
      "Epoch: 108/110 - train_loss: 0.3950 - test_loss: 0.352384\n",
      "Epoch: 109/110 - train_loss: 0.3938 - test_loss: 0.318664\n"
     ]
    },
    {
     "metadata": {
      "tags": null
     },
     "name": "stderr",
     "output_type": "stream",
     "text": [
      "\u001b[32m[I 2023-01-30 16:19:10,132]\u001b[0m Trial 11 finished with value: 46.54347412522406 and parameters: {'n layers': 6, 'Hidden size': 91, 'Learning rate': 0.009927166307975238, 'Dropout rate': 0.2817843967087476, 'Epochs': 110}. Best is trial 3 with value: 38.34493461529125.\u001b[0m\n"
     ]
    },
    {
     "metadata": {
      "tags": null
     },
     "name": "stdout",
     "output_type": "stream",
     "text": [
      "lookback 3\n",
      "Epoch:  0/310 - train_loss: 0.9472 - test_loss: 0.694789\n",
      "Epoch:  0/310 - train_loss: 1.2626 - test_loss: 0.783523\n",
      "Epoch: 77/310 - train_loss: 0.3946 - test_loss: 0.327823\n",
      "Epoch: 77/310 - train_loss: 0.3963 - test_loss: 0.326870\n",
      "Epoch: 154/310 - train_loss: 0.3982 - test_loss: 0.327786\n",
      "Epoch: 154/310 - train_loss: 0.3923 - test_loss: 0.333474\n",
      "Epoch: 231/310 - train_loss: 0.3920 - test_loss: 0.324975\n",
      "Epoch: 231/310 - train_loss: 0.3922 - test_loss: 0.329916\n",
      "Epoch: 308/310 - train_loss: 0.3916 - test_loss: 0.333568\n",
      "Epoch: 309/310 - train_loss: 0.3928 - test_loss: 0.331717\n"
     ]
    },
    {
     "metadata": {
      "tags": null
     },
     "name": "stderr",
     "output_type": "stream",
     "text": [
      "\u001b[32m[I 2023-01-30 16:20:48,299]\u001b[0m Trial 12 finished with value: 41.049013303559306 and parameters: {'n layers': 6, 'Hidden size': 113, 'Learning rate': 0.009416354756619187, 'Dropout rate': 0.7649716170945678, 'Epochs': 330}. Best is trial 3 with value: 38.34493461529125.\u001b[0m\n"
     ]
    },
    {
     "metadata": {
      "tags": null
     },
     "name": "stdout",
     "output_type": "stream",
     "text": [
      "lookback 3\n",
      "Epoch: 308/310 - train_loss: 0.3924 - test_loss: 0.315411\n",
      "Epoch: 309/310 - train_loss: 0.3914 - test_loss: 0.335958\n"
     ]
    },
    {
     "metadata": {
      "tags": null
     },
     "name": "stderr",
     "output_type": "stream",
     "text": [
      "\u001b[32m[I 2023-01-30 16:21:18,266]\u001b[0m Trial 13 finished with value: 36.361485467944945 and parameters: {'n layers': 5, 'Hidden size': 51, 'Learning rate': 0.009877671292278732, 'Dropout rate': 0.7711774674110521, 'Epochs': 310}. Best is trial 13 with value: 36.361485467944945.\u001b[0m\n"
     ]
    },
    {
     "metadata": {
      "tags": null
     },
     "name": "stdout",
     "output_type": "stream",
     "text": [
      "lookback 3\n",
      "Epoch:  0/330 - train_loss: 0.9146 - test_loss: 0.627380\n",
      "Epoch:  0/330 - train_loss: 1.0110 - test_loss: 0.727373\n",
      "Epoch: 82/330 - train_loss: 0.3920 - test_loss: 0.341128\n",
      "Epoch: 82/330 - train_loss: 0.3913 - test_loss: 0.362541\n",
      "Epoch: 164/330 - train_loss: 0.3893 - test_loss: 0.309969\n",
      "Epoch: 246/330 - train_loss: 0.3896 - test_loss: 0.331591\n",
      "Epoch: 164/330 - train_loss: 0.3948 - test_loss: 0.340584\n",
      "Epoch: 328/330 - train_loss: 0.3917 - test_loss: 0.333452\n",
      "Epoch: 329/330 - train_loss: 0.3920 - test_loss: 0.338130\n"
     ]
    },
    {
     "metadata": {
      "tags": null
     },
     "name": "stderr",
     "output_type": "stream",
     "text": [
      "\u001b[32m[I 2023-01-30 16:22:53,931]\u001b[0m Trial 14 finished with value: 30.956372698322248 and parameters: {'n layers': 6, 'Hidden size': 157, 'Learning rate': 0.008909028738466353, 'Dropout rate': 0.5250912553131117, 'Epochs': 350}. Best is trial 14 with value: 30.956372698322248.\u001b[0m\n"
     ]
    },
    {
     "metadata": {
      "tags": null
     },
     "name": "stdout",
     "output_type": "stream",
     "text": [
      "lookback 3\n",
      "Epoch: 246/330 - train_loss: 0.3929 - test_loss: 0.334067\n",
      "Epoch:  0/490 - train_loss: 1.0352 - test_loss: 0.697987\n",
      "Epoch: 328/330 - train_loss: 0.3935 - test_loss: 0.313182\n",
      "Epoch: 329/330 - train_loss: 0.3930 - test_loss: 0.342830\n"
     ]
    },
    {
     "metadata": {
      "tags": null
     },
     "name": "stderr",
     "output_type": "stream",
     "text": [
      "\u001b[32m[I 2023-01-30 16:23:29,450]\u001b[0m Trial 15 finished with value: 46.54292178837505 and parameters: {'n layers': 5, 'Hidden size': 183, 'Learning rate': 0.004591531615395585, 'Dropout rate': 0.5542332799181833, 'Epochs': 330}. Best is trial 14 with value: 30.956372698322248.\u001b[0m\n"
     ]
    },
    {
     "metadata": {
      "tags": null
     },
     "name": "stdout",
     "output_type": "stream",
     "text": [
      "lookback 3\n",
      "Epoch:  0/500 - train_loss: 0.9700 - test_loss: 0.697094\n",
      "Epoch: 122/490 - train_loss: 0.3948 - test_loss: 0.343523\n",
      "Epoch: 125/500 - train_loss: 0.3941 - test_loss: 0.328934\n",
      "Epoch: 244/490 - train_loss: 0.3926 - test_loss: 0.337255\n",
      "Epoch: 250/500 - train_loss: 0.3969 - test_loss: 0.330258\n",
      "Epoch: 366/490 - train_loss: 0.3925 - test_loss: 0.330460\n",
      "Epoch: 488/490 - train_loss: 0.3958 - test_loss: 0.344189\n",
      "Epoch: 489/490 - train_loss: 0.3928 - test_loss: 0.340777\n"
     ]
    },
    {
     "metadata": {
      "tags": null
     },
     "name": "stderr",
     "output_type": "stream",
     "text": [
      "\u001b[32m[I 2023-01-30 16:25:36,957]\u001b[0m Trial 16 finished with value: 45.96784613790965 and parameters: {'n layers': 5, 'Hidden size': 223, 'Learning rate': 0.0036800772336774163, 'Dropout rate': 0.6139782855828011, 'Epochs': 490}. Best is trial 14 with value: 30.956372698322248.\u001b[0m\n"
     ]
    },
    {
     "metadata": {
      "tags": null
     },
     "name": "stdout",
     "output_type": "stream",
     "text": [
      "lookback 3\n",
      "Epoch: 375/500 - train_loss: 0.3958 - test_loss: 0.322354\n",
      "Epoch:  0/160 - train_loss: 1.3218 - test_loss: 0.856654\n",
      "Epoch: 40/160 - train_loss: 0.3974 - test_loss: 0.368922\n",
      "Epoch: 499/500 - train_loss: 0.3911 - test_loss: 0.316805\n"
     ]
    },
    {
     "metadata": {
      "tags": null
     },
     "name": "stderr",
     "output_type": "stream",
     "text": [
      "\u001b[32m[I 2023-01-30 16:26:21,880]\u001b[0m Trial 17 finished with value: 45.750092486984805 and parameters: {'n layers': 5, 'Hidden size': 55, 'Learning rate': 0.003165902406131108, 'Dropout rate': 0.6551385731658648, 'Epochs': 500}. Best is trial 14 with value: 30.956372698322248.\u001b[0m\n"
     ]
    },
    {
     "metadata": {
      "tags": null
     },
     "name": "stdout",
     "output_type": "stream",
     "text": [
      "lookback 3\n",
      "Epoch: 80/160 - train_loss: 0.3950 - test_loss: 0.340911\n",
      "Epoch: 120/160 - train_loss: 0.3934 - test_loss: 0.366533\n",
      "Epoch:  0/160 - train_loss: 1.2160 - test_loss: 0.720453\n",
      "Epoch: 159/160 - train_loss: 0.3917 - test_loss: 0.336673\n"
     ]
    },
    {
     "metadata": {
      "tags": null
     },
     "name": "stderr",
     "output_type": "stream",
     "text": [
      "\u001b[32m[I 2023-01-30 16:27:01,918]\u001b[0m Trial 18 finished with value: 47.607089568360344 and parameters: {'n layers': 6, 'Hidden size': 60, 'Learning rate': 0.0025909829492224536, 'Dropout rate': 0.7859806282291018, 'Epochs': 160}. Best is trial 14 with value: 30.956372698322248.\u001b[0m\n"
     ]
    },
    {
     "metadata": {
      "tags": null
     },
     "name": "stdout",
     "output_type": "stream",
     "text": [
      "lookback 3\n",
      "Epoch: 40/160 - train_loss: 0.4000 - test_loss: 0.322973\n",
      "Epoch: 80/160 - train_loss: 0.3968 - test_loss: 0.335644\n",
      "Epoch:  0/310 - train_loss: 0.9475 - test_loss: 0.752989\n",
      "Epoch: 120/160 - train_loss: 0.3941 - test_loss: 0.339158\n",
      "Epoch: 159/160 - train_loss: 0.3994 - test_loss: 0.383016\n"
     ]
    },
    {
     "metadata": {
      "tags": null
     },
     "name": "stderr",
     "output_type": "stream",
     "text": [
      "\u001b[32m[I 2023-01-30 16:27:46,716]\u001b[0m Trial 19 finished with value: 37.98452083233446 and parameters: {'n layers': 6, 'Hidden size': 153, 'Learning rate': 0.0061948371198939905, 'Dropout rate': 0.7899445964867587, 'Epochs': 160}. Best is trial 14 with value: 30.956372698322248.\u001b[0m\n"
     ]
    },
    {
     "metadata": {
      "tags": null
     },
     "name": "stdout",
     "output_type": "stream",
     "text": [
      "lookback 3\n",
      "Epoch: 77/310 - train_loss: 0.3970 - test_loss: 0.346924\n",
      "Epoch:  0/300 - train_loss: 0.9185 - test_loss: 0.672104\n",
      "Epoch: 154/310 - train_loss: 0.3966 - test_loss: 0.343204\n",
      "Epoch: 75/300 - train_loss: 0.3957 - test_loss: 0.338096\n",
      "Epoch: 231/310 - train_loss: 0.3920 - test_loss: 0.327784\n",
      "Epoch: 150/300 - train_loss: 0.3935 - test_loss: 0.348956\n",
      "Epoch: 308/310 - train_loss: 0.3925 - test_loss: 0.325881\n",
      "Epoch: 309/310 - train_loss: 0.3920 - test_loss: 0.361055\n"
     ]
    },
    {
     "metadata": {
      "tags": null
     },
     "name": "stderr",
     "output_type": "stream",
     "text": [
      "\u001b[32m[I 2023-01-30 16:29:01,296]\u001b[0m Trial 20 finished with value: 41.79983938483466 and parameters: {'n layers': 4, 'Hidden size': 151, 'Learning rate': 0.007089993259236631, 'Dropout rate': 0.46559335474269986, 'Epochs': 310}. Best is trial 14 with value: 30.956372698322248.\u001b[0m\n"
     ]
    },
    {
     "metadata": {
      "tags": null
     },
     "name": "stdout",
     "output_type": "stream",
     "text": [
      "lookback 3\n",
      "Epoch: 225/300 - train_loss: 0.3909 - test_loss: 0.356477\n",
      "Epoch:  0/190 - train_loss: 1.0910 - test_loss: 0.668900\n",
      "Epoch: 47/190 - train_loss: 0.3957 - test_loss: 0.363802\n",
      "Epoch: 299/300 - train_loss: 0.3986 - test_loss: 0.353542\n"
     ]
    },
    {
     "metadata": {
      "tags": null
     },
     "name": "stderr",
     "output_type": "stream",
     "text": [
      "\u001b[32m[I 2023-01-30 16:29:47,257]\u001b[0m Trial 21 finished with value: 46.21925835428067 and parameters: {'n layers': 4, 'Hidden size': 292, 'Learning rate': 0.00636726928978318, 'Dropout rate': 0.4550823748187398, 'Epochs': 300}. Best is trial 14 with value: 30.956372698322248.\u001b[0m\n"
     ]
    },
    {
     "metadata": {
      "tags": null
     },
     "name": "stdout",
     "output_type": "stream",
     "text": [
      "lookback 3\n",
      "Epoch: 94/190 - train_loss: 0.3942 - test_loss: 0.357094\n",
      "Epoch:  0/160 - train_loss: 1.3151 - test_loss: 0.727241\n",
      "Epoch: 141/190 - train_loss: 0.3951 - test_loss: 0.324988\n",
      "Epoch: 40/160 - train_loss: 0.4022 - test_loss: 0.344642\n",
      "Epoch: 188/190 - train_loss: 0.3944 - test_loss: 0.350569\n",
      "Epoch: 189/190 - train_loss: 0.3912 - test_loss: 0.329736\n"
     ]
    },
    {
     "metadata": {
      "tags": null
     },
     "name": "stderr",
     "output_type": "stream",
     "text": [
      "\u001b[32m[I 2023-01-30 16:30:32,631]\u001b[0m Trial 22 finished with value: 41.48599686354376 and parameters: {'n layers': 6, 'Hidden size': 255, 'Learning rate': 0.005617939323873367, 'Dropout rate': 0.6933053465063692, 'Epochs': 190}. Best is trial 14 with value: 30.956372698322248.\u001b[0m\n"
     ]
    },
    {
     "metadata": {
      "tags": null
     },
     "name": "stdout",
     "output_type": "stream",
     "text": [
      "lookback 3\n",
      "Epoch: 80/160 - train_loss: 0.3924 - test_loss: 0.381045\n",
      "Epoch: 120/160 - train_loss: 0.3918 - test_loss: 0.329356\n",
      "Epoch:  0/360 - train_loss: 0.9628 - test_loss: 0.691491\n",
      "Epoch: 159/160 - train_loss: 0.3915 - test_loss: 0.322232\n"
     ]
    },
    {
     "metadata": {
      "tags": null
     },
     "name": "stderr",
     "output_type": "stream",
     "text": [
      "\u001b[32m[I 2023-01-30 16:31:12,301]\u001b[0m Trial 23 finished with value: 43.58907198466706 and parameters: {'n layers': 6, 'Hidden size': 142, 'Learning rate': 0.005726603730506392, 'Dropout rate': 0.7047628759056861, 'Epochs': 160}. Best is trial 14 with value: 30.956372698322248.\u001b[0m\n"
     ]
    },
    {
     "metadata": {
      "tags": null
     },
     "name": "stdout",
     "output_type": "stream",
     "text": [
      "lookback 3\n",
      "Epoch: 90/360 - train_loss: 0.3953 - test_loss: 0.299249\n",
      "Epoch:  0/270 - train_loss: 1.5703 - test_loss: 0.935275\n",
      "Epoch: 180/360 - train_loss: 0.3957 - test_loss: 0.327118\n",
      "Epoch: 67/270 - train_loss: 0.3940 - test_loss: 0.326173\n",
      "Epoch: 134/270 - train_loss: 0.3938 - test_loss: 0.341376\n",
      "Epoch: 270/360 - train_loss: 0.3937 - test_loss: 0.321292\n",
      "Epoch: 201/270 - train_loss: 0.3934 - test_loss: 0.363559\n",
      "Epoch: 359/360 - train_loss: 0.3910 - test_loss: 0.327363\n"
     ]
    },
    {
     "metadata": {
      "tags": null
     },
     "name": "stderr",
     "output_type": "stream",
     "text": [
      "\u001b[32m[I 2023-01-30 16:32:42,950]\u001b[0m Trial 24 finished with value: 46.401971241471024 and parameters: {'n layers': 6, 'Hidden size': 155, 'Learning rate': 0.0065524231713568895, 'Dropout rate': 0.7969504907708342, 'Epochs': 360}. Best is trial 14 with value: 30.956372698322248.\u001b[0m\n"
     ]
    },
    {
     "metadata": {
      "tags": null
     },
     "name": "stdout",
     "output_type": "stream",
     "text": [
      "lookback 3\n",
      "Epoch: 268/270 - train_loss: 0.3960 - test_loss: 0.347737\n",
      "Epoch: 269/270 - train_loss: 0.3974 - test_loss: 0.316155\n"
     ]
    },
    {
     "metadata": {
      "tags": null
     },
     "name": "stderr",
     "output_type": "stream",
     "text": [
      "\u001b[32m[I 2023-01-30 16:32:56,704]\u001b[0m Trial 25 finished with value: 46.41761830096541 and parameters: {'n layers': 5, 'Hidden size': 178, 'Learning rate': 0.006897589896573614, 'Dropout rate': 0.7800063463487583, 'Epochs': 270}. Best is trial 14 with value: 30.956372698322248.\u001b[0m\n"
     ]
    },
    {
     "metadata": {
      "tags": null
     },
     "name": "stdout",
     "output_type": "stream",
     "text": [
      "lookback 3\n",
      "Epoch:  0/450 - train_loss: 1.0764 - test_loss: 0.661875\n",
      "Epoch:  0/450 - train_loss: 0.8977 - test_loss: 0.695738\n",
      "Epoch: 112/450 - train_loss: 0.3928 - test_loss: 0.320776\n",
      "Epoch: 112/450 - train_loss: 0.3943 - test_loss: 0.339742\n",
      "Epoch: 224/450 - train_loss: 0.3934 - test_loss: 0.313263\n",
      "Epoch: 224/450 - train_loss: 0.3937 - test_loss: 0.353723\n",
      "Epoch: 336/450 - train_loss: 0.3922 - test_loss: 0.342111\n",
      "Epoch: 336/450 - train_loss: 0.3909 - test_loss: 0.331853\n",
      "Epoch: 448/450 - train_loss: 0.3916 - test_loss: 0.332810\n",
      "Epoch: 449/450 - train_loss: 0.3933 - test_loss: 0.343589\n"
     ]
    },
    {
     "metadata": {
      "tags": null
     },
     "name": "stderr",
     "output_type": "stream",
     "text": [
      "\u001b[32m[I 2023-01-30 16:35:16,184]\u001b[0m Trial 26 finished with value: 48.55762975567111 and parameters: {'n layers': 5, 'Hidden size': 206, 'Learning rate': 0.009674370679344284, 'Dropout rate': 0.6688877508419511, 'Epochs': 260}. Best is trial 14 with value: 30.956372698322248.\u001b[0m\n"
     ]
    },
    {
     "metadata": {
      "tags": null
     },
     "name": "stdout",
     "output_type": "stream",
     "text": [
      "lookback 3\n",
      "Epoch: 448/450 - train_loss: 0.3943 - test_loss: 0.312580\n",
      "Epoch: 449/450 - train_loss: 0.3928 - test_loss: 0.330535\n"
     ]
    },
    {
     "metadata": {
      "tags": null
     },
     "name": "stderr",
     "output_type": "stream",
     "text": [
      "\u001b[32m[I 2023-01-30 16:35:37,343]\u001b[0m Trial 27 finished with value: 39.85690529292626 and parameters: {'n layers': 5, 'Hidden size': 380, 'Learning rate': 0.009776210027463856, 'Dropout rate': 0.6832627617697195, 'Epochs': 450}. Best is trial 14 with value: 30.956372698322248.\u001b[0m\n"
     ]
    },
    {
     "metadata": {
      "tags": null
     },
     "name": "stdout",
     "output_type": "stream",
     "text": [
      "lookback 3\n",
      "Epoch:  0/370 - train_loss: 0.9516 - test_loss: 0.730840\n",
      "Epoch:  0/370 - train_loss: 1.5011 - test_loss: 0.988628\n",
      "Epoch: 92/370 - train_loss: 0.3997 - test_loss: 0.322653\n",
      "Epoch: 92/370 - train_loss: 0.4000 - test_loss: 0.304843\n",
      "Epoch: 184/370 - train_loss: 0.3937 - test_loss: 0.338166\n",
      "Epoch: 184/370 - train_loss: 0.3919 - test_loss: 0.363039\n",
      "Epoch: 276/370 - train_loss: 0.3939 - test_loss: 0.362398\n",
      "Epoch: 276/370 - train_loss: 0.3943 - test_loss: 0.342685\n",
      "Epoch: 368/370 - train_loss: 0.3943 - test_loss: 0.349206\n",
      "Epoch: 369/370 - train_loss: 0.3969 - test_loss: 0.349539\n"
     ]
    },
    {
     "metadata": {
      "tags": null
     },
     "name": "stderr",
     "output_type": "stream",
     "text": [
      "\u001b[32m[I 2023-01-30 16:37:28,649]\u001b[0m Trial 28 finished with value: 42.3488263222028 and parameters: {'n layers': 6, 'Hidden size': 69, 'Learning rate': 0.0041435309306494476, 'Dropout rate': 0.5808219661874174, 'Epochs': 430}. Best is trial 14 with value: 30.956372698322248.\u001b[0m\n"
     ]
    },
    {
     "metadata": {
      "tags": null
     },
     "name": "stdout",
     "output_type": "stream",
     "text": [
      "lookback 3\n",
      "Epoch: 368/370 - train_loss: 0.3956 - test_loss: 0.309543\n",
      "Epoch: 369/370 - train_loss: 0.3910 - test_loss: 0.361401\n"
     ]
    },
    {
     "metadata": {
      "tags": null
     },
     "name": "stderr",
     "output_type": "stream",
     "text": [
      "\u001b[32m[I 2023-01-30 16:37:58,611]\u001b[0m Trial 29 finished with value: 46.85912814381595 and parameters: {'n layers': 6, 'Hidden size': 124, 'Learning rate': 0.003758107202331028, 'Dropout rate': 0.5938656520941193, 'Epochs': 370}. Best is trial 14 with value: 30.956372698322248.\u001b[0m\n"
     ]
    },
    {
     "metadata": {
      "tags": null
     },
     "name": "stdout",
     "output_type": "stream",
     "text": [
      "lookback 3\n",
      "Epoch:  0/330 - train_loss: 1.5371 - test_loss: 0.833316\n",
      "Epoch:  0/330 - train_loss: 1.2963 - test_loss: 0.862938\n",
      "Epoch: 82/330 - train_loss: 0.3935 - test_loss: 0.336047\n",
      "Epoch: 164/330 - train_loss: 0.3934 - test_loss: 0.322051\n",
      "Epoch: 82/330 - train_loss: 0.3925 - test_loss: 0.349958\n",
      "Epoch: 246/330 - train_loss: 0.3908 - test_loss: 0.355390\n",
      "Epoch: 164/330 - train_loss: 0.3924 - test_loss: 0.353934\n",
      "Epoch: 328/330 - train_loss: 0.3929 - test_loss: 0.347874\n",
      "Epoch: 329/330 - train_loss: 0.3916 - test_loss: 0.353276\n"
     ]
    },
    {
     "metadata": {
      "tags": null
     },
     "name": "stderr",
     "output_type": "stream",
     "text": [
      "\u001b[32m[I 2023-01-30 16:39:30,282]\u001b[0m Trial 30 finished with value: 45.79659349193269 and parameters: {'n layers': 6, 'Hidden size': 122, 'Learning rate': 0.0023259088464861913, 'Dropout rate': 0.5080069019207555, 'Epochs': 340}. Best is trial 14 with value: 30.956372698322248.\u001b[0m\n"
     ]
    },
    {
     "metadata": {
      "tags": null
     },
     "name": "stdout",
     "output_type": "stream",
     "text": [
      "lookback 3\n",
      "Epoch: 246/330 - train_loss: 0.3919 - test_loss: 0.339639\n",
      "Epoch:  0/360 - train_loss: 1.0551 - test_loss: 0.642582\n",
      "Epoch: 328/330 - train_loss: 0.3934 - test_loss: 0.320622\n",
      "Epoch: 329/330 - train_loss: 0.3933 - test_loss: 0.321750\n"
     ]
    },
    {
     "metadata": {
      "tags": null
     },
     "name": "stderr",
     "output_type": "stream",
     "text": [
      "\u001b[32m[I 2023-01-30 16:40:05,182]\u001b[0m Trial 31 finished with value: 46.728793705101594 and parameters: {'n layers': 3, 'Hidden size': 41, 'Learning rate': 0.002450666202488259, 'Dropout rate': 0.5215061114289221, 'Epochs': 330}. Best is trial 14 with value: 30.956372698322248.\u001b[0m\n"
     ]
    },
    {
     "metadata": {
      "tags": null
     },
     "name": "stdout",
     "output_type": "stream",
     "text": [
      "lookback 3\n",
      "Epoch: 90/360 - train_loss: 0.3950 - test_loss: 0.345098\n",
      "Epoch:  0/290 - train_loss: 1.1088 - test_loss: 0.817082\n",
      "Epoch: 72/290 - train_loss: 0.3948 - test_loss: 0.340082\n",
      "Epoch: 180/360 - train_loss: 0.3934 - test_loss: 0.331628\n",
      "Epoch: 144/290 - train_loss: 0.3948 - test_loss: 0.312034\n",
      "Epoch: 270/360 - train_loss: 0.3923 - test_loss: 0.308783\n",
      "Epoch: 216/290 - train_loss: 0.3929 - test_loss: 0.331445\n",
      "Epoch: 359/360 - train_loss: 0.3935 - test_loss: 0.330661\n"
     ]
    },
    {
     "metadata": {
      "tags": null
     },
     "name": "stderr",
     "output_type": "stream",
     "text": [
      "\u001b[32m[I 2023-01-30 16:41:38,619]\u001b[0m Trial 32 finished with value: 47.25117838309292 and parameters: {'n layers': 6, 'Hidden size': 89, 'Learning rate': 0.0076107191060406755, 'Dropout rate': 0.7253136481565671, 'Epochs': 360}. Best is trial 14 with value: 30.956372698322248.\u001b[0m\n"
     ]
    },
    {
     "metadata": {
      "tags": null
     },
     "name": "stdout",
     "output_type": "stream",
     "text": [
      "lookback 3\n",
      "Epoch: 288/290 - train_loss: 0.3927 - test_loss: 0.344411\n",
      "Epoch: 289/290 - train_loss: 0.3919 - test_loss: 0.332092\n"
     ]
    },
    {
     "metadata": {
      "tags": null
     },
     "name": "stderr",
     "output_type": "stream",
     "text": [
      "\u001b[32m[I 2023-01-30 16:41:54,151]\u001b[0m Trial 33 finished with value: 49.346174853890474 and parameters: {'n layers': 6, 'Hidden size': 77, 'Learning rate': 0.008063917477749365, 'Dropout rate': 0.36529876414724644, 'Epochs': 290}. Best is trial 14 with value: 30.956372698322248.\u001b[0m\n"
     ]
    },
    {
     "metadata": {
      "tags": null
     },
     "name": "stdout",
     "output_type": "stream",
     "text": [
      "lookback 3\n",
      "Epoch:  0/380 - train_loss: 1.0074 - test_loss: 0.719839\n",
      "Epoch:  0/380 - train_loss: 1.1687 - test_loss: 0.954821\n",
      "Epoch: 95/380 - train_loss: 0.3929 - test_loss: 0.336629\n",
      "Epoch: 95/380 - train_loss: 0.3977 - test_loss: 0.336195\n",
      "Epoch: 190/380 - train_loss: 0.3939 - test_loss: 0.337943\n",
      "Epoch: 190/380 - train_loss: 0.3909 - test_loss: 0.345021\n",
      "Epoch: 285/380 - train_loss: 0.3904 - test_loss: 0.329360\n",
      "Epoch: 285/380 - train_loss: 0.3944 - test_loss: 0.349646\n",
      "Epoch: 379/380 - train_loss: 0.3968 - test_loss: 0.344884\n"
     ]
    },
    {
     "metadata": {
      "tags": null
     },
     "name": "stderr",
     "output_type": "stream",
     "text": [
      "\u001b[32m[I 2023-01-30 16:43:54,146]\u001b[0m Trial 34 finished with value: 44.17859086128925 and parameters: {'n layers': 6, 'Hidden size': 79, 'Learning rate': 0.004849968494828973, 'Dropout rate': 0.6413817989826489, 'Epochs': 280}. Best is trial 14 with value: 30.956372698322248.\u001b[0m\n"
     ]
    },
    {
     "metadata": {
      "tags": null
     },
     "name": "stdout",
     "output_type": "stream",
     "text": [
      "lookback 3\n",
      "Epoch: 379/380 - train_loss: 0.3927 - test_loss: 0.330859\n"
     ]
    },
    {
     "metadata": {
      "tags": null
     },
     "name": "stderr",
     "output_type": "stream",
     "text": [
      "\u001b[32m[I 2023-01-30 16:44:16,123]\u001b[0m Trial 35 finished with value: 45.92326550054981 and parameters: {'n layers': 5, 'Hidden size': 49, 'Learning rate': 0.0047560564582586635, 'Dropout rate': 0.6354325689861444, 'Epochs': 380}. Best is trial 14 with value: 30.956372698322248.\u001b[0m\n"
     ]
    },
    {
     "metadata": {
      "tags": null
     },
     "name": "stdout",
     "output_type": "stream",
     "text": [
      "lookback 3\n",
      "Epoch:  0/420 - train_loss: 1.5650 - test_loss: 0.808224\n",
      "Epoch:  0/420 - train_loss: 0.8709 - test_loss: 0.663685\n",
      "Epoch: 105/420 - train_loss: 0.3892 - test_loss: 0.386573\n",
      "Epoch: 105/420 - train_loss: 0.3950 - test_loss: 0.361755\n",
      "Epoch: 210/420 - train_loss: 0.3917 - test_loss: 0.338429\n",
      "Epoch: 210/420 - train_loss: 0.3916 - test_loss: 0.339535\n",
      "Epoch: 315/420 - train_loss: 0.3982 - test_loss: 0.359512\n",
      "Epoch: 315/420 - train_loss: 0.3916 - test_loss: 0.329685\n",
      "Epoch: 419/420 - train_loss: 0.3923 - test_loss: 0.338191\n"
     ]
    },
    {
     "metadata": {
      "tags": null
     },
     "name": "stderr",
     "output_type": "stream",
     "text": [
      "\u001b[32m[I 2023-01-30 16:46:17,863]\u001b[0m Trial 36 finished with value: 41.0132066427204 and parameters: {'n layers': 5, 'Hidden size': 108, 'Learning rate': 0.00529070457782091, 'Dropout rate': 0.20833822345190892, 'Epochs': 380}. Best is trial 14 with value: 30.956372698322248.\u001b[0m\n"
     ]
    },
    {
     "metadata": {
      "tags": null
     },
     "name": "stdout",
     "output_type": "stream",
     "text": [
      "lookback 3\n",
      "Epoch: 419/420 - train_loss: 0.3899 - test_loss: 0.325413\n"
     ]
    },
    {
     "metadata": {
      "tags": null
     },
     "name": "stderr",
     "output_type": "stream",
     "text": [
      "\u001b[32m[I 2023-01-30 16:46:49,534]\u001b[0m Trial 37 finished with value: 38.36434647998548 and parameters: {'n layers': 5, 'Hidden size': 36, 'Learning rate': 0.007743164904375463, 'Dropout rate': 0.7325930906854448, 'Epochs': 420}. Best is trial 14 with value: 30.956372698322248.\u001b[0m\n"
     ]
    },
    {
     "metadata": {
      "tags": null
     },
     "name": "stdout",
     "output_type": "stream",
     "text": [
      "lookback 3\n",
      "Epoch:  0/420 - train_loss: 1.1587 - test_loss: 0.712390\n",
      "Epoch:  0/230 - train_loss: 0.9326 - test_loss: 0.702707\n",
      "Epoch: 105/420 - train_loss: 0.3909 - test_loss: 0.398727\n",
      "Epoch: 57/230 - train_loss: 0.4003 - test_loss: 0.319760\n",
      "Epoch: 114/230 - train_loss: 0.3968 - test_loss: 0.369842\n",
      "Epoch: 210/420 - train_loss: 0.3950 - test_loss: 0.342294\n",
      "Epoch: 171/230 - train_loss: 0.3912 - test_loss: 0.353354\n",
      "Epoch: 315/420 - train_loss: 0.3907 - test_loss: 0.338907\n",
      "Epoch: 228/230 - train_loss: 0.3937 - test_loss: 0.318144\n",
      "Epoch: 229/230 - train_loss: 0.3937 - test_loss: 0.324138\n"
     ]
    },
    {
     "metadata": {
      "tags": null
     },
     "name": "stderr",
     "output_type": "stream",
     "text": [
      "\u001b[32m[I 2023-01-30 16:48:18,161]\u001b[0m Trial 39 finished with value: 42.349241749001585 and parameters: {'n layers': 6, 'Hidden size': 46, 'Learning rate': 0.005835093200999337, 'Dropout rate': 0.7381189205033833, 'Epochs': 230}. Best is trial 14 with value: 30.956372698322248.\u001b[0m\n"
     ]
    },
    {
     "metadata": {
      "tags": null
     },
     "name": "stdout",
     "output_type": "stream",
     "text": [
      "lookback 3\n",
      "Epoch:  0/310 - train_loss: 1.1978 - test_loss: 0.887674\n",
      "Epoch: 419/420 - train_loss: 0.3924 - test_loss: 0.322454\n"
     ]
    },
    {
     "metadata": {
      "tags": null
     },
     "name": "stderr",
     "output_type": "stream",
     "text": [
      "\u001b[32m[I 2023-01-30 16:48:53,133]\u001b[0m Trial 38 finished with value: 44.490599520563116 and parameters: {'n layers': 6, 'Hidden size': 35, 'Learning rate': 0.007612971367630321, 'Dropout rate': 0.7169275075848379, 'Epochs': 420}. Best is trial 14 with value: 30.956372698322248.\u001b[0m\n"
     ]
    },
    {
     "metadata": {
      "tags": null
     },
     "name": "stdout",
     "output_type": "stream",
     "text": [
      "lookback 3\n",
      "Epoch: 77/310 - train_loss: 0.3967 - test_loss: 0.327726\n",
      "Epoch:  0/310 - train_loss: 1.2854 - test_loss: 1.038353\n",
      "Epoch: 154/310 - train_loss: 0.3970 - test_loss: 0.365564\n",
      "Epoch: 77/310 - train_loss: 0.3945 - test_loss: 0.317708\n",
      "Epoch: 231/310 - train_loss: 0.3922 - test_loss: 0.349913\n",
      "Epoch: 154/310 - train_loss: 0.3911 - test_loss: 0.337034\n",
      "Epoch: 231/310 - train_loss: 0.3946 - test_loss: 0.312429\n",
      "Epoch: 308/310 - train_loss: 0.3913 - test_loss: 0.329370\n",
      "Epoch: 309/310 - train_loss: 0.3925 - test_loss: 0.331270\n"
     ]
    },
    {
     "metadata": {
      "tags": null
     },
     "name": "stderr",
     "output_type": "stream",
     "text": [
      "\u001b[32m[I 2023-01-30 16:50:18,713]\u001b[0m Trial 40 finished with value: 36.739270243792724 and parameters: {'n layers': 6, 'Hidden size': 92, 'Learning rate': 0.007903160342678229, 'Dropout rate': 0.41299936436348217, 'Epochs': 310}. Best is trial 14 with value: 30.956372698322248.\u001b[0m\n"
     ]
    },
    {
     "metadata": {
      "tags": null
     },
     "name": "stdout",
     "output_type": "stream",
     "text": [
      "lookback 3\n",
      "Epoch: 308/310 - train_loss: 0.3916 - test_loss: 0.327557\n",
      "Epoch: 309/310 - train_loss: 0.3916 - test_loss: 0.333480\n"
     ]
    },
    {
     "metadata": {
      "tags": null
     },
     "name": "stderr",
     "output_type": "stream",
     "text": [
      "\u001b[32m[I 2023-01-30 16:50:46,730]\u001b[0m Trial 41 finished with value: 46.99555218804933 and parameters: {'n layers': 5, 'Hidden size': 97, 'Learning rate': 0.004321533254150929, 'Dropout rate': 0.40974978216256797, 'Epochs': 310}. Best is trial 14 with value: 30.956372698322248.\u001b[0m\n"
     ]
    },
    {
     "metadata": {
      "tags": null
     },
     "name": "stdout",
     "output_type": "stream",
     "text": [
      "lookback 3\n",
      "Epoch:  0/310 - train_loss: 1.3210 - test_loss: 0.835706\n",
      "Epoch:  0/310 - train_loss: 1.0876 - test_loss: 0.755742\n",
      "Epoch: 77/310 - train_loss: 0.3912 - test_loss: 0.361071\n",
      "Epoch: 77/310 - train_loss: 0.4077 - test_loss: 0.315950\n",
      "Epoch: 154/310 - train_loss: 0.3923 - test_loss: 0.339571\n",
      "Epoch: 154/310 - train_loss: 0.3919 - test_loss: 0.360405\n",
      "Epoch: 231/310 - train_loss: 0.3922 - test_loss: 0.337150\n",
      "Epoch: 231/310 - train_loss: 0.3984 - test_loss: 0.323607\n",
      "Epoch: 308/310 - train_loss: 0.3916 - test_loss: 0.338229\n",
      "Epoch: 309/310 - train_loss: 0.3926 - test_loss: 0.320373\n"
     ]
    },
    {
     "metadata": {
      "tags": null
     },
     "name": "stderr",
     "output_type": "stream",
     "text": [
      "\u001b[32m[I 2023-01-30 16:52:18,747]\u001b[0m Trial 42 finished with value: 37.0488905036142 and parameters: {'n layers': 6, 'Hidden size': 108, 'Learning rate': 0.008334420452458633, 'Dropout rate': 0.4112415210254149, 'Epochs': 310}. Best is trial 14 with value: 30.956372698322248.\u001b[0m\n"
     ]
    },
    {
     "metadata": {
      "tags": null
     },
     "name": "stdout",
     "output_type": "stream",
     "text": [
      "lookback 3\n",
      "Epoch: 308/310 - train_loss: 0.3927 - test_loss: 0.337314\n",
      "Epoch: 309/310 - train_loss: 0.3939 - test_loss: 0.351120\n"
     ]
    },
    {
     "metadata": {
      "tags": null
     },
     "name": "stderr",
     "output_type": "stream",
     "text": [
      "\u001b[32m[I 2023-01-30 16:52:39,621]\u001b[0m Trial 43 finished with value: 40.26447836569765 and parameters: {'n layers': 6, 'Hidden size': 86, 'Learning rate': 0.008903424736361784, 'Dropout rate': 0.3539867694193851, 'Epochs': 310}. Best is trial 14 with value: 30.956372698322248.\u001b[0m\n"
     ]
    },
    {
     "metadata": {
      "tags": null
     },
     "name": "stdout",
     "output_type": "stream",
     "text": [
      "lookback 3\n",
      "Epoch:  0/350 - train_loss: 0.9996 - test_loss: 0.672658\n",
      "Epoch:  0/350 - train_loss: 1.0917 - test_loss: 0.739329\n",
      "Epoch: 87/350 - train_loss: 0.3949 - test_loss: 0.359930\n",
      "Epoch: 87/350 - train_loss: 0.3949 - test_loss: 0.371077\n",
      "Epoch: 174/350 - train_loss: 0.3929 - test_loss: 0.351078\n",
      "Epoch: 174/350 - train_loss: 0.3947 - test_loss: 0.333021\n",
      "Epoch: 261/350 - train_loss: 0.3934 - test_loss: 0.323877\n",
      "Epoch: 261/350 - train_loss: 0.3952 - test_loss: 0.367160\n",
      "Epoch: 348/350 - train_loss: 0.3929 - test_loss: 0.324364\n",
      "Epoch: 349/350 - train_loss: 0.3897 - test_loss: 0.332457\n"
     ]
    },
    {
     "metadata": {
      "tags": null
     },
     "name": "stderr",
     "output_type": "stream",
     "text": [
      "\u001b[32m[I 2023-01-30 16:54:31,491]\u001b[0m Trial 44 finished with value: 31.609916929108213 and parameters: {'n layers': 6, 'Hidden size': 142, 'Learning rate': 0.00849217939949017, 'Dropout rate': 0.36927472727175165, 'Epochs': 200}. Best is trial 14 with value: 30.956372698322248.\u001b[0m\n"
     ]
    },
    {
     "metadata": {
      "tags": null
     },
     "name": "stdout",
     "output_type": "stream",
     "text": [
      "lookback 3\n",
      "Epoch: 348/350 - train_loss: 0.3946 - test_loss: 0.362688\n",
      "Epoch: 349/350 - train_loss: 0.3980 - test_loss: 0.330029\n"
     ]
    },
    {
     "metadata": {
      "tags": null
     },
     "name": "stderr",
     "output_type": "stream",
     "text": [
      "\u001b[32m[I 2023-01-30 16:54:43,016]\u001b[0m Trial 45 finished with value: 43.32681943630375 and parameters: {'n layers': 6, 'Hidden size': 129, 'Learning rate': 0.0062864033885901395, 'Dropout rate': 0.44944462885024694, 'Epochs': 350}. Best is trial 14 with value: 30.956372698322248.\u001b[0m\n"
     ]
    },
    {
     "metadata": {
      "tags": null
     },
     "name": "stdout",
     "output_type": "stream",
     "text": [
      "lookback 3\n",
      "Epoch:  0/200 - train_loss: 1.0487 - test_loss: 0.746829\n",
      "Epoch:  0/200 - train_loss: 1.2477 - test_loss: 0.744444\n",
      "Epoch: 50/200 - train_loss: 0.3974 - test_loss: 0.304731\n",
      "Epoch: 50/200 - train_loss: 0.4005 - test_loss: 0.330534\n",
      "Epoch: 100/200 - train_loss: 0.3928 - test_loss: 0.346285\n",
      "Epoch: 100/200 - train_loss: 0.3920 - test_loss: 0.327552\n",
      "Epoch: 150/200 - train_loss: 0.3934 - test_loss: 0.336155\n",
      "Epoch: 150/200 - train_loss: 0.4014 - test_loss: 0.324944\n",
      "Epoch: 199/200 - train_loss: 0.3926 - test_loss: 0.334242\n"
     ]
    },
    {
     "metadata": {
      "tags": null
     },
     "name": "stderr",
     "output_type": "stream",
     "text": [
      "\u001b[32m[I 2023-01-30 16:56:08,400]\u001b[0m Trial 46 finished with value: 40.0581506259041 and parameters: {'n layers': 6, 'Hidden size': 58, 'Learning rate': 0.008365309018261172, 'Dropout rate': 0.44405030411831325, 'Epochs': 240}. Best is trial 14 with value: 30.956372698322248.\u001b[0m\n"
     ]
    },
    {
     "metadata": {
      "tags": null
     },
     "name": "stdout",
     "output_type": "stream",
     "text": [
      "lookback 3\n",
      "Epoch: 199/200 - train_loss: 0.3926 - test_loss: 0.356098\n"
     ]
    },
    {
     "metadata": {
      "tags": null
     },
     "name": "stderr",
     "output_type": "stream",
     "text": [
      "\u001b[32m[I 2023-01-30 16:56:15,329]\u001b[0m Trial 47 finished with value: 40.86325803839987 and parameters: {'n layers': 6, 'Hidden size': 62, 'Learning rate': 0.008135609995070856, 'Dropout rate': 0.39029521415556767, 'Epochs': 200}. Best is trial 14 with value: 30.956372698322248.\u001b[0m\n"
     ]
    },
    {
     "metadata": {
      "tags": null
     },
     "name": "stdout",
     "output_type": "stream",
     "text": [
      "lookback 3\n",
      "Epoch:  0/280 - train_loss: 1.4475 - test_loss: 0.790378\n",
      "Epoch:  0/280 - train_loss: 1.0360 - test_loss: 0.701224\n",
      "Epoch: 70/280 - train_loss: 0.3999 - test_loss: 0.371326\n",
      "Epoch: 70/280 - train_loss: 0.4016 - test_loss: 0.380036\n",
      "Epoch: 140/280 - train_loss: 0.3976 - test_loss: 0.375831\n",
      "Epoch: 140/280 - train_loss: 0.3976 - test_loss: 0.356084\n",
      "Epoch: 210/280 - train_loss: 0.3917 - test_loss: 0.344824\n",
      "Epoch: 210/280 - train_loss: 0.3949 - test_loss: 0.331456\n",
      "Epoch: 279/280 - train_loss: 0.3932 - test_loss: 0.328479\n"
     ]
    },
    {
     "metadata": {
      "tags": null
     },
     "name": "stderr",
     "output_type": "stream",
     "text": [
      "\u001b[32m[I 2023-01-30 16:58:06,730]\u001b[0m Trial 49 finished with value: 39.290499292950976 and parameters: {'n layers': 4, 'Hidden size': 100, 'Learning rate': 0.009991785522073169, 'Dropout rate': 0.4979759912521051, 'Epochs': 280}. Best is trial 14 with value: 30.956372698322248.\u001b[0m\n"
     ]
    },
    {
     "metadata": {
      "tags": null
     },
     "name": "stdout",
     "output_type": "stream",
     "text": [
      "lookback 3\n",
      "Epoch: 279/280 - train_loss: 0.3940 - test_loss: 0.333105\n"
     ]
    },
    {
     "metadata": {
      "tags": null
     },
     "name": "stderr",
     "output_type": "stream",
     "text": [
      "\u001b[32m[I 2023-01-30 16:58:08,678]\u001b[0m Trial 48 finished with value: 43.259924010192634 and parameters: {'n layers': 6, 'Hidden size': 106, 'Learning rate': 0.00972030255844233, 'Dropout rate': 0.39169130326832907, 'Epochs': 190}. Best is trial 14 with value: 30.956372698322248.\u001b[0m\n"
     ]
    },
    {
     "metadata": {
      "tags": null
     },
     "name": "stdout",
     "output_type": "stream",
     "text": [
      "lookback 3\n",
      "Epoch:  0/400 - train_loss: 1.3123 - test_loss: 0.849932\n",
      "Epoch:  0/400 - train_loss: 1.3283 - test_loss: 0.783073\n",
      "Epoch: 100/400 - train_loss: 0.3940 - test_loss: 0.351078\n",
      "Epoch: 100/400 - train_loss: 0.3957 - test_loss: 0.322305\n",
      "Epoch: 200/400 - train_loss: 0.3957 - test_loss: 0.361592\n",
      "Epoch: 200/400 - train_loss: 0.3921 - test_loss: 0.332758\n",
      "Epoch: 300/400 - train_loss: 0.3921 - test_loss: 0.319379\n",
      "Epoch: 300/400 - train_loss: 0.3931 - test_loss: 0.333013\n",
      "Epoch: 399/400 - train_loss: 0.3972 - test_loss: 0.356054\n"
     ]
    },
    {
     "metadata": {
      "tags": null
     },
     "name": "stderr",
     "output_type": "stream",
     "text": [
      "\u001b[32m[I 2023-01-30 17:00:30,764]\u001b[0m Trial 50 finished with value: 45.404248087637534 and parameters: {'n layers': 5, 'Hidden size': 76, 'Learning rate': 0.0053603439986485155, 'Dropout rate': 0.5599967210650353, 'Epochs': 320}. Best is trial 14 with value: 30.956372698322248.\u001b[0m\n"
     ]
    },
    {
     "metadata": {
      "tags": null
     },
     "name": "stdout",
     "output_type": "stream",
     "text": [
      "lookback 3\n",
      "Epoch: 399/400 - train_loss: 0.3968 - test_loss: 0.349368\n"
     ]
    },
    {
     "metadata": {
      "tags": null
     },
     "name": "stderr",
     "output_type": "stream",
     "text": [
      "\u001b[32m[I 2023-01-30 17:00:40,885]\u001b[0m Trial 51 finished with value: 44.1811124122544 and parameters: {'n layers': 5, 'Hidden size': 177, 'Learning rate': 0.00522455651919479, 'Dropout rate': 0.34022818375314473, 'Epochs': 400}. Best is trial 14 with value: 30.956372698322248.\u001b[0m\n"
     ]
    },
    {
     "metadata": {
      "tags": null
     },
     "name": "stdout",
     "output_type": "stream",
     "text": [
      "lookback 3\n",
      "Epoch:  0/130 - train_loss: 1.0270 - test_loss: 0.724055\n",
      "Epoch:  0/130 - train_loss: 1.0693 - test_loss: 0.734530\n",
      "Epoch: 32/130 - train_loss: 0.4046 - test_loss: 0.358992\n",
      "Epoch: 32/130 - train_loss: 0.3946 - test_loss: 0.371408\n",
      "Epoch: 64/130 - train_loss: 0.4006 - test_loss: 0.313225\n",
      "Epoch: 64/130 - train_loss: 0.3925 - test_loss: 0.353917\n",
      "Epoch: 96/130 - train_loss: 0.3973 - test_loss: 0.375148\n",
      "Epoch: 96/130 - train_loss: 0.3963 - test_loss: 0.346496\n",
      "Epoch: 128/130 - train_loss: 0.3954 - test_loss: 0.355996\n",
      "Epoch: 129/130 - train_loss: 0.3970 - test_loss: 0.381547\n"
     ]
    },
    {
     "metadata": {
      "tags": null
     },
     "name": "stderr",
     "output_type": "stream",
     "text": [
      "\u001b[32m[I 2023-01-30 17:01:50,093]\u001b[0m Trial 52 finished with value: 42.646277452924416 and parameters: {'n layers': 6, 'Hidden size': 166, 'Learning rate': 0.006923904804327047, 'Dropout rate': 0.7487902666574577, 'Epochs': 150}. Best is trial 14 with value: 30.956372698322248.\u001b[0m\n"
     ]
    },
    {
     "metadata": {
      "tags": null
     },
     "name": "stdout",
     "output_type": "stream",
     "text": [
      "lookback 3\n",
      "Epoch: 128/130 - train_loss: 0.3934 - test_loss: 0.334590\n",
      "Epoch: 129/130 - train_loss: 0.3924 - test_loss: 0.342045\n"
     ]
    },
    {
     "metadata": {
      "tags": null
     },
     "name": "stderr",
     "output_type": "stream",
     "text": [
      "\u001b[32m[I 2023-01-30 17:02:02,257]\u001b[0m Trial 53 finished with value: 44.09191475654064 and parameters: {'n layers': 6, 'Hidden size': 150, 'Learning rate': 0.006793147404296824, 'Dropout rate': 0.4807956617461359, 'Epochs': 130}. Best is trial 14 with value: 30.956372698322248.\u001b[0m\n"
     ]
    },
    {
     "metadata": {
      "tags": null
     },
     "name": "stdout",
     "output_type": "stream",
     "text": [
      "lookback 3\n",
      "Epoch:  0/210 - train_loss: 0.8594 - test_loss: 0.694545\n",
      "Epoch:  0/210 - train_loss: 0.9140 - test_loss: 0.638201\n",
      "Epoch: 52/210 - train_loss: 0.3980 - test_loss: 0.379964\n",
      "Epoch: 52/210 - train_loss: 0.3986 - test_loss: 0.363903\n",
      "Epoch: 104/210 - train_loss: 0.3959 - test_loss: 0.353094\n",
      "Epoch: 104/210 - train_loss: 0.3924 - test_loss: 0.355685\n",
      "Epoch: 156/210 - train_loss: 0.3944 - test_loss: 0.327756\n",
      "Epoch: 156/210 - train_loss: 0.3928 - test_loss: 0.322398\n",
      "Epoch: 208/210 - train_loss: 0.3929 - test_loss: 0.352318\n",
      "Epoch: 209/210 - train_loss: 0.3953 - test_loss: 0.311072\n"
     ]
    },
    {
     "metadata": {
      "tags": null
     },
     "name": "stderr",
     "output_type": "stream",
     "text": [
      "\u001b[32m[I 2023-01-30 17:03:28,693]\u001b[0m Trial 54 finished with value: 41.775318186232674 and parameters: {'n layers': 6, 'Hidden size': 123, 'Learning rate': 0.0063586516154779775, 'Dropout rate': 0.41705638746290674, 'Epochs': 250}. Best is trial 14 with value: 30.956372698322248.\u001b[0m\n"
     ]
    },
    {
     "metadata": {
      "tags": null
     },
     "name": "stdout",
     "output_type": "stream",
     "text": [
      "lookback 3\n",
      "Epoch: 208/210 - train_loss: 0.3902 - test_loss: 0.339088\n",
      "Epoch: 209/210 - train_loss: 0.3922 - test_loss: 0.321549\n"
     ]
    },
    {
     "metadata": {
      "tags": null
     },
     "name": "stderr",
     "output_type": "stream",
     "text": [
      "\u001b[32m[I 2023-01-30 17:03:42,707]\u001b[0m Trial 55 finished with value: 34.25497859294748 and parameters: {'n layers': 6, 'Hidden size': 132, 'Learning rate': 0.008353468644617569, 'Dropout rate': 0.42606890558072696, 'Epochs': 210}. Best is trial 14 with value: 30.956372698322248.\u001b[0m\n"
     ]
    },
    {
     "metadata": {
      "tags": null
     },
     "name": "stdout",
     "output_type": "stream",
     "text": [
      "lookback 3\n",
      "Epoch:  0/290 - train_loss: 0.9887 - test_loss: 0.715096\n",
      "Epoch:  0/290 - train_loss: 1.2301 - test_loss: 0.734938\n",
      "Epoch: 72/290 - train_loss: 0.3985 - test_loss: 0.327756\n",
      "Epoch: 72/290 - train_loss: 0.3939 - test_loss: 0.311354\n",
      "Epoch: 144/290 - train_loss: 0.3906 - test_loss: 0.334371\n",
      "Epoch: 144/290 - train_loss: 0.3948 - test_loss: 0.327621\n",
      "Epoch: 216/290 - train_loss: 0.3911 - test_loss: 0.331607\n",
      "Epoch: 216/290 - train_loss: 0.3924 - test_loss: 0.334382\n",
      "Epoch: 288/290 - train_loss: 0.3941 - test_loss: 0.355290\n",
      "Epoch: 289/290 - train_loss: 0.3935 - test_loss: 0.320844\n"
     ]
    },
    {
     "metadata": {
      "tags": null
     },
     "name": "stderr",
     "output_type": "stream",
     "text": [
      "\u001b[32m[I 2023-01-30 17:05:23,286]\u001b[0m Trial 56 finished with value: 43.16187227218529 and parameters: {'n layers': 6, 'Hidden size': 234, 'Learning rate': 0.007835785973643063, 'Dropout rate': 0.42405553998902284, 'Epochs': 210}. Best is trial 14 with value: 30.956372698322248.\u001b[0m\n"
     ]
    },
    {
     "metadata": {
      "tags": null
     },
     "name": "stdout",
     "output_type": "stream",
     "text": [
      "lookback 3\n",
      "Epoch: 288/290 - train_loss: 0.3961 - test_loss: 0.322934\n",
      "Epoch: 289/290 - train_loss: 0.3936 - test_loss: 0.324841\n"
     ]
    },
    {
     "metadata": {
      "tags": null
     },
     "name": "stderr",
     "output_type": "stream",
     "text": [
      "\u001b[32m[I 2023-01-30 17:05:40,314]\u001b[0m Trial 57 finished with value: 43.85991602213501 and parameters: {'n layers': 6, 'Hidden size': 221, 'Learning rate': 0.008564530461668345, 'Dropout rate': 0.42834608541659386, 'Epochs': 290}. Best is trial 14 with value: 30.956372698322248.\u001b[0m\n"
     ]
    },
    {
     "metadata": {
      "tags": null
     },
     "name": "stdout",
     "output_type": "stream",
     "text": [
      "lookback 3\n",
      "Epoch:  0/260 - train_loss: 1.1514 - test_loss: 0.730834\n",
      "Epoch:  0/260 - train_loss: 1.6435 - test_loss: 0.813519\n",
      "Epoch: 65/260 - train_loss: 0.3922 - test_loss: 0.299916\n",
      "Epoch: 65/260 - train_loss: 0.4090 - test_loss: 0.346793\n",
      "Epoch: 130/260 - train_loss: 0.3956 - test_loss: 0.343801\n",
      "Epoch: 130/260 - train_loss: 0.3964 - test_loss: 0.318481\n",
      "Epoch: 195/260 - train_loss: 0.3946 - test_loss: 0.349419\n",
      "Epoch: 195/260 - train_loss: 0.3952 - test_loss: 0.336947\n",
      "Epoch: 259/260 - train_loss: 0.3926 - test_loss: 0.334253\n"
     ]
    },
    {
     "metadata": {
      "tags": null
     },
     "name": "stderr",
     "output_type": "stream",
     "text": [
      "\u001b[32m[I 2023-01-30 17:07:09,989]\u001b[0m Trial 58 finished with value: 46.310718934988806 and parameters: {'n layers': 6, 'Hidden size': 194, 'Learning rate': 0.008529318756464153, 'Dropout rate': 0.4808430934164759, 'Epochs': 290}. Best is trial 14 with value: 30.956372698322248.\u001b[0m\n"
     ]
    },
    {
     "metadata": {
      "tags": null
     },
     "name": "stdout",
     "output_type": "stream",
     "text": [
      "lookback 3\n",
      "Epoch: 259/260 - train_loss: 0.3996 - test_loss: 0.352526\n"
     ]
    },
    {
     "metadata": {
      "tags": null
     },
     "name": "stderr",
     "output_type": "stream",
     "text": [
      "\u001b[32m[I 2023-01-30 17:07:31,304]\u001b[0m Trial 59 finished with value: 44.931217582329175 and parameters: {'n layers': 3, 'Hidden size': 137, 'Learning rate': 0.003558840594268291, 'Dropout rate': 0.4781342277289734, 'Epochs': 260}. Best is trial 14 with value: 30.956372698322248.\u001b[0m\n"
     ]
    },
    {
     "metadata": {
      "tags": null
     },
     "name": "stdout",
     "output_type": "stream",
     "text": [
      "lookback 3\n",
      "Epoch:  0/220 - train_loss: 1.1993 - test_loss: 0.931201\n",
      "Epoch:  0/220 - train_loss: 0.9372 - test_loss: 0.766936\n",
      "Epoch: 55/220 - train_loss: 0.3959 - test_loss: 0.386224\n",
      "Epoch: 110/220 - train_loss: 0.3948 - test_loss: 0.340768\n",
      "Epoch: 55/220 - train_loss: 0.3961 - test_loss: 0.318532\n",
      "Epoch: 165/220 - train_loss: 0.3979 - test_loss: 0.346980\n",
      "Epoch: 110/220 - train_loss: 0.3920 - test_loss: 0.328401\n",
      "Epoch: 219/220 - train_loss: 0.3955 - test_loss: 0.362435\n"
     ]
    },
    {
     "metadata": {
      "tags": null
     },
     "name": "stderr",
     "output_type": "stream",
     "text": [
      "\u001b[32m[I 2023-01-30 17:08:47,829]\u001b[0m Trial 60 finished with value: 45.01257407969522 and parameters: {'n layers': 3, 'Hidden size': 134, 'Learning rate': 0.0033671594387101847, 'Dropout rate': 0.5387500860611227, 'Epochs': 340}. Best is trial 14 with value: 30.956372698322248.\u001b[0m\n"
     ]
    },
    {
     "metadata": {
      "tags": null
     },
     "name": "stdout",
     "output_type": "stream",
     "text": [
      "lookback 3\n",
      "Epoch: 165/220 - train_loss: 0.3936 - test_loss: 0.351663\n",
      "Epoch: 219/220 - train_loss: 0.3918 - test_loss: 0.343565\n"
     ]
    },
    {
     "metadata": {
      "tags": null
     },
     "name": "stderr",
     "output_type": "stream",
     "text": [
      "\u001b[32m[I 2023-01-30 17:09:11,218]\u001b[0m Trial 61 finished with value: 42.26672668727088 and parameters: {'n layers': 6, 'Hidden size': 105, 'Learning rate': 0.004367823360645984, 'Dropout rate': 0.30262719641574926, 'Epochs': 220}. Best is trial 14 with value: 30.956372698322248.\u001b[0m\n"
     ]
    },
    {
     "metadata": {
      "tags": null
     },
     "name": "stdout",
     "output_type": "stream",
     "text": [
      "lookback 3\n",
      "Epoch:  0/160 - train_loss: 1.2228 - test_loss: 0.887400\n",
      "Epoch: 40/160 - train_loss: 0.3967 - test_loss: 0.366072\n",
      "Epoch:  0/160 - train_loss: 1.5908 - test_loss: 0.837451\n",
      "Epoch: 80/160 - train_loss: 0.3942 - test_loss: 0.337167\n",
      "Epoch: 40/160 - train_loss: 0.3949 - test_loss: 0.360767\n",
      "Epoch: 120/160 - train_loss: 0.3950 - test_loss: 0.346841\n",
      "Epoch: 80/160 - train_loss: 0.3980 - test_loss: 0.320623\n",
      "Epoch: 159/160 - train_loss: 0.3951 - test_loss: 0.359136\n"
     ]
    },
    {
     "metadata": {
      "tags": null
     },
     "name": "stderr",
     "output_type": "stream",
     "text": [
      "\u001b[32m[I 2023-01-30 17:10:10,207]\u001b[0m Trial 62 finished with value: 41.54712512989074 and parameters: {'n layers': 6, 'Hidden size': 110, 'Learning rate': 0.006316004290926555, 'Dropout rate': 0.7813034141971299, 'Epochs': 140}. Best is trial 14 with value: 30.956372698322248.\u001b[0m\n"
     ]
    },
    {
     "metadata": {
      "tags": null
     },
     "name": "stdout",
     "output_type": "stream",
     "text": [
      "lookback 3\n",
      "Epoch: 120/160 - train_loss: 0.3965 - test_loss: 0.331985\n",
      "Epoch: 159/160 - train_loss: 0.3936 - test_loss: 0.353908\n"
     ]
    },
    {
     "metadata": {
      "tags": null
     },
     "name": "stderr",
     "output_type": "stream",
     "text": [
      "\u001b[32m[I 2023-01-30 17:10:35,410]\u001b[0m Trial 63 finished with value: 46.25220353032688 and parameters: {'n layers': 6, 'Hidden size': 165, 'Learning rate': 0.006307839822352001, 'Dropout rate': 0.7553508783714307, 'Epochs': 160}. Best is trial 14 with value: 30.956372698322248.\u001b[0m\n"
     ]
    },
    {
     "metadata": {
      "tags": null
     },
     "name": "stdout",
     "output_type": "stream",
     "text": [
      "lookback 3\n",
      "Epoch:  0/180 - train_loss: 1.1623 - test_loss: 0.648438\n",
      "Epoch: 45/180 - train_loss: 0.3984 - test_loss: 0.350917\n",
      "Epoch:  0/180 - train_loss: 1.0307 - test_loss: 0.690137\n",
      "Epoch: 90/180 - train_loss: 0.3944 - test_loss: 0.332513\n",
      "Epoch: 45/180 - train_loss: 0.3993 - test_loss: 0.338388\n",
      "Epoch: 135/180 - train_loss: 0.3916 - test_loss: 0.360062\n",
      "Epoch: 90/180 - train_loss: 0.3998 - test_loss: 0.334828\n",
      "Epoch: 179/180 - train_loss: 0.3926 - test_loss: 0.334294\n"
     ]
    },
    {
     "metadata": {
      "tags": null
     },
     "name": "stderr",
     "output_type": "stream",
     "text": [
      "\u001b[32m[I 2023-01-30 17:11:36,996]\u001b[0m Trial 64 finished with value: 43.11320946147484 and parameters: {'n layers': 4, 'Hidden size': 160, 'Learning rate': 0.007164038551394066, 'Dropout rate': 0.762248447320543, 'Epochs': 170}. Best is trial 14 with value: 30.956372698322248.\u001b[0m\n"
     ]
    },
    {
     "metadata": {
      "tags": null
     },
     "name": "stdout",
     "output_type": "stream",
     "text": [
      "lookback 3\n",
      "Epoch: 135/180 - train_loss: 0.4036 - test_loss: 0.304721\n",
      "Epoch: 179/180 - train_loss: 0.3938 - test_loss: 0.325073\n"
     ]
    },
    {
     "metadata": {
      "tags": null
     },
     "name": "stderr",
     "output_type": "stream",
     "text": [
      "\u001b[32m[I 2023-01-30 17:12:04,400]\u001b[0m Trial 65 finished with value: 44.2128308317197 and parameters: {'n layers': 4, 'Hidden size': 275, 'Learning rate': 0.007017420223916372, 'Dropout rate': 0.7996768397351712, 'Epochs': 180}. Best is trial 14 with value: 30.956372698322248.\u001b[0m\n"
     ]
    },
    {
     "metadata": {
      "tags": null
     },
     "name": "stdout",
     "output_type": "stream",
     "text": [
      "lookback 3\n",
      "Epoch:  0/130 - train_loss: 1.2677 - test_loss: 0.872180\n",
      "Epoch: 32/130 - train_loss: 0.3963 - test_loss: 0.324212\n",
      "Epoch: 64/130 - train_loss: 0.3970 - test_loss: 0.315896\n",
      "Epoch:  0/130 - train_loss: 0.8921 - test_loss: 0.653213\n",
      "Epoch: 96/130 - train_loss: 0.3912 - test_loss: 0.341088\n",
      "Epoch: 32/130 - train_loss: 0.4029 - test_loss: 0.341848\n",
      "Epoch: 128/130 - train_loss: 0.3985 - test_loss: 0.368292\n",
      "Epoch: 129/130 - train_loss: 0.3942 - test_loss: 0.302685\n"
     ]
    },
    {
     "metadata": {
      "tags": null
     },
     "name": "stderr",
     "output_type": "stream",
     "text": [
      "\u001b[32m[I 2023-01-30 17:12:52,839]\u001b[0m Trial 66 finished with value: 36.57550153561515 and parameters: {'n layers': 6, 'Hidden size': 90, 'Learning rate': 0.005513036805760882, 'Dropout rate': 0.6697083211844866, 'Epochs': 180}. Best is trial 14 with value: 30.956372698322248.\u001b[0m\n"
     ]
    },
    {
     "metadata": {
      "tags": null
     },
     "name": "stdout",
     "output_type": "stream",
     "text": [
      "lookback 3\n",
      "Epoch: 64/130 - train_loss: 0.3984 - test_loss: 0.356040\n",
      "Epoch: 96/130 - train_loss: 0.3982 - test_loss: 0.348764\n",
      "Epoch: 128/130 - train_loss: 0.3925 - test_loss: 0.335380\n",
      "Epoch: 129/130 - train_loss: 0.3948 - test_loss: 0.342132\n"
     ]
    },
    {
     "metadata": {
      "tags": null
     },
     "name": "stderr",
     "output_type": "stream",
     "text": [
      "\u001b[32m[I 2023-01-30 17:13:21,293]\u001b[0m Trial 67 finished with value: 38.990386431425335 and parameters: {'n layers': 6, 'Hidden size': 196, 'Learning rate': 0.009067908839681947, 'Dropout rate': 0.6550708440291951, 'Epochs': 130}. Best is trial 14 with value: 30.956372698322248.\u001b[0m\n"
     ]
    },
    {
     "metadata": {
      "tags": null
     },
     "name": "stdout",
     "output_type": "stream",
     "text": [
      "lookback 3\n",
      "Epoch:  0/330 - train_loss: 1.1348 - test_loss: 0.789610\n",
      "Epoch:  0/330 - train_loss: 1.1384 - test_loss: 0.722461\n",
      "Epoch: 82/330 - train_loss: 0.3930 - test_loss: 0.326999\n",
      "Epoch: 82/330 - train_loss: 0.4042 - test_loss: 0.342424\n",
      "Epoch: 164/330 - train_loss: 0.3927 - test_loss: 0.335578\n",
      "Epoch: 246/330 - train_loss: 0.3924 - test_loss: 0.325939\n",
      "Epoch: 164/330 - train_loss: 0.3951 - test_loss: 0.320248\n",
      "Epoch: 328/330 - train_loss: 0.3957 - test_loss: 0.317274\n",
      "Epoch: 329/330 - train_loss: 0.3928 - test_loss: 0.361332\n"
     ]
    },
    {
     "metadata": {
      "tags": null
     },
     "name": "stderr",
     "output_type": "stream",
     "text": [
      "\u001b[32m[I 2023-01-30 17:14:54,196]\u001b[0m Trial 68 finished with value: 38.53513382031651 and parameters: {'n layers': 6, 'Hidden size': 69, 'Learning rate': 0.00910871545158843, 'Dropout rate': 0.38582731983277435, 'Epochs': 120}. Best is trial 14 with value: 30.956372698322248.\u001b[0m\n"
     ]
    },
    {
     "metadata": {
      "tags": null
     },
     "name": "stdout",
     "output_type": "stream",
     "text": [
      "lookback 3\n",
      "Epoch: 246/330 - train_loss: 0.3928 - test_loss: 0.329264\n",
      "Epoch:  0/340 - train_loss: 0.9686 - test_loss: 0.774268\n",
      "Epoch: 328/330 - train_loss: 0.3927 - test_loss: 0.339580\n",
      "Epoch: 329/330 - train_loss: 0.3920 - test_loss: 0.347847\n"
     ]
    },
    {
     "metadata": {
      "tags": null
     },
     "name": "stderr",
     "output_type": "stream",
     "text": [
      "\u001b[32m[I 2023-01-30 17:15:28,038]\u001b[0m Trial 69 finished with value: 45.44794492980186 and parameters: {'n layers': 6, 'Hidden size': 84, 'Learning rate': 0.00546368629876272, 'Dropout rate': 0.6899081038568159, 'Epochs': 330}. Best is trial 14 with value: 30.956372698322248.\u001b[0m\n"
     ]
    },
    {
     "metadata": {
      "tags": null
     },
     "name": "stdout",
     "output_type": "stream",
     "text": [
      "lookback 3\n",
      "Epoch: 85/340 - train_loss: 0.3951 - test_loss: 0.339439\n",
      "Epoch:  0/350 - train_loss: 1.0539 - test_loss: 0.803880\n",
      "Epoch: 170/340 - train_loss: 0.3920 - test_loss: 0.350732\n",
      "Epoch: 87/350 - train_loss: 0.4089 - test_loss: 0.301948\n",
      "Epoch: 255/340 - train_loss: 0.3930 - test_loss: 0.308706\n",
      "Epoch: 174/350 - train_loss: 0.3974 - test_loss: 0.393205\n",
      "Epoch: 339/340 - train_loss: 0.3918 - test_loss: 0.328949\n"
     ]
    },
    {
     "metadata": {
      "tags": null
     },
     "name": "stderr",
     "output_type": "stream",
     "text": [
      "\u001b[32m[I 2023-01-30 17:16:57,712]\u001b[0m Trial 70 finished with value: 44.028334512158956 and parameters: {'n layers': 6, 'Hidden size': 79, 'Learning rate': 0.005393844452417508, 'Dropout rate': 0.6911563183958401, 'Epochs': 340}. Best is trial 14 with value: 30.956372698322248.\u001b[0m\n"
     ]
    },
    {
     "metadata": {
      "tags": null
     },
     "name": "stdout",
     "output_type": "stream",
     "text": [
      "lookback 3\n",
      "Epoch: 261/350 - train_loss: 0.3932 - test_loss: 0.336471\n",
      "Epoch:  0/200 - train_loss: 0.9487 - test_loss: 0.642811\n",
      "Epoch: 348/350 - train_loss: 0.3920 - test_loss: 0.339501\n",
      "Epoch: 349/350 - train_loss: 0.3912 - test_loss: 0.337810\n"
     ]
    },
    {
     "metadata": {
      "tags": null
     },
     "name": "stderr",
     "output_type": "stream",
     "text": [
      "\u001b[32m[I 2023-01-30 17:17:37,698]\u001b[0m Trial 71 finished with value: 35.12072680423119 and parameters: {'n layers': 6, 'Hidden size': 92, 'Learning rate': 0.00988331724219204, 'Dropout rate': 0.6156794519671074, 'Epochs': 350}. Best is trial 14 with value: 30.956372698322248.\u001b[0m\n"
     ]
    },
    {
     "metadata": {
      "tags": null
     },
     "name": "stdout",
     "output_type": "stream",
     "text": [
      "lookback 3\n",
      "Epoch: 50/200 - train_loss: 0.3965 - test_loss: 0.354579\n",
      "Epoch: 100/200 - train_loss: 0.3923 - test_loss: 0.364030\n",
      "Epoch:  0/320 - train_loss: 1.0130 - test_loss: 0.760238\n",
      "Epoch: 150/200 - train_loss: 0.3916 - test_loss: 0.332249\n",
      "Epoch: 199/200 - train_loss: 0.3947 - test_loss: 0.336857\n"
     ]
    },
    {
     "metadata": {
      "tags": null
     },
     "name": "stderr",
     "output_type": "stream",
     "text": [
      "\u001b[32m[I 2023-01-30 17:18:28,431]\u001b[0m Trial 72 finished with value: 41.9244465634971 and parameters: {'n layers': 6, 'Hidden size': 119, 'Learning rate': 0.0077809212817878575, 'Dropout rate': 0.6052228301730889, 'Epochs': 200}. Best is trial 14 with value: 30.956372698322248.\u001b[0m\n"
     ]
    },
    {
     "metadata": {
      "tags": null
     },
     "name": "stdout",
     "output_type": "stream",
     "text": [
      "lookback 3\n",
      "Epoch: 80/320 - train_loss: 0.4017 - test_loss: 0.380921\n",
      "Epoch:  0/360 - train_loss: 0.8337 - test_loss: 0.640947\n",
      "Epoch: 160/320 - train_loss: 0.3943 - test_loss: 0.328414\n",
      "Epoch: 240/320 - train_loss: 0.3906 - test_loss: 0.325052\n",
      "Epoch: 90/360 - train_loss: 0.3945 - test_loss: 0.330368\n",
      "Epoch: 319/320 - train_loss: 0.3936 - test_loss: 0.339643\n"
     ]
    },
    {
     "metadata": {
      "tags": null
     },
     "name": "stderr",
     "output_type": "stream",
     "text": [
      "\u001b[32m[I 2023-01-30 17:19:40,955]\u001b[0m Trial 73 finished with value: 34.837148709761586 and parameters: {'n layers': 6, 'Hidden size': 94, 'Learning rate': 0.009750625045642352, 'Dropout rate': 0.5940187320208508, 'Epochs': 320}. Best is trial 14 with value: 30.956372698322248.\u001b[0m\n"
     ]
    },
    {
     "metadata": {
      "tags": null
     },
     "name": "stdout",
     "output_type": "stream",
     "text": [
      "lookback 3\n",
      "Epoch: 180/360 - train_loss: 0.3922 - test_loss: 0.318934\n",
      "Epoch:  0/360 - train_loss: 0.8840 - test_loss: 0.589968\n",
      "Epoch: 270/360 - train_loss: 0.3927 - test_loss: 0.344680\n",
      "Epoch: 90/360 - train_loss: 0.3973 - test_loss: 0.345113\n",
      "Epoch: 359/360 - train_loss: 0.3915 - test_loss: 0.329494\n"
     ]
    },
    {
     "metadata": {
      "tags": null
     },
     "name": "stderr",
     "output_type": "stream",
     "text": [
      "\u001b[32m[I 2023-01-30 17:20:36,969]\u001b[0m Trial 74 finished with value: 43.91635341973812 and parameters: {'n layers': 6, 'Hidden size': 93, 'Learning rate': 0.00874668860315715, 'Dropout rate': 0.5679319299246084, 'Epochs': 360}. Best is trial 14 with value: 30.956372698322248.\u001b[0m\n"
     ]
    },
    {
     "metadata": {
      "tags": null
     },
     "name": "stdout",
     "output_type": "stream",
     "text": [
      "lookback 3\n",
      "Epoch: 180/360 - train_loss: 0.3940 - test_loss: 0.311655\n",
      "Epoch:  0/320 - train_loss: 0.9349 - test_loss: 0.681944\n",
      "Epoch: 80/320 - train_loss: 0.3958 - test_loss: 0.297353\n",
      "Epoch: 270/360 - train_loss: 0.3916 - test_loss: 0.351628\n",
      "Epoch: 160/320 - train_loss: 0.3933 - test_loss: 0.329211\n",
      "Epoch: 359/360 - train_loss: 0.3949 - test_loss: 0.348718\n"
     ]
    },
    {
     "metadata": {
      "tags": null
     },
     "name": "stderr",
     "output_type": "stream",
     "text": [
      "\u001b[32m[I 2023-01-30 17:21:52,382]\u001b[0m Trial 75 finished with value: 42.40996460336944 and parameters: {'n layers': 6, 'Hidden size': 96, 'Learning rate': 0.009208268293630086, 'Dropout rate': 0.6211564019221129, 'Epochs': 360}. Best is trial 14 with value: 30.956372698322248.\u001b[0m\n"
     ]
    },
    {
     "metadata": {
      "tags": null
     },
     "name": "stdout",
     "output_type": "stream",
     "text": [
      "lookback 3\n",
      "Epoch: 240/320 - train_loss: 0.3926 - test_loss: 0.329869\n",
      "Epoch:  0/300 - train_loss: 0.8824 - test_loss: 0.656714\n",
      "Epoch: 319/320 - train_loss: 0.3917 - test_loss: 0.327564\n"
     ]
    },
    {
     "metadata": {
      "tags": null
     },
     "name": "stderr",
     "output_type": "stream",
     "text": [
      "\u001b[32m[I 2023-01-30 17:22:35,180]\u001b[0m Trial 76 finished with value: 43.40919730428052 and parameters: {'n layers': 6, 'Hidden size': 51, 'Learning rate': 0.009999202756877481, 'Dropout rate': 0.6136417772484875, 'Epochs': 320}. Best is trial 14 with value: 30.956372698322248.\u001b[0m\n"
     ]
    },
    {
     "metadata": {
      "tags": null
     },
     "name": "stdout",
     "output_type": "stream",
     "text": [
      "lookback 3\n",
      "Epoch: 75/300 - train_loss: 0.3968 - test_loss: 0.342941\n",
      "Epoch:  0/300 - train_loss: 0.9551 - test_loss: 0.676183\n",
      "Epoch: 150/300 - train_loss: 0.3970 - test_loss: 0.311079\n",
      "Epoch: 75/300 - train_loss: 0.3926 - test_loss: 0.376383\n",
      "Epoch: 225/300 - train_loss: 0.3921 - test_loss: 0.330469\n",
      "Epoch: 150/300 - train_loss: 0.3970 - test_loss: 0.355350\n",
      "Epoch: 299/300 - train_loss: 0.3911 - test_loss: 0.329868\n"
     ]
    },
    {
     "metadata": {
      "tags": null
     },
     "name": "stderr",
     "output_type": "stream",
     "text": [
      "\u001b[32m[I 2023-01-30 17:23:49,580]\u001b[0m Trial 77 finished with value: 31.477965852413735 and parameters: {'n layers': 6, 'Hidden size': 67, 'Learning rate': 0.00974043491440425, 'Dropout rate': 0.5885867601762576, 'Epochs': 300}. Best is trial 14 with value: 30.956372698322248.\u001b[0m\n"
     ]
    },
    {
     "metadata": {
      "tags": null
     },
     "name": "stdout",
     "output_type": "stream",
     "text": [
      "lookback 3\n",
      "Epoch: 225/300 - train_loss: 0.3933 - test_loss: 0.340885\n",
      "Epoch:  0/390 - train_loss: 1.2594 - test_loss: 0.780033\n",
      "Epoch: 299/300 - train_loss: 0.3941 - test_loss: 0.330191\n"
     ]
    },
    {
     "metadata": {
      "tags": null
     },
     "name": "stderr",
     "output_type": "stream",
     "text": [
      "\u001b[32m[I 2023-01-30 17:24:28,453]\u001b[0m Trial 78 finished with value: 44.75063507271074 and parameters: {'n layers': 5, 'Hidden size': 67, 'Learning rate': 0.007245450958326953, 'Dropout rate': 0.666645567793729, 'Epochs': 300}. Best is trial 14 with value: 30.956372698322248.\u001b[0m\n"
     ]
    },
    {
     "metadata": {
      "tags": null
     },
     "name": "stdout",
     "output_type": "stream",
     "text": [
      "lookback 3\n",
      "Epoch: 97/390 - train_loss: 0.3928 - test_loss: 0.350882\n",
      "Epoch:  0/230 - train_loss: 0.7654 - test_loss: 0.592854\n",
      "Epoch: 57/230 - train_loss: 0.3966 - test_loss: 0.332442\n",
      "Epoch: 194/390 - train_loss: 0.3918 - test_loss: 0.328970\n",
      "Epoch: 114/230 - train_loss: 0.3936 - test_loss: 0.326148\n",
      "Epoch: 171/230 - train_loss: 0.3914 - test_loss: 0.331684\n",
      "Epoch: 291/390 - train_loss: 0.3914 - test_loss: 0.332289\n",
      "Epoch: 228/230 - train_loss: 0.3928 - test_loss: 0.330916\n",
      "Epoch: 229/230 - train_loss: 0.3938 - test_loss: 0.328675\n"
     ]
    },
    {
     "metadata": {
      "tags": null
     },
     "name": "stderr",
     "output_type": "stream",
     "text": [
      "\u001b[32m[I 2023-01-30 17:25:52,938]\u001b[0m Trial 80 finished with value: 37.26043439697906 and parameters: {'n layers': 6, 'Hidden size': 54, 'Learning rate': 0.009975331489428557, 'Dropout rate': 0.5847781413618967, 'Epochs': 230}. Best is trial 14 with value: 30.956372698322248.\u001b[0m\n"
     ]
    },
    {
     "metadata": {
      "tags": null
     },
     "name": "stdout",
     "output_type": "stream",
     "text": [
      "lookback 3\n",
      "Epoch: 388/390 - train_loss: 0.3913 - test_loss: 0.332257\n",
      "Epoch: 389/390 - train_loss: 0.3931 - test_loss: 0.333265\n"
     ]
    },
    {
     "metadata": {
      "tags": null
     },
     "name": "stderr",
     "output_type": "stream",
     "text": [
      "\u001b[32m[I 2023-01-30 17:26:15,282]\u001b[0m Trial 79 finished with value: 43.16314702828227 and parameters: {'n layers': 5, 'Hidden size': 65, 'Learning rate': 0.007352738420998508, 'Dropout rate': 0.5988872991065368, 'Epochs': 390}. Best is trial 14 with value: 30.956372698322248.\u001b[0m\n"
     ]
    },
    {
     "metadata": {
      "tags": null
     },
     "name": "stdout",
     "output_type": "stream",
     "text": [
      "lookback 3\n",
      "Epoch:  0/350 - train_loss: 1.2722 - test_loss: 0.762960\n",
      "Epoch:  0/350 - train_loss: 1.2951 - test_loss: 0.856878\n",
      "Epoch: 87/350 - train_loss: 0.3911 - test_loss: 0.317351\n",
      "Epoch: 87/350 - train_loss: 0.3982 - test_loss: 0.345061\n",
      "Epoch: 174/350 - train_loss: 0.3970 - test_loss: 0.362936\n",
      "Epoch: 174/350 - train_loss: 0.3924 - test_loss: 0.306607\n",
      "Epoch: 261/350 - train_loss: 0.3983 - test_loss: 0.343058\n",
      "Epoch: 261/350 - train_loss: 0.3924 - test_loss: 0.320142\n",
      "Epoch: 348/350 - train_loss: 0.3932 - test_loss: 0.318690\n",
      "Epoch: 349/350 - train_loss: 0.3944 - test_loss: 0.352351\n"
     ]
    },
    {
     "metadata": {
      "tags": null
     },
     "name": "stderr",
     "output_type": "stream",
     "text": [
      "\u001b[32m[I 2023-01-30 17:27:58,898]\u001b[0m Trial 81 finished with value: 47.04804853199961 and parameters: {'n layers': 6, 'Hidden size': 143, 'Learning rate': 0.00619606985865094, 'Dropout rate': 0.5410136402152605, 'Epochs': 270}. Best is trial 14 with value: 30.956372698322248.\u001b[0m\n"
     ]
    },
    {
     "metadata": {
      "tags": null
     },
     "name": "stdout",
     "output_type": "stream",
     "text": [
      "lookback 3\n",
      "Epoch: 348/350 - train_loss: 0.3927 - test_loss: 0.320695\n",
      "Epoch: 349/350 - train_loss: 0.3930 - test_loss: 0.342422\n"
     ]
    },
    {
     "metadata": {
      "tags": null
     },
     "name": "stderr",
     "output_type": "stream",
     "text": [
      "\u001b[32m[I 2023-01-30 17:28:27,693]\u001b[0m Trial 82 finished with value: 47.88254756190435 and parameters: {'n layers': 6, 'Hidden size': 88, 'Learning rate': 0.006090180930626057, 'Dropout rate': 0.5381531341581993, 'Epochs': 350}. Best is trial 14 with value: 30.956372698322248.\u001b[0m\n"
     ]
    },
    {
     "metadata": {
      "tags": null
     },
     "name": "stdout",
     "output_type": "stream",
     "text": [
      "lookback 3\n",
      "Epoch:  0/320 - train_loss: 1.2307 - test_loss: 0.850564\n",
      "Epoch:  0/320 - train_loss: 1.0277 - test_loss: 0.612177\n",
      "Epoch: 80/320 - train_loss: 0.3946 - test_loss: 0.367284\n",
      "Epoch: 160/320 - train_loss: 0.3980 - test_loss: 0.311538\n",
      "Epoch: 80/320 - train_loss: 0.3954 - test_loss: 0.343036\n",
      "Epoch: 240/320 - train_loss: 0.3936 - test_loss: 0.345068\n",
      "Epoch: 160/320 - train_loss: 0.3917 - test_loss: 0.328432\n",
      "Epoch: 319/320 - train_loss: 0.3921 - test_loss: 0.348380\n"
     ]
    },
    {
     "metadata": {
      "tags": null
     },
     "name": "stderr",
     "output_type": "stream",
     "text": [
      "\u001b[32m[I 2023-01-30 17:29:56,250]\u001b[0m Trial 83 finished with value: 41.13934834260016 and parameters: {'n layers': 6, 'Hidden size': 86, 'Learning rate': 0.008153910612849386, 'Dropout rate': 0.6270469440494296, 'Epochs': 350}. Best is trial 14 with value: 30.956372698322248.\u001b[0m\n"
     ]
    },
    {
     "metadata": {
      "tags": null
     },
     "name": "stdout",
     "output_type": "stream",
     "text": [
      "lookback 3\n",
      "Epoch: 240/320 - train_loss: 0.3930 - test_loss: 0.349929\n",
      "Epoch:  0/330 - train_loss: 0.8796 - test_loss: 0.706596\n",
      "Epoch: 319/320 - train_loss: 0.3920 - test_loss: 0.330250\n"
     ]
    },
    {
     "metadata": {
      "tags": null
     },
     "name": "stderr",
     "output_type": "stream",
     "text": [
      "\u001b[32m[I 2023-01-30 17:30:30,170]\u001b[0m Trial 84 finished with value: 43.69521672343137 and parameters: {'n layers': 6, 'Hidden size': 117, 'Learning rate': 0.00831663310970563, 'Dropout rate': 0.6358251991535501, 'Epochs': 320}. Best is trial 14 with value: 30.956372698322248.\u001b[0m\n"
     ]
    },
    {
     "metadata": {
      "tags": null
     },
     "name": "stdout",
     "output_type": "stream",
     "text": [
      "lookback 3\n",
      "Epoch: 82/330 - train_loss: 0.3972 - test_loss: 0.337363\n",
      "Epoch:  0/180 - train_loss: 0.9284 - test_loss: 0.808190\n",
      "Epoch: 45/180 - train_loss: 0.3905 - test_loss: 0.324408\n",
      "Epoch: 164/330 - train_loss: 0.3944 - test_loss: 0.344725\n",
      "Epoch: 90/180 - train_loss: 0.3942 - test_loss: 0.339684\n",
      "Epoch: 135/180 - train_loss: 0.3924 - test_loss: 0.327899\n",
      "Epoch: 246/330 - train_loss: 0.3933 - test_loss: 0.342821\n",
      "Epoch: 179/180 - train_loss: 0.4018 - test_loss: 0.365502\n"
     ]
    },
    {
     "metadata": {
      "tags": null
     },
     "name": "stderr",
     "output_type": "stream",
     "text": [
      "\u001b[32m[I 2023-01-30 17:31:45,347]\u001b[0m Trial 86 finished with value: 45.068299853113444 and parameters: {'n layers': 6, 'Hidden size': 73, 'Learning rate': 0.0046607946745206704, 'Dropout rate': 0.7108508503584074, 'Epochs': 180}. Best is trial 14 with value: 30.956372698322248.\u001b[0m\n"
     ]
    },
    {
     "metadata": {
      "tags": null
     },
     "name": "stdout",
     "output_type": "stream",
     "text": [
      "lookback 3\n",
      "Epoch: 328/330 - train_loss: 0.3930 - test_loss: 0.327814\n",
      "Epoch: 329/330 - train_loss: 0.3925 - test_loss: 0.358240\n"
     ]
    },
    {
     "metadata": {
      "tags": null
     },
     "name": "stderr",
     "output_type": "stream",
     "text": [
      "\u001b[32m[I 2023-01-30 17:32:01,783]\u001b[0m Trial 85 finished with value: 43.8570818426243 and parameters: {'n layers': 6, 'Hidden size': 73, 'Learning rate': 0.004672067116582256, 'Dropout rate': 0.5862715054410786, 'Epochs': 330}. Best is trial 14 with value: 30.956372698322248.\u001b[0m\n"
     ]
    },
    {
     "metadata": {
      "tags": null
     },
     "name": "stdout",
     "output_type": "stream",
     "text": [
      "lookback 3\n",
      "Epoch:  0/370 - train_loss: 1.1197 - test_loss: 0.693088\n",
      "Epoch:  0/370 - train_loss: 0.8733 - test_loss: 0.663582\n",
      "Epoch: 92/370 - train_loss: 0.3967 - test_loss: 0.321462\n",
      "Epoch: 92/370 - train_loss: 0.3949 - test_loss: 0.352334\n",
      "Epoch: 184/370 - train_loss: 0.3964 - test_loss: 0.331665\n",
      "Epoch: 184/370 - train_loss: 0.3943 - test_loss: 0.316245\n",
      "Epoch: 276/370 - train_loss: 0.3937 - test_loss: 0.355602\n",
      "Epoch: 276/370 - train_loss: 0.3921 - test_loss: 0.321173\n",
      "Epoch: 368/370 - train_loss: 0.3920 - test_loss: 0.337483\n",
      "Epoch: 369/370 - train_loss: 0.3913 - test_loss: 0.317644\n"
     ]
    },
    {
     "metadata": {
      "tags": null
     },
     "name": "stderr",
     "output_type": "stream",
     "text": [
      "\u001b[32m[I 2023-01-30 17:34:01,377]\u001b[0m Trial 87 finished with value: 42.125905686363915 and parameters: {'n layers': 6, 'Hidden size': 62, 'Learning rate': 0.007260998165923765, 'Dropout rate': 0.5835187976480752, 'Epochs': 380}. Best is trial 14 with value: 30.956372698322248.\u001b[0m\n"
     ]
    },
    {
     "metadata": {
      "tags": null
     },
     "name": "stdout",
     "output_type": "stream",
     "text": [
      "lookback 3\n",
      "Epoch: 368/370 - train_loss: 0.3921 - test_loss: 0.337547\n",
      "Epoch: 369/370 - train_loss: 0.3923 - test_loss: 0.346471\n"
     ]
    },
    {
     "metadata": {
      "tags": null
     },
     "name": "stderr",
     "output_type": "stream",
     "text": [
      "\u001b[32m[I 2023-01-30 17:34:08,349]\u001b[0m Trial 88 finished with value: 39.65137356542489 and parameters: {'n layers': 6, 'Hidden size': 58, 'Learning rate': 0.007224398199099651, 'Dropout rate': 0.513186630103114, 'Epochs': 370}. Best is trial 14 with value: 30.956372698322248.\u001b[0m\n"
     ]
    },
    {
     "name": "stdout",
     "output_type": "stream",
     "text": [
      "lookback 3\n",
      "Epoch:  0/300 - train_loss: 1.2568 - test_loss: 0.777044\n",
      "Epoch:  0/300 - train_loss: 1.0696 - test_loss: 0.697852\n",
      "Epoch: 75/300 - train_loss: 0.3967 - test_loss: 0.366722\n",
      "Epoch: 75/300 - train_loss: 0.3985 - test_loss: 0.350278\n",
      "Epoch: 150/300 - train_loss: 0.3920 - test_loss: 0.323237\n",
      "Epoch: 150/300 - train_loss: 0.3908 - test_loss: 0.332277\n",
      "Epoch: 225/300 - train_loss: 0.3919 - test_loss: 0.330801\n",
      "Epoch: 225/300 - train_loss: 0.3931 - test_loss: 0.357822\n",
      "Epoch: 299/300 - train_loss: 0.3922 - test_loss: 0.344639\n"
     ]
    },
    {
     "name": "stderr",
     "output_type": "stream",
     "text": [
      "\u001b[32m[I 2023-01-30 17:36:01,286]\u001b[0m Trial 90 finished with value: 46.21612444421758 and parameters: {'n layers': 6, 'Hidden size': 129, 'Learning rate': 0.009023561586301493, 'Dropout rate': 0.5625116602899846, 'Epochs': 300}. Best is trial 14 with value: 30.956372698322248.\u001b[0m\n"
     ]
    },
    {
     "name": "stdout",
     "output_type": "stream",
     "text": [
      "lookback 3\n",
      "Epoch: 299/300 - train_loss: 0.3937 - test_loss: 0.319590\n"
     ]
    },
    {
     "name": "stderr",
     "output_type": "stream",
     "text": [
      "\u001b[32m[I 2023-01-30 17:36:02,640]\u001b[0m Trial 89 finished with value: 43.51090198600137 and parameters: {'n layers': 6, 'Hidden size': 130, 'Learning rate': 0.008892175159369676, 'Dropout rate': 0.6462845230206586, 'Epochs': 300}. Best is trial 14 with value: 30.956372698322248.\u001b[0m\n"
     ]
    },
    {
     "name": "stdout",
     "output_type": "stream",
     "text": [
      "lookback 3\n",
      "Epoch:  0/310 - train_loss: 0.9825 - test_loss: 0.634713\n",
      "Epoch:  0/310 - train_loss: 0.7862 - test_loss: 0.668476\n",
      "Epoch: 77/310 - train_loss: 0.3912 - test_loss: 0.332879\n",
      "Epoch: 77/310 - train_loss: 0.3954 - test_loss: 0.352079\n",
      "Epoch: 154/310 - train_loss: 0.3916 - test_loss: 0.331694\n",
      "Epoch: 154/310 - train_loss: 0.3965 - test_loss: 0.293795\n",
      "Epoch: 231/310 - train_loss: 0.3911 - test_loss: 0.338477\n",
      "Epoch: 231/310 - train_loss: 0.3928 - test_loss: 0.341993\n",
      "Epoch: 308/310 - train_loss: 0.3928 - test_loss: 0.328760\n",
      "Epoch: 309/310 - train_loss: 0.3934 - test_loss: 0.354297\n"
     ]
    },
    {
     "name": "stderr",
     "output_type": "stream",
     "text": [
      "\u001b[32m[I 2023-01-30 17:37:59,914]\u001b[0m Trial 91 finished with value: 46.500326331333625 and parameters: {'n layers': 6, 'Hidden size': 95, 'Learning rate': 0.009976428494413521, 'Dropout rate': 0.6663521264338004, 'Epochs': 270}. Best is trial 14 with value: 30.956372698322248.\u001b[0m\n"
     ]
    },
    {
     "name": "stdout",
     "output_type": "stream",
     "text": [
      "lookback 3\n",
      "Epoch: 308/310 - train_loss: 0.3929 - test_loss: 0.350528\n",
      "Epoch: 309/310 - train_loss: 0.3937 - test_loss: 0.337365\n"
     ]
    },
    {
     "name": "stderr",
     "output_type": "stream",
     "text": [
      "\u001b[32m[I 2023-01-30 17:38:07,140]\u001b[0m Trial 92 finished with value: 38.15445116032542 and parameters: {'n layers': 6, 'Hidden size': 104, 'Learning rate': 0.009971010226729003, 'Dropout rate': 0.6723496238388855, 'Epochs': 310}. Best is trial 14 with value: 30.956372698322248.\u001b[0m\n"
     ]
    },
    {
     "name": "stdout",
     "output_type": "stream",
     "text": [
      "lookback 3\n",
      "Epoch:  0/320 - train_loss: 1.0148 - test_loss: 0.770510\n",
      "Epoch:  0/320 - train_loss: 1.2287 - test_loss: 0.782213\n",
      "Epoch: 80/320 - train_loss: 0.4195 - test_loss: 0.308147\n",
      "Epoch: 80/320 - train_loss: 0.3970 - test_loss: 0.319845\n",
      "Epoch: 160/320 - train_loss: 0.3966 - test_loss: 0.339910\n",
      "Epoch: 160/320 - train_loss: 0.3921 - test_loss: 0.357750\n",
      "Epoch: 240/320 - train_loss: 0.4017 - test_loss: 0.332887\n",
      "Epoch: 240/320 - train_loss: 0.3936 - test_loss: 0.338043\n",
      "Epoch: 319/320 - train_loss: 0.3943 - test_loss: 0.346343\n"
     ]
    },
    {
     "name": "stderr",
     "output_type": "stream",
     "text": [
      "\u001b[32m[I 2023-01-30 17:40:01,057]\u001b[0m Trial 93 finished with value: 36.539944197109754 and parameters: {'n layers': 6, 'Hidden size': 107, 'Learning rate': 0.008021688543227552, 'Dropout rate': 0.4507265545759521, 'Epochs': 310}. Best is trial 14 with value: 30.956372698322248.\u001b[0m\n"
     ]
    },
    {
     "name": "stdout",
     "output_type": "stream",
     "text": [
      "lookback 3\n",
      "Epoch: 319/320 - train_loss: 0.3942 - test_loss: 0.336484\n"
     ]
    },
    {
     "name": "stderr",
     "output_type": "stream",
     "text": [
      "\u001b[32m[I 2023-01-30 17:40:13,379]\u001b[0m Trial 94 finished with value: 42.03405504467003 and parameters: {'n layers': 6, 'Hidden size': 117, 'Learning rate': 0.008231843452247605, 'Dropout rate': 0.44321435276533944, 'Epochs': 320}. Best is trial 14 with value: 30.956372698322248.\u001b[0m\n"
     ]
    },
    {
     "name": "stdout",
     "output_type": "stream",
     "text": [
      "lookback 3\n",
      "Epoch:  0/340 - train_loss: 1.2104 - test_loss: 0.873086\n",
      "Epoch:  0/340 - train_loss: 0.9413 - test_loss: 0.707255\n",
      "Epoch: 85/340 - train_loss: 0.3941 - test_loss: 0.326760\n",
      "Epoch: 85/340 - train_loss: 0.3917 - test_loss: 0.344106\n",
      "Epoch: 170/340 - train_loss: 0.3951 - test_loss: 0.360939\n",
      "Epoch: 170/340 - train_loss: 0.3912 - test_loss: 0.343812\n",
      "Epoch: 255/340 - train_loss: 0.3957 - test_loss: 0.353276\n",
      "Epoch: 255/340 - train_loss: 0.3917 - test_loss: 0.330773\n",
      "Epoch: 339/340 - train_loss: 0.3929 - test_loss: 0.345631\n"
     ]
    },
    {
     "name": "stderr",
     "output_type": "stream",
     "text": [
      "\u001b[32m[I 2023-01-30 17:42:05,108]\u001b[0m Trial 95 finished with value: 45.08504761701191 and parameters: {'n layers': 6, 'Hidden size': 115, 'Learning rate': 0.005588878545473018, 'Dropout rate': 0.49198171733152635, 'Epochs': 320}. Best is trial 14 with value: 30.956372698322248.\u001b[0m\n"
     ]
    },
    {
     "name": "stdout",
     "output_type": "stream",
     "text": [
      "lookback 3\n",
      "Epoch: 339/340 - train_loss: 0.3925 - test_loss: 0.328027\n"
     ]
    },
    {
     "name": "stderr",
     "output_type": "stream",
     "text": [
      "\u001b[32m[I 2023-01-30 17:42:22,759]\u001b[0m Trial 96 finished with value: 47.349083882709145 and parameters: {'n layers': 6, 'Hidden size': 81, 'Learning rate': 0.006726324194013462, 'Dropout rate': 0.5066284101927758, 'Epochs': 340}. Best is trial 14 with value: 30.956372698322248.\u001b[0m\n"
     ]
    },
    {
     "name": "stdout",
     "output_type": "stream",
     "text": [
      "lookback 3\n",
      "Epoch:  0/280 - train_loss: 1.6395 - test_loss: 1.094389\n",
      "Epoch:  0/280 - train_loss: 1.1571 - test_loss: 0.712024\n",
      "Epoch: 70/280 - train_loss: 0.3955 - test_loss: 0.375716\n",
      "Epoch: 70/280 - train_loss: 0.3966 - test_loss: 0.464778\n",
      "Epoch: 140/280 - train_loss: 0.3958 - test_loss: 0.359923\n",
      "Epoch: 140/280 - train_loss: 0.3978 - test_loss: 0.373209\n",
      "Epoch: 210/280 - train_loss: 0.3973 - test_loss: 0.325157\n",
      "Epoch: 210/280 - train_loss: 0.3924 - test_loss: 0.305610\n",
      "Epoch: 279/280 - train_loss: 0.3957 - test_loss: 0.361145\n"
     ]
    },
    {
     "name": "stderr",
     "output_type": "stream",
     "text": [
      "\u001b[32m[I 2023-01-30 17:43:55,104]\u001b[0m Trial 97 finished with value: 41.932525617087855 and parameters: {'n layers': 6, 'Hidden size': 141, 'Learning rate': 0.0065050417047510176, 'Dropout rate': 0.4667223081018026, 'Epochs': 340}. Best is trial 14 with value: 30.956372698322248.\u001b[0m\n"
     ]
    },
    {
     "name": "stdout",
     "output_type": "stream",
     "text": [
      "lookback 3\n",
      "Epoch: 279/280 - train_loss: 0.3960 - test_loss: 0.369300\n"
     ]
    },
    {
     "name": "stderr",
     "output_type": "stream",
     "text": [
      "\u001b[32m[I 2023-01-30 17:44:16,543]\u001b[0m Trial 98 finished with value: 42.52915880632189 and parameters: {'n layers': 6, 'Hidden size': 100, 'Learning rate': 0.007781225174997209, 'Dropout rate': 0.460761341803724, 'Epochs': 280}. Best is trial 14 with value: 30.956372698322248.\u001b[0m\n"
     ]
    },
    {
     "name": "stdout",
     "output_type": "stream",
     "text": [
      "Epoch:  0/290 - train_loss: 1.0560 - test_loss: 0.634434\n",
      "Epoch: 72/290 - train_loss: 0.3958 - test_loss: 0.340575\n",
      "Epoch: 144/290 - train_loss: 0.3912 - test_loss: 0.350008\n",
      "Epoch: 216/290 - train_loss: 0.3916 - test_loss: 0.323744\n",
      "Epoch: 288/290 - train_loss: 0.3942 - test_loss: 0.351363\n",
      "Epoch: 289/290 - train_loss: 0.3918 - test_loss: 0.336317\n"
     ]
    },
    {
     "name": "stderr",
     "output_type": "stream",
     "text": [
      "\u001b[32m[I 2023-01-30 17:44:51,619]\u001b[0m Trial 99 finished with value: 38.13448857235282 and parameters: {'n layers': 6, 'Hidden size': 96, 'Learning rate': 0.007847588367049902, 'Dropout rate': 0.6114749130208393, 'Epochs': 290}. Best is trial 14 with value: 30.956372698322248.\u001b[0m\n"
     ]
    },
    {
     "name": "stdout",
     "output_type": "stream",
     "text": [
      "Study statistics for : \n",
      "  Number of finished trials:  100\n",
      "Best trial of city:  Ninh Thuận\n",
      "  Value:  30.956372698322248\n",
      "optimize result of city: Ninh Thuận\n",
      "kết thúc study trong: 98\n"
     ]
    }
   ],
   "source": [
    "#########################\n",
    "# Main Cell for optimize\n",
    "#########################\n",
    "dt_started = datetime.now()\n",
    "\n",
    "##################################################\n",
    "# Input param for Optimize Run\n",
    "ntry = 50\n",
    "njob = -1\n",
    "\n",
    "# Lưu thông tin traceback study và error city trong quá trình optimize\n",
    "l_study_city ={}\n",
    "# l_errCity =[]\n",
    "\n",
    "if __name__ == '__main__':  \n",
    "  best_param = pd.DataFrame()\n",
    "  l_studies = {}\n",
    "  l_errCity =[]\n",
    "\n",
    "  for city in cities:\n",
    "    # Use Tree-structured Parzen Estimator sampler to minimise RMSE\n",
    "    sampler = optuna.samplers.TPESampler()\n",
    "    study = optuna.create_study(sampler=sampler, direction='minimize')\n",
    "\n",
    "    # truyền multiple param vào trong biến trial\n",
    "    obj_func = lambda trial: objective(trial, city)\n",
    "\n",
    "    try:\n",
    "      # Optimise over 100 trials\n",
    "      study.optimize(obj_func, n_trials=ntry, n_jobs=njob)\n",
    "\n",
    "      # Print results\n",
    "      print(\"Study statistics for : \")\n",
    "      print(\"  Number of finished trials: \", len(study.trials))\n",
    "      \n",
    "      print(\"Best trial of city: \",city)\n",
    "      best_trial = study.best_trial\n",
    "      print(\"  Value: \", best_trial.value)   \n",
    "\n",
    "      # lưu best param vào trong biến toàn cục\n",
    "      one_city_param = pd.DataFrame({\n",
    "                              'City': city,\n",
    "                              'Alg_name': 'transformer',\n",
    "                              'Best_value': best_trial.value,\n",
    "                              'n_try_opt': ntry,\n",
    "                              'n Feature': 3, # set cứng\n",
    "                              'Batch Size': 16, # set cứng\n",
    "                              'Lookback Window': 3, # set cứng\n",
    "                              'Epochs': best_trial.params['Epochs'],\n",
    "                              'Hidden Size': best_trial.params['Hidden size'],\n",
    "                              'n Layers': best_trial.params['n layers'],\n",
    "                              'Learning rate': best_trial.params['Learning rate'], \n",
    "                              'Num. filters': '', # Transformer không dùng\n",
    "                              'Dropout rate': best_trial.params['Dropout rate']}, index=[0])\n",
    "      one_city_param.to_excel(prj_path_opt+'/tf/diarrhoea_opt_hyperparam_transformer_'+city+'.xlsx')\n",
    "      best_param = best_param.append(one_city_param)\n",
    "    except:# có error thì lưu vào l_errCity để check lại sau \n",
    "      l_errCity.append(city)\n",
    "    # Plot result\n",
    "    l_studies[city] = study # thêm vào danh sách sài sau\n",
    "    print('optimize result of city: '+ city)\n",
    "    # optuna.visualization.plot_optimization_history(study)\n",
    "    # optuna.visualization.plot_param_importances(study)\n",
    "    # optuna.visualization.plot_slice(study)\n",
    "  \n",
    "  best_param.to_excel(prj_path_opt+'/diarrhoea_opt_hyperparam_transformer2.xlsx')\n",
    "\n",
    "dt_ended = datetime.now()\n",
    "print('kết thúc study trong:', round((dt_ended - dt_started).total_seconds()/60))\n",
    "# print(l_errCity)"
   ]
  }
 ],
 "metadata": {
  "accelerator": "GPU",
  "colab": {
   "provenance": []
  },
  "kernelspec": {
   "display_name": "Python 3",
   "language": "python",
   "name": "python3"
  },
  "language_info": {
   "codemirror_mode": {
    "name": "ipython",
    "version": 3
   },
   "file_extension": ".py",
   "mimetype": "text/x-python",
   "name": "python",
   "nbconvert_exporter": "python",
   "pygments_lexer": "ipython3",
   "version": "3.9.13"
  },
  "toc": {
   "base_numbering": 1,
   "nav_menu": {},
   "number_sections": true,
   "sideBar": true,
   "skip_h1_title": false,
   "title_cell": "Table of Contents",
   "title_sidebar": "Contents",
   "toc_cell": false,
   "toc_position": {},
   "toc_section_display": true,
   "toc_window_display": false
  },
  "vscode": {
   "interpreter": {
    "hash": "24f3299fa11d098f3e36f80146bbe61fdadb7bfe8872ee0c4a379787469f5f10"
   }
  }
 },
 "nbformat": 4,
 "nbformat_minor": 1
}
