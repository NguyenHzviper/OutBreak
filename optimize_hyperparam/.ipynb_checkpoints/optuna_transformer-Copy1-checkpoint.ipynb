{
 "cells": [
  {
   "cell_type": "markdown",
   "metadata": {
    "id": "l4Smx2B-csrq"
   },
   "source": [
    "# Import Library"
   ]
  },
  {
   "cell_type": "code",
   "execution_count": 1,
   "metadata": {
    "colab": {
     "base_uri": "https://localhost:8080/"
    },
    "executionInfo": {
     "elapsed": 17063,
     "status": "ok",
     "timestamp": 1675101187981,
     "user": {
      "displayName": "Nhat Le",
      "userId": "00702307310725808810"
     },
     "user_tz": -420
    },
    "id": "VW4v2IEcTYHa",
    "outputId": "3eae95c8-1dab-4f6b-be39-9e8ffc15a25c"
   },
   "outputs": [
    {
     "name": "stdout",
     "output_type": "stream",
     "text": [
      "Requirement already satisfied: scikit-learn in /home/mlworker/anaconda3/envs/climate_diseases_py39/lib/python3.9/site-packages (1.2.1)\n",
      "Requirement already satisfied: scipy>=1.3.2 in /home/mlworker/anaconda3/envs/climate_diseases_py39/lib/python3.9/site-packages (from scikit-learn) (1.8.1)\n",
      "Requirement already satisfied: numpy>=1.17.3 in /home/mlworker/anaconda3/envs/climate_diseases_py39/lib/python3.9/site-packages (from scikit-learn) (1.23.3)\n",
      "Requirement already satisfied: threadpoolctl>=2.0.0 in /home/mlworker/anaconda3/envs/climate_diseases_py39/lib/python3.9/site-packages (from scikit-learn) (3.1.0)\n",
      "Requirement already satisfied: joblib>=1.1.1 in /home/mlworker/anaconda3/envs/climate_diseases_py39/lib/python3.9/site-packages (from scikit-learn) (1.2.0)\n",
      "\n",
      "\u001b[1m[\u001b[0m\u001b[34;49mnotice\u001b[0m\u001b[1;39;49m]\u001b[0m\u001b[39;49m A new release of pip available: \u001b[0m\u001b[31;49m22.3.1\u001b[0m\u001b[39;49m -> \u001b[0m\u001b[32;49m23.0\u001b[0m\n",
      "\u001b[1m[\u001b[0m\u001b[34;49mnotice\u001b[0m\u001b[1;39;49m]\u001b[0m\u001b[39;49m To update, run: \u001b[0m\u001b[32;49mpip3.9 install --upgrade pip\u001b[0m\n",
      "Note: you may need to restart the kernel to use updated packages.\n",
      "Requirement already satisfied: ftfy in /home/mlworker/anaconda3/envs/climate_diseases_py39/lib/python3.9/site-packages (6.1.1)\n",
      "Requirement already satisfied: wcwidth>=0.2.5 in /home/mlworker/anaconda3/envs/climate_diseases_py39/lib/python3.9/site-packages (from ftfy) (0.2.5)\n",
      "\n",
      "\u001b[1m[\u001b[0m\u001b[34;49mnotice\u001b[0m\u001b[1;39;49m]\u001b[0m\u001b[39;49m A new release of pip available: \u001b[0m\u001b[31;49m22.3.1\u001b[0m\u001b[39;49m -> \u001b[0m\u001b[32;49m23.0\u001b[0m\n",
      "\u001b[1m[\u001b[0m\u001b[34;49mnotice\u001b[0m\u001b[1;39;49m]\u001b[0m\u001b[39;49m To update, run: \u001b[0m\u001b[32;49mpip3.9 install --upgrade pip\u001b[0m\n",
      "Note: you may need to restart the kernel to use updated packages.\n",
      "Requirement already satisfied: optuna in /home/mlworker/anaconda3/envs/climate_diseases_py39/lib/python3.9/site-packages (3.0.2)\n",
      "Requirement already satisfied: scipy<1.9.0,>=1.7.0 in /home/mlworker/anaconda3/envs/climate_diseases_py39/lib/python3.9/site-packages (from optuna) (1.8.1)\n",
      "Requirement already satisfied: tqdm in /home/mlworker/anaconda3/envs/climate_diseases_py39/lib/python3.9/site-packages (from optuna) (4.64.1)\n",
      "Requirement already satisfied: colorlog in /home/mlworker/anaconda3/envs/climate_diseases_py39/lib/python3.9/site-packages (from optuna) (6.7.0)\n",
      "Requirement already satisfied: alembic>=1.5.0 in /home/mlworker/anaconda3/envs/climate_diseases_py39/lib/python3.9/site-packages (from optuna) (1.8.1)\n",
      "Requirement already satisfied: cmaes>=0.8.2 in /home/mlworker/anaconda3/envs/climate_diseases_py39/lib/python3.9/site-packages (from optuna) (0.8.2)\n",
      "Requirement already satisfied: cliff in /home/mlworker/anaconda3/envs/climate_diseases_py39/lib/python3.9/site-packages (from optuna) (4.0.0)\n",
      "Requirement already satisfied: PyYAML in /home/mlworker/anaconda3/envs/climate_diseases_py39/lib/python3.9/site-packages (from optuna) (6.0)\n",
      "Requirement already satisfied: sqlalchemy>=1.3.0 in /home/mlworker/anaconda3/envs/climate_diseases_py39/lib/python3.9/site-packages (from optuna) (1.4.41)\n",
      "Requirement already satisfied: packaging>=20.0 in /home/mlworker/.local/lib/python3.9/site-packages (from optuna) (21.3)\n",
      "Requirement already satisfied: numpy in /home/mlworker/anaconda3/envs/climate_diseases_py39/lib/python3.9/site-packages (from optuna) (1.23.3)\n",
      "Requirement already satisfied: Mako in /home/mlworker/anaconda3/envs/climate_diseases_py39/lib/python3.9/site-packages (from alembic>=1.5.0->optuna) (1.2.3)\n",
      "Requirement already satisfied: pyparsing!=3.0.5,>=2.0.2 in /home/mlworker/.local/lib/python3.9/site-packages (from packaging>=20.0->optuna) (3.0.9)\n",
      "Requirement already satisfied: greenlet!=0.4.17 in /home/mlworker/anaconda3/envs/climate_diseases_py39/lib/python3.9/site-packages (from sqlalchemy>=1.3.0->optuna) (1.1.3)\n",
      "Requirement already satisfied: autopage>=0.4.0 in /home/mlworker/anaconda3/envs/climate_diseases_py39/lib/python3.9/site-packages (from cliff->optuna) (0.5.1)\n",
      "Requirement already satisfied: PrettyTable>=0.7.2 in /home/mlworker/anaconda3/envs/climate_diseases_py39/lib/python3.9/site-packages (from cliff->optuna) (3.4.1)\n",
      "Requirement already satisfied: cmd2>=1.0.0 in /home/mlworker/anaconda3/envs/climate_diseases_py39/lib/python3.9/site-packages (from cliff->optuna) (2.4.2)\n",
      "Requirement already satisfied: stevedore>=2.0.1 in /home/mlworker/anaconda3/envs/climate_diseases_py39/lib/python3.9/site-packages (from cliff->optuna) (4.0.0)\n",
      "Requirement already satisfied: importlib-metadata>=4.4 in /home/mlworker/.local/lib/python3.9/site-packages (from cliff->optuna) (5.0.0)\n",
      "Requirement already satisfied: pyperclip>=1.6 in /home/mlworker/anaconda3/envs/climate_diseases_py39/lib/python3.9/site-packages (from cmd2>=1.0.0->cliff->optuna) (1.8.2)\n",
      "Requirement already satisfied: attrs>=16.3.0 in /home/mlworker/anaconda3/envs/climate_diseases_py39/lib/python3.9/site-packages (from cmd2>=1.0.0->cliff->optuna) (22.1.0)\n",
      "Requirement already satisfied: wcwidth>=0.1.7 in /home/mlworker/anaconda3/envs/climate_diseases_py39/lib/python3.9/site-packages (from cmd2>=1.0.0->cliff->optuna) (0.2.5)\n",
      "Requirement already satisfied: zipp>=0.5 in /home/mlworker/.local/lib/python3.9/site-packages (from importlib-metadata>=4.4->cliff->optuna) (3.8.1)\n",
      "Requirement already satisfied: pbr!=2.1.0,>=2.0.0 in /home/mlworker/anaconda3/envs/climate_diseases_py39/lib/python3.9/site-packages (from stevedore>=2.0.1->cliff->optuna) (5.10.0)\n",
      "Requirement already satisfied: MarkupSafe>=0.9.2 in /home/mlworker/anaconda3/envs/climate_diseases_py39/lib/python3.9/site-packages (from Mako->alembic>=1.5.0->optuna) (2.1.1)\n",
      "\n",
      "\u001b[1m[\u001b[0m\u001b[34;49mnotice\u001b[0m\u001b[1;39;49m]\u001b[0m\u001b[39;49m A new release of pip available: \u001b[0m\u001b[31;49m22.3.1\u001b[0m\u001b[39;49m -> \u001b[0m\u001b[32;49m23.0\u001b[0m\n",
      "\u001b[1m[\u001b[0m\u001b[34;49mnotice\u001b[0m\u001b[1;39;49m]\u001b[0m\u001b[39;49m To update, run: \u001b[0m\u001b[32;49mpip3.9 install --upgrade pip\u001b[0m\n",
      "Note: you may need to restart the kernel to use updated packages.\n"
     ]
    }
   ],
   "source": [
    "# Install packages\n",
    "%pip install -U scikit-learn\n",
    "%pip install ftfy\n",
    "%pip install optuna"
   ]
  },
  {
   "cell_type": "code",
   "execution_count": 2,
   "metadata": {
    "executionInfo": {
     "elapsed": 2280,
     "status": "ok",
     "timestamp": 1675101190254,
     "user": {
      "displayName": "Nhat Le",
      "userId": "00702307310725808810"
     },
     "user_tz": -420
    },
    "id": "b8I8S9koHjT_"
   },
   "outputs": [],
   "source": [
    "# Imports\n",
    "\n",
    "# from google.colab import drive\n",
    "import os\n",
    "\n",
    "import traceback\n",
    "import sys\n",
    "import copy\n",
    "import numpy as np\n",
    "import pandas as pd\n",
    "import matplotlib.pyplot as plt\n",
    "from datetime import datetime\n",
    "from sklearn.metrics import mean_squared_error, mean_absolute_error, mean_absolute_percentage_error\n",
    "from sklearn.preprocessing import MinMaxScaler\n",
    "from sklearn.feature_selection import RFE\n",
    "from sklearn.ensemble import RandomForestRegressor\n",
    "import optuna\n",
    "from optuna.trial import TrialState\n",
    "\n",
    "import torch\n",
    "import torch.nn as nn\n",
    "import torch.nn.functional as F\n",
    "from torch.utils.data import TensorDataset, DataLoader\n",
    "from torch.autograd import Variable\n",
    "\n",
    "from ftfy import fix_text\n",
    "import warnings\n",
    "warnings.simplefilter(\"ignore\", UserWarning)\n",
    "\n",
    "from pandas.core.common import SettingWithCopyWarning\n",
    "\n",
    "warnings.simplefilter(action=\"ignore\", category=SettingWithCopyWarning)\n",
    "warnings.simplefilter(action='ignore', category=FutureWarning)\n",
    "\n",
    "import math"
   ]
  },
  {
   "cell_type": "markdown",
   "metadata": {
    "id": "oA7yvJS1czVO"
   },
   "source": [
    "# Set Path"
   ]
  },
  {
   "cell_type": "code",
   "execution_count": 3,
   "metadata": {
    "colab": {
     "base_uri": "https://localhost:8080/"
    },
    "executionInfo": {
     "elapsed": 3325,
     "status": "ok",
     "timestamp": 1675101193568,
     "user": {
      "displayName": "Nhat Le",
      "userId": "00702307310725808810"
     },
     "user_tz": -420
    },
    "id": "MNAuUk6_HVs1",
    "outputId": "9e3b5911-d2e8-4c20-9936-c0cbc4955010"
   },
   "outputs": [],
   "source": [
    "\n",
    "prj_path = '/home/mlworker/Quang/HealthCare/Source_14012023_v4/'\n",
    "data_path = prj_path + \"/data/\"\n",
    "prj_path_opt= prj_path + \"optimize_hyperparam/opt_results/opt_results_12022023_v4/\"\n",
    "\n",
    "os.chdir(prj_path)"
   ]
  },
  {
   "cell_type": "markdown",
   "metadata": {
    "id": "X94Oj9inc8Fk"
   },
   "source": [
    "# Create Dict data for all cities"
   ]
  },
  {
   "cell_type": "code",
   "execution_count": 4,
   "metadata": {
    "executionInfo": {
     "elapsed": 675,
     "status": "ok",
     "timestamp": 1675101194240,
     "user": {
      "displayName": "Nhat Le",
      "userId": "00702307310725808810"
     },
     "user_tz": -420
    },
    "id": "ONDHBTEPRMTu"
   },
   "outputs": [],
   "source": [
    "cities = [\n",
    "     'Tuyên Quang', 'Tây Ninh', 'Vĩnh Phúc', 'Yên Bái', 'Điện Biên',\n",
    "         'Đà Nẵng', 'Đắk Nông', 'Đắk Lắk', 'Đồng Tháp'\n",
    "        ]\n",
    "\n",
    "def get_dict_all_city_data():\n",
    "  cities_data = {}  \n",
    "  for city in cities:\n",
    "    city_result = pd.read_excel(prj_path+'data/new_data/DH/squeezed/squeezed_'+city+'.xlsx')  \n",
    "    # Đoạn này rất quan trọng. Vì việc optimize không được đụng vào 24 tháng (2016-2017) để dự báo. \n",
    "    # Dữ liệu optimize tính từ 1997- 30/12/2015. Sau đó tách ra train và test trên bộ này.\n",
    "    # lọc 2 năm cuối ra khỏi bộ dữ liệu trước khi chạy optimize \n",
    "    # đoạn này áp dụng cho tất cả các bước optimize trong project\n",
    "    city_result = city_result.loc[city_result['year_month'] < '2013-1-1'] \n",
    "    cities_data[city] = city_result\n",
    "  return cities_data\n",
    "\n",
    "dict_full_data = get_dict_all_city_data()"
   ]
  },
  {
   "cell_type": "markdown",
   "metadata": {
    "id": "OUPWuxbOdBlU"
   },
   "source": [
    "# Seed and Configuration"
   ]
  },
  {
   "cell_type": "code",
   "execution_count": 5,
   "metadata": {
    "executionInfo": {
     "elapsed": 6,
     "status": "ok",
     "timestamp": 1675101194240,
     "user": {
      "displayName": "Nhat Le",
      "userId": "00702307310725808810"
     },
     "user_tz": -420
    },
    "id": "fVkHGeUPO6cO"
   },
   "outputs": [],
   "source": [
    "def seed_everything(seed: int):\n",
    "    import random, os\n",
    "    import numpy as np\n",
    "    import torch\n",
    "    \n",
    "    random.seed(seed)\n",
    "    np.random.seed(seed)\n",
    "    torch.manual_seed(seed)\n",
    "\n",
    "seed_everything(42)"
   ]
  },
  {
   "cell_type": "code",
   "execution_count": 6,
   "metadata": {
    "executionInfo": {
     "elapsed": 6,
     "status": "ok",
     "timestamp": 1675101194241,
     "user": {
      "displayName": "Nhat Le",
      "userId": "00702307310725808810"
     },
     "user_tz": -420
    },
    "id": "lEn56jmQtEmD"
   },
   "outputs": [],
   "source": [
    "# Set hyperparameters as args using the Configuration class\n",
    "class Configuration():\n",
    "    def __init__(self):\n",
    "        self.test_size = 24\n",
    "        self.look_back = 3\n",
    "        self.n_predicted_month = 3\n",
    "        self.n_features = 3\n",
    "        self.seed = 42\n",
    "        self.batch_size = 16\n",
    "        self.device = torch.device(\"cuda\")\n",
    "        self.epochs = 300\n",
    "\n",
    "args = Configuration()"
   ]
  },
  {
   "cell_type": "markdown",
   "metadata": {
    "id": "4OyQATbT2nRz"
   },
   "source": [
    "# Pre-processing Functions"
   ]
  },
  {
   "cell_type": "code",
   "execution_count": 7,
   "metadata": {
    "executionInfo": {
     "elapsed": 6,
     "status": "ok",
     "timestamp": 1675101194241,
     "user": {
      "displayName": "Nhat Le",
      "userId": "00702307310725808810"
     },
     "user_tz": -420
    },
    "id": "ukoPuS5CHvdl"
   },
   "outputs": [],
   "source": [
    "# Define data (pre-)processing functions\n",
    "# modification\n",
    "def get_city_data(city_name):\n",
    "    \"\"\"Returns Diarrhoea rate and climate data\"\"\" \n",
    "    city_data = dict_full_data[city_name].drop(columns=['Diarrhoea_cases', 'province', 'year_month',\n",
    "                                                        'Influenza_rates','Dengue_fever_rates',\n",
    "                                                        'Influenza_cases','Dengue_fever_cases', 'year', 'month'], \n",
    "                                                                  axis=1, \n",
    "                                                                  inplace=False)    \n",
    "    return city_data\n",
    "\n",
    "\n",
    "def convert_to_stationary(city_data):\n",
    "    \"\"\"Subtracts previous value for all cols except disease rates\"\"\"\n",
    "    for col_name in city_data.columns:\n",
    "        if col_name != 'Diarrhoea_rates':\n",
    "            try:\n",
    "                city_data[col_name] = city_data[col_name] - city_data[col_name].shift()\n",
    "            except:\n",
    "                print(col_name)\n",
    "    return city_data\n",
    "\n",
    "def impute_missing_value(city_data):\n",
    "    \"\"\"\n",
    "    Cơ bản dữ liệu bị thiếu sót rất nhiều: Như Điện Biên 1997 -2003 là thiếu dữ liệu về bệnh\n",
    "    Hàm này sẽ tự sinh ra dữ liệu bị thiếu. Nếu tháng nào không có số liệu thì tính như sau:\n",
    "    12 tháng đầu không có số liệu thì gán = 0\n",
    "    tháng 13-24 không có số liệu, sẽ lấy giá trị của tháng cùng kỳ năm trước\n",
    "    tháng từ 24 trở đi sẽ lấy giá trị nhỏ nhất của 2 tháng cùng kỳ trong 2 năm gần nhất.\n",
    "    Do Điện Biên bằng 0 nên sau khi xử lý từ 1997 -2003 là đều = 0.  \n",
    "    \"\"\"\n",
    "    for col in city_data.columns:\n",
    "        for index in range(len(city_data[col])):\n",
    "            if np.isnan(city_data[col].iloc[index]):\n",
    "                if index < 12:\n",
    "                    city_data[col].iloc[index] = 0\n",
    "                elif index >= 12 and index <= 24:\n",
    "                    city_data[col].iloc[index] = city_data[col].iloc[index - 12]\n",
    "                else:\n",
    "                    city_data[col].iloc[index] = min(city_data[col].iloc[index - 12], city_data[col].iloc[index - 24])\n",
    "    return city_data"
   ]
  },
  {
   "cell_type": "code",
   "execution_count": 8,
   "metadata": {
    "executionInfo": {
     "elapsed": 6,
     "status": "ok",
     "timestamp": 1675101194241,
     "user": {
      "displayName": "Nhat Le",
      "userId": "00702307310725808810"
     },
     "user_tz": -420
    },
    "id": "RT8LmtHts4fQ"
   },
   "outputs": [],
   "source": [
    "def split_data(data, look_back ):\n",
    "    \"\"\"Splits data into train and test sets based on args (Configuration class)\"\"\"\n",
    "    train = data[: -args.test_size]\n",
    "    print('lookback', look_back)\n",
    "    test = data[-args.test_size - look_back: ]\n",
    "    return train, test"
   ]
  },
  {
   "cell_type": "code",
   "execution_count": 9,
   "metadata": {
    "executionInfo": {
     "elapsed": 7,
     "status": "ok",
     "timestamp": 1675101194242,
     "user": {
      "displayName": "Nhat Le",
      "userId": "00702307310725808810"
     },
     "user_tz": -420
    },
    "id": "6Wdc44U0uMbP"
   },
   "outputs": [],
   "source": [
    "def to_supervised(data, d_in=args.look_back, d_out=args.n_predicted_month, features_list=[]):\n",
    "    \"\"\"\n",
    "    Frames time-series as supervised learning dataset.\n",
    "    \n",
    "    Args:\n",
    "      d_in: lookback window\n",
    "      d_out: number of predicted months\n",
    "      features_list: list of all features **where last col is the disease incidence**\n",
    "\n",
    "    Returns:\n",
    "      Numpy arrays of disease incidence (y) and other predictors (X)\n",
    "    \"\"\"\n",
    "    X, y = list(), list()\n",
    "    for index, _ in enumerate(data):\n",
    "        in_end = index + d_in\n",
    "        out_end = in_end + d_out\n",
    "        if out_end <= len(data):\n",
    "            if len(features_list) == 0 :\n",
    "                X.append(data[index: in_end, :])\n",
    "            else:\n",
    "                X.append(data[index: in_end, features_list])\n",
    "            y.append(data[in_end: out_end, -1])\n",
    "    return np.array(X), np.array(y)"
   ]
  },
  {
   "cell_type": "code",
   "execution_count": 10,
   "metadata": {
    "executionInfo": {
     "elapsed": 6,
     "status": "ok",
     "timestamp": 1675101194242,
     "user": {
      "displayName": "Nhat Le",
      "userId": "00702307310725808810"
     },
     "user_tz": -420
    },
    "id": "x_RfqYtVGTAk"
   },
   "outputs": [],
   "source": [
    "def select_feature(train, specific_data):\n",
    "    \"\"\"Selects args.n_features top features using RFE\"\"\"\n",
    "    train_X, train_y = to_supervised(train, d_in=1, d_out=1)\n",
    "    train_X, train_y = np.squeeze(train_X), np.squeeze(train_y)\n",
    "    rfe = RFE(RandomForestRegressor(n_estimators=500, random_state=args.seed), n_features_to_select=args.n_features)\n",
    "    fit = rfe.fit(train_X, train_y)\n",
    "    important_features = list()\n",
    "    # print(\"Important Feature:\")\n",
    "    for i in range(len(fit.support_)):\n",
    "        if fit.support_[i]:\n",
    "            important_features.append(i)\n",
    "            # print(specific_data.columns[i])\n",
    "    return np.array(important_features)"
   ]
  },
  {
   "cell_type": "code",
   "execution_count": 11,
   "metadata": {
    "executionInfo": {
     "elapsed": 6,
     "status": "ok",
     "timestamp": 1675101194242,
     "user": {
      "displayName": "Nhat Le",
      "userId": "00702307310725808810"
     },
     "user_tz": -420
    },
    "id": "OsgC3mbHV96C"
   },
   "outputs": [],
   "source": [
    "def get_data(train_np, test_np, batch_size, specific_data):\n",
    "    \"\"\"\n",
    "    Returns important feature list and data formatted for input into Pytorch \n",
    "    models\n",
    "    \"\"\"\n",
    "    important_features = select_feature(train_np, specific_data)\n",
    "\n",
    "    train_X, train_y = to_supervised(train_np, features_list=important_features)\n",
    "    test_X, test_y = to_supervised(test_np, features_list=important_features)\n",
    "    train_tensor = TensorDataset(torch.from_numpy(train_X), torch.from_numpy(train_y))\n",
    "    test_tensor = (torch.from_numpy(test_X), torch.from_numpy(test_y))\n",
    "\n",
    "    train_loader = DataLoader(train_tensor, batch_size=batch_size, shuffle=True)\n",
    "\n",
    "    return important_features, train_loader, test_tensor"
   ]
  },
  {
   "cell_type": "code",
   "execution_count": 12,
   "metadata": {
    "executionInfo": {
     "elapsed": 6,
     "status": "ok",
     "timestamp": 1675101194242,
     "user": {
      "displayName": "Nhat Le",
      "userId": "00702307310725808810"
     },
     "user_tz": -420
    },
    "id": "PW18DMZgF5K_"
   },
   "outputs": [],
   "source": [
    "#Define Pytorch LSTM model\n",
    "class MultiVariateLSTM(nn.Module):\n",
    "    def __init__(self, n_feature=3, n_layers=2, hidden_size=50):\n",
    "        super(MultiVariateLSTM, self).__init__()\n",
    "        self.lstm = nn.LSTM(input_size=n_feature, hidden_size=hidden_size, num_layers=n_layers, batch_first=True)\n",
    "        self.linear = nn.Linear(hidden_size, args.n_predicted_month)\n",
    "        self.loss_fn = nn.MSELoss()\n",
    "        self.sigma = nn.Parameter(torch.ones(args.n_predicted_month))\n",
    "    \n",
    "    def forward(self, X_batch, y_batch=None):\n",
    "        output, (last_hidden, _) = self.lstm(X_batch)\n",
    "        last_hidden_vector = output[:, -1, :]\n",
    "        y_predicted = self.linear(last_hidden_vector)\n",
    "        if y_batch != None:\n",
    "            assert y_predicted.size() == y_batch.size()\n",
    "            loss = self.loss_fn(y_predicted, y_batch)\n",
    "            loss = 0.5 * loss / self.sigma**2\n",
    "            loss = loss.sum() + torch.log(1 + self.sigma.prod())\n",
    "            return y_predicted, loss\n",
    "            #return y_predicted, self.loss_fn(y_predicted, y_batch)\n",
    "        else:\n",
    "            return y_predicted\n",
    "    \n",
    "    def predict(self, X):\n",
    "        X = torch.tensor(X, device=args.device)\n",
    "        return self.forward(X)\n",
    "\n",
    "#Define Pytorch LSTM-ATT model\n",
    "class MultiVariateLSTM_Attention(nn.Module):\n",
    "    def __init__(self, n_feature=3, n_layers=2, hidden_size=50):\n",
    "        super(MultiVariateLSTM_Attention, self).__init__()\n",
    "        self.lstm = nn.LSTM(input_size=n_feature, hidden_size=hidden_size, num_layers=n_layers, batch_first=True)\n",
    "        self.attention_linear = nn.Linear(hidden_size, hidden_size)\n",
    "        # self.linear = nn.Linear(hidden_size*2, args.n_predicted_month)\n",
    "        self.linear = nn.Linear(hidden_size, args.n_predicted_month)\n",
    "        self.loss_fn = nn.MSELoss()\n",
    "        self.sigma = nn.Parameter(torch.ones(args.n_predicted_month))\n",
    "    \n",
    "    def forward(self, X_batch, y_batch=None):\n",
    "        output, (last_hidden, _) = self.lstm(X_batch)\n",
    "        last_hidden_vector = last_hidden[-1]\n",
    "        remain_hidden_vector = output\n",
    "        e_t = remain_hidden_vector.bmm(self.attention_linear(last_hidden_vector).unsqueeze(2)).squeeze(-1)\n",
    "        alpha_t = F.softmax(e_t, dim=1)\n",
    "        attenion_vector = remain_hidden_vector.transpose(2, 1).bmm(alpha_t.unsqueeze(2)).squeeze(-1)\n",
    "        # combine_vector = torch.cat((last_hidden_vector, attenion_vector), dim=1)\n",
    "        # combine_vector = last_hidden_vector + attenion_vector\n",
    "        y_predicted = self.linear(attenion_vector)\n",
    "        if y_batch != None:\n",
    "            assert y_predicted.size() == y_batch.size()\n",
    "            loss = self.loss_fn(y_predicted, y_batch)\n",
    "            loss = 0.5 * loss / self.sigma**2\n",
    "            loss = loss.sum() + torch.log(1 + self.sigma.prod())\n",
    "            return y_predicted, loss\n",
    "            # return y_predicted, self.loss_fn(y_predicted, y_batch)\n",
    "        else:\n",
    "            return y_predicted\n",
    "    \n",
    "    def predict(self, X):\n",
    "        X = torch.tensor(X, device=args.device)\n",
    "        return self.forward(X)\n",
    "\n",
    "# Define Pytorch CNN model\n",
    "class MultivariateCNN(nn.Module):\n",
    "    def __init__(self, num_filters=[100, 100, 100], dropout=0.01):\n",
    "        super(MultivariateCNN, self).__init__()\n",
    "        self.loss_fn = loss = nn.MSELoss()\n",
    "        self.filter_sizes = [1, 2, 3]\n",
    "        self.conv1d_list = nn.ModuleList([nn.Conv1d(args.n_features, num_filters[i], self.filter_sizes[i]) for i in range(len(self.filter_sizes))])\n",
    "        self.linear = nn.Linear(np.sum(num_filters), args.n_predicted_month)\n",
    "        self.dropout = nn.Dropout(dropout)\n",
    "        self.sigma = nn.Parameter(torch.ones(args.n_predicted_month))\n",
    "\n",
    "    def forward(self, X_batch, y_batch=None):\n",
    "        X_batch = X_batch.permute(0, 2, 1)  #(batch_size, n_features, n_look_back)\n",
    "        X_conv_list = [F.relu(conv1d(X_batch)) for conv1d in self.conv1d_list]\n",
    "        X_pool_list = [F.max_pool1d(x_conv, kernel_size=x_conv.shape[2]) for x_conv in X_conv_list]\n",
    "        X_fc = torch.cat([x_pool.squeeze(dim=2) for x_pool in X_pool_list], dim=1)\n",
    "        y_predicted = self.linear(self.dropout(X_fc))\n",
    "        if y_batch != None:\n",
    "            assert y_predicted.size() == y_batch.size()\n",
    "            loss = self.loss_fn(y_predicted, y_batch)\n",
    "            loss = 0.5 * loss / self.sigma**2\n",
    "            loss = loss.sum() + torch.log(1 + self.sigma.prod())\n",
    "            return y_predicted, loss\n",
    "            # return y_predicted, self.loss_fn(y_predicted, y_batch)\n",
    "        else:\n",
    "            return y_predicted\n",
    "\n",
    "    def predict(self, X):\n",
    "        X = torch.tensor(X, device=args.device)\n",
    "        return self.forward(X)"
   ]
  },
  {
   "cell_type": "markdown",
   "metadata": {
    "id": "Zs3TB2E72MDb"
   },
   "source": [
    "# Define Transformer Model"
   ]
  },
  {
   "cell_type": "code",
   "execution_count": 13,
   "metadata": {
    "executionInfo": {
     "elapsed": 7,
     "status": "ok",
     "timestamp": 1675101194243,
     "user": {
      "displayName": "Nhat Le",
      "userId": "00702307310725808810"
     },
     "user_tz": -420
    },
    "id": "ZvmfYUt4vWeP"
   },
   "outputs": [],
   "source": [
    "# Define Pytorch Transformer model\n",
    "class PositionalEncoder(nn.Module):\n",
    "    def __init__(self, d_model=3, n_feature=3, dropout=0.1):\n",
    "        super().__init__()\n",
    "        \n",
    "        self.d_model = d_model\n",
    "        self.dropout = nn.Dropout(dropout)\n",
    "        \n",
    "        pe = torch.zeros(n_feature, d_model)\n",
    "        for pos in range(n_feature):\n",
    "            for i in range(0, d_model, 2):\n",
    "                pe[pos, i] = math.sin(pos/(10000**(2*i/d_model)))\n",
    "                if i + 1 < d_model:\n",
    "                    pe[pos, i+1] = math.cos(pos/(10000**((2*i+1)/d_model)))\n",
    "        pe = pe.unsqueeze(0)        \n",
    "        self.register_buffer('pe', pe)\n",
    "    \n",
    "    def forward(self, x):\n",
    "        x = x*math.sqrt(self.d_model)\n",
    "        length = x.size(1)\n",
    "        pe = Variable(self.pe[:, :length], requires_grad=False)\n",
    "        if x.is_cuda:\n",
    "            pe.cuda()\n",
    "        x = x + pe\n",
    "        x = self.dropout(x)\n",
    "        \n",
    "        return x\n",
    "\n",
    "class TransformerModel(nn.Module):\n",
    "    def __init__(self, d_input=3, n_head=3, hidden_size=256, n_layers=3, dropout=0.5):\n",
    "        super(TransformerModel, self).__init__()\n",
    "        self.hidden_size = hidden_size\n",
    "        self.pe = PositionalEncoder(dropout=dropout)\n",
    "        encoder_layers = nn.TransformerEncoderLayer(d_model=d_input, nhead=n_head, dim_feedforward=hidden_size, dropout=dropout, activation='gelu')\n",
    "        self.transformer_encoder = nn.TransformerEncoder(encoder_layers, n_layers)\n",
    "        self.decoder = nn.Linear(d_input*n_head, args.n_predicted_month)\n",
    "        self.sigma = nn.Parameter(torch.ones(args.n_predicted_month))\n",
    "        self.loss_fn = nn.MSELoss()\n",
    "    \n",
    "    def forward(self, X_batch, y_batch=None):\n",
    "        X_batch = self.pe(X_batch)\n",
    "        X_batch = self.transformer_encoder(X_batch)\n",
    "        X_batch = X_batch.view(X_batch.size(0), -1)\n",
    "        \n",
    "        y_predicted = self.decoder(X_batch)\n",
    "        if y_batch != None:\n",
    "            assert y_predicted.size() == y_batch.size()\n",
    "            loss = self.loss_fn(y_predicted, y_batch)\n",
    "            loss = 0.5 * loss / self.sigma**2\n",
    "            loss = loss.sum() + torch.log(1 + self.sigma.prod())\n",
    "            return y_predicted, loss\n",
    "        else:\n",
    "            return y_predicted\n",
    "        return X_batch\n",
    "    \n",
    "    def predict(self, X):\n",
    "        with torch.no_grad():\n",
    "            X = torch.tensor(X, device=args.device)\n",
    "        return self.forward(X).squeeze()"
   ]
  },
  {
   "cell_type": "markdown",
   "metadata": {
    "id": "oaAY5LAp2Htc"
   },
   "source": [
    "# Class Trainer"
   ]
  },
  {
   "cell_type": "code",
   "execution_count": 14,
   "metadata": {
    "executionInfo": {
     "elapsed": 7,
     "status": "ok",
     "timestamp": 1675101194243,
     "user": {
      "displayName": "Nhat Le",
      "userId": "00702307310725808810"
     },
     "user_tz": -420
    },
    "id": "8TvH93W9mNWQ"
   },
   "outputs": [],
   "source": [
    "# Create class to train and evaluate models\n",
    "class Trainer():\n",
    "    def __init__(self, city, model_type, learning_rate, important_features, train_loader, test_tensor, n_layers=2, hidden_size=128, num_filters=[100, 100, 100], dropout=0.01):\n",
    "        \"\"\"\n",
    "        Initialise trainer, allowing input of LSTM, LSTM-ATT, or CNN \n",
    "        hyperparameters. Adam optimiser used for all models.\n",
    "        \"\"\"\n",
    "        self.model_type = model_type    \n",
    "        self.city = city    \n",
    "        self.Model = self.init_model(model_type, n_layers, hidden_size, num_filters, dropout, city)\n",
    "        self.Model.double().to(args.device)\n",
    "        self.optimizer = torch.optim.Adam(self.Model.parameters(), lr=learning_rate)\n",
    "        self.important_features, self.train_loader, self.test_tensor = important_features, train_loader, test_tensor\n",
    "    \n",
    "    def init_model(self, model_type, n_layers, hidden_size, num_filters, dropout, city):\n",
    "        \"\"\"Initialise a model based on whether LSTM, LSTM-ATT, CNN or Transformer is chosen.\"\"\"\n",
    "        model = TransformerModel()\n",
    "        if model_type.lower() == 'lstm':\n",
    "            model = MultiVariateLSTM(args.n_features, n_layers, hidden_size)\n",
    "        elif model_type.lower() == 'lstm_attention':\n",
    "            model = MultiVariateLSTM_Attention(args.n_features, n_layers, hidden_size)\n",
    "        elif model_type.lower() == 'cnn':\n",
    "            model = MultivariateCNN(num_filters, dropout)\n",
    "        elif model_type.lower() == 'transformers':\n",
    "            model = TransformerModel(d_input=args.look_back, n_head=3, hidden_size=hidden_size, n_layers=n_layers, dropout=dropout)\n",
    "        return model\n",
    "\n",
    "    def step(self, batch):\n",
    "        self.Model.train()\n",
    "        X_batch, y_batch = tuple(t.to(args.device) for t in batch)\n",
    "        self.optimizer.zero_grad()\n",
    "        y_pred, loss = self.Model.forward(X_batch, y_batch)\n",
    "        loss.backward()\n",
    "        self.optimizer.step()\n",
    "        return loss.mean().item()\n",
    "\n",
    "    def validation(self):\n",
    "        self.Model.eval()\n",
    "        eval_loss = 0.0\n",
    "\n",
    "        result = {}\n",
    "\n",
    "        y_true = np.array([])\n",
    "        y_pred = np.array([])\n",
    "\n",
    "        X_batch, y_batch = tuple(t.to(args.device) for t in self.test_tensor)\n",
    "        with torch.no_grad():\n",
    "            outputs, loss = self.Model.forward(X_batch, y_batch)\n",
    "            eval_loss = loss.mean().item()\n",
    "\n",
    "        return eval_loss\n",
    "\n",
    "    def train(self, epochs=20):\n",
    "        best_lost = float(\"inf\")\n",
    "        best_model = None\n",
    "        for epoch in range(epochs):\n",
    "            total_loss = 0.0\n",
    "            for batch in self.train_loader:\n",
    "                loss = self.step(batch)\n",
    "                total_loss += loss\n",
    "            train_loss = total_loss/len(self.train_loader)\n",
    "            eval_loss = self.validation()\n",
    "            if eval_loss < best_lost:\n",
    "                best_lost = eval_loss\n",
    "                best_model = copy.deepcopy(self.Model)\n",
    "            if (epoch + 1) == epochs or (epoch + 1) in [c + 1 for c in range(epochs) if c % int(epochs/4) == 0]:\n",
    "                print(f\"Epoch: {epoch:2}/{epochs:2} - train_loss: {train_loss:.4f} - test_loss: {eval_loss:4f}\")\n",
    "        self.Model = best_model\n",
    "        self.Model.eval()\n",
    "        return None\n",
    "\n",
    "    # Lưu model vào trong thư mục models\n",
    "    def save_model_to(self, path = '', city =''):       \n",
    "        torch.save(self.Model, path)\n",
    "\n",
    "    def load_model_to(self, path = ''):       \n",
    "        return torch.load(path)\n",
    "\n",
    "    def evaluate_model(self, np_data=None, plot=True, scaled=True, city=None, k_steps=None, y_scaler =None):\n",
    "        assert scaled, \"data must be scaled\"\n",
    "        self.Model.eval()\n",
    "        tensor_data = torch.from_numpy(np_data)\n",
    "        rmse_list = []\n",
    "        mae_list = [] \n",
    "        mape_list = []\n",
    "\n",
    "        y_predicted_list = []\n",
    "        y_true_list = []\n",
    "\n",
    "        for k_steps in range(1, args.n_predicted_month + 1):\n",
    "            y_predicted = []\n",
    "            y_true = []\n",
    "            for index in range(tensor_data.size(0) - args.look_back):\n",
    "                X = tensor_data[index: index + args.look_back, self.important_features]\n",
    "                # yhat = self.Model.predict(X.unsqueeze(0)).squeeze()\n",
    "\n",
    "                yhat = self.Model.predict(X.unsqueeze(0))\n",
    "                yhat = yhat.squeeze()\n",
    "\n",
    "                y_predicted.append(yhat.detach().cpu().numpy()[k_steps - 1])\n",
    "                y_true.append(tensor_data[index + args.look_back, -1].detach().cpu().numpy())\n",
    "\n",
    "            y_predicted = y_scaler.inverse_transform(np.array(y_predicted).reshape(-1, 1)).reshape(-1, )\n",
    "            y_true = y_scaler.inverse_transform(np.array(y_true).reshape(-1, 1)).reshape(-1, )\n",
    "\n",
    "            rmse = mean_squared_error(y_true, y_predicted, squared=False)\n",
    "            mae = mean_absolute_error(y_true, y_predicted)\n",
    "            mape = mean_absolute_percentage_error(y_true, y_predicted)\n",
    "\n",
    "            rmse_list.append(rmse)\n",
    "            mae_list.append(mae)\n",
    "            mape_list.append(mape)\n",
    "\n",
    "            # print('City: '+self.city+'  _algo:'+self.model_type+'  -RMSE: '+str(rmse))\n",
    "            if plot==True:\n",
    "              plt.grid(True)\n",
    "              plt.plot(y_predicted, label='predicted')\n",
    "              plt.plot(y_true, label='actual')\n",
    "              plt.title(f\"k-steps = {k_steps} - city: \"+self.city+'  _algo:'+self.model_type+'  -RMSE: '+str(rmse))\n",
    "              plt.legend()\n",
    "              plt.show()\n",
    "\n",
    "              plt.show()\n",
    "            y_predicted_list.append(y_predicted)\n",
    "            y_true_list.append(y_true)\n",
    "\n",
    "        return y_true_list, y_predicted_list, rmse_list, mae_list, mape_list"
   ]
  },
  {
   "cell_type": "markdown",
   "metadata": {
    "id": "6gOIdsGo19Oc"
   },
   "source": [
    "# Objective Function"
   ]
  },
  {
   "cell_type": "code",
   "execution_count": 15,
   "metadata": {
    "executionInfo": {
     "elapsed": 6,
     "status": "ok",
     "timestamp": 1675101194243,
     "user": {
      "displayName": "Nhat Le",
      "userId": "00702307310725808810"
     },
     "user_tz": -420
    },
    "id": "8px_TDW2mtRt"
   },
   "outputs": [],
   "source": [
    "def objective(trial, city):\n",
    "    # Define search parameters\n",
    "    n_layers = trial.suggest_int('n layers', 3, 6) # a    \n",
    "    hidden_size = trial.suggest_int('Hidden size', 5, 384, log=True) #b\n",
    "    learning_rate = trial.suggest_loguniform('Learning rate', 1e-4, 1e-2)\n",
    "    dropout = trial.suggest_uniform('Dropout rate', 0.01, 0.80)\n",
    "    args.epochs = trial.suggest_int('Epochs', 100, 500, step=10)\n",
    "    lookback_window = 3 # fix cứng optimize sau\n",
    "\n",
    "    # Pre-process data\n",
    "    specific_data = get_city_data(fix_text(city))\n",
    "    specific_data = impute_missing_value(specific_data)\n",
    "    specific_data = convert_to_stationary(specific_data)\n",
    "    specific_data.dropna(inplace=True)\n",
    "\n",
    "    train, test = split_data(specific_data,lookback_window)\n",
    "\n",
    "    # Fit data scaler to training data\n",
    "    full_scaler = MinMaxScaler().fit(train)\n",
    "    y_scaler = MinMaxScaler().fit(train.values[:, -1].reshape(-1, 1))\n",
    "\n",
    "    # Scale train and test data\n",
    "    train = full_scaler.transform(train)\n",
    "    test = full_scaler.transform(test)\n",
    "\n",
    "    # Get data to run model\n",
    "    important_features, train_loader, test_tensor = get_data(train, test, args.batch_size, specific_data)\n",
    "\n",
    "    # Transformer model\n",
    "    trainer = Trainer(model_type='transformer',\n",
    "                  city = city,\n",
    "                  important_features=important_features,\n",
    "                  train_loader=train_loader,\n",
    "                  test_tensor=test_tensor,\n",
    "                  n_layers=n_layers,\n",
    "                  hidden_size=hidden_size,\n",
    "                  learning_rate=learning_rate,\n",
    "                  dropout=dropout)\n",
    "\n",
    "    # Train model\n",
    "    # trainer.train(epochs=args.epochs, trial=trial)\n",
    "    trainer.train(epochs=args.epochs)\n",
    "\n",
    "    # Evaluate model\n",
    "    y_true, y_pred, rmse_list, mae_list, mape_list = trainer.evaluate_model(np_data=test, plot= False, scaled=True, city=city, y_scaler = y_scaler)\n",
    "    # _, _, rmse, mae, = trainer.evaluate_model(np_data=test, plot=False, scaled=True, city=city, y_scaler=y_scaler)\n",
    "\n",
    "    return mae_list[0]    "
   ]
  },
  {
   "cell_type": "markdown",
   "metadata": {
    "id": "zHbv5lQ7dn3S"
   },
   "source": [
    "# Main Cell For Optimize"
   ]
  },
  {
   "cell_type": "code",
   "execution_count": null,
   "metadata": {
    "colab": {
     "base_uri": "https://localhost:8080/"
    },
    "id": "ggBbhETfXbsk",
    "outputId": "743bc695-4dd4-4b98-e665-df86250c4a04"
   },
   "outputs": [
    {
     "name": "stderr",
     "output_type": "stream",
     "text": [
      "\u001b[32m[I 2023-02-13 01:17:07,945]\u001b[0m A new study created in memory with name: no-name-4bca0d53-3f7f-430c-a8e4-1824a369cd72\u001b[0m\n"
     ]
    },
    {
     "name": "stdout",
     "output_type": "stream",
     "text": [
      "lookback 3\n",
      "lookback 3\n",
      "lookback 3\n",
      "lookback 3\n",
      "lookback 3\n",
      "lookback 3\n",
      "lookback 3\n",
      "lookback 3\n",
      "lookback 3\n",
      "lookbacklookback 3\n",
      "lookback 3\n",
      " 3\n",
      "lookback 3\n",
      "lookback 3\n",
      "lookback lookback 3\n",
      "3\n",
      "lookback 3\n",
      "lookback 3\n",
      "lookback 3\n",
      "lookback 3\n",
      "Epoch:  0/450 - train_loss: 1.2941 - test_loss: 0.925149\n",
      "Epoch:  0/450 - train_loss: 1.4110 - test_loss: 1.154114\n",
      "Epoch:  0/450 - train_loss: 1.5861 - test_loss: 0.794314\n",
      "Epoch:  0/450 - train_loss: 1.1724 - test_loss: 0.766046\n",
      "Epoch:  0/450 - train_loss: 0.9170 - test_loss: 0.659573\n",
      "Epoch:  0/450 - train_loss: 1.4583 - test_loss: 1.026188\n",
      "Epoch:  0/450 - train_loss: 1.2704 - test_loss: 0.794933\n",
      "Epoch:  0/450 - train_loss: 0.9714 - test_loss: 0.980122Epoch:  0/450 - train_loss: 1.5842 - test_loss: 1.468478\n",
      "\n",
      "Epoch:  0/450 - train_loss: 1.3174 - test_loss: 0.851732Epoch:  0/450 - train_loss: 1.8236 - test_loss: 2.877091\n",
      "\n",
      "Epoch:  0/450 - train_loss: 1.7540 - test_loss: 1.794553\n",
      "Epoch:  0/450 - train_loss: 1.0518 - test_loss: 0.818532\n",
      "Epoch:  0/450 - train_loss: 1.3481 - test_loss: 0.926375\n",
      "Epoch:  0/450 - train_loss: 1.6187 - test_loss: 1.257014\n",
      "Epoch:  0/450 - train_loss: 1.2429 - test_loss: 0.813599\n",
      "Epoch:  0/450 - train_loss: 0.9924 - test_loss: 0.757378Epoch:  0/450 - train_loss: 0.9706 - test_loss: 0.705942\n",
      "Epoch:  0/450 - train_loss: 1.2669 - test_loss: 0.754603\n",
      "\n",
      "Epoch:  0/450 - train_loss: 0.8242 - test_loss: 0.682159\n",
      "Epoch: 112/450 - train_loss: 0.2865 - test_loss: 0.327264\n",
      "Epoch: 112/450 - train_loss: 0.3095 - test_loss: 0.296954\n",
      "Epoch: 112/450 - train_loss: 0.3019 - test_loss: 0.349421\n",
      "Epoch: 112/450 - train_loss: 0.2983 - test_loss: 0.326405\n",
      "Epoch: 112/450 - train_loss: 0.3043 - test_loss: 0.339137\n",
      "Epoch: 112/450 - train_loss: 0.3122 - test_loss: 0.311756\n",
      "Epoch: 112/450 - train_loss: 0.5598 - test_loss: 0.551609\n",
      "Epoch: 224/450 - train_loss: 0.2897 - test_loss: 0.315376\n",
      "Epoch: 224/450 - train_loss: 0.3249 - test_loss: 0.299497\n",
      "Epoch: 224/450 - train_loss: 0.3171 - test_loss: 0.360734\n",
      "Epoch: 224/450 - train_loss: 0.3049 - test_loss: 0.320954\n",
      "Epoch: 224/450 - train_loss: 0.2930 - test_loss: 0.342454\n",
      "Epoch: 112/450 - train_loss: 0.3049 - test_loss: 0.304618\n",
      "Epoch: 224/450 - train_loss: 0.3278 - test_loss: 0.306510\n",
      "Epoch: 336/450 - train_loss: 0.2885 - test_loss: 0.311803\n",
      "Epoch: 336/450 - train_loss: 0.3098 - test_loss: 0.304003\n",
      "Epoch: 336/450 - train_loss: 0.2895 - test_loss: 0.330782\n",
      "Epoch: 336/450 - train_loss: 0.3140 - test_loss: 0.298107\n",
      "Epoch: 224/450 - train_loss: 0.3730 - test_loss: 0.402557\n",
      "Epoch: 336/450 - train_loss: 0.2903 - test_loss: 0.350205\n",
      "Epoch: 112/450 - train_loss: 0.3954 - test_loss: 0.400526\n",
      "Epoch: 448/450 - train_loss: 0.2898 - test_loss: 0.312867\n",
      "Epoch: 449/450 - train_loss: 0.2886 - test_loss: 0.319941\n"
     ]
    },
    {
     "name": "stderr",
     "output_type": "stream",
     "text": [
      "\u001b[32m[I 2023-02-13 01:39:29,565]\u001b[0m Trial 7 finished with value: 26.219128771475308 and parameters: {'n layers': 6, 'Hidden size': 33, 'Learning rate': 0.0031659662891437884, 'Dropout rate': 0.718192633983721, 'Epochs': 300}. Best is trial 7 with value: 26.219128771475308.\u001b[0m\n"
     ]
    },
    {
     "name": "stdout",
     "output_type": "stream",
     "text": [
      "lookback 3\n",
      "Epoch: 448/450 - train_loss: 0.2847 - test_loss: 0.292776\n",
      "Epoch: 449/450 - train_loss: 0.2937 - test_loss: 0.292923\n",
      "Epoch: 336/450 - train_loss: 0.3061 - test_loss: 0.293112\n"
     ]
    },
    {
     "name": "stderr",
     "output_type": "stream",
     "text": [
      "\u001b[32m[I 2023-02-13 01:39:40,951]\u001b[0m Trial 16 finished with value: 31.14672702446497 and parameters: {'n layers': 4, 'Hidden size': 110, 'Learning rate': 0.0005385839819431862, 'Dropout rate': 0.15545238036392217, 'Epochs': 180}. Best is trial 7 with value: 26.219128771475308.\u001b[0m\n"
     ]
    },
    {
     "name": "stdout",
     "output_type": "stream",
     "text": [
      "lookback 3\n",
      "Epoch: 448/450 - train_loss: 0.3285 - test_loss: 0.327448\n",
      "Epoch: 449/450 - train_loss: 0.2913 - test_loss: 0.347387\n"
     ]
    },
    {
     "name": "stderr",
     "output_type": "stream",
     "text": [
      "\u001b[32m[I 2023-02-13 01:40:12,233]\u001b[0m Trial 18 finished with value: 25.458915230104854 and parameters: {'n layers': 6, 'Hidden size': 210, 'Learning rate': 0.006102896221064187, 'Dropout rate': 0.42981356436243695, 'Epochs': 290}. Best is trial 18 with value: 25.458915230104854.\u001b[0m\n"
     ]
    },
    {
     "name": "stdout",
     "output_type": "stream",
     "text": [
      "lookback 3\n",
      "Epoch: 448/450 - train_loss: 0.3089 - test_loss: 0.332519\n",
      "Epoch: 449/450 - train_loss: 0.3018 - test_loss: 0.323094\n"
     ]
    },
    {
     "name": "stderr",
     "output_type": "stream",
     "text": [
      "\u001b[32m[I 2023-02-13 01:41:58,149]\u001b[0m Trial 6 finished with value: 27.15749080825867 and parameters: {'n layers': 4, 'Hidden size': 27, 'Learning rate': 0.0012915848100711843, 'Dropout rate': 0.014341123030296584, 'Epochs': 300}. Best is trial 18 with value: 25.458915230104854.\u001b[0m\n"
     ]
    },
    {
     "name": "stdout",
     "output_type": "stream",
     "text": [
      "lookback 3\n",
      "Epoch:  0/400 - train_loss: 1.5019 - test_loss: 1.343377\n",
      "Epoch:  0/400 - train_loss: 1.7519 - test_loss: 1.360525\n",
      "Epoch: 224/450 - train_loss: 0.2929 - test_loss: 0.298347\n",
      "Epoch:  0/400 - train_loss: 2.2820 - test_loss: 2.815407\n",
      "Epoch:  0/400 - train_loss: 1.4062 - test_loss: 0.885060\n",
      "Epoch: 448/450 - train_loss: 0.2878 - test_loss: 0.354573\n",
      "Epoch: 449/450 - train_loss: 0.2936 - test_loss: 0.293397\n",
      "Epoch: 336/450 - train_loss: 0.3104 - test_loss: 0.329801\n"
     ]
    },
    {
     "name": "stderr",
     "output_type": "stream",
     "text": [
      "\u001b[32m[I 2023-02-13 01:44:10,097]\u001b[0m Trial 17 finished with value: 28.65647479292872 and parameters: {'n layers': 4, 'Hidden size': 10, 'Learning rate': 0.002920387098530444, 'Dropout rate': 0.0816044967998077, 'Epochs': 390}. Best is trial 18 with value: 25.458915230104854.\u001b[0m\n"
     ]
    },
    {
     "name": "stdout",
     "output_type": "stream",
     "text": [
      "lookback 3\n",
      "Epoch: 112/450 - train_loss: 0.2934 - test_loss: 0.349028\n",
      "Epoch:  0/430 - train_loss: 1.7355 - test_loss: 0.909258\n",
      "Epoch: 448/450 - train_loss: 0.3067 - test_loss: 0.322876\n",
      "Epoch: 449/450 - train_loss: 0.3039 - test_loss: 0.320196\n"
     ]
    },
    {
     "name": "stderr",
     "output_type": "stream",
     "text": [
      "\u001b[32m[I 2023-02-13 01:45:40,864]\u001b[0m Trial 13 finished with value: 33.04708044279199 and parameters: {'n layers': 6, 'Hidden size': 31, 'Learning rate': 0.0005634349091729883, 'Dropout rate': 0.5325208975533541, 'Epochs': 100}. Best is trial 18 with value: 25.458915230104854.\u001b[0m\n"
     ]
    },
    {
     "name": "stdout",
     "output_type": "stream",
     "text": [
      "lookback 3\n",
      "Epoch: 100/400 - train_loss: 0.2901 - test_loss: 0.342304\n",
      "Epoch: 100/400 - train_loss: 0.5785 - test_loss: 0.571878\n",
      "Epoch: 224/450 - train_loss: 0.3219 - test_loss: 0.316208\n",
      "Epoch: 100/400 - train_loss: 0.5123 - test_loss: 0.514561\n",
      "Epoch:  0/130 - train_loss: 1.1562 - test_loss: 0.766801\n",
      "Epoch: 100/400 - train_loss: 0.3258 - test_loss: 0.294373\n",
      "Epoch: 336/450 - train_loss: 0.2885 - test_loss: 0.338225\n",
      "Epoch: 32/130 - train_loss: 0.2994 - test_loss: 0.370919\n",
      "Epoch: 448/450 - train_loss: 0.3040 - test_loss: 0.326420\n",
      "Epoch: 449/450 - train_loss: 0.2933 - test_loss: 0.328241\n"
     ]
    },
    {
     "name": "stderr",
     "output_type": "stream",
     "text": [
      "\u001b[32m[I 2023-02-13 01:48:31,081]\u001b[0m Trial 19 finished with value: 33.41506274144049 and parameters: {'n layers': 6, 'Hidden size': 162, 'Learning rate': 0.0001286699950020012, 'Dropout rate': 0.5200938239390113, 'Epochs': 450}. Best is trial 18 with value: 25.458915230104854.\u001b[0m\n"
     ]
    },
    {
     "name": "stdout",
     "output_type": "stream",
     "text": [
      "lookback 3\n",
      "Epoch: 107/430 - train_loss: 0.3339 - test_loss: 0.335350\n",
      "Epoch: 200/400 - train_loss: 0.2864 - test_loss: 0.296630\n",
      "Epoch: 64/130 - train_loss: 0.2924 - test_loss: 0.317143\n",
      "Epoch: 112/450 - train_loss: 0.3151 - test_loss: 0.334836\n",
      "Epoch: 200/400 - train_loss: 0.4327 - test_loss: 0.435948\n",
      "Epoch: 200/400 - train_loss: 0.3313 - test_loss: 0.362609\n",
      "Epoch:  0/150 - train_loss: 1.5002 - test_loss: 1.156185\n",
      "Epoch: 96/130 - train_loss: 0.3144 - test_loss: 0.337953\n",
      "Epoch: 200/400 - train_loss: 0.2881 - test_loss: 0.332639\n",
      "Epoch: 37/150 - train_loss: 0.3263 - test_loss: 0.281960\n",
      "Epoch: 128/130 - train_loss: 0.2930 - test_loss: 0.314264\n",
      "Epoch: 129/130 - train_loss: 0.3351 - test_loss: 0.340558\n"
     ]
    },
    {
     "name": "stderr",
     "output_type": "stream",
     "text": [
      "\u001b[32m[I 2023-02-13 01:51:38,432]\u001b[0m Trial 25 finished with value: 27.602662768510953 and parameters: {'n layers': 3, 'Hidden size': 287, 'Learning rate': 0.0093568259174433, 'Dropout rate': 0.7914730944914459, 'Epochs': 130}. Best is trial 18 with value: 25.458915230104854.\u001b[0m\n"
     ]
    },
    {
     "name": "stdout",
     "output_type": "stream",
     "text": [
      "lookback 3\n",
      "Epoch: 300/400 - train_loss: 0.2887 - test_loss: 0.308713\n",
      "Epoch: 300/400 - train_loss: 0.3354 - test_loss: 0.354619\n",
      "Epoch: 214/430 - train_loss: 0.2874 - test_loss: 0.324227\n",
      "Epoch: 74/150 - train_loss: 0.3320 - test_loss: 0.338863\n",
      "Epoch:  0/390 - train_loss: 1.5283 - test_loss: 1.040657\n",
      "Epoch: 300/400 - train_loss: 0.2939 - test_loss: 0.321683\n",
      "Epoch: 448/450 - train_loss: 0.3173 - test_loss: 0.286991\n",
      "Epoch: 449/450 - train_loss: 0.3243 - test_loss: 0.290931\n"
     ]
    },
    {
     "name": "stderr",
     "output_type": "stream",
     "text": [
      "\u001b[32m[I 2023-02-13 01:53:40,315]\u001b[0m Trial 9 finished with value: 27.746249256769516 and parameters: {'n layers': 3, 'Hidden size': 61, 'Learning rate': 0.002481761641294556, 'Dropout rate': 0.4188851793560844, 'Epochs': 340}. Best is trial 18 with value: 25.458915230104854.\u001b[0m\n"
     ]
    },
    {
     "name": "stdout",
     "output_type": "stream",
     "text": [
      "lookback 3\n",
      "Epoch: 336/450 - train_loss: 0.2878 - test_loss: 0.316370\n",
      "Epoch: 300/400 - train_loss: 0.2917 - test_loss: 0.345132\n",
      "Epoch: 111/150 - train_loss: 0.2891 - test_loss: 0.273531\n",
      "Epoch:  0/420 - train_loss: 1.1077 - test_loss: 0.952066\n",
      "Epoch: 399/400 - train_loss: 0.2975 - test_loss: 0.328781\n"
     ]
    },
    {
     "name": "stderr",
     "output_type": "stream",
     "text": [
      "\u001b[32m[I 2023-02-13 01:56:01,514]\u001b[0m Trial 20 finished with value: 30.209023944986587 and parameters: {'n layers': 6, 'Hidden size': 153, 'Learning rate': 0.000679445834798324, 'Dropout rate': 0.31967783585209675, 'Epochs': 240}. Best is trial 18 with value: 25.458915230104854.\u001b[0m\n"
     ]
    },
    {
     "name": "stdout",
     "output_type": "stream",
     "text": [
      "lookback 3\n",
      "Epoch: 224/450 - train_loss: 0.2942 - test_loss: 0.276838\n",
      "Epoch: 399/400 - train_loss: 0.3019 - test_loss: 0.320485\n"
     ]
    },
    {
     "name": "stderr",
     "output_type": "stream",
     "text": [
      "\u001b[32m[I 2023-02-13 01:56:22,471]\u001b[0m Trial 21 finished with value: 34.63693517673719 and parameters: {'n layers': 6, 'Hidden size': 45, 'Learning rate': 0.00012190734361183748, 'Dropout rate': 0.15314233075782854, 'Epochs': 220}. Best is trial 18 with value: 25.458915230104854.\u001b[0m\n"
     ]
    },
    {
     "name": "stdout",
     "output_type": "stream",
     "text": [
      "lookback 3\n",
      "Epoch: 148/150 - train_loss: 0.2883 - test_loss: 0.317295\n",
      "Epoch: 149/150 - train_loss: 0.2913 - test_loss: 0.328687\n"
     ]
    },
    {
     "name": "stderr",
     "output_type": "stream",
     "text": [
      "\u001b[32m[I 2023-02-13 01:56:55,784]\u001b[0m Trial 26 finished with value: 29.517820547954045 and parameters: {'n layers': 6, 'Hidden size': 133, 'Learning rate': 0.0019519259494826416, 'Dropout rate': 0.5041054169865673, 'Epochs': 150}. Best is trial 18 with value: 25.458915230104854.\u001b[0m\n"
     ]
    },
    {
     "name": "stdout",
     "output_type": "stream",
     "text": [
      "lookback 3\n",
      "Epoch: 399/400 - train_loss: 0.2965 - test_loss: 0.316587\n"
     ]
    },
    {
     "name": "stderr",
     "output_type": "stream",
     "text": [
      "\u001b[32m[I 2023-02-13 01:57:31,057]\u001b[0m Trial 22 finished with value: 33.81399025982125 and parameters: {'n layers': 6, 'Hidden size': 7, 'Learning rate': 0.00020319788341900775, 'Dropout rate': 0.28254114388417406, 'Epochs': 440}. Best is trial 18 with value: 25.458915230104854.\u001b[0m\n"
     ]
    },
    {
     "name": "stdout",
     "output_type": "stream",
     "text": [
      "lookback 3\n",
      "Epoch: 321/430 - train_loss: 0.2966 - test_loss: 0.287591\n",
      "Epoch: 97/390 - train_loss: 0.4105 - test_loss: 0.406649\n",
      "Epoch:  0/310 - train_loss: 0.8993 - test_loss: 0.685126\n",
      "Epoch: 112/450 - train_loss: 0.3065 - test_loss: 0.333517\n",
      "Epoch:  0/310 - train_loss: 0.9086 - test_loss: 0.645082\n",
      "Epoch: 399/400 - train_loss: 0.2931 - test_loss: 0.341230\n"
     ]
    },
    {
     "name": "stderr",
     "output_type": "stream",
     "text": [
      "\u001b[32m[I 2023-02-13 02:00:13,121]\u001b[0m Trial 23 finished with value: 29.135774677979594 and parameters: {'n layers': 6, 'Hidden size': 46, 'Learning rate': 0.004445333794359364, 'Dropout rate': 0.11160777885888576, 'Epochs': 400}. Best is trial 18 with value: 25.458915230104854.\u001b[0m\n"
     ]
    },
    {
     "name": "stdout",
     "output_type": "stream",
     "text": [
      "lookback 3\n",
      "Epoch:  0/290 - train_loss: 1.6049 - test_loss: 0.871762\n",
      "Epoch:  0/290 - train_loss: 0.9743 - test_loss: 0.687956\n",
      "Epoch:  0/290 - train_loss: 1.2607 - test_loss: 0.819253\n",
      "Epoch: 448/450 - train_loss: 0.3009 - test_loss: 0.296118\n",
      "Epoch: 105/420 - train_loss: 0.2898 - test_loss: 0.359888\n",
      "Epoch: 449/450 - train_loss: 0.2904 - test_loss: 0.303886\n"
     ]
    },
    {
     "name": "stderr",
     "output_type": "stream",
     "text": [
      "\u001b[32m[I 2023-02-13 02:02:42,247]\u001b[0m Trial 10 finished with value: 31.534389194833476 and parameters: {'n layers': 4, 'Hidden size': 69, 'Learning rate': 0.00024233531146685864, 'Dropout rate': 0.059835238281966546, 'Epochs': 400}. Best is trial 18 with value: 25.458915230104854.\u001b[0m\n"
     ]
    },
    {
     "name": "stdout",
     "output_type": "stream",
     "text": [
      "lookback 3\n",
      "Epoch: 77/310 - train_loss: 0.3026 - test_loss: 0.386196\n",
      "Epoch: 77/310 - train_loss: 0.3071 - test_loss: 0.377565\n",
      "Epoch: 72/290 - train_loss: 0.3285 - test_loss: 0.294043\n",
      "Epoch: 194/390 - train_loss: 0.2949 - test_loss: 0.342269\n",
      "Epoch: 428/430 - train_loss: 0.2872 - test_loss: 0.348836\n",
      "Epoch: 429/430 - train_loss: 0.2942 - test_loss: 0.309055\n"
     ]
    },
    {
     "name": "stderr",
     "output_type": "stream",
     "text": [
      "\u001b[32m[I 2023-02-13 02:03:58,980]\u001b[0m Trial 24 finished with value: 26.79897012638234 and parameters: {'n layers': 3, 'Hidden size': 67, 'Learning rate': 0.002847312878497656, 'Dropout rate': 0.47357176516834903, 'Epochs': 430}. Best is trial 18 with value: 25.458915230104854.\u001b[0m\n"
     ]
    },
    {
     "name": "stdout",
     "output_type": "stream",
     "text": [
      "lookback 3\n",
      "Epoch: 72/290 - train_loss: 0.3321 - test_loss: 0.275173\n",
      "Epoch:  0/310 - train_loss: 0.9029 - test_loss: 0.610300\n",
      "Epoch: 72/290 - train_loss: 0.2954 - test_loss: 0.320648\n",
      "Epoch:  0/310 - train_loss: 0.9568 - test_loss: 0.751450\n",
      "Epoch: 154/310 - train_loss: 0.2928 - test_loss: 0.324603\n",
      "Epoch: 154/310 - train_loss: 0.2930 - test_loss: 0.321290\n",
      "Epoch: 144/290 - train_loss: 0.2934 - test_loss: 0.355154\n",
      "Epoch: 224/450 - train_loss: 0.2930 - test_loss: 0.292102\n",
      "Epoch: 336/450 - train_loss: 0.2991 - test_loss: 0.310123\n",
      "Epoch: 144/290 - train_loss: 0.3086 - test_loss: 0.318957\n",
      "Epoch: 144/290 - train_loss: 0.2896 - test_loss: 0.310336\n",
      "Epoch: 291/390 - train_loss: 0.3079 - test_loss: 0.288542\n",
      "Epoch: 77/310 - train_loss: 0.3338 - test_loss: 0.341215\n",
      "Epoch: 231/310 - train_loss: 0.3266 - test_loss: 0.287936\n",
      "Epoch: 231/310 - train_loss: 0.3354 - test_loss: 0.336069\n",
      "Epoch: 216/290 - train_loss: 0.2879 - test_loss: 0.312909\n",
      "Epoch: 210/420 - train_loss: 0.2968 - test_loss: 0.331132\n",
      "Epoch: 216/290 - train_loss: 0.3428 - test_loss: 0.337108\n",
      "Epoch: 308/310 - train_loss: 0.3018 - test_loss: 0.331284\n",
      "Epoch: 309/310 - train_loss: 0.3095 - test_loss: 0.327902\n"
     ]
    },
    {
     "name": "stderr",
     "output_type": "stream",
     "text": [
      "\u001b[32m[I 2023-02-13 02:08:46,190]\u001b[0m Trial 29 finished with value: 28.036850666125797 and parameters: {'n layers': 5, 'Hidden size': 5, 'Learning rate': 0.008824961356416349, 'Dropout rate': 0.25369381943788827, 'Epochs': 500}. Best is trial 18 with value: 25.458915230104854.\u001b[0m\n"
     ]
    },
    {
     "name": "stdout",
     "output_type": "stream",
     "text": [
      "lookback 3\n",
      "Epoch: 308/310 - train_loss: 0.2867 - test_loss: 0.325310\n",
      "Epoch: 288/290 - train_loss: 0.3018 - test_loss: 0.311567\n",
      "Epoch: 309/310 - train_loss: 0.2901 - test_loss: 0.323761\n",
      "Epoch: 289/290 - train_loss: 0.3170 - test_loss: 0.311655\n"
     ]
    },
    {
     "name": "stderr",
     "output_type": "stream",
     "text": [
      "\u001b[32m[I 2023-02-13 02:09:04,737]\u001b[0m Trial 30 finished with value: 23.257235237802433 and parameters: {'n layers': 5, 'Hidden size': 10, 'Learning rate': 0.00954234916648344, 'Dropout rate': 0.7516574867690913, 'Epochs': 300}. Best is trial 30 with value: 23.257235237802433.\u001b[0m\n"
     ]
    },
    {
     "name": "stdout",
     "output_type": "stream",
     "text": [
      "lookback 3\n"
     ]
    },
    {
     "name": "stderr",
     "output_type": "stream",
     "text": [
      "\u001b[32m[I 2023-02-13 02:09:06,749]\u001b[0m Trial 32 finished with value: 26.85336702435937 and parameters: {'n layers': 5, 'Hidden size': 16, 'Learning rate': 0.006746168816821677, 'Dropout rate': 0.7502155265738274, 'Epochs': 310}. Best is trial 30 with value: 23.257235237802433.\u001b[0m\n"
     ]
    },
    {
     "name": "stdout",
     "output_type": "stream",
     "text": [
      "lookback 3\n",
      "Epoch: 216/290 - train_loss: 0.3018 - test_loss: 0.308756\n",
      "Epoch: 154/310 - train_loss: 0.2985 - test_loss: 0.285541\n",
      "Epoch: 77/310 - train_loss: 0.2973 - test_loss: 0.314587\n",
      "Epoch: 388/390 - train_loss: 0.2947 - test_loss: 0.318393\n",
      "Epoch: 389/390 - train_loss: 0.3039 - test_loss: 0.312972\n"
     ]
    },
    {
     "name": "stderr",
     "output_type": "stream",
     "text": [
      "\u001b[32m[I 2023-02-13 02:10:47,827]\u001b[0m Trial 27 finished with value: 32.9830575691588 and parameters: {'n layers': 3, 'Hidden size': 16, 'Learning rate': 0.00027568504926921036, 'Dropout rate': 0.37343433513910373, 'Epochs': 390}. Best is trial 30 with value: 23.257235237802433.\u001b[0m\n"
     ]
    },
    {
     "name": "stdout",
     "output_type": "stream",
     "text": [
      "lookback 3\n",
      "Epoch:  0/260 - train_loss: 1.1257 - test_loss: 0.752388\n",
      "Epoch: 288/290 - train_loss: 0.3186 - test_loss: 0.295144\n",
      "Epoch:  0/260 - train_loss: 1.3456 - test_loss: 1.282830\n",
      "Epoch: 289/290 - train_loss: 0.3272 - test_loss: 0.335508\n",
      "Epoch:  0/260 - train_loss: 1.3749 - test_loss: 0.922975\n"
     ]
    },
    {
     "name": "stderr",
     "output_type": "stream",
     "text": [
      "\u001b[32m[I 2023-02-13 02:12:23,870]\u001b[0m Trial 33 finished with value: 26.920226643535006 and parameters: {'n layers': 5, 'Hidden size': 14, 'Learning rate': 0.009591203062148477, 'Dropout rate': 0.7457120148540308, 'Epochs': 290}. Best is trial 30 with value: 23.257235237802433.\u001b[0m\n"
     ]
    },
    {
     "name": "stdout",
     "output_type": "stream",
     "text": [
      "lookback 3\n",
      "Epoch:  0/250 - train_loss: 0.9517 - test_loss: 0.716729\n",
      "Epoch:  0/250 - train_loss: 0.9709 - test_loss: 0.765451\n",
      "Epoch: 288/290 - train_loss: 0.3068 - test_loss: 0.315808\n",
      "Epoch: 289/290 - train_loss: 0.3686 - test_loss: 0.316764\n",
      "Epoch: 231/310 - train_loss: 0.3293 - test_loss: 0.314806\n"
     ]
    },
    {
     "name": "stderr",
     "output_type": "stream",
     "text": [
      "\u001b[32m[I 2023-02-13 02:14:32,755]\u001b[0m Trial 31 finished with value: 28.449428128663058 and parameters: {'n layers': 5, 'Hidden size': 14, 'Learning rate': 0.009122247377887492, 'Dropout rate': 0.7168743110441168, 'Epochs': 290}. Best is trial 30 with value: 23.257235237802433.\u001b[0m\n"
     ]
    },
    {
     "name": "stdout",
     "output_type": "stream",
     "text": [
      "lookback 3\n",
      "Epoch: 315/420 - train_loss: 0.2890 - test_loss: 0.316540\n",
      "Epoch: 65/260 - train_loss: 0.2986 - test_loss: 0.304406\n",
      "Epoch: 65/260 - train_loss: 0.3179 - test_loss: 0.356806\n",
      "Epoch: 65/260 - train_loss: 0.3295 - test_loss: 0.289384\n",
      "Epoch: 154/310 - train_loss: 0.3076 - test_loss: 0.339736\n",
      "Epoch:  0/230 - train_loss: 1.0595 - test_loss: 0.788160\n",
      "Epoch: 62/250 - train_loss: 0.3364 - test_loss: 0.371709\n",
      "Epoch: 62/250 - train_loss: 0.2932 - test_loss: 0.347179\n",
      "Epoch: 130/260 - train_loss: 0.2885 - test_loss: 0.303932\n",
      "Epoch: 308/310 - train_loss: 0.2970 - test_loss: 0.304209\n",
      "Epoch: 130/260 - train_loss: 0.2932 - test_loss: 0.296101\n",
      "Epoch: 309/310 - train_loss: 0.2976 - test_loss: 0.349320\n"
     ]
    },
    {
     "name": "stderr",
     "output_type": "stream",
     "text": [
      "\u001b[32m[I 2023-02-13 02:17:21,649]\u001b[0m Trial 35 finished with value: 23.96703978837064 and parameters: {'n layers': 5, 'Hidden size': 14, 'Learning rate': 0.00922486423060081, 'Dropout rate': 0.6907399147119192, 'Epochs': 310}. Best is trial 30 with value: 23.257235237802433.\u001b[0m\n"
     ]
    },
    {
     "name": "stdout",
     "output_type": "stream",
     "text": [
      "lookback 3\n",
      "Epoch: 130/260 - train_loss: 0.3295 - test_loss: 0.340667\n",
      "Epoch: 448/450 - train_loss: 0.2895 - test_loss: 0.305736\n",
      "Epoch: 449/450 - train_loss: 0.3087 - test_loss: 0.305406\n"
     ]
    },
    {
     "name": "stderr",
     "output_type": "stream",
     "text": [
      "\u001b[32m[I 2023-02-13 02:18:29,277]\u001b[0m Trial 1 finished with value: 28.143364077702483 and parameters: {'n layers': 6, 'Hidden size': 9, 'Learning rate': 0.001051524259956464, 'Dropout rate': 0.38234068703168567, 'Epochs': 110}. Best is trial 30 with value: 23.257235237802433.\u001b[0m\n"
     ]
    },
    {
     "name": "stdout",
     "output_type": "stream",
     "text": [
      "lookback 3\n",
      "Epoch: 112/450 - train_loss: 0.5007 - test_loss: 0.482044\n",
      "Epoch: 57/230 - train_loss: 0.2983 - test_loss: 0.332898\n",
      "Epoch: 124/250 - train_loss: 0.2970 - test_loss: 0.344607\n",
      "Epoch: 124/250 - train_loss: 0.2918 - test_loss: 0.373715\n",
      "Epoch:  0/350 - train_loss: 1.1013 - test_loss: 0.731404\n",
      "Epoch: 195/260 - train_loss: 0.2890 - test_loss: 0.315355\n",
      "Epoch: 195/260 - train_loss: 0.3228 - test_loss: 0.256401\n",
      "Epoch: 195/260 - train_loss: 0.2867 - test_loss: 0.334353\n",
      "Epoch:  0/350 - train_loss: 1.2787 - test_loss: 0.835699\n",
      "Epoch: 419/420 - train_loss: 0.2936 - test_loss: 0.346187\n"
     ]
    },
    {
     "name": "stderr",
     "output_type": "stream",
     "text": [
      "\u001b[32m[I 2023-02-13 02:21:01,594]\u001b[0m Trial 28 finished with value: 28.041113754662295 and parameters: {'n layers': 5, 'Hidden size': 7, 'Learning rate': 0.0021017982393649547, 'Dropout rate': 0.21452116234672716, 'Epochs': 420}. Best is trial 30 with value: 23.257235237802433.\u001b[0m\n"
     ]
    },
    {
     "name": "stdout",
     "output_type": "stream",
     "text": [
      "lookback 3\n",
      "Epoch: 186/250 - train_loss: 0.3252 - test_loss: 0.320931\n",
      "Epoch: 114/230 - train_loss: 0.2908 - test_loss: 0.356154\n",
      "Epoch: 186/250 - train_loss: 0.3105 - test_loss: 0.299307\n",
      "Epoch: 259/260 - train_loss: 0.2944 - test_loss: 0.352953\n"
     ]
    },
    {
     "name": "stderr",
     "output_type": "stream",
     "text": [
      "\u001b[32m[I 2023-02-13 02:21:51,045]\u001b[0m Trial 36 finished with value: 24.553539315325875 and parameters: {'n layers': 5, 'Hidden size': 16, 'Learning rate': 0.00493022333754074, 'Dropout rate': 0.6664931831148897, 'Epochs': 290}. Best is trial 30 with value: 23.257235237802433.\u001b[0m\n"
     ]
    },
    {
     "name": "stdout",
     "output_type": "stream",
     "text": [
      "lookback 3\n",
      "Epoch: 231/310 - train_loss: 0.3123 - test_loss: 0.320132\n",
      "Epoch: 259/260 - train_loss: 0.2930 - test_loss: 0.285901\n"
     ]
    },
    {
     "name": "stderr",
     "output_type": "stream",
     "text": [
      "\u001b[32m[I 2023-02-13 02:22:35,121]\u001b[0m Trial 37 finished with value: 26.968030897115852 and parameters: {'n layers': 5, 'Hidden size': 12, 'Learning rate': 0.00487614195008174, 'Dropout rate': 0.6432460396596132, 'Epochs': 250}. Best is trial 30 with value: 23.257235237802433.\u001b[0m\n"
     ]
    },
    {
     "name": "stdout",
     "output_type": "stream",
     "text": [
      "lookback 3\n",
      "Epoch: 259/260 - train_loss: 0.2900 - test_loss: 0.352684\n"
     ]
    },
    {
     "name": "stderr",
     "output_type": "stream",
     "text": [
      "\u001b[32m[I 2023-02-13 02:22:55,394]\u001b[0m Trial 38 finished with value: 27.264620750260303 and parameters: {'n layers': 5, 'Hidden size': 353, 'Learning rate': 0.004779694946633868, 'Dropout rate': 0.6350233499514932, 'Epochs': 250}. Best is trial 30 with value: 23.257235237802433.\u001b[0m\n"
     ]
    },
    {
     "name": "stdout",
     "output_type": "stream",
     "text": [
      "lookback 3\n",
      "Epoch: 87/350 - train_loss: 0.2948 - test_loss: 0.306432\n",
      "Epoch:  0/350 - train_loss: 0.9087 - test_loss: 0.715805\n",
      "Epoch: 336/450 - train_loss: 0.2922 - test_loss: 0.326360\n",
      "Epoch:  0/350 - train_loss: 1.0972 - test_loss: 0.688728\n",
      "Epoch: 248/250 - train_loss: 0.2950 - test_loss: 0.278344\n",
      "Epoch: 249/250 - train_loss: 0.2861 - test_loss: 0.331292\n"
     ]
    },
    {
     "name": "stderr",
     "output_type": "stream",
     "text": [
      "\u001b[32m[I 2023-02-13 02:25:38,906]\u001b[0m Trial 40 finished with value: 29.641966219851792 and parameters: {'n layers': 5, 'Hidden size': 332, 'Learning rate': 0.004782463030088238, 'Dropout rate': 0.6676162217817149, 'Epochs': 250}. Best is trial 30 with value: 23.257235237802433.\u001b[0m\n"
     ]
    },
    {
     "name": "stdout",
     "output_type": "stream",
     "text": [
      "lookback 3\n",
      "Epoch:  0/330 - train_loss: 0.9836 - test_loss: 0.704795\n",
      "Epoch: 171/230 - train_loss: 0.2982 - test_loss: 0.306396\n",
      "Epoch:  0/330 - train_loss: 1.2952 - test_loss: 1.055918\n",
      "Epoch: 248/250 - train_loss: 0.2954 - test_loss: 0.346333\n",
      "Epoch: 224/450 - train_loss: 0.3146 - test_loss: 0.318592\n",
      "Epoch: 249/250 - train_loss: 0.2926 - test_loss: 0.295819\n"
     ]
    },
    {
     "name": "stderr",
     "output_type": "stream",
     "text": [
      "\u001b[32m[I 2023-02-13 02:26:15,429]\u001b[0m Trial 39 finished with value: 28.507683835868196 and parameters: {'n layers': 5, 'Hidden size': 330, 'Learning rate': 0.005629558365858385, 'Dropout rate': 0.6474263499629955, 'Epochs': 260}. Best is trial 30 with value: 23.257235237802433.\u001b[0m\n"
     ]
    },
    {
     "name": "stdout",
     "output_type": "stream",
     "text": [
      "lookback 3\n",
      "Epoch:  0/350 - train_loss: 1.1754 - test_loss: 0.875811\n",
      "Epoch: 308/310 - train_loss: 0.2869 - test_loss: 0.313640\n",
      "Epoch: 309/310 - train_loss: 0.3087 - test_loss: 0.324631\n"
     ]
    },
    {
     "name": "stderr",
     "output_type": "stream",
     "text": [
      "\u001b[32m[I 2023-02-13 02:28:16,257]\u001b[0m Trial 34 finished with value: 29.89220854125972 and parameters: {'n layers': 5, 'Hidden size': 19, 'Learning rate': 0.00833323079306227, 'Dropout rate': 0.7299862088431364, 'Epochs': 290}. Best is trial 30 with value: 23.257235237802433.\u001b[0m\n"
     ]
    },
    {
     "name": "stdout",
     "output_type": "stream",
     "text": [
      "Epoch:  0/350 - train_loss: 1.2119 - test_loss: 0.714241\n",
      "Epoch: 87/350 - train_loss: 0.2912 - test_loss: 0.310614\n",
      "Epoch: 174/350 - train_loss: 0.3175 - test_loss: 0.304326\n",
      "Epoch: 228/230 - train_loss: 0.2974 - test_loss: 0.346290\n",
      "Epoch: 229/230 - train_loss: 0.3341 - test_loss: 0.334922\n",
      "Epoch: 87/350 - train_loss: 0.3283 - test_loss: 0.287573\n"
     ]
    },
    {
     "name": "stderr",
     "output_type": "stream",
     "text": [
      "\u001b[32m[I 2023-02-13 02:29:13,192]\u001b[0m Trial 41 finished with value: 31.005102404084283 and parameters: {'n layers': 5, 'Hidden size': 352, 'Learning rate': 0.0050046654289379626, 'Dropout rate': 0.6281727860442805, 'Epochs': 230}. Best is trial 30 with value: 23.257235237802433.\u001b[0m\n"
     ]
    },
    {
     "name": "stdout",
     "output_type": "stream",
     "text": [
      "Epoch: 82/330 - train_loss: 0.3037 - test_loss: 0.317238\n",
      "Epoch: 87/350 - train_loss: 0.2918 - test_loss: 0.300489\n",
      "Epoch: 82/330 - train_loss: 0.2976 - test_loss: 0.316183\n",
      "Epoch: 87/350 - train_loss: 0.3105 - test_loss: 0.321838\n",
      "Epoch: 261/350 - train_loss: 0.3056 - test_loss: 0.320653\n",
      "Epoch: 87/350 - train_loss: 0.2900 - test_loss: 0.301822\n",
      "Epoch: 174/350 - train_loss: 0.2943 - test_loss: 0.324099\n",
      "Epoch: 164/330 - train_loss: 0.3116 - test_loss: 0.346794\n",
      "Epoch: 164/330 - train_loss: 0.3237 - test_loss: 0.306375\n",
      "Epoch: 174/350 - train_loss: 0.3101 - test_loss: 0.333148\n",
      "Epoch: 174/350 - train_loss: 0.2894 - test_loss: 0.332300\n",
      "Epoch: 246/330 - train_loss: 0.3100 - test_loss: 0.343501\n",
      "Epoch: 261/350 - train_loss: 0.3272 - test_loss: 0.273433\n",
      "Epoch: 246/330 - train_loss: 0.3405 - test_loss: 0.311624\n",
      "Epoch: 348/350 - train_loss: 0.2890 - test_loss: 0.338662\n",
      "Epoch: 349/350 - train_loss: 0.2939 - test_loss: 0.302890\n"
     ]
    },
    {
     "name": "stderr",
     "output_type": "stream",
     "text": [
      "\u001b[32m[I 2023-02-13 02:33:04,129]\u001b[0m Trial 42 finished with value: 32.57630206287249 and parameters: {'n layers': 5, 'Hidden size': 369, 'Learning rate': 0.005161347546058687, 'Dropout rate': 0.567301510572215, 'Epochs': 240}. Best is trial 30 with value: 23.257235237802433.\u001b[0m\n"
     ]
    },
    {
     "name": "stdout",
     "output_type": "stream",
     "text": [
      "Epoch: 174/350 - train_loss: 0.3139 - test_loss: 0.299148\n",
      "Epoch: 174/350 - train_loss: 0.2887 - test_loss: 0.320877\n",
      "Epoch: 448/450 - train_loss: 0.2954 - test_loss: 0.312655\n",
      "Epoch: 449/450 - train_loss: 0.2853 - test_loss: 0.350239\n"
     ]
    },
    {
     "name": "stderr",
     "output_type": "stream",
     "text": [
      "\u001b[32m[I 2023-02-13 02:34:06,067]\u001b[0m Trial 8 finished with value: 27.876351540728677 and parameters: {'n layers': 5, 'Hidden size': 209, 'Learning rate': 0.0018154008338656152, 'Dropout rate': 0.3689672440602961, 'Epochs': 470}. Best is trial 30 with value: 23.257235237802433.\u001b[0m\n"
     ]
    },
    {
     "name": "stdout",
     "output_type": "stream",
     "text": [
      "Epoch: 261/350 - train_loss: 0.2947 - test_loss: 0.381161\n",
      "Epoch: 328/330 - train_loss: 0.2904 - test_loss: 0.285247\n",
      "Epoch: 329/330 - train_loss: 0.3167 - test_loss: 0.343375\n"
     ]
    },
    {
     "name": "stderr",
     "output_type": "stream",
     "text": [
      "\u001b[32m[I 2023-02-13 02:34:38,533]\u001b[0m Trial 46 finished with value: 26.238754431462777 and parameters: {'n layers': 5, 'Hidden size': 22, 'Learning rate': 0.004596471141496333, 'Dropout rate': 0.6174225631755108, 'Epochs': 350}. Best is trial 30 with value: 23.257235237802433.\u001b[0m\n"
     ]
    },
    {
     "name": "stdout",
     "output_type": "stream",
     "text": [
      "Epoch: 348/350 - train_loss: 0.2895 - test_loss: 0.318261\n",
      "Epoch: 328/330 - train_loss: 0.3148 - test_loss: 0.311334\n",
      "Epoch: 349/350 - train_loss: 0.2918 - test_loss: 0.308170\n",
      "Epoch: 329/330 - train_loss: 0.2908 - test_loss: 0.285657\n"
     ]
    },
    {
     "name": "stderr",
     "output_type": "stream",
     "text": [
      "\u001b[32m[I 2023-02-13 02:34:47,925]\u001b[0m Trial 45 finished with value: 27.25472209253759 and parameters: {'n layers': 5, 'Hidden size': 21, 'Learning rate': 0.004941862265373332, 'Dropout rate': 0.6190007579945911, 'Epochs': 350}. Best is trial 30 with value: 23.257235237802433.\u001b[0m\n",
      "\u001b[32m[I 2023-02-13 02:34:49,557]\u001b[0m Trial 47 finished with value: 27.921949769075013 and parameters: {'n layers': 5, 'Hidden size': 19, 'Learning rate': 0.00673933613277121, 'Dropout rate': 0.6080280075606946, 'Epochs': 350}. Best is trial 30 with value: 23.257235237802433.\u001b[0m\n"
     ]
    },
    {
     "name": "stdout",
     "output_type": "stream",
     "text": [
      "Epoch: 261/350 - train_loss: 0.3055 - test_loss: 0.371998\n",
      "Epoch: 261/350 - train_loss: 0.2957 - test_loss: 0.316783\n",
      "Epoch: 261/350 - train_loss: 0.2880 - test_loss: 0.277279\n",
      "Epoch: 336/450 - train_loss: 0.3280 - test_loss: 0.344406\n",
      "Epoch: 348/350 - train_loss: 0.3045 - test_loss: 0.306830\n",
      "Epoch: 349/350 - train_loss: 0.3064 - test_loss: 0.342424\n"
     ]
    },
    {
     "name": "stderr",
     "output_type": "stream",
     "text": [
      "\u001b[32m[I 2023-02-13 02:36:20,298]\u001b[0m Trial 48 finished with value: 28.047687361696287 and parameters: {'n layers': 4, 'Hidden size': 22, 'Learning rate': 0.0013215873506201173, 'Dropout rate': 0.5915820233836907, 'Epochs': 330}. Best is trial 30 with value: 23.257235237802433.\u001b[0m\n"
     ]
    },
    {
     "name": "stdout",
     "output_type": "stream",
     "text": [
      "Epoch: 224/450 - train_loss: 0.3565 - test_loss: 0.341710\n",
      "Epoch: 348/350 - train_loss: 0.3045 - test_loss: 0.326921\n",
      "Epoch: 349/350 - train_loss: 0.3296 - test_loss: 0.316091\n"
     ]
    },
    {
     "name": "stderr",
     "output_type": "stream",
     "text": [
      "\u001b[32m[I 2023-02-13 02:36:59,926]\u001b[0m Trial 44 finished with value: 27.060372313609477 and parameters: {'n layers': 5, 'Hidden size': 22, 'Learning rate': 0.005565305806767776, 'Dropout rate': 0.5620029502684277, 'Epochs': 340}. Best is trial 30 with value: 23.257235237802433.\u001b[0m\n"
     ]
    },
    {
     "name": "stdout",
     "output_type": "stream",
     "text": [
      "Epoch: 348/350 - train_loss: 0.3014 - test_loss: 0.329108\n",
      "Epoch: 349/350 - train_loss: 0.2973 - test_loss: 0.330388\n"
     ]
    },
    {
     "name": "stderr",
     "output_type": "stream",
     "text": [
      "\u001b[32m[I 2023-02-13 02:37:26,564]\u001b[0m Trial 49 finished with value: 30.589947191388816 and parameters: {'n layers': 4, 'Hidden size': 22, 'Learning rate': 0.0013767565768417617, 'Dropout rate': 0.5959109196540451, 'Epochs': 350}. Best is trial 30 with value: 23.257235237802433.\u001b[0m\n"
     ]
    },
    {
     "name": "stdout",
     "output_type": "stream",
     "text": [
      "Epoch: 112/450 - train_loss: 0.3293 - test_loss: 0.327267\n",
      "Epoch: 112/450 - train_loss: 0.2962 - test_loss: 0.340717\n",
      "Epoch: 348/350 - train_loss: 0.2982 - test_loss: 0.311097\n",
      "Epoch: 349/350 - train_loss: 0.3075 - test_loss: 0.353960\n"
     ]
    },
    {
     "name": "stderr",
     "output_type": "stream",
     "text": [
      "\u001b[32m[I 2023-02-13 02:37:47,215]\u001b[0m Trial 43 finished with value: 30.633811803221008 and parameters: {'n layers': 5, 'Hidden size': 383, 'Learning rate': 0.005058674663820276, 'Dropout rate': 0.6291465452166222, 'Epochs': 350}. Best is trial 30 with value: 23.257235237802433.\u001b[0m\n"
     ]
    },
    {
     "name": "stdout",
     "output_type": "stream",
     "text": [
      "Epoch: 448/450 - train_loss: 0.2870 - test_loss: 0.314786\n",
      "Epoch: 449/450 - train_loss: 0.2859 - test_loss: 0.309412\n"
     ]
    },
    {
     "name": "stderr",
     "output_type": "stream",
     "text": [
      "\u001b[32m[I 2023-02-13 02:38:26,514]\u001b[0m Trial 4 finished with value: 30.886867294150353 and parameters: {'n layers': 5, 'Hidden size': 5, 'Learning rate': 0.0009720468024648088, 'Dropout rate': 0.7194448112386032, 'Epochs': 460}. Best is trial 30 with value: 23.257235237802433.\u001b[0m\n"
     ]
    },
    {
     "name": "stdout",
     "output_type": "stream",
     "text": [
      "Epoch: 112/450 - train_loss: 0.2886 - test_loss: 0.343771\n",
      "Epoch: 336/450 - train_loss: 0.3387 - test_loss: 0.307717\n",
      "Epoch: 112/450 - train_loss: 0.2940 - test_loss: 0.328299\n",
      "Epoch: 224/450 - train_loss: 0.2952 - test_loss: 0.322573\n",
      "Epoch: 224/450 - train_loss: 0.3045 - test_loss: 0.304887\n",
      "Epoch: 112/450 - train_loss: 0.4187 - test_loss: 0.404749\n",
      "Epoch: 448/450 - train_loss: 0.3077 - test_loss: 0.301486\n",
      "Epoch: 224/450 - train_loss: 0.3310 - test_loss: 0.303558\n",
      "Epoch: 449/450 - train_loss: 0.2960 - test_loss: 0.302303\n"
     ]
    },
    {
     "name": "stderr",
     "output_type": "stream",
     "text": [
      "\u001b[32m[I 2023-02-13 02:40:51,268]\u001b[0m Trial 0 finished with value: 33.90071712630721 and parameters: {'n layers': 4, 'Hidden size': 21, 'Learning rate': 0.00016399150838952608, 'Dropout rate': 0.7782627339936687, 'Epochs': 230}. Best is trial 30 with value: 23.257235237802433.\u001b[0m\n"
     ]
    },
    {
     "name": "stdout",
     "output_type": "stream",
     "text": [
      "Epoch: 224/450 - train_loss: 0.3240 - test_loss: 0.302836\n",
      "Epoch: 112/450 - train_loss: 0.5283 - test_loss: 0.519836\n",
      "Epoch: 112/450 - train_loss: 0.5650 - test_loss: 0.549480\n",
      "Epoch: 336/450 - train_loss: 0.2898 - test_loss: 0.326062\n",
      "Epoch: 336/450 - train_loss: 0.3014 - test_loss: 0.310270\n",
      "Epoch: 336/450 - train_loss: 0.2965 - test_loss: 0.327831\n",
      "Epoch: 224/450 - train_loss: 0.2993 - test_loss: 0.320595\n",
      "Epoch: 336/450 - train_loss: 0.2873 - test_loss: 0.290447\n",
      "Epoch: 448/450 - train_loss: 0.3232 - test_loss: 0.291109\n",
      "Epoch: 449/450 - train_loss: 0.2898 - test_loss: 0.282773\n"
     ]
    },
    {
     "name": "stderr",
     "output_type": "stream",
     "text": [
      "\u001b[32m[I 2023-02-13 02:43:17,319]\u001b[0m Trial 5 finished with value: 27.259527451171483 and parameters: {'n layers': 4, 'Hidden size': 252, 'Learning rate': 0.0059840192266367095, 'Dropout rate': 0.49513472905580064, 'Epochs': 220}. Best is trial 30 with value: 23.257235237802433.\u001b[0m\n"
     ]
    },
    {
     "name": "stdout",
     "output_type": "stream",
     "text": [
      "Epoch: 448/450 - train_loss: 0.2865 - test_loss: 0.308666\n",
      "Epoch: 449/450 - train_loss: 0.2884 - test_loss: 0.304294\n"
     ]
    },
    {
     "name": "stderr",
     "output_type": "stream",
     "text": [
      "\u001b[32m[I 2023-02-13 02:43:31,177]\u001b[0m Trial 14 finished with value: 26.67528338369817 and parameters: {'n layers': 4, 'Hidden size': 6, 'Learning rate': 0.006875807359504258, 'Dropout rate': 0.6540860398778039, 'Epochs': 270}. Best is trial 30 with value: 23.257235237802433.\u001b[0m\n"
     ]
    },
    {
     "name": "stdout",
     "output_type": "stream",
     "text": [
      "Epoch: 448/450 - train_loss: 0.3078 - test_loss: 0.309054\n",
      "Epoch: 449/450 - train_loss: 0.3078 - test_loss: 0.331902\n"
     ]
    },
    {
     "name": "stderr",
     "output_type": "stream",
     "text": [
      "\u001b[32m[I 2023-02-13 02:44:08,240]\u001b[0m Trial 11 finished with value: 31.90444589950179 and parameters: {'n layers': 3, 'Hidden size': 43, 'Learning rate': 0.0012021683849588987, 'Dropout rate': 0.6298144270789315, 'Epochs': 430}. Best is trial 30 with value: 23.257235237802433.\u001b[0m\n"
     ]
    },
    {
     "name": "stdout",
     "output_type": "stream",
     "text": [
      "Epoch: 336/450 - train_loss: 0.3065 - test_loss: 0.322381\n",
      "Epoch: 224/450 - train_loss: 0.3736 - test_loss: 0.388960\n",
      "Epoch: 448/450 - train_loss: 0.2932 - test_loss: 0.320151\n",
      "Epoch: 449/450 - train_loss: 0.2884 - test_loss: 0.323534\n"
     ]
    },
    {
     "name": "stderr",
     "output_type": "stream",
     "text": [
      "\u001b[32m[I 2023-02-13 02:44:26,719]\u001b[0m Trial 3 finished with value: 29.671472801403667 and parameters: {'n layers': 5, 'Hidden size': 233, 'Learning rate': 0.0007076491460755403, 'Dropout rate': 0.6142719957695026, 'Epochs': 190}. Best is trial 30 with value: 23.257235237802433.\u001b[0m\n"
     ]
    },
    {
     "name": "stdout",
     "output_type": "stream",
     "text": [
      "Epoch: 224/450 - train_loss: 0.3876 - test_loss: 0.413588\n",
      "Epoch: 448/450 - train_loss: 0.3030 - test_loss: 0.314648\n",
      "Epoch: 449/450 - train_loss: 0.2919 - test_loss: 0.320993\n"
     ]
    },
    {
     "name": "stderr",
     "output_type": "stream",
     "text": [
      "\u001b[32m[I 2023-02-13 02:45:06,912]\u001b[0m Trial 15 finished with value: 34.755158551736734 and parameters: {'n layers': 5, 'Hidden size': 5, 'Learning rate': 0.00022983797821248927, 'Dropout rate': 0.1946183036187726, 'Epochs': 170}. Best is trial 30 with value: 23.257235237802433.\u001b[0m\n"
     ]
    },
    {
     "name": "stdout",
     "output_type": "stream",
     "text": [
      "Epoch: 336/450 - train_loss: 0.3310 - test_loss: 0.320745\n",
      "Epoch: 336/450 - train_loss: 0.3254 - test_loss: 0.349931\n",
      "Epoch: 448/450 - train_loss: 0.3552 - test_loss: 0.319316\n",
      "Epoch: 449/450 - train_loss: 0.2966 - test_loss: 0.316636\n"
     ]
    },
    {
     "name": "stderr",
     "output_type": "stream",
     "text": [
      "\u001b[32m[I 2023-02-13 02:45:42,614]\u001b[0m Trial 2 finished with value: 34.84361650276811 and parameters: {'n layers': 3, 'Hidden size': 5, 'Learning rate': 0.0001353363981574516, 'Dropout rate': 0.2726981328473369, 'Epochs': 260}. Best is trial 30 with value: 23.257235237802433.\u001b[0m\n"
     ]
    },
    {
     "name": "stdout",
     "output_type": "stream",
     "text": [
      "Epoch: 448/450 - train_loss: 0.2885 - test_loss: 0.328932\n"
     ]
    },
    {
     "name": "stderr",
     "output_type": "stream",
     "text": [
      "\u001b[32m[I 2023-02-13 02:45:47,316]\u001b[0m Trial 12 finished with value: 34.975718965240944 and parameters: {'n layers': 4, 'Hidden size': 23, 'Learning rate': 0.00012335199604881909, 'Dropout rate': 0.10247948238016963, 'Epochs': 330}. Best is trial 30 with value: 23.257235237802433.\u001b[0m\n",
      "\u001b[32m[I 2023-02-13 02:45:47,343]\u001b[0m A new study created in memory with name: no-name-29a7430a-95bc-4fe5-b6a5-bdd6a7897417\u001b[0m\n"
     ]
    },
    {
     "name": "stdout",
     "output_type": "stream",
     "text": [
      "Epoch: 449/450 - train_loss: 0.3180 - test_loss: 0.327686\n",
      "Study statistics for : \n",
      "  Number of finished trials:  50\n",
      "Best trial of city:  Bắc Giang\n",
      "  Value:  23.257235237802433\n",
      "optimize result of city: Bắc Giang\n",
      "lookback 3\n",
      "lookback 3\n",
      "lookback 3\n",
      "lookback 3\n",
      "lookback 3\n",
      "lookback 3\n",
      "lookback 3\n",
      "lookback 3\n",
      "lookback 3\n",
      "lookback 3\n",
      "lookback 3\n",
      "lookback 3\n",
      "lookback 3\n",
      "lookback 3\n",
      "lookback 3\n",
      "lookback 3\n",
      "lookback 3\n",
      "lookback 3\n",
      "lookback 3\n",
      "lookback 3\n",
      "Epoch:  0/130 - train_loss: 1.0407 - test_loss: 0.723611\n",
      "Epoch:  0/130 - train_loss: 1.2445 - test_loss: 1.310321\n",
      "Epoch:  0/130 - train_loss: 1.0336 - test_loss: 0.665652\n",
      "Epoch:  0/130 - train_loss: 1.5400 - test_loss: 1.530273\n",
      "Epoch:  0/130 - train_loss: 1.2272 - test_loss: 0.749004\n",
      "Epoch:  0/130 - train_loss: 1.5969 - test_loss: 1.700762Epoch:  0/130 - train_loss: 1.4932 - test_loss: 1.275018\n",
      "\n",
      "Epoch:  0/130 - train_loss: 1.1784 - test_loss: 0.764233\n",
      "Epoch:  0/130 - train_loss: 1.4024 - test_loss: 1.518770\n",
      "Epoch:  0/130 - train_loss: 1.1762 - test_loss: 0.977608\n",
      "Epoch:  0/130 - train_loss: 1.6089 - test_loss: 1.186143\n",
      "Epoch:  0/130 - train_loss: 1.5944 - test_loss: 1.437995\n",
      "Epoch:  0/130 - train_loss: 1.1152 - test_loss: 0.710575Epoch:  0/130 - train_loss: 1.1561 - test_loss: 0.700867\n",
      "Epoch:  0/130 - train_loss: 1.5640 - test_loss: 1.337890\n",
      "Epoch:  0/130 - train_loss: 1.0031 - test_loss: 0.626372\n",
      "\n",
      "Epoch:  0/130 - train_loss: 1.1956 - test_loss: 0.992752\n",
      "Epoch:  0/130 - train_loss: 1.4988 - test_loss: 1.591251\n",
      "Epoch:  0/130 - train_loss: 1.1458 - test_loss: 0.749234\n",
      "Epoch:  0/130 - train_loss: 1.5254 - test_loss: 0.920726\n",
      "Epoch: 32/130 - train_loss: 0.4005 - test_loss: 0.266006\n",
      "Epoch: 32/130 - train_loss: 0.3718 - test_loss: 0.263144\n",
      "Epoch: 32/130 - train_loss: 0.3779 - test_loss: 0.240608\n",
      "Epoch: 32/130 - train_loss: 0.7154 - test_loss: 0.593562\n",
      "Epoch: 32/130 - train_loss: 0.3899 - test_loss: 0.261344\n",
      "Epoch: 64/130 - train_loss: 0.4068 - test_loss: 0.242904\n",
      "Epoch: 64/130 - train_loss: 0.3639 - test_loss: 0.270615\n",
      "Epoch: 64/130 - train_loss: 0.3605 - test_loss: 0.230446\n",
      "Epoch: 64/130 - train_loss: 0.5672 - test_loss: 0.481763\n",
      "Epoch: 64/130 - train_loss: 0.3891 - test_loss: 0.249801\n",
      "Epoch: 96/130 - train_loss: 0.3761 - test_loss: 0.232890\n",
      "Epoch: 96/130 - train_loss: 0.3812 - test_loss: 0.233838\n",
      "Epoch: 96/130 - train_loss: 0.3756 - test_loss: 0.236791\n",
      "Epoch: 96/130 - train_loss: 0.4874 - test_loss: 0.398490\n",
      "Epoch: 128/130 - train_loss: 0.4015 - test_loss: 0.243316\n",
      "Epoch: 129/130 - train_loss: 0.3932 - test_loss: 0.287634\n"
     ]
    },
    {
     "name": "stderr",
     "output_type": "stream",
     "text": [
      "\u001b[32m[I 2023-02-13 03:02:15,947]\u001b[0m Trial 12 finished with value: 44.666858614543095 and parameters: {'n layers': 3, 'Hidden size': 35, 'Learning rate': 0.0058446969222754564, 'Dropout rate': 0.564925870058648, 'Epochs': 170}. Best is trial 12 with value: 44.666858614543095.\u001b[0m\n"
     ]
    },
    {
     "name": "stdout",
     "output_type": "stream",
     "text": [
      "lookback 3\n",
      "Epoch: 128/130 - train_loss: 0.3913 - test_loss: 0.261620\n",
      "Epoch: 129/130 - train_loss: 0.3644 - test_loss: 0.270497\n",
      "Epoch: 96/130 - train_loss: 0.3723 - test_loss: 0.253803\n"
     ]
    },
    {
     "name": "stderr",
     "output_type": "stream",
     "text": [
      "\u001b[32m[I 2023-02-13 03:02:31,880]\u001b[0m Trial 16 finished with value: 44.95658750575339 and parameters: {'n layers': 5, 'Hidden size': 136, 'Learning rate': 0.002072549635868493, 'Dropout rate': 0.17917163898921193, 'Epochs': 170}. Best is trial 12 with value: 44.666858614543095.\u001b[0m\n"
     ]
    },
    {
     "name": "stdout",
     "output_type": "stream",
     "text": [
      "lookback 3\n",
      "Epoch: 128/130 - train_loss: 0.3989 - test_loss: 0.248305\n",
      "Epoch: 129/130 - train_loss: 0.4240 - test_loss: 0.256001\n"
     ]
    },
    {
     "name": "stderr",
     "output_type": "stream",
     "text": [
      "\u001b[32m[I 2023-02-13 03:02:46,299]\u001b[0m Trial 13 finished with value: 50.49800649053439 and parameters: {'n layers': 3, 'Hidden size': 162, 'Learning rate': 0.004887145252146765, 'Dropout rate': 0.7657786936849289, 'Epochs': 500}. Best is trial 12 with value: 44.666858614543095.\u001b[0m\n"
     ]
    },
    {
     "name": "stdout",
     "output_type": "stream",
     "text": [
      "lookback 3\n",
      "Epoch: 128/130 - train_loss: 0.4456 - test_loss: 0.333935\n",
      "Epoch: 129/130 - train_loss: 0.4344 - test_loss: 0.332017\n"
     ]
    },
    {
     "name": "stderr",
     "output_type": "stream",
     "text": [
      "\u001b[32m[I 2023-02-13 03:03:34,537]\u001b[0m Trial 0 finished with value: 48.81766351080194 and parameters: {'n layers': 3, 'Hidden size': 8, 'Learning rate': 0.0002207466128382657, 'Dropout rate': 0.7929776569386151, 'Epochs': 300}. Best is trial 12 with value: 44.666858614543095.\u001b[0m\n"
     ]
    },
    {
     "name": "stdout",
     "output_type": "stream",
     "text": [
      "lookback 3\n",
      "Epoch: 32/130 - train_loss: 0.3816 - test_loss: 0.258624\n",
      "Epoch: 32/130 - train_loss: 0.4519 - test_loss: 0.361588\n",
      "Epoch:  0/500 - train_loss: 1.3293 - test_loss: 0.902385\n",
      "Epoch: 128/130 - train_loss: 0.3913 - test_loss: 0.258164\n",
      "Epoch: 129/130 - train_loss: 0.3753 - test_loss: 0.226437\n"
     ]
    },
    {
     "name": "stderr",
     "output_type": "stream",
     "text": [
      "\u001b[32m[I 2023-02-13 03:05:16,279]\u001b[0m Trial 18 finished with value: 46.15685939963688 and parameters: {'n layers': 6, 'Hidden size': 86, 'Learning rate': 0.0022071058596055283, 'Dropout rate': 0.6578645559997687, 'Epochs': 300}. Best is trial 12 with value: 44.666858614543095.\u001b[0m\n"
     ]
    },
    {
     "name": "stdout",
     "output_type": "stream",
     "text": [
      "lookback 3\n",
      "Epoch:  0/200 - train_loss: 1.5769 - test_loss: 1.320491\n",
      "Epoch:  0/200 - train_loss: 1.3792 - test_loss: 1.892733\n",
      "Epoch:  0/200 - train_loss: 1.4739 - test_loss: 1.246183\n",
      "Epoch: 64/130 - train_loss: 0.3634 - test_loss: 0.284212\n",
      "Epoch: 64/130 - train_loss: 0.4013 - test_loss: 0.279585\n",
      "Epoch:  0/200 - train_loss: 1.0411 - test_loss: 0.707907\n",
      "Epoch: 50/200 - train_loss: 0.3807 - test_loss: 0.232903\n",
      "Epoch: 50/200 - train_loss: 0.4094 - test_loss: 0.281416\n",
      "Epoch: 96/130 - train_loss: 0.3985 - test_loss: 0.260741\n",
      "Epoch: 50/200 - train_loss: 0.4375 - test_loss: 0.351355\n",
      "Epoch: 96/130 - train_loss: 0.3654 - test_loss: 0.263210\n",
      "Epoch: 32/130 - train_loss: 0.3647 - test_loss: 0.229405\n",
      "Epoch: 32/130 - train_loss: 0.4125 - test_loss: 0.272019\n",
      "Epoch: 32/130 - train_loss: 0.4052 - test_loss: 0.257655\n",
      "Epoch: 32/130 - train_loss: 0.3749 - test_loss: 0.252954Epoch: 32/130 - train_loss: 0.6182 - test_loss: 0.526117\n",
      "\n",
      "Epoch: 32/130 - train_loss: 0.8548 - test_loss: 0.703683\n",
      "Epoch: 32/130 - train_loss: 0.5856 - test_loss: 0.462086\n",
      "Epoch: 32/130 - train_loss: 0.3962 - test_loss: 0.234969\n",
      "Epoch: 32/130 - train_loss: 1.0093 - test_loss: 0.944494\n",
      "Epoch: 32/130 - train_loss: 0.4701 - test_loss: 0.386573\n",
      "Epoch: 32/130 - train_loss: 0.3971 - test_loss: 0.259521\n",
      "Epoch: 50/200 - train_loss: 0.3727 - test_loss: 0.238432\n",
      "Epoch: 100/200 - train_loss: 0.3625 - test_loss: 0.224362\n",
      "Epoch: 128/130 - train_loss: 0.3646 - test_loss: 0.249632\n",
      "Epoch: 129/130 - train_loss: 0.3656 - test_loss: 0.239994\n",
      "Epoch: 100/200 - train_loss: 0.3895 - test_loss: 0.269803\n",
      "Epoch: 32/130 - train_loss: 0.3841 - test_loss: 0.263617\n",
      "Epoch: 32/130 - train_loss: 0.4018 - test_loss: 0.241457\n"
     ]
    },
    {
     "name": "stderr",
     "output_type": "stream",
     "text": [
      "\u001b[32m[I 2023-02-13 03:09:03,123]\u001b[0m Trial 19 finished with value: 45.11591583265599 and parameters: {'n layers': 3, 'Hidden size': 12, 'Learning rate': 0.002106325846091722, 'Dropout rate': 0.38549845453162623, 'Epochs': 130}. Best is trial 12 with value: 44.666858614543095.\u001b[0m\n"
     ]
    },
    {
     "name": "stdout",
     "output_type": "stream",
     "text": [
      "lookback 3\n",
      "Epoch: 125/500 - train_loss: 0.3864 - test_loss: 0.243217\n",
      "Epoch: 100/200 - train_loss: 0.3753 - test_loss: 0.251283\n",
      "Epoch: 128/130 - train_loss: 0.3837 - test_loss: 0.254922\n",
      "Epoch: 129/130 - train_loss: 0.4122 - test_loss: 0.239761\n"
     ]
    },
    {
     "name": "stderr",
     "output_type": "stream",
     "text": [
      "\u001b[32m[I 2023-02-13 03:09:47,404]\u001b[0m Trial 7 finished with value: 50.7235429111044 and parameters: {'n layers': 5, 'Hidden size': 106, 'Learning rate': 0.0007944954182910588, 'Dropout rate': 0.06885337258482763, 'Epochs': 120}. Best is trial 12 with value: 44.666858614543095.\u001b[0m\n"
     ]
    },
    {
     "name": "stdout",
     "output_type": "stream",
     "text": [
      "lookback 3\n",
      "Epoch:  0/150 - train_loss: 1.0123 - test_loss: 0.722869\n",
      "Epoch: 150/200 - train_loss: 0.3619 - test_loss: 0.264056\n",
      "Epoch: 100/200 - train_loss: 0.3828 - test_loss: 0.234057\n",
      "Epoch: 150/200 - train_loss: 0.3845 - test_loss: 0.243126\n",
      "Epoch:  0/150 - train_loss: 1.3836 - test_loss: 0.887451\n",
      "Epoch: 64/130 - train_loss: 0.3909 - test_loss: 0.241233\n",
      "Epoch: 150/200 - train_loss: 0.3892 - test_loss: 0.266255\n",
      "Epoch: 37/150 - train_loss: 0.3657 - test_loss: 0.238616\n",
      "Epoch: 199/200 - train_loss: 0.3721 - test_loss: 0.246297\n"
     ]
    },
    {
     "name": "stderr",
     "output_type": "stream",
     "text": [
      "\u001b[32m[I 2023-02-13 03:12:14,502]\u001b[0m Trial 21 finished with value: 42.31863014820247 and parameters: {'n layers': 5, 'Hidden size': 74, 'Learning rate': 0.0020575833407878324, 'Dropout rate': 0.7744416037782694, 'Epochs': 470}. Best is trial 21 with value: 42.31863014820247.\u001b[0m\n"
     ]
    },
    {
     "name": "stdout",
     "output_type": "stream",
     "text": [
      "lookback 3\n",
      "Epoch: 199/200 - train_loss: 0.3642 - test_loss: 0.251871\n"
     ]
    },
    {
     "name": "stderr",
     "output_type": "stream",
     "text": [
      "\u001b[32m[I 2023-02-13 03:12:32,276]\u001b[0m Trial 22 finished with value: 50.12405605127494 and parameters: {'n layers': 3, 'Hidden size': 167, 'Learning rate': 0.0007903530888256594, 'Dropout rate': 0.7037966783241374, 'Epochs': 270}. Best is trial 21 with value: 42.31863014820247.\u001b[0m\n"
     ]
    },
    {
     "name": "stdout",
     "output_type": "stream",
     "text": [
      "lookback 3\n",
      "Epoch: 150/200 - train_loss: 0.3723 - test_loss: 0.245552\n",
      "Epoch: 37/150 - train_loss: 0.3729 - test_loss: 0.231755\n",
      "Epoch: 199/200 - train_loss: 0.3765 - test_loss: 0.273301\n",
      "Epoch: 96/130 - train_loss: 0.3915 - test_loss: 0.238464\n"
     ]
    },
    {
     "name": "stderr",
     "output_type": "stream",
     "text": [
      "\u001b[32m[I 2023-02-13 03:13:43,948]\u001b[0m Trial 23 finished with value: 49.76274776700247 and parameters: {'n layers': 5, 'Hidden size': 43, 'Learning rate': 0.0005449710677688605, 'Dropout rate': 0.6357927449961837, 'Epochs': 500}. Best is trial 21 with value: 42.31863014820247.\u001b[0m\n"
     ]
    },
    {
     "name": "stdout",
     "output_type": "stream",
     "text": [
      "lookback 3\n",
      "Epoch: 74/150 - train_loss: 0.3708 - test_loss: 0.250960\n",
      "Epoch:  0/400 - train_loss: 1.3668 - test_loss: 0.874689\n",
      "Epoch: 250/500 - train_loss: 0.4344 - test_loss: 0.242586\n",
      "Epoch:  0/400 - train_loss: 1.1414 - test_loss: 0.750956\n",
      "Epoch: 199/200 - train_loss: 0.3803 - test_loss: 0.244129\n"
     ]
    },
    {
     "name": "stderr",
     "output_type": "stream",
     "text": [
      "\u001b[32m[I 2023-02-13 03:15:23,760]\u001b[0m Trial 24 finished with value: 46.672880707232736 and parameters: {'n layers': 5, 'Hidden size': 16, 'Learning rate': 0.0016686151125645677, 'Dropout rate': 0.6700169684731413, 'Epochs': 200}. Best is trial 21 with value: 42.31863014820247.\u001b[0m\n"
     ]
    },
    {
     "name": "stdout",
     "output_type": "stream",
     "text": [
      "lookback 3\n",
      "Epoch:  0/400 - train_loss: 1.3735 - test_loss: 1.088872\n",
      "Epoch: 74/150 - train_loss: 0.4168 - test_loss: 0.250563\n",
      "Epoch: 128/130 - train_loss: 0.3787 - test_loss: 0.235360\n",
      "Epoch: 129/130 - train_loss: 0.3593 - test_loss: 0.269590\n"
     ]
    },
    {
     "name": "stderr",
     "output_type": "stream",
     "text": [
      "\u001b[32m[I 2023-02-13 03:15:46,016]\u001b[0m Trial 11 finished with value: 38.8031366210969 and parameters: {'n layers': 4, 'Hidden size': 178, 'Learning rate': 0.00934287752579346, 'Dropout rate': 0.5777980354407436, 'Epochs': 480}. Best is trial 11 with value: 38.8031366210969.\u001b[0m\n"
     ]
    },
    {
     "name": "stdout",
     "output_type": "stream",
     "text": [
      "lookback 3\n",
      "Epoch: 111/150 - train_loss: 0.3659 - test_loss: 0.259726\n",
      "Epoch:  0/410 - train_loss: 0.9035 - test_loss: 0.599605\n",
      "Epoch:  0/410 - train_loss: 0.8653 - test_loss: 0.563271\n",
      "Epoch: 111/150 - train_loss: 0.3968 - test_loss: 0.242516\n",
      "Epoch: 148/150 - train_loss: 0.4014 - test_loss: 0.277669\n",
      "Epoch: 149/150 - train_loss: 0.3770 - test_loss: 0.267649\n"
     ]
    },
    {
     "name": "stderr",
     "output_type": "stream",
     "text": [
      "\u001b[32m[I 2023-02-13 03:17:44,435]\u001b[0m Trial 25 finished with value: 47.445523791733685 and parameters: {'n layers': 3, 'Hidden size': 50, 'Learning rate': 0.00403712654784522, 'Dropout rate': 0.1454524779041648, 'Epochs': 210}. Best is trial 11 with value: 38.8031366210969.\u001b[0m\n"
     ]
    },
    {
     "name": "stdout",
     "output_type": "stream",
     "text": [
      "lookback 3\n",
      "Epoch: 100/400 - train_loss: 0.3586 - test_loss: 0.278290\n",
      "Epoch: 100/400 - train_loss: 0.3635 - test_loss: 0.235232\n",
      "Epoch: 64/130 - train_loss: 0.3758 - test_loss: 0.247960\n",
      "Epoch: 64/130 - train_loss: 0.3874 - test_loss: 0.242627\n",
      "Epoch: 64/130 - train_loss: 0.3628 - test_loss: 0.263172\n",
      "Epoch: 64/130 - train_loss: 0.3711 - test_loss: 0.250955\n",
      "Epoch: 64/130 - train_loss: 0.3661 - test_loss: 0.256630\n",
      "Epoch: 64/130 - train_loss: 0.6222 - test_loss: 0.494164\n",
      "Epoch: 64/130 - train_loss: 0.4282 - test_loss: 0.313382\n",
      "Epoch: 64/130 - train_loss: 0.3676 - test_loss: 0.266663\n",
      "Epoch: 64/130 - train_loss: 0.4887 - test_loss: 0.384703\n",
      "Epoch: 64/130 - train_loss: 0.8577 - test_loss: 0.780790\n",
      "Epoch: 148/150 - train_loss: 0.3934 - test_loss: 0.260104\n",
      "Epoch: 149/150 - train_loss: 0.3678 - test_loss: 0.274320\n",
      "Epoch:  0/420 - train_loss: 1.0171 - test_loss: 0.652999\n"
     ]
    },
    {
     "name": "stderr",
     "output_type": "stream",
     "text": [
      "\u001b[32m[I 2023-02-13 03:19:21,450]\u001b[0m Trial 26 finished with value: 40.29045492781023 and parameters: {'n layers': 6, 'Hidden size': 21, 'Learning rate': 0.007979664896591222, 'Dropout rate': 0.6792045474394339, 'Epochs': 150}. Best is trial 11 with value: 38.8031366210969.\u001b[0m\n"
     ]
    },
    {
     "name": "stdout",
     "output_type": "stream",
     "text": [
      "lookback 3\n",
      "Epoch: 375/500 - train_loss: 0.3625 - test_loss: 0.234067\n",
      "Epoch: 100/400 - train_loss: 0.5534 - test_loss: 0.461259\n",
      "Epoch:  0/410 - train_loss: 1.4473 - test_loss: 1.171495\n",
      "Epoch: 102/410 - train_loss: 0.3693 - test_loss: 0.244985\n",
      "Epoch: 200/400 - train_loss: 0.4320 - test_loss: 0.250567\n",
      "Epoch: 200/400 - train_loss: 0.3853 - test_loss: 0.254171\n",
      "Epoch: 64/130 - train_loss: 0.3901 - test_loss: 0.315351\n",
      "Epoch: 64/130 - train_loss: 0.4089 - test_loss: 0.256382\n",
      "Epoch: 200/400 - train_loss: 0.4160 - test_loss: 0.321838\n",
      "Epoch: 499/500 - train_loss: 0.3689 - test_loss: 0.232394\n"
     ]
    },
    {
     "name": "stderr",
     "output_type": "stream",
     "text": [
      "\u001b[32m[I 2023-02-13 03:23:01,042]\u001b[0m Trial 20 finished with value: 50.352802871477174 and parameters: {'n layers': 6, 'Hidden size': 22, 'Learning rate': 0.004272436026768823, 'Dropout rate': 0.14007029706806715, 'Epochs': 440}. Best is trial 11 with value: 38.8031366210969.\u001b[0m\n"
     ]
    },
    {
     "name": "stdout",
     "output_type": "stream",
     "text": [
      "lookback 3\n",
      "Epoch: 105/420 - train_loss: 0.3683 - test_loss: 0.244902\n",
      "Epoch: 102/410 - train_loss: 0.3732 - test_loss: 0.231759\n",
      "Epoch: 204/410 - train_loss: 0.3794 - test_loss: 0.241175\n",
      "Epoch:  0/400 - train_loss: 0.9996 - test_loss: 0.584096\n",
      "Epoch: 300/400 - train_loss: 0.3692 - test_loss: 0.236738\n",
      "Epoch: 300/400 - train_loss: 0.3782 - test_loss: 0.240511\n",
      "Epoch: 102/410 - train_loss: 0.3628 - test_loss: 0.250778\n",
      "Epoch: 300/400 - train_loss: 0.3901 - test_loss: 0.261301\n",
      "Epoch: 100/400 - train_loss: 0.3998 - test_loss: 0.239357\n",
      "Epoch: 210/420 - train_loss: 0.3661 - test_loss: 0.255527\n",
      "Epoch: 399/400 - train_loss: 0.4164 - test_loss: 0.255732\n"
     ]
    },
    {
     "name": "stderr",
     "output_type": "stream",
     "text": [
      "\u001b[32m[I 2023-02-13 03:27:01,711]\u001b[0m Trial 27 finished with value: 46.54198394631515 and parameters: {'n layers': 5, 'Hidden size': 252, 'Learning rate': 0.004580845290357504, 'Dropout rate': 0.6118208222027671, 'Epochs': 110}. Best is trial 11 with value: 38.8031366210969.\u001b[0m\n"
     ]
    },
    {
     "name": "stdout",
     "output_type": "stream",
     "text": [
      "lookback 3\n",
      "Epoch: 306/410 - train_loss: 0.3745 - test_loss: 0.236970\n",
      "Epoch: 96/130 - train_loss: 0.4240 - test_loss: 0.308731\n",
      "Epoch: 399/400 - train_loss: 0.4185 - test_loss: 0.232528\n"
     ]
    },
    {
     "name": "stderr",
     "output_type": "stream",
     "text": [
      "\u001b[32m[I 2023-02-13 03:27:37,899]\u001b[0m Trial 28 finished with value: 43.718824993668726 and parameters: {'n layers': 6, 'Hidden size': 6, 'Learning rate': 0.00293385422413218, 'Dropout rate': 0.04842533697290157, 'Epochs': 480}. Best is trial 11 with value: 38.8031366210969.\u001b[0m\n"
     ]
    },
    {
     "name": "stdout",
     "output_type": "stream",
     "text": [
      "lookback 3\n",
      "Epoch:  0/400 - train_loss: 1.0802 - test_loss: 0.665586\n",
      "Epoch: 204/410 - train_loss: 0.3869 - test_loss: 0.266894\n",
      "Epoch: 399/400 - train_loss: 0.3778 - test_loss: 0.250449\n"
     ]
    },
    {
     "name": "stderr",
     "output_type": "stream",
     "text": [
      "\u001b[32m[I 2023-02-13 03:29:35,845]\u001b[0m Trial 29 finished with value: 53.972948983197114 and parameters: {'n layers': 6, 'Hidden size': 370, 'Learning rate': 0.00015749925113212602, 'Dropout rate': 0.452539802673189, 'Epochs': 400}. Best is trial 11 with value: 38.8031366210969.\u001b[0m\n"
     ]
    },
    {
     "name": "stdout",
     "output_type": "stream",
     "text": [
      "lookback 3\n",
      "Epoch: 128/130 - train_loss: 0.3967 - test_loss: 0.263374\n",
      "Epoch:  0/380 - train_loss: 1.0786 - test_loss: 0.617850\n",
      "Epoch: 129/130 - train_loss: 0.3803 - test_loss: 0.263731\n"
     ]
    },
    {
     "name": "stderr",
     "output_type": "stream",
     "text": [
      "\u001b[32m[I 2023-02-13 03:29:52,995]\u001b[0m Trial 9 finished with value: 46.47739261008902 and parameters: {'n layers': 5, 'Hidden size': 134, 'Learning rate': 0.00034387597010296925, 'Dropout rate': 0.07164535012322813, 'Epochs': 320}. Best is trial 11 with value: 38.8031366210969.\u001b[0m\n"
     ]
    },
    {
     "name": "stdout",
     "output_type": "stream",
     "text": [
      "lookback 3\n",
      "Epoch: 204/410 - train_loss: 0.3666 - test_loss: 0.243613\n",
      "Epoch:  0/380 - train_loss: 0.9130 - test_loss: 0.597799\n",
      "Epoch: 200/400 - train_loss: 0.3694 - test_loss: 0.252751\n",
      "Epoch:  0/380 - train_loss: 1.1480 - test_loss: 0.738548\n",
      "Epoch: 315/420 - train_loss: 0.3980 - test_loss: 0.226996\n",
      "Epoch: 408/410 - train_loss: 0.3627 - test_loss: 0.268445\n",
      "Epoch: 409/410 - train_loss: 0.3716 - test_loss: 0.263921\n"
     ]
    },
    {
     "name": "stderr",
     "output_type": "stream",
     "text": [
      "\u001b[32m[I 2023-02-13 03:32:25,831]\u001b[0m Trial 30 finished with value: 45.99943187891542 and parameters: {'n layers': 4, 'Hidden size': 33, 'Learning rate': 0.008190842939683148, 'Dropout rate': 0.4852657450930827, 'Epochs': 400}. Best is trial 11 with value: 38.8031366210969.\u001b[0m\n"
     ]
    },
    {
     "name": "stdout",
     "output_type": "stream",
     "text": [
      "lookback 3\n",
      "Epoch: 96/130 - train_loss: 0.3593 - test_loss: 0.256616\n",
      "Epoch: 100/400 - train_loss: 0.4058 - test_loss: 0.247746\n",
      "Epoch:  0/360 - train_loss: 0.8993 - test_loss: 0.602378\n",
      "Epoch: 95/380 - train_loss: 0.3833 - test_loss: 0.272716\n",
      "Epoch: 96/130 - train_loss: 0.3745 - test_loss: 0.256277\n",
      "Epoch: 95/380 - train_loss: 0.3819 - test_loss: 0.232776\n",
      "Epoch: 300/400 - train_loss: 0.3828 - test_loss: 0.242869\n",
      "Epoch: 306/410 - train_loss: 0.4034 - test_loss: 0.246377\n",
      "Epoch: 96/130 - train_loss: 0.3924 - test_loss: 0.260331\n",
      "Epoch: 96/130 - train_loss: 0.3689 - test_loss: 0.273706\n",
      "Epoch: 96/130 - train_loss: 0.4178 - test_loss: 0.250390\n",
      "Epoch: 96/130 - train_loss: 0.3762 - test_loss: 0.255891\n",
      "Epoch: 96/130 - train_loss: 0.3726 - test_loss: 0.232966\n",
      "Epoch: 96/130 - train_loss: 0.4815 - test_loss: 0.401660Epoch: 96/130 - train_loss: 0.7483 - test_loss: 0.666672\n",
      "\n",
      "Epoch: 306/410 - train_loss: 0.3673 - test_loss: 0.244162\n",
      "Epoch: 200/400 - train_loss: 0.3692 - test_loss: 0.234999\n",
      "Epoch: 419/420 - train_loss: 0.3642 - test_loss: 0.233710\n"
     ]
    },
    {
     "name": "stderr",
     "output_type": "stream",
     "text": [
      "\u001b[32m[I 2023-02-13 03:35:38,950]\u001b[0m Trial 32 finished with value: 42.55130353103437 and parameters: {'n layers': 4, 'Hidden size': 355, 'Learning rate': 0.007300267117086704, 'Dropout rate': 0.50723230498274, 'Epochs': 420}. Best is trial 11 with value: 38.8031366210969.\u001b[0m\n"
     ]
    },
    {
     "name": "stdout",
     "output_type": "stream",
     "text": [
      "lookback 3\n",
      "Epoch: 190/380 - train_loss: 0.3754 - test_loss: 0.249896\n",
      "Epoch: 90/360 - train_loss: 0.3627 - test_loss: 0.229726\n",
      "Epoch: 128/130 - train_loss: 0.3621 - test_loss: 0.230636\n",
      "Epoch: 129/130 - train_loss: 0.3663 - test_loss: 0.247464\n"
     ]
    },
    {
     "name": "stderr",
     "output_type": "stream",
     "text": [
      "\u001b[32m[I 2023-02-13 03:36:46,085]\u001b[0m Trial 10 finished with value: 44.720960863349916 and parameters: {'n layers': 4, 'Hidden size': 8, 'Learning rate': 0.007647232206023899, 'Dropout rate': 0.6258954737488343, 'Epochs': 460}. Best is trial 11 with value: 38.8031366210969.\u001b[0m\n"
     ]
    },
    {
     "name": "stdout",
     "output_type": "stream",
     "text": [
      "lookback 3\n",
      "Epoch:  0/370 - train_loss: 0.9362 - test_loss: 0.645494\n",
      "Epoch: 190/380 - train_loss: 0.3683 - test_loss: 0.263801\n",
      "Epoch: 399/400 - train_loss: 0.3954 - test_loss: 0.276367\n"
     ]
    },
    {
     "name": "stderr",
     "output_type": "stream",
     "text": [
      "\u001b[32m[I 2023-02-13 03:37:58,127]\u001b[0m Trial 34 finished with value: 50.715116965151275 and parameters: {'n layers': 4, 'Hidden size': 278, 'Learning rate': 0.00971766591880797, 'Dropout rate': 0.481289013045198, 'Epochs': 400}. Best is trial 11 with value: 38.8031366210969.\u001b[0m\n"
     ]
    },
    {
     "name": "stdout",
     "output_type": "stream",
     "text": [
      "lookback 3\n",
      "Epoch:  0/340 - train_loss: 1.1096 - test_loss: 0.714605\n",
      "Epoch: 128/130 - train_loss: 0.3772 - test_loss: 0.233063\n",
      "Epoch: 95/380 - train_loss: 0.3919 - test_loss: 0.233562\n",
      "Epoch: 129/130 - train_loss: 0.3752 - test_loss: 0.268141\n"
     ]
    },
    {
     "name": "stderr",
     "output_type": "stream",
     "text": [
      "\u001b[32m[I 2023-02-13 03:39:17,976]\u001b[0m Trial 17 finished with value: 43.966466959939545 and parameters: {'n layers': 5, 'Hidden size': 14, 'Learning rate': 0.005458908078427494, 'Dropout rate': 0.6541897524232911, 'Epochs': 340}. Best is trial 11 with value: 38.8031366210969.\u001b[0m\n"
     ]
    },
    {
     "name": "stdout",
     "output_type": "stream",
     "text": [
      "lookback 3\n",
      "Epoch:  0/360 - train_loss: 1.2710 - test_loss: 0.809764\n",
      "Epoch: 408/410 - train_loss: 0.3785 - test_loss: 0.270978\n",
      "Epoch: 409/410 - train_loss: 0.3722 - test_loss: 0.226111\n"
     ]
    },
    {
     "name": "stderr",
     "output_type": "stream",
     "text": [
      "\u001b[32m[I 2023-02-13 03:40:29,322]\u001b[0m Trial 33 finished with value: 50.314242277864984 and parameters: {'n layers': 4, 'Hidden size': 342, 'Learning rate': 0.009869201936713236, 'Dropout rate': 0.4801237645458383, 'Epochs': 410}. Best is trial 11 with value: 38.8031366210969.\u001b[0m\n"
     ]
    },
    {
     "name": "stdout",
     "output_type": "stream",
     "text": [
      "lookback 3\n",
      "Epoch: 300/400 - train_loss: 0.3642 - test_loss: 0.250957\n",
      "Epoch: 285/380 - train_loss: 0.3777 - test_loss: 0.243724\n",
      "Epoch: 180/360 - train_loss: 0.3649 - test_loss: 0.261146\n",
      "Epoch:  0/360 - train_loss: 1.5012 - test_loss: 1.691450\n",
      "Epoch: 408/410 - train_loss: 0.3718 - test_loss: 0.250283\n",
      "Epoch: 409/410 - train_loss: 0.3653 - test_loss: 0.244965\n"
     ]
    },
    {
     "name": "stderr",
     "output_type": "stream",
     "text": [
      "\u001b[32m[I 2023-02-13 03:42:16,622]\u001b[0m Trial 31 finished with value: 42.58011930063753 and parameters: {'n layers': 4, 'Hidden size': 340, 'Learning rate': 0.009942582168319194, 'Dropout rate': 0.4773288678737653, 'Epochs': 410}. Best is trial 11 with value: 38.8031366210969.\u001b[0m\n"
     ]
    },
    {
     "name": "stdout",
     "output_type": "stream",
     "text": [
      "lookback 3\n",
      "Epoch:  0/360 - train_loss: 1.6200 - test_loss: 1.286162\n",
      "Epoch: 92/370 - train_loss: 0.3576 - test_loss: 0.220026\n",
      "Epoch: 285/380 - train_loss: 0.3745 - test_loss: 0.241727\n",
      "Epoch: 128/130 - train_loss: 0.4117 - test_loss: 0.254171\n",
      "Epoch: 129/130 - train_loss: 0.4221 - test_loss: 0.260861\n"
     ]
    },
    {
     "name": "stderr",
     "output_type": "stream",
     "text": [
      "\u001b[32m[I 2023-02-13 03:43:57,447]\u001b[0m Trial 5 finished with value: 47.98562806738181 and parameters: {'n layers': 5, 'Hidden size': 348, 'Learning rate': 0.0007267384595749272, 'Dropout rate': 0.25839947176002426, 'Epochs': 100}. Best is trial 11 with value: 38.8031366210969.\u001b[0m\n"
     ]
    },
    {
     "name": "stdout",
     "output_type": "stream",
     "text": [
      "lookback 3\n",
      "Epoch:  0/370 - train_loss: 1.1729 - test_loss: 0.969557\n",
      "Epoch: 90/360 - train_loss: 0.3919 - test_loss: 0.241027\n",
      "Epoch: 379/380 - train_loss: 0.3952 - test_loss: 0.244438\n",
      "Epoch: 399/400 - train_loss: 0.3709 - test_loss: 0.234904\n"
     ]
    },
    {
     "name": "stderr",
     "output_type": "stream",
     "text": [
      "\u001b[32m[I 2023-02-13 03:45:48,505]\u001b[0m Trial 36 finished with value: 45.60650378932443 and parameters: {'n layers': 4, 'Hidden size': 357, 'Learning rate': 0.009024213002056348, 'Dropout rate': 0.49874627475331434, 'Epochs': 400}. Best is trial 11 with value: 38.8031366210969.\u001b[0m\n"
     ]
    },
    {
     "name": "stdout",
     "output_type": "stream",
     "text": [
      "lookback 3\n"
     ]
    },
    {
     "name": "stderr",
     "output_type": "stream",
     "text": [
      "\u001b[32m[I 2023-02-13 03:45:50,134]\u001b[0m Trial 35 finished with value: 45.58528630229372 and parameters: {'n layers': 4, 'Hidden size': 354, 'Learning rate': 0.009964962273963998, 'Dropout rate': 0.47188739005295954, 'Epochs': 390}. Best is trial 11 with value: 38.8031366210969.\u001b[0m\n"
     ]
    },
    {
     "name": "stdout",
     "output_type": "stream",
     "text": [
      "lookback 3\n",
      "Epoch:  0/370 - train_loss: 1.0202 - test_loss: 0.764737\n",
      "Epoch: 270/360 - train_loss: 0.3719 - test_loss: 0.260207\n",
      "Epoch: 190/380 - train_loss: 0.3791 - test_loss: 0.246992\n",
      "Epoch: 85/340 - train_loss: 0.3685 - test_loss: 0.236066\n",
      "Epoch: 90/360 - train_loss: 0.3644 - test_loss: 0.265294\n",
      "Epoch:  0/260 - train_loss: 1.7377 - test_loss: 2.077446\n",
      "Epoch:  0/260 - train_loss: 1.1485 - test_loss: 0.880566\n",
      "Epoch: 379/380 - train_loss: 0.3622 - test_loss: 0.258238\n",
      "Epoch: 184/370 - train_loss: 0.3845 - test_loss: 0.265068\n"
     ]
    },
    {
     "name": "stderr",
     "output_type": "stream",
     "text": [
      "\u001b[32m[I 2023-02-13 03:48:27,581]\u001b[0m Trial 37 finished with value: 41.75053766727397 and parameters: {'n layers': 4, 'Hidden size': 30, 'Learning rate': 0.00898868474881703, 'Dropout rate': 0.49731613525703966, 'Epochs': 380}. Best is trial 11 with value: 38.8031366210969.\u001b[0m\n"
     ]
    },
    {
     "name": "stdout",
     "output_type": "stream",
     "text": [
      "lookback 3\n",
      "Epoch: 128/130 - train_loss: 0.4454 - test_loss: 0.338851\n",
      "Epoch: 180/360 - train_loss: 0.3645 - test_loss: 0.255110\n",
      "Epoch: 92/370 - train_loss: 0.3623 - test_loss: 0.239858\n",
      "Epoch:  0/360 - train_loss: 1.0155 - test_loss: 0.687653\n",
      "Epoch: 129/130 - train_loss: 0.4259 - test_loss: 0.335905\n"
     ]
    },
    {
     "name": "stderr",
     "output_type": "stream",
     "text": [
      "\u001b[32m[I 2023-02-13 03:50:14,364]\u001b[0m Trial 1 finished with value: 59.9286482001908 and parameters: {'n layers': 6, 'Hidden size': 190, 'Learning rate': 0.00024229323074532287, 'Dropout rate': 0.40786903720445294, 'Epochs': 440}. Best is trial 11 with value: 38.8031366210969.\u001b[0m\n"
     ]
    },
    {
     "name": "stdout",
     "output_type": "stream",
     "text": [
      "Epoch: 359/360 - train_loss: 0.3907 - test_loss: 0.250977\n"
     ]
    },
    {
     "name": "stderr",
     "output_type": "stream",
     "text": [
      "\u001b[32m[I 2023-02-13 03:50:29,566]\u001b[0m Trial 39 finished with value: 40.19236833943701 and parameters: {'n layers': 4, 'Hidden size': 18, 'Learning rate': 0.009637821314686133, 'Dropout rate': 0.33085723394582484, 'Epochs': 360}. Best is trial 11 with value: 38.8031366210969.\u001b[0m\n"
     ]
    },
    {
     "name": "stdout",
     "output_type": "stream",
     "text": [
      "Epoch: 65/260 - train_loss: 0.3876 - test_loss: 0.247099\n",
      "Epoch: 65/260 - train_loss: 0.3810 - test_loss: 0.254160\n",
      "Epoch: 180/360 - train_loss: 0.3710 - test_loss: 0.238488\n",
      "Epoch: 276/370 - train_loss: 0.3684 - test_loss: 0.241471\n",
      "Epoch: 270/360 - train_loss: 0.3649 - test_loss: 0.251535\n",
      "Epoch: 130/260 - train_loss: 0.3694 - test_loss: 0.238930\n",
      "Epoch: 130/260 - train_loss: 0.3674 - test_loss: 0.238532\n",
      "Epoch: 90/360 - train_loss: 0.3785 - test_loss: 0.244107\n",
      "Epoch: 285/380 - train_loss: 0.3614 - test_loss: 0.245575\n",
      "Epoch: 184/370 - train_loss: 0.4048 - test_loss: 0.246014\n",
      "Epoch: 195/260 - train_loss: 0.3607 - test_loss: 0.249766\n",
      "Epoch: 195/260 - train_loss: 0.3754 - test_loss: 0.239135\n",
      "Epoch: 359/360 - train_loss: 0.3858 - test_loss: 0.245520\n"
     ]
    },
    {
     "name": "stderr",
     "output_type": "stream",
     "text": [
      "\u001b[32m[I 2023-02-13 03:53:45,840]\u001b[0m Trial 42 finished with value: 47.73623210258984 and parameters: {'n layers': 4, 'Hidden size': 88, 'Learning rate': 0.0013186025008575985, 'Dropout rate': 0.31534672175539935, 'Epochs': 340}. Best is trial 11 with value: 38.8031366210969.\u001b[0m\n"
     ]
    },
    {
     "name": "stdout",
     "output_type": "stream",
     "text": [
      "Epoch: 368/370 - train_loss: 0.3727 - test_loss: 0.244857\n",
      "Epoch: 369/370 - train_loss: 0.3752 - test_loss: 0.252057\n"
     ]
    },
    {
     "name": "stderr",
     "output_type": "stream",
     "text": [
      "\u001b[32m[I 2023-02-13 03:53:54,859]\u001b[0m Trial 40 finished with value: 42.11667382235971 and parameters: {'n layers': 4, 'Hidden size': 71, 'Learning rate': 0.009491842013436013, 'Dropout rate': 0.3477490780178938, 'Epochs': 340}. Best is trial 11 with value: 38.8031366210969.\u001b[0m\n"
     ]
    },
    {
     "name": "stdout",
     "output_type": "stream",
     "text": [
      "Epoch: 270/360 - train_loss: 0.3784 - test_loss: 0.245831\n",
      "Epoch: 180/360 - train_loss: 0.3654 - test_loss: 0.248067\n",
      "Epoch: 170/340 - train_loss: 0.3845 - test_loss: 0.234206\n",
      "Epoch: 90/360 - train_loss: 0.3759 - test_loss: 0.247224\n",
      "Epoch: 259/260 - train_loss: 0.3864 - test_loss: 0.257242\n"
     ]
    },
    {
     "name": "stderr",
     "output_type": "stream",
     "text": [
      "\u001b[32m[I 2023-02-13 03:54:57,309]\u001b[0m Trial 48 finished with value: 47.02085313735529 and parameters: {'n layers': 6, 'Hidden size': 63, 'Learning rate': 0.0013001108177531646, 'Dropout rate': 0.7967831426777395, 'Epochs': 260}. Best is trial 11 with value: 38.8031366210969.\u001b[0m\n"
     ]
    },
    {
     "name": "stdout",
     "output_type": "stream",
     "text": [
      "Epoch: 259/260 - train_loss: 0.4015 - test_loss: 0.235642\n"
     ]
    },
    {
     "name": "stderr",
     "output_type": "stream",
     "text": [
      "\u001b[32m[I 2023-02-13 03:55:03,810]\u001b[0m Trial 47 finished with value: 49.229510953859865 and parameters: {'n layers': 6, 'Hidden size': 70, 'Learning rate': 0.0012659584242393155, 'Dropout rate': 0.7436104060190214, 'Epochs': 360}. Best is trial 11 with value: 38.8031366210969.\u001b[0m\n"
     ]
    },
    {
     "name": "stdout",
     "output_type": "stream",
     "text": [
      "Epoch: 128/130 - train_loss: 0.3767 - test_loss: 0.246169\n",
      "Epoch: 129/130 - train_loss: 0.3983 - test_loss: 0.255340\n"
     ]
    },
    {
     "name": "stderr",
     "output_type": "stream",
     "text": [
      "\u001b[32m[I 2023-02-13 03:55:36,049]\u001b[0m Trial 3 finished with value: 49.193964712203375 and parameters: {'n layers': 4, 'Hidden size': 5, 'Learning rate': 0.00047391484339735535, 'Dropout rate': 0.6144344373506132, 'Epochs': 320}. Best is trial 11 with value: 38.8031366210969.\u001b[0m\n"
     ]
    },
    {
     "name": "stdout",
     "output_type": "stream",
     "text": [
      "Epoch: 379/380 - train_loss: 0.3733 - test_loss: 0.259276\n"
     ]
    },
    {
     "name": "stderr",
     "output_type": "stream",
     "text": [
      "\u001b[32m[I 2023-02-13 03:55:43,479]\u001b[0m Trial 38 finished with value: 44.853662422609375 and parameters: {'n layers': 4, 'Hidden size': 25, 'Learning rate': 0.008930519802855317, 'Dropout rate': 0.40768627768025445, 'Epochs': 380}. Best is trial 11 with value: 38.8031366210969.\u001b[0m\n"
     ]
    },
    {
     "name": "stdout",
     "output_type": "stream",
     "text": [
      "Epoch: 276/370 - train_loss: 0.3699 - test_loss: 0.255790\n",
      "Epoch: 359/360 - train_loss: 0.3613 - test_loss: 0.228350\n",
      "Epoch: 128/130 - train_loss: 0.3973 - test_loss: 0.273321\n"
     ]
    },
    {
     "name": "stderr",
     "output_type": "stream",
     "text": [
      "\u001b[32m[I 2023-02-13 03:56:13,887]\u001b[0m Trial 44 finished with value: 48.50893125898961 and parameters: {'n layers': 6, 'Hidden size': 65, 'Learning rate': 0.0011904739996683692, 'Dropout rate': 0.7359556561933257, 'Epochs': 360}. Best is trial 11 with value: 38.8031366210969.\u001b[0m\n"
     ]
    },
    {
     "name": "stdout",
     "output_type": "stream",
     "text": [
      "Epoch: 129/130 - train_loss: 0.3839 - test_loss: 0.273311\n"
     ]
    },
    {
     "name": "stderr",
     "output_type": "stream",
     "text": [
      "\u001b[32m[I 2023-02-13 03:56:16,468]\u001b[0m Trial 15 finished with value: 48.13612714368677 and parameters: {'n layers': 6, 'Hidden size': 139, 'Learning rate': 0.0014544881442630666, 'Dropout rate': 0.2889658552091375, 'Epochs': 380}. Best is trial 11 with value: 38.8031366210969.\u001b[0m\n"
     ]
    },
    {
     "name": "stdout",
     "output_type": "stream",
     "text": [
      "Epoch: 270/360 - train_loss: 0.4042 - test_loss: 0.237487\n",
      "Epoch: 92/370 - train_loss: 0.3694 - test_loss: 0.258711\n",
      "Epoch: 255/340 - train_loss: 0.3619 - test_loss: 0.259828\n",
      "Epoch: 96/130 - train_loss: 0.3758 - test_loss: 0.227692\n",
      "Epoch: 96/130 - train_loss: 0.3851 - test_loss: 0.237257\n",
      "Epoch: 180/360 - train_loss: 0.3654 - test_loss: 0.252569\n",
      "Epoch: 128/130 - train_loss: 0.3835 - test_loss: 0.236651\n",
      "Epoch: 128/130 - train_loss: 0.4000 - test_loss: 0.242837\n",
      "Epoch: 128/130 - train_loss: 0.6048 - test_loss: 0.546375\n",
      "Epoch: 129/130 - train_loss: 0.3635 - test_loss: 0.239823\n",
      "Epoch: 129/130 - train_loss: 0.3726 - test_loss: 0.271943\n",
      "Epoch: 129/130 - train_loss: 0.6214 - test_loss: 0.546208\n"
     ]
    },
    {
     "name": "stderr",
     "output_type": "stream",
     "text": [
      "\u001b[32m[I 2023-02-13 03:57:30,877]\u001b[0m Trial 8 finished with value: 47.45719098811393 and parameters: {'n layers': 6, 'Hidden size': 5, 'Learning rate': 0.0019433756490745745, 'Dropout rate': 0.14411464590608125, 'Epochs': 330}. Best is trial 11 with value: 38.8031366210969.\u001b[0m\n",
      "\u001b[32m[I 2023-02-13 03:57:31,057]\u001b[0m Trial 6 finished with value: 78.18749648605535 and parameters: {'n layers': 6, 'Hidden size': 14, 'Learning rate': 0.00013643912451860235, 'Dropout rate': 0.44335784139786166, 'Epochs': 470}. Best is trial 11 with value: 38.8031366210969.\u001b[0m\n",
      "\u001b[32m[I 2023-02-13 03:57:31,067]\u001b[0m Trial 14 finished with value: 48.73455714878651 and parameters: {'n layers': 6, 'Hidden size': 26, 'Learning rate': 0.006106535854264216, 'Dropout rate': 0.06128420307033336, 'Epochs': 330}. Best is trial 11 with value: 38.8031366210969.\u001b[0m\n"
     ]
    },
    {
     "name": "stdout",
     "output_type": "stream",
     "text": [
      "Epoch: 368/370 - train_loss: 0.3639 - test_loss: 0.234509\n",
      "Epoch: 369/370 - train_loss: 0.3626 - test_loss: 0.246129\n"
     ]
    },
    {
     "name": "stderr",
     "output_type": "stream",
     "text": [
      "\u001b[32m[I 2023-02-13 03:57:40,193]\u001b[0m Trial 45 finished with value: 46.276002175768745 and parameters: {'n layers': 6, 'Hidden size': 68, 'Learning rate': 0.0014024533001154866, 'Dropout rate': 0.3419473092683163, 'Epochs': 360}. Best is trial 11 with value: 38.8031366210969.\u001b[0m\n"
     ]
    },
    {
     "name": "stdout",
     "output_type": "stream",
     "text": [
      "Epoch: 359/360 - train_loss: 0.3875 - test_loss: 0.243374\n"
     ]
    },
    {
     "name": "stderr",
     "output_type": "stream",
     "text": [
      "\u001b[32m[I 2023-02-13 03:58:03,614]\u001b[0m Trial 49 finished with value: 43.75633055688422 and parameters: {'n layers': 4, 'Hidden size': 21, 'Learning rate': 0.0029806156067529958, 'Dropout rate': 0.35429935722304795, 'Epochs': 360}. Best is trial 11 with value: 38.8031366210969.\u001b[0m\n"
     ]
    },
    {
     "name": "stdout",
     "output_type": "stream",
     "text": [
      "Epoch: 128/130 - train_loss: 0.3659 - test_loss: 0.262669\n",
      "Epoch: 129/130 - train_loss: 0.4134 - test_loss: 0.235345\n"
     ]
    },
    {
     "name": "stderr",
     "output_type": "stream",
     "text": [
      "\u001b[32m[I 2023-02-13 03:58:06,092]\u001b[0m Trial 4 finished with value: 45.59826147498518 and parameters: {'n layers': 3, 'Hidden size': 254, 'Learning rate': 0.0032222210445304288, 'Dropout rate': 0.2749860696428837, 'Epochs': 290}. Best is trial 11 with value: 38.8031366210969.\u001b[0m\n"
     ]
    },
    {
     "name": "stdout",
     "output_type": "stream",
     "text": [
      "Epoch: 128/130 - train_loss: 0.3760 - test_loss: 0.240088\n",
      "Epoch: 129/130 - train_loss: 0.3669 - test_loss: 0.244264\n",
      "Epoch: 339/340 - train_loss: 0.3897 - test_loss: 0.239929\n"
     ]
    },
    {
     "name": "stderr",
     "output_type": "stream",
     "text": [
      "\u001b[32m[I 2023-02-13 03:58:09,762]\u001b[0m Trial 2 finished with value: 45.4818542509963 and parameters: {'n layers': 6, 'Hidden size': 125, 'Learning rate': 0.006433877213541436, 'Dropout rate': 0.6094291526420431, 'Epochs': 340}. Best is trial 11 with value: 38.8031366210969.\u001b[0m\n",
      "\u001b[32m[I 2023-02-13 03:58:09,989]\u001b[0m Trial 41 finished with value: 50.09278470294934 and parameters: {'n layers': 4, 'Hidden size': 60, 'Learning rate': 0.0013658381133438255, 'Dropout rate': 0.735559531495898, 'Epochs': 370}. Best is trial 11 with value: 38.8031366210969.\u001b[0m\n"
     ]
    },
    {
     "name": "stdout",
     "output_type": "stream",
     "text": [
      "Epoch: 184/370 - train_loss: 0.3689 - test_loss: 0.276763\n",
      "Epoch: 270/360 - train_loss: 0.3777 - test_loss: 0.242942\n",
      "Epoch: 276/370 - train_loss: 0.3676 - test_loss: 0.251033\n",
      "Epoch: 359/360 - train_loss: 0.3597 - test_loss: 0.234248\n"
     ]
    },
    {
     "name": "stderr",
     "output_type": "stream",
     "text": [
      "\u001b[32m[I 2023-02-13 03:58:43,665]\u001b[0m Trial 43 finished with value: 44.27934842716161 and parameters: {'n layers': 4, 'Hidden size': 71, 'Learning rate': 0.0013126955373061553, 'Dropout rate': 0.38514667371218236, 'Epochs': 360}. Best is trial 11 with value: 38.8031366210969.\u001b[0m\n"
     ]
    },
    {
     "name": "stdout",
     "output_type": "stream",
     "text": [
      "Epoch: 368/370 - train_loss: 0.3771 - test_loss: 0.265219\n"
     ]
    },
    {
     "name": "stderr",
     "output_type": "stream",
     "text": [
      "\u001b[32m[I 2023-02-13 03:59:00,747]\u001b[0m Trial 46 finished with value: 46.015886870380825 and parameters: {'n layers': 6, 'Hidden size': 78, 'Learning rate': 0.0013327991643681206, 'Dropout rate': 0.7285104563478604, 'Epochs': 370}. Best is trial 11 with value: 38.8031366210969.\u001b[0m\n",
      "\u001b[32m[I 2023-02-13 03:59:00,781]\u001b[0m A new study created in memory with name: no-name-27d25622-cbc1-4aaa-80d5-62e7c1ef084e\u001b[0m\n"
     ]
    },
    {
     "name": "stdout",
     "output_type": "stream",
     "text": [
      "Epoch: 369/370 - train_loss: 0.3629 - test_loss: 0.253062\n",
      "Study statistics for : \n",
      "  Number of finished trials:  50\n",
      "Best trial of city:  Cao Bằng\n",
      "  Value:  38.8031366210969\n",
      "optimize result of city: Cao Bằng\n",
      "lookback 3\n",
      "lookback 3\n",
      "lookback 3\n",
      "lookback lookback 3\n",
      "3\n",
      "lookback 3\n",
      "lookback 3\n",
      "lookback 3\n",
      "lookback 3\n",
      "lookback 3\n",
      "lookbacklookback 3\n",
      " 3\n",
      "lookback 3\n",
      "lookback 3\n",
      "lookback 3\n",
      "lookback 3\n",
      "lookback 3\n",
      "lookback 3\n",
      "lookback 3\n",
      "lookback 3\n",
      "Epoch:  0/240 - train_loss: 0.8360 - test_loss: 0.594135\n",
      "Epoch:  0/240 - train_loss: 1.2842 - test_loss: 0.811879\n",
      "Epoch:  0/240 - train_loss: 1.1892 - test_loss: 0.752907\n",
      "Epoch:  0/240 - train_loss: 0.9199 - test_loss: 0.661309\n",
      "Epoch:  0/240 - train_loss: 1.0492 - test_loss: 0.815047\n",
      "Epoch:  0/240 - train_loss: 1.7850 - test_loss: 1.253643\n",
      "Epoch:  0/240 - train_loss: 0.9565 - test_loss: 0.620626\n",
      "Epoch:  0/240 - train_loss: 1.0769 - test_loss: 0.697107\n",
      "Epoch:  0/240 - train_loss: 1.2577 - test_loss: 0.814708\n",
      "Epoch:  0/240 - train_loss: 1.1358 - test_loss: 0.866196\n",
      "Epoch:  0/240 - train_loss: 1.2462 - test_loss: 0.949314\n",
      "Epoch:  0/240 - train_loss: 1.6924 - test_loss: 1.181774\n",
      "Epoch:  0/240 - train_loss: 1.1846 - test_loss: 0.833731\n",
      "Epoch:  0/240 - train_loss: 0.9270 - test_loss: 0.735404\n",
      "Epoch:  0/240 - train_loss: 1.1921 - test_loss: 1.801837\n",
      "Epoch:  0/240 - train_loss: 1.2572 - test_loss: 0.977985\n",
      "Epoch:  0/240 - train_loss: 1.0778 - test_loss: 0.661922Epoch:  0/240 - train_loss: 1.5193 - test_loss: 1.308787\n",
      "\n",
      "Epoch:  0/240 - train_loss: 1.2591 - test_loss: 0.874549\n",
      "Epoch:  0/240 - train_loss: 1.4113 - test_loss: 1.430793\n",
      "Epoch: 60/240 - train_loss: 0.2256 - test_loss: 0.159327\n",
      "Epoch: 60/240 - train_loss: 0.6361 - test_loss: 0.573522\n",
      "Epoch: 60/240 - train_loss: 0.2266 - test_loss: 0.165827\n",
      "Epoch: 60/240 - train_loss: 0.2322 - test_loss: 0.184592\n",
      "Epoch: 60/240 - train_loss: 0.2268 - test_loss: 0.178338\n",
      "Epoch: 60/240 - train_loss: 0.2256 - test_loss: 0.162013\n",
      "Epoch: 60/240 - train_loss: 0.6091 - test_loss: 0.544790\n",
      "Epoch: 120/240 - train_loss: 0.2374 - test_loss: 0.154566\n",
      "Epoch: 120/240 - train_loss: 0.5085 - test_loss: 0.456244\n",
      "Epoch: 120/240 - train_loss: 0.2213 - test_loss: 0.161227\n",
      "Epoch: 120/240 - train_loss: 0.2244 - test_loss: 0.171871\n",
      "Epoch: 120/240 - train_loss: 0.2222 - test_loss: 0.166186\n",
      "Epoch: 60/240 - train_loss: 0.2271 - test_loss: 0.171726\n",
      "Epoch: 120/240 - train_loss: 0.2300 - test_loss: 0.170419\n",
      "Epoch: 180/240 - train_loss: 0.2441 - test_loss: 0.152478\n",
      "Epoch: 180/240 - train_loss: 0.4089 - test_loss: 0.364504\n",
      "Epoch: 180/240 - train_loss: 0.2286 - test_loss: 0.158495\n",
      "Epoch: 180/240 - train_loss: 0.2380 - test_loss: 0.180857\n",
      "Epoch: 180/240 - train_loss: 0.2560 - test_loss: 0.191732\n",
      "Epoch: 120/240 - train_loss: 0.4742 - test_loss: 0.413384\n",
      "Epoch: 239/240 - train_loss: 0.2589 - test_loss: 0.196881\n"
     ]
    },
    {
     "name": "stderr",
     "output_type": "stream",
     "text": [
      "\u001b[32m[I 2023-02-13 04:18:15,857]\u001b[0m Trial 15 finished with value: 17.44357218054148 and parameters: {'n layers': 4, 'Hidden size': 54, 'Learning rate': 0.007547298279859042, 'Dropout rate': 0.14190926085814307, 'Epochs': 230}. Best is trial 15 with value: 17.44357218054148.\u001b[0m\n"
     ]
    },
    {
     "name": "stdout",
     "output_type": "stream",
     "text": [
      "lookback 3\n",
      "Epoch: 180/240 - train_loss: 0.2360 - test_loss: 0.169367\n",
      "Epoch: 239/240 - train_loss: 0.3351 - test_loss: 0.293773\n"
     ]
    },
    {
     "name": "stderr",
     "output_type": "stream",
     "text": [
      "\u001b[32m[I 2023-02-13 04:18:25,960]\u001b[0m Trial 2 finished with value: 19.00041853892296 and parameters: {'n layers': 3, 'Hidden size': 22, 'Learning rate': 0.00012777225068387569, 'Dropout rate': 0.15293713294528022, 'Epochs': 420}. Best is trial 15 with value: 17.44357218054148.\u001b[0m\n"
     ]
    },
    {
     "name": "stdout",
     "output_type": "stream",
     "text": [
      "lookback 3\n",
      "Epoch: 239/240 - train_loss: 0.2232 - test_loss: 0.162074\n"
     ]
    },
    {
     "name": "stderr",
     "output_type": "stream",
     "text": [
      "\u001b[32m[I 2023-02-13 04:18:42,378]\u001b[0m Trial 5 finished with value: 14.937412097361138 and parameters: {'n layers': 3, 'Hidden size': 11, 'Learning rate': 0.004800450505437903, 'Dropout rate': 0.3164234183609245, 'Epochs': 310}. Best is trial 5 with value: 14.937412097361138.\u001b[0m\n"
     ]
    },
    {
     "name": "stdout",
     "output_type": "stream",
     "text": [
      "lookback 3\n",
      "Epoch: 239/240 - train_loss: 0.2323 - test_loss: 0.149943\n"
     ]
    },
    {
     "name": "stderr",
     "output_type": "stream",
     "text": [
      "\u001b[32m[I 2023-02-13 04:19:30,539]\u001b[0m Trial 19 finished with value: 12.579733868957065 and parameters: {'n layers': 3, 'Hidden size': 30, 'Learning rate': 0.00780900086218784, 'Dropout rate': 0.1659011117266046, 'Epochs': 240}. Best is trial 19 with value: 12.579733868957065.\u001b[0m\n"
     ]
    },
    {
     "name": "stdout",
     "output_type": "stream",
     "text": [
      "lookback 3\n",
      "Epoch: 120/240 - train_loss: 0.2253 - test_loss: 0.167354\n",
      "Epoch: 239/240 - train_loss: 0.2291 - test_loss: 0.166259\n"
     ]
    },
    {
     "name": "stderr",
     "output_type": "stream",
     "text": [
      "\u001b[32m[I 2023-02-13 04:21:00,629]\u001b[0m Trial 14 finished with value: 16.813596403802766 and parameters: {'n layers': 6, 'Hidden size': 5, 'Learning rate': 0.0011335037733090731, 'Dropout rate': 0.3584353588644276, 'Epochs': 120}. Best is trial 19 with value: 12.579733868957065.\u001b[0m\n"
     ]
    },
    {
     "name": "stdout",
     "output_type": "stream",
     "text": [
      "lookback 3\n",
      "Epoch:  0/320 - train_loss: 1.0915 - test_loss: 0.744877\n",
      "Epoch:  0/320 - train_loss: 1.2289 - test_loss: 0.876253\n",
      "Epoch: 180/240 - train_loss: 0.3624 - test_loss: 0.310363\n",
      "Epoch:  0/320 - train_loss: 1.1843 - test_loss: 0.788671\n",
      "Epoch: 60/240 - train_loss: 0.2403 - test_loss: 0.188219\n",
      "Epoch:  0/320 - train_loss: 1.0359 - test_loss: 0.681335\n",
      "Epoch: 60/240 - train_loss: 0.2278 - test_loss: 0.166258\n",
      "Epoch: 239/240 - train_loss: 0.2241 - test_loss: 0.158623\n"
     ]
    },
    {
     "name": "stderr",
     "output_type": "stream",
     "text": [
      "\u001b[32m[I 2023-02-13 04:23:23,225]\u001b[0m Trial 17 finished with value: 14.478735383980839 and parameters: {'n layers': 3, 'Hidden size': 51, 'Learning rate': 0.005338494280619575, 'Dropout rate': 0.40289582661025436, 'Epochs': 350}. Best is trial 19 with value: 12.579733868957065.\u001b[0m\n"
     ]
    },
    {
     "name": "stdout",
     "output_type": "stream",
     "text": [
      "lookback 3\n",
      "Epoch:  0/170 - train_loss: 1.3567 - test_loss: 0.859704\n",
      "Epoch: 180/240 - train_loss: 0.2224 - test_loss: 0.164176\n",
      "Epoch:  0/170 - train_loss: 1.1612 - test_loss: 0.883886\n",
      "Epoch: 239/240 - train_loss: 0.3056 - test_loss: 0.242572\n"
     ]
    },
    {
     "name": "stderr",
     "output_type": "stream",
     "text": [
      "\u001b[32m[I 2023-02-13 04:25:28,813]\u001b[0m Trial 8 finished with value: 21.053016490728762 and parameters: {'n layers': 5, 'Hidden size': 75, 'Learning rate': 0.00015349425173548508, 'Dropout rate': 0.2211107281308563, 'Epochs': 320}. Best is trial 19 with value: 12.579733868957065.\u001b[0m\n"
     ]
    },
    {
     "name": "stdout",
     "output_type": "stream",
     "text": [
      "lookback 3\n",
      "Epoch: 42/170 - train_loss: 0.4369 - test_loss: 0.367709\n",
      "Epoch: 80/320 - train_loss: 0.2442 - test_loss: 0.154998\n",
      "Epoch: 80/320 - train_loss: 0.5371 - test_loss: 0.502391\n",
      "Epoch: 80/320 - train_loss: 0.2257 - test_loss: 0.179577\n",
      "Epoch: 80/320 - train_loss: 0.2256 - test_loss: 0.158277\n",
      "Epoch: 120/240 - train_loss: 0.2338 - test_loss: 0.199422\n",
      "Epoch: 42/170 - train_loss: 0.2752 - test_loss: 0.239458\n",
      "Epoch:  0/330 - train_loss: 1.1402 - test_loss: 0.894077\n",
      "Epoch: 84/170 - train_loss: 0.2628 - test_loss: 0.212119\n",
      "Epoch: 239/240 - train_loss: 0.2222 - test_loss: 0.172334\n"
     ]
    },
    {
     "name": "stderr",
     "output_type": "stream",
     "text": [
      "\u001b[32m[I 2023-02-13 04:27:54,358]\u001b[0m Trial 0 finished with value: 17.190074266985576 and parameters: {'n layers': 6, 'Hidden size': 6, 'Learning rate': 0.0011415417831976446, 'Dropout rate': 0.24537478526070722, 'Epochs': 170}. Best is trial 19 with value: 12.579733868957065.\u001b[0m\n"
     ]
    },
    {
     "name": "stdout",
     "output_type": "stream",
     "text": [
      "lookback 3\n",
      "Epoch: 160/320 - train_loss: 0.2287 - test_loss: 0.209299\n",
      "Epoch: 84/170 - train_loss: 0.2244 - test_loss: 0.158484\n",
      "Epoch: 160/320 - train_loss: 0.3944 - test_loss: 0.359799\n",
      "Epoch: 126/170 - train_loss: 0.2286 - test_loss: 0.171557\n",
      "Epoch: 160/320 - train_loss: 0.2285 - test_loss: 0.170046\n",
      "Epoch: 120/240 - train_loss: 0.2294 - test_loss: 0.168506\n",
      "Epoch: 160/320 - train_loss: 0.2246 - test_loss: 0.158915\n",
      "Epoch:  0/490 - train_loss: 1.3571 - test_loss: 0.922406\n",
      "Epoch: 126/170 - train_loss: 0.2247 - test_loss: 0.169860\n",
      "Epoch: 168/170 - train_loss: 0.2249 - test_loss: 0.161950\n",
      "Epoch: 169/170 - train_loss: 0.2243 - test_loss: 0.164246\n"
     ]
    },
    {
     "name": "stderr",
     "output_type": "stream",
     "text": [
      "\u001b[32m[I 2023-02-13 04:30:26,037]\u001b[0m Trial 24 finished with value: 19.770323215284616 and parameters: {'n layers': 3, 'Hidden size': 43, 'Learning rate': 0.0005322102462934547, 'Dropout rate': 0.44929895177356893, 'Epochs': 320}. Best is trial 19 with value: 12.579733868957065.\u001b[0m\n"
     ]
    },
    {
     "name": "stdout",
     "output_type": "stream",
     "text": [
      "lookback 3\n",
      "Epoch: 82/330 - train_loss: 0.3079 - test_loss: 0.174676\n",
      "Epoch: 60/240 - train_loss: 0.2789 - test_loss: 0.238028\n",
      "Epoch: 60/240 - train_loss: 0.4494 - test_loss: 0.403108\n",
      "Epoch: 180/240 - train_loss: 0.2270 - test_loss: 0.186386\n",
      "Epoch: 240/320 - train_loss: 0.2280 - test_loss: 0.169767\n",
      "Epoch: 240/320 - train_loss: 0.3025 - test_loss: 0.263071\n",
      "Epoch: 240/320 - train_loss: 0.2437 - test_loss: 0.180316\n",
      "Epoch:  0/500 - train_loss: 0.9076 - test_loss: 0.606989\n",
      "Epoch: 168/170 - train_loss: 0.2436 - test_loss: 0.178258\n",
      "Epoch: 169/170 - train_loss: 0.2402 - test_loss: 0.155621\n"
     ]
    },
    {
     "name": "stderr",
     "output_type": "stream",
     "text": [
      "\u001b[32m[I 2023-02-13 04:32:16,021]\u001b[0m Trial 25 finished with value: 17.419933024622708 and parameters: {'n layers': 5, 'Hidden size': 6, 'Learning rate': 0.0009435955182561707, 'Dropout rate': 0.27287315117010685, 'Epochs': 170}. Best is trial 19 with value: 12.579733868957065.\u001b[0m\n"
     ]
    },
    {
     "name": "stdout",
     "output_type": "stream",
     "text": [
      "lookback 3\n",
      "Epoch: 60/240 - train_loss: 0.2366 - test_loss: 0.168390\n",
      "Epoch: 240/320 - train_loss: 0.2240 - test_loss: 0.159770\n",
      "Epoch:  0/500 - train_loss: 1.4843 - test_loss: 0.841946\n",
      "Epoch: 319/320 - train_loss: 0.2540 - test_loss: 0.152861\n"
     ]
    },
    {
     "name": "stderr",
     "output_type": "stream",
     "text": [
      "\u001b[32m[I 2023-02-13 04:34:34,464]\u001b[0m Trial 20 finished with value: 16.458983980442582 and parameters: {'n layers': 3, 'Hidden size': 185, 'Learning rate': 0.0033011056232700522, 'Dropout rate': 0.5301089177033559, 'Epochs': 210}. Best is trial 19 with value: 12.579733868957065.\u001b[0m\n"
     ]
    },
    {
     "name": "stdout",
     "output_type": "stream",
     "text": [
      "lookback 3\n",
      "Epoch: 164/330 - train_loss: 0.2302 - test_loss: 0.163370\n",
      "Epoch: 180/240 - train_loss: 0.2508 - test_loss: 0.158098\n",
      "Epoch: 319/320 - train_loss: 0.2523 - test_loss: 0.197173\n",
      "Epoch: 239/240 - train_loss: 0.2247 - test_loss: 0.155523\n"
     ]
    },
    {
     "name": "stderr",
     "output_type": "stream",
     "text": [
      "\u001b[32m[I 2023-02-13 04:34:55,822]\u001b[0m Trial 21 finished with value: 18.584798855434926 and parameters: {'n layers': 5, 'Hidden size': 372, 'Learning rate': 0.00014563987394808657, 'Dropout rate': 0.04766944433171652, 'Epochs': 360}. Best is trial 19 with value: 12.579733868957065.\u001b[0m\n"
     ]
    },
    {
     "name": "stdout",
     "output_type": "stream",
     "text": [
      "lookback 3\n"
     ]
    },
    {
     "name": "stderr",
     "output_type": "stream",
     "text": [
      "\u001b[32m[I 2023-02-13 04:35:00,823]\u001b[0m Trial 13 finished with value: 7.9245945589930065 and parameters: {'n layers': 4, 'Hidden size': 223, 'Learning rate': 0.005121040808393312, 'Dropout rate': 0.6904741918821633, 'Epochs': 360}. Best is trial 13 with value: 7.9245945589930065.\u001b[0m\n"
     ]
    },
    {
     "name": "stdout",
     "output_type": "stream",
     "text": [
      "lookback 3\n",
      "Epoch: 319/320 - train_loss: 0.2289 - test_loss: 0.161181\n"
     ]
    },
    {
     "name": "stderr",
     "output_type": "stream",
     "text": [
      "\u001b[32m[I 2023-02-13 04:35:27,435]\u001b[0m Trial 22 finished with value: 10.566307247498939 and parameters: {'n layers': 3, 'Hidden size': 13, 'Learning rate': 0.0028900348918806064, 'Dropout rate': 0.4521717379339187, 'Epochs': 480}. Best is trial 13 with value: 7.9245945589930065.\u001b[0m\n"
     ]
    },
    {
     "name": "stdout",
     "output_type": "stream",
     "text": [
      "lookback 3\n",
      "Epoch: 60/240 - train_loss: 0.2530 - test_loss: 0.163755\n",
      "Epoch: 319/320 - train_loss: 0.2225 - test_loss: 0.162424\n"
     ]
    },
    {
     "name": "stderr",
     "output_type": "stream",
     "text": [
      "\u001b[32m[I 2023-02-13 04:37:20,681]\u001b[0m Trial 23 finished with value: 17.066819685630993 and parameters: {'n layers': 6, 'Hidden size': 9, 'Learning rate': 0.004850423345805684, 'Dropout rate': 0.2970713178517062, 'Epochs': 360}. Best is trial 13 with value: 7.9245945589930065.\u001b[0m\n"
     ]
    },
    {
     "name": "stdout",
     "output_type": "stream",
     "text": [
      "lookback 3\n",
      "Epoch: 122/490 - train_loss: 0.3318 - test_loss: 0.279575\n",
      "Epoch:  0/490 - train_loss: 0.7627 - test_loss: 0.579785\n",
      "Epoch:  0/490 - train_loss: 1.0112 - test_loss: 0.616709\n",
      "Epoch:  0/490 - train_loss: 0.7822 - test_loss: 0.545845\n",
      "Epoch:  0/490 - train_loss: 1.0060 - test_loss: 0.766938\n",
      "Epoch: 125/500 - train_loss: 0.2418 - test_loss: 0.188051\n",
      "Epoch:  0/490 - train_loss: 1.0765 - test_loss: 0.850795\n",
      "Epoch: 120/240 - train_loss: 0.2290 - test_loss: 0.179172\n",
      "Epoch: 246/330 - train_loss: 0.2257 - test_loss: 0.172940\n",
      "Epoch: 125/500 - train_loss: 0.2217 - test_loss: 0.170463\n",
      "Epoch: 122/490 - train_loss: 0.2303 - test_loss: 0.168106\n",
      "Epoch: 239/240 - train_loss: 0.2786 - test_loss: 0.175302\n"
     ]
    },
    {
     "name": "stderr",
     "output_type": "stream",
     "text": [
      "\u001b[32m[I 2023-02-13 04:41:56,587]\u001b[0m Trial 6 finished with value: 13.40687082328224 and parameters: {'n layers': 4, 'Hidden size': 8, 'Learning rate': 0.003827257349468429, 'Dropout rate': 0.32579391352946707, 'Epochs': 110}. Best is trial 13 with value: 7.9245945589930065.\u001b[0m\n"
     ]
    },
    {
     "name": "stdout",
     "output_type": "stream",
     "text": [
      "lookback 3\n",
      "Epoch: 122/490 - train_loss: 0.2274 - test_loss: 0.179594\n",
      "Epoch: 122/490 - train_loss: 0.2274 - test_loss: 0.202604\n",
      "Epoch: 122/490 - train_loss: 0.2813 - test_loss: 0.175441\n",
      "Epoch:  0/500 - train_loss: 1.3682 - test_loss: 1.144032\n",
      "Epoch: 250/500 - train_loss: 0.2453 - test_loss: 0.185758\n",
      "Epoch: 328/330 - train_loss: 0.2603 - test_loss: 0.146343\n",
      "Epoch: 329/330 - train_loss: 0.2264 - test_loss: 0.193615\n"
     ]
    },
    {
     "name": "stderr",
     "output_type": "stream",
     "text": [
      "\u001b[32m[I 2023-02-13 04:44:04,874]\u001b[0m Trial 26 finished with value: 16.289696661531362 and parameters: {'n layers': 6, 'Hidden size': 13, 'Learning rate': 0.0014040054177931966, 'Dropout rate': 0.3848573382162123, 'Epochs': 330}. Best is trial 13 with value: 7.9245945589930065.\u001b[0m\n"
     ]
    },
    {
     "name": "stdout",
     "output_type": "stream",
     "text": [
      "lookback 3\n",
      "Epoch: 120/240 - train_loss: 0.2759 - test_loss: 0.239209\n",
      "Epoch: 244/490 - train_loss: 0.2319 - test_loss: 0.189590\n",
      "Epoch:  0/470 - train_loss: 1.0542 - test_loss: 0.684215\n",
      "Epoch: 250/500 - train_loss: 0.2215 - test_loss: 0.163558\n",
      "Epoch: 244/490 - train_loss: 0.2241 - test_loss: 0.161438\n",
      "Epoch: 244/490 - train_loss: 0.2259 - test_loss: 0.195761\n",
      "Epoch: 244/490 - train_loss: 0.2279 - test_loss: 0.161543\n",
      "Epoch: 244/490 - train_loss: 0.2371 - test_loss: 0.166795\n",
      "Epoch: 375/500 - train_loss: 0.2264 - test_loss: 0.166929\n",
      "Epoch: 366/490 - train_loss: 0.2475 - test_loss: 0.165952\n",
      "Epoch: 366/490 - train_loss: 0.2246 - test_loss: 0.162488\n",
      "Epoch: 122/490 - train_loss: 0.2297 - test_loss: 0.162865\n",
      "Epoch: 366/490 - train_loss: 0.2231 - test_loss: 0.165037\n",
      "Epoch: 375/500 - train_loss: 0.2253 - test_loss: 0.163046\n",
      "Epoch: 117/470 - train_loss: 0.2202 - test_loss: 0.151007\n",
      "Epoch: 366/490 - train_loss: 0.2356 - test_loss: 0.178155\n",
      "Epoch: 499/500 - train_loss: 0.2229 - test_loss: 0.161281\n"
     ]
    },
    {
     "name": "stderr",
     "output_type": "stream",
     "text": [
      "\u001b[32m[I 2023-02-13 04:50:48,155]\u001b[0m Trial 28 finished with value: 13.460124493533897 and parameters: {'n layers': 5, 'Hidden size': 67, 'Learning rate': 0.00638861073162073, 'Dropout rate': 0.5664256485079412, 'Epochs': 500}. Best is trial 13 with value: 7.9245945589930065.\u001b[0m\n"
     ]
    },
    {
     "name": "stdout",
     "output_type": "stream",
     "text": [
      "lookback 3\n",
      "Epoch: 366/490 - train_loss: 0.2381 - test_loss: 0.168414\n",
      "Epoch: 488/490 - train_loss: 0.2347 - test_loss: 0.171160\n",
      "Epoch: 489/490 - train_loss: 0.2260 - test_loss: 0.172806\n"
     ]
    },
    {
     "name": "stderr",
     "output_type": "stream",
     "text": [
      "\u001b[32m[I 2023-02-13 04:52:10,748]\u001b[0m Trial 30 finished with value: 9.435823174042076 and parameters: {'n layers': 4, 'Hidden size': 154, 'Learning rate': 0.008957125638438406, 'Dropout rate': 0.7294510822698135, 'Epochs': 420}. Best is trial 13 with value: 7.9245945589930065.\u001b[0m\n"
     ]
    },
    {
     "name": "stdout",
     "output_type": "stream",
     "text": [
      "lookback 3\n",
      "Epoch:  0/430 - train_loss: 0.9335 - test_loss: 0.681176\n",
      "Epoch: 488/490 - train_loss: 0.2441 - test_loss: 0.163821\n",
      "Epoch: 489/490 - train_loss: 0.2250 - test_loss: 0.159867\n"
     ]
    },
    {
     "name": "stderr",
     "output_type": "stream",
     "text": [
      "\u001b[32m[I 2023-02-13 04:52:36,545]\u001b[0m Trial 31 finished with value: 19.203434007819727 and parameters: {'n layers': 4, 'Hidden size': 23, 'Learning rate': 0.009183151415108151, 'Dropout rate': 0.6306418349992124, 'Epochs': 430}. Best is trial 13 with value: 7.9245945589930065.\u001b[0m\n"
     ]
    },
    {
     "name": "stdout",
     "output_type": "stream",
     "text": [
      "lookback 3\n",
      "Epoch: 488/490 - train_loss: 0.2418 - test_loss: 0.166079\n",
      "Epoch: 489/490 - train_loss: 0.2226 - test_loss: 0.186379\n"
     ]
    },
    {
     "name": "stderr",
     "output_type": "stream",
     "text": [
      "\u001b[32m[I 2023-02-13 04:53:20,706]\u001b[0m Trial 33 finished with value: 16.017755868319664 and parameters: {'n layers': 4, 'Hidden size': 127, 'Learning rate': 0.0031949035038331213, 'Dropout rate': 0.7862299778201377, 'Epochs': 490}. Best is trial 13 with value: 7.9245945589930065.\u001b[0m\n"
     ]
    },
    {
     "name": "stdout",
     "output_type": "stream",
     "text": [
      "lookback 3\n",
      "Epoch: 180/240 - train_loss: 0.2472 - test_loss: 0.167705\n",
      "Epoch:  0/430 - train_loss: 1.1183 - test_loss: 0.880080\n",
      "Epoch:  0/430 - train_loss: 1.3170 - test_loss: 1.102198\n",
      "Epoch: 499/500 - train_loss: 0.2465 - test_loss: 0.156622\n"
     ]
    },
    {
     "name": "stderr",
     "output_type": "stream",
     "text": [
      "\u001b[32m[I 2023-02-13 04:55:03,710]\u001b[0m Trial 29 finished with value: 14.088227520157512 and parameters: {'n layers': 4, 'Hidden size': 254, 'Learning rate': 0.002766395393083881, 'Dropout rate': 0.658764969334992, 'Epochs': 500}. Best is trial 13 with value: 7.9245945589930065.\u001b[0m\n"
     ]
    },
    {
     "name": "stdout",
     "output_type": "stream",
     "text": [
      "lookback 3\n",
      "Epoch: 488/490 - train_loss: 0.2254 - test_loss: 0.157188\n",
      "Epoch: 489/490 - train_loss: 0.2230 - test_loss: 0.171645\n"
     ]
    },
    {
     "name": "stderr",
     "output_type": "stream",
     "text": [
      "\u001b[32m[I 2023-02-13 04:55:41,607]\u001b[0m Trial 34 finished with value: 15.802581269292068 and parameters: {'n layers': 4, 'Hidden size': 108, 'Learning rate': 0.0021033294871753826, 'Dropout rate': 0.7920663615762861, 'Epochs': 490}. Best is trial 13 with value: 7.9245945589930065.\u001b[0m\n"
     ]
    },
    {
     "name": "stdout",
     "output_type": "stream",
     "text": [
      "lookback 3\n",
      "Epoch:  0/430 - train_loss: 1.5109 - test_loss: 1.185518\n",
      "Epoch: 234/470 - train_loss: 0.2287 - test_loss: 0.158070\n",
      "Epoch: 125/500 - train_loss: 0.2226 - test_loss: 0.163583\n",
      "Epoch:  0/430 - train_loss: 1.1747 - test_loss: 0.887121\n",
      "Epoch: 244/490 - train_loss: 0.2243 - test_loss: 0.174764\n",
      "Epoch:  0/430 - train_loss: 1.1813 - test_loss: 0.865706\n",
      "Epoch: 107/430 - train_loss: 0.2248 - test_loss: 0.151099\n",
      "Epoch: 488/490 - train_loss: 0.2237 - test_loss: 0.169599\n",
      "Epoch: 489/490 - train_loss: 0.2454 - test_loss: 0.166652\n"
     ]
    },
    {
     "name": "stderr",
     "output_type": "stream",
     "text": [
      "\u001b[32m[I 2023-02-13 04:58:49,438]\u001b[0m Trial 27 finished with value: 19.31611015839778 and parameters: {'n layers': 5, 'Hidden size': 111, 'Learning rate': 0.00024523773927690075, 'Dropout rate': 0.7522714669543789, 'Epochs': 490}. Best is trial 13 with value: 7.9245945589930065.\u001b[0m\n"
     ]
    },
    {
     "name": "stdout",
     "output_type": "stream",
     "text": [
      "lookback 3\n",
      "Epoch: 107/430 - train_loss: 0.2248 - test_loss: 0.175836\n",
      "Epoch: 120/240 - train_loss: 0.2276 - test_loss: 0.167634\n",
      "Epoch: 107/430 - train_loss: 0.2467 - test_loss: 0.201547\n",
      "Epoch: 107/430 - train_loss: 0.2306 - test_loss: 0.148100\n",
      "Epoch:  0/420 - train_loss: 1.2151 - test_loss: 0.953303\n",
      "Epoch: 107/430 - train_loss: 0.2406 - test_loss: 0.154322\n",
      "Epoch: 107/430 - train_loss: 0.2231 - test_loss: 0.159890\n",
      "Epoch: 351/470 - train_loss: 0.2334 - test_loss: 0.177670\n",
      "Epoch: 214/430 - train_loss: 0.2430 - test_loss: 0.180254\n",
      "Epoch: 214/430 - train_loss: 0.2411 - test_loss: 0.151370\n",
      "Epoch: 239/240 - train_loss: 0.2223 - test_loss: 0.160227\n",
      "Epoch: 214/430 - train_loss: 0.2337 - test_loss: 0.192719\n"
     ]
    },
    {
     "name": "stderr",
     "output_type": "stream",
     "text": [
      "\u001b[32m[I 2023-02-13 05:02:35,588]\u001b[0m Trial 18 finished with value: 18.607304432123616 and parameters: {'n layers': 4, 'Hidden size': 244, 'Learning rate': 0.0006502507529115069, 'Dropout rate': 0.34854073060249063, 'Epochs': 150}. Best is trial 13 with value: 7.9245945589930065.\u001b[0m\n"
     ]
    },
    {
     "name": "stdout",
     "output_type": "stream",
     "text": [
      "lookback 3\n",
      "Epoch: 214/430 - train_loss: 0.2433 - test_loss: 0.171247\n",
      "Epoch: 180/240 - train_loss: 0.2288 - test_loss: 0.178551\n",
      "Epoch:  0/420 - train_loss: 0.8202 - test_loss: 0.685719\n",
      "Epoch: 214/430 - train_loss: 0.2346 - test_loss: 0.158085\n",
      "Epoch: 214/430 - train_loss: 0.2377 - test_loss: 0.145647\n",
      "Epoch: 321/430 - train_loss: 0.2224 - test_loss: 0.163603\n",
      "Epoch: 321/430 - train_loss: 0.2286 - test_loss: 0.185504\n",
      "Epoch: 321/430 - train_loss: 0.2937 - test_loss: 0.157560\n",
      "Epoch: 105/420 - train_loss: 0.2364 - test_loss: 0.169377\n",
      "Epoch: 468/470 - train_loss: 0.2251 - test_loss: 0.168005\n",
      "Epoch: 469/470 - train_loss: 0.2213 - test_loss: 0.155396\n"
     ]
    },
    {
     "name": "stderr",
     "output_type": "stream",
     "text": [
      "\u001b[32m[I 2023-02-13 05:06:14,291]\u001b[0m Trial 36 finished with value: 18.006520331139715 and parameters: {'n layers': 4, 'Hidden size': 120, 'Learning rate': 0.002306404169585049, 'Dropout rate': 0.768015279890171, 'Epochs': 470}. Best is trial 13 with value: 7.9245945589930065.\u001b[0m\n"
     ]
    },
    {
     "name": "stdout",
     "output_type": "stream",
     "text": [
      "lookback 3\n",
      "Epoch: 321/430 - train_loss: 0.2269 - test_loss: 0.180189\n",
      "Epoch: 366/490 - train_loss: 0.2254 - test_loss: 0.149500\n",
      "Epoch:  0/400 - train_loss: 1.4081 - test_loss: 1.155063\n",
      "Epoch: 321/430 - train_loss: 0.2553 - test_loss: 0.160487\n",
      "Epoch: 428/430 - train_loss: 0.2266 - test_loss: 0.166448\n",
      "Epoch: 429/430 - train_loss: 0.2400 - test_loss: 0.146353\n"
     ]
    },
    {
     "name": "stderr",
     "output_type": "stream",
     "text": [
      "\u001b[32m[I 2023-02-13 05:08:57,922]\u001b[0m Trial 38 finished with value: 13.349646890343633 and parameters: {'n layers': 4, 'Hidden size': 145, 'Learning rate': 0.0023371014938536935, 'Dropout rate': 0.7836253946790498, 'Epochs': 430}. Best is trial 13 with value: 7.9245945589930065.\u001b[0m\n"
     ]
    },
    {
     "name": "stdout",
     "output_type": "stream",
     "text": [
      "lookback 3\n",
      "Epoch: 321/430 - train_loss: 0.2268 - test_loss: 0.153668\n",
      "Epoch: 428/430 - train_loss: 0.2555 - test_loss: 0.163146\n",
      "Epoch: 429/430 - train_loss: 0.2361 - test_loss: 0.199437\n"
     ]
    },
    {
     "name": "stderr",
     "output_type": "stream",
     "text": [
      "\u001b[32m[I 2023-02-13 05:09:19,520]\u001b[0m Trial 37 finished with value: 12.827568268700924 and parameters: {'n layers': 4, 'Hidden size': 144, 'Learning rate': 0.002275947980708239, 'Dropout rate': 0.767460795621801, 'Epochs': 490}. Best is trial 13 with value: 7.9245945589930065.\u001b[0m\n"
     ]
    },
    {
     "name": "stdout",
     "output_type": "stream",
     "text": [
      "lookback 3\n",
      "Epoch: 428/430 - train_loss: 0.2337 - test_loss: 0.177328\n",
      "Epoch: 429/430 - train_loss: 0.2247 - test_loss: 0.174362\n"
     ]
    },
    {
     "name": "stderr",
     "output_type": "stream",
     "text": [
      "\u001b[32m[I 2023-02-13 05:09:48,911]\u001b[0m Trial 39 finished with value: 13.928222770245904 and parameters: {'n layers': 4, 'Hidden size': 129, 'Learning rate': 0.0023093216657336605, 'Dropout rate': 0.7492497179202319, 'Epochs': 410}. Best is trial 13 with value: 7.9245945589930065.\u001b[0m\n"
     ]
    },
    {
     "name": "stdout",
     "output_type": "stream",
     "text": [
      "lookback 3\n",
      "Epoch: 428/430 - train_loss: 0.2251 - test_loss: 0.181200\n",
      "Epoch: 429/430 - train_loss: 0.2438 - test_loss: 0.165338\n"
     ]
    },
    {
     "name": "stderr",
     "output_type": "stream",
     "text": [
      "\u001b[32m[I 2023-02-13 05:11:23,212]\u001b[0m Trial 40 finished with value: 15.667933958027044 and parameters: {'n layers': 4, 'Hidden size': 364, 'Learning rate': 0.002094069481918832, 'Dropout rate': 0.7703468939731284, 'Epochs': 430}. Best is trial 13 with value: 7.9245945589930065.\u001b[0m\n"
     ]
    },
    {
     "name": "stdout",
     "output_type": "stream",
     "text": [
      "lookback 3\n",
      "Epoch: 250/500 - train_loss: 0.2256 - test_loss: 0.178397\n",
      "Epoch:  0/390 - train_loss: 1.0754 - test_loss: 0.716386\n",
      "Epoch:  0/390 - train_loss: 0.7657 - test_loss: 0.558486\n",
      "Epoch:  0/390 - train_loss: 1.2457 - test_loss: 0.920392\n",
      "Epoch: 210/420 - train_loss: 0.2256 - test_loss: 0.171971\n",
      "Epoch:  0/390 - train_loss: 0.9088 - test_loss: 0.624743\n",
      "Epoch: 428/430 - train_loss: 0.2466 - test_loss: 0.168644\n",
      "Epoch: 429/430 - train_loss: 0.2435 - test_loss: 0.152617\n"
     ]
    },
    {
     "name": "stderr",
     "output_type": "stream",
     "text": [
      "\u001b[32m[I 2023-02-13 05:13:49,323]\u001b[0m Trial 42 finished with value: 14.461428540326486 and parameters: {'n layers': 4, 'Hidden size': 191, 'Learning rate': 0.002264232766398342, 'Dropout rate': 0.7272509326250911, 'Epochs': 430}. Best is trial 13 with value: 7.9245945589930065.\u001b[0m\n"
     ]
    },
    {
     "name": "stdout",
     "output_type": "stream",
     "text": [
      "Epoch: 100/400 - train_loss: 0.2250 - test_loss: 0.166020\n",
      "Epoch: 428/430 - train_loss: 0.2242 - test_loss: 0.163855\n",
      "Epoch: 429/430 - train_loss: 0.2479 - test_loss: 0.165823\n"
     ]
    },
    {
     "name": "stderr",
     "output_type": "stream",
     "text": [
      "\u001b[32m[I 2023-02-13 05:14:40,162]\u001b[0m Trial 41 finished with value: 15.888241699593445 and parameters: {'n layers': 4, 'Hidden size': 110, 'Learning rate': 0.0018481988424350919, 'Dropout rate': 0.7896769423860797, 'Epochs': 420}. Best is trial 13 with value: 7.9245945589930065.\u001b[0m\n"
     ]
    },
    {
     "name": "stdout",
     "output_type": "stream",
     "text": [
      "Epoch: 97/390 - train_loss: 0.2293 - test_loss: 0.201268\n",
      "Epoch: 97/390 - train_loss: 0.2458 - test_loss: 0.156472\n",
      "Epoch: 97/390 - train_loss: 0.2261 - test_loss: 0.177117\n",
      "Epoch: 488/490 - train_loss: 0.2394 - test_loss: 0.161174\n",
      "Epoch: 489/490 - train_loss: 0.2601 - test_loss: 0.151171\n"
     ]
    },
    {
     "name": "stderr",
     "output_type": "stream",
     "text": [
      "\u001b[32m[I 2023-02-13 05:15:10,168]\u001b[0m Trial 32 finished with value: 8.682186080742875 and parameters: {'n layers': 4, 'Hidden size': 107, 'Learning rate': 0.009939799639589518, 'Dropout rate': 0.7632447225119174, 'Epochs': 500}. Best is trial 13 with value: 7.9245945589930065.\u001b[0m\n"
     ]
    },
    {
     "name": "stdout",
     "output_type": "stream",
     "text": [
      "Epoch: 97/390 - train_loss: 0.2335 - test_loss: 0.179502\n",
      "Epoch: 200/400 - train_loss: 0.2240 - test_loss: 0.146429\n",
      "Epoch: 315/420 - train_loss: 0.2279 - test_loss: 0.174620\n",
      "Epoch: 239/240 - train_loss: 0.2257 - test_loss: 0.169731\n"
     ]
    },
    {
     "name": "stderr",
     "output_type": "stream",
     "text": [
      "\u001b[32m[I 2023-02-13 05:15:57,809]\u001b[0m Trial 4 finished with value: 19.404089041720642 and parameters: {'n layers': 5, 'Hidden size': 357, 'Learning rate': 0.0003268073712940274, 'Dropout rate': 0.07562299380521174, 'Epochs': 250}. Best is trial 13 with value: 7.9245945589930065.\u001b[0m\n"
     ]
    },
    {
     "name": "stdout",
     "output_type": "stream",
     "text": [
      "Epoch: 105/420 - train_loss: 0.2257 - test_loss: 0.168956\n",
      "Epoch: 194/390 - train_loss: 0.2235 - test_loss: 0.169697\n",
      "Epoch: 194/390 - train_loss: 0.2269 - test_loss: 0.166240\n",
      "Epoch: 194/390 - train_loss: 0.2467 - test_loss: 0.165405\n",
      "Epoch: 194/390 - train_loss: 0.2341 - test_loss: 0.141750\n",
      "Epoch: 375/500 - train_loss: 0.2434 - test_loss: 0.173528\n",
      "Epoch: 180/240 - train_loss: 0.2252 - test_loss: 0.166286\n",
      "Epoch: 300/400 - train_loss: 0.2316 - test_loss: 0.176216\n",
      "Epoch: 291/390 - train_loss: 0.2458 - test_loss: 0.174111\n",
      "Epoch: 419/420 - train_loss: 0.2284 - test_loss: 0.186818\n"
     ]
    },
    {
     "name": "stderr",
     "output_type": "stream",
     "text": [
      "\u001b[32m[I 2023-02-13 05:18:02,785]\u001b[0m Trial 43 finished with value: 12.016791635162397 and parameters: {'n layers': 4, 'Hidden size': 201, 'Learning rate': 0.002030512790326808, 'Dropout rate': 0.7168186304899155, 'Epochs': 420}. Best is trial 13 with value: 7.9245945589930065.\u001b[0m\n"
     ]
    },
    {
     "name": "stdout",
     "output_type": "stream",
     "text": [
      "Epoch: 291/390 - train_loss: 0.2231 - test_loss: 0.153051\n",
      "Epoch: 291/390 - train_loss: 0.2244 - test_loss: 0.186439\n",
      "Epoch: 120/240 - train_loss: 0.2466 - test_loss: 0.162732\n",
      "Epoch: 291/390 - train_loss: 0.2371 - test_loss: 0.169294\n",
      "Epoch: 60/240 - train_loss: 0.5663 - test_loss: 0.487079\n",
      "Epoch: 388/390 - train_loss: 0.2476 - test_loss: 0.142703\n",
      "Epoch: 389/390 - train_loss: 0.2312 - test_loss: 0.167619\n"
     ]
    },
    {
     "name": "stderr",
     "output_type": "stream",
     "text": [
      "\u001b[32m[I 2023-02-13 05:19:31,421]\u001b[0m Trial 46 finished with value: 14.369637971989698 and parameters: {'n layers': 3, 'Hidden size': 347, 'Learning rate': 0.001839690401159473, 'Dropout rate': 0.6842587633053556, 'Epochs': 380}. Best is trial 13 with value: 7.9245945589930065.\u001b[0m\n"
     ]
    },
    {
     "name": "stdout",
     "output_type": "stream",
     "text": [
      "Epoch: 399/400 - train_loss: 0.2253 - test_loss: 0.162756\n"
     ]
    },
    {
     "name": "stderr",
     "output_type": "stream",
     "text": [
      "\u001b[32m[I 2023-02-13 05:19:40,398]\u001b[0m Trial 45 finished with value: 14.990236373334147 and parameters: {'n layers': 3, 'Hidden size': 376, 'Learning rate': 0.0017522604097624352, 'Dropout rate': 0.47118371938997206, 'Epochs': 400}. Best is trial 13 with value: 7.9245945589930065.\u001b[0m\n"
     ]
    },
    {
     "name": "stdout",
     "output_type": "stream",
     "text": [
      "Epoch: 210/420 - train_loss: 0.2300 - test_loss: 0.184319\n",
      "Epoch: 388/390 - train_loss: 0.2245 - test_loss: 0.165765\n",
      "Epoch: 389/390 - train_loss: 0.2383 - test_loss: 0.171218\n"
     ]
    },
    {
     "name": "stderr",
     "output_type": "stream",
     "text": [
      "\u001b[32m[I 2023-02-13 05:19:52,536]\u001b[0m Trial 48 finished with value: 17.257704887552617 and parameters: {'n layers': 3, 'Hidden size': 17, 'Learning rate': 0.00418534595469191, 'Dropout rate': 0.6714633368677267, 'Epochs': 390}. Best is trial 13 with value: 7.9245945589930065.\u001b[0m\n"
     ]
    },
    {
     "name": "stdout",
     "output_type": "stream",
     "text": [
      "Epoch: 239/240 - train_loss: 0.2522 - test_loss: 0.168266\n",
      "Epoch: 499/500 - train_loss: 0.2361 - test_loss: 0.184601\n"
     ]
    },
    {
     "name": "stderr",
     "output_type": "stream",
     "text": [
      "\u001b[32m[I 2023-02-13 05:19:58,066]\u001b[0m Trial 10 finished with value: 16.08430708084266 and parameters: {'n layers': 3, 'Hidden size': 6, 'Learning rate': 0.0010974900070485835, 'Dropout rate': 0.777218465754522, 'Epochs': 290}. Best is trial 13 with value: 7.9245945589930065.\u001b[0m\n",
      "\u001b[32m[I 2023-02-13 05:19:59,227]\u001b[0m Trial 35 finished with value: 16.055029573643377 and parameters: {'n layers': 4, 'Hidden size': 137, 'Learning rate': 0.0020848612212958414, 'Dropout rate': 0.7784307209098213, 'Epochs': 500}. Best is trial 13 with value: 7.9245945589930065.\u001b[0m\n"
     ]
    },
    {
     "name": "stdout",
     "output_type": "stream",
     "text": [
      "Epoch: 388/390 - train_loss: 0.2276 - test_loss: 0.162429\n",
      "Epoch: 389/390 - train_loss: 0.2438 - test_loss: 0.165834\n"
     ]
    },
    {
     "name": "stderr",
     "output_type": "stream",
     "text": [
      "\u001b[32m[I 2023-02-13 05:20:08,877]\u001b[0m Trial 47 finished with value: 13.88864430361455 and parameters: {'n layers': 3, 'Hidden size': 16, 'Learning rate': 0.00956718657530441, 'Dropout rate': 0.6809354955308602, 'Epochs': 400}. Best is trial 13 with value: 7.9245945589930065.\u001b[0m\n"
     ]
    },
    {
     "name": "stdout",
     "output_type": "stream",
     "text": [
      "Epoch: 388/390 - train_loss: 0.2289 - test_loss: 0.180911\n",
      "Epoch: 389/390 - train_loss: 0.2272 - test_loss: 0.166603\n"
     ]
    },
    {
     "name": "stderr",
     "output_type": "stream",
     "text": [
      "\u001b[32m[I 2023-02-13 05:20:14,219]\u001b[0m Trial 49 finished with value: 9.618795762818792 and parameters: {'n layers': 3, 'Hidden size': 19, 'Learning rate': 0.00929231226444061, 'Dropout rate': 0.6838502700565324, 'Epochs': 390}. Best is trial 13 with value: 7.9245945589930065.\u001b[0m\n"
     ]
    },
    {
     "name": "stdout",
     "output_type": "stream",
     "text": [
      "Epoch: 180/240 - train_loss: 0.2243 - test_loss: 0.178608\n",
      "Epoch: 120/240 - train_loss: 0.3659 - test_loss: 0.318877\n",
      "Epoch: 60/240 - train_loss: 0.2282 - test_loss: 0.178783\n",
      "Epoch: 60/240 - train_loss: 0.4031 - test_loss: 0.368921\n",
      "Epoch: 60/240 - train_loss: 0.2264 - test_loss: 0.155426\n",
      "Epoch: 60/240 - train_loss: 0.2526 - test_loss: 0.204468\n",
      "Epoch: 239/240 - train_loss: 0.2277 - test_loss: 0.169527\n",
      "Epoch: 315/420 - train_loss: 0.2318 - test_loss: 0.167864\n"
     ]
    },
    {
     "name": "stderr",
     "output_type": "stream",
     "text": [
      "\u001b[32m[I 2023-02-13 05:21:20,932]\u001b[0m Trial 11 finished with value: 13.211082247382572 and parameters: {'n layers': 5, 'Hidden size': 243, 'Learning rate': 0.004592987285674775, 'Dropout rate': 0.1086413302136119, 'Epochs': 370}. Best is trial 13 with value: 7.9245945589930065.\u001b[0m\n"
     ]
    },
    {
     "name": "stdout",
     "output_type": "stream",
     "text": [
      "Epoch: 180/240 - train_loss: 0.2719 - test_loss: 0.228742\n",
      "Epoch: 60/240 - train_loss: 0.2758 - test_loss: 0.201618\n",
      "Epoch: 120/240 - train_loss: 0.2302 - test_loss: 0.176619\n",
      "Epoch: 120/240 - train_loss: 0.2599 - test_loss: 0.211253\n",
      "Epoch: 120/240 - train_loss: 0.2264 - test_loss: 0.161603\n",
      "Epoch: 239/240 - train_loss: 0.2344 - test_loss: 0.191766\n"
     ]
    },
    {
     "name": "stderr",
     "output_type": "stream",
     "text": [
      "\u001b[32m[I 2023-02-13 05:22:21,255]\u001b[0m Trial 16 finished with value: 20.921448690460863 and parameters: {'n layers': 4, 'Hidden size': 37, 'Learning rate': 0.0002178723265489502, 'Dropout rate': 0.13888584222115424, 'Epochs': 140}. Best is trial 13 with value: 7.9245945589930065.\u001b[0m\n"
     ]
    },
    {
     "name": "stdout",
     "output_type": "stream",
     "text": [
      "Epoch: 120/240 - train_loss: 0.2222 - test_loss: 0.175094\n",
      "Epoch: 419/420 - train_loss: 0.2311 - test_loss: 0.145984\n"
     ]
    },
    {
     "name": "stderr",
     "output_type": "stream",
     "text": [
      "\u001b[32m[I 2023-02-13 05:22:34,298]\u001b[0m Trial 44 finished with value: 14.838127952371785 and parameters: {'n layers': 4, 'Hidden size': 376, 'Learning rate': 0.002037191207768176, 'Dropout rate': 0.694234345420001, 'Epochs': 420}. Best is trial 13 with value: 7.9245945589930065.\u001b[0m\n"
     ]
    },
    {
     "name": "stdout",
     "output_type": "stream",
     "text": [
      "Epoch: 180/240 - train_loss: 0.2226 - test_loss: 0.170604\n",
      "Epoch: 180/240 - train_loss: 0.2419 - test_loss: 0.175223\n",
      "Epoch: 180/240 - train_loss: 0.2507 - test_loss: 0.163728\n",
      "Epoch: 120/240 - train_loss: 0.2278 - test_loss: 0.171239\n",
      "Epoch: 239/240 - train_loss: 0.2225 - test_loss: 0.170705\n"
     ]
    },
    {
     "name": "stderr",
     "output_type": "stream",
     "text": [
      "\u001b[32m[I 2023-02-13 05:23:04,415]\u001b[0m Trial 7 finished with value: 15.982228861793175 and parameters: {'n layers': 5, 'Hidden size': 9, 'Learning rate': 0.003417770554162125, 'Dropout rate': 0.5821143559841172, 'Epochs': 440}. Best is trial 13 with value: 7.9245945589930065.\u001b[0m\n"
     ]
    },
    {
     "name": "stdout",
     "output_type": "stream",
     "text": [
      "Epoch: 180/240 - train_loss: 0.2470 - test_loss: 0.151612\n",
      "Epoch: 239/240 - train_loss: 0.2307 - test_loss: 0.155464\n"
     ]
    },
    {
     "name": "stderr",
     "output_type": "stream",
     "text": [
      "\u001b[32m[I 2023-02-13 05:23:09,418]\u001b[0m Trial 9 finished with value: 18.319186889540333 and parameters: {'n layers': 4, 'Hidden size': 100, 'Learning rate': 0.00037773556091227277, 'Dropout rate': 0.5468296869551218, 'Epochs': 150}. Best is trial 13 with value: 7.9245945589930065.\u001b[0m\n"
     ]
    },
    {
     "name": "stdout",
     "output_type": "stream",
     "text": [
      "Epoch: 239/240 - train_loss: 0.2522 - test_loss: 0.174025\n"
     ]
    },
    {
     "name": "stderr",
     "output_type": "stream",
     "text": [
      "\u001b[32m[I 2023-02-13 05:23:15,956]\u001b[0m Trial 12 finished with value: 13.465903122565303 and parameters: {'n layers': 6, 'Hidden size': 11, 'Learning rate': 0.005334052964355329, 'Dropout rate': 0.4904143420341935, 'Epochs': 410}. Best is trial 13 with value: 7.9245945589930065.\u001b[0m\n"
     ]
    },
    {
     "name": "stdout",
     "output_type": "stream",
     "text": [
      "Epoch: 180/240 - train_loss: 0.2505 - test_loss: 0.192808\n",
      "Epoch: 239/240 - train_loss: 0.2229 - test_loss: 0.149965\n"
     ]
    },
    {
     "name": "stderr",
     "output_type": "stream",
     "text": [
      "\u001b[32m[I 2023-02-13 05:23:23,940]\u001b[0m Trial 3 finished with value: 17.249550391545387 and parameters: {'n layers': 5, 'Hidden size': 108, 'Learning rate': 0.000730115387193355, 'Dropout rate': 0.5541128140773285, 'Epochs': 400}. Best is trial 13 with value: 7.9245945589930065.\u001b[0m\n",
      "\u001b[32m[I 2023-02-13 05:23:32,987]\u001b[0m Trial 1 finished with value: 14.569168817588041 and parameters: {'n layers': 6, 'Hidden size': 25, 'Learning rate': 0.00214709179530087, 'Dropout rate': 0.38993084418962953, 'Epochs': 260}. Best is trial 13 with value: 7.9245945589930065.\u001b[0m\n"
     ]
    },
    {
     "name": "stdout",
     "output_type": "stream",
     "text": [
      "Epoch: 239/240 - train_loss: 0.2536 - test_loss: 0.174656\n",
      "Study statistics for : \n",
      "  Number of finished trials:  50\n",
      "Best trial of city:  Cà Mau\n",
      "  Value:  7.9245945589930065\n"
     ]
    },
    {
     "name": "stderr",
     "output_type": "stream",
     "text": [
      "\u001b[32m[I 2023-02-13 05:23:33,024]\u001b[0m A new study created in memory with name: no-name-5ea8ff31-28ca-4a72-a0ac-619053d30ada\u001b[0m\n"
     ]
    },
    {
     "name": "stdout",
     "output_type": "stream",
     "text": [
      "optimize result of city: Cà Mau\n",
      "lookback 3\n",
      "lookback 3\n",
      "lookback 3\n",
      "lookback 3\n",
      "lookback 3\n",
      "lookback 3\n",
      "lookback 3\n",
      "lookback 3\n",
      "lookback 3\n",
      "lookback 3\n",
      "lookback 3\n",
      "lookback 3\n",
      "lookback 3\n",
      "lookback 3\n",
      "lookback 3\n",
      "lookback 3\n",
      "lookback 3\n",
      "lookback 3\n",
      "lookback 3\n",
      "lookback 3\n",
      "Epoch:  0/320 - train_loss: 1.5228 - test_loss: 1.408560\n",
      "Epoch:  0/320 - train_loss: 1.3591 - test_loss: 1.646197\n",
      "Epoch:  0/320 - train_loss: 1.3644 - test_loss: 0.859242\n",
      "Epoch:  0/320 - train_loss: 1.6587 - test_loss: 1.112505\n",
      "Epoch:  0/320 - train_loss: 1.7837 - test_loss: 1.417838\n",
      "Epoch:  0/320 - train_loss: 1.4559 - test_loss: 0.881984\n",
      "Epoch:  0/320 - train_loss: 1.9692 - test_loss: 1.998316Epoch:  0/320 - train_loss: 1.3276 - test_loss: 1.204501\n",
      "\n",
      "Epoch:  0/320 - train_loss: 1.1505 - test_loss: 0.847276\n",
      "Epoch:  0/320 - train_loss: 1.1065 - test_loss: 0.706865\n",
      "Epoch:  0/320 - train_loss: 1.3316 - test_loss: 0.767653\n",
      "Epoch:  0/320 - train_loss: 1.2597 - test_loss: 0.905866\n",
      "Epoch:  0/320 - train_loss: 0.9484 - test_loss: 0.571942\n",
      "Epoch:  0/320 - train_loss: 1.6086 - test_loss: 1.385598\n",
      "Epoch:  0/320 - train_loss: 1.2943 - test_loss: 0.951579\n",
      "Epoch:  0/320 - train_loss: 1.1391 - test_loss: 0.761058\n",
      "Epoch:  0/320 - train_loss: 1.1022 - test_loss: 0.811770\n",
      "Epoch:  0/320 - train_loss: 1.0817 - test_loss: 0.873122\n",
      "Epoch:  0/320 - train_loss: 1.0745 - test_loss: 0.933304\n",
      "Epoch:  0/320 - train_loss: 1.1468 - test_loss: 0.722778\n",
      "Epoch: 80/320 - train_loss: 0.6141 - test_loss: 0.580939\n",
      "Epoch: 80/320 - train_loss: 0.2882 - test_loss: 0.245649\n",
      "Epoch: 80/320 - train_loss: 0.5456 - test_loss: 0.494922\n",
      "Epoch: 80/320 - train_loss: 0.2864 - test_loss: 0.267798\n",
      "Epoch: 80/320 - train_loss: 0.3375 - test_loss: 0.277668\n",
      "Epoch: 80/320 - train_loss: 0.3284 - test_loss: 0.291748\n",
      "Epoch: 80/320 - train_loss: 0.7041 - test_loss: 0.623603Epoch: 80/320 - train_loss: 0.7610 - test_loss: 0.571924\n",
      "\n",
      "Epoch: 80/320 - train_loss: 0.3226 - test_loss: 0.261987\n",
      "Epoch: 160/320 - train_loss: 0.4925 - test_loss: 0.448697\n",
      "Epoch: 160/320 - train_loss: 0.2878 - test_loss: 0.249083\n",
      "Epoch: 160/320 - train_loss: 0.3803 - test_loss: 0.346646\n",
      "Epoch: 160/320 - train_loss: 0.2847 - test_loss: 0.274139\n",
      "Epoch: 240/320 - train_loss: 0.3802 - test_loss: 0.364084\n",
      "Epoch: 160/320 - train_loss: 0.5228 - test_loss: 0.486408\n",
      "Epoch: 240/320 - train_loss: 0.3343 - test_loss: 0.252733\n",
      "Epoch: 240/320 - train_loss: 0.3219 - test_loss: 0.284504\n",
      "Epoch: 160/320 - train_loss: 0.2867 - test_loss: 0.268443\n",
      "Epoch: 240/320 - train_loss: 0.3321 - test_loss: 0.251021\n",
      "Epoch: 80/320 - train_loss: 0.2985 - test_loss: 0.292690\n",
      "Epoch: 319/320 - train_loss: 0.3178 - test_loss: 0.299235\n"
     ]
    },
    {
     "name": "stderr",
     "output_type": "stream",
     "text": [
      "\u001b[32m[I 2023-02-13 05:46:17,919]\u001b[0m Trial 2 finished with value: 54.72822320518389 and parameters: {'n layers': 3, 'Hidden size': 17, 'Learning rate': 0.00011611857211552942, 'Dropout rate': 0.2704558427644317, 'Epochs': 500}. Best is trial 2 with value: 54.72822320518389.\u001b[0m\n"
     ]
    },
    {
     "name": "stdout",
     "output_type": "stream",
     "text": [
      "lookback 3\n",
      "Epoch: 240/320 - train_loss: 0.4133 - test_loss: 0.397995\n",
      "Epoch: 160/320 - train_loss: 0.2944 - test_loss: 0.266971\n",
      "Epoch: 160/320 - train_loss: 0.4952 - test_loss: 0.444432\n",
      "Epoch: 80/320 - train_loss: 0.2879 - test_loss: 0.271834\n",
      "Epoch: 160/320 - train_loss: 0.2901 - test_loss: 0.236290\n",
      "Epoch: 319/320 - train_loss: 0.2913 - test_loss: 0.268195\n"
     ]
    },
    {
     "name": "stderr",
     "output_type": "stream",
     "text": [
      "\u001b[32m[I 2023-02-13 05:47:39,640]\u001b[0m Trial 10 finished with value: 47.89330139333774 and parameters: {'n layers': 5, 'Hidden size': 72, 'Learning rate': 0.002811116538593235, 'Dropout rate': 0.03444381712978914, 'Epochs': 410}. Best is trial 10 with value: 47.89330139333774.\u001b[0m\n"
     ]
    },
    {
     "name": "stdout",
     "output_type": "stream",
     "text": [
      "lookback 3\n",
      "Epoch: 80/320 - train_loss: 0.2866 - test_loss: 0.278090\n",
      "Epoch: 319/320 - train_loss: 0.3116 - test_loss: 0.261711\n"
     ]
    },
    {
     "name": "stderr",
     "output_type": "stream",
     "text": [
      "\u001b[32m[I 2023-02-13 05:48:04,458]\u001b[0m Trial 12 finished with value: 46.20250977395593 and parameters: {'n layers': 4, 'Hidden size': 15, 'Learning rate': 0.00017454342944533044, 'Dropout rate': 0.08366334720862004, 'Epochs': 140}. Best is trial 12 with value: 46.20250977395593.\u001b[0m\n"
     ]
    },
    {
     "name": "stdout",
     "output_type": "stream",
     "text": [
      "lookback 3\n",
      "Epoch:  0/480 - train_loss: 0.9146 - test_loss: 0.727048\n",
      "Epoch: 240/320 - train_loss: 0.2826 - test_loss: 0.273195\n",
      "Epoch: 319/320 - train_loss: 0.3177 - test_loss: 0.269812\n"
     ]
    },
    {
     "name": "stderr",
     "output_type": "stream",
     "text": [
      "\u001b[32m[I 2023-02-13 05:50:03,000]\u001b[0m Trial 4 finished with value: 39.40086117313174 and parameters: {'n layers': 4, 'Hidden size': 9, 'Learning rate': 0.0030750571855009835, 'Dropout rate': 0.5413892506284882, 'Epochs': 300}. Best is trial 4 with value: 39.40086117313174.\u001b[0m\n"
     ]
    },
    {
     "name": "stdout",
     "output_type": "stream",
     "text": [
      "lookback 3\n",
      "Epoch:  0/440 - train_loss: 1.5778 - test_loss: 1.128376\n",
      "Epoch:  0/440 - train_loss: 0.8817 - test_loss: 0.675766\n",
      "Epoch: 319/320 - train_loss: 0.3645 - test_loss: 0.332783\n"
     ]
    },
    {
     "name": "stderr",
     "output_type": "stream",
     "text": [
      "\u001b[32m[I 2023-02-13 05:51:28,549]\u001b[0m Trial 8 finished with value: 56.17563954014804 and parameters: {'n layers': 5, 'Hidden size': 121, 'Learning rate': 0.00010494233545025756, 'Dropout rate': 0.29355733064340384, 'Epochs': 250}. Best is trial 4 with value: 39.40086117313174.\u001b[0m\n"
     ]
    },
    {
     "name": "stdout",
     "output_type": "stream",
     "text": [
      "lookback 3\n",
      "Epoch: 240/320 - train_loss: 0.2873 - test_loss: 0.260984\n",
      "Epoch: 80/320 - train_loss: 0.2880 - test_loss: 0.291402\n",
      "Epoch:  0/200 - train_loss: 1.4379 - test_loss: 0.998943\n",
      "Epoch: 240/320 - train_loss: 0.3714 - test_loss: 0.342505\n",
      "Epoch: 160/320 - train_loss: 0.2848 - test_loss: 0.266531\n",
      "Epoch: 240/320 - train_loss: 0.2924 - test_loss: 0.261775\n",
      "Epoch:  0/200 - train_loss: 1.5476 - test_loss: 1.162255\n",
      "Epoch: 319/320 - train_loss: 0.2980 - test_loss: 0.254948\n"
     ]
    },
    {
     "name": "stderr",
     "output_type": "stream",
     "text": [
      "\u001b[32m[I 2023-02-13 05:53:50,311]\u001b[0m Trial 13 finished with value: 45.12254524816624 and parameters: {'n layers': 6, 'Hidden size': 168, 'Learning rate': 0.0009512440206224934, 'Dropout rate': 0.6510821790513397, 'Epochs': 230}. Best is trial 4 with value: 39.40086117313174.\u001b[0m\n"
     ]
    },
    {
     "name": "stdout",
     "output_type": "stream",
     "text": [
      "lookback 3\n",
      "Epoch: 120/480 - train_loss: 0.3007 - test_loss: 0.268622\n",
      "Epoch: 50/200 - train_loss: 0.2883 - test_loss: 0.277477\n",
      "Epoch: 110/440 - train_loss: 0.3031 - test_loss: 0.308796\n",
      "Epoch: 110/440 - train_loss: 0.2837 - test_loss: 0.282977\n",
      "Epoch: 50/200 - train_loss: 0.3399 - test_loss: 0.309429\n",
      "Epoch:  0/320 - train_loss: 1.3943 - test_loss: 1.108074\n",
      "Epoch: 319/320 - train_loss: 0.2856 - test_loss: 0.269842\n"
     ]
    },
    {
     "name": "stderr",
     "output_type": "stream",
     "text": [
      "\u001b[32m[I 2023-02-13 05:55:46,466]\u001b[0m Trial 3 finished with value: 47.50713024040535 and parameters: {'n layers': 3, 'Hidden size': 123, 'Learning rate': 0.0007277839081603155, 'Dropout rate': 0.2399889371389841, 'Epochs': 470}. Best is trial 4 with value: 39.40086117313174.\u001b[0m\n"
     ]
    },
    {
     "name": "stdout",
     "output_type": "stream",
     "text": [
      "lookback 3\n",
      "Epoch: 100/200 - train_loss: 0.3143 - test_loss: 0.245009\n",
      "Epoch: 319/320 - train_loss: 0.3345 - test_loss: 0.285411\n"
     ]
    },
    {
     "name": "stderr",
     "output_type": "stream",
     "text": [
      "\u001b[32m[I 2023-02-13 05:56:43,436]\u001b[0m Trial 14 finished with value: 49.629046600446436 and parameters: {'n layers': 6, 'Hidden size': 203, 'Learning rate': 0.00013865807345072155, 'Dropout rate': 0.6811887812489078, 'Epochs': 430}. Best is trial 4 with value: 39.40086117313174.\u001b[0m\n"
     ]
    },
    {
     "name": "stdout",
     "output_type": "stream",
     "text": [
      "lookback 3\n",
      "Epoch:  0/310 - train_loss: 1.4612 - test_loss: 1.290650\n",
      "Epoch: 100/200 - train_loss: 0.2902 - test_loss: 0.273260\n",
      "Epoch: 160/320 - train_loss: 0.2852 - test_loss: 0.256879\n",
      "Epoch: 319/320 - train_loss: 0.2838 - test_loss: 0.260193\n"
     ]
    },
    {
     "name": "stderr",
     "output_type": "stream",
     "text": [
      "\u001b[32m[I 2023-02-13 05:58:40,678]\u001b[0m Trial 6 finished with value: 45.77713098798805 and parameters: {'n layers': 5, 'Hidden size': 46, 'Learning rate': 0.0006096677877939482, 'Dropout rate': 0.27828645234272625, 'Epochs': 460}. Best is trial 4 with value: 39.40086117313174.\u001b[0m\n"
     ]
    },
    {
     "name": "stdout",
     "output_type": "stream",
     "text": [
      "lookback 3\n",
      "Epoch:  0/240 - train_loss: 1.3877 - test_loss: 0.911624\n",
      "Epoch: 150/200 - train_loss: 0.2887 - test_loss: 0.247013\n",
      "Epoch: 240/480 - train_loss: 0.2844 - test_loss: 0.246814\n",
      "Epoch: 80/320 - train_loss: 0.4330 - test_loss: 0.395510\n",
      "Epoch: 220/440 - train_loss: 0.2847 - test_loss: 0.276658\n",
      "Epoch: 150/200 - train_loss: 0.2988 - test_loss: 0.266595\n",
      "Epoch: 220/440 - train_loss: 0.2981 - test_loss: 0.270994\n",
      "Epoch:  0/240 - train_loss: 1.0807 - test_loss: 0.741532\n",
      "Epoch: 199/200 - train_loss: 0.2890 - test_loss: 0.257870\n",
      "Epoch: 240/320 - train_loss: 0.2825 - test_loss: 0.283572\n"
     ]
    },
    {
     "name": "stderr",
     "output_type": "stream",
     "text": [
      "\u001b[32m[I 2023-02-13 06:00:35,217]\u001b[0m Trial 23 finished with value: 46.73399131454831 and parameters: {'n layers': 6, 'Hidden size': 111, 'Learning rate': 0.0017798416519457835, 'Dropout rate': 0.4178579655491354, 'Epochs': 440}. Best is trial 4 with value: 39.40086117313174.\u001b[0m\n"
     ]
    },
    {
     "name": "stdout",
     "output_type": "stream",
     "text": [
      "lookback 3\n",
      "Epoch: 77/310 - train_loss: 0.4708 - test_loss: 0.447019\n",
      "Epoch: 60/240 - train_loss: 0.2934 - test_loss: 0.241784\n",
      "Epoch: 199/200 - train_loss: 0.2856 - test_loss: 0.253436\n"
     ]
    },
    {
     "name": "stderr",
     "output_type": "stream",
     "text": [
      "\u001b[32m[I 2023-02-13 06:02:03,399]\u001b[0m Trial 24 finished with value: 48.760432905045526 and parameters: {'n layers': 5, 'Hidden size': 244, 'Learning rate': 0.000745733420804472, 'Dropout rate': 0.7411189312876814, 'Epochs': 200}. Best is trial 4 with value: 39.40086117313174.\u001b[0m\n"
     ]
    },
    {
     "name": "stdout",
     "output_type": "stream",
     "text": [
      "lookback 3\n",
      "Epoch:  0/330 - train_loss: 1.1513 - test_loss: 0.728118\n",
      "Epoch: 160/320 - train_loss: 0.3168 - test_loss: 0.281801\n",
      "Epoch:  0/330 - train_loss: 1.0157 - test_loss: 0.661640\n",
      "Epoch: 360/480 - train_loss: 0.2863 - test_loss: 0.232922\n",
      "Epoch: 330/440 - train_loss: 0.2867 - test_loss: 0.252051\n",
      "Epoch: 60/240 - train_loss: 0.3162 - test_loss: 0.255082\n",
      "Epoch: 330/440 - train_loss: 0.2846 - test_loss: 0.254541\n",
      "Epoch: 154/310 - train_loss: 0.3267 - test_loss: 0.308288\n",
      "Epoch: 120/240 - train_loss: 0.3085 - test_loss: 0.257479\n",
      "Epoch: 82/330 - train_loss: 0.2893 - test_loss: 0.243025\n",
      "Epoch: 240/320 - train_loss: 0.3016 - test_loss: 0.259803\n",
      "Epoch: 82/330 - train_loss: 0.2888 - test_loss: 0.283419\n",
      "Epoch: 439/440 - train_loss: 0.3186 - test_loss: 0.244164\n"
     ]
    },
    {
     "name": "stderr",
     "output_type": "stream",
     "text": [
      "\u001b[32m[I 2023-02-13 06:06:49,997]\u001b[0m Trial 21 finished with value: 50.14509839574615 and parameters: {'n layers': 5, 'Hidden size': 8, 'Learning rate': 0.001501489569397672, 'Dropout rate': 0.7302498237890886, 'Epochs': 300}. Best is trial 4 with value: 39.40086117313174.\u001b[0m\n"
     ]
    },
    {
     "name": "stdout",
     "output_type": "stream",
     "text": [
      "lookback 3\n",
      "Epoch: 479/480 - train_loss: 0.2869 - test_loss: 0.231245\n"
     ]
    },
    {
     "name": "stderr",
     "output_type": "stream",
     "text": [
      "\u001b[32m[I 2023-02-13 06:07:09,197]\u001b[0m Trial 20 finished with value: 38.765417203798684 and parameters: {'n layers': 6, 'Hidden size': 50, 'Learning rate': 0.004057750854282649, 'Dropout rate': 0.03333711238253306, 'Epochs': 180}. Best is trial 20 with value: 38.765417203798684.\u001b[0m\n"
     ]
    },
    {
     "name": "stdout",
     "output_type": "stream",
     "text": [
      "lookback 3\n",
      "Epoch: 439/440 - train_loss: 0.2857 - test_loss: 0.269946\n"
     ]
    },
    {
     "name": "stderr",
     "output_type": "stream",
     "text": [
      "\u001b[32m[I 2023-02-13 06:07:29,200]\u001b[0m Trial 22 finished with value: 51.23024649263025 and parameters: {'n layers': 5, 'Hidden size': 114, 'Learning rate': 0.008525988891582814, 'Dropout rate': 0.15861804449056566, 'Epochs': 480}. Best is trial 20 with value: 38.765417203798684.\u001b[0m\n"
     ]
    },
    {
     "name": "stdout",
     "output_type": "stream",
     "text": [
      "lookback 3\n",
      "Epoch: 164/330 - train_loss: 0.2862 - test_loss: 0.260403\n",
      "Epoch: 231/310 - train_loss: 0.2947 - test_loss: 0.270282\n",
      "Epoch: 319/320 - train_loss: 0.2968 - test_loss: 0.273512\n",
      "Epoch: 180/240 - train_loss: 0.3155 - test_loss: 0.260579\n"
     ]
    },
    {
     "name": "stderr",
     "output_type": "stream",
     "text": [
      "\u001b[32m[I 2023-02-13 06:08:49,594]\u001b[0m Trial 19 finished with value: 47.45728842084125 and parameters: {'n layers': 5, 'Hidden size': 34, 'Learning rate': 0.0014065068075028752, 'Dropout rate': 0.43737267684373005, 'Epochs': 320}. Best is trial 20 with value: 38.765417203798684.\u001b[0m\n"
     ]
    },
    {
     "name": "stdout",
     "output_type": "stream",
     "text": [
      "lookback 3\n",
      "Epoch: 160/320 - train_loss: 0.2851 - test_loss: 0.247741\n",
      "Epoch: 120/240 - train_loss: 0.2901 - test_loss: 0.299469\n",
      "Epoch:  0/130 - train_loss: 0.9696 - test_loss: 0.669740\n",
      "Epoch: 319/320 - train_loss: 0.2848 - test_loss: 0.253144\n",
      "Epoch:  0/130 - train_loss: 0.9980 - test_loss: 0.645559\n",
      "Epoch: 240/320 - train_loss: 0.2874 - test_loss: 0.245947\n"
     ]
    },
    {
     "name": "stderr",
     "output_type": "stream",
     "text": [
      "\u001b[32m[I 2023-02-13 06:10:39,277]\u001b[0m Trial 25 finished with value: 50.59743794399892 and parameters: {'n layers': 3, 'Hidden size': 280, 'Learning rate': 0.0003035663900507455, 'Dropout rate': 0.5910744850263302, 'Epochs': 320}. Best is trial 20 with value: 38.765417203798684.\u001b[0m\n"
     ]
    },
    {
     "name": "stdout",
     "output_type": "stream",
     "text": [
      "lookback 3\n",
      "Epoch:  0/100 - train_loss: 1.0068 - test_loss: 0.674318\n",
      "Epoch: 164/330 - train_loss: 0.2871 - test_loss: 0.293927\n",
      "Epoch:  0/100 - train_loss: 1.2259 - test_loss: 0.889790\n",
      "Epoch: 32/130 - train_loss: 0.3061 - test_loss: 0.304591\n",
      "Epoch: 25/100 - train_loss: 0.3041 - test_loss: 0.251802\n",
      "Epoch: 32/130 - train_loss: 0.2936 - test_loss: 0.287971\n",
      "Epoch:  0/100 - train_loss: 1.0726 - test_loss: 0.737613\n",
      "Epoch: 246/330 - train_loss: 0.3374 - test_loss: 0.275641\n",
      "Epoch: 50/100 - train_loss: 0.2871 - test_loss: 0.271433\n",
      "Epoch: 64/130 - train_loss: 0.2986 - test_loss: 0.266908\n",
      "Epoch: 239/240 - train_loss: 0.3177 - test_loss: 0.269107\n"
     ]
    },
    {
     "name": "stderr",
     "output_type": "stream",
     "text": [
      "\u001b[32m[I 2023-02-13 06:13:15,760]\u001b[0m Trial 27 finished with value: 42.11942084998265 and parameters: {'n layers': 5, 'Hidden size': 346, 'Learning rate': 0.0019671061762017725, 'Dropout rate': 0.5697488519566715, 'Epochs': 310}. Best is trial 20 with value: 38.765417203798684.\u001b[0m\n"
     ]
    },
    {
     "name": "stdout",
     "output_type": "stream",
     "text": [
      "lookback 3\n",
      "Epoch: 64/130 - train_loss: 0.3056 - test_loss: 0.258320\n",
      "Epoch: 308/310 - train_loss: 0.2950 - test_loss: 0.268367\n",
      "Epoch: 309/310 - train_loss: 0.3150 - test_loss: 0.267206\n",
      "Epoch: 25/100 - train_loss: 0.3192 - test_loss: 0.235847\n"
     ]
    },
    {
     "name": "stderr",
     "output_type": "stream",
     "text": [
      "\u001b[32m[I 2023-02-13 06:13:45,715]\u001b[0m Trial 26 finished with value: 52.023659347708154 and parameters: {'n layers': 3, 'Hidden size': 22, 'Learning rate': 0.00023500022372506765, 'Dropout rate': 0.369914212389891, 'Epochs': 440}. Best is trial 20 with value: 38.765417203798684.\u001b[0m\n"
     ]
    },
    {
     "name": "stdout",
     "output_type": "stream",
     "text": [
      "lookback 3\n",
      "Epoch: 180/240 - train_loss: 0.3230 - test_loss: 0.274293\n",
      "Epoch: 75/100 - train_loss: 0.2964 - test_loss: 0.275741\n",
      "Epoch: 25/100 - train_loss: 0.2904 - test_loss: 0.254726\n",
      "Epoch: 96/130 - train_loss: 0.3034 - test_loss: 0.269416\n",
      "Epoch: 96/130 - train_loss: 0.3260 - test_loss: 0.265644\n",
      "Epoch: 50/100 - train_loss: 0.3241 - test_loss: 0.255888\n",
      "Epoch: 246/330 - train_loss: 0.2927 - test_loss: 0.254591\n",
      "Epoch:  0/100 - train_loss: 1.3354 - test_loss: 1.073706\n",
      "Epoch: 99/100 - train_loss: 0.2976 - test_loss: 0.255446\n"
     ]
    },
    {
     "name": "stderr",
     "output_type": "stream",
     "text": [
      "\u001b[32m[I 2023-02-13 06:15:48,748]\u001b[0m Trial 33 finished with value: 41.09405042128733 and parameters: {'n layers': 4, 'Hidden size': 5, 'Learning rate': 0.005327114229655819, 'Dropout rate': 0.5203555229129141, 'Epochs': 100}. Best is trial 20 with value: 38.765417203798684.\u001b[0m\n"
     ]
    },
    {
     "name": "stdout",
     "output_type": "stream",
     "text": [
      "lookback 3\n",
      "Epoch:  0/180 - train_loss: 1.0089 - test_loss: 0.762729\n",
      "Epoch: 50/100 - train_loss: 0.2927 - test_loss: 0.297649\n",
      "Epoch: 128/130 - train_loss: 0.3006 - test_loss: 0.231830\n",
      "Epoch: 129/130 - train_loss: 0.2879 - test_loss: 0.310456\n"
     ]
    },
    {
     "name": "stderr",
     "output_type": "stream",
     "text": [
      "\u001b[32m[I 2023-02-13 06:16:40,747]\u001b[0m Trial 31 finished with value: 44.76089323049794 and parameters: {'n layers': 4, 'Hidden size': 378, 'Learning rate': 0.008026660567255626, 'Dropout rate': 0.5585548373231155, 'Epochs': 320}. Best is trial 20 with value: 38.765417203798684.\u001b[0m\n"
     ]
    },
    {
     "name": "stdout",
     "output_type": "stream",
     "text": [
      "lookback 3\n",
      "Epoch: 75/100 - train_loss: 0.3050 - test_loss: 0.208877\n",
      "Epoch: 128/130 - train_loss: 0.3086 - test_loss: 0.277968\n",
      "Epoch: 129/130 - train_loss: 0.3104 - test_loss: 0.295727\n"
     ]
    },
    {
     "name": "stderr",
     "output_type": "stream",
     "text": [
      "\u001b[32m[I 2023-02-13 06:17:03,959]\u001b[0m Trial 32 finished with value: 47.59934807697081 and parameters: {'n layers': 4, 'Hidden size': 28, 'Learning rate': 0.00895249691217103, 'Dropout rate': 0.5229334512628252, 'Epochs': 120}. Best is trial 20 with value: 38.765417203798684.\u001b[0m\n"
     ]
    },
    {
     "name": "stdout",
     "output_type": "stream",
     "text": [
      "lookback 3\n",
      "Epoch: 25/100 - train_loss: 0.3326 - test_loss: 0.303096\n",
      "Epoch: 328/330 - train_loss: 0.2853 - test_loss: 0.253281\n",
      "Epoch: 329/330 - train_loss: 0.3447 - test_loss: 0.248273\n"
     ]
    },
    {
     "name": "stderr",
     "output_type": "stream",
     "text": [
      "\u001b[32m[I 2023-02-13 06:17:51,072]\u001b[0m Trial 29 finished with value: 42.142605932636954 and parameters: {'n layers': 4, 'Hidden size': 5, 'Learning rate': 0.00802684491938532, 'Dropout rate': 0.5234390932280731, 'Epochs': 330}. Best is trial 20 with value: 38.765417203798684.\u001b[0m\n"
     ]
    },
    {
     "name": "stdout",
     "output_type": "stream",
     "text": [
      "lookback 3\n",
      "Epoch:  0/160 - train_loss: 0.8851 - test_loss: 0.688285\n",
      "Epoch: 239/240 - train_loss: 0.2855 - test_loss: 0.271581\n"
     ]
    },
    {
     "name": "stderr",
     "output_type": "stream",
     "text": [
      "\u001b[32m[I 2023-02-13 06:18:47,735]\u001b[0m Trial 28 finished with value: 44.007334621510346 and parameters: {'n layers': 6, 'Hidden size': 7, 'Learning rate': 0.005156412197252649, 'Dropout rate': 0.6835069737690159, 'Epochs': 240}. Best is trial 20 with value: 38.765417203798684.\u001b[0m\n"
     ]
    },
    {
     "name": "stdout",
     "output_type": "stream",
     "text": [
      "lookback 3\n",
      "Epoch: 75/100 - train_loss: 0.3012 - test_loss: 0.281729\n",
      "Epoch: 99/100 - train_loss: 0.2867 - test_loss: 0.286467\n"
     ]
    },
    {
     "name": "stderr",
     "output_type": "stream",
     "text": [
      "\u001b[32m[I 2023-02-13 06:19:01,755]\u001b[0m Trial 35 finished with value: 37.72915106825513 and parameters: {'n layers': 4, 'Hidden size': 8, 'Learning rate': 0.004977116837375072, 'Dropout rate': 0.5240140246803989, 'Epochs': 100}. Best is trial 35 with value: 37.72915106825513.\u001b[0m\n"
     ]
    },
    {
     "name": "stdout",
     "output_type": "stream",
     "text": [
      "lookback 3\n",
      "Epoch: 50/100 - train_loss: 0.3086 - test_loss: 0.284140\n",
      "Epoch: 45/180 - train_loss: 0.2960 - test_loss: 0.264128\n",
      "Epoch: 319/320 - train_loss: 0.2858 - test_loss: 0.248314\n"
     ]
    },
    {
     "name": "stderr",
     "output_type": "stream",
     "text": [
      "\u001b[32m[I 2023-02-13 06:20:16,822]\u001b[0m Trial 15 finished with value: 39.42589012504151 and parameters: {'n layers': 4, 'Hidden size': 16, 'Learning rate': 0.009922236144111689, 'Dropout rate': 0.26028674230112014, 'Epochs': 260}. Best is trial 35 with value: 37.72915106825513.\u001b[0m\n"
     ]
    },
    {
     "name": "stdout",
     "output_type": "stream",
     "text": [
      "lookback 3\n",
      "Epoch:  0/170 - train_loss: 1.2441 - test_loss: 0.925966\n",
      "Epoch:  0/170 - train_loss: 1.3688 - test_loss: 0.782491\n",
      "Epoch: 160/320 - train_loss: 0.3201 - test_loss: 0.263017\n",
      "Epoch: 240/320 - train_loss: 0.3388 - test_loss: 0.285987\n",
      "Epoch: 99/100 - train_loss: 0.2890 - test_loss: 0.284904\n"
     ]
    },
    {
     "name": "stderr",
     "output_type": "stream",
     "text": [
      "\u001b[32m[I 2023-02-13 06:21:56,233]\u001b[0m Trial 34 finished with value: 47.6508984280044 and parameters: {'n layers': 4, 'Hidden size': 5, 'Learning rate': 0.005589558150595963, 'Dropout rate': 0.540054432320571, 'Epochs': 130}. Best is trial 35 with value: 37.72915106825513.\u001b[0m\n"
     ]
    },
    {
     "name": "stdout",
     "output_type": "stream",
     "text": [
      "lookback 3\n",
      "Epoch:  0/170 - train_loss: 1.3545 - test_loss: 0.835457\n",
      "Epoch: 75/100 - train_loss: 0.2856 - test_loss: 0.249903\n",
      "Epoch: 328/330 - train_loss: 0.2836 - test_loss: 0.238024\n",
      "Epoch: 329/330 - train_loss: 0.2947 - test_loss: 0.261768\n"
     ]
    },
    {
     "name": "stderr",
     "output_type": "stream",
     "text": [
      "\u001b[32m[I 2023-02-13 06:22:54,220]\u001b[0m Trial 30 finished with value: 45.88411332870663 and parameters: {'n layers': 4, 'Hidden size': 5, 'Learning rate': 0.007787303528840312, 'Dropout rate': 0.571108009602064, 'Epochs': 330}. Best is trial 35 with value: 37.72915106825513.\u001b[0m\n"
     ]
    },
    {
     "name": "stdout",
     "output_type": "stream",
     "text": [
      "lookback 3\n",
      "Epoch: 40/160 - train_loss: 0.2859 - test_loss: 0.287935\n",
      "Epoch:  0/180 - train_loss: 0.9907 - test_loss: 0.690473\n",
      "Epoch:  0/180 - train_loss: 1.0845 - test_loss: 0.691749\n",
      "Epoch:  0/180 - train_loss: 1.3163 - test_loss: 1.089948\n",
      "Epoch: 42/170 - train_loss: 0.2872 - test_loss: 0.242941\n",
      "Epoch: 90/180 - train_loss: 0.3256 - test_loss: 0.240227\n",
      "Epoch: 99/100 - train_loss: 0.2863 - test_loss: 0.271063\n"
     ]
    },
    {
     "name": "stderr",
     "output_type": "stream",
     "text": [
      "\u001b[32m[I 2023-02-13 06:25:02,127]\u001b[0m Trial 36 finished with value: 44.11334842529561 and parameters: {'n layers': 4, 'Hidden size': 5, 'Learning rate': 0.004883833518246296, 'Dropout rate': 0.515522345956037, 'Epochs': 100}. Best is trial 35 with value: 37.72915106825513.\u001b[0m\n"
     ]
    },
    {
     "name": "stdout",
     "output_type": "stream",
     "text": [
      "lookback 3\n",
      "Epoch: 42/170 - train_loss: 0.3096 - test_loss: 0.256338\n",
      "Epoch:  0/370 - train_loss: 1.2691 - test_loss: 0.927717\n",
      "Epoch: 42/170 - train_loss: 0.3136 - test_loss: 0.296183\n",
      "Epoch:  0/370 - train_loss: 1.5071 - test_loss: 1.121520\n",
      "Epoch: 80/160 - train_loss: 0.2889 - test_loss: 0.265857\n",
      "Epoch: 45/180 - train_loss: 0.3034 - test_loss: 0.263968\n",
      "Epoch: 45/180 - train_loss: 0.2971 - test_loss: 0.272647\n",
      "Epoch: 84/170 - train_loss: 0.2901 - test_loss: 0.240441\n",
      "Epoch:  0/370 - train_loss: 1.2562 - test_loss: 0.768148\n",
      "Epoch: 84/170 - train_loss: 0.2978 - test_loss: 0.256152\n",
      "Epoch: 135/180 - train_loss: 0.2952 - test_loss: 0.239249\n",
      "Epoch: 84/170 - train_loss: 0.3076 - test_loss: 0.245769\n",
      "Epoch: 120/160 - train_loss: 0.2931 - test_loss: 0.272336\n",
      "Epoch: 126/170 - train_loss: 0.3059 - test_loss: 0.250049\n",
      "Epoch: 126/170 - train_loss: 0.2844 - test_loss: 0.284840\n",
      "Epoch: 90/180 - train_loss: 0.2892 - test_loss: 0.288841\n",
      "Epoch: 159/160 - train_loss: 0.2880 - test_loss: 0.242072\n"
     ]
    },
    {
     "name": "stderr",
     "output_type": "stream",
     "text": [
      "\u001b[32m[I 2023-02-13 06:28:30,130]\u001b[0m Trial 38 finished with value: 40.58779549687048 and parameters: {'n layers': 4, 'Hidden size': 9, 'Learning rate': 0.004100092935056369, 'Dropout rate': 0.1677329580577354, 'Epochs': 180}. Best is trial 35 with value: 37.72915106825513.\u001b[0m\n"
     ]
    },
    {
     "name": "stdout",
     "output_type": "stream",
     "text": [
      "lookback 3\n",
      "Epoch: 126/170 - train_loss: 0.3071 - test_loss: 0.280084\n",
      "Epoch: 179/180 - train_loss: 0.3155 - test_loss: 0.245361\n"
     ]
    },
    {
     "name": "stderr",
     "output_type": "stream",
     "text": [
      "\u001b[32m[I 2023-02-13 06:29:07,477]\u001b[0m Trial 37 finished with value: 47.9332279584582 and parameters: {'n layers': 4, 'Hidden size': 5, 'Learning rate': 0.005184680168974572, 'Dropout rate': 0.5245391854850584, 'Epochs': 100}. Best is trial 35 with value: 37.72915106825513.\u001b[0m\n"
     ]
    },
    {
     "name": "stdout",
     "output_type": "stream",
     "text": [
      "lookback 3\n",
      "Epoch: 92/370 - train_loss: 0.3206 - test_loss: 0.290746\n",
      "Epoch: 168/170 - train_loss: 0.2925 - test_loss: 0.265467\n",
      "Epoch: 169/170 - train_loss: 0.2973 - test_loss: 0.265064\n"
     ]
    },
    {
     "name": "stderr",
     "output_type": "stream",
     "text": [
      "\u001b[32m[I 2023-02-13 06:29:49,303]\u001b[0m Trial 39 finished with value: 50.79229858580786 and parameters: {'n layers': 4, 'Hidden size': 11, 'Learning rate': 0.0036105348439565243, 'Dropout rate': 0.474585108708349, 'Epochs': 380}. Best is trial 35 with value: 37.72915106825513.\u001b[0m\n"
     ]
    },
    {
     "name": "stdout",
     "output_type": "stream",
     "text": [
      "Epoch: 168/170 - train_loss: 0.2940 - test_loss: 0.257337\n",
      "Epoch: 80/320 - train_loss: 0.5332 - test_loss: 0.508405\n",
      "Epoch: 169/170 - train_loss: 0.3294 - test_loss: 0.289876\n"
     ]
    },
    {
     "name": "stderr",
     "output_type": "stream",
     "text": [
      "\u001b[32m[I 2023-02-13 06:30:10,467]\u001b[0m Trial 40 finished with value: 46.22256522465318 and parameters: {'n layers': 4, 'Hidden size': 5, 'Learning rate': 0.0044316347428371376, 'Dropout rate': 0.4754836953062356, 'Epochs': 160}. Best is trial 35 with value: 37.72915106825513.\u001b[0m\n"
     ]
    },
    {
     "name": "stdout",
     "output_type": "stream",
     "text": [
      "Epoch: 90/180 - train_loss: 0.2929 - test_loss: 0.263267\n",
      "Epoch: 45/180 - train_loss: 0.2888 - test_loss: 0.306011\n",
      "Epoch: 135/180 - train_loss: 0.3131 - test_loss: 0.272419\n",
      "Epoch:  0/170 - train_loss: 1.3350 - test_loss: 1.120710\n",
      "Epoch: 168/170 - train_loss: 0.2990 - test_loss: 0.262803\n",
      "Epoch: 169/170 - train_loss: 0.2884 - test_loss: 0.268903\n"
     ]
    },
    {
     "name": "stderr",
     "output_type": "stream",
     "text": [
      "\u001b[32m[I 2023-02-13 06:31:05,614]\u001b[0m Trial 41 finished with value: 42.0644957878916 and parameters: {'n layers': 4, 'Hidden size': 8, 'Learning rate': 0.004163565933444907, 'Dropout rate': 0.37118735672638703, 'Epochs': 160}. Best is trial 35 with value: 37.72915106825513.\u001b[0m\n"
     ]
    },
    {
     "name": "stdout",
     "output_type": "stream",
     "text": [
      "Epoch:  0/170 - train_loss: 1.3020 - test_loss: 0.711660\n",
      "Epoch: 92/370 - train_loss: 0.2841 - test_loss: 0.244291\n",
      "Epoch: 179/180 - train_loss: 0.3199 - test_loss: 0.257774\n"
     ]
    },
    {
     "name": "stderr",
     "output_type": "stream",
     "text": [
      "\u001b[32m[I 2023-02-13 06:32:05,592]\u001b[0m Trial 43 finished with value: 44.461557761879476 and parameters: {'n layers': 4, 'Hidden size': 9, 'Learning rate': 0.0034824733726587084, 'Dropout rate': 0.44014509235935106, 'Epochs': 160}. Best is trial 35 with value: 37.72915106825513.\u001b[0m\n"
     ]
    },
    {
     "name": "stdout",
     "output_type": "stream",
     "text": [
      "Epoch: 42/170 - train_loss: 0.3001 - test_loss: 0.273816\n",
      "Epoch: 92/370 - train_loss: 0.2943 - test_loss: 0.231911\n",
      "Epoch: 135/180 - train_loss: 0.2868 - test_loss: 0.262380\n",
      "Epoch: 319/320 - train_loss: 0.2881 - test_loss: 0.252851\n",
      "Epoch: 42/170 - train_loss: 0.2920 - test_loss: 0.253562\n"
     ]
    },
    {
     "name": "stderr",
     "output_type": "stream",
     "text": [
      "\u001b[32m[I 2023-02-13 06:32:29,700]\u001b[0m Trial 9 finished with value: 46.56811669654122 and parameters: {'n layers': 4, 'Hidden size': 139, 'Learning rate': 0.007859656508057356, 'Dropout rate': 0.5192745062368466, 'Epochs': 470}. Best is trial 35 with value: 37.72915106825513.\u001b[0m\n"
     ]
    },
    {
     "name": "stdout",
     "output_type": "stream",
     "text": [
      "Epoch: 90/180 - train_loss: 0.3044 - test_loss: 0.261674\n",
      "Epoch: 184/370 - train_loss: 0.2824 - test_loss: 0.255857\n",
      "Epoch: 84/170 - train_loss: 0.3025 - test_loss: 0.281851\n",
      "Epoch: 179/180 - train_loss: 0.2954 - test_loss: 0.277364\n"
     ]
    },
    {
     "name": "stderr",
     "output_type": "stream",
     "text": [
      "\u001b[32m[I 2023-02-13 06:33:22,789]\u001b[0m Trial 42 finished with value: 48.32658502242001 and parameters: {'n layers': 4, 'Hidden size': 10, 'Learning rate': 0.0034797111140709115, 'Dropout rate': 0.4383801960426537, 'Epochs': 160}. Best is trial 35 with value: 37.72915106825513.\u001b[0m\n"
     ]
    },
    {
     "name": "stdout",
     "output_type": "stream",
     "text": [
      "Epoch: 84/170 - train_loss: 0.3098 - test_loss: 0.261984\n",
      "Epoch: 240/320 - train_loss: 0.2975 - test_loss: 0.283219\n",
      "Epoch: 135/180 - train_loss: 0.2852 - test_loss: 0.290722\n",
      "Epoch: 126/170 - train_loss: 0.3037 - test_loss: 0.297236\n",
      "Epoch: 184/370 - train_loss: 0.3148 - test_loss: 0.265264\n",
      "Epoch: 126/170 - train_loss: 0.2851 - test_loss: 0.294791\n",
      "Epoch: 184/370 - train_loss: 0.2864 - test_loss: 0.261713\n",
      "Epoch: 276/370 - train_loss: 0.3545 - test_loss: 0.272829\n",
      "Epoch: 168/170 - train_loss: 0.3157 - test_loss: 0.276141\n",
      "Epoch: 169/170 - train_loss: 0.2911 - test_loss: 0.266094\n"
     ]
    },
    {
     "name": "stderr",
     "output_type": "stream",
     "text": [
      "\u001b[32m[I 2023-02-13 06:35:02,656]\u001b[0m Trial 48 finished with value: 43.46275499125547 and parameters: {'n layers': 3, 'Hidden size': 12, 'Learning rate': 0.002922993126759836, 'Dropout rate': 0.4513247603878964, 'Epochs': 380}. Best is trial 35 with value: 37.72915106825513.\u001b[0m\n"
     ]
    },
    {
     "name": "stdout",
     "output_type": "stream",
     "text": [
      "Epoch: 179/180 - train_loss: 0.2904 - test_loss: 0.265826\n"
     ]
    },
    {
     "name": "stderr",
     "output_type": "stream",
     "text": [
      "\u001b[32m[I 2023-02-13 06:35:18,194]\u001b[0m Trial 44 finished with value: 48.9177646444525 and parameters: {'n layers': 4, 'Hidden size': 9, 'Learning rate': 0.0035373392891932284, 'Dropout rate': 0.7968567676255258, 'Epochs': 170}. Best is trial 35 with value: 37.72915106825513.\u001b[0m\n"
     ]
    },
    {
     "name": "stdout",
     "output_type": "stream",
     "text": [
      "Epoch: 168/170 - train_loss: 0.2857 - test_loss: 0.287591\n",
      "Epoch: 169/170 - train_loss: 0.2876 - test_loss: 0.256330\n"
     ]
    },
    {
     "name": "stderr",
     "output_type": "stream",
     "text": [
      "\u001b[32m[I 2023-02-13 06:35:26,096]\u001b[0m Trial 49 finished with value: 41.28093024830092 and parameters: {'n layers': 3, 'Hidden size': 12, 'Learning rate': 0.0024719073234997216, 'Dropout rate': 0.4558541957483759, 'Epochs': 170}. Best is trial 35 with value: 37.72915106825513.\u001b[0m\n"
     ]
    },
    {
     "name": "stdout",
     "output_type": "stream",
     "text": [
      "Epoch: 160/320 - train_loss: 0.3847 - test_loss: 0.370044\n",
      "Epoch: 319/320 - train_loss: 0.2871 - test_loss: 0.260939\n"
     ]
    },
    {
     "name": "stderr",
     "output_type": "stream",
     "text": [
      "\u001b[32m[I 2023-02-13 06:35:57,763]\u001b[0m Trial 5 finished with value: 50.29154709156103 and parameters: {'n layers': 5, 'Hidden size': 90, 'Learning rate': 0.0012947136982174123, 'Dropout rate': 0.23607508699759058, 'Epochs': 290}. Best is trial 35 with value: 37.72915106825513.\u001b[0m\n"
     ]
    },
    {
     "name": "stdout",
     "output_type": "stream",
     "text": [
      "Epoch: 80/320 - train_loss: 0.2942 - test_loss: 0.268941\n",
      "Epoch: 80/320 - train_loss: 0.3119 - test_loss: 0.310392\n",
      "Epoch: 80/320 - train_loss: 0.2946 - test_loss: 0.258622\n",
      "Epoch: 80/320 - train_loss: 0.2971 - test_loss: 0.276061\n",
      "Epoch: 276/370 - train_loss: 0.3061 - test_loss: 0.249896\n",
      "Epoch: 276/370 - train_loss: 0.2886 - test_loss: 0.261192\n",
      "Epoch: 368/370 - train_loss: 0.3075 - test_loss: 0.271826\n",
      "Epoch: 369/370 - train_loss: 0.3005 - test_loss: 0.311404\n"
     ]
    },
    {
     "name": "stderr",
     "output_type": "stream",
     "text": [
      "\u001b[32m[I 2023-02-13 06:36:29,683]\u001b[0m Trial 46 finished with value: 43.59432065191181 and parameters: {'n layers': 3, 'Hidden size': 11, 'Learning rate': 0.0031620932268448744, 'Dropout rate': 0.4723197287475821, 'Epochs': 180}. Best is trial 35 with value: 37.72915106825513.\u001b[0m\n"
     ]
    },
    {
     "name": "stdout",
     "output_type": "stream",
     "text": [
      "Epoch: 80/320 - train_loss: 0.2898 - test_loss: 0.273199\n",
      "Epoch: 80/320 - train_loss: 0.3088 - test_loss: 0.255538\n",
      "Epoch: 240/320 - train_loss: 0.3159 - test_loss: 0.297945\n",
      "Epoch: 368/370 - train_loss: 0.2865 - test_loss: 0.265620\n",
      "Epoch: 369/370 - train_loss: 0.3456 - test_loss: 0.267605\n"
     ]
    },
    {
     "name": "stderr",
     "output_type": "stream",
     "text": [
      "\u001b[32m[I 2023-02-13 06:37:31,353]\u001b[0m Trial 47 finished with value: 41.29979550422268 and parameters: {'n layers': 3, 'Hidden size': 9, 'Learning rate': 0.0032653888927696405, 'Dropout rate': 0.7944665115964794, 'Epochs': 370}. Best is trial 35 with value: 37.72915106825513.\u001b[0m\n"
     ]
    },
    {
     "name": "stdout",
     "output_type": "stream",
     "text": [
      "Epoch: 160/320 - train_loss: 0.3136 - test_loss: 0.251644\n",
      "Epoch: 160/320 - train_loss: 0.2855 - test_loss: 0.283745\n",
      "Epoch: 368/370 - train_loss: 0.2902 - test_loss: 0.262339\n",
      "Epoch: 369/370 - train_loss: 0.2819 - test_loss: 0.256333\n"
     ]
    },
    {
     "name": "stderr",
     "output_type": "stream",
     "text": [
      "\u001b[32m[I 2023-02-13 06:37:59,290]\u001b[0m Trial 45 finished with value: 40.414829317189835 and parameters: {'n layers': 4, 'Hidden size': 10, 'Learning rate': 0.0033283981360776953, 'Dropout rate': 0.46648759967572423, 'Epochs': 170}. Best is trial 35 with value: 37.72915106825513.\u001b[0m\n"
     ]
    },
    {
     "name": "stdout",
     "output_type": "stream",
     "text": [
      "Epoch: 160/320 - train_loss: 0.2879 - test_loss: 0.232268\n",
      "Epoch: 160/320 - train_loss: 0.3029 - test_loss: 0.294083\n",
      "Epoch: 319/320 - train_loss: 0.3604 - test_loss: 0.271037\n"
     ]
    },
    {
     "name": "stderr",
     "output_type": "stream",
     "text": [
      "\u001b[32m[I 2023-02-13 06:38:28,701]\u001b[0m Trial 7 finished with value: 52.920595142546055 and parameters: {'n layers': 4, 'Hidden size': 7, 'Learning rate': 0.0001773787460020082, 'Dropout rate': 0.06865957380360335, 'Epochs': 270}. Best is trial 35 with value: 37.72915106825513.\u001b[0m\n"
     ]
    },
    {
     "name": "stdout",
     "output_type": "stream",
     "text": [
      "Epoch: 240/320 - train_loss: 0.2853 - test_loss: 0.310934\n",
      "Epoch: 160/320 - train_loss: 0.3039 - test_loss: 0.242929\n",
      "Epoch: 240/320 - train_loss: 0.3187 - test_loss: 0.286101\n",
      "Epoch: 240/320 - train_loss: 0.3137 - test_loss: 0.257112\n",
      "Epoch: 160/320 - train_loss: 0.3196 - test_loss: 0.266564\n",
      "Epoch: 240/320 - train_loss: 0.3094 - test_loss: 0.273359\n",
      "Epoch: 319/320 - train_loss: 0.2869 - test_loss: 0.258740\n"
     ]
    },
    {
     "name": "stderr",
     "output_type": "stream",
     "text": [
      "\u001b[32m[I 2023-02-13 06:39:49,000]\u001b[0m Trial 16 finished with value: 42.504700891794016 and parameters: {'n layers': 5, 'Hidden size': 318, 'Learning rate': 0.0049041901773746776, 'Dropout rate': 0.2882840893083256, 'Epochs': 490}. Best is trial 35 with value: 37.72915106825513.\u001b[0m\n"
     ]
    },
    {
     "name": "stdout",
     "output_type": "stream",
     "text": [
      "Epoch: 319/320 - train_loss: 0.3163 - test_loss: 0.284445\n"
     ]
    },
    {
     "name": "stderr",
     "output_type": "stream",
     "text": [
      "\u001b[32m[I 2023-02-13 06:40:01,877]\u001b[0m Trial 1 finished with value: 43.916712403569996 and parameters: {'n layers': 5, 'Hidden size': 120, 'Learning rate': 0.0015738685159817213, 'Dropout rate': 0.5982998506381865, 'Epochs': 370}. Best is trial 35 with value: 37.72915106825513.\u001b[0m\n"
     ]
    },
    {
     "name": "stdout",
     "output_type": "stream",
     "text": [
      "Epoch: 240/320 - train_loss: 0.2886 - test_loss: 0.296828\n",
      "Epoch: 319/320 - train_loss: 0.2844 - test_loss: 0.281326\n"
     ]
    },
    {
     "name": "stderr",
     "output_type": "stream",
     "text": [
      "\u001b[32m[I 2023-02-13 06:40:11,819]\u001b[0m Trial 11 finished with value: 41.41261007441264 and parameters: {'n layers': 3, 'Hidden size': 176, 'Learning rate': 0.0018059075113143884, 'Dropout rate': 0.07551449189273539, 'Epochs': 360}. Best is trial 35 with value: 37.72915106825513.\u001b[0m\n"
     ]
    },
    {
     "name": "stdout",
     "output_type": "stream",
     "text": [
      "Epoch: 319/320 - train_loss: 0.2869 - test_loss: 0.285653\n"
     ]
    },
    {
     "name": "stderr",
     "output_type": "stream",
     "text": [
      "\u001b[32m[I 2023-02-13 06:40:19,016]\u001b[0m Trial 0 finished with value: 35.86375254709898 and parameters: {'n layers': 4, 'Hidden size': 7, 'Learning rate': 0.004840699113569324, 'Dropout rate': 0.7081075557140661, 'Epochs': 290}. Best is trial 0 with value: 35.86375254709898.\u001b[0m\n"
     ]
    },
    {
     "name": "stdout",
     "output_type": "stream",
     "text": [
      "Epoch: 240/320 - train_loss: 0.2950 - test_loss: 0.260659\n",
      "Epoch: 319/320 - train_loss: 0.2981 - test_loss: 0.246150\n"
     ]
    },
    {
     "name": "stderr",
     "output_type": "stream",
     "text": [
      "\u001b[32m[I 2023-02-13 06:40:33,845]\u001b[0m Trial 17 finished with value: 40.22685592634323 and parameters: {'n layers': 5, 'Hidden size': 264, 'Learning rate': 0.0034637677725766055, 'Dropout rate': 0.5265046952750717, 'Epochs': 290}. Best is trial 0 with value: 35.86375254709898.\u001b[0m\n",
      "\u001b[32m[I 2023-02-13 06:40:42,677]\u001b[0m Trial 18 finished with value: 40.212754318283146 and parameters: {'n layers': 5, 'Hidden size': 6, 'Learning rate': 0.0046952389542394704, 'Dropout rate': 0.13119767871326443, 'Epochs': 320}. Best is trial 0 with value: 35.86375254709898.\u001b[0m\n",
      "\u001b[32m[I 2023-02-13 06:40:42,710]\u001b[0m A new study created in memory with name: no-name-79fd7fef-5704-4b09-955c-32709bfa57c9\u001b[0m\n"
     ]
    },
    {
     "name": "stdout",
     "output_type": "stream",
     "text": [
      "Epoch: 319/320 - train_loss: 0.3251 - test_loss: 0.313095\n",
      "Study statistics for : \n",
      "  Number of finished trials:  50\n",
      "Best trial of city:  Cần Thơ\n",
      "  Value:  35.86375254709898\n",
      "optimize result of city: Cần Thơ\n",
      "lookback 3\n",
      "lookback 3\n",
      "lookback 3\n",
      "lookback 3\n",
      "lookback 3\n",
      "lookback 3\n",
      "lookback 3\n",
      "lookback 3\n",
      "lookback 3\n",
      "lookback 3\n",
      "lookback 3\n",
      "lookback 3\n",
      "lookback 3\n",
      "lookback 3\n",
      "lookback 3\n",
      "lookback 3\n",
      "lookback 3\n",
      "lookback 3\n",
      "lookback 3\n",
      "lookback 3\n",
      "Epoch:  0/450 - train_loss: 1.8094 - test_loss: 1.692563\n",
      "Epoch:  0/450 - train_loss: 0.8450 - test_loss: 0.664215\n",
      "Epoch:  0/450 - train_loss: 1.2463 - test_loss: 1.074473\n",
      "Epoch:  0/450 - train_loss: 1.2079 - test_loss: 0.783318\n",
      "Epoch:  0/450 - train_loss: 1.1937 - test_loss: 0.709315\n",
      "Epoch:  0/450 - train_loss: 1.1333 - test_loss: 1.059098\n",
      "Epoch:  0/450 - train_loss: 1.2585 - test_loss: 1.134944\n",
      "Epoch:  0/450 - train_loss: 1.4719 - test_loss: 1.278028\n",
      "Epoch:  0/450 - train_loss: 1.2446 - test_loss: 1.161174\n",
      "Epoch:  0/450 - train_loss: 1.1288 - test_loss: 0.990197\n",
      "Epoch:  0/450 - train_loss: 0.9080 - test_loss: 0.649070\n",
      "Epoch:  0/450 - train_loss: 1.5781 - test_loss: 1.233595\n",
      "Epoch:  0/450 - train_loss: 1.3011 - test_loss: 0.965483\n",
      "Epoch:  0/450 - train_loss: 1.2676 - test_loss: 0.952335\n",
      "Epoch:  0/450 - train_loss: 0.9364 - test_loss: 0.816436\n",
      "Epoch:  0/450 - train_loss: 1.5537 - test_loss: 0.827800\n",
      "Epoch:  0/450 - train_loss: 1.3354 - test_loss: 1.369790\n",
      "Epoch:  0/450 - train_loss: 1.1039 - test_loss: 0.938665\n",
      "Epoch:  0/450 - train_loss: 1.0203 - test_loss: 0.807409Epoch:  0/450 - train_loss: 1.0795 - test_loss: 0.989033\n",
      "\n",
      "Epoch: 112/450 - train_loss: 0.4197 - test_loss: 0.380400\n",
      "Epoch: 112/450 - train_loss: 0.6192 - test_loss: 0.559919\n",
      "Epoch: 112/450 - train_loss: 0.5771 - test_loss: 0.571072\n",
      "Epoch: 112/450 - train_loss: 0.4369 - test_loss: 0.398200\n",
      "Epoch: 112/450 - train_loss: 0.4530 - test_loss: 0.453286\n",
      "Epoch: 224/450 - train_loss: 0.3912 - test_loss: 0.401766\n",
      "Epoch: 224/450 - train_loss: 0.4368 - test_loss: 0.406906\n",
      "Epoch: 112/450 - train_loss: 0.5702 - test_loss: 0.545298\n",
      "Epoch: 224/450 - train_loss: 0.4559 - test_loss: 0.443304\n",
      "Epoch: 224/450 - train_loss: 0.3778 - test_loss: 0.380326\n",
      "Epoch: 112/450 - train_loss: 0.4293 - test_loss: 0.420893\n",
      "Epoch: 224/450 - train_loss: 0.3893 - test_loss: 0.383060\n",
      "Epoch: 336/450 - train_loss: 0.3816 - test_loss: 0.354026\n",
      "Epoch: 336/450 - train_loss: 0.3972 - test_loss: 0.376435\n",
      "Epoch: 112/450 - train_loss: 0.3846 - test_loss: 0.406354\n",
      "Epoch: 336/450 - train_loss: 0.4021 - test_loss: 0.394093\n",
      "Epoch: 336/450 - train_loss: 0.3808 - test_loss: 0.375297\n",
      "Epoch: 224/450 - train_loss: 0.4427 - test_loss: 0.438782\n",
      "Epoch: 336/450 - train_loss: 0.3806 - test_loss: 0.383889\n",
      "Epoch: 448/450 - train_loss: 0.3817 - test_loss: 0.365776\n",
      "Epoch: 449/450 - train_loss: 0.3872 - test_loss: 0.347753\n"
     ]
    },
    {
     "name": "stderr",
     "output_type": "stream",
     "text": [
      "\u001b[32m[I 2023-02-13 07:03:22,593]\u001b[0m Trial 8 finished with value: 44.88963829582614 and parameters: {'n layers': 6, 'Hidden size': 99, 'Learning rate': 0.008009889992038584, 'Dropout rate': 0.2997425726923552, 'Epochs': 190}. Best is trial 8 with value: 44.88963829582614.\u001b[0m\n"
     ]
    },
    {
     "name": "stdout",
     "output_type": "stream",
     "text": [
      "lookback 3\n",
      "Epoch: 224/450 - train_loss: 0.4140 - test_loss: 0.377509\n",
      "Epoch: 448/450 - train_loss: 0.3779 - test_loss: 0.375194\n",
      "Epoch: 449/450 - train_loss: 0.3876 - test_loss: 0.376829\n"
     ]
    },
    {
     "name": "stderr",
     "output_type": "stream",
     "text": [
      "\u001b[32m[I 2023-02-13 07:03:39,324]\u001b[0m Trial 10 finished with value: 54.10886925543875 and parameters: {'n layers': 4, 'Hidden size': 12, 'Learning rate': 0.00015852878777593903, 'Dropout rate': 0.7681574200872743, 'Epochs': 420}. Best is trial 8 with value: 44.88963829582614.\u001b[0m\n"
     ]
    },
    {
     "name": "stdout",
     "output_type": "stream",
     "text": [
      "lookback 3\n",
      "Epoch: 112/450 - train_loss: 0.3814 - test_loss: 0.355126\n",
      "Epoch: 448/450 - train_loss: 0.4002 - test_loss: 0.374869\n",
      "Epoch: 449/450 - train_loss: 0.3886 - test_loss: 0.379838\n"
     ]
    },
    {
     "name": "stderr",
     "output_type": "stream",
     "text": [
      "\u001b[32m[I 2023-02-13 07:04:32,889]\u001b[0m Trial 6 finished with value: 59.40411087315663 and parameters: {'n layers': 6, 'Hidden size': 24, 'Learning rate': 0.0001184640718641937, 'Dropout rate': 0.057946630175798076, 'Epochs': 500}. Best is trial 8 with value: 44.88963829582614.\u001b[0m\n"
     ]
    },
    {
     "name": "stdout",
     "output_type": "stream",
     "text": [
      "lookback 3\n",
      "Epoch:  0/290 - train_loss: 1.2092 - test_loss: 0.729811\n",
      "Epoch: 448/450 - train_loss: 0.3808 - test_loss: 0.384906\n",
      "Epoch: 449/450 - train_loss: 0.3805 - test_loss: 0.377606\n",
      "Epoch:  0/290 - train_loss: 1.2276 - test_loss: 0.841513\n"
     ]
    },
    {
     "name": "stderr",
     "output_type": "stream",
     "text": [
      "\u001b[32m[I 2023-02-13 07:06:21,663]\u001b[0m Trial 15 finished with value: 56.64814438168148 and parameters: {'n layers': 6, 'Hidden size': 142, 'Learning rate': 0.00028580729447938387, 'Dropout rate': 0.027498333502203688, 'Epochs': 230}. Best is trial 8 with value: 44.88963829582614.\u001b[0m\n"
     ]
    },
    {
     "name": "stdout",
     "output_type": "stream",
     "text": [
      "lookback 3\n",
      "Epoch:  0/280 - train_loss: 1.2423 - test_loss: 1.165866\n",
      "Epoch: 336/450 - train_loss: 0.3873 - test_loss: 0.376755\n",
      "Epoch:  0/280 - train_loss: 1.2023 - test_loss: 1.086675\n",
      "Epoch: 224/450 - train_loss: 0.3812 - test_loss: 0.366608\n",
      "Epoch: 448/450 - train_loss: 0.3760 - test_loss: 0.391989\n",
      "Epoch: 449/450 - train_loss: 0.4097 - test_loss: 0.390347\n",
      "Epoch: 112/450 - train_loss: 0.5336 - test_loss: 0.499251\n"
     ]
    },
    {
     "name": "stderr",
     "output_type": "stream",
     "text": [
      "\u001b[32m[I 2023-02-13 07:08:42,855]\u001b[0m Trial 2 finished with value: 57.93033483678665 and parameters: {'n layers': 4, 'Hidden size': 323, 'Learning rate': 0.00023698955202898522, 'Dropout rate': 0.49082218944714184, 'Epochs': 220}. Best is trial 8 with value: 44.88963829582614.\u001b[0m\n"
     ]
    },
    {
     "name": "stdout",
     "output_type": "stream",
     "text": [
      "lookback 3\n",
      "Epoch: 72/290 - train_loss: 0.3835 - test_loss: 0.340877\n",
      "Epoch: 72/290 - train_loss: 0.6796 - test_loss: 0.618665\n",
      "Epoch: 70/280 - train_loss: 0.4652 - test_loss: 0.446353\n",
      "Epoch: 336/450 - train_loss: 0.3939 - test_loss: 0.384853\n",
      "Epoch:  0/450 - train_loss: 1.3811 - test_loss: 1.190461\n",
      "Epoch: 70/280 - train_loss: 0.4047 - test_loss: 0.390844\n",
      "Epoch: 144/290 - train_loss: 0.3803 - test_loss: 0.357798\n",
      "Epoch: 144/290 - train_loss: 0.5199 - test_loss: 0.504775\n",
      "Epoch: 448/450 - train_loss: 0.3937 - test_loss: 0.368479\n",
      "Epoch: 140/280 - train_loss: 0.3869 - test_loss: 0.364109\n",
      "Epoch: 449/450 - train_loss: 0.3831 - test_loss: 0.366709\n"
     ]
    },
    {
     "name": "stderr",
     "output_type": "stream",
     "text": [
      "\u001b[32m[I 2023-02-13 07:11:48,909]\u001b[0m Trial 3 finished with value: 57.38091370751686 and parameters: {'n layers': 3, 'Hidden size': 20, 'Learning rate': 0.0001275699020936952, 'Dropout rate': 0.3102237755346345, 'Epochs': 240}. Best is trial 8 with value: 44.88963829582614.\u001b[0m\n"
     ]
    },
    {
     "name": "stdout",
     "output_type": "stream",
     "text": [
      "lookback 3\n",
      "Epoch: 224/450 - train_loss: 0.3909 - test_loss: 0.419022\n",
      "Epoch: 112/450 - train_loss: 0.3798 - test_loss: 0.371705\n",
      "Epoch: 140/280 - train_loss: 0.3884 - test_loss: 0.366926\n",
      "Epoch:  0/460 - train_loss: 1.2493 - test_loss: 1.420445\n",
      "Epoch: 216/290 - train_loss: 0.3793 - test_loss: 0.374159\n",
      "Epoch: 216/290 - train_loss: 0.4571 - test_loss: 0.434163\n",
      "Epoch: 112/450 - train_loss: 0.3829 - test_loss: 0.370369\n",
      "Epoch: 210/280 - train_loss: 0.3753 - test_loss: 0.365114\n",
      "Epoch: 336/450 - train_loss: 0.3951 - test_loss: 0.396294\n",
      "Epoch: 448/450 - train_loss: 0.3876 - test_loss: 0.387964\n",
      "Epoch: 449/450 - train_loss: 0.3884 - test_loss: 0.379596\n"
     ]
    },
    {
     "name": "stderr",
     "output_type": "stream",
     "text": [
      "\u001b[32m[I 2023-02-13 07:14:45,530]\u001b[0m Trial 13 finished with value: 57.47395641076173 and parameters: {'n layers': 6, 'Hidden size': 10, 'Learning rate': 0.00027874422233307213, 'Dropout rate': 0.5487324579321561, 'Epochs': 460}. Best is trial 8 with value: 44.88963829582614.\u001b[0m\n"
     ]
    },
    {
     "name": "stdout",
     "output_type": "stream",
     "text": [
      "lookback 3\n",
      "Epoch: 210/280 - train_loss: 0.4018 - test_loss: 0.386578\n",
      "Epoch: 288/290 - train_loss: 0.3862 - test_loss: 0.402978\n",
      "Epoch: 289/290 - train_loss: 0.3800 - test_loss: 0.366835\n"
     ]
    },
    {
     "name": "stderr",
     "output_type": "stream",
     "text": [
      "\u001b[32m[I 2023-02-13 07:16:11,598]\u001b[0m Trial 20 finished with value: 52.68365302051455 and parameters: {'n layers': 4, 'Hidden size': 161, 'Learning rate': 0.0014824074511856128, 'Dropout rate': 0.104284732390125, 'Epochs': 350}. Best is trial 8 with value: 44.88963829582614.\u001b[0m\n"
     ]
    },
    {
     "name": "stdout",
     "output_type": "stream",
     "text": [
      "lookback 3\n",
      "Epoch:  0/310 - train_loss: 1.3375 - test_loss: 1.291321\n",
      "Epoch: 288/290 - train_loss: 0.4083 - test_loss: 0.386938\n",
      "Epoch: 289/290 - train_loss: 0.4034 - test_loss: 0.389886\n"
     ]
    },
    {
     "name": "stderr",
     "output_type": "stream",
     "text": [
      "\u001b[32m[I 2023-02-13 07:16:45,733]\u001b[0m Trial 21 finished with value: 59.09952416419429 and parameters: {'n layers': 5, 'Hidden size': 102, 'Learning rate': 0.00013250860463230477, 'Dropout rate': 0.6156498946634988, 'Epochs': 400}. Best is trial 8 with value: 44.88963829582614.\u001b[0m\n"
     ]
    },
    {
     "name": "stdout",
     "output_type": "stream",
     "text": [
      "lookback 3\n",
      "Epoch: 279/280 - train_loss: 0.3835 - test_loss: 0.376906\n"
     ]
    },
    {
     "name": "stderr",
     "output_type": "stream",
     "text": [
      "\u001b[32m[I 2023-02-13 07:17:20,390]\u001b[0m Trial 22 finished with value: 55.04401925941016 and parameters: {'n layers': 3, 'Hidden size': 104, 'Learning rate': 0.000353939530651533, 'Dropout rate': 0.18789765835550393, 'Epochs': 290}. Best is trial 8 with value: 44.88963829582614.\u001b[0m\n"
     ]
    },
    {
     "name": "stdout",
     "output_type": "stream",
     "text": [
      "lookback 3\n",
      "Epoch:  0/100 - train_loss: 1.0073 - test_loss: 0.734018\n",
      "Epoch:  0/100 - train_loss: 1.0002 - test_loss: 0.743162\n",
      "Epoch: 115/460 - train_loss: 0.3824 - test_loss: 0.360896\n",
      "Epoch: 279/280 - train_loss: 0.3845 - test_loss: 0.354405\n"
     ]
    },
    {
     "name": "stderr",
     "output_type": "stream",
     "text": [
      "\u001b[32m[I 2023-02-13 07:19:41,206]\u001b[0m Trial 23 finished with value: 52.51700424980675 and parameters: {'n layers': 3, 'Hidden size': 20, 'Learning rate': 0.0015493392589325087, 'Dropout rate': 0.20429045911668076, 'Epochs': 280}. Best is trial 8 with value: 44.88963829582614.\u001b[0m\n"
     ]
    },
    {
     "name": "stdout",
     "output_type": "stream",
     "text": [
      "lookback 3\n",
      "Epoch: 224/450 - train_loss: 0.4110 - test_loss: 0.380562\n",
      "Epoch:  0/120 - train_loss: 0.8364 - test_loss: 0.757617\n",
      "Epoch: 224/450 - train_loss: 0.3882 - test_loss: 0.405882\n",
      "Epoch: 25/100 - train_loss: 0.3888 - test_loss: 0.337952\n",
      "Epoch: 336/450 - train_loss: 0.3843 - test_loss: 0.385698\n",
      "Epoch: 25/100 - train_loss: 0.4140 - test_loss: 0.393082\n",
      "Epoch:  0/120 - train_loss: 0.9125 - test_loss: 0.605993\n",
      "Epoch: 30/120 - train_loss: 0.3885 - test_loss: 0.370520\n",
      "Epoch: 50/100 - train_loss: 0.3830 - test_loss: 0.354940\n",
      "Epoch: 448/450 - train_loss: 0.3816 - test_loss: 0.369592\n",
      "Epoch: 77/310 - train_loss: 0.4353 - test_loss: 0.408890\n",
      "Epoch: 449/450 - train_loss: 0.3802 - test_loss: 0.354971\n"
     ]
    },
    {
     "name": "stderr",
     "output_type": "stream",
     "text": [
      "\u001b[32m[I 2023-02-13 07:21:44,756]\u001b[0m Trial 18 finished with value: 54.45052345399525 and parameters: {'n layers': 6, 'Hidden size': 119, 'Learning rate': 0.00093844874379231, 'Dropout rate': 0.7655719448689713, 'Epochs': 350}. Best is trial 8 with value: 44.88963829582614.\u001b[0m\n"
     ]
    },
    {
     "name": "stdout",
     "output_type": "stream",
     "text": [
      "lookback 3\n",
      "Epoch: 50/100 - train_loss: 0.4123 - test_loss: 0.372358\n",
      "Epoch: 75/100 - train_loss: 0.3904 - test_loss: 0.367563\n",
      "Epoch: 60/120 - train_loss: 0.3830 - test_loss: 0.406934\n",
      "Epoch: 30/120 - train_loss: 0.3862 - test_loss: 0.394442\n",
      "Epoch: 75/100 - train_loss: 0.3933 - test_loss: 0.440295\n",
      "Epoch:  0/110 - train_loss: 1.0557 - test_loss: 0.766155\n",
      "Epoch: 99/100 - train_loss: 0.3923 - test_loss: 0.391558\n"
     ]
    },
    {
     "name": "stderr",
     "output_type": "stream",
     "text": [
      "\u001b[32m[I 2023-02-13 07:23:33,173]\u001b[0m Trial 27 finished with value: 49.30653328922426 and parameters: {'n layers': 3, 'Hidden size': 10, 'Learning rate': 0.0019247237062249853, 'Dropout rate': 0.02685053589650535, 'Epochs': 310}. Best is trial 8 with value: 44.88963829582614.\u001b[0m\n"
     ]
    },
    {
     "name": "stdout",
     "output_type": "stream",
     "text": [
      "lookback 3\n",
      "Epoch: 99/100 - train_loss: 0.3786 - test_loss: 0.358272\n",
      "Epoch: 90/120 - train_loss: 0.3886 - test_loss: 0.386265\n"
     ]
    },
    {
     "name": "stderr",
     "output_type": "stream",
     "text": [
      "\u001b[32m[I 2023-02-13 07:23:59,216]\u001b[0m Trial 28 finished with value: 51.953881537924474 and parameters: {'n layers': 5, 'Hidden size': 190, 'Learning rate': 0.0016740873854256405, 'Dropout rate': 0.2192105746351566, 'Epochs': 340}. Best is trial 8 with value: 44.88963829582614.\u001b[0m\n"
     ]
    },
    {
     "name": "stdout",
     "output_type": "stream",
     "text": [
      "lookback 3\n",
      "Epoch: 60/120 - train_loss: 0.3854 - test_loss: 0.409869\n",
      "Epoch: 27/110 - train_loss: 0.4191 - test_loss: 0.420019\n",
      "Epoch: 230/460 - train_loss: 0.3888 - test_loss: 0.395070\n",
      "Epoch:  0/120 - train_loss: 0.9557 - test_loss: 0.646995\n",
      "Epoch: 119/120 - train_loss: 0.3831 - test_loss: 0.371974\n"
     ]
    },
    {
     "name": "stderr",
     "output_type": "stream",
     "text": [
      "\u001b[32m[I 2023-02-13 07:25:54,348]\u001b[0m Trial 29 finished with value: 51.60658152499011 and parameters: {'n layers': 5, 'Hidden size': 5, 'Learning rate': 0.008866841564142023, 'Dropout rate': 0.3068883525691162, 'Epochs': 100}. Best is trial 8 with value: 44.88963829582614.\u001b[0m\n"
     ]
    },
    {
     "name": "stdout",
     "output_type": "stream",
     "text": [
      "lookback 3\n",
      "Epoch: 90/120 - train_loss: 0.3909 - test_loss: 0.381548\n",
      "Epoch: 336/450 - train_loss: 0.3955 - test_loss: 0.363992\n",
      "Epoch: 154/310 - train_loss: 0.4061 - test_loss: 0.366619\n",
      "Epoch:  0/150 - train_loss: 0.9187 - test_loss: 0.627584\n",
      "Epoch: 54/110 - train_loss: 0.3832 - test_loss: 0.399979\n",
      "Epoch: 30/120 - train_loss: 0.3873 - test_loss: 0.313211\n",
      "Epoch: 119/120 - train_loss: 0.3950 - test_loss: 0.360149\n"
     ]
    },
    {
     "name": "stderr",
     "output_type": "stream",
     "text": [
      "\u001b[32m[I 2023-02-13 07:27:33,696]\u001b[0m Trial 30 finished with value: 47.64489817889387 and parameters: {'n layers': 5, 'Hidden size': 41, 'Learning rate': 0.008533944449093065, 'Dropout rate': 0.3070693177154575, 'Epochs': 120}. Best is trial 8 with value: 44.88963829582614.\u001b[0m\n"
     ]
    },
    {
     "name": "stdout",
     "output_type": "stream",
     "text": [
      "lookback 3\n",
      "Epoch:  0/110 - train_loss: 0.9518 - test_loss: 0.691337\n",
      "Epoch: 224/450 - train_loss: 0.3848 - test_loss: 0.362528\n",
      "Epoch: 37/150 - train_loss: 0.3907 - test_loss: 0.397294\n",
      "Epoch: 448/450 - train_loss: 0.3847 - test_loss: 0.368412\n",
      "Epoch: 449/450 - train_loss: 0.3784 - test_loss: 0.383240\n"
     ]
    },
    {
     "name": "stderr",
     "output_type": "stream",
     "text": [
      "\u001b[32m[I 2023-02-13 07:28:30,821]\u001b[0m Trial 19 finished with value: 53.51070302999998 and parameters: {'n layers': 5, 'Hidden size': 178, 'Learning rate': 0.0007716165177554932, 'Dropout rate': 0.4630458646848802, 'Epochs': 450}. Best is trial 8 with value: 44.88963829582614.\u001b[0m\n"
     ]
    },
    {
     "name": "stdout",
     "output_type": "stream",
     "text": [
      "lookback 3\n",
      "Epoch: 81/110 - train_loss: 0.4198 - test_loss: 0.302826\n",
      "Epoch: 60/120 - train_loss: 0.4049 - test_loss: 0.348104\n",
      "Epoch: 27/110 - train_loss: 0.3845 - test_loss: 0.438715\n",
      "Epoch:  0/120 - train_loss: 0.7837 - test_loss: 0.598504\n",
      "Epoch: 336/450 - train_loss: 0.3849 - test_loss: 0.370253\n",
      "Epoch: 74/150 - train_loss: 0.3905 - test_loss: 0.418046\n",
      "Epoch: 108/110 - train_loss: 0.3904 - test_loss: 0.408255\n",
      "Epoch: 90/120 - train_loss: 0.3883 - test_loss: 0.349556\n",
      "Epoch:  0/120 - train_loss: 0.8436 - test_loss: 0.741480\n",
      "Epoch: 109/110 - train_loss: 0.3774 - test_loss: 0.397726\n"
     ]
    },
    {
     "name": "stderr",
     "output_type": "stream",
     "text": [
      "\u001b[32m[I 2023-02-13 07:30:22,438]\u001b[0m Trial 31 finished with value: 47.318766036378264 and parameters: {'n layers': 5, 'Hidden size': 5, 'Learning rate': 0.0077107724889230855, 'Dropout rate': 0.2831814842713032, 'Epochs': 110}. Best is trial 8 with value: 44.88963829582614.\u001b[0m\n"
     ]
    },
    {
     "name": "stdout",
     "output_type": "stream",
     "text": [
      "lookback 3\n",
      "Epoch: 54/110 - train_loss: 0.4074 - test_loss: 0.428723\n",
      "Epoch: 231/310 - train_loss: 0.3788 - test_loss: 0.380200\n",
      "Epoch: 30/120 - train_loss: 0.3812 - test_loss: 0.429025\n",
      "Epoch: 119/120 - train_loss: 0.3874 - test_loss: 0.406822\n"
     ]
    },
    {
     "name": "stderr",
     "output_type": "stream",
     "text": [
      "\u001b[32m[I 2023-02-13 07:31:13,289]\u001b[0m Trial 32 finished with value: 42.817537471714054 and parameters: {'n layers': 5, 'Hidden size': 5, 'Learning rate': 0.007785837825432613, 'Dropout rate': 0.3638540462025761, 'Epochs': 110}. Best is trial 32 with value: 42.817537471714054.\u001b[0m\n"
     ]
    },
    {
     "name": "stdout",
     "output_type": "stream",
     "text": [
      "lookback 3\n",
      "Epoch: 111/150 - train_loss: 0.4254 - test_loss: 0.382326\n",
      "Epoch: 81/110 - train_loss: 0.3960 - test_loss: 0.450892\n",
      "Epoch: 448/450 - train_loss: 0.3853 - test_loss: 0.362459\n",
      "Epoch: 345/460 - train_loss: 0.3782 - test_loss: 0.363032\n",
      "Epoch: 449/450 - train_loss: 0.3765 - test_loss: 0.418549\n"
     ]
    },
    {
     "name": "stderr",
     "output_type": "stream",
     "text": [
      "\u001b[32m[I 2023-02-13 07:31:33,132]\u001b[0m Trial 24 finished with value: 54.38989024895449 and parameters: {'n layers': 5, 'Hidden size': 103, 'Learning rate': 0.002842965832822695, 'Dropout rate': 0.5174360694676922, 'Epochs': 450}. Best is trial 32 with value: 42.817537471714054.\u001b[0m\n"
     ]
    },
    {
     "name": "stdout",
     "output_type": "stream",
     "text": [
      "lookback 3\n",
      "Epoch:  0/170 - train_loss: 1.2634 - test_loss: 0.807696\n",
      "Epoch: 30/120 - train_loss: 0.4755 - test_loss: 0.366318\n",
      "Epoch: 60/120 - train_loss: 0.4396 - test_loss: 0.403939\n",
      "Epoch: 108/110 - train_loss: 0.3858 - test_loss: 0.386803\n",
      "Epoch: 109/110 - train_loss: 0.3832 - test_loss: 0.366488\n"
     ]
    },
    {
     "name": "stderr",
     "output_type": "stream",
     "text": [
      "\u001b[32m[I 2023-02-13 07:33:13,668]\u001b[0m Trial 34 finished with value: 45.61412156507146 and parameters: {'n layers': 4, 'Hidden size': 51, 'Learning rate': 0.009933355716810583, 'Dropout rate': 0.3972098522395349, 'Epochs': 150}. Best is trial 32 with value: 42.817537471714054.\u001b[0m\n"
     ]
    },
    {
     "name": "stdout",
     "output_type": "stream",
     "text": [
      "lookback 3\n",
      "Epoch:  0/160 - train_loss: 0.7987 - test_loss: 0.716630\n",
      "Epoch: 148/150 - train_loss: 0.4079 - test_loss: 0.391878\n",
      "Epoch: 149/150 - train_loss: 0.4098 - test_loss: 0.376730\n"
     ]
    },
    {
     "name": "stderr",
     "output_type": "stream",
     "text": [
      "\u001b[32m[I 2023-02-13 07:33:56,585]\u001b[0m Trial 33 finished with value: 60.67891307180474 and parameters: {'n layers': 5, 'Hidden size': 50, 'Learning rate': 0.00778136875452963, 'Dropout rate': 0.3696994049597417, 'Epochs': 120}. Best is trial 32 with value: 42.817537471714054.\u001b[0m\n"
     ]
    },
    {
     "name": "stdout",
     "output_type": "stream",
     "text": [
      "lookback 3\n",
      "Epoch:  0/170 - train_loss: 1.1507 - test_loss: 0.688951\n",
      "Epoch: 90/120 - train_loss: 0.4006 - test_loss: 0.356754\n",
      "Epoch: 112/450 - train_loss: 0.3863 - test_loss: 0.362914\n",
      "Epoch: 60/120 - train_loss: 0.3846 - test_loss: 0.335979\n",
      "Epoch: 42/170 - train_loss: 0.3928 - test_loss: 0.400442\n",
      "Epoch: 308/310 - train_loss: 0.3944 - test_loss: 0.376283\n",
      "Epoch: 309/310 - train_loss: 0.4124 - test_loss: 0.375776\n"
     ]
    },
    {
     "name": "stderr",
     "output_type": "stream",
     "text": [
      "\u001b[32m[I 2023-02-13 07:35:29,527]\u001b[0m Trial 26 finished with value: 72.8103617155037 and parameters: {'n layers': 5, 'Hidden size': 107, 'Learning rate': 0.0004033768498265636, 'Dropout rate': 0.04657673893044712, 'Epochs': 400}. Best is trial 32 with value: 42.817537471714054.\u001b[0m\n"
     ]
    },
    {
     "name": "stdout",
     "output_type": "stream",
     "text": [
      "lookback 3\n",
      "Epoch:  0/170 - train_loss: 1.0324 - test_loss: 0.710668\n",
      "Epoch: 119/120 - train_loss: 0.4052 - test_loss: 0.389050\n"
     ]
    },
    {
     "name": "stderr",
     "output_type": "stream",
     "text": [
      "\u001b[32m[I 2023-02-13 07:36:16,446]\u001b[0m Trial 35 finished with value: 45.79045275640265 and parameters: {'n layers': 5, 'Hidden size': 53, 'Learning rate': 0.009494057342883515, 'Dropout rate': 0.4055666785710117, 'Epochs': 110}. Best is trial 32 with value: 42.817537471714054.\u001b[0m\n"
     ]
    },
    {
     "name": "stdout",
     "output_type": "stream",
     "text": [
      "lookback 3\n",
      "Epoch: 40/160 - train_loss: 0.3912 - test_loss: 0.394020\n",
      "Epoch:  0/170 - train_loss: 0.9070 - test_loss: 0.812180\n",
      "Epoch: 90/120 - train_loss: 0.3874 - test_loss: 0.335368\n",
      "Epoch: 42/170 - train_loss: 0.4007 - test_loss: 0.381468\n",
      "Epoch: 84/170 - train_loss: 0.3829 - test_loss: 0.375160\n",
      "Epoch:  0/170 - train_loss: 1.0031 - test_loss: 0.786726\n",
      "Epoch:  0/170 - train_loss: 0.9845 - test_loss: 0.901969\n",
      "Epoch: 42/170 - train_loss: 0.4459 - test_loss: 0.378126\n",
      "Epoch: 80/160 - train_loss: 0.3944 - test_loss: 0.426290\n",
      "Epoch: 42/170 - train_loss: 0.3916 - test_loss: 0.362595\n",
      "Epoch: 459/460 - train_loss: 0.3802 - test_loss: 0.384695\n"
     ]
    },
    {
     "name": "stderr",
     "output_type": "stream",
     "text": [
      "\u001b[32m[I 2023-02-13 07:38:40,507]\u001b[0m Trial 25 finished with value: 50.41646676892339 and parameters: {'n layers': 5, 'Hidden size': 34, 'Learning rate': 0.0012729174808192006, 'Dropout rate': 0.47873978592935473, 'Epochs': 460}. Best is trial 32 with value: 42.817537471714054.\u001b[0m\n"
     ]
    },
    {
     "name": "stdout",
     "output_type": "stream",
     "text": [
      "lookback 3\n",
      "Epoch: 119/120 - train_loss: 0.4060 - test_loss: 0.421316\n"
     ]
    },
    {
     "name": "stderr",
     "output_type": "stream",
     "text": [
      "\u001b[32m[I 2023-02-13 07:38:46,218]\u001b[0m Trial 36 finished with value: 51.86361353376225 and parameters: {'n layers': 6, 'Hidden size': 50, 'Learning rate': 0.007266412130453123, 'Dropout rate': 0.3489336166421695, 'Epochs': 120}. Best is trial 32 with value: 42.817537471714054.\u001b[0m\n"
     ]
    },
    {
     "name": "stdout",
     "output_type": "stream",
     "text": [
      "lookback 3\n",
      "Epoch: 84/170 - train_loss: 0.3834 - test_loss: 0.367587\n",
      "Epoch: 448/450 - train_loss: 0.3791 - test_loss: 0.382677\n",
      "Epoch: 449/450 - train_loss: 0.3821 - test_loss: 0.382115\n"
     ]
    },
    {
     "name": "stderr",
     "output_type": "stream",
     "text": [
      "\u001b[32m[I 2023-02-13 07:39:24,248]\u001b[0m Trial 12 finished with value: 57.065827685429745 and parameters: {'n layers': 6, 'Hidden size': 311, 'Learning rate': 0.0001552667128166639, 'Dropout rate': 0.5806726696512249, 'Epochs': 460}. Best is trial 32 with value: 42.817537471714054.\u001b[0m\n"
     ]
    },
    {
     "name": "stdout",
     "output_type": "stream",
     "text": [
      "lookback 3\n",
      "Epoch: 336/450 - train_loss: 0.3818 - test_loss: 0.356644\n",
      "Epoch: 42/170 - train_loss: 0.3843 - test_loss: 0.321121\n",
      "Epoch: 84/170 - train_loss: 0.4337 - test_loss: 0.439778\n",
      "Epoch: 42/170 - train_loss: 0.3895 - test_loss: 0.411510\n",
      "Epoch: 126/170 - train_loss: 0.4055 - test_loss: 0.376491\n",
      "Epoch: 120/160 - train_loss: 0.3834 - test_loss: 0.368139\n",
      "Epoch: 84/170 - train_loss: 0.3912 - test_loss: 0.344570\n",
      "Epoch:  0/190 - train_loss: 0.9574 - test_loss: 0.690008\n",
      "Epoch:  0/190 - train_loss: 1.0399 - test_loss: 0.800915\n",
      "Epoch: 126/170 - train_loss: 0.3938 - test_loss: 0.389088\n",
      "Epoch:  0/190 - train_loss: 0.8337 - test_loss: 0.716404\n",
      "Epoch: 159/160 - train_loss: 0.4134 - test_loss: 0.399762\n"
     ]
    },
    {
     "name": "stderr",
     "output_type": "stream",
     "text": [
      "\u001b[32m[I 2023-02-13 07:42:22,158]\u001b[0m Trial 38 finished with value: 50.44965670886669 and parameters: {'n layers': 6, 'Hidden size': 57, 'Learning rate': 0.004222296932433262, 'Dropout rate': 0.4179901734775905, 'Epochs': 170}. Best is trial 32 with value: 42.817537471714054.\u001b[0m\n"
     ]
    },
    {
     "name": "stdout",
     "output_type": "stream",
     "text": [
      "lookback 3\n",
      "Epoch: 126/170 - train_loss: 0.3890 - test_loss: 0.376048\n",
      "Epoch: 84/170 - train_loss: 0.3843 - test_loss: 0.354827\n",
      "Epoch: 126/170 - train_loss: 0.3833 - test_loss: 0.330087\n",
      "Epoch: 84/170 - train_loss: 0.3918 - test_loss: 0.371562\n",
      "Epoch: 168/170 - train_loss: 0.3803 - test_loss: 0.336091\n",
      "Epoch: 169/170 - train_loss: 0.3803 - test_loss: 0.392102\n",
      "Epoch: 47/190 - train_loss: 0.3753 - test_loss: 0.373780\n"
     ]
    },
    {
     "name": "stderr",
     "output_type": "stream",
     "text": [
      "\u001b[32m[I 2023-02-13 07:43:06,793]\u001b[0m Trial 37 finished with value: 50.765688028777696 and parameters: {'n layers': 6, 'Hidden size': 37, 'Learning rate': 0.004171358929513549, 'Dropout rate': 0.3871798373623886, 'Epochs': 170}. Best is trial 32 with value: 42.817537471714054.\u001b[0m\n"
     ]
    },
    {
     "name": "stdout",
     "output_type": "stream",
     "text": [
      "lookback 3\n",
      "Epoch: 168/170 - train_loss: 0.3902 - test_loss: 0.348490\n",
      "Epoch: 169/170 - train_loss: 0.3914 - test_loss: 0.379310\n"
     ]
    },
    {
     "name": "stderr",
     "output_type": "stream",
     "text": [
      "\u001b[32m[I 2023-02-13 07:43:21,479]\u001b[0m Trial 39 finished with value: 49.58532317095568 and parameters: {'n layers': 6, 'Hidden size': 66, 'Learning rate': 0.004455503463828038, 'Dropout rate': 0.3889478428225523, 'Epochs': 170}. Best is trial 32 with value: 42.817537471714054.\u001b[0m\n"
     ]
    },
    {
     "name": "stdout",
     "output_type": "stream",
     "text": [
      "lookback 3\n",
      "Epoch:  0/200 - train_loss: 0.9975 - test_loss: 0.787193\n",
      "Epoch: 168/170 - train_loss: 0.4143 - test_loss: 0.371808\n",
      "Epoch: 169/170 - train_loss: 0.3839 - test_loss: 0.430531\n"
     ]
    },
    {
     "name": "stderr",
     "output_type": "stream",
     "text": [
      "\u001b[32m[I 2023-02-13 07:44:37,863]\u001b[0m Trial 40 finished with value: 53.62329091824895 and parameters: {'n layers': 4, 'Hidden size': 50, 'Learning rate': 0.004674154823780763, 'Dropout rate': 0.3847525374868839, 'Epochs': 160}. Best is trial 32 with value: 42.817537471714054.\u001b[0m\n"
     ]
    },
    {
     "name": "stdout",
     "output_type": "stream",
     "text": [
      "Epoch: 126/170 - train_loss: 0.3923 - test_loss: 0.406911\n",
      "Epoch: 47/190 - train_loss: 0.3898 - test_loss: 0.387946\n",
      "Epoch: 168/170 - train_loss: 0.4336 - test_loss: 0.353887\n",
      "Epoch: 169/170 - train_loss: 0.3864 - test_loss: 0.485745\n"
     ]
    },
    {
     "name": "stderr",
     "output_type": "stream",
     "text": [
      "\u001b[32m[I 2023-02-13 07:45:01,602]\u001b[0m Trial 41 finished with value: 48.85179721274545 and parameters: {'n layers': 4, 'Hidden size': 58, 'Learning rate': 0.004493493939602837, 'Dropout rate': 0.40448519730468535, 'Epochs': 170}. Best is trial 32 with value: 42.817537471714054.\u001b[0m\n"
     ]
    },
    {
     "name": "stdout",
     "output_type": "stream",
     "text": [
      "Epoch: 126/170 - train_loss: 0.3859 - test_loss: 0.351256\n",
      "Epoch:  0/200 - train_loss: 1.3696 - test_loss: 0.744146\n",
      "Epoch:  0/200 - train_loss: 1.4001 - test_loss: 0.883081\n",
      "Epoch: 47/190 - train_loss: 0.3843 - test_loss: 0.368574\n",
      "Epoch: 94/190 - train_loss: 0.4181 - test_loss: 0.426210\n",
      "Epoch: 50/200 - train_loss: 0.3887 - test_loss: 0.381754\n",
      "Epoch: 168/170 - train_loss: 0.3840 - test_loss: 0.381737\n",
      "Epoch: 169/170 - train_loss: 0.3981 - test_loss: 0.399386\n"
     ]
    },
    {
     "name": "stderr",
     "output_type": "stream",
     "text": [
      "\u001b[32m[I 2023-02-13 07:46:21,869]\u001b[0m Trial 43 finished with value: 50.56475942456109 and parameters: {'n layers': 4, 'Hidden size': 65, 'Learning rate': 0.004899178126506461, 'Dropout rate': 0.39635951097118416, 'Epochs': 170}. Best is trial 32 with value: 42.817537471714054.\u001b[0m\n"
     ]
    },
    {
     "name": "stdout",
     "output_type": "stream",
     "text": [
      "Epoch: 168/170 - train_loss: 0.3806 - test_loss: 0.376079\n",
      "Epoch: 169/170 - train_loss: 0.4315 - test_loss: 0.352903\n"
     ]
    },
    {
     "name": "stderr",
     "output_type": "stream",
     "text": [
      "\u001b[32m[I 2023-02-13 07:46:40,471]\u001b[0m Trial 42 finished with value: 38.66026542058537 and parameters: {'n layers': 4, 'Hidden size': 61, 'Learning rate': 0.004787262064694765, 'Dropout rate': 0.4078981785585053, 'Epochs': 170}. Best is trial 42 with value: 38.66026542058537.\u001b[0m\n"
     ]
    },
    {
     "name": "stdout",
     "output_type": "stream",
     "text": [
      "Epoch: 94/190 - train_loss: 0.3899 - test_loss: 0.359817\n",
      "Epoch: 50/200 - train_loss: 0.4005 - test_loss: 0.362079\n",
      "Epoch: 50/200 - train_loss: 0.3861 - test_loss: 0.373589\n",
      "Epoch: 141/190 - train_loss: 0.3843 - test_loss: 0.381436\n",
      "Epoch: 94/190 - train_loss: 0.3814 - test_loss: 0.375149\n",
      "Epoch: 100/200 - train_loss: 0.3810 - test_loss: 0.375988\n",
      "Epoch: 112/450 - train_loss: 0.3848 - test_loss: 0.391638\n",
      "Epoch: 141/190 - train_loss: 0.3842 - test_loss: 0.424272\n",
      "Epoch: 224/450 - train_loss: 0.3837 - test_loss: 0.403956\n",
      "Epoch: 100/200 - train_loss: 0.4008 - test_loss: 0.418797\n",
      "Epoch: 448/450 - train_loss: 0.3896 - test_loss: 0.389829\n",
      "Epoch: 188/190 - train_loss: 0.3795 - test_loss: 0.400315\n",
      "Epoch: 449/450 - train_loss: 0.3969 - test_loss: 0.375980\n",
      "Epoch: 189/190 - train_loss: 0.3927 - test_loss: 0.371836\n"
     ]
    },
    {
     "name": "stderr",
     "output_type": "stream",
     "text": [
      "\u001b[32m[I 2023-02-13 07:48:13,846]\u001b[0m Trial 7 finished with value: 50.592250184027826 and parameters: {'n layers': 6, 'Hidden size': 49, 'Learning rate': 0.00807992424292461, 'Dropout rate': 0.17946365396908648, 'Epochs': 100}. Best is trial 42 with value: 38.66026542058537.\u001b[0m\n",
      "\u001b[32m[I 2023-02-13 07:48:13,920]\u001b[0m Trial 44 finished with value: 47.29444579448543 and parameters: {'n layers': 4, 'Hidden size': 70, 'Learning rate': 0.0041668319788351425, 'Dropout rate': 0.39021747951596053, 'Epochs': 170}. Best is trial 42 with value: 38.66026542058537.\u001b[0m\n"
     ]
    },
    {
     "name": "stdout",
     "output_type": "stream",
     "text": [
      "Epoch: 100/200 - train_loss: 0.3894 - test_loss: 0.442988\n",
      "Epoch: 150/200 - train_loss: 0.3875 - test_loss: 0.371081\n",
      "Epoch: 141/190 - train_loss: 0.4405 - test_loss: 0.428147\n",
      "Epoch: 188/190 - train_loss: 0.3992 - test_loss: 0.414706\n",
      "Epoch: 189/190 - train_loss: 0.3894 - test_loss: 0.411502\n"
     ]
    },
    {
     "name": "stderr",
     "output_type": "stream",
     "text": [
      "\u001b[32m[I 2023-02-13 07:49:13,200]\u001b[0m Trial 45 finished with value: 50.79133213729123 and parameters: {'n layers': 4, 'Hidden size': 72, 'Learning rate': 0.00470372316163942, 'Dropout rate': 0.6129608406717978, 'Epochs': 170}. Best is trial 42 with value: 38.66026542058537.\u001b[0m\n"
     ]
    },
    {
     "name": "stdout",
     "output_type": "stream",
     "text": [
      "Epoch: 150/200 - train_loss: 0.3849 - test_loss: 0.353152\n",
      "Epoch: 150/200 - train_loss: 0.3816 - test_loss: 0.355242\n",
      "Epoch: 199/200 - train_loss: 0.3945 - test_loss: 0.393968\n"
     ]
    },
    {
     "name": "stderr",
     "output_type": "stream",
     "text": [
      "\u001b[32m[I 2023-02-13 07:49:43,222]\u001b[0m Trial 47 finished with value: 51.95813413512722 and parameters: {'n layers': 4, 'Hidden size': 33, 'Learning rate': 0.004805654717017687, 'Dropout rate': 0.2395126836443543, 'Epochs': 150}. Best is trial 42 with value: 38.66026542058537.\u001b[0m\n"
     ]
    },
    {
     "name": "stdout",
     "output_type": "stream",
     "text": [
      "Epoch: 188/190 - train_loss: 0.3808 - test_loss: 0.383674\n",
      "Epoch: 189/190 - train_loss: 0.3956 - test_loss: 0.368355\n"
     ]
    },
    {
     "name": "stderr",
     "output_type": "stream",
     "text": [
      "\u001b[32m[I 2023-02-13 07:49:51,810]\u001b[0m Trial 46 finished with value: 48.17409550917798 and parameters: {'n layers': 4, 'Hidden size': 77, 'Learning rate': 0.004818643599825783, 'Dropout rate': 0.41906044094324213, 'Epochs': 190}. Best is trial 42 with value: 38.66026542058537.\u001b[0m\n"
     ]
    },
    {
     "name": "stdout",
     "output_type": "stream",
     "text": [
      "Epoch: 199/200 - train_loss: 0.4050 - test_loss: 0.345488\n"
     ]
    },
    {
     "name": "stderr",
     "output_type": "stream",
     "text": [
      "\u001b[32m[I 2023-02-13 07:50:15,989]\u001b[0m Trial 49 finished with value: 47.9659635170373 and parameters: {'n layers': 4, 'Hidden size': 78, 'Learning rate': 0.005587584258868592, 'Dropout rate': 0.6518152279245442, 'Epochs': 200}. Best is trial 42 with value: 38.66026542058537.\u001b[0m\n"
     ]
    },
    {
     "name": "stdout",
     "output_type": "stream",
     "text": [
      "Epoch: 112/450 - train_loss: 0.3828 - test_loss: 0.391918\n",
      "Epoch: 199/200 - train_loss: 0.3851 - test_loss: 0.382730\n"
     ]
    },
    {
     "name": "stderr",
     "output_type": "stream",
     "text": [
      "\u001b[32m[I 2023-02-13 07:50:23,089]\u001b[0m Trial 48 finished with value: 44.28387269063347 and parameters: {'n layers': 4, 'Hidden size': 79, 'Learning rate': 0.005123821458162477, 'Dropout rate': 0.6424245033064403, 'Epochs': 170}. Best is trial 42 with value: 38.66026542058537.\u001b[0m\n"
     ]
    },
    {
     "name": "stdout",
     "output_type": "stream",
     "text": [
      "Epoch: 336/450 - train_loss: 0.3881 - test_loss: 0.378039\n",
      "Epoch: 224/450 - train_loss: 0.4597 - test_loss: 0.395733\n",
      "Epoch: 112/450 - train_loss: 0.3845 - test_loss: 0.352123\n",
      "Epoch: 112/450 - train_loss: 0.5585 - test_loss: 0.534872\n",
      "Epoch: 224/450 - train_loss: 0.3893 - test_loss: 0.368951\n",
      "Epoch: 448/450 - train_loss: 0.4052 - test_loss: 0.377613\n",
      "Epoch: 112/450 - train_loss: 0.4099 - test_loss: 0.413784\n",
      "Epoch: 449/450 - train_loss: 0.3875 - test_loss: 0.399412\n"
     ]
    },
    {
     "name": "stderr",
     "output_type": "stream",
     "text": [
      "\u001b[32m[I 2023-02-13 07:52:41,573]\u001b[0m Trial 4 finished with value: 55.75858912096076 and parameters: {'n layers': 4, 'Hidden size': 15, 'Learning rate': 0.0009351446694890507, 'Dropout rate': 0.06578362016895592, 'Epochs': 360}. Best is trial 42 with value: 38.66026542058537.\u001b[0m\n"
     ]
    },
    {
     "name": "stdout",
     "output_type": "stream",
     "text": [
      "Epoch: 336/450 - train_loss: 0.3902 - test_loss: 0.396456\n",
      "Epoch: 224/450 - train_loss: 0.3833 - test_loss: 0.402202\n",
      "Epoch: 224/450 - train_loss: 0.4389 - test_loss: 0.415429\n",
      "Epoch: 336/450 - train_loss: 0.3884 - test_loss: 0.381175\n",
      "Epoch: 448/450 - train_loss: 0.3882 - test_loss: 0.338002\n",
      "Epoch: 449/450 - train_loss: 0.3819 - test_loss: 0.347282\n"
     ]
    },
    {
     "name": "stderr",
     "output_type": "stream",
     "text": [
      "\u001b[32m[I 2023-02-13 07:54:28,899]\u001b[0m Trial 11 finished with value: 53.852048646778144 and parameters: {'n layers': 6, 'Hidden size': 88, 'Learning rate': 0.0012906732637023883, 'Dropout rate': 0.3018271014386497, 'Epochs': 440}. Best is trial 42 with value: 38.66026542058537.\u001b[0m\n"
     ]
    },
    {
     "name": "stdout",
     "output_type": "stream",
     "text": [
      "Epoch: 224/450 - train_loss: 0.3899 - test_loss: 0.374785\n",
      "Epoch: 112/450 - train_loss: 0.5192 - test_loss: 0.479211\n",
      "Epoch: 336/450 - train_loss: 0.3839 - test_loss: 0.399099\n",
      "Epoch: 112/450 - train_loss: 0.3813 - test_loss: 0.424579\n",
      "Epoch: 112/450 - train_loss: 0.4446 - test_loss: 0.435101\n",
      "Epoch: 336/450 - train_loss: 0.3960 - test_loss: 0.374289\n",
      "Epoch: 448/450 - train_loss: 0.4007 - test_loss: 0.396700\n",
      "Epoch: 449/450 - train_loss: 0.3913 - test_loss: 0.404522\n"
     ]
    },
    {
     "name": "stderr",
     "output_type": "stream",
     "text": [
      "\u001b[32m[I 2023-02-13 07:55:35,759]\u001b[0m Trial 1 finished with value: 53.02836956464312 and parameters: {'n layers': 3, 'Hidden size': 11, 'Learning rate': 0.0006306590020775302, 'Dropout rate': 0.07892280541576778, 'Epochs': 190}. Best is trial 42 with value: 38.66026542058537.\u001b[0m\n"
     ]
    },
    {
     "name": "stdout",
     "output_type": "stream",
     "text": [
      "Epoch: 336/450 - train_loss: 0.4188 - test_loss: 0.376679\n",
      "Epoch: 448/450 - train_loss: 0.3820 - test_loss: 0.387020\n",
      "Epoch: 449/450 - train_loss: 0.3793 - test_loss: 0.355018\n"
     ]
    },
    {
     "name": "stderr",
     "output_type": "stream",
     "text": [
      "\u001b[32m[I 2023-02-13 07:56:31,380]\u001b[0m Trial 9 finished with value: 53.498689120821474 and parameters: {'n layers': 6, 'Hidden size': 295, 'Learning rate': 0.001121864789937088, 'Dropout rate': 0.7840253394751998, 'Epochs': 390}. Best is trial 42 with value: 38.66026542058537.\u001b[0m\n"
     ]
    },
    {
     "name": "stdout",
     "output_type": "stream",
     "text": [
      "Epoch: 224/450 - train_loss: 0.4169 - test_loss: 0.374140\n",
      "Epoch: 448/450 - train_loss: 0.3942 - test_loss: 0.381489\n",
      "Epoch: 449/450 - train_loss: 0.3840 - test_loss: 0.381843\n"
     ]
    },
    {
     "name": "stderr",
     "output_type": "stream",
     "text": [
      "\u001b[32m[I 2023-02-13 07:56:51,389]\u001b[0m Trial 5 finished with value: 56.84603666071462 and parameters: {'n layers': 6, 'Hidden size': 14, 'Learning rate': 0.00013513514273431646, 'Dropout rate': 0.17966576424393252, 'Epochs': 240}. Best is trial 42 with value: 38.66026542058537.\u001b[0m\n"
     ]
    },
    {
     "name": "stdout",
     "output_type": "stream",
     "text": [
      "Epoch: 224/450 - train_loss: 0.4012 - test_loss: 0.337201\n",
      "Epoch: 224/450 - train_loss: 0.4020 - test_loss: 0.378500\n",
      "Epoch: 448/450 - train_loss: 0.3809 - test_loss: 0.415091\n",
      "Epoch: 449/450 - train_loss: 0.3874 - test_loss: 0.392492\n"
     ]
    },
    {
     "name": "stderr",
     "output_type": "stream",
     "text": [
      "\u001b[32m[I 2023-02-13 07:57:26,355]\u001b[0m Trial 16 finished with value: 49.75506752171537 and parameters: {'n layers': 6, 'Hidden size': 311, 'Learning rate': 0.002574448499835604, 'Dropout rate': 0.5220904425792335, 'Epochs': 410}. Best is trial 42 with value: 38.66026542058537.\u001b[0m\n"
     ]
    },
    {
     "name": "stdout",
     "output_type": "stream",
     "text": [
      "Epoch: 336/450 - train_loss: 0.3910 - test_loss: 0.373209\n",
      "Epoch: 336/450 - train_loss: 0.4370 - test_loss: 0.368980\n",
      "Epoch: 336/450 - train_loss: 0.3825 - test_loss: 0.394110\n",
      "Epoch: 448/450 - train_loss: 0.3781 - test_loss: 0.364537\n",
      "Epoch: 449/450 - train_loss: 0.4104 - test_loss: 0.363055\n"
     ]
    },
    {
     "name": "stderr",
     "output_type": "stream",
     "text": [
      "\u001b[32m[I 2023-02-13 07:58:16,050]\u001b[0m Trial 17 finished with value: 59.845859066083925 and parameters: {'n layers': 4, 'Hidden size': 342, 'Learning rate': 0.0001833925119833714, 'Dropout rate': 0.2841325767461712, 'Epochs': 120}. Best is trial 42 with value: 38.66026542058537.\u001b[0m\n"
     ]
    },
    {
     "name": "stdout",
     "output_type": "stream",
     "text": [
      "Epoch: 448/450 - train_loss: 0.3818 - test_loss: 0.381831\n",
      "Epoch: 449/450 - train_loss: 0.3925 - test_loss: 0.367629\n"
     ]
    },
    {
     "name": "stderr",
     "output_type": "stream",
     "text": [
      "\u001b[32m[I 2023-02-13 07:58:29,960]\u001b[0m Trial 14 finished with value: 47.68893270059101 and parameters: {'n layers': 6, 'Hidden size': 147, 'Learning rate': 0.0028328343078164496, 'Dropout rate': 0.2745102373565621, 'Epochs': 470}. Best is trial 42 with value: 38.66026542058537.\u001b[0m\n"
     ]
    },
    {
     "name": "stdout",
     "output_type": "stream",
     "text": [
      "Epoch: 448/450 - train_loss: 0.4382 - test_loss: 0.357198\n"
     ]
    },
    {
     "name": "stderr",
     "output_type": "stream",
     "text": [
      "\u001b[32m[I 2023-02-13 07:58:38,721]\u001b[0m Trial 0 finished with value: 57.06858991520963 and parameters: {'n layers': 6, 'Hidden size': 5, 'Learning rate': 0.0002657998359679128, 'Dropout rate': 0.759179237609928, 'Epochs': 490}. Best is trial 42 with value: 38.66026542058537.\u001b[0m\n",
      "\u001b[32m[I 2023-02-13 07:58:38,746]\u001b[0m A new study created in memory with name: no-name-ae4cf676-90fe-4ff3-8bdb-f5a8513be154\u001b[0m\n"
     ]
    },
    {
     "name": "stdout",
     "output_type": "stream",
     "text": [
      "Epoch: 449/450 - train_loss: 0.3832 - test_loss: 0.372179\n",
      "Study statistics for : \n",
      "  Number of finished trials:  50\n",
      "Best trial of city:  Gia Lai\n",
      "  Value:  38.66026542058537\n",
      "optimize result of city: Gia Lai\n",
      "lookback 3\n",
      "lookback 3\n",
      "lookback 3\n",
      "lookback lookback 3\n",
      "3\n",
      "lookback 3\n",
      "lookback 3\n",
      "lookback 3\n",
      "lookback 3\n",
      "lookback 3\n",
      "lookbacklookback  3\n",
      "lookback 3\n",
      "3lookback 3\n",
      "\n",
      "lookback 3\n",
      "lookback 3\n",
      "lookback 3\n",
      "lookback 3\n",
      "lookback 3\n",
      "lookback 3\n",
      "Epoch:  0/330 - train_loss: 1.0780 - test_loss: 0.718689\n",
      "Epoch:  0/330 - train_loss: 1.1906 - test_loss: 0.996554\n",
      "Epoch:  0/330 - train_loss: 1.2854 - test_loss: 0.844410\n",
      "Epoch:  0/330 - train_loss: 1.2464 - test_loss: 0.767198\n",
      "Epoch:  0/330 - train_loss: 1.1136 - test_loss: 0.935905\n",
      "Epoch:  0/330 - train_loss: 1.2080 - test_loss: 0.875321\n",
      "Epoch:  0/330 - train_loss: 0.9069 - test_loss: 0.803485\n",
      "Epoch:  0/330 - train_loss: 1.0289 - test_loss: 0.656196\n",
      "Epoch:  0/330 - train_loss: 0.9856 - test_loss: 0.910301\n",
      "Epoch:  0/330 - train_loss: 1.0930 - test_loss: 0.767709\n",
      "Epoch:  0/330 - train_loss: 1.3247 - test_loss: 0.987310Epoch:  0/330 - train_loss: 1.2533 - test_loss: 1.191548\n",
      "\n",
      "Epoch:  0/330 - train_loss: 0.8608 - test_loss: 0.661929\n",
      "Epoch:  0/330 - train_loss: 1.0698 - test_loss: 1.064366\n",
      "Epoch:  0/330 - train_loss: 1.1635 - test_loss: 0.880522Epoch:  0/330 - train_loss: 1.1335 - test_loss: 0.745241\n",
      "\n",
      "Epoch:  0/330 - train_loss: 1.1228 - test_loss: 0.866889\n",
      "Epoch:  0/330 - train_loss: 1.1965 - test_loss: 0.905370Epoch:  0/330 - train_loss: 0.9713 - test_loss: 0.942246\n",
      "\n",
      "Epoch:  0/330 - train_loss: 1.2618 - test_loss: 1.059177\n",
      "Epoch: 82/330 - train_loss: 0.1451 - test_loss: 0.087083\n",
      "Epoch: 82/330 - train_loss: 0.5145 - test_loss: 0.439953\n",
      "Epoch: 82/330 - train_loss: 0.5387 - test_loss: 0.502237\n",
      "Epoch: 82/330 - train_loss: 0.3013 - test_loss: 0.268484\n",
      "Epoch: 82/330 - train_loss: 0.1539 - test_loss: 0.085992\n",
      "Epoch: 82/330 - train_loss: 0.4602 - test_loss: 0.435741\n",
      "Epoch: 164/330 - train_loss: 0.1418 - test_loss: 0.085654\n",
      "Epoch: 164/330 - train_loss: 0.3002 - test_loss: 0.264532\n",
      "Epoch: 82/330 - train_loss: 0.4115 - test_loss: 0.388273\n",
      "Epoch: 164/330 - train_loss: 0.3814 - test_loss: 0.354510\n",
      "Epoch: 164/330 - train_loss: 0.1547 - test_loss: 0.113911\n",
      "Epoch: 164/330 - train_loss: 0.1441 - test_loss: 0.084935\n",
      "Epoch: 82/330 - train_loss: 0.1447 - test_loss: 0.081596\n",
      "Epoch: 246/330 - train_loss: 0.1421 - test_loss: 0.082106\n",
      "Epoch: 246/330 - train_loss: 0.1932 - test_loss: 0.158751\n",
      "Epoch: 164/330 - train_loss: 0.2852 - test_loss: 0.258976\n",
      "Epoch: 246/330 - train_loss: 0.2808 - test_loss: 0.243091\n",
      "Epoch: 246/330 - train_loss: 0.1464 - test_loss: 0.081827\n",
      "Epoch: 246/330 - train_loss: 0.1409 - test_loss: 0.080453\n",
      "Epoch: 164/330 - train_loss: 0.2318 - test_loss: 0.197325\n",
      "Epoch: 328/330 - train_loss: 0.1474 - test_loss: 0.082578\n",
      "Epoch: 329/330 - train_loss: 0.1492 - test_loss: 0.080348\n"
     ]
    },
    {
     "name": "stderr",
     "output_type": "stream",
     "text": [
      "\u001b[32m[I 2023-02-13 08:19:28,880]\u001b[0m Trial 12 finished with value: 40.64755466382682 and parameters: {'n layers': 5, 'Hidden size': 256, 'Learning rate': 0.004513474930108229, 'Dropout rate': 0.55126719026416, 'Epochs': 190}. Best is trial 12 with value: 40.64755466382682.\u001b[0m\n"
     ]
    },
    {
     "name": "stdout",
     "output_type": "stream",
     "text": [
      "lookback 3\n",
      "Epoch: 328/330 - train_loss: 0.1545 - test_loss: 0.110348\n",
      "Epoch: 329/330 - train_loss: 0.1576 - test_loss: 0.109523\n"
     ]
    },
    {
     "name": "stderr",
     "output_type": "stream",
     "text": [
      "\u001b[32m[I 2023-02-13 08:19:42,662]\u001b[0m Trial 19 finished with value: 58.11787851128972 and parameters: {'n layers': 3, 'Hidden size': 219, 'Learning rate': 0.00018184675656665524, 'Dropout rate': 0.288164589404068, 'Epochs': 330}. Best is trial 12 with value: 40.64755466382682.\u001b[0m\n"
     ]
    },
    {
     "name": "stdout",
     "output_type": "stream",
     "text": [
      "lookback 3\n",
      "Epoch: 328/330 - train_loss: 0.2024 - test_loss: 0.166549\n",
      "Epoch: 329/330 - train_loss: 0.2003 - test_loss: 0.165054\n"
     ]
    },
    {
     "name": "stderr",
     "output_type": "stream",
     "text": [
      "\u001b[32m[I 2023-02-13 08:20:58,628]\u001b[0m Trial 0 finished with value: 60.06145265969525 and parameters: {'n layers': 3, 'Hidden size': 24, 'Learning rate': 0.00013442296035948015, 'Dropout rate': 0.19402638201818725, 'Epochs': 310}. Best is trial 12 with value: 40.64755466382682.\u001b[0m\n"
     ]
    },
    {
     "name": "stdout",
     "output_type": "stream",
     "text": [
      "lookback 3\n",
      "Epoch: 246/330 - train_loss: 0.1884 - test_loss: 0.152154\n",
      "Epoch: 328/330 - train_loss: 0.1487 - test_loss: 0.080343\n",
      "Epoch: 329/330 - train_loss: 0.1442 - test_loss: 0.079684\n"
     ]
    },
    {
     "name": "stderr",
     "output_type": "stream",
     "text": [
      "\u001b[32m[I 2023-02-13 08:21:58,446]\u001b[0m Trial 9 finished with value: 48.1525559267312 and parameters: {'n layers': 4, 'Hidden size': 79, 'Learning rate': 0.0003617718845517611, 'Dropout rate': 0.6410220439290527, 'Epochs': 100}. Best is trial 12 with value: 40.64755466382682.\u001b[0m\n"
     ]
    },
    {
     "name": "stdout",
     "output_type": "stream",
     "text": [
      "lookback 3\n",
      "Epoch:  0/300 - train_loss: 1.0096 - test_loss: 0.912704\n",
      "Epoch: 164/330 - train_loss: 0.1492 - test_loss: 0.085481\n",
      "Epoch:  0/160 - train_loss: 1.3798 - test_loss: 1.190120\n",
      "Epoch: 82/330 - train_loss: 0.1434 - test_loss: 0.081825\n",
      "Epoch: 328/330 - train_loss: 0.1448 - test_loss: 0.091268\n",
      "Epoch: 329/330 - train_loss: 0.1424 - test_loss: 0.086647\n"
     ]
    },
    {
     "name": "stderr",
     "output_type": "stream",
     "text": [
      "\u001b[32m[I 2023-02-13 08:23:28,468]\u001b[0m Trial 18 finished with value: 42.16841816991923 and parameters: {'n layers': 3, 'Hidden size': 8, 'Learning rate': 0.0043545888403854665, 'Dropout rate': 0.191581239393299, 'Epochs': 460}. Best is trial 12 with value: 40.64755466382682.\u001b[0m\n"
     ]
    },
    {
     "name": "stdout",
     "output_type": "stream",
     "text": [
      "lookback 3\n",
      "Epoch:  0/260 - train_loss: 1.1086 - test_loss: 0.739991\n",
      "Epoch:  0/260 - train_loss: 1.1519 - test_loss: 0.804568\n",
      "Epoch: 246/330 - train_loss: 0.1609 - test_loss: 0.111038\n",
      "Epoch: 40/160 - train_loss: 0.3545 - test_loss: 0.312666\n",
      "Epoch:  0/260 - train_loss: 0.7755 - test_loss: 0.580093\n",
      "Epoch: 82/330 - train_loss: 0.6212 - test_loss: 0.549357\n",
      "Epoch: 75/300 - train_loss: 0.1433 - test_loss: 0.081011\n",
      "Epoch: 328/330 - train_loss: 0.1488 - test_loss: 0.101654\n",
      "Epoch: 329/330 - train_loss: 0.1527 - test_loss: 0.101329\n"
     ]
    },
    {
     "name": "stderr",
     "output_type": "stream",
     "text": [
      "\u001b[32m[I 2023-02-13 08:26:13,750]\u001b[0m Trial 1 finished with value: 53.53673624997864 and parameters: {'n layers': 5, 'Hidden size': 9, 'Learning rate': 0.0001903661209164588, 'Dropout rate': 0.16837780824879497, 'Epochs': 200}. Best is trial 12 with value: 40.64755466382682.\u001b[0m\n"
     ]
    },
    {
     "name": "stdout",
     "output_type": "stream",
     "text": [
      "lookback 3\n",
      "Epoch: 80/160 - train_loss: 0.1902 - test_loss: 0.140837\n",
      "Epoch: 65/260 - train_loss: 0.2285 - test_loss: 0.087937\n",
      "Epoch: 65/260 - train_loss: 0.1494 - test_loss: 0.085061\n",
      "Epoch: 246/330 - train_loss: 0.1428 - test_loss: 0.079849\n",
      "Epoch:  0/170 - train_loss: 1.2185 - test_loss: 0.894997\n",
      "Epoch: 82/330 - train_loss: 0.1535 - test_loss: 0.082786\n",
      "Epoch: 120/160 - train_loss: 0.1478 - test_loss: 0.094514\n",
      "Epoch: 65/260 - train_loss: 0.1540 - test_loss: 0.092040\n",
      "Epoch: 328/330 - train_loss: 0.1497 - test_loss: 0.087323\n",
      "Epoch: 329/330 - train_loss: 0.1414 - test_loss: 0.085976\n"
     ]
    },
    {
     "name": "stderr",
     "output_type": "stream",
     "text": [
      "\u001b[32m[I 2023-02-13 08:28:33,834]\u001b[0m Trial 3 finished with value: 52.953523677990916 and parameters: {'n layers': 6, 'Hidden size': 172, 'Learning rate': 0.00024954936369813184, 'Dropout rate': 0.5306782547827935, 'Epochs': 120}. Best is trial 12 with value: 40.64755466382682.\u001b[0m\n"
     ]
    },
    {
     "name": "stdout",
     "output_type": "stream",
     "text": [
      "lookback 3\n",
      "Epoch: 150/300 - train_loss: 0.1488 - test_loss: 0.079623\n",
      "Epoch: 164/330 - train_loss: 0.2348 - test_loss: 0.086627\n",
      "Epoch: 130/260 - train_loss: 0.1412 - test_loss: 0.084948\n",
      "Epoch: 159/160 - train_loss: 0.1542 - test_loss: 0.083549\n"
     ]
    },
    {
     "name": "stderr",
     "output_type": "stream",
     "text": [
      "\u001b[32m[I 2023-02-13 08:29:40,374]\u001b[0m Trial 21 finished with value: 45.72797477172571 and parameters: {'n layers': 6, 'Hidden size': 46, 'Learning rate': 0.0005920288361208339, 'Dropout rate': 0.3542056156467748, 'Epochs': 190}. Best is trial 12 with value: 40.64755466382682.\u001b[0m\n"
     ]
    },
    {
     "name": "stdout",
     "output_type": "stream",
     "text": [
      "lookback 3\n",
      "Epoch: 42/170 - train_loss: 0.3944 - test_loss: 0.353643\n",
      "Epoch: 130/260 - train_loss: 0.1419 - test_loss: 0.080810\n",
      "Epoch:  0/250 - train_loss: 1.1768 - test_loss: 0.821180\n",
      "Epoch: 130/260 - train_loss: 0.1433 - test_loss: 0.077616\n",
      "Epoch:  0/250 - train_loss: 0.9919 - test_loss: 0.827514\n",
      "Epoch: 84/170 - train_loss: 0.2094 - test_loss: 0.175135\n",
      "Epoch: 328/330 - train_loss: 0.1441 - test_loss: 0.080632\n",
      "Epoch: 329/330 - train_loss: 0.1418 - test_loss: 0.084266\n"
     ]
    },
    {
     "name": "stderr",
     "output_type": "stream",
     "text": [
      "\u001b[32m[I 2023-02-13 08:32:14,344]\u001b[0m Trial 17 finished with value: 45.948266389057665 and parameters: {'n layers': 6, 'Hidden size': 39, 'Learning rate': 0.003947667877281997, 'Dropout rate': 0.040819595856818484, 'Epochs': 440}. Best is trial 12 with value: 40.64755466382682.\u001b[0m\n"
     ]
    },
    {
     "name": "stdout",
     "output_type": "stream",
     "text": [
      "Epoch: 225/300 - train_loss: 0.1407 - test_loss: 0.078825\n",
      "lookback 3\n",
      "Epoch: 195/260 - train_loss: 0.1488 - test_loss: 0.078792\n",
      "Epoch: 195/260 - train_loss: 0.1412 - test_loss: 0.087064\n",
      "Epoch: 164/330 - train_loss: 0.4019 - test_loss: 0.364604\n",
      "Epoch: 62/250 - train_loss: 0.5911 - test_loss: 0.526338\n",
      "Epoch:  0/450 - train_loss: 0.7412 - test_loss: 0.577832\n",
      "Epoch: 126/170 - train_loss: 0.1570 - test_loss: 0.105567\n",
      "Epoch: 195/260 - train_loss: 0.1447 - test_loss: 0.080343\n",
      "Epoch: 62/250 - train_loss: 0.1510 - test_loss: 0.094833\n",
      "Epoch: 259/260 - train_loss: 0.1413 - test_loss: 0.078655\n"
     ]
    },
    {
     "name": "stderr",
     "output_type": "stream",
     "text": [
      "\u001b[32m[I 2023-02-13 08:34:32,094]\u001b[0m Trial 22 finished with value: 40.59136361468865 and parameters: {'n layers': 4, 'Hidden size': 28, 'Learning rate': 0.0015492168309353932, 'Dropout rate': 0.5487917162264305, 'Epochs': 300}. Best is trial 22 with value: 40.59136361468865.\u001b[0m\n"
     ]
    },
    {
     "name": "stdout",
     "output_type": "stream",
     "text": [
      "lookback 3\n",
      "Epoch: 246/330 - train_loss: 0.1409 - test_loss: 0.080830\n",
      "Epoch: 299/300 - train_loss: 0.1408 - test_loss: 0.083636\n"
     ]
    },
    {
     "name": "stderr",
     "output_type": "stream",
     "text": [
      "\u001b[32m[I 2023-02-13 08:34:56,620]\u001b[0m Trial 20 finished with value: 37.11975125457804 and parameters: {'n layers': 3, 'Hidden size': 79, 'Learning rate': 0.0016563250940271616, 'Dropout rate': 0.5539155966473784, 'Epochs': 300}. Best is trial 20 with value: 37.11975125457804.\u001b[0m\n"
     ]
    },
    {
     "name": "stdout",
     "output_type": "stream",
     "text": [
      "lookback 3\n",
      "Epoch: 259/260 - train_loss: 0.1420 - test_loss: 0.083876\n"
     ]
    },
    {
     "name": "stderr",
     "output_type": "stream",
     "text": [
      "\u001b[32m[I 2023-02-13 08:35:34,822]\u001b[0m Trial 23 finished with value: 40.88355028610997 and parameters: {'n layers': 3, 'Hidden size': 241, 'Learning rate': 0.0016070196413016744, 'Dropout rate': 0.38096440957417266, 'Epochs': 160}. Best is trial 20 with value: 37.11975125457804.\u001b[0m\n"
     ]
    },
    {
     "name": "stdout",
     "output_type": "stream",
     "text": [
      "lookback 3\n",
      "Epoch: 82/330 - train_loss: 0.3999 - test_loss: 0.371853\n",
      "Epoch: 168/170 - train_loss: 0.1456 - test_loss: 0.087766\n",
      "Epoch: 169/170 - train_loss: 0.1457 - test_loss: 0.088534\n"
     ]
    },
    {
     "name": "stderr",
     "output_type": "stream",
     "text": [
      "\u001b[32m[I 2023-02-13 08:36:08,071]\u001b[0m Trial 25 finished with value: 47.78635983303064 and parameters: {'n layers': 5, 'Hidden size': 57, 'Learning rate': 0.0005059474362821471, 'Dropout rate': 0.773997459958323, 'Epochs': 170}. Best is trial 20 with value: 37.11975125457804.\u001b[0m\n"
     ]
    },
    {
     "name": "stdout",
     "output_type": "stream",
     "text": [
      "lookback 3\n",
      "Epoch:  0/380 - train_loss: 0.9670 - test_loss: 0.716318\n",
      "Epoch: 124/250 - train_loss: 0.1436 - test_loss: 0.088683\n",
      "Epoch: 124/250 - train_loss: 0.4229 - test_loss: 0.391015\n",
      "Epoch: 259/260 - train_loss: 0.1419 - test_loss: 0.081129\n"
     ]
    },
    {
     "name": "stderr",
     "output_type": "stream",
     "text": [
      "\u001b[32m[I 2023-02-13 08:38:04,586]\u001b[0m Trial 24 finished with value: 51.23853603127838 and parameters: {'n layers': 5, 'Hidden size': 19, 'Learning rate': 0.008934529586600569, 'Dropout rate': 0.505367321159618, 'Epochs': 260}. Best is trial 20 with value: 37.11975125457804.\u001b[0m\n"
     ]
    },
    {
     "name": "stdout",
     "output_type": "stream",
     "text": [
      "lookback 3\n",
      "Epoch:  0/370 - train_loss: 1.1286 - test_loss: 0.751994\n",
      "Epoch:  0/370 - train_loss: 1.0912 - test_loss: 0.723194\n",
      "Epoch: 164/330 - train_loss: 0.1441 - test_loss: 0.080188\n",
      "Epoch:  0/370 - train_loss: 1.1998 - test_loss: 0.762089\n",
      "Epoch:  0/370 - train_loss: 1.1244 - test_loss: 1.273674\n",
      "Epoch: 186/250 - train_loss: 0.1421 - test_loss: 0.083279\n",
      "Epoch: 186/250 - train_loss: 0.3106 - test_loss: 0.285403\n",
      "Epoch: 328/330 - train_loss: 0.1500 - test_loss: 0.081785\n",
      "Epoch: 329/330 - train_loss: 0.1581 - test_loss: 0.078366\n",
      "Epoch: 112/450 - train_loss: 0.1547 - test_loss: 0.093767\n"
     ]
    },
    {
     "name": "stderr",
     "output_type": "stream",
     "text": [
      "\u001b[32m[I 2023-02-13 08:41:42,171]\u001b[0m Trial 16 finished with value: 44.08618070071633 and parameters: {'n layers': 4, 'Hidden size': 125, 'Learning rate': 0.002896957650496852, 'Dropout rate': 0.04338511618303407, 'Epochs': 260}. Best is trial 20 with value: 37.11975125457804.\u001b[0m\n"
     ]
    },
    {
     "name": "stdout",
     "output_type": "stream",
     "text": [
      "lookback 3\n",
      "Epoch: 95/380 - train_loss: 0.1552 - test_loss: 0.084204\n",
      "Epoch: 92/370 - train_loss: 0.1409 - test_loss: 0.079233\n",
      "Epoch: 246/330 - train_loss: 0.2704 - test_loss: 0.242171\n",
      "Epoch: 92/370 - train_loss: 0.1414 - test_loss: 0.082076\n",
      "Epoch: 248/250 - train_loss: 0.1432 - test_loss: 0.081696\n",
      "Epoch: 249/250 - train_loss: 0.1441 - test_loss: 0.082522\n"
     ]
    },
    {
     "name": "stderr",
     "output_type": "stream",
     "text": [
      "\u001b[32m[I 2023-02-13 08:43:03,782]\u001b[0m Trial 27 finished with value: 36.975858584915436 and parameters: {'n layers': 6, 'Hidden size': 84, 'Learning rate': 0.0011737403745698232, 'Dropout rate': 0.3221909008067382, 'Epochs': 250}. Best is trial 27 with value: 36.975858584915436.\u001b[0m\n"
     ]
    },
    {
     "name": "stdout",
     "output_type": "stream",
     "text": [
      "lookback 3\n",
      "Epoch: 92/370 - train_loss: 0.1518 - test_loss: 0.084771\n",
      "Epoch:  0/390 - train_loss: 1.2268 - test_loss: 0.827459\n",
      "Epoch: 92/370 - train_loss: 0.1446 - test_loss: 0.082127\n",
      "Epoch: 248/250 - train_loss: 0.2384 - test_loss: 0.204416\n",
      "Epoch: 249/250 - train_loss: 0.2325 - test_loss: 0.202749\n"
     ]
    },
    {
     "name": "stderr",
     "output_type": "stream",
     "text": [
      "\u001b[32m[I 2023-02-13 08:44:41,487]\u001b[0m Trial 26 finished with value: 49.889588893157224 and parameters: {'n layers': 4, 'Hidden size': 6, 'Learning rate': 0.00015342427271899746, 'Dropout rate': 0.1340343553458508, 'Epochs': 200}. Best is trial 27 with value: 36.975858584915436.\u001b[0m\n"
     ]
    },
    {
     "name": "stdout",
     "output_type": "stream",
     "text": [
      "lookback 3\n",
      "Epoch:  0/380 - train_loss: 1.4204 - test_loss: 0.891098\n",
      "Epoch: 184/370 - train_loss: 0.1405 - test_loss: 0.080299\n",
      "Epoch: 190/380 - train_loss: 0.1405 - test_loss: 0.082130\n",
      "Epoch:  0/380 - train_loss: 1.3314 - test_loss: 1.216499\n",
      "Epoch: 184/370 - train_loss: 0.1427 - test_loss: 0.083492\n",
      "Epoch: 184/370 - train_loss: 0.1436 - test_loss: 0.081084\n",
      "Epoch: 184/370 - train_loss: 0.1419 - test_loss: 0.078845\n",
      "Epoch: 95/380 - train_loss: 0.1408 - test_loss: 0.086630\n",
      "Epoch: 224/450 - train_loss: 0.1400 - test_loss: 0.079309\n",
      "Epoch: 276/370 - train_loss: 0.1462 - test_loss: 0.082812\n",
      "Epoch: 285/380 - train_loss: 0.1429 - test_loss: 0.078660\n",
      "Epoch: 276/370 - train_loss: 0.1417 - test_loss: 0.080721\n",
      "Epoch: 95/380 - train_loss: 0.2282 - test_loss: 0.085748\n",
      "Epoch: 276/370 - train_loss: 0.1415 - test_loss: 0.078515\n",
      "Epoch: 276/370 - train_loss: 0.1428 - test_loss: 0.086524\n",
      "Epoch: 190/380 - train_loss: 0.1540 - test_loss: 0.083859\n",
      "Epoch: 368/370 - train_loss: 0.1434 - test_loss: 0.080258\n",
      "Epoch: 369/370 - train_loss: 0.1496 - test_loss: 0.078896\n"
     ]
    },
    {
     "name": "stderr",
     "output_type": "stream",
     "text": [
      "\u001b[32m[I 2023-02-13 08:50:22,796]\u001b[0m Trial 30 finished with value: 38.686480017713784 and parameters: {'n layers': 4, 'Hidden size': 15, 'Learning rate': 0.0015565230555767886, 'Dropout rate': 0.7880330601570931, 'Epochs': 370}. Best is trial 27 with value: 36.975858584915436.\u001b[0m\n"
     ]
    },
    {
     "name": "stdout",
     "output_type": "stream",
     "text": [
      "lookback 3\n",
      "Epoch: 97/390 - train_loss: 0.1448 - test_loss: 0.084267\n",
      "Epoch: 379/380 - train_loss: 0.1422 - test_loss: 0.087249\n"
     ]
    },
    {
     "name": "stderr",
     "output_type": "stream",
     "text": [
      "\u001b[32m[I 2023-02-13 08:50:40,619]\u001b[0m Trial 29 finished with value: 37.90190509742899 and parameters: {'n layers': 4, 'Hidden size': 18, 'Learning rate': 0.0019239861378220586, 'Dropout rate': 0.7522888088033151, 'Epochs': 380}. Best is trial 27 with value: 36.975858584915436.\u001b[0m\n"
     ]
    },
    {
     "name": "stdout",
     "output_type": "stream",
     "text": [
      "lookback 3\n",
      "Epoch: 328/330 - train_loss: 0.2017 - test_loss: 0.162380\n",
      "Epoch: 329/330 - train_loss: 0.1985 - test_loss: 0.161734\n"
     ]
    },
    {
     "name": "stderr",
     "output_type": "stream",
     "text": [
      "\u001b[32m[I 2023-02-13 08:50:54,135]\u001b[0m Trial 5 finished with value: 44.55752330216331 and parameters: {'n layers': 3, 'Hidden size': 40, 'Learning rate': 0.00013057033054617528, 'Dropout rate': 0.19111542856786862, 'Epochs': 300}. Best is trial 27 with value: 36.975858584915436.\u001b[0m\n"
     ]
    },
    {
     "name": "stdout",
     "output_type": "stream",
     "text": [
      "lookback 3\n",
      "Epoch: 368/370 - train_loss: 0.1430 - test_loss: 0.081210\n",
      "Epoch: 369/370 - train_loss: 0.1439 - test_loss: 0.080752\n"
     ]
    },
    {
     "name": "stderr",
     "output_type": "stream",
     "text": [
      "\u001b[32m[I 2023-02-13 08:52:31,632]\u001b[0m Trial 31 finished with value: 38.42855642386082 and parameters: {'n layers': 4, 'Hidden size': 15, 'Learning rate': 0.001596831835756454, 'Dropout rate': 0.7550777395870814, 'Epochs': 380}. Best is trial 27 with value: 36.975858584915436.\u001b[0m\n"
     ]
    },
    {
     "name": "stdout",
     "output_type": "stream",
     "text": [
      "lookback 3\n",
      "Epoch: 246/330 - train_loss: 0.1515 - test_loss: 0.082504\n",
      "Epoch:  0/390 - train_loss: 1.5298 - test_loss: 1.129526\n",
      "Epoch:  0/390 - train_loss: 1.2141 - test_loss: 0.865625\n",
      "Epoch: 164/330 - train_loss: 0.2155 - test_loss: 0.184841\n",
      "Epoch:  0/390 - train_loss: 0.9531 - test_loss: 0.755426\n",
      "Epoch: 336/450 - train_loss: 0.1456 - test_loss: 0.087471\n",
      "Epoch: 368/370 - train_loss: 0.1436 - test_loss: 0.083522\n",
      "Epoch:  0/390 - train_loss: 1.0010 - test_loss: 0.774733\n",
      "Epoch: 369/370 - train_loss: 0.1459 - test_loss: 0.081506\n"
     ]
    },
    {
     "name": "stderr",
     "output_type": "stream",
     "text": [
      "\u001b[32m[I 2023-02-13 08:55:12,962]\u001b[0m Trial 33 finished with value: 44.781718126386956 and parameters: {'n layers': 4, 'Hidden size': 111, 'Learning rate': 0.0015434422199280334, 'Dropout rate': 0.6888726106026515, 'Epochs': 370}. Best is trial 27 with value: 36.975858584915436.\u001b[0m\n"
     ]
    },
    {
     "name": "stdout",
     "output_type": "stream",
     "text": [
      "lookback 3\n",
      "Epoch: 190/380 - train_loss: 0.1414 - test_loss: 0.085317\n",
      "Epoch: 368/370 - train_loss: 0.1432 - test_loss: 0.084052\n",
      "Epoch: 369/370 - train_loss: 0.1450 - test_loss: 0.078451\n"
     ]
    },
    {
     "name": "stderr",
     "output_type": "stream",
     "text": [
      "\u001b[32m[I 2023-02-13 08:55:31,412]\u001b[0m Trial 32 finished with value: 47.37878995760775 and parameters: {'n layers': 4, 'Hidden size': 20, 'Learning rate': 0.0015794881857708841, 'Dropout rate': 0.5241171248559525, 'Epochs': 380}. Best is trial 27 with value: 36.975858584915436.\u001b[0m\n"
     ]
    },
    {
     "name": "stdout",
     "output_type": "stream",
     "text": [
      "lookback 3\n",
      "Epoch: 285/380 - train_loss: 0.1404 - test_loss: 0.082175\n",
      "Epoch:  0/250 - train_loss: 1.0652 - test_loss: 1.046499\n",
      "Epoch:  0/250 - train_loss: 1.4638 - test_loss: 1.825299\n",
      "Epoch: 97/390 - train_loss: 0.1556 - test_loss: 0.101154\n",
      "Epoch: 97/390 - train_loss: 0.1435 - test_loss: 0.087342\n",
      "Epoch: 194/390 - train_loss: 0.1491 - test_loss: 0.080807\n",
      "Epoch: 97/390 - train_loss: 0.1425 - test_loss: 0.085394\n",
      "Epoch: 379/380 - train_loss: 0.1418 - test_loss: 0.081578\n"
     ]
    },
    {
     "name": "stderr",
     "output_type": "stream",
     "text": [
      "\u001b[32m[I 2023-02-13 08:58:51,141]\u001b[0m Trial 35 finished with value: 44.94677511443688 and parameters: {'n layers': 4, 'Hidden size': 98, 'Learning rate': 0.0012811099773794904, 'Dropout rate': 0.6983593172066782, 'Epochs': 390}. Best is trial 27 with value: 36.975858584915436.\u001b[0m\n"
     ]
    },
    {
     "name": "stdout",
     "output_type": "stream",
     "text": [
      "lookback 3\n",
      "Epoch: 62/250 - train_loss: 0.1778 - test_loss: 0.127805\n",
      "Epoch: 62/250 - train_loss: 0.1585 - test_loss: 0.112293\n",
      "Epoch: 285/380 - train_loss: 0.1409 - test_loss: 0.079992\n",
      "Epoch:  0/250 - train_loss: 1.1231 - test_loss: 0.930731\n",
      "Epoch: 194/390 - train_loss: 0.1416 - test_loss: 0.084303\n",
      "Epoch: 194/390 - train_loss: 0.1422 - test_loss: 0.079613\n",
      "Epoch: 448/450 - train_loss: 0.1408 - test_loss: 0.082962\n",
      "Epoch: 124/250 - train_loss: 0.1493 - test_loss: 0.079835\n",
      "Epoch: 449/450 - train_loss: 0.1412 - test_loss: 0.078807\n"
     ]
    },
    {
     "name": "stderr",
     "output_type": "stream",
     "text": [
      "\u001b[32m[I 2023-02-13 09:01:05,515]\u001b[0m Trial 28 finished with value: 48.7976534554507 and parameters: {'n layers': 5, 'Hidden size': 32, 'Learning rate': 0.0075038559093578315, 'Dropout rate': 0.7254825222948206, 'Epochs': 450}. Best is trial 27 with value: 36.975858584915436.\u001b[0m\n"
     ]
    },
    {
     "name": "stdout",
     "output_type": "stream",
     "text": [
      "lookback 3\n",
      "Epoch: 124/250 - train_loss: 0.1489 - test_loss: 0.084724\n",
      "Epoch: 194/390 - train_loss: 0.1473 - test_loss: 0.079176\n",
      "Epoch: 62/250 - train_loss: 0.1736 - test_loss: 0.125014\n",
      "Epoch:  0/270 - train_loss: 1.2190 - test_loss: 1.026398\n",
      "Epoch: 186/250 - train_loss: 0.1404 - test_loss: 0.081024\n",
      "Epoch: 291/390 - train_loss: 0.1493 - test_loss: 0.081761\n",
      "Epoch: 379/380 - train_loss: 0.1417 - test_loss: 0.084688\n"
     ]
    },
    {
     "name": "stderr",
     "output_type": "stream",
     "text": [
      "\u001b[32m[I 2023-02-13 09:03:32,734]\u001b[0m Trial 36 finished with value: 41.45959798114767 and parameters: {'n layers': 6, 'Hidden size': 106, 'Learning rate': 0.0009704750696206217, 'Dropout rate': 0.7181123169264045, 'Epochs': 380}. Best is trial 27 with value: 36.975858584915436.\u001b[0m\n"
     ]
    },
    {
     "name": "stdout",
     "output_type": "stream",
     "text": [
      "lookback 3\n",
      "Epoch: 124/250 - train_loss: 0.1417 - test_loss: 0.084000\n",
      "Epoch: 291/390 - train_loss: 0.1531 - test_loss: 0.080394\n",
      "Epoch: 97/390 - train_loss: 0.1505 - test_loss: 0.087027\n",
      "Epoch: 186/250 - train_loss: 0.2378 - test_loss: 0.082789\n",
      "Epoch: 291/390 - train_loss: 0.1432 - test_loss: 0.086453\n",
      "Epoch:  0/250 - train_loss: 0.8788 - test_loss: 0.684031\n",
      "Epoch: 291/390 - train_loss: 0.1438 - test_loss: 0.082225\n",
      "Epoch: 248/250 - train_loss: 0.1408 - test_loss: 0.076924\n",
      "Epoch: 249/250 - train_loss: 0.1395 - test_loss: 0.078759\n"
     ]
    },
    {
     "name": "stderr",
     "output_type": "stream",
     "text": [
      "\u001b[32m[I 2023-02-13 09:05:02,672]\u001b[0m Trial 41 finished with value: 37.90470357821399 and parameters: {'n layers': 6, 'Hidden size': 72, 'Learning rate': 0.0008574565774756688, 'Dropout rate': 0.45808302871420603, 'Epochs': 500}. Best is trial 27 with value: 36.975858584915436.\u001b[0m\n"
     ]
    },
    {
     "name": "stdout",
     "output_type": "stream",
     "text": [
      "lookback 3\n",
      "Epoch: 186/250 - train_loss: 0.1433 - test_loss: 0.086368\n",
      "Epoch: 328/330 - train_loss: 0.1503 - test_loss: 0.090479\n",
      "Epoch: 67/270 - train_loss: 0.1563 - test_loss: 0.107899\n",
      "Epoch: 329/330 - train_loss: 0.1419 - test_loss: 0.086228\n"
     ]
    },
    {
     "name": "stderr",
     "output_type": "stream",
     "text": [
      "\u001b[32m[I 2023-02-13 09:05:39,724]\u001b[0m Trial 15 finished with value: 49.39514250325601 and parameters: {'n layers': 4, 'Hidden size': 152, 'Learning rate': 0.001696500309245923, 'Dropout rate': 0.2885313598771014, 'Epochs': 170}. Best is trial 27 with value: 36.975858584915436.\u001b[0m\n"
     ]
    },
    {
     "name": "stdout",
     "output_type": "stream",
     "text": [
      "lookback 3\n",
      "Epoch: 248/250 - train_loss: 0.1490 - test_loss: 0.082176\n",
      "Epoch: 249/250 - train_loss: 0.1433 - test_loss: 0.083974\n"
     ]
    },
    {
     "name": "stderr",
     "output_type": "stream",
     "text": [
      "\u001b[32m[I 2023-02-13 09:06:17,237]\u001b[0m Trial 42 finished with value: 43.767243276108424 and parameters: {'n layers': 5, 'Hidden size': 86, 'Learning rate': 0.0009661840242706682, 'Dropout rate': 0.42895008380319877, 'Epochs': 250}. Best is trial 27 with value: 36.975858584915436.\u001b[0m\n"
     ]
    },
    {
     "name": "stdout",
     "output_type": "stream",
     "text": [
      "lookback 3\n",
      "Epoch:  0/250 - train_loss: 1.0186 - test_loss: 0.775071\n",
      "Epoch: 388/390 - train_loss: 0.1424 - test_loss: 0.080450\n",
      "Epoch: 389/390 - train_loss: 0.1439 - test_loss: 0.084500\n"
     ]
    },
    {
     "name": "stderr",
     "output_type": "stream",
     "text": [
      "\u001b[32m[I 2023-02-13 09:06:44,349]\u001b[0m Trial 37 finished with value: 46.83036819614487 and parameters: {'n layers': 6, 'Hidden size': 83, 'Learning rate': 0.0006899394723908479, 'Dropout rate': 0.6700613866523488, 'Epochs': 390}. Best is trial 27 with value: 36.975858584915436.\u001b[0m\n"
     ]
    },
    {
     "name": "stdout",
     "output_type": "stream",
     "text": [
      "lookback 3\n",
      "Epoch: 388/390 - train_loss: 0.1505 - test_loss: 0.082301\n",
      "Epoch: 389/390 - train_loss: 0.1514 - test_loss: 0.078047\n"
     ]
    },
    {
     "name": "stderr",
     "output_type": "stream",
     "text": [
      "\u001b[32m[I 2023-02-13 09:07:42,795]\u001b[0m Trial 38 finished with value: 37.423828530497225 and parameters: {'n layers': 6, 'Hidden size': 86, 'Learning rate': 0.0009126912065368652, 'Dropout rate': 0.44835746023023887, 'Epochs': 260}. Best is trial 27 with value: 36.975858584915436.\u001b[0m\n"
     ]
    },
    {
     "name": "stdout",
     "output_type": "stream",
     "text": [
      "Epoch:  0/330 - train_loss: 1.1439 - test_loss: 0.804466\n",
      "Epoch: 62/250 - train_loss: 0.1468 - test_loss: 0.080491\n",
      "Epoch:  0/330 - train_loss: 0.9766 - test_loss: 0.680056\n",
      "Epoch: 248/250 - train_loss: 0.1437 - test_loss: 0.083902\n",
      "Epoch: 249/250 - train_loss: 0.1395 - test_loss: 0.085604\n",
      "Epoch:  0/330 - train_loss: 1.1245 - test_loss: 0.706402\n"
     ]
    },
    {
     "name": "stderr",
     "output_type": "stream",
     "text": [
      "\u001b[32m[I 2023-02-13 09:09:19,975]\u001b[0m Trial 43 finished with value: 49.3796540226553 and parameters: {'n layers': 5, 'Hidden size': 71, 'Learning rate': 0.0008544213884880537, 'Dropout rate': 0.46525885909367337, 'Epochs': 250}. Best is trial 27 with value: 36.975858584915436.\u001b[0m\n"
     ]
    },
    {
     "name": "stdout",
     "output_type": "stream",
     "text": [
      "Epoch: 388/390 - train_loss: 0.1429 - test_loss: 0.078052\n",
      "Epoch: 389/390 - train_loss: 0.1439 - test_loss: 0.080819\n"
     ]
    },
    {
     "name": "stderr",
     "output_type": "stream",
     "text": [
      "\u001b[32m[I 2023-02-13 09:09:35,129]\u001b[0m Trial 40 finished with value: 46.287052826289674 and parameters: {'n layers': 6, 'Hidden size': 86, 'Learning rate': 0.000861193837969062, 'Dropout rate': 0.6761528675053518, 'Epochs': 390}. Best is trial 27 with value: 36.975858584915436.\u001b[0m\n"
     ]
    },
    {
     "name": "stdout",
     "output_type": "stream",
     "text": [
      "Epoch: 134/270 - train_loss: 0.1430 - test_loss: 0.084820\n",
      "Epoch: 62/250 - train_loss: 0.1694 - test_loss: 0.090653\n",
      "Epoch: 388/390 - train_loss: 0.1416 - test_loss: 0.078712\n",
      "Epoch: 389/390 - train_loss: 0.1406 - test_loss: 0.083332\n"
     ]
    },
    {
     "name": "stderr",
     "output_type": "stream",
     "text": [
      "\u001b[32m[I 2023-02-13 09:10:16,271]\u001b[0m Trial 34 finished with value: 42.104257397222526 and parameters: {'n layers': 4, 'Hidden size': 17, 'Learning rate': 0.0012065944255638258, 'Dropout rate': 0.6668849085809092, 'Epochs': 400}. Best is trial 27 with value: 36.975858584915436.\u001b[0m\n"
     ]
    },
    {
     "name": "stdout",
     "output_type": "stream",
     "text": [
      "Epoch: 194/390 - train_loss: 0.1438 - test_loss: 0.083962\n",
      "Epoch: 124/250 - train_loss: 0.1404 - test_loss: 0.080389\n",
      "Epoch: 246/330 - train_loss: 0.1506 - test_loss: 0.106081\n",
      "Epoch: 82/330 - train_loss: 0.1449 - test_loss: 0.081755\n",
      "Epoch: 82/330 - train_loss: 0.3490 - test_loss: 0.314916\n",
      "Epoch: 124/250 - train_loss: 0.1448 - test_loss: 0.079968\n",
      "Epoch: 82/330 - train_loss: 0.1454 - test_loss: 0.089390\n",
      "Epoch: 201/270 - train_loss: 0.1456 - test_loss: 0.081951\n",
      "Epoch: 186/250 - train_loss: 0.1482 - test_loss: 0.091808\n",
      "Epoch: 82/330 - train_loss: 0.1522 - test_loss: 0.085879\n",
      "Epoch: 186/250 - train_loss: 0.2423 - test_loss: 0.079338\n",
      "Epoch: 164/330 - train_loss: 0.1433 - test_loss: 0.081372\n",
      "Epoch: 164/330 - train_loss: 0.1410 - test_loss: 0.081809\n",
      "Epoch: 268/270 - train_loss: 0.1558 - test_loss: 0.080571\n",
      "Epoch: 291/390 - train_loss: 0.1403 - test_loss: 0.084184\n",
      "Epoch: 269/270 - train_loss: 0.1436 - test_loss: 0.077201\n"
     ]
    },
    {
     "name": "stderr",
     "output_type": "stream",
     "text": [
      "\u001b[32m[I 2023-02-13 09:13:19,171]\u001b[0m Trial 44 finished with value: 47.959344734645946 and parameters: {'n layers': 6, 'Hidden size': 350, 'Learning rate': 0.000888910470323681, 'Dropout rate': 0.459235625080331, 'Epochs': 270}. Best is trial 27 with value: 36.975858584915436.\u001b[0m\n"
     ]
    },
    {
     "name": "stdout",
     "output_type": "stream",
     "text": [
      "Epoch: 82/330 - train_loss: 0.1467 - test_loss: 0.097083\n",
      "Epoch: 82/330 - train_loss: 0.1424 - test_loss: 0.085518\n",
      "Epoch: 248/250 - train_loss: 0.1525 - test_loss: 0.083035\n",
      "Epoch: 249/250 - train_loss: 0.1449 - test_loss: 0.087327\n"
     ]
    },
    {
     "name": "stderr",
     "output_type": "stream",
     "text": [
      "\u001b[32m[I 2023-02-13 09:13:33,776]\u001b[0m Trial 45 finished with value: 42.674639570105974 and parameters: {'n layers': 3, 'Hidden size': 368, 'Learning rate': 0.0025601318980113556, 'Dropout rate': 0.4459241033184132, 'Epochs': 250}. Best is trial 27 with value: 36.975858584915436.\u001b[0m\n"
     ]
    },
    {
     "name": "stdout",
     "output_type": "stream",
     "text": [
      "Epoch: 248/250 - train_loss: 0.1459 - test_loss: 0.082548\n",
      "Epoch: 249/250 - train_loss: 0.1448 - test_loss: 0.077203\n"
     ]
    },
    {
     "name": "stderr",
     "output_type": "stream",
     "text": [
      "\u001b[32m[I 2023-02-13 09:14:07,835]\u001b[0m Trial 46 finished with value: 40.624748238019215 and parameters: {'n layers': 3, 'Hidden size': 56, 'Learning rate': 0.002699656117058843, 'Dropout rate': 0.6190378225467792, 'Epochs': 240}. Best is trial 27 with value: 36.975858584915436.\u001b[0m\n"
     ]
    },
    {
     "name": "stdout",
     "output_type": "stream",
     "text": [
      "Epoch: 328/330 - train_loss: 0.1406 - test_loss: 0.084245\n",
      "Epoch: 329/330 - train_loss: 0.1523 - test_loss: 0.085892\n"
     ]
    },
    {
     "name": "stderr",
     "output_type": "stream",
     "text": [
      "\u001b[32m[I 2023-02-13 09:14:14,632]\u001b[0m Trial 13 finished with value: 48.46172189191865 and parameters: {'n layers': 5, 'Hidden size': 135, 'Learning rate': 0.0002524127746525268, 'Dropout rate': 0.4433270140766642, 'Epochs': 230}. Best is trial 27 with value: 36.975858584915436.\u001b[0m\n"
     ]
    },
    {
     "name": "stdout",
     "output_type": "stream",
     "text": [
      "Epoch: 164/330 - train_loss: 0.1443 - test_loss: 0.082624\n",
      "Epoch: 246/330 - train_loss: 0.1418 - test_loss: 0.087844\n",
      "Epoch: 246/330 - train_loss: 0.1501 - test_loss: 0.083377\n",
      "Epoch: 164/330 - train_loss: 0.1806 - test_loss: 0.139847\n",
      "Epoch: 388/390 - train_loss: 0.1479 - test_loss: 0.077066\n",
      "Epoch: 389/390 - train_loss: 0.1410 - test_loss: 0.078788\n"
     ]
    },
    {
     "name": "stderr",
     "output_type": "stream",
     "text": [
      "\u001b[32m[I 2023-02-13 09:15:27,627]\u001b[0m Trial 39 finished with value: 43.473507115254485 and parameters: {'n layers': 6, 'Hidden size': 381, 'Learning rate': 0.0008585169903072315, 'Dropout rate': 0.44079856873543566, 'Epochs': 250}. Best is trial 27 with value: 36.975858584915436.\u001b[0m\n"
     ]
    },
    {
     "name": "stdout",
     "output_type": "stream",
     "text": [
      "Epoch: 246/330 - train_loss: 0.1520 - test_loss: 0.086549\n",
      "Epoch: 328/330 - train_loss: 0.1401 - test_loss: 0.083534\n",
      "Epoch: 329/330 - train_loss: 0.1489 - test_loss: 0.079259\n",
      "Epoch: 328/330 - train_loss: 0.1424 - test_loss: 0.077912\n"
     ]
    },
    {
     "name": "stderr",
     "output_type": "stream",
     "text": [
      "\u001b[32m[I 2023-02-13 09:16:30,167]\u001b[0m Trial 48 finished with value: 42.88753961145536 and parameters: {'n layers': 3, 'Hidden size': 360, 'Learning rate': 0.002480468872981353, 'Dropout rate': 0.6266446472194804, 'Epochs': 330}. Best is trial 27 with value: 36.975858584915436.\u001b[0m\n"
     ]
    },
    {
     "name": "stdout",
     "output_type": "stream",
     "text": [
      "Epoch: 329/330 - train_loss: 0.2343 - test_loss: 0.090279\n"
     ]
    },
    {
     "name": "stderr",
     "output_type": "stream",
     "text": [
      "\u001b[32m[I 2023-02-13 09:16:32,212]\u001b[0m Trial 49 finished with value: 44.59292069744 and parameters: {'n layers': 3, 'Hidden size': 50, 'Learning rate': 0.002701973909103592, 'Dropout rate': 0.5921628867458646, 'Epochs': 330}. Best is trial 27 with value: 36.975858584915436.\u001b[0m\n"
     ]
    },
    {
     "name": "stdout",
     "output_type": "stream",
     "text": [
      "Epoch: 164/330 - train_loss: 0.2234 - test_loss: 0.103755\n",
      "Epoch: 164/330 - train_loss: 0.2359 - test_loss: 0.091394\n",
      "Epoch: 246/330 - train_loss: 0.1467 - test_loss: 0.090962\n",
      "Epoch: 82/330 - train_loss: 0.1427 - test_loss: 0.085300\n",
      "Epoch: 82/330 - train_loss: 0.1816 - test_loss: 0.134535\n",
      "Epoch: 82/330 - train_loss: 0.1525 - test_loss: 0.090199\n",
      "Epoch: 328/330 - train_loss: 0.1534 - test_loss: 0.082141\n",
      "Epoch: 329/330 - train_loss: 0.1498 - test_loss: 0.079369\n"
     ]
    },
    {
     "name": "stderr",
     "output_type": "stream",
     "text": [
      "\u001b[32m[I 2023-02-13 09:18:04,670]\u001b[0m Trial 47 finished with value: 47.7977482785378 and parameters: {'n layers': 3, 'Hidden size': 372, 'Learning rate': 0.0024895972703407768, 'Dropout rate': 0.6384471844432901, 'Epochs': 250}. Best is trial 27 with value: 36.975858584915436.\u001b[0m\n"
     ]
    },
    {
     "name": "stdout",
     "output_type": "stream",
     "text": [
      "Epoch: 82/330 - train_loss: 0.4804 - test_loss: 0.438073\n",
      "Epoch: 246/330 - train_loss: 0.1498 - test_loss: 0.080199\n",
      "Epoch: 246/330 - train_loss: 0.1435 - test_loss: 0.083474\n",
      "Epoch: 328/330 - train_loss: 0.1421 - test_loss: 0.082991\n",
      "Epoch: 329/330 - train_loss: 0.1463 - test_loss: 0.082042\n"
     ]
    },
    {
     "name": "stderr",
     "output_type": "stream",
     "text": [
      "\u001b[32m[I 2023-02-13 09:18:45,619]\u001b[0m Trial 7 finished with value: 49.35771204882783 and parameters: {'n layers': 5, 'Hidden size': 11, 'Learning rate': 0.00030181646150687037, 'Dropout rate': 0.48525846469275197, 'Epochs': 450}. Best is trial 27 with value: 36.975858584915436.\u001b[0m\n"
     ]
    },
    {
     "name": "stdout",
     "output_type": "stream",
     "text": [
      "Epoch: 164/330 - train_loss: 0.1481 - test_loss: 0.088831\n",
      "Epoch: 82/330 - train_loss: 0.1449 - test_loss: 0.091525\n",
      "Epoch: 164/330 - train_loss: 0.1725 - test_loss: 0.085632\n",
      "Epoch: 164/330 - train_loss: 0.1493 - test_loss: 0.096060\n",
      "Epoch: 328/330 - train_loss: 0.1421 - test_loss: 0.082709\n",
      "Epoch: 329/330 - train_loss: 0.1487 - test_loss: 0.078882\n"
     ]
    },
    {
     "name": "stderr",
     "output_type": "stream",
     "text": [
      "\u001b[32m[I 2023-02-13 09:20:03,425]\u001b[0m Trial 14 finished with value: 48.93796153228434 and parameters: {'n layers': 6, 'Hidden size': 329, 'Learning rate': 0.001052950327782882, 'Dropout rate': 0.4726505389007073, 'Epochs': 270}. Best is trial 27 with value: 36.975858584915436.\u001b[0m\n"
     ]
    },
    {
     "name": "stdout",
     "output_type": "stream",
     "text": [
      "Epoch: 328/330 - train_loss: 0.1430 - test_loss: 0.085136\n",
      "Epoch: 329/330 - train_loss: 0.1443 - test_loss: 0.083955\n"
     ]
    },
    {
     "name": "stderr",
     "output_type": "stream",
     "text": [
      "\u001b[32m[I 2023-02-13 09:20:07,736]\u001b[0m Trial 10 finished with value: 40.38768206406056 and parameters: {'n layers': 4, 'Hidden size': 312, 'Learning rate': 0.0009576983624308919, 'Dropout rate': 0.12734842273446834, 'Epochs': 500}. Best is trial 27 with value: 36.975858584915436.\u001b[0m\n"
     ]
    },
    {
     "name": "stdout",
     "output_type": "stream",
     "text": [
      "Epoch: 246/330 - train_loss: 0.1432 - test_loss: 0.079575\n",
      "Epoch: 164/330 - train_loss: 0.2940 - test_loss: 0.242919\n",
      "Epoch: 246/330 - train_loss: 0.1460 - test_loss: 0.083154\n",
      "Epoch: 246/330 - train_loss: 0.1573 - test_loss: 0.082839\n",
      "Epoch: 164/330 - train_loss: 0.1479 - test_loss: 0.086002\n",
      "Epoch: 328/330 - train_loss: 0.1451 - test_loss: 0.082737\n",
      "Epoch: 329/330 - train_loss: 0.1411 - test_loss: 0.083244\n"
     ]
    },
    {
     "name": "stderr",
     "output_type": "stream",
     "text": [
      "\u001b[32m[I 2023-02-13 09:21:15,233]\u001b[0m Trial 2 finished with value: 48.63325710219677 and parameters: {'n layers': 3, 'Hidden size': 38, 'Learning rate': 0.0032775622656435075, 'Dropout rate': 0.5795021908741778, 'Epochs': 500}. Best is trial 27 with value: 36.975858584915436.\u001b[0m\n"
     ]
    },
    {
     "name": "stdout",
     "output_type": "stream",
     "text": [
      "Epoch: 246/330 - train_loss: 0.2403 - test_loss: 0.143459\n",
      "Epoch: 328/330 - train_loss: 0.1415 - test_loss: 0.082508\n",
      "Epoch: 329/330 - train_loss: 0.1429 - test_loss: 0.084646\n"
     ]
    },
    {
     "name": "stderr",
     "output_type": "stream",
     "text": [
      "\u001b[32m[I 2023-02-13 09:21:33,243]\u001b[0m Trial 8 finished with value: 38.13007990098814 and parameters: {'n layers': 6, 'Hidden size': 5, 'Learning rate': 0.0006437755694922733, 'Dropout rate': 0.6754110056141527, 'Epochs': 410}. Best is trial 27 with value: 36.975858584915436.\u001b[0m\n"
     ]
    },
    {
     "name": "stdout",
     "output_type": "stream",
     "text": [
      "Epoch: 328/330 - train_loss: 0.1413 - test_loss: 0.078575\n",
      "Epoch: 329/330 - train_loss: 0.1491 - test_loss: 0.082397\n"
     ]
    },
    {
     "name": "stderr",
     "output_type": "stream",
     "text": [
      "\u001b[32m[I 2023-02-13 09:21:43,688]\u001b[0m Trial 4 finished with value: 47.146619321527716 and parameters: {'n layers': 4, 'Hidden size': 202, 'Learning rate': 0.0018179739823759526, 'Dropout rate': 0.7730668590428391, 'Epochs': 130}. Best is trial 27 with value: 36.975858584915436.\u001b[0m\n"
     ]
    },
    {
     "name": "stdout",
     "output_type": "stream",
     "text": [
      "Epoch: 246/330 - train_loss: 0.1445 - test_loss: 0.084467\n",
      "Epoch: 328/330 - train_loss: 0.1470 - test_loss: 0.101300\n",
      "Epoch: 329/330 - train_loss: 0.1594 - test_loss: 0.100704\n"
     ]
    },
    {
     "name": "stderr",
     "output_type": "stream",
     "text": [
      "\u001b[32m[I 2023-02-13 09:21:56,139]\u001b[0m Trial 6 finished with value: 50.24211892532728 and parameters: {'n layers': 5, 'Hidden size': 252, 'Learning rate': 0.00018549784540470584, 'Dropout rate': 0.4546153626248233, 'Epochs': 470}. Best is trial 27 with value: 36.975858584915436.\u001b[0m\n"
     ]
    },
    {
     "name": "stdout",
     "output_type": "stream",
     "text": [
      "Epoch: 328/330 - train_loss: 0.1436 - test_loss: 0.080641\n",
      "Epoch: 329/330 - train_loss: 0.1411 - test_loss: 0.082294\n"
     ]
    },
    {
     "name": "stderr",
     "output_type": "stream",
     "text": [
      "\u001b[32m[I 2023-02-13 09:22:07,951]\u001b[0m Trial 11 finished with value: 31.21671695371653 and parameters: {'n layers': 4, 'Hidden size': 127, 'Learning rate': 0.0033030573117838182, 'Dropout rate': 0.229563845883071, 'Epochs': 290}. Best is trial 11 with value: 31.21671695371653.\u001b[0m\n",
      "\u001b[32m[I 2023-02-13 09:22:07,987]\u001b[0m A new study created in memory with name: no-name-bc82c122-d838-4212-a59a-18a4e49e7dfa\u001b[0m\n"
     ]
    },
    {
     "name": "stdout",
     "output_type": "stream",
     "text": [
      "Study statistics for : \n",
      "  Number of finished trials:  50\n",
      "Best trial of city:  Hà Giang\n",
      "  Value:  31.21671695371653\n",
      "optimize result of city: Hà Giang\n",
      "lookback 3\n",
      "lookback lookback 3\n",
      "3\n",
      "lookback 3\n",
      "lookback 3\n",
      "lookback 3\n",
      "lookback 3\n",
      "lookback 3\n",
      "lookback 3\n",
      "lookback 3\n",
      "lookback 3\n",
      "lookback 3\n",
      "lookback 3\n",
      "lookback 3\n",
      "lookback 3\n",
      "lookback 3\n",
      "lookback 3\n",
      "lookbacklookback 3\n",
      " 3\n",
      "lookback 3\n",
      "Epoch:  0/440 - train_loss: 1.1519 - test_loss: 0.974126\n",
      "Epoch:  0/440 - train_loss: 0.9462 - test_loss: 0.728278\n",
      "Epoch:  0/440 - train_loss: 1.3489 - test_loss: 1.254552\n",
      "Epoch:  0/440 - train_loss: 2.0444 - test_loss: 2.472801\n",
      "Epoch:  0/440 - train_loss: 1.1069 - test_loss: 0.876775Epoch:  0/440 - train_loss: 1.4464 - test_loss: 1.792178\n",
      "\n",
      "Epoch:  0/440 - train_loss: 1.3585 - test_loss: 1.196328\n",
      "Epoch:  0/440 - train_loss: 2.1936 - test_loss: 2.594777\n",
      "Epoch:  0/440 - train_loss: 1.1576 - test_loss: 0.760456\n",
      "Epoch:  0/440 - train_loss: 1.2412 - test_loss: 0.794902\n",
      "Epoch:  0/440 - train_loss: 1.1816 - test_loss: 0.844558\n",
      "Epoch:  0/440 - train_loss: 1.0534 - test_loss: 0.700852\n",
      "Epoch:  0/440 - train_loss: 1.4315 - test_loss: 1.823316\n",
      "Epoch:  0/440 - train_loss: 1.4998 - test_loss: 1.897252\n",
      "Epoch:  0/440 - train_loss: 1.2591 - test_loss: 1.234828\n",
      "Epoch:  0/440 - train_loss: 1.5632 - test_loss: 0.992084\n",
      "Epoch:  0/440 - train_loss: 1.5284 - test_loss: 0.853410Epoch:  0/440 - train_loss: 1.4307 - test_loss: 1.196865\n",
      "\n",
      "Epoch:  0/440 - train_loss: 1.5558 - test_loss: 1.667608\n",
      "Epoch:  0/440 - train_loss: 1.2529 - test_loss: 0.897593\n",
      "Epoch: 110/440 - train_loss: 0.3234 - test_loss: 0.237531\n",
      "Epoch: 110/440 - train_loss: 0.4086 - test_loss: 0.348871\n",
      "Epoch: 110/440 - train_loss: 0.4517 - test_loss: 0.374311\n",
      "Epoch: 110/440 - train_loss: 0.5908 - test_loss: 0.507492\n",
      "Epoch: 110/440 - train_loss: 0.4101 - test_loss: 0.339797\n",
      "Epoch: 110/440 - train_loss: 0.3427 - test_loss: 0.240863\n",
      "Epoch: 220/440 - train_loss: 0.3316 - test_loss: 0.221872\n",
      "Epoch: 220/440 - train_loss: 0.3337 - test_loss: 0.225532\n",
      "Epoch: 220/440 - train_loss: 0.3334 - test_loss: 0.233909\n",
      "Epoch: 220/440 - train_loss: 0.4502 - test_loss: 0.359082\n",
      "Epoch: 220/440 - train_loss: 0.3238 - test_loss: 0.221133\n",
      "Epoch: 110/440 - train_loss: 0.4674 - test_loss: 0.393043\n",
      "Epoch: 220/440 - train_loss: 0.3195 - test_loss: 0.210981\n",
      "Epoch: 330/440 - train_loss: 0.3246 - test_loss: 0.201615\n",
      "Epoch: 330/440 - train_loss: 0.3149 - test_loss: 0.214807\n",
      "Epoch: 330/440 - train_loss: 0.3341 - test_loss: 0.206529\n",
      "Epoch: 330/440 - train_loss: 0.3558 - test_loss: 0.270313\n",
      "Epoch: 110/440 - train_loss: 0.3327 - test_loss: 0.223609\n",
      "Epoch: 330/440 - train_loss: 0.3237 - test_loss: 0.211643\n",
      "Epoch: 439/440 - train_loss: 0.3179 - test_loss: 0.214380\n"
     ]
    },
    {
     "name": "stderr",
     "output_type": "stream",
     "text": [
      "\u001b[32m[I 2023-02-13 09:44:05,918]\u001b[0m Trial 18 finished with value: 21.362864359740993 and parameters: {'n layers': 3, 'Hidden size': 31, 'Learning rate': 0.0029895668287639784, 'Dropout rate': 0.36969159763083553, 'Epochs': 370}. Best is trial 18 with value: 21.362864359740993.\u001b[0m\n"
     ]
    },
    {
     "name": "stdout",
     "output_type": "stream",
     "text": [
      "lookback 3\n",
      "Epoch: 439/440 - train_loss: 0.3636 - test_loss: 0.216354\n"
     ]
    },
    {
     "name": "stderr",
     "output_type": "stream",
     "text": [
      "\u001b[32m[I 2023-02-13 09:44:46,660]\u001b[0m Trial 0 finished with value: 20.508498459719608 and parameters: {'n layers': 4, 'Hidden size': 171, 'Learning rate': 0.0002549408592761164, 'Dropout rate': 0.7026482735626848, 'Epochs': 200}. Best is trial 0 with value: 20.508498459719608.\u001b[0m\n"
     ]
    },
    {
     "name": "stdout",
     "output_type": "stream",
     "text": [
      "lookback 3\n",
      "Epoch: 330/440 - train_loss: 0.3195 - test_loss: 0.208266\n",
      "Epoch: 439/440 - train_loss: 0.3227 - test_loss: 0.206767\n"
     ]
    },
    {
     "name": "stderr",
     "output_type": "stream",
     "text": [
      "\u001b[32m[I 2023-02-13 09:45:28,831]\u001b[0m Trial 9 finished with value: 20.41949604396304 and parameters: {'n layers': 6, 'Hidden size': 100, 'Learning rate': 0.00018550968072476956, 'Dropout rate': 0.5130330974453368, 'Epochs': 210}. Best is trial 9 with value: 20.41949604396304.\u001b[0m\n"
     ]
    },
    {
     "name": "stdout",
     "output_type": "stream",
     "text": [
      "lookback 3\n",
      "Epoch: 220/440 - train_loss: 0.3336 - test_loss: 0.239625\n",
      "Epoch:  0/180 - train_loss: 1.2725 - test_loss: 0.912502\n",
      "Epoch: 110/440 - train_loss: 0.3302 - test_loss: 0.217701\n",
      "Epoch: 110/440 - train_loss: 0.3243 - test_loss: 0.207417\n",
      "Epoch: 439/440 - train_loss: 0.3594 - test_loss: 0.222966\n"
     ]
    },
    {
     "name": "stderr",
     "output_type": "stream",
     "text": [
      "\u001b[32m[I 2023-02-13 09:47:13,385]\u001b[0m Trial 19 finished with value: 21.01919712113947 and parameters: {'n layers': 5, 'Hidden size': 20, 'Learning rate': 0.00011392429853570069, 'Dropout rate': 0.5086250198410958, 'Epochs': 440}. Best is trial 9 with value: 20.41949604396304.\u001b[0m\n"
     ]
    },
    {
     "name": "stdout",
     "output_type": "stream",
     "text": [
      "lookback 3\n",
      "Epoch:  0/390 - train_loss: 1.1315 - test_loss: 0.706524\n",
      "Epoch:  0/390 - train_loss: 1.9126 - test_loss: 1.739279\n",
      "Epoch: 45/180 - train_loss: 0.3149 - test_loss: 0.206760\n",
      "Epoch: 439/440 - train_loss: 0.3638 - test_loss: 0.212301\n"
     ]
    },
    {
     "name": "stderr",
     "output_type": "stream",
     "text": [
      "\u001b[32m[I 2023-02-13 09:49:13,432]\u001b[0m Trial 11 finished with value: 20.42418185257597 and parameters: {'n layers': 6, 'Hidden size': 35, 'Learning rate': 0.00025479398298899257, 'Dropout rate': 0.43300861632369586, 'Epochs': 170}. Best is trial 9 with value: 20.41949604396304.\u001b[0m\n"
     ]
    },
    {
     "name": "stdout",
     "output_type": "stream",
     "text": [
      "lookback 3\n",
      "Epoch:  0/350 - train_loss: 1.5388 - test_loss: 2.200883\n",
      "Epoch: 220/440 - train_loss: 0.3143 - test_loss: 0.234663\n",
      "Epoch:  0/350 - train_loss: 1.5871 - test_loss: 1.374831\n",
      "Epoch: 90/180 - train_loss: 0.3233 - test_loss: 0.209587\n",
      "Epoch: 439/440 - train_loss: 0.3571 - test_loss: 0.206435\n"
     ]
    },
    {
     "name": "stderr",
     "output_type": "stream",
     "text": [
      "\u001b[32m[I 2023-02-13 09:51:22,987]\u001b[0m Trial 13 finished with value: 20.28399554612876 and parameters: {'n layers': 3, 'Hidden size': 11, 'Learning rate': 0.00046798543297712786, 'Dropout rate': 0.05459227571917326, 'Epochs': 230}. Best is trial 13 with value: 20.28399554612876.\u001b[0m\n"
     ]
    },
    {
     "name": "stdout",
     "output_type": "stream",
     "text": [
      "lookback 3\n",
      "Epoch: 97/390 - train_loss: 0.3226 - test_loss: 0.205549\n",
      "Epoch: 110/440 - train_loss: 0.3542 - test_loss: 0.201803\n",
      "Epoch: 97/390 - train_loss: 0.4113 - test_loss: 0.308215\n",
      "Epoch: 330/440 - train_loss: 0.3321 - test_loss: 0.214183\n",
      "Epoch: 135/180 - train_loss: 0.3599 - test_loss: 0.203217\n",
      "Epoch: 87/350 - train_loss: 0.3650 - test_loss: 0.249900\n",
      "Epoch:  0/110 - train_loss: 1.2560 - test_loss: 0.827946\n",
      "Epoch: 179/180 - train_loss: 0.3503 - test_loss: 0.214089\n"
     ]
    },
    {
     "name": "stderr",
     "output_type": "stream",
     "text": [
      "\u001b[32m[I 2023-02-13 09:53:51,477]\u001b[0m Trial 20 finished with value: 20.289419639724393 and parameters: {'n layers': 3, 'Hidden size': 72, 'Learning rate': 0.0019103809671214447, 'Dropout rate': 0.5970604277432409, 'Epochs': 500}. Best is trial 13 with value: 20.28399554612876.\u001b[0m\n"
     ]
    },
    {
     "name": "stdout",
     "output_type": "stream",
     "text": [
      "lookback 3\n",
      "Epoch: 27/110 - train_loss: 0.3272 - test_loss: 0.216493\n",
      "Epoch: 87/350 - train_loss: 0.3865 - test_loss: 0.305997\n",
      "Epoch: 220/440 - train_loss: 0.3208 - test_loss: 0.217206\n",
      "Epoch: 194/390 - train_loss: 0.3142 - test_loss: 0.207338\n",
      "Epoch: 54/110 - train_loss: 0.3274 - test_loss: 0.213685\n",
      "Epoch:  0/370 - train_loss: 1.2266 - test_loss: 0.761856\n",
      "Epoch: 330/440 - train_loss: 0.3137 - test_loss: 0.231247\n",
      "Epoch: 194/390 - train_loss: 0.3321 - test_loss: 0.221315\n",
      "Epoch: 174/350 - train_loss: 0.3271 - test_loss: 0.215851\n",
      "Epoch: 81/110 - train_loss: 0.3282 - test_loss: 0.205036\n",
      "Epoch: 439/440 - train_loss: 0.3529 - test_loss: 0.209881\n"
     ]
    },
    {
     "name": "stderr",
     "output_type": "stream",
     "text": [
      "\u001b[32m[I 2023-02-13 09:56:36,502]\u001b[0m Trial 8 finished with value: 20.2858518624806 and parameters: {'n layers': 6, 'Hidden size': 70, 'Learning rate': 0.00020964756304554018, 'Dropout rate': 0.2984928926354876, 'Epochs': 320}. Best is trial 13 with value: 20.28399554612876.\u001b[0m\n"
     ]
    },
    {
     "name": "stdout",
     "output_type": "stream",
     "text": [
      "lookback 3\n",
      "Epoch: 108/110 - train_loss: 0.3175 - test_loss: 0.202873\n",
      "Epoch: 109/110 - train_loss: 0.3154 - test_loss: 0.203641\n",
      "Epoch: 174/350 - train_loss: 0.3246 - test_loss: 0.217156\n"
     ]
    },
    {
     "name": "stderr",
     "output_type": "stream",
     "text": [
      "\u001b[32m[I 2023-02-13 09:56:44,409]\u001b[0m Trial 25 finished with value: 20.293151355245982 and parameters: {'n layers': 4, 'Hidden size': 100, 'Learning rate': 0.0022546986845639596, 'Dropout rate': 0.755525297143253, 'Epochs': 110}. Best is trial 13 with value: 20.28399554612876.\u001b[0m\n"
     ]
    },
    {
     "name": "stdout",
     "output_type": "stream",
     "text": [
      "lookback 3\n",
      "Epoch: 220/440 - train_loss: 0.3210 - test_loss: 0.203524\n",
      "Epoch: 291/390 - train_loss: 0.3183 - test_loss: 0.204092\n",
      "Epoch: 92/370 - train_loss: 0.3465 - test_loss: 0.211253\n",
      "Epoch:  0/180 - train_loss: 1.0877 - test_loss: 0.697150\n",
      "Epoch:  0/180 - train_loss: 1.3139 - test_loss: 0.780931\n",
      "Epoch: 291/390 - train_loss: 0.3209 - test_loss: 0.205594\n",
      "Epoch: 261/350 - train_loss: 0.3213 - test_loss: 0.206531\n",
      "Epoch: 45/180 - train_loss: 0.3761 - test_loss: 0.246824\n",
      "Epoch: 261/350 - train_loss: 0.3477 - test_loss: 0.212989\n",
      "Epoch: 45/180 - train_loss: 0.3213 - test_loss: 0.213082\n",
      "Epoch: 388/390 - train_loss: 0.3276 - test_loss: 0.209584\n",
      "Epoch: 389/390 - train_loss: 0.3221 - test_loss: 0.216318\n"
     ]
    },
    {
     "name": "stderr",
     "output_type": "stream",
     "text": [
      "\u001b[32m[I 2023-02-13 10:00:00,580]\u001b[0m Trial 21 finished with value: 22.54237030972476 and parameters: {'n layers': 4, 'Hidden size': 12, 'Learning rate': 0.00403240798519984, 'Dropout rate': 0.024149542327125267, 'Epochs': 160}. Best is trial 13 with value: 20.28399554612876.\u001b[0m\n"
     ]
    },
    {
     "name": "stdout",
     "output_type": "stream",
     "text": [
      "lookback 3\n",
      "Epoch: 184/370 - train_loss: 0.3144 - test_loss: 0.217436\n",
      "Epoch: 348/350 - train_loss: 0.3208 - test_loss: 0.209709\n",
      "Epoch: 349/350 - train_loss: 0.3195 - test_loss: 0.207125\n",
      "Epoch: 388/390 - train_loss: 0.3443 - test_loss: 0.212777\n"
     ]
    },
    {
     "name": "stderr",
     "output_type": "stream",
     "text": [
      "\u001b[32m[I 2023-02-13 10:00:27,163]\u001b[0m Trial 23 finished with value: 20.32518535576643 and parameters: {'n layers': 3, 'Hidden size': 17, 'Learning rate': 0.00048468670668912325, 'Dropout rate': 0.04034814344453361, 'Epochs': 390}. Best is trial 13 with value: 20.28399554612876.\u001b[0m\n"
     ]
    },
    {
     "name": "stdout",
     "output_type": "stream",
     "text": [
      "lookback 3\n",
      "Epoch: 389/390 - train_loss: 0.3194 - test_loss: 0.218224\n",
      "Epoch: 439/440 - train_loss: 0.3264 - test_loss: 0.223170\n"
     ]
    },
    {
     "name": "stderr",
     "output_type": "stream",
     "text": [
      "\u001b[32m[I 2023-02-13 10:00:34,613]\u001b[0m Trial 22 finished with value: 20.305320722294105 and parameters: {'n layers': 6, 'Hidden size': 371, 'Learning rate': 0.00034161406787856617, 'Dropout rate': 0.13233109487689634, 'Epochs': 180}. Best is trial 13 with value: 20.28399554612876.\u001b[0m\n"
     ]
    },
    {
     "name": "stdout",
     "output_type": "stream",
     "text": [
      "lookback 3\n"
     ]
    },
    {
     "name": "stderr",
     "output_type": "stream",
     "text": [
      "\u001b[32m[I 2023-02-13 10:00:39,043]\u001b[0m Trial 5 finished with value: 20.40641564931886 and parameters: {'n layers': 4, 'Hidden size': 159, 'Learning rate': 0.0011056324423842536, 'Dropout rate': 0.2965220149403066, 'Epochs': 430}. Best is trial 13 with value: 20.28399554612876.\u001b[0m\n"
     ]
    },
    {
     "name": "stdout",
     "output_type": "stream",
     "text": [
      "lookback 3\n",
      "Epoch: 90/180 - train_loss: 0.3297 - test_loss: 0.207840\n",
      "Epoch: 90/180 - train_loss: 0.3268 - test_loss: 0.206535\n",
      "Epoch:  0/280 - train_loss: 1.3259 - test_loss: 1.213358\n",
      "Epoch: 330/440 - train_loss: 0.3183 - test_loss: 0.211285\n",
      "Epoch:  0/280 - train_loss: 1.3143 - test_loss: 1.378328\n",
      "Epoch:  0/280 - train_loss: 1.3700 - test_loss: 0.833923\n",
      "Epoch:  0/280 - train_loss: 1.4578 - test_loss: 1.522692\n",
      "Epoch: 348/350 - train_loss: 0.3407 - test_loss: 0.210575\n",
      "Epoch: 349/350 - train_loss: 0.3345 - test_loss: 0.212832\n"
     ]
    },
    {
     "name": "stderr",
     "output_type": "stream",
     "text": [
      "\u001b[32m[I 2023-02-13 10:03:47,045]\u001b[0m Trial 24 finished with value: 20.310571727578377 and parameters: {'n layers': 5, 'Hidden size': 26, 'Learning rate': 0.0003599038677580638, 'Dropout rate': 0.17555684041003547, 'Epochs': 350}. Best is trial 13 with value: 20.28399554612876.\u001b[0m\n"
     ]
    },
    {
     "name": "stdout",
     "output_type": "stream",
     "text": [
      "lookback 3\n",
      "Epoch: 135/180 - train_loss: 0.3227 - test_loss: 0.204344\n",
      "Epoch: 135/180 - train_loss: 0.3260 - test_loss: 0.205672\n",
      "Epoch: 276/370 - train_loss: 0.3287 - test_loss: 0.210558\n",
      "Epoch:  0/280 - train_loss: 1.1716 - test_loss: 0.679397\n",
      "Epoch: 70/280 - train_loss: 0.3397 - test_loss: 0.239231\n",
      "Epoch: 179/180 - train_loss: 0.3298 - test_loss: 0.201168\n"
     ]
    },
    {
     "name": "stderr",
     "output_type": "stream",
     "text": [
      "\u001b[32m[I 2023-02-13 10:05:27,909]\u001b[0m Trial 28 finished with value: 20.298304677170766 and parameters: {'n layers': 3, 'Hidden size': 338, 'Learning rate': 0.005092801397801717, 'Dropout rate': 0.7201739021580115, 'Epochs': 180}. Best is trial 13 with value: 20.28399554612876.\u001b[0m\n"
     ]
    },
    {
     "name": "stdout",
     "output_type": "stream",
     "text": [
      "lookback 3\n",
      "Epoch: 70/280 - train_loss: 0.3314 - test_loss: 0.223608\n",
      "Epoch: 70/280 - train_loss: 0.3197 - test_loss: 0.218125\n",
      "Epoch: 179/180 - train_loss: 0.3179 - test_loss: 0.212090\n"
     ]
    },
    {
     "name": "stderr",
     "output_type": "stream",
     "text": [
      "\u001b[32m[I 2023-02-13 10:06:20,023]\u001b[0m Trial 27 finished with value: 20.295997868790625 and parameters: {'n layers': 6, 'Hidden size': 5, 'Learning rate': 0.006237446220809623, 'Dropout rate': 0.6928724664528223, 'Epochs': 180}. Best is trial 13 with value: 20.28399554612876.\u001b[0m\n"
     ]
    },
    {
     "name": "stdout",
     "output_type": "stream",
     "text": [
      "lookback 3\n",
      "Epoch: 220/440 - train_loss: 0.3220 - test_loss: 0.209266\n",
      "Epoch: 70/280 - train_loss: 0.3445 - test_loss: 0.232445\n",
      "Epoch:  0/270 - train_loss: 0.9985 - test_loss: 0.621743\n",
      "Epoch: 330/440 - train_loss: 0.3221 - test_loss: 0.211399\n",
      "Epoch: 140/280 - train_loss: 0.3180 - test_loss: 0.204991\n",
      "Epoch: 70/280 - train_loss: 0.3166 - test_loss: 0.207107\n",
      "Epoch:  0/270 - train_loss: 1.3987 - test_loss: 0.932642\n",
      "Epoch: 368/370 - train_loss: 0.3265 - test_loss: 0.213327\n",
      "Epoch: 369/370 - train_loss: 0.3155 - test_loss: 0.202584\n"
     ]
    },
    {
     "name": "stderr",
     "output_type": "stream",
     "text": [
      "\u001b[32m[I 2023-02-13 10:08:33,629]\u001b[0m Trial 26 finished with value: 20.295826285269662 and parameters: {'n layers': 5, 'Hidden size': 100, 'Learning rate': 0.0012398953044623704, 'Dropout rate': 0.35711543671086726, 'Epochs': 370}. Best is trial 13 with value: 20.28399554612876.\u001b[0m\n"
     ]
    },
    {
     "name": "stdout",
     "output_type": "stream",
     "text": [
      "lookback 3\n",
      "Epoch: 140/280 - train_loss: 0.3172 - test_loss: 0.214981\n",
      "Epoch: 140/280 - train_loss: 0.3192 - test_loss: 0.218592\n",
      "Epoch: 439/440 - train_loss: 0.3157 - test_loss: 0.224905\n"
     ]
    },
    {
     "name": "stderr",
     "output_type": "stream",
     "text": [
      "\u001b[32m[I 2023-02-13 10:09:45,411]\u001b[0m Trial 17 finished with value: 20.295984721946294 and parameters: {'n layers': 4, 'Hidden size': 175, 'Learning rate': 0.004858987455647322, 'Dropout rate': 0.2019823790070136, 'Epochs': 450}. Best is trial 13 with value: 20.28399554612876.\u001b[0m\n"
     ]
    },
    {
     "name": "stdout",
     "output_type": "stream",
     "text": [
      "lookback 3\n",
      "Epoch:  0/280 - train_loss: 1.4879 - test_loss: 1.320423\n",
      "Epoch: 67/270 - train_loss: 0.3747 - test_loss: 0.216977\n",
      "Epoch: 210/280 - train_loss: 0.3508 - test_loss: 0.208032\n",
      "Epoch: 140/280 - train_loss: 0.3152 - test_loss: 0.202404\n",
      "Epoch: 140/280 - train_loss: 0.3414 - test_loss: 0.211220\n",
      "Epoch:  0/280 - train_loss: 1.4655 - test_loss: 1.718718\n",
      "Epoch: 210/280 - train_loss: 0.3198 - test_loss: 0.210780\n",
      "Epoch: 67/270 - train_loss: 0.3345 - test_loss: 0.243640\n",
      "Epoch: 210/280 - train_loss: 0.3219 - test_loss: 0.210941\n",
      "Epoch: 70/280 - train_loss: 0.3647 - test_loss: 0.243391\n",
      "Epoch: 279/280 - train_loss: 0.3146 - test_loss: 0.209137\n"
     ]
    },
    {
     "name": "stderr",
     "output_type": "stream",
     "text": [
      "\u001b[32m[I 2023-02-13 10:12:34,906]\u001b[0m Trial 29 finished with value: 20.460379311883443 and parameters: {'n layers': 3, 'Hidden size': 5, 'Learning rate': 0.0006282916097552011, 'Dropout rate': 0.04021463975798738, 'Epochs': 280}. Best is trial 13 with value: 20.28399554612876.\u001b[0m\n"
     ]
    },
    {
     "name": "stdout",
     "output_type": "stream",
     "text": [
      "lookback 3\n",
      "Epoch: 134/270 - train_loss: 0.3335 - test_loss: 0.204521\n",
      "Epoch: 210/280 - train_loss: 0.3138 - test_loss: 0.206794\n",
      "Epoch: 279/280 - train_loss: 0.3165 - test_loss: 0.207564\n"
     ]
    },
    {
     "name": "stderr",
     "output_type": "stream",
     "text": [
      "\u001b[32m[I 2023-02-13 10:13:22,885]\u001b[0m Trial 31 finished with value: 20.301859548611482 and parameters: {'n layers': 5, 'Hidden size': 5, 'Learning rate': 0.0008041728203558812, 'Dropout rate': 0.2422351110474817, 'Epochs': 290}. Best is trial 13 with value: 20.28399554612876.\u001b[0m\n"
     ]
    },
    {
     "name": "stdout",
     "output_type": "stream",
     "text": [
      "lookback 3\n",
      "Epoch: 279/280 - train_loss: 0.3455 - test_loss: 0.228617\n"
     ]
    },
    {
     "name": "stderr",
     "output_type": "stream",
     "text": [
      "\u001b[32m[I 2023-02-13 10:13:51,042]\u001b[0m Trial 30 finished with value: 21.68994043225128 and parameters: {'n layers': 5, 'Hidden size': 5, 'Learning rate': 0.0007695254224354104, 'Dropout rate': 0.23338400493526604, 'Epochs': 290}. Best is trial 13 with value: 20.28399554612876.\u001b[0m\n"
     ]
    },
    {
     "name": "stdout",
     "output_type": "stream",
     "text": [
      "lookback 3\n",
      "Epoch:  0/500 - train_loss: 1.1064 - test_loss: 0.942256\n",
      "Epoch: 134/270 - train_loss: 0.3555 - test_loss: 0.207205\n",
      "Epoch: 210/280 - train_loss: 0.3193 - test_loss: 0.204442\n",
      "Epoch: 140/280 - train_loss: 0.3434 - test_loss: 0.208402\n",
      "Epoch:  0/500 - train_loss: 1.2001 - test_loss: 0.771261\n",
      "Epoch:  0/500 - train_loss: 1.1660 - test_loss: 0.791645\n",
      "Epoch: 201/270 - train_loss: 0.3275 - test_loss: 0.213511\n",
      "Epoch: 70/280 - train_loss: 0.3422 - test_loss: 0.257392\n",
      "Epoch: 279/280 - train_loss: 0.3181 - test_loss: 0.213828\n"
     ]
    },
    {
     "name": "stderr",
     "output_type": "stream",
     "text": [
      "\u001b[32m[I 2023-02-13 10:16:33,996]\u001b[0m Trial 33 finished with value: 21.019716815763598 and parameters: {'n layers': 5, 'Hidden size': 6, 'Learning rate': 0.009720217437232595, 'Dropout rate': 0.25845680282972894, 'Epochs': 280}. Best is trial 13 with value: 20.28399554612876.\u001b[0m\n"
     ]
    },
    {
     "name": "stdout",
     "output_type": "stream",
     "text": [
      "lookback 3\n",
      "Epoch: 439/440 - train_loss: 0.3111 - test_loss: 0.213555\n"
     ]
    },
    {
     "name": "stderr",
     "output_type": "stream",
     "text": [
      "\u001b[32m[I 2023-02-13 10:17:48,214]\u001b[0m Trial 1 finished with value: 20.345293375654922 and parameters: {'n layers': 6, 'Hidden size': 27, 'Learning rate': 0.002909575371856046, 'Dropout rate': 0.09050379242040718, 'Epochs': 410}. Best is trial 13 with value: 20.28399554612876.\u001b[0m\n"
     ]
    },
    {
     "name": "stdout",
     "output_type": "stream",
     "text": [
      "lookback 3\n",
      "Epoch: 210/280 - train_loss: 0.3171 - test_loss: 0.216379\n",
      "Epoch: 201/270 - train_loss: 0.3286 - test_loss: 0.208471\n",
      "Epoch:  0/250 - train_loss: 1.3559 - test_loss: 0.956460\n",
      "Epoch: 279/280 - train_loss: 0.3261 - test_loss: 0.204249\n"
     ]
    },
    {
     "name": "stderr",
     "output_type": "stream",
     "text": [
      "\u001b[32m[I 2023-02-13 10:19:21,407]\u001b[0m Trial 32 finished with value: 20.333613283483558 and parameters: {'n layers': 5, 'Hidden size': 5, 'Learning rate': 0.0006247711090992395, 'Dropout rate': 0.22085455038149554, 'Epochs': 280}. Best is trial 13 with value: 20.28399554612876.\u001b[0m\n"
     ]
    },
    {
     "name": "stdout",
     "output_type": "stream",
     "text": [
      "lookback 3\n",
      "Epoch: 268/270 - train_loss: 0.3563 - test_loss: 0.221906\n",
      "Epoch: 269/270 - train_loss: 0.3405 - test_loss: 0.232104\n"
     ]
    },
    {
     "name": "stderr",
     "output_type": "stream",
     "text": [
      "\u001b[32m[I 2023-02-13 10:19:56,072]\u001b[0m Trial 34 finished with value: 21.426856708833963 and parameters: {'n layers': 5, 'Hidden size': 6, 'Learning rate': 0.009687540759827893, 'Dropout rate': 0.2444657596199133, 'Epochs': 270}. Best is trial 13 with value: 20.28399554612876.\u001b[0m\n"
     ]
    },
    {
     "name": "stdout",
     "output_type": "stream",
     "text": [
      "lookback 3\n",
      "Epoch:  0/500 - train_loss: 1.5864 - test_loss: 1.283005\n",
      "Epoch: 125/500 - train_loss: 0.5307 - test_loss: 0.476511\n",
      "Epoch: 330/440 - train_loss: 0.3158 - test_loss: 0.205038\n",
      "Epoch: 140/280 - train_loss: 0.3534 - test_loss: 0.206685\n",
      "Epoch: 125/500 - train_loss: 0.5299 - test_loss: 0.458374\n",
      "Epoch:  0/500 - train_loss: 1.4705 - test_loss: 1.269923\n",
      "Epoch: 279/280 - train_loss: 0.3175 - test_loss: 0.220949\n"
     ]
    },
    {
     "name": "stderr",
     "output_type": "stream",
     "text": [
      "\u001b[32m[I 2023-02-13 10:22:06,961]\u001b[0m Trial 36 finished with value: 20.365013089047466 and parameters: {'n layers': 5, 'Hidden size': 7, 'Learning rate': 0.0006376783194176315, 'Dropout rate': 0.23008919734322625, 'Epochs': 270}. Best is trial 13 with value: 20.28399554612876.\u001b[0m\n"
     ]
    },
    {
     "name": "stdout",
     "output_type": "stream",
     "text": [
      "lookback 3\n",
      "Epoch:  0/500 - train_loss: 1.0878 - test_loss: 0.739577\n",
      "Epoch: 62/250 - train_loss: 0.3682 - test_loss: 0.213485\n",
      "Epoch: 125/500 - train_loss: 0.3554 - test_loss: 0.233556\n",
      "Epoch: 268/270 - train_loss: 0.3707 - test_loss: 0.208567\n",
      "Epoch: 269/270 - train_loss: 0.3198 - test_loss: 0.208960\n"
     ]
    },
    {
     "name": "stderr",
     "output_type": "stream",
     "text": [
      "\u001b[32m[I 2023-02-13 10:22:48,258]\u001b[0m Trial 35 finished with value: 20.292821113252014 and parameters: {'n layers': 5, 'Hidden size': 8, 'Learning rate': 0.0006786034260476836, 'Dropout rate': 0.23074973014219022, 'Epochs': 270}. Best is trial 13 with value: 20.28399554612876.\u001b[0m\n"
     ]
    },
    {
     "name": "stdout",
     "output_type": "stream",
     "text": [
      "lookback 3\n",
      "Epoch:  0/500 - train_loss: 1.2119 - test_loss: 0.890265\n",
      "Epoch:  0/500 - train_loss: 1.3612 - test_loss: 1.094397\n",
      "Epoch: 124/250 - train_loss: 0.3523 - test_loss: 0.216737\n",
      "Epoch: 250/500 - train_loss: 0.3930 - test_loss: 0.321383\n",
      "Epoch: 250/500 - train_loss: 0.3792 - test_loss: 0.301651\n",
      "Epoch: 250/500 - train_loss: 0.3171 - test_loss: 0.246461\n",
      "Epoch: 186/250 - train_loss: 0.3156 - test_loss: 0.203682\n",
      "Epoch: 210/280 - train_loss: 0.3167 - test_loss: 0.211630\n",
      "Epoch: 125/500 - train_loss: 0.3168 - test_loss: 0.215814\n",
      "Epoch: 125/500 - train_loss: 0.5717 - test_loss: 0.487893\n",
      "Epoch: 248/250 - train_loss: 0.3549 - test_loss: 0.229513\n",
      "Epoch: 249/250 - train_loss: 0.3242 - test_loss: 0.232134\n"
     ]
    },
    {
     "name": "stderr",
     "output_type": "stream",
     "text": [
      "\u001b[32m[I 2023-02-13 10:28:46,392]\u001b[0m Trial 41 finished with value: 20.376274439848054 and parameters: {'n layers': 3, 'Hidden size': 53, 'Learning rate': 0.0017285132481585491, 'Dropout rate': 0.5642722206729811, 'Epochs': 500}. Best is trial 13 with value: 20.28399554612876.\u001b[0m\n"
     ]
    },
    {
     "name": "stdout",
     "output_type": "stream",
     "text": [
      "lookback 3\n",
      "Epoch: 125/500 - train_loss: 0.5452 - test_loss: 0.456699\n",
      "Epoch: 375/500 - train_loss: 0.3324 - test_loss: 0.242079\n",
      "Epoch: 125/500 - train_loss: 0.3187 - test_loss: 0.204184\n",
      "Epoch: 375/500 - train_loss: 0.3298 - test_loss: 0.228343\n",
      "Epoch:  0/330 - train_loss: 1.8096 - test_loss: 1.859466\n",
      "Epoch: 375/500 - train_loss: 0.3195 - test_loss: 0.242863\n",
      "Epoch: 250/500 - train_loss: 0.4302 - test_loss: 0.337741\n",
      "Epoch: 250/500 - train_loss: 0.3421 - test_loss: 0.222007\n",
      "Epoch: 279/280 - train_loss: 0.3278 - test_loss: 0.210788\n"
     ]
    },
    {
     "name": "stderr",
     "output_type": "stream",
     "text": [
      "\u001b[32m[I 2023-02-13 10:32:13,214]\u001b[0m Trial 37 finished with value: 20.28923961872447 and parameters: {'n layers': 5, 'Hidden size': 5, 'Learning rate': 0.0006019785486453451, 'Dropout rate': 0.2678711390211677, 'Epochs': 280}. Best is trial 13 with value: 20.28399554612876.\u001b[0m\n"
     ]
    },
    {
     "name": "stdout",
     "output_type": "stream",
     "text": [
      "lookback 3\n",
      "Epoch: 499/500 - train_loss: 0.3230 - test_loss: 0.216901\n",
      "Epoch: 82/330 - train_loss: 0.7089 - test_loss: 0.594557\n"
     ]
    },
    {
     "name": "stderr",
     "output_type": "stream",
     "text": [
      "\u001b[32m[I 2023-02-13 10:32:36,733]\u001b[0m Trial 38 finished with value: 20.739541553933822 and parameters: {'n layers': 5, 'Hidden size': 9, 'Learning rate': 0.00012153316128022613, 'Dropout rate': 0.28349343311562764, 'Epochs': 270}. Best is trial 13 with value: 20.28399554612876.\u001b[0m\n"
     ]
    },
    {
     "name": "stdout",
     "output_type": "stream",
     "text": [
      "lookback 3\n",
      "Epoch: 125/500 - train_loss: 0.3250 - test_loss: 0.218181\n",
      "Epoch: 499/500 - train_loss: 0.3184 - test_loss: 0.210747\n"
     ]
    },
    {
     "name": "stderr",
     "output_type": "stream",
     "text": [
      "\u001b[32m[I 2023-02-13 10:34:17,547]\u001b[0m Trial 39 finished with value: 20.44282181107789 and parameters: {'n layers': 5, 'Hidden size': 10, 'Learning rate': 0.00013073497061381005, 'Dropout rate': 0.12807878719518304, 'Epochs': 320}. Best is trial 13 with value: 20.28399554612876.\u001b[0m\n"
     ]
    },
    {
     "name": "stdout",
     "output_type": "stream",
     "text": [
      "Epoch:  0/320 - train_loss: 1.4056 - test_loss: 0.989437\n",
      "Epoch:  0/320 - train_loss: 1.6853 - test_loss: 1.764376\n",
      "Epoch: 499/500 - train_loss: 0.3269 - test_loss: 0.325567\n"
     ]
    },
    {
     "name": "stderr",
     "output_type": "stream",
     "text": [
      "\u001b[32m[I 2023-02-13 10:35:09,136]\u001b[0m Trial 40 finished with value: 20.321250405621615 and parameters: {'n layers': 3, 'Hidden size': 64, 'Learning rate': 0.0017428613988753566, 'Dropout rate': 0.6011754025902614, 'Epochs': 500}. Best is trial 13 with value: 20.28399554612876.\u001b[0m\n"
     ]
    },
    {
     "name": "stdout",
     "output_type": "stream",
     "text": [
      "Epoch: 250/500 - train_loss: 0.3171 - test_loss: 0.201108\n",
      "Epoch: 250/500 - train_loss: 0.3891 - test_loss: 0.302151\n",
      "Epoch: 375/500 - train_loss: 0.3439 - test_loss: 0.251330\n",
      "Epoch: 164/330 - train_loss: 0.5324 - test_loss: 0.449998\n",
      "Epoch: 375/500 - train_loss: 0.3270 - test_loss: 0.208929\n",
      "Epoch: 80/320 - train_loss: 0.6064 - test_loss: 0.495444\n",
      "Epoch: 80/320 - train_loss: 0.5995 - test_loss: 0.507880\n",
      "Epoch: 439/440 - train_loss: 0.3258 - test_loss: 0.220486\n"
     ]
    },
    {
     "name": "stderr",
     "output_type": "stream",
     "text": [
      "\u001b[32m[I 2023-02-13 10:37:33,676]\u001b[0m Trial 16 finished with value: 20.332670471728203 and parameters: {'n layers': 6, 'Hidden size': 166, 'Learning rate': 0.0011911941261799524, 'Dropout rate': 0.5745074023853071, 'Epochs': 140}. Best is trial 13 with value: 20.28399554612876.\u001b[0m\n"
     ]
    },
    {
     "name": "stdout",
     "output_type": "stream",
     "text": [
      "Epoch: 246/330 - train_loss: 0.4434 - test_loss: 0.357558\n",
      "Epoch: 375/500 - train_loss: 0.3443 - test_loss: 0.214116\n",
      "Epoch: 160/320 - train_loss: 0.4424 - test_loss: 0.323766\n",
      "Epoch: 499/500 - train_loss: 0.3391 - test_loss: 0.219850\n"
     ]
    },
    {
     "name": "stderr",
     "output_type": "stream",
     "text": [
      "\u001b[32m[I 2023-02-13 10:38:42,910]\u001b[0m Trial 45 finished with value: 20.62255472771597 and parameters: {'n layers': 3, 'Hidden size': 53, 'Learning rate': 0.00011070446381868049, 'Dropout rate': 0.6327513582524258, 'Epochs': 500}. Best is trial 13 with value: 20.28399554612876.\u001b[0m\n"
     ]
    },
    {
     "name": "stdout",
     "output_type": "stream",
     "text": [
      "Epoch: 375/500 - train_loss: 0.3257 - test_loss: 0.232039\n",
      "Epoch: 499/500 - train_loss: 0.3538 - test_loss: 0.208979\n"
     ]
    },
    {
     "name": "stderr",
     "output_type": "stream",
     "text": [
      "\u001b[32m[I 2023-02-13 10:39:23,780]\u001b[0m Trial 44 finished with value: 20.290078933830966 and parameters: {'n layers': 3, 'Hidden size': 56, 'Learning rate': 0.0016922194279499847, 'Dropout rate': 0.597941608965599, 'Epochs': 500}. Best is trial 13 with value: 20.28399554612876.\u001b[0m\n"
     ]
    },
    {
     "name": "stdout",
     "output_type": "stream",
     "text": [
      "Epoch: 250/500 - train_loss: 0.3217 - test_loss: 0.222361\n",
      "Epoch: 328/330 - train_loss: 0.3722 - test_loss: 0.289966\n",
      "Epoch: 329/330 - train_loss: 0.3808 - test_loss: 0.289038\n"
     ]
    },
    {
     "name": "stderr",
     "output_type": "stream",
     "text": [
      "\u001b[32m[I 2023-02-13 10:39:55,114]\u001b[0m Trial 47 finished with value: 20.46349166987012 and parameters: {'n layers': 3, 'Hidden size': 52, 'Learning rate': 0.00010275003494407434, 'Dropout rate': 0.5886637957716075, 'Epochs': 330}. Best is trial 13 with value: 20.28399554612876.\u001b[0m\n"
     ]
    },
    {
     "name": "stdout",
     "output_type": "stream",
     "text": [
      "Epoch: 110/440 - train_loss: 0.3407 - test_loss: 0.228255\n",
      "Epoch: 160/320 - train_loss: 0.4360 - test_loss: 0.371151\n",
      "Epoch: 240/320 - train_loss: 0.3465 - test_loss: 0.243652\n",
      "Epoch: 499/500 - train_loss: 0.3531 - test_loss: 0.208670\n"
     ]
    },
    {
     "name": "stderr",
     "output_type": "stream",
     "text": [
      "\u001b[32m[I 2023-02-13 10:41:07,007]\u001b[0m Trial 46 finished with value: 20.288669820022665 and parameters: {'n layers': 3, 'Hidden size': 69, 'Learning rate': 0.0016704951137709435, 'Dropout rate': 0.5823086402926564, 'Epochs': 500}. Best is trial 13 with value: 20.28399554612876.\u001b[0m\n"
     ]
    },
    {
     "name": "stdout",
     "output_type": "stream",
     "text": [
      "Epoch: 499/500 - train_loss: 0.3280 - test_loss: 0.211954\n"
     ]
    },
    {
     "name": "stderr",
     "output_type": "stream",
     "text": [
      "\u001b[32m[I 2023-02-13 10:41:28,727]\u001b[0m Trial 43 finished with value: 20.534695097853696 and parameters: {'n layers': 3, 'Hidden size': 54, 'Learning rate': 0.00012557644757656212, 'Dropout rate': 0.6201354210316643, 'Epochs': 500}. Best is trial 13 with value: 20.28399554612876.\u001b[0m\n"
     ]
    },
    {
     "name": "stdout",
     "output_type": "stream",
     "text": [
      "Epoch: 240/320 - train_loss: 0.3761 - test_loss: 0.277383\n",
      "Epoch: 319/320 - train_loss: 0.3217 - test_loss: 0.214558\n"
     ]
    },
    {
     "name": "stderr",
     "output_type": "stream",
     "text": [
      "\u001b[32m[I 2023-02-13 10:41:36,619]\u001b[0m Trial 49 finished with value: 20.454409471892575 and parameters: {'n layers': 6, 'Hidden size': 14, 'Learning rate': 0.00019037990840617457, 'Dropout rate': 0.1283602402383499, 'Epochs': 320}. Best is trial 13 with value: 20.28399554612876.\u001b[0m\n"
     ]
    },
    {
     "name": "stdout",
     "output_type": "stream",
     "text": [
      "Epoch: 375/500 - train_loss: 0.3540 - test_loss: 0.217728\n",
      "Epoch: 220/440 - train_loss: 0.3133 - test_loss: 0.212074\n",
      "Epoch: 110/440 - train_loss: 0.4541 - test_loss: 0.373406\n",
      "Epoch: 319/320 - train_loss: 0.3334 - test_loss: 0.235507\n"
     ]
    },
    {
     "name": "stderr",
     "output_type": "stream",
     "text": [
      "\u001b[32m[I 2023-02-13 10:42:48,023]\u001b[0m Trial 48 finished with value: 20.6471727544924 and parameters: {'n layers': 6, 'Hidden size': 12, 'Learning rate': 0.00014448551546274413, 'Dropout rate': 0.3241121686435908, 'Epochs': 220}. Best is trial 13 with value: 20.28399554612876.\u001b[0m\n"
     ]
    },
    {
     "name": "stdout",
     "output_type": "stream",
     "text": [
      "Epoch: 110/440 - train_loss: 0.3514 - test_loss: 0.246062\n",
      "Epoch: 110/440 - train_loss: 0.5635 - test_loss: 0.440730\n",
      "Epoch: 110/440 - train_loss: 0.3331 - test_loss: 0.213349\n",
      "Epoch: 330/440 - train_loss: 0.3480 - test_loss: 0.215776\n",
      "Epoch: 499/500 - train_loss: 0.3277 - test_loss: 0.218688\n"
     ]
    },
    {
     "name": "stderr",
     "output_type": "stream",
     "text": [
      "\u001b[32m[I 2023-02-13 10:44:28,583]\u001b[0m Trial 42 finished with value: 20.292090184399672 and parameters: {'n layers': 3, 'Hidden size': 54, 'Learning rate': 0.001392257579461986, 'Dropout rate': 0.5832935255503597, 'Epochs': 250}. Best is trial 13 with value: 20.28399554612876.\u001b[0m\n"
     ]
    },
    {
     "name": "stdout",
     "output_type": "stream",
     "text": [
      "Epoch: 220/440 - train_loss: 0.3289 - test_loss: 0.235919\n",
      "Epoch: 220/440 - train_loss: 0.3174 - test_loss: 0.206679\n",
      "Epoch: 220/440 - train_loss: 0.3672 - test_loss: 0.288844\n",
      "Epoch: 110/440 - train_loss: 0.3196 - test_loss: 0.221922\n",
      "Epoch: 110/440 - train_loss: 0.3262 - test_loss: 0.208439\n",
      "Epoch: 110/440 - train_loss: 0.3341 - test_loss: 0.207304\n",
      "Epoch: 110/440 - train_loss: 0.4199 - test_loss: 0.327606\n",
      "Epoch: 439/440 - train_loss: 0.3130 - test_loss: 0.210037\n"
     ]
    },
    {
     "name": "stderr",
     "output_type": "stream",
     "text": [
      "\u001b[32m[I 2023-02-13 10:46:17,331]\u001b[0m Trial 7 finished with value: 20.46382736115599 and parameters: {'n layers': 5, 'Hidden size': 41, 'Learning rate': 0.0005076266905472069, 'Dropout rate': 0.6892100177373564, 'Epochs': 240}. Best is trial 13 with value: 20.28399554612876.\u001b[0m\n"
     ]
    },
    {
     "name": "stdout",
     "output_type": "stream",
     "text": [
      "Epoch: 220/440 - train_loss: 0.4050 - test_loss: 0.205605\n",
      "Epoch: 330/440 - train_loss: 0.3225 - test_loss: 0.209365\n",
      "Epoch: 330/440 - train_loss: 0.3274 - test_loss: 0.207296\n",
      "Epoch: 330/440 - train_loss: 0.3524 - test_loss: 0.223727\n",
      "Epoch: 220/440 - train_loss: 0.3295 - test_loss: 0.219536\n",
      "Epoch: 439/440 - train_loss: 0.3170 - test_loss: 0.209764\n"
     ]
    },
    {
     "name": "stderr",
     "output_type": "stream",
     "text": [
      "\u001b[32m[I 2023-02-13 10:48:05,448]\u001b[0m Trial 14 finished with value: 20.428151378748424 and parameters: {'n layers': 4, 'Hidden size': 82, 'Learning rate': 0.00020550418439051118, 'Dropout rate': 0.7616857175294611, 'Epochs': 260}. Best is trial 13 with value: 20.28399554612876.\u001b[0m\n"
     ]
    },
    {
     "name": "stdout",
     "output_type": "stream",
     "text": [
      "Epoch: 330/440 - train_loss: 0.3199 - test_loss: 0.214963\n",
      "Epoch: 439/440 - train_loss: 0.3242 - test_loss: 0.215637\n"
     ]
    },
    {
     "name": "stderr",
     "output_type": "stream",
     "text": [
      "\u001b[32m[I 2023-02-13 10:48:26,827]\u001b[0m Trial 6 finished with value: 20.47673935488461 and parameters: {'n layers': 5, 'Hidden size': 8, 'Learning rate': 0.0003687712991904824, 'Dropout rate': 0.19576071451089927, 'Epochs': 470}. Best is trial 13 with value: 20.28399554612876.\u001b[0m\n"
     ]
    },
    {
     "name": "stdout",
     "output_type": "stream",
     "text": [
      "Epoch: 439/440 - train_loss: 0.3828 - test_loss: 0.215631\n"
     ]
    },
    {
     "name": "stderr",
     "output_type": "stream",
     "text": [
      "\u001b[32m[I 2023-02-13 10:48:47,209]\u001b[0m Trial 12 finished with value: 20.5870290080225 and parameters: {'n layers': 5, 'Hidden size': 20, 'Learning rate': 0.0001560045551993374, 'Dropout rate': 0.13026342204019703, 'Epochs': 120}. Best is trial 13 with value: 20.28399554612876.\u001b[0m\n"
     ]
    },
    {
     "name": "stdout",
     "output_type": "stream",
     "text": [
      "Epoch: 220/440 - train_loss: 0.3146 - test_loss: 0.205917\n",
      "Epoch: 330/440 - train_loss: 0.3618 - test_loss: 0.217745\n",
      "Epoch: 439/440 - train_loss: 0.3314 - test_loss: 0.220058\n"
     ]
    },
    {
     "name": "stderr",
     "output_type": "stream",
     "text": [
      "\u001b[32m[I 2023-02-13 10:49:25,768]\u001b[0m Trial 15 finished with value: 20.45975051304533 and parameters: {'n layers': 4, 'Hidden size': 375, 'Learning rate': 0.003230971075006206, 'Dropout rate': 0.5206789396536236, 'Epochs': 210}. Best is trial 13 with value: 20.28399554612876.\u001b[0m\n"
     ]
    },
    {
     "name": "stdout",
     "output_type": "stream",
     "text": [
      "Epoch: 220/440 - train_loss: 0.3429 - test_loss: 0.224588\n",
      "Epoch: 220/440 - train_loss: 0.3153 - test_loss: 0.212899\n",
      "Epoch: 330/440 - train_loss: 0.3266 - test_loss: 0.204666\n",
      "Epoch: 439/440 - train_loss: 0.3273 - test_loss: 0.211389\n"
     ]
    },
    {
     "name": "stderr",
     "output_type": "stream",
     "text": [
      "\u001b[32m[I 2023-02-13 10:50:18,726]\u001b[0m Trial 2 finished with value: 20.29869853054304 and parameters: {'n layers': 5, 'Hidden size': 279, 'Learning rate': 0.005583244462729935, 'Dropout rate': 0.297612518535554, 'Epochs': 210}. Best is trial 13 with value: 20.28399554612876.\u001b[0m\n"
     ]
    },
    {
     "name": "stdout",
     "output_type": "stream",
     "text": [
      "Epoch: 330/440 - train_loss: 0.3124 - test_loss: 0.207999\n",
      "Epoch: 330/440 - train_loss: 0.3597 - test_loss: 0.230377\n",
      "Epoch: 439/440 - train_loss: 0.3244 - test_loss: 0.212412\n"
     ]
    },
    {
     "name": "stderr",
     "output_type": "stream",
     "text": [
      "\u001b[32m[I 2023-02-13 10:50:59,904]\u001b[0m Trial 4 finished with value: 20.497885900799933 and parameters: {'n layers': 5, 'Hidden size': 256, 'Learning rate': 0.0027046568832025195, 'Dropout rate': 0.2854245305422348, 'Epochs': 170}. Best is trial 13 with value: 20.28399554612876.\u001b[0m\n"
     ]
    },
    {
     "name": "stdout",
     "output_type": "stream",
     "text": [
      "Epoch: 439/440 - train_loss: 0.3138 - test_loss: 0.205920\n"
     ]
    },
    {
     "name": "stderr",
     "output_type": "stream",
     "text": [
      "\u001b[32m[I 2023-02-13 10:51:10,384]\u001b[0m Trial 10 finished with value: 20.372130499467303 and parameters: {'n layers': 5, 'Hidden size': 10, 'Learning rate': 0.0002563675064675465, 'Dropout rate': 0.022156218009395934, 'Epochs': 250}. Best is trial 13 with value: 20.28399554612876.\u001b[0m\n",
      "\u001b[32m[I 2023-02-13 10:51:15,442]\u001b[0m Trial 3 finished with value: 20.293732713705424 and parameters: {'n layers': 4, 'Hidden size': 7, 'Learning rate': 0.00913191196835096, 'Dropout rate': 0.5976810801993105, 'Epochs': 390}. Best is trial 13 with value: 20.28399554612876.\u001b[0m\n",
      "\u001b[32m[I 2023-02-13 10:51:15,475]\u001b[0m A new study created in memory with name: no-name-9ab2c4df-b1a2-4b42-bf2c-fab518f3cd0f\u001b[0m\n"
     ]
    },
    {
     "name": "stdout",
     "output_type": "stream",
     "text": [
      "Epoch: 439/440 - train_loss: 0.3393 - test_loss: 0.212331\n",
      "Study statistics for : \n",
      "  Number of finished trials:  50\n",
      "Best trial of city:  Hà Nội\n",
      "  Value:  20.28399554612876\n",
      "optimize result of city: Hà Nội\n",
      "lookback 3\n",
      "lookback 3\n",
      "lookback 3\n",
      "lookbacklookback 3\n",
      " 3\n",
      "lookback 3\n",
      "lookback 3\n",
      "lookback 3\n",
      "lookback 3\n",
      "lookback 3\n",
      "lookback 3\n",
      "lookback 3\n",
      "lookback 3\n",
      "lookback 3\n",
      "lookback 3\n",
      "lookback 3\n",
      "lookback 3\n",
      "lookback 3\n",
      "lookback 3\n",
      "lookback 3\n",
      "Epoch:  0/390 - train_loss: 1.3761 - test_loss: 0.792960\n",
      "Epoch:  0/390 - train_loss: 1.2575 - test_loss: 0.889200\n",
      "Epoch:  0/390 - train_loss: 1.2168 - test_loss: 1.148597\n",
      "Epoch:  0/390 - train_loss: 1.4646 - test_loss: 1.237191\n",
      "Epoch:  0/390 - train_loss: 1.5154 - test_loss: 1.438930\n",
      "Epoch:  0/390 - train_loss: 1.5733 - test_loss: 0.828463\n",
      "Epoch:  0/390 - train_loss: 1.3201 - test_loss: 0.981335\n",
      "Epoch:  0/390 - train_loss: 1.5298 - test_loss: 1.157291\n",
      "Epoch:  0/390 - train_loss: 1.8215 - test_loss: 1.328427\n",
      "Epoch:  0/390 - train_loss: 1.4943 - test_loss: 1.229946\n",
      "Epoch:  0/390 - train_loss: 1.0201 - test_loss: 0.753175\n",
      "Epoch:  0/390 - train_loss: 1.5070 - test_loss: 1.061948\n",
      "Epoch:  0/390 - train_loss: 1.0016 - test_loss: 0.755389\n",
      "Epoch:  0/390 - train_loss: 1.6490 - test_loss: 1.147300\n",
      "Epoch:  0/390 - train_loss: 2.5940 - test_loss: 3.379152Epoch:  0/390 - train_loss: 1.1834 - test_loss: 0.907214\n",
      "Epoch:  0/390 - train_loss: 0.8684 - test_loss: 0.778832\n",
      "\n",
      "Epoch:  0/390 - train_loss: 1.3260 - test_loss: 0.977982\n",
      "Epoch:  0/390 - train_loss: 1.1205 - test_loss: 0.704586Epoch:  0/390 - train_loss: 1.2850 - test_loss: 0.896241\n",
      "\n",
      "Epoch: 97/390 - train_loss: 0.4019 - test_loss: 0.460237\n",
      "Epoch: 97/390 - train_loss: 0.3976 - test_loss: 0.416872\n",
      "Epoch: 97/390 - train_loss: 0.4241 - test_loss: 0.452104\n",
      "Epoch: 97/390 - train_loss: 0.6109 - test_loss: 0.587818\n",
      "Epoch: 97/390 - train_loss: 0.4075 - test_loss: 0.431839\n",
      "Epoch: 97/390 - train_loss: 0.4230 - test_loss: 0.536684\n",
      "Epoch: 97/390 - train_loss: 0.3958 - test_loss: 0.447965\n",
      "Epoch: 194/390 - train_loss: 0.4060 - test_loss: 0.430869\n",
      "Epoch: 194/390 - train_loss: 0.4120 - test_loss: 0.485365\n",
      "Epoch: 194/390 - train_loss: 0.3953 - test_loss: 0.477287\n",
      "Epoch: 194/390 - train_loss: 0.4658 - test_loss: 0.481128\n",
      "Epoch: 194/390 - train_loss: 0.3875 - test_loss: 0.390523\n",
      "Epoch: 97/390 - train_loss: 0.4223 - test_loss: 0.391924\n",
      "Epoch: 291/390 - train_loss: 0.4018 - test_loss: 0.408304\n",
      "Epoch: 291/390 - train_loss: 0.3993 - test_loss: 0.437506\n",
      "Epoch: 194/390 - train_loss: 0.3908 - test_loss: 0.451997\n",
      "Epoch: 291/390 - train_loss: 0.4079 - test_loss: 0.434042\n",
      "Epoch: 291/390 - train_loss: 0.4558 - test_loss: 0.433578\n",
      "Epoch: 194/390 - train_loss: 0.3863 - test_loss: 0.429536\n",
      "Epoch: 291/390 - train_loss: 0.4156 - test_loss: 0.434541\n",
      "Epoch: 388/390 - train_loss: 0.4355 - test_loss: 0.424197\n",
      "Epoch: 389/390 - train_loss: 0.3922 - test_loss: 0.445034\n",
      "Epoch: 388/390 - train_loss: 0.4671 - test_loss: 0.505950\n"
     ]
    },
    {
     "name": "stderr",
     "output_type": "stream",
     "text": [
      "\u001b[32m[I 2023-02-13 11:13:21,996]\u001b[0m Trial 4 finished with value: 36.289203408625745 and parameters: {'n layers': 4, 'Hidden size': 31, 'Learning rate': 0.0006617773590768777, 'Dropout rate': 0.7470397785959381, 'Epochs': 170}. Best is trial 4 with value: 36.289203408625745.\u001b[0m\n"
     ]
    },
    {
     "name": "stdout",
     "output_type": "stream",
     "text": [
      "lookback 3\n",
      "Epoch: 389/390 - train_loss: 0.4135 - test_loss: 0.498804\n"
     ]
    },
    {
     "name": "stderr",
     "output_type": "stream",
     "text": [
      "\u001b[32m[I 2023-02-13 11:13:27,340]\u001b[0m Trial 13 finished with value: 34.7731410825214 and parameters: {'n layers': 6, 'Hidden size': 113, 'Learning rate': 0.002887224627634421, 'Dropout rate': 0.13360975815055529, 'Epochs': 320}. Best is trial 13 with value: 34.7731410825214.\u001b[0m\n"
     ]
    },
    {
     "name": "stdout",
     "output_type": "stream",
     "text": [
      "lookback 3\n",
      "Epoch: 97/390 - train_loss: 0.4054 - test_loss: 0.471777\n",
      "Epoch: 388/390 - train_loss: 0.4243 - test_loss: 0.347277\n",
      "Epoch: 389/390 - train_loss: 0.3937 - test_loss: 0.383237\n"
     ]
    },
    {
     "name": "stderr",
     "output_type": "stream",
     "text": [
      "\u001b[32m[I 2023-02-13 11:14:32,398]\u001b[0m Trial 19 finished with value: 25.999183516891446 and parameters: {'n layers': 4, 'Hidden size': 116, 'Learning rate': 0.001588977497854279, 'Dropout rate': 0.08677467077164161, 'Epochs': 390}. Best is trial 19 with value: 25.999183516891446.\u001b[0m\n"
     ]
    },
    {
     "name": "stdout",
     "output_type": "stream",
     "text": [
      "lookback 3\n",
      "Epoch: 291/390 - train_loss: 0.3980 - test_loss: 0.453287\n",
      "Epoch: 388/390 - train_loss: 0.4052 - test_loss: 0.422518\n",
      "Epoch: 389/390 - train_loss: 0.4004 - test_loss: 0.414707\n"
     ]
    },
    {
     "name": "stderr",
     "output_type": "stream",
     "text": [
      "\u001b[32m[I 2023-02-13 11:15:58,432]\u001b[0m Trial 5 finished with value: 40.409116800195456 and parameters: {'n layers': 3, 'Hidden size': 9, 'Learning rate': 0.00012383549203230014, 'Dropout rate': 0.3986558432470163, 'Epochs': 270}. Best is trial 19 with value: 25.999183516891446.\u001b[0m\n"
     ]
    },
    {
     "name": "stdout",
     "output_type": "stream",
     "text": [
      "lookback 3\n",
      "Epoch:  0/480 - train_loss: 1.2203 - test_loss: 0.942700\n",
      "Epoch:  0/480 - train_loss: 1.5192 - test_loss: 0.996401\n",
      "Epoch: 194/390 - train_loss: 0.4178 - test_loss: 0.449400\n",
      "Epoch:  0/480 - train_loss: 1.6965 - test_loss: 0.981447\n",
      "Epoch: 291/390 - train_loss: 0.3898 - test_loss: 0.410549\n",
      "Epoch:  0/480 - train_loss: 1.9936 - test_loss: 2.085513\n",
      "Epoch: 388/390 - train_loss: 0.3855 - test_loss: 0.349567\n",
      "Epoch: 389/390 - train_loss: 0.3774 - test_loss: 0.339888\n"
     ]
    },
    {
     "name": "stderr",
     "output_type": "stream",
     "text": [
      "\u001b[32m[I 2023-02-13 11:18:29,951]\u001b[0m Trial 15 finished with value: 30.376902828249086 and parameters: {'n layers': 6, 'Hidden size': 19, 'Learning rate': 0.0006887715239501754, 'Dropout rate': 0.7278413708920503, 'Epochs': 470}. Best is trial 19 with value: 25.999183516891446.\u001b[0m\n"
     ]
    },
    {
     "name": "stdout",
     "output_type": "stream",
     "text": [
      "lookback 3\n",
      "Epoch:  0/140 - train_loss: 1.6332 - test_loss: 1.495085\n",
      "Epoch: 388/390 - train_loss: 0.3879 - test_loss: 0.341602\n",
      "Epoch: 389/390 - train_loss: 0.4157 - test_loss: 0.336333\n"
     ]
    },
    {
     "name": "stderr",
     "output_type": "stream",
     "text": [
      "\u001b[32m[I 2023-02-13 11:20:36,659]\u001b[0m Trial 10 finished with value: 30.293938772271044 and parameters: {'n layers': 3, 'Hidden size': 24, 'Learning rate': 0.003316368850022076, 'Dropout rate': 0.417885202020082, 'Epochs': 320}. Best is trial 19 with value: 25.999183516891446.\u001b[0m\n"
     ]
    },
    {
     "name": "stdout",
     "output_type": "stream",
     "text": [
      "lookback 3\n",
      "Epoch: 194/390 - train_loss: 0.4481 - test_loss: 0.421649\n",
      "Epoch: 120/480 - train_loss: 0.3935 - test_loss: 0.429238\n",
      "Epoch: 120/480 - train_loss: 0.6362 - test_loss: 0.609064\n",
      "Epoch: 35/140 - train_loss: 0.4356 - test_loss: 0.440084\n",
      "Epoch:  0/390 - train_loss: 1.1661 - test_loss: 0.798016\n",
      "Epoch: 120/480 - train_loss: 0.6219 - test_loss: 0.627241\n",
      "Epoch: 291/390 - train_loss: 0.3962 - test_loss: 0.464366\n",
      "Epoch: 388/390 - train_loss: 0.4055 - test_loss: 0.409067\n",
      "Epoch: 389/390 - train_loss: 0.3976 - test_loss: 0.421737\n"
     ]
    },
    {
     "name": "stderr",
     "output_type": "stream",
     "text": [
      "\u001b[32m[I 2023-02-13 11:22:34,997]\u001b[0m Trial 9 finished with value: 33.62130202579492 and parameters: {'n layers': 6, 'Hidden size': 246, 'Learning rate': 0.00131016544282726, 'Dropout rate': 0.37416483331628664, 'Epochs': 160}. Best is trial 19 with value: 25.999183516891446.\u001b[0m\n"
     ]
    },
    {
     "name": "stdout",
     "output_type": "stream",
     "text": [
      "lookback 3\n",
      "Epoch: 120/480 - train_loss: 0.6247 - test_loss: 0.581395\n",
      "Epoch: 70/140 - train_loss: 0.4078 - test_loss: 0.449541\n",
      "Epoch:  0/420 - train_loss: 1.8793 - test_loss: 1.661293\n",
      "Epoch: 105/140 - train_loss: 0.4272 - test_loss: 0.464863\n",
      "Epoch: 240/480 - train_loss: 0.4352 - test_loss: 0.444749\n",
      "Epoch: 139/140 - train_loss: 0.4235 - test_loss: 0.422450\n"
     ]
    },
    {
     "name": "stderr",
     "output_type": "stream",
     "text": [
      "\u001b[32m[I 2023-02-13 11:25:11,484]\u001b[0m Trial 24 finished with value: 33.65298867380719 and parameters: {'n layers': 4, 'Hidden size': 27, 'Learning rate': 0.0009123540074583318, 'Dropout rate': 0.34787161534275635, 'Epochs': 140}. Best is trial 19 with value: 25.999183516891446.\u001b[0m\n"
     ]
    },
    {
     "name": "stdout",
     "output_type": "stream",
     "text": [
      "lookback 3\n",
      "Epoch: 240/480 - train_loss: 0.4755 - test_loss: 0.486741\n",
      "Epoch: 97/390 - train_loss: 0.4029 - test_loss: 0.401388\n",
      "Epoch: 240/480 - train_loss: 0.4869 - test_loss: 0.503986\n",
      "Epoch: 97/390 - train_loss: 0.5907 - test_loss: 0.579395\n",
      "Epoch:  0/500 - train_loss: 1.4685 - test_loss: 1.258352\n",
      "Epoch: 240/480 - train_loss: 0.4446 - test_loss: 0.453408\n",
      "Epoch: 388/390 - train_loss: 0.4031 - test_loss: 0.415292\n",
      "Epoch: 389/390 - train_loss: 0.3992 - test_loss: 0.426806\n"
     ]
    },
    {
     "name": "stderr",
     "output_type": "stream",
     "text": [
      "\u001b[32m[I 2023-02-13 11:27:28,030]\u001b[0m Trial 7 finished with value: 35.29237953324229 and parameters: {'n layers': 5, 'Hidden size': 136, 'Learning rate': 0.0014291968795312948, 'Dropout rate': 0.18568985088838266, 'Epochs': 130}. Best is trial 19 with value: 25.999183516891446.\u001b[0m\n"
     ]
    },
    {
     "name": "stdout",
     "output_type": "stream",
     "text": [
      "lookback 3\n",
      "Epoch: 291/390 - train_loss: 0.4304 - test_loss: 0.404802\n",
      "Epoch: 105/420 - train_loss: 0.4766 - test_loss: 0.496486\n",
      "Epoch:  0/140 - train_loss: 1.0800 - test_loss: 0.644283\n",
      "Epoch: 360/480 - train_loss: 0.3966 - test_loss: 0.430907\n",
      "Epoch: 360/480 - train_loss: 0.4239 - test_loss: 0.439452\n",
      "Epoch: 194/390 - train_loss: 0.4027 - test_loss: 0.432314\n",
      "Epoch: 360/480 - train_loss: 0.4280 - test_loss: 0.437125\n",
      "Epoch: 35/140 - train_loss: 0.4418 - test_loss: 0.482283\n",
      "Epoch: 360/480 - train_loss: 0.4112 - test_loss: 0.423288\n",
      "Epoch: 125/500 - train_loss: 0.4297 - test_loss: 0.433762\n",
      "Epoch: 479/480 - train_loss: 0.4071 - test_loss: 0.347664\n"
     ]
    },
    {
     "name": "stderr",
     "output_type": "stream",
     "text": [
      "\u001b[32m[I 2023-02-13 11:32:19,679]\u001b[0m Trial 20 finished with value: 20.370362617536916 and parameters: {'n layers': 3, 'Hidden size': 376, 'Learning rate': 0.0005901430141766583, 'Dropout rate': 0.30149481428643915, 'Epochs': 250}. Best is trial 20 with value: 20.370362617536916.\u001b[0m\n"
     ]
    },
    {
     "name": "stdout",
     "output_type": "stream",
     "text": [
      "lookback 3\n",
      "Epoch: 70/140 - train_loss: 0.4059 - test_loss: 0.545738\n",
      "Epoch: 479/480 - train_loss: 0.4046 - test_loss: 0.435273\n"
     ]
    },
    {
     "name": "stderr",
     "output_type": "stream",
     "text": [
      "\u001b[32m[I 2023-02-13 11:32:35,062]\u001b[0m Trial 21 finished with value: 41.35184486505429 and parameters: {'n layers': 4, 'Hidden size': 34, 'Learning rate': 0.00010556175342079106, 'Dropout rate': 0.2726528528602928, 'Epochs': 370}. Best is trial 20 with value: 20.370362617536916.\u001b[0m\n"
     ]
    },
    {
     "name": "stdout",
     "output_type": "stream",
     "text": [
      "lookback 3\n",
      "Epoch: 210/420 - train_loss: 0.3969 - test_loss: 0.419951\n",
      "Epoch: 291/390 - train_loss: 0.4425 - test_loss: 0.456689\n",
      "Epoch: 479/480 - train_loss: 0.4315 - test_loss: 0.441828\n"
     ]
    },
    {
     "name": "stderr",
     "output_type": "stream",
     "text": [
      "\u001b[32m[I 2023-02-13 11:34:01,434]\u001b[0m Trial 22 finished with value: 41.73391959823042 and parameters: {'n layers': 4, 'Hidden size': 5, 'Learning rate': 0.0001061971922370531, 'Dropout rate': 0.5996312078742455, 'Epochs': 410}. Best is trial 20 with value: 20.370362617536916.\u001b[0m\n"
     ]
    },
    {
     "name": "stdout",
     "output_type": "stream",
     "text": [
      "lookback 3\n",
      "Epoch:  0/260 - train_loss: 1.4714 - test_loss: 1.019567\n",
      "Epoch: 105/140 - train_loss: 0.4244 - test_loss: 0.417822\n",
      "Epoch:  0/260 - train_loss: 0.9535 - test_loss: 0.751594\n",
      "Epoch: 388/390 - train_loss: 0.4222 - test_loss: 0.429464\n",
      "Epoch: 389/390 - train_loss: 0.4509 - test_loss: 0.407732\n"
     ]
    },
    {
     "name": "stderr",
     "output_type": "stream",
     "text": [
      "\u001b[32m[I 2023-02-13 11:35:14,273]\u001b[0m Trial 0 finished with value: 36.39910603852328 and parameters: {'n layers': 6, 'Hidden size': 119, 'Learning rate': 0.005948708067836426, 'Dropout rate': 0.4985887184733417, 'Epochs': 250}. Best is trial 20 with value: 20.370362617536916.\u001b[0m\n"
     ]
    },
    {
     "name": "stdout",
     "output_type": "stream",
     "text": [
      "lookback 3\n",
      "Epoch: 479/480 - train_loss: 0.3946 - test_loss: 0.438801\n"
     ]
    },
    {
     "name": "stderr",
     "output_type": "stream",
     "text": [
      "\u001b[32m[I 2023-02-13 11:35:57,869]\u001b[0m Trial 23 finished with value: 40.4585598944132 and parameters: {'n layers': 4, 'Hidden size': 105, 'Learning rate': 0.00013826258214332768, 'Dropout rate': 0.13160517035606553, 'Epochs': 480}. Best is trial 20 with value: 20.370362617536916.\u001b[0m\n"
     ]
    },
    {
     "name": "stdout",
     "output_type": "stream",
     "text": [
      "lookback 3\n",
      "Epoch:  0/220 - train_loss: 1.0361 - test_loss: 0.674355\n",
      "Epoch: 194/390 - train_loss: 0.4484 - test_loss: 0.472669\n",
      "Epoch: 250/500 - train_loss: 0.4250 - test_loss: 0.407709\n",
      "Epoch: 139/140 - train_loss: 0.4429 - test_loss: 0.479948\n"
     ]
    },
    {
     "name": "stderr",
     "output_type": "stream",
     "text": [
      "\u001b[32m[I 2023-02-13 11:37:35,067]\u001b[0m Trial 28 finished with value: 31.633795950070237 and parameters: {'n layers': 6, 'Hidden size': 203, 'Learning rate': 0.00966368606402289, 'Dropout rate': 0.36985810866446345, 'Epochs': 140}. Best is trial 20 with value: 20.370362617536916.\u001b[0m\n"
     ]
    },
    {
     "name": "stdout",
     "output_type": "stream",
     "text": [
      "lookback 3\n",
      "Epoch:  0/210 - train_loss: 1.1930 - test_loss: 1.144093\n",
      "Epoch:  0/210 - train_loss: 1.2126 - test_loss: 1.342464\n",
      "Epoch: 65/260 - train_loss: 0.6522 - test_loss: 0.619982\n",
      "Epoch: 65/260 - train_loss: 0.4206 - test_loss: 0.377470\n",
      "Epoch: 388/390 - train_loss: 0.4339 - test_loss: 0.376661\n",
      "Epoch: 389/390 - train_loss: 0.3975 - test_loss: 0.487927\n"
     ]
    },
    {
     "name": "stderr",
     "output_type": "stream",
     "text": [
      "\u001b[32m[I 2023-02-13 11:39:24,033]\u001b[0m Trial 25 finished with value: 33.922103420150194 and parameters: {'n layers': 3, 'Hidden size': 5, 'Learning rate': 0.004567221721042806, 'Dropout rate': 0.6601531841524475, 'Epochs': 390}. Best is trial 20 with value: 20.370362617536916.\u001b[0m\n"
     ]
    },
    {
     "name": "stdout",
     "output_type": "stream",
     "text": [
      "lookback 3\n",
      "Epoch:  0/220 - train_loss: 1.1882 - test_loss: 1.114374\n",
      "Epoch: 55/220 - train_loss: 0.4310 - test_loss: 0.393274\n",
      "Epoch: 315/420 - train_loss: 0.3899 - test_loss: 0.442392\n",
      "Epoch: 97/390 - train_loss: 0.4147 - test_loss: 0.427286\n",
      "Epoch: 52/210 - train_loss: 0.5406 - test_loss: 0.566970\n",
      "Epoch:  0/220 - train_loss: 1.2805 - test_loss: 0.730625\n",
      "Epoch: 130/260 - train_loss: 0.5197 - test_loss: 0.511292\n",
      "Epoch: 52/210 - train_loss: 0.5634 - test_loss: 0.583791\n",
      "Epoch: 130/260 - train_loss: 0.4231 - test_loss: 0.460364\n",
      "Epoch: 110/220 - train_loss: 0.4161 - test_loss: 0.463924\n",
      "Epoch: 104/210 - train_loss: 0.4511 - test_loss: 0.457569\n",
      "Epoch: 375/500 - train_loss: 0.4320 - test_loss: 0.424937\n",
      "Epoch: 55/220 - train_loss: 0.5180 - test_loss: 0.535794\n",
      "Epoch: 55/220 - train_loss: 0.5483 - test_loss: 0.547622\n",
      "Epoch: 195/260 - train_loss: 0.4414 - test_loss: 0.459273\n",
      "Epoch: 165/220 - train_loss: 0.4111 - test_loss: 0.418868\n",
      "Epoch: 195/260 - train_loss: 0.3947 - test_loss: 0.398387\n",
      "Epoch: 156/210 - train_loss: 0.4112 - test_loss: 0.440880\n",
      "Epoch: 419/420 - train_loss: 0.4039 - test_loss: 0.435343\n"
     ]
    },
    {
     "name": "stderr",
     "output_type": "stream",
     "text": [
      "\u001b[32m[I 2023-02-13 11:43:56,114]\u001b[0m Trial 26 finished with value: 40.58822128416767 and parameters: {'n layers': 3, 'Hidden size': 159, 'Learning rate': 0.00026247832113831566, 'Dropout rate': 0.38745654473541613, 'Epochs': 420}. Best is trial 20 with value: 20.370362617536916.\u001b[0m\n"
     ]
    },
    {
     "name": "stdout",
     "output_type": "stream",
     "text": [
      "lookback 3\n",
      "Epoch: 110/220 - train_loss: 0.4328 - test_loss: 0.446825\n",
      "Epoch: 219/220 - train_loss: 0.4031 - test_loss: 0.423173\n"
     ]
    },
    {
     "name": "stderr",
     "output_type": "stream",
     "text": [
      "\u001b[32m[I 2023-02-13 11:44:44,030]\u001b[0m Trial 31 finished with value: 33.92155742943729 and parameters: {'n layers': 3, 'Hidden size': 358, 'Learning rate': 0.008832794505423463, 'Dropout rate': 0.04061194903353738, 'Epochs': 260}. Best is trial 20 with value: 20.370362617536916.\u001b[0m\n"
     ]
    },
    {
     "name": "stdout",
     "output_type": "stream",
     "text": [
      "lookback 3\n",
      "Epoch: 259/260 - train_loss: 0.3976 - test_loss: 0.433730\n"
     ]
    },
    {
     "name": "stderr",
     "output_type": "stream",
     "text": [
      "\u001b[32m[I 2023-02-13 11:45:07,842]\u001b[0m Trial 29 finished with value: 40.41633126944945 and parameters: {'n layers': 3, 'Hidden size': 369, 'Learning rate': 0.0001704221629815997, 'Dropout rate': 0.5297227643378078, 'Epochs': 230}. Best is trial 20 with value: 20.370362617536916.\u001b[0m\n"
     ]
    },
    {
     "name": "stdout",
     "output_type": "stream",
     "text": [
      "lookback 3\n",
      "Epoch: 259/260 - train_loss: 0.4053 - test_loss: 0.437809\n",
      "Epoch: 110/220 - train_loss: 0.4073 - test_loss: 0.451382\n",
      "Epoch: 104/210 - train_loss: 0.4808 - test_loss: 0.463895\n"
     ]
    },
    {
     "name": "stderr",
     "output_type": "stream",
     "text": [
      "\u001b[32m[I 2023-02-13 11:45:42,589]\u001b[0m Trial 30 finished with value: 30.63906056807495 and parameters: {'n layers': 3, 'Hidden size': 338, 'Learning rate': 0.008597996543729237, 'Dropout rate': 0.041547435422406964, 'Epochs': 420}. Best is trial 20 with value: 20.370362617536916.\u001b[0m\n"
     ]
    },
    {
     "name": "stdout",
     "output_type": "stream",
     "text": [
      "lookback 3\n",
      "Epoch:  0/210 - train_loss: 1.2952 - test_loss: 0.775243\n",
      "Epoch: 208/210 - train_loss: 0.3915 - test_loss: 0.413774\n",
      "Epoch: 291/390 - train_loss: 0.4075 - test_loss: 0.444614\n",
      "Epoch: 209/210 - train_loss: 0.3899 - test_loss: 0.420024\n"
     ]
    },
    {
     "name": "stderr",
     "output_type": "stream",
     "text": [
      "\u001b[32m[I 2023-02-13 11:46:59,113]\u001b[0m Trial 33 finished with value: 39.96673542176362 and parameters: {'n layers': 3, 'Hidden size': 294, 'Learning rate': 0.00032009640593730343, 'Dropout rate': 0.058614621460809785, 'Epochs': 220}. Best is trial 20 with value: 20.370362617536916.\u001b[0m\n"
     ]
    },
    {
     "name": "stdout",
     "output_type": "stream",
     "text": [
      "lookback 3\n",
      "Epoch:  0/330 - train_loss: 1.4837 - test_loss: 2.220932\n",
      "Epoch:  0/330 - train_loss: 1.5161 - test_loss: 1.190781\n",
      "Epoch: 499/500 - train_loss: 0.4074 - test_loss: 0.434673\n",
      "Epoch:  0/330 - train_loss: 1.3081 - test_loss: 0.876478\n"
     ]
    },
    {
     "name": "stderr",
     "output_type": "stream",
     "text": [
      "\u001b[32m[I 2023-02-13 11:49:08,580]\u001b[0m Trial 27 finished with value: 37.904352631232015 and parameters: {'n layers': 5, 'Hidden size': 158, 'Learning rate': 0.00035740027514438694, 'Dropout rate': 0.0789211534562172, 'Epochs': 500}. Best is trial 20 with value: 20.370362617536916.\u001b[0m\n"
     ]
    },
    {
     "name": "stdout",
     "output_type": "stream",
     "text": [
      "lookback 3\n",
      "Epoch: 165/220 - train_loss: 0.4255 - test_loss: 0.424739\n",
      "Epoch: 97/390 - train_loss: 0.4335 - test_loss: 0.469063\n",
      "Epoch: 97/390 - train_loss: 0.5999 - test_loss: 0.572306\n",
      "Epoch:  0/330 - train_loss: 1.3987 - test_loss: 1.079230\n",
      "Epoch: 156/210 - train_loss: 0.3967 - test_loss: 0.431256\n",
      "Epoch: 165/220 - train_loss: 0.4062 - test_loss: 0.425539\n",
      "Epoch: 52/210 - train_loss: 0.5400 - test_loss: 0.516525\n",
      "Epoch:  0/330 - train_loss: 1.5302 - test_loss: 0.886863\n",
      "Epoch: 219/220 - train_loss: 0.4106 - test_loss: 0.445106\n"
     ]
    },
    {
     "name": "stderr",
     "output_type": "stream",
     "text": [
      "\u001b[32m[I 2023-02-13 11:51:46,175]\u001b[0m Trial 35 finished with value: 37.35866693758595 and parameters: {'n layers': 5, 'Hidden size': 333, 'Learning rate': 0.0003174098724944213, 'Dropout rate': 0.017036334920838808, 'Epochs': 220}. Best is trial 20 with value: 20.370362617536916.\u001b[0m\n"
     ]
    },
    {
     "name": "stdout",
     "output_type": "stream",
     "text": [
      "lookback 3\n",
      "Epoch: 82/330 - train_loss: 0.4779 - test_loss: 0.646300\n",
      "Epoch: 82/330 - train_loss: 0.4107 - test_loss: 0.434598\n",
      "Epoch: 82/330 - train_loss: 0.4522 - test_loss: 0.440479\n",
      "Epoch: 104/210 - train_loss: 0.4406 - test_loss: 0.447366\n",
      "Epoch: 82/330 - train_loss: 0.3891 - test_loss: 0.495425\n",
      "Epoch: 219/220 - train_loss: 0.4002 - test_loss: 0.419082\n"
     ]
    },
    {
     "name": "stderr",
     "output_type": "stream",
     "text": [
      "\u001b[32m[I 2023-02-13 11:53:23,900]\u001b[0m Trial 34 finished with value: 37.243574138206505 and parameters: {'n layers': 3, 'Hidden size': 341, 'Learning rate': 0.0003661529596200622, 'Dropout rate': 0.012211306377990727, 'Epochs': 210}. Best is trial 20 with value: 20.370362617536916.\u001b[0m\n"
     ]
    },
    {
     "name": "stdout",
     "output_type": "stream",
     "text": [
      "lookback 3\n",
      "Epoch:  0/320 - train_loss: 1.6732 - test_loss: 1.190137\n",
      "Epoch: 208/210 - train_loss: 0.3919 - test_loss: 0.432324\n",
      "Epoch: 209/210 - train_loss: 0.3927 - test_loss: 0.429627\n"
     ]
    },
    {
     "name": "stderr",
     "output_type": "stream",
     "text": [
      "\u001b[32m[I 2023-02-13 11:53:56,934]\u001b[0m Trial 32 finished with value: 40.083480367518966 and parameters: {'n layers': 3, 'Hidden size': 345, 'Learning rate': 0.0002961587873773994, 'Dropout rate': 0.016657551866097728, 'Epochs': 500}. Best is trial 20 with value: 20.370362617536916.\u001b[0m\n"
     ]
    },
    {
     "name": "stdout",
     "output_type": "stream",
     "text": [
      "lookback 3\n",
      "Epoch: 194/390 - train_loss: 0.4195 - test_loss: 0.445130\n",
      "Epoch: 82/330 - train_loss: 0.4285 - test_loss: 0.403924\n",
      "Epoch:  0/330 - train_loss: 1.2579 - test_loss: 0.858422\n",
      "Epoch: 388/390 - train_loss: 0.4076 - test_loss: 0.427765\n",
      "Epoch: 389/390 - train_loss: 0.3916 - test_loss: 0.428837\n"
     ]
    },
    {
     "name": "stderr",
     "output_type": "stream",
     "text": [
      "\u001b[32m[I 2023-02-13 11:56:05,476]\u001b[0m Trial 2 finished with value: 40.063896014696205 and parameters: {'n layers': 6, 'Hidden size': 163, 'Learning rate': 0.00017070619637226948, 'Dropout rate': 0.5657436664597616, 'Epochs': 180}. Best is trial 20 with value: 20.370362617536916.\u001b[0m\n"
     ]
    },
    {
     "name": "stdout",
     "output_type": "stream",
     "text": [
      "lookback 3\n",
      "Epoch:  0/310 - train_loss: 1.0226 - test_loss: 0.760517\n",
      "Epoch: 164/330 - train_loss: 0.3964 - test_loss: 0.433497\n",
      "Epoch: 156/210 - train_loss: 0.4278 - test_loss: 0.431537\n",
      "Epoch: 164/330 - train_loss: 0.4081 - test_loss: 0.423614\n",
      "Epoch: 164/330 - train_loss: 0.3952 - test_loss: 0.423576\n",
      "Epoch: 164/330 - train_loss: 0.3873 - test_loss: 0.430778\n",
      "Epoch: 80/320 - train_loss: 0.4318 - test_loss: 0.466206\n",
      "Epoch:  0/310 - train_loss: 1.5857 - test_loss: 1.064630\n",
      "Epoch: 164/330 - train_loss: 0.3892 - test_loss: 0.417686\n",
      "Epoch: 208/210 - train_loss: 0.3988 - test_loss: 0.419702\n",
      "Epoch: 209/210 - train_loss: 0.4254 - test_loss: 0.419107\n"
     ]
    },
    {
     "name": "stderr",
     "output_type": "stream",
     "text": [
      "\u001b[32m[I 2023-02-13 11:58:44,203]\u001b[0m Trial 36 finished with value: 38.71328142581414 and parameters: {'n layers': 5, 'Hidden size': 60, 'Learning rate': 0.0003851281309250885, 'Dropout rate': 0.2394566516981385, 'Epochs': 210}. Best is trial 20 with value: 20.370362617536916.\u001b[0m\n"
     ]
    },
    {
     "name": "stdout",
     "output_type": "stream",
     "text": [
      "lookback 3\n",
      "Epoch: 246/330 - train_loss: 0.3877 - test_loss: 0.375938\n",
      "Epoch: 246/330 - train_loss: 0.4011 - test_loss: 0.430628\n",
      "Epoch: 246/330 - train_loss: 0.4069 - test_loss: 0.435893\n",
      "Epoch: 82/330 - train_loss: 0.3958 - test_loss: 0.413156\n",
      "Epoch:  0/310 - train_loss: 1.2126 - test_loss: 0.830500\n",
      "Epoch: 246/330 - train_loss: 0.3941 - test_loss: 0.440428\n",
      "Epoch: 160/320 - train_loss: 0.4059 - test_loss: 0.418107\n",
      "Epoch: 246/330 - train_loss: 0.4015 - test_loss: 0.458766\n",
      "Epoch: 328/330 - train_loss: 0.4225 - test_loss: 0.430556\n",
      "Epoch: 328/330 - train_loss: 0.4290 - test_loss: 0.354671\n",
      "Epoch: 329/330 - train_loss: 0.3946 - test_loss: 0.393197\n",
      "Epoch: 329/330 - train_loss: 0.3892 - test_loss: 0.400700\n"
     ]
    },
    {
     "name": "stderr",
     "output_type": "stream",
     "text": [
      "\u001b[32m[I 2023-02-13 12:01:51,428]\u001b[0m Trial 38 finished with value: 36.37868035104675 and parameters: {'n layers': 5, 'Hidden size': 65, 'Learning rate': 0.0018024172138175064, 'Dropout rate': 0.030183935785386806, 'Epochs': 200}. Best is trial 20 with value: 20.370362617536916.\u001b[0m\n"
     ]
    },
    {
     "name": "stdout",
     "output_type": "stream",
     "text": [
      "lookback 3\n"
     ]
    },
    {
     "name": "stderr",
     "output_type": "stream",
     "text": [
      "\u001b[32m[I 2023-02-13 12:01:52,895]\u001b[0m Trial 37 finished with value: 33.61867233120984 and parameters: {'n layers': 5, 'Hidden size': 60, 'Learning rate': 0.0003628118120728023, 'Dropout rate': 0.04834593464884401, 'Epochs': 210}. Best is trial 20 with value: 20.370362617536916.\u001b[0m\n"
     ]
    },
    {
     "name": "stdout",
     "output_type": "stream",
     "text": [
      "lookback 3\n",
      "Epoch: 77/310 - train_loss: 0.4274 - test_loss: 0.472448\n",
      "Epoch: 328/330 - train_loss: 0.3988 - test_loss: 0.412572\n",
      "Epoch: 329/330 - train_loss: 0.4001 - test_loss: 0.405990\n"
     ]
    },
    {
     "name": "stderr",
     "output_type": "stream",
     "text": [
      "\u001b[32m[I 2023-02-13 12:02:25,386]\u001b[0m Trial 39 finished with value: 37.378301459314436 and parameters: {'n layers': 5, 'Hidden size': 60, 'Learning rate': 0.00038668112964966155, 'Dropout rate': 0.2700587128372717, 'Epochs': 210}. Best is trial 20 with value: 20.370362617536916.\u001b[0m\n"
     ]
    },
    {
     "name": "stdout",
     "output_type": "stream",
     "text": [
      "lookback 3\n",
      "Epoch: 328/330 - train_loss: 0.4279 - test_loss: 0.506239\n",
      "Epoch: 329/330 - train_loss: 0.4057 - test_loss: 0.477114\n"
     ]
    },
    {
     "name": "stderr",
     "output_type": "stream",
     "text": [
      "\u001b[32m[I 2023-02-13 12:04:39,781]\u001b[0m Trial 40 finished with value: 27.450960331196843 and parameters: {'n layers': 5, 'Hidden size': 67, 'Learning rate': 0.0023422209136548327, 'Dropout rate': 0.2486161480223752, 'Epochs': 330}. Best is trial 20 with value: 20.370362617536916.\u001b[0m\n"
     ]
    },
    {
     "name": "stdout",
     "output_type": "stream",
     "text": [
      "Epoch: 77/310 - train_loss: 0.3957 - test_loss: 0.434523\n",
      "Epoch:  0/330 - train_loss: 1.4784 - test_loss: 1.094250\n",
      "Epoch:  0/330 - train_loss: 1.2673 - test_loss: 0.778720\n",
      "Epoch:  0/330 - train_loss: 1.1173 - test_loss: 0.805427\n",
      "Epoch: 240/320 - train_loss: 0.3602 - test_loss: 0.331524\n",
      "Epoch: 164/330 - train_loss: 0.3987 - test_loss: 0.440309\n",
      "Epoch: 77/310 - train_loss: 0.3974 - test_loss: 0.431780\n",
      "Epoch: 328/330 - train_loss: 0.3886 - test_loss: 0.434585\n",
      "Epoch: 329/330 - train_loss: 0.3883 - test_loss: 0.427021\n"
     ]
    },
    {
     "name": "stderr",
     "output_type": "stream",
     "text": [
      "\u001b[32m[I 2023-02-13 12:05:59,097]\u001b[0m Trial 41 finished with value: 34.24900959075099 and parameters: {'n layers': 5, 'Hidden size': 67, 'Learning rate': 0.002129125637153031, 'Dropout rate': 0.28050662445786656, 'Epochs': 330}. Best is trial 20 with value: 20.370362617536916.\u001b[0m\n"
     ]
    },
    {
     "name": "stdout",
     "output_type": "stream",
     "text": [
      "Epoch: 154/310 - train_loss: 0.4102 - test_loss: 0.438654\n",
      "Epoch: 82/330 - train_loss: 0.4210 - test_loss: 0.413863\n",
      "Epoch: 82/330 - train_loss: 0.4026 - test_loss: 0.469988\n",
      "Epoch: 154/310 - train_loss: 0.4320 - test_loss: 0.412344\n",
      "Epoch: 82/330 - train_loss: 0.4022 - test_loss: 0.436076\n",
      "Epoch: 291/390 - train_loss: 0.3997 - test_loss: 0.406057\n",
      "Epoch: 319/320 - train_loss: 0.3249 - test_loss: 0.304921\n",
      "Epoch: 97/390 - train_loss: 0.4394 - test_loss: 0.429872\n"
     ]
    },
    {
     "name": "stderr",
     "output_type": "stream",
     "text": [
      "\u001b[32m[I 2023-02-13 12:07:34,867]\u001b[0m Trial 42 finished with value: 17.702739193701714 and parameters: {'n layers': 4, 'Hidden size': 50, 'Learning rate': 0.0023134419338895124, 'Dropout rate': 0.2228663233232727, 'Epochs': 330}. Best is trial 42 with value: 17.702739193701714.\u001b[0m\n"
     ]
    },
    {
     "name": "stdout",
     "output_type": "stream",
     "text": [
      "Epoch: 246/330 - train_loss: 0.4162 - test_loss: 0.476906\n",
      "Epoch: 154/310 - train_loss: 0.4261 - test_loss: 0.428809\n",
      "Epoch: 164/330 - train_loss: 0.3899 - test_loss: 0.401035\n",
      "Epoch: 164/330 - train_loss: 0.4014 - test_loss: 0.456575\n",
      "Epoch: 231/310 - train_loss: 0.3897 - test_loss: 0.435951\n",
      "Epoch: 164/330 - train_loss: 0.4046 - test_loss: 0.393218\n",
      "Epoch: 231/310 - train_loss: 0.4063 - test_loss: 0.465066\n",
      "Epoch: 328/330 - train_loss: 0.3901 - test_loss: 0.430583\n",
      "Epoch: 329/330 - train_loss: 0.3899 - test_loss: 0.432635\n"
     ]
    },
    {
     "name": "stderr",
     "output_type": "stream",
     "text": [
      "\u001b[32m[I 2023-02-13 12:09:44,991]\u001b[0m Trial 43 finished with value: 33.84439315876518 and parameters: {'n layers': 4, 'Hidden size': 73, 'Learning rate': 0.0023069328486630437, 'Dropout rate': 0.25796120217139196, 'Epochs': 320}. Best is trial 42 with value: 17.702739193701714.\u001b[0m\n"
     ]
    },
    {
     "name": "stdout",
     "output_type": "stream",
     "text": [
      "Epoch: 194/390 - train_loss: 0.4605 - test_loss: 0.439592\n",
      "Epoch: 246/330 - train_loss: 0.4388 - test_loss: 0.464626\n",
      "Epoch: 246/330 - train_loss: 0.3884 - test_loss: 0.387672\n",
      "Epoch: 308/310 - train_loss: 0.3927 - test_loss: 0.301206\n",
      "Epoch: 309/310 - train_loss: 0.3856 - test_loss: 0.265654\n"
     ]
    },
    {
     "name": "stderr",
     "output_type": "stream",
     "text": [
      "\u001b[32m[I 2023-02-13 12:10:40,932]\u001b[0m Trial 46 finished with value: 24.334053559232427 and parameters: {'n layers': 4, 'Hidden size': 66, 'Learning rate': 0.0020798992742164586, 'Dropout rate': 0.46016529326560074, 'Epochs': 310}. Best is trial 42 with value: 17.702739193701714.\u001b[0m\n"
     ]
    },
    {
     "name": "stdout",
     "output_type": "stream",
     "text": [
      "Epoch: 246/330 - train_loss: 0.4034 - test_loss: 0.437539\n",
      "Epoch: 308/310 - train_loss: 0.3890 - test_loss: 0.449033\n",
      "Epoch: 309/310 - train_loss: 0.3908 - test_loss: 0.412868\n",
      "Epoch: 231/310 - train_loss: 0.3916 - test_loss: 0.465331\n"
     ]
    },
    {
     "name": "stderr",
     "output_type": "stream",
     "text": [
      "\u001b[32m[I 2023-02-13 12:10:58,263]\u001b[0m Trial 44 finished with value: 34.2955808928978 and parameters: {'n layers': 4, 'Hidden size': 66, 'Learning rate': 0.002325571275176387, 'Dropout rate': 0.2724395959436344, 'Epochs': 330}. Best is trial 42 with value: 17.702739193701714.\u001b[0m\n"
     ]
    },
    {
     "name": "stdout",
     "output_type": "stream",
     "text": [
      "Epoch: 388/390 - train_loss: 0.4501 - test_loss: 0.445265\n",
      "Epoch: 389/390 - train_loss: 0.3883 - test_loss: 0.460321\n"
     ]
    },
    {
     "name": "stderr",
     "output_type": "stream",
     "text": [
      "\u001b[32m[I 2023-02-13 12:11:07,527]\u001b[0m Trial 3 finished with value: 38.0999803122699 and parameters: {'n layers': 5, 'Hidden size': 147, 'Learning rate': 0.0004871221832657697, 'Dropout rate': 0.1607872937694322, 'Epochs': 240}. Best is trial 42 with value: 17.702739193701714.\u001b[0m\n"
     ]
    },
    {
     "name": "stdout",
     "output_type": "stream",
     "text": [
      "Epoch: 97/390 - train_loss: 0.4286 - test_loss: 0.412356\n",
      "Epoch: 194/390 - train_loss: 0.4309 - test_loss: 0.437000\n",
      "Epoch: 328/330 - train_loss: 0.4216 - test_loss: 0.432733\n",
      "Epoch: 329/330 - train_loss: 0.3999 - test_loss: 0.465040\n"
     ]
    },
    {
     "name": "stderr",
     "output_type": "stream",
     "text": [
      "\u001b[32m[I 2023-02-13 12:12:25,722]\u001b[0m Trial 47 finished with value: 34.94285499992308 and parameters: {'n layers': 4, 'Hidden size': 13, 'Learning rate': 0.0026839532345610275, 'Dropout rate': 0.455336679949351, 'Epochs': 320}. Best is trial 42 with value: 17.702739193701714.\u001b[0m\n"
     ]
    },
    {
     "name": "stdout",
     "output_type": "stream",
     "text": [
      "Epoch: 328/330 - train_loss: 0.4297 - test_loss: 0.461779\n",
      "Epoch: 329/330 - train_loss: 0.4009 - test_loss: 0.436317\n"
     ]
    },
    {
     "name": "stderr",
     "output_type": "stream",
     "text": [
      "\u001b[32m[I 2023-02-13 12:12:35,508]\u001b[0m Trial 48 finished with value: 35.757691915110144 and parameters: {'n layers': 4, 'Hidden size': 20, 'Learning rate': 0.0029568261525712066, 'Dropout rate': 0.46318298821585446, 'Epochs': 320}. Best is trial 42 with value: 17.702739193701714.\u001b[0m\n"
     ]
    },
    {
     "name": "stdout",
     "output_type": "stream",
     "text": [
      "Epoch: 328/330 - train_loss: 0.3935 - test_loss: 0.462621\n",
      "Epoch: 329/330 - train_loss: 0.4272 - test_loss: 0.449158\n"
     ]
    },
    {
     "name": "stderr",
     "output_type": "stream",
     "text": [
      "\u001b[32m[I 2023-02-13 12:12:38,687]\u001b[0m Trial 49 finished with value: 35.2885440962956 and parameters: {'n layers': 4, 'Hidden size': 13, 'Learning rate': 0.002533192062333113, 'Dropout rate': 0.473793695065392, 'Epochs': 330}. Best is trial 42 with value: 17.702739193701714.\u001b[0m\n"
     ]
    },
    {
     "name": "stdout",
     "output_type": "stream",
     "text": [
      "Epoch: 291/390 - train_loss: 0.4065 - test_loss: 0.407438\n",
      "Epoch: 308/310 - train_loss: 0.3965 - test_loss: 0.421127\n",
      "Epoch: 309/310 - train_loss: 0.3994 - test_loss: 0.471600\n"
     ]
    },
    {
     "name": "stderr",
     "output_type": "stream",
     "text": [
      "\u001b[32m[I 2023-02-13 12:12:48,913]\u001b[0m Trial 45 finished with value: 34.88831950357075 and parameters: {'n layers': 4, 'Hidden size': 61, 'Learning rate': 0.0025433785867801637, 'Dropout rate': 0.278793610945977, 'Epochs': 310}. Best is trial 42 with value: 17.702739193701714.\u001b[0m\n"
     ]
    },
    {
     "name": "stdout",
     "output_type": "stream",
     "text": [
      "Epoch: 194/390 - train_loss: 0.3989 - test_loss: 0.439334\n",
      "Epoch: 291/390 - train_loss: 0.3962 - test_loss: 0.414805\n",
      "Epoch: 97/390 - train_loss: 0.3932 - test_loss: 0.468795\n",
      "Epoch: 97/390 - train_loss: 0.4377 - test_loss: 0.484817\n",
      "Epoch: 194/390 - train_loss: 0.4302 - test_loss: 0.425745\n",
      "Epoch: 388/390 - train_loss: 0.3957 - test_loss: 0.413461\n",
      "Epoch: 389/390 - train_loss: 0.3930 - test_loss: 0.411929\n"
     ]
    },
    {
     "name": "stderr",
     "output_type": "stream",
     "text": [
      "\u001b[32m[I 2023-02-13 12:14:32,223]\u001b[0m Trial 14 finished with value: 39.23556406436996 and parameters: {'n layers': 6, 'Hidden size': 6, 'Learning rate': 0.0001522820026972092, 'Dropout rate': 0.4938083881335434, 'Epochs': 410}. Best is trial 42 with value: 17.702739193701714.\u001b[0m\n"
     ]
    },
    {
     "name": "stdout",
     "output_type": "stream",
     "text": [
      "Epoch: 291/390 - train_loss: 0.3952 - test_loss: 0.461685\n",
      "Epoch: 388/390 - train_loss: 0.3982 - test_loss: 0.436690\n",
      "Epoch: 97/390 - train_loss: 0.6041 - test_loss: 0.610799\n",
      "Epoch: 389/390 - train_loss: 0.3893 - test_loss: 0.443211\n"
     ]
    },
    {
     "name": "stderr",
     "output_type": "stream",
     "text": [
      "\u001b[32m[I 2023-02-13 12:15:28,606]\u001b[0m Trial 12 finished with value: 39.927662947866395 and parameters: {'n layers': 5, 'Hidden size': 27, 'Learning rate': 0.0003334054412831113, 'Dropout rate': 0.13504861323406778, 'Epochs': 250}. Best is trial 42 with value: 17.702739193701714.\u001b[0m\n"
     ]
    },
    {
     "name": "stdout",
     "output_type": "stream",
     "text": [
      "Epoch: 194/390 - train_loss: 0.4314 - test_loss: 0.453961\n",
      "Epoch: 97/390 - train_loss: 0.4301 - test_loss: 0.448900\n",
      "Epoch: 97/390 - train_loss: 0.4815 - test_loss: 0.474914\n",
      "Epoch: 291/390 - train_loss: 0.4255 - test_loss: 0.370055\n",
      "Epoch: 194/390 - train_loss: 0.4292 - test_loss: 0.467868\n",
      "Epoch: 388/390 - train_loss: 0.4344 - test_loss: 0.461056\n",
      "Epoch: 389/390 - train_loss: 0.3905 - test_loss: 0.451860\n"
     ]
    },
    {
     "name": "stderr",
     "output_type": "stream",
     "text": [
      "\u001b[32m[I 2023-02-13 12:16:37,417]\u001b[0m Trial 17 finished with value: 39.28860369395297 and parameters: {'n layers': 4, 'Hidden size': 30, 'Learning rate': 0.000624328039451323, 'Dropout rate': 0.24883291329527432, 'Epochs': 380}. Best is trial 42 with value: 17.702739193701714.\u001b[0m\n"
     ]
    },
    {
     "name": "stdout",
     "output_type": "stream",
     "text": [
      "Epoch: 291/390 - train_loss: 0.3967 - test_loss: 0.461302\n",
      "Epoch: 388/390 - train_loss: 0.3977 - test_loss: 0.468625\n",
      "Epoch: 389/390 - train_loss: 0.4051 - test_loss: 0.448519\n",
      "Epoch: 194/390 - train_loss: 0.4865 - test_loss: 0.500338\n"
     ]
    },
    {
     "name": "stderr",
     "output_type": "stream",
     "text": [
      "\u001b[32m[I 2023-02-13 12:17:16,072]\u001b[0m Trial 8 finished with value: 31.769695114123095 and parameters: {'n layers': 5, 'Hidden size': 6, 'Learning rate': 0.0058890907751301125, 'Dropout rate': 0.1631656393091593, 'Epochs': 250}. Best is trial 42 with value: 17.702739193701714.\u001b[0m\n"
     ]
    },
    {
     "name": "stdout",
     "output_type": "stream",
     "text": [
      "Epoch: 291/390 - train_loss: 0.3965 - test_loss: 0.451959\n",
      "Epoch: 194/390 - train_loss: 0.3985 - test_loss: 0.421591\n",
      "Epoch: 194/390 - train_loss: 0.3943 - test_loss: 0.429390\n",
      "Epoch: 388/390 - train_loss: 0.4078 - test_loss: 0.467327\n",
      "Epoch: 389/390 - train_loss: 0.4039 - test_loss: 0.481483\n"
     ]
    },
    {
     "name": "stderr",
     "output_type": "stream",
     "text": [
      "\u001b[32m[I 2023-02-13 12:18:22,480]\u001b[0m Trial 18 finished with value: 32.89098227802563 and parameters: {'n layers': 4, 'Hidden size': 30, 'Learning rate': 0.004491629071422108, 'Dropout rate': 0.36294291831908, 'Epochs': 280}. Best is trial 42 with value: 17.702739193701714.\u001b[0m\n"
     ]
    },
    {
     "name": "stdout",
     "output_type": "stream",
     "text": [
      "Epoch: 291/390 - train_loss: 0.4505 - test_loss: 0.433335\n",
      "Epoch: 388/390 - train_loss: 0.3907 - test_loss: 0.422719\n",
      "Epoch: 389/390 - train_loss: 0.3865 - test_loss: 0.415830\n"
     ]
    },
    {
     "name": "stderr",
     "output_type": "stream",
     "text": [
      "\u001b[32m[I 2023-02-13 12:18:35,430]\u001b[0m Trial 16 finished with value: 36.271864797655795 and parameters: {'n layers': 3, 'Hidden size': 76, 'Learning rate': 0.002873139571278912, 'Dropout rate': 0.6758220607978548, 'Epochs': 470}. Best is trial 42 with value: 17.702739193701714.\u001b[0m\n"
     ]
    },
    {
     "name": "stdout",
     "output_type": "stream",
     "text": [
      "Epoch: 291/390 - train_loss: 0.3982 - test_loss: 0.445974\n",
      "Epoch: 291/390 - train_loss: 0.4069 - test_loss: 0.409257\n",
      "Epoch: 388/390 - train_loss: 0.4268 - test_loss: 0.424341\n",
      "Epoch: 389/390 - train_loss: 0.4130 - test_loss: 0.417766\n"
     ]
    },
    {
     "name": "stderr",
     "output_type": "stream",
     "text": [
      "\u001b[32m[I 2023-02-13 12:19:10,255]\u001b[0m Trial 1 finished with value: 40.30712400496143 and parameters: {'n layers': 3, 'Hidden size': 117, 'Learning rate': 0.00012159052492489861, 'Dropout rate': 0.5405557736236587, 'Epochs': 490}. Best is trial 42 with value: 17.702739193701714.\u001b[0m\n"
     ]
    },
    {
     "name": "stdout",
     "output_type": "stream",
     "text": [
      "Epoch: 388/390 - train_loss: 0.3982 - test_loss: 0.427283\n",
      "Epoch: 389/390 - train_loss: 0.4145 - test_loss: 0.421153\n"
     ]
    },
    {
     "name": "stderr",
     "output_type": "stream",
     "text": [
      "\u001b[32m[I 2023-02-13 12:19:26,545]\u001b[0m Trial 11 finished with value: 38.238934262691025 and parameters: {'n layers': 6, 'Hidden size': 8, 'Learning rate': 0.0004750912287906401, 'Dropout rate': 0.20180978029425836, 'Epochs': 150}. Best is trial 42 with value: 17.702739193701714.\u001b[0m\n"
     ]
    },
    {
     "name": "stdout",
     "output_type": "stream",
     "text": [
      "Epoch: 388/390 - train_loss: 0.3981 - test_loss: 0.413976\n",
      "Epoch: 389/390 - train_loss: 0.4137 - test_loss: 0.410477\n"
     ]
    },
    {
     "name": "stderr",
     "output_type": "stream",
     "text": [
      "\u001b[32m[I 2023-02-13 12:19:33,956]\u001b[0m Trial 6 finished with value: 39.580952561396224 and parameters: {'n layers': 3, 'Hidden size': 149, 'Learning rate': 0.0002719610786358103, 'Dropout rate': 0.394836607997229, 'Epochs': 410}. Best is trial 42 with value: 17.702739193701714.\u001b[0m\n",
      "\u001b[32m[I 2023-02-13 12:19:33,992]\u001b[0m A new study created in memory with name: no-name-17d788e8-9674-45c0-9ac1-0a8d8e237202\u001b[0m\n"
     ]
    },
    {
     "name": "stdout",
     "output_type": "stream",
     "text": [
      "Study statistics for : \n",
      "  Number of finished trials:  50\n",
      "Best trial of city:  Hà Tĩnh\n",
      "  Value:  17.702739193701714\n",
      "optimize result of city: Hà Tĩnh\n",
      "lookback 3\n",
      "lookback 3\n",
      "lookback 3\n",
      "lookback 3\n",
      "lookback 3\n",
      "lookback 3\n",
      "lookback 3\n",
      "lookback 3\n",
      "lookback 3\n",
      "lookback 3\n",
      "lookback 3\n",
      "lookback 3\n",
      "lookback 3\n",
      "lookback 3\n",
      "lookback 3\n",
      "lookback 3\n",
      "lookback 3\n",
      "lookback 3\n",
      "lookback 3\n",
      "lookback 3\n",
      "Epoch:  0/110 - train_loss: 1.3676 - test_loss: 1.404809\n",
      "Epoch:  0/110 - train_loss: 1.0547 - test_loss: 0.856750\n",
      "Epoch:  0/110 - train_loss: 1.1875 - test_loss: 1.365872\n",
      "Epoch:  0/110 - train_loss: 1.2502 - test_loss: 1.622392\n",
      "Epoch:  0/110 - train_loss: 1.7183 - test_loss: 2.091387\n",
      "Epoch:  0/110 - train_loss: 1.5840 - test_loss: 1.654061\n",
      "Epoch:  0/110 - train_loss: 1.0208 - test_loss: 0.596191\n",
      "Epoch:  0/110 - train_loss: 1.0714 - test_loss: 0.831646\n",
      "Epoch:  0/110 - train_loss: 1.4815 - test_loss: 1.209648\n",
      "Epoch:  0/110 - train_loss: 1.5835 - test_loss: 1.852067\n",
      "Epoch:  0/110 - train_loss: 1.2728 - test_loss: 1.112813\n",
      "Epoch:  0/110 - train_loss: 0.9904 - test_loss: 0.949658\n",
      "Epoch:  0/110 - train_loss: 1.3927 - test_loss: 1.385505\n",
      "Epoch:  0/110 - train_loss: 1.4883 - test_loss: 1.645589\n",
      "Epoch:  0/110 - train_loss: 1.2500 - test_loss: 0.957139\n",
      "Epoch:  0/110 - train_loss: 0.8427 - test_loss: 0.611205\n",
      "Epoch:  0/110 - train_loss: 1.5966 - test_loss: 2.336237\n",
      "Epoch:  0/110 - train_loss: 1.3052 - test_loss: 1.146985\n",
      "Epoch:  0/110 - train_loss: 1.0463 - test_loss: 0.947468Epoch:  0/110 - train_loss: 0.7653 - test_loss: 0.594999\n",
      "\n",
      "Epoch: 27/110 - train_loss: 0.6680 - test_loss: 0.592158\n",
      "Epoch: 27/110 - train_loss: 0.3293 - test_loss: 0.285861\n",
      "Epoch: 27/110 - train_loss: 0.2763 - test_loss: 0.208517\n",
      "Epoch: 27/110 - train_loss: 0.5221 - test_loss: 0.416860\n",
      "Epoch: 54/110 - train_loss: 0.5118 - test_loss: 0.468465\n",
      "Epoch: 54/110 - train_loss: 0.2313 - test_loss: 0.179478\n",
      "Epoch: 27/110 - train_loss: 0.2434 - test_loss: 0.157196\n",
      "Epoch: 54/110 - train_loss: 0.2366 - test_loss: 0.178795\n",
      "Epoch: 54/110 - train_loss: 0.3012 - test_loss: 0.247705\n",
      "Epoch: 81/110 - train_loss: 0.4168 - test_loss: 0.379509\n",
      "Epoch: 81/110 - train_loss: 0.2289 - test_loss: 0.158540\n",
      "Epoch: 54/110 - train_loss: 0.2703 - test_loss: 0.169294\n",
      "Epoch: 81/110 - train_loss: 0.2280 - test_loss: 0.178711\n",
      "Epoch: 108/110 - train_loss: 0.3616 - test_loss: 0.311018\n",
      "Epoch: 109/110 - train_loss: 0.3549 - test_loss: 0.310180\n",
      "Epoch: 81/110 - train_loss: 0.2596 - test_loss: 0.185822\n"
     ]
    },
    {
     "name": "stderr",
     "output_type": "stream",
     "text": [
      "\u001b[32m[I 2023-02-13 12:35:46,531]\u001b[0m Trial 0 finished with value: 13.290822398548016 and parameters: {'n layers': 4, 'Hidden size': 49, 'Learning rate': 0.00026834545302542313, 'Dropout rate': 0.13092365220160998, 'Epochs': 250}. Best is trial 0 with value: 13.290822398548016.\u001b[0m\n"
     ]
    },
    {
     "name": "stdout",
     "output_type": "stream",
     "text": [
      "lookback 3\n",
      "Epoch: 108/110 - train_loss: 0.2403 - test_loss: 0.159247\n",
      "Epoch: 109/110 - train_loss: 0.2365 - test_loss: 0.165528\n"
     ]
    },
    {
     "name": "stderr",
     "output_type": "stream",
     "text": [
      "\u001b[32m[I 2023-02-13 12:35:52,517]\u001b[0m Trial 7 finished with value: 11.133190336387393 and parameters: {'n layers': 6, 'Hidden size': 7, 'Learning rate': 0.0011752755048691328, 'Dropout rate': 0.7038922984761775, 'Epochs': 500}. Best is trial 7 with value: 11.133190336387393.\u001b[0m\n"
     ]
    },
    {
     "name": "stdout",
     "output_type": "stream",
     "text": [
      "lookback 3\n",
      "Epoch: 81/110 - train_loss: 0.2310 - test_loss: 0.168755\n",
      "Epoch: 108/110 - train_loss: 0.2349 - test_loss: 0.163608\n",
      "Epoch: 109/110 - train_loss: 0.2308 - test_loss: 0.159688\n"
     ]
    },
    {
     "name": "stderr",
     "output_type": "stream",
     "text": [
      "\u001b[32m[I 2023-02-13 12:36:51,984]\u001b[0m Trial 12 finished with value: 10.174326744361743 and parameters: {'n layers': 3, 'Hidden size': 91, 'Learning rate': 0.001498904991231598, 'Dropout rate': 0.7766790025249072, 'Epochs': 180}. Best is trial 12 with value: 10.174326744361743.\u001b[0m\n"
     ]
    },
    {
     "name": "stdout",
     "output_type": "stream",
     "text": [
      "lookback 3\n",
      "Epoch: 108/110 - train_loss: 0.2304 - test_loss: 0.177979\n",
      "Epoch: 109/110 - train_loss: 0.2390 - test_loss: 0.175144\n"
     ]
    },
    {
     "name": "stderr",
     "output_type": "stream",
     "text": [
      "\u001b[32m[I 2023-02-13 12:37:11,034]\u001b[0m Trial 9 finished with value: 12.824970486495838 and parameters: {'n layers': 3, 'Hidden size': 78, 'Learning rate': 0.0006242746499594058, 'Dropout rate': 0.7978487054733949, 'Epochs': 410}. Best is trial 12 with value: 10.174326744361743.\u001b[0m\n"
     ]
    },
    {
     "name": "stdout",
     "output_type": "stream",
     "text": [
      "Epoch: 27/110 - train_loss: 0.6985 - test_loss: 0.631652\n",
      "lookback 3\n",
      "Epoch: 27/110 - train_loss: 0.4119 - test_loss: 0.344976\n",
      "Epoch:  0/200 - train_loss: 0.9796 - test_loss: 0.642684\n",
      "Epoch:  0/200 - train_loss: 1.3328 - test_loss: 1.082952\n",
      "Epoch: 108/110 - train_loss: 0.2413 - test_loss: 0.175123\n",
      "Epoch: 109/110 - train_loss: 0.2804 - test_loss: 0.154941\n"
     ]
    },
    {
     "name": "stderr",
     "output_type": "stream",
     "text": [
      "\u001b[32m[I 2023-02-13 12:38:46,880]\u001b[0m Trial 8 finished with value: 7.590002148221843 and parameters: {'n layers': 5, 'Hidden size': 340, 'Learning rate': 0.00924657389664786, 'Dropout rate': 0.09669150102449102, 'Epochs': 210}. Best is trial 8 with value: 7.590002148221843.\u001b[0m\n"
     ]
    },
    {
     "name": "stdout",
     "output_type": "stream",
     "text": [
      "lookback 3\n",
      "Epoch: 27/110 - train_loss: 0.2620 - test_loss: 0.208840\n",
      "Epoch: 27/110 - train_loss: 0.2561 - test_loss: 0.152898\n",
      "Epoch: 27/110 - train_loss: 0.3494 - test_loss: 0.261688\n",
      "Epoch: 27/110 - train_loss: 0.2952 - test_loss: 0.263568\n",
      "Epoch: 27/110 - train_loss: 0.9230 - test_loss: 0.790287\n",
      "Epoch: 27/110 - train_loss: 0.4707 - test_loss: 0.430295Epoch: 27/110 - train_loss: 0.3140 - test_loss: 0.256053\n",
      "\n",
      "Epoch: 27/110 - train_loss: 0.2644 - test_loss: 0.218367\n",
      "Epoch: 27/110 - train_loss: 0.5311 - test_loss: 0.418866\n",
      "Epoch: 54/110 - train_loss: 0.5782 - test_loss: 0.511789\n",
      "Epoch:  0/320 - train_loss: 1.1280 - test_loss: 0.873089\n",
      "Epoch: 54/110 - train_loss: 0.2584 - test_loss: 0.200974\n",
      "Epoch:  0/320 - train_loss: 1.2641 - test_loss: 1.089869\n",
      "Epoch: 27/110 - train_loss: 0.2380 - test_loss: 0.163824\n",
      "Epoch: 27/110 - train_loss: 0.6298 - test_loss: 0.543545\n",
      "Epoch: 27/110 - train_loss: 0.3376 - test_loss: 0.288270\n",
      "Epoch: 27/110 - train_loss: 0.6958 - test_loss: 0.591905\n",
      "Epoch:  0/320 - train_loss: 1.4216 - test_loss: 0.984216\n",
      "Epoch: 81/110 - train_loss: 0.4835 - test_loss: 0.438961\n",
      "Epoch: 50/200 - train_loss: 0.2285 - test_loss: 0.159082\n",
      "Epoch: 50/200 - train_loss: 0.2370 - test_loss: 0.160037\n",
      "Epoch: 81/110 - train_loss: 0.2466 - test_loss: 0.189809\n",
      "Epoch: 108/110 - train_loss: 0.4153 - test_loss: 0.375058\n",
      "Epoch: 109/110 - train_loss: 0.4129 - test_loss: 0.373575\n"
     ]
    },
    {
     "name": "stderr",
     "output_type": "stream",
     "text": [
      "\u001b[32m[I 2023-02-13 12:41:24,669]\u001b[0m Trial 17 finished with value: 11.042090678231347 and parameters: {'n layers': 4, 'Hidden size': 7, 'Learning rate': 0.0001949884647149417, 'Dropout rate': 0.7811973541135062, 'Epochs': 460}. Best is trial 8 with value: 7.590002148221843.\u001b[0m\n"
     ]
    },
    {
     "name": "stdout",
     "output_type": "stream",
     "text": [
      "lookback 3\n",
      "Epoch: 100/200 - train_loss: 0.2549 - test_loss: 0.168640\n",
      "Epoch: 100/200 - train_loss: 0.2315 - test_loss: 0.178984\n",
      "Epoch: 80/320 - train_loss: 0.2283 - test_loss: 0.171070\n",
      "Epoch: 80/320 - train_loss: 0.3671 - test_loss: 0.325474\n",
      "Epoch: 108/110 - train_loss: 0.2478 - test_loss: 0.174069\n",
      "Epoch: 109/110 - train_loss: 0.2299 - test_loss: 0.184394\n"
     ]
    },
    {
     "name": "stderr",
     "output_type": "stream",
     "text": [
      "\u001b[32m[I 2023-02-13 12:42:19,148]\u001b[0m Trial 3 finished with value: 11.218400653136891 and parameters: {'n layers': 3, 'Hidden size': 179, 'Learning rate': 0.0009572528133244573, 'Dropout rate': 0.29132528476737224, 'Epochs': 350}. Best is trial 8 with value: 7.590002148221843.\u001b[0m\n"
     ]
    },
    {
     "name": "stdout",
     "output_type": "stream",
     "text": [
      "lookback 3\n",
      "Epoch:  0/340 - train_loss: 1.1379 - test_loss: 0.643347\n",
      "Epoch: 80/320 - train_loss: 0.2545 - test_loss: 0.165249\n",
      "Epoch: 150/200 - train_loss: 0.2372 - test_loss: 0.169082\n",
      "Epoch: 54/110 - train_loss: 0.2306 - test_loss: 0.166590\n",
      "Epoch: 150/200 - train_loss: 0.2298 - test_loss: 0.161675\n",
      "Epoch:  0/340 - train_loss: 1.2593 - test_loss: 0.894218\n",
      "Epoch: 160/320 - train_loss: 0.2372 - test_loss: 0.156581\n",
      "Epoch: 199/200 - train_loss: 0.2359 - test_loss: 0.178927\n"
     ]
    },
    {
     "name": "stderr",
     "output_type": "stream",
     "text": [
      "\u001b[32m[I 2023-02-13 12:44:40,197]\u001b[0m Trial 20 finished with value: 13.277815188440208 and parameters: {'n layers': 6, 'Hidden size': 6, 'Learning rate': 0.006172653927888396, 'Dropout rate': 0.5066113433249805, 'Epochs': 240}. Best is trial 8 with value: 7.590002148221843.\u001b[0m\n"
     ]
    },
    {
     "name": "stdout",
     "output_type": "stream",
     "text": [
      "lookback 3\n",
      "Epoch: 160/320 - train_loss: 0.2532 - test_loss: 0.187530\n",
      "Epoch: 199/200 - train_loss: 0.2345 - test_loss: 0.157835\n"
     ]
    },
    {
     "name": "stderr",
     "output_type": "stream",
     "text": [
      "\u001b[32m[I 2023-02-13 12:44:54,144]\u001b[0m Trial 21 finished with value: 10.576048758547797 and parameters: {'n layers': 6, 'Hidden size': 156, 'Learning rate': 0.0030672870809455963, 'Dropout rate': 0.4464710133614522, 'Epochs': 420}. Best is trial 8 with value: 7.590002148221843.\u001b[0m\n"
     ]
    },
    {
     "name": "stdout",
     "output_type": "stream",
     "text": [
      "lookback 3\n",
      "Epoch: 81/110 - train_loss: 0.2295 - test_loss: 0.166438\n",
      "Epoch: 54/110 - train_loss: 0.2320 - test_loss: 0.197313\n",
      "Epoch: 54/110 - train_loss: 0.2561 - test_loss: 0.146454\n",
      "Epoch: 54/110 - train_loss: 0.3178 - test_loss: 0.268305\n",
      "Epoch: 54/110 - train_loss: 0.2562 - test_loss: 0.184472\n",
      "Epoch: 54/110 - train_loss: 0.2299 - test_loss: 0.188004\n",
      "Epoch: 54/110 - train_loss: 0.2379 - test_loss: 0.168881\n",
      "Epoch: 54/110 - train_loss: 0.7051 - test_loss: 0.599861\n",
      "Epoch: 54/110 - train_loss: 0.3060 - test_loss: 0.237353\n",
      "Epoch: 160/320 - train_loss: 0.2330 - test_loss: 0.154476\n",
      "Epoch: 85/340 - train_loss: 0.2516 - test_loss: 0.161603\n",
      "Epoch:  0/110 - train_loss: 1.0914 - test_loss: 0.887414\n",
      "Epoch: 108/110 - train_loss: 0.2296 - test_loss: 0.159600\n",
      "Epoch: 109/110 - train_loss: 0.2239 - test_loss: 0.173346\n"
     ]
    },
    {
     "name": "stderr",
     "output_type": "stream",
     "text": [
      "\u001b[32m[I 2023-02-13 12:47:05,692]\u001b[0m Trial 1 finished with value: 11.432999346552576 and parameters: {'n layers': 5, 'Hidden size': 18, 'Learning rate': 0.001532661254609736, 'Dropout rate': 0.10154581900360274, 'Epochs': 200}. Best is trial 8 with value: 7.590002148221843.\u001b[0m\n"
     ]
    },
    {
     "name": "stdout",
     "output_type": "stream",
     "text": [
      "lookback 3\n",
      "Epoch:  0/120 - train_loss: 1.0878 - test_loss: 1.023143\n",
      "Epoch: 240/320 - train_loss: 0.2289 - test_loss: 0.186751\n",
      "Epoch: 27/110 - train_loss: 0.5555 - test_loss: 0.502083\n",
      "Epoch: 85/340 - train_loss: 0.2439 - test_loss: 0.168357\n",
      "Epoch: 30/120 - train_loss: 0.6441 - test_loss: 0.601498\n",
      "Epoch: 240/320 - train_loss: 0.2285 - test_loss: 0.174874\n",
      "Epoch: 81/110 - train_loss: 0.2391 - test_loss: 0.160350\n",
      "Epoch:  0/120 - train_loss: 0.8666 - test_loss: 0.585807\n",
      "Epoch: 54/110 - train_loss: 0.3840 - test_loss: 0.335443\n",
      "Epoch: 60/120 - train_loss: 0.4942 - test_loss: 0.457643\n",
      "Epoch: 240/320 - train_loss: 0.2323 - test_loss: 0.155734\n",
      "Epoch: 81/110 - train_loss: 0.2981 - test_loss: 0.246317\n",
      "Epoch: 90/120 - train_loss: 0.3913 - test_loss: 0.363429\n",
      "Epoch: 170/340 - train_loss: 0.2303 - test_loss: 0.168053\n",
      "Epoch: 319/320 - train_loss: 0.2439 - test_loss: 0.160020\n"
     ]
    },
    {
     "name": "stderr",
     "output_type": "stream",
     "text": [
      "\u001b[32m[I 2023-02-13 12:50:09,425]\u001b[0m Trial 22 finished with value: 9.839595155890644 and parameters: {'n layers': 3, 'Hidden size': 112, 'Learning rate': 0.0014073135632012045, 'Dropout rate': 0.11406354946993547, 'Epochs': 300}. Best is trial 8 with value: 7.590002148221843.\u001b[0m\n"
     ]
    },
    {
     "name": "stdout",
     "output_type": "stream",
     "text": [
      "lookback 3\n",
      "Epoch: 108/110 - train_loss: 0.2509 - test_loss: 0.194130\n",
      "Epoch: 109/110 - train_loss: 0.2903 - test_loss: 0.201386\n"
     ]
    },
    {
     "name": "stderr",
     "output_type": "stream",
     "text": [
      "\u001b[32m[I 2023-02-13 12:50:19,068]\u001b[0m Trial 27 finished with value: 10.96219866753483 and parameters: {'n layers': 4, 'Hidden size': 101, 'Learning rate': 0.0004612259465265989, 'Dropout rate': 0.1128123962186973, 'Epochs': 190}. Best is trial 8 with value: 7.590002148221843.\u001b[0m\n"
     ]
    },
    {
     "name": "stdout",
     "output_type": "stream",
     "text": [
      "Epoch: 30/120 - train_loss: 0.2380 - test_loss: 0.178372\n",
      "lookback 3\n",
      "Epoch: 108/110 - train_loss: 0.2301 - test_loss: 0.179131\n",
      "Epoch: 109/110 - train_loss: 0.2475 - test_loss: 0.157382\n"
     ]
    },
    {
     "name": "stderr",
     "output_type": "stream",
     "text": [
      "\u001b[32m[I 2023-02-13 12:50:55,818]\u001b[0m Trial 2 finished with value: 11.088002714874406 and parameters: {'n layers': 6, 'Hidden size': 6, 'Learning rate': 0.0014517350886645152, 'Dropout rate': 0.2941560543659524, 'Epochs': 260}. Best is trial 8 with value: 7.590002148221843.\u001b[0m\n"
     ]
    },
    {
     "name": "stdout",
     "output_type": "stream",
     "text": [
      "lookback 3\n",
      "Epoch: 319/320 - train_loss: 0.2278 - test_loss: 0.162387\n",
      "Epoch: 81/110 - train_loss: 0.2480 - test_loss: 0.173800\n",
      "Epoch: 81/110 - train_loss: 0.5761 - test_loss: 0.501074\n",
      "Epoch: 81/110 - train_loss: 0.2414 - test_loss: 0.183771\n"
     ]
    },
    {
     "name": "stderr",
     "output_type": "stream",
     "text": [
      "\u001b[32m[I 2023-02-13 12:51:20,755]\u001b[0m Trial 23 finished with value: 11.658466096462831 and parameters: {'n layers': 5, 'Hidden size': 50, 'Learning rate': 0.00034878228972579745, 'Dropout rate': 0.3439519466471503, 'Epochs': 200}. Best is trial 8 with value: 7.590002148221843.\u001b[0m\n"
     ]
    },
    {
     "name": "stdout",
     "output_type": "stream",
     "text": [
      "lookback 3\n",
      "Epoch: 119/120 - train_loss: 0.3236 - test_loss: 0.290215\n"
     ]
    },
    {
     "name": "stderr",
     "output_type": "stream",
     "text": [
      "\u001b[32m[I 2023-02-13 12:51:33,090]\u001b[0m Trial 28 finished with value: 12.711170262505595 and parameters: {'n layers': 3, 'Hidden size': 179, 'Learning rate': 0.0002659972878858091, 'Dropout rate': 0.18474467085830187, 'Epochs': 110}. Best is trial 8 with value: 7.590002148221843.\u001b[0m\n"
     ]
    },
    {
     "name": "stdout",
     "output_type": "stream",
     "text": [
      "lookback 3\n",
      "Epoch: 60/120 - train_loss: 0.2369 - test_loss: 0.186707\n",
      "Epoch: 170/340 - train_loss: 0.2256 - test_loss: 0.160925\n",
      "Epoch:  0/320 - train_loss: 0.8598 - test_loss: 0.607518\n",
      "Epoch: 81/110 - train_loss: 0.2419 - test_loss: 0.196590\n",
      "Epoch: 81/110 - train_loss: 0.2475 - test_loss: 0.167666\n",
      "Epoch: 81/110 - train_loss: 0.2372 - test_loss: 0.170327\n",
      "Epoch: 81/110 - train_loss: 0.2382 - test_loss: 0.156418\n",
      "Epoch:  0/320 - train_loss: 0.8854 - test_loss: 0.555771\n",
      "Epoch: 319/320 - train_loss: 0.2925 - test_loss: 0.166028\n",
      "Epoch:  0/320 - train_loss: 1.0454 - test_loss: 0.706324\n"
     ]
    },
    {
     "name": "stderr",
     "output_type": "stream",
     "text": [
      "\u001b[32m[I 2023-02-13 12:54:53,063]\u001b[0m Trial 24 finished with value: 9.061376332663352 and parameters: {'n layers': 5, 'Hidden size': 137, 'Learning rate': 0.0029811558045639707, 'Dropout rate': 0.18241691299010276, 'Epochs': 320}. Best is trial 8 with value: 7.590002148221843.\u001b[0m\n"
     ]
    },
    {
     "name": "stdout",
     "output_type": "stream",
     "text": [
      "lookback 3\n",
      "Epoch:  0/340 - train_loss: 1.0637 - test_loss: 0.740517\n",
      "Epoch:  0/340 - train_loss: 1.0560 - test_loss: 0.666336\n",
      "Epoch: 108/110 - train_loss: 0.2302 - test_loss: 0.180126\n",
      "Epoch: 108/110 - train_loss: 0.2511 - test_loss: 0.180318\n",
      "Epoch: 108/110 - train_loss: 0.5056 - test_loss: 0.437994\n",
      "Epoch: 109/110 - train_loss: 0.2259 - test_loss: 0.193303\n",
      "Epoch: 109/110 - train_loss: 0.2292 - test_loss: 0.176784\n",
      "Epoch: 109/110 - train_loss: 0.5075 - test_loss: 0.435360\n"
     ]
    },
    {
     "name": "stderr",
     "output_type": "stream",
     "text": [
      "\u001b[32m[I 2023-02-13 12:55:38,223]\u001b[0m Trial 19 finished with value: 11.653097219054644 and parameters: {'n layers': 5, 'Hidden size': 265, 'Learning rate': 0.001339796447560291, 'Dropout rate': 0.3985372856604275, 'Epochs': 110}. Best is trial 8 with value: 7.590002148221843.\u001b[0m\n",
      "\u001b[32m[I 2023-02-13 12:55:38,667]\u001b[0m Trial 4 finished with value: 12.15847117311742 and parameters: {'n layers': 5, 'Hidden size': 69, 'Learning rate': 0.00015550272685306771, 'Dropout rate': 0.36061795760524074, 'Epochs': 150}. Best is trial 8 with value: 7.590002148221843.\u001b[0m\n",
      "\u001b[32m[I 2023-02-13 12:55:38,750]\u001b[0m Trial 16 finished with value: 13.670925264501536 and parameters: {'n layers': 5, 'Hidden size': 35, 'Learning rate': 0.0007195052336417514, 'Dropout rate': 0.04816247027022626, 'Epochs': 120}. Best is trial 8 with value: 7.590002148221843.\u001b[0m\n"
     ]
    },
    {
     "name": "stdout",
     "output_type": "stream",
     "text": [
      "lookback 3\n",
      "lookback 3\n",
      "lookback 3\n",
      "Epoch: 90/120 - train_loss: 0.2814 - test_loss: 0.172993\n",
      "Epoch: 54/110 - train_loss: 0.2505 - test_loss: 0.194566\n",
      "Epoch: 54/110 - train_loss: 0.2475 - test_loss: 0.163626\n",
      "Epoch: 255/340 - train_loss: 0.2274 - test_loss: 0.165247\n",
      "Epoch:  0/320 - train_loss: 1.0294 - test_loss: 0.650074\n",
      "Epoch: 119/120 - train_loss: 0.2508 - test_loss: 0.163838\n"
     ]
    },
    {
     "name": "stderr",
     "output_type": "stream",
     "text": [
      "\u001b[32m[I 2023-02-13 12:58:50,488]\u001b[0m Trial 29 finished with value: 7.959371911473273 and parameters: {'n layers': 5, 'Hidden size': 277, 'Learning rate': 0.008578444430914765, 'Dropout rate': 0.013028463612552693, 'Epochs': 120}. Best is trial 8 with value: 7.590002148221843.\u001b[0m\n"
     ]
    },
    {
     "name": "stdout",
     "output_type": "stream",
     "text": [
      "lookback 3\n",
      "Epoch:  0/320 - train_loss: 0.9350 - test_loss: 0.651054\n",
      "Epoch:  0/320 - train_loss: 0.8927 - test_loss: 0.668596\n",
      "Epoch:  0/160 - train_loss: 0.9360 - test_loss: 0.653789\n",
      "Epoch: 80/320 - train_loss: 0.2517 - test_loss: 0.189260\n",
      "Epoch: 80/320 - train_loss: 0.2289 - test_loss: 0.164844\n",
      "Epoch: 255/340 - train_loss: 0.2313 - test_loss: 0.165430\n",
      "Epoch:  0/160 - train_loss: 0.9999 - test_loss: 0.570466\n",
      "Epoch: 85/340 - train_loss: 0.2288 - test_loss: 0.158172\n",
      "Epoch: 85/340 - train_loss: 0.2378 - test_loss: 0.149876\n",
      "Epoch: 339/340 - train_loss: 0.2308 - test_loss: 0.172034\n"
     ]
    },
    {
     "name": "stderr",
     "output_type": "stream",
     "text": [
      "\u001b[32m[I 2023-02-13 13:00:46,810]\u001b[0m Trial 25 finished with value: 6.7724517256909875 and parameters: {'n layers': 4, 'Hidden size': 16, 'Learning rate': 0.009003410951397013, 'Dropout rate': 0.7816492467493023, 'Epochs': 200}. Best is trial 25 with value: 6.7724517256909875.\u001b[0m\n"
     ]
    },
    {
     "name": "stdout",
     "output_type": "stream",
     "text": [
      "lookback 3\n",
      "Epoch: 80/320 - train_loss: 0.2472 - test_loss: 0.151300\n",
      "Epoch: 80/320 - train_loss: 0.2358 - test_loss: 0.176339\n",
      "Epoch: 160/320 - train_loss: 0.2338 - test_loss: 0.157132\n",
      "Epoch: 160/320 - train_loss: 0.2303 - test_loss: 0.174534\n",
      "Epoch: 40/160 - train_loss: 0.2383 - test_loss: 0.160011\n",
      "Epoch:  0/160 - train_loss: 1.0331 - test_loss: 0.637737\n",
      "Epoch: 170/340 - train_loss: 0.2245 - test_loss: 0.173726\n",
      "Epoch: 170/340 - train_loss: 0.2283 - test_loss: 0.177229\n",
      "Epoch: 339/340 - train_loss: 0.2256 - test_loss: 0.165462\n"
     ]
    },
    {
     "name": "stderr",
     "output_type": "stream",
     "text": [
      "\u001b[32m[I 2023-02-13 13:02:54,434]\u001b[0m Trial 26 finished with value: 6.867227872413248 and parameters: {'n layers': 6, 'Hidden size': 152, 'Learning rate': 0.003957971661985748, 'Dropout rate': 0.1598978181867952, 'Epochs': 340}. Best is trial 25 with value: 6.7724517256909875.\u001b[0m\n"
     ]
    },
    {
     "name": "stdout",
     "output_type": "stream",
     "text": [
      "lookback 3\n",
      "Epoch: 40/160 - train_loss: 0.2277 - test_loss: 0.192678\n",
      "Epoch: 80/160 - train_loss: 0.2774 - test_loss: 0.156599\n",
      "Epoch: 160/320 - train_loss: 0.2497 - test_loss: 0.168949\n",
      "Epoch: 240/320 - train_loss: 0.2324 - test_loss: 0.171142\n",
      "Epoch: 240/320 - train_loss: 0.2471 - test_loss: 0.179867\n",
      "Epoch:  0/350 - train_loss: 1.2071 - test_loss: 0.783214\n",
      "Epoch: 80/160 - train_loss: 0.2775 - test_loss: 0.194271\n",
      "Epoch: 255/340 - train_loss: 0.2505 - test_loss: 0.170988\n",
      "Epoch: 255/340 - train_loss: 0.2418 - test_loss: 0.173372\n",
      "Epoch: 120/160 - train_loss: 0.2365 - test_loss: 0.181945\n",
      "Epoch: 319/320 - train_loss: 0.2358 - test_loss: 0.170373\n"
     ]
    },
    {
     "name": "stderr",
     "output_type": "stream",
     "text": [
      "\u001b[32m[I 2023-02-13 13:06:03,163]\u001b[0m Trial 30 finished with value: 9.095899638654522 and parameters: {'n layers': 5, 'Hidden size': 339, 'Learning rate': 0.009632568607671912, 'Dropout rate': 0.22874371509242475, 'Epochs': 320}. Best is trial 25 with value: 6.7724517256909875.\u001b[0m\n"
     ]
    },
    {
     "name": "stdout",
     "output_type": "stream",
     "text": [
      "lookback 3\n",
      "Epoch: 240/320 - train_loss: 0.2257 - test_loss: 0.166884\n",
      "Epoch: 120/160 - train_loss: 0.2470 - test_loss: 0.172860\n",
      "Epoch: 319/320 - train_loss: 0.2480 - test_loss: 0.186310\n"
     ]
    },
    {
     "name": "stderr",
     "output_type": "stream",
     "text": [
      "\u001b[32m[I 2023-02-13 13:06:18,612]\u001b[0m Trial 31 finished with value: 7.881550715030012 and parameters: {'n layers': 5, 'Hidden size': 364, 'Learning rate': 0.00941506599178398, 'Dropout rate': 0.2622977204752276, 'Epochs': 310}. Best is trial 25 with value: 6.7724517256909875.\u001b[0m\n"
     ]
    },
    {
     "name": "stdout",
     "output_type": "stream",
     "text": [
      "lookback 3\n",
      "Epoch: 160/320 - train_loss: 0.2345 - test_loss: 0.173010\n",
      "Epoch: 80/320 - train_loss: 0.2377 - test_loss: 0.166628\n",
      "Epoch: 159/160 - train_loss: 0.2292 - test_loss: 0.163641\n"
     ]
    },
    {
     "name": "stderr",
     "output_type": "stream",
     "text": [
      "\u001b[32m[I 2023-02-13 13:08:08,196]\u001b[0m Trial 39 finished with value: 7.585136252337257 and parameters: {'n layers': 4, 'Hidden size': 368, 'Learning rate': 0.008645713020667967, 'Dropout rate': 0.028608983934534093, 'Epochs': 160}. Best is trial 25 with value: 6.7724517256909875.\u001b[0m\n"
     ]
    },
    {
     "name": "stdout",
     "output_type": "stream",
     "text": [
      "lookback 3\n",
      "Epoch:  0/370 - train_loss: 1.0648 - test_loss: 0.789737\n",
      "Epoch: 87/350 - train_loss: 0.2538 - test_loss: 0.185266\n",
      "Epoch: 159/160 - train_loss: 0.2328 - test_loss: 0.160700\n"
     ]
    },
    {
     "name": "stderr",
     "output_type": "stream",
     "text": [
      "\u001b[32m[I 2023-02-13 13:08:51,886]\u001b[0m Trial 40 finished with value: 7.178421745405815 and parameters: {'n layers': 4, 'Hidden size': 356, 'Learning rate': 0.009826816527454223, 'Dropout rate': 0.01440754638448187, 'Epochs': 160}. Best is trial 25 with value: 6.7724517256909875.\u001b[0m\n"
     ]
    },
    {
     "name": "stdout",
     "output_type": "stream",
     "text": [
      "lookback 3\n",
      "Epoch:  0/370 - train_loss: 0.9678 - test_loss: 0.660453\n",
      "Epoch: 339/340 - train_loss: 0.2856 - test_loss: 0.155741\n"
     ]
    },
    {
     "name": "stderr",
     "output_type": "stream",
     "text": [
      "\u001b[32m[I 2023-02-13 13:09:05,174]\u001b[0m Trial 34 finished with value: 8.424667559223996 and parameters: {'n layers': 5, 'Hidden size': 347, 'Learning rate': 0.00966041070417857, 'Dropout rate': 0.019448990656352, 'Epochs': 320}. Best is trial 25 with value: 6.7724517256909875.\u001b[0m\n"
     ]
    },
    {
     "name": "stdout",
     "output_type": "stream",
     "text": [
      "lookback 3\n",
      "Epoch: 339/340 - train_loss: 0.2515 - test_loss: 0.168061\n"
     ]
    },
    {
     "name": "stderr",
     "output_type": "stream",
     "text": [
      "\u001b[32m[I 2023-02-13 13:09:43,803]\u001b[0m Trial 33 finished with value: 7.798074637233689 and parameters: {'n layers': 5, 'Hidden size': 308, 'Learning rate': 0.004668384994994797, 'Dropout rate': 0.019943305416132, 'Epochs': 110}. Best is trial 25 with value: 6.7724517256909875.\u001b[0m\n"
     ]
    },
    {
     "name": "stdout",
     "output_type": "stream",
     "text": [
      "lookback 3\n",
      "Epoch: 108/110 - train_loss: 0.2430 - test_loss: 0.155031\n",
      "Epoch: 40/160 - train_loss: 0.2316 - test_loss: 0.194106\n",
      "Epoch: 109/110 - train_loss: 0.2278 - test_loss: 0.158344\n"
     ]
    },
    {
     "name": "stderr",
     "output_type": "stream",
     "text": [
      "\u001b[32m[I 2023-02-13 13:10:09,016]\u001b[0m Trial 18 finished with value: 8.025117192380607 and parameters: {'n layers': 4, 'Hidden size': 49, 'Learning rate': 0.008926416097901227, 'Dropout rate': 0.3059511426813363, 'Epochs': 320}. Best is trial 25 with value: 6.7724517256909875.\u001b[0m\n"
     ]
    },
    {
     "name": "stdout",
     "output_type": "stream",
     "text": [
      "lookback 3\n",
      "Epoch: 80/320 - train_loss: 0.2268 - test_loss: 0.172293\n",
      "Epoch: 108/110 - train_loss: 0.2319 - test_loss: 0.148536\n",
      "Epoch: 108/110 - train_loss: 0.2322 - test_loss: 0.173931\n",
      "Epoch: 108/110 - train_loss: 0.2436 - test_loss: 0.176527\n",
      "Epoch: 109/110 - train_loss: 0.2332 - test_loss: 0.154766\n",
      "Epoch: 109/110 - train_loss: 0.2343 - test_loss: 0.162593\n",
      "Epoch: 109/110 - train_loss: 0.2449 - test_loss: 0.167193\n"
     ]
    },
    {
     "name": "stderr",
     "output_type": "stream",
     "text": [
      "\u001b[32m[I 2023-02-13 13:12:01,501]\u001b[0m Trial 15 finished with value: 10.152117676188043 and parameters: {'n layers': 5, 'Hidden size': 92, 'Learning rate': 0.0006555045845320434, 'Dropout rate': 0.6074534529716221, 'Epochs': 350}. Best is trial 25 with value: 6.7724517256909875.\u001b[0m\n",
      "\u001b[32m[I 2023-02-13 13:12:01,519]\u001b[0m Trial 11 finished with value: 8.008479684657315 and parameters: {'n layers': 6, 'Hidden size': 53, 'Learning rate': 0.0017419112949914127, 'Dropout rate': 0.1636458750423844, 'Epochs': 170}. Best is trial 25 with value: 6.7724517256909875.\u001b[0m\n",
      "\u001b[32m[I 2023-02-13 13:12:01,586]\u001b[0m Trial 10 finished with value: 9.672941009527902 and parameters: {'n layers': 6, 'Hidden size': 30, 'Learning rate': 0.001329019040081323, 'Dropout rate': 0.585459009481825, 'Epochs': 220}. Best is trial 25 with value: 6.7724517256909875.\u001b[0m\n"
     ]
    },
    {
     "name": "stdout",
     "output_type": "stream",
     "text": [
      "lookback 3\n",
      "Epoch:  0/260 - train_loss: 1.1066 - test_loss: 0.863704\n",
      "Epoch: 319/320 - train_loss: 0.2273 - test_loss: 0.164264\n",
      "Epoch: 54/110 - train_loss: 0.5361 - test_loss: 0.455084\n",
      "Epoch: 54/110 - train_loss: 0.4811 - test_loss: 0.414523\n"
     ]
    },
    {
     "name": "stderr",
     "output_type": "stream",
     "text": [
      "\u001b[32m[I 2023-02-13 13:13:01,080]\u001b[0m Trial 35 finished with value: 7.358706998596318 and parameters: {'n layers': 5, 'Hidden size': 366, 'Learning rate': 0.00816733868090448, 'Dropout rate': 0.025491759905143435, 'Epochs': 340}. Best is trial 25 with value: 6.7724517256909875.\u001b[0m\n"
     ]
    },
    {
     "name": "stdout",
     "output_type": "stream",
     "text": [
      "Epoch:  0/240 - train_loss: 0.9228 - test_loss: 0.636132\n",
      "Epoch:  0/240 - train_loss: 0.8729 - test_loss: 0.629347\n",
      "Epoch:  0/240 - train_loss: 0.9427 - test_loss: 0.646057\n",
      "Epoch: 240/320 - train_loss: 0.2312 - test_loss: 0.161064\n",
      "Epoch: 160/320 - train_loss: 0.2377 - test_loss: 0.184209\n",
      "Epoch:  0/240 - train_loss: 1.1618 - test_loss: 0.844546\n",
      "Epoch: 92/370 - train_loss: 0.2342 - test_loss: 0.181029\n",
      "Epoch: 174/350 - train_loss: 0.2758 - test_loss: 0.175497\n",
      "Epoch: 92/370 - train_loss: 0.2285 - test_loss: 0.160583\n",
      "Epoch: 60/240 - train_loss: 0.2404 - test_loss: 0.160145\n",
      "Epoch: 60/240 - train_loss: 0.2360 - test_loss: 0.159141\n",
      "Epoch: 65/260 - train_loss: 0.2418 - test_loss: 0.169777\n",
      "Epoch: 60/240 - train_loss: 0.2357 - test_loss: 0.168112\n",
      "Epoch:  0/240 - train_loss: 0.8702 - test_loss: 0.708818\n",
      "Epoch: 120/240 - train_loss: 0.2326 - test_loss: 0.156356\n",
      "Epoch: 120/240 - train_loss: 0.2332 - test_loss: 0.167638\n",
      "Epoch: 120/240 - train_loss: 0.2503 - test_loss: 0.160444\n",
      "Epoch: 184/370 - train_loss: 0.2258 - test_loss: 0.154646\n",
      "Epoch: 184/370 - train_loss: 0.2442 - test_loss: 0.159084\n",
      "Epoch: 261/350 - train_loss: 0.2333 - test_loss: 0.148480\n",
      "Epoch: 319/320 - train_loss: 0.2483 - test_loss: 0.177837\n"
     ]
    },
    {
     "name": "stderr",
     "output_type": "stream",
     "text": [
      "\u001b[32m[I 2023-02-13 13:18:13,639]\u001b[0m Trial 32 finished with value: 7.756455560992484 and parameters: {'n layers': 5, 'Hidden size': 376, 'Learning rate': 0.00901539079995031, 'Dropout rate': 0.04076470097043939, 'Epochs': 120}. Best is trial 25 with value: 6.7724517256909875.\u001b[0m\n"
     ]
    },
    {
     "name": "stdout",
     "output_type": "stream",
     "text": [
      "Epoch: 130/260 - train_loss: 0.2297 - test_loss: 0.183672\n",
      "Epoch: 80/160 - train_loss: 0.2321 - test_loss: 0.179788\n",
      "Epoch: 180/240 - train_loss: 0.2589 - test_loss: 0.164053\n",
      "Epoch: 180/240 - train_loss: 0.2318 - test_loss: 0.172884\n",
      "Epoch: 180/240 - train_loss: 0.2545 - test_loss: 0.182618\n",
      "Epoch: 276/370 - train_loss: 0.2291 - test_loss: 0.156096\n",
      "Epoch: 276/370 - train_loss: 0.2358 - test_loss: 0.167282\n",
      "Epoch: 240/320 - train_loss: 0.2392 - test_loss: 0.165333\n",
      "Epoch: 239/240 - train_loss: 0.2754 - test_loss: 0.172390\n"
     ]
    },
    {
     "name": "stderr",
     "output_type": "stream",
     "text": [
      "\u001b[32m[I 2023-02-13 13:20:00,640]\u001b[0m Trial 46 finished with value: 9.972542458465517 and parameters: {'n layers': 4, 'Hidden size': 18, 'Learning rate': 0.0046320451894484044, 'Dropout rate': 0.6151652931264349, 'Epochs': 370}. Best is trial 25 with value: 6.7724517256909875.\u001b[0m\n"
     ]
    },
    {
     "name": "stdout",
     "output_type": "stream",
     "text": [
      "Epoch: 160/320 - train_loss: 0.2349 - test_loss: 0.163888\n",
      "Epoch: 195/260 - train_loss: 0.2325 - test_loss: 0.176076\n",
      "Epoch: 239/240 - train_loss: 0.2312 - test_loss: 0.157469\n"
     ]
    },
    {
     "name": "stderr",
     "output_type": "stream",
     "text": [
      "\u001b[32m[I 2023-02-13 13:20:17,903]\u001b[0m Trial 47 finished with value: 7.684930687880729 and parameters: {'n layers': 4, 'Hidden size': 17, 'Learning rate': 0.004567593703643082, 'Dropout rate': 0.5982860442787526, 'Epochs': 280}. Best is trial 25 with value: 6.7724517256909875.\u001b[0m\n"
     ]
    },
    {
     "name": "stdout",
     "output_type": "stream",
     "text": [
      "Epoch: 348/350 - train_loss: 0.2331 - test_loss: 0.154890\n",
      "Epoch: 239/240 - train_loss: 0.2395 - test_loss: 0.149582\n",
      "Epoch: 349/350 - train_loss: 0.2290 - test_loss: 0.166267\n"
     ]
    },
    {
     "name": "stderr",
     "output_type": "stream",
     "text": [
      "\u001b[32m[I 2023-02-13 13:20:21,921]\u001b[0m Trial 45 finished with value: 9.685602419213918 and parameters: {'n layers': 4, 'Hidden size': 19, 'Learning rate': 0.00469008601964694, 'Dropout rate': 0.6008381910548926, 'Epochs': 370}. Best is trial 25 with value: 6.7724517256909875.\u001b[0m\n",
      "\u001b[32m[I 2023-02-13 13:20:22,019]\u001b[0m Trial 41 finished with value: 8.327176465564355 and parameters: {'n layers': 4, 'Hidden size': 358, 'Learning rate': 0.005040778570720633, 'Dropout rate': 0.6483438039747882, 'Epochs': 350}. Best is trial 25 with value: 6.7724517256909875.\u001b[0m\n"
     ]
    },
    {
     "name": "stdout",
     "output_type": "stream",
     "text": [
      "Epoch: 120/160 - train_loss: 0.2255 - test_loss: 0.166150\n",
      "Epoch: 81/110 - train_loss: 0.2535 - test_loss: 0.169071\n",
      "Epoch: 81/110 - train_loss: 0.2387 - test_loss: 0.159037\n",
      "Epoch: 368/370 - train_loss: 0.2444 - test_loss: 0.165351\n",
      "Epoch: 259/260 - train_loss: 0.2279 - test_loss: 0.167559\n",
      "Epoch: 369/370 - train_loss: 0.2287 - test_loss: 0.188581\n"
     ]
    },
    {
     "name": "stderr",
     "output_type": "stream",
     "text": [
      "\u001b[32m[I 2023-02-13 13:21:32,498]\u001b[0m Trial 44 finished with value: 8.043537094370413 and parameters: {'n layers': 4, 'Hidden size': 17, 'Learning rate': 0.003386663084801851, 'Dropout rate': 0.5407080495661556, 'Epochs': 370}. Best is trial 25 with value: 6.7724517256909875.\u001b[0m\n",
      "\u001b[32m[I 2023-02-13 13:21:33,643]\u001b[0m Trial 42 finished with value: 8.95846814220689 and parameters: {'n layers': 4, 'Hidden size': 17, 'Learning rate': 0.004721152557959401, 'Dropout rate': 0.5614755718928719, 'Epochs': 380}. Best is trial 25 with value: 6.7724517256909875.\u001b[0m\n"
     ]
    },
    {
     "name": "stdout",
     "output_type": "stream",
     "text": [
      "Epoch: 368/370 - train_loss: 0.2316 - test_loss: 0.172871\n",
      "Epoch: 369/370 - train_loss: 0.2290 - test_loss: 0.151720\n",
      "Epoch: 319/320 - train_loss: 0.2280 - test_loss: 0.156746\n"
     ]
    },
    {
     "name": "stderr",
     "output_type": "stream",
     "text": [
      "\u001b[32m[I 2023-02-13 13:21:42,705]\u001b[0m Trial 43 finished with value: 7.8309774345102285 and parameters: {'n layers': 4, 'Hidden size': 17, 'Learning rate': 0.004947040505717439, 'Dropout rate': 0.6311991917865483, 'Epochs': 370}. Best is trial 25 with value: 6.7724517256909875.\u001b[0m\n",
      "\u001b[32m[I 2023-02-13 13:21:43,169]\u001b[0m Trial 37 finished with value: 7.959269290043738 and parameters: {'n layers': 5, 'Hidden size': 364, 'Learning rate': 0.009639483337362403, 'Dropout rate': 0.21273175701329367, 'Epochs': 350}. Best is trial 25 with value: 6.7724517256909875.\u001b[0m\n"
     ]
    },
    {
     "name": "stdout",
     "output_type": "stream",
     "text": [
      "Epoch: 60/240 - train_loss: 0.2348 - test_loss: 0.166009\n",
      "Epoch: 159/160 - train_loss: 0.2493 - test_loss: 0.170735\n"
     ]
    },
    {
     "name": "stderr",
     "output_type": "stream",
     "text": [
      "\u001b[32m[I 2023-02-13 13:21:50,455]\u001b[0m Trial 36 finished with value: 9.792626579901912 and parameters: {'n layers': 5, 'Hidden size': 319, 'Learning rate': 0.009380204706303151, 'Dropout rate': 0.02554407025717008, 'Epochs': 330}. Best is trial 25 with value: 6.7724517256909875.\u001b[0m\n"
     ]
    },
    {
     "name": "stdout",
     "output_type": "stream",
     "text": [
      "Epoch: 240/320 - train_loss: 0.2332 - test_loss: 0.172283\n",
      "Epoch: 60/240 - train_loss: 0.2277 - test_loss: 0.164731\n",
      "Epoch: 108/110 - train_loss: 0.2319 - test_loss: 0.169956\n",
      "Epoch: 109/110 - train_loss: 0.2258 - test_loss: 0.158083\n"
     ]
    },
    {
     "name": "stderr",
     "output_type": "stream",
     "text": [
      "\u001b[32m[I 2023-02-13 13:22:05,222]\u001b[0m Trial 14 finished with value: 6.850455089790209 and parameters: {'n layers': 6, 'Hidden size': 70, 'Learning rate': 0.00790635640752302, 'Dropout rate': 0.3382432621664174, 'Epochs': 420}. Best is trial 25 with value: 6.7724517256909875.\u001b[0m\n"
     ]
    },
    {
     "name": "stdout",
     "output_type": "stream",
     "text": [
      "Epoch: 108/110 - train_loss: 0.2302 - test_loss: 0.161837\n",
      "Epoch: 109/110 - train_loss: 0.2385 - test_loss: 0.166202\n"
     ]
    },
    {
     "name": "stderr",
     "output_type": "stream",
     "text": [
      "\u001b[32m[I 2023-02-13 13:22:10,282]\u001b[0m Trial 5 finished with value: 10.362496910657905 and parameters: {'n layers': 5, 'Hidden size': 15, 'Learning rate': 0.0011571151105673595, 'Dropout rate': 0.47130878247784586, 'Epochs': 140}. Best is trial 25 with value: 6.7724517256909875.\u001b[0m\n"
     ]
    },
    {
     "name": "stdout",
     "output_type": "stream",
     "text": [
      "Epoch: 81/110 - train_loss: 0.4217 - test_loss: 0.361267\n",
      "Epoch: 81/110 - train_loss: 0.3846 - test_loss: 0.323036\n",
      "Epoch: 120/240 - train_loss: 0.2263 - test_loss: 0.179260\n",
      "Epoch: 108/110 - train_loss: 0.3539 - test_loss: 0.286849\n",
      "Epoch: 109/110 - train_loss: 0.3683 - test_loss: 0.283318\n"
     ]
    },
    {
     "name": "stderr",
     "output_type": "stream",
     "text": [
      "\u001b[32m[I 2023-02-13 13:22:42,281]\u001b[0m Trial 13 finished with value: 13.981848178789702 and parameters: {'n layers': 6, 'Hidden size': 23, 'Learning rate': 0.00029291427581853486, 'Dropout rate': 0.7733575147022509, 'Epochs': 240}. Best is trial 25 with value: 6.7724517256909875.\u001b[0m\n"
     ]
    },
    {
     "name": "stdout",
     "output_type": "stream",
     "text": [
      "Epoch: 120/240 - train_loss: 0.2320 - test_loss: 0.171071\n",
      "Epoch: 108/110 - train_loss: 0.3082 - test_loss: 0.254389\n",
      "Epoch: 109/110 - train_loss: 0.2935 - test_loss: 0.251467\n"
     ]
    },
    {
     "name": "stderr",
     "output_type": "stream",
     "text": [
      "\u001b[32m[I 2023-02-13 13:22:46,873]\u001b[0m Trial 6 finished with value: 11.539795549799999 and parameters: {'n layers': 4, 'Hidden size': 12, 'Learning rate': 0.0003200702011386272, 'Dropout rate': 0.5445197688148117, 'Epochs': 400}. Best is trial 25 with value: 6.7724517256909875.\u001b[0m\n"
     ]
    },
    {
     "name": "stdout",
     "output_type": "stream",
     "text": [
      "Epoch: 319/320 - train_loss: 0.2354 - test_loss: 0.178274\n"
     ]
    },
    {
     "name": "stderr",
     "output_type": "stream",
     "text": [
      "\u001b[32m[I 2023-02-13 13:22:48,704]\u001b[0m Trial 38 finished with value: 10.827067790092201 and parameters: {'n layers': 4, 'Hidden size': 348, 'Learning rate': 0.007691161105626541, 'Dropout rate': 0.2243250854068734, 'Epochs': 320}. Best is trial 25 with value: 6.7724517256909875.\u001b[0m\n"
     ]
    },
    {
     "name": "stdout",
     "output_type": "stream",
     "text": [
      "Epoch: 180/240 - train_loss: 0.2320 - test_loss: 0.162417\n",
      "Epoch: 180/240 - train_loss: 0.2310 - test_loss: 0.177210\n",
      "Epoch: 239/240 - train_loss: 0.2337 - test_loss: 0.168892\n"
     ]
    },
    {
     "name": "stderr",
     "output_type": "stream",
     "text": [
      "\u001b[32m[I 2023-02-13 13:23:13,634]\u001b[0m Trial 48 finished with value: 9.259968162103435 and parameters: {'n layers': 4, 'Hidden size': 17, 'Learning rate': 0.004761693022051596, 'Dropout rate': 0.588692460450041, 'Epochs': 260}. Best is trial 25 with value: 6.7724517256909875.\u001b[0m\n",
      "\u001b[32m[I 2023-02-13 13:23:19,517]\u001b[0m Trial 49 finished with value: 7.289309844428291 and parameters: {'n layers': 4, 'Hidden size': 18, 'Learning rate': 0.005440099038686809, 'Dropout rate': 0.07584191132853804, 'Epochs': 240}. Best is trial 25 with value: 6.7724517256909875.\u001b[0m\n",
      "\u001b[32m[I 2023-02-13 13:23:19,552]\u001b[0m A new study created in memory with name: no-name-79ca1cef-1766-4997-b7c9-8901ad493829\u001b[0m\n"
     ]
    },
    {
     "name": "stdout",
     "output_type": "stream",
     "text": [
      "Epoch: 239/240 - train_loss: 0.2290 - test_loss: 0.194066\n",
      "Study statistics for : \n",
      "  Number of finished trials:  50\n",
      "Best trial of city:  Hòa Bình\n",
      "  Value:  6.7724517256909875\n",
      "optimize result of city: Hòa Bình\n",
      "lookback 3\n",
      "lookback 3\n",
      "lookback 3\n",
      "lookback 3\n",
      "lookback 3\n",
      "lookback 3\n",
      "lookback 3\n",
      "lookback 3\n",
      "lookback 3\n",
      "lookback 3\n",
      "lookback 3\n",
      "lookback 3\n",
      "lookback 3\n",
      "lookback 3\n",
      "lookback 3\n",
      "lookback 3\n",
      "lookback 3\n",
      "lookback 3\n",
      "lookback 3\n",
      "lookback 3\n",
      "Epoch:  0/450 - train_loss: 1.1086 - test_loss: 1.114180\n",
      "Epoch:  0/450 - train_loss: 1.0583 - test_loss: 0.714916\n",
      "Epoch:  0/450 - train_loss: 1.2851 - test_loss: 0.887241\n",
      "Epoch:  0/450 - train_loss: 1.0011 - test_loss: 0.773122\n",
      "Epoch:  0/450 - train_loss: 0.8489 - test_loss: 0.690164\n",
      "Epoch:  0/450 - train_loss: 1.0373 - test_loss: 0.814017\n",
      "Epoch:  0/450 - train_loss: 1.3700 - test_loss: 1.662512\n",
      "Epoch:  0/450 - train_loss: 0.8690 - test_loss: 0.628365\n",
      "Epoch:  0/450 - train_loss: 0.7056 - test_loss: 0.572455\n",
      "Epoch:  0/450 - train_loss: 1.2017 - test_loss: 0.826224Epoch:  0/450 - train_loss: 1.0071 - test_loss: 0.959747\n",
      "\n",
      "Epoch:  0/450 - train_loss: 0.8395 - test_loss: 0.690142\n",
      "Epoch:  0/450 - train_loss: 0.8986 - test_loss: 0.681862Epoch:  0/450 - train_loss: 1.1720 - test_loss: 0.932740\n",
      "\n",
      "Epoch:  0/450 - train_loss: 1.0232 - test_loss: 0.779021\n",
      "Epoch:  0/450 - train_loss: 1.2039 - test_loss: 0.836176\n",
      "Epoch:  0/450 - train_loss: 0.9220 - test_loss: 0.631324\n",
      "Epoch:  0/450 - train_loss: 0.9546 - test_loss: 0.613332\n",
      "Epoch:  0/450 - train_loss: 0.9514 - test_loss: 0.678919\n",
      "Epoch:  0/450 - train_loss: 0.9111 - test_loss: 0.637389\n",
      "Epoch: 112/450 - train_loss: 0.1108 - test_loss: 0.053811\n",
      "Epoch: 112/450 - train_loss: 0.1095 - test_loss: 0.051817\n",
      "Epoch: 112/450 - train_loss: 0.1140 - test_loss: 0.048744\n",
      "Epoch: 112/450 - train_loss: 0.4977 - test_loss: 0.449322\n",
      "Epoch: 112/450 - train_loss: 0.1090 - test_loss: 0.054486\n",
      "Epoch: 224/450 - train_loss: 0.1088 - test_loss: 0.054007\n",
      "Epoch: 224/450 - train_loss: 0.1230 - test_loss: 0.081967\n",
      "Epoch: 224/450 - train_loss: 0.1121 - test_loss: 0.049112\n",
      "Epoch: 112/450 - train_loss: 0.1101 - test_loss: 0.051527\n",
      "Epoch: 224/450 - train_loss: 0.2962 - test_loss: 0.271427\n",
      "Epoch: 112/450 - train_loss: 0.1088 - test_loss: 0.052734\n",
      "Epoch: 336/450 - train_loss: 0.1113 - test_loss: 0.055313\n",
      "Epoch: 224/450 - train_loss: 0.1167 - test_loss: 0.069509\n",
      "Epoch: 336/450 - train_loss: 0.1102 - test_loss: 0.047321\n",
      "Epoch: 112/450 - train_loss: 0.4207 - test_loss: 0.386972\n",
      "Epoch: 336/450 - train_loss: 0.1088 - test_loss: 0.052279\n",
      "Epoch: 336/450 - train_loss: 0.1827 - test_loss: 0.157662\n",
      "Epoch: 224/450 - train_loss: 0.1091 - test_loss: 0.052069\n",
      "Epoch: 448/450 - train_loss: 0.1084 - test_loss: 0.049808\n",
      "Epoch: 449/450 - train_loss: 0.1082 - test_loss: 0.049560\n",
      "Epoch: 112/450 - train_loss: 0.1112 - test_loss: 0.058127\n"
     ]
    },
    {
     "name": "stderr",
     "output_type": "stream",
     "text": [
      "\u001b[32m[I 2023-02-13 13:46:25,748]\u001b[0m Trial 10 finished with value: 12.973998698221136 and parameters: {'n layers': 5, 'Hidden size': 43, 'Learning rate': 0.0009615915772823646, 'Dropout rate': 0.025131298793557397, 'Epochs': 300}. Best is trial 10 with value: 12.973998698221136.\u001b[0m\n"
     ]
    },
    {
     "name": "stdout",
     "output_type": "stream",
     "text": [
      "lookback 3\n",
      "Epoch: 448/450 - train_loss: 0.1087 - test_loss: 0.051194\n",
      "Epoch: 449/450 - train_loss: 0.1117 - test_loss: 0.052143\n"
     ]
    },
    {
     "name": "stderr",
     "output_type": "stream",
     "text": [
      "\u001b[32m[I 2023-02-13 13:46:46,587]\u001b[0m Trial 7 finished with value: 29.091745783052875 and parameters: {'n layers': 4, 'Hidden size': 44, 'Learning rate': 0.0089729991088477, 'Dropout rate': 0.1396361816048901, 'Epochs': 410}. Best is trial 10 with value: 12.973998698221136.\u001b[0m\n"
     ]
    },
    {
     "name": "stdout",
     "output_type": "stream",
     "text": [
      "lookback 3\n",
      "Epoch: 336/450 - train_loss: 0.1144 - test_loss: 0.049778\n",
      "Epoch: 224/450 - train_loss: 0.1093 - test_loss: 0.056845\n",
      "Epoch:  0/500 - train_loss: 1.2513 - test_loss: 0.972068\n",
      "Epoch:  0/500 - train_loss: 1.4190 - test_loss: 1.233392\n",
      "Epoch: 448/450 - train_loss: 0.2579 - test_loss: 0.050062\n",
      "Epoch: 449/450 - train_loss: 0.1264 - test_loss: 0.083773\n"
     ]
    },
    {
     "name": "stderr",
     "output_type": "stream",
     "text": [
      "\u001b[32m[I 2023-02-13 13:49:16,847]\u001b[0m Trial 11 finished with value: 18.200887937064042 and parameters: {'n layers': 5, 'Hidden size': 34, 'Learning rate': 0.007875762137974505, 'Dropout rate': 0.586106015069364, 'Epochs': 260}. Best is trial 10 with value: 12.973998698221136.\u001b[0m\n"
     ]
    },
    {
     "name": "stdout",
     "output_type": "stream",
     "text": [
      "lookback 3\n",
      "Epoch: 448/450 - train_loss: 0.1414 - test_loss: 0.094251\n",
      "Epoch: 449/450 - train_loss: 0.1293 - test_loss: 0.092980\n"
     ]
    },
    {
     "name": "stderr",
     "output_type": "stream",
     "text": [
      "\u001b[32m[I 2023-02-13 13:50:38,164]\u001b[0m Trial 2 finished with value: 29.972666341123865 and parameters: {'n layers': 5, 'Hidden size': 8, 'Learning rate': 0.00012434616552461876, 'Dropout rate': 0.6009795154188751, 'Epochs': 140}. Best is trial 10 with value: 12.973998698221136.\u001b[0m\n"
     ]
    },
    {
     "name": "stdout",
     "output_type": "stream",
     "text": [
      "lookback 3\n",
      "Epoch:  0/400 - train_loss: 1.1805 - test_loss: 0.718717\n",
      "Epoch: 224/450 - train_loss: 0.2192 - test_loss: 0.190681\n",
      "Epoch: 336/450 - train_loss: 0.1086 - test_loss: 0.052086\n",
      "Epoch:  0/400 - train_loss: 1.1153 - test_loss: 0.956511\n",
      "Epoch: 448/450 - train_loss: 0.1111 - test_loss: 0.049692\n",
      "Epoch: 449/450 - train_loss: 0.1112 - test_loss: 0.048331\n"
     ]
    },
    {
     "name": "stderr",
     "output_type": "stream",
     "text": [
      "\u001b[32m[I 2023-02-13 13:52:45,443]\u001b[0m Trial 17 finished with value: 18.81601221030554 and parameters: {'n layers': 6, 'Hidden size': 44, 'Learning rate': 0.005567675668262125, 'Dropout rate': 0.47657881531004315, 'Epochs': 230}. Best is trial 10 with value: 12.973998698221136.\u001b[0m\n"
     ]
    },
    {
     "name": "stdout",
     "output_type": "stream",
     "text": [
      "lookback 3\n",
      "Epoch: 336/450 - train_loss: 0.1084 - test_loss: 0.050269\n",
      "Epoch: 125/500 - train_loss: 0.4300 - test_loss: 0.392025\n",
      "Epoch: 224/450 - train_loss: 0.1098 - test_loss: 0.051295\n",
      "Epoch: 125/500 - train_loss: 0.2332 - test_loss: 0.206144\n",
      "Epoch:  0/470 - train_loss: 1.0690 - test_loss: 0.811353\n",
      "Epoch: 100/400 - train_loss: 0.1665 - test_loss: 0.134860\n",
      "Epoch: 112/450 - train_loss: 0.1094 - test_loss: 0.051119\n",
      "Epoch: 100/400 - train_loss: 0.1094 - test_loss: 0.055099\n",
      "Epoch: 448/450 - train_loss: 0.1085 - test_loss: 0.049968\n",
      "Epoch: 449/450 - train_loss: 0.1086 - test_loss: 0.049940\n"
     ]
    },
    {
     "name": "stderr",
     "output_type": "stream",
     "text": [
      "\u001b[32m[I 2023-02-13 13:55:48,992]\u001b[0m Trial 9 finished with value: 9.757463894336789 and parameters: {'n layers': 3, 'Hidden size': 116, 'Learning rate': 0.0014305013424698435, 'Dropout rate': 0.33434682919013464, 'Epochs': 120}. Best is trial 9 with value: 9.757463894336789.\u001b[0m\n"
     ]
    },
    {
     "name": "stdout",
     "output_type": "stream",
     "text": [
      "lookback 3\n",
      "Epoch: 336/450 - train_loss: 0.1320 - test_loss: 0.093553\n",
      "Epoch:  0/260 - train_loss: 0.8832 - test_loss: 0.570677\n",
      "Epoch: 250/500 - train_loss: 0.2368 - test_loss: 0.206008\n",
      "Epoch: 250/500 - train_loss: 0.1148 - test_loss: 0.068046\n",
      "Epoch: 200/400 - train_loss: 0.1094 - test_loss: 0.055571\n",
      "Epoch: 117/470 - train_loss: 0.1534 - test_loss: 0.121271\n",
      "Epoch: 448/450 - train_loss: 0.1093 - test_loss: 0.055913\n",
      "Epoch: 449/450 - train_loss: 0.1087 - test_loss: 0.056128\n"
     ]
    },
    {
     "name": "stderr",
     "output_type": "stream",
     "text": [
      "\u001b[32m[I 2023-02-13 13:58:20,953]\u001b[0m Trial 18 finished with value: 22.928456709670275 and parameters: {'n layers': 5, 'Hidden size': 6, 'Learning rate': 0.0016252784403372987, 'Dropout rate': 0.046136582105754595, 'Epochs': 150}. Best is trial 9 with value: 9.757463894336789.\u001b[0m\n"
     ]
    },
    {
     "name": "stdout",
     "output_type": "stream",
     "text": [
      "lookback 3\n",
      "Epoch: 200/400 - train_loss: 0.1182 - test_loss: 0.069004\n",
      "Epoch:  0/490 - train_loss: 1.4069 - test_loss: 1.301145\n",
      "Epoch: 65/260 - train_loss: 0.1094 - test_loss: 0.050732\n",
      "Epoch: 300/400 - train_loss: 0.1089 - test_loss: 0.052794\n",
      "Epoch: 375/500 - train_loss: 0.1426 - test_loss: 0.105332\n",
      "Epoch: 375/500 - train_loss: 0.2360 - test_loss: 0.052800\n",
      "Epoch: 336/450 - train_loss: 0.1087 - test_loss: 0.049112\n",
      "Epoch: 234/470 - train_loss: 0.1091 - test_loss: 0.053080\n",
      "Epoch: 130/260 - train_loss: 0.1087 - test_loss: 0.049390\n",
      "Epoch: 300/400 - train_loss: 0.1089 - test_loss: 0.050657\n",
      "Epoch: 448/450 - train_loss: 0.1096 - test_loss: 0.059078\n",
      "Epoch: 449/450 - train_loss: 0.1111 - test_loss: 0.059157\n"
     ]
    },
    {
     "name": "stderr",
     "output_type": "stream",
     "text": [
      "\u001b[32m[I 2023-02-13 14:03:13,454]\u001b[0m Trial 19 finished with value: 25.14726890380436 and parameters: {'n layers': 5, 'Hidden size': 84, 'Learning rate': 0.00017432511375170044, 'Dropout rate': 0.5047770159896844, 'Epochs': 450}. Best is trial 9 with value: 9.757463894336789.\u001b[0m\n"
     ]
    },
    {
     "name": "stdout",
     "output_type": "stream",
     "text": [
      "lookback 3\n",
      "Epoch: 399/400 - train_loss: 0.1435 - test_loss: 0.053803\n"
     ]
    },
    {
     "name": "stderr",
     "output_type": "stream",
     "text": [
      "\u001b[32m[I 2023-02-13 14:04:06,865]\u001b[0m Trial 22 finished with value: 20.71046385104609 and parameters: {'n layers': 3, 'Hidden size': 21, 'Learning rate': 0.0004874814059471983, 'Dropout rate': 0.23457141256756375, 'Epochs': 230}. Best is trial 9 with value: 9.757463894336789.\u001b[0m\n"
     ]
    },
    {
     "name": "stdout",
     "output_type": "stream",
     "text": [
      "lookback 3\n",
      "Epoch: 195/260 - train_loss: 0.1106 - test_loss: 0.053478\n",
      "Epoch: 112/450 - train_loss: 0.1154 - test_loss: 0.055378\n",
      "Epoch:  0/110 - train_loss: 1.0154 - test_loss: 0.673419\n",
      "Epoch: 122/490 - train_loss: 0.4073 - test_loss: 0.361087\n",
      "Epoch: 499/500 - train_loss: 0.1136 - test_loss: 0.063999\n"
     ]
    },
    {
     "name": "stderr",
     "output_type": "stream",
     "text": [
      "\u001b[32m[I 2023-02-13 14:06:11,348]\u001b[0m Trial 20 finished with value: 25.328037985454657 and parameters: {'n layers': 3, 'Hidden size': 57, 'Learning rate': 0.00014018924377378922, 'Dropout rate': 0.1613333478215828, 'Epochs': 100}. Best is trial 9 with value: 9.757463894336789.\u001b[0m\n"
     ]
    },
    {
     "name": "stdout",
     "output_type": "stream",
     "text": [
      "lookback 3\n",
      "Epoch: 399/400 - train_loss: 0.1085 - test_loss: 0.050708\n",
      "Epoch:  0/380 - train_loss: 1.0828 - test_loss: 0.745302\n"
     ]
    },
    {
     "name": "stderr",
     "output_type": "stream",
     "text": [
      "\u001b[32m[I 2023-02-13 14:06:20,784]\u001b[0m Trial 23 finished with value: 22.262534275969628 and parameters: {'n layers': 3, 'Hidden size': 5, 'Learning rate': 0.0023278334649409864, 'Dropout rate': 0.5388639713915395, 'Epochs': 400}. Best is trial 9 with value: 9.757463894336789.\u001b[0m\n"
     ]
    },
    {
     "name": "stdout",
     "output_type": "stream",
     "text": [
      "lookback 3\n",
      "Epoch: 499/500 - train_loss: 0.1106 - test_loss: 0.051447\n"
     ]
    },
    {
     "name": "stderr",
     "output_type": "stream",
     "text": [
      "\u001b[32m[I 2023-02-13 14:06:47,935]\u001b[0m Trial 21 finished with value: 13.302756108188865 and parameters: {'n layers': 6, 'Hidden size': 64, 'Learning rate': 0.0003012371006101979, 'Dropout rate': 0.2785377384935611, 'Epochs': 500}. Best is trial 9 with value: 9.757463894336789.\u001b[0m\n"
     ]
    },
    {
     "name": "stdout",
     "output_type": "stream",
     "text": [
      "lookback 3\n",
      "Epoch: 224/450 - train_loss: 0.1167 - test_loss: 0.070192\n",
      "Epoch: 27/110 - train_loss: 0.1121 - test_loss: 0.053395\n",
      "Epoch: 351/470 - train_loss: 0.1090 - test_loss: 0.053029\n",
      "Epoch:  0/340 - train_loss: 1.1730 - test_loss: 0.985896\n",
      "Epoch: 259/260 - train_loss: 0.1108 - test_loss: 0.049698\n",
      "Epoch:  0/340 - train_loss: 0.9564 - test_loss: 0.691188\n",
      "Epoch: 54/110 - train_loss: 0.1128 - test_loss: 0.059891\n"
     ]
    },
    {
     "name": "stderr",
     "output_type": "stream",
     "text": [
      "\u001b[32m[I 2023-02-13 14:09:27,289]\u001b[0m Trial 25 finished with value: 17.79660658135489 and parameters: {'n layers': 5, 'Hidden size': 26, 'Learning rate': 0.009976702712544335, 'Dropout rate': 0.735944329585058, 'Epochs': 260}. Best is trial 9 with value: 9.757463894336789.\u001b[0m\n"
     ]
    },
    {
     "name": "stdout",
     "output_type": "stream",
     "text": [
      "lookback 3\n",
      "Epoch: 112/450 - train_loss: 0.1097 - test_loss: 0.051937\n",
      "Epoch:  0/350 - train_loss: 0.9295 - test_loss: 0.771843\n",
      "Epoch: 448/450 - train_loss: 0.1086 - test_loss: 0.048803\n",
      "Epoch: 449/450 - train_loss: 0.1084 - test_loss: 0.049374\n"
     ]
    },
    {
     "name": "stderr",
     "output_type": "stream",
     "text": [
      "\u001b[32m[I 2023-02-13 14:10:40,908]\u001b[0m Trial 3 finished with value: 15.3514469856762 and parameters: {'n layers': 4, 'Hidden size': 20, 'Learning rate': 0.0037303163477682127, 'Dropout rate': 0.26273567998697783, 'Epochs': 480}. Best is trial 9 with value: 9.757463894336789.\u001b[0m\n"
     ]
    },
    {
     "name": "stdout",
     "output_type": "stream",
     "text": [
      "lookback 3\n",
      "Epoch: 81/110 - train_loss: 0.1146 - test_loss: 0.049817\n",
      "Epoch:  0/330 - train_loss: 1.2279 - test_loss: 1.258100\n",
      "Epoch: 95/380 - train_loss: 0.1107 - test_loss: 0.053110\n",
      "Epoch:  0/330 - train_loss: 1.1948 - test_loss: 1.028037\n",
      "Epoch: 108/110 - train_loss: 0.1116 - test_loss: 0.059069\n",
      "Epoch: 109/110 - train_loss: 0.1111 - test_loss: 0.047885\n"
     ]
    },
    {
     "name": "stderr",
     "output_type": "stream",
     "text": [
      "\u001b[32m[I 2023-02-13 14:12:51,507]\u001b[0m Trial 27 finished with value: 16.037393153168576 and parameters: {'n layers': 3, 'Hidden size': 45, 'Learning rate': 0.005789759447796914, 'Dropout rate': 0.7278202253811321, 'Epochs': 210}. Best is trial 9 with value: 9.757463894336789.\u001b[0m\n"
     ]
    },
    {
     "name": "stdout",
     "output_type": "stream",
     "text": [
      "lookback 3\n",
      "Epoch: 85/340 - train_loss: 0.1100 - test_loss: 0.048758\n",
      "Epoch: 244/490 - train_loss: 0.2491 - test_loss: 0.170004\n",
      "Epoch: 85/340 - train_loss: 0.1558 - test_loss: 0.121720\n",
      "Epoch: 87/350 - train_loss: 0.1212 - test_loss: 0.074147\n",
      "Epoch: 468/470 - train_loss: 0.2412 - test_loss: 0.051586\n",
      "Epoch: 469/470 - train_loss: 0.2321 - test_loss: 0.059770\n"
     ]
    },
    {
     "name": "stderr",
     "output_type": "stream",
     "text": [
      "\u001b[32m[I 2023-02-13 14:14:10,886]\u001b[0m Trial 24 finished with value: 20.185665110933343 and parameters: {'n layers': 6, 'Hidden size': 18, 'Learning rate': 0.00044244999730641484, 'Dropout rate': 0.19737558094279956, 'Epochs': 470}. Best is trial 9 with value: 9.757463894336789.\u001b[0m\n"
     ]
    },
    {
     "name": "stdout",
     "output_type": "stream",
     "text": [
      "lookback 3\n",
      "Epoch:  0/350 - train_loss: 1.6401 - test_loss: 1.646965\n",
      "Epoch: 82/330 - train_loss: 0.1203 - test_loss: 0.078085\n",
      "Epoch:  0/350 - train_loss: 0.8269 - test_loss: 0.683457\n",
      "Epoch: 190/380 - train_loss: 0.1087 - test_loss: 0.051020\n",
      "Epoch: 170/340 - train_loss: 0.1100 - test_loss: 0.056570\n",
      "Epoch: 170/340 - train_loss: 0.2396 - test_loss: 0.055784\n",
      "Epoch: 174/350 - train_loss: 0.1091 - test_loss: 0.050667\n",
      "Epoch: 336/450 - train_loss: 0.1111 - test_loss: 0.059136\n",
      "Epoch: 164/330 - train_loss: 0.1098 - test_loss: 0.050830\n",
      "Epoch: 82/330 - train_loss: 0.1189 - test_loss: 0.062122\n",
      "Epoch: 87/350 - train_loss: 0.1098 - test_loss: 0.055522\n",
      "Epoch: 366/490 - train_loss: 0.1263 - test_loss: 0.084096\n",
      "Epoch: 285/380 - train_loss: 0.1084 - test_loss: 0.052641\n",
      "Epoch: 255/340 - train_loss: 0.1096 - test_loss: 0.052094\n",
      "Epoch: 87/350 - train_loss: 0.1250 - test_loss: 0.075359\n",
      "Epoch: 255/340 - train_loss: 0.1115 - test_loss: 0.052094\n",
      "Epoch: 261/350 - train_loss: 0.1091 - test_loss: 0.053271\n",
      "Epoch: 246/330 - train_loss: 0.1081 - test_loss: 0.054750\n",
      "Epoch: 339/340 - train_loss: 0.1086 - test_loss: 0.050379\n"
     ]
    },
    {
     "name": "stderr",
     "output_type": "stream",
     "text": [
      "\u001b[32m[I 2023-02-13 14:20:41,174]\u001b[0m Trial 29 finished with value: 13.681498688964936 and parameters: {'n layers': 3, 'Hidden size': 333, 'Learning rate': 0.0028124046143311594, 'Dropout rate': 0.7483969855632254, 'Epochs': 380}. Best is trial 9 with value: 9.757463894336789.\u001b[0m\n"
     ]
    },
    {
     "name": "stdout",
     "output_type": "stream",
     "text": [
      "lookback 3\n",
      "Epoch: 174/350 - train_loss: 0.1097 - test_loss: 0.057692\n",
      "Epoch: 379/380 - train_loss: 0.1089 - test_loss: 0.051857\n"
     ]
    },
    {
     "name": "stderr",
     "output_type": "stream",
     "text": [
      "\u001b[32m[I 2023-02-13 14:21:06,328]\u001b[0m Trial 28 finished with value: 17.38759272908793 and parameters: {'n layers': 4, 'Hidden size': 209, 'Learning rate': 0.0011641017741983173, 'Dropout rate': 0.6945228829925535, 'Epochs': 110}. Best is trial 9 with value: 9.757463894336789.\u001b[0m\n"
     ]
    },
    {
     "name": "stdout",
     "output_type": "stream",
     "text": [
      "lookback 3\n",
      "Epoch: 339/340 - train_loss: 0.1087 - test_loss: 0.052174\n"
     ]
    },
    {
     "name": "stderr",
     "output_type": "stream",
     "text": [
      "\u001b[32m[I 2023-02-13 14:21:48,992]\u001b[0m Trial 30 finished with value: 17.567865508127962 and parameters: {'n layers': 4, 'Hidden size': 322, 'Learning rate': 0.000623924517115924, 'Dropout rate': 0.31821218606273327, 'Epochs': 310}. Best is trial 9 with value: 9.757463894336789.\u001b[0m\n"
     ]
    },
    {
     "name": "stdout",
     "output_type": "stream",
     "text": [
      "lookback 3\n",
      "Epoch: 224/450 - train_loss: 0.1087 - test_loss: 0.052133\n",
      "Epoch: 348/350 - train_loss: 0.1088 - test_loss: 0.056232\n",
      "Epoch: 349/350 - train_loss: 0.1092 - test_loss: 0.055349\n"
     ]
    },
    {
     "name": "stderr",
     "output_type": "stream",
     "text": [
      "\u001b[32m[I 2023-02-13 14:22:03,341]\u001b[0m Trial 31 finished with value: 20.932785052020336 and parameters: {'n layers': 4, 'Hidden size': 292, 'Learning rate': 0.0008177657498073304, 'Dropout rate': 0.35516888820783776, 'Epochs': 340}. Best is trial 9 with value: 9.757463894336789.\u001b[0m\n"
     ]
    },
    {
     "name": "stdout",
     "output_type": "stream",
     "text": [
      "lookback 3\n",
      "Epoch:  0/170 - train_loss: 1.1171 - test_loss: 0.947052\n",
      "Epoch:  0/170 - train_loss: 1.3306 - test_loss: 1.178788\n",
      "Epoch: 112/450 - train_loss: 0.1097 - test_loss: 0.050882\n",
      "Epoch: 174/350 - train_loss: 0.1137 - test_loss: 0.053337\n",
      "Epoch:  0/170 - train_loss: 1.2162 - test_loss: 0.750787\n",
      "Epoch: 164/330 - train_loss: 0.1087 - test_loss: 0.053500\n",
      "Epoch:  0/170 - train_loss: 1.5042 - test_loss: 1.266909\n",
      "Epoch: 488/490 - train_loss: 0.1121 - test_loss: 0.057656\n",
      "Epoch: 489/490 - train_loss: 0.1107 - test_loss: 0.058057\n"
     ]
    },
    {
     "name": "stderr",
     "output_type": "stream",
     "text": [
      "\u001b[32m[I 2023-02-13 14:25:21,557]\u001b[0m Trial 26 finished with value: 25.530068582921427 and parameters: {'n layers': 4, 'Hidden size': 167, 'Learning rate': 0.0001656009868751648, 'Dropout rate': 0.37157542079090744, 'Epochs': 490}. Best is trial 9 with value: 9.757463894336789.\u001b[0m\n"
     ]
    },
    {
     "name": "stdout",
     "output_type": "stream",
     "text": [
      "lookback 3\n",
      "Epoch: 42/170 - train_loss: 0.1985 - test_loss: 0.167023\n",
      "Epoch: 328/330 - train_loss: 0.1085 - test_loss: 0.052500\n",
      "Epoch: 329/330 - train_loss: 0.1087 - test_loss: 0.052584\n"
     ]
    },
    {
     "name": "stderr",
     "output_type": "stream",
     "text": [
      "\u001b[32m[I 2023-02-13 14:26:09,986]\u001b[0m Trial 32 finished with value: 21.23594389606716 and parameters: {'n layers': 4, 'Hidden size': 230, 'Learning rate': 0.0008240766535087394, 'Dropout rate': 0.3660453200072372, 'Epochs': 350}. Best is trial 9 with value: 9.757463894336789.\u001b[0m\n"
     ]
    },
    {
     "name": "stdout",
     "output_type": "stream",
     "text": [
      "lookback 3\n",
      "Epoch: 261/350 - train_loss: 0.1095 - test_loss: 0.048416\n",
      "Epoch: 42/170 - train_loss: 0.2896 - test_loss: 0.198220\n",
      "Epoch: 42/170 - train_loss: 0.2270 - test_loss: 0.200602\n",
      "Epoch:  0/180 - train_loss: 1.2679 - test_loss: 1.300782\n",
      "Epoch: 42/170 - train_loss: 0.1374 - test_loss: 0.088486\n",
      "Epoch:  0/180 - train_loss: 1.3824 - test_loss: 2.276728\n",
      "Epoch: 84/170 - train_loss: 0.1125 - test_loss: 0.060638\n",
      "Epoch: 84/170 - train_loss: 0.1194 - test_loss: 0.069587\n",
      "Epoch: 84/170 - train_loss: 0.2506 - test_loss: 0.053802\n",
      "Epoch: 84/170 - train_loss: 0.1205 - test_loss: 0.072698\n",
      "Epoch: 45/180 - train_loss: 0.4966 - test_loss: 0.462070\n",
      "Epoch: 126/170 - train_loss: 0.1093 - test_loss: 0.054478\n",
      "Epoch: 448/450 - train_loss: 0.1082 - test_loss: 0.049343\n",
      "Epoch: 126/170 - train_loss: 0.1103 - test_loss: 0.051368\n",
      "Epoch: 45/180 - train_loss: 0.5180 - test_loss: 0.458352\n",
      "Epoch: 261/350 - train_loss: 0.1092 - test_loss: 0.054545\n",
      "Epoch: 449/450 - train_loss: 0.1083 - test_loss: 0.051740\n"
     ]
    },
    {
     "name": "stderr",
     "output_type": "stream",
     "text": [
      "\u001b[32m[I 2023-02-13 14:29:37,270]\u001b[0m Trial 14 finished with value: 17.565768306536324 and parameters: {'n layers': 6, 'Hidden size': 8, 'Learning rate': 0.00449197345951655, 'Dropout rate': 0.0914834629119199, 'Epochs': 170}. Best is trial 9 with value: 9.757463894336789.\u001b[0m\n"
     ]
    },
    {
     "name": "stdout",
     "output_type": "stream",
     "text": [
      "lookback 3\n",
      "Epoch: 348/350 - train_loss: 0.1118 - test_loss: 0.056247\n",
      "Epoch: 349/350 - train_loss: 0.1078 - test_loss: 0.053336\n",
      "Epoch: 126/170 - train_loss: 0.1209 - test_loss: 0.064452\n"
     ]
    },
    {
     "name": "stderr",
     "output_type": "stream",
     "text": [
      "\u001b[32m[I 2023-02-13 14:29:58,790]\u001b[0m Trial 35 finished with value: 15.816718943171415 and parameters: {'n layers': 4, 'Hidden size': 181, 'Learning rate': 0.0011362137671445606, 'Dropout rate': 0.353825157847717, 'Epochs': 350}. Best is trial 9 with value: 9.757463894336789.\u001b[0m\n"
     ]
    },
    {
     "name": "stdout",
     "output_type": "stream",
     "text": [
      "lookback 3\n",
      "Epoch: 126/170 - train_loss: 0.1135 - test_loss: 0.053619\n",
      "Epoch: 246/330 - train_loss: 0.1092 - test_loss: 0.053751\n",
      "Epoch: 168/170 - train_loss: 0.1088 - test_loss: 0.052745\n",
      "Epoch: 169/170 - train_loss: 0.1092 - test_loss: 0.053834\n"
     ]
    },
    {
     "name": "stderr",
     "output_type": "stream",
     "text": [
      "\u001b[32m[I 2023-02-13 14:31:16,881]\u001b[0m Trial 36 finished with value: 18.835538105496187 and parameters: {'n layers': 4, 'Hidden size': 209, 'Learning rate': 0.0010165338825138602, 'Dropout rate': 0.3530282931926291, 'Epochs': 340}. Best is trial 9 with value: 9.757463894336789.\u001b[0m\n"
     ]
    },
    {
     "name": "stdout",
     "output_type": "stream",
     "text": [
      "lookback 3\n",
      "Epoch: 90/180 - train_loss: 0.3285 - test_loss: 0.295290\n",
      "Epoch: 168/170 - train_loss: 0.1090 - test_loss: 0.056051\n",
      "Epoch: 169/170 - train_loss: 0.1092 - test_loss: 0.053546\n",
      "Epoch:  0/190 - train_loss: 1.2223 - test_loss: 0.720377\n"
     ]
    },
    {
     "name": "stderr",
     "output_type": "stream",
     "text": [
      "\u001b[32m[I 2023-02-13 14:32:17,525]\u001b[0m Trial 37 finished with value: 20.826736152213716 and parameters: {'n layers': 4, 'Hidden size': 119, 'Learning rate': 0.0008389309819346236, 'Dropout rate': 0.4102127523976555, 'Epochs': 330}. Best is trial 9 with value: 9.757463894336789.\u001b[0m\n"
     ]
    },
    {
     "name": "stdout",
     "output_type": "stream",
     "text": [
      "lookback 3\n",
      "Epoch: 90/180 - train_loss: 0.3206 - test_loss: 0.284881\n",
      "Epoch:  0/280 - train_loss: 1.4087 - test_loss: 1.383593\n",
      "Epoch: 168/170 - train_loss: 0.1088 - test_loss: 0.055648\n",
      "Epoch: 169/170 - train_loss: 0.1143 - test_loss: 0.055458\n"
     ]
    },
    {
     "name": "stderr",
     "output_type": "stream",
     "text": [
      "\u001b[32m[I 2023-02-13 14:33:03,776]\u001b[0m Trial 39 finished with value: 24.21384043963634 and parameters: {'n layers': 6, 'Hidden size': 129, 'Learning rate': 0.0014155475892445053, 'Dropout rate': 0.022914210877786112, 'Epochs': 170}. Best is trial 9 with value: 9.757463894336789.\u001b[0m\n"
     ]
    },
    {
     "name": "stdout",
     "output_type": "stream",
     "text": [
      "lookback 3\n",
      "Epoch: 168/170 - train_loss: 0.1121 - test_loss: 0.051113\n",
      "Epoch: 169/170 - train_loss: 0.1091 - test_loss: 0.053276\n"
     ]
    },
    {
     "name": "stderr",
     "output_type": "stream",
     "text": [
      "\u001b[32m[I 2023-02-13 14:33:25,513]\u001b[0m Trial 38 finished with value: 25.63986215127589 and parameters: {'n layers': 4, 'Hidden size': 144, 'Learning rate': 0.0008515951223845341, 'Dropout rate': 0.37534616743871707, 'Epochs': 350}. Best is trial 9 with value: 9.757463894336789.\u001b[0m\n"
     ]
    },
    {
     "name": "stdout",
     "output_type": "stream",
     "text": [
      "lookback 3\n",
      "Epoch: 224/450 - train_loss: 0.1091 - test_loss: 0.051799\n",
      "Epoch:  0/440 - train_loss: 0.9967 - test_loss: 0.920842\n",
      "Epoch: 336/450 - train_loss: 0.1161 - test_loss: 0.069836\n",
      "Epoch:  0/440 - train_loss: 1.2933 - test_loss: 2.006705\n",
      "Epoch: 135/180 - train_loss: 0.2220 - test_loss: 0.186498\n",
      "Epoch:  0/440 - train_loss: 1.4380 - test_loss: 0.904363\n",
      "Epoch: 135/180 - train_loss: 0.2103 - test_loss: 0.174609\n",
      "Epoch:  0/440 - train_loss: 1.2060 - test_loss: 0.711706\n",
      "Epoch: 348/350 - train_loss: 0.1093 - test_loss: 0.055130\n",
      "Epoch: 349/350 - train_loss: 0.1087 - test_loss: 0.051303\n"
     ]
    },
    {
     "name": "stderr",
     "output_type": "stream",
     "text": [
      "\u001b[32m[I 2023-02-13 14:36:48,471]\u001b[0m Trial 34 finished with value: 20.59598821026505 and parameters: {'n layers': 4, 'Hidden size': 215, 'Learning rate': 0.000768665641473064, 'Dropout rate': 0.010027298178159786, 'Epochs': 350}. Best is trial 9 with value: 9.757463894336789.\u001b[0m\n"
     ]
    },
    {
     "name": "stdout",
     "output_type": "stream",
     "text": [
      "lookback 3\n",
      "Epoch: 47/190 - train_loss: 0.5235 - test_loss: 0.484441\n",
      "Epoch: 70/280 - train_loss: 0.4610 - test_loss: 0.378559\n",
      "Epoch: 328/330 - train_loss: 0.1085 - test_loss: 0.054971\n",
      "Epoch: 329/330 - train_loss: 0.1096 - test_loss: 0.056967\n"
     ]
    },
    {
     "name": "stderr",
     "output_type": "stream",
     "text": [
      "\u001b[32m[I 2023-02-13 14:38:11,197]\u001b[0m Trial 33 finished with value: 18.173329096126505 and parameters: {'n layers': 4, 'Hidden size': 153, 'Learning rate': 0.0009082761049943874, 'Dropout rate': 0.35529749475292854, 'Epochs': 330}. Best is trial 9 with value: 9.757463894336789.\u001b[0m\n"
     ]
    },
    {
     "name": "stdout",
     "output_type": "stream",
     "text": [
      "lookback 3\n",
      "Epoch: 179/180 - train_loss: 0.1581 - test_loss: 0.120925\n"
     ]
    },
    {
     "name": "stderr",
     "output_type": "stream",
     "text": [
      "\u001b[32m[I 2023-02-13 14:38:31,256]\u001b[0m Trial 40 finished with value: 34.2900370525986 and parameters: {'n layers': 6, 'Hidden size': 107, 'Learning rate': 0.0002674022384172891, 'Dropout rate': 0.010898994275841274, 'Epochs': 350}. Best is trial 9 with value: 9.757463894336789.\u001b[0m\n"
     ]
    },
    {
     "name": "stdout",
     "output_type": "stream",
     "text": [
      "Epoch: 179/180 - train_loss: 0.1499 - test_loss: 0.110549\n"
     ]
    },
    {
     "name": "stderr",
     "output_type": "stream",
     "text": [
      "\u001b[32m[I 2023-02-13 14:38:50,241]\u001b[0m Trial 41 finished with value: 26.29896680416067 and parameters: {'n layers': 6, 'Hidden size': 111, 'Learning rate': 0.00029169912363681436, 'Dropout rate': 0.06959312389049127, 'Epochs': 180}. Best is trial 9 with value: 9.757463894336789.\u001b[0m\n"
     ]
    },
    {
     "name": "stdout",
     "output_type": "stream",
     "text": [
      "Epoch:  0/440 - train_loss: 1.1341 - test_loss: 0.904178\n",
      "Epoch: 94/190 - train_loss: 0.3528 - test_loss: 0.326547\n",
      "Epoch:  0/440 - train_loss: 2.2828 - test_loss: 1.564068\n",
      "Epoch: 110/440 - train_loss: 0.2805 - test_loss: 0.256835\n",
      "Epoch: 110/440 - train_loss: 0.2704 - test_loss: 0.234941\n",
      "Epoch: 140/280 - train_loss: 0.2349 - test_loss: 0.180450\n",
      "Epoch: 110/440 - train_loss: 0.2575 - test_loss: 0.228528\n",
      "Epoch: 110/440 - train_loss: 0.2902 - test_loss: 0.259973\n",
      "Epoch: 141/190 - train_loss: 0.2373 - test_loss: 0.211133\n",
      "Epoch: 210/280 - train_loss: 0.1396 - test_loss: 0.093736\n",
      "Epoch: 110/440 - train_loss: 0.3242 - test_loss: 0.258206\n",
      "Epoch: 220/440 - train_loss: 0.1291 - test_loss: 0.086972\n",
      "Epoch: 220/440 - train_loss: 0.2214 - test_loss: 0.079193\n",
      "Epoch: 220/440 - train_loss: 0.1237 - test_loss: 0.075429\n",
      "Epoch: 220/440 - train_loss: 0.1322 - test_loss: 0.092279\n",
      "Epoch: 110/440 - train_loss: 0.2499 - test_loss: 0.220528\n",
      "Epoch: 279/280 - train_loss: 0.1174 - test_loss: 0.062349\n"
     ]
    },
    {
     "name": "stderr",
     "output_type": "stream",
     "text": [
      "\u001b[32m[I 2023-02-13 14:44:32,040]\u001b[0m Trial 43 finished with value: 24.07534457033925 and parameters: {'n layers': 6, 'Hidden size': 103, 'Learning rate': 0.00026302297881869766, 'Dropout rate': 0.02079695992294478, 'Epochs': 290}. Best is trial 9 with value: 9.757463894336789.\u001b[0m\n"
     ]
    },
    {
     "name": "stdout",
     "output_type": "stream",
     "text": [
      "Epoch: 188/190 - train_loss: 0.1654 - test_loss: 0.135870\n",
      "Epoch: 189/190 - train_loss: 0.1654 - test_loss: 0.134435\n"
     ]
    },
    {
     "name": "stderr",
     "output_type": "stream",
     "text": [
      "\u001b[32m[I 2023-02-13 14:44:40,106]\u001b[0m Trial 42 finished with value: 26.74063607237478 and parameters: {'n layers': 6, 'Hidden size': 111, 'Learning rate': 0.00025813599542403914, 'Dropout rate': 0.011568775664409323, 'Epochs': 290}. Best is trial 9 with value: 9.757463894336789.\u001b[0m\n"
     ]
    },
    {
     "name": "stdout",
     "output_type": "stream",
     "text": [
      "Epoch: 448/450 - train_loss: 0.1089 - test_loss: 0.048166\n",
      "Epoch: 449/450 - train_loss: 0.1085 - test_loss: 0.050944\n"
     ]
    },
    {
     "name": "stderr",
     "output_type": "stream",
     "text": [
      "\u001b[32m[I 2023-02-13 14:44:51,562]\u001b[0m Trial 1 finished with value: 24.878479769184906 and parameters: {'n layers': 3, 'Hidden size': 18, 'Learning rate': 0.0014987608149621752, 'Dropout rate': 0.17154780648759627, 'Epochs': 440}. Best is trial 9 with value: 9.757463894336789.\u001b[0m\n"
     ]
    },
    {
     "name": "stdout",
     "output_type": "stream",
     "text": [
      "Epoch: 330/440 - train_loss: 0.1105 - test_loss: 0.057315\n",
      "Epoch: 220/440 - train_loss: 0.1320 - test_loss: 0.090615\n",
      "Epoch: 330/440 - train_loss: 0.1117 - test_loss: 0.053691\n",
      "Epoch: 336/450 - train_loss: 0.1113 - test_loss: 0.056728\n",
      "Epoch: 330/440 - train_loss: 0.1101 - test_loss: 0.055092\n",
      "Epoch: 224/450 - train_loss: 0.1088 - test_loss: 0.050298\n",
      "Epoch: 330/440 - train_loss: 0.1119 - test_loss: 0.061974\n",
      "Epoch: 220/440 - train_loss: 0.1205 - test_loss: 0.069861\n",
      "Epoch: 439/440 - train_loss: 0.1087 - test_loss: 0.053902\n"
     ]
    },
    {
     "name": "stderr",
     "output_type": "stream",
     "text": [
      "\u001b[32m[I 2023-02-13 14:48:06,632]\u001b[0m Trial 44 finished with value: 18.299317362235893 and parameters: {'n layers': 6, 'Hidden size': 92, 'Learning rate': 0.00028792480407847156, 'Dropout rate': 0.035963319628556756, 'Epochs': 190}. Best is trial 9 with value: 9.757463894336789.\u001b[0m\n"
     ]
    },
    {
     "name": "stdout",
     "output_type": "stream",
     "text": [
      "Epoch: 112/450 - train_loss: 0.1102 - test_loss: 0.050659\n",
      "Epoch: 439/440 - train_loss: 0.1105 - test_loss: 0.050895\n"
     ]
    },
    {
     "name": "stderr",
     "output_type": "stream",
     "text": [
      "\u001b[32m[I 2023-02-13 14:48:33,177]\u001b[0m Trial 45 finished with value: 23.437650788407165 and parameters: {'n layers': 6, 'Hidden size': 79, 'Learning rate': 0.00029405197182110247, 'Dropout rate': 0.01710119978075403, 'Epochs': 280}. Best is trial 9 with value: 9.757463894336789.\u001b[0m\n"
     ]
    },
    {
     "name": "stdout",
     "output_type": "stream",
     "text": [
      "Epoch: 330/440 - train_loss: 0.1125 - test_loss: 0.058105\n",
      "Epoch: 439/440 - train_loss: 0.1087 - test_loss: 0.056661\n"
     ]
    },
    {
     "name": "stderr",
     "output_type": "stream",
     "text": [
      "\u001b[32m[I 2023-02-13 14:48:38,676]\u001b[0m Trial 46 finished with value: 20.82842434615416 and parameters: {'n layers': 6, 'Hidden size': 81, 'Learning rate': 0.00030703590055229993, 'Dropout rate': 0.2766716621891069, 'Epochs': 430}. Best is trial 9 with value: 9.757463894336789.\u001b[0m\n"
     ]
    },
    {
     "name": "stdout",
     "output_type": "stream",
     "text": [
      "Epoch: 439/440 - train_loss: 0.1087 - test_loss: 0.054183\n"
     ]
    },
    {
     "name": "stderr",
     "output_type": "stream",
     "text": [
      "\u001b[32m[I 2023-02-13 14:49:06,806]\u001b[0m Trial 47 finished with value: 18.75227325907589 and parameters: {'n layers': 6, 'Hidden size': 88, 'Learning rate': 0.0002818527415791239, 'Dropout rate': 0.27777774162295515, 'Epochs': 440}. Best is trial 9 with value: 9.757463894336789.\u001b[0m\n"
     ]
    },
    {
     "name": "stdout",
     "output_type": "stream",
     "text": [
      "Epoch: 448/450 - train_loss: 0.2320 - test_loss: 0.069939\n",
      "Epoch: 449/450 - train_loss: 0.1313 - test_loss: 0.079761\n"
     ]
    },
    {
     "name": "stderr",
     "output_type": "stream",
     "text": [
      "\u001b[32m[I 2023-02-13 14:49:20,113]\u001b[0m Trial 13 finished with value: 25.947012146006994 and parameters: {'n layers': 5, 'Hidden size': 312, 'Learning rate': 0.009738907221905468, 'Dropout rate': 0.1405812822610538, 'Epochs': 170}. Best is trial 9 with value: 9.757463894336789.\u001b[0m\n"
     ]
    },
    {
     "name": "stdout",
     "output_type": "stream",
     "text": [
      "Epoch: 330/440 - train_loss: 0.1108 - test_loss: 0.056262\n",
      "Epoch: 112/450 - train_loss: 0.1101 - test_loss: 0.053799\n",
      "Epoch: 336/450 - train_loss: 0.1127 - test_loss: 0.062026\n",
      "Epoch: 112/450 - train_loss: 0.1102 - test_loss: 0.059023\n",
      "Epoch: 439/440 - train_loss: 0.1104 - test_loss: 0.052956\n"
     ]
    },
    {
     "name": "stderr",
     "output_type": "stream",
     "text": [
      "\u001b[32m[I 2023-02-13 14:50:26,958]\u001b[0m Trial 48 finished with value: 17.620970996695263 and parameters: {'n layers': 6, 'Hidden size': 75, 'Learning rate': 0.00027317457875762976, 'Dropout rate': 0.2682525440989012, 'Epochs': 280}. Best is trial 9 with value: 9.757463894336789.\u001b[0m\n"
     ]
    },
    {
     "name": "stdout",
     "output_type": "stream",
     "text": [
      "Epoch: 224/450 - train_loss: 0.1086 - test_loss: 0.051926\n",
      "Epoch: 439/440 - train_loss: 0.1096 - test_loss: 0.052820\n"
     ]
    },
    {
     "name": "stderr",
     "output_type": "stream",
     "text": [
      "\u001b[32m[I 2023-02-13 14:51:23,878]\u001b[0m Trial 49 finished with value: 19.050602436841206 and parameters: {'n layers': 6, 'Hidden size': 80, 'Learning rate': 0.000347679948895243, 'Dropout rate': 0.27341103266448863, 'Epochs': 440}. Best is trial 9 with value: 9.757463894336789.\u001b[0m\n"
     ]
    },
    {
     "name": "stdout",
     "output_type": "stream",
     "text": [
      "Epoch: 448/450 - train_loss: 0.1102 - test_loss: 0.052096\n",
      "Epoch: 449/450 - train_loss: 0.1109 - test_loss: 0.048133\n"
     ]
    },
    {
     "name": "stderr",
     "output_type": "stream",
     "text": [
      "\u001b[32m[I 2023-02-13 14:51:35,459]\u001b[0m Trial 16 finished with value: 12.901576709071312 and parameters: {'n layers': 3, 'Hidden size': 181, 'Learning rate': 0.005345754015801234, 'Dropout rate': 0.7378966615327043, 'Epochs': 460}. Best is trial 9 with value: 9.757463894336789.\u001b[0m\n"
     ]
    },
    {
     "name": "stdout",
     "output_type": "stream",
     "text": [
      "Epoch: 224/450 - train_loss: 0.1090 - test_loss: 0.051230\n",
      "Epoch: 112/450 - train_loss: 0.1172 - test_loss: 0.073274\n",
      "Epoch: 224/450 - train_loss: 0.1082 - test_loss: 0.050715\n",
      "Epoch: 336/450 - train_loss: 0.1092 - test_loss: 0.054660\n",
      "Epoch: 112/450 - train_loss: 0.1104 - test_loss: 0.056435\n",
      "Epoch: 112/450 - train_loss: 0.1108 - test_loss: 0.056946\n",
      "Epoch: 112/450 - train_loss: 0.3807 - test_loss: 0.355350\n",
      "Epoch: 336/450 - train_loss: 0.1096 - test_loss: 0.053427\n",
      "Epoch: 336/450 - train_loss: 0.1081 - test_loss: 0.051080\n",
      "Epoch: 448/450 - train_loss: 0.1087 - test_loss: 0.047493\n",
      "Epoch: 449/450 - train_loss: 0.1094 - test_loss: 0.053307\n",
      "Epoch: 224/450 - train_loss: 0.1081 - test_loss: 0.052145\n"
     ]
    },
    {
     "name": "stderr",
     "output_type": "stream",
     "text": [
      "\u001b[32m[I 2023-02-13 14:54:04,033]\u001b[0m Trial 6 finished with value: 20.20172864153491 and parameters: {'n layers': 5, 'Hidden size': 238, 'Learning rate': 0.0018574900097737027, 'Dropout rate': 0.021695793204168735, 'Epochs': 370}. Best is trial 9 with value: 9.757463894336789.\u001b[0m\n"
     ]
    },
    {
     "name": "stdout",
     "output_type": "stream",
     "text": [
      "Epoch: 224/450 - train_loss: 0.1091 - test_loss: 0.055532\n",
      "Epoch: 448/450 - train_loss: 0.1087 - test_loss: 0.050938\n",
      "Epoch: 449/450 - train_loss: 0.1091 - test_loss: 0.052014\n"
     ]
    },
    {
     "name": "stderr",
     "output_type": "stream",
     "text": [
      "\u001b[32m[I 2023-02-13 14:54:57,794]\u001b[0m Trial 15 finished with value: 16.24954702332033 and parameters: {'n layers': 4, 'Hidden size': 24, 'Learning rate': 0.007191582899125972, 'Dropout rate': 0.6265656960782302, 'Epochs': 310}. Best is trial 9 with value: 9.757463894336789.\u001b[0m\n"
     ]
    },
    {
     "name": "stdout",
     "output_type": "stream",
     "text": [
      "Epoch: 224/450 - train_loss: 0.1133 - test_loss: 0.052036\n",
      "Epoch: 448/450 - train_loss: 0.1088 - test_loss: 0.052305\n",
      "Epoch: 449/450 - train_loss: 0.1111 - test_loss: 0.053262\n"
     ]
    },
    {
     "name": "stderr",
     "output_type": "stream",
     "text": [
      "\u001b[32m[I 2023-02-13 14:55:24,328]\u001b[0m Trial 4 finished with value: 23.786679467778324 and parameters: {'n layers': 5, 'Hidden size': 9, 'Learning rate': 0.000783403071154965, 'Dropout rate': 0.28865598677290555, 'Epochs': 180}. Best is trial 9 with value: 9.757463894336789.\u001b[0m\n"
     ]
    },
    {
     "name": "stdout",
     "output_type": "stream",
     "text": [
      "Epoch: 336/450 - train_loss: 0.1087 - test_loss: 0.050628\n",
      "Epoch: 224/450 - train_loss: 0.1892 - test_loss: 0.159921\n",
      "Epoch: 336/450 - train_loss: 0.1111 - test_loss: 0.052065\n",
      "Epoch: 336/450 - train_loss: 0.1109 - test_loss: 0.056297\n",
      "Epoch: 448/450 - train_loss: 0.1086 - test_loss: 0.053410\n",
      "Epoch: 449/450 - train_loss: 0.1084 - test_loss: 0.052569\n"
     ]
    },
    {
     "name": "stderr",
     "output_type": "stream",
     "text": [
      "\u001b[32m[I 2023-02-13 14:56:27,128]\u001b[0m Trial 0 finished with value: 16.37163062658691 and parameters: {'n layers': 5, 'Hidden size': 123, 'Learning rate': 0.0006600036020196177, 'Dropout rate': 0.6697464943945759, 'Epochs': 140}. Best is trial 9 with value: 9.757463894336789.\u001b[0m\n"
     ]
    },
    {
     "name": "stdout",
     "output_type": "stream",
     "text": [
      "Epoch: 336/450 - train_loss: 0.1201 - test_loss: 0.076551\n",
      "Epoch: 448/450 - train_loss: 0.1083 - test_loss: 0.050789\n",
      "Epoch: 449/450 - train_loss: 0.1083 - test_loss: 0.051040\n"
     ]
    },
    {
     "name": "stderr",
     "output_type": "stream",
     "text": [
      "\u001b[32m[I 2023-02-13 14:56:44,320]\u001b[0m Trial 5 finished with value: 16.6711003811569 and parameters: {'n layers': 6, 'Hidden size': 56, 'Learning rate': 0.0009389543470843104, 'Dropout rate': 0.40737591642593507, 'Epochs': 430}. Best is trial 9 with value: 9.757463894336789.\u001b[0m\n"
     ]
    },
    {
     "name": "stdout",
     "output_type": "stream",
     "text": [
      "Epoch: 448/450 - train_loss: 0.1128 - test_loss: 0.055964\n",
      "Epoch: 449/450 - train_loss: 0.1107 - test_loss: 0.058224\n"
     ]
    },
    {
     "name": "stderr",
     "output_type": "stream",
     "text": [
      "\u001b[32m[I 2023-02-13 14:56:57,258]\u001b[0m Trial 12 finished with value: 14.836012935814795 and parameters: {'n layers': 5, 'Hidden size': 235, 'Learning rate': 0.0026015313569143425, 'Dropout rate': 0.17035323945731146, 'Epochs': 350}. Best is trial 9 with value: 9.757463894336789.\u001b[0m\n"
     ]
    },
    {
     "name": "stdout",
     "output_type": "stream",
     "text": [
      "Epoch: 448/450 - train_loss: 0.1097 - test_loss: 0.056791\n"
     ]
    },
    {
     "name": "stderr",
     "output_type": "stream",
     "text": [
      "\u001b[32m[I 2023-02-13 14:57:10,458]\u001b[0m Trial 8 finished with value: 27.27239372778115 and parameters: {'n layers': 3, 'Hidden size': 275, 'Learning rate': 0.00019700374433646902, 'Dropout rate': 0.3202402109549182, 'Epochs': 230}. Best is trial 9 with value: 9.757463894336789.\u001b[0m\n",
      "\u001b[32m[I 2023-02-13 14:57:10,496]\u001b[0m A new study created in memory with name: no-name-1dd573fc-6fa6-4f6f-8128-b1b2d93fc69f\u001b[0m\n"
     ]
    },
    {
     "name": "stdout",
     "output_type": "stream",
     "text": [
      "Epoch: 449/450 - train_loss: 0.1093 - test_loss: 0.056144\n",
      "Study statistics for : \n",
      "  Number of finished trials:  50\n",
      "Best trial of city:  Hưng Yên\n",
      "  Value:  9.757463894336789\n",
      "optimize result of city: Hưng Yên\n",
      "lookback 3\n",
      "lookback 3\n",
      "lookback 3\n",
      "lookback 3\n",
      "lookback 3\n",
      "lookback 3\n",
      "lookback 3\n",
      "lookback 3\n",
      "lookback 3\n",
      "lookback 3\n",
      "lookback 3\n",
      "lookback 3\n",
      "lookback 3\n",
      "lookback 3\n",
      "lookback 3\n",
      "lookback 3\n",
      "lookback 3\n",
      "lookback 3\n",
      "lookback 3\n",
      "lookback 3\n",
      "Epoch:  0/390 - train_loss: 1.5609 - test_loss: 1.498323\n",
      "Epoch:  0/390 - train_loss: 1.2063 - test_loss: 1.049719\n",
      "Epoch:  0/390 - train_loss: 1.6480 - test_loss: 1.549736\n",
      "Epoch:  0/390 - train_loss: 1.1239 - test_loss: 0.959312\n",
      "Epoch:  0/390 - train_loss: 1.3318 - test_loss: 1.260626\n",
      "Epoch:  0/390 - train_loss: 1.0883 - test_loss: 0.754553\n",
      "Epoch:  0/390 - train_loss: 1.1169 - test_loss: 1.036021\n",
      "Epoch:  0/390 - train_loss: 0.7880 - test_loss: 0.651063Epoch:  0/390 - train_loss: 1.3038 - test_loss: 1.265034\n",
      "\n",
      "Epoch:  0/390 - train_loss: 0.9981 - test_loss: 0.961927\n",
      "Epoch:  0/390 - train_loss: 1.0711 - test_loss: 0.638202\n",
      "Epoch:  0/390 - train_loss: 1.1543 - test_loss: 1.104929\n",
      "Epoch:  0/390 - train_loss: 1.2296 - test_loss: 0.970530Epoch:  0/390 - train_loss: 1.7521 - test_loss: 2.166872\n",
      "\n",
      "Epoch:  0/390 - train_loss: 1.3312 - test_loss: 1.490726\n",
      "Epoch:  0/390 - train_loss: 1.1110 - test_loss: 0.707280\n",
      "Epoch:  0/390 - train_loss: 1.0596 - test_loss: 0.693920\n",
      "Epoch:  0/390 - train_loss: 1.0449 - test_loss: 0.877474Epoch:  0/390 - train_loss: 0.9742 - test_loss: 0.682173\n",
      "Epoch:  0/390 - train_loss: 1.2354 - test_loss: 0.905238\n",
      "\n",
      "Epoch: 97/390 - train_loss: 0.3876 - test_loss: 0.335297\n",
      "Epoch: 97/390 - train_loss: 0.5033 - test_loss: 0.458151\n",
      "Epoch: 97/390 - train_loss: 0.4514 - test_loss: 0.417526\n",
      "Epoch: 97/390 - train_loss: 0.3826 - test_loss: 0.340807\n",
      "Epoch: 97/390 - train_loss: 0.1406 - test_loss: 0.082641\n",
      "Epoch: 97/390 - train_loss: 0.1418 - test_loss: 0.079811\n",
      "Epoch: 194/390 - train_loss: 0.1953 - test_loss: 0.150705\n",
      "Epoch: 194/390 - train_loss: 0.3346 - test_loss: 0.287464\n",
      "Epoch: 97/390 - train_loss: 0.5281 - test_loss: 0.451973\n",
      "Epoch: 194/390 - train_loss: 0.2671 - test_loss: 0.236883\n",
      "Epoch: 194/390 - train_loss: 0.1986 - test_loss: 0.151357\n",
      "Epoch: 194/390 - train_loss: 0.1631 - test_loss: 0.085592\n",
      "Epoch: 194/390 - train_loss: 0.1389 - test_loss: 0.072761\n",
      "Epoch: 97/390 - train_loss: 0.1457 - test_loss: 0.072663\n",
      "Epoch: 291/390 - train_loss: 0.1567 - test_loss: 0.088813\n",
      "Epoch: 291/390 - train_loss: 0.2173 - test_loss: 0.174088\n",
      "Epoch: 291/390 - train_loss: 0.2362 - test_loss: 0.132643\n",
      "Epoch: 291/390 - train_loss: 0.1498 - test_loss: 0.088183\n",
      "Epoch: 291/390 - train_loss: 0.1468 - test_loss: 0.071142\n",
      "Epoch: 194/390 - train_loss: 0.2980 - test_loss: 0.257210\n",
      "Epoch: 291/390 - train_loss: 0.1379 - test_loss: 0.079763\n",
      "Epoch: 388/390 - train_loss: 0.1418 - test_loss: 0.078140\n",
      "Epoch: 389/390 - train_loss: 0.1403 - test_loss: 0.078598\n",
      "Epoch: 97/390 - train_loss: 0.1468 - test_loss: 0.079593\n"
     ]
    },
    {
     "name": "stderr",
     "output_type": "stream",
     "text": [
      "\u001b[32m[I 2023-02-13 15:20:20,476]\u001b[0m Trial 7 finished with value: 16.39916061784786 and parameters: {'n layers': 4, 'Hidden size': 6, 'Learning rate': 0.00022920752039105118, 'Dropout rate': 0.35821520510751703, 'Epochs': 390}. Best is trial 7 with value: 16.39916061784786.\u001b[0m\n"
     ]
    },
    {
     "name": "stdout",
     "output_type": "stream",
     "text": [
      "lookback 3\n",
      "Epoch: 388/390 - train_loss: 0.1580 - test_loss: 0.109948\n",
      "Epoch: 389/390 - train_loss: 0.1564 - test_loss: 0.109644\n"
     ]
    },
    {
     "name": "stderr",
     "output_type": "stream",
     "text": [
      "\u001b[32m[I 2023-02-13 15:20:30,115]\u001b[0m Trial 14 finished with value: 18.361970344580005 and parameters: {'n layers': 4, 'Hidden size': 350, 'Learning rate': 0.00014620248638757863, 'Dropout rate': 0.6390798485843463, 'Epochs': 190}. Best is trial 7 with value: 16.39916061784786.\u001b[0m\n"
     ]
    },
    {
     "name": "stdout",
     "output_type": "stream",
     "text": [
      "lookback 3\n",
      "Epoch: 388/390 - train_loss: 0.1438 - test_loss: 0.088486\n",
      "Epoch: 389/390 - train_loss: 0.1436 - test_loss: 0.088398\n"
     ]
    },
    {
     "name": "stderr",
     "output_type": "stream",
     "text": [
      "\u001b[32m[I 2023-02-13 15:21:41,677]\u001b[0m Trial 3 finished with value: 14.53605753221494 and parameters: {'n layers': 6, 'Hidden size': 29, 'Learning rate': 0.0001743332723143272, 'Dropout rate': 0.6049798794943577, 'Epochs': 350}. Best is trial 3 with value: 14.53605753221494.\u001b[0m\n"
     ]
    },
    {
     "name": "stdout",
     "output_type": "stream",
     "text": [
      "lookback 3\n",
      "Epoch: 388/390 - train_loss: 0.1437 - test_loss: 0.080017\n",
      "Epoch: 389/390 - train_loss: 0.1405 - test_loss: 0.078829\n",
      "Epoch: 97/390 - train_loss: 0.3945 - test_loss: 0.370770\n"
     ]
    },
    {
     "name": "stderr",
     "output_type": "stream",
     "text": [
      "\u001b[32m[I 2023-02-13 15:22:48,788]\u001b[0m Trial 13 finished with value: 15.390960581838655 and parameters: {'n layers': 5, 'Hidden size': 80, 'Learning rate': 0.00023644912007659928, 'Dropout rate': 0.048054418521515666, 'Epochs': 260}. Best is trial 3 with value: 14.53605753221494.\u001b[0m\n"
     ]
    },
    {
     "name": "stdout",
     "output_type": "stream",
     "text": [
      "lookback 3\n",
      "Epoch:  0/380 - train_loss: 1.1395 - test_loss: 0.710836\n",
      "Epoch:  0/380 - train_loss: 1.0640 - test_loss: 0.928103\n",
      "Epoch: 194/390 - train_loss: 0.1453 - test_loss: 0.081109\n",
      "Epoch: 388/390 - train_loss: 0.1387 - test_loss: 0.078100\n",
      "Epoch: 389/390 - train_loss: 0.1396 - test_loss: 0.076707\n"
     ]
    },
    {
     "name": "stderr",
     "output_type": "stream",
     "text": [
      "\u001b[32m[I 2023-02-13 15:24:27,638]\u001b[0m Trial 11 finished with value: 11.028340411937336 and parameters: {'n layers': 4, 'Hidden size': 43, 'Learning rate': 0.0047915402602871264, 'Dropout rate': 0.3835875829447381, 'Epochs': 240}. Best is trial 11 with value: 11.028340411937336.\u001b[0m\n"
     ]
    },
    {
     "name": "stdout",
     "output_type": "stream",
     "text": [
      "lookback 3\n",
      "Epoch:  0/170 - train_loss: 1.5660 - test_loss: 1.052023\n",
      "Epoch: 291/390 - train_loss: 0.1979 - test_loss: 0.153414\n",
      "Epoch:  0/170 - train_loss: 1.1359 - test_loss: 0.909638\n",
      "Epoch: 388/390 - train_loss: 0.1406 - test_loss: 0.073672\n",
      "Epoch: 389/390 - train_loss: 0.1417 - test_loss: 0.079796\n"
     ]
    },
    {
     "name": "stderr",
     "output_type": "stream",
     "text": [
      "\u001b[32m[I 2023-02-13 15:26:26,952]\u001b[0m Trial 2 finished with value: 11.9160551365056 and parameters: {'n layers': 6, 'Hidden size': 32, 'Learning rate': 0.0009314324208676539, 'Dropout rate': 0.7204910051653617, 'Epochs': 230}. Best is trial 11 with value: 11.028340411937336.\u001b[0m\n"
     ]
    },
    {
     "name": "stdout",
     "output_type": "stream",
     "text": [
      "lookback 3\n",
      "Epoch:  0/170 - train_loss: 1.2496 - test_loss: 0.987353\n",
      "Epoch: 42/170 - train_loss: 0.6409 - test_loss: 0.479425\n",
      "Epoch: 42/170 - train_loss: 0.6522 - test_loss: 0.587926\n",
      "Epoch: 194/390 - train_loss: 0.1404 - test_loss: 0.072889\n",
      "Epoch:  0/230 - train_loss: 1.0443 - test_loss: 0.961903\n",
      "Epoch: 95/380 - train_loss: 0.1442 - test_loss: 0.074502\n",
      "Epoch: 95/380 - train_loss: 0.1425 - test_loss: 0.081132\n",
      "Epoch: 42/170 - train_loss: 0.5444 - test_loss: 0.494892\n",
      "Epoch: 84/170 - train_loss: 0.3493 - test_loss: 0.298087\n",
      "Epoch: 84/170 - train_loss: 0.5127 - test_loss: 0.485604\n",
      "Epoch: 291/390 - train_loss: 0.1389 - test_loss: 0.080043\n",
      "Epoch: 84/170 - train_loss: 0.3869 - test_loss: 0.347550\n",
      "Epoch: 126/170 - train_loss: 0.2734 - test_loss: 0.187603\n",
      "Epoch: 388/390 - train_loss: 0.1504 - test_loss: 0.098861\n",
      "Epoch: 389/390 - train_loss: 0.2179 - test_loss: 0.098533\n"
     ]
    },
    {
     "name": "stderr",
     "output_type": "stream",
     "text": [
      "\u001b[32m[I 2023-02-13 15:29:12,350]\u001b[0m Trial 18 finished with value: 15.921114367281001 and parameters: {'n layers': 6, 'Hidden size': 11, 'Learning rate': 0.00014594391172552987, 'Dropout rate': 0.12083274415010264, 'Epochs': 320}. Best is trial 11 with value: 11.028340411937336.\u001b[0m\n"
     ]
    },
    {
     "name": "stdout",
     "output_type": "stream",
     "text": [
      "lookback 3\n",
      "Epoch: 57/230 - train_loss: 0.2160 - test_loss: 0.096991\n",
      "Epoch: 126/170 - train_loss: 0.4337 - test_loss: 0.400990\n",
      "Epoch: 190/380 - train_loss: 0.1424 - test_loss: 0.094732\n",
      "Epoch:  0/300 - train_loss: 1.1369 - test_loss: 0.899510\n",
      "Epoch: 190/380 - train_loss: 0.1410 - test_loss: 0.079663\n",
      "Epoch: 168/170 - train_loss: 0.1730 - test_loss: 0.125022\n",
      "Epoch: 169/170 - train_loss: 0.1755 - test_loss: 0.124202\n"
     ]
    },
    {
     "name": "stderr",
     "output_type": "stream",
     "text": [
      "\u001b[32m[I 2023-02-13 15:30:27,803]\u001b[0m Trial 22 finished with value: 14.709787413680218 and parameters: {'n layers': 5, 'Hidden size': 257, 'Learning rate': 0.00029119016516551325, 'Dropout rate': 0.13902048828217928, 'Epochs': 170}. Best is trial 11 with value: 11.028340411937336.\u001b[0m\n"
     ]
    },
    {
     "name": "stdout",
     "output_type": "stream",
     "text": [
      "lookback 3\n",
      "Epoch: 126/170 - train_loss: 0.2779 - test_loss: 0.237146\n",
      "Epoch: 194/390 - train_loss: 0.2131 - test_loss: 0.179941\n",
      "Epoch: 168/170 - train_loss: 0.3642 - test_loss: 0.329616\n",
      "Epoch: 169/170 - train_loss: 0.3538 - test_loss: 0.327807\n"
     ]
    },
    {
     "name": "stderr",
     "output_type": "stream",
     "text": [
      "\u001b[32m[I 2023-02-13 15:31:14,467]\u001b[0m Trial 23 finished with value: 16.046389957734778 and parameters: {'n layers': 4, 'Hidden size': 266, 'Learning rate': 0.0001414697843609365, 'Dropout rate': 0.7206208440458587, 'Epochs': 380}. Best is trial 11 with value: 11.028340411937336.\u001b[0m\n"
     ]
    },
    {
     "name": "stdout",
     "output_type": "stream",
     "text": [
      "lookback 3\n",
      "Epoch: 114/230 - train_loss: 0.1399 - test_loss: 0.073811\n",
      "Epoch:  0/450 - train_loss: 1.3378 - test_loss: 1.451322\n",
      "Epoch: 168/170 - train_loss: 0.2091 - test_loss: 0.160880\n",
      "Epoch: 169/170 - train_loss: 0.2047 - test_loss: 0.162096\n"
     ]
    },
    {
     "name": "stderr",
     "output_type": "stream",
     "text": [
      "\u001b[32m[I 2023-02-13 15:32:44,861]\u001b[0m Trial 24 finished with value: 12.238062019392755 and parameters: {'n layers': 4, 'Hidden size': 10, 'Learning rate': 0.0002590250791035713, 'Dropout rate': 0.18185032751769384, 'Epochs': 170}. Best is trial 11 with value: 11.028340411937336.\u001b[0m\n"
     ]
    },
    {
     "name": "stdout",
     "output_type": "stream",
     "text": [
      "lookback 3\n",
      "Epoch: 97/390 - train_loss: 0.1488 - test_loss: 0.078714\n",
      "Epoch:  0/490 - train_loss: 1.4514 - test_loss: 1.152401\n",
      "Epoch: 291/390 - train_loss: 0.1394 - test_loss: 0.073150\n",
      "Epoch: 388/390 - train_loss: 0.1385 - test_loss: 0.076807\n",
      "Epoch: 389/390 - train_loss: 0.1379 - test_loss: 0.077123\n"
     ]
    },
    {
     "name": "stderr",
     "output_type": "stream",
     "text": [
      "\u001b[32m[I 2023-02-13 15:33:56,967]\u001b[0m Trial 15 finished with value: 10.072206581169256 and parameters: {'n layers': 5, 'Hidden size': 5, 'Learning rate': 0.0015638404324097783, 'Dropout rate': 0.09207268248710423, 'Epochs': 500}. Best is trial 15 with value: 10.072206581169256.\u001b[0m\n"
     ]
    },
    {
     "name": "stdout",
     "output_type": "stream",
     "text": [
      "lookback 3\n",
      "Epoch: 75/300 - train_loss: 0.1436 - test_loss: 0.084177\n",
      "Epoch:  0/440 - train_loss: 1.0024 - test_loss: 0.682875\n",
      "Epoch: 285/380 - train_loss: 0.1424 - test_loss: 0.074349\n",
      "Epoch: 171/230 - train_loss: 0.1423 - test_loss: 0.074041\n",
      "Epoch: 285/380 - train_loss: 0.1411 - test_loss: 0.074914\n",
      "Epoch:  0/440 - train_loss: 0.8362 - test_loss: 0.570358\n",
      "Epoch: 112/450 - train_loss: 0.4244 - test_loss: 0.397860\n",
      "Epoch: 228/230 - train_loss: 0.1383 - test_loss: 0.080370\n",
      "Epoch: 229/230 - train_loss: 0.1423 - test_loss: 0.079617\n"
     ]
    },
    {
     "name": "stderr",
     "output_type": "stream",
     "text": [
      "\u001b[32m[I 2023-02-13 15:37:09,266]\u001b[0m Trial 25 finished with value: 13.134115641328705 and parameters: {'n layers': 6, 'Hidden size': 153, 'Learning rate': 0.0011233339017742013, 'Dropout rate': 0.7434240633050987, 'Epochs': 230}. Best is trial 15 with value: 10.072206581169256.\u001b[0m\n"
     ]
    },
    {
     "name": "stdout",
     "output_type": "stream",
     "text": [
      "lookback 3\n",
      "Epoch: 379/380 - train_loss: 0.1532 - test_loss: 0.080092\n"
     ]
    },
    {
     "name": "stderr",
     "output_type": "stream",
     "text": [
      "\u001b[32m[I 2023-02-13 15:37:57,615]\u001b[0m Trial 20 finished with value: 10.149277720324019 and parameters: {'n layers': 5, 'Hidden size': 23, 'Learning rate': 0.0015647367813419355, 'Dropout rate': 0.39289473284444365, 'Epochs': 340}. Best is trial 15 with value: 10.072206581169256.\u001b[0m\n"
     ]
    },
    {
     "name": "stdout",
     "output_type": "stream",
     "text": [
      "lookback 3\n",
      "Epoch: 122/490 - train_loss: 0.1409 - test_loss: 0.078819\n",
      "Epoch: 150/300 - train_loss: 0.1430 - test_loss: 0.082557\n",
      "Epoch: 379/380 - train_loss: 0.1394 - test_loss: 0.076384\n"
     ]
    },
    {
     "name": "stderr",
     "output_type": "stream",
     "text": [
      "\u001b[32m[I 2023-02-13 15:38:20,050]\u001b[0m Trial 21 finished with value: 14.081893109017955 and parameters: {'n layers': 6, 'Hidden size': 19, 'Learning rate': 0.0014897749825403578, 'Dropout rate': 0.15482836701813002, 'Epochs': 270}. Best is trial 15 with value: 10.072206581169256.\u001b[0m\n"
     ]
    },
    {
     "name": "stdout",
     "output_type": "stream",
     "text": [
      "lookback 3\n",
      "Epoch:  0/500 - train_loss: 1.1351 - test_loss: 0.665435\n",
      "Epoch: 110/440 - train_loss: 0.1418 - test_loss: 0.085927\n",
      "Epoch: 291/390 - train_loss: 0.1471 - test_loss: 0.097580\n",
      "Epoch:  0/500 - train_loss: 0.8771 - test_loss: 0.755521\n",
      "Epoch: 388/390 - train_loss: 0.1383 - test_loss: 0.074554\n",
      "Epoch: 389/390 - train_loss: 0.1409 - test_loss: 0.073530\n"
     ]
    },
    {
     "name": "stderr",
     "output_type": "stream",
     "text": [
      "\u001b[32m[I 2023-02-13 15:40:47,943]\u001b[0m Trial 12 finished with value: 12.791469970028217 and parameters: {'n layers': 3, 'Hidden size': 173, 'Learning rate': 0.0026931542763864863, 'Dropout rate': 0.6471961629249725, 'Epochs': 390}. Best is trial 15 with value: 10.072206581169256.\u001b[0m\n"
     ]
    },
    {
     "name": "stdout",
     "output_type": "stream",
     "text": [
      "lookback 3\n",
      "Epoch:  0/500 - train_loss: 0.9131 - test_loss: 0.679287\n",
      "Epoch: 224/450 - train_loss: 0.2628 - test_loss: 0.214842\n",
      "Epoch:  0/470 - train_loss: 0.8395 - test_loss: 0.558776\n",
      "Epoch: 225/300 - train_loss: 0.1430 - test_loss: 0.078394\n",
      "Epoch: 110/440 - train_loss: 0.1425 - test_loss: 0.076043\n",
      "Epoch: 244/490 - train_loss: 0.1390 - test_loss: 0.079739\n",
      "Epoch: 220/440 - train_loss: 0.1455 - test_loss: 0.075527\n",
      "Epoch: 125/500 - train_loss: 0.1423 - test_loss: 0.080557\n",
      "Epoch: 125/500 - train_loss: 0.1390 - test_loss: 0.080065\n",
      "Epoch: 125/500 - train_loss: 0.1420 - test_loss: 0.070053\n",
      "Epoch: 336/450 - train_loss: 0.1640 - test_loss: 0.122664\n",
      "Epoch: 299/300 - train_loss: 0.1513 - test_loss: 0.074954\n"
     ]
    },
    {
     "name": "stderr",
     "output_type": "stream",
     "text": [
      "\u001b[32m[I 2023-02-13 15:45:18,308]\u001b[0m Trial 26 finished with value: 11.607613197699763 and parameters: {'n layers': 5, 'Hidden size': 19, 'Learning rate': 0.0011877262909005292, 'Dropout rate': 0.3056048609918742, 'Epochs': 300}. Best is trial 15 with value: 10.072206581169256.\u001b[0m\n"
     ]
    },
    {
     "name": "stdout",
     "output_type": "stream",
     "text": [
      "lookback 3\n",
      "Epoch: 97/390 - train_loss: 0.5081 - test_loss: 0.468889\n",
      "Epoch:  0/490 - train_loss: 1.0532 - test_loss: 0.803633\n",
      "Epoch: 366/490 - train_loss: 0.1402 - test_loss: 0.075927\n",
      "Epoch: 330/440 - train_loss: 0.1381 - test_loss: 0.075628\n",
      "Epoch: 250/500 - train_loss: 0.1387 - test_loss: 0.080765\n",
      "Epoch: 250/500 - train_loss: 0.1383 - test_loss: 0.078681\n",
      "Epoch: 220/440 - train_loss: 0.1406 - test_loss: 0.077910\n",
      "Epoch: 448/450 - train_loss: 0.1393 - test_loss: 0.084155\n",
      "Epoch: 449/450 - train_loss: 0.1444 - test_loss: 0.083320\n"
     ]
    },
    {
     "name": "stderr",
     "output_type": "stream",
     "text": [
      "\u001b[32m[I 2023-02-13 15:48:45,488]\u001b[0m Trial 27 finished with value: 15.636222875978774 and parameters: {'n layers': 3, 'Hidden size': 33, 'Learning rate': 0.00016217029594496043, 'Dropout rate': 0.018158752748101192, 'Epochs': 440}. Best is trial 15 with value: 10.072206581169256.\u001b[0m\n"
     ]
    },
    {
     "name": "stdout",
     "output_type": "stream",
     "text": [
      "lookback 3\n",
      "Epoch: 250/500 - train_loss: 0.1504 - test_loss: 0.069804\n",
      "Epoch: 194/390 - train_loss: 0.1438 - test_loss: 0.075046\n",
      "Epoch:  0/500 - train_loss: 1.2265 - test_loss: 0.801442\n",
      "Epoch: 388/390 - train_loss: 0.1448 - test_loss: 0.078329\n",
      "Epoch: 389/390 - train_loss: 0.1384 - test_loss: 0.079573\n"
     ]
    },
    {
     "name": "stderr",
     "output_type": "stream",
     "text": [
      "\u001b[32m[I 2023-02-13 15:50:48,247]\u001b[0m Trial 0 finished with value: 14.253575460212438 and parameters: {'n layers': 3, 'Hidden size': 164, 'Learning rate': 0.00022032322707941554, 'Dropout rate': 0.5765883928621125, 'Epochs': 130}. Best is trial 15 with value: 10.072206581169256.\u001b[0m\n"
     ]
    },
    {
     "name": "stdout",
     "output_type": "stream",
     "text": [
      "lookback 3\n",
      "Epoch: 117/470 - train_loss: 0.1408 - test_loss: 0.076182\n",
      "Epoch: 439/440 - train_loss: 0.1440 - test_loss: 0.070296\n"
     ]
    },
    {
     "name": "stderr",
     "output_type": "stream",
     "text": [
      "\u001b[32m[I 2023-02-13 15:51:33,878]\u001b[0m Trial 29 finished with value: 15.129427156631786 and parameters: {'n layers': 3, 'Hidden size': 85, 'Learning rate': 0.009205771558098205, 'Dropout rate': 0.40941222750871303, 'Epochs': 490}. Best is trial 15 with value: 10.072206581169256.\u001b[0m\n"
     ]
    },
    {
     "name": "stdout",
     "output_type": "stream",
     "text": [
      "lookback 3\n",
      "Epoch: 488/490 - train_loss: 0.1434 - test_loss: 0.070534\n",
      "Epoch: 489/490 - train_loss: 0.1397 - test_loss: 0.072413\n"
     ]
    },
    {
     "name": "stderr",
     "output_type": "stream",
     "text": [
      "\u001b[32m[I 2023-02-13 15:51:48,133]\u001b[0m Trial 28 finished with value: 9.730027040065039 and parameters: {'n layers': 6, 'Hidden size': 192, 'Learning rate': 0.000902420551591793, 'Dropout rate': 0.5830703320110455, 'Epochs': 450}. Best is trial 28 with value: 9.730027040065039.\u001b[0m\n"
     ]
    },
    {
     "name": "stdout",
     "output_type": "stream",
     "text": [
      "lookback 3\n",
      "Epoch: 122/490 - train_loss: 0.1558 - test_loss: 0.089410\n",
      "Epoch:  0/490 - train_loss: 1.1766 - test_loss: 0.784793\n",
      "Epoch: 375/500 - train_loss: 0.1422 - test_loss: 0.073833\n",
      "Epoch: 375/500 - train_loss: 0.1520 - test_loss: 0.076450\n",
      "Epoch:  0/490 - train_loss: 1.3402 - test_loss: 1.070265\n",
      "Epoch:  0/490 - train_loss: 1.3786 - test_loss: 1.535604\n",
      "Epoch: 330/440 - train_loss: 0.1400 - test_loss: 0.071119\n",
      "Epoch: 375/500 - train_loss: 0.1417 - test_loss: 0.075056\n",
      "Epoch: 125/500 - train_loss: 0.1477 - test_loss: 0.089410\n",
      "Epoch: 499/500 - train_loss: 0.1437 - test_loss: 0.074895\n"
     ]
    },
    {
     "name": "stderr",
     "output_type": "stream",
     "text": [
      "\u001b[32m[I 2023-02-13 15:57:05,888]\u001b[0m Trial 32 finished with value: 10.044954988738446 and parameters: {'n layers': 3, 'Hidden size': 5, 'Learning rate': 0.002675883887760207, 'Dropout rate': 0.5218051355997041, 'Epochs': 500}. Best is trial 28 with value: 9.730027040065039.\u001b[0m\n"
     ]
    },
    {
     "name": "stdout",
     "output_type": "stream",
     "text": [
      "lookback 3\n",
      "Epoch: 499/500 - train_loss: 0.1420 - test_loss: 0.081527\n"
     ]
    },
    {
     "name": "stderr",
     "output_type": "stream",
     "text": [
      "\u001b[32m[I 2023-02-13 15:57:27,210]\u001b[0m Trial 33 finished with value: 13.59025110452872 and parameters: {'n layers': 3, 'Hidden size': 7, 'Learning rate': 0.003228129304121892, 'Dropout rate': 0.5214167084416541, 'Epochs': 500}. Best is trial 28 with value: 9.730027040065039.\u001b[0m\n"
     ]
    },
    {
     "name": "stdout",
     "output_type": "stream",
     "text": [
      "lookback 3\n",
      "Epoch: 122/490 - train_loss: 0.1473 - test_loss: 0.097790\n",
      "Epoch: 122/490 - train_loss: 0.1474 - test_loss: 0.093286\n",
      "Epoch: 244/490 - train_loss: 0.2239 - test_loss: 0.081028\n",
      "Epoch:  0/460 - train_loss: 1.4812 - test_loss: 1.707111\n",
      "Epoch:  0/460 - train_loss: 0.9441 - test_loss: 0.797146\n",
      "Epoch: 499/500 - train_loss: 0.1424 - test_loss: 0.076224\n",
      "Epoch: 234/470 - train_loss: 0.1378 - test_loss: 0.073490\n"
     ]
    },
    {
     "name": "stderr",
     "output_type": "stream",
     "text": [
      "\u001b[32m[I 2023-02-13 16:00:22,124]\u001b[0m Trial 31 finished with value: 9.97706838568197 and parameters: {'n layers': 3, 'Hidden size': 50, 'Learning rate': 0.007782955720759884, 'Dropout rate': 0.3565346224087534, 'Epochs': 500}. Best is trial 28 with value: 9.730027040065039.\u001b[0m\n"
     ]
    },
    {
     "name": "stdout",
     "output_type": "stream",
     "text": [
      "lookback 3\n",
      "Epoch: 250/500 - train_loss: 0.1428 - test_loss: 0.074131\n",
      "Epoch: 439/440 - train_loss: 0.1381 - test_loss: 0.075964\n"
     ]
    },
    {
     "name": "stderr",
     "output_type": "stream",
     "text": [
      "\u001b[32m[I 2023-02-13 16:01:11,185]\u001b[0m Trial 30 finished with value: 7.848636378261666 and parameters: {'n layers': 3, 'Hidden size': 90, 'Learning rate': 0.008480506576139819, 'Dropout rate': 0.3901523301308504, 'Epochs': 440}. Best is trial 30 with value: 7.848636378261666.\u001b[0m\n"
     ]
    },
    {
     "name": "stdout",
     "output_type": "stream",
     "text": [
      "lookback 3\n",
      "Epoch:  0/440 - train_loss: 0.9916 - test_loss: 0.915909\n",
      "Epoch: 291/390 - train_loss: 0.1395 - test_loss: 0.075144\n",
      "Epoch:  0/440 - train_loss: 1.2137 - test_loss: 0.893841\n",
      "Epoch: 244/490 - train_loss: 0.1380 - test_loss: 0.078030\n",
      "Epoch: 115/460 - train_loss: 0.1588 - test_loss: 0.133325\n",
      "Epoch: 244/490 - train_loss: 0.1418 - test_loss: 0.076350\n",
      "Epoch: 115/460 - train_loss: 0.1499 - test_loss: 0.099521\n",
      "Epoch: 366/490 - train_loss: 0.1383 - test_loss: 0.078075\n",
      "Epoch: 375/500 - train_loss: 0.1386 - test_loss: 0.072338\n",
      "Epoch: 110/440 - train_loss: 0.1636 - test_loss: 0.111908\n",
      "Epoch: 230/460 - train_loss: 0.1484 - test_loss: 0.073157\n",
      "Epoch: 122/490 - train_loss: 0.1467 - test_loss: 0.080256\n",
      "Epoch: 366/490 - train_loss: 0.1446 - test_loss: 0.073870\n",
      "Epoch: 230/460 - train_loss: 0.1417 - test_loss: 0.077943\n",
      "Epoch: 366/490 - train_loss: 0.1395 - test_loss: 0.076976\n",
      "Epoch: 499/500 - train_loss: 0.1504 - test_loss: 0.079747\n"
     ]
    },
    {
     "name": "stderr",
     "output_type": "stream",
     "text": [
      "\u001b[32m[I 2023-02-13 16:07:48,860]\u001b[0m Trial 36 finished with value: 13.842556036746311 and parameters: {'n layers': 5, 'Hidden size': 5, 'Learning rate': 0.0005916406825286478, 'Dropout rate': 0.48318768301030623, 'Epochs': 500}. Best is trial 30 with value: 7.848636378261666.\u001b[0m\n"
     ]
    },
    {
     "name": "stdout",
     "output_type": "stream",
     "text": [
      "lookback 3\n",
      "Epoch: 110/440 - train_loss: 0.1642 - test_loss: 0.106596\n",
      "Epoch: 97/390 - train_loss: 0.1439 - test_loss: 0.084826\n",
      "Epoch: 351/470 - train_loss: 0.1418 - test_loss: 0.073228\n",
      "Epoch: 488/490 - train_loss: 0.1382 - test_loss: 0.074419\n",
      "Epoch: 489/490 - train_loss: 0.1383 - test_loss: 0.076019\n"
     ]
    },
    {
     "name": "stderr",
     "output_type": "stream",
     "text": [
      "\u001b[32m[I 2023-02-13 16:09:19,832]\u001b[0m Trial 35 finished with value: 11.961609288171454 and parameters: {'n layers': 5, 'Hidden size': 5, 'Learning rate': 0.0005907431130595183, 'Dropout rate': 0.5162967993821035, 'Epochs': 490}. Best is trial 30 with value: 7.848636378261666.\u001b[0m\n"
     ]
    },
    {
     "name": "stdout",
     "output_type": "stream",
     "text": [
      "lookback 3\n",
      "Epoch:  0/450 - train_loss: 0.9896 - test_loss: 0.644326\n",
      "Epoch: 220/440 - train_loss: 0.1426 - test_loss: 0.076581\n",
      "Epoch: 345/460 - train_loss: 0.1373 - test_loss: 0.074410\n",
      "Epoch: 345/460 - train_loss: 0.1476 - test_loss: 0.077121\n",
      "Epoch:  0/450 - train_loss: 0.8810 - test_loss: 0.546035\n",
      "Epoch: 488/490 - train_loss: 0.1374 - test_loss: 0.075577\n",
      "Epoch: 489/490 - train_loss: 0.1495 - test_loss: 0.074770\n"
     ]
    },
    {
     "name": "stderr",
     "output_type": "stream",
     "text": [
      "\u001b[32m[I 2023-02-13 16:11:19,570]\u001b[0m Trial 39 finished with value: 12.550723545184717 and parameters: {'n layers': 5, 'Hidden size': 5, 'Learning rate': 0.0005228928027127695, 'Dropout rate': 0.5013167869585662, 'Epochs': 490}. Best is trial 30 with value: 7.848636378261666.\u001b[0m\n"
     ]
    },
    {
     "name": "stdout",
     "output_type": "stream",
     "text": [
      "lookback 3\n",
      "Epoch: 488/490 - train_loss: 0.1392 - test_loss: 0.074365\n",
      "Epoch: 489/490 - train_loss: 0.1395 - test_loss: 0.077741\n"
     ]
    },
    {
     "name": "stderr",
     "output_type": "stream",
     "text": [
      "\u001b[32m[I 2023-02-13 16:12:15,569]\u001b[0m Trial 38 finished with value: 12.693247447635416 and parameters: {'n layers': 5, 'Hidden size': 5, 'Learning rate': 0.0005618743631058852, 'Dropout rate': 0.4721297932937216, 'Epochs': 480}. Best is trial 30 with value: 7.848636378261666.\u001b[0m\n"
     ]
    },
    {
     "name": "stdout",
     "output_type": "stream",
     "text": [
      "lookback 3\n",
      "Epoch:  0/440 - train_loss: 0.7664 - test_loss: 0.570272\n",
      "Epoch:  0/440 - train_loss: 0.7549 - test_loss: 0.548517\n",
      "Epoch: 112/450 - train_loss: 0.1385 - test_loss: 0.081130\n",
      "Epoch: 220/440 - train_loss: 0.1425 - test_loss: 0.075576\n",
      "Epoch: 330/440 - train_loss: 0.1402 - test_loss: 0.083602\n",
      "Epoch: 459/460 - train_loss: 0.1473 - test_loss: 0.074154\n"
     ]
    },
    {
     "name": "stderr",
     "output_type": "stream",
     "text": [
      "\u001b[32m[I 2023-02-13 16:15:05,829]\u001b[0m Trial 40 finished with value: 10.521613362843018 and parameters: {'n layers': 5, 'Hidden size': 5, 'Learning rate': 0.0005555709889876319, 'Dropout rate': 0.5028521571367968, 'Epochs': 500}. Best is trial 30 with value: 7.848636378261666.\u001b[0m\n"
     ]
    },
    {
     "name": "stdout",
     "output_type": "stream",
     "text": [
      "lookback 3\n",
      "Epoch: 459/460 - train_loss: 0.1433 - test_loss: 0.077420\n"
     ]
    },
    {
     "name": "stderr",
     "output_type": "stream",
     "text": [
      "\u001b[32m[I 2023-02-13 16:15:28,544]\u001b[0m Trial 41 finished with value: 13.314016042267008 and parameters: {'n layers': 5, 'Hidden size': 5, 'Learning rate': 0.0005705808867545546, 'Dropout rate': 0.48485958606326984, 'Epochs': 460}. Best is trial 30 with value: 7.848636378261666.\u001b[0m\n"
     ]
    },
    {
     "name": "stdout",
     "output_type": "stream",
     "text": [
      "lookback 3\n",
      "Epoch: 194/390 - train_loss: 0.3338 - test_loss: 0.302367\n",
      "Epoch: 112/450 - train_loss: 0.1477 - test_loss: 0.108503\n",
      "Epoch: 468/470 - train_loss: 0.1394 - test_loss: 0.079431\n",
      "Epoch: 469/470 - train_loss: 0.1378 - test_loss: 0.067911\n"
     ]
    },
    {
     "name": "stderr",
     "output_type": "stream",
     "text": [
      "\u001b[32m[I 2023-02-13 16:17:05,202]\u001b[0m Trial 34 finished with value: 11.745784818963934 and parameters: {'n layers': 5, 'Hidden size': 5, 'Learning rate': 0.009151583875449497, 'Dropout rate': 0.2820654060887591, 'Epochs': 470}. Best is trial 30 with value: 7.848636378261666.\u001b[0m\n"
     ]
    },
    {
     "name": "stdout",
     "output_type": "stream",
     "text": [
      "Epoch:  0/430 - train_loss: 0.8631 - test_loss: 0.569437\n",
      "Epoch:  0/430 - train_loss: 0.9285 - test_loss: 0.558935\n",
      "Epoch: 110/440 - train_loss: 0.1403 - test_loss: 0.079065\n",
      "Epoch: 244/490 - train_loss: 0.1387 - test_loss: 0.080044\n",
      "Epoch: 110/440 - train_loss: 0.1454 - test_loss: 0.075522\n",
      "Epoch: 224/450 - train_loss: 0.1385 - test_loss: 0.072354\n",
      "Epoch: 439/440 - train_loss: 0.1414 - test_loss: 0.078387\n",
      "Epoch: 388/390 - train_loss: 0.1405 - test_loss: 0.072307\n"
     ]
    },
    {
     "name": "stderr",
     "output_type": "stream",
     "text": [
      "\u001b[32m[I 2023-02-13 16:19:34,428]\u001b[0m Trial 42 finished with value: 13.611825544060586 and parameters: {'n layers': 3, 'Hidden size': 53, 'Learning rate': 0.0005418712810453421, 'Dropout rate': 0.49970776181996357, 'Epochs': 450}. Best is trial 30 with value: 7.848636378261666.\u001b[0m\n"
     ]
    },
    {
     "name": "stdout",
     "output_type": "stream",
     "text": [
      "Epoch: 389/390 - train_loss: 0.1385 - test_loss: 0.077850\n"
     ]
    },
    {
     "name": "stderr",
     "output_type": "stream",
     "text": [
      "\u001b[32m[I 2023-02-13 16:19:39,971]\u001b[0m Trial 5 finished with value: 10.958043232029626 and parameters: {'n layers': 4, 'Hidden size': 11, 'Learning rate': 0.006451247202914101, 'Dropout rate': 0.7558277084410102, 'Epochs': 190}. Best is trial 30 with value: 7.848636378261666.\u001b[0m\n"
     ]
    },
    {
     "name": "stdout",
     "output_type": "stream",
     "text": [
      "Epoch: 107/430 - train_loss: 0.1393 - test_loss: 0.073925\n",
      "Epoch: 107/430 - train_loss: 0.1389 - test_loss: 0.073517\n",
      "Epoch: 330/440 - train_loss: 0.1442 - test_loss: 0.077225\n",
      "Epoch: 220/440 - train_loss: 0.1390 - test_loss: 0.074905\n",
      "Epoch: 224/450 - train_loss: 0.1515 - test_loss: 0.090003\n",
      "Epoch: 336/450 - train_loss: 0.1413 - test_loss: 0.071422\n",
      "Epoch: 220/440 - train_loss: 0.1387 - test_loss: 0.075385\n",
      "Epoch: 214/430 - train_loss: 0.1391 - test_loss: 0.071501\n",
      "Epoch: 214/430 - train_loss: 0.1387 - test_loss: 0.076381\n",
      "Epoch: 330/440 - train_loss: 0.1415 - test_loss: 0.080541\n",
      "Epoch: 448/450 - train_loss: 0.1491 - test_loss: 0.087628\n",
      "Epoch: 449/450 - train_loss: 0.1417 - test_loss: 0.078586\n"
     ]
    },
    {
     "name": "stderr",
     "output_type": "stream",
     "text": [
      "\u001b[32m[I 2023-02-13 16:24:03,458]\u001b[0m Trial 44 finished with value: 12.1531193328438 and parameters: {'n layers': 3, 'Hidden size': 71, 'Learning rate': 0.008741089650291791, 'Dropout rate': 0.25174327538771135, 'Epochs': 440}. Best is trial 30 with value: 7.848636378261666.\u001b[0m\n"
     ]
    },
    {
     "name": "stdout",
     "output_type": "stream",
     "text": [
      "Epoch: 336/450 - train_loss: 0.1390 - test_loss: 0.070067\n",
      "Epoch: 330/440 - train_loss: 0.1378 - test_loss: 0.079382\n",
      "Epoch: 439/440 - train_loss: 0.1487 - test_loss: 0.072050\n"
     ]
    },
    {
     "name": "stderr",
     "output_type": "stream",
     "text": [
      "\u001b[32m[I 2023-02-13 16:24:24,737]\u001b[0m Trial 43 finished with value: 13.837751866817742 and parameters: {'n layers': 3, 'Hidden size': 78, 'Learning rate': 0.0005479974903085575, 'Dropout rate': 0.25802873510307434, 'Epochs': 440}. Best is trial 30 with value: 7.848636378261666.\u001b[0m\n"
     ]
    },
    {
     "name": "stdout",
     "output_type": "stream",
     "text": [
      "Epoch: 366/490 - train_loss: 0.1488 - test_loss: 0.078821\n",
      "Epoch: 321/430 - train_loss: 0.1391 - test_loss: 0.071600\n",
      "Epoch: 291/390 - train_loss: 0.2252 - test_loss: 0.187221\n",
      "Epoch: 321/430 - train_loss: 0.1410 - test_loss: 0.073659\n",
      "Epoch: 439/440 - train_loss: 0.1521 - test_loss: 0.068627\n"
     ]
    },
    {
     "name": "stderr",
     "output_type": "stream",
     "text": [
      "\u001b[32m[I 2023-02-13 16:26:01,498]\u001b[0m Trial 46 finished with value: 9.91931893969332 and parameters: {'n layers': 3, 'Hidden size': 67, 'Learning rate': 0.00769761607366427, 'Dropout rate': 0.24082999867792873, 'Epochs': 450}. Best is trial 30 with value: 7.848636378261666.\u001b[0m\n"
     ]
    },
    {
     "name": "stdout",
     "output_type": "stream",
     "text": [
      "Epoch: 194/390 - train_loss: 0.1466 - test_loss: 0.084929\n",
      "Epoch: 439/440 - train_loss: 0.1520 - test_loss: 0.075737\n"
     ]
    },
    {
     "name": "stderr",
     "output_type": "stream",
     "text": [
      "\u001b[32m[I 2023-02-13 16:26:59,930]\u001b[0m Trial 47 finished with value: 7.741752502143932 and parameters: {'n layers': 3, 'Hidden size': 62, 'Learning rate': 0.00904413890957787, 'Dropout rate': 0.2535366970915213, 'Epochs': 440}. Best is trial 47 with value: 7.741752502143932.\u001b[0m\n"
     ]
    },
    {
     "name": "stdout",
     "output_type": "stream",
     "text": [
      "Epoch: 448/450 - train_loss: 0.1390 - test_loss: 0.072769\n",
      "Epoch: 449/450 - train_loss: 0.1393 - test_loss: 0.069912\n"
     ]
    },
    {
     "name": "stderr",
     "output_type": "stream",
     "text": [
      "\u001b[32m[I 2023-02-13 16:27:06,915]\u001b[0m Trial 45 finished with value: 11.20386959839808 and parameters: {'n layers': 3, 'Hidden size': 67, 'Learning rate': 0.009640357931479274, 'Dropout rate': 0.24976350228385455, 'Epochs': 450}. Best is trial 47 with value: 7.741752502143932.\u001b[0m\n"
     ]
    },
    {
     "name": "stdout",
     "output_type": "stream",
     "text": [
      "Epoch: 428/430 - train_loss: 0.1453 - test_loss: 0.069228\n",
      "Epoch: 429/430 - train_loss: 0.1390 - test_loss: 0.077853\n"
     ]
    },
    {
     "name": "stderr",
     "output_type": "stream",
     "text": [
      "\u001b[32m[I 2023-02-13 16:27:32,959]\u001b[0m Trial 48 finished with value: 12.000535846388658 and parameters: {'n layers': 3, 'Hidden size': 73, 'Learning rate': 0.009105891139646915, 'Dropout rate': 0.24775424645250876, 'Epochs': 450}. Best is trial 47 with value: 7.741752502143932.\u001b[0m\n"
     ]
    },
    {
     "name": "stdout",
     "output_type": "stream",
     "text": [
      "Epoch: 428/430 - train_loss: 0.1384 - test_loss: 0.072606\n",
      "Epoch: 488/490 - train_loss: 0.1381 - test_loss: 0.079107\n",
      "Epoch: 429/430 - train_loss: 0.1418 - test_loss: 0.074714\n",
      "Epoch: 489/490 - train_loss: 0.1381 - test_loss: 0.075754\n"
     ]
    },
    {
     "name": "stderr",
     "output_type": "stream",
     "text": [
      "\u001b[32m[I 2023-02-13 16:27:48,879]\u001b[0m Trial 49 finished with value: 8.079833932415044 and parameters: {'n layers': 3, 'Hidden size': 69, 'Learning rate': 0.009983372050975, 'Dropout rate': 0.2656954757364399, 'Epochs': 430}. Best is trial 47 with value: 7.741752502143932.\u001b[0m\n",
      "\u001b[32m[I 2023-02-13 16:27:49,793]\u001b[0m Trial 37 finished with value: 13.491270357272873 and parameters: {'n layers': 5, 'Hidden size': 5, 'Learning rate': 0.0005811783344392528, 'Dropout rate': 0.26868739911120043, 'Epochs': 500}. Best is trial 47 with value: 7.741752502143932.\u001b[0m\n"
     ]
    },
    {
     "name": "stdout",
     "output_type": "stream",
     "text": [
      "Epoch: 388/390 - train_loss: 0.1665 - test_loss: 0.118579\n",
      "Epoch: 389/390 - train_loss: 0.1664 - test_loss: 0.118680\n"
     ]
    },
    {
     "name": "stderr",
     "output_type": "stream",
     "text": [
      "\u001b[32m[I 2023-02-13 16:28:01,306]\u001b[0m Trial 19 finished with value: 16.46486565387632 and parameters: {'n layers': 5, 'Hidden size': 34, 'Learning rate': 0.00013853518517369567, 'Dropout rate': 0.721643994938887, 'Epochs': 390}. Best is trial 47 with value: 7.741752502143932.\u001b[0m\n"
     ]
    },
    {
     "name": "stdout",
     "output_type": "stream",
     "text": [
      "Epoch: 97/390 - train_loss: 0.3101 - test_loss: 0.278122\n",
      "Epoch: 97/390 - train_loss: 0.1428 - test_loss: 0.082962\n",
      "Epoch: 97/390 - train_loss: 0.1405 - test_loss: 0.082043\n",
      "Epoch: 291/390 - train_loss: 0.1387 - test_loss: 0.069643\n",
      "Epoch: 97/390 - train_loss: 0.1449 - test_loss: 0.077654\n",
      "Epoch: 97/390 - train_loss: 0.1417 - test_loss: 0.073033\n",
      "Epoch: 194/390 - train_loss: 0.1583 - test_loss: 0.112854\n",
      "Epoch: 194/390 - train_loss: 0.1432 - test_loss: 0.077147\n",
      "Epoch: 97/390 - train_loss: 0.1419 - test_loss: 0.071376\n",
      "Epoch: 194/390 - train_loss: 0.1526 - test_loss: 0.082520\n",
      "Epoch: 388/390 - train_loss: 0.1423 - test_loss: 0.072542\n",
      "Epoch: 389/390 - train_loss: 0.1466 - test_loss: 0.070850\n"
     ]
    },
    {
     "name": "stderr",
     "output_type": "stream",
     "text": [
      "\u001b[32m[I 2023-02-13 16:30:44,512]\u001b[0m Trial 1 finished with value: 7.999118544134411 and parameters: {'n layers': 3, 'Hidden size': 86, 'Learning rate': 0.006360995950125661, 'Dropout rate': 0.10228882010114271, 'Epochs': 350}. Best is trial 47 with value: 7.741752502143932.\u001b[0m\n"
     ]
    },
    {
     "name": "stdout",
     "output_type": "stream",
     "text": [
      "Epoch: 97/390 - train_loss: 0.3355 - test_loss: 0.260416\n",
      "Epoch: 194/390 - train_loss: 0.1388 - test_loss: 0.071802\n",
      "Epoch: 194/390 - train_loss: 0.1387 - test_loss: 0.078230\n",
      "Epoch: 291/390 - train_loss: 0.1387 - test_loss: 0.079604\n",
      "Epoch: 291/390 - train_loss: 0.1394 - test_loss: 0.075330\n",
      "Epoch: 291/390 - train_loss: 0.1388 - test_loss: 0.074168\n",
      "Epoch: 194/390 - train_loss: 0.1388 - test_loss: 0.075055\n",
      "Epoch: 291/390 - train_loss: 0.1377 - test_loss: 0.069643\n",
      "Epoch: 388/390 - train_loss: 0.1373 - test_loss: 0.076725\n",
      "Epoch: 389/390 - train_loss: 0.1434 - test_loss: 0.077157\n"
     ]
    },
    {
     "name": "stderr",
     "output_type": "stream",
     "text": [
      "\u001b[32m[I 2023-02-13 16:33:41,631]\u001b[0m Trial 8 finished with value: 14.90593621722204 and parameters: {'n layers': 4, 'Hidden size': 41, 'Learning rate': 0.0003075237055746331, 'Dropout rate': 0.17399300075100121, 'Epochs': 130}. Best is trial 47 with value: 7.741752502143932.\u001b[0m\n"
     ]
    },
    {
     "name": "stdout",
     "output_type": "stream",
     "text": [
      "Epoch: 291/390 - train_loss: 0.1381 - test_loss: 0.072430\n",
      "Epoch: 388/390 - train_loss: 0.1396 - test_loss: 0.074788\n",
      "Epoch: 389/390 - train_loss: 0.1383 - test_loss: 0.074480\n"
     ]
    },
    {
     "name": "stderr",
     "output_type": "stream",
     "text": [
      "\u001b[32m[I 2023-02-13 16:33:46,879]\u001b[0m Trial 17 finished with value: 11.546268335922948 and parameters: {'n layers': 5, 'Hidden size': 113, 'Learning rate': 0.004119860659913923, 'Dropout rate': 0.3997635281431061, 'Epochs': 480}. Best is trial 47 with value: 7.741752502143932.\u001b[0m\n"
     ]
    },
    {
     "name": "stdout",
     "output_type": "stream",
     "text": [
      "Epoch: 388/390 - train_loss: 0.1399 - test_loss: 0.083451\n",
      "Epoch: 389/390 - train_loss: 0.1377 - test_loss: 0.076726\n",
      "Epoch: 194/390 - train_loss: 0.1565 - test_loss: 0.102820\n"
     ]
    },
    {
     "name": "stderr",
     "output_type": "stream",
     "text": [
      "\u001b[32m[I 2023-02-13 16:34:01,180]\u001b[0m Trial 6 finished with value: 9.88403181683185 and parameters: {'n layers': 4, 'Hidden size': 48, 'Learning rate': 0.0034391331706596015, 'Dropout rate': 0.6871583590921709, 'Epochs': 280}. Best is trial 47 with value: 7.741752502143932.\u001b[0m\n"
     ]
    },
    {
     "name": "stdout",
     "output_type": "stream",
     "text": [
      "Epoch: 388/390 - train_loss: 0.1415 - test_loss: 0.084154\n",
      "Epoch: 389/390 - train_loss: 0.1525 - test_loss: 0.078786\n"
     ]
    },
    {
     "name": "stderr",
     "output_type": "stream",
     "text": [
      "\u001b[32m[I 2023-02-13 16:34:21,204]\u001b[0m Trial 9 finished with value: 8.215830076788675 and parameters: {'n layers': 4, 'Hidden size': 19, 'Learning rate': 0.004266515048093176, 'Dropout rate': 0.7869596117802968, 'Epochs': 460}. Best is trial 47 with value: 7.741752502143932.\u001b[0m\n"
     ]
    },
    {
     "name": "stdout",
     "output_type": "stream",
     "text": [
      "Epoch: 291/390 - train_loss: 0.1417 - test_loss: 0.074747\n",
      "Epoch: 388/390 - train_loss: 0.1375 - test_loss: 0.076020\n",
      "Epoch: 389/390 - train_loss: 0.1388 - test_loss: 0.073067\n"
     ]
    },
    {
     "name": "stderr",
     "output_type": "stream",
     "text": [
      "\u001b[32m[I 2023-02-13 16:34:35,452]\u001b[0m Trial 16 finished with value: 11.28027575389202 and parameters: {'n layers': 6, 'Hidden size': 118, 'Learning rate': 0.005722565476941048, 'Dropout rate': 0.38964160048402463, 'Epochs': 430}. Best is trial 47 with value: 7.741752502143932.\u001b[0m\n"
     ]
    },
    {
     "name": "stdout",
     "output_type": "stream",
     "text": [
      "Epoch: 291/390 - train_loss: 0.1483 - test_loss: 0.083191\n",
      "Epoch: 388/390 - train_loss: 0.2271 - test_loss: 0.077756\n",
      "Epoch: 389/390 - train_loss: 0.1455 - test_loss: 0.094258\n"
     ]
    },
    {
     "name": "stderr",
     "output_type": "stream",
     "text": [
      "\u001b[32m[I 2023-02-13 16:34:57,341]\u001b[0m Trial 10 finished with value: 10.542069715082038 and parameters: {'n layers': 4, 'Hidden size': 327, 'Learning rate': 0.0014833053177157292, 'Dropout rate': 0.40802188507006837, 'Epochs': 350}. Best is trial 47 with value: 7.741752502143932.\u001b[0m\n"
     ]
    },
    {
     "name": "stdout",
     "output_type": "stream",
     "text": [
      "Epoch: 388/390 - train_loss: 0.1506 - test_loss: 0.075302\n"
     ]
    },
    {
     "name": "stderr",
     "output_type": "stream",
     "text": [
      "\u001b[32m[I 2023-02-13 16:35:08,952]\u001b[0m Trial 4 finished with value: 14.676997944167418 and parameters: {'n layers': 5, 'Hidden size': 5, 'Learning rate': 0.00030172040630519495, 'Dropout rate': 0.5315261924233697, 'Epochs': 210}. Best is trial 47 with value: 7.741752502143932.\u001b[0m\n",
      "\u001b[32m[I 2023-02-13 16:35:08,981]\u001b[0m A new study created in memory with name: no-name-8ca0ba00-838c-4c03-9e07-fda6874dfd42\u001b[0m\n"
     ]
    },
    {
     "name": "stdout",
     "output_type": "stream",
     "text": [
      "Epoch: 389/390 - train_loss: 0.1416 - test_loss: 0.077331\n",
      "Study statistics for : \n",
      "  Number of finished trials:  50\n",
      "Best trial of city:  Hải Dương\n",
      "  Value:  7.741752502143932\n",
      "optimize result of city: Hải Dương\n",
      "lookback 3\n",
      "lookback 3\n",
      "lookback 3\n",
      "lookback 3\n",
      "lookback 3\n",
      "lookback 3\n",
      "lookback 3\n",
      "lookback 3\n",
      "lookback 3\n",
      "lookback 3\n",
      "lookback 3\n",
      "lookback 3\n",
      "lookback 3\n",
      "lookback 3\n",
      "lookback 3\n",
      "lookback 3\n",
      "lookback 3\n",
      "lookback 3\n",
      "lookback 3\n",
      "lookback 3\n"
     ]
    }
   ],
   "source": [
    "#########################\n",
    "# Main Cell for optimize\n",
    "#########################\n",
    "dt_started = datetime.now()\n",
    "\n",
    "##################################################\n",
    "# Input param for Optimize Run\n",
    "ntry = 50\n",
    "njob = -1\n",
    "\n",
    "# Lưu thông tin traceback study và error city trong quá trình optimize\n",
    "l_study_city ={}\n",
    "# l_errCity =[]\n",
    "\n",
    "if __name__ == '__main__':  \n",
    "  best_param = pd.DataFrame()\n",
    "  l_studies = {}\n",
    "  l_errCity =[]\n",
    "\n",
    "  for city in cities:\n",
    "    # Use Tree-structured Parzen Estimator sampler to minimise RMSE\n",
    "    sampler = optuna.samplers.TPESampler()\n",
    "    study = optuna.create_study(sampler=sampler, direction='minimize')\n",
    "\n",
    "    # truyền multiple param vào trong biến trial\n",
    "    obj_func = lambda trial: objective(trial, city)\n",
    "\n",
    "    try:\n",
    "      # Optimise over 100 trials\n",
    "      study.optimize(obj_func, n_trials=ntry, n_jobs=njob)\n",
    "\n",
    "      # Print results\n",
    "      print(\"Study statistics for : \")\n",
    "      print(\"  Number of finished trials: \", len(study.trials))\n",
    "      \n",
    "      print(\"Best trial of city: \",city)\n",
    "      best_trial = study.best_trial\n",
    "      print(\"  Value: \", best_trial.value)   \n",
    "\n",
    "      # lưu best param vào trong biến toàn cục\n",
    "      one_city_param = pd.DataFrame({\n",
    "                              'City': city,\n",
    "                              'Alg_name': 'transformer',\n",
    "                              'Best_value': best_trial.value,\n",
    "                              'n_try_opt': ntry,\n",
    "                              'n Feature': 3, # set cứng\n",
    "                              'Batch Size': 16, # set cứng\n",
    "                              'Lookback Window': 3, # set cứng\n",
    "                              'Epochs': best_trial.params['Epochs'],\n",
    "                              'Hidden Size': best_trial.params['Hidden size'],\n",
    "                              'n Layers': best_trial.params['n layers'],\n",
    "                              'Learning rate': best_trial.params['Learning rate'], \n",
    "                              'Num. filters': '', # Transformer không dùng\n",
    "                              'Dropout rate': best_trial.params['Dropout rate']}, index=[0])\n",
    "      one_city_param.to_excel(prj_path_opt+'/tf/diarrhoea_opt_hyperparam_transformer_'+city+'.xlsx')\n",
    "      best_param = best_param.append(one_city_param)\n",
    "    except:# có error thì lưu vào l_errCity để check lại sau \n",
    "      l_errCity.append(city)\n",
    "    # Plot result\n",
    "    l_studies[city] = study # thêm vào danh sách sài sau\n",
    "    print('optimize result of city: '+ city)\n",
    "    # optuna.visualization.plot_optimization_history(study)\n",
    "    # optuna.visualization.plot_param_importances(study)\n",
    "    # optuna.visualization.plot_slice(study)\n",
    "  \n",
    "  best_param.to_excel(prj_path_opt+'/tf/diarrhoea_opt_hyperparam_transformer.xlsx')\n",
    "\n",
    "dt_ended = datetime.now()\n",
    "print('kết thúc study trong:', round((dt_ended - dt_started).total_seconds()/60))\n",
    "# print(l_errCity)"
   ]
  },
  {
   "cell_type": "code",
   "execution_count": null,
   "metadata": {
    "id": "RbjNytCjdHLl"
   },
   "outputs": [],
   "source": [
    "import requests\n",
    "\n",
    "def send_to_telegram(message):\n",
    "\n",
    "    apiToken = '5908735099:AAGVSLrW62aXPBP-GrMvxoVgMsuJxXJpP1Q'\n",
    "    chatID = '@ptn_announcement'\n",
    "    apiURL = f'https://api.telegram.org/bot{apiToken}/sendMessage'\n",
    "\n",
    "    try:\n",
    "        response = requests.post(apiURL, json={'chat_id': chatID, 'text': message})\n",
    "        print(response.text)\n",
    "    except Exception as e:\n",
    "        print(e)\n",
    "\n",
    "send_to_telegram(\"Server Chạy Xong TF\" )"
   ]
  }
 ],
 "metadata": {
  "accelerator": "GPU",
  "colab": {
   "provenance": []
  },
  "kernelspec": {
   "display_name": "Python 3",
   "language": "python",
   "name": "python3"
  },
  "language_info": {
   "codemirror_mode": {
    "name": "ipython",
    "version": 3
   },
   "file_extension": ".py",
   "mimetype": "text/x-python",
   "name": "python",
   "nbconvert_exporter": "python",
   "pygments_lexer": "ipython3",
   "version": "3.9.13"
  },
  "toc": {
   "base_numbering": 1,
   "nav_menu": {},
   "number_sections": true,
   "sideBar": true,
   "skip_h1_title": false,
   "title_cell": "Table of Contents",
   "title_sidebar": "Contents",
   "toc_cell": false,
   "toc_position": {},
   "toc_section_display": true,
   "toc_window_display": false
  },
  "vscode": {
   "interpreter": {
    "hash": "24f3299fa11d098f3e36f80146bbe61fdadb7bfe8872ee0c4a379787469f5f10"
   }
  }
 },
 "nbformat": 4,
 "nbformat_minor": 1
}
