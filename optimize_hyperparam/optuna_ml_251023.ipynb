{
 "cells": [
  {
   "cell_type": "code",
   "execution_count": 1,
   "metadata": {},
   "outputs": [
    {
     "name": "stderr",
     "output_type": "stream",
     "text": [
      "/Users/trinhtruc/Library/Python/3.9/lib/python/site-packages/tqdm/auto.py:21: TqdmWarning: IProgress not found. Please update jupyter and ipywidgets. See https://ipywidgets.readthedocs.io/en/stable/user_install.html\n",
      "  from .autonotebook import tqdm as notebook_tqdm\n"
     ]
    }
   ],
   "source": [
    "# Imports\n",
    "import os\n",
    "import numpy as np\n",
    "import pandas as pd\n",
    "from sklearn.metrics import mean_squared_error, mean_absolute_error, mean_absolute_percentage_error\n",
    "import matplotlib.pyplot as plt\n",
    "import optuna\n",
    "import joblib\n",
    "\n",
    "import torch\n",
    "\n",
    "from darts import TimeSeries\n",
    "from darts.models import  RandomForest, LinearRegressionModel, LightGBMModel, \\\n",
    "                        CatBoostModel, XGBModel,  BlockRNNModel, NBEATSModel, NHiTSModel, \\\n",
    "                        TCNModel, TFTModel\n",
    "\n",
    "from sklearn.svm import SVR\n",
    "from sklearn.linear_model import PoissonRegressor\n",
    "\n",
    "from statsmodels.tsa.statespace.sarimax import SARIMAX\n",
    "\n",
    "\n",
    "from darts.dataprocessing.transformers import Scaler\n",
    "from darts.utils.likelihood_models import GaussianLikelihood\n",
    "\n",
    "import warnings\n",
    "warnings.filterwarnings('ignore')"
   ]
  },
  {
   "cell_type": "markdown",
   "metadata": {},
   "source": [
    "# Configuration"
   ]
  },
  {
   "cell_type": "code",
   "execution_count": 2,
   "metadata": {},
   "outputs": [],
   "source": [
    "prj_path = '../'\n",
    "data_path = prj_path + \"data/new_data/DH/squeezed/\"\n",
    "prj_path_opt= prj_path + \"optimize_hyperparam/opt_results/\"\n",
    "output_process = prj_path + \"data/new_data/DH/processed_data/\"\n",
    "output_featureselection = prj_path + \"data/new_data/DH/feature_selection/\""
   ]
  },
  {
   "cell_type": "code",
   "execution_count": 3,
   "metadata": {},
   "outputs": [],
   "source": [
    "all_cities = [\n",
    "        'An Giang', 'BR Vũng Tàu', 'Bình Phước', 'Bình Thuận', 'Bình Định',\n",
    "        'Bạc Liêu', 'Bắc Kạn', 'Bắc Giang', 'Cao Bằng', 'Cà Mau',\n",
    "        'Cần Thơ', 'Gia Lai', 'Hà Giang', 'Hà Nội', 'Hà Tĩnh',\n",
    "        'Hòa Bình','Hưng Yên', 'Hải Dương', 'Hải Phòng', 'Khánh Hòa', 'Kiên Giang',\n",
    "        'Kon Tum', 'Lai Châu', 'Long An', 'Lào Cai', 'Lâm Đồng',\n",
    "        'Lạng Sơn','Nam Định', 'Nghệ An', 'Ninh Bình', 'Ninh Thuận',\n",
    "        'Phú Thọ', 'Phú Yên', 'Quảng Bình', 'Quảng Nam', 'Quảng Ngãi',\n",
    "        'Quảng Ninh', 'Quảng Trị', 'Sóc Trăng', 'Sơn La', 'TT Huế',\n",
    "        'Thanh Hóa', 'Thái Bình', 'Thái Nguyên', 'Tiền Giang', 'Trà Vinh',\n",
    "        'Tuyên Quang', 'Tây Ninh', 'Vĩnh Phúc', 'Yên Bái', 'Điện Biên',\n",
    "        'Đà Nẵng', 'Đắk Nông', 'Đắk Lắk', 'Đồng Tháp'\n",
    "]\n",
    "cities = ['Hà Nội','Hải Phòng','Quảng Ninh','Nam Định','Thái Bình','Quảng Nam','Quảng Ngãi', 'Phú Yên',\n",
    "          'Ninh Thuận', 'Bình Thuận', 'Tây Ninh', 'Bình Phước', 'An Giang', 'Tiền Giang','Cần Thơ', 'Trà Vinh']\n",
    "cities = [ 'Bình Phước', 'An Giang','Quảng Ninh']"
   ]
  },
  {
   "cell_type": "code",
   "execution_count": 4,
   "metadata": {},
   "outputs": [],
   "source": [
    "# Set hyperparameters as args using the Configuration class\n",
    "class Configuration():\n",
    "    def __init__(self):\n",
    "        # lấy bộ test dài 36 tháng = 3 năm\n",
    "        self.test_size = 36\n",
    "        # là nhìn vào dữ liệu trước 3 tháng và dự phóng        \n",
    "        self.look_back = 3\n",
    "        # dự phóng n-step trong 6 tháng\n",
    "        self.n_predicted_period_months = 6\n",
    "        self.n_features = 3\n",
    "        self.seed = 42\n",
    "        # mỗi phần tử x trong tập suppervise có độ lớn là 16 = 16 tháng\n",
    "        self.batch_size = 16\n",
    "        self.device = torch.device(\"cuda\")\n",
    "        self.epochs = 300\n",
    "        #others\n",
    "        self.labels = \"Dengue_fever_rates\"\n",
    "        # Input param for Optimize Run\n",
    "        self.ntry = 1\n",
    "        self.njob = 1\n",
    "\n",
    "args = Configuration()"
   ]
  },
  {
   "cell_type": "markdown",
   "metadata": {},
   "source": [
    "# Seeding"
   ]
  },
  {
   "cell_type": "code",
   "execution_count": 5,
   "metadata": {},
   "outputs": [],
   "source": [
    "def seed_everything(seed: int):\n",
    "    import random\n",
    "    import numpy as np\n",
    "    import torch\n",
    "    \n",
    "    random.seed(seed)\n",
    "    np.random.seed(seed)\n",
    "    torch.manual_seed(seed)\n",
    "\n",
    "seed_everything(args.seed)"
   ]
  },
  {
   "cell_type": "markdown",
   "metadata": {},
   "source": [
    "# Supporting functions"
   ]
  },
  {
   "cell_type": "code",
   "execution_count": 6,
   "metadata": {},
   "outputs": [],
   "source": [
    "import requests\n",
    "\n",
    "def send_to_telegram(message):\n",
    "\n",
    "    apiToken = '5908735099:AAGVSLrW62aXPBP-GrMvxoVgMsuJxXJpP1Q'\n",
    "    chatID = '@ptn_announcement'\n",
    "    apiURL = f'https://api.telegram.org/bot{apiToken}/sendMessage'\n",
    "\n",
    "    try:\n",
    "        response = requests.post(apiURL, json={'chat_id': chatID, 'text': message})\n",
    "        print(response.text)\n",
    "    except Exception as e:\n",
    "        message_error = \"Bị lỗi rùi: \"+str(e)\n",
    "        response = requests.post(apiURL, json={'chat_id': chatID, 'text': message_error})\n",
    "        print(e)"
   ]
  },
  {
   "cell_type": "code",
   "execution_count": 7,
   "metadata": {},
   "outputs": [],
   "source": [
    "def get_dict_all_city_data():\n",
    "  cities_data = {}  \n",
    "  for city in cities:\n",
    "    city_result = pd.read_excel(prj_path+'data/new_data/DH/squeezed/squeezed_'+city+'.xlsx')  \n",
    "    \"\"\"Get all data from all city in 1997 - 2016\"\"\" \n",
    "    city_result = city_result.loc[city_result['year_month'] < '2017-1-1'] \n",
    "    cities_data[city] = city_result\n",
    "  return cities_data"
   ]
  },
  {
   "cell_type": "code",
   "execution_count": 8,
   "metadata": {},
   "outputs": [],
   "source": [
    "# Define data (pre-)processing functions\n",
    "# modification\n",
    "def get_city_data(city_name, dict_full_data):\n",
    "    \"\"\"Returns Dengue fever rate and climate data\"\"\" \n",
    "    city_data = dict_full_data[city_name].drop(columns=['Diarrhoea_cases','Diarrhoea_rates', 'province',\n",
    "                                                        'Influenza_rates','Influenza_cases',\n",
    "                                                        'Dengue_fever_cases', 'year', 'month'], \n",
    "                                                                  axis=1, \n",
    "                                                                  inplace=False)    \n",
    "    return city_data\n",
    "\n",
    "def convert_to_stationary(city_data):\n",
    "    \"\"\"Subtracts previous value for all cols except disease rates\"\"\"\n",
    "    for col_name in city_data.columns:\n",
    "        if col_name != 'Dengue_fever_rates':\n",
    "            try:\n",
    "                city_data[col_name] = city_data[col_name] - city_data[col_name].shift()\n",
    "            except:\n",
    "                print(col_name)\n",
    "    return city_data\n",
    "\n",
    "def impute_missing_value(city_data):\n",
    "    \"\"\"\n",
    "    Imputes 0 for first 12 months, \n",
    "    last year's value for months 12-24, \n",
    "    and minimum value of last two years for months 25+\n",
    "    \"\"\"\n",
    "    for col in city_data.columns:\n",
    "        for index in range(len(city_data[col])):\n",
    "            if np.isnan(city_data[col].iloc[index]):\n",
    "                if index < 12:\n",
    "                    city_data[col].iloc[index] = 0\n",
    "                elif index >= 12 and index <= 24:\n",
    "                    city_data[col].iloc[index] = city_data[col].iloc[index - 12]\n",
    "                else:\n",
    "                    city_data[col].iloc[index] = min(city_data[col].iloc[index - 12], city_data[col].iloc[index - 24])\n",
    "    return city_data"
   ]
  },
  {
   "cell_type": "code",
   "execution_count": 9,
   "metadata": {},
   "outputs": [],
   "source": [
    "def clean_full_data(dict_full_data):\n",
    "    climate_and_disease_feats = ['Total_Evaporation',\n",
    "       'Total_Rainfall', 'Max_Daily_Rainfall', 'n_raining_days',\n",
    "       'Average_temperature', 'Max_Average_Temperature',\n",
    "       'Min_Average_Temperature', 'Max_Absolute_Temperature',\n",
    "       'Min_Absolute_Temperature', 'Average_Humidity', 'Min_Humidity',\n",
    "       'n_hours_sunshine', 'Dengue_fever_rates']\n",
    "    for city in cities:\n",
    "        city_data = get_city_data(city_name=city,dict_full_data = dict_full_data)\n",
    "        city_data_features = city_data[climate_and_disease_feats]\n",
    "        city_data_features = impute_missing_value(city_data_features)\n",
    "        city_data_features = convert_to_stationary(city_data_features)\n",
    "        city_data_features.dropna(inplace=True)\n",
    "        city_data_features.loc[:, \"year_month\"] = city_data[\"year_month\"]\n",
    "        dict_full_data[city] = city_data_features\n",
    "    return dict_full_data\n"
   ]
  },
  {
   "cell_type": "code",
   "execution_count": 10,
   "metadata": {},
   "outputs": [],
   "source": [
    "def split_data(data, look_back, n_nextstep = args.n_predicted_period_months):\n",
    "    \"\"\"Splits data into train and test sets based on args (Configuration class)\"\"\"\n",
    "    train = data[: -args.test_size]    \n",
    "    test = data[-args.test_size - look_back-(n_nextstep - 1): ]\n",
    "    return train, test"
   ]
  },
  {
   "cell_type": "code",
   "execution_count": 11,
   "metadata": {},
   "outputs": [],
   "source": [
    "def to_supervised(data,  d_out, d_in, features_list=[]):\n",
    "    \"\"\"\n",
    "    Frames time-series as supervised learning dataset.\n",
    "    \n",
    "    Args:\n",
    "      d_in: lookback window\n",
    "      d_out: number of predicted months\n",
    "      features_list: list of all features **where last col is the disease incidence**\n",
    "\n",
    "    Returns:\n",
    "      Numpy arrays of disease incidence (y) and other predictors (X)\n",
    "    \"\"\"\n",
    "    X, y = list(), list()\n",
    "    for index, _ in enumerate(data):\n",
    "        in_end = index + d_in\n",
    "        out_end = in_end + d_out\n",
    "        if out_end <= len(data):\n",
    "            if len(features_list) == 0 :\n",
    "                X.append(data[index: in_end, :-1])\n",
    "            else:\n",
    "                X.append(data[index: in_end, features_list])\n",
    "            y.append(data[out_end-1: out_end, -1])\n",
    "    return np.array(X), np.array(y).reshape(len(y))"
   ]
  },
  {
   "cell_type": "code",
   "execution_count": 12,
   "metadata": {},
   "outputs": [],
   "source": [
    "def train_and_evaluate(df_train, df_eval, model, feature_list , labels, scaler, is_dl_algo, is_sklearn_model,nstep):\n",
    "  \"\"\"\n",
    "  $df: pandas.DataFrame object containing data for training and testing model:\n",
    "  $model: darts model object\n",
    "  $feature_list: Names of the features used as model input\n",
    "  $label: the value the model will be trained to predict\n",
    "  $scaler: scaler object. Note: the scaler will be fitted on training data and applied to test data\n",
    "  $lags: how much to look back into the past to output prediction\n",
    "  $split_index: the point at which to divide train and test_data\n",
    "\n",
    "  \"\"\"\n",
    "  \n",
    "\n",
    "  if is_dl_algo == 1:\n",
    "    print(\"🍋\")\n",
    "  else:\n",
    "    if is_sklearn_model == 1:\n",
    "      \n",
    "      train = df_train[feature_list+[args.labels]].iloc[:,:].to_numpy()\n",
    "      test = df_eval[feature_list+[args.labels]].iloc[:,:].to_numpy()\n",
    "      x_train,y_train = to_supervised(train, d_out=nstep, d_in=args.look_back )\n",
    "      x_train = x_train.reshape(len(x_train),x_train.shape[1]*x_train.shape[2])\n",
    "      x_test,y_test = to_supervised(test, d_out=nstep, d_in=args.look_back )\n",
    "      x_test = x_test.reshape(len(x_test),x_test.shape[1]*x_test.shape[2])\n",
    "      display(df_eval)\n",
    "      model = model.fit(x_train,y_train)\n",
    "      prediction = model.predict(x_test)\n",
    "      \n",
    "      df_eval_true_inverse = df_eval_pred_inverse = df_eval[-args.test_size:]\n",
    "      y_true = scaler.inverse_transform(df_eval_true_inverse.iloc[:,:-1])[:,[-1]].reshape(len(prediction))\n",
    "\n",
    "      df_eval_pred_inverse[labels]= prediction\n",
    "      y_pred = scaler.inverse_transform(df_eval_pred_inverse.iloc[:,:-1])[:,[-1]].reshape(len(prediction))  \n",
    "\n",
    "    else:\n",
    "      x_train = TimeSeries.from_dataframe(df_train, \"year_month\", feature_list)\n",
    "      y_train = TimeSeries.from_dataframe(df_train, \"year_month\", labels)\n",
    "\n",
    "      x_test = TimeSeries.from_dataframe(df_eval, \"year_month\", feature_list)\n",
    "      y_test = TimeSeries.from_dataframe(df_eval, \"year_month\", labels)\n",
    "\n",
    "      model.fit(y_train, past_covariates = x_train)\n",
    "      prediction = model.predict(args.test_size, past_covariates = x_test, num_samples=1)\n",
    "\n",
    "      df_eval_true_inverse = df_eval_pred_inverse = df_eval[-args.test_size:]\n",
    "      y_true = scaler.inverse_transform(df_eval_true_inverse.iloc[:,:-1])[:,[-1]].reshape(len(prediction))\n",
    "\n",
    "      df_eval_pred_inverse[labels]= np.array(prediction._xa).squeeze()\n",
    "      y_pred = scaler.inverse_transform(df_eval_pred_inverse.iloc[:,:-1])[:,[-1]].reshape(len(prediction))\n",
    "\n",
    "\n",
    "    # df_compare_test_predict = pd.DataFrame({'y_true':y_true, 'y_pred':y_pred})\n",
    "    # df_compare_test_predict.plot()\n",
    "    # plt.legend()\n",
    "    # plt.show()\n",
    "\n",
    "    mse = mean_squared_error(y_true, y_pred)\n",
    "    mae = mean_absolute_error(y_true, y_pred)\n",
    "    rmse = mse**0.5\n",
    "    mape = mean_absolute_percentage_error(y_true, y_pred)\n",
    "    print(f\"mean_squared_error: {mse:.4f}\")\n",
    "    print(f\"rmse: {rmse}\")\n",
    "    print(f\"mape: {mape}\")\n",
    "    return model, y_true, y_pred, mse, mae, rmse, mape\n"
   ]
  },
  {
   "cell_type": "code",
   "execution_count": 13,
   "metadata": {},
   "outputs": [],
   "source": [
    "def output_prediction_for_location(df_train, df_eval, model, location, feature_list, \n",
    "                                                labels, scaler, is_dl_algo, is_sklearn_model ,nstep):\n",
    "    \"\"\"train and generate prediction for a province\n",
    "    df: DataFrame object containing features and label(s) for training model\n",
    "    localtion: location_name\n",
    "    feature_list: list of features used as model input,  must be among the column names of df\n",
    "    labels: the values model will be trained to predict\n",
    "    scaler: sklearn scaler object\n",
    "    lags: how long into the past to look back when making prediction\n",
    "    split_index: the point at which to divide data into the train and test subsets.\n",
    "    \"\"\"\n",
    "    model, y_true, prediction_inverse, mse, mae, rmse, mape = train_and_evaluate(df_train, df_eval, model, feature_list, labels, scaler,is_dl_algo, is_sklearn_model,nstep)\n",
    "    df_prediction = pd.DataFrame({\"Date\": df_eval[\"year_month\"][-len(prediction_inverse):],\n",
    "                                  \"Observed\": y_true[-len(prediction_inverse):],\n",
    "                                  f\"{nstep}-month\": prediction_inverse})\n",
    "    \n",
    "    df_prediction[\"City\"] = location\n",
    "    df_prediction[f\"RMSE_{nstep}-month\"] = rmse\n",
    "    df_prediction[f\"MAE_{nstep}-month\"] = mae\n",
    "    df_prediction[f\"MAPE_{nstep}-month\"] = mape\n",
    "    df_prediction[f\"MSE_{nstep}-month\"] = mse\n",
    "\n",
    "    return mae"
   ]
  },
  {
   "cell_type": "code",
   "execution_count": 14,
   "metadata": {},
   "outputs": [],
   "source": [
    "def getDataWithSelectedFeature(city, next_predicted_month):\n",
    "  selected_feature = []\n",
    "  df = pd.read_csv(output_featureselection+str(next_predicted_month)+\"step_feature_selection_3_most.csv\")\n",
    "  for row in range(len(df)):\n",
    "    if (df[\"City\"][row] == city):\n",
    "      selected_feature.append(df[\"1st_Feature\"][row])\n",
    "      selected_feature.append(df[\"2nd_Feature\"][row])\n",
    "      selected_feature.append(df[\"3rd_Feature\"][row])\n",
    "  return selected_feature"
   ]
  },
  {
   "cell_type": "markdown",
   "metadata": {},
   "source": [
    "# Objective and Suggest Hyperparams of Darts Models\n"
   ]
  },
  {
   "cell_type": "code",
   "execution_count": 15,
   "metadata": {},
   "outputs": [],
   "source": [
    "def objective(model_name, trial, city, nstep):   \n",
    "    specific_data = pd.read_csv(output_process+city+'_train_preprocessed.csv', parse_dates=True, index_col= None, encoding = 'unicode_escape')\n",
    "    scaler = joblib.load(output_process+city+'_train_scalerMinMaxNorm.save') #ok\n",
    "\n",
    "    df_train, df_valid = split_data(specific_data, args.look_back,nstep)\n",
    "\n",
    "    selected_features = getDataWithSelectedFeature(city, nstep)\n",
    "\n",
    "    lags_by_nstep = args.look_back + nstep - 1\n",
    "    lags_past_covariates_by_nstep = [-lags_by_nstep+2,-lags_by_nstep+1,-lags_by_nstep] #Mảng này chứa ba giá trị tương ứng cho args.lookback 3\n",
    "    is_dl_algo = 0\n",
    "    is_sklearn_model = 0\n",
    "\n",
    "    pl_trainer_kwargs = {\n",
    "              \"accelerator\": \"cpu\",\n",
    "              # \"devices\": -1,\n",
    "              # \"auto_select_gpus\": True,\n",
    "          }\n",
    "\n",
    "    if model_name == \"RandomForest\":\n",
    "      random_state = trial.suggest_int('random_state', 0, 42)\n",
    "      n_estimators = trial.suggest_int('n_estimators', 50, 200)\n",
    "      max_depth = trial.suggest_int('max_depth', 1, 15)\n",
    "      # Create the RandomForest model\n",
    "      model = RandomForest(\n",
    "                    lags = lags_by_nstep,\n",
    "                    lags_past_covariates = lags_past_covariates_by_nstep,\n",
    "                    output_chunk_length = 1,\n",
    "                    n_estimators = n_estimators,\n",
    "                    max_depth = max_depth,\n",
    "                    random_state=random_state)\n",
    "    elif model_name == 'XGBModel':\n",
    "      random_state = trial.suggest_int('random_state', 0, 43)\n",
    "      likelihood = trial.suggest_categorical('likelihood', ['quantile'])\n",
    "      # Create the  model\n",
    "      model = XGBModel(\n",
    "                      lags = lags_by_nstep,\n",
    "                      lags_past_covariates = lags_past_covariates_by_nstep,\n",
    "                      output_chunk_length = 1,\n",
    "                      random_state=random_state,\n",
    "                      likelihood = likelihood\n",
    "                    )\n",
    "    elif model_name == 'LinearRegressionModel':\n",
    "      random_state = trial.suggest_int('random_state', 0, 43)\n",
    "      # Create the  model\n",
    "      model = LinearRegressionModel(\n",
    "                      lags = lags_by_nstep,\n",
    "                      lags_past_covariates = lags_past_covariates_by_nstep,\n",
    "                      output_chunk_length = 1,\n",
    "                      random_state=random_state)\n",
    "    elif model_name == \"CatBoostModel\":\n",
    "      #suggest hyperparams\n",
    "      learning_rate = trial.suggest_float('learning_rate', 0.001, 0.1)\n",
    "      n_estimators = trial.suggest_int('n_estimators', 50, 200)\n",
    "      max_depth = trial.suggest_int('max_depth', 1, 15)\n",
    "      random_state = trial.suggest_int('random_state', 0, 1000)\n",
    "      likelihood = trial.suggest_categorical('likelihood', ['quantile'])\n",
    "      quantiles =  trial.suggest_categorical('quantiles', [None, [0.1, 0.5, 0.9]])\n",
    "      bagging_temperature = trial.suggest_float('bagging_temperature', 0.01, 100.0)\n",
    "      border_count = trial.suggest_int('border_count', 1, 255)\n",
    "      l2_leaf_reg = trial.suggest_float('l2_leaf_reg', 0.1, 10)\n",
    "      random_strength = trial.suggest_float('random_strength', 0.1, 10)\n",
    "      model = CatBoostModel(\n",
    "                            lags=lags_by_nstep,\n",
    "                            lags_past_covariates=lags_past_covariates_by_nstep, \n",
    "                            learning_rate=learning_rate,\n",
    "                            n_estimators=n_estimators,\n",
    "                            max_depth=max_depth, \n",
    "                            output_chunk_length = 1,\n",
    "                            likelihood = likelihood,\n",
    "                            quantiles = quantiles,\n",
    "                            bagging_temperature = bagging_temperature,\n",
    "                            border_count = border_count,\n",
    "                            l2_leaf_reg = l2_leaf_reg,\n",
    "                            random_strength = random_strength,\n",
    "                            random_state=random_state)\n",
    "    elif model_name == \"LightGBMModel\":\n",
    "      params = {\n",
    "        \"lags\": lags_by_nstep,\n",
    "        \"lags_past_covariates\": lags_past_covariates_by_nstep,\n",
    "        \"random_state\": trial.suggest_int(\"random_state\", 0, 999),\n",
    "        \"multi_models\": trial.suggest_categorical(\"multi_models\", [True, False]),\n",
    "        'num_leaves': trial.suggest_int('num_leaves', 2, 256),\n",
    "        'learning_rate': trial.suggest_loguniform('learning_rate', 0.005, 0.5),\n",
    "        'feature_fraction': trial.suggest_uniform('feature_fraction', 0.1, 1.0),\n",
    "        'bagging_fraction': trial.suggest_uniform('bagging_fraction', 0.1, 1.0),\n",
    "        'min_child_samples': trial.suggest_int('min_child_samples', 5, 100),\n",
    "        'lambda_l1': trial.suggest_loguniform('lambda_l1', 1e-8, 10.0),\n",
    "        'lambda_l2': trial.suggest_loguniform('lambda_l2', 1e-8, 10.0),\n",
    "        'verbose': -1,\n",
    "        'likelihood' : trial.suggest_categorical(\"likelihood\", [\"quantile\"])\n",
    "      }\n",
    "\n",
    "      param = params\n",
    "      model = LightGBMModel(\n",
    "          lags = param['lags'],\n",
    "          lags_past_covariates = param['lags_past_covariates'],\n",
    "          output_chunk_length = 1,\n",
    "          random_state = param['random_state'],\n",
    "          multi_models = param['multi_models'],\n",
    "          likelihood = param['likelihood'],\n",
    "          num_leaves = param['num_leaves'],\n",
    "          learning_rate = param['learning_rate'],\n",
    "          feature_fraction = param['feature_fraction'],\n",
    "          bagging_fraction = param['bagging_fraction'],\n",
    "          min_child_samples = param['min_child_samples'],\n",
    "          lambda_l1 = param['lambda_l1'],\n",
    "          verbose = param['verbose']\n",
    "      )\n",
    "    elif model_name == \"SVMRBF\":\n",
    "      max_iter = trial.suggest_int('max_iter', 50, 200)\n",
    "      epsilon = trial.suggest_loguniform('epsilon', 1e-8, 0.1),\n",
    "      model = SVR(\n",
    "          max_iter = max_iter,\n",
    "          kernel = 'rbf',\n",
    "          epsilon = epsilon[0]\n",
    "      )\n",
    "      is_sklearn_model = 1\n",
    "    elif model_name == \"PoissonRegressor\":\n",
    "      max_iter = trial.suggest_int('max_iter', 50, 200)\n",
    "      alpha = trial.suggest_loguniform('alpha', 1e-8, 10.0),\n",
    "      model = PoissonRegressor(\n",
    "          max_iter = max_iter,\n",
    "          fit_intercept = False,\n",
    "          alpha = alpha[0]\n",
    "      )\n",
    "      is_sklearn_model = 1\n",
    "    elif model_name == \"BlockRNNModel\":\n",
    "      #suggest hyperparams\n",
    "      random_state = trial.suggest_int('random_state', 0, 1000)\n",
    "      n_rnn_layers = trial.suggest_int('n_rnn_layers', 1, 3)\n",
    "      dropout = trial.suggest_uniform('dropout', 0.1, 0.5)\n",
    "      hidden_dim = trial.suggest_int('n_rnn_layers', 5, 20)\n",
    "      n_epochs = trial.suggest_int('n_epochs', 50, 200)\n",
    "\n",
    "      model = BlockRNNModel(\n",
    "                          input_chunk_length = args.look_back,\n",
    "                          output_chunk_length = args.n_predicted_period_months,\n",
    "                          hidden_dim = hidden_dim,\n",
    "                          n_rnn_layers = n_rnn_layers,\n",
    "                          dropout = dropout,\n",
    "                          n_epochs = n_epochs,\n",
    "                          pl_trainer_kwargs = pl_trainer_kwargs,\n",
    "                          random_state=random_state)\n",
    "      is_dl_algo = 1\n",
    "    elif model_name == 'TFTModel':\n",
    "      # Define the hyperparameters to optimize\n",
    "      random_state = trial.suggest_int('random_state', 0, 42)\n",
    "      dropout = trial.suggest_uniform('dropout', 0.01, 0.8)\n",
    "      n_epochs = trial.suggest_int('n_epochs', 50, 200)\n",
    "\n",
    "      # Create the TFTModel model\n",
    "      model = TFTModel(\n",
    "                    input_chunk_length = args.look_back,\n",
    "                    output_chunk_length = args.n_predicted_period_months,\n",
    "                    add_relative_index = True,\n",
    "                    dropout = dropout,\n",
    "                    n_epochs = n_epochs ,\n",
    "                    random_state=random_state)\n",
    "      is_dl_algo = 1\n",
    "    elif model_name == 'NHiTSModel':\n",
    "      #suggest hyperparams\n",
    "      random_state = trial.suggest_int('random_state', 0, 42)\n",
    "      dropout = trial.suggest_uniform('dropout', 0.01, 0.80)\n",
    "      n_epochs = trial.suggest_int('n_epochs', 100, 500, step=10)\n",
    "      MaxPool1d = trial.suggest_categorical('MaxPool1d', [True, False])\n",
    "\n",
    "      model = NHiTSModel(\n",
    "                          input_chunk_length = args.look_back,\n",
    "                          output_chunk_length = args.n_predicted_period_months,\n",
    "                          MaxPool1d = MaxPool1d,\n",
    "                          dropout = dropout,\n",
    "                          n_epochs = n_epochs ,\n",
    "                          pl_trainer_kwargs = pl_trainer_kwargs,\n",
    "                          random_state=random_state)\n",
    "      is_dl_algo = 1\n",
    "    elif model_name == \"NBEATSModel\":\n",
    "      random_state = trial.suggest_int('random_state', 0, 42)\n",
    "      dropout = trial.suggest_uniform('dropout', 0.01, 0.80)\n",
    "      n_epochs = trial.suggest_int('n_epochs', 50, 200)\n",
    "      model = NBEATSModel(\n",
    "                            input_chunk_length = args.look_back,\n",
    "                            output_chunk_length = args.n_predicted_period_months,\n",
    "                            dropout = dropout,\n",
    "                            n_epochs = n_epochs ,\n",
    "                            pl_trainer_kwargs = pl_trainer_kwargs,\n",
    "                            random_state=random_state)\n",
    "      is_dl_algo = 1\n",
    "    elif model_name == \"TCNModel\":\n",
    "      params = {\n",
    "        'kernel_size': trial.suggest_int(\"kernel_size\", 2, lags_by_nstep),\n",
    "        'num_filters': trial.suggest_int(\"num_filters\", 1, 5),\n",
    "        'weight_norm': trial.suggest_categorical(\"weight_norm\", [False, True]),\n",
    "        'dilation_base': trial.suggest_int(\"dilation_base\", 2, 4),\n",
    "        'dropout': trial.suggest_float(\"dropout\", 0.0, 0.4),\n",
    "        'learning_rate': trial.suggest_float(\"learning_rate\", 5e-5, 1e-3, log=True),\n",
    "        'include_year': trial.suggest_categorical(\"year\", [False, True]),\n",
    "        'n_epochs': trial.suggest_int(\"n_epochs\", 100, 300),\n",
    "      }\n",
    "      # select input and output chunk lengths\n",
    "      params['input_chunk_length'] = args.look_back\n",
    "      params['output_chunk_length'] = args.n_predicted_period_months  \n",
    "      # optionally also add the (scaled) year value as a past covariate\n",
    "      if params['include_year']:\n",
    "          encoders = {\"datetime_attribute\": {\"past\": [\"year\"]},\n",
    "                      \"transformer\": Scaler()}\n",
    "      else:\n",
    "          encoders = None\n",
    "      params['encoders'] = encoders\n",
    "      param = params\n",
    "      model = TCNModel(\n",
    "          input_chunk_length=param['input_chunk_length'],\n",
    "          output_chunk_length=param['output_chunk_length'],\n",
    "          batch_size=16,\n",
    "          n_epochs=param['n_epochs'],\n",
    "          nr_epochs_val_period=1,\n",
    "          kernel_size=param['kernel_size'],\n",
    "          num_filters=param['num_filters'],\n",
    "          weight_norm=param['weight_norm'],\n",
    "          dilation_base=param['dilation_base'],\n",
    "          dropout=param['dropout'],\n",
    "          optimizer_kwargs={\"lr\": param['learning_rate']},\n",
    "          add_encoders=param['encoders'],\n",
    "          likelihood=GaussianLikelihood(),\n",
    "          pl_trainer_kwargs=pl_trainer_kwargs,\n",
    "          model_name=\"tcn_model\",\n",
    "          force_reset=True,\n",
    "          save_checkpoints=True,\n",
    "      )\n",
    "      is_dl_algo = 1\n",
    "    \n",
    "    mae_error = output_prediction_for_location(df_train, df_valid, model, location=city, feature_list=selected_features,\n",
    "                                                labels=args.labels, scaler=scaler, is_dl_algo = is_dl_algo, is_sklearn_model = is_sklearn_model, nstep = nstep)\n",
    "\n",
    "    return mae_error"
   ]
  },
  {
   "cell_type": "markdown",
   "metadata": {},
   "source": [
    "# Main run optimize and save"
   ]
  },
  {
   "cell_type": "code",
   "execution_count": 16,
   "metadata": {},
   "outputs": [
    {
     "name": "stderr",
     "output_type": "stream",
     "text": [
      "[I 2023-10-31 06:45:13,511] A new study created in memory with name: RandomForest\n",
      "[I 2023-10-31 06:45:13,627] Trial 0 finished with value: 21.423622934196125 and parameters: {'random_state': 18, 'n_estimators': 54, 'max_depth': 3}. Best is trial 0 with value: 21.423622934196125.\n"
     ]
    },
    {
     "name": "stdout",
     "output_type": "stream",
     "text": [
      "⭐️⭐️⭐️⭐️⭐️⭐️⭐️⭐️⭐️⭐️⭐️⭐️⭐️⭐️⭐️ Nstep:  1\n",
      "⭐️⭐️⭐️⭐️⭐️⭐️⭐️⭐️ Model_name:  RandomForest\n",
      "⭐️⭐️ City:  Bình Phước\n",
      "mean_squared_error: 1215.8015\n",
      "rmse: 34.868345181740715\n",
      "mape: 0.5471994135061582\n",
      "Study statistics for : \n",
      "  Number of finished trials:  1\n",
      "Best trial of city:  Bình Phước\n"
     ]
    },
    {
     "name": "stderr",
     "output_type": "stream",
     "text": [
      "[I 2023-10-31 06:45:13,746] A new study created in memory with name: RandomForest\n"
     ]
    },
    {
     "name": "stdout",
     "output_type": "stream",
     "text": [
      "⭐️⭐️ City:  An Giang\n"
     ]
    },
    {
     "name": "stderr",
     "output_type": "stream",
     "text": [
      "[I 2023-10-31 06:45:14,083] Trial 0 finished with value: 15.506904634552976 and parameters: {'random_state': 0, 'n_estimators': 178, 'max_depth': 13}. Best is trial 0 with value: 15.506904634552976.\n",
      "[I 2023-10-31 06:45:14,091] A new study created in memory with name: RandomForest\n"
     ]
    },
    {
     "name": "stdout",
     "output_type": "stream",
     "text": [
      "mean_squared_error: 388.9564\n",
      "rmse: 19.721976920930942\n",
      "mape: 2.1678168469402275\n",
      "Study statistics for : \n",
      "  Number of finished trials:  1\n",
      "Best trial of city:  An Giang\n",
      "⭐️⭐️ City:  Quảng Ninh\n"
     ]
    },
    {
     "name": "stderr",
     "output_type": "stream",
     "text": [
      "[I 2023-10-31 06:45:14,365] Trial 0 finished with value: 9.034413751783172 and parameters: {'random_state': 31, 'n_estimators': 166, 'max_depth': 5}. Best is trial 0 with value: 9.034413751783172.\n",
      "[I 2023-10-31 06:45:14,375] A new study created in memory with name: LinearRegressionModel\n",
      "[I 2023-10-31 06:45:14,405] Trial 0 finished with value: 15.454550293755583 and parameters: {'random_state': 30}. Best is trial 0 with value: 15.454550293755583.\n",
      "[I 2023-10-31 06:45:14,411] A new study created in memory with name: LinearRegressionModel\n",
      "[I 2023-10-31 06:45:14,432] Trial 0 finished with value: 9.793239892651613 and parameters: {'random_state': 0}. Best is trial 0 with value: 9.793239892651613.\n",
      "[I 2023-10-31 06:45:14,440] A new study created in memory with name: LinearRegressionModel\n",
      "[I 2023-10-31 06:45:14,464] Trial 0 finished with value: 2.1561044320276053 and parameters: {'random_state': 31}. Best is trial 0 with value: 2.1561044320276053.\n",
      "[I 2023-10-31 06:45:14,471] A new study created in memory with name: CatBoostModel\n"
     ]
    },
    {
     "name": "stdout",
     "output_type": "stream",
     "text": [
      "mean_squared_error: 89.3706\n",
      "rmse: 9.453604259773822\n",
      "mape: 9825005903302108.0\n",
      "Study statistics for : \n",
      "  Number of finished trials:  1\n",
      "Best trial of city:  Quảng Ninh\n",
      "⭐️⭐️⭐️⭐️⭐️⭐️⭐️⭐️ Model_name:  LinearRegressionModel\n",
      "⭐️⭐️ City:  Bình Phước\n",
      "mean_squared_error: 548.5663\n",
      "rmse: 23.42149313916772\n",
      "mape: 0.819100905137737\n",
      "Study statistics for : \n",
      "  Number of finished trials:  1\n",
      "Best trial of city:  Bình Phước\n",
      "⭐️⭐️ City:  An Giang\n",
      "mean_squared_error: 130.9435\n",
      "rmse: 11.443053817062987\n",
      "mape: 1.2836417352032632\n",
      "Study statistics for : \n",
      "  Number of finished trials:  1\n",
      "Best trial of city:  An Giang\n",
      "⭐️⭐️ City:  Quảng Ninh\n",
      "mean_squared_error: 5.8455\n",
      "rmse: 2.4177382431738255\n",
      "mape: 2178989769645150.2\n",
      "Study statistics for : \n",
      "  Number of finished trials:  1\n",
      "Best trial of city:  Quảng Ninh\n",
      "⭐️⭐️⭐️⭐️⭐️⭐️⭐️⭐️ Model_name:  CatBoostModel\n",
      "⭐️⭐️ City:  Bình Phước\n"
     ]
    },
    {
     "name": "stderr",
     "output_type": "stream",
     "text": [
      "[I 2023-10-31 06:45:14,830] Trial 0 finished with value: 16.85494766678411 and parameters: {'learning_rate': 0.061106031403915864, 'n_estimators': 170, 'max_depth': 8, 'random_state': 294, 'likelihood': 'quantile', 'quantiles': [0.1, 0.5, 0.9], 'bagging_temperature': 31.762126616189757, 'border_count': 10, 'l2_leaf_reg': 7.316734764546133, 'random_strength': 5.754802449069887}. Best is trial 0 with value: 16.85494766678411.\n"
     ]
    },
    {
     "name": "stdout",
     "output_type": "stream",
     "text": [
      "mean_squared_error: 696.6094\n",
      "rmse: 26.393359043457913\n",
      "mape: 0.7887655023133664\n",
      "Study statistics for : \n",
      "  Number of finished trials:  1\n",
      "Best trial of city:  Bình Phước\n"
     ]
    },
    {
     "data": {
      "text/html": [
       "<div>\n",
       "<style scoped>\n",
       "    .dataframe tbody tr th:only-of-type {\n",
       "        vertical-align: middle;\n",
       "    }\n",
       "\n",
       "    .dataframe tbody tr th {\n",
       "        vertical-align: top;\n",
       "    }\n",
       "\n",
       "    .dataframe thead th {\n",
       "        text-align: right;\n",
       "    }\n",
       "</style>\n",
       "<table border=\"1\" class=\"dataframe\">\n",
       "  <thead>\n",
       "    <tr style=\"text-align: right;\">\n",
       "      <th></th>\n",
       "      <th>City</th>\n",
       "      <th>Alg_name</th>\n",
       "      <th>Best_value</th>\n",
       "      <th>n_try_opt</th>\n",
       "      <th>lags</th>\n",
       "      <th>lags_past_covariates</th>\n",
       "      <th>output_chunk_length</th>\n",
       "      <th>learning_rate</th>\n",
       "      <th>n_estimators</th>\n",
       "      <th>max_depth</th>\n",
       "      <th>random_state</th>\n",
       "      <th>likelihood</th>\n",
       "      <th>quantiles</th>\n",
       "      <th>bagging_temperature</th>\n",
       "      <th>border_count</th>\n",
       "      <th>l2_leaf_reg</th>\n",
       "      <th>random_strength</th>\n",
       "    </tr>\n",
       "  </thead>\n",
       "  <tbody>\n",
       "    <tr>\n",
       "      <th>0</th>\n",
       "      <td>Bình Phước</td>\n",
       "      <td>CatBoost</td>\n",
       "      <td>16.854948</td>\n",
       "      <td>1</td>\n",
       "      <td>3</td>\n",
       "      <td>-1,-2,-3</td>\n",
       "      <td>1</td>\n",
       "      <td>0.061106</td>\n",
       "      <td>170</td>\n",
       "      <td>8</td>\n",
       "      <td>294</td>\n",
       "      <td>quantile</td>\n",
       "      <td>0.1,0.5,0.9</td>\n",
       "      <td>31.762127</td>\n",
       "      <td>10</td>\n",
       "      <td>7.316735</td>\n",
       "      <td>5.754802</td>\n",
       "    </tr>\n",
       "  </tbody>\n",
       "</table>\n",
       "</div>"
      ],
      "text/plain": [
       "         City  Alg_name  Best_value  n_try_opt  lags lags_past_covariates  \\\n",
       "0  Bình Phước  CatBoost   16.854948          1     3             -1,-2,-3   \n",
       "\n",
       "   output_chunk_length  learning_rate  n_estimators  max_depth  random_state  \\\n",
       "0                    1       0.061106           170          8           294   \n",
       "\n",
       "  likelihood    quantiles  bagging_temperature  border_count  l2_leaf_reg  \\\n",
       "0   quantile  0.1,0.5,0.9            31.762127            10     7.316735   \n",
       "\n",
       "   random_strength  \n",
       "0         5.754802  "
      ]
     },
     "metadata": {},
     "output_type": "display_data"
    },
    {
     "name": "stderr",
     "output_type": "stream",
     "text": [
      "[I 2023-10-31 06:45:14,844] A new study created in memory with name: CatBoostModel\n"
     ]
    },
    {
     "name": "stdout",
     "output_type": "stream",
     "text": [
      "⭐️⭐️ City:  An Giang\n"
     ]
    },
    {
     "name": "stderr",
     "output_type": "stream",
     "text": [
      "[I 2023-10-31 06:45:15,157] Trial 0 finished with value: 7.325961806561669 and parameters: {'learning_rate': 0.00881151798377875, 'n_estimators': 182, 'max_depth': 7, 'random_state': 115, 'likelihood': 'quantile', 'quantiles': [0.1, 0.5, 0.9], 'bagging_temperature': 3.1584597578272002, 'border_count': 22, 'l2_leaf_reg': 8.789139646552362, 'random_strength': 0.11107788271647515}. Best is trial 0 with value: 7.325961806561669.\n"
     ]
    },
    {
     "name": "stdout",
     "output_type": "stream",
     "text": [
      "mean_squared_error: 96.6036\n",
      "rmse: 9.828715541828714\n",
      "mape: 0.5590645393054836\n",
      "Study statistics for : \n",
      "  Number of finished trials:  1\n",
      "Best trial of city:  An Giang\n"
     ]
    },
    {
     "data": {
      "text/html": [
       "<div>\n",
       "<style scoped>\n",
       "    .dataframe tbody tr th:only-of-type {\n",
       "        vertical-align: middle;\n",
       "    }\n",
       "\n",
       "    .dataframe tbody tr th {\n",
       "        vertical-align: top;\n",
       "    }\n",
       "\n",
       "    .dataframe thead th {\n",
       "        text-align: right;\n",
       "    }\n",
       "</style>\n",
       "<table border=\"1\" class=\"dataframe\">\n",
       "  <thead>\n",
       "    <tr style=\"text-align: right;\">\n",
       "      <th></th>\n",
       "      <th>City</th>\n",
       "      <th>Alg_name</th>\n",
       "      <th>Best_value</th>\n",
       "      <th>n_try_opt</th>\n",
       "      <th>lags</th>\n",
       "      <th>lags_past_covariates</th>\n",
       "      <th>output_chunk_length</th>\n",
       "      <th>learning_rate</th>\n",
       "      <th>n_estimators</th>\n",
       "      <th>max_depth</th>\n",
       "      <th>random_state</th>\n",
       "      <th>likelihood</th>\n",
       "      <th>quantiles</th>\n",
       "      <th>bagging_temperature</th>\n",
       "      <th>border_count</th>\n",
       "      <th>l2_leaf_reg</th>\n",
       "      <th>random_strength</th>\n",
       "    </tr>\n",
       "  </thead>\n",
       "  <tbody>\n",
       "    <tr>\n",
       "      <th>0</th>\n",
       "      <td>An Giang</td>\n",
       "      <td>CatBoost</td>\n",
       "      <td>7.325962</td>\n",
       "      <td>1</td>\n",
       "      <td>3</td>\n",
       "      <td>-1,-2,-3</td>\n",
       "      <td>1</td>\n",
       "      <td>0.008812</td>\n",
       "      <td>182</td>\n",
       "      <td>7</td>\n",
       "      <td>115</td>\n",
       "      <td>quantile</td>\n",
       "      <td>0.1,0.5,0.9</td>\n",
       "      <td>3.15846</td>\n",
       "      <td>22</td>\n",
       "      <td>8.78914</td>\n",
       "      <td>0.111078</td>\n",
       "    </tr>\n",
       "  </tbody>\n",
       "</table>\n",
       "</div>"
      ],
      "text/plain": [
       "       City  Alg_name  Best_value  n_try_opt  lags lags_past_covariates  \\\n",
       "0  An Giang  CatBoost    7.325962          1     3             -1,-2,-3   \n",
       "\n",
       "   output_chunk_length  learning_rate  n_estimators  max_depth  random_state  \\\n",
       "0                    1       0.008812           182          7           115   \n",
       "\n",
       "  likelihood    quantiles  bagging_temperature  border_count  l2_leaf_reg  \\\n",
       "0   quantile  0.1,0.5,0.9              3.15846            22      8.78914   \n",
       "\n",
       "   random_strength  \n",
       "0         0.111078  "
      ]
     },
     "metadata": {},
     "output_type": "display_data"
    },
    {
     "name": "stderr",
     "output_type": "stream",
     "text": [
      "[I 2023-10-31 06:45:15,171] A new study created in memory with name: CatBoostModel\n"
     ]
    },
    {
     "name": "stdout",
     "output_type": "stream",
     "text": [
      "⭐️⭐️ City:  Quảng Ninh\n"
     ]
    },
    {
     "name": "stderr",
     "output_type": "stream",
     "text": [
      "[I 2023-10-31 06:45:15,723] Trial 0 finished with value: 3.5765851686738808 and parameters: {'learning_rate': 0.05827135446049406, 'n_estimators': 115, 'max_depth': 5, 'random_state': 324, 'likelihood': 'quantile', 'quantiles': None, 'bagging_temperature': 50.0903196472416, 'border_count': 198, 'l2_leaf_reg': 0.7844711874347385, 'random_strength': 9.169609683409714}. Best is trial 0 with value: 3.5765851686738808.\n"
     ]
    },
    {
     "name": "stdout",
     "output_type": "stream",
     "text": [
      "mean_squared_error: 14.9230\n",
      "rmse: 3.863032145402603\n",
      "mape: 3764019384345949.0\n",
      "Study statistics for : \n",
      "  Number of finished trials:  1\n",
      "Best trial of city:  Quảng Ninh\n"
     ]
    },
    {
     "data": {
      "text/html": [
       "<div>\n",
       "<style scoped>\n",
       "    .dataframe tbody tr th:only-of-type {\n",
       "        vertical-align: middle;\n",
       "    }\n",
       "\n",
       "    .dataframe tbody tr th {\n",
       "        vertical-align: top;\n",
       "    }\n",
       "\n",
       "    .dataframe thead th {\n",
       "        text-align: right;\n",
       "    }\n",
       "</style>\n",
       "<table border=\"1\" class=\"dataframe\">\n",
       "  <thead>\n",
       "    <tr style=\"text-align: right;\">\n",
       "      <th></th>\n",
       "      <th>City</th>\n",
       "      <th>Alg_name</th>\n",
       "      <th>Best_value</th>\n",
       "      <th>n_try_opt</th>\n",
       "      <th>lags</th>\n",
       "      <th>lags_past_covariates</th>\n",
       "      <th>output_chunk_length</th>\n",
       "      <th>learning_rate</th>\n",
       "      <th>n_estimators</th>\n",
       "      <th>max_depth</th>\n",
       "      <th>random_state</th>\n",
       "      <th>likelihood</th>\n",
       "      <th>quantiles</th>\n",
       "      <th>bagging_temperature</th>\n",
       "      <th>border_count</th>\n",
       "      <th>l2_leaf_reg</th>\n",
       "      <th>random_strength</th>\n",
       "    </tr>\n",
       "  </thead>\n",
       "  <tbody>\n",
       "    <tr>\n",
       "      <th>0</th>\n",
       "      <td>Quảng Ninh</td>\n",
       "      <td>CatBoost</td>\n",
       "      <td>3.576585</td>\n",
       "      <td>1</td>\n",
       "      <td>3</td>\n",
       "      <td>-1,-2,-3</td>\n",
       "      <td>1</td>\n",
       "      <td>0.058271</td>\n",
       "      <td>115</td>\n",
       "      <td>5</td>\n",
       "      <td>324</td>\n",
       "      <td>quantile</td>\n",
       "      <td>IsNone</td>\n",
       "      <td>50.09032</td>\n",
       "      <td>198</td>\n",
       "      <td>0.784471</td>\n",
       "      <td>9.16961</td>\n",
       "    </tr>\n",
       "  </tbody>\n",
       "</table>\n",
       "</div>"
      ],
      "text/plain": [
       "         City  Alg_name  Best_value  n_try_opt  lags lags_past_covariates  \\\n",
       "0  Quảng Ninh  CatBoost    3.576585          1     3             -1,-2,-3   \n",
       "\n",
       "   output_chunk_length  learning_rate  n_estimators  max_depth  random_state  \\\n",
       "0                    1       0.058271           115          5           324   \n",
       "\n",
       "  likelihood quantiles  bagging_temperature  border_count  l2_leaf_reg  \\\n",
       "0   quantile    IsNone             50.09032           198     0.784471   \n",
       "\n",
       "   random_strength  \n",
       "0          9.16961  "
      ]
     },
     "metadata": {},
     "output_type": "display_data"
    },
    {
     "name": "stderr",
     "output_type": "stream",
     "text": [
      "[I 2023-10-31 06:45:15,737] A new study created in memory with name: XGBModel\n"
     ]
    },
    {
     "name": "stdout",
     "output_type": "stream",
     "text": [
      "⭐️⭐️⭐️⭐️⭐️⭐️⭐️⭐️ Model_name:  XGBModel\n",
      "⭐️⭐️ City:  Bình Phước\n"
     ]
    },
    {
     "name": "stderr",
     "output_type": "stream",
     "text": [
      "[I 2023-10-31 06:45:16,864] Trial 0 finished with value: 33.429274970185695 and parameters: {'random_state': 21, 'likelihood': 'quantile'}. Best is trial 0 with value: 33.429274970185695.\n",
      "[I 2023-10-31 06:45:16,874] A new study created in memory with name: XGBModel\n"
     ]
    },
    {
     "name": "stdout",
     "output_type": "stream",
     "text": [
      "mean_squared_error: 1774.6579\n",
      "rmse: 42.12668821858689\n",
      "mape: 2.340803391024588\n",
      "Study statistics for : \n",
      "  Number of finished trials:  1\n",
      "Best trial of city:  Bình Phước\n",
      "⭐️⭐️ City:  An Giang\n"
     ]
    },
    {
     "name": "stderr",
     "output_type": "stream",
     "text": [
      "[I 2023-10-31 06:45:18,036] Trial 0 finished with value: 35.61770549461206 and parameters: {'random_state': 3, 'likelihood': 'quantile'}. Best is trial 0 with value: 35.61770549461206.\n",
      "[I 2023-10-31 06:45:18,045] A new study created in memory with name: XGBModel\n"
     ]
    },
    {
     "name": "stdout",
     "output_type": "stream",
     "text": [
      "mean_squared_error: 1853.5172\n",
      "rmse: 43.052493218635895\n",
      "mape: 3.9879544356455128\n",
      "Study statistics for : \n",
      "  Number of finished trials:  1\n",
      "Best trial of city:  An Giang\n",
      "⭐️⭐️ City:  Quảng Ninh\n"
     ]
    },
    {
     "name": "stderr",
     "output_type": "stream",
     "text": [
      "[I 2023-10-31 06:45:19,078] Trial 0 finished with value: 5.058884341369125 and parameters: {'random_state': 41, 'likelihood': 'quantile'}. Best is trial 0 with value: 5.058884341369125.\n",
      "[I 2023-10-31 06:45:19,087] A new study created in memory with name: RandomForest\n"
     ]
    },
    {
     "name": "stdout",
     "output_type": "stream",
     "text": [
      "mean_squared_error: 26.3655\n",
      "rmse: 5.134734760096295\n",
      "mape: 4435404196273251.5\n",
      "Study statistics for : \n",
      "  Number of finished trials:  1\n",
      "Best trial of city:  Quảng Ninh\n",
      "⭐️⭐️⭐️⭐️⭐️⭐️⭐️⭐️⭐️⭐️⭐️⭐️⭐️⭐️⭐️ Nstep:  2\n",
      "⭐️⭐️⭐️⭐️⭐️⭐️⭐️⭐️ Model_name:  RandomForest\n",
      "⭐️⭐️ City:  Bình Phước\n"
     ]
    },
    {
     "name": "stderr",
     "output_type": "stream",
     "text": [
      "[I 2023-10-31 06:45:19,385] Trial 0 finished with value: 18.583684147036053 and parameters: {'random_state': 12, 'n_estimators': 154, 'max_depth': 9}. Best is trial 0 with value: 18.583684147036053.\n",
      "[I 2023-10-31 06:45:19,391] A new study created in memory with name: RandomForest\n"
     ]
    },
    {
     "name": "stdout",
     "output_type": "stream",
     "text": [
      "mean_squared_error: 649.1121\n",
      "rmse: 25.47767774936921\n",
      "mape: 1.165680672910706\n",
      "Study statistics for : \n",
      "  Number of finished trials:  1\n",
      "Best trial of city:  Bình Phước\n",
      "⭐️⭐️ City:  An Giang\n"
     ]
    },
    {
     "name": "stderr",
     "output_type": "stream",
     "text": [
      "[I 2023-10-31 06:45:19,631] Trial 0 finished with value: 10.136086619372842 and parameters: {'random_state': 27, 'n_estimators': 155, 'max_depth': 4}. Best is trial 0 with value: 10.136086619372842.\n",
      "[I 2023-10-31 06:45:19,639] A new study created in memory with name: RandomForest\n"
     ]
    },
    {
     "name": "stdout",
     "output_type": "stream",
     "text": [
      "mean_squared_error: 124.8174\n",
      "rmse: 11.17217234085525\n",
      "mape: 1.3670284546680138\n",
      "Study statistics for : \n",
      "  Number of finished trials:  1\n",
      "Best trial of city:  An Giang\n",
      "⭐️⭐️ City:  Quảng Ninh\n"
     ]
    },
    {
     "name": "stderr",
     "output_type": "stream",
     "text": [
      "[I 2023-10-31 06:45:19,929] Trial 0 finished with value: 10.60827429526226 and parameters: {'random_state': 28, 'n_estimators': 159, 'max_depth': 10}. Best is trial 0 with value: 10.60827429526226.\n",
      "[I 2023-10-31 06:45:19,938] A new study created in memory with name: LinearRegressionModel\n",
      "[I 2023-10-31 06:45:19,961] Trial 0 finished with value: 16.328277431592657 and parameters: {'random_state': 8}. Best is trial 0 with value: 16.328277431592657.\n",
      "[I 2023-10-31 06:45:19,966] A new study created in memory with name: LinearRegressionModel\n",
      "[I 2023-10-31 06:45:19,988] Trial 0 finished with value: 10.967350719904244 and parameters: {'random_state': 5}. Best is trial 0 with value: 10.967350719904244.\n",
      "[I 2023-10-31 06:45:19,995] A new study created in memory with name: LinearRegressionModel\n",
      "[I 2023-10-31 06:45:20,019] Trial 0 finished with value: 2.383358337060302 and parameters: {'random_state': 36}. Best is trial 0 with value: 2.383358337060302.\n",
      "[I 2023-10-31 06:45:20,026] A new study created in memory with name: CatBoostModel\n"
     ]
    },
    {
     "name": "stdout",
     "output_type": "stream",
     "text": [
      "mean_squared_error: 117.7575\n",
      "rmse: 10.851612441991968\n",
      "mape: 1.1946713036519826e+16\n",
      "Study statistics for : \n",
      "  Number of finished trials:  1\n",
      "Best trial of city:  Quảng Ninh\n",
      "⭐️⭐️⭐️⭐️⭐️⭐️⭐️⭐️ Model_name:  LinearRegressionModel\n",
      "⭐️⭐️ City:  Bình Phước\n",
      "mean_squared_error: 590.3751\n",
      "rmse: 24.297636486551085\n",
      "mape: 0.7873980592519219\n",
      "Study statistics for : \n",
      "  Number of finished trials:  1\n",
      "Best trial of city:  Bình Phước\n",
      "⭐️⭐️ City:  An Giang\n",
      "mean_squared_error: 174.2329\n",
      "rmse: 13.199731086599058\n",
      "mape: 1.567751539048323\n",
      "Study statistics for : \n",
      "  Number of finished trials:  1\n",
      "Best trial of city:  An Giang\n",
      "⭐️⭐️ City:  Quảng Ninh\n",
      "mean_squared_error: 7.0874\n",
      "rmse: 2.6622086282456126\n",
      "mape: 1884359654978456.0\n",
      "Study statistics for : \n",
      "  Number of finished trials:  1\n",
      "Best trial of city:  Quảng Ninh\n",
      "⭐️⭐️⭐️⭐️⭐️⭐️⭐️⭐️ Model_name:  CatBoostModel\n",
      "⭐️⭐️ City:  Bình Phước\n"
     ]
    },
    {
     "name": "stderr",
     "output_type": "stream",
     "text": [
      "[I 2023-10-31 06:45:20,532] Trial 0 finished with value: 16.607593960606536 and parameters: {'learning_rate': 0.049062010955407805, 'n_estimators': 114, 'max_depth': 9, 'random_state': 711, 'likelihood': 'quantile', 'quantiles': [0.1, 0.5, 0.9], 'bagging_temperature': 58.031323835090824, 'border_count': 65, 'l2_leaf_reg': 6.481026309210422, 'random_strength': 9.852352945102115}. Best is trial 0 with value: 16.607593960606536.\n"
     ]
    },
    {
     "name": "stdout",
     "output_type": "stream",
     "text": [
      "mean_squared_error: 830.0059\n",
      "rmse: 28.80982237225418\n",
      "mape: 0.5440548270638514\n",
      "Study statistics for : \n",
      "  Number of finished trials:  1\n",
      "Best trial of city:  Bình Phước\n"
     ]
    },
    {
     "data": {
      "text/html": [
       "<div>\n",
       "<style scoped>\n",
       "    .dataframe tbody tr th:only-of-type {\n",
       "        vertical-align: middle;\n",
       "    }\n",
       "\n",
       "    .dataframe tbody tr th {\n",
       "        vertical-align: top;\n",
       "    }\n",
       "\n",
       "    .dataframe thead th {\n",
       "        text-align: right;\n",
       "    }\n",
       "</style>\n",
       "<table border=\"1\" class=\"dataframe\">\n",
       "  <thead>\n",
       "    <tr style=\"text-align: right;\">\n",
       "      <th></th>\n",
       "      <th>City</th>\n",
       "      <th>Alg_name</th>\n",
       "      <th>Best_value</th>\n",
       "      <th>n_try_opt</th>\n",
       "      <th>lags</th>\n",
       "      <th>lags_past_covariates</th>\n",
       "      <th>output_chunk_length</th>\n",
       "      <th>learning_rate</th>\n",
       "      <th>n_estimators</th>\n",
       "      <th>max_depth</th>\n",
       "      <th>random_state</th>\n",
       "      <th>likelihood</th>\n",
       "      <th>quantiles</th>\n",
       "      <th>bagging_temperature</th>\n",
       "      <th>border_count</th>\n",
       "      <th>l2_leaf_reg</th>\n",
       "      <th>random_strength</th>\n",
       "    </tr>\n",
       "  </thead>\n",
       "  <tbody>\n",
       "    <tr>\n",
       "      <th>0</th>\n",
       "      <td>Bình Phước</td>\n",
       "      <td>CatBoost</td>\n",
       "      <td>16.607594</td>\n",
       "      <td>1</td>\n",
       "      <td>4</td>\n",
       "      <td>-2,-3,-4</td>\n",
       "      <td>1</td>\n",
       "      <td>0.049062</td>\n",
       "      <td>114</td>\n",
       "      <td>9</td>\n",
       "      <td>711</td>\n",
       "      <td>quantile</td>\n",
       "      <td>0.1,0.5,0.9</td>\n",
       "      <td>58.031324</td>\n",
       "      <td>65</td>\n",
       "      <td>6.481026</td>\n",
       "      <td>9.852353</td>\n",
       "    </tr>\n",
       "  </tbody>\n",
       "</table>\n",
       "</div>"
      ],
      "text/plain": [
       "         City  Alg_name  Best_value  n_try_opt  lags lags_past_covariates  \\\n",
       "0  Bình Phước  CatBoost   16.607594          1     4             -2,-3,-4   \n",
       "\n",
       "   output_chunk_length  learning_rate  n_estimators  max_depth  random_state  \\\n",
       "0                    1       0.049062           114          9           711   \n",
       "\n",
       "  likelihood    quantiles  bagging_temperature  border_count  l2_leaf_reg  \\\n",
       "0   quantile  0.1,0.5,0.9            58.031324            65     6.481026   \n",
       "\n",
       "   random_strength  \n",
       "0         9.852353  "
      ]
     },
     "metadata": {},
     "output_type": "display_data"
    },
    {
     "name": "stderr",
     "output_type": "stream",
     "text": [
      "[I 2023-10-31 06:45:20,545] A new study created in memory with name: CatBoostModel\n"
     ]
    },
    {
     "name": "stdout",
     "output_type": "stream",
     "text": [
      "⭐️⭐️ City:  An Giang\n"
     ]
    },
    {
     "name": "stderr",
     "output_type": "stream",
     "text": [
      "[I 2023-10-31 06:45:25,229] Trial 0 finished with value: 7.627738250449308 and parameters: {'learning_rate': 0.03807215464855685, 'n_estimators': 170, 'max_depth': 10, 'random_state': 817, 'likelihood': 'quantile', 'quantiles': None, 'bagging_temperature': 59.84722345410109, 'border_count': 244, 'l2_leaf_reg': 6.221782471327662, 'random_strength': 6.6481460723799755}. Best is trial 0 with value: 7.627738250449308.\n"
     ]
    },
    {
     "name": "stdout",
     "output_type": "stream",
     "text": [
      "mean_squared_error: 87.4797\n",
      "rmse: 9.353058434657614\n",
      "mape: 1.0461173970912103\n",
      "Study statistics for : \n",
      "  Number of finished trials:  1\n",
      "Best trial of city:  An Giang\n"
     ]
    },
    {
     "data": {
      "text/html": [
       "<div>\n",
       "<style scoped>\n",
       "    .dataframe tbody tr th:only-of-type {\n",
       "        vertical-align: middle;\n",
       "    }\n",
       "\n",
       "    .dataframe tbody tr th {\n",
       "        vertical-align: top;\n",
       "    }\n",
       "\n",
       "    .dataframe thead th {\n",
       "        text-align: right;\n",
       "    }\n",
       "</style>\n",
       "<table border=\"1\" class=\"dataframe\">\n",
       "  <thead>\n",
       "    <tr style=\"text-align: right;\">\n",
       "      <th></th>\n",
       "      <th>City</th>\n",
       "      <th>Alg_name</th>\n",
       "      <th>Best_value</th>\n",
       "      <th>n_try_opt</th>\n",
       "      <th>lags</th>\n",
       "      <th>lags_past_covariates</th>\n",
       "      <th>output_chunk_length</th>\n",
       "      <th>learning_rate</th>\n",
       "      <th>n_estimators</th>\n",
       "      <th>max_depth</th>\n",
       "      <th>random_state</th>\n",
       "      <th>likelihood</th>\n",
       "      <th>quantiles</th>\n",
       "      <th>bagging_temperature</th>\n",
       "      <th>border_count</th>\n",
       "      <th>l2_leaf_reg</th>\n",
       "      <th>random_strength</th>\n",
       "    </tr>\n",
       "  </thead>\n",
       "  <tbody>\n",
       "    <tr>\n",
       "      <th>0</th>\n",
       "      <td>An Giang</td>\n",
       "      <td>CatBoost</td>\n",
       "      <td>7.627738</td>\n",
       "      <td>1</td>\n",
       "      <td>4</td>\n",
       "      <td>-2,-3,-4</td>\n",
       "      <td>1</td>\n",
       "      <td>0.038072</td>\n",
       "      <td>170</td>\n",
       "      <td>10</td>\n",
       "      <td>817</td>\n",
       "      <td>quantile</td>\n",
       "      <td>IsNone</td>\n",
       "      <td>59.847223</td>\n",
       "      <td>244</td>\n",
       "      <td>6.221782</td>\n",
       "      <td>6.648146</td>\n",
       "    </tr>\n",
       "  </tbody>\n",
       "</table>\n",
       "</div>"
      ],
      "text/plain": [
       "       City  Alg_name  Best_value  n_try_opt  lags lags_past_covariates  \\\n",
       "0  An Giang  CatBoost    7.627738          1     4             -2,-3,-4   \n",
       "\n",
       "   output_chunk_length  learning_rate  n_estimators  max_depth  random_state  \\\n",
       "0                    1       0.038072           170         10           817   \n",
       "\n",
       "  likelihood quantiles  bagging_temperature  border_count  l2_leaf_reg  \\\n",
       "0   quantile    IsNone            59.847223           244     6.221782   \n",
       "\n",
       "   random_strength  \n",
       "0         6.648146  "
      ]
     },
     "metadata": {},
     "output_type": "display_data"
    },
    {
     "name": "stderr",
     "output_type": "stream",
     "text": [
      "[I 2023-10-31 06:45:25,250] A new study created in memory with name: CatBoostModel\n"
     ]
    },
    {
     "name": "stdout",
     "output_type": "stream",
     "text": [
      "⭐️⭐️ City:  Quảng Ninh\n"
     ]
    },
    {
     "name": "stderr",
     "output_type": "stream",
     "text": [
      "[I 2023-10-31 06:45:26,039] Trial 0 finished with value: 0.6459510152302727 and parameters: {'learning_rate': 0.0031413734567435412, 'n_estimators': 188, 'max_depth': 8, 'random_state': 350, 'likelihood': 'quantile', 'quantiles': [0.1, 0.5, 0.9], 'bagging_temperature': 90.1308532370816, 'border_count': 134, 'l2_leaf_reg': 7.050543228890025, 'random_strength': 7.4527946731043695}. Best is trial 0 with value: 0.6459510152302727.\n"
     ]
    },
    {
     "name": "stdout",
     "output_type": "stream",
     "text": [
      "mean_squared_error: 0.6928\n",
      "rmse: 0.8323221074254571\n",
      "mape: 778903003458308.1\n",
      "Study statistics for : \n",
      "  Number of finished trials:  1\n",
      "Best trial of city:  Quảng Ninh\n"
     ]
    },
    {
     "data": {
      "text/html": [
       "<div>\n",
       "<style scoped>\n",
       "    .dataframe tbody tr th:only-of-type {\n",
       "        vertical-align: middle;\n",
       "    }\n",
       "\n",
       "    .dataframe tbody tr th {\n",
       "        vertical-align: top;\n",
       "    }\n",
       "\n",
       "    .dataframe thead th {\n",
       "        text-align: right;\n",
       "    }\n",
       "</style>\n",
       "<table border=\"1\" class=\"dataframe\">\n",
       "  <thead>\n",
       "    <tr style=\"text-align: right;\">\n",
       "      <th></th>\n",
       "      <th>City</th>\n",
       "      <th>Alg_name</th>\n",
       "      <th>Best_value</th>\n",
       "      <th>n_try_opt</th>\n",
       "      <th>lags</th>\n",
       "      <th>lags_past_covariates</th>\n",
       "      <th>output_chunk_length</th>\n",
       "      <th>learning_rate</th>\n",
       "      <th>n_estimators</th>\n",
       "      <th>max_depth</th>\n",
       "      <th>random_state</th>\n",
       "      <th>likelihood</th>\n",
       "      <th>quantiles</th>\n",
       "      <th>bagging_temperature</th>\n",
       "      <th>border_count</th>\n",
       "      <th>l2_leaf_reg</th>\n",
       "      <th>random_strength</th>\n",
       "    </tr>\n",
       "  </thead>\n",
       "  <tbody>\n",
       "    <tr>\n",
       "      <th>0</th>\n",
       "      <td>Quảng Ninh</td>\n",
       "      <td>CatBoost</td>\n",
       "      <td>0.645951</td>\n",
       "      <td>1</td>\n",
       "      <td>4</td>\n",
       "      <td>-2,-3,-4</td>\n",
       "      <td>1</td>\n",
       "      <td>0.003141</td>\n",
       "      <td>188</td>\n",
       "      <td>8</td>\n",
       "      <td>350</td>\n",
       "      <td>quantile</td>\n",
       "      <td>0.1,0.5,0.9</td>\n",
       "      <td>90.130853</td>\n",
       "      <td>134</td>\n",
       "      <td>7.050543</td>\n",
       "      <td>7.452795</td>\n",
       "    </tr>\n",
       "  </tbody>\n",
       "</table>\n",
       "</div>"
      ],
      "text/plain": [
       "         City  Alg_name  Best_value  n_try_opt  lags lags_past_covariates  \\\n",
       "0  Quảng Ninh  CatBoost    0.645951          1     4             -2,-3,-4   \n",
       "\n",
       "   output_chunk_length  learning_rate  n_estimators  max_depth  random_state  \\\n",
       "0                    1       0.003141           188          8           350   \n",
       "\n",
       "  likelihood    quantiles  bagging_temperature  border_count  l2_leaf_reg  \\\n",
       "0   quantile  0.1,0.5,0.9            90.130853           134     7.050543   \n",
       "\n",
       "   random_strength  \n",
       "0         7.452795  "
      ]
     },
     "metadata": {},
     "output_type": "display_data"
    },
    {
     "name": "stderr",
     "output_type": "stream",
     "text": [
      "[I 2023-10-31 06:45:26,052] A new study created in memory with name: XGBModel\n"
     ]
    },
    {
     "name": "stdout",
     "output_type": "stream",
     "text": [
      "⭐️⭐️⭐️⭐️⭐️⭐️⭐️⭐️ Model_name:  XGBModel\n",
      "⭐️⭐️ City:  Bình Phước\n"
     ]
    },
    {
     "name": "stderr",
     "output_type": "stream",
     "text": [
      "[I 2023-10-31 06:45:27,128] Trial 0 finished with value: 37.77647104420768 and parameters: {'random_state': 28, 'likelihood': 'quantile'}. Best is trial 0 with value: 37.77647104420768.\n",
      "[I 2023-10-31 06:45:27,135] A new study created in memory with name: XGBModel\n"
     ]
    },
    {
     "name": "stdout",
     "output_type": "stream",
     "text": [
      "mean_squared_error: 1961.7230\n",
      "rmse: 44.29134241368371\n",
      "mape: 2.1579216192510855\n",
      "Study statistics for : \n",
      "  Number of finished trials:  1\n",
      "Best trial of city:  Bình Phước\n",
      "⭐️⭐️ City:  An Giang\n"
     ]
    },
    {
     "name": "stderr",
     "output_type": "stream",
     "text": [
      "[I 2023-10-31 06:45:28,234] Trial 0 finished with value: 62.941766206296876 and parameters: {'random_state': 27, 'likelihood': 'quantile'}. Best is trial 0 with value: 62.941766206296876.\n",
      "[I 2023-10-31 06:45:28,243] A new study created in memory with name: XGBModel\n"
     ]
    },
    {
     "name": "stdout",
     "output_type": "stream",
     "text": [
      "mean_squared_error: 5858.1181\n",
      "rmse: 76.53834391022303\n",
      "mape: 6.817496015129198\n",
      "Study statistics for : \n",
      "  Number of finished trials:  1\n",
      "Best trial of city:  An Giang\n",
      "⭐️⭐️ City:  Quảng Ninh\n"
     ]
    },
    {
     "name": "stderr",
     "output_type": "stream",
     "text": [
      "[I 2023-10-31 06:45:29,265] Trial 0 finished with value: 4.228871187695511 and parameters: {'random_state': 2, 'likelihood': 'quantile'}. Best is trial 0 with value: 4.228871187695511.\n",
      "[I 2023-10-31 06:45:29,273] A new study created in memory with name: RandomForest\n"
     ]
    },
    {
     "name": "stdout",
     "output_type": "stream",
     "text": [
      "mean_squared_error: 19.8862\n",
      "rmse: 4.459397100747476\n",
      "mape: 3276566924625546.5\n",
      "Study statistics for : \n",
      "  Number of finished trials:  1\n",
      "Best trial of city:  Quảng Ninh\n",
      "⭐️⭐️⭐️⭐️⭐️⭐️⭐️⭐️⭐️⭐️⭐️⭐️⭐️⭐️⭐️ Nstep:  3\n",
      "⭐️⭐️⭐️⭐️⭐️⭐️⭐️⭐️ Model_name:  RandomForest\n",
      "⭐️⭐️ City:  Bình Phước\n"
     ]
    },
    {
     "name": "stderr",
     "output_type": "stream",
     "text": [
      "[I 2023-10-31 06:45:29,565] Trial 0 finished with value: 21.479243919164745 and parameters: {'random_state': 28, 'n_estimators': 200, 'max_depth': 2}. Best is trial 0 with value: 21.479243919164745.\n",
      "[I 2023-10-31 06:45:29,572] A new study created in memory with name: RandomForest\n",
      "[I 2023-10-31 06:45:29,716] Trial 0 finished with value: 7.963089476481512 and parameters: {'random_state': 30, 'n_estimators': 72, 'max_depth': 11}. Best is trial 0 with value: 7.963089476481512.\n",
      "[I 2023-10-31 06:45:29,724] A new study created in memory with name: RandomForest\n"
     ]
    },
    {
     "name": "stdout",
     "output_type": "stream",
     "text": [
      "mean_squared_error: 1189.8912\n",
      "rmse: 34.49480013340592\n",
      "mape: 0.6859119521309273\n",
      "Study statistics for : \n",
      "  Number of finished trials:  1\n",
      "Best trial of city:  Bình Phước\n",
      "⭐️⭐️ City:  An Giang\n",
      "mean_squared_error: 99.3347\n",
      "rmse: 9.966677366658358\n",
      "mape: 0.8153914811182837\n",
      "Study statistics for : \n",
      "  Number of finished trials:  1\n",
      "Best trial of city:  An Giang\n",
      "⭐️⭐️ City:  Quảng Ninh\n"
     ]
    },
    {
     "name": "stderr",
     "output_type": "stream",
     "text": [
      "[I 2023-10-31 06:45:29,841] Trial 0 finished with value: 9.03212838793419 and parameters: {'random_state': 24, 'n_estimators': 80, 'max_depth': 1}. Best is trial 0 with value: 9.03212838793419.\n",
      "[I 2023-10-31 06:45:29,849] A new study created in memory with name: LinearRegressionModel\n",
      "[I 2023-10-31 06:45:29,872] Trial 0 finished with value: 13.954100816444814 and parameters: {'random_state': 27}. Best is trial 0 with value: 13.954100816444814.\n",
      "[I 2023-10-31 06:45:29,877] A new study created in memory with name: LinearRegressionModel\n",
      "[I 2023-10-31 06:45:29,898] Trial 0 finished with value: 10.325254621193512 and parameters: {'random_state': 35}. Best is trial 0 with value: 10.325254621193512.\n",
      "[I 2023-10-31 06:45:29,906] A new study created in memory with name: LinearRegressionModel\n",
      "[I 2023-10-31 06:45:29,930] Trial 0 finished with value: 2.000336114282957 and parameters: {'random_state': 40}. Best is trial 0 with value: 2.000336114282957.\n",
      "[I 2023-10-31 06:45:29,937] A new study created in memory with name: CatBoostModel\n"
     ]
    },
    {
     "name": "stdout",
     "output_type": "stream",
     "text": [
      "mean_squared_error: 82.2853\n",
      "rmse: 9.071122989388344\n",
      "mape: 9848418704676170.0\n",
      "Study statistics for : \n",
      "  Number of finished trials:  1\n",
      "Best trial of city:  Quảng Ninh\n",
      "⭐️⭐️⭐️⭐️⭐️⭐️⭐️⭐️ Model_name:  LinearRegressionModel\n",
      "⭐️⭐️ City:  Bình Phước\n",
      "mean_squared_error: 561.7995\n",
      "rmse: 23.702311044954904\n",
      "mape: 0.5171265817708961\n",
      "Study statistics for : \n",
      "  Number of finished trials:  1\n",
      "Best trial of city:  Bình Phước\n",
      "⭐️⭐️ City:  An Giang\n",
      "mean_squared_error: 148.3613\n",
      "rmse: 12.18036631035629\n",
      "mape: 1.4026674749901378\n",
      "Study statistics for : \n",
      "  Number of finished trials:  1\n",
      "Best trial of city:  An Giang\n",
      "⭐️⭐️ City:  Quảng Ninh\n",
      "mean_squared_error: 5.8135\n",
      "rmse: 2.4111104824906056\n",
      "mape: 1586055039875039.2\n",
      "Study statistics for : \n",
      "  Number of finished trials:  1\n",
      "Best trial of city:  Quảng Ninh\n",
      "⭐️⭐️⭐️⭐️⭐️⭐️⭐️⭐️ Model_name:  CatBoostModel\n",
      "⭐️⭐️ City:  Bình Phước\n"
     ]
    },
    {
     "name": "stderr",
     "output_type": "stream",
     "text": [
      "[I 2023-10-31 06:45:30,069] Trial 0 finished with value: 19.260044971157875 and parameters: {'learning_rate': 0.011535881775979289, 'n_estimators': 63, 'max_depth': 6, 'random_state': 625, 'likelihood': 'quantile', 'quantiles': [0.1, 0.5, 0.9], 'bagging_temperature': 62.14049181868748, 'border_count': 54, 'l2_leaf_reg': 7.469844440637485, 'random_strength': 3.7007377737794527}. Best is trial 0 with value: 19.260044971157875.\n"
     ]
    },
    {
     "name": "stdout",
     "output_type": "stream",
     "text": [
      "mean_squared_error: 1037.9102\n",
      "rmse: 32.21661377959449\n",
      "mape: 0.5531868963175239\n",
      "Study statistics for : \n",
      "  Number of finished trials:  1\n",
      "Best trial of city:  Bình Phước\n"
     ]
    },
    {
     "data": {
      "text/html": [
       "<div>\n",
       "<style scoped>\n",
       "    .dataframe tbody tr th:only-of-type {\n",
       "        vertical-align: middle;\n",
       "    }\n",
       "\n",
       "    .dataframe tbody tr th {\n",
       "        vertical-align: top;\n",
       "    }\n",
       "\n",
       "    .dataframe thead th {\n",
       "        text-align: right;\n",
       "    }\n",
       "</style>\n",
       "<table border=\"1\" class=\"dataframe\">\n",
       "  <thead>\n",
       "    <tr style=\"text-align: right;\">\n",
       "      <th></th>\n",
       "      <th>City</th>\n",
       "      <th>Alg_name</th>\n",
       "      <th>Best_value</th>\n",
       "      <th>n_try_opt</th>\n",
       "      <th>lags</th>\n",
       "      <th>lags_past_covariates</th>\n",
       "      <th>output_chunk_length</th>\n",
       "      <th>learning_rate</th>\n",
       "      <th>n_estimators</th>\n",
       "      <th>max_depth</th>\n",
       "      <th>random_state</th>\n",
       "      <th>likelihood</th>\n",
       "      <th>quantiles</th>\n",
       "      <th>bagging_temperature</th>\n",
       "      <th>border_count</th>\n",
       "      <th>l2_leaf_reg</th>\n",
       "      <th>random_strength</th>\n",
       "    </tr>\n",
       "  </thead>\n",
       "  <tbody>\n",
       "    <tr>\n",
       "      <th>0</th>\n",
       "      <td>Bình Phước</td>\n",
       "      <td>CatBoost</td>\n",
       "      <td>19.260045</td>\n",
       "      <td>1</td>\n",
       "      <td>5</td>\n",
       "      <td>-3,-4,-5</td>\n",
       "      <td>1</td>\n",
       "      <td>0.011536</td>\n",
       "      <td>63</td>\n",
       "      <td>6</td>\n",
       "      <td>625</td>\n",
       "      <td>quantile</td>\n",
       "      <td>0.1,0.5,0.9</td>\n",
       "      <td>62.140492</td>\n",
       "      <td>54</td>\n",
       "      <td>7.469844</td>\n",
       "      <td>3.700738</td>\n",
       "    </tr>\n",
       "  </tbody>\n",
       "</table>\n",
       "</div>"
      ],
      "text/plain": [
       "         City  Alg_name  Best_value  n_try_opt  lags lags_past_covariates  \\\n",
       "0  Bình Phước  CatBoost   19.260045          1     5             -3,-4,-5   \n",
       "\n",
       "   output_chunk_length  learning_rate  n_estimators  max_depth  random_state  \\\n",
       "0                    1       0.011536            63          6           625   \n",
       "\n",
       "  likelihood    quantiles  bagging_temperature  border_count  l2_leaf_reg  \\\n",
       "0   quantile  0.1,0.5,0.9            62.140492            54     7.469844   \n",
       "\n",
       "   random_strength  \n",
       "0         3.700738  "
      ]
     },
     "metadata": {},
     "output_type": "display_data"
    },
    {
     "name": "stderr",
     "output_type": "stream",
     "text": [
      "[I 2023-10-31 06:45:30,081] A new study created in memory with name: CatBoostModel\n"
     ]
    },
    {
     "name": "stdout",
     "output_type": "stream",
     "text": [
      "⭐️⭐️ City:  An Giang\n"
     ]
    },
    {
     "name": "stderr",
     "output_type": "stream",
     "text": [
      "[I 2023-10-31 06:45:31,308] Trial 0 finished with value: 7.985934045828567 and parameters: {'learning_rate': 0.05587402412082386, 'n_estimators': 157, 'max_depth': 7, 'random_state': 711, 'likelihood': 'quantile', 'quantiles': None, 'bagging_temperature': 96.8279314295505, 'border_count': 208, 'l2_leaf_reg': 7.315759445418593, 'random_strength': 5.374238849721736}. Best is trial 0 with value: 7.985934045828567.\n"
     ]
    },
    {
     "name": "stdout",
     "output_type": "stream",
     "text": [
      "mean_squared_error: 98.4356\n",
      "rmse: 9.921469224344454\n",
      "mape: 0.7080193841945215\n",
      "Study statistics for : \n",
      "  Number of finished trials:  1\n",
      "Best trial of city:  An Giang\n"
     ]
    },
    {
     "data": {
      "text/html": [
       "<div>\n",
       "<style scoped>\n",
       "    .dataframe tbody tr th:only-of-type {\n",
       "        vertical-align: middle;\n",
       "    }\n",
       "\n",
       "    .dataframe tbody tr th {\n",
       "        vertical-align: top;\n",
       "    }\n",
       "\n",
       "    .dataframe thead th {\n",
       "        text-align: right;\n",
       "    }\n",
       "</style>\n",
       "<table border=\"1\" class=\"dataframe\">\n",
       "  <thead>\n",
       "    <tr style=\"text-align: right;\">\n",
       "      <th></th>\n",
       "      <th>City</th>\n",
       "      <th>Alg_name</th>\n",
       "      <th>Best_value</th>\n",
       "      <th>n_try_opt</th>\n",
       "      <th>lags</th>\n",
       "      <th>lags_past_covariates</th>\n",
       "      <th>output_chunk_length</th>\n",
       "      <th>learning_rate</th>\n",
       "      <th>n_estimators</th>\n",
       "      <th>max_depth</th>\n",
       "      <th>random_state</th>\n",
       "      <th>likelihood</th>\n",
       "      <th>quantiles</th>\n",
       "      <th>bagging_temperature</th>\n",
       "      <th>border_count</th>\n",
       "      <th>l2_leaf_reg</th>\n",
       "      <th>random_strength</th>\n",
       "    </tr>\n",
       "  </thead>\n",
       "  <tbody>\n",
       "    <tr>\n",
       "      <th>0</th>\n",
       "      <td>An Giang</td>\n",
       "      <td>CatBoost</td>\n",
       "      <td>7.985934</td>\n",
       "      <td>1</td>\n",
       "      <td>5</td>\n",
       "      <td>-3,-4,-5</td>\n",
       "      <td>1</td>\n",
       "      <td>0.055874</td>\n",
       "      <td>157</td>\n",
       "      <td>7</td>\n",
       "      <td>711</td>\n",
       "      <td>quantile</td>\n",
       "      <td>IsNone</td>\n",
       "      <td>96.827931</td>\n",
       "      <td>208</td>\n",
       "      <td>7.315759</td>\n",
       "      <td>5.374239</td>\n",
       "    </tr>\n",
       "  </tbody>\n",
       "</table>\n",
       "</div>"
      ],
      "text/plain": [
       "       City  Alg_name  Best_value  n_try_opt  lags lags_past_covariates  \\\n",
       "0  An Giang  CatBoost    7.985934          1     5             -3,-4,-5   \n",
       "\n",
       "   output_chunk_length  learning_rate  n_estimators  max_depth  random_state  \\\n",
       "0                    1       0.055874           157          7           711   \n",
       "\n",
       "  likelihood quantiles  bagging_temperature  border_count  l2_leaf_reg  \\\n",
       "0   quantile    IsNone            96.827931           208     7.315759   \n",
       "\n",
       "   random_strength  \n",
       "0         5.374239  "
      ]
     },
     "metadata": {},
     "output_type": "display_data"
    },
    {
     "name": "stderr",
     "output_type": "stream",
     "text": [
      "[I 2023-10-31 06:45:31,321] A new study created in memory with name: CatBoostModel\n"
     ]
    },
    {
     "name": "stdout",
     "output_type": "stream",
     "text": [
      "⭐️⭐️ City:  Quảng Ninh\n"
     ]
    },
    {
     "name": "stderr",
     "output_type": "stream",
     "text": [
      "[I 2023-10-31 06:45:31,692] Trial 0 finished with value: 7.826426599403267 and parameters: {'learning_rate': 0.08120910868023211, 'n_estimators': 199, 'max_depth': 2, 'random_state': 583, 'likelihood': 'quantile', 'quantiles': None, 'bagging_temperature': 65.89455774084887, 'border_count': 226, 'l2_leaf_reg': 7.71830419272158, 'random_strength': 6.988451442166199}. Best is trial 0 with value: 7.826426599403267.\n"
     ]
    },
    {
     "name": "stdout",
     "output_type": "stream",
     "text": [
      "mean_squared_error: 64.4114\n",
      "rmse: 8.025668255528052\n",
      "mape: 7904130822085934.0\n",
      "Study statistics for : \n",
      "  Number of finished trials:  1\n",
      "Best trial of city:  Quảng Ninh\n"
     ]
    },
    {
     "data": {
      "text/html": [
       "<div>\n",
       "<style scoped>\n",
       "    .dataframe tbody tr th:only-of-type {\n",
       "        vertical-align: middle;\n",
       "    }\n",
       "\n",
       "    .dataframe tbody tr th {\n",
       "        vertical-align: top;\n",
       "    }\n",
       "\n",
       "    .dataframe thead th {\n",
       "        text-align: right;\n",
       "    }\n",
       "</style>\n",
       "<table border=\"1\" class=\"dataframe\">\n",
       "  <thead>\n",
       "    <tr style=\"text-align: right;\">\n",
       "      <th></th>\n",
       "      <th>City</th>\n",
       "      <th>Alg_name</th>\n",
       "      <th>Best_value</th>\n",
       "      <th>n_try_opt</th>\n",
       "      <th>lags</th>\n",
       "      <th>lags_past_covariates</th>\n",
       "      <th>output_chunk_length</th>\n",
       "      <th>learning_rate</th>\n",
       "      <th>n_estimators</th>\n",
       "      <th>max_depth</th>\n",
       "      <th>random_state</th>\n",
       "      <th>likelihood</th>\n",
       "      <th>quantiles</th>\n",
       "      <th>bagging_temperature</th>\n",
       "      <th>border_count</th>\n",
       "      <th>l2_leaf_reg</th>\n",
       "      <th>random_strength</th>\n",
       "    </tr>\n",
       "  </thead>\n",
       "  <tbody>\n",
       "    <tr>\n",
       "      <th>0</th>\n",
       "      <td>Quảng Ninh</td>\n",
       "      <td>CatBoost</td>\n",
       "      <td>7.826427</td>\n",
       "      <td>1</td>\n",
       "      <td>5</td>\n",
       "      <td>-3,-4,-5</td>\n",
       "      <td>1</td>\n",
       "      <td>0.081209</td>\n",
       "      <td>199</td>\n",
       "      <td>2</td>\n",
       "      <td>583</td>\n",
       "      <td>quantile</td>\n",
       "      <td>IsNone</td>\n",
       "      <td>65.894558</td>\n",
       "      <td>226</td>\n",
       "      <td>7.718304</td>\n",
       "      <td>6.988451</td>\n",
       "    </tr>\n",
       "  </tbody>\n",
       "</table>\n",
       "</div>"
      ],
      "text/plain": [
       "         City  Alg_name  Best_value  n_try_opt  lags lags_past_covariates  \\\n",
       "0  Quảng Ninh  CatBoost    7.826427          1     5             -3,-4,-5   \n",
       "\n",
       "   output_chunk_length  learning_rate  n_estimators  max_depth  random_state  \\\n",
       "0                    1       0.081209           199          2           583   \n",
       "\n",
       "  likelihood quantiles  bagging_temperature  border_count  l2_leaf_reg  \\\n",
       "0   quantile    IsNone            65.894558           226     7.718304   \n",
       "\n",
       "   random_strength  \n",
       "0         6.988451  "
      ]
     },
     "metadata": {},
     "output_type": "display_data"
    },
    {
     "name": "stderr",
     "output_type": "stream",
     "text": [
      "[I 2023-10-31 06:45:31,706] A new study created in memory with name: XGBModel\n"
     ]
    },
    {
     "name": "stdout",
     "output_type": "stream",
     "text": [
      "⭐️⭐️⭐️⭐️⭐️⭐️⭐️⭐️ Model_name:  XGBModel\n",
      "⭐️⭐️ City:  Bình Phước\n"
     ]
    },
    {
     "name": "stderr",
     "output_type": "stream",
     "text": [
      "[I 2023-10-31 06:45:32,816] Trial 0 finished with value: 49.04267439810974 and parameters: {'random_state': 0, 'likelihood': 'quantile'}. Best is trial 0 with value: 49.04267439810974.\n",
      "[I 2023-10-31 06:45:32,823] A new study created in memory with name: XGBModel\n"
     ]
    },
    {
     "name": "stdout",
     "output_type": "stream",
     "text": [
      "mean_squared_error: 3242.7536\n",
      "rmse: 56.94518045842304\n",
      "mape: 2.627319028846169\n",
      "Study statistics for : \n",
      "  Number of finished trials:  1\n",
      "Best trial of city:  Bình Phước\n",
      "⭐️⭐️ City:  An Giang\n"
     ]
    },
    {
     "name": "stderr",
     "output_type": "stream",
     "text": [
      "[I 2023-10-31 06:45:33,885] Trial 0 finished with value: 19.292724378237843 and parameters: {'random_state': 41, 'likelihood': 'quantile'}. Best is trial 0 with value: 19.292724378237843.\n",
      "[I 2023-10-31 06:45:33,893] A new study created in memory with name: XGBModel\n"
     ]
    },
    {
     "name": "stdout",
     "output_type": "stream",
     "text": [
      "mean_squared_error: 849.3837\n",
      "rmse: 29.144188199576877\n",
      "mape: 2.471457800698286\n",
      "Study statistics for : \n",
      "  Number of finished trials:  1\n",
      "Best trial of city:  An Giang\n",
      "⭐️⭐️ City:  Quảng Ninh\n"
     ]
    },
    {
     "name": "stderr",
     "output_type": "stream",
     "text": [
      "[I 2023-10-31 06:45:34,910] Trial 0 finished with value: 5.412962132974926 and parameters: {'random_state': 34, 'likelihood': 'quantile'}. Best is trial 0 with value: 5.412962132974926.\n",
      "[I 2023-10-31 06:45:34,918] A new study created in memory with name: RandomForest\n"
     ]
    },
    {
     "name": "stdout",
     "output_type": "stream",
     "text": [
      "mean_squared_error: 30.3329\n",
      "rmse: 5.507533296299472\n",
      "mape: 4761453081012325.0\n",
      "Study statistics for : \n",
      "  Number of finished trials:  1\n",
      "Best trial of city:  Quảng Ninh\n",
      "⭐️⭐️⭐️⭐️⭐️⭐️⭐️⭐️⭐️⭐️⭐️⭐️⭐️⭐️⭐️ Nstep:  4\n",
      "⭐️⭐️⭐️⭐️⭐️⭐️⭐️⭐️ Model_name:  RandomForest\n",
      "⭐️⭐️ City:  Bình Phước\n"
     ]
    },
    {
     "name": "stderr",
     "output_type": "stream",
     "text": [
      "[I 2023-10-31 06:45:35,198] Trial 0 finished with value: 18.63630976532819 and parameters: {'random_state': 41, 'n_estimators': 157, 'max_depth': 6}. Best is trial 0 with value: 18.63630976532819.\n",
      "[I 2023-10-31 06:45:35,204] A new study created in memory with name: RandomForest\n",
      "[I 2023-10-31 06:45:35,308] Trial 0 finished with value: 7.991490527038967 and parameters: {'random_state': 9, 'n_estimators': 68, 'max_depth': 1}. Best is trial 0 with value: 7.991490527038967.\n",
      "[I 2023-10-31 06:45:35,316] A new study created in memory with name: RandomForest\n"
     ]
    },
    {
     "name": "stdout",
     "output_type": "stream",
     "text": [
      "mean_squared_error: 729.1067\n",
      "rmse: 27.00197623011348\n",
      "mape: 1.1439985306895133\n",
      "Study statistics for : \n",
      "  Number of finished trials:  1\n",
      "Best trial of city:  Bình Phước\n",
      "⭐️⭐️ City:  An Giang\n",
      "mean_squared_error: 92.8843\n",
      "rmse: 9.63765237671129\n",
      "mape: 0.8071414568436802\n",
      "Study statistics for : \n",
      "  Number of finished trials:  1\n",
      "Best trial of city:  An Giang\n",
      "⭐️⭐️ City:  Quảng Ninh\n"
     ]
    },
    {
     "name": "stderr",
     "output_type": "stream",
     "text": [
      "[I 2023-10-31 06:45:35,460] Trial 0 finished with value: 11.28232855833598 and parameters: {'random_state': 3, 'n_estimators': 70, 'max_depth': 11}. Best is trial 0 with value: 11.28232855833598.\n",
      "[I 2023-10-31 06:45:35,468] A new study created in memory with name: LinearRegressionModel\n",
      "[I 2023-10-31 06:45:35,490] Trial 0 finished with value: 16.639590135843534 and parameters: {'random_state': 27}. Best is trial 0 with value: 16.639590135843534.\n",
      "[I 2023-10-31 06:45:35,497] A new study created in memory with name: LinearRegressionModel\n",
      "[I 2023-10-31 06:45:35,520] Trial 0 finished with value: 12.048995914136745 and parameters: {'random_state': 40}. Best is trial 0 with value: 12.048995914136745.\n",
      "[I 2023-10-31 06:45:35,527] A new study created in memory with name: LinearRegressionModel\n",
      "[I 2023-10-31 06:45:35,549] Trial 0 finished with value: 2.0149315368423877 and parameters: {'random_state': 17}. Best is trial 0 with value: 2.0149315368423877.\n",
      "[I 2023-10-31 06:45:35,557] A new study created in memory with name: CatBoostModel\n"
     ]
    },
    {
     "name": "stdout",
     "output_type": "stream",
     "text": [
      "mean_squared_error: 130.2508\n",
      "rmse: 11.412746901906976\n",
      "mape: 1.2451436131930808e+16\n",
      "Study statistics for : \n",
      "  Number of finished trials:  1\n",
      "Best trial of city:  Quảng Ninh\n",
      "⭐️⭐️⭐️⭐️⭐️⭐️⭐️⭐️ Model_name:  LinearRegressionModel\n",
      "⭐️⭐️ City:  Bình Phước\n",
      "mean_squared_error: 671.3600\n",
      "rmse: 25.91061613891926\n",
      "mape: 0.8737113363502221\n",
      "Study statistics for : \n",
      "  Number of finished trials:  1\n",
      "Best trial of city:  Bình Phước\n",
      "⭐️⭐️ City:  An Giang\n",
      "mean_squared_error: 183.1562\n",
      "rmse: 13.533520365118523\n",
      "mape: 1.5437363976630414\n",
      "Study statistics for : \n",
      "  Number of finished trials:  1\n",
      "Best trial of city:  An Giang\n",
      "⭐️⭐️ City:  Quảng Ninh\n",
      "mean_squared_error: 4.8385\n",
      "rmse: 2.1996637480416177\n",
      "mape: 2196302728637158.2\n",
      "Study statistics for : \n",
      "  Number of finished trials:  1\n",
      "Best trial of city:  Quảng Ninh\n",
      "⭐️⭐️⭐️⭐️⭐️⭐️⭐️⭐️ Model_name:  CatBoostModel\n",
      "⭐️⭐️ City:  Bình Phước\n"
     ]
    },
    {
     "name": "stderr",
     "output_type": "stream",
     "text": [
      "[I 2023-10-31 06:45:35,955] Trial 0 finished with value: 19.83461514816873 and parameters: {'learning_rate': 0.06387745875999268, 'n_estimators': 91, 'max_depth': 8, 'random_state': 484, 'likelihood': 'quantile', 'quantiles': [0.1, 0.5, 0.9], 'bagging_temperature': 76.26628692163777, 'border_count': 200, 'l2_leaf_reg': 6.649535670357739, 'random_strength': 4.690782416791305}. Best is trial 0 with value: 19.83461514816873.\n"
     ]
    },
    {
     "name": "stdout",
     "output_type": "stream",
     "text": [
      "mean_squared_error: 1065.4011\n",
      "rmse: 32.64048292723295\n",
      "mape: 0.7256183948265112\n",
      "Study statistics for : \n",
      "  Number of finished trials:  1\n",
      "Best trial of city:  Bình Phước\n"
     ]
    },
    {
     "data": {
      "text/html": [
       "<div>\n",
       "<style scoped>\n",
       "    .dataframe tbody tr th:only-of-type {\n",
       "        vertical-align: middle;\n",
       "    }\n",
       "\n",
       "    .dataframe tbody tr th {\n",
       "        vertical-align: top;\n",
       "    }\n",
       "\n",
       "    .dataframe thead th {\n",
       "        text-align: right;\n",
       "    }\n",
       "</style>\n",
       "<table border=\"1\" class=\"dataframe\">\n",
       "  <thead>\n",
       "    <tr style=\"text-align: right;\">\n",
       "      <th></th>\n",
       "      <th>City</th>\n",
       "      <th>Alg_name</th>\n",
       "      <th>Best_value</th>\n",
       "      <th>n_try_opt</th>\n",
       "      <th>lags</th>\n",
       "      <th>lags_past_covariates</th>\n",
       "      <th>output_chunk_length</th>\n",
       "      <th>learning_rate</th>\n",
       "      <th>n_estimators</th>\n",
       "      <th>max_depth</th>\n",
       "      <th>random_state</th>\n",
       "      <th>likelihood</th>\n",
       "      <th>quantiles</th>\n",
       "      <th>bagging_temperature</th>\n",
       "      <th>border_count</th>\n",
       "      <th>l2_leaf_reg</th>\n",
       "      <th>random_strength</th>\n",
       "    </tr>\n",
       "  </thead>\n",
       "  <tbody>\n",
       "    <tr>\n",
       "      <th>0</th>\n",
       "      <td>Bình Phước</td>\n",
       "      <td>CatBoost</td>\n",
       "      <td>19.834615</td>\n",
       "      <td>1</td>\n",
       "      <td>6</td>\n",
       "      <td>-4,-5,-6</td>\n",
       "      <td>1</td>\n",
       "      <td>0.063877</td>\n",
       "      <td>91</td>\n",
       "      <td>8</td>\n",
       "      <td>484</td>\n",
       "      <td>quantile</td>\n",
       "      <td>0.1,0.5,0.9</td>\n",
       "      <td>76.266287</td>\n",
       "      <td>200</td>\n",
       "      <td>6.649536</td>\n",
       "      <td>4.690782</td>\n",
       "    </tr>\n",
       "  </tbody>\n",
       "</table>\n",
       "</div>"
      ],
      "text/plain": [
       "         City  Alg_name  Best_value  n_try_opt  lags lags_past_covariates  \\\n",
       "0  Bình Phước  CatBoost   19.834615          1     6             -4,-5,-6   \n",
       "\n",
       "   output_chunk_length  learning_rate  n_estimators  max_depth  random_state  \\\n",
       "0                    1       0.063877            91          8           484   \n",
       "\n",
       "  likelihood    quantiles  bagging_temperature  border_count  l2_leaf_reg  \\\n",
       "0   quantile  0.1,0.5,0.9            76.266287           200     6.649536   \n",
       "\n",
       "   random_strength  \n",
       "0         4.690782  "
      ]
     },
     "metadata": {},
     "output_type": "display_data"
    },
    {
     "name": "stderr",
     "output_type": "stream",
     "text": [
      "[I 2023-10-31 06:45:35,968] A new study created in memory with name: CatBoostModel\n",
      "[I 2023-10-31 06:45:36,096] Trial 0 finished with value: 8.064835380095138 and parameters: {'learning_rate': 0.04563714370222455, 'n_estimators': 54, 'max_depth': 11, 'random_state': 241, 'likelihood': 'quantile', 'quantiles': [0.1, 0.5, 0.9], 'bagging_temperature': 11.938264782323493, 'border_count': 2, 'l2_leaf_reg': 5.285821760574895, 'random_strength': 1.365626360030262}. Best is trial 0 with value: 8.064835380095138.\n"
     ]
    },
    {
     "name": "stdout",
     "output_type": "stream",
     "text": [
      "⭐️⭐️ City:  An Giang\n",
      "mean_squared_error: 88.5617\n",
      "rmse: 9.410721891962456\n",
      "mape: 0.9456065367872394\n",
      "Study statistics for : \n",
      "  Number of finished trials:  1\n",
      "Best trial of city:  An Giang\n"
     ]
    },
    {
     "data": {
      "text/html": [
       "<div>\n",
       "<style scoped>\n",
       "    .dataframe tbody tr th:only-of-type {\n",
       "        vertical-align: middle;\n",
       "    }\n",
       "\n",
       "    .dataframe tbody tr th {\n",
       "        vertical-align: top;\n",
       "    }\n",
       "\n",
       "    .dataframe thead th {\n",
       "        text-align: right;\n",
       "    }\n",
       "</style>\n",
       "<table border=\"1\" class=\"dataframe\">\n",
       "  <thead>\n",
       "    <tr style=\"text-align: right;\">\n",
       "      <th></th>\n",
       "      <th>City</th>\n",
       "      <th>Alg_name</th>\n",
       "      <th>Best_value</th>\n",
       "      <th>n_try_opt</th>\n",
       "      <th>lags</th>\n",
       "      <th>lags_past_covariates</th>\n",
       "      <th>output_chunk_length</th>\n",
       "      <th>learning_rate</th>\n",
       "      <th>n_estimators</th>\n",
       "      <th>max_depth</th>\n",
       "      <th>random_state</th>\n",
       "      <th>likelihood</th>\n",
       "      <th>quantiles</th>\n",
       "      <th>bagging_temperature</th>\n",
       "      <th>border_count</th>\n",
       "      <th>l2_leaf_reg</th>\n",
       "      <th>random_strength</th>\n",
       "    </tr>\n",
       "  </thead>\n",
       "  <tbody>\n",
       "    <tr>\n",
       "      <th>0</th>\n",
       "      <td>An Giang</td>\n",
       "      <td>CatBoost</td>\n",
       "      <td>8.064835</td>\n",
       "      <td>1</td>\n",
       "      <td>6</td>\n",
       "      <td>-4,-5,-6</td>\n",
       "      <td>1</td>\n",
       "      <td>0.045637</td>\n",
       "      <td>54</td>\n",
       "      <td>11</td>\n",
       "      <td>241</td>\n",
       "      <td>quantile</td>\n",
       "      <td>0.1,0.5,0.9</td>\n",
       "      <td>11.938265</td>\n",
       "      <td>2</td>\n",
       "      <td>5.285822</td>\n",
       "      <td>1.365626</td>\n",
       "    </tr>\n",
       "  </tbody>\n",
       "</table>\n",
       "</div>"
      ],
      "text/plain": [
       "       City  Alg_name  Best_value  n_try_opt  lags lags_past_covariates  \\\n",
       "0  An Giang  CatBoost    8.064835          1     6             -4,-5,-6   \n",
       "\n",
       "   output_chunk_length  learning_rate  n_estimators  max_depth  random_state  \\\n",
       "0                    1       0.045637            54         11           241   \n",
       "\n",
       "  likelihood    quantiles  bagging_temperature  border_count  l2_leaf_reg  \\\n",
       "0   quantile  0.1,0.5,0.9            11.938265             2     5.285822   \n",
       "\n",
       "   random_strength  \n",
       "0         1.365626  "
      ]
     },
     "metadata": {},
     "output_type": "display_data"
    },
    {
     "name": "stderr",
     "output_type": "stream",
     "text": [
      "[I 2023-10-31 06:45:36,109] A new study created in memory with name: CatBoostModel\n"
     ]
    },
    {
     "name": "stdout",
     "output_type": "stream",
     "text": [
      "⭐️⭐️ City:  Quảng Ninh\n"
     ]
    },
    {
     "name": "stderr",
     "output_type": "stream",
     "text": [
      "[I 2023-10-31 06:47:09,326] Trial 0 finished with value: 1.9907584678436914 and parameters: {'learning_rate': 0.023523320433958973, 'n_estimators': 155, 'max_depth': 15, 'random_state': 96, 'likelihood': 'quantile', 'quantiles': None, 'bagging_temperature': 64.25792446681521, 'border_count': 157, 'l2_leaf_reg': 2.862217853684312, 'random_strength': 1.4828797368754734}. Best is trial 0 with value: 1.9907584678436914.\n"
     ]
    },
    {
     "name": "stdout",
     "output_type": "stream",
     "text": [
      "mean_squared_error: 5.1264\n",
      "rmse: 2.2641556836328727\n",
      "mape: 2883636677376953.0\n",
      "Study statistics for : \n",
      "  Number of finished trials:  1\n",
      "Best trial of city:  Quảng Ninh\n"
     ]
    },
    {
     "data": {
      "text/html": [
       "<div>\n",
       "<style scoped>\n",
       "    .dataframe tbody tr th:only-of-type {\n",
       "        vertical-align: middle;\n",
       "    }\n",
       "\n",
       "    .dataframe tbody tr th {\n",
       "        vertical-align: top;\n",
       "    }\n",
       "\n",
       "    .dataframe thead th {\n",
       "        text-align: right;\n",
       "    }\n",
       "</style>\n",
       "<table border=\"1\" class=\"dataframe\">\n",
       "  <thead>\n",
       "    <tr style=\"text-align: right;\">\n",
       "      <th></th>\n",
       "      <th>City</th>\n",
       "      <th>Alg_name</th>\n",
       "      <th>Best_value</th>\n",
       "      <th>n_try_opt</th>\n",
       "      <th>lags</th>\n",
       "      <th>lags_past_covariates</th>\n",
       "      <th>output_chunk_length</th>\n",
       "      <th>learning_rate</th>\n",
       "      <th>n_estimators</th>\n",
       "      <th>max_depth</th>\n",
       "      <th>random_state</th>\n",
       "      <th>likelihood</th>\n",
       "      <th>quantiles</th>\n",
       "      <th>bagging_temperature</th>\n",
       "      <th>border_count</th>\n",
       "      <th>l2_leaf_reg</th>\n",
       "      <th>random_strength</th>\n",
       "    </tr>\n",
       "  </thead>\n",
       "  <tbody>\n",
       "    <tr>\n",
       "      <th>0</th>\n",
       "      <td>Quảng Ninh</td>\n",
       "      <td>CatBoost</td>\n",
       "      <td>1.990758</td>\n",
       "      <td>1</td>\n",
       "      <td>6</td>\n",
       "      <td>-4,-5,-6</td>\n",
       "      <td>1</td>\n",
       "      <td>0.023523</td>\n",
       "      <td>155</td>\n",
       "      <td>15</td>\n",
       "      <td>96</td>\n",
       "      <td>quantile</td>\n",
       "      <td>IsNone</td>\n",
       "      <td>64.257924</td>\n",
       "      <td>157</td>\n",
       "      <td>2.862218</td>\n",
       "      <td>1.48288</td>\n",
       "    </tr>\n",
       "  </tbody>\n",
       "</table>\n",
       "</div>"
      ],
      "text/plain": [
       "         City  Alg_name  Best_value  n_try_opt  lags lags_past_covariates  \\\n",
       "0  Quảng Ninh  CatBoost    1.990758          1     6             -4,-5,-6   \n",
       "\n",
       "   output_chunk_length  learning_rate  n_estimators  max_depth  random_state  \\\n",
       "0                    1       0.023523           155         15            96   \n",
       "\n",
       "  likelihood quantiles  bagging_temperature  border_count  l2_leaf_reg  \\\n",
       "0   quantile    IsNone            64.257924           157     2.862218   \n",
       "\n",
       "   random_strength  \n",
       "0          1.48288  "
      ]
     },
     "metadata": {},
     "output_type": "display_data"
    },
    {
     "name": "stderr",
     "output_type": "stream",
     "text": [
      "[I 2023-10-31 06:47:09,347] A new study created in memory with name: XGBModel\n"
     ]
    },
    {
     "name": "stdout",
     "output_type": "stream",
     "text": [
      "⭐️⭐️⭐️⭐️⭐️⭐️⭐️⭐️ Model_name:  XGBModel\n",
      "⭐️⭐️ City:  Bình Phước\n"
     ]
    },
    {
     "name": "stderr",
     "output_type": "stream",
     "text": [
      "[I 2023-10-31 06:47:10,473] Trial 0 finished with value: 33.321669533920144 and parameters: {'random_state': 9, 'likelihood': 'quantile'}. Best is trial 0 with value: 33.321669533920144.\n",
      "[I 2023-10-31 06:47:10,481] A new study created in memory with name: XGBModel\n"
     ]
    },
    {
     "name": "stdout",
     "output_type": "stream",
     "text": [
      "mean_squared_error: 1806.1808\n",
      "rmse: 42.49918614297525\n",
      "mape: 1.9657282606081194\n",
      "Study statistics for : \n",
      "  Number of finished trials:  1\n",
      "Best trial of city:  Bình Phước\n",
      "⭐️⭐️ City:  An Giang\n"
     ]
    },
    {
     "name": "stderr",
     "output_type": "stream",
     "text": [
      "[I 2023-10-31 06:47:11,623] Trial 0 finished with value: 42.19560702567114 and parameters: {'random_state': 20, 'likelihood': 'quantile'}. Best is trial 0 with value: 42.19560702567114.\n",
      "[I 2023-10-31 06:47:11,631] A new study created in memory with name: XGBModel\n"
     ]
    },
    {
     "name": "stdout",
     "output_type": "stream",
     "text": [
      "mean_squared_error: 2877.8154\n",
      "rmse: 53.645273807506214\n",
      "mape: 4.819872300591578\n",
      "Study statistics for : \n",
      "  Number of finished trials:  1\n",
      "Best trial of city:  An Giang\n",
      "⭐️⭐️ City:  Quảng Ninh\n"
     ]
    },
    {
     "name": "stderr",
     "output_type": "stream",
     "text": [
      "[I 2023-10-31 06:47:12,674] Trial 0 finished with value: 5.91479309316853 and parameters: {'random_state': 17, 'likelihood': 'quantile'}. Best is trial 0 with value: 5.91479309316853.\n",
      "[I 2023-10-31 06:47:12,684] A new study created in memory with name: RandomForest\n"
     ]
    },
    {
     "name": "stdout",
     "output_type": "stream",
     "text": [
      "mean_squared_error: 38.9589\n",
      "rmse: 6.241709075013618\n",
      "mape: 5058007626686315.0\n",
      "Study statistics for : \n",
      "  Number of finished trials:  1\n",
      "Best trial of city:  Quảng Ninh\n",
      "⭐️⭐️⭐️⭐️⭐️⭐️⭐️⭐️⭐️⭐️⭐️⭐️⭐️⭐️⭐️ Nstep:  5\n",
      "⭐️⭐️⭐️⭐️⭐️⭐️⭐️⭐️ Model_name:  RandomForest\n",
      "⭐️⭐️ City:  Bình Phước\n"
     ]
    },
    {
     "name": "stderr",
     "output_type": "stream",
     "text": [
      "[I 2023-10-31 06:47:12,948] Trial 0 finished with value: 19.32888365478647 and parameters: {'random_state': 32, 'n_estimators': 139, 'max_depth': 6}. Best is trial 0 with value: 19.32888365478647.\n",
      "[I 2023-10-31 06:47:12,956] A new study created in memory with name: RandomForest\n",
      "[I 2023-10-31 06:47:13,065] Trial 0 finished with value: 9.519655119496516 and parameters: {'random_state': 12, 'n_estimators': 59, 'max_depth': 2}. Best is trial 0 with value: 9.519655119496516.\n",
      "[I 2023-10-31 06:47:13,073] A new study created in memory with name: RandomForest\n"
     ]
    },
    {
     "name": "stdout",
     "output_type": "stream",
     "text": [
      "mean_squared_error: 790.6462\n",
      "rmse: 28.118431711246153\n",
      "mape: 0.9293780754555045\n",
      "Study statistics for : \n",
      "  Number of finished trials:  1\n",
      "Best trial of city:  Bình Phước\n",
      "⭐️⭐️ City:  An Giang\n",
      "mean_squared_error: 111.4722\n",
      "rmse: 10.558039354544587\n",
      "mape: 1.2200140161347939\n",
      "Study statistics for : \n",
      "  Number of finished trials:  1\n",
      "Best trial of city:  An Giang\n",
      "⭐️⭐️ City:  Quảng Ninh\n"
     ]
    },
    {
     "name": "stderr",
     "output_type": "stream",
     "text": [
      "[I 2023-10-31 06:47:13,293] Trial 0 finished with value: 9.235499156480408 and parameters: {'random_state': 20, 'n_estimators': 139, 'max_depth': 3}. Best is trial 0 with value: 9.235499156480408.\n",
      "[I 2023-10-31 06:47:13,300] A new study created in memory with name: LinearRegressionModel\n",
      "[I 2023-10-31 06:47:13,325] Trial 0 finished with value: 17.51017836484638 and parameters: {'random_state': 4}. Best is trial 0 with value: 17.51017836484638.\n",
      "[I 2023-10-31 06:47:13,331] A new study created in memory with name: LinearRegressionModel\n",
      "[I 2023-10-31 06:47:13,358] Trial 0 finished with value: 9.455692213160567 and parameters: {'random_state': 30}. Best is trial 0 with value: 9.455692213160567.\n",
      "[I 2023-10-31 06:47:13,366] A new study created in memory with name: LinearRegressionModel\n",
      "[I 2023-10-31 06:47:13,388] Trial 0 finished with value: 1.9905806260439287 and parameters: {'random_state': 36}. Best is trial 0 with value: 1.9905806260439287.\n",
      "[I 2023-10-31 06:47:13,397] A new study created in memory with name: CatBoostModel\n"
     ]
    },
    {
     "name": "stdout",
     "output_type": "stream",
     "text": [
      "mean_squared_error: 87.0536\n",
      "rmse: 9.330251866080635\n",
      "mape: 1.0145999588426592e+16\n",
      "Study statistics for : \n",
      "  Number of finished trials:  1\n",
      "Best trial of city:  Quảng Ninh\n",
      "⭐️⭐️⭐️⭐️⭐️⭐️⭐️⭐️ Model_name:  LinearRegressionModel\n",
      "⭐️⭐️ City:  Bình Phước\n",
      "mean_squared_error: 740.3438\n",
      "rmse: 27.209259641173464\n",
      "mape: 0.8157273979565712\n",
      "Study statistics for : \n",
      "  Number of finished trials:  1\n",
      "Best trial of city:  Bình Phước\n",
      "⭐️⭐️ City:  An Giang\n",
      "mean_squared_error: 132.9667\n",
      "rmse: 11.531119094833743\n",
      "mape: 1.305462112091867\n",
      "Study statistics for : \n",
      "  Number of finished trials:  1\n",
      "Best trial of city:  An Giang\n",
      "⭐️⭐️ City:  Quảng Ninh\n",
      "mean_squared_error: 5.3290\n",
      "rmse: 2.3084586003654866\n",
      "mape: 2535907209335023.0\n",
      "Study statistics for : \n",
      "  Number of finished trials:  1\n",
      "Best trial of city:  Quảng Ninh\n",
      "⭐️⭐️⭐️⭐️⭐️⭐️⭐️⭐️ Model_name:  CatBoostModel\n",
      "⭐️⭐️ City:  Bình Phước\n"
     ]
    },
    {
     "name": "stderr",
     "output_type": "stream",
     "text": [
      "[I 2023-10-31 06:47:13,862] Trial 0 finished with value: 20.56687361766453 and parameters: {'learning_rate': 0.0548673462232198, 'n_estimators': 199, 'max_depth': 9, 'random_state': 766, 'likelihood': 'quantile', 'quantiles': [0.1, 0.5, 0.9], 'bagging_temperature': 99.5001945712206, 'border_count': 6, 'l2_leaf_reg': 5.9799038346901545, 'random_strength': 2.5076869016286207}. Best is trial 0 with value: 20.56687361766453.\n"
     ]
    },
    {
     "name": "stdout",
     "output_type": "stream",
     "text": [
      "mean_squared_error: 838.6220\n",
      "rmse: 28.958970965412405\n",
      "mape: 1.2705896917048685\n",
      "Study statistics for : \n",
      "  Number of finished trials:  1\n",
      "Best trial of city:  Bình Phước\n"
     ]
    },
    {
     "data": {
      "text/html": [
       "<div>\n",
       "<style scoped>\n",
       "    .dataframe tbody tr th:only-of-type {\n",
       "        vertical-align: middle;\n",
       "    }\n",
       "\n",
       "    .dataframe tbody tr th {\n",
       "        vertical-align: top;\n",
       "    }\n",
       "\n",
       "    .dataframe thead th {\n",
       "        text-align: right;\n",
       "    }\n",
       "</style>\n",
       "<table border=\"1\" class=\"dataframe\">\n",
       "  <thead>\n",
       "    <tr style=\"text-align: right;\">\n",
       "      <th></th>\n",
       "      <th>City</th>\n",
       "      <th>Alg_name</th>\n",
       "      <th>Best_value</th>\n",
       "      <th>n_try_opt</th>\n",
       "      <th>lags</th>\n",
       "      <th>lags_past_covariates</th>\n",
       "      <th>output_chunk_length</th>\n",
       "      <th>learning_rate</th>\n",
       "      <th>n_estimators</th>\n",
       "      <th>max_depth</th>\n",
       "      <th>random_state</th>\n",
       "      <th>likelihood</th>\n",
       "      <th>quantiles</th>\n",
       "      <th>bagging_temperature</th>\n",
       "      <th>border_count</th>\n",
       "      <th>l2_leaf_reg</th>\n",
       "      <th>random_strength</th>\n",
       "    </tr>\n",
       "  </thead>\n",
       "  <tbody>\n",
       "    <tr>\n",
       "      <th>0</th>\n",
       "      <td>Bình Phước</td>\n",
       "      <td>CatBoost</td>\n",
       "      <td>20.566874</td>\n",
       "      <td>1</td>\n",
       "      <td>7</td>\n",
       "      <td>-5,-6,-7</td>\n",
       "      <td>1</td>\n",
       "      <td>0.054867</td>\n",
       "      <td>199</td>\n",
       "      <td>9</td>\n",
       "      <td>766</td>\n",
       "      <td>quantile</td>\n",
       "      <td>0.1,0.5,0.9</td>\n",
       "      <td>99.500195</td>\n",
       "      <td>6</td>\n",
       "      <td>5.979904</td>\n",
       "      <td>2.507687</td>\n",
       "    </tr>\n",
       "  </tbody>\n",
       "</table>\n",
       "</div>"
      ],
      "text/plain": [
       "         City  Alg_name  Best_value  n_try_opt  lags lags_past_covariates  \\\n",
       "0  Bình Phước  CatBoost   20.566874          1     7             -5,-6,-7   \n",
       "\n",
       "   output_chunk_length  learning_rate  n_estimators  max_depth  random_state  \\\n",
       "0                    1       0.054867           199          9           766   \n",
       "\n",
       "  likelihood    quantiles  bagging_temperature  border_count  l2_leaf_reg  \\\n",
       "0   quantile  0.1,0.5,0.9            99.500195             6     5.979904   \n",
       "\n",
       "   random_strength  \n",
       "0         2.507687  "
      ]
     },
     "metadata": {},
     "output_type": "display_data"
    },
    {
     "name": "stderr",
     "output_type": "stream",
     "text": [
      "[I 2023-10-31 06:47:13,873] A new study created in memory with name: CatBoostModel\n"
     ]
    },
    {
     "name": "stdout",
     "output_type": "stream",
     "text": [
      "⭐️⭐️ City:  An Giang\n"
     ]
    },
    {
     "name": "stderr",
     "output_type": "stream",
     "text": [
      "[I 2023-10-31 06:47:14,866] Trial 0 finished with value: 8.471702006407567 and parameters: {'learning_rate': 0.01589985481106663, 'n_estimators': 106, 'max_depth': 7, 'random_state': 332, 'likelihood': 'quantile', 'quantiles': None, 'bagging_temperature': 21.303860675016782, 'border_count': 117, 'l2_leaf_reg': 5.726597745808458, 'random_strength': 4.509673019971049}. Best is trial 0 with value: 8.471702006407567.\n"
     ]
    },
    {
     "name": "stdout",
     "output_type": "stream",
     "text": [
      "mean_squared_error: 100.5578\n",
      "rmse: 10.027851727944267\n",
      "mape: 1.110650889019512\n",
      "Study statistics for : \n",
      "  Number of finished trials:  1\n",
      "Best trial of city:  An Giang\n"
     ]
    },
    {
     "data": {
      "text/html": [
       "<div>\n",
       "<style scoped>\n",
       "    .dataframe tbody tr th:only-of-type {\n",
       "        vertical-align: middle;\n",
       "    }\n",
       "\n",
       "    .dataframe tbody tr th {\n",
       "        vertical-align: top;\n",
       "    }\n",
       "\n",
       "    .dataframe thead th {\n",
       "        text-align: right;\n",
       "    }\n",
       "</style>\n",
       "<table border=\"1\" class=\"dataframe\">\n",
       "  <thead>\n",
       "    <tr style=\"text-align: right;\">\n",
       "      <th></th>\n",
       "      <th>City</th>\n",
       "      <th>Alg_name</th>\n",
       "      <th>Best_value</th>\n",
       "      <th>n_try_opt</th>\n",
       "      <th>lags</th>\n",
       "      <th>lags_past_covariates</th>\n",
       "      <th>output_chunk_length</th>\n",
       "      <th>learning_rate</th>\n",
       "      <th>n_estimators</th>\n",
       "      <th>max_depth</th>\n",
       "      <th>random_state</th>\n",
       "      <th>likelihood</th>\n",
       "      <th>quantiles</th>\n",
       "      <th>bagging_temperature</th>\n",
       "      <th>border_count</th>\n",
       "      <th>l2_leaf_reg</th>\n",
       "      <th>random_strength</th>\n",
       "    </tr>\n",
       "  </thead>\n",
       "  <tbody>\n",
       "    <tr>\n",
       "      <th>0</th>\n",
       "      <td>An Giang</td>\n",
       "      <td>CatBoost</td>\n",
       "      <td>8.471702</td>\n",
       "      <td>1</td>\n",
       "      <td>7</td>\n",
       "      <td>-5,-6,-7</td>\n",
       "      <td>1</td>\n",
       "      <td>0.0159</td>\n",
       "      <td>106</td>\n",
       "      <td>7</td>\n",
       "      <td>332</td>\n",
       "      <td>quantile</td>\n",
       "      <td>IsNone</td>\n",
       "      <td>21.303861</td>\n",
       "      <td>117</td>\n",
       "      <td>5.726598</td>\n",
       "      <td>4.509673</td>\n",
       "    </tr>\n",
       "  </tbody>\n",
       "</table>\n",
       "</div>"
      ],
      "text/plain": [
       "       City  Alg_name  Best_value  n_try_opt  lags lags_past_covariates  \\\n",
       "0  An Giang  CatBoost    8.471702          1     7             -5,-6,-7   \n",
       "\n",
       "   output_chunk_length  learning_rate  n_estimators  max_depth  random_state  \\\n",
       "0                    1         0.0159           106          7           332   \n",
       "\n",
       "  likelihood quantiles  bagging_temperature  border_count  l2_leaf_reg  \\\n",
       "0   quantile    IsNone            21.303861           117     5.726598   \n",
       "\n",
       "   random_strength  \n",
       "0         4.509673  "
      ]
     },
     "metadata": {},
     "output_type": "display_data"
    },
    {
     "name": "stderr",
     "output_type": "stream",
     "text": [
      "[I 2023-10-31 06:47:14,880] A new study created in memory with name: CatBoostModel\n"
     ]
    },
    {
     "name": "stdout",
     "output_type": "stream",
     "text": [
      "⭐️⭐️ City:  Quảng Ninh\n"
     ]
    },
    {
     "name": "stderr",
     "output_type": "stream",
     "text": [
      "[I 2023-10-31 06:47:15,150] Trial 0 finished with value: 4.232125996517668 and parameters: {'learning_rate': 0.06433631609253977, 'n_estimators': 110, 'max_depth': 8, 'random_state': 58, 'likelihood': 'quantile', 'quantiles': [0.1, 0.5, 0.9], 'bagging_temperature': 42.99150790366344, 'border_count': 21, 'l2_leaf_reg': 5.38190757935873, 'random_strength': 8.419276675319168}. Best is trial 0 with value: 4.232125996517668.\n"
     ]
    },
    {
     "name": "stdout",
     "output_type": "stream",
     "text": [
      "mean_squared_error: 20.9207\n",
      "rmse: 4.573918428992642\n",
      "mape: 5611293356009230.0\n",
      "Study statistics for : \n",
      "  Number of finished trials:  1\n",
      "Best trial of city:  Quảng Ninh\n"
     ]
    },
    {
     "data": {
      "text/html": [
       "<div>\n",
       "<style scoped>\n",
       "    .dataframe tbody tr th:only-of-type {\n",
       "        vertical-align: middle;\n",
       "    }\n",
       "\n",
       "    .dataframe tbody tr th {\n",
       "        vertical-align: top;\n",
       "    }\n",
       "\n",
       "    .dataframe thead th {\n",
       "        text-align: right;\n",
       "    }\n",
       "</style>\n",
       "<table border=\"1\" class=\"dataframe\">\n",
       "  <thead>\n",
       "    <tr style=\"text-align: right;\">\n",
       "      <th></th>\n",
       "      <th>City</th>\n",
       "      <th>Alg_name</th>\n",
       "      <th>Best_value</th>\n",
       "      <th>n_try_opt</th>\n",
       "      <th>lags</th>\n",
       "      <th>lags_past_covariates</th>\n",
       "      <th>output_chunk_length</th>\n",
       "      <th>learning_rate</th>\n",
       "      <th>n_estimators</th>\n",
       "      <th>max_depth</th>\n",
       "      <th>random_state</th>\n",
       "      <th>likelihood</th>\n",
       "      <th>quantiles</th>\n",
       "      <th>bagging_temperature</th>\n",
       "      <th>border_count</th>\n",
       "      <th>l2_leaf_reg</th>\n",
       "      <th>random_strength</th>\n",
       "    </tr>\n",
       "  </thead>\n",
       "  <tbody>\n",
       "    <tr>\n",
       "      <th>0</th>\n",
       "      <td>Quảng Ninh</td>\n",
       "      <td>CatBoost</td>\n",
       "      <td>4.232126</td>\n",
       "      <td>1</td>\n",
       "      <td>7</td>\n",
       "      <td>-5,-6,-7</td>\n",
       "      <td>1</td>\n",
       "      <td>0.064336</td>\n",
       "      <td>110</td>\n",
       "      <td>8</td>\n",
       "      <td>58</td>\n",
       "      <td>quantile</td>\n",
       "      <td>0.1,0.5,0.9</td>\n",
       "      <td>42.991508</td>\n",
       "      <td>21</td>\n",
       "      <td>5.381908</td>\n",
       "      <td>8.419277</td>\n",
       "    </tr>\n",
       "  </tbody>\n",
       "</table>\n",
       "</div>"
      ],
      "text/plain": [
       "         City  Alg_name  Best_value  n_try_opt  lags lags_past_covariates  \\\n",
       "0  Quảng Ninh  CatBoost    4.232126          1     7             -5,-6,-7   \n",
       "\n",
       "   output_chunk_length  learning_rate  n_estimators  max_depth  random_state  \\\n",
       "0                    1       0.064336           110          8            58   \n",
       "\n",
       "  likelihood    quantiles  bagging_temperature  border_count  l2_leaf_reg  \\\n",
       "0   quantile  0.1,0.5,0.9            42.991508            21     5.381908   \n",
       "\n",
       "   random_strength  \n",
       "0         8.419277  "
      ]
     },
     "metadata": {},
     "output_type": "display_data"
    },
    {
     "name": "stderr",
     "output_type": "stream",
     "text": [
      "[I 2023-10-31 06:47:15,163] A new study created in memory with name: XGBModel\n"
     ]
    },
    {
     "name": "stdout",
     "output_type": "stream",
     "text": [
      "⭐️⭐️⭐️⭐️⭐️⭐️⭐️⭐️ Model_name:  XGBModel\n",
      "⭐️⭐️ City:  Bình Phước\n"
     ]
    },
    {
     "name": "stderr",
     "output_type": "stream",
     "text": [
      "[I 2023-10-31 06:47:16,283] Trial 0 finished with value: 42.23718185081626 and parameters: {'random_state': 17, 'likelihood': 'quantile'}. Best is trial 0 with value: 42.23718185081626.\n",
      "[I 2023-10-31 06:47:16,290] A new study created in memory with name: XGBModel\n"
     ]
    },
    {
     "name": "stdout",
     "output_type": "stream",
     "text": [
      "mean_squared_error: 2827.3353\n",
      "rmse: 53.17269349142386\n",
      "mape: 2.3140637720001562\n",
      "Study statistics for : \n",
      "  Number of finished trials:  1\n",
      "Best trial of city:  Bình Phước\n",
      "⭐️⭐️ City:  An Giang\n"
     ]
    },
    {
     "name": "stderr",
     "output_type": "stream",
     "text": [
      "[I 2023-10-31 06:47:17,430] Trial 0 finished with value: 39.32342074485012 and parameters: {'random_state': 38, 'likelihood': 'quantile'}. Best is trial 0 with value: 39.32342074485012.\n",
      "[I 2023-10-31 06:47:17,440] A new study created in memory with name: XGBModel\n"
     ]
    },
    {
     "name": "stdout",
     "output_type": "stream",
     "text": [
      "mean_squared_error: 2446.8271\n",
      "rmse: 49.46541303522303\n",
      "mape: 4.518907771729799\n",
      "Study statistics for : \n",
      "  Number of finished trials:  1\n",
      "Best trial of city:  An Giang\n",
      "⭐️⭐️ City:  Quảng Ninh\n"
     ]
    },
    {
     "name": "stderr",
     "output_type": "stream",
     "text": [
      "[I 2023-10-31 06:47:18,456] Trial 0 finished with value: 5.305781539221938 and parameters: {'random_state': 17, 'likelihood': 'quantile'}. Best is trial 0 with value: 5.305781539221938.\n",
      "[I 2023-10-31 06:47:18,465] A new study created in memory with name: RandomForest\n"
     ]
    },
    {
     "name": "stdout",
     "output_type": "stream",
     "text": [
      "mean_squared_error: 29.5294\n",
      "rmse: 5.434094211513945\n",
      "mape: 4463671785630162.0\n",
      "Study statistics for : \n",
      "  Number of finished trials:  1\n",
      "Best trial of city:  Quảng Ninh\n",
      "⭐️⭐️⭐️⭐️⭐️⭐️⭐️⭐️⭐️⭐️⭐️⭐️⭐️⭐️⭐️ Nstep:  6\n",
      "⭐️⭐️⭐️⭐️⭐️⭐️⭐️⭐️ Model_name:  RandomForest\n",
      "⭐️⭐️ City:  Bình Phước\n"
     ]
    },
    {
     "name": "stderr",
     "output_type": "stream",
     "text": [
      "[I 2023-10-31 06:47:18,817] Trial 0 finished with value: 21.167264403206758 and parameters: {'random_state': 26, 'n_estimators': 191, 'max_depth': 5}. Best is trial 0 with value: 21.167264403206758.\n",
      "[I 2023-10-31 06:47:18,824] A new study created in memory with name: RandomForest\n",
      "[I 2023-10-31 06:47:19,013] Trial 0 finished with value: 28.897558638347803 and parameters: {'random_state': 6, 'n_estimators': 107, 'max_depth': 5}. Best is trial 0 with value: 28.897558638347803.\n"
     ]
    },
    {
     "name": "stdout",
     "output_type": "stream",
     "text": [
      "mean_squared_error: 1181.8617\n",
      "rmse: 34.378215361694465\n",
      "mape: 0.596030750940841\n",
      "Study statistics for : \n",
      "  Number of finished trials:  1\n",
      "Best trial of city:  Bình Phước\n",
      "⭐️⭐️ City:  An Giang\n",
      "mean_squared_error: 1008.8887\n",
      "rmse: 31.76300857681379\n",
      "mape: 3.65350963767718\n",
      "Study statistics for : \n",
      "  Number of finished trials:  1\n",
      "Best trial of city:  An Giang\n"
     ]
    },
    {
     "name": "stderr",
     "output_type": "stream",
     "text": [
      "[I 2023-10-31 06:47:19,023] A new study created in memory with name: RandomForest\n"
     ]
    },
    {
     "name": "stdout",
     "output_type": "stream",
     "text": [
      "⭐️⭐️ City:  Quảng Ninh\n"
     ]
    },
    {
     "name": "stderr",
     "output_type": "stream",
     "text": [
      "[I 2023-10-31 06:47:19,290] Trial 0 finished with value: 10.891198589735783 and parameters: {'random_state': 9, 'n_estimators': 131, 'max_depth': 10}. Best is trial 0 with value: 10.891198589735783.\n",
      "[I 2023-10-31 06:47:19,298] A new study created in memory with name: LinearRegressionModel\n",
      "[I 2023-10-31 06:47:19,323] Trial 0 finished with value: 15.771817866340557 and parameters: {'random_state': 24}. Best is trial 0 with value: 15.771817866340557.\n",
      "[I 2023-10-31 06:47:19,330] A new study created in memory with name: LinearRegressionModel\n",
      "[I 2023-10-31 06:47:19,353] Trial 0 finished with value: 8.749061523800414 and parameters: {'random_state': 42}. Best is trial 0 with value: 8.749061523800414.\n",
      "[I 2023-10-31 06:47:19,362] A new study created in memory with name: LinearRegressionModel\n",
      "[I 2023-10-31 06:47:19,388] Trial 0 finished with value: 1.8666497541557387 and parameters: {'random_state': 3}. Best is trial 0 with value: 1.8666497541557387.\n",
      "[I 2023-10-31 06:47:19,397] A new study created in memory with name: CatBoostModel\n"
     ]
    },
    {
     "name": "stdout",
     "output_type": "stream",
     "text": [
      "mean_squared_error: 121.2412\n",
      "rmse: 11.010955948001262\n",
      "mape: 1.1776193885540742e+16\n",
      "Study statistics for : \n",
      "  Number of finished trials:  1\n",
      "Best trial of city:  Quảng Ninh\n",
      "⭐️⭐️⭐️⭐️⭐️⭐️⭐️⭐️ Model_name:  LinearRegressionModel\n",
      "⭐️⭐️ City:  Bình Phước\n",
      "mean_squared_error: 707.0564\n",
      "rmse: 26.590531814876993\n",
      "mape: 0.6614764173896739\n",
      "Study statistics for : \n",
      "  Number of finished trials:  1\n",
      "Best trial of city:  Bình Phước\n",
      "⭐️⭐️ City:  An Giang\n",
      "mean_squared_error: 123.6266\n",
      "rmse: 11.118750513118723\n",
      "mape: 1.1581616167012556\n",
      "Study statistics for : \n",
      "  Number of finished trials:  1\n",
      "Best trial of city:  An Giang\n",
      "⭐️⭐️ City:  Quảng Ninh\n",
      "mean_squared_error: 4.4582\n",
      "rmse: 2.1114503206861586\n",
      "mape: 2390755125550199.0\n",
      "Study statistics for : \n",
      "  Number of finished trials:  1\n",
      "Best trial of city:  Quảng Ninh\n",
      "⭐️⭐️⭐️⭐️⭐️⭐️⭐️⭐️ Model_name:  CatBoostModel\n",
      "⭐️⭐️ City:  Bình Phước\n"
     ]
    },
    {
     "name": "stderr",
     "output_type": "stream",
     "text": [
      "[I 2023-10-31 06:47:19,701] Trial 0 finished with value: 19.179762487638452 and parameters: {'learning_rate': 0.06736945083645177, 'n_estimators': 153, 'max_depth': 6, 'random_state': 61, 'likelihood': 'quantile', 'quantiles': [0.1, 0.5, 0.9], 'bagging_temperature': 46.50690998395231, 'border_count': 64, 'l2_leaf_reg': 3.8876238922640285, 'random_strength': 4.601847340502496}. Best is trial 0 with value: 19.179762487638452.\n"
     ]
    },
    {
     "name": "stdout",
     "output_type": "stream",
     "text": [
      "mean_squared_error: 879.3052\n",
      "rmse: 29.65308123957317\n",
      "mape: 0.8287524801285476\n",
      "Study statistics for : \n",
      "  Number of finished trials:  1\n",
      "Best trial of city:  Bình Phước\n"
     ]
    },
    {
     "data": {
      "text/html": [
       "<div>\n",
       "<style scoped>\n",
       "    .dataframe tbody tr th:only-of-type {\n",
       "        vertical-align: middle;\n",
       "    }\n",
       "\n",
       "    .dataframe tbody tr th {\n",
       "        vertical-align: top;\n",
       "    }\n",
       "\n",
       "    .dataframe thead th {\n",
       "        text-align: right;\n",
       "    }\n",
       "</style>\n",
       "<table border=\"1\" class=\"dataframe\">\n",
       "  <thead>\n",
       "    <tr style=\"text-align: right;\">\n",
       "      <th></th>\n",
       "      <th>City</th>\n",
       "      <th>Alg_name</th>\n",
       "      <th>Best_value</th>\n",
       "      <th>n_try_opt</th>\n",
       "      <th>lags</th>\n",
       "      <th>lags_past_covariates</th>\n",
       "      <th>output_chunk_length</th>\n",
       "      <th>learning_rate</th>\n",
       "      <th>n_estimators</th>\n",
       "      <th>max_depth</th>\n",
       "      <th>random_state</th>\n",
       "      <th>likelihood</th>\n",
       "      <th>quantiles</th>\n",
       "      <th>bagging_temperature</th>\n",
       "      <th>border_count</th>\n",
       "      <th>l2_leaf_reg</th>\n",
       "      <th>random_strength</th>\n",
       "    </tr>\n",
       "  </thead>\n",
       "  <tbody>\n",
       "    <tr>\n",
       "      <th>0</th>\n",
       "      <td>Bình Phước</td>\n",
       "      <td>CatBoost</td>\n",
       "      <td>19.179762</td>\n",
       "      <td>1</td>\n",
       "      <td>8</td>\n",
       "      <td>-6,-7,-8</td>\n",
       "      <td>1</td>\n",
       "      <td>0.067369</td>\n",
       "      <td>153</td>\n",
       "      <td>6</td>\n",
       "      <td>61</td>\n",
       "      <td>quantile</td>\n",
       "      <td>0.1,0.5,0.9</td>\n",
       "      <td>46.50691</td>\n",
       "      <td>64</td>\n",
       "      <td>3.887624</td>\n",
       "      <td>4.601847</td>\n",
       "    </tr>\n",
       "  </tbody>\n",
       "</table>\n",
       "</div>"
      ],
      "text/plain": [
       "         City  Alg_name  Best_value  n_try_opt  lags lags_past_covariates  \\\n",
       "0  Bình Phước  CatBoost   19.179762          1     8             -6,-7,-8   \n",
       "\n",
       "   output_chunk_length  learning_rate  n_estimators  max_depth  random_state  \\\n",
       "0                    1       0.067369           153          6            61   \n",
       "\n",
       "  likelihood    quantiles  bagging_temperature  border_count  l2_leaf_reg  \\\n",
       "0   quantile  0.1,0.5,0.9             46.50691            64     3.887624   \n",
       "\n",
       "   random_strength  \n",
       "0         4.601847  "
      ]
     },
     "metadata": {},
     "output_type": "display_data"
    },
    {
     "name": "stderr",
     "output_type": "stream",
     "text": [
      "[I 2023-10-31 06:47:19,712] A new study created in memory with name: CatBoostModel\n"
     ]
    },
    {
     "name": "stdout",
     "output_type": "stream",
     "text": [
      "⭐️⭐️ City:  An Giang\n"
     ]
    },
    {
     "name": "stderr",
     "output_type": "stream",
     "text": [
      "[I 2023-10-31 06:47:26,660] Trial 0 finished with value: 14.064861508888143 and parameters: {'learning_rate': 0.09919393215365824, 'n_estimators': 65, 'max_depth': 14, 'random_state': 365, 'likelihood': 'quantile', 'quantiles': [0.1, 0.5, 0.9], 'bagging_temperature': 82.26324718107246, 'border_count': 172, 'l2_leaf_reg': 6.247174893703423, 'random_strength': 5.9084101409334915}. Best is trial 0 with value: 14.064861508888143.\n"
     ]
    },
    {
     "name": "stdout",
     "output_type": "stream",
     "text": [
      "mean_squared_error: 247.1875\n",
      "rmse: 15.722197569498647\n",
      "mape: 1.7610468059288278\n",
      "Study statistics for : \n",
      "  Number of finished trials:  1\n",
      "Best trial of city:  An Giang\n"
     ]
    },
    {
     "data": {
      "text/html": [
       "<div>\n",
       "<style scoped>\n",
       "    .dataframe tbody tr th:only-of-type {\n",
       "        vertical-align: middle;\n",
       "    }\n",
       "\n",
       "    .dataframe tbody tr th {\n",
       "        vertical-align: top;\n",
       "    }\n",
       "\n",
       "    .dataframe thead th {\n",
       "        text-align: right;\n",
       "    }\n",
       "</style>\n",
       "<table border=\"1\" class=\"dataframe\">\n",
       "  <thead>\n",
       "    <tr style=\"text-align: right;\">\n",
       "      <th></th>\n",
       "      <th>City</th>\n",
       "      <th>Alg_name</th>\n",
       "      <th>Best_value</th>\n",
       "      <th>n_try_opt</th>\n",
       "      <th>lags</th>\n",
       "      <th>lags_past_covariates</th>\n",
       "      <th>output_chunk_length</th>\n",
       "      <th>learning_rate</th>\n",
       "      <th>n_estimators</th>\n",
       "      <th>max_depth</th>\n",
       "      <th>random_state</th>\n",
       "      <th>likelihood</th>\n",
       "      <th>quantiles</th>\n",
       "      <th>bagging_temperature</th>\n",
       "      <th>border_count</th>\n",
       "      <th>l2_leaf_reg</th>\n",
       "      <th>random_strength</th>\n",
       "    </tr>\n",
       "  </thead>\n",
       "  <tbody>\n",
       "    <tr>\n",
       "      <th>0</th>\n",
       "      <td>An Giang</td>\n",
       "      <td>CatBoost</td>\n",
       "      <td>14.064862</td>\n",
       "      <td>1</td>\n",
       "      <td>8</td>\n",
       "      <td>-6,-7,-8</td>\n",
       "      <td>1</td>\n",
       "      <td>0.099194</td>\n",
       "      <td>65</td>\n",
       "      <td>14</td>\n",
       "      <td>365</td>\n",
       "      <td>quantile</td>\n",
       "      <td>0.1,0.5,0.9</td>\n",
       "      <td>82.263247</td>\n",
       "      <td>172</td>\n",
       "      <td>6.247175</td>\n",
       "      <td>5.90841</td>\n",
       "    </tr>\n",
       "  </tbody>\n",
       "</table>\n",
       "</div>"
      ],
      "text/plain": [
       "       City  Alg_name  Best_value  n_try_opt  lags lags_past_covariates  \\\n",
       "0  An Giang  CatBoost   14.064862          1     8             -6,-7,-8   \n",
       "\n",
       "   output_chunk_length  learning_rate  n_estimators  max_depth  random_state  \\\n",
       "0                    1       0.099194            65         14           365   \n",
       "\n",
       "  likelihood    quantiles  bagging_temperature  border_count  l2_leaf_reg  \\\n",
       "0   quantile  0.1,0.5,0.9            82.263247           172     6.247175   \n",
       "\n",
       "   random_strength  \n",
       "0          5.90841  "
      ]
     },
     "metadata": {},
     "output_type": "display_data"
    },
    {
     "name": "stderr",
     "output_type": "stream",
     "text": [
      "[I 2023-10-31 06:47:26,680] A new study created in memory with name: CatBoostModel\n"
     ]
    },
    {
     "name": "stdout",
     "output_type": "stream",
     "text": [
      "⭐️⭐️ City:  Quảng Ninh\n"
     ]
    },
    {
     "name": "stderr",
     "output_type": "stream",
     "text": [
      "[I 2023-10-31 06:47:27,290] Trial 0 finished with value: 4.334603206337877 and parameters: {'learning_rate': 0.03593837885590801, 'n_estimators': 104, 'max_depth': 5, 'random_state': 926, 'likelihood': 'quantile', 'quantiles': None, 'bagging_temperature': 36.30672835307809, 'border_count': 154, 'l2_leaf_reg': 4.467131247998955, 'random_strength': 2.7001073543759015}. Best is trial 0 with value: 4.334603206337877.\n"
     ]
    },
    {
     "name": "stdout",
     "output_type": "stream",
     "text": [
      "mean_squared_error: 21.1353\n",
      "rmse: 4.59731893111046\n",
      "mape: 4706011088911035.0\n",
      "Study statistics for : \n",
      "  Number of finished trials:  1\n",
      "Best trial of city:  Quảng Ninh\n"
     ]
    },
    {
     "data": {
      "text/html": [
       "<div>\n",
       "<style scoped>\n",
       "    .dataframe tbody tr th:only-of-type {\n",
       "        vertical-align: middle;\n",
       "    }\n",
       "\n",
       "    .dataframe tbody tr th {\n",
       "        vertical-align: top;\n",
       "    }\n",
       "\n",
       "    .dataframe thead th {\n",
       "        text-align: right;\n",
       "    }\n",
       "</style>\n",
       "<table border=\"1\" class=\"dataframe\">\n",
       "  <thead>\n",
       "    <tr style=\"text-align: right;\">\n",
       "      <th></th>\n",
       "      <th>City</th>\n",
       "      <th>Alg_name</th>\n",
       "      <th>Best_value</th>\n",
       "      <th>n_try_opt</th>\n",
       "      <th>lags</th>\n",
       "      <th>lags_past_covariates</th>\n",
       "      <th>output_chunk_length</th>\n",
       "      <th>learning_rate</th>\n",
       "      <th>n_estimators</th>\n",
       "      <th>max_depth</th>\n",
       "      <th>random_state</th>\n",
       "      <th>likelihood</th>\n",
       "      <th>quantiles</th>\n",
       "      <th>bagging_temperature</th>\n",
       "      <th>border_count</th>\n",
       "      <th>l2_leaf_reg</th>\n",
       "      <th>random_strength</th>\n",
       "    </tr>\n",
       "  </thead>\n",
       "  <tbody>\n",
       "    <tr>\n",
       "      <th>0</th>\n",
       "      <td>Quảng Ninh</td>\n",
       "      <td>CatBoost</td>\n",
       "      <td>4.334603</td>\n",
       "      <td>1</td>\n",
       "      <td>8</td>\n",
       "      <td>-6,-7,-8</td>\n",
       "      <td>1</td>\n",
       "      <td>0.035938</td>\n",
       "      <td>104</td>\n",
       "      <td>5</td>\n",
       "      <td>926</td>\n",
       "      <td>quantile</td>\n",
       "      <td>IsNone</td>\n",
       "      <td>36.306728</td>\n",
       "      <td>154</td>\n",
       "      <td>4.467131</td>\n",
       "      <td>2.700107</td>\n",
       "    </tr>\n",
       "  </tbody>\n",
       "</table>\n",
       "</div>"
      ],
      "text/plain": [
       "         City  Alg_name  Best_value  n_try_opt  lags lags_past_covariates  \\\n",
       "0  Quảng Ninh  CatBoost    4.334603          1     8             -6,-7,-8   \n",
       "\n",
       "   output_chunk_length  learning_rate  n_estimators  max_depth  random_state  \\\n",
       "0                    1       0.035938           104          5           926   \n",
       "\n",
       "  likelihood quantiles  bagging_temperature  border_count  l2_leaf_reg  \\\n",
       "0   quantile    IsNone            36.306728           154     4.467131   \n",
       "\n",
       "   random_strength  \n",
       "0         2.700107  "
      ]
     },
     "metadata": {},
     "output_type": "display_data"
    },
    {
     "name": "stderr",
     "output_type": "stream",
     "text": [
      "[I 2023-10-31 06:47:27,304] A new study created in memory with name: XGBModel\n"
     ]
    },
    {
     "name": "stdout",
     "output_type": "stream",
     "text": [
      "⭐️⭐️⭐️⭐️⭐️⭐️⭐️⭐️ Model_name:  XGBModel\n",
      "⭐️⭐️ City:  Bình Phước\n"
     ]
    },
    {
     "name": "stderr",
     "output_type": "stream",
     "text": [
      "[I 2023-10-31 06:47:28,353] Trial 0 finished with value: 47.72838990918919 and parameters: {'random_state': 29, 'likelihood': 'quantile'}. Best is trial 0 with value: 47.72838990918919.\n",
      "[I 2023-10-31 06:47:28,366] A new study created in memory with name: XGBModel\n"
     ]
    },
    {
     "name": "stdout",
     "output_type": "stream",
     "text": [
      "mean_squared_error: 3177.4324\n",
      "rmse: 56.36871810837871\n",
      "mape: 2.6133492999938635\n",
      "Study statistics for : \n",
      "  Number of finished trials:  1\n",
      "Best trial of city:  Bình Phước\n",
      "⭐️⭐️ City:  An Giang\n"
     ]
    },
    {
     "name": "stderr",
     "output_type": "stream",
     "text": [
      "[I 2023-10-31 06:47:29,498] Trial 0 finished with value: 36.81707538107361 and parameters: {'random_state': 13, 'likelihood': 'quantile'}. Best is trial 0 with value: 36.81707538107361.\n",
      "[I 2023-10-31 06:47:29,506] A new study created in memory with name: XGBModel\n"
     ]
    },
    {
     "name": "stdout",
     "output_type": "stream",
     "text": [
      "mean_squared_error: 2331.0732\n",
      "rmse: 48.28118877581905\n",
      "mape: 4.902775186654829\n",
      "Study statistics for : \n",
      "  Number of finished trials:  1\n",
      "Best trial of city:  An Giang\n",
      "⭐️⭐️ City:  Quảng Ninh\n"
     ]
    },
    {
     "name": "stderr",
     "output_type": "stream",
     "text": [
      "[I 2023-10-31 06:47:30,531] Trial 0 finished with value: 3.9088903069094463 and parameters: {'random_state': 14, 'likelihood': 'quantile'}. Best is trial 0 with value: 3.9088903069094463.\n"
     ]
    },
    {
     "name": "stdout",
     "output_type": "stream",
     "text": [
      "mean_squared_error: 17.2422\n",
      "rmse: 4.15237704220374\n",
      "mape: 3256385556567126.0\n",
      "Study statistics for : \n",
      "  Number of finished trials:  1\n",
      "Best trial of city:  Quảng Ninh\n"
     ]
    }
   ],
   "source": [
    "#########################\n",
    "# Main cell for optimize ML algorithm\n",
    "#########################\n",
    "# Hai thuật toán này chưa chạy đc nhe, nên đừng truyền vô mảng để nó chạy nhoé!\n",
    "# \"PoissonRegressor\"\n",
    "# \"SVMRBF\"\n",
    "\n",
    "model_name_list = [\n",
    "     \"RandomForest\",\n",
    "     \"LinearRegressionModel\",\n",
    "    #  \"LightGBMModel\",\n",
    "     \"CatBoostModel\",\n",
    "     \"XGBModel\",\n",
    "    # \"SVMRBF\",\n",
    "    # \"PoissonRegressor\"\n",
    "    \n",
    "]\n",
    "\n",
    "\n",
    "# Lưu thông tin traceback study và error city trong quá trình optimize\n",
    "l_study_city ={}\n",
    "l_errCity =[]\n",
    "\n",
    "if __name__ == '__main__':\n",
    "  for nstep in range(1,args.n_predicted_period_months+1):\n",
    "    print(\"⭐️⭐️⭐️⭐️⭐️⭐️⭐️⭐️⭐️⭐️⭐️⭐️⭐️⭐️⭐️ Nstep: \",nstep)\n",
    "    lags_by_nstep = args.look_back + nstep - 1\n",
    "    lags_past_covariates_by_nstep = [-lags_by_nstep+2,-lags_by_nstep+1,-lags_by_nstep] #Mảng này chứa ba giá trị tương ứng cho args.lookback 3\n",
    "    lags_past_covariates_in_str = f\"{-lags_by_nstep+2},{-lags_by_nstep+1},{-lags_by_nstep}\"\n",
    "    for model_name in model_name_list: \n",
    "      print(\"⭐️⭐️⭐️⭐️⭐️⭐️⭐️⭐️ Model_name: \",model_name)\n",
    "      best_param = pd.DataFrame()\n",
    "      for city_index in range(len(cities)):\n",
    "        print(\"⭐️⭐️ City: \",cities[city_index])\n",
    "        # Use Tree-structured Parzen Estimator sampler to minimise RMSE\n",
    "        sampler = optuna.samplers.TPESampler()\n",
    "        study = optuna.create_study(sampler=sampler, direction='minimize', study_name = model_name)\n",
    "        # truyền multiple param vào trong biến trial\n",
    "        obj_func = lambda trial: objective(model_name, trial, cities[city_index], nstep = nstep)\n",
    "        try:\n",
    "          # Optimise over 100 trials\n",
    "          study.optimize(obj_func, n_trials=args.ntry, n_jobs=args.njob)\n",
    "\n",
    "          # Print results\n",
    "          print(\"Study statistics for : \")\n",
    "          print(\"  Number of finished trials: \", len(study.trials))\n",
    "          print(\"Best trial of city: \",cities[city_index])\n",
    "\n",
    "          best_trial = study.best_trial\n",
    "          # lưu best param vào trong biến toàn cục\n",
    "\n",
    "          if model_name == \"LinearRegressionModel\":\n",
    "            one_city_param = pd.DataFrame({\n",
    "                                'City':  cities[city_index],\n",
    "                                'Alg_name': 'LinearRegressionModel',\n",
    "                                'Best_value': best_trial.value,\n",
    "                                'n_try_opt': args.ntry,\n",
    "                                'lags' : lags_by_nstep,\n",
    "                                'lags_past_covariates': [lags_past_covariates_in_str],\n",
    "                                'output_chunk_length': 1,\n",
    "                                'random_state':best_trial.params['random_state'],\n",
    "                                })\n",
    "          elif model_name == 'XGBModel':\n",
    "            one_city_param = pd.DataFrame({\n",
    "                                'City':  cities[city_index],\n",
    "                                'Alg_name': 'XGBModel',\n",
    "                                'Best_value': best_trial.value,\n",
    "                                'n_try_opt': args.ntry,\n",
    "                                'lags' : lags_by_nstep,\n",
    "                                'lags_past_covariates': [lags_past_covariates_in_str],\n",
    "                                'output_chunk_length': 1,\n",
    "                                'random_state':best_trial.params['random_state'],\n",
    "                                'likelihood': best_trial.params['likelihood'],\n",
    "                                })\n",
    "          elif model_name == \"LightGBMModel\":\n",
    "            one_city_param = pd.DataFrame({\n",
    "                                'City':  cities[city_index],\n",
    "                                'Alg_name': 'LightGBMModel',\n",
    "                                'Best_value': best_trial.value,\n",
    "                                'n_try_opt': args.ntry,\n",
    "                                'lags': lags_by_nstep,\n",
    "                                'lags_past_covariates': [lags_past_covariates_in_str],\n",
    "                                'multi_models': best_trial.params['multi_models'],\n",
    "                                'num_leaves': best_trial.params['num_leaves'], \n",
    "                                'feature_fraction': best_trial.params['feature_fraction'], \n",
    "                                'min_child_samples': best_trial.params['min_child_samples'], \n",
    "                                'lambda_l1': best_trial.params['lambda_l1'], \n",
    "                                'lambda_l2': best_trial.params['lambda_l2'], \n",
    "                                'likelihood': best_trial.params['likelihood'], \n",
    "                                'learning_rate': best_trial.params['learning_rate']\n",
    "                                })\n",
    "          elif model_name == \"CatBoostModel\":\n",
    "            quantitles = best_trial.params['quantiles']\n",
    "            if quantitles == None:\n",
    "              quantitles = \"IsNone\"\n",
    "            else:\n",
    "              quantitles = f\"{quantitles[0]},{quantitles[1]},{quantitles[2]}\"\n",
    "            one_city_param = pd.DataFrame({\n",
    "                                'City':  cities[city_index],\n",
    "                                'Alg_name': 'CatBoost',\n",
    "                                'Best_value': best_trial.value,\n",
    "                                'n_try_opt': args.ntry,\n",
    "                                'lags' : lags_by_nstep,\n",
    "                                'lags_past_covariates': [lags_past_covariates_in_str],\n",
    "                                'output_chunk_length': 1,\n",
    "                                'learning_rate': best_trial.params['learning_rate'],\n",
    "                                'n_estimators': best_trial.params['n_estimators'],\n",
    "                                'max_depth': best_trial.params['max_depth'],\n",
    "                                'random_state': best_trial.params['random_state'],\n",
    "                                'likelihood': best_trial.params['likelihood'],\n",
    "                                'quantiles': [quantitles],\n",
    "                                'bagging_temperature': best_trial.params['bagging_temperature'],\n",
    "                                'border_count': best_trial.params['border_count'],\n",
    "                                'l2_leaf_reg': best_trial.params['l2_leaf_reg'],\n",
    "                                'random_strength':best_trial.params['random_strength'],\n",
    "                                })\n",
    "            display(one_city_param)\n",
    "          elif model_name == \"RandomForest\":\n",
    "            one_city_param = pd.DataFrame({\n",
    "                                'City':  cities[city_index],\n",
    "                                'Alg_name': 'RandomForest',\n",
    "                                'Best_value': best_trial.value,\n",
    "                                'n_try_opt': args.ntry,\n",
    "                                'lags' : lags_by_nstep,\n",
    "                                'lags_past_covariates': [lags_past_covariates_in_str],\n",
    "                                'output_chunk_length': 1,\n",
    "                                'n_estimators': best_trial.params['n_estimators'],\n",
    "                                'max_depth': best_trial.params['max_depth'],\n",
    "                                'random_state':best_trial.params['random_state'],\n",
    "                                })\n",
    "          elif model_name == \"SVMRBF\":\n",
    "            one_city_param = pd.DataFrame({\n",
    "                                'City':  [cities[city_index]],\n",
    "                                'Alg_name': 'SVMRBF',\n",
    "                                'Best_value': best_trial.value,\n",
    "                                'n_try_opt': args.ntry,\n",
    "                                'max_iter':best_trial.params['max_iter'],\n",
    "                                'kernel': 'rbf',\n",
    "                                'epsilon': best_trial.params['epsilon'],\n",
    "                                })\n",
    "          elif model_name == \"PoissonRegressor\":\n",
    "            print(\"🐰Bụt Đây!!\")\n",
    "            print(\"PARAMS: \",best_trial.params)\n",
    "            one_city_param = pd.DataFrame({\n",
    "                                'City':  [cities[city_index]],\n",
    "                                'Alg_name': 'PoissonRegressor',\n",
    "                                'Best_value': best_trial.value,\n",
    "                                'n_try_opt': args.ntry,\n",
    "                                'max_iter':best_trial.params['max_iter'],\n",
    "                                'fit_intercept': \"False\",\n",
    "                                'alpha' : best_trial.params['alpha'],\n",
    "                                })\n",
    "          # file_path = 'opt_results/opt_res_ml_26102023/261023_DF_opt_hyperparam_'+ model_name + '_'+str(nstep)+'-nstep.xlsx'\n",
    "          folder_path = f'opt_results/opt_res_ml_26102023/{model_name}/'\n",
    "          file_path = folder_path+ f'261023_DF_opt_hyperparam_{model_name}_{nstep}-nstep.xlsx'\n",
    "          if(os.path.isfile(file_path)):\n",
    "              with pd.ExcelWriter(file_path,mode=\"a\",engine=\"openpyxl\",if_sheet_exists=\"overlay\") as writer:\n",
    "                  one_city_param.to_excel(writer, header=None, startrow=city_index+1,index=False)\n",
    "          else:\n",
    "              if(not (os.path.isdir(folder_path))):\n",
    "                os.mkdir(folder_path)\n",
    "              with pd.ExcelWriter(file_path,engine=\"openpyxl\") as writer:\n",
    "                  one_city_param.to_excel(writer, startrow=city_index,index=False)\n",
    "        except:# có error thì lưu vào l_errCity để check lại sau \n",
    "          l_errCity.append(cities[city_index])\n",
    "          #send_to_telegram(f'Tỉnh bị lỗi trong quá trình optimize bằng model {model_name}: {cities[city_index]}')"
   ]
  },
  {
   "cell_type": "code",
   "execution_count": 17,
   "metadata": {},
   "outputs": [],
   "source": [
    "# send_to_telegram(\"Chạy xong optimize rùiii!!Vô check thuiii!!!\" )"
   ]
  }
 ],
 "metadata": {
  "kernelspec": {
   "display_name": "Python 3",
   "language": "python",
   "name": "python3"
  },
  "language_info": {
   "codemirror_mode": {
    "name": "ipython",
    "version": 3
   },
   "file_extension": ".py",
   "mimetype": "text/x-python",
   "name": "python",
   "nbconvert_exporter": "python",
   "pygments_lexer": "ipython3",
   "version": "3.9.6"
  }
 },
 "nbformat": 4,
 "nbformat_minor": 2
}
