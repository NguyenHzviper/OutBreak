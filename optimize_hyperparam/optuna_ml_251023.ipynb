{
 "cells": [
  {
   "cell_type": "code",
   "execution_count": 1563,
   "metadata": {},
   "outputs": [],
   "source": [
    "# Imports\n",
    "import os\n",
    "import numpy as np\n",
    "import pandas as pd\n",
    "from sklearn.metrics import mean_squared_error, mean_absolute_error, mean_absolute_percentage_error\n",
    "import matplotlib.pyplot as plt\n",
    "import optuna\n",
    "import joblib\n",
    "\n",
    "import torch\n",
    "\n",
    "from darts import TimeSeries\n",
    "from darts.models import  RandomForest, LinearRegressionModel, LightGBMModel, \\\n",
    "                        CatBoostModel, XGBModel,  BlockRNNModel, NBEATSModel, NHiTSModel, \\\n",
    "                        TCNModel, TFTModel\n",
    "\n",
    "from sklearn.svm import SVR\n",
    "from sklearn.linear_model import PoissonRegressor\n",
    "\n",
    "from statsmodels.tsa.statespace.sarimax import SARIMAX\n",
    "\n",
    "\n",
    "from darts.dataprocessing.transformers import Scaler\n",
    "from darts.utils.likelihood_models import GaussianLikelihood\n",
    "\n",
    "import warnings\n",
    "warnings.filterwarnings('ignore')"
   ]
  },
  {
   "cell_type": "markdown",
   "metadata": {},
   "source": [
    "# Configuration"
   ]
  },
  {
   "cell_type": "code",
   "execution_count": 1564,
   "metadata": {},
   "outputs": [],
   "source": [
    "prj_path = '../'\n",
    "data_path = prj_path + \"data/new_data/DH/squeezed/\"\n",
    "prj_path_opt= prj_path + \"optimize_hyperparam/opt_results/\"\n",
    "output_process = prj_path + \"data/new_data/DH/processed_data/\"\n",
    "output_featureselection = prj_path + \"data/new_data/DH/feature_selection/\""
   ]
  },
  {
   "cell_type": "code",
   "execution_count": 1565,
   "metadata": {},
   "outputs": [],
   "source": [
    "all_cities = [\n",
    "        'An Giang', 'BR Vũng Tàu', 'Bình Phước', 'Bình Thuận', 'Bình Định',\n",
    "        'Bạc Liêu', 'Bắc Kạn', 'Bắc Giang', 'Cao Bằng', 'Cà Mau',\n",
    "        'Cần Thơ', 'Gia Lai', 'Hà Giang', 'Hà Nội', 'Hà Tĩnh',\n",
    "        'Hòa Bình','Hưng Yên', 'Hải Dương', 'Hải Phòng', 'Khánh Hòa', 'Kiên Giang',\n",
    "        'Kon Tum', 'Lai Châu', 'Long An', 'Lào Cai', 'Lâm Đồng',\n",
    "        'Lạng Sơn','Nam Định', 'Nghệ An', 'Ninh Bình', 'Ninh Thuận',\n",
    "        'Phú Thọ', 'Phú Yên', 'Quảng Bình', 'Quảng Nam', 'Quảng Ngãi',\n",
    "        'Quảng Ninh', 'Quảng Trị', 'Sóc Trăng', 'Sơn La', 'TT Huế',\n",
    "        'Thanh Hóa', 'Thái Bình', 'Thái Nguyên', 'Tiền Giang', 'Trà Vinh',\n",
    "        'Tuyên Quang', 'Tây Ninh', 'Vĩnh Phúc', 'Yên Bái', 'Điện Biên',\n",
    "        'Đà Nẵng', 'Đắk Nông', 'Đắk Lắk', 'Đồng Tháp'\n",
    "]\n",
    "cities = ['Hà Nội','Hải Phòng','Quảng Ninh','Nam Định','Thái Bình','Quảng Nam','Quảng Ngãi', 'Phú Yên',\n",
    "          'Ninh Thuận', 'Bình Thuận', 'Tây Ninh', 'Bình Phước', 'An Giang', 'Tiền Giang','Cần Thơ', 'Trà Vinh']\n",
    "cities = [ 'Bình Phước', 'An Giang','Quảng Ninh']"
   ]
  },
  {
   "cell_type": "code",
   "execution_count": 1566,
   "metadata": {},
   "outputs": [],
   "source": [
    "# Set hyperparameters as args using the Configuration class\n",
    "class Configuration():\n",
    "    def __init__(self):\n",
    "        # lấy bộ test dài 36 tháng = 3 năm\n",
    "        self.test_size = 36\n",
    "        # là nhìn vào dữ liệu trước 3 tháng và dự phóng        \n",
    "        self.look_back = 3\n",
    "        # dự phóng n-step trong 6 tháng\n",
    "        self.n_predicted_period_months = 6\n",
    "        self.n_features = 3\n",
    "        self.seed = 42\n",
    "        # mỗi phần tử x trong tập suppervise có độ lớn là 16 = 16 tháng\n",
    "        self.batch_size = 16\n",
    "        self.device = torch.device(\"cuda\")\n",
    "        self.epochs = 300\n",
    "        #others\n",
    "        self.labels = \"Dengue_fever_rates\"\n",
    "        # Input param for Optimize Run\n",
    "        self.ntry = 1\n",
    "        self.njob = 1\n",
    "\n",
    "args = Configuration()"
   ]
  },
  {
   "cell_type": "markdown",
   "metadata": {},
   "source": [
    "# Seeding"
   ]
  },
  {
   "cell_type": "code",
   "execution_count": 1567,
   "metadata": {},
   "outputs": [],
   "source": [
    "def seed_everything(seed: int):\n",
    "    import random\n",
    "    import numpy as np\n",
    "    import torch\n",
    "    \n",
    "    random.seed(seed)\n",
    "    np.random.seed(seed)\n",
    "    torch.manual_seed(seed)\n",
    "\n",
    "seed_everything(args.seed)"
   ]
  },
  {
   "cell_type": "markdown",
   "metadata": {},
   "source": [
    "# Supporting functions"
   ]
  },
  {
   "cell_type": "code",
   "execution_count": 1568,
   "metadata": {},
   "outputs": [],
   "source": [
    "import requests\n",
    "\n",
    "def send_to_telegram(message):\n",
    "\n",
    "    apiToken = '5908735099:AAGVSLrW62aXPBP-GrMvxoVgMsuJxXJpP1Q'\n",
    "    chatID = '@ptn_announcement'\n",
    "    apiURL = f'https://api.telegram.org/bot{apiToken}/sendMessage'\n",
    "\n",
    "    try:\n",
    "        response = requests.post(apiURL, json={'chat_id': chatID, 'text': message})\n",
    "        print(response.text)\n",
    "    except Exception as e:\n",
    "        message_error = \"Bị lỗi rùi: \"+str(e)\n",
    "        response = requests.post(apiURL, json={'chat_id': chatID, 'text': message_error})\n",
    "        print(e)"
   ]
  },
  {
   "cell_type": "code",
   "execution_count": 1569,
   "metadata": {},
   "outputs": [],
   "source": [
    "def get_dict_all_city_data():\n",
    "  cities_data = {}  \n",
    "  for city in cities:\n",
    "    city_result = pd.read_excel(prj_path+'data/new_data/DH/squeezed/squeezed_'+city+'.xlsx')  \n",
    "    \"\"\"Get all data from all city in 1997 - 2016\"\"\" \n",
    "    city_result = city_result.loc[city_result['year_month'] < '2017-1-1'] \n",
    "    cities_data[city] = city_result\n",
    "  return cities_data"
   ]
  },
  {
   "cell_type": "code",
   "execution_count": 1570,
   "metadata": {},
   "outputs": [],
   "source": [
    "# Define data (pre-)processing functions\n",
    "# modification\n",
    "def get_city_data(city_name, dict_full_data):\n",
    "    \"\"\"Returns Dengue fever rate and climate data\"\"\" \n",
    "    city_data = dict_full_data[city_name].drop(columns=['Diarrhoea_cases','Diarrhoea_rates', 'province',\n",
    "                                                        'Influenza_rates','Influenza_cases',\n",
    "                                                        'Dengue_fever_cases', 'year', 'month'], \n",
    "                                                                  axis=1, \n",
    "                                                                  inplace=False)    \n",
    "    return city_data\n",
    "\n",
    "def convert_to_stationary(city_data):\n",
    "    \"\"\"Subtracts previous value for all cols except disease rates\"\"\"\n",
    "    for col_name in city_data.columns:\n",
    "        if col_name != 'Dengue_fever_rates':\n",
    "            try:\n",
    "                city_data[col_name] = city_data[col_name] - city_data[col_name].shift()\n",
    "            except:\n",
    "                print(col_name)\n",
    "    return city_data\n",
    "\n",
    "def impute_missing_value(city_data):\n",
    "    \"\"\"\n",
    "    Imputes 0 for first 12 months, \n",
    "    last year's value for months 12-24, \n",
    "    and minimum value of last two years for months 25+\n",
    "    \"\"\"\n",
    "    for col in city_data.columns:\n",
    "        for index in range(len(city_data[col])):\n",
    "            if np.isnan(city_data[col].iloc[index]):\n",
    "                if index < 12:\n",
    "                    city_data[col].iloc[index] = 0\n",
    "                elif index >= 12 and index <= 24:\n",
    "                    city_data[col].iloc[index] = city_data[col].iloc[index - 12]\n",
    "                else:\n",
    "                    city_data[col].iloc[index] = min(city_data[col].iloc[index - 12], city_data[col].iloc[index - 24])\n",
    "    return city_data"
   ]
  },
  {
   "cell_type": "code",
   "execution_count": 1571,
   "metadata": {},
   "outputs": [],
   "source": [
    "def clean_full_data(dict_full_data):\n",
    "    climate_and_disease_feats = ['Total_Evaporation',\n",
    "       'Total_Rainfall', 'Max_Daily_Rainfall', 'n_raining_days',\n",
    "       'Average_temperature', 'Max_Average_Temperature',\n",
    "       'Min_Average_Temperature', 'Max_Absolute_Temperature',\n",
    "       'Min_Absolute_Temperature', 'Average_Humidity', 'Min_Humidity',\n",
    "       'n_hours_sunshine', 'Dengue_fever_rates']\n",
    "    for city in cities:\n",
    "        city_data = get_city_data(city_name=city,dict_full_data = dict_full_data)\n",
    "        city_data_features = city_data[climate_and_disease_feats]\n",
    "        city_data_features = impute_missing_value(city_data_features)\n",
    "        city_data_features = convert_to_stationary(city_data_features)\n",
    "        city_data_features.dropna(inplace=True)\n",
    "        city_data_features.loc[:, \"year_month\"] = city_data[\"year_month\"]\n",
    "        dict_full_data[city] = city_data_features\n",
    "    return dict_full_data\n"
   ]
  },
  {
   "cell_type": "code",
   "execution_count": 1572,
   "metadata": {},
   "outputs": [],
   "source": [
    "def split_data(data, look_back, n_nextstep = args.n_predicted_period_months):\n",
    "    \"\"\"Splits data into train and test sets based on args (Configuration class)\"\"\"\n",
    "    train = data[: -args.test_size]    \n",
    "    test = data[-args.test_size - look_back-(n_nextstep - 1): ]\n",
    "    return train, test"
   ]
  },
  {
   "cell_type": "code",
   "execution_count": 1573,
   "metadata": {},
   "outputs": [],
   "source": [
    "def to_supervised(data,  d_out, d_in, features_list=[]):\n",
    "    \"\"\"\n",
    "    Frames time-series as supervised learning dataset.\n",
    "    \n",
    "    Args:\n",
    "      d_in: lookback window\n",
    "      d_out: number of predicted months\n",
    "      features_list: list of all features **where last col is the disease incidence**\n",
    "\n",
    "    Returns:\n",
    "      Numpy arrays of disease incidence (y) and other predictors (X)\n",
    "    \"\"\"\n",
    "    X, y = list(), list()\n",
    "    for index, _ in enumerate(data):\n",
    "        in_end = index + d_in\n",
    "        out_end = in_end + d_out\n",
    "        if out_end <= len(data):\n",
    "            if len(features_list) == 0 :\n",
    "                X.append(data[index: in_end, :-1])\n",
    "            else:\n",
    "                X.append(data[index: in_end, features_list])\n",
    "            y.append(data[out_end-1: out_end, -1])\n",
    "    return np.array(X), np.array(y).reshape(len(y))"
   ]
  },
  {
   "cell_type": "code",
   "execution_count": 1574,
   "metadata": {},
   "outputs": [],
   "source": [
    "def train_and_evaluate(df_train, df_eval, model, feature_list , labels, scaler, is_dl_algo, is_sklearn_model,nstep):\n",
    "  \"\"\"\n",
    "  $df: pandas.DataFrame object containing data for training and testing model:\n",
    "  $model: darts model object\n",
    "  $feature_list: Names of the features used as model input\n",
    "  $label: the value the model will be trained to predict\n",
    "  $scaler: scaler object. Note: the scaler will be fitted on training data and applied to test data\n",
    "  $lags: how much to look back into the past to output prediction\n",
    "  $split_index: the point at which to divide train and test_data\n",
    "\n",
    "  \"\"\"\n",
    "  \n",
    "\n",
    "  if is_dl_algo == 1:\n",
    "    print(\"🍋\")\n",
    "  else:\n",
    "    if is_sklearn_model == 1:\n",
    "      \n",
    "      train = df_train[feature_list+[args.labels]].iloc[:,:].to_numpy()\n",
    "      test = df_eval[feature_list+[args.labels]].iloc[:,:].to_numpy()\n",
    "      x_train,y_train = to_supervised(train, d_out=nstep, d_in=args.look_back )\n",
    "      x_train = x_train.reshape(len(x_train),x_train.shape[1]*x_train.shape[2])\n",
    "      x_test,y_test = to_supervised(test, d_out=nstep, d_in=args.look_back )\n",
    "      x_test = x_test.reshape(len(x_test),x_test.shape[1]*x_test.shape[2])\n",
    "      display(df_eval)\n",
    "      model = model.fit(x_train,y_train)\n",
    "      prediction = model.predict(x_test)\n",
    "      \n",
    "      df_eval_true_inverse = df_eval_pred_inverse = df_eval[-args.test_size:]\n",
    "      y_true = scaler.inverse_transform(df_eval_true_inverse.iloc[:,:-1])[:,[-1]].reshape(len(prediction))\n",
    "\n",
    "      df_eval_pred_inverse[labels]= prediction\n",
    "      y_pred = scaler.inverse_transform(df_eval_pred_inverse.iloc[:,:-1])[:,[-1]].reshape(len(prediction))  \n",
    "\n",
    "    else:\n",
    "      x_train = TimeSeries.from_dataframe(df_train, \"year_month\", feature_list)\n",
    "      y_train = TimeSeries.from_dataframe(df_train, \"year_month\", labels)\n",
    "\n",
    "      x_test = TimeSeries.from_dataframe(df_eval, \"year_month\", feature_list)\n",
    "      y_test = TimeSeries.from_dataframe(df_eval, \"year_month\", labels)\n",
    "\n",
    "      model.fit(y_train, past_covariates = x_train)\n",
    "      prediction = model.predict(args.test_size, past_covariates = x_test, num_samples=1)\n",
    "\n",
    "      df_eval_true_inverse = df_eval_pred_inverse = df_eval[-args.test_size:]\n",
    "      y_true = scaler.inverse_transform(df_eval_true_inverse.iloc[:,:-1])[:,[-1]].reshape(len(prediction))\n",
    "\n",
    "      df_eval_pred_inverse[labels]= np.array(prediction._xa).squeeze()\n",
    "      y_pred = scaler.inverse_transform(df_eval_pred_inverse.iloc[:,:-1])[:,[-1]].reshape(len(prediction))\n",
    "\n",
    "\n",
    "    # df_compare_test_predict = pd.DataFrame({'y_true':y_true, 'y_pred':y_pred})\n",
    "    # df_compare_test_predict.plot()\n",
    "    # plt.legend()\n",
    "    # plt.show()\n",
    "\n",
    "    mse = mean_squared_error(y_true, y_pred)\n",
    "    mae = mean_absolute_error(y_true, y_pred)\n",
    "    rmse = mse**0.5\n",
    "    mape = mean_absolute_percentage_error(y_true, y_pred)\n",
    "    print(f\"mean_squared_error: {mse:.4f}\")\n",
    "    print(f\"rmse: {rmse}\")\n",
    "    print(f\"mape: {mape}\")\n",
    "    return model, y_true, y_pred, mse, mae, rmse, mape\n"
   ]
  },
  {
   "cell_type": "code",
   "execution_count": 1575,
   "metadata": {},
   "outputs": [],
   "source": [
    "def output_prediction_for_location(df_train, df_eval, model, location, feature_list, \n",
    "                                                labels, scaler, is_dl_algo, is_sklearn_model ,nstep):\n",
    "    \"\"\"train and generate prediction for a province\n",
    "    df: DataFrame object containing features and label(s) for training model\n",
    "    localtion: location_name\n",
    "    feature_list: list of features used as model input,  must be among the column names of df\n",
    "    labels: the values model will be trained to predict\n",
    "    scaler: sklearn scaler object\n",
    "    lags: how long into the past to look back when making prediction\n",
    "    split_index: the point at which to divide data into the train and test subsets.\n",
    "    \"\"\"\n",
    "    model, y_true, prediction_inverse, mse, mae, rmse, mape = train_and_evaluate(df_train, df_eval, model, feature_list, labels, scaler,is_dl_algo, is_sklearn_model,nstep)\n",
    "    df_prediction = pd.DataFrame({\"Date\": df_eval[\"year_month\"][-len(prediction_inverse):],\n",
    "                                  \"Observed\": y_true[-len(prediction_inverse):],\n",
    "                                  f\"{nstep}-month\": prediction_inverse})\n",
    "    \n",
    "    df_prediction[\"City\"] = location\n",
    "    df_prediction[f\"RMSE_{nstep}-month\"] = rmse\n",
    "    df_prediction[f\"MAE_{nstep}-month\"] = mae\n",
    "    df_prediction[f\"MAPE_{nstep}-month\"] = mape\n",
    "    df_prediction[f\"MSE_{nstep}-month\"] = mse\n",
    "\n",
    "    return mae"
   ]
  },
  {
   "cell_type": "code",
   "execution_count": 1576,
   "metadata": {},
   "outputs": [],
   "source": [
    "def getDataWithSelectedFeature(city, next_predicted_month):\n",
    "  selected_feature = []\n",
    "  df = pd.read_csv(output_featureselection+str(next_predicted_month)+\"step_feature_selection_3_most.csv\")\n",
    "  for row in range(len(df)):\n",
    "    if (df[\"City\"][row] == city):\n",
    "      selected_feature.append(df[\"1st_Feature\"][row])\n",
    "      selected_feature.append(df[\"2nd_Feature\"][row])\n",
    "      selected_feature.append(df[\"3rd_Feature\"][row])\n",
    "  return selected_feature"
   ]
  },
  {
   "cell_type": "markdown",
   "metadata": {},
   "source": [
    "# Objective and Suggest Hyperparams of Darts Models\n"
   ]
  },
  {
   "cell_type": "code",
   "execution_count": 1577,
   "metadata": {},
   "outputs": [],
   "source": [
    "def objective(model_name, trial, city, nstep):   \n",
    "    specific_data = pd.read_csv(output_process+city+'_train_preprocessed.csv', parse_dates=True, index_col= None, encoding = 'unicode_escape')\n",
    "    scaler = joblib.load(output_process+city+'_train_scalerMinMaxNorm.save') #ok\n",
    "\n",
    "    df_train, df_valid = split_data(specific_data, args.look_back,nstep)\n",
    "\n",
    "    selected_features = getDataWithSelectedFeature(city, nstep)\n",
    "\n",
    "    lags_by_nstep = args.look_back + nstep - 1\n",
    "    lags_past_covariates_by_nstep = [-lags_by_nstep+2,-lags_by_nstep+1,-lags_by_nstep] #Mảng này chứa ba giá trị tương ứng cho args.lookback 3\n",
    "    is_dl_algo = 0\n",
    "    is_sklearn_model = 0\n",
    "\n",
    "    pl_trainer_kwargs = {\n",
    "              \"accelerator\": \"cpu\",\n",
    "              # \"devices\": -1,\n",
    "              # \"auto_select_gpus\": True,\n",
    "          }\n",
    "\n",
    "    if model_name == \"RandomForest\":\n",
    "      random_state = trial.suggest_int('random_state', 0, 42)\n",
    "      n_estimators = trial.suggest_int('n_estimators', 50, 200)\n",
    "      max_depth = trial.suggest_int('max_depth', 1, 15)\n",
    "      # Create the RandomForest model\n",
    "      model = RandomForest(\n",
    "                    lags = lags_by_nstep,\n",
    "                    lags_past_covariates = lags_past_covariates_by_nstep,\n",
    "                    output_chunk_length = 1,\n",
    "                    n_estimators = n_estimators,\n",
    "                    max_depth = max_depth,\n",
    "                    random_state=random_state)\n",
    "    elif model_name == 'XGBModel':\n",
    "      random_state = trial.suggest_int('random_state', 0, 43)\n",
    "      likelihood = trial.suggest_categorical('likelihood', ['quantile'])\n",
    "      # Create the  model\n",
    "      model = XGBModel(\n",
    "                      lags = lags_by_nstep,\n",
    "                      lags_past_covariates = lags_past_covariates_by_nstep,\n",
    "                      output_chunk_length = 1,\n",
    "                      random_state=random_state,\n",
    "                      likelihood = likelihood\n",
    "                    )\n",
    "    elif model_name == 'LinearRegressionModel':\n",
    "      random_state = trial.suggest_int('random_state', 0, 43)\n",
    "      # Create the  model\n",
    "      model = LinearRegressionModel(\n",
    "                      lags = lags_by_nstep,\n",
    "                      lags_past_covariates = lags_past_covariates_by_nstep,\n",
    "                      output_chunk_length = 1,\n",
    "                      random_state=random_state)\n",
    "    elif model_name == \"CatBoostModel\":\n",
    "      #suggest hyperparams\n",
    "      learning_rate = trial.suggest_float('learning_rate', 0.001, 0.1)\n",
    "      n_estimators = trial.suggest_int('n_estimators', 50, 200)\n",
    "      max_depth = trial.suggest_int('max_depth', 1, 15)\n",
    "      random_state = trial.suggest_int('random_state', 0, 1000)\n",
    "      likelihood = trial.suggest_categorical('likelihood', ['quantile'])\n",
    "      quantiles =  trial.suggest_categorical('quantiles', [None, [0.1, 0.5, 0.9]])\n",
    "      bagging_temperature = trial.suggest_float('bagging_temperature', 0.01, 100.0)\n",
    "      border_count = trial.suggest_int('border_count', 1, 255)\n",
    "      l2_leaf_reg = trial.suggest_float('l2_leaf_reg', 0.1, 10)\n",
    "      random_strength = trial.suggest_float('random_strength', 0.1, 10)\n",
    "      model = CatBoostModel(\n",
    "                            lags=lags_by_nstep,\n",
    "                            lags_past_covariates=lags_past_covariates_by_nstep, \n",
    "                            learning_rate=learning_rate,\n",
    "                            n_estimators=n_estimators,\n",
    "                            max_depth=max_depth, \n",
    "                            output_chunk_length = 1,\n",
    "                            likelihood = likelihood,\n",
    "                            quantiles = quantiles,\n",
    "                            bagging_temperature = bagging_temperature,\n",
    "                            border_count = border_count,\n",
    "                            l2_leaf_reg = l2_leaf_reg,\n",
    "                            random_strength = random_strength,\n",
    "                            random_state=random_state)\n",
    "    elif model_name == \"LightGBMModel\":\n",
    "      params = {\n",
    "        \"lags\": lags_by_nstep,\n",
    "        \"lags_past_covariates\": lags_past_covariates_by_nstep,\n",
    "        \"random_state\": trial.suggest_int(\"random_state\", 0, 999),\n",
    "        \"multi_models\": trial.suggest_categorical(\"multi_models\", [True, False]),\n",
    "        'num_leaves': trial.suggest_int('num_leaves', 2, 256),\n",
    "        'learning_rate': trial.suggest_loguniform('learning_rate', 0.005, 0.5),\n",
    "        'feature_fraction': trial.suggest_uniform('feature_fraction', 0.1, 1.0),\n",
    "        'bagging_fraction': trial.suggest_uniform('bagging_fraction', 0.1, 1.0),\n",
    "        'min_child_samples': trial.suggest_int('min_child_samples', 5, 100),\n",
    "        'lambda_l1': trial.suggest_loguniform('lambda_l1', 1e-8, 10.0),\n",
    "        'lambda_l2': trial.suggest_loguniform('lambda_l2', 1e-8, 10.0),\n",
    "        'verbose': -1,\n",
    "        'likelihood' : trial.suggest_categorical(\"likelihood\", [\"quantile\"])\n",
    "      }\n",
    "\n",
    "      param = params\n",
    "      model = LightGBMModel(\n",
    "          lags = param['lags'],\n",
    "          lags_past_covariates = param['lags_past_covariates'],\n",
    "          output_chunk_length = 1,\n",
    "          random_state = param['random_state'],\n",
    "          multi_models = param['multi_models'],\n",
    "          likelihood = param['likelihood'],\n",
    "          num_leaves = param['num_leaves'],\n",
    "          learning_rate = param['learning_rate'],\n",
    "          feature_fraction = param['feature_fraction'],\n",
    "          bagging_fraction = param['bagging_fraction'],\n",
    "          min_child_samples = param['min_child_samples'],\n",
    "          lambda_l1 = param['lambda_l1'],\n",
    "          verbose = param['verbose']\n",
    "      )\n",
    "    elif model_name == \"SVMRBF\":\n",
    "      max_iter = trial.suggest_int('max_iter', 50, 200)\n",
    "      epsilon = trial.suggest_loguniform('epsilon', 1e-8, 0.1),\n",
    "      model = SVR(\n",
    "          max_iter = max_iter,\n",
    "          kernel = 'rbf',\n",
    "          epsilon = epsilon[0]\n",
    "      )\n",
    "      is_sklearn_model = 1\n",
    "    elif model_name == \"PoissonRegressor\":\n",
    "      max_iter = trial.suggest_int('max_iter', 50, 200)\n",
    "      alpha = trial.suggest_loguniform('alpha', 1e-8, 10.0),\n",
    "      model = PoissonRegressor(\n",
    "          max_iter = max_iter,\n",
    "          fit_intercept = False,\n",
    "          alpha = alpha[0]\n",
    "      )\n",
    "      is_sklearn_model = 1\n",
    "    elif model_name == \"BlockRNNModel\":\n",
    "      #suggest hyperparams\n",
    "      random_state = trial.suggest_int('random_state', 0, 1000)\n",
    "      n_rnn_layers = trial.suggest_int('n_rnn_layers', 1, 3)\n",
    "      dropout = trial.suggest_uniform('dropout', 0.1, 0.5)\n",
    "      hidden_dim = trial.suggest_int('n_rnn_layers', 5, 20)\n",
    "      n_epochs = trial.suggest_int('n_epochs', 50, 200)\n",
    "\n",
    "      model = BlockRNNModel(\n",
    "                          input_chunk_length = args.look_back,\n",
    "                          output_chunk_length = args.n_predicted_period_months,\n",
    "                          hidden_dim = hidden_dim,\n",
    "                          n_rnn_layers = n_rnn_layers,\n",
    "                          dropout = dropout,\n",
    "                          n_epochs = n_epochs,\n",
    "                          pl_trainer_kwargs = pl_trainer_kwargs,\n",
    "                          random_state=random_state)\n",
    "      is_dl_algo = 1\n",
    "    elif model_name == 'TFTModel':\n",
    "      # Define the hyperparameters to optimize\n",
    "      random_state = trial.suggest_int('random_state', 0, 42)\n",
    "      dropout = trial.suggest_uniform('dropout', 0.01, 0.8)\n",
    "      n_epochs = trial.suggest_int('n_epochs', 50, 200)\n",
    "\n",
    "      # Create the TFTModel model\n",
    "      model = TFTModel(\n",
    "                    input_chunk_length = args.look_back,\n",
    "                    output_chunk_length = args.n_predicted_period_months,\n",
    "                    add_relative_index = True,\n",
    "                    dropout = dropout,\n",
    "                    n_epochs = n_epochs ,\n",
    "                    random_state=random_state)\n",
    "      is_dl_algo = 1\n",
    "    elif model_name == 'NHiTSModel':\n",
    "      #suggest hyperparams\n",
    "      random_state = trial.suggest_int('random_state', 0, 42)\n",
    "      dropout = trial.suggest_uniform('dropout', 0.01, 0.80)\n",
    "      n_epochs = trial.suggest_int('n_epochs', 100, 500, step=10)\n",
    "      MaxPool1d = trial.suggest_categorical('MaxPool1d', [True, False])\n",
    "\n",
    "      model = NHiTSModel(\n",
    "                          input_chunk_length = args.look_back,\n",
    "                          output_chunk_length = args.n_predicted_period_months,\n",
    "                          MaxPool1d = MaxPool1d,\n",
    "                          dropout = dropout,\n",
    "                          n_epochs = n_epochs ,\n",
    "                          pl_trainer_kwargs = pl_trainer_kwargs,\n",
    "                          random_state=random_state)\n",
    "      is_dl_algo = 1\n",
    "    elif model_name == \"NBEATSModel\":\n",
    "      random_state = trial.suggest_int('random_state', 0, 42)\n",
    "      dropout = trial.suggest_uniform('dropout', 0.01, 0.80)\n",
    "      n_epochs = trial.suggest_int('n_epochs', 50, 200)\n",
    "      model = NBEATSModel(\n",
    "                            input_chunk_length = args.look_back,\n",
    "                            output_chunk_length = args.n_predicted_period_months,\n",
    "                            dropout = dropout,\n",
    "                            n_epochs = n_epochs ,\n",
    "                            pl_trainer_kwargs = pl_trainer_kwargs,\n",
    "                            random_state=random_state)\n",
    "      is_dl_algo = 1\n",
    "    elif model_name == \"TCNModel\":\n",
    "      params = {\n",
    "        'kernel_size': trial.suggest_int(\"kernel_size\", 2, lags_by_nstep),\n",
    "        'num_filters': trial.suggest_int(\"num_filters\", 1, 5),\n",
    "        'weight_norm': trial.suggest_categorical(\"weight_norm\", [False, True]),\n",
    "        'dilation_base': trial.suggest_int(\"dilation_base\", 2, 4),\n",
    "        'dropout': trial.suggest_float(\"dropout\", 0.0, 0.4),\n",
    "        'learning_rate': trial.suggest_float(\"learning_rate\", 5e-5, 1e-3, log=True),\n",
    "        'include_year': trial.suggest_categorical(\"year\", [False, True]),\n",
    "        'n_epochs': trial.suggest_int(\"n_epochs\", 100, 300),\n",
    "      }\n",
    "      # select input and output chunk lengths\n",
    "      params['input_chunk_length'] = args.look_back\n",
    "      params['output_chunk_length'] = args.n_predicted_period_months  \n",
    "      # optionally also add the (scaled) year value as a past covariate\n",
    "      if params['include_year']:\n",
    "          encoders = {\"datetime_attribute\": {\"past\": [\"year\"]},\n",
    "                      \"transformer\": Scaler()}\n",
    "      else:\n",
    "          encoders = None\n",
    "      params['encoders'] = encoders\n",
    "      param = params\n",
    "      model = TCNModel(\n",
    "          input_chunk_length=param['input_chunk_length'],\n",
    "          output_chunk_length=param['output_chunk_length'],\n",
    "          batch_size=16,\n",
    "          n_epochs=param['n_epochs'],\n",
    "          nr_epochs_val_period=1,\n",
    "          kernel_size=param['kernel_size'],\n",
    "          num_filters=param['num_filters'],\n",
    "          weight_norm=param['weight_norm'],\n",
    "          dilation_base=param['dilation_base'],\n",
    "          dropout=param['dropout'],\n",
    "          optimizer_kwargs={\"lr\": param['learning_rate']},\n",
    "          add_encoders=param['encoders'],\n",
    "          likelihood=GaussianLikelihood(),\n",
    "          pl_trainer_kwargs=pl_trainer_kwargs,\n",
    "          model_name=\"tcn_model\",\n",
    "          force_reset=True,\n",
    "          save_checkpoints=True,\n",
    "      )\n",
    "      is_dl_algo = 1\n",
    "    \n",
    "    mae_error = output_prediction_for_location(df_train, df_valid, model, location=city, feature_list=selected_features,\n",
    "                                                labels=args.labels, scaler=scaler, is_dl_algo = is_dl_algo, is_sklearn_model = is_sklearn_model, nstep = nstep)\n",
    "\n",
    "    return mae_error"
   ]
  },
  {
   "cell_type": "markdown",
   "metadata": {},
   "source": [
    "# Main run optimize and save"
   ]
  },
  {
   "cell_type": "code",
   "execution_count": 1578,
   "metadata": {},
   "outputs": [
    {
     "name": "stderr",
     "output_type": "stream",
     "text": [
      "[I 2023-10-29 15:23:36,902] A new study created in memory with name: RandomForest\n"
     ]
    },
    {
     "name": "stdout",
     "output_type": "stream",
     "text": [
      "⭐️⭐️⭐️⭐️⭐️⭐️⭐️⭐️⭐️⭐️⭐️⭐️⭐️⭐️⭐️ Nstep:  1\n",
      "⭐️⭐️⭐️⭐️⭐️⭐️⭐️⭐️ Model_name:  RandomForest\n",
      "⭐️⭐️ City:  Bình Phước\n"
     ]
    },
    {
     "name": "stderr",
     "output_type": "stream",
     "text": [
      "[I 2023-10-29 15:23:37,129] Trial 0 finished with value: 21.371175777334233 and parameters: {'random_state': 10, 'n_estimators': 51, 'max_depth': 3}. Best is trial 0 with value: 21.371175777334233.\n",
      "[I 2023-10-29 15:23:37,146] A new study created in memory with name: RandomForest\n"
     ]
    },
    {
     "name": "stdout",
     "output_type": "stream",
     "text": [
      "mean_squared_error: 1208.6717\n",
      "rmse: 34.76595627116567\n",
      "mape: 0.5432568219185056\n",
      "Study statistics for : \n",
      "  Number of finished trials:  1\n",
      "Best trial of city:  Bình Phước\n",
      "⭐️⭐️ City:  An Giang\n"
     ]
    },
    {
     "name": "stderr",
     "output_type": "stream",
     "text": [
      "[I 2023-10-29 15:23:37,352] Trial 0 finished with value: 15.26109252457504 and parameters: {'random_state': 3, 'n_estimators': 158, 'max_depth': 5}. Best is trial 0 with value: 15.26109252457504.\n",
      "[I 2023-10-29 15:23:37,361] A new study created in memory with name: RandomForest\n",
      "[I 2023-10-29 15:23:37,517] Trial 0 finished with value: 5.15637832111508 and parameters: {'random_state': 31, 'n_estimators': 153, 'max_depth': 1}. Best is trial 0 with value: 5.15637832111508.\n",
      "[I 2023-10-29 15:23:37,523] A new study created in memory with name: LinearRegressionModel\n",
      "[I 2023-10-29 15:23:37,547] Trial 0 finished with value: 15.454550293755583 and parameters: {'random_state': 24}. Best is trial 0 with value: 15.454550293755583.\n",
      "[I 2023-10-29 15:23:37,552] A new study created in memory with name: LinearRegressionModel\n"
     ]
    },
    {
     "name": "stdout",
     "output_type": "stream",
     "text": [
      "mean_squared_error: 364.8611\n",
      "rmse: 19.101338035887647\n",
      "mape: 2.1989699221608623\n",
      "Study statistics for : \n",
      "  Number of finished trials:  1\n",
      "Best trial of city:  An Giang\n",
      "⭐️⭐️ City:  Quảng Ninh\n",
      "mean_squared_error: 27.2864\n",
      "rmse: 5.2236377739999975\n",
      "mape: 5891145947853461.0\n",
      "Study statistics for : \n",
      "  Number of finished trials:  1\n",
      "Best trial of city:  Quảng Ninh\n",
      "⭐️⭐️⭐️⭐️⭐️⭐️⭐️⭐️ Model_name:  LinearRegressionModel\n",
      "⭐️⭐️ City:  Bình Phước\n",
      "mean_squared_error: 548.5663\n",
      "rmse: 23.42149313916772\n",
      "mape: 0.819100905137737\n",
      "Study statistics for : \n",
      "  Number of finished trials:  1\n",
      "Best trial of city:  Bình Phước\n",
      "⭐️⭐️ City:  An Giang\n"
     ]
    },
    {
     "name": "stderr",
     "output_type": "stream",
     "text": [
      "[I 2023-10-29 15:23:37,571] Trial 0 finished with value: 9.793239892651613 and parameters: {'random_state': 33}. Best is trial 0 with value: 9.793239892651613.\n",
      "[I 2023-10-29 15:23:37,580] A new study created in memory with name: LinearRegressionModel\n",
      "[I 2023-10-29 15:23:37,597] Trial 0 finished with value: 2.1561044320276053 and parameters: {'random_state': 20}. Best is trial 0 with value: 2.1561044320276053.\n",
      "[I 2023-10-29 15:23:37,603] A new study created in memory with name: CatBoostModel\n"
     ]
    },
    {
     "name": "stdout",
     "output_type": "stream",
     "text": [
      "mean_squared_error: 130.9435\n",
      "rmse: 11.443053817062987\n",
      "mape: 1.2836417352032632\n",
      "Study statistics for : \n",
      "  Number of finished trials:  1\n",
      "Best trial of city:  An Giang\n",
      "⭐️⭐️ City:  Quảng Ninh\n",
      "mean_squared_error: 5.8455\n",
      "rmse: 2.4177382431738255\n",
      "mape: 2178989769645150.2\n",
      "Study statistics for : \n",
      "  Number of finished trials:  1\n",
      "Best trial of city:  Quảng Ninh\n",
      "⭐️⭐️⭐️⭐️⭐️⭐️⭐️⭐️ Model_name:  CatBoostModel\n",
      "⭐️⭐️ City:  Bình Phước\n"
     ]
    },
    {
     "name": "stderr",
     "output_type": "stream",
     "text": [
      "[I 2023-10-29 15:23:37,898] Trial 0 finished with value: 19.413032598561202 and parameters: {'learning_rate': 0.03324366983351095, 'n_estimators': 179, 'max_depth': 2, 'random_state': 467, 'likelihood': 'quantile', 'quantiles': None, 'bagging_temperature': 28.760767636104166, 'border_count': 71, 'l2_leaf_reg': 1.5577316162281578, 'random_strength': 0.5760929622199733}. Best is trial 0 with value: 19.413032598561202.\n"
     ]
    },
    {
     "name": "stdout",
     "output_type": "stream",
     "text": [
      "mean_squared_error: 1047.1006\n",
      "rmse: 32.35893428279614\n",
      "mape: 0.5091760079027328\n",
      "Study statistics for : \n",
      "  Number of finished trials:  1\n",
      "Best trial of city:  Bình Phước\n"
     ]
    },
    {
     "data": {
      "text/html": [
       "<div>\n",
       "<style scoped>\n",
       "    .dataframe tbody tr th:only-of-type {\n",
       "        vertical-align: middle;\n",
       "    }\n",
       "\n",
       "    .dataframe tbody tr th {\n",
       "        vertical-align: top;\n",
       "    }\n",
       "\n",
       "    .dataframe thead th {\n",
       "        text-align: right;\n",
       "    }\n",
       "</style>\n",
       "<table border=\"1\" class=\"dataframe\">\n",
       "  <thead>\n",
       "    <tr style=\"text-align: right;\">\n",
       "      <th></th>\n",
       "      <th>City</th>\n",
       "      <th>Alg_name</th>\n",
       "      <th>Best_value</th>\n",
       "      <th>n_try_opt</th>\n",
       "      <th>lags</th>\n",
       "      <th>lags_past_covariates</th>\n",
       "      <th>output_chunk_length</th>\n",
       "      <th>learning_rate</th>\n",
       "      <th>n_estimators</th>\n",
       "      <th>max_depth</th>\n",
       "      <th>random_state</th>\n",
       "      <th>likelihood</th>\n",
       "      <th>quantiles</th>\n",
       "      <th>bagging_temperature</th>\n",
       "      <th>border_count</th>\n",
       "      <th>l2_leaf_reg</th>\n",
       "      <th>random_strength</th>\n",
       "    </tr>\n",
       "  </thead>\n",
       "  <tbody>\n",
       "    <tr>\n",
       "      <th>0</th>\n",
       "      <td>Bình Phước</td>\n",
       "      <td>CatBoost</td>\n",
       "      <td>19.413033</td>\n",
       "      <td>1</td>\n",
       "      <td>3</td>\n",
       "      <td>-1,-2,-3</td>\n",
       "      <td>1</td>\n",
       "      <td>0.033244</td>\n",
       "      <td>179</td>\n",
       "      <td>2</td>\n",
       "      <td>467</td>\n",
       "      <td>quantile</td>\n",
       "      <td>IsNone</td>\n",
       "      <td>28.760768</td>\n",
       "      <td>71</td>\n",
       "      <td>1.557732</td>\n",
       "      <td>0.576093</td>\n",
       "    </tr>\n",
       "  </tbody>\n",
       "</table>\n",
       "</div>"
      ],
      "text/plain": [
       "         City  Alg_name  Best_value  n_try_opt  lags lags_past_covariates  \\\n",
       "0  Bình Phước  CatBoost   19.413033          1     3             -1,-2,-3   \n",
       "\n",
       "   output_chunk_length  learning_rate  n_estimators  max_depth  random_state  \\\n",
       "0                    1       0.033244           179          2           467   \n",
       "\n",
       "  likelihood quantiles  bagging_temperature  border_count  l2_leaf_reg  \\\n",
       "0   quantile    IsNone            28.760768            71     1.557732   \n",
       "\n",
       "   random_strength  \n",
       "0         0.576093  "
      ]
     },
     "metadata": {},
     "output_type": "display_data"
    },
    {
     "name": "stderr",
     "output_type": "stream",
     "text": [
      "[I 2023-10-29 15:23:37,908] A new study created in memory with name: CatBoostModel\n"
     ]
    },
    {
     "name": "stdout",
     "output_type": "stream",
     "text": [
      "⭐️⭐️ City:  An Giang\n"
     ]
    },
    {
     "name": "stderr",
     "output_type": "stream",
     "text": [
      "[I 2023-10-29 15:23:38,555] Trial 0 finished with value: 14.767108233859195 and parameters: {'learning_rate': 0.08301506957718462, 'n_estimators': 186, 'max_depth': 8, 'random_state': 38, 'likelihood': 'quantile', 'quantiles': [0.1, 0.5, 0.9], 'bagging_temperature': 32.30688162733023, 'border_count': 135, 'l2_leaf_reg': 3.8423570895008847, 'random_strength': 5.308856687152777}. Best is trial 0 with value: 14.767108233859195.\n"
     ]
    },
    {
     "name": "stdout",
     "output_type": "stream",
     "text": [
      "mean_squared_error: 279.4182\n",
      "rmse: 16.715805933179166\n",
      "mape: 2.040193082378436\n",
      "Study statistics for : \n",
      "  Number of finished trials:  1\n",
      "Best trial of city:  An Giang\n"
     ]
    },
    {
     "data": {
      "text/html": [
       "<div>\n",
       "<style scoped>\n",
       "    .dataframe tbody tr th:only-of-type {\n",
       "        vertical-align: middle;\n",
       "    }\n",
       "\n",
       "    .dataframe tbody tr th {\n",
       "        vertical-align: top;\n",
       "    }\n",
       "\n",
       "    .dataframe thead th {\n",
       "        text-align: right;\n",
       "    }\n",
       "</style>\n",
       "<table border=\"1\" class=\"dataframe\">\n",
       "  <thead>\n",
       "    <tr style=\"text-align: right;\">\n",
       "      <th></th>\n",
       "      <th>City</th>\n",
       "      <th>Alg_name</th>\n",
       "      <th>Best_value</th>\n",
       "      <th>n_try_opt</th>\n",
       "      <th>lags</th>\n",
       "      <th>lags_past_covariates</th>\n",
       "      <th>output_chunk_length</th>\n",
       "      <th>learning_rate</th>\n",
       "      <th>n_estimators</th>\n",
       "      <th>max_depth</th>\n",
       "      <th>random_state</th>\n",
       "      <th>likelihood</th>\n",
       "      <th>quantiles</th>\n",
       "      <th>bagging_temperature</th>\n",
       "      <th>border_count</th>\n",
       "      <th>l2_leaf_reg</th>\n",
       "      <th>random_strength</th>\n",
       "    </tr>\n",
       "  </thead>\n",
       "  <tbody>\n",
       "    <tr>\n",
       "      <th>0</th>\n",
       "      <td>An Giang</td>\n",
       "      <td>CatBoost</td>\n",
       "      <td>14.767108</td>\n",
       "      <td>1</td>\n",
       "      <td>3</td>\n",
       "      <td>-1,-2,-3</td>\n",
       "      <td>1</td>\n",
       "      <td>0.083015</td>\n",
       "      <td>186</td>\n",
       "      <td>8</td>\n",
       "      <td>38</td>\n",
       "      <td>quantile</td>\n",
       "      <td>0.1,0.5,0.9</td>\n",
       "      <td>32.306882</td>\n",
       "      <td>135</td>\n",
       "      <td>3.842357</td>\n",
       "      <td>5.308857</td>\n",
       "    </tr>\n",
       "  </tbody>\n",
       "</table>\n",
       "</div>"
      ],
      "text/plain": [
       "       City  Alg_name  Best_value  n_try_opt  lags lags_past_covariates  \\\n",
       "0  An Giang  CatBoost   14.767108          1     3             -1,-2,-3   \n",
       "\n",
       "   output_chunk_length  learning_rate  n_estimators  max_depth  random_state  \\\n",
       "0                    1       0.083015           186          8            38   \n",
       "\n",
       "  likelihood    quantiles  bagging_temperature  border_count  l2_leaf_reg  \\\n",
       "0   quantile  0.1,0.5,0.9            32.306882           135     3.842357   \n",
       "\n",
       "   random_strength  \n",
       "0         5.308857  "
      ]
     },
     "metadata": {},
     "output_type": "display_data"
    },
    {
     "name": "stderr",
     "output_type": "stream",
     "text": [
      "[I 2023-10-29 15:23:38,566] A new study created in memory with name: CatBoostModel\n"
     ]
    },
    {
     "name": "stdout",
     "output_type": "stream",
     "text": [
      "⭐️⭐️ City:  Quảng Ninh\n"
     ]
    },
    {
     "name": "stderr",
     "output_type": "stream",
     "text": [
      "[I 2023-10-29 15:23:38,788] Trial 0 finished with value: 4.984098860384746 and parameters: {'learning_rate': 0.0727230173545148, 'n_estimators': 122, 'max_depth': 6, 'random_state': 46, 'likelihood': 'quantile', 'quantiles': [0.1, 0.5, 0.9], 'bagging_temperature': 42.1418017890709, 'border_count': 237, 'l2_leaf_reg': 3.6083480896394833, 'random_strength': 9.486773018665387}. Best is trial 0 with value: 4.984098860384746.\n"
     ]
    },
    {
     "name": "stdout",
     "output_type": "stream",
     "text": [
      "mean_squared_error: 27.5174\n",
      "rmse: 5.245700207131125\n",
      "mape: 4691075055001349.0\n",
      "Study statistics for : \n",
      "  Number of finished trials:  1\n",
      "Best trial of city:  Quảng Ninh\n"
     ]
    },
    {
     "data": {
      "text/html": [
       "<div>\n",
       "<style scoped>\n",
       "    .dataframe tbody tr th:only-of-type {\n",
       "        vertical-align: middle;\n",
       "    }\n",
       "\n",
       "    .dataframe tbody tr th {\n",
       "        vertical-align: top;\n",
       "    }\n",
       "\n",
       "    .dataframe thead th {\n",
       "        text-align: right;\n",
       "    }\n",
       "</style>\n",
       "<table border=\"1\" class=\"dataframe\">\n",
       "  <thead>\n",
       "    <tr style=\"text-align: right;\">\n",
       "      <th></th>\n",
       "      <th>City</th>\n",
       "      <th>Alg_name</th>\n",
       "      <th>Best_value</th>\n",
       "      <th>n_try_opt</th>\n",
       "      <th>lags</th>\n",
       "      <th>lags_past_covariates</th>\n",
       "      <th>output_chunk_length</th>\n",
       "      <th>learning_rate</th>\n",
       "      <th>n_estimators</th>\n",
       "      <th>max_depth</th>\n",
       "      <th>random_state</th>\n",
       "      <th>likelihood</th>\n",
       "      <th>quantiles</th>\n",
       "      <th>bagging_temperature</th>\n",
       "      <th>border_count</th>\n",
       "      <th>l2_leaf_reg</th>\n",
       "      <th>random_strength</th>\n",
       "    </tr>\n",
       "  </thead>\n",
       "  <tbody>\n",
       "    <tr>\n",
       "      <th>0</th>\n",
       "      <td>Quảng Ninh</td>\n",
       "      <td>CatBoost</td>\n",
       "      <td>4.984099</td>\n",
       "      <td>1</td>\n",
       "      <td>3</td>\n",
       "      <td>-1,-2,-3</td>\n",
       "      <td>1</td>\n",
       "      <td>0.072723</td>\n",
       "      <td>122</td>\n",
       "      <td>6</td>\n",
       "      <td>46</td>\n",
       "      <td>quantile</td>\n",
       "      <td>0.1,0.5,0.9</td>\n",
       "      <td>42.141802</td>\n",
       "      <td>237</td>\n",
       "      <td>3.608348</td>\n",
       "      <td>9.486773</td>\n",
       "    </tr>\n",
       "  </tbody>\n",
       "</table>\n",
       "</div>"
      ],
      "text/plain": [
       "         City  Alg_name  Best_value  n_try_opt  lags lags_past_covariates  \\\n",
       "0  Quảng Ninh  CatBoost    4.984099          1     3             -1,-2,-3   \n",
       "\n",
       "   output_chunk_length  learning_rate  n_estimators  max_depth  random_state  \\\n",
       "0                    1       0.072723           122          6            46   \n",
       "\n",
       "  likelihood    quantiles  bagging_temperature  border_count  l2_leaf_reg  \\\n",
       "0   quantile  0.1,0.5,0.9            42.141802           237     3.608348   \n",
       "\n",
       "   random_strength  \n",
       "0         9.486773  "
      ]
     },
     "metadata": {},
     "output_type": "display_data"
    },
    {
     "name": "stderr",
     "output_type": "stream",
     "text": [
      "[I 2023-10-29 15:23:38,800] A new study created in memory with name: XGBModel\n"
     ]
    },
    {
     "name": "stdout",
     "output_type": "stream",
     "text": [
      "⭐️⭐️⭐️⭐️⭐️⭐️⭐️⭐️ Model_name:  XGBModel\n",
      "⭐️⭐️ City:  Bình Phước\n"
     ]
    },
    {
     "name": "stderr",
     "output_type": "stream",
     "text": [
      "[I 2023-10-29 15:23:39,514] Trial 0 finished with value: 33.429274970185695 and parameters: {'random_state': 11, 'likelihood': 'quantile'}. Best is trial 0 with value: 33.429274970185695.\n",
      "[I 2023-10-29 15:23:39,519] A new study created in memory with name: XGBModel\n"
     ]
    },
    {
     "name": "stdout",
     "output_type": "stream",
     "text": [
      "mean_squared_error: 1774.6579\n",
      "rmse: 42.12668821858689\n",
      "mape: 2.340803391024588\n",
      "Study statistics for : \n",
      "  Number of finished trials:  1\n",
      "Best trial of city:  Bình Phước\n",
      "⭐️⭐️ City:  An Giang\n"
     ]
    },
    {
     "name": "stderr",
     "output_type": "stream",
     "text": [
      "[I 2023-10-29 15:23:40,216] Trial 0 finished with value: 35.61770549461206 and parameters: {'random_state': 5, 'likelihood': 'quantile'}. Best is trial 0 with value: 35.61770549461206.\n",
      "[I 2023-10-29 15:23:40,223] A new study created in memory with name: XGBModel\n"
     ]
    },
    {
     "name": "stdout",
     "output_type": "stream",
     "text": [
      "mean_squared_error: 1853.5172\n",
      "rmse: 43.052493218635895\n",
      "mape: 3.9879544356455128\n",
      "Study statistics for : \n",
      "  Number of finished trials:  1\n",
      "Best trial of city:  An Giang\n",
      "⭐️⭐️ City:  Quảng Ninh\n"
     ]
    },
    {
     "name": "stderr",
     "output_type": "stream",
     "text": [
      "[I 2023-10-29 15:23:40,817] Trial 0 finished with value: 5.058884341369125 and parameters: {'random_state': 23, 'likelihood': 'quantile'}. Best is trial 0 with value: 5.058884341369125.\n",
      "[I 2023-10-29 15:23:40,824] A new study created in memory with name: RandomForest\n"
     ]
    },
    {
     "name": "stdout",
     "output_type": "stream",
     "text": [
      "mean_squared_error: 26.3655\n",
      "rmse: 5.134734760096295\n",
      "mape: 4435404196273251.5\n",
      "Study statistics for : \n",
      "  Number of finished trials:  1\n",
      "Best trial of city:  Quảng Ninh\n",
      "⭐️⭐️⭐️⭐️⭐️⭐️⭐️⭐️⭐️⭐️⭐️⭐️⭐️⭐️⭐️ Nstep:  2\n",
      "⭐️⭐️⭐️⭐️⭐️⭐️⭐️⭐️ Model_name:  RandomForest\n",
      "⭐️⭐️ City:  Bình Phước\n",
      "mean_squared_error: 644.1450\n",
      "rmse: 25.380012178638275\n",
      "mape: 1.1433568796812499\n"
     ]
    },
    {
     "name": "stderr",
     "output_type": "stream",
     "text": [
      "[I 2023-10-29 15:23:41,019] Trial 0 finished with value: 18.440673421381828 and parameters: {'random_state': 1, 'n_estimators': 111, 'max_depth': 13}. Best is trial 0 with value: 18.440673421381828.\n",
      "[I 2023-10-29 15:23:41,029] A new study created in memory with name: RandomForest\n",
      "[I 2023-10-29 15:23:41,131] Trial 0 finished with value: 7.0873083440147155 and parameters: {'random_state': 35, 'n_estimators': 63, 'max_depth': 5}. Best is trial 0 with value: 7.0873083440147155.\n",
      "[I 2023-10-29 15:23:41,138] A new study created in memory with name: RandomForest\n"
     ]
    },
    {
     "name": "stdout",
     "output_type": "stream",
     "text": [
      "Study statistics for : \n",
      "  Number of finished trials:  1\n",
      "Best trial of city:  Bình Phước\n",
      "⭐️⭐️ City:  An Giang\n",
      "mean_squared_error: 62.9319\n",
      "rmse: 7.932964044494261\n",
      "mape: 0.8393346809093868\n",
      "Study statistics for : \n",
      "  Number of finished trials:  1\n",
      "Best trial of city:  An Giang\n",
      "⭐️⭐️ City:  Quảng Ninh\n"
     ]
    },
    {
     "name": "stderr",
     "output_type": "stream",
     "text": [
      "[I 2023-10-29 15:23:41,236] Trial 0 finished with value: 10.159877474540595 and parameters: {'random_state': 37, 'n_estimators': 56, 'max_depth': 6}. Best is trial 0 with value: 10.159877474540595.\n",
      "[I 2023-10-29 15:23:41,249] A new study created in memory with name: LinearRegressionModel\n",
      "[I 2023-10-29 15:23:41,288] Trial 0 finished with value: 16.328277431592657 and parameters: {'random_state': 19}. Best is trial 0 with value: 16.328277431592657.\n",
      "[I 2023-10-29 15:23:41,298] A new study created in memory with name: LinearRegressionModel\n",
      "[I 2023-10-29 15:23:41,325] Trial 0 finished with value: 10.967350719904244 and parameters: {'random_state': 42}. Best is trial 0 with value: 10.967350719904244.\n",
      "[I 2023-10-29 15:23:41,335] A new study created in memory with name: LinearRegressionModel\n",
      "[I 2023-10-29 15:23:41,370] Trial 0 finished with value: 2.383358337060302 and parameters: {'random_state': 1}. Best is trial 0 with value: 2.383358337060302.\n",
      "[I 2023-10-29 15:23:41,377] A new study created in memory with name: CatBoostModel\n"
     ]
    },
    {
     "name": "stdout",
     "output_type": "stream",
     "text": [
      "mean_squared_error: 107.5638\n",
      "rmse: 10.371299056643162\n",
      "mape: 1.0937847404338426e+16\n",
      "Study statistics for : \n",
      "  Number of finished trials:  1\n",
      "Best trial of city:  Quảng Ninh\n",
      "⭐️⭐️⭐️⭐️⭐️⭐️⭐️⭐️ Model_name:  LinearRegressionModel\n",
      "⭐️⭐️ City:  Bình Phước\n",
      "mean_squared_error: 590.3751\n",
      "rmse: 24.297636486551085\n",
      "mape: 0.7873980592519219\n",
      "Study statistics for : \n",
      "  Number of finished trials:  1\n",
      "Best trial of city:  Bình Phước\n",
      "⭐️⭐️ City:  An Giang\n",
      "mean_squared_error: 174.2329\n",
      "rmse: 13.199731086599058\n",
      "mape: 1.567751539048323\n",
      "Study statistics for : \n",
      "  Number of finished trials:  1\n",
      "Best trial of city:  An Giang\n",
      "⭐️⭐️ City:  Quảng Ninh\n",
      "mean_squared_error: 7.0874\n",
      "rmse: 2.6622086282456126\n",
      "mape: 1884359654978456.0\n",
      "Study statistics for : \n",
      "  Number of finished trials:  1\n",
      "Best trial of city:  Quảng Ninh\n",
      "⭐️⭐️⭐️⭐️⭐️⭐️⭐️⭐️ Model_name:  CatBoostModel\n",
      "⭐️⭐️ City:  Bình Phước\n"
     ]
    },
    {
     "name": "stderr",
     "output_type": "stream",
     "text": [
      "[I 2023-10-29 15:23:48,484] Trial 0 finished with value: 17.279377662152857 and parameters: {'learning_rate': 0.04386015580843539, 'n_estimators': 121, 'max_depth': 13, 'random_state': 866, 'likelihood': 'quantile', 'quantiles': None, 'bagging_temperature': 6.237273624900523, 'border_count': 35, 'l2_leaf_reg': 1.6620291124245505, 'random_strength': 1.4221643612514303}. Best is trial 0 with value: 17.279377662152857.\n"
     ]
    },
    {
     "name": "stdout",
     "output_type": "stream",
     "text": [
      "mean_squared_error: 711.0986\n",
      "rmse: 26.666431725187422\n",
      "mape: 0.8569999019281724\n",
      "Study statistics for : \n",
      "  Number of finished trials:  1\n",
      "Best trial of city:  Bình Phước\n"
     ]
    },
    {
     "data": {
      "text/html": [
       "<div>\n",
       "<style scoped>\n",
       "    .dataframe tbody tr th:only-of-type {\n",
       "        vertical-align: middle;\n",
       "    }\n",
       "\n",
       "    .dataframe tbody tr th {\n",
       "        vertical-align: top;\n",
       "    }\n",
       "\n",
       "    .dataframe thead th {\n",
       "        text-align: right;\n",
       "    }\n",
       "</style>\n",
       "<table border=\"1\" class=\"dataframe\">\n",
       "  <thead>\n",
       "    <tr style=\"text-align: right;\">\n",
       "      <th></th>\n",
       "      <th>City</th>\n",
       "      <th>Alg_name</th>\n",
       "      <th>Best_value</th>\n",
       "      <th>n_try_opt</th>\n",
       "      <th>lags</th>\n",
       "      <th>lags_past_covariates</th>\n",
       "      <th>output_chunk_length</th>\n",
       "      <th>learning_rate</th>\n",
       "      <th>n_estimators</th>\n",
       "      <th>max_depth</th>\n",
       "      <th>random_state</th>\n",
       "      <th>likelihood</th>\n",
       "      <th>quantiles</th>\n",
       "      <th>bagging_temperature</th>\n",
       "      <th>border_count</th>\n",
       "      <th>l2_leaf_reg</th>\n",
       "      <th>random_strength</th>\n",
       "    </tr>\n",
       "  </thead>\n",
       "  <tbody>\n",
       "    <tr>\n",
       "      <th>0</th>\n",
       "      <td>Bình Phước</td>\n",
       "      <td>CatBoost</td>\n",
       "      <td>17.279378</td>\n",
       "      <td>1</td>\n",
       "      <td>4</td>\n",
       "      <td>-2,-3,-4</td>\n",
       "      <td>1</td>\n",
       "      <td>0.04386</td>\n",
       "      <td>121</td>\n",
       "      <td>13</td>\n",
       "      <td>866</td>\n",
       "      <td>quantile</td>\n",
       "      <td>IsNone</td>\n",
       "      <td>6.237274</td>\n",
       "      <td>35</td>\n",
       "      <td>1.662029</td>\n",
       "      <td>1.422164</td>\n",
       "    </tr>\n",
       "  </tbody>\n",
       "</table>\n",
       "</div>"
      ],
      "text/plain": [
       "         City  Alg_name  Best_value  n_try_opt  lags lags_past_covariates  \\\n",
       "0  Bình Phước  CatBoost   17.279378          1     4             -2,-3,-4   \n",
       "\n",
       "   output_chunk_length  learning_rate  n_estimators  max_depth  random_state  \\\n",
       "0                    1        0.04386           121         13           866   \n",
       "\n",
       "  likelihood quantiles  bagging_temperature  border_count  l2_leaf_reg  \\\n",
       "0   quantile    IsNone             6.237274            35     1.662029   \n",
       "\n",
       "   random_strength  \n",
       "0         1.422164  "
      ]
     },
     "metadata": {},
     "output_type": "display_data"
    },
    {
     "name": "stderr",
     "output_type": "stream",
     "text": [
      "[I 2023-10-29 15:23:48,499] A new study created in memory with name: CatBoostModel\n",
      "[I 2023-10-29 15:23:48,634] Trial 0 finished with value: 7.2827079333235565 and parameters: {'learning_rate': 0.03697703030405908, 'n_estimators': 106, 'max_depth': 4, 'random_state': 441, 'likelihood': 'quantile', 'quantiles': [0.1, 0.5, 0.9], 'bagging_temperature': 24.537491392221686, 'border_count': 95, 'l2_leaf_reg': 1.3070695260055896, 'random_strength': 5.463057017225709}. Best is trial 0 with value: 7.2827079333235565.\n"
     ]
    },
    {
     "name": "stdout",
     "output_type": "stream",
     "text": [
      "⭐️⭐️ City:  An Giang\n",
      "mean_squared_error: 98.0172\n",
      "rmse: 9.90036341964138\n",
      "mape: 0.5168048695565934\n",
      "Study statistics for : \n",
      "  Number of finished trials:  1\n",
      "Best trial of city:  An Giang\n"
     ]
    },
    {
     "data": {
      "text/html": [
       "<div>\n",
       "<style scoped>\n",
       "    .dataframe tbody tr th:only-of-type {\n",
       "        vertical-align: middle;\n",
       "    }\n",
       "\n",
       "    .dataframe tbody tr th {\n",
       "        vertical-align: top;\n",
       "    }\n",
       "\n",
       "    .dataframe thead th {\n",
       "        text-align: right;\n",
       "    }\n",
       "</style>\n",
       "<table border=\"1\" class=\"dataframe\">\n",
       "  <thead>\n",
       "    <tr style=\"text-align: right;\">\n",
       "      <th></th>\n",
       "      <th>City</th>\n",
       "      <th>Alg_name</th>\n",
       "      <th>Best_value</th>\n",
       "      <th>n_try_opt</th>\n",
       "      <th>lags</th>\n",
       "      <th>lags_past_covariates</th>\n",
       "      <th>output_chunk_length</th>\n",
       "      <th>learning_rate</th>\n",
       "      <th>n_estimators</th>\n",
       "      <th>max_depth</th>\n",
       "      <th>random_state</th>\n",
       "      <th>likelihood</th>\n",
       "      <th>quantiles</th>\n",
       "      <th>bagging_temperature</th>\n",
       "      <th>border_count</th>\n",
       "      <th>l2_leaf_reg</th>\n",
       "      <th>random_strength</th>\n",
       "    </tr>\n",
       "  </thead>\n",
       "  <tbody>\n",
       "    <tr>\n",
       "      <th>0</th>\n",
       "      <td>An Giang</td>\n",
       "      <td>CatBoost</td>\n",
       "      <td>7.282708</td>\n",
       "      <td>1</td>\n",
       "      <td>4</td>\n",
       "      <td>-2,-3,-4</td>\n",
       "      <td>1</td>\n",
       "      <td>0.036977</td>\n",
       "      <td>106</td>\n",
       "      <td>4</td>\n",
       "      <td>441</td>\n",
       "      <td>quantile</td>\n",
       "      <td>0.1,0.5,0.9</td>\n",
       "      <td>24.537491</td>\n",
       "      <td>95</td>\n",
       "      <td>1.30707</td>\n",
       "      <td>5.463057</td>\n",
       "    </tr>\n",
       "  </tbody>\n",
       "</table>\n",
       "</div>"
      ],
      "text/plain": [
       "       City  Alg_name  Best_value  n_try_opt  lags lags_past_covariates  \\\n",
       "0  An Giang  CatBoost    7.282708          1     4             -2,-3,-4   \n",
       "\n",
       "   output_chunk_length  learning_rate  n_estimators  max_depth  random_state  \\\n",
       "0                    1       0.036977           106          4           441   \n",
       "\n",
       "  likelihood    quantiles  bagging_temperature  border_count  l2_leaf_reg  \\\n",
       "0   quantile  0.1,0.5,0.9            24.537491            95      1.30707   \n",
       "\n",
       "   random_strength  \n",
       "0         5.463057  "
      ]
     },
     "metadata": {},
     "output_type": "display_data"
    },
    {
     "name": "stderr",
     "output_type": "stream",
     "text": [
      "[I 2023-10-29 15:23:48,652] A new study created in memory with name: CatBoostModel\n"
     ]
    },
    {
     "name": "stdout",
     "output_type": "stream",
     "text": [
      "⭐️⭐️ City:  Quảng Ninh\n"
     ]
    },
    {
     "name": "stderr",
     "output_type": "stream",
     "text": [
      "[I 2023-10-29 15:25:24,806] Trial 0 finished with value: 2.0228865217570564 and parameters: {'learning_rate': 0.0446530284240375, 'n_estimators': 194, 'max_depth': 15, 'random_state': 421, 'likelihood': 'quantile', 'quantiles': None, 'bagging_temperature': 37.736772328667236, 'border_count': 144, 'l2_leaf_reg': 0.4162354921028608, 'random_strength': 2.9335248978670854}. Best is trial 0 with value: 2.0228865217570564.\n"
     ]
    },
    {
     "name": "stdout",
     "output_type": "stream",
     "text": [
      "mean_squared_error: 4.8590\n",
      "rmse: 2.204303403615785\n",
      "mape: 2126584524775829.2\n",
      "Study statistics for : \n",
      "  Number of finished trials:  1\n",
      "Best trial of city:  Quảng Ninh\n"
     ]
    },
    {
     "data": {
      "text/html": [
       "<div>\n",
       "<style scoped>\n",
       "    .dataframe tbody tr th:only-of-type {\n",
       "        vertical-align: middle;\n",
       "    }\n",
       "\n",
       "    .dataframe tbody tr th {\n",
       "        vertical-align: top;\n",
       "    }\n",
       "\n",
       "    .dataframe thead th {\n",
       "        text-align: right;\n",
       "    }\n",
       "</style>\n",
       "<table border=\"1\" class=\"dataframe\">\n",
       "  <thead>\n",
       "    <tr style=\"text-align: right;\">\n",
       "      <th></th>\n",
       "      <th>City</th>\n",
       "      <th>Alg_name</th>\n",
       "      <th>Best_value</th>\n",
       "      <th>n_try_opt</th>\n",
       "      <th>lags</th>\n",
       "      <th>lags_past_covariates</th>\n",
       "      <th>output_chunk_length</th>\n",
       "      <th>learning_rate</th>\n",
       "      <th>n_estimators</th>\n",
       "      <th>max_depth</th>\n",
       "      <th>random_state</th>\n",
       "      <th>likelihood</th>\n",
       "      <th>quantiles</th>\n",
       "      <th>bagging_temperature</th>\n",
       "      <th>border_count</th>\n",
       "      <th>l2_leaf_reg</th>\n",
       "      <th>random_strength</th>\n",
       "    </tr>\n",
       "  </thead>\n",
       "  <tbody>\n",
       "    <tr>\n",
       "      <th>0</th>\n",
       "      <td>Quảng Ninh</td>\n",
       "      <td>CatBoost</td>\n",
       "      <td>2.022887</td>\n",
       "      <td>1</td>\n",
       "      <td>4</td>\n",
       "      <td>-2,-3,-4</td>\n",
       "      <td>1</td>\n",
       "      <td>0.044653</td>\n",
       "      <td>194</td>\n",
       "      <td>15</td>\n",
       "      <td>421</td>\n",
       "      <td>quantile</td>\n",
       "      <td>IsNone</td>\n",
       "      <td>37.736772</td>\n",
       "      <td>144</td>\n",
       "      <td>0.416235</td>\n",
       "      <td>2.933525</td>\n",
       "    </tr>\n",
       "  </tbody>\n",
       "</table>\n",
       "</div>"
      ],
      "text/plain": [
       "         City  Alg_name  Best_value  n_try_opt  lags lags_past_covariates  \\\n",
       "0  Quảng Ninh  CatBoost    2.022887          1     4             -2,-3,-4   \n",
       "\n",
       "   output_chunk_length  learning_rate  n_estimators  max_depth  random_state  \\\n",
       "0                    1       0.044653           194         15           421   \n",
       "\n",
       "  likelihood quantiles  bagging_temperature  border_count  l2_leaf_reg  \\\n",
       "0   quantile    IsNone            37.736772           144     0.416235   \n",
       "\n",
       "   random_strength  \n",
       "0         2.933525  "
      ]
     },
     "metadata": {},
     "output_type": "display_data"
    },
    {
     "name": "stderr",
     "output_type": "stream",
     "text": [
      "[I 2023-10-29 15:25:24,823] A new study created in memory with name: XGBModel\n"
     ]
    },
    {
     "name": "stdout",
     "output_type": "stream",
     "text": [
      "⭐️⭐️⭐️⭐️⭐️⭐️⭐️⭐️ Model_name:  XGBModel\n",
      "⭐️⭐️ City:  Bình Phước\n"
     ]
    },
    {
     "name": "stderr",
     "output_type": "stream",
     "text": [
      "[I 2023-10-29 15:25:25,794] Trial 0 finished with value: 37.77647104420768 and parameters: {'random_state': 30, 'likelihood': 'quantile'}. Best is trial 0 with value: 37.77647104420768.\n",
      "[I 2023-10-29 15:25:25,799] A new study created in memory with name: XGBModel\n"
     ]
    },
    {
     "name": "stdout",
     "output_type": "stream",
     "text": [
      "mean_squared_error: 1961.7230\n",
      "rmse: 44.29134241368371\n",
      "mape: 2.1579216192510855\n",
      "Study statistics for : \n",
      "  Number of finished trials:  1\n",
      "Best trial of city:  Bình Phước\n",
      "⭐️⭐️ City:  An Giang\n"
     ]
    },
    {
     "name": "stderr",
     "output_type": "stream",
     "text": [
      "[I 2023-10-29 15:25:26,448] Trial 0 finished with value: 62.941766206296876 and parameters: {'random_state': 11, 'likelihood': 'quantile'}. Best is trial 0 with value: 62.941766206296876.\n",
      "[I 2023-10-29 15:25:26,455] A new study created in memory with name: XGBModel\n"
     ]
    },
    {
     "name": "stdout",
     "output_type": "stream",
     "text": [
      "mean_squared_error: 5858.1181\n",
      "rmse: 76.53834391022303\n",
      "mape: 6.817496015129198\n",
      "Study statistics for : \n",
      "  Number of finished trials:  1\n",
      "Best trial of city:  An Giang\n",
      "⭐️⭐️ City:  Quảng Ninh\n"
     ]
    },
    {
     "name": "stderr",
     "output_type": "stream",
     "text": [
      "[I 2023-10-29 15:25:27,113] Trial 0 finished with value: 4.228871187695511 and parameters: {'random_state': 5, 'likelihood': 'quantile'}. Best is trial 0 with value: 4.228871187695511.\n",
      "[I 2023-10-29 15:25:27,119] A new study created in memory with name: RandomForest\n",
      "[I 2023-10-29 15:25:27,228] Trial 0 finished with value: 27.729699492743457 and parameters: {'random_state': 42, 'n_estimators': 58, 'max_depth': 10}. Best is trial 0 with value: 27.729699492743457.\n",
      "[I 2023-10-29 15:25:27,234] A new study created in memory with name: RandomForest\n"
     ]
    },
    {
     "name": "stdout",
     "output_type": "stream",
     "text": [
      "mean_squared_error: 19.8862\n",
      "rmse: 4.459397100747476\n",
      "mape: 3276566924625546.5\n",
      "Study statistics for : \n",
      "  Number of finished trials:  1\n",
      "Best trial of city:  Quảng Ninh\n",
      "⭐️⭐️⭐️⭐️⭐️⭐️⭐️⭐️⭐️⭐️⭐️⭐️⭐️⭐️⭐️ Nstep:  3\n",
      "⭐️⭐️⭐️⭐️⭐️⭐️⭐️⭐️ Model_name:  RandomForest\n",
      "⭐️⭐️ City:  Bình Phước\n",
      "mean_squared_error: 1397.4111\n",
      "rmse: 37.38196164625693\n",
      "mape: 1.5884766558048191\n",
      "Study statistics for : \n",
      "  Number of finished trials:  1\n",
      "Best trial of city:  Bình Phước\n",
      "⭐️⭐️ City:  An Giang\n"
     ]
    },
    {
     "name": "stderr",
     "output_type": "stream",
     "text": [
      "[I 2023-10-29 15:25:27,349] Trial 0 finished with value: 7.495861987326929 and parameters: {'random_state': 25, 'n_estimators': 60, 'max_depth': 13}. Best is trial 0 with value: 7.495861987326929.\n",
      "[I 2023-10-29 15:25:27,356] A new study created in memory with name: RandomForest\n"
     ]
    },
    {
     "name": "stdout",
     "output_type": "stream",
     "text": [
      "mean_squared_error: 82.6203\n",
      "rmse: 9.0895694284143\n",
      "mape: 0.6149335767751105\n",
      "Study statistics for : \n",
      "  Number of finished trials:  1\n",
      "Best trial of city:  An Giang\n",
      "⭐️⭐️ City:  Quảng Ninh\n"
     ]
    },
    {
     "name": "stderr",
     "output_type": "stream",
     "text": [
      "[I 2023-10-29 15:25:27,569] Trial 0 finished with value: 11.699742525076053 and parameters: {'random_state': 20, 'n_estimators': 155, 'max_depth': 6}. Best is trial 0 with value: 11.699742525076053.\n",
      "[I 2023-10-29 15:25:27,575] A new study created in memory with name: LinearRegressionModel\n",
      "[I 2023-10-29 15:25:27,593] Trial 0 finished with value: 13.954100816444814 and parameters: {'random_state': 3}. Best is trial 0 with value: 13.954100816444814.\n",
      "[I 2023-10-29 15:25:27,598] A new study created in memory with name: LinearRegressionModel\n",
      "[I 2023-10-29 15:25:27,616] Trial 0 finished with value: 10.325254621193512 and parameters: {'random_state': 42}. Best is trial 0 with value: 10.325254621193512.\n",
      "[I 2023-10-29 15:25:27,621] A new study created in memory with name: LinearRegressionModel\n",
      "[I 2023-10-29 15:25:27,638] Trial 0 finished with value: 2.000336114282957 and parameters: {'random_state': 14}. Best is trial 0 with value: 2.000336114282957.\n",
      "[I 2023-10-29 15:25:27,644] A new study created in memory with name: CatBoostModel\n"
     ]
    },
    {
     "name": "stdout",
     "output_type": "stream",
     "text": [
      "mean_squared_error: 139.9538\n",
      "rmse: 11.830206838081928\n",
      "mape: 1.3469844840222948e+16\n",
      "Study statistics for : \n",
      "  Number of finished trials:  1\n",
      "Best trial of city:  Quảng Ninh\n",
      "⭐️⭐️⭐️⭐️⭐️⭐️⭐️⭐️ Model_name:  LinearRegressionModel\n",
      "⭐️⭐️ City:  Bình Phước\n",
      "mean_squared_error: 561.7995\n",
      "rmse: 23.702311044954904\n",
      "mape: 0.5171265817708961\n",
      "Study statistics for : \n",
      "  Number of finished trials:  1\n",
      "Best trial of city:  Bình Phước\n",
      "⭐️⭐️ City:  An Giang\n",
      "mean_squared_error: 148.3613\n",
      "rmse: 12.18036631035629\n",
      "mape: 1.4026674749901378\n",
      "Study statistics for : \n",
      "  Number of finished trials:  1\n",
      "Best trial of city:  An Giang\n",
      "⭐️⭐️ City:  Quảng Ninh\n",
      "mean_squared_error: 5.8135\n",
      "rmse: 2.4111104824906056\n",
      "mape: 1586055039875039.2\n",
      "Study statistics for : \n",
      "  Number of finished trials:  1\n",
      "Best trial of city:  Quảng Ninh\n",
      "⭐️⭐️⭐️⭐️⭐️⭐️⭐️⭐️ Model_name:  CatBoostModel\n",
      "⭐️⭐️ City:  Bình Phước\n"
     ]
    },
    {
     "name": "stderr",
     "output_type": "stream",
     "text": [
      "[I 2023-10-29 15:25:42,723] Trial 0 finished with value: 19.341459899805074 and parameters: {'learning_rate': 0.0025163700727765326, 'n_estimators': 152, 'max_depth': 14, 'random_state': 499, 'likelihood': 'quantile', 'quantiles': [0.1, 0.5, 0.9], 'bagging_temperature': 64.96347677454753, 'border_count': 241, 'l2_leaf_reg': 4.542673056737923, 'random_strength': 8.810665094214475}. Best is trial 0 with value: 19.341459899805074.\n"
     ]
    },
    {
     "name": "stdout",
     "output_type": "stream",
     "text": [
      "mean_squared_error: 1012.5492\n",
      "rmse: 31.820578706918653\n",
      "mape: 0.6523582939454288\n",
      "Study statistics for : \n",
      "  Number of finished trials:  1\n",
      "Best trial of city:  Bình Phước\n"
     ]
    },
    {
     "data": {
      "text/html": [
       "<div>\n",
       "<style scoped>\n",
       "    .dataframe tbody tr th:only-of-type {\n",
       "        vertical-align: middle;\n",
       "    }\n",
       "\n",
       "    .dataframe tbody tr th {\n",
       "        vertical-align: top;\n",
       "    }\n",
       "\n",
       "    .dataframe thead th {\n",
       "        text-align: right;\n",
       "    }\n",
       "</style>\n",
       "<table border=\"1\" class=\"dataframe\">\n",
       "  <thead>\n",
       "    <tr style=\"text-align: right;\">\n",
       "      <th></th>\n",
       "      <th>City</th>\n",
       "      <th>Alg_name</th>\n",
       "      <th>Best_value</th>\n",
       "      <th>n_try_opt</th>\n",
       "      <th>lags</th>\n",
       "      <th>lags_past_covariates</th>\n",
       "      <th>output_chunk_length</th>\n",
       "      <th>learning_rate</th>\n",
       "      <th>n_estimators</th>\n",
       "      <th>max_depth</th>\n",
       "      <th>random_state</th>\n",
       "      <th>likelihood</th>\n",
       "      <th>quantiles</th>\n",
       "      <th>bagging_temperature</th>\n",
       "      <th>border_count</th>\n",
       "      <th>l2_leaf_reg</th>\n",
       "      <th>random_strength</th>\n",
       "    </tr>\n",
       "  </thead>\n",
       "  <tbody>\n",
       "    <tr>\n",
       "      <th>0</th>\n",
       "      <td>Bình Phước</td>\n",
       "      <td>CatBoost</td>\n",
       "      <td>19.34146</td>\n",
       "      <td>1</td>\n",
       "      <td>5</td>\n",
       "      <td>-3,-4,-5</td>\n",
       "      <td>1</td>\n",
       "      <td>0.002516</td>\n",
       "      <td>152</td>\n",
       "      <td>14</td>\n",
       "      <td>499</td>\n",
       "      <td>quantile</td>\n",
       "      <td>0.1,0.5,0.9</td>\n",
       "      <td>64.963477</td>\n",
       "      <td>241</td>\n",
       "      <td>4.542673</td>\n",
       "      <td>8.810665</td>\n",
       "    </tr>\n",
       "  </tbody>\n",
       "</table>\n",
       "</div>"
      ],
      "text/plain": [
       "         City  Alg_name  Best_value  n_try_opt  lags lags_past_covariates  \\\n",
       "0  Bình Phước  CatBoost    19.34146          1     5             -3,-4,-5   \n",
       "\n",
       "   output_chunk_length  learning_rate  n_estimators  max_depth  random_state  \\\n",
       "0                    1       0.002516           152         14           499   \n",
       "\n",
       "  likelihood    quantiles  bagging_temperature  border_count  l2_leaf_reg  \\\n",
       "0   quantile  0.1,0.5,0.9            64.963477           241     4.542673   \n",
       "\n",
       "   random_strength  \n",
       "0         8.810665  "
      ]
     },
     "metadata": {},
     "output_type": "display_data"
    },
    {
     "name": "stderr",
     "output_type": "stream",
     "text": [
      "[I 2023-10-29 15:25:42,740] A new study created in memory with name: CatBoostModel\n"
     ]
    },
    {
     "name": "stdout",
     "output_type": "stream",
     "text": [
      "⭐️⭐️ City:  An Giang\n"
     ]
    },
    {
     "name": "stderr",
     "output_type": "stream",
     "text": [
      "[I 2023-10-29 15:25:42,929] Trial 0 finished with value: 8.122722319526234 and parameters: {'learning_rate': 0.09286972364225529, 'n_estimators': 57, 'max_depth': 7, 'random_state': 479, 'likelihood': 'quantile', 'quantiles': [0.1, 0.5, 0.9], 'bagging_temperature': 23.46148249097447, 'border_count': 186, 'l2_leaf_reg': 6.739463013432513, 'random_strength': 0.5818382534078202}. Best is trial 0 with value: 8.122722319526234.\n"
     ]
    },
    {
     "name": "stdout",
     "output_type": "stream",
     "text": [
      "mean_squared_error: 109.8617\n",
      "rmse: 10.481491529336388\n",
      "mape: 0.6609283751967339\n",
      "Study statistics for : \n",
      "  Number of finished trials:  1\n",
      "Best trial of city:  An Giang\n"
     ]
    },
    {
     "data": {
      "text/html": [
       "<div>\n",
       "<style scoped>\n",
       "    .dataframe tbody tr th:only-of-type {\n",
       "        vertical-align: middle;\n",
       "    }\n",
       "\n",
       "    .dataframe tbody tr th {\n",
       "        vertical-align: top;\n",
       "    }\n",
       "\n",
       "    .dataframe thead th {\n",
       "        text-align: right;\n",
       "    }\n",
       "</style>\n",
       "<table border=\"1\" class=\"dataframe\">\n",
       "  <thead>\n",
       "    <tr style=\"text-align: right;\">\n",
       "      <th></th>\n",
       "      <th>City</th>\n",
       "      <th>Alg_name</th>\n",
       "      <th>Best_value</th>\n",
       "      <th>n_try_opt</th>\n",
       "      <th>lags</th>\n",
       "      <th>lags_past_covariates</th>\n",
       "      <th>output_chunk_length</th>\n",
       "      <th>learning_rate</th>\n",
       "      <th>n_estimators</th>\n",
       "      <th>max_depth</th>\n",
       "      <th>random_state</th>\n",
       "      <th>likelihood</th>\n",
       "      <th>quantiles</th>\n",
       "      <th>bagging_temperature</th>\n",
       "      <th>border_count</th>\n",
       "      <th>l2_leaf_reg</th>\n",
       "      <th>random_strength</th>\n",
       "    </tr>\n",
       "  </thead>\n",
       "  <tbody>\n",
       "    <tr>\n",
       "      <th>0</th>\n",
       "      <td>An Giang</td>\n",
       "      <td>CatBoost</td>\n",
       "      <td>8.122722</td>\n",
       "      <td>1</td>\n",
       "      <td>5</td>\n",
       "      <td>-3,-4,-5</td>\n",
       "      <td>1</td>\n",
       "      <td>0.09287</td>\n",
       "      <td>57</td>\n",
       "      <td>7</td>\n",
       "      <td>479</td>\n",
       "      <td>quantile</td>\n",
       "      <td>0.1,0.5,0.9</td>\n",
       "      <td>23.461482</td>\n",
       "      <td>186</td>\n",
       "      <td>6.739463</td>\n",
       "      <td>0.581838</td>\n",
       "    </tr>\n",
       "  </tbody>\n",
       "</table>\n",
       "</div>"
      ],
      "text/plain": [
       "       City  Alg_name  Best_value  n_try_opt  lags lags_past_covariates  \\\n",
       "0  An Giang  CatBoost    8.122722          1     5             -3,-4,-5   \n",
       "\n",
       "   output_chunk_length  learning_rate  n_estimators  max_depth  random_state  \\\n",
       "0                    1        0.09287            57          7           479   \n",
       "\n",
       "  likelihood    quantiles  bagging_temperature  border_count  l2_leaf_reg  \\\n",
       "0   quantile  0.1,0.5,0.9            23.461482           186     6.739463   \n",
       "\n",
       "   random_strength  \n",
       "0         0.581838  "
      ]
     },
     "metadata": {},
     "output_type": "display_data"
    },
    {
     "name": "stderr",
     "output_type": "stream",
     "text": [
      "[I 2023-10-29 15:25:42,953] A new study created in memory with name: CatBoostModel\n"
     ]
    },
    {
     "name": "stdout",
     "output_type": "stream",
     "text": [
      "⭐️⭐️ City:  Quảng Ninh\n",
      "mean_squared_error: 4.1718\n",
      "rmse: 2.0424964861477535\n",
      "mape: 2502556274611954.0\n"
     ]
    },
    {
     "name": "stderr",
     "output_type": "stream",
     "text": [
      "[I 2023-10-29 15:25:43,129] Trial 0 finished with value: 1.9233739629979207 and parameters: {'learning_rate': 0.05905796718869756, 'n_estimators': 130, 'max_depth': 1, 'random_state': 147, 'likelihood': 'quantile', 'quantiles': [0.1, 0.5, 0.9], 'bagging_temperature': 91.31652258485451, 'border_count': 94, 'l2_leaf_reg': 7.0991619012323435, 'random_strength': 4.036061186318769}. Best is trial 0 with value: 1.9233739629979207.\n"
     ]
    },
    {
     "name": "stdout",
     "output_type": "stream",
     "text": [
      "Study statistics for : \n",
      "  Number of finished trials:  1\n",
      "Best trial of city:  Quảng Ninh\n"
     ]
    },
    {
     "data": {
      "text/html": [
       "<div>\n",
       "<style scoped>\n",
       "    .dataframe tbody tr th:only-of-type {\n",
       "        vertical-align: middle;\n",
       "    }\n",
       "\n",
       "    .dataframe tbody tr th {\n",
       "        vertical-align: top;\n",
       "    }\n",
       "\n",
       "    .dataframe thead th {\n",
       "        text-align: right;\n",
       "    }\n",
       "</style>\n",
       "<table border=\"1\" class=\"dataframe\">\n",
       "  <thead>\n",
       "    <tr style=\"text-align: right;\">\n",
       "      <th></th>\n",
       "      <th>City</th>\n",
       "      <th>Alg_name</th>\n",
       "      <th>Best_value</th>\n",
       "      <th>n_try_opt</th>\n",
       "      <th>lags</th>\n",
       "      <th>lags_past_covariates</th>\n",
       "      <th>output_chunk_length</th>\n",
       "      <th>learning_rate</th>\n",
       "      <th>n_estimators</th>\n",
       "      <th>max_depth</th>\n",
       "      <th>random_state</th>\n",
       "      <th>likelihood</th>\n",
       "      <th>quantiles</th>\n",
       "      <th>bagging_temperature</th>\n",
       "      <th>border_count</th>\n",
       "      <th>l2_leaf_reg</th>\n",
       "      <th>random_strength</th>\n",
       "    </tr>\n",
       "  </thead>\n",
       "  <tbody>\n",
       "    <tr>\n",
       "      <th>0</th>\n",
       "      <td>Quảng Ninh</td>\n",
       "      <td>CatBoost</td>\n",
       "      <td>1.923374</td>\n",
       "      <td>1</td>\n",
       "      <td>5</td>\n",
       "      <td>-3,-4,-5</td>\n",
       "      <td>1</td>\n",
       "      <td>0.059058</td>\n",
       "      <td>130</td>\n",
       "      <td>1</td>\n",
       "      <td>147</td>\n",
       "      <td>quantile</td>\n",
       "      <td>0.1,0.5,0.9</td>\n",
       "      <td>91.316523</td>\n",
       "      <td>94</td>\n",
       "      <td>7.099162</td>\n",
       "      <td>4.036061</td>\n",
       "    </tr>\n",
       "  </tbody>\n",
       "</table>\n",
       "</div>"
      ],
      "text/plain": [
       "         City  Alg_name  Best_value  n_try_opt  lags lags_past_covariates  \\\n",
       "0  Quảng Ninh  CatBoost    1.923374          1     5             -3,-4,-5   \n",
       "\n",
       "   output_chunk_length  learning_rate  n_estimators  max_depth  random_state  \\\n",
       "0                    1       0.059058           130          1           147   \n",
       "\n",
       "  likelihood    quantiles  bagging_temperature  border_count  l2_leaf_reg  \\\n",
       "0   quantile  0.1,0.5,0.9            91.316523            94     7.099162   \n",
       "\n",
       "   random_strength  \n",
       "0         4.036061  "
      ]
     },
     "metadata": {},
     "output_type": "display_data"
    },
    {
     "name": "stderr",
     "output_type": "stream",
     "text": [
      "[I 2023-10-29 15:25:43,184] A new study created in memory with name: XGBModel\n"
     ]
    },
    {
     "name": "stdout",
     "output_type": "stream",
     "text": [
      "⭐️⭐️⭐️⭐️⭐️⭐️⭐️⭐️ Model_name:  XGBModel\n",
      "⭐️⭐️ City:  Bình Phước\n"
     ]
    },
    {
     "name": "stderr",
     "output_type": "stream",
     "text": [
      "[I 2023-10-29 15:25:44,087] Trial 0 finished with value: 49.04267439810974 and parameters: {'random_state': 36, 'likelihood': 'quantile'}. Best is trial 0 with value: 49.04267439810974.\n",
      "[I 2023-10-29 15:25:44,094] A new study created in memory with name: XGBModel\n"
     ]
    },
    {
     "name": "stdout",
     "output_type": "stream",
     "text": [
      "mean_squared_error: 3242.7536\n",
      "rmse: 56.94518045842304\n",
      "mape: 2.627319028846169\n",
      "Study statistics for : \n",
      "  Number of finished trials:  1\n",
      "Best trial of city:  Bình Phước\n",
      "⭐️⭐️ City:  An Giang\n"
     ]
    },
    {
     "name": "stderr",
     "output_type": "stream",
     "text": [
      "[I 2023-10-29 15:25:44,755] Trial 0 finished with value: 19.292724378237843 and parameters: {'random_state': 19, 'likelihood': 'quantile'}. Best is trial 0 with value: 19.292724378237843.\n",
      "[I 2023-10-29 15:25:44,764] A new study created in memory with name: XGBModel\n"
     ]
    },
    {
     "name": "stdout",
     "output_type": "stream",
     "text": [
      "mean_squared_error: 849.3837\n",
      "rmse: 29.144188199576877\n",
      "mape: 2.471457800698286\n",
      "Study statistics for : \n",
      "  Number of finished trials:  1\n",
      "Best trial of city:  An Giang\n",
      "⭐️⭐️ City:  Quảng Ninh\n"
     ]
    },
    {
     "name": "stderr",
     "output_type": "stream",
     "text": [
      "[I 2023-10-29 15:25:45,456] Trial 0 finished with value: 5.412962132974926 and parameters: {'random_state': 41, 'likelihood': 'quantile'}. Best is trial 0 with value: 5.412962132974926.\n",
      "[I 2023-10-29 15:25:45,465] A new study created in memory with name: RandomForest\n",
      "[I 2023-10-29 15:25:45,578] Trial 0 finished with value: 18.95146000439664 and parameters: {'random_state': 17, 'n_estimators': 65, 'max_depth': 7}. Best is trial 0 with value: 18.95146000439664.\n",
      "[I 2023-10-29 15:25:45,584] A new study created in memory with name: RandomForest\n"
     ]
    },
    {
     "name": "stdout",
     "output_type": "stream",
     "text": [
      "mean_squared_error: 30.3329\n",
      "rmse: 5.507533296299472\n",
      "mape: 4761453081012325.0\n",
      "Study statistics for : \n",
      "  Number of finished trials:  1\n",
      "Best trial of city:  Quảng Ninh\n",
      "⭐️⭐️⭐️⭐️⭐️⭐️⭐️⭐️⭐️⭐️⭐️⭐️⭐️⭐️⭐️ Nstep:  4\n",
      "⭐️⭐️⭐️⭐️⭐️⭐️⭐️⭐️ Model_name:  RandomForest\n",
      "⭐️⭐️ City:  Bình Phước\n",
      "mean_squared_error: 738.0237\n",
      "rmse: 27.166591647267367\n",
      "mape: 1.1520971322017846\n",
      "Study statistics for : \n",
      "  Number of finished trials:  1\n",
      "Best trial of city:  Bình Phước\n",
      "⭐️⭐️ City:  An Giang\n"
     ]
    },
    {
     "name": "stderr",
     "output_type": "stream",
     "text": [
      "[I 2023-10-29 15:25:45,902] Trial 0 finished with value: 9.49364874832094 and parameters: {'random_state': 8, 'n_estimators': 200, 'max_depth': 12}. Best is trial 0 with value: 9.49364874832094.\n",
      "[I 2023-10-29 15:25:45,909] A new study created in memory with name: RandomForest\n"
     ]
    },
    {
     "name": "stdout",
     "output_type": "stream",
     "text": [
      "mean_squared_error: 131.3490\n",
      "rmse: 11.460757961354403\n",
      "mape: 0.9105016079139436\n",
      "Study statistics for : \n",
      "  Number of finished trials:  1\n",
      "Best trial of city:  An Giang\n",
      "⭐️⭐️ City:  Quảng Ninh\n"
     ]
    },
    {
     "name": "stderr",
     "output_type": "stream",
     "text": [
      "[I 2023-10-29 15:25:46,183] Trial 0 finished with value: 7.528306434167503 and parameters: {'random_state': 28, 'n_estimators': 177, 'max_depth': 7}. Best is trial 0 with value: 7.528306434167503.\n",
      "[I 2023-10-29 15:25:46,190] A new study created in memory with name: LinearRegressionModel\n",
      "[I 2023-10-29 15:25:46,214] Trial 0 finished with value: 16.639590135843534 and parameters: {'random_state': 35}. Best is trial 0 with value: 16.639590135843534.\n",
      "[I 2023-10-29 15:25:46,219] A new study created in memory with name: LinearRegressionModel\n",
      "[I 2023-10-29 15:25:46,236] Trial 0 finished with value: 12.048995914136745 and parameters: {'random_state': 30}. Best is trial 0 with value: 12.048995914136745.\n",
      "[I 2023-10-29 15:25:46,243] A new study created in memory with name: LinearRegressionModel\n",
      "[I 2023-10-29 15:25:46,260] Trial 0 finished with value: 2.0149315368423877 and parameters: {'random_state': 3}. Best is trial 0 with value: 2.0149315368423877.\n",
      "[I 2023-10-29 15:25:46,267] A new study created in memory with name: CatBoostModel\n"
     ]
    },
    {
     "name": "stdout",
     "output_type": "stream",
     "text": [
      "mean_squared_error: 58.7646\n",
      "rmse: 7.665807432690727\n",
      "mape: 8059395486275396.0\n",
      "Study statistics for : \n",
      "  Number of finished trials:  1\n",
      "Best trial of city:  Quảng Ninh\n",
      "⭐️⭐️⭐️⭐️⭐️⭐️⭐️⭐️ Model_name:  LinearRegressionModel\n",
      "⭐️⭐️ City:  Bình Phước\n",
      "mean_squared_error: 671.3600\n",
      "rmse: 25.91061613891926\n",
      "mape: 0.8737113363502221\n",
      "Study statistics for : \n",
      "  Number of finished trials:  1\n",
      "Best trial of city:  Bình Phước\n",
      "⭐️⭐️ City:  An Giang\n",
      "mean_squared_error: 183.1562\n",
      "rmse: 13.533520365118523\n",
      "mape: 1.5437363976630414\n",
      "Study statistics for : \n",
      "  Number of finished trials:  1\n",
      "Best trial of city:  An Giang\n",
      "⭐️⭐️ City:  Quảng Ninh\n",
      "mean_squared_error: 4.8385\n",
      "rmse: 2.1996637480416177\n",
      "mape: 2196302728637158.2\n",
      "Study statistics for : \n",
      "  Number of finished trials:  1\n",
      "Best trial of city:  Quảng Ninh\n",
      "⭐️⭐️⭐️⭐️⭐️⭐️⭐️⭐️ Model_name:  CatBoostModel\n",
      "⭐️⭐️ City:  Bình Phước\n"
     ]
    },
    {
     "name": "stderr",
     "output_type": "stream",
     "text": [
      "[I 2023-10-29 15:26:15,454] Trial 0 finished with value: 17.81946804549912 and parameters: {'learning_rate': 0.01928435765219261, 'n_estimators': 172, 'max_depth': 15, 'random_state': 629, 'likelihood': 'quantile', 'quantiles': [0.1, 0.5, 0.9], 'bagging_temperature': 38.186873190542926, 'border_count': 123, 'l2_leaf_reg': 7.874137280350849, 'random_strength': 5.798525610399263}. Best is trial 0 with value: 17.81946804549912.\n"
     ]
    },
    {
     "name": "stdout",
     "output_type": "stream",
     "text": [
      "mean_squared_error: 929.6792\n",
      "rmse: 30.490641141883476\n",
      "mape: 0.561108391392316\n",
      "Study statistics for : \n",
      "  Number of finished trials:  1\n",
      "Best trial of city:  Bình Phước\n"
     ]
    },
    {
     "data": {
      "text/html": [
       "<div>\n",
       "<style scoped>\n",
       "    .dataframe tbody tr th:only-of-type {\n",
       "        vertical-align: middle;\n",
       "    }\n",
       "\n",
       "    .dataframe tbody tr th {\n",
       "        vertical-align: top;\n",
       "    }\n",
       "\n",
       "    .dataframe thead th {\n",
       "        text-align: right;\n",
       "    }\n",
       "</style>\n",
       "<table border=\"1\" class=\"dataframe\">\n",
       "  <thead>\n",
       "    <tr style=\"text-align: right;\">\n",
       "      <th></th>\n",
       "      <th>City</th>\n",
       "      <th>Alg_name</th>\n",
       "      <th>Best_value</th>\n",
       "      <th>n_try_opt</th>\n",
       "      <th>lags</th>\n",
       "      <th>lags_past_covariates</th>\n",
       "      <th>output_chunk_length</th>\n",
       "      <th>learning_rate</th>\n",
       "      <th>n_estimators</th>\n",
       "      <th>max_depth</th>\n",
       "      <th>random_state</th>\n",
       "      <th>likelihood</th>\n",
       "      <th>quantiles</th>\n",
       "      <th>bagging_temperature</th>\n",
       "      <th>border_count</th>\n",
       "      <th>l2_leaf_reg</th>\n",
       "      <th>random_strength</th>\n",
       "    </tr>\n",
       "  </thead>\n",
       "  <tbody>\n",
       "    <tr>\n",
       "      <th>0</th>\n",
       "      <td>Bình Phước</td>\n",
       "      <td>CatBoost</td>\n",
       "      <td>17.819468</td>\n",
       "      <td>1</td>\n",
       "      <td>6</td>\n",
       "      <td>-4,-5,-6</td>\n",
       "      <td>1</td>\n",
       "      <td>0.019284</td>\n",
       "      <td>172</td>\n",
       "      <td>15</td>\n",
       "      <td>629</td>\n",
       "      <td>quantile</td>\n",
       "      <td>0.1,0.5,0.9</td>\n",
       "      <td>38.186873</td>\n",
       "      <td>123</td>\n",
       "      <td>7.874137</td>\n",
       "      <td>5.798526</td>\n",
       "    </tr>\n",
       "  </tbody>\n",
       "</table>\n",
       "</div>"
      ],
      "text/plain": [
       "         City  Alg_name  Best_value  n_try_opt  lags lags_past_covariates  \\\n",
       "0  Bình Phước  CatBoost   17.819468          1     6             -4,-5,-6   \n",
       "\n",
       "   output_chunk_length  learning_rate  n_estimators  max_depth  random_state  \\\n",
       "0                    1       0.019284           172         15           629   \n",
       "\n",
       "  likelihood    quantiles  bagging_temperature  border_count  l2_leaf_reg  \\\n",
       "0   quantile  0.1,0.5,0.9            38.186873           123     7.874137   \n",
       "\n",
       "   random_strength  \n",
       "0         5.798526  "
      ]
     },
     "metadata": {},
     "output_type": "display_data"
    },
    {
     "name": "stderr",
     "output_type": "stream",
     "text": [
      "[I 2023-10-29 15:26:15,468] A new study created in memory with name: CatBoostModel\n"
     ]
    },
    {
     "name": "stdout",
     "output_type": "stream",
     "text": [
      "⭐️⭐️ City:  An Giang\n"
     ]
    },
    {
     "name": "stderr",
     "output_type": "stream",
     "text": [
      "[I 2023-10-29 15:26:16,552] Trial 0 finished with value: 7.784586739752699 and parameters: {'learning_rate': 0.0016865185895886285, 'n_estimators': 113, 'max_depth': 8, 'random_state': 148, 'likelihood': 'quantile', 'quantiles': None, 'bagging_temperature': 58.42109461679165, 'border_count': 112, 'l2_leaf_reg': 8.089094489330922, 'random_strength': 8.832055377629171}. Best is trial 0 with value: 7.784586739752699.\n"
     ]
    },
    {
     "name": "stdout",
     "output_type": "stream",
     "text": [
      "mean_squared_error: 96.7057\n",
      "rmse: 9.833905398321797\n",
      "mape: 0.7084273257018516\n",
      "Study statistics for : \n",
      "  Number of finished trials:  1\n",
      "Best trial of city:  An Giang\n"
     ]
    },
    {
     "data": {
      "text/html": [
       "<div>\n",
       "<style scoped>\n",
       "    .dataframe tbody tr th:only-of-type {\n",
       "        vertical-align: middle;\n",
       "    }\n",
       "\n",
       "    .dataframe tbody tr th {\n",
       "        vertical-align: top;\n",
       "    }\n",
       "\n",
       "    .dataframe thead th {\n",
       "        text-align: right;\n",
       "    }\n",
       "</style>\n",
       "<table border=\"1\" class=\"dataframe\">\n",
       "  <thead>\n",
       "    <tr style=\"text-align: right;\">\n",
       "      <th></th>\n",
       "      <th>City</th>\n",
       "      <th>Alg_name</th>\n",
       "      <th>Best_value</th>\n",
       "      <th>n_try_opt</th>\n",
       "      <th>lags</th>\n",
       "      <th>lags_past_covariates</th>\n",
       "      <th>output_chunk_length</th>\n",
       "      <th>learning_rate</th>\n",
       "      <th>n_estimators</th>\n",
       "      <th>max_depth</th>\n",
       "      <th>random_state</th>\n",
       "      <th>likelihood</th>\n",
       "      <th>quantiles</th>\n",
       "      <th>bagging_temperature</th>\n",
       "      <th>border_count</th>\n",
       "      <th>l2_leaf_reg</th>\n",
       "      <th>random_strength</th>\n",
       "    </tr>\n",
       "  </thead>\n",
       "  <tbody>\n",
       "    <tr>\n",
       "      <th>0</th>\n",
       "      <td>An Giang</td>\n",
       "      <td>CatBoost</td>\n",
       "      <td>7.784587</td>\n",
       "      <td>1</td>\n",
       "      <td>6</td>\n",
       "      <td>-4,-5,-6</td>\n",
       "      <td>1</td>\n",
       "      <td>0.001687</td>\n",
       "      <td>113</td>\n",
       "      <td>8</td>\n",
       "      <td>148</td>\n",
       "      <td>quantile</td>\n",
       "      <td>IsNone</td>\n",
       "      <td>58.421095</td>\n",
       "      <td>112</td>\n",
       "      <td>8.089094</td>\n",
       "      <td>8.832055</td>\n",
       "    </tr>\n",
       "  </tbody>\n",
       "</table>\n",
       "</div>"
      ],
      "text/plain": [
       "       City  Alg_name  Best_value  n_try_opt  lags lags_past_covariates  \\\n",
       "0  An Giang  CatBoost    7.784587          1     6             -4,-5,-6   \n",
       "\n",
       "   output_chunk_length  learning_rate  n_estimators  max_depth  random_state  \\\n",
       "0                    1       0.001687           113          8           148   \n",
       "\n",
       "  likelihood quantiles  bagging_temperature  border_count  l2_leaf_reg  \\\n",
       "0   quantile    IsNone            58.421095           112     8.089094   \n",
       "\n",
       "   random_strength  \n",
       "0         8.832055  "
      ]
     },
     "metadata": {},
     "output_type": "display_data"
    },
    {
     "name": "stderr",
     "output_type": "stream",
     "text": [
      "[I 2023-10-29 15:26:16,563] A new study created in memory with name: CatBoostModel\n",
      "[I 2023-10-29 15:26:16,693] Trial 0 finished with value: 7.275635603270323 and parameters: {'learning_rate': 0.08689232376117155, 'n_estimators': 108, 'max_depth': 4, 'random_state': 607, 'likelihood': 'quantile', 'quantiles': [0.1, 0.5, 0.9], 'bagging_temperature': 82.84312327613307, 'border_count': 197, 'l2_leaf_reg': 0.4648913945694858, 'random_strength': 5.651930080445522}. Best is trial 0 with value: 7.275635603270323.\n"
     ]
    },
    {
     "name": "stdout",
     "output_type": "stream",
     "text": [
      "⭐️⭐️ City:  Quảng Ninh\n",
      "mean_squared_error: 56.5315\n",
      "rmse: 7.518743827916872\n",
      "mape: 8108561886158763.0\n",
      "Study statistics for : \n",
      "  Number of finished trials:  1\n",
      "Best trial of city:  Quảng Ninh\n"
     ]
    },
    {
     "data": {
      "text/html": [
       "<div>\n",
       "<style scoped>\n",
       "    .dataframe tbody tr th:only-of-type {\n",
       "        vertical-align: middle;\n",
       "    }\n",
       "\n",
       "    .dataframe tbody tr th {\n",
       "        vertical-align: top;\n",
       "    }\n",
       "\n",
       "    .dataframe thead th {\n",
       "        text-align: right;\n",
       "    }\n",
       "</style>\n",
       "<table border=\"1\" class=\"dataframe\">\n",
       "  <thead>\n",
       "    <tr style=\"text-align: right;\">\n",
       "      <th></th>\n",
       "      <th>City</th>\n",
       "      <th>Alg_name</th>\n",
       "      <th>Best_value</th>\n",
       "      <th>n_try_opt</th>\n",
       "      <th>lags</th>\n",
       "      <th>lags_past_covariates</th>\n",
       "      <th>output_chunk_length</th>\n",
       "      <th>learning_rate</th>\n",
       "      <th>n_estimators</th>\n",
       "      <th>max_depth</th>\n",
       "      <th>random_state</th>\n",
       "      <th>likelihood</th>\n",
       "      <th>quantiles</th>\n",
       "      <th>bagging_temperature</th>\n",
       "      <th>border_count</th>\n",
       "      <th>l2_leaf_reg</th>\n",
       "      <th>random_strength</th>\n",
       "    </tr>\n",
       "  </thead>\n",
       "  <tbody>\n",
       "    <tr>\n",
       "      <th>0</th>\n",
       "      <td>Quảng Ninh</td>\n",
       "      <td>CatBoost</td>\n",
       "      <td>7.275636</td>\n",
       "      <td>1</td>\n",
       "      <td>6</td>\n",
       "      <td>-4,-5,-6</td>\n",
       "      <td>1</td>\n",
       "      <td>0.086892</td>\n",
       "      <td>108</td>\n",
       "      <td>4</td>\n",
       "      <td>607</td>\n",
       "      <td>quantile</td>\n",
       "      <td>0.1,0.5,0.9</td>\n",
       "      <td>82.843123</td>\n",
       "      <td>197</td>\n",
       "      <td>0.464891</td>\n",
       "      <td>5.65193</td>\n",
       "    </tr>\n",
       "  </tbody>\n",
       "</table>\n",
       "</div>"
      ],
      "text/plain": [
       "         City  Alg_name  Best_value  n_try_opt  lags lags_past_covariates  \\\n",
       "0  Quảng Ninh  CatBoost    7.275636          1     6             -4,-5,-6   \n",
       "\n",
       "   output_chunk_length  learning_rate  n_estimators  max_depth  random_state  \\\n",
       "0                    1       0.086892           108          4           607   \n",
       "\n",
       "  likelihood    quantiles  bagging_temperature  border_count  l2_leaf_reg  \\\n",
       "0   quantile  0.1,0.5,0.9            82.843123           197     0.464891   \n",
       "\n",
       "   random_strength  \n",
       "0          5.65193  "
      ]
     },
     "metadata": {},
     "output_type": "display_data"
    },
    {
     "name": "stderr",
     "output_type": "stream",
     "text": [
      "[I 2023-10-29 15:26:16,705] A new study created in memory with name: XGBModel\n"
     ]
    },
    {
     "name": "stdout",
     "output_type": "stream",
     "text": [
      "⭐️⭐️⭐️⭐️⭐️⭐️⭐️⭐️ Model_name:  XGBModel\n",
      "⭐️⭐️ City:  Bình Phước\n"
     ]
    },
    {
     "name": "stderr",
     "output_type": "stream",
     "text": [
      "[I 2023-10-29 15:26:17,263] Trial 0 finished with value: 33.321669533920144 and parameters: {'random_state': 14, 'likelihood': 'quantile'}. Best is trial 0 with value: 33.321669533920144.\n",
      "[I 2023-10-29 15:26:17,269] A new study created in memory with name: XGBModel\n"
     ]
    },
    {
     "name": "stdout",
     "output_type": "stream",
     "text": [
      "mean_squared_error: 1806.1808\n",
      "rmse: 42.49918614297525\n",
      "mape: 1.9657282606081194\n",
      "Study statistics for : \n",
      "  Number of finished trials:  1\n",
      "Best trial of city:  Bình Phước\n",
      "⭐️⭐️ City:  An Giang\n"
     ]
    },
    {
     "name": "stderr",
     "output_type": "stream",
     "text": [
      "[I 2023-10-29 15:26:17,891] Trial 0 finished with value: 42.19560702567114 and parameters: {'random_state': 43, 'likelihood': 'quantile'}. Best is trial 0 with value: 42.19560702567114.\n",
      "[I 2023-10-29 15:26:17,898] A new study created in memory with name: XGBModel\n"
     ]
    },
    {
     "name": "stdout",
     "output_type": "stream",
     "text": [
      "mean_squared_error: 2877.8154\n",
      "rmse: 53.645273807506214\n",
      "mape: 4.819872300591578\n",
      "Study statistics for : \n",
      "  Number of finished trials:  1\n",
      "Best trial of city:  An Giang\n",
      "⭐️⭐️ City:  Quảng Ninh\n"
     ]
    },
    {
     "name": "stderr",
     "output_type": "stream",
     "text": [
      "[I 2023-10-29 15:26:18,464] Trial 0 finished with value: 5.91479309316853 and parameters: {'random_state': 42, 'likelihood': 'quantile'}. Best is trial 0 with value: 5.91479309316853.\n",
      "[I 2023-10-29 15:26:18,471] A new study created in memory with name: RandomForest\n",
      "[I 2023-10-29 15:26:18,555] Trial 0 finished with value: 20.22194798344536 and parameters: {'random_state': 4, 'n_estimators': 66, 'max_depth': 1}. Best is trial 0 with value: 20.22194798344536.\n",
      "[I 2023-10-29 15:26:18,561] A new study created in memory with name: RandomForest\n",
      "[I 2023-10-29 15:26:18,663] Trial 0 finished with value: 9.336509767601825 and parameters: {'random_state': 6, 'n_estimators': 54, 'max_depth': 11}. Best is trial 0 with value: 9.336509767601825.\n"
     ]
    },
    {
     "name": "stdout",
     "output_type": "stream",
     "text": [
      "mean_squared_error: 38.9589\n",
      "rmse: 6.241709075013618\n",
      "mape: 5058007626686315.0\n",
      "Study statistics for : \n",
      "  Number of finished trials:  1\n",
      "Best trial of city:  Quảng Ninh\n",
      "⭐️⭐️⭐️⭐️⭐️⭐️⭐️⭐️⭐️⭐️⭐️⭐️⭐️⭐️⭐️ Nstep:  5\n",
      "⭐️⭐️⭐️⭐️⭐️⭐️⭐️⭐️ Model_name:  RandomForest\n",
      "⭐️⭐️ City:  Bình Phước\n",
      "mean_squared_error: 957.4904\n",
      "rmse: 30.94334152204608\n",
      "mape: 0.9044904558297507\n",
      "Study statistics for : \n",
      "  Number of finished trials:  1\n",
      "Best trial of city:  Bình Phước\n",
      "⭐️⭐️ City:  An Giang\n",
      "mean_squared_error: 136.9670\n",
      "rmse: 11.703289605914303\n",
      "mape: 1.0950692928934869\n",
      "Study statistics for : \n",
      "  Number of finished trials:  1\n",
      "Best trial of city:  An Giang\n"
     ]
    },
    {
     "name": "stderr",
     "output_type": "stream",
     "text": [
      "[I 2023-10-29 15:26:18,669] A new study created in memory with name: RandomForest\n",
      "[I 2023-10-29 15:26:18,831] Trial 0 finished with value: 11.163617227326883 and parameters: {'random_state': 10, 'n_estimators': 99, 'max_depth': 12}. Best is trial 0 with value: 11.163617227326883.\n",
      "[I 2023-10-29 15:26:18,837] A new study created in memory with name: LinearRegressionModel\n",
      "[I 2023-10-29 15:26:18,854] Trial 0 finished with value: 17.51017836484638 and parameters: {'random_state': 9}. Best is trial 0 with value: 17.51017836484638.\n",
      "[I 2023-10-29 15:26:18,858] A new study created in memory with name: LinearRegressionModel\n"
     ]
    },
    {
     "name": "stdout",
     "output_type": "stream",
     "text": [
      "⭐️⭐️ City:  Quảng Ninh\n",
      "mean_squared_error: 127.6954\n",
      "rmse: 11.300240603132048\n",
      "mape: 1.2102261608921216e+16\n",
      "Study statistics for : \n",
      "  Number of finished trials:  1\n",
      "Best trial of city:  Quảng Ninh\n",
      "⭐️⭐️⭐️⭐️⭐️⭐️⭐️⭐️ Model_name:  LinearRegressionModel\n",
      "⭐️⭐️ City:  Bình Phước\n",
      "mean_squared_error: 740.3438\n",
      "rmse: 27.209259641173464\n",
      "mape: 0.8157273979565712\n",
      "Study statistics for : \n",
      "  Number of finished trials:  1\n",
      "Best trial of city:  Bình Phước\n",
      "⭐️⭐️ City:  An Giang\n"
     ]
    },
    {
     "name": "stderr",
     "output_type": "stream",
     "text": [
      "[I 2023-10-29 15:26:18,876] Trial 0 finished with value: 9.455692213160567 and parameters: {'random_state': 12}. Best is trial 0 with value: 9.455692213160567.\n",
      "[I 2023-10-29 15:26:18,882] A new study created in memory with name: LinearRegressionModel\n",
      "[I 2023-10-29 15:26:18,900] Trial 0 finished with value: 1.9905806260439287 and parameters: {'random_state': 39}. Best is trial 0 with value: 1.9905806260439287.\n",
      "[I 2023-10-29 15:26:18,906] A new study created in memory with name: CatBoostModel\n"
     ]
    },
    {
     "name": "stdout",
     "output_type": "stream",
     "text": [
      "mean_squared_error: 132.9667\n",
      "rmse: 11.531119094833743\n",
      "mape: 1.305462112091867\n",
      "Study statistics for : \n",
      "  Number of finished trials:  1\n",
      "Best trial of city:  An Giang\n",
      "⭐️⭐️ City:  Quảng Ninh\n",
      "mean_squared_error: 5.3290\n",
      "rmse: 2.3084586003654866\n",
      "mape: 2535907209335023.0\n",
      "Study statistics for : \n",
      "  Number of finished trials:  1\n",
      "Best trial of city:  Quảng Ninh\n",
      "⭐️⭐️⭐️⭐️⭐️⭐️⭐️⭐️ Model_name:  CatBoostModel\n",
      "⭐️⭐️ City:  Bình Phước\n"
     ]
    },
    {
     "name": "stderr",
     "output_type": "stream",
     "text": [
      "[I 2023-10-29 15:26:34,974] Trial 0 finished with value: 19.454900739715576 and parameters: {'learning_rate': 0.09797000520046999, 'n_estimators': 173, 'max_depth': 12, 'random_state': 960, 'likelihood': 'quantile', 'quantiles': None, 'bagging_temperature': 43.38753694409393, 'border_count': 250, 'l2_leaf_reg': 0.8822916162765762, 'random_strength': 0.8349558217607956}. Best is trial 0 with value: 19.454900739715576.\n"
     ]
    },
    {
     "name": "stdout",
     "output_type": "stream",
     "text": [
      "mean_squared_error: 1065.3866\n",
      "rmse: 32.6402606018893\n",
      "mape: 0.607983221457688\n",
      "Study statistics for : \n",
      "  Number of finished trials:  1\n",
      "Best trial of city:  Bình Phước\n"
     ]
    },
    {
     "data": {
      "text/html": [
       "<div>\n",
       "<style scoped>\n",
       "    .dataframe tbody tr th:only-of-type {\n",
       "        vertical-align: middle;\n",
       "    }\n",
       "\n",
       "    .dataframe tbody tr th {\n",
       "        vertical-align: top;\n",
       "    }\n",
       "\n",
       "    .dataframe thead th {\n",
       "        text-align: right;\n",
       "    }\n",
       "</style>\n",
       "<table border=\"1\" class=\"dataframe\">\n",
       "  <thead>\n",
       "    <tr style=\"text-align: right;\">\n",
       "      <th></th>\n",
       "      <th>City</th>\n",
       "      <th>Alg_name</th>\n",
       "      <th>Best_value</th>\n",
       "      <th>n_try_opt</th>\n",
       "      <th>lags</th>\n",
       "      <th>lags_past_covariates</th>\n",
       "      <th>output_chunk_length</th>\n",
       "      <th>learning_rate</th>\n",
       "      <th>n_estimators</th>\n",
       "      <th>max_depth</th>\n",
       "      <th>random_state</th>\n",
       "      <th>likelihood</th>\n",
       "      <th>quantiles</th>\n",
       "      <th>bagging_temperature</th>\n",
       "      <th>border_count</th>\n",
       "      <th>l2_leaf_reg</th>\n",
       "      <th>random_strength</th>\n",
       "    </tr>\n",
       "  </thead>\n",
       "  <tbody>\n",
       "    <tr>\n",
       "      <th>0</th>\n",
       "      <td>Bình Phước</td>\n",
       "      <td>CatBoost</td>\n",
       "      <td>19.454901</td>\n",
       "      <td>1</td>\n",
       "      <td>7</td>\n",
       "      <td>-5,-6,-7</td>\n",
       "      <td>1</td>\n",
       "      <td>0.09797</td>\n",
       "      <td>173</td>\n",
       "      <td>12</td>\n",
       "      <td>960</td>\n",
       "      <td>quantile</td>\n",
       "      <td>IsNone</td>\n",
       "      <td>43.387537</td>\n",
       "      <td>250</td>\n",
       "      <td>0.882292</td>\n",
       "      <td>0.834956</td>\n",
       "    </tr>\n",
       "  </tbody>\n",
       "</table>\n",
       "</div>"
      ],
      "text/plain": [
       "         City  Alg_name  Best_value  n_try_opt  lags lags_past_covariates  \\\n",
       "0  Bình Phước  CatBoost   19.454901          1     7             -5,-6,-7   \n",
       "\n",
       "   output_chunk_length  learning_rate  n_estimators  max_depth  random_state  \\\n",
       "0                    1        0.09797           173         12           960   \n",
       "\n",
       "  likelihood quantiles  bagging_temperature  border_count  l2_leaf_reg  \\\n",
       "0   quantile    IsNone            43.387537           250     0.882292   \n",
       "\n",
       "   random_strength  \n",
       "0         0.834956  "
      ]
     },
     "metadata": {},
     "output_type": "display_data"
    },
    {
     "name": "stderr",
     "output_type": "stream",
     "text": [
      "[I 2023-10-29 15:26:34,990] A new study created in memory with name: CatBoostModel\n"
     ]
    },
    {
     "name": "stdout",
     "output_type": "stream",
     "text": [
      "⭐️⭐️ City:  An Giang\n"
     ]
    },
    {
     "name": "stderr",
     "output_type": "stream",
     "text": [
      "[I 2023-10-29 15:26:39,262] Trial 0 finished with value: 9.327746310014687 and parameters: {'learning_rate': 0.09592726391123083, 'n_estimators': 141, 'max_depth': 11, 'random_state': 226, 'likelihood': 'quantile', 'quantiles': None, 'bagging_temperature': 64.4343839785399, 'border_count': 56, 'l2_leaf_reg': 1.6174076264881914, 'random_strength': 3.4592809343207067}. Best is trial 0 with value: 9.327746310014687.\n"
     ]
    },
    {
     "name": "stdout",
     "output_type": "stream",
     "text": [
      "mean_squared_error: 133.8920\n",
      "rmse: 11.571172648186772\n",
      "mape: 1.3008431827041116\n",
      "Study statistics for : \n",
      "  Number of finished trials:  1\n",
      "Best trial of city:  An Giang\n"
     ]
    },
    {
     "data": {
      "text/html": [
       "<div>\n",
       "<style scoped>\n",
       "    .dataframe tbody tr th:only-of-type {\n",
       "        vertical-align: middle;\n",
       "    }\n",
       "\n",
       "    .dataframe tbody tr th {\n",
       "        vertical-align: top;\n",
       "    }\n",
       "\n",
       "    .dataframe thead th {\n",
       "        text-align: right;\n",
       "    }\n",
       "</style>\n",
       "<table border=\"1\" class=\"dataframe\">\n",
       "  <thead>\n",
       "    <tr style=\"text-align: right;\">\n",
       "      <th></th>\n",
       "      <th>City</th>\n",
       "      <th>Alg_name</th>\n",
       "      <th>Best_value</th>\n",
       "      <th>n_try_opt</th>\n",
       "      <th>lags</th>\n",
       "      <th>lags_past_covariates</th>\n",
       "      <th>output_chunk_length</th>\n",
       "      <th>learning_rate</th>\n",
       "      <th>n_estimators</th>\n",
       "      <th>max_depth</th>\n",
       "      <th>random_state</th>\n",
       "      <th>likelihood</th>\n",
       "      <th>quantiles</th>\n",
       "      <th>bagging_temperature</th>\n",
       "      <th>border_count</th>\n",
       "      <th>l2_leaf_reg</th>\n",
       "      <th>random_strength</th>\n",
       "    </tr>\n",
       "  </thead>\n",
       "  <tbody>\n",
       "    <tr>\n",
       "      <th>0</th>\n",
       "      <td>An Giang</td>\n",
       "      <td>CatBoost</td>\n",
       "      <td>9.327746</td>\n",
       "      <td>1</td>\n",
       "      <td>7</td>\n",
       "      <td>-5,-6,-7</td>\n",
       "      <td>1</td>\n",
       "      <td>0.095927</td>\n",
       "      <td>141</td>\n",
       "      <td>11</td>\n",
       "      <td>226</td>\n",
       "      <td>quantile</td>\n",
       "      <td>IsNone</td>\n",
       "      <td>64.434384</td>\n",
       "      <td>56</td>\n",
       "      <td>1.617408</td>\n",
       "      <td>3.459281</td>\n",
       "    </tr>\n",
       "  </tbody>\n",
       "</table>\n",
       "</div>"
      ],
      "text/plain": [
       "       City  Alg_name  Best_value  n_try_opt  lags lags_past_covariates  \\\n",
       "0  An Giang  CatBoost    9.327746          1     7             -5,-6,-7   \n",
       "\n",
       "   output_chunk_length  learning_rate  n_estimators  max_depth  random_state  \\\n",
       "0                    1       0.095927           141         11           226   \n",
       "\n",
       "  likelihood quantiles  bagging_temperature  border_count  l2_leaf_reg  \\\n",
       "0   quantile    IsNone            64.434384            56     1.617408   \n",
       "\n",
       "   random_strength  \n",
       "0         3.459281  "
      ]
     },
     "metadata": {},
     "output_type": "display_data"
    },
    {
     "name": "stderr",
     "output_type": "stream",
     "text": [
      "[I 2023-10-29 15:26:39,273] A new study created in memory with name: CatBoostModel\n"
     ]
    },
    {
     "name": "stdout",
     "output_type": "stream",
     "text": [
      "⭐️⭐️ City:  Quảng Ninh\n"
     ]
    },
    {
     "name": "stderr",
     "output_type": "stream",
     "text": [
      "[I 2023-10-29 15:26:43,408] Trial 0 finished with value: 4.193099142776446 and parameters: {'learning_rate': 0.07537492005420514, 'n_estimators': 124, 'max_depth': 11, 'random_state': 670, 'likelihood': 'quantile', 'quantiles': None, 'bagging_temperature': 45.37073501026276, 'border_count': 64, 'l2_leaf_reg': 8.14338443870375, 'random_strength': 1.86646874394141}. Best is trial 0 with value: 4.193099142776446.\n"
     ]
    },
    {
     "name": "stdout",
     "output_type": "stream",
     "text": [
      "mean_squared_error: 21.9198\n",
      "rmse: 4.681858747145281\n",
      "mape: 5752555311255557.0\n",
      "Study statistics for : \n",
      "  Number of finished trials:  1\n",
      "Best trial of city:  Quảng Ninh\n"
     ]
    },
    {
     "data": {
      "text/html": [
       "<div>\n",
       "<style scoped>\n",
       "    .dataframe tbody tr th:only-of-type {\n",
       "        vertical-align: middle;\n",
       "    }\n",
       "\n",
       "    .dataframe tbody tr th {\n",
       "        vertical-align: top;\n",
       "    }\n",
       "\n",
       "    .dataframe thead th {\n",
       "        text-align: right;\n",
       "    }\n",
       "</style>\n",
       "<table border=\"1\" class=\"dataframe\">\n",
       "  <thead>\n",
       "    <tr style=\"text-align: right;\">\n",
       "      <th></th>\n",
       "      <th>City</th>\n",
       "      <th>Alg_name</th>\n",
       "      <th>Best_value</th>\n",
       "      <th>n_try_opt</th>\n",
       "      <th>lags</th>\n",
       "      <th>lags_past_covariates</th>\n",
       "      <th>output_chunk_length</th>\n",
       "      <th>learning_rate</th>\n",
       "      <th>n_estimators</th>\n",
       "      <th>max_depth</th>\n",
       "      <th>random_state</th>\n",
       "      <th>likelihood</th>\n",
       "      <th>quantiles</th>\n",
       "      <th>bagging_temperature</th>\n",
       "      <th>border_count</th>\n",
       "      <th>l2_leaf_reg</th>\n",
       "      <th>random_strength</th>\n",
       "    </tr>\n",
       "  </thead>\n",
       "  <tbody>\n",
       "    <tr>\n",
       "      <th>0</th>\n",
       "      <td>Quảng Ninh</td>\n",
       "      <td>CatBoost</td>\n",
       "      <td>4.193099</td>\n",
       "      <td>1</td>\n",
       "      <td>7</td>\n",
       "      <td>-5,-6,-7</td>\n",
       "      <td>1</td>\n",
       "      <td>0.075375</td>\n",
       "      <td>124</td>\n",
       "      <td>11</td>\n",
       "      <td>670</td>\n",
       "      <td>quantile</td>\n",
       "      <td>IsNone</td>\n",
       "      <td>45.370735</td>\n",
       "      <td>64</td>\n",
       "      <td>8.143384</td>\n",
       "      <td>1.866469</td>\n",
       "    </tr>\n",
       "  </tbody>\n",
       "</table>\n",
       "</div>"
      ],
      "text/plain": [
       "         City  Alg_name  Best_value  n_try_opt  lags lags_past_covariates  \\\n",
       "0  Quảng Ninh  CatBoost    4.193099          1     7             -5,-6,-7   \n",
       "\n",
       "   output_chunk_length  learning_rate  n_estimators  max_depth  random_state  \\\n",
       "0                    1       0.075375           124         11           670   \n",
       "\n",
       "  likelihood quantiles  bagging_temperature  border_count  l2_leaf_reg  \\\n",
       "0   quantile    IsNone            45.370735            64     8.143384   \n",
       "\n",
       "   random_strength  \n",
       "0         1.866469  "
      ]
     },
     "metadata": {},
     "output_type": "display_data"
    },
    {
     "name": "stderr",
     "output_type": "stream",
     "text": [
      "[I 2023-10-29 15:26:43,421] A new study created in memory with name: XGBModel\n"
     ]
    },
    {
     "name": "stdout",
     "output_type": "stream",
     "text": [
      "⭐️⭐️⭐️⭐️⭐️⭐️⭐️⭐️ Model_name:  XGBModel\n",
      "⭐️⭐️ City:  Bình Phước\n"
     ]
    },
    {
     "name": "stderr",
     "output_type": "stream",
     "text": [
      "[I 2023-10-29 15:26:44,091] Trial 0 finished with value: 42.23718185081626 and parameters: {'random_state': 41, 'likelihood': 'quantile'}. Best is trial 0 with value: 42.23718185081626.\n",
      "[I 2023-10-29 15:26:44,096] A new study created in memory with name: XGBModel\n"
     ]
    },
    {
     "name": "stdout",
     "output_type": "stream",
     "text": [
      "mean_squared_error: 2827.3353\n",
      "rmse: 53.17269349142386\n",
      "mape: 2.3140637720001562\n",
      "Study statistics for : \n",
      "  Number of finished trials:  1\n",
      "Best trial of city:  Bình Phước\n",
      "⭐️⭐️ City:  An Giang\n"
     ]
    },
    {
     "name": "stderr",
     "output_type": "stream",
     "text": [
      "[I 2023-10-29 15:26:44,786] Trial 0 finished with value: 39.32342074485012 and parameters: {'random_state': 30, 'likelihood': 'quantile'}. Best is trial 0 with value: 39.32342074485012.\n",
      "[I 2023-10-29 15:26:44,793] A new study created in memory with name: XGBModel\n"
     ]
    },
    {
     "name": "stdout",
     "output_type": "stream",
     "text": [
      "mean_squared_error: 2446.8271\n",
      "rmse: 49.46541303522303\n",
      "mape: 4.518907771729799\n",
      "Study statistics for : \n",
      "  Number of finished trials:  1\n",
      "Best trial of city:  An Giang\n",
      "⭐️⭐️ City:  Quảng Ninh\n"
     ]
    },
    {
     "name": "stderr",
     "output_type": "stream",
     "text": [
      "[I 2023-10-29 15:26:45,452] Trial 0 finished with value: 5.305781539221938 and parameters: {'random_state': 41, 'likelihood': 'quantile'}. Best is trial 0 with value: 5.305781539221938.\n",
      "[I 2023-10-29 15:26:45,458] A new study created in memory with name: RandomForest\n"
     ]
    },
    {
     "name": "stdout",
     "output_type": "stream",
     "text": [
      "mean_squared_error: 29.5294\n",
      "rmse: 5.434094211513945\n",
      "mape: 4463671785630162.0\n",
      "Study statistics for : \n",
      "  Number of finished trials:  1\n",
      "Best trial of city:  Quảng Ninh\n",
      "⭐️⭐️⭐️⭐️⭐️⭐️⭐️⭐️⭐️⭐️⭐️⭐️⭐️⭐️⭐️ Nstep:  6\n",
      "⭐️⭐️⭐️⭐️⭐️⭐️⭐️⭐️ Model_name:  RandomForest\n",
      "⭐️⭐️ City:  Bình Phước\n",
      "mean_squared_error: 948.6742\n",
      "rmse: 30.800555293897567\n",
      "mape: 0.8996000104878051\n"
     ]
    },
    {
     "name": "stderr",
     "output_type": "stream",
     "text": [
      "[I 2023-10-29 15:26:45,661] Trial 0 finished with value: 19.908508530932703 and parameters: {'random_state': 5, 'n_estimators': 192, 'max_depth': 1}. Best is trial 0 with value: 19.908508530932703.\n",
      "[I 2023-10-29 15:26:45,666] A new study created in memory with name: RandomForest\n",
      "[I 2023-10-29 15:26:45,792] Trial 0 finished with value: 7.921622392515756 and parameters: {'random_state': 20, 'n_estimators': 116, 'max_depth': 1}. Best is trial 0 with value: 7.921622392515756.\n",
      "[I 2023-10-29 15:26:45,799] A new study created in memory with name: RandomForest\n"
     ]
    },
    {
     "name": "stdout",
     "output_type": "stream",
     "text": [
      "Study statistics for : \n",
      "  Number of finished trials:  1\n",
      "Best trial of city:  Bình Phước\n",
      "⭐️⭐️ City:  An Giang\n",
      "mean_squared_error: 94.2755\n",
      "rmse: 9.709555824866285\n",
      "mape: 0.7650579375602059\n",
      "Study statistics for : \n",
      "  Number of finished trials:  1\n",
      "Best trial of city:  An Giang\n",
      "⭐️⭐️ City:  Quảng Ninh\n"
     ]
    },
    {
     "name": "stderr",
     "output_type": "stream",
     "text": [
      "[I 2023-10-29 15:26:46,067] Trial 0 finished with value: 10.143255721713466 and parameters: {'random_state': 9, 'n_estimators': 162, 'max_depth': 15}. Best is trial 0 with value: 10.143255721713466.\n",
      "[I 2023-10-29 15:26:46,073] A new study created in memory with name: LinearRegressionModel\n",
      "[I 2023-10-29 15:26:46,091] Trial 0 finished with value: 15.771817866340557 and parameters: {'random_state': 23}. Best is trial 0 with value: 15.771817866340557.\n",
      "[I 2023-10-29 15:26:46,097] A new study created in memory with name: LinearRegressionModel\n",
      "[I 2023-10-29 15:26:46,114] Trial 0 finished with value: 8.749061523800414 and parameters: {'random_state': 14}. Best is trial 0 with value: 8.749061523800414.\n",
      "[I 2023-10-29 15:26:46,121] A new study created in memory with name: LinearRegressionModel\n",
      "[I 2023-10-29 15:26:46,137] Trial 0 finished with value: 1.8666497541557387 and parameters: {'random_state': 20}. Best is trial 0 with value: 1.8666497541557387.\n",
      "[I 2023-10-29 15:26:46,143] A new study created in memory with name: CatBoostModel\n"
     ]
    },
    {
     "name": "stdout",
     "output_type": "stream",
     "text": [
      "mean_squared_error: 105.7347\n",
      "rmse: 10.282737988778047\n",
      "mape: 1.0999774078383534e+16\n",
      "Study statistics for : \n",
      "  Number of finished trials:  1\n",
      "Best trial of city:  Quảng Ninh\n",
      "⭐️⭐️⭐️⭐️⭐️⭐️⭐️⭐️ Model_name:  LinearRegressionModel\n",
      "⭐️⭐️ City:  Bình Phước\n",
      "mean_squared_error: 707.0564\n",
      "rmse: 26.590531814876993\n",
      "mape: 0.6614764173896739\n",
      "Study statistics for : \n",
      "  Number of finished trials:  1\n",
      "Best trial of city:  Bình Phước\n",
      "⭐️⭐️ City:  An Giang\n",
      "mean_squared_error: 123.6266\n",
      "rmse: 11.118750513118723\n",
      "mape: 1.1581616167012556\n",
      "Study statistics for : \n",
      "  Number of finished trials:  1\n",
      "Best trial of city:  An Giang\n",
      "⭐️⭐️ City:  Quảng Ninh\n",
      "mean_squared_error: 4.4582\n",
      "rmse: 2.1114503206861586\n",
      "mape: 2390755125550199.0\n",
      "Study statistics for : \n",
      "  Number of finished trials:  1\n",
      "Best trial of city:  Quảng Ninh\n",
      "⭐️⭐️⭐️⭐️⭐️⭐️⭐️⭐️ Model_name:  CatBoostModel\n",
      "⭐️⭐️ City:  Bình Phước\n"
     ]
    },
    {
     "name": "stderr",
     "output_type": "stream",
     "text": [
      "[I 2023-10-29 15:26:47,875] Trial 0 finished with value: 19.06151759493001 and parameters: {'learning_rate': 0.08654559126951543, 'n_estimators': 159, 'max_depth': 10, 'random_state': 618, 'likelihood': 'quantile', 'quantiles': [0.1, 0.5, 0.9], 'bagging_temperature': 82.37310764177765, 'border_count': 181, 'l2_leaf_reg': 1.6231085001927408, 'random_strength': 1.9956952940190735}. Best is trial 0 with value: 19.06151759493001.\n"
     ]
    },
    {
     "name": "stdout",
     "output_type": "stream",
     "text": [
      "mean_squared_error: 657.3355\n",
      "rmse: 25.638554609411692\n",
      "mape: 1.2225537307178844\n",
      "Study statistics for : \n",
      "  Number of finished trials:  1\n",
      "Best trial of city:  Bình Phước\n"
     ]
    },
    {
     "data": {
      "text/html": [
       "<div>\n",
       "<style scoped>\n",
       "    .dataframe tbody tr th:only-of-type {\n",
       "        vertical-align: middle;\n",
       "    }\n",
       "\n",
       "    .dataframe tbody tr th {\n",
       "        vertical-align: top;\n",
       "    }\n",
       "\n",
       "    .dataframe thead th {\n",
       "        text-align: right;\n",
       "    }\n",
       "</style>\n",
       "<table border=\"1\" class=\"dataframe\">\n",
       "  <thead>\n",
       "    <tr style=\"text-align: right;\">\n",
       "      <th></th>\n",
       "      <th>City</th>\n",
       "      <th>Alg_name</th>\n",
       "      <th>Best_value</th>\n",
       "      <th>n_try_opt</th>\n",
       "      <th>lags</th>\n",
       "      <th>lags_past_covariates</th>\n",
       "      <th>output_chunk_length</th>\n",
       "      <th>learning_rate</th>\n",
       "      <th>n_estimators</th>\n",
       "      <th>max_depth</th>\n",
       "      <th>random_state</th>\n",
       "      <th>likelihood</th>\n",
       "      <th>quantiles</th>\n",
       "      <th>bagging_temperature</th>\n",
       "      <th>border_count</th>\n",
       "      <th>l2_leaf_reg</th>\n",
       "      <th>random_strength</th>\n",
       "    </tr>\n",
       "  </thead>\n",
       "  <tbody>\n",
       "    <tr>\n",
       "      <th>0</th>\n",
       "      <td>Bình Phước</td>\n",
       "      <td>CatBoost</td>\n",
       "      <td>19.061518</td>\n",
       "      <td>1</td>\n",
       "      <td>8</td>\n",
       "      <td>-6,-7,-8</td>\n",
       "      <td>1</td>\n",
       "      <td>0.086546</td>\n",
       "      <td>159</td>\n",
       "      <td>10</td>\n",
       "      <td>618</td>\n",
       "      <td>quantile</td>\n",
       "      <td>0.1,0.5,0.9</td>\n",
       "      <td>82.373108</td>\n",
       "      <td>181</td>\n",
       "      <td>1.623109</td>\n",
       "      <td>1.995695</td>\n",
       "    </tr>\n",
       "  </tbody>\n",
       "</table>\n",
       "</div>"
      ],
      "text/plain": [
       "         City  Alg_name  Best_value  n_try_opt  lags lags_past_covariates  \\\n",
       "0  Bình Phước  CatBoost   19.061518          1     8             -6,-7,-8   \n",
       "\n",
       "   output_chunk_length  learning_rate  n_estimators  max_depth  random_state  \\\n",
       "0                    1       0.086546           159         10           618   \n",
       "\n",
       "  likelihood    quantiles  bagging_temperature  border_count  l2_leaf_reg  \\\n",
       "0   quantile  0.1,0.5,0.9            82.373108           181     1.623109   \n",
       "\n",
       "   random_strength  \n",
       "0         1.995695  "
      ]
     },
     "metadata": {},
     "output_type": "display_data"
    },
    {
     "name": "stderr",
     "output_type": "stream",
     "text": [
      "[I 2023-10-29 15:26:47,889] A new study created in memory with name: CatBoostModel\n"
     ]
    },
    {
     "name": "stdout",
     "output_type": "stream",
     "text": [
      "⭐️⭐️ City:  An Giang\n"
     ]
    },
    {
     "name": "stderr",
     "output_type": "stream",
     "text": [
      "[I 2023-10-29 15:26:51,464] Trial 0 finished with value: 8.095234521462766 and parameters: {'learning_rate': 0.0119584162595495, 'n_estimators': 110, 'max_depth': 10, 'random_state': 435, 'likelihood': 'quantile', 'quantiles': None, 'bagging_temperature': 96.5238795154171, 'border_count': 249, 'l2_leaf_reg': 7.715653102058732, 'random_strength': 5.508918227293476}. Best is trial 0 with value: 8.095234521462766.\n"
     ]
    },
    {
     "name": "stdout",
     "output_type": "stream",
     "text": [
      "mean_squared_error: 88.3397\n",
      "rmse: 9.398919938785209\n",
      "mape: 1.0917174566002834\n",
      "Study statistics for : \n",
      "  Number of finished trials:  1\n",
      "Best trial of city:  An Giang\n"
     ]
    },
    {
     "data": {
      "text/html": [
       "<div>\n",
       "<style scoped>\n",
       "    .dataframe tbody tr th:only-of-type {\n",
       "        vertical-align: middle;\n",
       "    }\n",
       "\n",
       "    .dataframe tbody tr th {\n",
       "        vertical-align: top;\n",
       "    }\n",
       "\n",
       "    .dataframe thead th {\n",
       "        text-align: right;\n",
       "    }\n",
       "</style>\n",
       "<table border=\"1\" class=\"dataframe\">\n",
       "  <thead>\n",
       "    <tr style=\"text-align: right;\">\n",
       "      <th></th>\n",
       "      <th>City</th>\n",
       "      <th>Alg_name</th>\n",
       "      <th>Best_value</th>\n",
       "      <th>n_try_opt</th>\n",
       "      <th>lags</th>\n",
       "      <th>lags_past_covariates</th>\n",
       "      <th>output_chunk_length</th>\n",
       "      <th>learning_rate</th>\n",
       "      <th>n_estimators</th>\n",
       "      <th>max_depth</th>\n",
       "      <th>random_state</th>\n",
       "      <th>likelihood</th>\n",
       "      <th>quantiles</th>\n",
       "      <th>bagging_temperature</th>\n",
       "      <th>border_count</th>\n",
       "      <th>l2_leaf_reg</th>\n",
       "      <th>random_strength</th>\n",
       "    </tr>\n",
       "  </thead>\n",
       "  <tbody>\n",
       "    <tr>\n",
       "      <th>0</th>\n",
       "      <td>An Giang</td>\n",
       "      <td>CatBoost</td>\n",
       "      <td>8.095235</td>\n",
       "      <td>1</td>\n",
       "      <td>8</td>\n",
       "      <td>-6,-7,-8</td>\n",
       "      <td>1</td>\n",
       "      <td>0.011958</td>\n",
       "      <td>110</td>\n",
       "      <td>10</td>\n",
       "      <td>435</td>\n",
       "      <td>quantile</td>\n",
       "      <td>IsNone</td>\n",
       "      <td>96.52388</td>\n",
       "      <td>249</td>\n",
       "      <td>7.715653</td>\n",
       "      <td>5.508918</td>\n",
       "    </tr>\n",
       "  </tbody>\n",
       "</table>\n",
       "</div>"
      ],
      "text/plain": [
       "       City  Alg_name  Best_value  n_try_opt  lags lags_past_covariates  \\\n",
       "0  An Giang  CatBoost    8.095235          1     8             -6,-7,-8   \n",
       "\n",
       "   output_chunk_length  learning_rate  n_estimators  max_depth  random_state  \\\n",
       "0                    1       0.011958           110         10           435   \n",
       "\n",
       "  likelihood quantiles  bagging_temperature  border_count  l2_leaf_reg  \\\n",
       "0   quantile    IsNone             96.52388           249     7.715653   \n",
       "\n",
       "   random_strength  \n",
       "0         5.508918  "
      ]
     },
     "metadata": {},
     "output_type": "display_data"
    },
    {
     "name": "stderr",
     "output_type": "stream",
     "text": [
      "[I 2023-10-29 15:26:51,474] A new study created in memory with name: CatBoostModel\n"
     ]
    },
    {
     "name": "stdout",
     "output_type": "stream",
     "text": [
      "⭐️⭐️ City:  Quảng Ninh\n"
     ]
    },
    {
     "name": "stderr",
     "output_type": "stream",
     "text": [
      "[I 2023-10-29 15:26:52,026] Trial 0 finished with value: 4.685657867482947 and parameters: {'learning_rate': 0.07204754689844303, 'n_estimators': 196, 'max_depth': 4, 'random_state': 352, 'likelihood': 'quantile', 'quantiles': None, 'bagging_temperature': 78.74932582009588, 'border_count': 126, 'l2_leaf_reg': 8.95183649205117, 'random_strength': 4.117587006790415}. Best is trial 0 with value: 4.685657867482947.\n"
     ]
    },
    {
     "name": "stdout",
     "output_type": "stream",
     "text": [
      "mean_squared_error: 25.5542\n",
      "rmse: 5.055115771272988\n",
      "mape: 4930936117713511.0\n",
      "Study statistics for : \n",
      "  Number of finished trials:  1\n",
      "Best trial of city:  Quảng Ninh\n"
     ]
    },
    {
     "data": {
      "text/html": [
       "<div>\n",
       "<style scoped>\n",
       "    .dataframe tbody tr th:only-of-type {\n",
       "        vertical-align: middle;\n",
       "    }\n",
       "\n",
       "    .dataframe tbody tr th {\n",
       "        vertical-align: top;\n",
       "    }\n",
       "\n",
       "    .dataframe thead th {\n",
       "        text-align: right;\n",
       "    }\n",
       "</style>\n",
       "<table border=\"1\" class=\"dataframe\">\n",
       "  <thead>\n",
       "    <tr style=\"text-align: right;\">\n",
       "      <th></th>\n",
       "      <th>City</th>\n",
       "      <th>Alg_name</th>\n",
       "      <th>Best_value</th>\n",
       "      <th>n_try_opt</th>\n",
       "      <th>lags</th>\n",
       "      <th>lags_past_covariates</th>\n",
       "      <th>output_chunk_length</th>\n",
       "      <th>learning_rate</th>\n",
       "      <th>n_estimators</th>\n",
       "      <th>max_depth</th>\n",
       "      <th>random_state</th>\n",
       "      <th>likelihood</th>\n",
       "      <th>quantiles</th>\n",
       "      <th>bagging_temperature</th>\n",
       "      <th>border_count</th>\n",
       "      <th>l2_leaf_reg</th>\n",
       "      <th>random_strength</th>\n",
       "    </tr>\n",
       "  </thead>\n",
       "  <tbody>\n",
       "    <tr>\n",
       "      <th>0</th>\n",
       "      <td>Quảng Ninh</td>\n",
       "      <td>CatBoost</td>\n",
       "      <td>4.685658</td>\n",
       "      <td>1</td>\n",
       "      <td>8</td>\n",
       "      <td>-6,-7,-8</td>\n",
       "      <td>1</td>\n",
       "      <td>0.072048</td>\n",
       "      <td>196</td>\n",
       "      <td>4</td>\n",
       "      <td>352</td>\n",
       "      <td>quantile</td>\n",
       "      <td>IsNone</td>\n",
       "      <td>78.749326</td>\n",
       "      <td>126</td>\n",
       "      <td>8.951836</td>\n",
       "      <td>4.117587</td>\n",
       "    </tr>\n",
       "  </tbody>\n",
       "</table>\n",
       "</div>"
      ],
      "text/plain": [
       "         City  Alg_name  Best_value  n_try_opt  lags lags_past_covariates  \\\n",
       "0  Quảng Ninh  CatBoost    4.685658          1     8             -6,-7,-8   \n",
       "\n",
       "   output_chunk_length  learning_rate  n_estimators  max_depth  random_state  \\\n",
       "0                    1       0.072048           196          4           352   \n",
       "\n",
       "  likelihood quantiles  bagging_temperature  border_count  l2_leaf_reg  \\\n",
       "0   quantile    IsNone            78.749326           126     8.951836   \n",
       "\n",
       "   random_strength  \n",
       "0         4.117587  "
      ]
     },
     "metadata": {},
     "output_type": "display_data"
    },
    {
     "name": "stderr",
     "output_type": "stream",
     "text": [
      "[I 2023-10-29 15:26:52,037] A new study created in memory with name: XGBModel\n"
     ]
    },
    {
     "name": "stdout",
     "output_type": "stream",
     "text": [
      "⭐️⭐️⭐️⭐️⭐️⭐️⭐️⭐️ Model_name:  XGBModel\n",
      "⭐️⭐️ City:  Bình Phước\n"
     ]
    },
    {
     "name": "stderr",
     "output_type": "stream",
     "text": [
      "[I 2023-10-29 15:26:52,778] Trial 0 finished with value: 47.72838990918919 and parameters: {'random_state': 12, 'likelihood': 'quantile'}. Best is trial 0 with value: 47.72838990918919.\n",
      "[I 2023-10-29 15:26:52,784] A new study created in memory with name: XGBModel\n"
     ]
    },
    {
     "name": "stdout",
     "output_type": "stream",
     "text": [
      "mean_squared_error: 3177.4324\n",
      "rmse: 56.36871810837871\n",
      "mape: 2.6133492999938635\n",
      "Study statistics for : \n",
      "  Number of finished trials:  1\n",
      "Best trial of city:  Bình Phước\n",
      "⭐️⭐️ City:  An Giang\n"
     ]
    },
    {
     "name": "stderr",
     "output_type": "stream",
     "text": [
      "[I 2023-10-29 15:26:53,467] Trial 0 finished with value: 36.81707538107361 and parameters: {'random_state': 25, 'likelihood': 'quantile'}. Best is trial 0 with value: 36.81707538107361.\n",
      "[I 2023-10-29 15:26:53,473] A new study created in memory with name: XGBModel\n"
     ]
    },
    {
     "name": "stdout",
     "output_type": "stream",
     "text": [
      "mean_squared_error: 2331.0732\n",
      "rmse: 48.28118877581905\n",
      "mape: 4.902775186654829\n",
      "Study statistics for : \n",
      "  Number of finished trials:  1\n",
      "Best trial of city:  An Giang\n",
      "⭐️⭐️ City:  Quảng Ninh\n"
     ]
    },
    {
     "name": "stderr",
     "output_type": "stream",
     "text": [
      "[I 2023-10-29 15:26:54,022] Trial 0 finished with value: 3.9088903069094463 and parameters: {'random_state': 9, 'likelihood': 'quantile'}. Best is trial 0 with value: 3.9088903069094463.\n"
     ]
    },
    {
     "name": "stdout",
     "output_type": "stream",
     "text": [
      "mean_squared_error: 17.2422\n",
      "rmse: 4.15237704220374\n",
      "mape: 3256385556567126.0\n",
      "Study statistics for : \n",
      "  Number of finished trials:  1\n",
      "Best trial of city:  Quảng Ninh\n"
     ]
    }
   ],
   "source": [
    "#########################\n",
    "# Main cell for optimize ML algorithm\n",
    "#########################\n",
    "# Hai thuật toán này chưa chạy đc nhe, nên đừng truyền vô mảng để nó chạy nhoé!\n",
    "# \"PoissonRegressor\"\n",
    "# \"SVMRBF\"\n",
    "\n",
    "model_name_list = [\n",
    "     \"RandomForest\",\n",
    "     \"LinearRegressionModel\",\n",
    "    #  \"LightGBMModel\",\n",
    "     \"CatBoostModel\",\n",
    "     \"XGBModel\",\n",
    "    # \"SVMRBF\",\n",
    "    # \"PoissonRegressor\"\n",
    "    \n",
    "]\n",
    "\n",
    "\n",
    "# Lưu thông tin traceback study và error city trong quá trình optimize\n",
    "l_study_city ={}\n",
    "l_errCity =[]\n",
    "\n",
    "if __name__ == '__main__':\n",
    "  for nstep in range(1,args.n_predicted_period_months+1):\n",
    "    print(\"⭐️⭐️⭐️⭐️⭐️⭐️⭐️⭐️⭐️⭐️⭐️⭐️⭐️⭐️⭐️ Nstep: \",nstep)\n",
    "    lags_by_nstep = args.look_back + nstep - 1\n",
    "    lags_past_covariates_by_nstep = [-lags_by_nstep+2,-lags_by_nstep+1,-lags_by_nstep] #Mảng này chứa ba giá trị tương ứng cho args.lookback 3\n",
    "    lags_past_covariates_in_str = f\"{-lags_by_nstep+2},{-lags_by_nstep+1},{-lags_by_nstep}\"\n",
    "    for model_name in model_name_list: \n",
    "      print(\"⭐️⭐️⭐️⭐️⭐️⭐️⭐️⭐️ Model_name: \",model_name)\n",
    "      best_param = pd.DataFrame()\n",
    "      for city_index in range(len(cities)):\n",
    "        print(\"⭐️⭐️ City: \",cities[city_index])\n",
    "        # Use Tree-structured Parzen Estimator sampler to minimise RMSE\n",
    "        sampler = optuna.samplers.TPESampler()\n",
    "        study = optuna.create_study(sampler=sampler, direction='minimize', study_name = model_name)\n",
    "        # truyền multiple param vào trong biến trial\n",
    "        obj_func = lambda trial: objective(model_name, trial, cities[city_index], nstep = nstep)\n",
    "        try:\n",
    "          # Optimise over 100 trials\n",
    "          study.optimize(obj_func, n_trials=args.ntry, n_jobs=args.njob)\n",
    "\n",
    "          # Print results\n",
    "          print(\"Study statistics for : \")\n",
    "          print(\"  Number of finished trials: \", len(study.trials))\n",
    "          print(\"Best trial of city: \",cities[city_index])\n",
    "\n",
    "          best_trial = study.best_trial\n",
    "          # lưu best param vào trong biến toàn cục\n",
    "\n",
    "          if model_name == \"LinearRegressionModel\":\n",
    "            one_city_param = pd.DataFrame({\n",
    "                                'City':  cities[city_index],\n",
    "                                'Alg_name': 'LinearRegressionModel',\n",
    "                                'Best_value': best_trial.value,\n",
    "                                'n_try_opt': args.ntry,\n",
    "                                'lags' : lags_by_nstep,\n",
    "                                'lags_past_covariates': [lags_past_covariates_in_str],\n",
    "                                'output_chunk_length': 1,\n",
    "                                'random_state':best_trial.params['random_state'],\n",
    "                                })\n",
    "          elif model_name == 'XGBModel':\n",
    "            one_city_param = pd.DataFrame({\n",
    "                                'City':  cities[city_index],\n",
    "                                'Alg_name': 'XGBModel',\n",
    "                                'Best_value': best_trial.value,\n",
    "                                'n_try_opt': args.ntry,\n",
    "                                'lags' : lags_by_nstep,\n",
    "                                'lags_past_covariates': [lags_past_covariates_in_str],\n",
    "                                'output_chunk_length': 1,\n",
    "                                'random_state':best_trial.params['random_state'],\n",
    "                                'likelihood': best_trial.params['likelihood'],\n",
    "                                })\n",
    "          elif model_name == \"LightGBMModel\":\n",
    "            one_city_param = pd.DataFrame({\n",
    "                                'City':  cities[city_index],\n",
    "                                'Alg_name': 'LightGBMModel',\n",
    "                                'Best_value': best_trial.value,\n",
    "                                'n_try_opt': args.ntry,\n",
    "                                'lags': lags_by_nstep,\n",
    "                                'lags_past_covariates': [lags_past_covariates_in_str],\n",
    "                                'multi_models': best_trial.params['multi_models'],\n",
    "                                'num_leaves': best_trial.params['num_leaves'], \n",
    "                                'feature_fraction': best_trial.params['feature_fraction'], \n",
    "                                'min_child_samples': best_trial.params['min_child_samples'], \n",
    "                                'lambda_l1': best_trial.params['lambda_l1'], \n",
    "                                'lambda_l2': best_trial.params['lambda_l2'], \n",
    "                                'likelihood': best_trial.params['likelihood'], \n",
    "                                'learning_rate': best_trial.params['learning_rate']\n",
    "                                })\n",
    "          elif model_name == \"CatBoostModel\":\n",
    "            quantitles = best_trial.params['quantiles']\n",
    "            if quantitles == None:\n",
    "              quantitles = \"IsNone\"\n",
    "            else:\n",
    "              quantitles = f\"{quantitles[0]},{quantitles[1]},{quantitles[2]}\"\n",
    "            one_city_param = pd.DataFrame({\n",
    "                                'City':  cities[city_index],\n",
    "                                'Alg_name': 'CatBoost',\n",
    "                                'Best_value': best_trial.value,\n",
    "                                'n_try_opt': args.ntry,\n",
    "                                'lags' : lags_by_nstep,\n",
    "                                'lags_past_covariates': [lags_past_covariates_in_str],\n",
    "                                'output_chunk_length': 1,\n",
    "                                'learning_rate': best_trial.params['learning_rate'],\n",
    "                                'n_estimators': best_trial.params['n_estimators'],\n",
    "                                'max_depth': best_trial.params['max_depth'],\n",
    "                                'random_state': best_trial.params['random_state'],\n",
    "                                'likelihood': best_trial.params['likelihood'],\n",
    "                                'quantiles': [quantitles],\n",
    "                                'bagging_temperature': best_trial.params['bagging_temperature'],\n",
    "                                'border_count': best_trial.params['border_count'],\n",
    "                                'l2_leaf_reg': best_trial.params['l2_leaf_reg'],\n",
    "                                'random_strength':best_trial.params['random_strength'],\n",
    "                                })\n",
    "            display(one_city_param)\n",
    "          elif model_name == \"RandomForest\":\n",
    "            one_city_param = pd.DataFrame({\n",
    "                                'City':  cities[city_index],\n",
    "                                'Alg_name': 'RandomForest',\n",
    "                                'Best_value': best_trial.value,\n",
    "                                'n_try_opt': args.ntry,\n",
    "                                'lags' : lags_by_nstep,\n",
    "                                'lags_past_covariates': [lags_past_covariates_in_str],\n",
    "                                'output_chunk_length': 1,\n",
    "                                'n_estimators': best_trial.params['n_estimators'],\n",
    "                                'max_depth': best_trial.params['max_depth'],\n",
    "                                'random_state':best_trial.params['random_state'],\n",
    "                                })\n",
    "          elif model_name == \"SVMRBF\":\n",
    "            one_city_param = pd.DataFrame({\n",
    "                                'City':  [cities[city_index]],\n",
    "                                'Alg_name': 'SVMRBF',\n",
    "                                'Best_value': best_trial.value,\n",
    "                                'n_try_opt': args.ntry,\n",
    "                                'max_iter':best_trial.params['max_iter'],\n",
    "                                'kernel': 'rbf',\n",
    "                                'epsilon': best_trial.params['epsilon'],\n",
    "                                })\n",
    "          elif model_name == \"PoissonRegressor\":\n",
    "            print(\"🐰Bụt Đây!!\")\n",
    "            print(\"PARAMS: \",best_trial.params)\n",
    "            one_city_param = pd.DataFrame({\n",
    "                                'City':  [cities[city_index]],\n",
    "                                'Alg_name': 'PoissonRegressor',\n",
    "                                'Best_value': best_trial.value,\n",
    "                                'n_try_opt': args.ntry,\n",
    "                                'max_iter':best_trial.params['max_iter'],\n",
    "                                'fit_intercept': \"False\",\n",
    "                                'alpha' : best_trial.params['alpha'],\n",
    "                                })\n",
    "          # file_path = 'opt_results/opt_res_ml_26102023/261023_DF_opt_hyperparam_'+ model_name + '_'+str(nstep)+'-nstep.xlsx'\n",
    "          folder_path = f'opt_results/opt_res_ml_26102023/{model_name}/'\n",
    "          file_path = folder_path+ f'261023_DF_opt_hyperparam_{model_name}_{nstep}-nstep.xlsx'\n",
    "          if(os.path.isfile(file_path)):\n",
    "              with pd.ExcelWriter(file_path,mode=\"a\",engine=\"openpyxl\",if_sheet_exists=\"overlay\") as writer:\n",
    "                  one_city_param.to_excel(writer, header=None, startrow=city_index+1,index=False)\n",
    "          else:\n",
    "              if(not (os.path.isdir(folder_path))):\n",
    "                os.mkdir(folder_path)\n",
    "              with pd.ExcelWriter(file_path,engine=\"openpyxl\") as writer:\n",
    "                  one_city_param.to_excel(writer, startrow=city_index,index=False)\n",
    "        except:# có error thì lưu vào l_errCity để check lại sau \n",
    "          l_errCity.append(cities[city_index])\n",
    "          #send_to_telegram(f'Tỉnh bị lỗi trong quá trình optimize bằng model {model_name}: {cities[city_index]}')"
   ]
  },
  {
   "cell_type": "code",
   "execution_count": 1579,
   "metadata": {},
   "outputs": [],
   "source": [
    "# send_to_telegram(\"Chạy xong optimize rùiii!!Vô check thuiii!!!\" )"
   ]
  }
 ],
 "metadata": {
  "kernelspec": {
   "display_name": "Python 3",
   "language": "python",
   "name": "python3"
  },
  "language_info": {
   "codemirror_mode": {
    "name": "ipython",
    "version": 3
   },
   "file_extension": ".py",
   "mimetype": "text/x-python",
   "name": "python",
   "nbconvert_exporter": "python",
   "pygments_lexer": "ipython3",
   "version": "3.9.6"
  }
 },
 "nbformat": 4,
 "nbformat_minor": 2
}
