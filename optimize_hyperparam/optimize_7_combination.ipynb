{
 "cells": [
  {
   "cell_type": "markdown",
   "metadata": {
    "id": "xEHFfG50NdzF"
   },
   "source": [
    "# Matrix of metrics of Cross validation  for 5 top Simple Combination \n",
    "Date: 09/12/2022\n",
    "Description: Create cross validation metrics\n",
    "Use 5 combinations only regarding to the ranking from simple combination result.\n",
    "This file creates cross validation metrics for next steps\n",
    "Modificaiton 02/01/2023\n",
    "Sử dụng 5 combination mới"
   ]
  },
  {
   "cell_type": "code",
   "execution_count": 1,
   "metadata": {
    "id": "Ja18nXEglgwF"
   },
   "outputs": [
    {
     "name": "stdout",
     "output_type": "stream",
     "text": [
      "Tue Feb  7 10:07:37 2023       \n",
      "+-----------------------------------------------------------------------------+\n",
      "| NVIDIA-SMI 525.60.13    Driver Version: 525.60.13    CUDA Version: 12.0     |\n",
      "|-------------------------------+----------------------+----------------------+\n",
      "| GPU  Name        Persistence-M| Bus-Id        Disp.A | Volatile Uncorr. ECC |\n",
      "| Fan  Temp  Perf  Pwr:Usage/Cap|         Memory-Usage | GPU-Util  Compute M. |\n",
      "|                               |                      |               MIG M. |\n",
      "|===============================+======================+======================|\n",
      "|   0  Quadro RTX 6000     On   | 00000000:21:00.0 Off |                  Off |\n",
      "| 34%   54C    P2    82W / 260W |   4603MiB / 24576MiB |     34%      Default |\n",
      "|                               |                      |                  N/A |\n",
      "+-------------------------------+----------------------+----------------------+\n",
      "                                                                               \n",
      "+-----------------------------------------------------------------------------+\n",
      "| Processes:                                                                  |\n",
      "|  GPU   GI   CI        PID   Type   Process name                  GPU Memory |\n",
      "|        ID   ID                                                   Usage      |\n",
      "|=============================================================================|\n",
      "|    0   N/A  N/A     27440      C   ..._diseases_py39/bin/python     1042MiB |\n",
      "|    0   N/A  N/A     33001      C   ..._diseases_py39/bin/python     3558MiB |\n",
      "+-----------------------------------------------------------------------------+\n"
     ]
    }
   ],
   "source": [
    "!nvidia-smi"
   ]
  },
  {
   "cell_type": "code",
   "execution_count": 2,
   "metadata": {
    "colab": {
     "base_uri": "https://localhost:8080/"
    },
    "executionInfo": {
     "elapsed": 6592,
     "status": "ok",
     "timestamp": 1666073902985,
     "user": {
      "displayName": "Duy Thanh Do",
      "userId": "13373927866316348326"
     },
     "user_tz": -420
    },
    "id": "VW4v2IEcTYHa",
    "outputId": "b4573735-a6ca-4cc7-80c8-b23f3b339c93"
   },
   "outputs": [
    {
     "name": "stdout",
     "output_type": "stream",
     "text": [
      "Requirement already satisfied: scikit-learn in /home/mlworker/lib/python3.10/site-packages (1.2.1)\n",
      "Requirement already satisfied: threadpoolctl>=2.0.0 in /home/mlworker/lib/python3.10/site-packages (from scikit-learn) (3.1.0)\n",
      "Requirement already satisfied: joblib>=1.1.1 in /home/mlworker/lib/python3.10/site-packages (from scikit-learn) (1.2.0)\n",
      "Requirement already satisfied: numpy>=1.17.3 in /home/mlworker/lib/python3.10/site-packages (from scikit-learn) (1.23.4)\n",
      "Requirement already satisfied: scipy>=1.3.2 in /home/mlworker/lib/python3.10/site-packages (from scikit-learn) (1.8.1)\n",
      "\n",
      "\u001b[1m[\u001b[0m\u001b[34;49mnotice\u001b[0m\u001b[1;39;49m]\u001b[0m\u001b[39;49m A new release of pip available: \u001b[0m\u001b[31;49m22.3.1\u001b[0m\u001b[39;49m -> \u001b[0m\u001b[32;49m23.0\u001b[0m\n",
      "\u001b[1m[\u001b[0m\u001b[34;49mnotice\u001b[0m\u001b[1;39;49m]\u001b[0m\u001b[39;49m To update, run: \u001b[0m\u001b[32;49mpip install --upgrade pip\u001b[0m\n",
      "Requirement already satisfied: ftfy in /home/mlworker/lib/python3.10/site-packages (6.1.1)\n",
      "Requirement already satisfied: wcwidth>=0.2.5 in /home/mlworker/lib/python3.10/site-packages (from ftfy) (0.2.5)\n",
      "\n",
      "\u001b[1m[\u001b[0m\u001b[34;49mnotice\u001b[0m\u001b[1;39;49m]\u001b[0m\u001b[39;49m A new release of pip available: \u001b[0m\u001b[31;49m22.3.1\u001b[0m\u001b[39;49m -> \u001b[0m\u001b[32;49m23.0\u001b[0m\n",
      "\u001b[1m[\u001b[0m\u001b[34;49mnotice\u001b[0m\u001b[1;39;49m]\u001b[0m\u001b[39;49m To update, run: \u001b[0m\u001b[32;49mpip install --upgrade pip\u001b[0m\n"
     ]
    }
   ],
   "source": [
    "# Install packages\n",
    "!pip install -U scikit-learn\n",
    "!pip install ftfy\n",
    "# !pip install xlsxwriter \n",
    "# !pip install xlwt"
   ]
  },
  {
   "cell_type": "code",
   "execution_count": 3,
   "metadata": {
    "id": "b8I8S9koHjT_"
   },
   "outputs": [],
   "source": [
    "# Imports\n",
    "import tensorflow as tf \n",
    "# from google.colab import drive\n",
    "import os\n",
    "\n",
    "from tensorflow.keras.models import Sequential, model_from_json\n",
    "from tensorflow.keras.layers import Dense\n",
    "\n",
    "import traceback\n",
    "import sys\n",
    "import copy\n",
    "import numpy as np\n",
    "from itertools import combinations\n",
    "import pandas as pd\n",
    "import matplotlib.pyplot as plt\n",
    "from datetime import datetime\n",
    "from sklearn.metrics import mean_squared_error, mean_absolute_error, mean_absolute_percentage_error\n",
    "from sklearn.preprocessing import MinMaxScaler\n",
    "from sklearn.feature_selection import RFE\n",
    "from sklearn.ensemble import RandomForestRegressor\n",
    "\n",
    "# lib for LSTM of Meta model\n",
    "from tensorflow.keras.models import Sequential\n",
    "from tensorflow.keras.layers import LSTM\n",
    "from tensorflow.keras.layers import Dense, Dropout\n",
    "from sklearn.preprocessing import StandardScaler\n",
    "import seaborn as sns\n",
    "\n",
    "\n",
    "import torch\n",
    "import torch.nn as nn\n",
    "import torch.nn.functional as F\n",
    "from torch.utils.data import TensorDataset, DataLoader\n",
    "from torch.autograd import Variable\n",
    "\n",
    "from ftfy import fix_text\n",
    "import warnings\n",
    "warnings.simplefilter(\"ignore\", UserWarning)\n",
    "\n",
    "plt.rcParams['figure.figsize'] = [7, 3]\n",
    "import math\n",
    "\n",
    "import optuna\n",
    "from optuna.trial import TrialState"
   ]
  },
  {
   "cell_type": "markdown",
   "metadata": {
    "id": "NURg_hMGdv_z"
   },
   "source": [
    "# Global param and project path\n",
    "All mix data 1997-2018"
   ]
  },
  {
   "cell_type": "code",
   "execution_count": 4,
   "metadata": {
    "colab": {
     "base_uri": "https://localhost:8080/"
    },
    "executionInfo": {
     "elapsed": 3798,
     "status": "ok",
     "timestamp": 1666073906773,
     "user": {
      "displayName": "Duy Thanh Do",
      "userId": "13373927866316348326"
     },
     "user_tz": -420
    },
    "id": "MNAuUk6_HVs1",
    "outputId": "e48d21e8-8b36-46c6-9a85-0359f712e8df"
   },
   "outputs": [],
   "source": [
    "# Attach Google Drive for reading and saving files\n",
    "# drive.mount('/content/drive')\n",
    "prj_path = '/home/mlworker/Quang/HealthCare/Source_14012023_v4/'\n",
    "\n",
    "path_all_mix_data =             prj_path+ 'results/all_mix_data/all_mix_data_1997_2018/'\n",
    "path_all_mix_data_cnn =         prj_path+ 'results/all_mix_data/all_mix_data_1997_2018/cnn/'\n",
    "path_all_mix_data_lstm =        prj_path+ 'results/all_mix_data/all_mix_data_1997_2018/lstm/'\n",
    "path_all_mix_data_lstm_att =    prj_path+ 'results/all_mix_data/all_mix_data_1997_2018/lstm_att/'\n",
    "path_all_mix_data_tf =          prj_path+ 'results/all_mix_data/all_mix_data_1997_2018/transformer/'\n",
    "\n",
    "prj_path_opt= prj_path + '/optimize_hyperparam/opt_results/optimize_1997_2018/'\n",
    "\n",
    "prj_path_result_ensemble =      prj_path+ 'results/ensemble/'\n",
    "com_path_validation_metrics =   prj_path_result_ensemble+ 'result/weighted_combination/cv_metrics/'\n",
    "\n",
    "com_eval_path_validation_metrics = 'eval_result/21_12_2022_weighted_combination-5-cities/'\n",
    "\n",
    "\n",
    "# loockback_window for meta model\n",
    "meta_lookback_window = 3"
   ]
  },
  {
   "cell_type": "markdown",
   "metadata": {},
   "source": [
    "# Xây dựng Meta Data Set"
   ]
  },
  {
   "cell_type": "code",
   "execution_count": 5,
   "metadata": {},
   "outputs": [
    {
     "name": "stderr",
     "output_type": "stream",
     "text": [
      "<ipython-input-5-615c12ac0818>:34: FutureWarning: The series.append method is deprecated and will be removed from pandas in a future version. Use pandas.concat instead.\n",
      "  result_test = result_test.append(selected_result['Test Prediction'].tail(36))\n",
      "<ipython-input-5-615c12ac0818>:49: FutureWarning: The series.append method is deprecated and will be removed from pandas in a future version. Use pandas.concat instead.\n",
      "  result_test = result_test.append(selected_result['Test Prediction'].tail(36))\n",
      "<ipython-input-5-615c12ac0818>:68: FutureWarning: The series.append method is deprecated and will be removed from pandas in a future version. Use pandas.concat instead.\n",
      "  result_test = result_test.append(selected_result['Test Prediction'].tail(36))\n",
      "<ipython-input-5-615c12ac0818>:91: FutureWarning: The series.append method is deprecated and will be removed from pandas in a future version. Use pandas.concat instead.\n",
      "  result_test = result_test.append(selected_result['Test Prediction'].tail(36)) # Lấy 36 tháng cuối\n",
      "<ipython-input-5-615c12ac0818>:118: FutureWarning: The frame.append method is deprecated and will be removed from pandas in a future version. Use pandas.concat instead.\n",
      "  df = meta_train_set.append(meta_test_set[3:])\n",
      "<ipython-input-5-615c12ac0818>:34: FutureWarning: The series.append method is deprecated and will be removed from pandas in a future version. Use pandas.concat instead.\n",
      "  result_test = result_test.append(selected_result['Test Prediction'].tail(36))\n",
      "<ipython-input-5-615c12ac0818>:49: FutureWarning: The series.append method is deprecated and will be removed from pandas in a future version. Use pandas.concat instead.\n",
      "  result_test = result_test.append(selected_result['Test Prediction'].tail(36))\n",
      "<ipython-input-5-615c12ac0818>:68: FutureWarning: The series.append method is deprecated and will be removed from pandas in a future version. Use pandas.concat instead.\n",
      "  result_test = result_test.append(selected_result['Test Prediction'].tail(36))\n",
      "<ipython-input-5-615c12ac0818>:91: FutureWarning: The series.append method is deprecated and will be removed from pandas in a future version. Use pandas.concat instead.\n",
      "  result_test = result_test.append(selected_result['Test Prediction'].tail(36)) # Lấy 36 tháng cuối\n",
      "<ipython-input-5-615c12ac0818>:118: FutureWarning: The frame.append method is deprecated and will be removed from pandas in a future version. Use pandas.concat instead.\n",
      "  df = meta_train_set.append(meta_test_set[3:])\n",
      "<ipython-input-5-615c12ac0818>:34: FutureWarning: The series.append method is deprecated and will be removed from pandas in a future version. Use pandas.concat instead.\n",
      "  result_test = result_test.append(selected_result['Test Prediction'].tail(36))\n",
      "<ipython-input-5-615c12ac0818>:49: FutureWarning: The series.append method is deprecated and will be removed from pandas in a future version. Use pandas.concat instead.\n",
      "  result_test = result_test.append(selected_result['Test Prediction'].tail(36))\n",
      "<ipython-input-5-615c12ac0818>:68: FutureWarning: The series.append method is deprecated and will be removed from pandas in a future version. Use pandas.concat instead.\n",
      "  result_test = result_test.append(selected_result['Test Prediction'].tail(36))\n",
      "<ipython-input-5-615c12ac0818>:91: FutureWarning: The series.append method is deprecated and will be removed from pandas in a future version. Use pandas.concat instead.\n",
      "  result_test = result_test.append(selected_result['Test Prediction'].tail(36)) # Lấy 36 tháng cuối\n",
      "<ipython-input-5-615c12ac0818>:118: FutureWarning: The frame.append method is deprecated and will be removed from pandas in a future version. Use pandas.concat instead.\n",
      "  df = meta_train_set.append(meta_test_set[3:])\n"
     ]
    }
   ],
   "source": [
    "##########################\n",
    "# Xây Dựng Meta Data Set\n",
    "meta_test_set_city = {}\n",
    "meta_train_set_city = {}\n",
    "meta_data_set_city = {}\n",
    "cities = [\n",
    "'Bình Phước', 'Bình Thuận', 'Bình Định',\n",
    "#         'Bạc Liêu', 'Bắc Kạn', 'Bắc Giang', 'Cao Bằng', 'Cà Mau',\n",
    "#         'Cần Thơ', 'Gia Lai', 'Hà Giang', 'Hà Nội', 'Hà Tĩnh', 'Hòa Bình',\n",
    "#         'Hưng Yên', 'Hải Dương', 'Hải Phòng', 'Khánh Hòa', 'Kiên Giang',\n",
    "#         'Kon Tum', 'Lai Châu', 'Long An', 'Lào Cai', 'Lâm Đồng',\n",
    "#         'Lạng Sơn', 'Nam Định', 'Nghệ An', 'Ninh Bình', 'Ninh Thuận',\n",
    "#         'Phú Thọ', 'Phú Yên', 'Quảng Bình', 'Quảng Nam', 'Quảng Ngãi',\n",
    "#         'Quảng Ninh', 'Quảng Trị', 'Sóc Trăng', 'Sơn La', 'TT Huế',\n",
    "#         'Thanh Hóa', 'Thái Bình', 'Thái Nguyên', 'Tiền Giang', 'Trà Vinh',\n",
    "#         'Tuyên Quang', 'Tây Ninh', 'Vĩnh Phúc', 'Yên Bái', 'Điện Biên',\n",
    "#          'Đà Nẵng', 'Đắk Nông', 'Đắk Lắk', 'Đồng Tháp'\n",
    "]\n",
    "# cities = ['An Giang','Lạng Sơn']\n",
    "\n",
    "for city in cities:  \n",
    "  meta_test_set = pd.DataFrame()\n",
    "  meta_train_set = pd.DataFrame() \n",
    "  #Note: mỗi bộ all_mix_data sẽ có lenght = 251 (10997 -01/01/2018  và vì 1 dòng đầu bị bỏ đi do quá trình statitionary và remove NAN lúc train)\n",
    "  lenght_whole_data_city = 251\n",
    "  ######################################\n",
    "  # Xử lý data của CNN ứng với mỗi city\n",
    "  df = pd.read_excel(path_all_mix_data_cnn+'mix_train_test_data_'+city+'_cnn.xlsx')\n",
    "  selected_result = df.sort_values(by = 'rmse', ascending=True) # Sắp xếp theo rmse nhỏ nhất\n",
    "  selected_result = selected_result.head(lenght_whole_data_city) # lấy 251 phần tử đầu tiên\n",
    "  selected_result= selected_result.sort_index() \n",
    "  # Tạo meta testset\n",
    "  result_test = selected_result['Train Prediction'].iloc[-meta_lookback_window-36:-36] # Lấy buffer cho phần lookback_window\n",
    "  result_test = result_test.append(selected_result['Test Prediction'].tail(36))\n",
    "  meta_test_cnn = result_test.reset_index(drop=True)  \n",
    "  # Tạo meta trainset\n",
    "  result_train = selected_result['Train Prediction'].iloc[meta_lookback_window:-36]\n",
    "  meta_train_cnn = result_train.reset_index(drop=True)\n",
    "  \n",
    "  ######################################\n",
    "  # Xử lý data của LSTM  ứng với mỗi city\n",
    "  df = pd.read_excel(path_all_mix_data_lstm+'mix_train_test_data_'+city+'_lstm.xlsx')  \n",
    "  selected_result = df.sort_values(by = 'rmse', ascending=True) # Sắp xếp theo rmse nhỏ nhất\n",
    "  selected_result = selected_result.head(lenght_whole_data_city) # lấy 251 phần tử đầu tiên\n",
    "  selected_result= selected_result.sort_index()   \n",
    "  \n",
    "  # Tạo meta testset\n",
    "  result_test = selected_result['Train Prediction'].iloc[-meta_lookback_window-36:-36] # Lấy buffer cho phần lookback_window\n",
    "  result_test = result_test.append(selected_result['Test Prediction'].tail(36))\n",
    "  meta_test_lstm = result_test.reset_index(drop=True)\n",
    "  # Tạo meta trainset\n",
    "  result_train = selected_result['Train Prediction'].iloc[meta_lookback_window:-36]\n",
    "  meta_train_lstm = result_train.reset_index(drop=True)\n",
    "\n",
    "  ###########################################\n",
    "  # Xử lý data của LSTM ATT ứng với mỗi city\n",
    "  df = pd.read_excel(path_all_mix_data_lstm_att+'mix_train_test_data_'+city+'_lstm_att.xlsx') \n",
    "  selected_result = df.sort_values(by = 'rmse', ascending=True) # Sắp xếp theo rmse nhỏ nhất\n",
    "  selected_result = selected_result.head(lenght_whole_data_city) # lấy 251 phần tử đầu tiên\n",
    "  selected_result= selected_result.sort_index()   \n",
    "  \n",
    "  # Tạo meta testset\n",
    "  # Meta testset sẽ có lenght = 36 + lookback_window \n",
    "  meta_test_observed = selected_result['Observed'].iloc[-meta_lookback_window-36:]\n",
    "  meta_test_observed = meta_test_observed.reset_index(drop=True) \n",
    "\n",
    "  result_test = selected_result['Train Prediction'].iloc[-meta_lookback_window-36:-36] # Lấy buffer cho phần lookback_window\n",
    "  result_test = result_test.append(selected_result['Test Prediction'].tail(36))\n",
    "  meta_test_lstm_att = result_test.reset_index(drop=True)  \n",
    "  \n",
    "  # Tạo meta trainset\n",
    "  meta_train_observed = selected_result['Observed'].iloc[meta_lookback_window:-36]\n",
    "  meta_train_observed = meta_train_observed.reset_index(drop=True)\n",
    "  result_train = selected_result['Train Prediction'].iloc[meta_lookback_window:-36]\n",
    "  meta_train_lstm_att = result_train.reset_index(drop=True)\n",
    "\n",
    "\n",
    "  #############################################\n",
    "  # Xử lý data của Transformer ứng với mỗi city\n",
    "  df = pd.read_excel(path_all_mix_data_tf+'mix_train_test_data_'+city+'_tf.xlsx') \n",
    "  selected_result = df.sort_values(by = 'rmse', ascending=True) # Sắp xếp theo rmse nhỏ nhất\n",
    "  selected_result = selected_result.head(lenght_whole_data_city) # lấy 251 phần tử đầu tiên\n",
    "  selected_result= selected_result.sort_index()   \n",
    "  \n",
    "  # Tạo meta testset\n",
    "  # Meta testset sẽ có lenght = 36 + lookback_window \n",
    "  meta_test_observed = selected_result['Observed'].iloc[-meta_lookback_window-36:]\n",
    "  meta_test_observed = meta_test_observed.reset_index(drop=True) \n",
    "\n",
    "  result_test = selected_result['Train Prediction'].iloc[-meta_lookback_window-36:-36] # Lấy buffer cho phần lookback_window\n",
    "  result_test = result_test.append(selected_result['Test Prediction'].tail(36)) # Lấy 36 tháng cuối\n",
    "  meta_test_tf = result_test.reset_index(drop=True)  \n",
    "  \n",
    "  # Tạo meta trainset\n",
    "  meta_train_observed = selected_result['Observed'].iloc[meta_lookback_window:-36] # Lấy từ meta_lookback_window cho đến -36 (3 năm cuối)\n",
    "  meta_train_observed = meta_train_observed.reset_index(drop=True)\n",
    "  result_train = selected_result['Train Prediction'].iloc[meta_lookback_window:-36]\n",
    "  meta_train_tf = result_train.reset_index(drop=True)\n",
    "\n",
    "  \n",
    "  meta_test_set['cnn_pred'] = meta_test_cnn\n",
    "  meta_test_set['lstm_pred'] = meta_test_lstm\n",
    "  meta_test_set['lstm_att_pred'] = meta_test_lstm_att\n",
    "  meta_test_set['tf_pred'] = meta_test_tf\n",
    "  meta_test_set['Observed'] = meta_test_observed\n",
    "   \n",
    "  meta_train_set['cnn_pred'] = meta_train_cnn\n",
    "  meta_train_set['lstm_pred'] = meta_train_lstm\n",
    "  meta_train_set['lstm_att_pred'] = meta_train_lstm_att \n",
    "  meta_train_set['tf_pred'] = meta_train_tf  \n",
    "  meta_train_set['Observed'] = meta_train_observed\n",
    "\n",
    "  meta_test_set_city[city] = meta_test_set # test set có chiều dài 39\n",
    "  meta_train_set_city[city] = meta_train_set # train set có chiều dài 212 = 252 -36 (train) - 1 (station) - 3 (meta_lookback_window)\n",
    "\n",
    "  # Đoạn này làm thêm. Nối dài meta_test_set_city và meta_train_set_city\n",
    "  # lưu ý đoạn này sẽ tạo ra data có chiều dài = 252 - 1 (bỏ đi 1 tháng đầu do xử lý stationary) - meta_lookback_window\n",
    "  df = meta_train_set.append(meta_test_set[3:])\n",
    "  df = df.reset_index(drop=True)\n",
    "  # range date từ 1 + lookback_window tháng đầu tiên\n",
    "  df['year_month'] = pd.Series(pd.date_range(\"1997-05-01\", periods=248, freq=\"M\"))  \n",
    "  meta_data_set_city[city] = df\n",
    "  df.to_excel(prj_path_result_ensemble+'/meta_data/meta_data_'+city+'.xlsx')"
   ]
  },
  {
   "cell_type": "code",
   "execution_count": 6,
   "metadata": {},
   "outputs": [],
   "source": [
    "# meta_train_set_city['Lạng Sơn'].shape"
   ]
  },
  {
   "cell_type": "markdown",
   "metadata": {},
   "source": [
    "# Danh sách các based Model và các Combination có thể của nó"
   ]
  },
  {
   "cell_type": "code",
   "execution_count": 7,
   "metadata": {},
   "outputs": [
    {
     "data": {
      "text/plain": [
       "[('cnn_pred', 'lstm_att_pred'),\n",
       " ('cnn_pred', 'lstm_pred'),\n",
       " ('cnn_pred', 'tf_pred'),\n",
       " ('lstm_att_pred', 'lstm_pred'),\n",
       " ('lstm_att_pred', 'tf_pred'),\n",
       " ('lstm_pred', 'tf_pred'),\n",
       " ('cnn_pred', 'lstm_att_pred', 'lstm_pred'),\n",
       " ('cnn_pred', 'lstm_att_pred', 'tf_pred'),\n",
       " ('cnn_pred', 'lstm_pred', 'tf_pred'),\n",
       " ('lstm_att_pred', 'lstm_pred', 'tf_pred'),\n",
       " ('cnn_pred', 'lstm_att_pred', 'lstm_pred', 'tf_pred')]"
      ]
     },
     "execution_count": 7,
     "metadata": {},
     "output_type": "execute_result"
    }
   ],
   "source": [
    "# Danh sách các based Model và các Combination có thể của nó\n",
    "list_based_model = ['cnn_pred','lstm_att_pred','lstm_pred','tf_pred']\n",
    "\n",
    "combs_features = list(combinations(list_based_model[0:], 2)) + list(combinations(list_based_model[0:], 3)) + list(combinations(list_based_model[0:], 4))\n",
    "\n",
    "# list_based_model = ['cnn_pred','lstm_att_pred','lstm_pred','tf_pred']\n",
    "\n",
    "# combs_features = list(combinations(list_based_model[0:], 3)) \n",
    "combs_features"
   ]
  },
  {
   "cell_type": "markdown",
   "metadata": {},
   "source": [
    "# Selected 5 Combination"
   ]
  },
  {
   "cell_type": "code",
   "execution_count": 8,
   "metadata": {},
   "outputs": [],
   "source": [
    "# # Bộ này theo top 7 ( rmse va mae)\n",
    "selected_combs = ['LSTM*cnn_pred-tf_pred-Observed',\n",
    "                  'LSTM*lstm_att_pred-lstm_pred-Observed',    \n",
    "\n",
    "                  'LSTM*cnn_pred-lstm_att_pred-tf_pred-Observed',\n",
    "                  'CNN*lstm_att_pred-lstm_pred-Observed', \n",
    "                  'LSTM*cnn_pred-lstm_pred-Observed',\n",
    "\n",
    "                  'LSTM*lstm_att_pred-lstm_pred-tf_pred-Observed',                    \n",
    "                  'CNN*lstm_att_pred-tf_pred-Observed'      \n",
    "                 ]\n",
    "\n",
    "def is_in_Selected_combination(comb_string = ''):\n",
    "    return any(comb_string in x for x in selected_combs)\n"
   ]
  },
  {
   "cell_type": "markdown",
   "metadata": {},
   "source": [
    "# Support Functions and Train class "
   ]
  },
  {
   "cell_type": "code",
   "execution_count": 9,
   "metadata": {},
   "outputs": [],
   "source": [
    "import requests\n",
    "\n",
    "def send_to_telegram(message):\n",
    "\n",
    "    apiToken = '5908735099:AAGVSLrW62aXPBP-GrMvxoVgMsuJxXJpP1Q'\n",
    "    chatID = '@ptn_announcement'\n",
    "    apiURL = f'https://api.telegram.org/bot{apiToken}/sendMessage'\n",
    "\n",
    "    try:\n",
    "        response = requests.post(apiURL, json={'chat_id': chatID, 'text': message})\n",
    "        print(response.text)\n",
    "    except Exception as e:\n",
    "        print(e)\n",
    "\n",
    "\n",
    "def seed_everything(seed: int):\n",
    "    import random, os    \n",
    "    random.seed(seed)\n",
    "    np.random.seed(seed)\n",
    "    torch.manual_seed(seed)\n",
    "\n",
    "seed_everything(42)\n",
    "\n",
    "# Set hyperparameters as args using the Configuration class\n",
    "class Configuration():\n",
    "    def __init__(self):\n",
    "      # lấy bộ test dài 36 tháng = 3 năm\n",
    "        self.test_size = 36\n",
    "        # là nhìn vào dữ liệu trước 3 tháng và dự phóng        \n",
    "        self.look_back = 3\n",
    "        # dự phóng 3 tháng\n",
    "        self.n_predicted_month = 3\n",
    "        self.n_features = 3\n",
    "        self.seed = 42\n",
    "        # mỗi phần tử x trong tập suppervise có độ lớn là 16 = 16 tháng\n",
    "        self.batch_size = 16\n",
    "        # self.device = torch.device(\"cuda\")\n",
    "        self.device = torch.device(\"cuda:0\" if torch.cuda.is_available() else \"cpu\")\n",
    "        self.epochs = 300\n",
    "     \n",
    "\n",
    "# Biến args lưu giá trị Global.\n",
    "args = Configuration()\n",
    "\n",
    "\n",
    "# Lưu ý sau khi stationnary thì dòng đầu tiên trừ cho dòng trước nữa là ko có cho nên về cơ bản sẽ thành NaN\n",
    "# Cần remove dòng đầu tiên ra khỏi data để train và test. Cho nên cơ bản là data sau khi in ra sẽ thiếu 1 đơn vị đầu tiên\n",
    "def convert_to_stationary(city_data):\n",
    "    \"\"\"Subtracts previous value for all cols except disease rates\"\"\"\n",
    "    for col_name in city_data.columns:\n",
    "        if col_name != 'Diarrhoea_rates':\n",
    "            try:\n",
    "                city_data[col_name] = city_data[col_name] - city_data[col_name].shift()\n",
    "            except:\n",
    "                print(col_name)\n",
    "    return city_data\n",
    "\n",
    "def impute_missing_value(city_data):\n",
    "    \"\"\"\n",
    "    Cơ bản dữ liệu bị thiếu sót rất nhiều: Như Điện Biên 1997 -2003 là thiếu dữ liệu về bệnh\n",
    "    Hàm này sẽ tự sinh ra dữ liệu bị thiếu. Nếu tháng nào không có số liệu thì tính như sau:\n",
    "    12 tháng đầu không có số liệu thì gán = 0\n",
    "    tháng 13-24 không có số liệu, sẽ lấy giá trị của tháng cùng kỳ năm trước\n",
    "    tháng từ 24 trở đi sẽ lấy giá trị nhỏ nhất của 2 tháng cùng kỳ trong 2 năm gần nhất.\n",
    "    Do Điện Biên bằng 0 nên sau khi xử lý từ 1997 -2003 là đều = 0.  \n",
    "    \"\"\"\n",
    "    for col in city_data.columns:\n",
    "        for index in range(len(city_data[col])):\n",
    "            if np.isnan(city_data[col].iloc[index]):\n",
    "                if index < 12:\n",
    "                    city_data[col].iloc[index] = 0\n",
    "                elif index >= 12 and index <= 24:\n",
    "                    city_data[col].iloc[index] = city_data[col].iloc[index - 12]\n",
    "                else:\n",
    "                    city_data[col].iloc[index] = min(city_data[col].iloc[index - 12], city_data[col].iloc[index - 24])\n",
    "    return city_data\n",
    "\n",
    "def split_data(data, look_back ):\n",
    "    \"\"\"Splits data into train and test sets based on args (Configuration class)\"\"\"\n",
    "    train = data[: -args.test_size]    \n",
    "    test = data[-args.test_size - look_back: ]\n",
    "    return train, test\n",
    "\n",
    "def to_supervised(data, d_in=args.look_back, d_out=args.n_predicted_month, features_list=[]):\n",
    "    \"\"\"\n",
    "    Frames time-series as supervised learning dataset.\n",
    "    \n",
    "    Args:\n",
    "      d_in: lookback window\n",
    "      d_out: number of predicted months\n",
    "      features_list: list of all features **where last col is the disease incidence**\n",
    "\n",
    "    Returns:\n",
    "      Numpy arrays of disease incidence (y) and other predictors (X)\n",
    "    \"\"\"\n",
    "    X, y = list(), list()\n",
    "    for index, _ in enumerate(data):\n",
    "        in_end = index + d_in\n",
    "        out_end = in_end + d_out\n",
    "        if out_end <= len(data):\n",
    "            if len(features_list) == 0 :\n",
    "                X.append(data[index: in_end, :])\n",
    "            else:\n",
    "                X.append(data[index: in_end, features_list])\n",
    "            y.append(data[in_end: out_end, -1])\n",
    "    return np.array(X), np.array(y)\n",
    "\n",
    "\n",
    "def get_data(train_np, test_np, batch_size, list_selected_features, origin_city_meta_data):\n",
    "    \"\"\"\n",
    "    Returns important feature list and data formatted for input into Pytorch \n",
    "    models\n",
    "    \"\"\" \n",
    "    # origin_city_meta_data chứa data mẫu để lấy index \n",
    "    # important_features = arrary index nên ta phải truyền indexex của columns\n",
    "    important_features = [origin_city_meta_data.columns.get_loc(c) for c in list_selected_features if c in origin_city_meta_data]  \n",
    "\n",
    "    train_X, train_y = to_supervised(train_np, features_list=important_features)\n",
    "    test_X, test_y = to_supervised(test_np, features_list=important_features)\n",
    "    train_tensor = TensorDataset(torch.from_numpy(train_X), torch.from_numpy(train_y))\n",
    "    test_tensor = (torch.from_numpy(test_X), torch.from_numpy(test_y))\n",
    "\n",
    "    train_loader = DataLoader(train_tensor, batch_size=batch_size, shuffle=True)\n",
    "\n",
    "    return important_features, train_loader, test_tensor\n",
    "\n",
    "#Define Pytorch LSTM model\n",
    "class MultiVariateLSTM(nn.Module):\n",
    "    def __init__(self, n_feature=3, n_layers=2, hidden_size=50):\n",
    "        super(MultiVariateLSTM, self).__init__()\n",
    "        self.lstm = nn.LSTM(input_size=n_feature, hidden_size=hidden_size, num_layers=n_layers, batch_first=True)\n",
    "        self.linear = nn.Linear(hidden_size, args.n_predicted_month)\n",
    "        self.loss_fn = nn.MSELoss()\n",
    "        self.sigma = nn.Parameter(torch.ones(args.n_predicted_month))\n",
    "    \n",
    "    def forward(self, X_batch, y_batch=None):\n",
    "        output, (last_hidden, _) = self.lstm(X_batch)\n",
    "        last_hidden_vector = output[:, -1, :]\n",
    "        y_predicted = self.linear(last_hidden_vector)\n",
    "        if y_batch != None:\n",
    "            assert y_predicted.size() == y_batch.size()\n",
    "            loss = self.loss_fn(y_predicted, y_batch)\n",
    "            loss = 0.5 * loss / self.sigma**2\n",
    "            loss = loss.sum() + torch.log(1 + self.sigma.prod())\n",
    "            return y_predicted, loss\n",
    "            #return y_predicted, self.loss_fn(y_predicted, y_batch)\n",
    "        else:\n",
    "            return y_predicted\n",
    "    \n",
    "    def predict(self, X):\n",
    "        X = torch.tensor(X, device=args.device)\n",
    "        return self.forward(X)\n",
    "\n",
    "#Define Pytorch LSTM-ATT model\n",
    "class MultiVariateLSTM_Attention(nn.Module):\n",
    "    def __init__(self, n_feature=3, n_layers=2, hidden_size=50):\n",
    "        super(MultiVariateLSTM_Attention, self).__init__()\n",
    "        self.lstm = nn.LSTM(input_size=n_feature, hidden_size=hidden_size, num_layers=n_layers, batch_first=True)\n",
    "        self.attention_linear = nn.Linear(hidden_size, hidden_size)\n",
    "        # self.linear = nn.Linear(hidden_size*2, args.n_predicted_month)\n",
    "        self.linear = nn.Linear(hidden_size, args.n_predicted_month)\n",
    "        self.loss_fn = nn.MSELoss()\n",
    "        self.sigma = nn.Parameter(torch.ones(args.n_predicted_month))\n",
    "    \n",
    "    def forward(self, X_batch, y_batch=None):\n",
    "        output, (last_hidden, _) = self.lstm(X_batch)\n",
    "        last_hidden_vector = last_hidden[-1]\n",
    "        remain_hidden_vector = output\n",
    "        e_t = remain_hidden_vector.bmm(self.attention_linear(last_hidden_vector).unsqueeze(2)).squeeze(-1)\n",
    "        alpha_t = F.softmax(e_t, dim=1)\n",
    "        attenion_vector = remain_hidden_vector.transpose(2, 1).bmm(alpha_t.unsqueeze(2)).squeeze(-1)\n",
    "        # combine_vector = torch.cat((last_hidden_vector, attenion_vector), dim=1)\n",
    "        # combine_vector = last_hidden_vector + attenion_vector\n",
    "        y_predicted = self.linear(attenion_vector)\n",
    "        if y_batch != None:\n",
    "            assert y_predicted.size() == y_batch.size()\n",
    "            loss = self.loss_fn(y_predicted, y_batch)\n",
    "            loss = 0.5 * loss / self.sigma**2\n",
    "            loss = loss.sum() + torch.log(1 + self.sigma.prod())\n",
    "            return y_predicted, loss\n",
    "            # return y_predicted, self.loss_fn(y_predicted, y_batch)\n",
    "        else:\n",
    "            return y_predicted\n",
    "    \n",
    "    def predict(self, X):\n",
    "        X = torch.tensor(X, device=args.device)\n",
    "        return self.forward(X)\n",
    "\n",
    "# Define Pytorch CNN model\n",
    "class MultivariateCNN(nn.Module):\n",
    "    def __init__(self, num_filters=[100, 100, 100], dropout=0.01):\n",
    "        super(MultivariateCNN, self).__init__()\n",
    "        self.loss_fn = loss = nn.MSELoss()\n",
    "        self.filter_sizes = [1, 2, 3]\n",
    "        self.conv1d_list = nn.ModuleList([nn.Conv1d(args.n_features, num_filters[i], self.filter_sizes[i]) for i in range(len(self.filter_sizes))])\n",
    "        self.linear = nn.Linear(np.sum(num_filters), args.n_predicted_month)\n",
    "        self.dropout = nn.Dropout(dropout)\n",
    "        self.sigma = nn.Parameter(torch.ones(args.n_predicted_month))\n",
    "\n",
    "    def forward(self, X_batch, y_batch=None):\n",
    "        X_batch = X_batch.permute(0, 2, 1)  #(batch_size, n_features, n_look_back)\n",
    "        X_conv_list = [F.relu(conv1d(X_batch)) for conv1d in self.conv1d_list]\n",
    "        X_pool_list = [F.max_pool1d(x_conv, kernel_size=x_conv.shape[2]) for x_conv in X_conv_list]\n",
    "        X_fc = torch.cat([x_pool.squeeze(dim=2) for x_pool in X_pool_list], dim=1)\n",
    "        y_predicted = self.linear(self.dropout(X_fc))\n",
    "        if y_batch != None:\n",
    "            assert y_predicted.size() == y_batch.size()\n",
    "            loss = self.loss_fn(y_predicted, y_batch)\n",
    "            loss = 0.5 * loss / self.sigma**2\n",
    "            loss = loss.sum() + torch.log(1 + self.sigma.prod())\n",
    "            return y_predicted, loss\n",
    "            # return y_predicted, self.loss_fn(y_predicted, y_batch)\n",
    "        else:\n",
    "            return y_predicted\n",
    "\n",
    "    def predict(self, X):\n",
    "        X = torch.tensor(X, device=args.device)\n",
    "        return self.forward(X)\n",
    "\n",
    "# Transformer Model\n",
    "# Transformer Model\n",
    "class PositionalEncoder(nn.Module):\n",
    "    def __init__(self, n_feature=3, dropout=0.1, max_length=24):\n",
    "        super().__init__()\n",
    "        \n",
    "        self.hidden_dim = n_feature\n",
    "        self.max_length = max_length\n",
    "        self.dropout = nn.Dropout(dropout)\n",
    "        \n",
    "        pe = torch.zeros(max_length, self.hidden_dim)\n",
    "        for pos in range(max_length):\n",
    "            for i in range(0, self.hidden_dim, 2):\n",
    "                pe[pos, i] = math.sin(pos/(10000**(2*i/self.hidden_dim)))\n",
    "                if i + 1 < self.hidden_dim:\n",
    "                    pe[pos, i+1] = math.cos(pos/(10000**((2*i+1)/self.hidden_dim)))\n",
    "        pe = pe.unsqueeze(0)        \n",
    "        self.register_buffer('pe', pe)\n",
    "    \n",
    "    def forward(self, x):\n",
    "        x = x*math.sqrt(self.hidden_dim)\n",
    "        length = x.size(1)\n",
    "        pe = Variable(self.pe[:, :length], requires_grad=False)\n",
    "        if x.is_cuda:\n",
    "            pe.cuda()\n",
    "        x = x + pe\n",
    "        x = self.dropout(x)\n",
    "        \n",
    "        return x\n",
    "\n",
    "class TransformerModel(nn.Module):\n",
    "    def __init__(self, d_input, n_look_back, hidden_size, n_layers, dropout=0.5):\n",
    "        super(TransformerModel, self).__init__()\n",
    "        self.hidden_size = hidden_size\n",
    "\n",
    "        self.pe = PositionalEncoder(n_feature=args.n_features, dropout=dropout)\n",
    "\n",
    "        encoder_layers = nn.TransformerEncoderLayer(d_model=d_input, nhead=d_input, dim_feedforward=hidden_size, dropout=dropout, activation='gelu')\n",
    "        # encoder_layers = nn.TransformerEncoderLayer(d_model=d_input, nhead=d_input, dropout=dropout, activation='gelu')\n",
    "        self.transformer_encoder = nn.TransformerEncoder(encoder_layers, n_layers)\n",
    "        self.decoder = nn.Linear(d_input*n_look_back, args.n_predicted_month)\n",
    "\n",
    "        self.sigma = nn.Parameter(torch.ones(args.n_predicted_month))\n",
    "        \n",
    "        self.loss_fn = nn.MSELoss()\n",
    "        \n",
    "    \n",
    "    def forward(self, X_batch, y_batch=None):\n",
    "        X_batch = self.pe(X_batch)\n",
    "        X_batch = self.transformer_encoder(X_batch)\n",
    "        X_batch = X_batch.view(X_batch.size(0), -1)\n",
    "        \n",
    "        y_predicted = self.decoder(X_batch)\n",
    "        if y_batch != None:\n",
    "            assert y_predicted.size() == y_batch.size()\n",
    "            loss = self.loss_fn(y_predicted, y_batch)\n",
    "            loss = 0.5 * loss / self.sigma**2\n",
    "            loss = loss.sum() + torch.log(1 + self.sigma.prod())\n",
    "            return y_predicted, loss\n",
    "        else:\n",
    "            return y_predicted\n",
    "        return X_batch\n",
    "    \n",
    "    def predict(self, X):\n",
    "        with torch.no_grad():\n",
    "            X = torch.tensor(X, device=args.device)\n",
    "        return self.forward(X).squeeze()\n",
    "\n",
    "# Create class to train and evaluate models\n",
    "class Trainer():\n",
    "    def __init__(self, city, model_type, learning_rate, important_features, train_loader, test_tensor, n_layers=2, hidden_size=128, num_filters=[100, 100, 100], dropout=0.01):\n",
    "        \"\"\"\n",
    "        Initialise trainer, allowing input of LSTM, LSTM-ATT, or CNN \n",
    "        hyperparameters. Adam optimiser used for all models.\n",
    "        \"\"\"\n",
    "        self.model_type = model_type    \n",
    "        self.city = city    \n",
    "        self.model = self.init_model(model_type, n_layers, hidden_size, num_filters, dropout, city)\n",
    "        self.model.double().to(args.device)\n",
    "        self.optimizer = torch.optim.Adam(self.model.parameters(), lr=learning_rate)\n",
    "        self.important_features, self.train_loader, self.test_tensor = important_features, train_loader, test_tensor\n",
    "    \n",
    "    def init_model(self, model_type, n_layers, hidden_size, num_filters, dropout, city):        \n",
    "        #Get hyper param by name and set for n_layers, hidden_size, num_filters, dropout and overwrite the input param  \n",
    "        # n_layers, hidden_size,num_filters, dropout= get_opt_param_by_name( algo = model_type, city = city)\n",
    "    \n",
    "        \"\"\"Initialise a model based on whether LSTM, LSTM-ATT, or CNN is chosen.\"\"\"\n",
    "        if model_type.lower() == 'lstm':\n",
    "            model = MultiVariateLSTM(args.n_features, n_layers, hidden_size)\n",
    "        elif model_type.lower() == 'lstm_attention':\n",
    "            model = MultiVariateLSTM_Attention(args.n_features, n_layers, hidden_size)\n",
    "        elif model_type.lower() == 'cnn':\n",
    "            model = MultivariateCNN(num_filters, dropout)\n",
    "        elif model_type.lower() == 'transformers':\n",
    "            model = TransformerModel(d_input=args.n_features, n_look_back=args.look_back, hidden_size=hidden_size, n_layers=n_layers, dropout=dropout)\n",
    "        return model\n",
    "\n",
    "    def step(self, batch):\n",
    "        self.model.train()\n",
    "        X_batch, y_batch = tuple(t.to(args.device) for t in batch)\n",
    "        self.optimizer.zero_grad()\n",
    "        y_pred, loss = self.model.forward(X_batch, y_batch)\n",
    "        loss.backward()\n",
    "        self.optimizer.step()\n",
    "        return loss.mean().item()\n",
    "\n",
    "    def validation(self):\n",
    "        self.model.eval()\n",
    "        eval_loss = 0.0\n",
    "\n",
    "        result = {}\n",
    "\n",
    "        y_true = np.array([])\n",
    "        y_pred = np.array([])\n",
    "\n",
    "        X_batch, y_batch = tuple(t.to(args.device) for t in self.test_tensor)\n",
    "        with torch.no_grad():\n",
    "            outputs, loss = self.model.forward(X_batch, y_batch)\n",
    "            eval_loss = loss.mean().item()\n",
    "\n",
    "        return eval_loss\n",
    "\n",
    "    def train(self, epochs=20):\n",
    "        # print('param of model')\n",
    "        # print('hidensize',self.model.hidden_size)\n",
    "        # print('nlayer',self.model.n_layers)  \n",
    "        best_lost = float(\"inf\")\n",
    "        best_model = None\n",
    "        for epoch in range(epochs):\n",
    "            total_loss = 0.0\n",
    "            for batch in self.train_loader:\n",
    "                loss = self.step(batch)\n",
    "                total_loss += loss\n",
    "            train_loss = total_loss/len(self.train_loader)\n",
    "            eval_loss = self.validation()\n",
    "            if eval_loss < best_lost:\n",
    "                best_lost = eval_loss\n",
    "                best_model = copy.deepcopy(self.model)\n",
    "            if (epoch + 1) == epochs or (epoch + 1) in [c + 1 for c in range(epochs) if c % int(epochs/4) == 0]:\n",
    "                print(f\"Epoch: {epoch:2}/{epochs:2} - train_loss: {train_loss:.4f} - test_loss: {eval_loss:4f}\")\n",
    "        self.model = best_model\n",
    "        self.model.eval()\n",
    "        return None\n",
    "\n",
    "\n",
    "\n",
    "    # Lưu model vào trong thư mục models\n",
    "    def save_model_to(self, path = '', city =''):       \n",
    "        torch.save(self.model, path)\n",
    "\n",
    "    def load_model_to(self, path = ''):       \n",
    "        return torch.load(path)\n",
    "\n",
    "    def evaluate_model(self, np_data=None, plot=True, scaled=True, city=None, k_steps=None, y_scaler =None):\n",
    "        assert scaled, \"data must be scaled\"\n",
    "        self.model.eval()\n",
    "        tensor_data = torch.from_numpy(np_data)\n",
    "        rmse_list = []\n",
    "        mae_list = [] \n",
    "        mape_list = []\n",
    "\n",
    "        y_predicted_list = []\n",
    "        y_true_list = []\n",
    "\n",
    "        for k_steps in range(1, args.n_predicted_month + 1):\n",
    "            y_predicted = []\n",
    "            y_true = []\n",
    "            for index in range(tensor_data.size(0) - args.look_back):\n",
    "                X = tensor_data[index: index + args.look_back, self.important_features]\n",
    "                # yhat = self.model.predict(X.unsqueeze(0)).squeeze()\n",
    "\n",
    "                yhat = self.model.predict(X.unsqueeze(0))\n",
    "                yhat = yhat.squeeze()\n",
    "\n",
    "                y_predicted.append(yhat.detach().cpu().numpy()[k_steps - 1])\n",
    "                y_true.append(tensor_data[index + args.look_back, -1].detach().cpu().numpy())\n",
    "\n",
    "            y_predicted = y_scaler.inverse_transform(np.array(y_predicted).reshape(-1, 1)).reshape(-1, )\n",
    "            y_true = y_scaler.inverse_transform(np.array(y_true).reshape(-1, 1)).reshape(-1, )\n",
    "\n",
    "            \n",
    "\n",
    "            rmse = mean_squared_error(y_true, y_predicted, squared=False)\n",
    "            mae = mean_absolute_error(y_true, y_predicted)\n",
    "            mape = mean_absolute_percentage_error(y_true, y_predicted)\n",
    "\n",
    "            rmse_list.append(rmse)\n",
    "            mae_list.append(mae)\n",
    "            mape_list.append(mape)\n",
    "\n",
    "            print('City: '+self.city+'  _algo:'+self.model_type+'  -RMSE: '+str(rmse))          \n",
    "            if plot==True:\n",
    "              plt.grid(True)\n",
    "              plt.plot(y_predicted, label='predicted')\n",
    "              plt.plot(y_true, label='actual')\n",
    "              plt.title(f\"k-steps = {k_steps} - city: \"+self.city+'  _algo:'+self.model_type+'  -RMSE: '+str(rmse))\n",
    "              plt.legend()\n",
    "              plt.show()\n",
    "\n",
    "              plt.show()\n",
    "            y_predicted_list.append(y_predicted)\n",
    "            y_true_list.append(y_true)\n",
    "\n",
    "        return y_true_list, y_predicted_list, rmse_list, mae_list, mape_list"
   ]
  },
  {
   "cell_type": "markdown",
   "metadata": {},
   "source": [
    "# Get optimized Hyper param"
   ]
  },
  {
   "cell_type": "code",
   "execution_count": 10,
   "metadata": {},
   "outputs": [
    {
     "data": {
      "text/plain": [
       "(3, 270, 36, 6, 0.001205121044593835, '', 0.4761287407623291)"
      ]
     },
     "execution_count": 10,
     "metadata": {},
     "output_type": "execute_result"
    }
   ],
   "source": [
    "def convert_str_num_filter_array(str_filter = ''):  \n",
    "  arr_filter = str_filter.split(',')  \n",
    "  int_arr_filter= [int(x) for x in arr_filter]\n",
    "  return int_arr_filter\n",
    "\n",
    "def concate_2_filter_str(listfilter = ''):\n",
    "  string_filter = ','.join(str(e) for e in listfilter)\n",
    "  return string_filter\n",
    "\n",
    "opt_param_cnn = pd.read_excel(prj_path_opt+'diarrhoea_opt_hyperparam_cnn.xlsx', index_col = 'City')\n",
    "opt_param_lstm = pd.read_excel(prj_path_opt+'diarrhoea_opt_hyperparam_lstm.xlsx', index_col = 'City')\n",
    "opt_param_lstm_att = pd.read_excel(prj_path_opt+'diarrhoea_opt_hyperparam_lstm_att.xlsx', index_col = 'City')\n",
    "opt_param_transformer = pd.read_excel(prj_path_opt+'diarrhoea_opt_hyperparam_transformer.xlsx', index_col = 'City')\n",
    "\n",
    "def get_opt_param_by_name(algo = 'transformers', city = None):\n",
    "  if algo == 'cnn':\n",
    "    city_param = opt_param_cnn.loc[city]\n",
    "    #load  param\n",
    "    n_layers = ''\n",
    "    hidden_size = ''\n",
    "    num_filters = convert_str_num_filter_array(city_param['Num. filters'])\n",
    "    dropout = float(city_param['Dropout rate'])\n",
    "    learning_rate = float(city_param['Learning rate'])\n",
    "    epoch = int(city_param['Epochs'])\n",
    "    lookback_window = int(city_param['Lookback Window'])\n",
    "  elif algo == 'lstm':\n",
    "    city_param = opt_param_lstm.loc[city]\n",
    "    #load  param\n",
    "    n_layers = int(city_param['n Layers'])\n",
    "    hidden_size = int(city_param['Hiden Size'])\n",
    "    num_filters = ''\n",
    "    dropout = ''\n",
    "    learning_rate = float(city_param['Learning rate'])\n",
    "    epoch = int(city_param['Epochs'])\n",
    "    lookback_window = int(city_param['Lookback Window'])\n",
    "  elif algo == 'lstm_attention':\n",
    "    city_param = opt_param_lstm_att.loc[city]\n",
    "    #load  param\n",
    "    n_layers = int(city_param['n Layers'])\n",
    "    hidden_size = int(city_param['Hiden Size'])\n",
    "    num_filters = ''\n",
    "    dropout = ''\n",
    "    learning_rate = float(city_param['Learning rate'])\n",
    "    epoch = int(city_param['Epochs'])\n",
    "    lookback_window = int(city_param['Lookback Window'])\n",
    "  elif algo == 'transformers':\n",
    "    city_param = opt_param_transformer.loc[city]\n",
    "    #load  param\n",
    "    n_layers = int(city_param['n Layers'])\n",
    "    hidden_size = int(city_param['Hidden Size'])\n",
    "    num_filters = ''\n",
    "    dropout = float(city_param['Dropout rate'])\n",
    "    learning_rate = float(city_param['Learning rate'])\n",
    "    epoch = int(city_param['Epochs'])\n",
    "    lookback_window = int(city_param['Lookback Window'])\n",
    "  return n_layers, hidden_size, num_filters, dropout, learning_rate, epoch, lookback_window\n",
    "\n",
    "\n",
    "# Manual Check param before train\n",
    "n_layers, hidden_size, num_filters, dropout, learning_rate, epoch, lookback_window= get_opt_param_by_name(algo='transformers', city='Cao Bằng')\n",
    "lookback_window,epoch, hidden_size, n_layers,learning_rate, num_filters, dropout"
   ]
  },
  {
   "cell_type": "markdown",
   "metadata": {},
   "source": [
    "# Đoạn này nhái Cross validation Train/Test set. Tạo 1 bộ validation duy nhất để chạy optimize"
   ]
  },
  {
   "cell_type": "code",
   "execution_count": 11,
   "metadata": {},
   "outputs": [
    {
     "data": {
      "text/plain": [
       "1"
      ]
     },
     "execution_count": 11,
     "metadata": {},
     "output_type": "execute_result"
    }
   ],
   "source": [
    "# Cross validation chỉ trên chiều dài của bộ train = 212\n",
    "# tạo l_train_indices\\l_test_indices\n",
    "data = list(range(212))\n",
    "min_train_size = 176 # Chiều dài ban đầu train size = 6 năm = 72\n",
    "test_size = 36 # chiều dài test size 36 tháng\n",
    "l_train_indices= []\n",
    "l_test_indices = []\n",
    "for i in range(min_train_size, len(data)-test_size+1):\n",
    "    train = np.array(data[0:i])\n",
    "    test = np.array(data[i:i+test_size])    \n",
    "    l_train_indices.append(train)\n",
    "    l_test_indices.append(test)\n",
    "\n",
    "len(l_test_indices)"
   ]
  },
  {
   "cell_type": "markdown",
   "metadata": {},
   "source": [
    "# Function Tạo và Predict. Important (epoch = 1 for test)"
   ]
  },
  {
   "cell_type": "code",
   "execution_count": 12,
   "metadata": {},
   "outputs": [],
   "source": [
    "# def do_train_predict(city ='', algo = '', list_selected_features = '', origin_city_meta_test_set= '', y_scaler = '', s_selected_features= '', train ='', test ='', sample_idx ='', combination_idx= ''):\n",
    "    \n",
    "#     metric_reslt = pd.DataFrame()\n",
    "#     n_layers, hidden_size, num_filters, dropout, learning_rate, epoch, lookback_window = get_opt_param_by_name( algo = algo, city = city)\n",
    "#     # Get data to run model\n",
    "#     important_features, train_loader, test_tensor = get_data(train, test, args.batch_size, list_selected_features, origin_city_meta_test_set)   \n",
    "\n",
    "#     epoch = 1 # comment when do experiment\n",
    "    \n",
    "#     if( algo =='cnn'): \n",
    "#         algo = 'CNN'    # upper case only\n",
    "#         trainer = Trainer(\n",
    "#                             model_type='cnn',  \n",
    "#                             city = city,                    \n",
    "#                             learning_rate=learning_rate,\n",
    "#                             important_features=important_features,\n",
    "#                             train_loader=train_loader,\n",
    "#                             test_tensor=test_tensor,\n",
    "#                             num_filters= num_filters, \n",
    "#                             dropout=dropout )\n",
    "\n",
    "#     if( algo =='lstm'):\n",
    "#         algo = 'LSTM'    # upper case only        \n",
    "#         trainer = Trainer(\n",
    "#                             model_type='lstm', \n",
    "#                             city = city,\n",
    "#                             learning_rate=learning_rate,\n",
    "#                             important_features=important_features,\n",
    "#                             train_loader=train_loader,\n",
    "#                             test_tensor=test_tensor,\n",
    "#                             n_layers=n_layers,\n",
    "#                             hidden_size=hidden_size)\n",
    "\n",
    "#     if( algo =='lstm_attention'): \n",
    "#         algo = 'LSTM ATT'    # upper case only       \n",
    "#         trainer = Trainer(\n",
    "#                             model_type= 'lstm_attention',\n",
    "#                             city = city,\n",
    "#                             learning_rate= learning_rate,\n",
    "#                             important_features=important_features,\n",
    "#                             train_loader=train_loader,\n",
    "#                             test_tensor=test_tensor,\n",
    "#                             n_layers= n_layers,\n",
    "#                             hidden_size=hidden_size )\n",
    "\n",
    "#     if( algo =='transformers'): \n",
    "#         algo = 'TF'    # upper case only       \n",
    "#         trainer = Trainer(\n",
    "#                             model_type='transformers',\n",
    "#                             city = city, \n",
    "#                             learning_rate=learning_rate,\n",
    "#                             important_features=important_features,\n",
    "#                             train_loader=train_loader,\n",
    "#                             test_tensor=test_tensor,\n",
    "#                             n_layers=n_layers,\n",
    "#                             hidden_size=hidden_size,\n",
    "#                             dropout=dropout)\n",
    "\n",
    "    \n",
    "#     # Train model with province-specific epochs\n",
    "#     trainer.train(epochs=epoch)  \n",
    "#     # Evaluate test set   \n",
    "#     y_true_test, y_pred_test, rmse_list, mae_list, mape_list = trainer.evaluate_model(np_data=test, plot= False, scaled=True, city=city, y_scaler= y_scaler)\n",
    "        \n",
    "#     metric_reslt = pd.DataFrame({\n",
    "#                                 'City': city,\n",
    "#                                 'Meta_Model_Name': algo, \n",
    "#                                 'sample_index':sample_idx,\n",
    "#                                 'Based_Models': s_selected_features,                                                      \n",
    "#                                 # algo+'_'+str(combination_idx)+'_rmse': rmse_list[0],\n",
    "#                                 # algo+'_'+str(combination_idx)+'_mae': mae_list[0]\n",
    "#                                 algo+'*'+s_selected_features+'_rmse': rmse_list[0],\n",
    "#                                 algo+'*'+s_selected_features+'_mae': mae_list[0]\n",
    "#                                 }, index=[0]) # do có 1 dòng nên pandas cần index = 0    \n",
    "  \n",
    "\n",
    "        \n",
    "#     return metric_reslt"
   ]
  },
  {
   "cell_type": "code",
   "execution_count": 13,
   "metadata": {},
   "outputs": [],
   "source": [
    "def objective_CNN(trial, city, important_features,train_loader,test_tensor,test, y_scaler):\n",
    "    # Define search parameters   \n",
    "    args.epochs = trial.suggest_int('Epochs', 100, 500, step=10)\n",
    "    learning_rate = trial.suggest_loguniform('Learning rate', 1e-4, 1e-2)\n",
    "    num_filters = trial.suggest_categorical('Num. filters', [[64, 64, 64], [100, 100, 100], [128, 128, 128], [16, 32, 64], [32, 64, 128]])\n",
    "    dropout = trial.suggest_uniform('Dropout rate', 0.01, 0.80)\n",
    "\n",
    "    trainer = Trainer(  model_type='cnn',  \n",
    "                        city = city,                    \n",
    "                        learning_rate=learning_rate,\n",
    "                        important_features=important_features,\n",
    "                        train_loader=train_loader,\n",
    "                        test_tensor=test_tensor,\n",
    "                        num_filters= num_filters, \n",
    "                        dropout=dropout )\n",
    "    # Train model\n",
    "    # trainer.train(epochs=args.epochs, trial=trial)\n",
    "    trainer.train(epochs=args.epochs)\n",
    "    \n",
    "    # Evaluate model\n",
    "    y_true, y_pred, rmse_list, mae_list, mape_list = trainer.evaluate_model(np_data=test, plot= False, scaled=True, city=city, y_scaler = y_scaler)\n",
    "    # _, _, rmse, mae, = trainer.evaluate_model(np_data=test, plot=False, scaled=True, city=city, y_scaler=y_scaler)\n",
    "\n",
    "    return rmse_list[0]  "
   ]
  },
  {
   "cell_type": "code",
   "execution_count": 14,
   "metadata": {},
   "outputs": [],
   "source": [
    "def objective_LSTM(trial, city, important_features,train_loader,test_tensor,test, y_scaler):\n",
    "    # Define search parameters   \n",
    "    # args.epochs = trial.suggest_int('Epochs', 100, 500, step=10)\n",
    "    # learning_rate = trial.suggest_loguniform('Learning rate', 1e-4, 1e-2)\n",
    "    # num_filters = trial.suggest_categorical('Num. filters', [[64, 64, 64], [100, 100, 100], [128, 128, 128], [16, 32, 64], [32, 64, 128]])\n",
    "    # dropout = trial.suggest_uniform('Dropout rate', 0.01, 0.80)    \n",
    "    \n",
    "    args.epochs = trial.suggest_int('Epochs', 100, 500, step=10)\n",
    "    hidden_size = trial.suggest_int('Hidden size', 5, 256, log=True)\n",
    "    n_layers = trial.suggest_int('n layers', 3, 10)\n",
    "    learning_rate = trial.suggest_loguniform('Learning rate', 1e-4, 1e-2)\n",
    "\n",
    "    # # LSTM model\n",
    "    trainer = Trainer(model_type='lstm',\n",
    "                        city = city,     \n",
    "                        learning_rate=learning_rate,\n",
    "                        important_features=important_features,\n",
    "                        train_loader=train_loader,\n",
    "                        test_tensor=test_tensor,\n",
    "                        n_layers=n_layers,\n",
    "                        hidden_size=hidden_size )\n",
    "    # Train model\n",
    "    # trainer.train(epochs=args.epochs, trial=trial)\n",
    "    trainer.train(epochs=args.epochs)\n",
    "    \n",
    "    # Evaluate model\n",
    "    y_true, y_pred, rmse_list, mae_list, mape_list = trainer.evaluate_model(np_data=test, plot= False, scaled=True, city=city, y_scaler = y_scaler)\n",
    "    # _, _, rmse, mae, = trainer.evaluate_model(np_data=test, plot=False, scaled=True, city=city, y_scaler=y_scaler)\n",
    "\n",
    "    return rmse_list[0]  \n"
   ]
  },
  {
   "cell_type": "code",
   "execution_count": 15,
   "metadata": {},
   "outputs": [],
   "source": [
    "def do_optimize(city ='', algo = '', list_selected_features = '', origin_city_meta_test_set= '', y_scaler = '', \n",
    "                s_selected_features= '', train ='', test ='', sample_idx ='', combination_idx= ''):\n",
    "    # Get data to run model\n",
    "    important_features, train_loader, test_tensor = get_data(train, test, args.batch_size, list_selected_features, origin_city_meta_test_set)   \n",
    "    \n",
    "    ntry = 30\n",
    "    njob = -1\n",
    "    l_errCity ={}\n",
    "    result = pd.DataFrame \n",
    "    if( algo =='cnn'):         \n",
    "        algo = 'CNN'    # upper case only\n",
    "        sampler = optuna.samplers.TPESampler()\n",
    "        study = optuna.create_study(sampler=sampler, direction='minimize')\n",
    "\n",
    "        # truyền multiple param vào trong biến trial\n",
    "        obj_func = lambda trial: objective_CNN(trial, city, important_features,train_loader,test_tensor,test,y_scaler)\n",
    "\n",
    "        try:\n",
    "            # Optimise over 100 trials\n",
    "            study.optimize(obj_func, n_trials=ntry, n_jobs=njob)\n",
    "\n",
    "            # Print results\n",
    "            print(\"Study statistics for : \")\n",
    "            print(\"  Number of finished trials: \", len(study.trials))\n",
    "        \n",
    "            \n",
    "            print(\"Best trial of city: \",city)\n",
    "            best_trial = study.best_trial\n",
    "            print(\"  Value: \", best_trial.value)   \n",
    "\n",
    "            # lưu best param vào trong biến toàn cục\n",
    "            one_city_param = pd.DataFrame({                     \n",
    "                                    'City': city,\n",
    "                                    'Alg_name': 'cnn',\n",
    "                                    'Best_value': best_trial.value,\n",
    "                                    'n_try_opt': ntry,\n",
    "                                    'n Feature': 3, # dùng chung cho tất cả các model và algorithm\n",
    "                                    'Batch Size': 16, # dùng chung cho tất cả các model và algorithm\n",
    "                                    'Lookback Window': 3, # dùng chung cho tất cả các tỉnh của CNN\n",
    "                                    'Epochs': best_trial.params['Epochs'],\n",
    "                                    'Hiden Size': '', # CNN không quan tâm\n",
    "                                    'n Layers': '', # CNN không quan tâm\n",
    "                                    'Learning rate': best_trial.params['Learning rate'], \n",
    "                                    'Num. filters': concate_2_filter_str(best_trial.params['Num. filters']), # đoạn này ép kiểu không sẽ thành x 3 do cấu trúc [] \n",
    "                                    'Dropout rate': best_trial.params['Dropout rate']}, index=[0])\n",
    "            \n",
    "            # one_city_param.to_excel(city+'_opt_hyperparam_cnn_'+s_selected_features+'.xlsx') \n",
    "            result =  one_city_param          \n",
    "        except Exception as e:\n",
    "          print(e)\n",
    "    if( algo =='lstm'):         \n",
    "        algo = 'LSTM'    # upper case only\n",
    "        sampler = optuna.samplers.TPESampler()\n",
    "        study = optuna.create_study(sampler=sampler, direction='minimize')\n",
    "\n",
    "        # truyền multiple param vào trong biến trial\n",
    "        obj_func = lambda trial: objective_LSTM(trial, city, important_features,train_loader,test_tensor,test,y_scaler)\n",
    "\n",
    "        try:\n",
    "            # Optimise over 100 trials\n",
    "            study.optimize(obj_func, n_trials=ntry, n_jobs=njob)\n",
    "\n",
    "            # Print results\n",
    "            print(\"Study statistics for : \")\n",
    "            print(\"  Number of finished trials: \", len(study.trials))\n",
    "        \n",
    "            \n",
    "            print(\"Best trial of city: \",city)\n",
    "            best_trial = study.best_trial\n",
    "            print(\"  Value: \", best_trial.value)   \n",
    "\n",
    "            # lưu best param vào trong biến toàn cục\n",
    "            # lưu best param vào trong biến toàn cục\n",
    "            one_city_param = pd.DataFrame({                     \n",
    "                                    'City': city,\n",
    "                                    'Alg_name': 'lstm',\n",
    "                                    'Best_value': best_trial.value,\n",
    "                                    'n_try_opt': ntry,\n",
    "                                    'n Feature': 3, # dùng chung cho tất cả các model và algorithm\n",
    "                                    'Batch Size': 16, # dùng chung cho tất cả các model và algorithm\n",
    "                                    'Lookback Window': 3, \n",
    "                                    'Epochs': best_trial.params['Epochs'],\n",
    "                                    'Hiden Size': best_trial.params['Hidden size'], \n",
    "                                    'n Layers': best_trial.params['n layers'],\n",
    "                                    'Learning rate': best_trial.params['Learning rate'], \n",
    "                                    'Num. filters': '', # đoạn này ép kiểu không sẽ thành x 3 do cấu trúc [] \n",
    "                                    'Dropout rate': ''}, index=[0])\n",
    "            \n",
    "            # one_city_param.to_excel(city+'_opt_hyperparam_cnn_'+s_selected_features+'.xlsx') \n",
    "            result =  one_city_param          \n",
    "        except Exception as e:\n",
    "          print(e)\n",
    "    \n",
    "    return result"
   ]
  },
  {
   "cell_type": "markdown",
   "metadata": {},
   "source": [
    "# Main Optimization\n",
    "Tạo ra 1 bộ validation. Xuất ra Metrics (RMSE và MAE) cho 5 bộ giải thuật chọn lựa. (10 cột cho 1 dòng validation )"
   ]
  },
  {
   "cell_type": "code",
   "execution_count": 16,
   "metadata": {},
   "outputs": [
    {
     "name": "stderr",
     "output_type": "stream",
     "text": [
      "\u001b[32m[I 2023-02-07 10:07:45,335]\u001b[0m A new study created in memory with name: no-name-1c02bb49-f334-4feb-bb60-bdaea7fb2bc2\u001b[0m\n",
      "<ipython-input-14-8244d6fc4512>:11: FutureWarning: suggest_loguniform has been deprecated in v3.0.0. This feature will be removed in v6.0.0. See https://github.com/optuna/optuna/releases/tag/v3.0.0. Use :func:`~optuna.trial.Trial.suggest_float` instead.\n",
      "  learning_rate = trial.suggest_loguniform('Learning rate', 1e-4, 1e-2)\n"
     ]
    },
    {
     "name": "stdout",
     "output_type": "stream",
     "text": [
      "Epoch:  0/300 - train_loss: 1.0953 - test_loss: 0.820765\n",
      "Epoch:  0/300 - train_loss: 1.1252 - test_loss: 0.825857\n",
      "Epoch:  0/300 - train_loss: 0.9870 - test_loss: 0.658610\n",
      "Epoch:  0/300 - train_loss: 0.8958 - test_loss: 0.806695\n",
      "Epoch:  0/300 - train_loss: 0.9304 - test_loss: 0.783611\n",
      "Epoch:  0/300 - train_loss: 1.2032 - test_loss: 0.877055\n",
      "Epoch:  0/300 - train_loss: 1.1872 - test_loss: 0.888828\n",
      "Epoch: 75/300 - train_loss: 0.5965 - test_loss: 0.576096\n",
      "Epoch: 75/300 - train_loss: 0.4296 - test_loss: 0.388831\n",
      "Epoch: 75/300 - train_loss: 0.2802 - test_loss: 0.223503\n",
      "Epoch: 75/300 - train_loss: 0.2820 - test_loss: 0.267294\n",
      "Epoch:  0/300 - train_loss: 1.1467 - test_loss: 0.844124\n",
      "Epoch: 75/300 - train_loss: 0.2898 - test_loss: 0.290504\n",
      "Epoch: 150/300 - train_loss: 0.4815 - test_loss: 0.450641\n",
      "Epoch: 150/300 - train_loss: 0.3109 - test_loss: 0.241283\n",
      "Epoch: 150/300 - train_loss: 0.2441 - test_loss: 0.279924\n",
      "Epoch: 150/300 - train_loss: 0.2705 - test_loss: 0.304596\n",
      "Epoch: 225/300 - train_loss: 0.3982 - test_loss: 0.355041\n",
      "Epoch: 75/300 - train_loss: 0.6103 - test_loss: 0.582982\n",
      "Epoch: 225/300 - train_loss: 0.2919 - test_loss: 0.250274\n",
      "Epoch: 225/300 - train_loss: 0.1686 - test_loss: 0.311451\n",
      "Epoch: 150/300 - train_loss: 0.2558 - test_loss: 0.285816\n",
      "Epoch: 299/300 - train_loss: 0.3407 - test_loss: 0.287158\n",
      "City: Bình Phước  _algo:lstm  -RMSE: 12.820281793547407\n",
      "City: Bình Phước  _algo:lstm  -RMSE: 15.130717927346996\n"
     ]
    },
    {
     "name": "stderr",
     "output_type": "stream",
     "text": [
      "\u001b[32m[I 2023-02-07 10:09:47,429]\u001b[0m Trial 2 finished with value: 12.820281793547407 and parameters: {'Epochs': 150, 'Hidden size': 71, 'n layers': 3, 'Learning rate': 0.00012741849795702657}. Best is trial 2 with value: 12.820281793547407.\u001b[0m\n"
     ]
    },
    {
     "name": "stdout",
     "output_type": "stream",
     "text": [
      "City: Bình Phước  _algo:lstm  -RMSE: 16.710574518589205\n"
     ]
    },
    {
     "name": "stderr",
     "output_type": "stream",
     "text": [
      "<ipython-input-14-8244d6fc4512>:11: FutureWarning: suggest_loguniform has been deprecated in v3.0.0. This feature will be removed in v6.0.0. See https://github.com/optuna/optuna/releases/tag/v3.0.0. Use :func:`~optuna.trial.Trial.suggest_float` instead.\n",
      "  learning_rate = trial.suggest_loguniform('Learning rate', 1e-4, 1e-2)\n"
     ]
    },
    {
     "name": "stdout",
     "output_type": "stream",
     "text": [
      "Epoch:  0/440 - train_loss: 1.3779 - test_loss: 0.956740\n",
      "Epoch: 299/300 - train_loss: 0.2857 - test_loss: 0.275289\n",
      "City: Bình Phước  _algo:lstm  -RMSE: 11.246911579324609\n",
      "City: Bình Phước  _algo:lstm  -RMSE: 13.884751291430874\n"
     ]
    },
    {
     "name": "stderr",
     "output_type": "stream",
     "text": [
      "\u001b[32m[I 2023-02-07 10:09:51,879]\u001b[0m Trial 14 finished with value: 11.246911579324609 and parameters: {'Epochs': 380, 'Hidden size': 58, 'n layers': 3, 'Learning rate': 0.0003231966523665058}. Best is trial 14 with value: 11.246911579324609.\u001b[0m\n"
     ]
    },
    {
     "name": "stdout",
     "output_type": "stream",
     "text": [
      "City: Bình Phước  _algo:lstm  -RMSE: 14.831009834352747\n"
     ]
    },
    {
     "name": "stderr",
     "output_type": "stream",
     "text": [
      "<ipython-input-14-8244d6fc4512>:11: FutureWarning: suggest_loguniform has been deprecated in v3.0.0. This feature will be removed in v6.0.0. See https://github.com/optuna/optuna/releases/tag/v3.0.0. Use :func:`~optuna.trial.Trial.suggest_float` instead.\n",
      "  learning_rate = trial.suggest_loguniform('Learning rate', 1e-4, 1e-2)\n"
     ]
    },
    {
     "name": "stdout",
     "output_type": "stream",
     "text": [
      "Epoch:  0/340 - train_loss: 0.7801 - test_loss: 0.664796\n",
      "Epoch: 225/300 - train_loss: 0.2454 - test_loss: 0.279560\n",
      "Epoch: 299/300 - train_loss: 0.0936 - test_loss: 0.602784\n",
      "City: Bình Phước  _algo:lstm  -RMSE: 10.734979527928488\n",
      "City: Bình Phước  _algo:lstm  -RMSE: 11.438219635556012\n"
     ]
    },
    {
     "name": "stderr",
     "output_type": "stream",
     "text": [
      "\u001b[32m[I 2023-02-07 10:10:02,563]\u001b[0m Trial 0 finished with value: 10.734979527928488 and parameters: {'Epochs': 400, 'Hidden size': 149, 'n layers': 3, 'Learning rate': 0.0018051602573228055}. Best is trial 0 with value: 10.734979527928488.\u001b[0m\n"
     ]
    },
    {
     "name": "stdout",
     "output_type": "stream",
     "text": [
      "City: Bình Phước  _algo:lstm  -RMSE: 12.188822805236988\n"
     ]
    },
    {
     "name": "stderr",
     "output_type": "stream",
     "text": [
      "<ipython-input-14-8244d6fc4512>:11: FutureWarning: suggest_loguniform has been deprecated in v3.0.0. This feature will be removed in v6.0.0. See https://github.com/optuna/optuna/releases/tag/v3.0.0. Use :func:`~optuna.trial.Trial.suggest_float` instead.\n",
      "  learning_rate = trial.suggest_loguniform('Learning rate', 1e-4, 1e-2)\n"
     ]
    },
    {
     "name": "stdout",
     "output_type": "stream",
     "text": [
      "Epoch:  0/320 - train_loss: 0.9082 - test_loss: 0.661188\n",
      "Epoch: 225/300 - train_loss: 0.2164 - test_loss: 0.370382\n",
      "Epoch: 299/300 - train_loss: 0.2102 - test_loss: 0.369858\n",
      "City: Bình Phước  _algo:lstm  -RMSE: 10.534118164547401\n",
      "City: Bình Phước  _algo:lstm  -RMSE: 9.579905835995532\n"
     ]
    },
    {
     "name": "stderr",
     "output_type": "stream",
     "text": [
      "\u001b[32m[I 2023-02-07 10:10:55,163]\u001b[0m Trial 12 finished with value: 10.534118164547401 and parameters: {'Epochs': 270, 'Hidden size': 22, 'n layers': 4, 'Learning rate': 0.003202197036357307}. Best is trial 12 with value: 10.534118164547401.\u001b[0m\n"
     ]
    },
    {
     "name": "stdout",
     "output_type": "stream",
     "text": [
      "City: Bình Phước  _algo:lstm  -RMSE: 10.928089314521337\n"
     ]
    },
    {
     "name": "stderr",
     "output_type": "stream",
     "text": [
      "<ipython-input-14-8244d6fc4512>:11: FutureWarning: suggest_loguniform has been deprecated in v3.0.0. This feature will be removed in v6.0.0. See https://github.com/optuna/optuna/releases/tag/v3.0.0. Use :func:`~optuna.trial.Trial.suggest_float` instead.\n",
      "  learning_rate = trial.suggest_loguniform('Learning rate', 1e-4, 1e-2)\n"
     ]
    },
    {
     "name": "stdout",
     "output_type": "stream",
     "text": [
      "Epoch:  0/220 - train_loss: 1.1728 - test_loss: 0.825438\n",
      "Epoch: 150/300 - train_loss: 0.5033 - test_loss: 0.476693\n",
      "Epoch:  0/300 - train_loss: 1.4779 - test_loss: 1.093903\n",
      "Epoch: 80/320 - train_loss: 0.2863 - test_loss: 0.269564\n",
      "Epoch: 85/340 - train_loss: 0.3608 - test_loss: 0.372456\n",
      "Epoch: 110/440 - train_loss: 0.3215 - test_loss: 0.288641\n",
      "Epoch: 55/220 - train_loss: 0.3598 - test_loss: 0.310265\n",
      "Epoch: 299/300 - train_loss: 0.1060 - test_loss: 0.433929\n",
      "City: Bình Phước  _algo:lstm  -RMSE: 10.49142335794736\n",
      "City: Bình Phước  _algo:lstm  -RMSE: 10.102037448802482\n",
      "Epoch: 160/320 - train_loss: 0.2474 - test_loss: 0.289331\n"
     ]
    },
    {
     "name": "stderr",
     "output_type": "stream",
     "text": [
      "\u001b[32m[I 2023-02-07 10:12:03,027]\u001b[0m Trial 5 finished with value: 10.49142335794736 and parameters: {'Epochs': 190, 'Hidden size': 240, 'n layers': 5, 'Learning rate': 0.001083070337559966}. Best is trial 5 with value: 10.49142335794736.\u001b[0m\n"
     ]
    },
    {
     "name": "stdout",
     "output_type": "stream",
     "text": [
      "City: Bình Phước  _algo:lstm  -RMSE: 11.196191112642492\n"
     ]
    },
    {
     "name": "stderr",
     "output_type": "stream",
     "text": [
      "<ipython-input-14-8244d6fc4512>:11: FutureWarning: suggest_loguniform has been deprecated in v3.0.0. This feature will be removed in v6.0.0. See https://github.com/optuna/optuna/releases/tag/v3.0.0. Use :func:`~optuna.trial.Trial.suggest_float` instead.\n",
      "  learning_rate = trial.suggest_loguniform('Learning rate', 1e-4, 1e-2)\n"
     ]
    },
    {
     "name": "stdout",
     "output_type": "stream",
     "text": [
      "Epoch:  0/220 - train_loss: 0.7992 - test_loss: 0.602907\n",
      "Epoch: 75/300 - train_loss: 0.3140 - test_loss: 0.207812\n",
      "Epoch: 225/300 - train_loss: 0.4138 - test_loss: 0.381163\n",
      "Epoch: 55/220 - train_loss: 0.2972 - test_loss: 0.298616\n",
      "Epoch: 110/220 - train_loss: 0.2872 - test_loss: 0.305080\n",
      "Epoch: 240/320 - train_loss: 0.1707 - test_loss: 0.400028\n",
      "Epoch: 170/340 - train_loss: 0.3528 - test_loss: 0.386090\n",
      "Epoch: 220/440 - train_loss: 0.2837 - test_loss: 0.276797\n",
      "Epoch: 110/220 - train_loss: 0.2537 - test_loss: 0.303103\n",
      "Epoch: 165/220 - train_loss: 0.2815 - test_loss: 0.280600\n",
      "Epoch: 319/320 - train_loss: 0.0815 - test_loss: 0.670735\n",
      "City: Bình Phước  _algo:lstm  -RMSE: 9.655413040307396\n",
      "City: Bình Phước  _algo:lstm  -RMSE: 10.57363565113222\n"
     ]
    },
    {
     "name": "stderr",
     "output_type": "stream",
     "text": [
      "\u001b[32m[I 2023-02-07 10:13:43,117]\u001b[0m Trial 22 finished with value: 9.655413040307396 and parameters: {'Epochs': 320, 'Hidden size': 68, 'n layers': 5, 'Learning rate': 0.004353677875145876}. Best is trial 22 with value: 9.655413040307396.\u001b[0m\n"
     ]
    },
    {
     "name": "stdout",
     "output_type": "stream",
     "text": [
      "City: Bình Phước  _algo:lstm  -RMSE: 12.17399806730413\n"
     ]
    },
    {
     "name": "stderr",
     "output_type": "stream",
     "text": [
      "<ipython-input-14-8244d6fc4512>:11: FutureWarning: suggest_loguniform has been deprecated in v3.0.0. This feature will be removed in v6.0.0. See https://github.com/optuna/optuna/releases/tag/v3.0.0. Use :func:`~optuna.trial.Trial.suggest_float` instead.\n",
      "  learning_rate = trial.suggest_loguniform('Learning rate', 1e-4, 1e-2)\n"
     ]
    },
    {
     "name": "stdout",
     "output_type": "stream",
     "text": [
      "Epoch:  0/190 - train_loss: 1.1404 - test_loss: 0.783792\n",
      "Epoch: 47/190 - train_loss: 0.3406 - test_loss: 0.263763\n",
      "Epoch: 299/300 - train_loss: 0.3484 - test_loss: 0.326146\n",
      "City: Bình Phước  _algo:lstm  -RMSE: 11.06240443159123\n",
      "City: Bình Phước  _algo:lstm  -RMSE: 13.644116261033332\n"
     ]
    },
    {
     "name": "stderr",
     "output_type": "stream",
     "text": [
      "\u001b[32m[I 2023-02-07 10:14:17,632]\u001b[0m Trial 4 finished with value: 11.06240443159123 and parameters: {'Epochs': 430, 'Hidden size': 218, 'n layers': 4, 'Learning rate': 0.00011618602099589619}. Best is trial 22 with value: 9.655413040307396.\u001b[0m\n"
     ]
    },
    {
     "name": "stdout",
     "output_type": "stream",
     "text": [
      "City: Bình Phước  _algo:lstm  -RMSE: 16.322010041891712\n"
     ]
    },
    {
     "name": "stderr",
     "output_type": "stream",
     "text": [
      "<ipython-input-14-8244d6fc4512>:11: FutureWarning: suggest_loguniform has been deprecated in v3.0.0. This feature will be removed in v6.0.0. See https://github.com/optuna/optuna/releases/tag/v3.0.0. Use :func:`~optuna.trial.Trial.suggest_float` instead.\n",
      "  learning_rate = trial.suggest_loguniform('Learning rate', 1e-4, 1e-2)\n"
     ]
    },
    {
     "name": "stdout",
     "output_type": "stream",
     "text": [
      "Epoch:  0/440 - train_loss: 0.9515 - test_loss: 0.707121\n",
      "Epoch: 255/340 - train_loss: 0.3598 - test_loss: 0.367571\n",
      "Epoch: 165/220 - train_loss: 0.2194 - test_loss: 0.389914\n",
      "Epoch: 219/220 - train_loss: 0.2767 - test_loss: 0.278388\n",
      "City: Bình Phước  _algo:lstm  -RMSE: 16.268345105498554\n",
      "City: Bình Phước  _algo:lstm  -RMSE: 15.191822465963746\n"
     ]
    },
    {
     "name": "stderr",
     "output_type": "stream",
     "text": [
      "\u001b[32m[I 2023-02-07 10:14:34,941]\u001b[0m Trial 23 finished with value: 16.268345105498554 and parameters: {'Epochs': 220, 'Hidden size': 72, 'n layers': 8, 'Learning rate': 0.0006442119980986023}. Best is trial 22 with value: 9.655413040307396.\u001b[0m\n"
     ]
    },
    {
     "name": "stdout",
     "output_type": "stream",
     "text": [
      "City: Bình Phước  _algo:lstm  -RMSE: 16.80870970476762\n"
     ]
    },
    {
     "name": "stderr",
     "output_type": "stream",
     "text": [
      "<ipython-input-14-8244d6fc4512>:11: FutureWarning: suggest_loguniform has been deprecated in v3.0.0. This feature will be removed in v6.0.0. See https://github.com/optuna/optuna/releases/tag/v3.0.0. Use :func:`~optuna.trial.Trial.suggest_float` instead.\n",
      "  learning_rate = trial.suggest_loguniform('Learning rate', 1e-4, 1e-2)\n"
     ]
    },
    {
     "name": "stdout",
     "output_type": "stream",
     "text": [
      "Epoch:  0/230 - train_loss: 1.1268 - test_loss: 0.805042\n",
      "Epoch: 94/190 - train_loss: 0.2990 - test_loss: 0.206261\n",
      "Epoch: 141/190 - train_loss: 0.2801 - test_loss: 0.204966\n",
      "Epoch: 219/220 - train_loss: 0.1204 - test_loss: 0.596506\n",
      "City: Bình Phước  _algo:lstm  -RMSE: 12.976074260595503\n",
      "City: Bình Phước  _algo:lstm  -RMSE: 10.1372842956945\n"
     ]
    },
    {
     "name": "stderr",
     "output_type": "stream",
     "text": [
      "\u001b[32m[I 2023-02-07 10:15:08,423]\u001b[0m Trial 24 finished with value: 12.976074260595503 and parameters: {'Epochs': 220, 'Hidden size': 36, 'n layers': 4, 'Learning rate': 0.0075385147739648614}. Best is trial 22 with value: 9.655413040307396.\u001b[0m\n"
     ]
    },
    {
     "name": "stdout",
     "output_type": "stream",
     "text": [
      "City: Bình Phước  _algo:lstm  -RMSE: 8.895843393685304\n"
     ]
    },
    {
     "name": "stderr",
     "output_type": "stream",
     "text": [
      "<ipython-input-14-8244d6fc4512>:11: FutureWarning: suggest_loguniform has been deprecated in v3.0.0. This feature will be removed in v6.0.0. See https://github.com/optuna/optuna/releases/tag/v3.0.0. Use :func:`~optuna.trial.Trial.suggest_float` instead.\n",
      "  learning_rate = trial.suggest_loguniform('Learning rate', 1e-4, 1e-2)\n"
     ]
    },
    {
     "name": "stdout",
     "output_type": "stream",
     "text": [
      "Epoch: 330/440 - train_loss: 0.2804 - test_loss: 0.290137\n",
      "Epoch:  0/270 - train_loss: 1.4341 - test_loss: 1.042082\n",
      "Epoch: 57/230 - train_loss: 0.3812 - test_loss: 0.318336\n",
      "Epoch: 188/190 - train_loss: 0.2729 - test_loss: 0.241300\n",
      "Epoch: 189/190 - train_loss: 0.2754 - test_loss: 0.226809\n",
      "City: Bình Phước  _algo:lstm  -RMSE: 10.221899034860915\n",
      "City: Bình Phước  _algo:lstm  -RMSE: 10.47698702263382\n"
     ]
    },
    {
     "name": "stderr",
     "output_type": "stream",
     "text": [
      "\u001b[32m[I 2023-02-07 10:15:31,486]\u001b[0m Trial 25 finished with value: 10.221899034860915 and parameters: {'Epochs': 190, 'Hidden size': 71, 'n layers': 4, 'Learning rate': 0.000873160429494783}. Best is trial 22 with value: 9.655413040307396.\u001b[0m\n"
     ]
    },
    {
     "name": "stdout",
     "output_type": "stream",
     "text": [
      "City: Bình Phước  _algo:lstm  -RMSE: 12.043117784383533\n"
     ]
    },
    {
     "name": "stderr",
     "output_type": "stream",
     "text": [
      "<ipython-input-14-8244d6fc4512>:11: FutureWarning: suggest_loguniform has been deprecated in v3.0.0. This feature will be removed in v6.0.0. See https://github.com/optuna/optuna/releases/tag/v3.0.0. Use :func:`~optuna.trial.Trial.suggest_float` instead.\n",
      "  learning_rate = trial.suggest_loguniform('Learning rate', 1e-4, 1e-2)\n"
     ]
    },
    {
     "name": "stdout",
     "output_type": "stream",
     "text": [
      "Epoch:  0/490 - train_loss: 0.7463 - test_loss: 0.651577\n",
      "Epoch: 339/340 - train_loss: 0.3572 - test_loss: 0.368964\n",
      "City: Bình Phước  _algo:lstm  -RMSE: 17.302035205238784\n",
      "City: Bình Phước  _algo:lstm  -RMSE: 21.103713408535643\n"
     ]
    },
    {
     "name": "stderr",
     "output_type": "stream",
     "text": [
      "\u001b[32m[I 2023-02-07 10:15:46,235]\u001b[0m Trial 21 finished with value: 17.302035205238784 and parameters: {'Epochs': 340, 'Hidden size': 217, 'n layers': 10, 'Learning rate': 0.00571929082000178}. Best is trial 22 with value: 9.655413040307396.\u001b[0m\n"
     ]
    },
    {
     "name": "stdout",
     "output_type": "stream",
     "text": [
      "City: Bình Phước  _algo:lstm  -RMSE: 18.301370580165756\n",
      "Epoch: 150/300 - train_loss: 0.2815 - test_loss: 0.222790\n",
      "Epoch: 67/270 - train_loss: 0.4250 - test_loss: 0.387026\n",
      "Epoch: 114/230 - train_loss: 0.2859 - test_loss: 0.248014\n",
      "Epoch:  0/300 - train_loss: 1.2382 - test_loss: 0.815089\n",
      "Epoch: 110/440 - train_loss: 0.2684 - test_loss: 0.251023\n",
      "Epoch: 439/440 - train_loss: 0.2669 - test_loss: 0.308788\n",
      "City: Bình Phước  _algo:lstm  -RMSE: 13.31691696915663\n",
      "City: Bình Phước  _algo:lstm  -RMSE: 12.282206846510858\n"
     ]
    },
    {
     "name": "stderr",
     "output_type": "stream",
     "text": [
      "\u001b[32m[I 2023-02-07 10:16:43,808]\u001b[0m Trial 20 finished with value: 13.31691696915663 and parameters: {'Epochs': 440, 'Hidden size': 29, 'n layers': 9, 'Learning rate': 0.0010230485212674363}. Best is trial 22 with value: 9.655413040307396.\u001b[0m\n"
     ]
    },
    {
     "name": "stdout",
     "output_type": "stream",
     "text": [
      "City: Bình Phước  _algo:lstm  -RMSE: 13.857781736817008\n",
      "Epoch: 171/230 - train_loss: 0.2758 - test_loss: 0.209048\n",
      "Epoch: 134/270 - train_loss: 0.3245 - test_loss: 0.251374\n",
      "Epoch: 122/490 - train_loss: 0.3159 - test_loss: 0.367944\n",
      "Epoch: 225/300 - train_loss: 0.2834 - test_loss: 0.221038\n",
      "Epoch: 75/300 - train_loss: 0.6024 - test_loss: 0.591484\n",
      "Epoch: 228/230 - train_loss: 0.2800 - test_loss: 0.317688\n",
      "Epoch: 229/230 - train_loss: 0.2762 - test_loss: 0.249715\n",
      "City: Bình Phước  _algo:lstm  -RMSE: 13.14167744699611\n",
      "City: Bình Phước  _algo:lstm  -RMSE: 13.506904432520576\n"
     ]
    },
    {
     "name": "stderr",
     "output_type": "stream",
     "text": [
      "\u001b[32m[I 2023-02-07 10:17:31,147]\u001b[0m Trial 27 finished with value: 13.14167744699611 and parameters: {'Epochs': 230, 'Hidden size': 80, 'n layers': 6, 'Learning rate': 0.0005647912176675813}. Best is trial 22 with value: 9.655413040307396.\u001b[0m\n"
     ]
    },
    {
     "name": "stdout",
     "output_type": "stream",
     "text": [
      "City: Bình Phước  _algo:lstm  -RMSE: 14.345595271772575\n",
      "Epoch:  0/300 - train_loss: 1.2711 - test_loss: 0.919616\n",
      "Epoch: 201/270 - train_loss: 0.3075 - test_loss: 0.230737\n",
      "Epoch: 220/440 - train_loss: 0.2402 - test_loss: 0.301498\n",
      "Epoch: 299/300 - train_loss: 0.2668 - test_loss: 0.260189\n",
      "City: Bình Phước  _algo:lstm  -RMSE: 10.588076205169152\n",
      "City: Bình Phước  _algo:lstm  -RMSE: 10.473147920776498\n"
     ]
    },
    {
     "name": "stderr",
     "output_type": "stream",
     "text": [
      "\u001b[32m[I 2023-02-07 10:18:20,381]\u001b[0m Trial 17 finished with value: 10.588076205169152 and parameters: {'Epochs': 410, 'Hidden size': 14, 'n layers': 6, 'Learning rate': 0.0007729164236793941}. Best is trial 22 with value: 9.655413040307396.\u001b[0m\n"
     ]
    },
    {
     "name": "stdout",
     "output_type": "stream",
     "text": [
      "City: Bình Phước  _algo:lstm  -RMSE: 11.298482098111723\n",
      "Epoch:  0/300 - train_loss: 1.1607 - test_loss: 1.070326\n",
      "Epoch: 268/270 - train_loss: 0.3011 - test_loss: 0.217796\n",
      "Epoch: 269/270 - train_loss: 0.2968 - test_loss: 0.227290\n",
      "City: Bình Phước  _algo:lstm  -RMSE: 11.374563025260764\n",
      "City: Bình Phước  _algo:lstm  -RMSE: 13.489114631710503\n"
     ]
    },
    {
     "name": "stderr",
     "output_type": "stream",
     "text": [
      "\u001b[32m[I 2023-02-07 10:18:37,356]\u001b[0m Trial 28 finished with value: 11.374563025260764 and parameters: {'Epochs': 270, 'Hidden size': 22, 'n layers': 4, 'Learning rate': 0.00033925453006462093}. Best is trial 22 with value: 9.655413040307396.\u001b[0m\n"
     ]
    },
    {
     "name": "stdout",
     "output_type": "stream",
     "text": [
      "City: Bình Phước  _algo:lstm  -RMSE: 15.329016303860621\n",
      "Epoch:  0/300 - train_loss: 1.0508 - test_loss: 0.693794\n",
      "Epoch: 75/300 - train_loss: 0.7486 - test_loss: 0.564054\n",
      "Epoch: 244/490 - train_loss: 0.2862 - test_loss: 0.453324\n",
      "Epoch: 150/300 - train_loss: 0.4916 - test_loss: 0.460420\n",
      "Epoch: 330/440 - train_loss: 0.1220 - test_loss: 0.510312\n",
      "Epoch: 75/300 - train_loss: 0.3238 - test_loss: 0.409246\n",
      "Epoch: 150/300 - train_loss: 0.4793 - test_loss: 0.483922\n",
      "Epoch:  0/300 - train_loss: 0.9721 - test_loss: 0.810592\n",
      "Epoch: 75/300 - train_loss: 0.3077 - test_loss: 0.240381\n",
      "Epoch: 225/300 - train_loss: 0.3948 - test_loss: 0.378647\n",
      "Epoch: 366/490 - train_loss: 0.2875 - test_loss: 0.450574\n",
      "Epoch: 225/300 - train_loss: 0.4057 - test_loss: 0.413302\n",
      "Epoch: 439/440 - train_loss: 0.0771 - test_loss: 0.556327\n",
      "City: Bình Phước  _algo:lstm  -RMSE: 12.530302770172453\n",
      "City: Bình Phước  _algo:lstm  -RMSE: 12.491550442890205\n"
     ]
    },
    {
     "name": "stderr",
     "output_type": "stream",
     "text": [
      "\u001b[32m[I 2023-02-07 10:21:39,296]\u001b[0m Trial 26 finished with value: 12.530302770172453 and parameters: {'Epochs': 440, 'Hidden size': 194, 'n layers': 5, 'Learning rate': 0.001603600810868066}. Best is trial 22 with value: 9.655413040307396.\u001b[0m\n"
     ]
    },
    {
     "name": "stdout",
     "output_type": "stream",
     "text": [
      "City: Bình Phước  _algo:lstm  -RMSE: 12.597739623093677\n",
      "Epoch: 150/300 - train_loss: 0.3240 - test_loss: 0.413866\n",
      "Epoch:  0/300 - train_loss: 1.2033 - test_loss: 0.871347\n",
      "Epoch: 75/300 - train_loss: 0.3633 - test_loss: 0.390300\n",
      "Epoch: 150/300 - train_loss: 0.2862 - test_loss: 0.295579\n",
      "Epoch: 299/300 - train_loss: 0.3285 - test_loss: 0.339457\n",
      "City: Bình Phước  _algo:lstm  -RMSE: 13.405176372039012\n",
      "City: Bình Phước  _algo:lstm  -RMSE: 15.394009354268263\n"
     ]
    },
    {
     "name": "stderr",
     "output_type": "stream",
     "text": [
      "\u001b[32m[I 2023-02-07 10:22:41,764]\u001b[0m Trial 19 finished with value: 13.405176372039012 and parameters: {'Epochs': 300, 'Hidden size': 184, 'n layers': 9, 'Learning rate': 0.00012464815348097212}. Best is trial 22 with value: 9.655413040307396.\u001b[0m\n"
     ]
    },
    {
     "name": "stdout",
     "output_type": "stream",
     "text": [
      "City: Bình Phước  _algo:lstm  -RMSE: 15.651387671664047\n",
      "Epoch: 299/300 - train_loss: 0.3646 - test_loss: 0.366386\n",
      "City: Bình Phước  _algo:lstm  -RMSE: 24.6921179199356\n",
      "City: Bình Phước  _algo:lstm  -RMSE: 25.266413330056917\n"
     ]
    },
    {
     "name": "stderr",
     "output_type": "stream",
     "text": [
      "\u001b[32m[I 2023-02-07 10:22:44,369]\u001b[0m Trial 3 finished with value: 24.6921179199356 and parameters: {'Epochs': 250, 'Hidden size': 5, 'n layers': 4, 'Learning rate': 0.00011015004621534407}. Best is trial 22 with value: 9.655413040307396.\u001b[0m\n"
     ]
    },
    {
     "name": "stdout",
     "output_type": "stream",
     "text": [
      "City: Bình Phước  _algo:lstm  -RMSE: 23.30888181900345\n",
      "Epoch:  0/300 - train_loss: 1.4319 - test_loss: 0.977699\n",
      "Epoch: 225/300 - train_loss: 0.3249 - test_loss: 0.375326\n",
      "Epoch: 488/490 - train_loss: 0.3000 - test_loss: 0.438950\n",
      "Epoch: 489/490 - train_loss: 0.2968 - test_loss: 0.432117\n",
      "City: Bình Phước  _algo:lstm  -RMSE: 11.665169139730695\n",
      "City: Bình Phước  _algo:lstm  -RMSE: 10.31999300236431\n"
     ]
    },
    {
     "name": "stderr",
     "output_type": "stream",
     "text": [
      "\u001b[32m[I 2023-02-07 10:23:25,793]\u001b[0m Trial 29 finished with value: 11.665169139730695 and parameters: {'Epochs': 490, 'Hidden size': 6, 'n layers': 7, 'Learning rate': 0.009248573787394833}. Best is trial 22 with value: 9.655413040307396.\u001b[0m\n"
     ]
    },
    {
     "name": "stdout",
     "output_type": "stream",
     "text": [
      "City: Bình Phước  _algo:lstm  -RMSE: 10.679095721774972\n",
      "Epoch: 75/300 - train_loss: 0.2886 - test_loss: 0.345182\n",
      "Epoch:  0/300 - train_loss: 1.2757 - test_loss: 0.939124\n",
      "Epoch: 150/300 - train_loss: 0.3580 - test_loss: 0.403518\n",
      "Epoch: 225/300 - train_loss: 0.2800 - test_loss: 0.269116\n",
      "Epoch: 75/300 - train_loss: 0.2866 - test_loss: 0.223428\n",
      "Epoch: 299/300 - train_loss: 0.3237 - test_loss: 0.371136\n",
      "City: Bình Phước  _algo:lstm  -RMSE: 18.26595870618836\n",
      "City: Bình Phước  _algo:lstm  -RMSE: 18.68345350906103\n"
     ]
    },
    {
     "name": "stderr",
     "output_type": "stream",
     "text": [
      "\u001b[32m[I 2023-02-07 10:24:26,103]\u001b[0m Trial 11 finished with value: 18.26595870618836 and parameters: {'Epochs': 160, 'Hidden size': 6, 'n layers': 9, 'Learning rate': 0.0047488521492376244}. Best is trial 22 with value: 9.655413040307396.\u001b[0m\n"
     ]
    },
    {
     "name": "stdout",
     "output_type": "stream",
     "text": [
      "City: Bình Phước  _algo:lstm  -RMSE: 19.39482155480272\n",
      "Epoch: 150/300 - train_loss: 0.2672 - test_loss: 0.360631\n",
      "Epoch: 75/300 - train_loss: 0.3353 - test_loss: 0.273079\n",
      "Epoch:  0/300 - train_loss: 1.1549 - test_loss: 0.749514\n",
      "Epoch: 225/300 - train_loss: 0.3635 - test_loss: 0.348847\n",
      "Epoch: 299/300 - train_loss: 0.2773 - test_loss: 0.266711\n",
      "City: Bình Phước  _algo:lstm  -RMSE: 11.411548991513614\n",
      "City: Bình Phước  _algo:lstm  -RMSE: 11.342491551783088\n"
     ]
    },
    {
     "name": "stderr",
     "output_type": "stream",
     "text": [
      "\u001b[32m[I 2023-02-07 10:24:44,770]\u001b[0m Trial 7 finished with value: 11.411548991513614 and parameters: {'Epochs': 270, 'Hidden size': 15, 'n layers': 7, 'Learning rate': 0.0008255458104512317}. Best is trial 22 with value: 9.655413040307396.\u001b[0m\n"
     ]
    },
    {
     "name": "stdout",
     "output_type": "stream",
     "text": [
      "City: Bình Phước  _algo:lstm  -RMSE: 10.886749751194248\n",
      "Epoch:  0/300 - train_loss: 1.1888 - test_loss: 0.886348\n",
      "Epoch: 150/300 - train_loss: 0.2449 - test_loss: 0.306472\n",
      "Epoch: 75/300 - train_loss: 0.3208 - test_loss: 0.281292\n",
      "Epoch: 225/300 - train_loss: 0.2574 - test_loss: 0.342287\n",
      "Epoch: 150/300 - train_loss: 0.2888 - test_loss: 0.278912\n",
      "Epoch: 299/300 - train_loss: 0.3559 - test_loss: 0.361439\n",
      "City: Bình Phước  _algo:lstm  -RMSE: 18.360191228888755\n",
      "City: Bình Phước  _algo:lstm  -RMSE: 18.41134340828181\n"
     ]
    },
    {
     "name": "stderr",
     "output_type": "stream",
     "text": [
      "\u001b[32m[I 2023-02-07 10:25:40,747]\u001b[0m Trial 10 finished with value: 18.360191228888755 and parameters: {'Epochs': 160, 'Hidden size': 198, 'n layers': 7, 'Learning rate': 0.009765150525965063}. Best is trial 22 with value: 9.655413040307396.\u001b[0m\n"
     ]
    },
    {
     "name": "stdout",
     "output_type": "stream",
     "text": [
      "City: Bình Phước  _algo:lstm  -RMSE: 22.51326117014089\n",
      "Epoch: 225/300 - train_loss: 0.2268 - test_loss: 0.373957\n",
      "Epoch:  0/300 - train_loss: 0.9972 - test_loss: 0.680145\n",
      "Epoch: 75/300 - train_loss: 0.3616 - test_loss: 0.386268\n",
      "Epoch: 299/300 - train_loss: 0.2409 - test_loss: 0.395568\n",
      "City: Bình Phước  _algo:lstm  -RMSE: 14.106552764731344\n",
      "City: Bình Phước  _algo:lstm  -RMSE: 13.709926122662276\n"
     ]
    },
    {
     "name": "stderr",
     "output_type": "stream",
     "text": [
      "\u001b[32m[I 2023-02-07 10:26:20,964]\u001b[0m Trial 8 finished with value: 14.106552764731344 and parameters: {'Epochs': 420, 'Hidden size': 9, 'n layers': 6, 'Learning rate': 0.0097534186047285}. Best is trial 22 with value: 9.655413040307396.\u001b[0m\n"
     ]
    },
    {
     "name": "stdout",
     "output_type": "stream",
     "text": [
      "City: Bình Phước  _algo:lstm  -RMSE: 14.924904512397713\n",
      "Epoch: 225/300 - train_loss: 0.2841 - test_loss: 0.217877\n",
      "Epoch: 150/300 - train_loss: 0.3075 - test_loss: 0.282906\n",
      "Epoch: 75/300 - train_loss: 0.3139 - test_loss: 0.293941\n",
      "Epoch: 299/300 - train_loss: 0.2447 - test_loss: 0.357761\n",
      "City: Bình Phước  _algo:lstm  -RMSE: 11.68041566981743\n",
      "City: Bình Phước  _algo:lstm  -RMSE: 10.678527058778222\n"
     ]
    },
    {
     "name": "stderr",
     "output_type": "stream",
     "text": [
      "\u001b[32m[I 2023-02-07 10:26:53,141]\u001b[0m Trial 13 finished with value: 11.68041566981743 and parameters: {'Epochs': 460, 'Hidden size': 90, 'n layers': 6, 'Learning rate': 0.0025133007691019375}. Best is trial 22 with value: 9.655413040307396.\u001b[0m\n"
     ]
    },
    {
     "name": "stdout",
     "output_type": "stream",
     "text": [
      "City: Bình Phước  _algo:lstm  -RMSE: 11.350293736819234\n",
      "Epoch: 299/300 - train_loss: 0.2801 - test_loss: 0.263126\n",
      "City: Bình Phước  _algo:lstm  -RMSE: 11.565886460860645\n",
      "City: Bình Phước  _algo:lstm  -RMSE: 12.450370127861543\n"
     ]
    },
    {
     "name": "stderr",
     "output_type": "stream",
     "text": [
      "\u001b[32m[I 2023-02-07 10:27:09,377]\u001b[0m Trial 15 finished with value: 11.565886460860645 and parameters: {'Epochs': 240, 'Hidden size': 37, 'n layers': 4, 'Learning rate': 0.0005629345834245735}. Best is trial 22 with value: 9.655413040307396.\u001b[0m\n"
     ]
    },
    {
     "name": "stdout",
     "output_type": "stream",
     "text": [
      "City: Bình Phước  _algo:lstm  -RMSE: 12.950252374833967\n",
      "Epoch: 150/300 - train_loss: 0.2956 - test_loss: 0.262983\n",
      "Epoch: 75/300 - train_loss: 0.5629 - test_loss: 0.558721\n",
      "Epoch: 225/300 - train_loss: 0.3065 - test_loss: 0.294993\n",
      "Epoch: 150/300 - train_loss: 0.2907 - test_loss: 0.267332\n",
      "Epoch: 75/300 - train_loss: 0.3002 - test_loss: 0.301303\n",
      "Epoch: 225/300 - train_loss: 0.2909 - test_loss: 0.266112\n",
      "Epoch: 150/300 - train_loss: 0.4311 - test_loss: 0.394211\n",
      "Epoch: 299/300 - train_loss: 0.3053 - test_loss: 0.369666\n",
      "City: Bình Phước  _algo:lstm  -RMSE: 15.100267815725715\n",
      "City: Bình Phước  _algo:lstm  -RMSE: 13.48917751074794\n"
     ]
    },
    {
     "name": "stderr",
     "output_type": "stream",
     "text": [
      "\u001b[32m[I 2023-02-07 10:28:33,737]\u001b[0m Trial 16 finished with value: 15.100267815725715 and parameters: {'Epochs': 480, 'Hidden size': 19, 'n layers': 8, 'Learning rate': 0.0018677265465829739}. Best is trial 22 with value: 9.655413040307396.\u001b[0m\n"
     ]
    },
    {
     "name": "stdout",
     "output_type": "stream",
     "text": [
      "City: Bình Phước  _algo:lstm  -RMSE: 13.299139355093406\n",
      "Epoch: 225/300 - train_loss: 0.2331 - test_loss: 0.308022\n",
      "Epoch: 150/300 - train_loss: 0.2688 - test_loss: 0.327175\n",
      "Epoch: 299/300 - train_loss: 0.2879 - test_loss: 0.261855\n",
      "City: Bình Phước  _algo:lstm  -RMSE: 13.357433973563845\n",
      "Epoch: 225/300 - train_loss: 0.3537 - test_loss: 0.289639\n",
      "City: Bình Phước  _algo:lstm  -RMSE: 14.505337984194396\n"
     ]
    },
    {
     "name": "stderr",
     "output_type": "stream",
     "text": [
      "\u001b[32m[I 2023-02-07 10:29:22,518]\u001b[0m Trial 18 finished with value: 13.357433973563845 and parameters: {'Epochs': 150, 'Hidden size': 9, 'n layers': 9, 'Learning rate': 0.0005134704607857206}. Best is trial 22 with value: 9.655413040307396.\u001b[0m\n"
     ]
    },
    {
     "name": "stdout",
     "output_type": "stream",
     "text": [
      "City: Bình Phước  _algo:lstm  -RMSE: 15.99591994953062\n",
      "Epoch: 299/300 - train_loss: 0.1940 - test_loss: 0.403417\n",
      "City: Bình Phước  _algo:lstm  -RMSE: 14.70330494913052\n",
      "City: Bình Phước  _algo:lstm  -RMSE: 12.948054856822022\n"
     ]
    },
    {
     "name": "stderr",
     "output_type": "stream",
     "text": [
      "\u001b[32m[I 2023-02-07 10:29:35,280]\u001b[0m Trial 6 finished with value: 14.70330494913052 and parameters: {'Epochs': 390, 'Hidden size': 189, 'n layers': 7, 'Learning rate': 0.0006054730081637745}. Best is trial 22 with value: 9.655413040307396.\u001b[0m\n"
     ]
    },
    {
     "name": "stdout",
     "output_type": "stream",
     "text": [
      "City: Bình Phước  _algo:lstm  -RMSE: 12.626309299583674\n",
      "Epoch: 225/300 - train_loss: 0.2452 - test_loss: 0.397803\n",
      "Epoch: 299/300 - train_loss: 0.3109 - test_loss: 0.245326\n",
      "City: Bình Phước  _algo:lstm  -RMSE: 11.508411860683601\n"
     ]
    },
    {
     "name": "stderr",
     "output_type": "stream",
     "text": [
      "\u001b[32m[I 2023-02-07 10:29:47,797]\u001b[0m Trial 9 finished with value: 11.508411860683601 and parameters: {'Epochs': 280, 'Hidden size': 26, 'n layers': 7, 'Learning rate': 0.00015823382314943558}. Best is trial 22 with value: 9.655413040307396.\u001b[0m\n"
     ]
    },
    {
     "name": "stdout",
     "output_type": "stream",
     "text": [
      "City: Bình Phước  _algo:lstm  -RMSE: 12.04286142107189\n",
      "City: Bình Phước  _algo:lstm  -RMSE: 14.438283442211645\n",
      "Epoch: 299/300 - train_loss: 0.1949 - test_loss: 0.402301\n",
      "City: Bình Phước  _algo:lstm  -RMSE: 14.351304919588808\n"
     ]
    },
    {
     "name": "stderr",
     "output_type": "stream",
     "text": [
      "\u001b[32m[I 2023-02-07 10:29:55,046]\u001b[0m Trial 1 finished with value: 14.351304919588808 and parameters: {'Epochs': 280, 'Hidden size': 55, 'n layers': 7, 'Learning rate': 0.0019544939859232288}. Best is trial 22 with value: 9.655413040307396.\u001b[0m\n",
      "\u001b[32m[I 2023-02-07 10:29:55,082]\u001b[0m A new study created in memory with name: no-name-32bf5e5c-3f19-46b7-a6c8-b30464f12fe9\u001b[0m\n"
     ]
    },
    {
     "name": "stdout",
     "output_type": "stream",
     "text": [
      "City: Bình Phước  _algo:lstm  -RMSE: 12.412090840067265\n",
      "City: Bình Phước  _algo:lstm  -RMSE: 11.555509349207352\n",
      "Study statistics for : \n",
      "  Number of finished trials:  30\n",
      "Best trial of city:  Bình Phước\n",
      "  Value:  9.655413040307396\n"
     ]
    },
    {
     "name": "stderr",
     "output_type": "stream",
     "text": [
      "<ipython-input-14-8244d6fc4512>:11: FutureWarning: suggest_loguniform has been deprecated in v3.0.0. This feature will be removed in v6.0.0. See https://github.com/optuna/optuna/releases/tag/v3.0.0. Use :func:`~optuna.trial.Trial.suggest_float` instead.\n",
      "  learning_rate = trial.suggest_loguniform('Learning rate', 1e-4, 1e-2)\n"
     ]
    },
    {
     "name": "stdout",
     "output_type": "stream",
     "text": [
      "Epoch:  0/200 - train_loss: 0.8695 - test_loss: 0.660210\n",
      "Epoch:  0/220 - train_loss: 1.1853 - test_loss: 0.877959\n",
      "Epoch:  0/230 - train_loss: 1.2487 - test_loss: 0.881563\n",
      "Epoch:  0/230 - train_loss: 1.2032 - test_loss: 0.891420\n",
      "Epoch:  0/230 - train_loss: 1.1879 - test_loss: 0.866254\n",
      "Epoch:  0/230 - train_loss: 0.9175 - test_loss: 0.661281\n",
      "Epoch:  0/230 - train_loss: 1.5788 - test_loss: 1.120573\n",
      "Epoch: 50/200 - train_loss: 0.2906 - test_loss: 0.177408\n",
      "Epoch: 55/220 - train_loss: 0.3101 - test_loss: 0.254600\n",
      "Epoch: 57/230 - train_loss: 0.3101 - test_loss: 0.241536\n",
      "Epoch: 57/230 - train_loss: 0.6160 - test_loss: 0.611849\n",
      "Epoch:  0/230 - train_loss: 0.9063 - test_loss: 0.686177\n",
      "Epoch: 100/200 - train_loss: 0.2708 - test_loss: 0.225926\n",
      "Epoch: 110/220 - train_loss: 0.2986 - test_loss: 0.240638\n",
      "Epoch: 57/230 - train_loss: 0.3431 - test_loss: 0.295215\n",
      "Epoch: 114/230 - train_loss: 0.2912 - test_loss: 0.259717\n",
      "Epoch: 114/230 - train_loss: 0.5126 - test_loss: 0.497389\n",
      "Epoch: 150/200 - train_loss: 0.2571 - test_loss: 0.232639\n",
      "Epoch: 165/220 - train_loss: 0.2876 - test_loss: 0.225625\n",
      "Epoch: 57/230 - train_loss: 0.3183 - test_loss: 0.342519\n",
      "Epoch: 171/230 - train_loss: 0.2783 - test_loss: 0.222551\n",
      "Epoch: 199/200 - train_loss: 0.2118 - test_loss: 0.346953\n",
      "City: Bình Phước  _algo:lstm  -RMSE: 9.9547707871752\n",
      "City: Bình Phước  _algo:lstm  -RMSE: 10.25589991823644\n"
     ]
    },
    {
     "name": "stderr",
     "output_type": "stream",
     "text": [
      "\u001b[32m[I 2023-02-07 10:31:11,361]\u001b[0m Trial 3 finished with value: 9.9547707871752 and parameters: {'Epochs': 380, 'Hidden size': 17, 'n layers': 3, 'Learning rate': 0.004186888997948068}. Best is trial 3 with value: 9.9547707871752.\u001b[0m\n"
     ]
    },
    {
     "name": "stdout",
     "output_type": "stream",
     "text": [
      "City: Bình Phước  _algo:lstm  -RMSE: 11.724783236268577\n"
     ]
    },
    {
     "name": "stderr",
     "output_type": "stream",
     "text": [
      "<ipython-input-14-8244d6fc4512>:11: FutureWarning: suggest_loguniform has been deprecated in v3.0.0. This feature will be removed in v6.0.0. See https://github.com/optuna/optuna/releases/tag/v3.0.0. Use :func:`~optuna.trial.Trial.suggest_float` instead.\n",
      "  learning_rate = trial.suggest_loguniform('Learning rate', 1e-4, 1e-2)\n"
     ]
    },
    {
     "name": "stdout",
     "output_type": "stream",
     "text": [
      "Epoch:  0/380 - train_loss: 0.9275 - test_loss: 0.669644\n",
      "Epoch: 171/230 - train_loss: 0.4341 - test_loss: 0.402149\n",
      "Epoch: 219/220 - train_loss: 0.2804 - test_loss: 0.214829\n",
      "City: Bình Phước  _algo:lstm  -RMSE: 11.231013987762662\n",
      "City: Bình Phước  _algo:lstm  -RMSE: 13.407914660671041\n"
     ]
    },
    {
     "name": "stderr",
     "output_type": "stream",
     "text": [
      "\u001b[32m[I 2023-02-07 10:31:25,887]\u001b[0m Trial 0 finished with value: 11.231013987762662 and parameters: {'Epochs': 360, 'Hidden size': 6, 'n layers': 3, 'Learning rate': 0.0014193072319888147}. Best is trial 3 with value: 9.9547707871752.\u001b[0m\n"
     ]
    },
    {
     "name": "stdout",
     "output_type": "stream",
     "text": [
      "City: Bình Phước  _algo:lstm  -RMSE: 16.384327010499145\n"
     ]
    },
    {
     "name": "stderr",
     "output_type": "stream",
     "text": [
      "<ipython-input-14-8244d6fc4512>:11: FutureWarning: suggest_loguniform has been deprecated in v3.0.0. This feature will be removed in v6.0.0. See https://github.com/optuna/optuna/releases/tag/v3.0.0. Use :func:`~optuna.trial.Trial.suggest_float` instead.\n",
      "  learning_rate = trial.suggest_loguniform('Learning rate', 1e-4, 1e-2)\n"
     ]
    },
    {
     "name": "stdout",
     "output_type": "stream",
     "text": [
      "Epoch:  0/130 - train_loss: 1.4503 - test_loss: 1.071588\n",
      "Epoch: 114/230 - train_loss: 0.2883 - test_loss: 0.225089\n",
      "Epoch: 228/230 - train_loss: 0.2868 - test_loss: 0.202148\n",
      "Epoch: 229/230 - train_loss: 0.2750 - test_loss: 0.256081\n",
      "City: Bình Phước  _algo:lstm  -RMSE: 11.31656878798119\n",
      "City: Bình Phước  _algo:lstm  -RMSE: 10.404423510277656\n"
     ]
    },
    {
     "name": "stderr",
     "output_type": "stream",
     "text": [
      "\u001b[32m[I 2023-02-07 10:31:41,755]\u001b[0m Trial 13 finished with value: 11.31656878798119 and parameters: {'Epochs': 470, 'Hidden size': 17, 'n layers': 3, 'Learning rate': 0.0013497680202424949}. Best is trial 3 with value: 9.9547707871752.\u001b[0m\n"
     ]
    },
    {
     "name": "stdout",
     "output_type": "stream",
     "text": [
      "City: Bình Phước  _algo:lstm  -RMSE: 11.34336202515309\n"
     ]
    },
    {
     "name": "stderr",
     "output_type": "stream",
     "text": [
      "<ipython-input-14-8244d6fc4512>:11: FutureWarning: suggest_loguniform has been deprecated in v3.0.0. This feature will be removed in v6.0.0. See https://github.com/optuna/optuna/releases/tag/v3.0.0. Use :func:`~optuna.trial.Trial.suggest_float` instead.\n",
      "  learning_rate = trial.suggest_loguniform('Learning rate', 1e-4, 1e-2)\n"
     ]
    },
    {
     "name": "stdout",
     "output_type": "stream",
     "text": [
      "Epoch: 32/130 - train_loss: 1.1191 - test_loss: 0.810009\n",
      "Epoch:  0/230 - train_loss: 0.8777 - test_loss: 0.718376\n",
      "Epoch: 228/230 - train_loss: 0.3791 - test_loss: 0.337596\n",
      "Epoch: 229/230 - train_loss: 0.3772 - test_loss: 0.330250\n",
      "City: Bình Phước  _algo:lstm  -RMSE: 16.34727047117545\n",
      "City: Bình Phước  _algo:lstm  -RMSE: 16.97564305853877\n"
     ]
    },
    {
     "name": "stderr",
     "output_type": "stream",
     "text": [
      "\u001b[32m[I 2023-02-07 10:31:59,002]\u001b[0m Trial 7 finished with value: 16.34727047117545 and parameters: {'Epochs': 280, 'Hidden size': 21, 'n layers': 3, 'Learning rate': 0.00013370277109105426}. Best is trial 3 with value: 9.9547707871752.\u001b[0m\n"
     ]
    },
    {
     "name": "stdout",
     "output_type": "stream",
     "text": [
      "City: Bình Phước  _algo:lstm  -RMSE: 17.05054748195088\n"
     ]
    },
    {
     "name": "stderr",
     "output_type": "stream",
     "text": [
      "<ipython-input-14-8244d6fc4512>:11: FutureWarning: suggest_loguniform has been deprecated in v3.0.0. This feature will be removed in v6.0.0. See https://github.com/optuna/optuna/releases/tag/v3.0.0. Use :func:`~optuna.trial.Trial.suggest_float` instead.\n",
      "  learning_rate = trial.suggest_loguniform('Learning rate', 1e-4, 1e-2)\n"
     ]
    },
    {
     "name": "stdout",
     "output_type": "stream",
     "text": [
      "Epoch: 64/130 - train_loss: 0.6071 - test_loss: 0.541484\n",
      "Epoch:  0/330 - train_loss: 1.1781 - test_loss: 0.857199\n",
      "Epoch: 96/130 - train_loss: 0.4835 - test_loss: 0.484737\n",
      "Epoch: 114/230 - train_loss: 0.3157 - test_loss: 0.231803\n",
      "Epoch: 171/230 - train_loss: 0.2839 - test_loss: 0.220224\n",
      "Epoch: 128/130 - train_loss: 0.4303 - test_loss: 0.436592\n",
      "Epoch: 129/130 - train_loss: 0.4273 - test_loss: 0.433832\n",
      "City: Bình Phước  _algo:lstm  -RMSE: 25.853104446401638\n",
      "City: Bình Phước  _algo:lstm  -RMSE: 25.790105703428384\n"
     ]
    },
    {
     "name": "stderr",
     "output_type": "stream",
     "text": [
      "\u001b[32m[I 2023-02-07 10:32:36,553]\u001b[0m Trial 21 finished with value: 25.853104446401638 and parameters: {'Epochs': 130, 'Hidden size': 5, 'n layers': 3, 'Learning rate': 0.0001642562587514676}. Best is trial 3 with value: 9.9547707871752.\u001b[0m\n"
     ]
    },
    {
     "name": "stdout",
     "output_type": "stream",
     "text": [
      "City: Bình Phước  _algo:lstm  -RMSE: 25.30563035529469\n"
     ]
    },
    {
     "name": "stderr",
     "output_type": "stream",
     "text": [
      "<ipython-input-14-8244d6fc4512>:11: FutureWarning: suggest_loguniform has been deprecated in v3.0.0. This feature will be removed in v6.0.0. See https://github.com/optuna/optuna/releases/tag/v3.0.0. Use :func:`~optuna.trial.Trial.suggest_float` instead.\n",
      "  learning_rate = trial.suggest_loguniform('Learning rate', 1e-4, 1e-2)\n"
     ]
    },
    {
     "name": "stdout",
     "output_type": "stream",
     "text": [
      "Epoch:  0/340 - train_loss: 1.1120 - test_loss: 0.759935\n",
      "Epoch: 57/230 - train_loss: 0.6386 - test_loss: 0.642585\n",
      "Epoch: 95/380 - train_loss: 0.3654 - test_loss: 0.384909\n",
      "Epoch:  0/230 - train_loss: 1.0435 - test_loss: 0.779907\n",
      "Epoch: 82/330 - train_loss: 0.4551 - test_loss: 0.399089\n",
      "Epoch: 228/230 - train_loss: 0.2807 - test_loss: 0.244789\n",
      "Epoch: 229/230 - train_loss: 0.2780 - test_loss: 0.236978\n",
      "City: Bình Phước  _algo:lstm  -RMSE: 13.663871084052621\n",
      "City: Bình Phước  _algo:lstm  -RMSE: 11.723381793281762\n"
     ]
    },
    {
     "name": "stderr",
     "output_type": "stream",
     "text": [
      "\u001b[32m[I 2023-02-07 10:33:31,511]\u001b[0m Trial 1 finished with value: 13.663871084052621 and parameters: {'Epochs': 270, 'Hidden size': 17, 'n layers': 6, 'Learning rate': 0.0006592475927906908}. Best is trial 3 with value: 9.9547707871752.\u001b[0m\n"
     ]
    },
    {
     "name": "stdout",
     "output_type": "stream",
     "text": [
      "City: Bình Phước  _algo:lstm  -RMSE: 12.252789981406357\n"
     ]
    },
    {
     "name": "stderr",
     "output_type": "stream",
     "text": [
      "<ipython-input-14-8244d6fc4512>:11: FutureWarning: suggest_loguniform has been deprecated in v3.0.0. This feature will be removed in v6.0.0. See https://github.com/optuna/optuna/releases/tag/v3.0.0. Use :func:`~optuna.trial.Trial.suggest_float` instead.\n",
      "  learning_rate = trial.suggest_loguniform('Learning rate', 1e-4, 1e-2)\n"
     ]
    },
    {
     "name": "stdout",
     "output_type": "stream",
     "text": [
      "Epoch:  0/140 - train_loss: 0.8595 - test_loss: 0.639406\n",
      "Epoch: 57/230 - train_loss: 0.3014 - test_loss: 0.256557\n",
      "Epoch: 85/340 - train_loss: 0.2822 - test_loss: 0.260327\n",
      "Epoch: 114/230 - train_loss: 0.5433 - test_loss: 0.550762\n",
      "Epoch: 171/230 - train_loss: 0.3139 - test_loss: 0.279398\n",
      "Epoch: 164/330 - train_loss: 0.3173 - test_loss: 0.284244\n",
      "Epoch: 35/140 - train_loss: 0.3592 - test_loss: 0.373722\n",
      "Epoch: 190/380 - train_loss: 0.3513 - test_loss: 0.354046\n",
      "Epoch: 171/230 - train_loss: 0.4711 - test_loss: 0.477867\n",
      "Epoch: 170/340 - train_loss: 0.2616 - test_loss: 0.325341\n",
      "Epoch: 246/330 - train_loss: 0.2804 - test_loss: 0.230303\n",
      "Epoch: 70/140 - train_loss: 0.3557 - test_loss: 0.398099\n",
      "Epoch: 228/230 - train_loss: 0.2820 - test_loss: 0.258802\n",
      "Epoch: 229/230 - train_loss: 0.2823 - test_loss: 0.240820\n",
      "City: Bình Phước  _algo:lstm  -RMSE: 11.827817814783321\n",
      "City: Bình Phước  _algo:lstm  -RMSE: 11.761629120344976\n"
     ]
    },
    {
     "name": "stderr",
     "output_type": "stream",
     "text": [
      "\u001b[32m[I 2023-02-07 10:35:27,239]\u001b[0m Trial 6 finished with value: 11.827817814783321 and parameters: {'Epochs': 420, 'Hidden size': 8, 'n layers': 8, 'Learning rate': 0.003989046372631555}. Best is trial 3 with value: 9.9547707871752.\u001b[0m\n"
     ]
    },
    {
     "name": "stdout",
     "output_type": "stream",
     "text": [
      "City: Bình Phước  _algo:lstm  -RMSE: 12.448290057956903\n"
     ]
    },
    {
     "name": "stderr",
     "output_type": "stream",
     "text": [
      "<ipython-input-14-8244d6fc4512>:11: FutureWarning: suggest_loguniform has been deprecated in v3.0.0. This feature will be removed in v6.0.0. See https://github.com/optuna/optuna/releases/tag/v3.0.0. Use :func:`~optuna.trial.Trial.suggest_float` instead.\n",
      "  learning_rate = trial.suggest_loguniform('Learning rate', 1e-4, 1e-2)\n"
     ]
    },
    {
     "name": "stdout",
     "output_type": "stream",
     "text": [
      "Epoch:  0/240 - train_loss: 0.9848 - test_loss: 0.688907\n",
      "Epoch: 105/140 - train_loss: 0.3615 - test_loss: 0.370974\n",
      "Epoch: 228/230 - train_loss: 0.4168 - test_loss: 0.425125\n",
      "Epoch: 229/230 - train_loss: 0.4133 - test_loss: 0.424349\n",
      "City: Bình Phước  _algo:lstm  -RMSE: 26.624284294626474\n",
      "Epoch: 328/330 - train_loss: 0.2756 - test_loss: 0.200337\n",
      "City: Bình Phước  _algo:lstm  -RMSE: 26.343660356219452\n",
      "Epoch: 329/330 - train_loss: 0.2721 - test_loss: 0.235811\n"
     ]
    },
    {
     "name": "stderr",
     "output_type": "stream",
     "text": [
      "\u001b[32m[I 2023-02-07 10:36:15,730]\u001b[0m Trial 22 finished with value: 26.624284294626474 and parameters: {'Epochs': 230, 'Hidden size': 8, 'n layers': 9, 'Learning rate': 0.00013262831148221166}. Best is trial 3 with value: 9.9547707871752.\u001b[0m\n"
     ]
    },
    {
     "name": "stdout",
     "output_type": "stream",
     "text": [
      "City: Bình Phước  _algo:lstm  -RMSE: 26.18095467701562\n",
      "City: Bình Phước  _algo:lstm  -RMSE: 10.488108845299044\n"
     ]
    },
    {
     "name": "stderr",
     "output_type": "stream",
     "text": [
      "<ipython-input-14-8244d6fc4512>:11: FutureWarning: suggest_loguniform has been deprecated in v3.0.0. This feature will be removed in v6.0.0. See https://github.com/optuna/optuna/releases/tag/v3.0.0. Use :func:`~optuna.trial.Trial.suggest_float` instead.\n",
      "  learning_rate = trial.suggest_loguniform('Learning rate', 1e-4, 1e-2)\n"
     ]
    },
    {
     "name": "stdout",
     "output_type": "stream",
     "text": [
      "City: Bình Phước  _algo:lstm  -RMSE: 10.8002119486006\n"
     ]
    },
    {
     "name": "stderr",
     "output_type": "stream",
     "text": [
      "\u001b[32m[I 2023-02-07 10:36:17,359]\u001b[0m Trial 23 finished with value: 10.488108845299044 and parameters: {'Epochs': 330, 'Hidden size': 104, 'n layers': 4, 'Learning rate': 0.0002686528401794287}. Best is trial 3 with value: 9.9547707871752.\u001b[0m\n"
     ]
    },
    {
     "name": "stdout",
     "output_type": "stream",
     "text": [
      "City: Bình Phước  _algo:lstm  -RMSE: 12.317936443255727\n"
     ]
    },
    {
     "name": "stderr",
     "output_type": "stream",
     "text": [
      "<ipython-input-14-8244d6fc4512>:11: FutureWarning: suggest_loguniform has been deprecated in v3.0.0. This feature will be removed in v6.0.0. See https://github.com/optuna/optuna/releases/tag/v3.0.0. Use :func:`~optuna.trial.Trial.suggest_float` instead.\n",
      "  learning_rate = trial.suggest_loguniform('Learning rate', 1e-4, 1e-2)\n"
     ]
    },
    {
     "name": "stdout",
     "output_type": "stream",
     "text": [
      "Epoch:  0/500 - train_loss: 1.1669 - test_loss: 0.807263\n",
      "Epoch: 255/340 - train_loss: 0.1961 - test_loss: 0.344988\n",
      "Epoch:  0/370 - train_loss: 1.0894 - test_loss: 0.809428\n",
      "Epoch: 285/380 - train_loss: 0.3647 - test_loss: 0.370320\n",
      "Epoch: 114/230 - train_loss: 0.2774 - test_loss: 0.211751\n",
      "Epoch: 139/140 - train_loss: 0.3589 - test_loss: 0.355674\n",
      "City: Bình Phước  _algo:lstm  -RMSE: 19.49550269268655\n",
      "City: Bình Phước  _algo:lstm  -RMSE: 21.09890396455104\n",
      "Epoch: 60/240 - train_loss: 0.2993 - test_loss: 0.263596\n"
     ]
    },
    {
     "name": "stderr",
     "output_type": "stream",
     "text": [
      "\u001b[32m[I 2023-02-07 10:37:04,287]\u001b[0m Trial 25 finished with value: 19.49550269268655 and parameters: {'Epochs': 140, 'Hidden size': 68, 'n layers': 10, 'Learning rate': 0.004566770920568335}. Best is trial 3 with value: 9.9547707871752.\u001b[0m\n"
     ]
    },
    {
     "name": "stdout",
     "output_type": "stream",
     "text": [
      "City: Bình Phước  _algo:lstm  -RMSE: 20.09251636602092\n"
     ]
    },
    {
     "name": "stderr",
     "output_type": "stream",
     "text": [
      "<ipython-input-14-8244d6fc4512>:11: FutureWarning: suggest_loguniform has been deprecated in v3.0.0. This feature will be removed in v6.0.0. See https://github.com/optuna/optuna/releases/tag/v3.0.0. Use :func:`~optuna.trial.Trial.suggest_float` instead.\n",
      "  learning_rate = trial.suggest_loguniform('Learning rate', 1e-4, 1e-2)\n"
     ]
    },
    {
     "name": "stdout",
     "output_type": "stream",
     "text": [
      "Epoch:  0/490 - train_loss: 0.8456 - test_loss: 0.559110\n",
      "Epoch:  0/230 - train_loss: 0.8244 - test_loss: 0.632131\n",
      "Epoch: 339/340 - train_loss: 0.1277 - test_loss: 0.425865\n",
      "City: Bình Phước  _algo:lstm  -RMSE: 9.895287545677789\n",
      "City: Bình Phước  _algo:lstm  -RMSE: 11.520840743319205\n"
     ]
    },
    {
     "name": "stderr",
     "output_type": "stream",
     "text": [
      "\u001b[32m[I 2023-02-07 10:37:58,707]\u001b[0m Trial 24 finished with value: 9.895287545677789 and parameters: {'Epochs': 340, 'Hidden size': 58, 'n layers': 6, 'Learning rate': 0.0012823679223349306}. Best is trial 24 with value: 9.895287545677789.\u001b[0m\n"
     ]
    },
    {
     "name": "stdout",
     "output_type": "stream",
     "text": [
      "City: Bình Phước  _algo:lstm  -RMSE: 14.073032242663594\n",
      "Epoch: 92/370 - train_loss: 0.5076 - test_loss: 0.485486\n",
      "Epoch: 120/240 - train_loss: 0.2696 - test_loss: 0.204733\n",
      "Epoch: 171/230 - train_loss: 0.2667 - test_loss: 0.287768\n",
      "Epoch: 379/380 - train_loss: 0.3535 - test_loss: 0.391858\n",
      "City: Bình Phước  _algo:lstm  -RMSE: 14.722260205942318\n",
      "City: Bình Phước  _algo:lstm  -RMSE: 13.863285754268084\n"
     ]
    },
    {
     "name": "stderr",
     "output_type": "stream",
     "text": [
      "\u001b[32m[I 2023-02-07 10:39:06,142]\u001b[0m Trial 20 finished with value: 14.722260205942318 and parameters: {'Epochs': 380, 'Hidden size': 161, 'n layers': 9, 'Learning rate': 0.0023068654739543367}. Best is trial 24 with value: 9.895287545677789.\u001b[0m\n"
     ]
    },
    {
     "name": "stdout",
     "output_type": "stream",
     "text": [
      "City: Bình Phước  _algo:lstm  -RMSE: 17.61323315817965\n",
      "Epoch: 57/230 - train_loss: 0.2851 - test_loss: 0.213914\n",
      "Epoch: 180/240 - train_loss: 0.2632 - test_loss: 0.261163\n",
      "Epoch: 125/500 - train_loss: 0.3599 - test_loss: 0.393974\n",
      "Epoch: 122/490 - train_loss: 0.2725 - test_loss: 0.403584\n",
      "Epoch: 184/370 - train_loss: 0.3584 - test_loss: 0.310778\n",
      "Epoch: 228/230 - train_loss: 0.2668 - test_loss: 0.341549\n",
      "Epoch: 229/230 - train_loss: 0.2660 - test_loss: 0.340237\n",
      "City: Bình Phước  _algo:lstm  -RMSE: 11.069515176116367\n",
      "City: Bình Phước  _algo:lstm  -RMSE: 12.226639858488364\n"
     ]
    },
    {
     "name": "stderr",
     "output_type": "stream",
     "text": [
      "\u001b[32m[I 2023-02-07 10:40:19,670]\u001b[0m Trial 5 finished with value: 11.069515176116367 and parameters: {'Epochs': 430, 'Hidden size': 6, 'n layers': 6, 'Learning rate': 0.0018960630923622655}. Best is trial 24 with value: 9.895287545677789.\u001b[0m\n"
     ]
    },
    {
     "name": "stdout",
     "output_type": "stream",
     "text": [
      "City: Bình Phước  _algo:lstm  -RMSE: 14.18584813163584\n",
      "Epoch:  0/230 - train_loss: 1.1388 - test_loss: 0.842728\n",
      "Epoch: 114/230 - train_loss: 0.2791 - test_loss: 0.214529\n",
      "Epoch: 239/240 - train_loss: 0.2458 - test_loss: 0.294097\n",
      "City: Bình Phước  _algo:lstm  -RMSE: 10.874940523666695\n",
      "City: Bình Phước  _algo:lstm  -RMSE: 9.394870681650362\n"
     ]
    },
    {
     "name": "stderr",
     "output_type": "stream",
     "text": [
      "\u001b[32m[I 2023-02-07 10:40:44,340]\u001b[0m Trial 26 finished with value: 10.874940523666695 and parameters: {'Epochs': 240, 'Hidden size': 109, 'n layers': 3, 'Learning rate': 0.0010370516082589965}. Best is trial 24 with value: 9.895287545677789.\u001b[0m\n"
     ]
    },
    {
     "name": "stdout",
     "output_type": "stream",
     "text": [
      "City: Bình Phước  _algo:lstm  -RMSE: 9.270103977656932\n",
      "Epoch: 57/230 - train_loss: 0.3177 - test_loss: 0.265596\n",
      "Epoch:  0/230 - train_loss: 1.1056 - test_loss: 0.745895\n",
      "Epoch: 276/370 - train_loss: 0.2890 - test_loss: 0.257815\n",
      "Epoch: 171/230 - train_loss: 0.2761 - test_loss: 0.300054\n",
      "Epoch: 57/230 - train_loss: 0.3170 - test_loss: 0.436304\n",
      "Epoch: 244/490 - train_loss: 0.2306 - test_loss: 0.295299\n",
      "Epoch: 114/230 - train_loss: 0.3081 - test_loss: 0.405826\n",
      "Epoch: 228/230 - train_loss: 0.2608 - test_loss: 0.263145\n",
      "Epoch: 229/230 - train_loss: 0.2652 - test_loss: 0.263747\n",
      "City: Bình Phước  _algo:lstm  -RMSE: 12.898105587113477\n",
      "City: Bình Phước  _algo:lstm  -RMSE: 11.066141103956733\n"
     ]
    },
    {
     "name": "stderr",
     "output_type": "stream",
     "text": [
      "\u001b[32m[I 2023-02-07 10:42:34,673]\u001b[0m Trial 14 finished with value: 12.898105587113477 and parameters: {'Epochs': 220, 'Hidden size': 12, 'n layers': 4, 'Learning rate': 0.002348740392579138}. Best is trial 24 with value: 9.895287545677789.\u001b[0m\n"
     ]
    },
    {
     "name": "stdout",
     "output_type": "stream",
     "text": [
      "City: Bình Phước  _algo:lstm  -RMSE: 10.076626198119415\n",
      "Epoch: 250/500 - train_loss: 0.3601 - test_loss: 0.378425\n",
      "Epoch: 368/370 - train_loss: 0.2782 - test_loss: 0.245571\n",
      "Epoch: 369/370 - train_loss: 0.2773 - test_loss: 0.224362\n",
      "City: Bình Phước  _algo:lstm  -RMSE: 13.812741180566135\n",
      "Epoch:  0/230 - train_loss: 1.4380 - test_loss: 1.061072\n",
      "City: Bình Phước  _algo:lstm  -RMSE: 12.77134574606362\n"
     ]
    },
    {
     "name": "stderr",
     "output_type": "stream",
     "text": [
      "\u001b[32m[I 2023-02-07 10:42:56,301]\u001b[0m Trial 28 finished with value: 13.812741180566135 and parameters: {'Epochs': 370, 'Hidden size': 107, 'n layers': 6, 'Learning rate': 0.00018330696465514328}. Best is trial 24 with value: 9.895287545677789.\u001b[0m\n"
     ]
    },
    {
     "name": "stdout",
     "output_type": "stream",
     "text": [
      "City: Bình Phước  _algo:lstm  -RMSE: 13.3430891493269\n",
      "Epoch: 57/230 - train_loss: 0.3253 - test_loss: 0.340174\n",
      "Epoch: 114/230 - train_loss: 0.3231 - test_loss: 0.411629\n",
      "Epoch: 171/230 - train_loss: 0.3015 - test_loss: 0.416369\n",
      "Epoch:  0/230 - train_loss: 0.9164 - test_loss: 0.807427\n",
      "Epoch: 366/490 - train_loss: 0.2418 - test_loss: 0.342018\n",
      "Epoch: 57/230 - train_loss: 0.2996 - test_loss: 0.302150\n",
      "Epoch: 171/230 - train_loss: 0.3298 - test_loss: 0.430425\n",
      "Epoch: 228/230 - train_loss: 0.2936 - test_loss: 0.455635\n",
      "Epoch: 229/230 - train_loss: 0.2968 - test_loss: 0.434603\n",
      "City: Bình Phước  _algo:lstm  -RMSE: 15.432470336431674\n",
      "Epoch: 114/230 - train_loss: 0.3217 - test_loss: 0.303787\n",
      "City: Bình Phước  _algo:lstm  -RMSE: 13.627417201140549\n"
     ]
    },
    {
     "name": "stderr",
     "output_type": "stream",
     "text": [
      "\u001b[32m[I 2023-02-07 10:44:40,905]\u001b[0m Trial 11 finished with value: 15.432470336431674 and parameters: {'Epochs': 430, 'Hidden size': 11, 'n layers': 9, 'Learning rate': 0.0015172105880150593}. Best is trial 24 with value: 9.895287545677789.\u001b[0m\n"
     ]
    },
    {
     "name": "stdout",
     "output_type": "stream",
     "text": [
      "City: Bình Phước  _algo:lstm  -RMSE: 13.713127274794758\n",
      "Epoch:  0/230 - train_loss: 1.1354 - test_loss: 0.761321\n",
      "Epoch: 375/500 - train_loss: 0.3559 - test_loss: 0.368813\n",
      "Epoch: 57/230 - train_loss: 0.5764 - test_loss: 0.582231\n",
      "Epoch: 228/230 - train_loss: 0.3273 - test_loss: 0.422021\n",
      "Epoch: 229/230 - train_loss: 0.3275 - test_loss: 0.413913\n",
      "City: Bình Phước  _algo:lstm  -RMSE: 17.20712530881049\n",
      "City: Bình Phước  _algo:lstm  -RMSE: 16.872730972880618\n"
     ]
    },
    {
     "name": "stderr",
     "output_type": "stream",
     "text": [
      "\u001b[32m[I 2023-02-07 10:45:45,948]\u001b[0m Trial 4 finished with value: 17.20712530881049 and parameters: {'Epochs': 290, 'Hidden size': 85, 'n layers': 8, 'Learning rate': 0.004691006680347101}. Best is trial 24 with value: 9.895287545677789.\u001b[0m\n"
     ]
    },
    {
     "name": "stdout",
     "output_type": "stream",
     "text": [
      "City: Bình Phước  _algo:lstm  -RMSE: 15.811470895969792\n",
      "Epoch: 114/230 - train_loss: 0.2763 - test_loss: 0.292111\n",
      "Epoch:  0/230 - train_loss: 1.8328 - test_loss: 1.345791\n",
      "Epoch: 171/230 - train_loss: 0.3186 - test_loss: 0.325327\n",
      "Epoch: 488/490 - train_loss: 0.1747 - test_loss: 0.307780\n",
      "Epoch: 489/490 - train_loss: 0.1567 - test_loss: 0.278135\n",
      "City: Bình Phước  _algo:lstm  -RMSE: 17.258082320447013\n",
      "City: Bình Phước  _algo:lstm  -RMSE: 13.539474615864021\n"
     ]
    },
    {
     "name": "stderr",
     "output_type": "stream",
     "text": [
      "\u001b[32m[I 2023-02-07 10:46:04,880]\u001b[0m Trial 29 finished with value: 17.258082320447013 and parameters: {'Epochs': 490, 'Hidden size': 54, 'n layers': 6, 'Learning rate': 0.009627145548901046}. Best is trial 24 with value: 9.895287545677789.\u001b[0m\n"
     ]
    },
    {
     "name": "stdout",
     "output_type": "stream",
     "text": [
      "City: Bình Phước  _algo:lstm  -RMSE: 11.757539651845029\n",
      "Epoch:  0/230 - train_loss: 1.1562 - test_loss: 0.822486\n",
      "Epoch: 57/230 - train_loss: 0.3280 - test_loss: 0.269043\n",
      "Epoch: 114/230 - train_loss: 0.4659 - test_loss: 0.475434\n",
      "Epoch: 171/230 - train_loss: 0.2721 - test_loss: 0.307939\n",
      "Epoch: 228/230 - train_loss: 0.3240 - test_loss: 0.299320\n",
      "Epoch: 229/230 - train_loss: 0.3227 - test_loss: 0.305587\n",
      "City: Bình Phước  _algo:lstm  -RMSE: 19.109426146085106\n",
      "City: Bình Phước  _algo:lstm  -RMSE: 17.775425987474495\n"
     ]
    },
    {
     "name": "stderr",
     "output_type": "stream",
     "text": [
      "\u001b[32m[I 2023-02-07 10:47:21,138]\u001b[0m Trial 2 finished with value: 19.109426146085106 and parameters: {'Epochs': 470, 'Hidden size': 18, 'n layers': 10, 'Learning rate': 0.001035651156660378}. Best is trial 24 with value: 9.895287545677789.\u001b[0m\n"
     ]
    },
    {
     "name": "stdout",
     "output_type": "stream",
     "text": [
      "City: Bình Phước  _algo:lstm  -RMSE: 17.53650081798248\n",
      "Epoch:  0/230 - train_loss: 0.8725 - test_loss: 0.577931\n",
      "Epoch: 57/230 - train_loss: 0.2898 - test_loss: 0.222152\n",
      "Epoch: 499/500 - train_loss: 0.3576 - test_loss: 0.370785\n",
      "City: Bình Phước  _algo:lstm  -RMSE: 19.51372961353937\n",
      "City: Bình Phước  _algo:lstm  -RMSE: 19.30824306508883\n"
     ]
    },
    {
     "name": "stderr",
     "output_type": "stream",
     "text": [
      "\u001b[32m[I 2023-02-07 10:48:03,579]\u001b[0m Trial 27 finished with value: 19.51372961353937 and parameters: {'Epochs': 500, 'Hidden size': 224, 'n layers': 10, 'Learning rate': 0.007782209237892347}. Best is trial 24 with value: 9.895287545677789.\u001b[0m\n"
     ]
    },
    {
     "name": "stdout",
     "output_type": "stream",
     "text": [
      "City: Bình Phước  _algo:lstm  -RMSE: 19.53151058467656\n",
      "Epoch: 114/230 - train_loss: 0.3364 - test_loss: 0.334033\n",
      "Epoch: 228/230 - train_loss: 0.2554 - test_loss: 0.346162\n",
      "Epoch:  0/230 - train_loss: 1.3329 - test_loss: 0.983894\n",
      "Epoch: 229/230 - train_loss: 0.2603 - test_loss: 0.355608\n",
      "City: Bình Phước  _algo:lstm  -RMSE: 16.81672912038307\n",
      "City: Bình Phước  _algo:lstm  -RMSE: 14.325794777557716\n"
     ]
    },
    {
     "name": "stderr",
     "output_type": "stream",
     "text": [
      "\u001b[32m[I 2023-02-07 10:48:16,695]\u001b[0m Trial 10 finished with value: 16.81672912038307 and parameters: {'Epochs': 310, 'Hidden size': 9, 'n layers': 8, 'Learning rate': 0.003587974368544117}. Best is trial 24 with value: 9.895287545677789.\u001b[0m\n"
     ]
    },
    {
     "name": "stdout",
     "output_type": "stream",
     "text": [
      "City: Bình Phước  _algo:lstm  -RMSE: 13.61486269656702\n",
      "Epoch: 171/230 - train_loss: 0.4054 - test_loss: 0.415661\n",
      "Epoch: 57/230 - train_loss: 0.5570 - test_loss: 0.553416\n",
      "Epoch:  0/230 - train_loss: 1.1257 - test_loss: 0.761664\n",
      "Epoch: 114/230 - train_loss: 0.2815 - test_loss: 0.255768\n",
      "Epoch: 57/230 - train_loss: 0.5656 - test_loss: 0.527324\n",
      "Epoch: 114/230 - train_loss: 0.3833 - test_loss: 0.381101\n",
      "Epoch: 171/230 - train_loss: 0.3181 - test_loss: 0.331961\n",
      "Epoch: 228/230 - train_loss: 0.3541 - test_loss: 0.338465\n",
      "Epoch: 229/230 - train_loss: 0.3515 - test_loss: 0.328482\n",
      "City: Bình Phước  _algo:lstm  -RMSE: 21.496313342322487\n",
      "City: Bình Phước  _algo:lstm  -RMSE: 22.722230011631495\n"
     ]
    },
    {
     "name": "stderr",
     "output_type": "stream",
     "text": [
      "\u001b[32m[I 2023-02-07 10:49:25,361]\u001b[0m Trial 8 finished with value: 21.496313342322487 and parameters: {'Epochs': 460, 'Hidden size': 14, 'n layers': 9, 'Learning rate': 0.00016716287869305953}. Best is trial 24 with value: 9.895287545677789.\u001b[0m\n"
     ]
    },
    {
     "name": "stdout",
     "output_type": "stream",
     "text": [
      "City: Bình Phước  _algo:lstm  -RMSE: 21.065234370029142\n",
      "Epoch: 57/230 - train_loss: 0.3584 - test_loss: 0.413196\n",
      "Epoch: 171/230 - train_loss: 0.2852 - test_loss: 0.285262\n",
      "Epoch: 114/230 - train_loss: 0.4193 - test_loss: 0.438197\n",
      "Epoch: 171/230 - train_loss: 0.3201 - test_loss: 0.290435\n",
      "Epoch: 57/230 - train_loss: 0.5138 - test_loss: 0.510447\n",
      "Epoch: 228/230 - train_loss: 0.3222 - test_loss: 0.413561\n",
      "Epoch: 229/230 - train_loss: 0.3281 - test_loss: 0.371790\n",
      "City: Bình Phước  _algo:lstm  -RMSE: 11.618445609130095\n",
      "City: Bình Phước  _algo:lstm  -RMSE: 12.562147549285582\n"
     ]
    },
    {
     "name": "stderr",
     "output_type": "stream",
     "text": [
      "\u001b[32m[I 2023-02-07 10:50:22,404]\u001b[0m Trial 16 finished with value: 11.618445609130095 and parameters: {'Epochs': 220, 'Hidden size': 163, 'n layers': 9, 'Learning rate': 0.0014882344842609765}. Best is trial 24 with value: 9.895287545677789.\u001b[0m\n"
     ]
    },
    {
     "name": "stdout",
     "output_type": "stream",
     "text": [
      "City: Bình Phước  _algo:lstm  -RMSE: 12.195534107832712\n",
      "Epoch: 228/230 - train_loss: 0.2673 - test_loss: 0.318865\n",
      "Epoch: 229/230 - train_loss: 0.2672 - test_loss: 0.301040\n",
      "City: Bình Phước  _algo:lstm  -RMSE: 9.826587279252756\n",
      "City: Bình Phước  _algo:lstm  -RMSE: 9.767607242291938\n",
      "Epoch: 114/230 - train_loss: 0.3606 - test_loss: 0.354612\n"
     ]
    },
    {
     "name": "stderr",
     "output_type": "stream",
     "text": [
      "\u001b[32m[I 2023-02-07 10:50:30,365]\u001b[0m Trial 19 finished with value: 9.826587279252756 and parameters: {'Epochs': 230, 'Hidden size': 30, 'n layers': 6, 'Learning rate': 0.0018770118722233149}. Best is trial 19 with value: 9.826587279252756.\u001b[0m\n"
     ]
    },
    {
     "name": "stdout",
     "output_type": "stream",
     "text": [
      "City: Bình Phước  _algo:lstm  -RMSE: 10.234403619948386\n",
      "Epoch: 228/230 - train_loss: 0.3155 - test_loss: 0.260932\n",
      "Epoch: 229/230 - train_loss: 0.3172 - test_loss: 0.256788\n",
      "City: Bình Phước  _algo:lstm  -RMSE: 18.349635845208926\n",
      "City: Bình Phước  _algo:lstm  -RMSE: 16.915539373189375\n"
     ]
    },
    {
     "name": "stderr",
     "output_type": "stream",
     "text": [
      "\u001b[32m[I 2023-02-07 10:50:44,323]\u001b[0m Trial 17 finished with value: 18.349635845208926 and parameters: {'Epochs': 490, 'Hidden size': 7, 'n layers': 4, 'Learning rate': 0.00030089310610835533}. Best is trial 19 with value: 9.826587279252756.\u001b[0m\n"
     ]
    },
    {
     "name": "stdout",
     "output_type": "stream",
     "text": [
      "City: Bình Phước  _algo:lstm  -RMSE: 16.81890299403229\n",
      "Epoch: 171/230 - train_loss: 0.3351 - test_loss: 0.375198\n",
      "Epoch: 57/230 - train_loss: 0.2867 - test_loss: 0.192061\n",
      "Epoch: 114/230 - train_loss: 0.3844 - test_loss: 0.361529\n",
      "Epoch: 171/230 - train_loss: 0.3243 - test_loss: 0.396767\n",
      "Epoch: 228/230 - train_loss: 0.2997 - test_loss: 0.376867\n",
      "Epoch: 114/230 - train_loss: 0.2738 - test_loss: 0.234727\n",
      "Epoch: 229/230 - train_loss: 0.3025 - test_loss: 0.312732\n",
      "City: Bình Phước  _algo:lstm  -RMSE: 12.895009833287048\n",
      "City: Bình Phước  _algo:lstm  -RMSE: 13.278610047558981\n"
     ]
    },
    {
     "name": "stderr",
     "output_type": "stream",
     "text": [
      "\u001b[32m[I 2023-02-07 10:51:31,097]\u001b[0m Trial 15 finished with value: 12.895009833287048 and parameters: {'Epochs': 270, 'Hidden size': 253, 'n layers': 7, 'Learning rate': 0.0002181685201655604}. Best is trial 19 with value: 9.826587279252756.\u001b[0m\n"
     ]
    },
    {
     "name": "stdout",
     "output_type": "stream",
     "text": [
      "City: Bình Phước  _algo:lstm  -RMSE: 14.307225949560776\n",
      "Epoch: 171/230 - train_loss: 0.3321 - test_loss: 0.281950\n",
      "Epoch: 228/230 - train_loss: 0.3272 - test_loss: 0.407976\n",
      "Epoch: 229/230 - train_loss: 0.3252 - test_loss: 0.403192\n",
      "City: Bình Phước  _algo:lstm  -RMSE: 16.7478108026683\n",
      "City: Bình Phước  _algo:lstm  -RMSE: 16.540014442007536\n"
     ]
    },
    {
     "name": "stderr",
     "output_type": "stream",
     "text": [
      "\u001b[32m[I 2023-02-07 10:51:44,419]\u001b[0m Trial 12 finished with value: 16.7478108026683 and parameters: {'Epochs': 110, 'Hidden size': 53, 'n layers': 7, 'Learning rate': 0.008622292477522343}. Best is trial 19 with value: 9.826587279252756.\u001b[0m\n"
     ]
    },
    {
     "name": "stdout",
     "output_type": "stream",
     "text": [
      "City: Bình Phước  _algo:lstm  -RMSE: 16.559827770872246\n",
      "Epoch: 228/230 - train_loss: 0.3189 - test_loss: 0.258749\n",
      "Epoch: 229/230 - train_loss: 0.3145 - test_loss: 0.256410\n",
      "City: Bình Phước  _algo:lstm  -RMSE: 18.237529941488404\n",
      "City: Bình Phước  _algo:lstm  -RMSE: 16.29595015733886\n",
      "Epoch: 171/230 - train_loss: 0.2719 - test_loss: 0.236540\n"
     ]
    },
    {
     "name": "stderr",
     "output_type": "stream",
     "text": [
      "\u001b[32m[I 2023-02-07 10:51:49,396]\u001b[0m Trial 18 finished with value: 18.237529941488404 and parameters: {'Epochs': 200, 'Hidden size': 12, 'n layers': 4, 'Learning rate': 0.0002416589304723734}. Best is trial 19 with value: 9.826587279252756.\u001b[0m\n"
     ]
    },
    {
     "name": "stdout",
     "output_type": "stream",
     "text": [
      "City: Bình Phước  _algo:lstm  -RMSE: 15.923470408462164\n",
      "Epoch: 228/230 - train_loss: 0.2614 - test_loss: 0.232660\n",
      "Epoch: 229/230 - train_loss: 0.2601 - test_loss: 0.402989\n",
      "City: Bình Phước  _algo:lstm  -RMSE: 12.757770711602726\n"
     ]
    },
    {
     "name": "stderr",
     "output_type": "stream",
     "text": [
      "\u001b[32m[I 2023-02-07 10:52:00,303]\u001b[0m Trial 9 finished with value: 12.757770711602726 and parameters: {'Epochs': 250, 'Hidden size': 11, 'n layers': 5, 'Learning rate': 0.0033211430719282883}. Best is trial 19 with value: 9.826587279252756.\u001b[0m\n"
     ]
    },
    {
     "name": "stdout",
     "output_type": "stream",
     "text": [
      "City: Bình Phước  _algo:lstm  -RMSE: 11.262375132308662\n",
      "City: Bình Phước  _algo:lstm  -RMSE: 12.016137487121934\n",
      "Study statistics for : \n",
      "  Number of finished trials:  30\n",
      "Best trial of city:  Bình Phước\n",
      "  Value:  9.826587279252756\n"
     ]
    },
    {
     "name": "stderr",
     "output_type": "stream",
     "text": [
      "\u001b[32m[I 2023-02-07 10:52:00,338]\u001b[0m A new study created in memory with name: no-name-4f414094-f7ad-4e44-83aa-4b82dbe39f1a\u001b[0m\n",
      "<ipython-input-13-c88f81b1749c>:4: FutureWarning: suggest_loguniform has been deprecated in v3.0.0. This feature will be removed in v6.0.0. See https://github.com/optuna/optuna/releases/tag/v3.0.0. Use :func:`~optuna.trial.Trial.suggest_float` instead.\n",
      "  learning_rate = trial.suggest_loguniform('Learning rate', 1e-4, 1e-2)\n",
      "<ipython-input-13-c88f81b1749c>:6: FutureWarning: suggest_uniform has been deprecated in v3.0.0. This feature will be removed in v6.0.0. See https://github.com/optuna/optuna/releases/tag/v3.0.0. Use :func:`~optuna.trial.Trial.suggest_float` instead.\n",
      "  dropout = trial.suggest_uniform('Dropout rate', 0.01, 0.80)\n"
     ]
    },
    {
     "name": "stdout",
     "output_type": "stream",
     "text": [
      "Epoch:  0/280 - train_loss: 1.0823 - test_loss: 0.742414Epoch:  0/280 - train_loss: 1.0100 - test_loss: 0.710510Epoch:  0/280 - train_loss: 0.7855 - test_loss: 0.631563\n",
      "\n",
      "\n",
      "Epoch:  0/280 - train_loss: 1.2178 - test_loss: 0.858855\n",
      "Epoch:  0/280 - train_loss: 0.8609 - test_loss: 0.728537\n",
      "Epoch:  0/280 - train_loss: 1.1250 - test_loss: 0.735838\n",
      "Epoch:  0/280 - train_loss: 1.0490 - test_loss: 0.665176\n",
      "Epoch:  0/370 - train_loss: 0.9388 - test_loss: 0.733212\n",
      "Epoch:  0/280 - train_loss: 1.4166 - test_loss: 0.952501\n",
      "Epoch:  0/280 - train_loss: 1.1041 - test_loss: 0.812464\n",
      "Epoch:  0/280 - train_loss: 1.0135 - test_loss: 0.649566Epoch:  0/280 - train_loss: 0.9746 - test_loss: 0.689688\n",
      "Epoch:  0/280 - train_loss: 1.0984 - test_loss: 0.723685\n",
      "Epoch:  0/280 - train_loss: 0.9079 - test_loss: 0.726579\n",
      "Epoch:  0/280 - train_loss: 0.9837 - test_loss: 0.744827\n",
      "\n",
      "Epoch:  0/280 - train_loss: 1.0101 - test_loss: 0.711445\n",
      "Epoch:  0/280 - train_loss: 1.1207 - test_loss: 0.737509\n",
      "Epoch:  0/280 - train_loss: 1.0902 - test_loss: 0.749786\n",
      "Epoch:  0/280 - train_loss: 0.9526 - test_loss: 0.706820\n",
      "Epoch:  0/280 - train_loss: 0.8807 - test_loss: 0.726631\n",
      "Epoch: 70/280 - train_loss: 0.3043 - test_loss: 0.273888\n",
      "Epoch: 70/280 - train_loss: 0.2647 - test_loss: 0.287231\n",
      "Epoch: 70/280 - train_loss: 0.4184 - test_loss: 0.361560\n",
      "Epoch: 92/370 - train_loss: 0.3766 - test_loss: 0.326249\n",
      "Epoch: 70/280 - train_loss: 0.2944 - test_loss: 0.219305\n",
      "Epoch: 140/280 - train_loss: 0.2884 - test_loss: 0.276889\n",
      "Epoch: 140/280 - train_loss: 0.2445 - test_loss: 0.255095\n",
      "Epoch: 70/280 - train_loss: 0.5079 - test_loss: 0.460700\n",
      "Epoch: 140/280 - train_loss: 0.3098 - test_loss: 0.239493\n",
      "Epoch: 210/280 - train_loss: 0.2700 - test_loss: 0.319825\n",
      "Epoch: 184/370 - train_loss: 0.2738 - test_loss: 0.197053\n",
      "Epoch: 140/280 - train_loss: 0.2834 - test_loss: 0.221290\n",
      "Epoch: 210/280 - train_loss: 0.2330 - test_loss: 0.329299\n",
      "Epoch: 70/280 - train_loss: 0.3746 - test_loss: 0.294352\n",
      "Epoch: 210/280 - train_loss: 0.2841 - test_loss: 0.212072\n",
      "Epoch: 279/280 - train_loss: 0.2778 - test_loss: 0.341476\n",
      "City: Bình Phước  _algo:cnn  -RMSE: 13.836452152719442\n",
      "City: Bình Phước  _algo:cnn  -RMSE: 15.271965446516653\n"
     ]
    },
    {
     "name": "stderr",
     "output_type": "stream",
     "text": [
      "\u001b[32m[I 2023-02-07 10:54:04,123]\u001b[0m Trial 8 finished with value: 13.836452152719442 and parameters: {'Epochs': 110, 'Learning rate': 0.0016655851015860068, 'Num. filters': [100, 100, 100], 'Dropout rate': 0.7993954294370151}. Best is trial 8 with value: 13.836452152719442.\u001b[0m\n"
     ]
    },
    {
     "name": "stdout",
     "output_type": "stream",
     "text": [
      "City: Bình Phước  _algo:cnn  -RMSE: 13.349314963988109\n"
     ]
    },
    {
     "name": "stderr",
     "output_type": "stream",
     "text": [
      "<ipython-input-13-c88f81b1749c>:4: FutureWarning: suggest_loguniform has been deprecated in v3.0.0. This feature will be removed in v6.0.0. See https://github.com/optuna/optuna/releases/tag/v3.0.0. Use :func:`~optuna.trial.Trial.suggest_float` instead.\n",
      "  learning_rate = trial.suggest_loguniform('Learning rate', 1e-4, 1e-2)\n",
      "<ipython-input-13-c88f81b1749c>:6: FutureWarning: suggest_uniform has been deprecated in v3.0.0. This feature will be removed in v6.0.0. See https://github.com/optuna/optuna/releases/tag/v3.0.0. Use :func:`~optuna.trial.Trial.suggest_float` instead.\n",
      "  dropout = trial.suggest_uniform('Dropout rate', 0.01, 0.80)\n"
     ]
    },
    {
     "name": "stdout",
     "output_type": "stream",
     "text": [
      "Epoch:  0/300 - train_loss: 0.8546 - test_loss: 0.644565\n",
      "Epoch: 279/280 - train_loss: 0.2273 - test_loss: 0.332643\n",
      "City: Bình Phước  _algo:cnn  -RMSE: 11.318928442097457\n",
      "City: Bình Phước  _algo:cnn  -RMSE: 12.380715745601638\n"
     ]
    },
    {
     "name": "stderr",
     "output_type": "stream",
     "text": [
      "\u001b[32m[I 2023-02-07 10:54:11,658]\u001b[0m Trial 4 finished with value: 11.318928442097457 and parameters: {'Epochs': 360, 'Learning rate': 0.003410896796803188, 'Num. filters': [16, 32, 64], 'Dropout rate': 0.09168789572605342}. Best is trial 4 with value: 11.318928442097457.\u001b[0m\n"
     ]
    },
    {
     "name": "stdout",
     "output_type": "stream",
     "text": [
      "City: Bình Phước  _algo:cnn  -RMSE: 13.490904655194427\n"
     ]
    },
    {
     "name": "stderr",
     "output_type": "stream",
     "text": [
      "<ipython-input-13-c88f81b1749c>:4: FutureWarning: suggest_loguniform has been deprecated in v3.0.0. This feature will be removed in v6.0.0. See https://github.com/optuna/optuna/releases/tag/v3.0.0. Use :func:`~optuna.trial.Trial.suggest_float` instead.\n",
      "  learning_rate = trial.suggest_loguniform('Learning rate', 1e-4, 1e-2)\n",
      "<ipython-input-13-c88f81b1749c>:6: FutureWarning: suggest_uniform has been deprecated in v3.0.0. This feature will be removed in v6.0.0. See https://github.com/optuna/optuna/releases/tag/v3.0.0. Use :func:`~optuna.trial.Trial.suggest_float` instead.\n",
      "  dropout = trial.suggest_uniform('Dropout rate', 0.01, 0.80)\n"
     ]
    },
    {
     "name": "stdout",
     "output_type": "stream",
     "text": [
      "Epoch:  0/460 - train_loss: 1.1785 - test_loss: 0.712498\n",
      "Epoch: 140/280 - train_loss: 0.3588 - test_loss: 0.308337\n",
      "Epoch: 276/370 - train_loss: 0.2596 - test_loss: 0.195432\n",
      "Epoch: 210/280 - train_loss: 0.2871 - test_loss: 0.236009\n",
      "Epoch: 75/300 - train_loss: 0.2681 - test_loss: 0.222790\n",
      "Epoch: 279/280 - train_loss: 0.2863 - test_loss: 0.209177\n",
      "City: Bình Phước  _algo:cnn  -RMSE: 11.13410282774713\n",
      "City: Bình Phước  _algo:cnn  -RMSE: 13.344550250711364\n"
     ]
    },
    {
     "name": "stderr",
     "output_type": "stream",
     "text": [
      "\u001b[32m[I 2023-02-07 10:54:38,398]\u001b[0m Trial 9 finished with value: 11.13410282774713 and parameters: {'Epochs': 240, 'Learning rate': 0.00037203336918330445, 'Num. filters': [32, 64, 128], 'Dropout rate': 0.5289592488851637}. Best is trial 9 with value: 11.13410282774713.\u001b[0m\n"
     ]
    },
    {
     "name": "stdout",
     "output_type": "stream",
     "text": [
      "City: Bình Phước  _algo:cnn  -RMSE: 14.012670629916666\n"
     ]
    },
    {
     "name": "stderr",
     "output_type": "stream",
     "text": [
      "<ipython-input-13-c88f81b1749c>:4: FutureWarning: suggest_loguniform has been deprecated in v3.0.0. This feature will be removed in v6.0.0. See https://github.com/optuna/optuna/releases/tag/v3.0.0. Use :func:`~optuna.trial.Trial.suggest_float` instead.\n",
      "  learning_rate = trial.suggest_loguniform('Learning rate', 1e-4, 1e-2)\n",
      "<ipython-input-13-c88f81b1749c>:6: FutureWarning: suggest_uniform has been deprecated in v3.0.0. This feature will be removed in v6.0.0. See https://github.com/optuna/optuna/releases/tag/v3.0.0. Use :func:`~optuna.trial.Trial.suggest_float` instead.\n",
      "  dropout = trial.suggest_uniform('Dropout rate', 0.01, 0.80)\n"
     ]
    },
    {
     "name": "stdout",
     "output_type": "stream",
     "text": [
      "Epoch:  0/150 - train_loss: 1.0785 - test_loss: 0.722950\n",
      "Epoch: 37/150 - train_loss: 0.4595 - test_loss: 0.401171\n",
      "Epoch: 115/460 - train_loss: 0.2994 - test_loss: 0.315863\n",
      "Epoch: 368/370 - train_loss: 0.2499 - test_loss: 0.212003\n",
      "Epoch: 369/370 - train_loss: 0.2473 - test_loss: 0.205076\n",
      "City: Bình Phước  _algo:cnn  -RMSE: 10.578824660740384\n",
      "City: Bình Phước  _algo:cnn  -RMSE: 11.379002219374295\n"
     ]
    },
    {
     "name": "stderr",
     "output_type": "stream",
     "text": [
      "\u001b[32m[I 2023-02-07 10:55:04,407]\u001b[0m Trial 1 finished with value: 10.578824660740384 and parameters: {'Epochs': 220, 'Learning rate': 0.0003330438507427699, 'Num. filters': [128, 128, 128], 'Dropout rate': 0.3147228411923244}. Best is trial 1 with value: 10.578824660740384.\u001b[0m\n"
     ]
    },
    {
     "name": "stdout",
     "output_type": "stream",
     "text": [
      "City: Bình Phước  _algo:cnn  -RMSE: 13.894055198615371\n"
     ]
    },
    {
     "name": "stderr",
     "output_type": "stream",
     "text": [
      "<ipython-input-13-c88f81b1749c>:4: FutureWarning: suggest_loguniform has been deprecated in v3.0.0. This feature will be removed in v6.0.0. See https://github.com/optuna/optuna/releases/tag/v3.0.0. Use :func:`~optuna.trial.Trial.suggest_float` instead.\n",
      "  learning_rate = trial.suggest_loguniform('Learning rate', 1e-4, 1e-2)\n",
      "<ipython-input-13-c88f81b1749c>:6: FutureWarning: suggest_uniform has been deprecated in v3.0.0. This feature will be removed in v6.0.0. See https://github.com/optuna/optuna/releases/tag/v3.0.0. Use :func:`~optuna.trial.Trial.suggest_float` instead.\n",
      "  dropout = trial.suggest_uniform('Dropout rate', 0.01, 0.80)\n"
     ]
    },
    {
     "name": "stdout",
     "output_type": "stream",
     "text": [
      "Epoch:  0/380 - train_loss: 0.9814 - test_loss: 0.633593\n",
      "Epoch: 150/300 - train_loss: 0.2545 - test_loss: 0.299278\n",
      "Epoch: 279/280 - train_loss: 0.2634 - test_loss: 0.262706\n",
      "City: Bình Phước  _algo:cnn  -RMSE: 10.414601325930475\n",
      "City: Bình Phước  _algo:cnn  -RMSE: 12.090549231467207\n"
     ]
    },
    {
     "name": "stderr",
     "output_type": "stream",
     "text": [
      "\u001b[32m[I 2023-02-07 10:55:06,517]\u001b[0m Trial 14 finished with value: 10.414601325930475 and parameters: {'Epochs': 130, 'Learning rate': 0.0010031460447829379, 'Num. filters': [128, 128, 128], 'Dropout rate': 0.6377317599779353}. Best is trial 14 with value: 10.414601325930475.\u001b[0m\n"
     ]
    },
    {
     "name": "stdout",
     "output_type": "stream",
     "text": [
      "City: Bình Phước  _algo:cnn  -RMSE: 13.362828750706004\n"
     ]
    },
    {
     "name": "stderr",
     "output_type": "stream",
     "text": [
      "<ipython-input-13-c88f81b1749c>:4: FutureWarning: suggest_loguniform has been deprecated in v3.0.0. This feature will be removed in v6.0.0. See https://github.com/optuna/optuna/releases/tag/v3.0.0. Use :func:`~optuna.trial.Trial.suggest_float` instead.\n",
      "  learning_rate = trial.suggest_loguniform('Learning rate', 1e-4, 1e-2)\n",
      "<ipython-input-13-c88f81b1749c>:6: FutureWarning: suggest_uniform has been deprecated in v3.0.0. This feature will be removed in v6.0.0. See https://github.com/optuna/optuna/releases/tag/v3.0.0. Use :func:`~optuna.trial.Trial.suggest_float` instead.\n",
      "  dropout = trial.suggest_uniform('Dropout rate', 0.01, 0.80)\n"
     ]
    },
    {
     "name": "stdout",
     "output_type": "stream",
     "text": [
      "Epoch: 70/280 - train_loss: 0.2973 - test_loss: 0.250221\n",
      "Epoch:  0/350 - train_loss: 0.8463 - test_loss: 0.626586\n",
      "Epoch: 210/280 - train_loss: 0.2886 - test_loss: 0.256478\n",
      "Epoch: 74/150 - train_loss: 0.3119 - test_loss: 0.267946\n",
      "Epoch: 140/280 - train_loss: 0.3123 - test_loss: 0.235543\n",
      "Epoch: 111/150 - train_loss: 0.2787 - test_loss: 0.225263\n",
      "Epoch: 225/300 - train_loss: 0.2468 - test_loss: 0.342942\n",
      "Epoch: 95/380 - train_loss: 0.2856 - test_loss: 0.319007\n",
      "Epoch: 230/460 - train_loss: 0.2794 - test_loss: 0.335775\n",
      "Epoch: 148/150 - train_loss: 0.2698 - test_loss: 0.215235\n",
      "Epoch: 149/150 - train_loss: 0.2829 - test_loss: 0.211665\n",
      "City: Bình Phước  _algo:cnn  -RMSE: 11.84132602805293\n",
      "City: Bình Phước  _algo:cnn  -RMSE: 13.69939219960343\n"
     ]
    },
    {
     "name": "stderr",
     "output_type": "stream",
     "text": [
      "\u001b[32m[I 2023-02-07 10:55:45,455]\u001b[0m Trial 22 finished with value: 11.84132602805293 and parameters: {'Epochs': 150, 'Learning rate': 0.0005848258779108851, 'Num. filters': [128, 128, 128], 'Dropout rate': 0.5675508558228617}. Best is trial 14 with value: 10.414601325930475.\u001b[0m\n"
     ]
    },
    {
     "name": "stdout",
     "output_type": "stream",
     "text": [
      "City: Bình Phước  _algo:cnn  -RMSE: 15.000884543586011\n"
     ]
    },
    {
     "name": "stderr",
     "output_type": "stream",
     "text": [
      "<ipython-input-13-c88f81b1749c>:4: FutureWarning: suggest_loguniform has been deprecated in v3.0.0. This feature will be removed in v6.0.0. See https://github.com/optuna/optuna/releases/tag/v3.0.0. Use :func:`~optuna.trial.Trial.suggest_float` instead.\n",
      "  learning_rate = trial.suggest_loguniform('Learning rate', 1e-4, 1e-2)\n",
      "<ipython-input-13-c88f81b1749c>:6: FutureWarning: suggest_uniform has been deprecated in v3.0.0. This feature will be removed in v6.0.0. See https://github.com/optuna/optuna/releases/tag/v3.0.0. Use :func:`~optuna.trial.Trial.suggest_float` instead.\n",
      "  dropout = trial.suggest_uniform('Dropout rate', 0.01, 0.80)\n"
     ]
    },
    {
     "name": "stdout",
     "output_type": "stream",
     "text": [
      "Epoch:  0/470 - train_loss: 0.8149 - test_loss: 0.737512\n",
      "Epoch: 87/350 - train_loss: 0.2730 - test_loss: 0.391166\n",
      "Epoch: 299/300 - train_loss: 0.2473 - test_loss: 0.297348\n",
      "City: Bình Phước  _algo:cnn  -RMSE: 11.199154699895969\n",
      "City: Bình Phước  _algo:cnn  -RMSE: 11.42194667955876\n"
     ]
    },
    {
     "name": "stderr",
     "output_type": "stream",
     "text": [
      "\u001b[32m[I 2023-02-07 10:55:55,567]\u001b[0m Trial 20 finished with value: 11.199154699895969 and parameters: {'Epochs': 300, 'Learning rate': 0.004226547298651018, 'Num. filters': [100, 100, 100], 'Dropout rate': 0.32903193411591264}. Best is trial 14 with value: 10.414601325930475.\u001b[0m\n"
     ]
    },
    {
     "name": "stdout",
     "output_type": "stream",
     "text": [
      "City: Bình Phước  _algo:cnn  -RMSE: 13.510102444514809\n"
     ]
    },
    {
     "name": "stderr",
     "output_type": "stream",
     "text": [
      "<ipython-input-13-c88f81b1749c>:4: FutureWarning: suggest_loguniform has been deprecated in v3.0.0. This feature will be removed in v6.0.0. See https://github.com/optuna/optuna/releases/tag/v3.0.0. Use :func:`~optuna.trial.Trial.suggest_float` instead.\n",
      "  learning_rate = trial.suggest_loguniform('Learning rate', 1e-4, 1e-2)\n",
      "<ipython-input-13-c88f81b1749c>:6: FutureWarning: suggest_uniform has been deprecated in v3.0.0. This feature will be removed in v6.0.0. See https://github.com/optuna/optuna/releases/tag/v3.0.0. Use :func:`~optuna.trial.Trial.suggest_float` instead.\n",
      "  dropout = trial.suggest_uniform('Dropout rate', 0.01, 0.80)\n"
     ]
    },
    {
     "name": "stdout",
     "output_type": "stream",
     "text": [
      "Epoch:  0/310 - train_loss: 0.8382 - test_loss: 0.660022\n",
      "Epoch: 279/280 - train_loss: 0.2661 - test_loss: 0.230236\n",
      "City: Bình Phước  _algo:cnn  -RMSE: 11.73621792747751\n",
      "City: Bình Phước  _algo:cnn  -RMSE: 14.113573997217072\n"
     ]
    },
    {
     "name": "stderr",
     "output_type": "stream",
     "text": [
      "\u001b[32m[I 2023-02-07 10:56:04,189]\u001b[0m Trial 7 finished with value: 11.73621792747751 and parameters: {'Epochs': 120, 'Learning rate': 0.00023728980626265612, 'Num. filters': [32, 64, 128], 'Dropout rate': 0.2522215062442314}. Best is trial 14 with value: 10.414601325930475.\u001b[0m\n"
     ]
    },
    {
     "name": "stdout",
     "output_type": "stream",
     "text": [
      "City: Bình Phước  _algo:cnn  -RMSE: 15.588517939205685\n"
     ]
    },
    {
     "name": "stderr",
     "output_type": "stream",
     "text": [
      "<ipython-input-13-c88f81b1749c>:4: FutureWarning: suggest_loguniform has been deprecated in v3.0.0. This feature will be removed in v6.0.0. See https://github.com/optuna/optuna/releases/tag/v3.0.0. Use :func:`~optuna.trial.Trial.suggest_float` instead.\n",
      "  learning_rate = trial.suggest_loguniform('Learning rate', 1e-4, 1e-2)\n",
      "<ipython-input-13-c88f81b1749c>:6: FutureWarning: suggest_uniform has been deprecated in v3.0.0. This feature will be removed in v6.0.0. See https://github.com/optuna/optuna/releases/tag/v3.0.0. Use :func:`~optuna.trial.Trial.suggest_float` instead.\n",
      "  dropout = trial.suggest_uniform('Dropout rate', 0.01, 0.80)\n"
     ]
    },
    {
     "name": "stdout",
     "output_type": "stream",
     "text": [
      "Epoch:  0/240 - train_loss: 1.1221 - test_loss: 0.771960\n",
      "Epoch: 190/380 - train_loss: 0.2775 - test_loss: 0.414477\n",
      "Epoch: 77/310 - train_loss: 0.2424 - test_loss: 0.250151\n",
      "Epoch: 345/460 - train_loss: 0.2903 - test_loss: 0.363343\n",
      "Epoch: 117/470 - train_loss: 0.2397 - test_loss: 0.242403\n",
      "Epoch: 174/350 - train_loss: 0.2973 - test_loss: 0.379952\n",
      "Epoch: 210/280 - train_loss: 0.3095 - test_loss: 0.250462\n",
      "Epoch: 154/310 - train_loss: 0.2362 - test_loss: 0.241179\n",
      "Epoch: 60/240 - train_loss: 0.2926 - test_loss: 0.318584\n",
      "Epoch: 285/380 - train_loss: 0.2872 - test_loss: 0.387971\n",
      "Epoch: 459/460 - train_loss: 0.2688 - test_loss: 0.374650\n",
      "City: Bình Phước  _algo:cnn  -RMSE: 12.33080962537101\n",
      "City: Bình Phước  _algo:cnn  -RMSE: 14.365208427352927\n"
     ]
    },
    {
     "name": "stderr",
     "output_type": "stream",
     "text": [
      "\u001b[32m[I 2023-02-07 10:57:07,193]\u001b[0m Trial 21 finished with value: 12.33080962537101 and parameters: {'Epochs': 460, 'Learning rate': 0.0023425969436619135, 'Num. filters': [16, 32, 64], 'Dropout rate': 0.7014243206348607}. Best is trial 14 with value: 10.414601325930475.\u001b[0m\n"
     ]
    },
    {
     "name": "stdout",
     "output_type": "stream",
     "text": [
      "City: Bình Phước  _algo:cnn  -RMSE: 16.219164462615684\n"
     ]
    },
    {
     "name": "stderr",
     "output_type": "stream",
     "text": [
      "<ipython-input-13-c88f81b1749c>:4: FutureWarning: suggest_loguniform has been deprecated in v3.0.0. This feature will be removed in v6.0.0. See https://github.com/optuna/optuna/releases/tag/v3.0.0. Use :func:`~optuna.trial.Trial.suggest_float` instead.\n",
      "  learning_rate = trial.suggest_loguniform('Learning rate', 1e-4, 1e-2)\n",
      "<ipython-input-13-c88f81b1749c>:6: FutureWarning: suggest_uniform has been deprecated in v3.0.0. This feature will be removed in v6.0.0. See https://github.com/optuna/optuna/releases/tag/v3.0.0. Use :func:`~optuna.trial.Trial.suggest_float` instead.\n",
      "  dropout = trial.suggest_uniform('Dropout rate', 0.01, 0.80)\n"
     ]
    },
    {
     "name": "stdout",
     "output_type": "stream",
     "text": [
      "Epoch:  0/300 - train_loss: 0.8802 - test_loss: 0.626152\n",
      "Epoch: 231/310 - train_loss: 0.2204 - test_loss: 0.232707\n",
      "Epoch: 261/350 - train_loss: 0.2771 - test_loss: 0.397060\n",
      "Epoch: 234/470 - train_loss: 0.2241 - test_loss: 0.309216\n",
      "Epoch: 379/380 - train_loss: 0.2855 - test_loss: 0.396438\n",
      "City: Bình Phước  _algo:cnn  -RMSE: 7.816428635263614\n",
      "City: Bình Phước  _algo:cnn  -RMSE: 10.09409390539004\n"
     ]
    },
    {
     "name": "stderr",
     "output_type": "stream",
     "text": [
      "\u001b[32m[I 2023-02-07 10:57:35,507]\u001b[0m Trial 23 finished with value: 7.816428635263614 and parameters: {'Epochs': 380, 'Learning rate': 0.0076037068992058235, 'Num. filters': [128, 128, 128], 'Dropout rate': 0.6281578312396386}. Best is trial 23 with value: 7.816428635263614.\u001b[0m\n"
     ]
    },
    {
     "name": "stdout",
     "output_type": "stream",
     "text": [
      "City: Bình Phước  _algo:cnn  -RMSE: 11.01304809236249\n"
     ]
    },
    {
     "name": "stderr",
     "output_type": "stream",
     "text": [
      "<ipython-input-13-c88f81b1749c>:4: FutureWarning: suggest_loguniform has been deprecated in v3.0.0. This feature will be removed in v6.0.0. See https://github.com/optuna/optuna/releases/tag/v3.0.0. Use :func:`~optuna.trial.Trial.suggest_float` instead.\n",
      "  learning_rate = trial.suggest_loguniform('Learning rate', 1e-4, 1e-2)\n",
      "<ipython-input-13-c88f81b1749c>:6: FutureWarning: suggest_uniform has been deprecated in v3.0.0. This feature will be removed in v6.0.0. See https://github.com/optuna/optuna/releases/tag/v3.0.0. Use :func:`~optuna.trial.Trial.suggest_float` instead.\n",
      "  dropout = trial.suggest_uniform('Dropout rate', 0.01, 0.80)\n"
     ]
    },
    {
     "name": "stdout",
     "output_type": "stream",
     "text": [
      "Epoch:  0/490 - train_loss: 0.8085 - test_loss: 0.576414\n",
      "Epoch: 75/300 - train_loss: 0.2745 - test_loss: 0.393889\n",
      "Epoch: 120/240 - train_loss: 0.2760 - test_loss: 0.336893\n",
      "Epoch: 308/310 - train_loss: 0.2269 - test_loss: 0.323418\n",
      "Epoch: 309/310 - train_loss: 0.2171 - test_loss: 0.283593\n",
      "City: Bình Phước  _algo:cnn  -RMSE: 7.753191073101509\n",
      "City: Bình Phước  _algo:cnn  -RMSE: 9.260840335789949\n"
     ]
    },
    {
     "name": "stderr",
     "output_type": "stream",
     "text": [
      "\u001b[32m[I 2023-02-07 10:57:48,930]\u001b[0m Trial 26 finished with value: 7.753191073101509 and parameters: {'Epochs': 310, 'Learning rate': 0.003370617249459262, 'Num. filters': [128, 128, 128], 'Dropout rate': 0.14532534705088462}. Best is trial 26 with value: 7.753191073101509.\u001b[0m\n"
     ]
    },
    {
     "name": "stdout",
     "output_type": "stream",
     "text": [
      "City: Bình Phước  _algo:cnn  -RMSE: 11.104272012085952\n",
      "Epoch: 140/280 - train_loss: 0.2619 - test_loss: 0.219974\n",
      "Epoch: 70/280 - train_loss: 0.3487 - test_loss: 0.267024\n",
      "Epoch: 279/280 - train_loss: 0.2806 - test_loss: 0.252554\n",
      "City: Bình Phước  _algo:cnn  -RMSE: 13.621274863044302\n",
      "City: Bình Phước  _algo:cnn  -RMSE: 13.560982853143551\n"
     ]
    },
    {
     "name": "stderr",
     "output_type": "stream",
     "text": [
      "\u001b[32m[I 2023-02-07 10:58:08,576]\u001b[0m Trial 11 finished with value: 13.621274863044302 and parameters: {'Epochs': 100, 'Learning rate': 0.00047613920973131656, 'Num. filters': [16, 32, 64], 'Dropout rate': 0.536916056036934}. Best is trial 26 with value: 7.753191073101509.\u001b[0m\n"
     ]
    },
    {
     "name": "stdout",
     "output_type": "stream",
     "text": [
      "City: Bình Phước  _algo:cnn  -RMSE: 15.222133755315848\n",
      "Epoch: 150/300 - train_loss: 0.2502 - test_loss: 0.308081\n",
      "Epoch: 348/350 - train_loss: 0.2721 - test_loss: 0.374005\n",
      "Epoch: 349/350 - train_loss: 0.2963 - test_loss: 0.396143\n",
      "City: Bình Phước  _algo:cnn  -RMSE: 11.833137369926046\n",
      "City: Bình Phước  _algo:cnn  -RMSE: 8.604066830861171\n"
     ]
    },
    {
     "name": "stderr",
     "output_type": "stream",
     "text": [
      "\u001b[32m[I 2023-02-07 10:58:16,154]\u001b[0m Trial 24 finished with value: 11.833137369926046 and parameters: {'Epochs': 350, 'Learning rate': 0.005048550731892362, 'Num. filters': [32, 64, 128], 'Dropout rate': 0.6920780176020076}. Best is trial 26 with value: 7.753191073101509.\u001b[0m\n"
     ]
    },
    {
     "name": "stdout",
     "output_type": "stream",
     "text": [
      "City: Bình Phước  _algo:cnn  -RMSE: 10.233767691806491\n",
      "Epoch: 180/240 - train_loss: 0.2920 - test_loss: 0.377124\n",
      "Epoch: 351/470 - train_loss: 0.2074 - test_loss: 0.276591\n",
      "Epoch: 122/490 - train_loss: 0.2741 - test_loss: 0.351119\n",
      "Epoch: 225/300 - train_loss: 0.2546 - test_loss: 0.340269\n",
      "Epoch: 210/280 - train_loss: 0.2508 - test_loss: 0.214319\n",
      "Epoch: 239/240 - train_loss: 0.2801 - test_loss: 0.357722\n",
      "City: Bình Phước  _algo:cnn  -RMSE: 11.20685847915806\n",
      "City: Bình Phước  _algo:cnn  -RMSE: 12.292310969839631\n"
     ]
    },
    {
     "name": "stderr",
     "output_type": "stream",
     "text": [
      "\u001b[32m[I 2023-02-07 10:58:48,597]\u001b[0m Trial 27 finished with value: 11.20685847915806 and parameters: {'Epochs': 240, 'Learning rate': 0.0036797184818891755, 'Num. filters': [32, 64, 128], 'Dropout rate': 0.7200310453468292}. Best is trial 26 with value: 7.753191073101509.\u001b[0m\n"
     ]
    },
    {
     "name": "stdout",
     "output_type": "stream",
     "text": [
      "City: Bình Phước  _algo:cnn  -RMSE: 11.770101347485447\n",
      "Epoch: 70/280 - train_loss: 0.2875 - test_loss: 0.243865\n",
      "Epoch: 140/280 - train_loss: 0.2919 - test_loss: 0.200441\n",
      "Epoch: 299/300 - train_loss: 0.2570 - test_loss: 0.343821\n",
      "City: Bình Phước  _algo:cnn  -RMSE: 11.053202284788677\n",
      "City: Bình Phước  _algo:cnn  -RMSE: 15.667138595096505\n"
     ]
    },
    {
     "name": "stderr",
     "output_type": "stream",
     "text": [
      "\u001b[32m[I 2023-02-07 10:59:07,835]\u001b[0m Trial 28 finished with value: 11.053202284788677 and parameters: {'Epochs': 300, 'Learning rate': 0.006714763631620842, 'Num. filters': [64, 64, 64], 'Dropout rate': 0.21885497293792647}. Best is trial 26 with value: 7.753191073101509.\u001b[0m\n"
     ]
    },
    {
     "name": "stdout",
     "output_type": "stream",
     "text": [
      "City: Bình Phước  _algo:cnn  -RMSE: 14.117816897112384\n",
      "Epoch: 244/490 - train_loss: 0.2728 - test_loss: 0.363734\n",
      "Epoch: 468/470 - train_loss: 0.2003 - test_loss: 0.298902\n",
      "Epoch: 469/470 - train_loss: 0.2045 - test_loss: 0.301260\n",
      "City: Bình Phước  _algo:cnn  -RMSE: 10.85308675478668\n",
      "City: Bình Phước  _algo:cnn  -RMSE: 10.908819737503023\n"
     ]
    },
    {
     "name": "stderr",
     "output_type": "stream",
     "text": [
      "\u001b[32m[I 2023-02-07 10:59:20,041]\u001b[0m Trial 25 finished with value: 10.85308675478668 and parameters: {'Epochs': 470, 'Learning rate': 0.0014831338944099489, 'Num. filters': [32, 64, 128], 'Dropout rate': 0.10435011112364277}. Best is trial 26 with value: 7.753191073101509.\u001b[0m\n"
     ]
    },
    {
     "name": "stdout",
     "output_type": "stream",
     "text": [
      "City: Bình Phước  _algo:cnn  -RMSE: 10.305252262574935\n",
      "Epoch: 279/280 - train_loss: 0.2492 - test_loss: 0.212060\n",
      "City: Bình Phước  _algo:cnn  -RMSE: 10.901820268293534\n",
      "City: Bình Phước  _algo:cnn  -RMSE: 12.57008599776721\n"
     ]
    },
    {
     "name": "stderr",
     "output_type": "stream",
     "text": [
      "\u001b[32m[I 2023-02-07 10:59:22,561]\u001b[0m Trial 18 finished with value: 10.901820268293534 and parameters: {'Epochs': 390, 'Learning rate': 0.0006558526101625549, 'Num. filters': [32, 64, 128], 'Dropout rate': 0.2823994855907245}. Best is trial 26 with value: 7.753191073101509.\u001b[0m\n"
     ]
    },
    {
     "name": "stdout",
     "output_type": "stream",
     "text": [
      "City: Bình Phước  _algo:cnn  -RMSE: 14.509838496694726\n",
      "Epoch: 70/280 - train_loss: 0.2591 - test_loss: 0.193160\n",
      "Epoch: 210/280 - train_loss: 0.2722 - test_loss: 0.218602\n",
      "Epoch: 140/280 - train_loss: 0.2812 - test_loss: 0.236894\n",
      "Epoch: 70/280 - train_loss: 0.3226 - test_loss: 0.242904\n",
      "Epoch: 140/280 - train_loss: 0.2479 - test_loss: 0.231836\n",
      "Epoch: 279/280 - train_loss: 0.2766 - test_loss: 0.216569\n",
      "City: Bình Phước  _algo:cnn  -RMSE: 12.594772402418672\n",
      "City: Bình Phước  _algo:cnn  -RMSE: 12.588638248047845\n"
     ]
    },
    {
     "name": "stderr",
     "output_type": "stream",
     "text": [
      "\u001b[32m[I 2023-02-07 11:00:09,097]\u001b[0m Trial 16 finished with value: 12.594772402418672 and parameters: {'Epochs': 140, 'Learning rate': 0.000563894392390719, 'Num. filters': [64, 64, 64], 'Dropout rate': 0.44458053549146026}. Best is trial 26 with value: 7.753191073101509.\u001b[0m\n"
     ]
    },
    {
     "name": "stdout",
     "output_type": "stream",
     "text": [
      "City: Bình Phước  _algo:cnn  -RMSE: 13.023508445947929\n",
      "Epoch: 366/490 - train_loss: 0.2802 - test_loss: 0.378471\n",
      "Epoch: 70/280 - train_loss: 0.3663 - test_loss: 0.313104\n",
      "Epoch: 210/280 - train_loss: 0.2694 - test_loss: 0.253141\n",
      "Epoch: 140/280 - train_loss: 0.2951 - test_loss: 0.236959\n",
      "Epoch: 70/280 - train_loss: 0.2979 - test_loss: 0.306815\n",
      "Epoch: 210/280 - train_loss: 0.2475 - test_loss: 0.290649\n",
      "Epoch: 279/280 - train_loss: 0.2636 - test_loss: 0.249279\n",
      "City: Bình Phước  _algo:cnn  -RMSE: 10.88795464698319\n",
      "City: Bình Phước  _algo:cnn  -RMSE: 12.63467711602787\n"
     ]
    },
    {
     "name": "stderr",
     "output_type": "stream",
     "text": [
      "\u001b[32m[I 2023-02-07 11:00:43,100]\u001b[0m Trial 6 finished with value: 10.88795464698319 and parameters: {'Epochs': 150, 'Learning rate': 0.0010209187371653303, 'Num. filters': [128, 128, 128], 'Dropout rate': 0.6504474050014016}. Best is trial 26 with value: 7.753191073101509.\u001b[0m\n"
     ]
    },
    {
     "name": "stdout",
     "output_type": "stream",
     "text": [
      "City: Bình Phước  _algo:cnn  -RMSE: 13.610668029643012\n",
      "Epoch: 140/280 - train_loss: 0.3015 - test_loss: 0.210357\n",
      "Epoch: 488/490 - train_loss: 0.2781 - test_loss: 0.395727\n",
      "Epoch: 489/490 - train_loss: 0.2777 - test_loss: 0.415760\n",
      "City: Bình Phước  _algo:cnn  -RMSE: 11.680568384495887\n",
      "City: Bình Phước  _algo:cnn  -RMSE: 10.440941803694258\n"
     ]
    },
    {
     "name": "stderr",
     "output_type": "stream",
     "text": [
      "\u001b[32m[I 2023-02-07 11:01:02,961]\u001b[0m Trial 29 finished with value: 11.680568384495887 and parameters: {'Epochs': 490, 'Learning rate': 0.008133008330470606, 'Num. filters': [64, 64, 64], 'Dropout rate': 0.4731776097725733}. Best is trial 26 with value: 7.753191073101509.\u001b[0m\n"
     ]
    },
    {
     "name": "stdout",
     "output_type": "stream",
     "text": [
      "City: Bình Phước  _algo:cnn  -RMSE: 12.477834091611811\n",
      "Epoch: 210/280 - train_loss: 0.2855 - test_loss: 0.266399\n",
      "Epoch: 70/280 - train_loss: 0.2827 - test_loss: 0.283574\n",
      "Epoch: 279/280 - train_loss: 0.2431 - test_loss: 0.309024\n",
      "City: Bình Phước  _algo:cnn  -RMSE: 10.706305530785038\n",
      "City: Bình Phước  _algo:cnn  -RMSE: 10.482618747554573\n"
     ]
    },
    {
     "name": "stderr",
     "output_type": "stream",
     "text": [
      "\u001b[32m[I 2023-02-07 11:01:10,095]\u001b[0m Trial 12 finished with value: 10.706305530785038 and parameters: {'Epochs': 110, 'Learning rate': 0.005191237551671152, 'Num. filters': [16, 32, 64], 'Dropout rate': 0.12797028861436652}. Best is trial 26 with value: 7.753191073101509.\u001b[0m\n"
     ]
    },
    {
     "name": "stdout",
     "output_type": "stream",
     "text": [
      "City: Bình Phước  _algo:cnn  -RMSE: 9.670995285441776\n",
      "Epoch: 140/280 - train_loss: 0.2807 - test_loss: 0.353200\n",
      "Epoch: 70/280 - train_loss: 0.4396 - test_loss: 0.388327\n",
      "Epoch: 210/280 - train_loss: 0.2849 - test_loss: 0.233664\n",
      "Epoch: 279/280 - train_loss: 0.2646 - test_loss: 0.268725\n",
      "City: Bình Phước  _algo:cnn  -RMSE: 11.69502084551572\n",
      "City: Bình Phước  _algo:cnn  -RMSE: 12.163039750782797\n"
     ]
    },
    {
     "name": "stderr",
     "output_type": "stream",
     "text": [
      "\u001b[32m[I 2023-02-07 11:01:34,074]\u001b[0m Trial 19 finished with value: 11.69502084551572 and parameters: {'Epochs': 280, 'Learning rate': 0.0009103870285980765, 'Num. filters': [128, 128, 128], 'Dropout rate': 0.7714571740521987}. Best is trial 26 with value: 7.753191073101509.\u001b[0m\n"
     ]
    },
    {
     "name": "stdout",
     "output_type": "stream",
     "text": [
      "City: Bình Phước  _algo:cnn  -RMSE: 13.808890687782148\n",
      "Epoch: 140/280 - train_loss: 0.2739 - test_loss: 0.345815\n",
      "Epoch: 70/280 - train_loss: 0.3288 - test_loss: 0.302102\n",
      "Epoch: 210/280 - train_loss: 0.2837 - test_loss: 0.360824\n",
      "Epoch: 279/280 - train_loss: 0.2814 - test_loss: 0.242370\n",
      "City: Bình Phước  _algo:cnn  -RMSE: 11.958122488162243\n",
      "City: Bình Phước  _algo:cnn  -RMSE: 14.08005051850685\n"
     ]
    },
    {
     "name": "stderr",
     "output_type": "stream",
     "text": [
      "\u001b[32m[I 2023-02-07 11:01:57,272]\u001b[0m Trial 3 finished with value: 11.958122488162243 and parameters: {'Epochs': 280, 'Learning rate': 0.00047688530411121714, 'Num. filters': [64, 64, 64], 'Dropout rate': 0.555093023090307}. Best is trial 26 with value: 7.753191073101509.\u001b[0m\n"
     ]
    },
    {
     "name": "stdout",
     "output_type": "stream",
     "text": [
      "City: Bình Phước  _algo:cnn  -RMSE: 15.587692353389754\n",
      "Epoch: 140/280 - train_loss: 0.3055 - test_loss: 0.249054\n",
      "Epoch: 70/280 - train_loss: 0.2520 - test_loss: 0.241268\n",
      "Epoch: 210/280 - train_loss: 0.2840 - test_loss: 0.390424\n",
      "Epoch: 279/280 - train_loss: 0.2754 - test_loss: 0.365080\n",
      "City: Bình Phước  _algo:cnn  -RMSE: 10.980205657949744\n",
      "City: Bình Phước  _algo:cnn  -RMSE: 11.269527759063479\n"
     ]
    },
    {
     "name": "stderr",
     "output_type": "stream",
     "text": [
      "\u001b[32m[I 2023-02-07 11:02:19,805]\u001b[0m Trial 10 finished with value: 10.980205657949744 and parameters: {'Epochs': 300, 'Learning rate': 0.002805824201522113, 'Num. filters': [16, 32, 64], 'Dropout rate': 0.7334964459720038}. Best is trial 26 with value: 7.753191073101509.\u001b[0m\n"
     ]
    },
    {
     "name": "stdout",
     "output_type": "stream",
     "text": [
      "City: Bình Phước  _algo:cnn  -RMSE: 9.309698068506162\n",
      "Epoch: 140/280 - train_loss: 0.2522 - test_loss: 0.194610\n",
      "Epoch: 70/280 - train_loss: 0.2690 - test_loss: 0.211624\n",
      "Epoch: 210/280 - train_loss: 0.2715 - test_loss: 0.212640\n",
      "Epoch: 279/280 - train_loss: 0.2718 - test_loss: 0.386606\n",
      "City: Bình Phước  _algo:cnn  -RMSE: 11.474060475673877\n",
      "City: Bình Phước  _algo:cnn  -RMSE: 13.005573554958225\n"
     ]
    },
    {
     "name": "stderr",
     "output_type": "stream",
     "text": [
      "\u001b[32m[I 2023-02-07 11:02:41,136]\u001b[0m Trial 5 finished with value: 11.474060475673877 and parameters: {'Epochs': 490, 'Learning rate': 0.003038877287296374, 'Num. filters': [128, 128, 128], 'Dropout rate': 0.7963956974755133}. Best is trial 26 with value: 7.753191073101509.\u001b[0m\n"
     ]
    },
    {
     "name": "stdout",
     "output_type": "stream",
     "text": [
      "City: Bình Phước  _algo:cnn  -RMSE: 14.294172752215223\n",
      "Epoch: 140/280 - train_loss: 0.2408 - test_loss: 0.236463\n",
      "Epoch: 70/280 - train_loss: 0.2995 - test_loss: 0.386613\n",
      "Epoch: 210/280 - train_loss: 0.2438 - test_loss: 0.201380\n",
      "Epoch: 279/280 - train_loss: 0.2647 - test_loss: 0.211579\n",
      "City: Bình Phước  _algo:cnn  -RMSE: 11.364145893128892\n",
      "City: Bình Phước  _algo:cnn  -RMSE: 12.64318475599038\n"
     ]
    },
    {
     "name": "stderr",
     "output_type": "stream",
     "text": [
      "\u001b[32m[I 2023-02-07 11:02:59,193]\u001b[0m Trial 15 finished with value: 11.364145893128892 and parameters: {'Epochs': 170, 'Learning rate': 0.0003210801175938494, 'Num. filters': [16, 32, 64], 'Dropout rate': 0.0711830988078646}. Best is trial 26 with value: 7.753191073101509.\u001b[0m\n"
     ]
    },
    {
     "name": "stdout",
     "output_type": "stream",
     "text": [
      "City: Bình Phước  _algo:cnn  -RMSE: 15.567250881606794\n",
      "Epoch: 140/280 - train_loss: 0.2429 - test_loss: 0.254879\n",
      "Epoch: 210/280 - train_loss: 0.2381 - test_loss: 0.198742\n",
      "Epoch: 279/280 - train_loss: 0.2304 - test_loss: 0.198709\n",
      "City: Bình Phước  _algo:cnn  -RMSE: 12.956385774163868\n",
      "City: Bình Phước  _algo:cnn  -RMSE: 11.253728599040791\n"
     ]
    },
    {
     "name": "stderr",
     "output_type": "stream",
     "text": [
      "\u001b[32m[I 2023-02-07 11:03:13,576]\u001b[0m Trial 2 finished with value: 12.956385774163868 and parameters: {'Epochs': 100, 'Learning rate': 0.000536868489430435, 'Num. filters': [32, 64, 128], 'Dropout rate': 0.10869848854601916}. Best is trial 26 with value: 7.753191073101509.\u001b[0m\n"
     ]
    },
    {
     "name": "stdout",
     "output_type": "stream",
     "text": [
      "City: Bình Phước  _algo:cnn  -RMSE: 12.664467405381071\n",
      "Epoch: 140/280 - train_loss: 0.2899 - test_loss: 0.368397\n",
      "Epoch: 210/280 - train_loss: 0.2386 - test_loss: 0.273149\n",
      "Epoch: 279/280 - train_loss: 0.2208 - test_loss: 0.253517\n",
      "City: Bình Phước  _algo:cnn  -RMSE: 12.30767535344603\n",
      "City: Bình Phước  _algo:cnn  -RMSE: 10.994050238230356\n"
     ]
    },
    {
     "name": "stderr",
     "output_type": "stream",
     "text": [
      "\u001b[32m[I 2023-02-07 11:03:26,231]\u001b[0m Trial 17 finished with value: 12.30767535344603 and parameters: {'Epochs': 370, 'Learning rate': 0.002026593790621758, 'Num. filters': [128, 128, 128], 'Dropout rate': 0.20875500481428957}. Best is trial 26 with value: 7.753191073101509.\u001b[0m\n"
     ]
    },
    {
     "name": "stdout",
     "output_type": "stream",
     "text": [
      "City: Bình Phước  _algo:cnn  -RMSE: 8.556537972780795\n",
      "Epoch: 210/280 - train_loss: 0.2918 - test_loss: 0.413721\n",
      "Epoch: 279/280 - train_loss: 0.2335 - test_loss: 0.246347\n",
      "City: Bình Phước  _algo:cnn  -RMSE: 9.57643955014561\n"
     ]
    },
    {
     "name": "stderr",
     "output_type": "stream",
     "text": [
      "\u001b[32m[I 2023-02-07 11:03:36,809]\u001b[0m Trial 0 finished with value: 9.57643955014561 and parameters: {'Epochs': 420, 'Learning rate': 0.0014280340282017726, 'Num. filters': [64, 64, 64], 'Dropout rate': 0.13889572608443793}. Best is trial 26 with value: 7.753191073101509.\u001b[0m\n"
     ]
    },
    {
     "name": "stdout",
     "output_type": "stream",
     "text": [
      "City: Bình Phước  _algo:cnn  -RMSE: 10.68901735210233\n",
      "City: Bình Phước  _algo:cnn  -RMSE: 12.726377253820285\n",
      "Epoch: 279/280 - train_loss: 0.3046 - test_loss: 0.392038\n",
      "City: Bình Phước  _algo:cnn  -RMSE: 14.33884682663259\n"
     ]
    },
    {
     "name": "stderr",
     "output_type": "stream",
     "text": [
      "\u001b[32m[I 2023-02-07 11:03:45,669]\u001b[0m Trial 13 finished with value: 14.33884682663259 and parameters: {'Epochs': 480, 'Learning rate': 0.006747574902673293, 'Num. filters': [32, 64, 128], 'Dropout rate': 0.7771584460598979}. Best is trial 26 with value: 7.753191073101509.\u001b[0m\n",
      "\u001b[32m[I 2023-02-07 11:03:45,696]\u001b[0m A new study created in memory with name: no-name-6eb65efa-aea7-4b00-a159-f35c45869a08\u001b[0m\n"
     ]
    },
    {
     "name": "stdout",
     "output_type": "stream",
     "text": [
      "City: Bình Phước  _algo:cnn  -RMSE: 15.408602685205107\n",
      "City: Bình Phước  _algo:cnn  -RMSE: 10.499925699477313\n",
      "Study statistics for : \n",
      "  Number of finished trials:  30\n",
      "Best trial of city:  Bình Phước\n",
      "  Value:  7.753191073101509\n"
     ]
    },
    {
     "name": "stderr",
     "output_type": "stream",
     "text": [
      "<ipython-input-14-8244d6fc4512>:11: FutureWarning: suggest_loguniform has been deprecated in v3.0.0. This feature will be removed in v6.0.0. See https://github.com/optuna/optuna/releases/tag/v3.0.0. Use :func:`~optuna.trial.Trial.suggest_float` instead.\n",
      "  learning_rate = trial.suggest_loguniform('Learning rate', 1e-4, 1e-2)\n"
     ]
    },
    {
     "name": "stdout",
     "output_type": "stream",
     "text": [
      "Epoch:  0/410 - train_loss: 1.0270 - test_loss: 0.666425\n",
      "Epoch:  0/410 - train_loss: 1.1471 - test_loss: 0.750304\n",
      "Epoch:  0/410 - train_loss: 1.0386 - test_loss: 0.753055\n",
      "Epoch:  0/410 - train_loss: 0.8107 - test_loss: 0.588234\n",
      "Epoch:  0/410 - train_loss: 1.2726 - test_loss: 0.926665\n",
      "Epoch:  0/410 - train_loss: 1.3504 - test_loss: 0.913085\n",
      "Epoch:  0/410 - train_loss: 1.1194 - test_loss: 0.697705\n",
      "Epoch:  0/410 - train_loss: 1.0676 - test_loss: 0.779183\n",
      "Epoch: 102/410 - train_loss: 0.2817 - test_loss: 0.274074\n",
      "Epoch: 102/410 - train_loss: 0.2763 - test_loss: 0.179339\n",
      "Epoch: 102/410 - train_loss: 0.3671 - test_loss: 0.333497\n",
      "Epoch: 102/410 - train_loss: 0.2620 - test_loss: 0.315701\n",
      "Epoch: 102/410 - train_loss: 0.3212 - test_loss: 0.255697\n",
      "Epoch: 204/410 - train_loss: 0.2695 - test_loss: 0.279372\n",
      "Epoch: 204/410 - train_loss: 0.2602 - test_loss: 0.214686\n",
      "Epoch: 102/410 - train_loss: 0.2729 - test_loss: 0.223123\n",
      "Epoch: 204/410 - train_loss: 0.2816 - test_loss: 0.251188\n",
      "Epoch: 204/410 - train_loss: 0.2702 - test_loss: 0.288749\n",
      "Epoch: 306/410 - train_loss: 0.2512 - test_loss: 0.238777\n",
      "Epoch: 306/410 - train_loss: 0.2090 - test_loss: 0.328517\n",
      "Epoch: 204/410 - train_loss: 0.3024 - test_loss: 0.217342\n",
      "Epoch: 306/410 - train_loss: 0.2724 - test_loss: 0.211790\n",
      "Epoch:  0/410 - train_loss: 1.1451 - test_loss: 0.780751\n",
      "Epoch: 408/410 - train_loss: 0.2219 - test_loss: 0.364951\n",
      "Epoch: 409/410 - train_loss: 0.2218 - test_loss: 0.345960\n",
      "City: Bình Phước  _algo:lstm  -RMSE: 9.783854015970933\n",
      "City: Bình Phước  _algo:lstm  -RMSE: 11.1470530763158\n"
     ]
    },
    {
     "name": "stderr",
     "output_type": "stream",
     "text": [
      "\u001b[32m[I 2023-02-07 11:08:10,538]\u001b[0m Trial 5 finished with value: 9.783854015970933 and parameters: {'Epochs': 300, 'Hidden size': 29, 'n layers': 3, 'Learning rate': 0.001872578706324751}. Best is trial 5 with value: 9.783854015970933.\u001b[0m\n"
     ]
    },
    {
     "name": "stdout",
     "output_type": "stream",
     "text": [
      "City: Bình Phước  _algo:lstm  -RMSE: 13.83250913407598\n",
      "Epoch: 306/410 - train_loss: 0.2496 - test_loss: 0.325322\n"
     ]
    },
    {
     "name": "stderr",
     "output_type": "stream",
     "text": [
      "<ipython-input-14-8244d6fc4512>:11: FutureWarning: suggest_loguniform has been deprecated in v3.0.0. This feature will be removed in v6.0.0. See https://github.com/optuna/optuna/releases/tag/v3.0.0. Use :func:`~optuna.trial.Trial.suggest_float` instead.\n",
      "  learning_rate = trial.suggest_loguniform('Learning rate', 1e-4, 1e-2)\n"
     ]
    },
    {
     "name": "stdout",
     "output_type": "stream",
     "text": [
      "Epoch:  0/200 - train_loss: 1.0928 - test_loss: 0.779296\n",
      "Epoch: 408/410 - train_loss: 0.0676 - test_loss: 0.709776\n",
      "Epoch: 409/410 - train_loss: 0.0712 - test_loss: 0.995128\n",
      "City: Bình Phước  _algo:lstm  -RMSE: 8.601030913751039\n",
      "City: Bình Phước  _algo:lstm  -RMSE: 8.338103127167631\n"
     ]
    },
    {
     "name": "stderr",
     "output_type": "stream",
     "text": [
      "\u001b[32m[I 2023-02-07 11:08:22,353]\u001b[0m Trial 7 finished with value: 8.601030913751039 and parameters: {'Epochs': 430, 'Hidden size': 245, 'n layers': 3, 'Learning rate': 0.005578620482879945}. Best is trial 7 with value: 8.601030913751039.\u001b[0m\n"
     ]
    },
    {
     "name": "stdout",
     "output_type": "stream",
     "text": [
      "City: Bình Phước  _algo:lstm  -RMSE: 9.071417205573137\n"
     ]
    },
    {
     "name": "stderr",
     "output_type": "stream",
     "text": [
      "<ipython-input-14-8244d6fc4512>:11: FutureWarning: suggest_loguniform has been deprecated in v3.0.0. This feature will be removed in v6.0.0. See https://github.com/optuna/optuna/releases/tag/v3.0.0. Use :func:`~optuna.trial.Trial.suggest_float` instead.\n",
      "  learning_rate = trial.suggest_loguniform('Learning rate', 1e-4, 1e-2)\n"
     ]
    },
    {
     "name": "stdout",
     "output_type": "stream",
     "text": [
      "Epoch:  0/470 - train_loss: 1.2016 - test_loss: 0.874268\n",
      "Epoch: 204/410 - train_loss: 0.2662 - test_loss: 0.276154\n",
      "Epoch: 50/200 - train_loss: 0.2918 - test_loss: 0.200031\n",
      "Epoch: 306/410 - train_loss: 0.2860 - test_loss: 0.227929\n",
      "Epoch: 408/410 - train_loss: 0.2686 - test_loss: 0.259258\n",
      "Epoch: 409/410 - train_loss: 0.2699 - test_loss: 0.225760\n",
      "City: Bình Phước  _algo:lstm  -RMSE: 10.01340043069935\n",
      "City: Bình Phước  _algo:lstm  -RMSE: 11.733155197853492\n"
     ]
    },
    {
     "name": "stderr",
     "output_type": "stream",
     "text": [
      "\u001b[32m[I 2023-02-07 11:09:06,297]\u001b[0m Trial 6 finished with value: 10.01340043069935 and parameters: {'Epochs': 200, 'Hidden size': 204, 'n layers': 4, 'Learning rate': 0.00031427786158375347}. Best is trial 7 with value: 8.601030913751039.\u001b[0m\n"
     ]
    },
    {
     "name": "stdout",
     "output_type": "stream",
     "text": [
      "City: Bình Phước  _algo:lstm  -RMSE: 12.988634078823171\n"
     ]
    },
    {
     "name": "stderr",
     "output_type": "stream",
     "text": [
      "<ipython-input-14-8244d6fc4512>:11: FutureWarning: suggest_loguniform has been deprecated in v3.0.0. This feature will be removed in v6.0.0. See https://github.com/optuna/optuna/releases/tag/v3.0.0. Use :func:`~optuna.trial.Trial.suggest_float` instead.\n",
      "  learning_rate = trial.suggest_loguniform('Learning rate', 1e-4, 1e-2)\n"
     ]
    },
    {
     "name": "stdout",
     "output_type": "stream",
     "text": [
      "Epoch:  0/400 - train_loss: 1.3429 - test_loss: 0.944081\n",
      "Epoch: 100/200 - train_loss: 0.2835 - test_loss: 0.226820\n",
      "Epoch: 408/410 - train_loss: 0.2051 - test_loss: 0.355429\n",
      "Epoch: 409/410 - train_loss: 0.2002 - test_loss: 0.378343\n",
      "City: Bình Phước  _algo:lstm  -RMSE: 10.888577972755785\n",
      "City: Bình Phước  _algo:lstm  -RMSE: 9.815625257960185\n"
     ]
    },
    {
     "name": "stderr",
     "output_type": "stream",
     "text": [
      "\u001b[32m[I 2023-02-07 11:09:29,553]\u001b[0m Trial 0 finished with value: 10.888577972755785 and parameters: {'Epochs': 260, 'Hidden size': 32, 'n layers': 4, 'Learning rate': 0.008763191678900472}. Best is trial 7 with value: 8.601030913751039.\u001b[0m\n"
     ]
    },
    {
     "name": "stdout",
     "output_type": "stream",
     "text": [
      "City: Bình Phước  _algo:lstm  -RMSE: 12.71463010981878\n"
     ]
    },
    {
     "name": "stderr",
     "output_type": "stream",
     "text": [
      "<ipython-input-14-8244d6fc4512>:11: FutureWarning: suggest_loguniform has been deprecated in v3.0.0. This feature will be removed in v6.0.0. See https://github.com/optuna/optuna/releases/tag/v3.0.0. Use :func:`~optuna.trial.Trial.suggest_float` instead.\n",
      "  learning_rate = trial.suggest_loguniform('Learning rate', 1e-4, 1e-2)\n"
     ]
    },
    {
     "name": "stdout",
     "output_type": "stream",
     "text": [
      "Epoch:  0/250 - train_loss: 1.0600 - test_loss: 0.732931\n",
      "Epoch: 102/410 - train_loss: 0.3556 - test_loss: 0.347665\n",
      "Epoch: 150/200 - train_loss: 0.2736 - test_loss: 0.248002\n",
      "Epoch: 117/470 - train_loss: 0.3039 - test_loss: 0.252305\n",
      "Epoch: 199/200 - train_loss: 0.2672 - test_loss: 0.282108\n",
      "Epoch: 100/400 - train_loss: 0.2912 - test_loss: 0.230794\n",
      "City: Bình Phước  _algo:lstm  -RMSE: 8.38100476534991\n",
      "City: Bình Phước  _algo:lstm  -RMSE: 10.489924171020464\n"
     ]
    },
    {
     "name": "stderr",
     "output_type": "stream",
     "text": [
      "\u001b[32m[I 2023-02-07 11:10:09,361]\u001b[0m Trial 20 finished with value: 8.38100476534991 and parameters: {'Epochs': 200, 'Hidden size': 14, 'n layers': 4, 'Learning rate': 0.0024183740021515255}. Best is trial 20 with value: 8.38100476534991.\u001b[0m\n"
     ]
    },
    {
     "name": "stdout",
     "output_type": "stream",
     "text": [
      "City: Bình Phước  _algo:lstm  -RMSE: 13.07097937243604\n"
     ]
    },
    {
     "name": "stderr",
     "output_type": "stream",
     "text": [
      "<ipython-input-14-8244d6fc4512>:11: FutureWarning: suggest_loguniform has been deprecated in v3.0.0. This feature will be removed in v6.0.0. See https://github.com/optuna/optuna/releases/tag/v3.0.0. Use :func:`~optuna.trial.Trial.suggest_float` instead.\n",
      "  learning_rate = trial.suggest_loguniform('Learning rate', 1e-4, 1e-2)\n"
     ]
    },
    {
     "name": "stdout",
     "output_type": "stream",
     "text": [
      "Epoch:  0/100 - train_loss: 0.8560 - test_loss: 0.659592\n",
      "Epoch: 408/410 - train_loss: 0.2799 - test_loss: 0.240252\n",
      "Epoch: 409/410 - train_loss: 0.2805 - test_loss: 0.218334\n",
      "City: Bình Phước  _algo:lstm  -RMSE: 9.946913860222999\n",
      "City: Bình Phước  _algo:lstm  -RMSE: 12.131199686272822\n"
     ]
    },
    {
     "name": "stderr",
     "output_type": "stream",
     "text": [
      "\u001b[32m[I 2023-02-07 11:10:17,134]\u001b[0m Trial 8 finished with value: 9.946913860222999 and parameters: {'Epochs': 470, 'Hidden size': 13, 'n layers': 4, 'Learning rate': 0.00046253715608957476}. Best is trial 20 with value: 8.38100476534991.\u001b[0m\n"
     ]
    },
    {
     "name": "stdout",
     "output_type": "stream",
     "text": [
      "City: Bình Phước  _algo:lstm  -RMSE: 14.76278738837487\n"
     ]
    },
    {
     "name": "stderr",
     "output_type": "stream",
     "text": [
      "<ipython-input-14-8244d6fc4512>:11: FutureWarning: suggest_loguniform has been deprecated in v3.0.0. This feature will be removed in v6.0.0. See https://github.com/optuna/optuna/releases/tag/v3.0.0. Use :func:`~optuna.trial.Trial.suggest_float` instead.\n",
      "  learning_rate = trial.suggest_loguniform('Learning rate', 1e-4, 1e-2)\n"
     ]
    },
    {
     "name": "stdout",
     "output_type": "stream",
     "text": [
      "Epoch:  0/240 - train_loss: 1.0370 - test_loss: 0.651669\n",
      "Epoch: 62/250 - train_loss: 0.3288 - test_loss: 0.317275\n",
      "Epoch: 25/100 - train_loss: 0.3634 - test_loss: 0.342485\n",
      "Epoch: 306/410 - train_loss: 0.2669 - test_loss: 0.277694\n",
      "Epoch: 50/100 - train_loss: 0.3478 - test_loss: 0.379496\n",
      "Epoch: 60/240 - train_loss: 0.3023 - test_loss: 0.469134\n",
      "Epoch: 75/100 - train_loss: 0.3562 - test_loss: 0.397859\n",
      "Epoch: 234/470 - train_loss: 0.2762 - test_loss: 0.249977\n",
      "Epoch: 200/400 - train_loss: 0.2750 - test_loss: 0.246020\n",
      "Epoch: 99/100 - train_loss: 0.3619 - test_loss: 0.373014\n",
      "City: Bình Phước  _algo:lstm  -RMSE: 15.096917559623163\n",
      "Epoch: 124/250 - train_loss: 0.3289 - test_loss: 0.365145\n",
      "City: Bình Phước  _algo:lstm  -RMSE: 18.583237688126793\n"
     ]
    },
    {
     "name": "stderr",
     "output_type": "stream",
     "text": [
      "\u001b[32m[I 2023-02-07 11:11:28,249]\u001b[0m Trial 24 finished with value: 15.096917559623163 and parameters: {'Epochs': 100, 'Hidden size': 72, 'n layers': 8, 'Learning rate': 0.007290624384965418}. Best is trial 20 with value: 8.38100476534991.\u001b[0m\n"
     ]
    },
    {
     "name": "stdout",
     "output_type": "stream",
     "text": [
      "City: Bình Phước  _algo:lstm  -RMSE: 22.508426431252804\n"
     ]
    },
    {
     "name": "stderr",
     "output_type": "stream",
     "text": [
      "<ipython-input-14-8244d6fc4512>:11: FutureWarning: suggest_loguniform has been deprecated in v3.0.0. This feature will be removed in v6.0.0. See https://github.com/optuna/optuna/releases/tag/v3.0.0. Use :func:`~optuna.trial.Trial.suggest_float` instead.\n",
      "  learning_rate = trial.suggest_loguniform('Learning rate', 1e-4, 1e-2)\n"
     ]
    },
    {
     "name": "stdout",
     "output_type": "stream",
     "text": [
      "Epoch:  0/100 - train_loss: 1.3759 - test_loss: 1.029490\n",
      "Epoch: 25/100 - train_loss: 1.0151 - test_loss: 0.752317\n",
      "Epoch: 120/240 - train_loss: 0.2610 - test_loss: 0.460018\n",
      "Epoch: 50/100 - train_loss: 0.6252 - test_loss: 0.624367\n",
      "Epoch: 300/400 - train_loss: 0.2712 - test_loss: 0.225662\n",
      "Epoch: 75/100 - train_loss: 0.5722 - test_loss: 0.577778\n",
      "Epoch: 408/410 - train_loss: 0.2648 - test_loss: 0.253919\n",
      "Epoch: 409/410 - train_loss: 0.2628 - test_loss: 0.250094\n",
      "City: Bình Phước  _algo:lstm  -RMSE: 10.915212800809412\n",
      "City: Bình Phước  _algo:lstm  -RMSE: 12.772098793461847\n"
     ]
    },
    {
     "name": "stderr",
     "output_type": "stream",
     "text": [
      "\u001b[32m[I 2023-02-07 11:12:28,646]\u001b[0m Trial 16 finished with value: 10.915212800809412 and parameters: {'Epochs': 150, 'Hidden size': 5, 'n layers': 4, 'Learning rate': 0.005209222407374893}. Best is trial 20 with value: 8.38100476534991.\u001b[0m\n"
     ]
    },
    {
     "name": "stdout",
     "output_type": "stream",
     "text": [
      "City: Bình Phước  _algo:lstm  -RMSE: 13.801771799660566\n"
     ]
    },
    {
     "name": "stderr",
     "output_type": "stream",
     "text": [
      "<ipython-input-14-8244d6fc4512>:11: FutureWarning: suggest_loguniform has been deprecated in v3.0.0. This feature will be removed in v6.0.0. See https://github.com/optuna/optuna/releases/tag/v3.0.0. Use :func:`~optuna.trial.Trial.suggest_float` instead.\n",
      "  learning_rate = trial.suggest_loguniform('Learning rate', 1e-4, 1e-2)\n"
     ]
    },
    {
     "name": "stdout",
     "output_type": "stream",
     "text": [
      "Epoch:  0/220 - train_loss: 0.9256 - test_loss: 0.750498\n",
      "Epoch: 186/250 - train_loss: 0.3333 - test_loss: 0.398197\n",
      "Epoch: 351/470 - train_loss: 0.2706 - test_loss: 0.284712\n",
      "Epoch: 99/100 - train_loss: 0.5309 - test_loss: 0.536397\n",
      "City: Bình Phước  _algo:lstm  -RMSE: 26.070237613854996\n",
      "City: Bình Phước  _algo:lstm  -RMSE: 26.04981815750937\n"
     ]
    },
    {
     "name": "stderr",
     "output_type": "stream",
     "text": [
      "\u001b[32m[I 2023-02-07 11:12:40,673]\u001b[0m Trial 26 finished with value: 26.070237613854996 and parameters: {'Epochs': 100, 'Hidden size': 12, 'n layers': 6, 'Learning rate': 0.00012691172602185248}. Best is trial 20 with value: 8.38100476534991.\u001b[0m\n"
     ]
    },
    {
     "name": "stdout",
     "output_type": "stream",
     "text": [
      "City: Bình Phước  _algo:lstm  -RMSE: 25.546977418072107\n"
     ]
    },
    {
     "name": "stderr",
     "output_type": "stream",
     "text": [
      "<ipython-input-14-8244d6fc4512>:11: FutureWarning: suggest_loguniform has been deprecated in v3.0.0. This feature will be removed in v6.0.0. See https://github.com/optuna/optuna/releases/tag/v3.0.0. Use :func:`~optuna.trial.Trial.suggest_float` instead.\n",
      "  learning_rate = trial.suggest_loguniform('Learning rate', 1e-4, 1e-2)\n"
     ]
    },
    {
     "name": "stdout",
     "output_type": "stream",
     "text": [
      "Epoch:  0/400 - train_loss: 1.1752 - test_loss: 0.870473\n",
      "Epoch: 180/240 - train_loss: 0.2581 - test_loss: 0.401095\n",
      "Epoch: 399/400 - train_loss: 0.2650 - test_loss: 0.276035\n",
      "City: Bình Phước  _algo:lstm  -RMSE: 8.300968992874562\n",
      "City: Bình Phước  _algo:lstm  -RMSE: 10.693315142503815\n"
     ]
    },
    {
     "name": "stderr",
     "output_type": "stream",
     "text": [
      "\u001b[32m[I 2023-02-07 11:13:38,849]\u001b[0m Trial 22 finished with value: 8.300968992874562 and parameters: {'Epochs': 400, 'Hidden size': 19, 'n layers': 4, 'Learning rate': 0.0012007433414016717}. Best is trial 22 with value: 8.300968992874562.\u001b[0m\n"
     ]
    },
    {
     "name": "stdout",
     "output_type": "stream",
     "text": [
      "City: Bình Phước  _algo:lstm  -RMSE: 11.892280550550566\n"
     ]
    },
    {
     "name": "stderr",
     "output_type": "stream",
     "text": [
      "<ipython-input-14-8244d6fc4512>:11: FutureWarning: suggest_loguniform has been deprecated in v3.0.0. This feature will be removed in v6.0.0. See https://github.com/optuna/optuna/releases/tag/v3.0.0. Use :func:`~optuna.trial.Trial.suggest_float` instead.\n",
      "  learning_rate = trial.suggest_loguniform('Learning rate', 1e-4, 1e-2)\n"
     ]
    },
    {
     "name": "stdout",
     "output_type": "stream",
     "text": [
      "Epoch:  0/360 - train_loss: 1.1282 - test_loss: 0.767764\n",
      "Epoch: 204/410 - train_loss: 0.3532 - test_loss: 0.391990\n",
      "Epoch: 248/250 - train_loss: 0.3228 - test_loss: 0.325244\n",
      "Epoch: 249/250 - train_loss: 0.3302 - test_loss: 0.403837\n",
      "City: Bình Phước  _algo:lstm  -RMSE: 17.510532267438307\n",
      "City: Bình Phước  _algo:lstm  -RMSE: 17.39082836831376\n"
     ]
    },
    {
     "name": "stderr",
     "output_type": "stream",
     "text": [
      "\u001b[32m[I 2023-02-07 11:13:52,538]\u001b[0m Trial 23 finished with value: 17.510532267438307 and parameters: {'Epochs': 250, 'Hidden size': 54, 'n layers': 9, 'Learning rate': 0.0012433158275812273}. Best is trial 22 with value: 8.300968992874562.\u001b[0m\n"
     ]
    },
    {
     "name": "stdout",
     "output_type": "stream",
     "text": [
      "City: Bình Phước  _algo:lstm  -RMSE: 19.651287457946196\n",
      "Epoch: 55/220 - train_loss: 0.3569 - test_loss: 0.388814\n",
      "Epoch: 239/240 - train_loss: 0.2563 - test_loss: 0.399093\n",
      "City: Bình Phước  _algo:lstm  -RMSE: 18.748029245543663\n",
      "City: Bình Phước  _algo:lstm  -RMSE: 14.838543252060129\n"
     ]
    },
    {
     "name": "stderr",
     "output_type": "stream",
     "text": [
      "\u001b[32m[I 2023-02-07 11:14:06,058]\u001b[0m Trial 25 finished with value: 18.748029245543663 and parameters: {'Epochs': 240, 'Hidden size': 6, 'n layers': 5, 'Learning rate': 0.007252379504718115}. Best is trial 22 with value: 8.300968992874562.\u001b[0m\n"
     ]
    },
    {
     "name": "stdout",
     "output_type": "stream",
     "text": [
      "City: Bình Phước  _algo:lstm  -RMSE: 14.702682782811985\n",
      "Epoch:  0/410 - train_loss: 1.2554 - test_loss: 0.876031\n",
      "Epoch: 468/470 - train_loss: 0.2640 - test_loss: 0.328863\n",
      "Epoch: 469/470 - train_loss: 0.2665 - test_loss: 0.333553\n",
      "City: Bình Phước  _algo:lstm  -RMSE: 8.062788689967974\n",
      "City: Bình Phước  _algo:lstm  -RMSE: 10.115696097903252\n"
     ]
    },
    {
     "name": "stderr",
     "output_type": "stream",
     "text": [
      "\u001b[32m[I 2023-02-07 11:14:27,918]\u001b[0m Trial 21 finished with value: 8.062788689967974 and parameters: {'Epochs': 470, 'Hidden size': 29, 'n layers': 6, 'Learning rate': 0.0004823320853547817}. Best is trial 21 with value: 8.062788689967974.\u001b[0m\n"
     ]
    },
    {
     "name": "stdout",
     "output_type": "stream",
     "text": [
      "City: Bình Phước  _algo:lstm  -RMSE: 12.84531011021204\n",
      "Epoch: 100/400 - train_loss: 0.3993 - test_loss: 0.394910\n",
      "Epoch:  0/410 - train_loss: 1.3073 - test_loss: 0.930722\n",
      "Epoch: 110/220 - train_loss: 0.3620 - test_loss: 0.377830\n",
      "Epoch: 102/410 - train_loss: 0.2722 - test_loss: 0.285210\n",
      "Epoch: 90/360 - train_loss: 0.3332 - test_loss: 0.460714\n",
      "Epoch: 306/410 - train_loss: 0.3622 - test_loss: 0.385046\n",
      "Epoch: 165/220 - train_loss: 0.3615 - test_loss: 0.388422\n",
      "Epoch: 200/400 - train_loss: 0.2970 - test_loss: 0.308606\n",
      "Epoch:  0/410 - train_loss: 1.1247 - test_loss: 0.707949\n",
      "Epoch: 102/410 - train_loss: 0.2990 - test_loss: 0.308322\n",
      "Epoch: 180/360 - train_loss: 0.3142 - test_loss: 0.421481\n",
      "Epoch: 219/220 - train_loss: 0.3597 - test_loss: 0.375804\n",
      "City: Bình Phước  _algo:lstm  -RMSE: 22.168873125517482\n",
      "City: Bình Phước  _algo:lstm  -RMSE: 14.961335603956073\n"
     ]
    },
    {
     "name": "stderr",
     "output_type": "stream",
     "text": [
      "\u001b[32m[I 2023-02-07 11:17:47,543]\u001b[0m Trial 27 finished with value: 22.168873125517482 and parameters: {'Epochs': 220, 'Hidden size': 220, 'n layers': 10, 'Learning rate': 0.00707492301213825}. Best is trial 21 with value: 8.062788689967974.\u001b[0m\n"
     ]
    },
    {
     "name": "stdout",
     "output_type": "stream",
     "text": [
      "City: Bình Phước  _algo:lstm  -RMSE: 18.36035102049321\n",
      "Epoch: 204/410 - train_loss: 0.2655 - test_loss: 0.311296\n",
      "Epoch: 408/410 - train_loss: 0.3545 - test_loss: 0.381479\n",
      "Epoch: 409/410 - train_loss: 0.3548 - test_loss: 0.372631\n",
      "City: Bình Phước  _algo:lstm  -RMSE: 21.511021128851738\n",
      "City: Bình Phước  _algo:lstm  -RMSE: 21.876204393779282\n"
     ]
    },
    {
     "name": "stderr",
     "output_type": "stream",
     "text": [
      "\u001b[32m[I 2023-02-07 11:18:29,357]\u001b[0m Trial 12 finished with value: 21.511021128851738 and parameters: {'Epochs': 210, 'Hidden size': 126, 'n layers': 10, 'Learning rate': 0.008116855342536766}. Best is trial 21 with value: 8.062788689967974.\u001b[0m\n"
     ]
    },
    {
     "name": "stdout",
     "output_type": "stream",
     "text": [
      "City: Bình Phước  _algo:lstm  -RMSE: 19.500937794490106\n",
      "Epoch: 300/400 - train_loss: 0.2876 - test_loss: 0.284985\n",
      "Epoch:  0/410 - train_loss: 1.2504 - test_loss: 0.906000\n",
      "Epoch: 102/410 - train_loss: 0.2985 - test_loss: 0.382393\n",
      "Epoch: 270/360 - train_loss: 0.2948 - test_loss: 0.410511\n",
      "Epoch: 204/410 - train_loss: 0.2659 - test_loss: 0.310637\n",
      "Epoch: 306/410 - train_loss: 0.2721 - test_loss: 0.404046\n",
      "Epoch: 399/400 - train_loss: 0.2833 - test_loss: 0.278869\n",
      "City: Bình Phước  _algo:lstm  -RMSE: 16.10878019356731\n",
      "City: Bình Phước  _algo:lstm  -RMSE: 17.262669115382\n"
     ]
    },
    {
     "name": "stderr",
     "output_type": "stream",
     "text": [
      "\u001b[32m[I 2023-02-07 11:20:00,251]\u001b[0m Trial 28 finished with value: 16.10878019356731 and parameters: {'Epochs': 400, 'Hidden size': 16, 'n layers': 9, 'Learning rate': 0.0002769801846504328}. Best is trial 21 with value: 8.062788689967974.\u001b[0m\n"
     ]
    },
    {
     "name": "stdout",
     "output_type": "stream",
     "text": [
      "City: Bình Phước  _algo:lstm  -RMSE: 18.953600688520716\n",
      "Epoch:  0/410 - train_loss: 1.3707 - test_loss: 0.954857\n",
      "Epoch: 102/410 - train_loss: 0.3012 - test_loss: 0.295167\n",
      "Epoch: 204/410 - train_loss: 0.2741 - test_loss: 0.276707\n",
      "Epoch: 359/360 - train_loss: 0.2968 - test_loss: 0.431263\n",
      "City: Bình Phước  _algo:lstm  -RMSE: 20.337353340160934\n",
      "City: Bình Phước  _algo:lstm  -RMSE: 20.948992631914948\n"
     ]
    },
    {
     "name": "stderr",
     "output_type": "stream",
     "text": [
      "\u001b[32m[I 2023-02-07 11:20:40,175]\u001b[0m Trial 29 finished with value: 20.337353340160934 and parameters: {'Epochs': 360, 'Hidden size': 77, 'n layers': 10, 'Learning rate': 0.0008207788147551154}. Best is trial 21 with value: 8.062788689967974.\u001b[0m\n"
     ]
    },
    {
     "name": "stdout",
     "output_type": "stream",
     "text": [
      "City: Bình Phước  _algo:lstm  -RMSE: 20.176117863696167\n",
      "Epoch: 306/410 - train_loss: 0.2639 - test_loss: 0.359472\n",
      "Epoch:  0/410 - train_loss: 1.2868 - test_loss: 0.953499\n",
      "Epoch: 408/410 - train_loss: 0.2611 - test_loss: 0.365960\n",
      "Epoch: 409/410 - train_loss: 0.2677 - test_loss: 0.375386\n",
      "City: Bình Phước  _algo:lstm  -RMSE: 12.01441418650659\n",
      "City: Bình Phước  _algo:lstm  -RMSE: 9.73259282310448\n"
     ]
    },
    {
     "name": "stderr",
     "output_type": "stream",
     "text": [
      "\u001b[32m[I 2023-02-07 11:21:00,586]\u001b[0m Trial 19 finished with value: 12.01441418650659 and parameters: {'Epochs': 410, 'Hidden size': 14, 'n layers': 8, 'Learning rate': 0.0013130898315169871}. Best is trial 21 with value: 8.062788689967974.\u001b[0m\n"
     ]
    },
    {
     "name": "stdout",
     "output_type": "stream",
     "text": [
      "City: Bình Phước  _algo:lstm  -RMSE: 9.752310855031734\n",
      "Epoch: 102/410 - train_loss: 0.2780 - test_loss: 0.248392\n",
      "Epoch:  0/410 - train_loss: 1.0641 - test_loss: 0.764802\n",
      "Epoch: 204/410 - train_loss: 0.2784 - test_loss: 0.271842\n",
      "Epoch: 102/410 - train_loss: 0.3059 - test_loss: 0.273967\n",
      "Epoch: 306/410 - train_loss: 0.2642 - test_loss: 0.299982\n",
      "Epoch: 408/410 - train_loss: 0.2624 - test_loss: 0.339957\n",
      "Epoch: 409/410 - train_loss: 0.2699 - test_loss: 0.326018\n",
      "City: Bình Phước  _algo:lstm  -RMSE: 9.919717835081892\n",
      "City: Bình Phước  _algo:lstm  -RMSE: 10.621231975720312\n"
     ]
    },
    {
     "name": "stderr",
     "output_type": "stream",
     "text": [
      "\u001b[32m[I 2023-02-07 11:22:12,609]\u001b[0m Trial 15 finished with value: 9.919717835081892 and parameters: {'Epochs': 490, 'Hidden size': 26, 'n layers': 7, 'Learning rate': 0.0014272172622708929}. Best is trial 21 with value: 8.062788689967974.\u001b[0m\n"
     ]
    },
    {
     "name": "stdout",
     "output_type": "stream",
     "text": [
      "City: Bình Phước  _algo:lstm  -RMSE: 14.435106424071794\n",
      "Epoch:  0/410 - train_loss: 0.8841 - test_loss: 0.678537\n",
      "Epoch: 204/410 - train_loss: 0.2662 - test_loss: 0.274570\n",
      "Epoch: 102/410 - train_loss: 0.2936 - test_loss: 0.349704\n",
      "Epoch: 306/410 - train_loss: 0.2713 - test_loss: 0.305635\n",
      "Epoch: 408/410 - train_loss: 0.2624 - test_loss: 0.284550\n",
      "Epoch: 409/410 - train_loss: 0.2666 - test_loss: 0.344419\n",
      "City: Bình Phước  _algo:lstm  -RMSE: 12.453954842584851\n",
      "City: Bình Phước  _algo:lstm  -RMSE: 11.026621380681707\n",
      "Epoch: 204/410 - train_loss: 0.2777 - test_loss: 0.245733\n"
     ]
    },
    {
     "name": "stderr",
     "output_type": "stream",
     "text": [
      "\u001b[32m[I 2023-02-07 11:23:42,761]\u001b[0m Trial 3 finished with value: 12.453954842584851 and parameters: {'Epochs': 290, 'Hidden size': 20, 'n layers': 8, 'Learning rate': 0.001416455398222001}. Best is trial 21 with value: 8.062788689967974.\u001b[0m\n"
     ]
    },
    {
     "name": "stdout",
     "output_type": "stream",
     "text": [
      "City: Bình Phước  _algo:lstm  -RMSE: 13.082231237412604\n",
      "Epoch:  0/410 - train_loss: 1.0605 - test_loss: 0.752978\n",
      "Epoch: 102/410 - train_loss: 0.5688 - test_loss: 0.564714\n",
      "Epoch: 306/410 - train_loss: 0.2521 - test_loss: 0.321440\n",
      "Epoch: 204/410 - train_loss: 0.3072 - test_loss: 0.436821\n",
      "Epoch: 408/410 - train_loss: 0.2645 - test_loss: 0.349947\n",
      "Epoch: 409/410 - train_loss: 0.2689 - test_loss: 0.290384\n",
      "City: Bình Phước  _algo:lstm  -RMSE: 12.737454045970823\n",
      "City: Bình Phước  _algo:lstm  -RMSE: 13.31089535090287\n"
     ]
    },
    {
     "name": "stderr",
     "output_type": "stream",
     "text": [
      "\u001b[32m[I 2023-02-07 11:24:52,926]\u001b[0m Trial 10 finished with value: 12.737454045970823 and parameters: {'Epochs': 290, 'Hidden size': 32, 'n layers': 7, 'Learning rate': 0.0006066356083198539}. Best is trial 21 with value: 8.062788689967974.\u001b[0m\n"
     ]
    },
    {
     "name": "stdout",
     "output_type": "stream",
     "text": [
      "City: Bình Phước  _algo:lstm  -RMSE: 14.00187388373522\n",
      "Epoch:  0/410 - train_loss: 0.9766 - test_loss: 0.660708\n",
      "Epoch: 306/410 - train_loss: 0.2692 - test_loss: 0.286464\n",
      "Epoch: 102/410 - train_loss: 0.3259 - test_loss: 0.389808\n",
      "Epoch: 408/410 - train_loss: 0.2083 - test_loss: 0.364400\n",
      "Epoch: 409/410 - train_loss: 0.2092 - test_loss: 0.375795\n",
      "City: Bình Phước  _algo:lstm  -RMSE: 13.739888276883283\n",
      "City: Bình Phước  _algo:lstm  -RMSE: 13.341843299717418\n"
     ]
    },
    {
     "name": "stderr",
     "output_type": "stream",
     "text": [
      "\u001b[32m[I 2023-02-07 11:25:28,257]\u001b[0m Trial 4 finished with value: 13.739888276883283 and parameters: {'Epochs': 280, 'Hidden size': 95, 'n layers': 5, 'Learning rate': 0.0011856134327057712}. Best is trial 21 with value: 8.062788689967974.\u001b[0m\n"
     ]
    },
    {
     "name": "stdout",
     "output_type": "stream",
     "text": [
      "City: Bình Phước  _algo:lstm  -RMSE: 14.420673157281062\n",
      "Epoch:  0/410 - train_loss: 1.4434 - test_loss: 1.078833\n",
      "Epoch: 204/410 - train_loss: 0.4391 - test_loss: 0.406701\n",
      "Epoch: 306/410 - train_loss: 0.2699 - test_loss: 0.410601\n",
      "Epoch: 102/410 - train_loss: 0.4185 - test_loss: 0.486237\n",
      "Epoch: 408/410 - train_loss: 0.2666 - test_loss: 0.292097\n",
      "Epoch: 409/410 - train_loss: 0.2692 - test_loss: 0.295863\n",
      "City: Bình Phước  _algo:lstm  -RMSE: 11.175145550223474\n",
      "City: Bình Phước  _algo:lstm  -RMSE: 11.50316102577398\n"
     ]
    },
    {
     "name": "stderr",
     "output_type": "stream",
     "text": [
      "\u001b[32m[I 2023-02-07 11:27:06,460]\u001b[0m Trial 9 finished with value: 11.175145550223474 and parameters: {'Epochs': 350, 'Hidden size': 21, 'n layers': 7, 'Learning rate': 0.0005739123414819642}. Best is trial 21 with value: 8.062788689967974.\u001b[0m\n"
     ]
    },
    {
     "name": "stdout",
     "output_type": "stream",
     "text": [
      "City: Bình Phước  _algo:lstm  -RMSE: 14.24210012988703\n",
      "Epoch: 204/410 - train_loss: 0.3063 - test_loss: 0.407899\n",
      "Epoch: 102/410 - train_loss: 0.2905 - test_loss: 0.273646\n",
      "Epoch: 306/410 - train_loss: 0.3584 - test_loss: 0.299077\n",
      "Epoch: 408/410 - train_loss: 0.2727 - test_loss: 0.411055\n",
      "Epoch: 409/410 - train_loss: 0.2657 - test_loss: 0.388232\n",
      "City: Bình Phước  _algo:lstm  -RMSE: 16.034629733082145\n",
      "City: Bình Phước  _algo:lstm  -RMSE: 17.829670387071587\n"
     ]
    },
    {
     "name": "stderr",
     "output_type": "stream",
     "text": [
      "\u001b[32m[I 2023-02-07 11:28:32,793]\u001b[0m Trial 14 finished with value: 16.034629733082145 and parameters: {'Epochs': 250, 'Hidden size': 12, 'n layers': 8, 'Learning rate': 0.0022530724972405153}. Best is trial 21 with value: 8.062788689967974.\u001b[0m\n"
     ]
    },
    {
     "name": "stdout",
     "output_type": "stream",
     "text": [
      "City: Bình Phước  _algo:lstm  -RMSE: 18.291258644298757\n",
      "Epoch: 204/410 - train_loss: 0.3592 - test_loss: 0.372724\n",
      "Epoch: 102/410 - train_loss: 0.3232 - test_loss: 0.459004\n",
      "Epoch: 306/410 - train_loss: 0.2959 - test_loss: 0.420718\n",
      "Epoch: 204/410 - train_loss: 0.2657 - test_loss: 0.296402\n",
      "Epoch: 408/410 - train_loss: 0.3111 - test_loss: 0.274834\n",
      "Epoch: 409/410 - train_loss: 0.3072 - test_loss: 0.275024\n",
      "City: Bình Phước  _algo:lstm  -RMSE: 13.04386041491244\n",
      "City: Bình Phước  _algo:lstm  -RMSE: 16.398047593081976\n"
     ]
    },
    {
     "name": "stderr",
     "output_type": "stream",
     "text": [
      "\u001b[32m[I 2023-02-07 11:29:48,732]\u001b[0m Trial 2 finished with value: 13.04386041491244 and parameters: {'Epochs': 210, 'Hidden size': 34, 'n layers': 8, 'Learning rate': 0.00011131050065699431}. Best is trial 21 with value: 8.062788689967974.\u001b[0m\n"
     ]
    },
    {
     "name": "stdout",
     "output_type": "stream",
     "text": [
      "City: Bình Phước  _algo:lstm  -RMSE: 17.599256015012312\n",
      "Epoch: 102/410 - train_loss: 0.3932 - test_loss: 0.402820\n",
      "Epoch: 306/410 - train_loss: 0.3541 - test_loss: 0.366534\n",
      "Epoch: 408/410 - train_loss: 0.2883 - test_loss: 0.413544\n",
      "Epoch: 409/410 - train_loss: 0.2908 - test_loss: 0.406794\n",
      "Epoch: 204/410 - train_loss: 0.3429 - test_loss: 0.292757\n",
      "City: Bình Phước  _algo:lstm  -RMSE: 17.126795315067696\n",
      "City: Bình Phước  _algo:lstm  -RMSE: 18.65517682225003\n"
     ]
    },
    {
     "name": "stderr",
     "output_type": "stream",
     "text": [
      "\u001b[32m[I 2023-02-07 11:30:52,972]\u001b[0m Trial 1 finished with value: 17.126795315067696 and parameters: {'Epochs': 150, 'Hidden size': 60, 'n layers': 8, 'Learning rate': 0.0007950313887922058}. Best is trial 21 with value: 8.062788689967974.\u001b[0m\n"
     ]
    },
    {
     "name": "stdout",
     "output_type": "stream",
     "text": [
      "City: Bình Phước  _algo:lstm  -RMSE: 20.2693921414688\n",
      "Epoch: 306/410 - train_loss: 0.2620 - test_loss: 0.354538\n",
      "Epoch: 204/410 - train_loss: 0.3483 - test_loss: 0.358745\n",
      "Epoch: 408/410 - train_loss: 0.3637 - test_loss: 0.382585\n",
      "Epoch: 409/410 - train_loss: 0.3571 - test_loss: 0.347359\n",
      "City: Bình Phước  _algo:lstm  -RMSE: 15.833360017246704\n",
      "City: Bình Phước  _algo:lstm  -RMSE: 12.653911562937191\n"
     ]
    },
    {
     "name": "stderr",
     "output_type": "stream",
     "text": [
      "\u001b[32m[I 2023-02-07 11:31:59,077]\u001b[0m Trial 11 finished with value: 15.833360017246704 and parameters: {'Epochs': 430, 'Hidden size': 185, 'n layers': 9, 'Learning rate': 0.0023701684312308693}. Best is trial 21 with value: 8.062788689967974.\u001b[0m\n"
     ]
    },
    {
     "name": "stdout",
     "output_type": "stream",
     "text": [
      "City: Bình Phước  _algo:lstm  -RMSE: 12.758085190591466\n",
      "Epoch: 408/410 - train_loss: 0.2408 - test_loss: 0.375249\n",
      "Epoch: 409/410 - train_loss: 0.2461 - test_loss: 0.372610\n",
      "City: Bình Phước  _algo:lstm  -RMSE: 11.923114637865657\n",
      "City: Bình Phước  _algo:lstm  -RMSE: 13.745526803430526\n"
     ]
    },
    {
     "name": "stderr",
     "output_type": "stream",
     "text": [
      "\u001b[32m[I 2023-02-07 11:32:03,161]\u001b[0m Trial 18 finished with value: 11.923114637865657 and parameters: {'Epochs': 410, 'Hidden size': 82, 'n layers': 6, 'Learning rate': 0.0006985663642390489}. Best is trial 21 with value: 8.062788689967974.\u001b[0m\n"
     ]
    },
    {
     "name": "stdout",
     "output_type": "stream",
     "text": [
      "City: Bình Phước  _algo:lstm  -RMSE: 13.121638003831478\n",
      "Epoch: 306/410 - train_loss: 0.3061 - test_loss: 0.445636\n",
      "Epoch: 306/410 - train_loss: 0.3197 - test_loss: 0.343178\n",
      "Epoch: 408/410 - train_loss: 0.3060 - test_loss: 0.450635\n",
      "Epoch: 409/410 - train_loss: 0.3088 - test_loss: 0.448511\n",
      "City: Bình Phước  _algo:lstm  -RMSE: 17.67981825725692\n",
      "City: Bình Phước  _algo:lstm  -RMSE: 14.476058647319848\n"
     ]
    },
    {
     "name": "stderr",
     "output_type": "stream",
     "text": [
      "\u001b[32m[I 2023-02-07 11:32:35,215]\u001b[0m Trial 13 finished with value: 17.67981825725692 and parameters: {'Epochs': 170, 'Hidden size': 12, 'n layers': 9, 'Learning rate': 0.005554462446871473}. Best is trial 21 with value: 8.062788689967974.\u001b[0m\n"
     ]
    },
    {
     "name": "stdout",
     "output_type": "stream",
     "text": [
      "City: Bình Phước  _algo:lstm  -RMSE: 12.245758165976497\n",
      "Epoch: 408/410 - train_loss: 0.2990 - test_loss: 0.227059\n",
      "Epoch: 409/410 - train_loss: 0.3035 - test_loss: 0.244730\n",
      "City: Bình Phước  _algo:lstm  -RMSE: 16.934179386985793\n",
      "City: Bình Phước  _algo:lstm  -RMSE: 14.579234812342932\n"
     ]
    },
    {
     "name": "stderr",
     "output_type": "stream",
     "text": [
      "\u001b[32m[I 2023-02-07 11:32:46,927]\u001b[0m Trial 17 finished with value: 16.934179386985793 and parameters: {'Epochs': 450, 'Hidden size': 6, 'n layers': 8, 'Learning rate': 0.00025823119935663416}. Best is trial 21 with value: 8.062788689967974.\u001b[0m\n",
      "\u001b[32m[I 2023-02-07 11:32:46,959]\u001b[0m A new study created in memory with name: no-name-08e5415b-417e-4759-bff8-7fe332bb3000\u001b[0m\n"
     ]
    },
    {
     "name": "stdout",
     "output_type": "stream",
     "text": [
      "City: Bình Phước  _algo:lstm  -RMSE: 12.382941149465319\n",
      "Study statistics for : \n",
      "  Number of finished trials:  30\n",
      "Best trial of city:  Bình Phước\n",
      "  Value:  8.062788689967974\n"
     ]
    },
    {
     "name": "stderr",
     "output_type": "stream",
     "text": [
      "<ipython-input-13-c88f81b1749c>:4: FutureWarning: suggest_loguniform has been deprecated in v3.0.0. This feature will be removed in v6.0.0. See https://github.com/optuna/optuna/releases/tag/v3.0.0. Use :func:`~optuna.trial.Trial.suggest_float` instead.\n",
      "  learning_rate = trial.suggest_loguniform('Learning rate', 1e-4, 1e-2)\n",
      "<ipython-input-13-c88f81b1749c>:6: FutureWarning: suggest_uniform has been deprecated in v3.0.0. This feature will be removed in v6.0.0. See https://github.com/optuna/optuna/releases/tag/v3.0.0. Use :func:`~optuna.trial.Trial.suggest_float` instead.\n",
      "  dropout = trial.suggest_uniform('Dropout rate', 0.01, 0.80)\n"
     ]
    },
    {
     "name": "stdout",
     "output_type": "stream",
     "text": [
      "Epoch:  0/240 - train_loss: 0.8704 - test_loss: 0.791147\n",
      "Epoch:  0/260 - train_loss: 1.2396 - test_loss: 0.866801\n",
      "Epoch:  0/460 - train_loss: 1.2759 - test_loss: 0.907811\n",
      "Epoch:  0/420 - train_loss: 1.2387 - test_loss: 0.754171\n",
      "Epoch:  0/240 - train_loss: 0.9205 - test_loss: 0.602954\n",
      "Epoch:  0/240 - train_loss: 0.8945 - test_loss: 0.671557\n",
      "Epoch:  0/240 - train_loss: 1.2421 - test_loss: 0.779699\n",
      "Epoch:  0/240 - train_loss: 0.8943 - test_loss: 0.639996\n",
      "Epoch:  0/420 - train_loss: 1.4329 - test_loss: 0.884132\n",
      "Epoch:  0/240 - train_loss: 0.7972 - test_loss: 0.559080\n",
      "Epoch:  0/240 - train_loss: 0.9203 - test_loss: 0.716791\n",
      "Epoch:  0/240 - train_loss: 1.3584 - test_loss: 0.838714\n",
      "Epoch:  0/260 - train_loss: 1.0703 - test_loss: 0.790681\n",
      "Epoch:  0/240 - train_loss: 0.9581 - test_loss: 0.754246\n",
      "Epoch:  0/240 - train_loss: 1.0774 - test_loss: 0.828388\n",
      "Epoch:  0/240 - train_loss: 1.0758 - test_loss: 0.748721\n",
      "Epoch:  0/240 - train_loss: 0.9206 - test_loss: 0.571891\n",
      "Epoch:  0/240 - train_loss: 1.0811 - test_loss: 0.757959\n",
      "Epoch:  0/240 - train_loss: 1.0902 - test_loss: 0.767496\n",
      "Epoch:  0/420 - train_loss: 1.3355 - test_loss: 0.902083\n",
      "Epoch: 60/240 - train_loss: 0.2557 - test_loss: 0.210065\n",
      "Epoch: 65/260 - train_loss: 0.5704 - test_loss: 0.510184\n",
      "Epoch: 60/240 - train_loss: 0.4775 - test_loss: 0.445248\n",
      "Epoch: 60/240 - train_loss: 0.2998 - test_loss: 0.366561\n",
      "Epoch: 120/240 - train_loss: 0.2297 - test_loss: 0.179103\n",
      "Epoch: 60/240 - train_loss: 0.2327 - test_loss: 0.228999\n",
      "Epoch: 115/460 - train_loss: 0.5387 - test_loss: 0.483643\n",
      "Epoch: 130/260 - train_loss: 0.4220 - test_loss: 0.367524\n",
      "Epoch: 120/240 - train_loss: 0.3139 - test_loss: 0.301153\n",
      "Epoch: 180/240 - train_loss: 0.2116 - test_loss: 0.180044\n",
      "Epoch: 120/240 - train_loss: 0.2858 - test_loss: 0.362983\n",
      "Epoch: 195/260 - train_loss: 0.3239 - test_loss: 0.279267\n",
      "Epoch: 60/240 - train_loss: 0.3018 - test_loss: 0.347155\n",
      "Epoch: 180/240 - train_loss: 0.2595 - test_loss: 0.246351\n",
      "Epoch: 239/240 - train_loss: 0.2032 - test_loss: 0.209765\n",
      "City: Bình Phước  _algo:cnn  -RMSE: 7.606241609036901\n",
      "City: Bình Phước  _algo:cnn  -RMSE: 9.999793634466982\n"
     ]
    },
    {
     "name": "stderr",
     "output_type": "stream",
     "text": [
      "\u001b[32m[I 2023-02-07 11:34:22,810]\u001b[0m Trial 8 finished with value: 7.606241609036901 and parameters: {'Epochs': 390, 'Learning rate': 0.0015130555310509384, 'Num. filters': [100, 100, 100], 'Dropout rate': 0.12550881040838244}. Best is trial 8 with value: 7.606241609036901.\u001b[0m\n"
     ]
    },
    {
     "name": "stdout",
     "output_type": "stream",
     "text": [
      "City: Bình Phước  _algo:cnn  -RMSE: 11.711551387414316\n"
     ]
    },
    {
     "name": "stderr",
     "output_type": "stream",
     "text": [
      "<ipython-input-13-c88f81b1749c>:4: FutureWarning: suggest_loguniform has been deprecated in v3.0.0. This feature will be removed in v6.0.0. See https://github.com/optuna/optuna/releases/tag/v3.0.0. Use :func:`~optuna.trial.Trial.suggest_float` instead.\n",
      "  learning_rate = trial.suggest_loguniform('Learning rate', 1e-4, 1e-2)\n",
      "<ipython-input-13-c88f81b1749c>:6: FutureWarning: suggest_uniform has been deprecated in v3.0.0. This feature will be removed in v6.0.0. See https://github.com/optuna/optuna/releases/tag/v3.0.0. Use :func:`~optuna.trial.Trial.suggest_float` instead.\n",
      "  dropout = trial.suggest_uniform('Dropout rate', 0.01, 0.80)\n"
     ]
    },
    {
     "name": "stdout",
     "output_type": "stream",
     "text": [
      "Epoch:  0/260 - train_loss: 0.8406 - test_loss: 0.662585\n",
      "Epoch: 120/240 - train_loss: 0.2252 - test_loss: 0.227597\n",
      "Epoch: 230/460 - train_loss: 0.3782 - test_loss: 0.337485\n",
      "Epoch: 259/260 - train_loss: 0.2853 - test_loss: 0.249179\n",
      "City: Bình Phước  _algo:cnn  -RMSE: 12.978214813080413\n",
      "City: Bình Phước  _algo:cnn  -RMSE: 15.075007662834173\n"
     ]
    },
    {
     "name": "stderr",
     "output_type": "stream",
     "text": [
      "\u001b[32m[I 2023-02-07 11:34:38,524]\u001b[0m Trial 3 finished with value: 12.978214813080413 and parameters: {'Epochs': 280, 'Learning rate': 0.00019553636081082667, 'Num. filters': [32, 64, 128], 'Dropout rate': 0.3083626442537646}. Best is trial 8 with value: 7.606241609036901.\u001b[0m\n"
     ]
    },
    {
     "name": "stdout",
     "output_type": "stream",
     "text": [
      "City: Bình Phước  _algo:cnn  -RMSE: 17.728266898156097\n"
     ]
    },
    {
     "name": "stderr",
     "output_type": "stream",
     "text": [
      "<ipython-input-13-c88f81b1749c>:4: FutureWarning: suggest_loguniform has been deprecated in v3.0.0. This feature will be removed in v6.0.0. See https://github.com/optuna/optuna/releases/tag/v3.0.0. Use :func:`~optuna.trial.Trial.suggest_float` instead.\n",
      "  learning_rate = trial.suggest_loguniform('Learning rate', 1e-4, 1e-2)\n",
      "<ipython-input-13-c88f81b1749c>:6: FutureWarning: suggest_uniform has been deprecated in v3.0.0. This feature will be removed in v6.0.0. See https://github.com/optuna/optuna/releases/tag/v3.0.0. Use :func:`~optuna.trial.Trial.suggest_float` instead.\n",
      "  dropout = trial.suggest_uniform('Dropout rate', 0.01, 0.80)\n"
     ]
    },
    {
     "name": "stdout",
     "output_type": "stream",
     "text": [
      "Epoch:  0/150 - train_loss: 1.0686 - test_loss: 0.712190\n",
      "Epoch: 180/240 - train_loss: 0.2987 - test_loss: 0.393370\n",
      "Epoch: 65/260 - train_loss: 0.2819 - test_loss: 0.261141\n",
      "Epoch: 239/240 - train_loss: 0.2525 - test_loss: 0.231804\n",
      "City: Bình Phước  _algo:cnn  -RMSE: 13.027228390779554\n",
      "City: Bình Phước  _algo:cnn  -RMSE: 15.900138213410289\n"
     ]
    },
    {
     "name": "stderr",
     "output_type": "stream",
     "text": [
      "\u001b[32m[I 2023-02-07 11:34:52,024]\u001b[0m Trial 15 finished with value: 13.027228390779554 and parameters: {'Epochs': 410, 'Learning rate': 0.00031844874886469837, 'Num. filters': [128, 128, 128], 'Dropout rate': 0.13032237649861084}. Best is trial 8 with value: 7.606241609036901.\u001b[0m\n"
     ]
    },
    {
     "name": "stdout",
     "output_type": "stream",
     "text": [
      "City: Bình Phước  _algo:cnn  -RMSE: 17.637897583040438\n"
     ]
    },
    {
     "name": "stderr",
     "output_type": "stream",
     "text": [
      "<ipython-input-13-c88f81b1749c>:4: FutureWarning: suggest_loguniform has been deprecated in v3.0.0. This feature will be removed in v6.0.0. See https://github.com/optuna/optuna/releases/tag/v3.0.0. Use :func:`~optuna.trial.Trial.suggest_float` instead.\n",
      "  learning_rate = trial.suggest_loguniform('Learning rate', 1e-4, 1e-2)\n",
      "<ipython-input-13-c88f81b1749c>:6: FutureWarning: suggest_uniform has been deprecated in v3.0.0. This feature will be removed in v6.0.0. See https://github.com/optuna/optuna/releases/tag/v3.0.0. Use :func:`~optuna.trial.Trial.suggest_float` instead.\n",
      "  dropout = trial.suggest_uniform('Dropout rate', 0.01, 0.80)\n"
     ]
    },
    {
     "name": "stdout",
     "output_type": "stream",
     "text": [
      "Epoch:  0/360 - train_loss: 1.1949 - test_loss: 0.818405\n",
      "Epoch: 37/150 - train_loss: 0.2824 - test_loss: 0.250653\n",
      "Epoch: 74/150 - train_loss: 0.2502 - test_loss: 0.251571\n",
      "Epoch: 239/240 - train_loss: 0.2947 - test_loss: 0.407147\n",
      "Epoch: 130/260 - train_loss: 0.2502 - test_loss: 0.312694\n",
      "City: Bình Phước  _algo:cnn  -RMSE: 15.289443351216455\n",
      "City: Bình Phước  _algo:cnn  -RMSE: 12.912529734091988\n"
     ]
    },
    {
     "name": "stderr",
     "output_type": "stream",
     "text": [
      "\u001b[32m[I 2023-02-07 11:35:16,781]\u001b[0m Trial 13 finished with value: 15.289443351216455 and parameters: {'Epochs': 270, 'Learning rate': 0.00909403858856924, 'Num. filters': [16, 32, 64], 'Dropout rate': 0.693227215695504}. Best is trial 8 with value: 7.606241609036901.\u001b[0m\n"
     ]
    },
    {
     "name": "stdout",
     "output_type": "stream",
     "text": [
      "City: Bình Phước  _algo:cnn  -RMSE: 11.26962210282075\n"
     ]
    },
    {
     "name": "stderr",
     "output_type": "stream",
     "text": [
      "<ipython-input-13-c88f81b1749c>:4: FutureWarning: suggest_loguniform has been deprecated in v3.0.0. This feature will be removed in v6.0.0. See https://github.com/optuna/optuna/releases/tag/v3.0.0. Use :func:`~optuna.trial.Trial.suggest_float` instead.\n",
      "  learning_rate = trial.suggest_loguniform('Learning rate', 1e-4, 1e-2)\n",
      "<ipython-input-13-c88f81b1749c>:6: FutureWarning: suggest_uniform has been deprecated in v3.0.0. This feature will be removed in v6.0.0. See https://github.com/optuna/optuna/releases/tag/v3.0.0. Use :func:`~optuna.trial.Trial.suggest_float` instead.\n",
      "  dropout = trial.suggest_uniform('Dropout rate', 0.01, 0.80)\n"
     ]
    },
    {
     "name": "stdout",
     "output_type": "stream",
     "text": [
      "Epoch:  0/360 - train_loss: 1.4775 - test_loss: 0.852961\n",
      "Epoch: 180/240 - train_loss: 0.2178 - test_loss: 0.297086\n",
      "Epoch: 60/240 - train_loss: 0.3509 - test_loss: 0.254460\n",
      "Epoch: 111/150 - train_loss: 0.2348 - test_loss: 0.255658\n",
      "Epoch: 345/460 - train_loss: 0.2976 - test_loss: 0.257886\n",
      "Epoch: 120/240 - train_loss: 0.2845 - test_loss: 0.459374\n",
      "Epoch: 90/360 - train_loss: 0.5473 - test_loss: 0.466725\n",
      "Epoch: 148/150 - train_loss: 0.2171 - test_loss: 0.231278\n",
      "Epoch: 195/260 - train_loss: 0.2414 - test_loss: 0.291169\n",
      "Epoch: 149/150 - train_loss: 0.2204 - test_loss: 0.259106\n",
      "City: Bình Phước  _algo:cnn  -RMSE: 9.770346630512732\n",
      "City: Bình Phước  _algo:cnn  -RMSE: 13.253794359176679\n"
     ]
    },
    {
     "name": "stderr",
     "output_type": "stream",
     "text": [
      "\u001b[32m[I 2023-02-07 11:35:44,048]\u001b[0m Trial 21 finished with value: 9.770346630512732 and parameters: {'Epochs': 150, 'Learning rate': 0.001370879962164307, 'Num. filters': [64, 64, 64], 'Dropout rate': 0.0135851026627184}. Best is trial 8 with value: 7.606241609036901.\u001b[0m\n"
     ]
    },
    {
     "name": "stdout",
     "output_type": "stream",
     "text": [
      "City: Bình Phước  _algo:cnn  -RMSE: 15.630767349457338\n"
     ]
    },
    {
     "name": "stderr",
     "output_type": "stream",
     "text": [
      "<ipython-input-13-c88f81b1749c>:4: FutureWarning: suggest_loguniform has been deprecated in v3.0.0. This feature will be removed in v6.0.0. See https://github.com/optuna/optuna/releases/tag/v3.0.0. Use :func:`~optuna.trial.Trial.suggest_float` instead.\n",
      "  learning_rate = trial.suggest_loguniform('Learning rate', 1e-4, 1e-2)\n",
      "<ipython-input-13-c88f81b1749c>:6: FutureWarning: suggest_uniform has been deprecated in v3.0.0. This feature will be removed in v6.0.0. See https://github.com/optuna/optuna/releases/tag/v3.0.0. Use :func:`~optuna.trial.Trial.suggest_float` instead.\n",
      "  dropout = trial.suggest_uniform('Dropout rate', 0.01, 0.80)\n"
     ]
    },
    {
     "name": "stdout",
     "output_type": "stream",
     "text": [
      "Epoch:  0/150 - train_loss: 0.9508 - test_loss: 0.655286\n",
      "Epoch: 37/150 - train_loss: 0.2748 - test_loss: 0.277742\n",
      "Epoch: 259/260 - train_loss: 0.2343 - test_loss: 0.268691\n",
      "City: Bình Phước  _algo:cnn  -RMSE: 9.245237942078496\n",
      "City: Bình Phước  _algo:cnn  -RMSE: 11.85210859396885\n"
     ]
    },
    {
     "name": "stderr",
     "output_type": "stream",
     "text": [
      "\u001b[32m[I 2023-02-07 11:36:10,177]\u001b[0m Trial 20 finished with value: 9.245237942078496 and parameters: {'Epochs': 260, 'Learning rate': 0.0033071743487392944, 'Num. filters': [100, 100, 100], 'Dropout rate': 0.4814416003110513}. Best is trial 8 with value: 7.606241609036901.\u001b[0m\n"
     ]
    },
    {
     "name": "stdout",
     "output_type": "stream",
     "text": [
      "City: Bình Phước  _algo:cnn  -RMSE: 15.16781164576244\n"
     ]
    },
    {
     "name": "stderr",
     "output_type": "stream",
     "text": [
      "<ipython-input-13-c88f81b1749c>:4: FutureWarning: suggest_loguniform has been deprecated in v3.0.0. This feature will be removed in v6.0.0. See https://github.com/optuna/optuna/releases/tag/v3.0.0. Use :func:`~optuna.trial.Trial.suggest_float` instead.\n",
      "  learning_rate = trial.suggest_loguniform('Learning rate', 1e-4, 1e-2)\n",
      "<ipython-input-13-c88f81b1749c>:6: FutureWarning: suggest_uniform has been deprecated in v3.0.0. This feature will be removed in v6.0.0. See https://github.com/optuna/optuna/releases/tag/v3.0.0. Use :func:`~optuna.trial.Trial.suggest_float` instead.\n",
      "  dropout = trial.suggest_uniform('Dropout rate', 0.01, 0.80)\n"
     ]
    },
    {
     "name": "stdout",
     "output_type": "stream",
     "text": [
      "Epoch:  0/400 - train_loss: 0.8959 - test_loss: 0.729385\n",
      "Epoch: 239/240 - train_loss: 0.2054 - test_loss: 0.204563\n",
      "City: Bình Phước  _algo:cnn  -RMSE: 7.468814194110973\n",
      "City: Bình Phước  _algo:cnn  -RMSE: 10.450756795368285\n",
      "Epoch: 90/360 - train_loss: 0.3493 - test_loss: 0.243304\n"
     ]
    },
    {
     "name": "stderr",
     "output_type": "stream",
     "text": [
      "\u001b[32m[I 2023-02-07 11:36:13,877]\u001b[0m Trial 10 finished with value: 7.468814194110973 and parameters: {'Epochs': 480, 'Learning rate': 0.0068902968526974185, 'Num. filters': [128, 128, 128], 'Dropout rate': 0.13136171188735454}. Best is trial 10 with value: 7.468814194110973.\u001b[0m\n"
     ]
    },
    {
     "name": "stdout",
     "output_type": "stream",
     "text": [
      "City: Bình Phước  _algo:cnn  -RMSE: 12.859620786459214\n"
     ]
    },
    {
     "name": "stderr",
     "output_type": "stream",
     "text": [
      "<ipython-input-13-c88f81b1749c>:4: FutureWarning: suggest_loguniform has been deprecated in v3.0.0. This feature will be removed in v6.0.0. See https://github.com/optuna/optuna/releases/tag/v3.0.0. Use :func:`~optuna.trial.Trial.suggest_float` instead.\n",
      "  learning_rate = trial.suggest_loguniform('Learning rate', 1e-4, 1e-2)\n",
      "<ipython-input-13-c88f81b1749c>:6: FutureWarning: suggest_uniform has been deprecated in v3.0.0. This feature will be removed in v6.0.0. See https://github.com/optuna/optuna/releases/tag/v3.0.0. Use :func:`~optuna.trial.Trial.suggest_float` instead.\n",
      "  dropout = trial.suggest_uniform('Dropout rate', 0.01, 0.80)\n"
     ]
    },
    {
     "name": "stdout",
     "output_type": "stream",
     "text": [
      "Epoch:  0/190 - train_loss: 0.9556 - test_loss: 0.726316\n",
      "Epoch: 74/150 - train_loss: 0.2496 - test_loss: 0.296865\n",
      "Epoch: 459/460 - train_loss: 0.2693 - test_loss: 0.246194\n",
      "City: Bình Phước  _algo:cnn  -RMSE: 13.625688805268318\n",
      "City: Bình Phước  _algo:cnn  -RMSE: 15.927036535978802\n"
     ]
    },
    {
     "name": "stderr",
     "output_type": "stream",
     "text": [
      "\u001b[32m[I 2023-02-07 11:36:21,662]\u001b[0m Trial 1 finished with value: 13.625688805268318 and parameters: {'Epochs': 100, 'Learning rate': 0.00012652026830469373, 'Num. filters': [32, 64, 128], 'Dropout rate': 0.20327562880931765}. Best is trial 10 with value: 7.468814194110973.\u001b[0m\n"
     ]
    },
    {
     "name": "stdout",
     "output_type": "stream",
     "text": [
      "City: Bình Phước  _algo:cnn  -RMSE: 17.885214850618237\n"
     ]
    },
    {
     "name": "stderr",
     "output_type": "stream",
     "text": [
      "<ipython-input-13-c88f81b1749c>:4: FutureWarning: suggest_loguniform has been deprecated in v3.0.0. This feature will be removed in v6.0.0. See https://github.com/optuna/optuna/releases/tag/v3.0.0. Use :func:`~optuna.trial.Trial.suggest_float` instead.\n",
      "  learning_rate = trial.suggest_loguniform('Learning rate', 1e-4, 1e-2)\n",
      "<ipython-input-13-c88f81b1749c>:6: FutureWarning: suggest_uniform has been deprecated in v3.0.0. This feature will be removed in v6.0.0. See https://github.com/optuna/optuna/releases/tag/v3.0.0. Use :func:`~optuna.trial.Trial.suggest_float` instead.\n",
      "  dropout = trial.suggest_uniform('Dropout rate', 0.01, 0.80)\n"
     ]
    },
    {
     "name": "stdout",
     "output_type": "stream",
     "text": [
      "Epoch:  0/160 - train_loss: 1.2285 - test_loss: 0.731968\n",
      "Epoch: 180/360 - train_loss: 0.3940 - test_loss: 0.308995\n",
      "Epoch: 111/150 - train_loss: 0.2425 - test_loss: 0.269872\n",
      "Epoch: 40/160 - train_loss: 0.3838 - test_loss: 0.271113\n",
      "Epoch: 148/150 - train_loss: 0.2344 - test_loss: 0.261818\n",
      "Epoch: 149/150 - train_loss: 0.2399 - test_loss: 0.285596\n",
      "City: Bình Phước  _algo:cnn  -RMSE: 10.590956834943226\n",
      "City: Bình Phước  _algo:cnn  -RMSE: 16.98273707869093\n"
     ]
    },
    {
     "name": "stderr",
     "output_type": "stream",
     "text": [
      "\u001b[32m[I 2023-02-07 11:36:49,601]\u001b[0m Trial 24 finished with value: 10.590956834943226 and parameters: {'Epochs': 150, 'Learning rate': 0.0050707916665245325, 'Num. filters': [100, 100, 100], 'Dropout rate': 0.3512401041335168}. Best is trial 10 with value: 7.468814194110973.\u001b[0m\n"
     ]
    },
    {
     "name": "stdout",
     "output_type": "stream",
     "text": [
      "City: Bình Phước  _algo:cnn  -RMSE: 19.147882666415438\n"
     ]
    },
    {
     "name": "stderr",
     "output_type": "stream",
     "text": [
      "<ipython-input-13-c88f81b1749c>:4: FutureWarning: suggest_loguniform has been deprecated in v3.0.0. This feature will be removed in v6.0.0. See https://github.com/optuna/optuna/releases/tag/v3.0.0. Use :func:`~optuna.trial.Trial.suggest_float` instead.\n",
      "  learning_rate = trial.suggest_loguniform('Learning rate', 1e-4, 1e-2)\n",
      "<ipython-input-13-c88f81b1749c>:6: FutureWarning: suggest_uniform has been deprecated in v3.0.0. This feature will be removed in v6.0.0. See https://github.com/optuna/optuna/releases/tag/v3.0.0. Use :func:`~optuna.trial.Trial.suggest_float` instead.\n",
      "  dropout = trial.suggest_uniform('Dropout rate', 0.01, 0.80)\n"
     ]
    },
    {
     "name": "stdout",
     "output_type": "stream",
     "text": [
      "Epoch:  0/500 - train_loss: 1.0332 - test_loss: 0.785500\n",
      "Epoch: 100/400 - train_loss: 0.2548 - test_loss: 0.236932\n",
      "Epoch: 47/190 - train_loss: 0.4480 - test_loss: 0.393777\n",
      "Epoch: 80/160 - train_loss: 0.3244 - test_loss: 0.254707\n",
      "Epoch: 180/240 - train_loss: 0.3007 - test_loss: 0.403514\n",
      "Epoch: 180/360 - train_loss: 0.3118 - test_loss: 0.231151\n",
      "Epoch: 270/360 - train_loss: 0.3198 - test_loss: 0.237486\n",
      "Epoch: 120/160 - train_loss: 0.3221 - test_loss: 0.288432\n",
      "Epoch: 200/400 - train_loss: 0.2568 - test_loss: 0.231331\n",
      "Epoch: 159/160 - train_loss: 0.3012 - test_loss: 0.307434\n",
      "Epoch: 94/190 - train_loss: 0.3095 - test_loss: 0.256996\n",
      "City: Bình Phước  _algo:cnn  -RMSE: 15.51900351413907\n",
      "City: Bình Phước  _algo:cnn  -RMSE: 15.302836714634577\n"
     ]
    },
    {
     "name": "stderr",
     "output_type": "stream",
     "text": [
      "\u001b[32m[I 2023-02-07 11:37:33,251]\u001b[0m Trial 27 finished with value: 15.51900351413907 and parameters: {'Epochs': 160, 'Learning rate': 0.0010101770253663582, 'Num. filters': [16, 32, 64], 'Dropout rate': 0.7520624526118473}. Best is trial 10 with value: 7.468814194110973.\u001b[0m\n"
     ]
    },
    {
     "name": "stdout",
     "output_type": "stream",
     "text": [
      "City: Bình Phước  _algo:cnn  -RMSE: 15.18834315264345\n"
     ]
    },
    {
     "name": "stderr",
     "output_type": "stream",
     "text": [
      "<ipython-input-13-c88f81b1749c>:4: FutureWarning: suggest_loguniform has been deprecated in v3.0.0. This feature will be removed in v6.0.0. See https://github.com/optuna/optuna/releases/tag/v3.0.0. Use :func:`~optuna.trial.Trial.suggest_float` instead.\n",
      "  learning_rate = trial.suggest_loguniform('Learning rate', 1e-4, 1e-2)\n",
      "<ipython-input-13-c88f81b1749c>:6: FutureWarning: suggest_uniform has been deprecated in v3.0.0. This feature will be removed in v6.0.0. See https://github.com/optuna/optuna/releases/tag/v3.0.0. Use :func:`~optuna.trial.Trial.suggest_float` instead.\n",
      "  dropout = trial.suggest_uniform('Dropout rate', 0.01, 0.80)\n"
     ]
    },
    {
     "name": "stdout",
     "output_type": "stream",
     "text": [
      "Epoch:  0/490 - train_loss: 1.0222 - test_loss: 0.702428\n",
      "Epoch: 125/500 - train_loss: 0.4603 - test_loss: 0.417240\n",
      "Epoch: 359/360 - train_loss: 0.3118 - test_loss: 0.229197\n",
      "City: Bình Phước  _algo:cnn  -RMSE: 13.67149201823936\n",
      "City: Bình Phước  _algo:cnn  -RMSE: 15.22572387336469\n"
     ]
    },
    {
     "name": "stderr",
     "output_type": "stream",
     "text": [
      "\u001b[32m[I 2023-02-07 11:37:55,017]\u001b[0m Trial 22 finished with value: 13.67149201823936 and parameters: {'Epochs': 360, 'Learning rate': 0.00017213417155031194, 'Num. filters': [32, 64, 128], 'Dropout rate': 0.65722333110655}. Best is trial 10 with value: 7.468814194110973.\u001b[0m\n"
     ]
    },
    {
     "name": "stdout",
     "output_type": "stream",
     "text": [
      "Epoch: 120/240 - train_loss: 0.3047 - test_loss: 0.231416\n",
      "City: Bình Phước  _algo:cnn  -RMSE: 14.778623341461916\n",
      "Epoch: 270/360 - train_loss: 0.3005 - test_loss: 0.266903\n",
      "Epoch: 141/190 - train_loss: 0.2815 - test_loss: 0.227469\n",
      "Epoch: 300/400 - train_loss: 0.2429 - test_loss: 0.283540\n",
      "Epoch: 239/240 - train_loss: 0.2836 - test_loss: 0.385179\n",
      "City: Bình Phước  _algo:cnn  -RMSE: 13.656384241665306\n",
      "City: Bình Phước  _algo:cnn  -RMSE: 16.29555341005022\n"
     ]
    },
    {
     "name": "stderr",
     "output_type": "stream",
     "text": [
      "\u001b[32m[I 2023-02-07 11:38:08,608]\u001b[0m Trial 9 finished with value: 13.656384241665306 and parameters: {'Epochs': 420, 'Learning rate': 0.006902274344023182, 'Num. filters': [32, 64, 128], 'Dropout rate': 0.7516520408732631}. Best is trial 10 with value: 7.468814194110973.\u001b[0m\n"
     ]
    },
    {
     "name": "stdout",
     "output_type": "stream",
     "text": [
      "City: Bình Phước  _algo:cnn  -RMSE: 14.808680895663642\n",
      "Epoch: 122/490 - train_loss: 0.2807 - test_loss: 0.218009\n",
      "Epoch: 250/500 - train_loss: 0.3192 - test_loss: 0.273912\n",
      "Epoch: 188/190 - train_loss: 0.2719 - test_loss: 0.216779\n",
      "Epoch: 189/190 - train_loss: 0.2679 - test_loss: 0.251728\n",
      "City: Bình Phước  _algo:cnn  -RMSE: 14.146458136696685\n",
      "City: Bình Phước  _algo:cnn  -RMSE: 15.022150280903645\n"
     ]
    },
    {
     "name": "stderr",
     "output_type": "stream",
     "text": [
      "\u001b[32m[I 2023-02-07 11:38:33,129]\u001b[0m Trial 26 finished with value: 14.146458136696685 and parameters: {'Epochs': 190, 'Learning rate': 0.000490363433121173, 'Num. filters': [16, 32, 64], 'Dropout rate': 0.18286934236368935}. Best is trial 10 with value: 7.468814194110973.\u001b[0m\n"
     ]
    },
    {
     "name": "stdout",
     "output_type": "stream",
     "text": [
      "City: Bình Phước  _algo:cnn  -RMSE: 16.80704138416489\n",
      "Epoch: 359/360 - train_loss: 0.2872 - test_loss: 0.282583\n",
      "City: Bình Phước  _algo:cnn  -RMSE: 12.502789919025453\n",
      "City: Bình Phước  _algo:cnn  -RMSE: 15.33398606048684\n"
     ]
    },
    {
     "name": "stderr",
     "output_type": "stream",
     "text": [
      "\u001b[32m[I 2023-02-07 11:38:41,978]\u001b[0m Trial 23 finished with value: 12.502789919025453 and parameters: {'Epochs': 360, 'Learning rate': 0.0005010643364752839, 'Num. filters': [100, 100, 100], 'Dropout rate': 0.7956524537893036}. Best is trial 10 with value: 7.468814194110973.\u001b[0m\n"
     ]
    },
    {
     "name": "stdout",
     "output_type": "stream",
     "text": [
      "City: Bình Phước  _algo:cnn  -RMSE: 15.575072584055606\n",
      "Epoch: 399/400 - train_loss: 0.2258 - test_loss: 0.274802\n",
      "City: Bình Phước  _algo:cnn  -RMSE: 12.195050541020619\n",
      "City: Bình Phước  _algo:cnn  -RMSE: 16.09307568755509\n",
      "Epoch: 180/240 - train_loss: 0.2860 - test_loss: 0.248401\n"
     ]
    },
    {
     "name": "stderr",
     "output_type": "stream",
     "text": [
      "\u001b[32m[I 2023-02-07 11:38:43,680]\u001b[0m Trial 25 finished with value: 12.195050541020619 and parameters: {'Epochs': 400, 'Learning rate': 0.0015018436816856104, 'Num. filters': [64, 64, 64], 'Dropout rate': 0.3585117011227121}. Best is trial 10 with value: 7.468814194110973.\u001b[0m\n"
     ]
    },
    {
     "name": "stdout",
     "output_type": "stream",
     "text": [
      "City: Bình Phước  _algo:cnn  -RMSE: 18.6684942275156\n",
      "Epoch: 105/420 - train_loss: 0.3659 - test_loss: 0.247286\n",
      "Epoch: 60/240 - train_loss: 0.6513 - test_loss: 0.600288\n",
      "Epoch: 239/240 - train_loss: 0.2768 - test_loss: 0.264125\n",
      "City: Bình Phước  _algo:cnn  -RMSE: 14.648493786352969\n",
      "City: Bình Phước  _algo:cnn  -RMSE: 12.492214970290156\n"
     ]
    },
    {
     "name": "stderr",
     "output_type": "stream",
     "text": [
      "\u001b[32m[I 2023-02-07 11:39:08,462]\u001b[0m Trial 4 finished with value: 14.648493786352969 and parameters: {'Epochs': 440, 'Learning rate': 0.0007112812730498681, 'Num. filters': [16, 32, 64], 'Dropout rate': 0.5455182955808033}. Best is trial 10 with value: 7.468814194110973.\u001b[0m\n"
     ]
    },
    {
     "name": "stdout",
     "output_type": "stream",
     "text": [
      "City: Bình Phước  _algo:cnn  -RMSE: 16.91340579893468\n",
      "Epoch: 60/240 - train_loss: 0.5346 - test_loss: 0.471468\n",
      "Epoch: 244/490 - train_loss: 0.2685 - test_loss: 0.237343\n",
      "Epoch: 375/500 - train_loss: 0.2759 - test_loss: 0.240159\n",
      "Epoch: 120/240 - train_loss: 0.5607 - test_loss: 0.510322\n",
      "Epoch: 60/240 - train_loss: 0.4368 - test_loss: 0.326834\n",
      "Epoch: 210/420 - train_loss: 0.3183 - test_loss: 0.280124\n",
      "Epoch: 120/240 - train_loss: 0.3870 - test_loss: 0.318826\n",
      "Epoch: 180/240 - train_loss: 0.4807 - test_loss: 0.433744\n",
      "Epoch: 366/490 - train_loss: 0.2454 - test_loss: 0.208855\n",
      "Epoch: 499/500 - train_loss: 0.2625 - test_loss: 0.244984\n",
      "City: Bình Phước  _algo:cnn  -RMSE: 13.254850934351953\n",
      "City: Bình Phước  _algo:cnn  -RMSE: 16.527668085091108\n"
     ]
    },
    {
     "name": "stderr",
     "output_type": "stream",
     "text": [
      "\u001b[32m[I 2023-02-07 11:40:02,712]\u001b[0m Trial 28 finished with value: 13.254850934351953 and parameters: {'Epochs': 500, 'Learning rate': 0.00016736301379502512, 'Num. filters': [64, 64, 64], 'Dropout rate': 0.22014779891027644}. Best is trial 10 with value: 7.468814194110973.\u001b[0m\n"
     ]
    },
    {
     "name": "stdout",
     "output_type": "stream",
     "text": [
      "City: Bình Phước  _algo:cnn  -RMSE: 18.662721441732998\n",
      "Epoch: 120/240 - train_loss: 0.3248 - test_loss: 0.237191\n",
      "Epoch: 239/240 - train_loss: 0.4180 - test_loss: 0.369174\n",
      "City: Bình Phước  _algo:cnn  -RMSE: 12.739326149333403\n",
      "City: Bình Phước  _algo:cnn  -RMSE: 11.477796916223792\n",
      "Epoch: 180/240 - train_loss: 0.3221 - test_loss: 0.252883\n"
     ]
    },
    {
     "name": "stderr",
     "output_type": "stream",
     "text": [
      "\u001b[32m[I 2023-02-07 11:40:17,019]\u001b[0m Trial 17 finished with value: 12.739326149333403 and parameters: {'Epochs': 260, 'Learning rate': 0.0001043466716448173, 'Num. filters': [16, 32, 64], 'Dropout rate': 0.17632278392330228}. Best is trial 10 with value: 7.468814194110973.\u001b[0m\n"
     ]
    },
    {
     "name": "stdout",
     "output_type": "stream",
     "text": [
      "City: Bình Phước  _algo:cnn  -RMSE: 15.12656039802235\n",
      "Epoch: 315/420 - train_loss: 0.3086 - test_loss: 0.307810\n",
      "Epoch: 60/240 - train_loss: 0.2934 - test_loss: 0.279383\n",
      "Epoch: 105/420 - train_loss: 0.3648 - test_loss: 0.318708\n",
      "Epoch: 239/240 - train_loss: 0.3163 - test_loss: 0.248504\n",
      "City: Bình Phước  _algo:cnn  -RMSE: 14.524328896783521\n",
      "City: Bình Phước  _algo:cnn  -RMSE: 16.41940498586106\n"
     ]
    },
    {
     "name": "stderr",
     "output_type": "stream",
     "text": [
      "\u001b[32m[I 2023-02-07 11:40:36,975]\u001b[0m Trial 19 finished with value: 14.524328896783521 and parameters: {'Epochs': 240, 'Learning rate': 0.00026479971849680613, 'Num. filters': [100, 100, 100], 'Dropout rate': 0.7121513636296128}. Best is trial 10 with value: 7.468814194110973.\u001b[0m\n"
     ]
    },
    {
     "name": "stdout",
     "output_type": "stream",
     "text": [
      "City: Bình Phước  _algo:cnn  -RMSE: 18.098647110566777\n",
      "Epoch: 180/240 - train_loss: 0.3138 - test_loss: 0.242496\n",
      "Epoch: 488/490 - train_loss: 0.2491 - test_loss: 0.233011\n",
      "Epoch: 489/490 - train_loss: 0.2452 - test_loss: 0.226301\n",
      "City: Bình Phước  _algo:cnn  -RMSE: 11.78549418436618\n",
      "City: Bình Phước  _algo:cnn  -RMSE: 13.032180008571153\n"
     ]
    },
    {
     "name": "stderr",
     "output_type": "stream",
     "text": [
      "\u001b[32m[I 2023-02-07 11:40:39,944]\u001b[0m Trial 29 finished with value: 11.78549418436618 and parameters: {'Epochs': 490, 'Learning rate': 0.00046092791071752714, 'Num. filters': [128, 128, 128], 'Dropout rate': 0.5082199482176605}. Best is trial 10 with value: 7.468814194110973.\u001b[0m\n"
     ]
    },
    {
     "name": "stdout",
     "output_type": "stream",
     "text": [
      "City: Bình Phước  _algo:cnn  -RMSE: 15.365463007537715\n",
      "Epoch: 60/240 - train_loss: 0.2666 - test_loss: 0.192542\n",
      "Epoch: 419/420 - train_loss: 0.3056 - test_loss: 0.321084\n",
      "City: Bình Phước  _algo:cnn  -RMSE: 13.522204107960157\n",
      "City: Bình Phước  _algo:cnn  -RMSE: 13.562171788889692\n"
     ]
    },
    {
     "name": "stderr",
     "output_type": "stream",
     "text": [
      "\u001b[32m[I 2023-02-07 11:40:48,651]\u001b[0m Trial 6 finished with value: 13.522204107960157 and parameters: {'Epochs': 380, 'Learning rate': 0.0005681642066329782, 'Num. filters': [16, 32, 64], 'Dropout rate': 0.7994598583054722}. Best is trial 10 with value: 7.468814194110973.\u001b[0m\n"
     ]
    },
    {
     "name": "stdout",
     "output_type": "stream",
     "text": [
      "City: Bình Phước  _algo:cnn  -RMSE: 16.658232708806217\n",
      "Epoch: 120/240 - train_loss: 0.2796 - test_loss: 0.327240\n",
      "Epoch: 239/240 - train_loss: 0.3074 - test_loss: 0.260776\n",
      "City: Bình Phước  _algo:cnn  -RMSE: 13.390519657495323\n"
     ]
    },
    {
     "name": "stderr",
     "output_type": "stream",
     "text": [
      "\u001b[32m[I 2023-02-07 11:40:53,569]\u001b[0m Trial 7 finished with value: 13.390519657495323 and parameters: {'Epochs': 350, 'Learning rate': 0.0004513776508092569, 'Num. filters': [32, 64, 128], 'Dropout rate': 0.7966008246716737}. Best is trial 10 with value: 7.468814194110973.\u001b[0m\n"
     ]
    },
    {
     "name": "stdout",
     "output_type": "stream",
     "text": [
      "City: Bình Phước  _algo:cnn  -RMSE: 12.926196856993593\n",
      "City: Bình Phước  _algo:cnn  -RMSE: 15.121894078057611\n",
      "Epoch: 60/240 - train_loss: 0.2740 - test_loss: 0.312223\n",
      "Epoch: 210/420 - train_loss: 0.2956 - test_loss: 0.243368\n",
      "Epoch: 120/240 - train_loss: 0.2327 - test_loss: 0.238944\n",
      "Epoch: 65/260 - train_loss: 0.5484 - test_loss: 0.512943\n",
      "Epoch: 180/240 - train_loss: 0.2775 - test_loss: 0.315895\n",
      "Epoch: 120/240 - train_loss: 0.2906 - test_loss: 0.299731\n",
      "Epoch: 60/240 - train_loss: 0.2508 - test_loss: 0.217380\n",
      "Epoch: 180/240 - train_loss: 0.2339 - test_loss: 0.249858\n",
      "Epoch: 239/240 - train_loss: 0.2775 - test_loss: 0.302004\n",
      "City: Bình Phước  _algo:cnn  -RMSE: 12.797442897017152\n"
     ]
    },
    {
     "name": "stderr",
     "output_type": "stream",
     "text": [
      "\u001b[32m[I 2023-02-07 11:41:21,770]\u001b[0m Trial 14 finished with value: 12.797442897017152 and parameters: {'Epochs': 460, 'Learning rate': 0.003424347509568241, 'Num. filters': [64, 64, 64], 'Dropout rate': 0.672282133344614}. Best is trial 10 with value: 7.468814194110973.\u001b[0m\n"
     ]
    },
    {
     "name": "stdout",
     "output_type": "stream",
     "text": [
      "City: Bình Phước  _algo:cnn  -RMSE: 15.804396422302156\n",
      "City: Bình Phước  _algo:cnn  -RMSE: 16.765313480068965\n",
      "Epoch: 315/420 - train_loss: 0.2784 - test_loss: 0.252336\n",
      "Epoch: 130/260 - train_loss: 0.3988 - test_loss: 0.376536\n",
      "Epoch: 180/240 - train_loss: 0.2709 - test_loss: 0.301964\n",
      "Epoch: 239/240 - train_loss: 0.2196 - test_loss: 0.228052\n",
      "City: Bình Phước  _algo:cnn  -RMSE: 8.973409040280472\n"
     ]
    },
    {
     "name": "stderr",
     "output_type": "stream",
     "text": [
      "\u001b[32m[I 2023-02-07 11:41:34,344]\u001b[0m Trial 12 finished with value: 8.973409040280472 and parameters: {'Epochs': 210, 'Learning rate': 0.0013888695480767986, 'Num. filters': [100, 100, 100], 'Dropout rate': 0.2534472883159708}. Best is trial 10 with value: 7.468814194110973.\u001b[0m\n"
     ]
    },
    {
     "name": "stdout",
     "output_type": "stream",
     "text": [
      "City: Bình Phước  _algo:cnn  -RMSE: 12.057275261256594\n",
      "City: Bình Phước  _algo:cnn  -RMSE: 16.26901826614947\n",
      "Epoch: 120/240 - train_loss: 0.2435 - test_loss: 0.253128\n",
      "Epoch: 239/240 - train_loss: 0.2593 - test_loss: 0.364070\n",
      "City: Bình Phước  _algo:cnn  -RMSE: 10.637673879768888\n"
     ]
    },
    {
     "name": "stderr",
     "output_type": "stream",
     "text": [
      "\u001b[32m[I 2023-02-07 11:41:45,569]\u001b[0m Trial 11 finished with value: 10.637673879768888 and parameters: {'Epochs': 450, 'Learning rate': 0.004387098047296091, 'Num. filters': [16, 32, 64], 'Dropout rate': 0.5898964703642593}. Best is trial 10 with value: 7.468814194110973.\u001b[0m\n"
     ]
    },
    {
     "name": "stdout",
     "output_type": "stream",
     "text": [
      "City: Bình Phước  _algo:cnn  -RMSE: 11.391987638093173\n",
      "City: Bình Phước  _algo:cnn  -RMSE: 12.969722658071085\n",
      "Epoch: 60/240 - train_loss: 0.4055 - test_loss: 0.352919\n",
      "Epoch: 195/260 - train_loss: 0.3107 - test_loss: 0.288368\n",
      "Epoch: 105/420 - train_loss: 0.5191 - test_loss: 0.450521\n",
      "Epoch: 419/420 - train_loss: 0.2723 - test_loss: 0.251827\n",
      "City: Bình Phước  _algo:cnn  -RMSE: 15.820364725953349\n"
     ]
    },
    {
     "name": "stderr",
     "output_type": "stream",
     "text": [
      "\u001b[32m[I 2023-02-07 11:41:50,208]\u001b[0m Trial 5 finished with value: 15.820364725953349 and parameters: {'Epochs': 320, 'Learning rate': 0.00031412943578924764, 'Num. filters': [100, 100, 100], 'Dropout rate': 0.5837766254994435}. Best is trial 10 with value: 7.468814194110973.\u001b[0m\n"
     ]
    },
    {
     "name": "stdout",
     "output_type": "stream",
     "text": [
      "City: Bình Phước  _algo:cnn  -RMSE: 15.27033349537168\n",
      "City: Bình Phước  _algo:cnn  -RMSE: 17.924983064120894\n",
      "Epoch: 180/240 - train_loss: 0.2469 - test_loss: 0.267347\n",
      "Epoch: 259/260 - train_loss: 0.2669 - test_loss: 0.260755\n",
      "City: Bình Phước  _algo:cnn  -RMSE: 15.279617760036633\n"
     ]
    },
    {
     "name": "stderr",
     "output_type": "stream",
     "text": [
      "\u001b[32m[I 2023-02-07 11:41:59,202]\u001b[0m Trial 0 finished with value: 15.279617760036633 and parameters: {'Epochs': 120, 'Learning rate': 0.00020113224953084068, 'Num. filters': [32, 64, 128], 'Dropout rate': 0.024675413976876667}. Best is trial 10 with value: 7.468814194110973.\u001b[0m\n"
     ]
    },
    {
     "name": "stdout",
     "output_type": "stream",
     "text": [
      "City: Bình Phước  _algo:cnn  -RMSE: 17.87499893403486\n",
      "City: Bình Phước  _algo:cnn  -RMSE: 18.427843986179965\n",
      "Epoch: 120/240 - train_loss: 0.2850 - test_loss: 0.244823\n",
      "Epoch: 239/240 - train_loss: 0.2313 - test_loss: 0.349655\n",
      "City: Bình Phước  _algo:cnn  -RMSE: 10.695051396739686\n"
     ]
    },
    {
     "name": "stderr",
     "output_type": "stream",
     "text": [
      "\u001b[32m[I 2023-02-07 11:42:04,345]\u001b[0m Trial 16 finished with value: 10.695051396739686 and parameters: {'Epochs': 420, 'Learning rate': 0.009783636516474518, 'Num. filters': [32, 64, 128], 'Dropout rate': 0.18868835433850895}. Best is trial 10 with value: 7.468814194110973.\u001b[0m\n"
     ]
    },
    {
     "name": "stdout",
     "output_type": "stream",
     "text": [
      "City: Bình Phước  _algo:cnn  -RMSE: 10.412028869731516\n",
      "City: Bình Phước  _algo:cnn  -RMSE: 14.254226894812149\n",
      "Epoch: 210/420 - train_loss: 0.3677 - test_loss: 0.297678\n",
      "Epoch: 180/240 - train_loss: 0.2704 - test_loss: 0.237933\n",
      "Epoch: 239/240 - train_loss: 0.2549 - test_loss: 0.234256\n",
      "City: Bình Phước  _algo:cnn  -RMSE: 12.060714472908405\n",
      "City: Bình Phước  _algo:cnn  -RMSE: 14.288627716835691\n"
     ]
    },
    {
     "name": "stderr",
     "output_type": "stream",
     "text": [
      "\u001b[32m[I 2023-02-07 11:42:17,979]\u001b[0m Trial 18 finished with value: 12.060714472908405 and parameters: {'Epochs': 200, 'Learning rate': 0.0004529593685480164, 'Num. filters': [64, 64, 64], 'Dropout rate': 0.1676034349774909}. Best is trial 10 with value: 7.468814194110973.\u001b[0m\n"
     ]
    },
    {
     "name": "stdout",
     "output_type": "stream",
     "text": [
      "City: Bình Phước  _algo:cnn  -RMSE: 18.667450737580353\n",
      "Epoch: 315/420 - train_loss: 0.3011 - test_loss: 0.224730\n"
     ]
    },
    {
     "name": "stderr",
     "output_type": "stream",
     "text": [
      "\u001b[32m[I 2023-02-07 11:42:28,191]\u001b[0m Trial 2 finished with value: 11.61955807745486 and parameters: {'Epochs': 250, 'Learning rate': 0.0001580114906664478, 'Num. filters': [32, 64, 128], 'Dropout rate': 0.44784678122267524}. Best is trial 10 with value: 7.468814194110973.\u001b[0m\n"
     ]
    },
    {
     "name": "stdout",
     "output_type": "stream",
     "text": [
      "Epoch: 419/420 - train_loss: 0.2749 - test_loss: 0.210826\n",
      "City: Bình Phước  _algo:cnn  -RMSE: 11.61955807745486\n",
      "City: Bình Phước  _algo:cnn  -RMSE: 12.99832072363245\n",
      "City: Bình Phước  _algo:cnn  -RMSE: 15.903238594394367\n",
      "Study statistics for : \n",
      "  Number of finished trials:  30\n",
      "Best trial of city:  Bình Phước\n",
      "  Value:  7.468814194110973\n"
     ]
    },
    {
     "name": "stderr",
     "output_type": "stream",
     "text": [
      "\u001b[32m[I 2023-02-07 11:42:28,252]\u001b[0m A new study created in memory with name: no-name-230c7f03-fa3a-4834-a46b-4d03092f909a\u001b[0m\n",
      "<ipython-input-14-8244d6fc4512>:11: FutureWarning: suggest_loguniform has been deprecated in v3.0.0. This feature will be removed in v6.0.0. See https://github.com/optuna/optuna/releases/tag/v3.0.0. Use :func:`~optuna.trial.Trial.suggest_float` instead.\n",
      "  learning_rate = trial.suggest_loguniform('Learning rate', 1e-4, 1e-2)\n"
     ]
    },
    {
     "name": "stdout",
     "output_type": "stream",
     "text": [
      "Epoch:  0/400 - train_loss: 1.2145 - test_loss: 0.858531\n",
      "Epoch:  0/400 - train_loss: 1.1659 - test_loss: 0.902451\n",
      "Epoch:  0/400 - train_loss: 0.9692 - test_loss: 0.874441\n",
      "Epoch:  0/400 - train_loss: 1.1948 - test_loss: 0.896728\n",
      "Epoch:  0/400 - train_loss: 1.1770 - test_loss: 0.889715\n",
      "Epoch:  0/400 - train_loss: 1.0751 - test_loss: 0.751770\n",
      "Epoch:  0/400 - train_loss: 1.3134 - test_loss: 0.946617\n",
      "Epoch:  0/400 - train_loss: 0.7725 - test_loss: 0.614909\n",
      "Epoch: 100/400 - train_loss: 0.3102 - test_loss: 0.235438\n",
      "Epoch: 100/400 - train_loss: 0.3072 - test_loss: 0.234715\n",
      "Epoch: 100/400 - train_loss: 0.2645 - test_loss: 0.224792\n",
      "Epoch: 100/400 - train_loss: 0.5466 - test_loss: 0.536501\n",
      "Epoch: 100/400 - train_loss: 0.3222 - test_loss: 0.271243\n",
      "Epoch: 200/400 - train_loss: 0.2810 - test_loss: 0.221139\n",
      "Epoch: 200/400 - train_loss: 0.2868 - test_loss: 0.214865\n",
      "Epoch: 200/400 - train_loss: 0.1378 - test_loss: 0.429192\n",
      "Epoch: 200/400 - train_loss: 0.4171 - test_loss: 0.385529\n",
      "Epoch: 300/400 - train_loss: 0.2670 - test_loss: 0.181408\n",
      "Epoch: 300/400 - train_loss: 0.2798 - test_loss: 0.207124\n",
      "Epoch: 300/400 - train_loss: 0.0219 - test_loss: 1.315618\n",
      "Epoch: 100/400 - train_loss: 0.3138 - test_loss: 0.328468\n",
      "Epoch: 300/400 - train_loss: 0.3454 - test_loss: 0.294217\n",
      "Epoch: 200/400 - train_loss: 0.2892 - test_loss: 0.218650\n",
      "Epoch: 399/400 - train_loss: 0.2632 - test_loss: 0.205302\n",
      "City: Bình Phước  _algo:lstm  -RMSE: 8.993388672669996\n",
      "City: Bình Phước  _algo:lstm  -RMSE: 10.344508998555089\n"
     ]
    },
    {
     "name": "stderr",
     "output_type": "stream",
     "text": [
      "\u001b[32m[I 2023-02-07 11:44:48,284]\u001b[0m Trial 1 finished with value: 8.993388672669996 and parameters: {'Epochs': 190, 'Hidden size': 61, 'n layers': 3, 'Learning rate': 0.0004958686070448465}. Best is trial 1 with value: 8.993388672669996.\u001b[0m\n"
     ]
    },
    {
     "name": "stdout",
     "output_type": "stream",
     "text": [
      "City: Bình Phước  _algo:lstm  -RMSE: 11.573615798010891\n"
     ]
    },
    {
     "name": "stderr",
     "output_type": "stream",
     "text": [
      "<ipython-input-14-8244d6fc4512>:11: FutureWarning: suggest_loguniform has been deprecated in v3.0.0. This feature will be removed in v6.0.0. See https://github.com/optuna/optuna/releases/tag/v3.0.0. Use :func:`~optuna.trial.Trial.suggest_float` instead.\n",
      "  learning_rate = trial.suggest_loguniform('Learning rate', 1e-4, 1e-2)\n"
     ]
    },
    {
     "name": "stdout",
     "output_type": "stream",
     "text": [
      "Epoch:  0/380 - train_loss: 1.1594 - test_loss: 0.788538\n",
      "Epoch: 399/400 - train_loss: 0.2740 - test_loss: 0.199934\n",
      "City: Bình Phước  _algo:lstm  -RMSE: 10.71573257250008\n",
      "City: Bình Phước  _algo:lstm  -RMSE: 11.395532843791587\n"
     ]
    },
    {
     "name": "stderr",
     "output_type": "stream",
     "text": [
      "\u001b[32m[I 2023-02-07 11:44:54,715]\u001b[0m Trial 17 finished with value: 10.71573257250008 and parameters: {'Epochs': 450, 'Hidden size': 5, 'n layers': 3, 'Learning rate': 0.0009538450140915378}. Best is trial 1 with value: 8.993388672669996.\u001b[0m\n"
     ]
    },
    {
     "name": "stdout",
     "output_type": "stream",
     "text": [
      "City: Bình Phước  _algo:lstm  -RMSE: 13.747236158966968\n"
     ]
    },
    {
     "name": "stderr",
     "output_type": "stream",
     "text": [
      "<ipython-input-14-8244d6fc4512>:11: FutureWarning: suggest_loguniform has been deprecated in v3.0.0. This feature will be removed in v6.0.0. See https://github.com/optuna/optuna/releases/tag/v3.0.0. Use :func:`~optuna.trial.Trial.suggest_float` instead.\n",
      "  learning_rate = trial.suggest_loguniform('Learning rate', 1e-4, 1e-2)\n"
     ]
    },
    {
     "name": "stdout",
     "output_type": "stream",
     "text": [
      "Epoch:  0/320 - train_loss: 1.1807 - test_loss: 0.876465\n",
      "Epoch: 399/400 - train_loss: 0.0401 - test_loss: 1.253007\n",
      "City: Bình Phước  _algo:lstm  -RMSE: 10.53369810026887\n",
      "City: Bình Phước  _algo:lstm  -RMSE: 11.128460433565028\n"
     ]
    },
    {
     "name": "stderr",
     "output_type": "stream",
     "text": [
      "\u001b[32m[I 2023-02-07 11:45:07,146]\u001b[0m Trial 8 finished with value: 10.53369810026887 and parameters: {'Epochs': 140, 'Hidden size': 59, 'n layers': 3, 'Learning rate': 0.003599671083579966}. Best is trial 1 with value: 8.993388672669996.\u001b[0m\n"
     ]
    },
    {
     "name": "stdout",
     "output_type": "stream",
     "text": [
      "City: Bình Phước  _algo:lstm  -RMSE: 11.295774292120969\n"
     ]
    },
    {
     "name": "stderr",
     "output_type": "stream",
     "text": [
      "<ipython-input-14-8244d6fc4512>:11: FutureWarning: suggest_loguniform has been deprecated in v3.0.0. This feature will be removed in v6.0.0. See https://github.com/optuna/optuna/releases/tag/v3.0.0. Use :func:`~optuna.trial.Trial.suggest_float` instead.\n",
      "  learning_rate = trial.suggest_loguniform('Learning rate', 1e-4, 1e-2)\n"
     ]
    },
    {
     "name": "stdout",
     "output_type": "stream",
     "text": [
      "Epoch:  0/180 - train_loss: 1.4280 - test_loss: 1.060661\n",
      "Epoch: 399/400 - train_loss: 0.3199 - test_loss: 0.251529\n",
      "City: Bình Phước  _algo:lstm  -RMSE: 17.215829822739547\n",
      "City: Bình Phước  _algo:lstm  -RMSE: 15.253500532475055\n"
     ]
    },
    {
     "name": "stderr",
     "output_type": "stream",
     "text": [
      "\u001b[32m[I 2023-02-07 11:45:32,567]\u001b[0m Trial 14 finished with value: 17.215829822739547 and parameters: {'Epochs': 240, 'Hidden size': 13, 'n layers': 3, 'Learning rate': 0.00012480103770735212}. Best is trial 1 with value: 8.993388672669996.\u001b[0m\n"
     ]
    },
    {
     "name": "stdout",
     "output_type": "stream",
     "text": [
      "City: Bình Phước  _algo:lstm  -RMSE: 16.762488518664345\n"
     ]
    },
    {
     "name": "stderr",
     "output_type": "stream",
     "text": [
      "<ipython-input-14-8244d6fc4512>:11: FutureWarning: suggest_loguniform has been deprecated in v3.0.0. This feature will be removed in v6.0.0. See https://github.com/optuna/optuna/releases/tag/v3.0.0. Use :func:`~optuna.trial.Trial.suggest_float` instead.\n",
      "  learning_rate = trial.suggest_loguniform('Learning rate', 1e-4, 1e-2)\n"
     ]
    },
    {
     "name": "stdout",
     "output_type": "stream",
     "text": [
      "Epoch:  0/190 - train_loss: 1.1632 - test_loss: 0.840740\n",
      "Epoch: 95/380 - train_loss: 0.2900 - test_loss: 0.203502\n",
      "Epoch: 45/180 - train_loss: 0.4892 - test_loss: 0.491866\n",
      "Epoch: 300/400 - train_loss: 0.2800 - test_loss: 0.223614\n",
      "Epoch: 80/320 - train_loss: 0.5776 - test_loss: 0.570169\n",
      "Epoch: 47/190 - train_loss: 0.5841 - test_loss: 0.570545\n",
      "Epoch: 90/180 - train_loss: 0.3765 - test_loss: 0.391327\n",
      "Epoch: 200/400 - train_loss: 0.2599 - test_loss: 0.490724\n",
      "Epoch: 190/380 - train_loss: 0.2705 - test_loss: 0.230753\n",
      "Epoch: 94/190 - train_loss: 0.4656 - test_loss: 0.467967\n",
      "Epoch: 135/180 - train_loss: 0.3562 - test_loss: 0.375587\n",
      "Epoch: 160/320 - train_loss: 0.4542 - test_loss: 0.432602\n",
      "Epoch: 399/400 - train_loss: 0.2768 - test_loss: 0.231002\n",
      "City: Bình Phước  _algo:lstm  -RMSE: 11.04350530053842\n",
      "City: Bình Phước  _algo:lstm  -RMSE: 11.669610223945417\n"
     ]
    },
    {
     "name": "stderr",
     "output_type": "stream",
     "text": [
      "\u001b[32m[I 2023-02-07 11:47:28,384]\u001b[0m Trial 7 finished with value: 11.04350530053842 and parameters: {'Epochs': 110, 'Hidden size': 10, 'n layers': 5, 'Learning rate': 0.0004973026621963017}. Best is trial 1 with value: 8.993388672669996.\u001b[0m\n"
     ]
    },
    {
     "name": "stdout",
     "output_type": "stream",
     "text": [
      "City: Bình Phước  _algo:lstm  -RMSE: 15.185569245515117\n"
     ]
    },
    {
     "name": "stderr",
     "output_type": "stream",
     "text": [
      "<ipython-input-14-8244d6fc4512>:11: FutureWarning: suggest_loguniform has been deprecated in v3.0.0. This feature will be removed in v6.0.0. See https://github.com/optuna/optuna/releases/tag/v3.0.0. Use :func:`~optuna.trial.Trial.suggest_float` instead.\n",
      "  learning_rate = trial.suggest_loguniform('Learning rate', 1e-4, 1e-2)\n"
     ]
    },
    {
     "name": "stdout",
     "output_type": "stream",
     "text": [
      "Epoch:  0/470 - train_loss: 0.9296 - test_loss: 0.742337\n",
      "Epoch: 179/180 - train_loss: 0.3200 - test_loss: 0.278746\n",
      "City: Bình Phước  _algo:lstm  -RMSE: 16.341613026433244\n",
      "City: Bình Phước  _algo:lstm  -RMSE: 16.598939092721977\n"
     ]
    },
    {
     "name": "stderr",
     "output_type": "stream",
     "text": [
      "\u001b[32m[I 2023-02-07 11:47:39,714]\u001b[0m Trial 22 finished with value: 16.341613026433244 and parameters: {'Epochs': 180, 'Hidden size': 6, 'n layers': 8, 'Learning rate': 0.0003322279977671231}. Best is trial 1 with value: 8.993388672669996.\u001b[0m\n"
     ]
    },
    {
     "name": "stdout",
     "output_type": "stream",
     "text": [
      "City: Bình Phước  _algo:lstm  -RMSE: 21.503970272043897\n"
     ]
    },
    {
     "name": "stderr",
     "output_type": "stream",
     "text": [
      "<ipython-input-14-8244d6fc4512>:11: FutureWarning: suggest_loguniform has been deprecated in v3.0.0. This feature will be removed in v6.0.0. See https://github.com/optuna/optuna/releases/tag/v3.0.0. Use :func:`~optuna.trial.Trial.suggest_float` instead.\n",
      "  learning_rate = trial.suggest_loguniform('Learning rate', 1e-4, 1e-2)\n"
     ]
    },
    {
     "name": "stdout",
     "output_type": "stream",
     "text": [
      "Epoch:  0/400 - train_loss: 1.2783 - test_loss: 0.936115\n",
      "Epoch: 141/190 - train_loss: 0.3701 - test_loss: 0.398977\n",
      "Epoch: 285/380 - train_loss: 0.2437 - test_loss: 0.378496\n",
      "Epoch: 188/190 - train_loss: 0.3165 - test_loss: 0.278626\n",
      "Epoch: 189/190 - train_loss: 0.3136 - test_loss: 0.308802\n",
      "City: Bình Phước  _algo:lstm  -RMSE: 12.78611840373436\n",
      "City: Bình Phước  _algo:lstm  -RMSE: 14.142572857883874\n"
     ]
    },
    {
     "name": "stderr",
     "output_type": "stream",
     "text": [
      "\u001b[32m[I 2023-02-07 11:48:39,175]\u001b[0m Trial 23 finished with value: 12.78611840373436 and parameters: {'Epochs': 190, 'Hidden size': 173, 'n layers': 8, 'Learning rate': 0.0002241653810447447}. Best is trial 1 with value: 8.993388672669996.\u001b[0m\n"
     ]
    },
    {
     "name": "stdout",
     "output_type": "stream",
     "text": [
      "City: Bình Phước  _algo:lstm  -RMSE: 13.779926375713046\n"
     ]
    },
    {
     "name": "stderr",
     "output_type": "stream",
     "text": [
      "<ipython-input-14-8244d6fc4512>:11: FutureWarning: suggest_loguniform has been deprecated in v3.0.0. This feature will be removed in v6.0.0. See https://github.com/optuna/optuna/releases/tag/v3.0.0. Use :func:`~optuna.trial.Trial.suggest_float` instead.\n",
      "  learning_rate = trial.suggest_loguniform('Learning rate', 1e-4, 1e-2)\n"
     ]
    },
    {
     "name": "stdout",
     "output_type": "stream",
     "text": [
      "Epoch: 300/400 - train_loss: 0.2380 - test_loss: 0.416051\n",
      "Epoch:  0/400 - train_loss: 1.1020 - test_loss: 0.796544\n",
      "Epoch: 240/320 - train_loss: 0.3654 - test_loss: 0.318817\n",
      "Epoch: 100/400 - train_loss: 0.4736 - test_loss: 0.442165\n",
      "Epoch: 379/380 - train_loss: 0.1499 - test_loss: 0.524608\n",
      "City: Bình Phước  _algo:lstm  -RMSE: 13.149325507961112\n",
      "City: Bình Phước  _algo:lstm  -RMSE: 12.640649632247836\n"
     ]
    },
    {
     "name": "stderr",
     "output_type": "stream",
     "text": [
      "\u001b[32m[I 2023-02-07 11:49:07,111]\u001b[0m Trial 20 finished with value: 13.149325507961112 and parameters: {'Epochs': 380, 'Hidden size': 75, 'n layers': 6, 'Learning rate': 0.000851661232510924}. Best is trial 1 with value: 8.993388672669996.\u001b[0m\n"
     ]
    },
    {
     "name": "stdout",
     "output_type": "stream",
     "text": [
      "City: Bình Phước  _algo:lstm  -RMSE: 11.759698042321444\n"
     ]
    },
    {
     "name": "stderr",
     "output_type": "stream",
     "text": [
      "<ipython-input-14-8244d6fc4512>:11: FutureWarning: suggest_loguniform has been deprecated in v3.0.0. This feature will be removed in v6.0.0. See https://github.com/optuna/optuna/releases/tag/v3.0.0. Use :func:`~optuna.trial.Trial.suggest_float` instead.\n",
      "  learning_rate = trial.suggest_loguniform('Learning rate', 1e-4, 1e-2)\n"
     ]
    },
    {
     "name": "stdout",
     "output_type": "stream",
     "text": [
      "Epoch:  0/190 - train_loss: 1.1866 - test_loss: 0.877822\n",
      "Epoch: 100/400 - train_loss: 0.3454 - test_loss: 0.305443\n",
      "Epoch:  0/400 - train_loss: 0.8998 - test_loss: 0.671670\n",
      "Epoch: 117/470 - train_loss: 0.3163 - test_loss: 0.261986\n",
      "Epoch: 47/190 - train_loss: 0.6383 - test_loss: 0.638808\n",
      "Epoch: 319/320 - train_loss: 0.3035 - test_loss: 0.231303\n",
      "City: Bình Phước  _algo:lstm  -RMSE: 11.578468673543126\n",
      "Epoch: 100/400 - train_loss: 0.3645 - test_loss: 0.391091\n",
      "City: Bình Phước  _algo:lstm  -RMSE: 9.885632731174267\n",
      "Epoch: 200/400 - train_loss: 0.3436 - test_loss: 0.299840\n"
     ]
    },
    {
     "name": "stderr",
     "output_type": "stream",
     "text": [
      "\u001b[32m[I 2023-02-07 11:50:15,302]\u001b[0m Trial 21 finished with value: 11.578468673543126 and parameters: {'Epochs': 320, 'Hidden size': 66, 'n layers': 10, 'Learning rate': 0.00013488077541613284}. Best is trial 1 with value: 8.993388672669996.\u001b[0m\n"
     ]
    },
    {
     "name": "stdout",
     "output_type": "stream",
     "text": [
      "City: Bình Phước  _algo:lstm  -RMSE: 11.737274731574859\n"
     ]
    },
    {
     "name": "stderr",
     "output_type": "stream",
     "text": [
      "<ipython-input-14-8244d6fc4512>:11: FutureWarning: suggest_loguniform has been deprecated in v3.0.0. This feature will be removed in v6.0.0. See https://github.com/optuna/optuna/releases/tag/v3.0.0. Use :func:`~optuna.trial.Trial.suggest_float` instead.\n",
      "  learning_rate = trial.suggest_loguniform('Learning rate', 1e-4, 1e-2)\n"
     ]
    },
    {
     "name": "stdout",
     "output_type": "stream",
     "text": [
      "Epoch:  0/270 - train_loss: 1.0322 - test_loss: 0.679805\n",
      "Epoch: 94/190 - train_loss: 0.5417 - test_loss: 0.523725\n",
      "Epoch: 399/400 - train_loss: 0.1907 - test_loss: 0.391339\n",
      "City: Bình Phước  _algo:lstm  -RMSE: 13.10320907881924\n",
      "City: Bình Phước  _algo:lstm  -RMSE: 11.664645068200633\n"
     ]
    },
    {
     "name": "stderr",
     "output_type": "stream",
     "text": [
      "\u001b[32m[I 2023-02-07 11:50:57,746]\u001b[0m Trial 10 finished with value: 13.10320907881924 and parameters: {'Epochs': 500, 'Hidden size': 47, 'n layers': 8, 'Learning rate': 0.0011050055231251216}. Best is trial 1 with value: 8.993388672669996.\u001b[0m\n"
     ]
    },
    {
     "name": "stdout",
     "output_type": "stream",
     "text": [
      "City: Bình Phước  _algo:lstm  -RMSE: 12.378048734304315\n"
     ]
    },
    {
     "name": "stderr",
     "output_type": "stream",
     "text": [
      "<ipython-input-14-8244d6fc4512>:11: FutureWarning: suggest_loguniform has been deprecated in v3.0.0. This feature will be removed in v6.0.0. See https://github.com/optuna/optuna/releases/tag/v3.0.0. Use :func:`~optuna.trial.Trial.suggest_float` instead.\n",
      "  learning_rate = trial.suggest_loguniform('Learning rate', 1e-4, 1e-2)\n"
     ]
    },
    {
     "name": "stdout",
     "output_type": "stream",
     "text": [
      "Epoch:  0/270 - train_loss: 0.9174 - test_loss: 0.627685\n",
      "Epoch: 67/270 - train_loss: 0.3192 - test_loss: 0.273564\n",
      "Epoch: 141/190 - train_loss: 0.4643 - test_loss: 0.431305\n",
      "Epoch: 234/470 - train_loss: 0.2904 - test_loss: 0.232300\n",
      "Epoch: 300/400 - train_loss: 0.2922 - test_loss: 0.264773\n",
      "Epoch: 200/400 - train_loss: 0.2880 - test_loss: 0.351632\n",
      "Epoch: 188/190 - train_loss: 0.4027 - test_loss: 0.356902\n",
      "Epoch: 189/190 - train_loss: 0.4007 - test_loss: 0.353255\n",
      "City: Bình Phước  _algo:lstm  -RMSE: 12.978012492118815\n",
      "City: Bình Phước  _algo:lstm  -RMSE: 14.308038429348718\n"
     ]
    },
    {
     "name": "stderr",
     "output_type": "stream",
     "text": [
      "\u001b[32m[I 2023-02-07 11:52:14,628]\u001b[0m Trial 27 finished with value: 12.978012492118815 and parameters: {'Epochs': 190, 'Hidden size': 66, 'n layers': 8, 'Learning rate': 0.00014448902407040973}. Best is trial 1 with value: 8.993388672669996.\u001b[0m\n"
     ]
    },
    {
     "name": "stdout",
     "output_type": "stream",
     "text": [
      "City: Bình Phước  _algo:lstm  -RMSE: 15.803121236991396\n",
      "Epoch: 67/270 - train_loss: 0.2806 - test_loss: 0.297019\n",
      "Epoch: 134/270 - train_loss: 0.2761 - test_loss: 0.492253\n",
      "Epoch: 399/400 - train_loss: 0.2791 - test_loss: 0.237436\n",
      "City: Bình Phước  _algo:lstm  -RMSE: 10.188165644723687\n",
      "City: Bình Phước  _algo:lstm  -RMSE: 12.374470298063896\n"
     ]
    },
    {
     "name": "stderr",
     "output_type": "stream",
     "text": [
      "\u001b[32m[I 2023-02-07 11:53:00,081]\u001b[0m Trial 25 finished with value: 10.188165644723687 and parameters: {'Epochs': 400, 'Hidden size': 59, 'n layers': 5, 'Learning rate': 0.0001899974783971282}. Best is trial 1 with value: 8.993388672669996.\u001b[0m\n"
     ]
    },
    {
     "name": "stdout",
     "output_type": "stream",
     "text": [
      "City: Bình Phước  _algo:lstm  -RMSE: 15.93223869599065\n",
      "Epoch:  0/400 - train_loss: 0.8198 - test_loss: 0.669055\n",
      "Epoch: 200/400 - train_loss: 0.2788 - test_loss: 0.248344\n",
      "Epoch: 351/470 - train_loss: 0.2800 - test_loss: 0.220925\n",
      "Epoch: 300/400 - train_loss: 0.2488 - test_loss: 0.307627\n",
      "Epoch: 201/270 - train_loss: 0.2236 - test_loss: 0.425460\n",
      "Epoch: 134/270 - train_loss: 0.2772 - test_loss: 0.273150\n",
      "Epoch:  0/400 - train_loss: 1.1545 - test_loss: 0.855613\n",
      "Epoch: 268/270 - train_loss: 0.1554 - test_loss: 0.535925\n",
      "Epoch: 201/270 - train_loss: 0.2763 - test_loss: 0.283334\n",
      "Epoch: 269/270 - train_loss: 0.1493 - test_loss: 0.525797\n",
      "City: Bình Phước  _algo:lstm  -RMSE: 13.661390497194489\n",
      "City: Bình Phước  _algo:lstm  -RMSE: 11.646433549004897\n"
     ]
    },
    {
     "name": "stderr",
     "output_type": "stream",
     "text": [
      "\u001b[32m[I 2023-02-07 11:54:52,436]\u001b[0m Trial 28 finished with value: 13.661390497194489 and parameters: {'Epochs': 270, 'Hidden size': 54, 'n layers': 7, 'Learning rate': 0.0019806664439811997}. Best is trial 1 with value: 8.993388672669996.\u001b[0m\n"
     ]
    },
    {
     "name": "stdout",
     "output_type": "stream",
     "text": [
      "City: Bình Phước  _algo:lstm  -RMSE: 10.545247531664906\n",
      "Epoch: 100/400 - train_loss: 0.3543 - test_loss: 0.344682\n",
      "Epoch: 468/470 - train_loss: 0.2736 - test_loss: 0.202096\n",
      "Epoch: 469/470 - train_loss: 0.2768 - test_loss: 0.208107\n",
      "City: Bình Phước  _algo:lstm  -RMSE: 11.70678723672635\n",
      "City: Bình Phước  _algo:lstm  -RMSE: 12.397418551206881\n"
     ]
    },
    {
     "name": "stderr",
     "output_type": "stream",
     "text": [
      "\u001b[32m[I 2023-02-07 11:55:11,751]\u001b[0m Trial 24 finished with value: 11.70678723672635 and parameters: {'Epochs': 470, 'Hidden size': 7, 'n layers': 4, 'Learning rate': 0.0004894457866608652}. Best is trial 1 with value: 8.993388672669996.\u001b[0m\n"
     ]
    },
    {
     "name": "stdout",
     "output_type": "stream",
     "text": [
      "City: Bình Phước  _algo:lstm  -RMSE: 14.316192745997173\n",
      "Epoch: 399/400 - train_loss: 0.2200 - test_loss: 0.433506\n",
      "Epoch:  0/400 - train_loss: 1.1622 - test_loss: 0.854633\n",
      "City: Bình Phước  _algo:lstm  -RMSE: 12.26384020241397\n",
      "City: Bình Phước  _algo:lstm  -RMSE: 12.027538447428723\n"
     ]
    },
    {
     "name": "stderr",
     "output_type": "stream",
     "text": [
      "\u001b[32m[I 2023-02-07 11:55:17,827]\u001b[0m Trial 26 finished with value: 12.26384020241397 and parameters: {'Epochs': 400, 'Hidden size': 149, 'n layers': 6, 'Learning rate': 0.00032775503251900777}. Best is trial 1 with value: 8.993388672669996.\u001b[0m\n"
     ]
    },
    {
     "name": "stdout",
     "output_type": "stream",
     "text": [
      "City: Bình Phước  _algo:lstm  -RMSE: 14.115853946940511\n",
      "Epoch:  0/400 - train_loss: 1.1643 - test_loss: 0.799695\n",
      "Epoch: 300/400 - train_loss: 0.2783 - test_loss: 0.344369\n",
      "Epoch: 268/270 - train_loss: 0.2645 - test_loss: 0.219837\n",
      "Epoch: 269/270 - train_loss: 0.2647 - test_loss: 0.218550\n",
      "City: Bình Phước  _algo:lstm  -RMSE: 12.068769826776323\n",
      "City: Bình Phước  _algo:lstm  -RMSE: 11.307778438000897\n"
     ]
    },
    {
     "name": "stderr",
     "output_type": "stream",
     "text": [
      "\u001b[32m[I 2023-02-07 11:55:51,073]\u001b[0m Trial 29 finished with value: 12.068769826776323 and parameters: {'Epochs': 270, 'Hidden size': 209, 'n layers': 5, 'Learning rate': 0.005901480484690756}. Best is trial 1 with value: 8.993388672669996.\u001b[0m\n"
     ]
    },
    {
     "name": "stdout",
     "output_type": "stream",
     "text": [
      "City: Bình Phước  _algo:lstm  -RMSE: 13.045108667474134\n",
      "Epoch:  0/400 - train_loss: 1.1205 - test_loss: 0.804220\n",
      "Epoch: 100/400 - train_loss: 0.3595 - test_loss: 0.377787\n",
      "Epoch: 100/400 - train_loss: 0.2536 - test_loss: 0.329023\n",
      "Epoch: 200/400 - train_loss: 0.3551 - test_loss: 0.380440\n",
      "Epoch:  0/400 - train_loss: 0.8757 - test_loss: 0.629389\n",
      "Epoch: 399/400 - train_loss: 0.2734 - test_loss: 0.286401\n",
      "City: Bình Phước  _algo:lstm  -RMSE: 13.627146195893975\n",
      "City: Bình Phước  _algo:lstm  -RMSE: 12.477270353251361\n"
     ]
    },
    {
     "name": "stderr",
     "output_type": "stream",
     "text": [
      "\u001b[32m[I 2023-02-07 11:56:59,090]\u001b[0m Trial 16 finished with value: 13.627146195893975 and parameters: {'Epochs': 200, 'Hidden size': 46, 'n layers': 8, 'Learning rate': 0.00035832358873763445}. Best is trial 1 with value: 8.993388672669996.\u001b[0m\n"
     ]
    },
    {
     "name": "stdout",
     "output_type": "stream",
     "text": [
      "City: Bình Phước  _algo:lstm  -RMSE: 14.009145653485866\n",
      "Epoch: 100/400 - train_loss: 0.3320 - test_loss: 0.271688\n",
      "Epoch: 100/400 - train_loss: 0.4632 - test_loss: 0.419509\n",
      "Epoch: 200/400 - train_loss: 0.1286 - test_loss: 0.446884\n",
      "Epoch: 200/400 - train_loss: 0.3289 - test_loss: 0.395591\n",
      "Epoch: 100/400 - train_loss: 0.2834 - test_loss: 0.258337\n",
      "Epoch: 300/400 - train_loss: 0.3542 - test_loss: 0.394295\n",
      "Epoch: 200/400 - train_loss: 0.2865 - test_loss: 0.233250\n",
      "Epoch: 300/400 - train_loss: 0.0278 - test_loss: 1.671796\n",
      "Epoch:  0/400 - train_loss: 0.9929 - test_loss: 0.819125\n",
      "Epoch: 200/400 - train_loss: 0.3270 - test_loss: 0.282883\n",
      "Epoch: 300/400 - train_loss: 0.3219 - test_loss: 0.418895\n",
      "Epoch: 399/400 - train_loss: 0.1519 - test_loss: 0.397273\n",
      "City: Bình Phước  _algo:lstm  -RMSE: 13.289274004475574\n",
      "City: Bình Phước  _algo:lstm  -RMSE: 10.560792998975936\n"
     ]
    },
    {
     "name": "stderr",
     "output_type": "stream",
     "text": [
      "\u001b[32m[I 2023-02-07 11:59:46,825]\u001b[0m Trial 13 finished with value: 13.289274004475574 and parameters: {'Epochs': 160, 'Hidden size': 53, 'n layers': 4, 'Learning rate': 0.009693408878841635}. Best is trial 1 with value: 8.993388672669996.\u001b[0m\n"
     ]
    },
    {
     "name": "stdout",
     "output_type": "stream",
     "text": [
      "City: Bình Phước  _algo:lstm  -RMSE: 9.378058703326145\n",
      "Epoch: 100/400 - train_loss: 0.3544 - test_loss: 0.375762\n",
      "Epoch: 200/400 - train_loss: 0.2715 - test_loss: 0.276738\n",
      "Epoch: 300/400 - train_loss: 0.2783 - test_loss: 0.261544\n",
      "Epoch: 399/400 - train_loss: 0.3588 - test_loss: 0.387918\n",
      "City: Bình Phước  _algo:lstm  -RMSE: 13.0645801660206\n",
      "Epoch:  0/400 - train_loss: 1.1439 - test_loss: 0.680400\n",
      "City: Bình Phước  _algo:lstm  -RMSE: 14.294085430091995\n"
     ]
    },
    {
     "name": "stderr",
     "output_type": "stream",
     "text": [
      "\u001b[32m[I 2023-02-07 12:00:14,337]\u001b[0m Trial 0 finished with value: 13.0645801660206 and parameters: {'Epochs': 230, 'Hidden size': 20, 'n layers': 10, 'Learning rate': 0.009360155531504788}. Best is trial 1 with value: 8.993388672669996.\u001b[0m\n"
     ]
    },
    {
     "name": "stdout",
     "output_type": "stream",
     "text": [
      "City: Bình Phước  _algo:lstm  -RMSE: 16.075932704605265\n",
      "Epoch: 300/400 - train_loss: 0.2832 - test_loss: 0.245784\n",
      "Epoch: 399/400 - train_loss: 0.3254 - test_loss: 0.408489\n",
      "City: Bình Phước  _algo:lstm  -RMSE: 20.389020763026377\n",
      "City: Bình Phước  _algo:lstm  -RMSE: 14.93617128295663\n"
     ]
    },
    {
     "name": "stderr",
     "output_type": "stream",
     "text": [
      "\u001b[32m[I 2023-02-07 12:01:00,292]\u001b[0m Trial 5 finished with value: 20.389020763026377 and parameters: {'Epochs': 390, 'Hidden size': 41, 'n layers': 8, 'Learning rate': 0.006075278519930344}. Best is trial 1 with value: 8.993388672669996.\u001b[0m\n"
     ]
    },
    {
     "name": "stdout",
     "output_type": "stream",
     "text": [
      "City: Bình Phước  _algo:lstm  -RMSE: 12.782172309208631\n",
      "Epoch:  0/400 - train_loss: 1.1484 - test_loss: 0.841885\n",
      "Epoch: 300/400 - train_loss: 0.2692 - test_loss: 0.201737\n",
      "Epoch:  0/400 - train_loss: 1.0496 - test_loss: 0.797491\n",
      "Epoch: 399/400 - train_loss: 0.2745 - test_loss: 0.253065\n",
      "City: Bình Phước  _algo:lstm  -RMSE: 9.791885409151526\n",
      "City: Bình Phước  _algo:lstm  -RMSE: 10.69340930577205\n"
     ]
    },
    {
     "name": "stderr",
     "output_type": "stream",
     "text": [
      "\u001b[32m[I 2023-02-07 12:01:55,171]\u001b[0m Trial 4 finished with value: 9.791885409151526 and parameters: {'Epochs': 340, 'Hidden size': 15, 'n layers': 7, 'Learning rate': 0.00039768760320351766}. Best is trial 1 with value: 8.993388672669996.\u001b[0m\n"
     ]
    },
    {
     "name": "stdout",
     "output_type": "stream",
     "text": [
      "City: Bình Phước  _algo:lstm  -RMSE: 13.980420021780176\n",
      "Epoch: 100/400 - train_loss: 0.3269 - test_loss: 0.436822\n",
      "Epoch: 200/400 - train_loss: 0.2947 - test_loss: 0.301115\n",
      "Epoch: 399/400 - train_loss: 0.2769 - test_loss: 0.222940\n",
      "City: Bình Phước  _algo:lstm  -RMSE: 10.268388061379332\n",
      "City: Bình Phước  _algo:lstm  -RMSE: 11.052051445244755\n"
     ]
    },
    {
     "name": "stderr",
     "output_type": "stream",
     "text": [
      "\u001b[32m[I 2023-02-07 12:02:17,070]\u001b[0m Trial 3 finished with value: 10.268388061379332 and parameters: {'Epochs': 160, 'Hidden size': 79, 'n layers': 5, 'Learning rate': 0.0002102295026195192}. Best is trial 1 with value: 8.993388672669996.\u001b[0m\n"
     ]
    },
    {
     "name": "stdout",
     "output_type": "stream",
     "text": [
      "City: Bình Phước  _algo:lstm  -RMSE: 13.197040440501835\n",
      "Epoch:  0/400 - train_loss: 1.4502 - test_loss: 1.065596\n",
      "Epoch: 100/400 - train_loss: 0.2821 - test_loss: 0.229347\n",
      "Epoch: 399/400 - train_loss: 0.2505 - test_loss: 0.271576\n",
      "City: Bình Phước  _algo:lstm  -RMSE: 8.41631087573058\n",
      "City: Bình Phước  _algo:lstm  -RMSE: 8.8926358535838\n"
     ]
    },
    {
     "name": "stderr",
     "output_type": "stream",
     "text": [
      "\u001b[32m[I 2023-02-07 12:02:52,351]\u001b[0m Trial 11 finished with value: 8.41631087573058 and parameters: {'Epochs': 220, 'Hidden size': 35, 'n layers': 3, 'Learning rate': 0.0012018946544288867}. Best is trial 11 with value: 8.41631087573058.\u001b[0m\n"
     ]
    },
    {
     "name": "stdout",
     "output_type": "stream",
     "text": [
      "City: Bình Phước  _algo:lstm  -RMSE: 11.84666081180729\n",
      "Epoch: 100/400 - train_loss: 0.3673 - test_loss: 0.400741\n",
      "Epoch: 300/400 - train_loss: 0.2483 - test_loss: 0.342079\n",
      "Epoch: 200/400 - train_loss: 0.3250 - test_loss: 0.407745\n",
      "Epoch: 100/400 - train_loss: 0.4460 - test_loss: 0.418608\n",
      "Epoch: 200/400 - train_loss: 0.2293 - test_loss: 0.287881\n",
      "Epoch: 100/400 - train_loss: 0.5201 - test_loss: 0.506727\n",
      "Epoch: 200/400 - train_loss: 0.3563 - test_loss: 0.361646\n",
      "Epoch: 399/400 - train_loss: 0.2001 - test_loss: 0.394170\n",
      "City: Bình Phước  _algo:lstm  -RMSE: 13.86535685254698\n",
      "City: Bình Phước  _algo:lstm  -RMSE: 12.200986452910593\n"
     ]
    },
    {
     "name": "stderr",
     "output_type": "stream",
     "text": [
      "\u001b[32m[I 2023-02-07 12:06:09,666]\u001b[0m Trial 18 finished with value: 13.86535685254698 and parameters: {'Epochs': 110, 'Hidden size': 124, 'n layers': 9, 'Learning rate': 0.000350642944419513}. Best is trial 11 with value: 8.41631087573058.\u001b[0m\n"
     ]
    },
    {
     "name": "stdout",
     "output_type": "stream",
     "text": [
      "City: Bình Phước  _algo:lstm  -RMSE: 12.401614573817458\n",
      "Epoch: 300/400 - train_loss: 0.3242 - test_loss: 0.442137\n",
      "Epoch: 300/400 - train_loss: 0.1430 - test_loss: 0.371502\n",
      "Epoch: 200/400 - train_loss: 0.3088 - test_loss: 0.287361\n",
      "Epoch: 100/400 - train_loss: 0.4890 - test_loss: 0.497078\n",
      "Epoch: 200/400 - train_loss: 0.3781 - test_loss: 0.356109\n",
      "Epoch: 399/400 - train_loss: 0.0995 - test_loss: 0.544189\n",
      "City: Bình Phước  _algo:lstm  -RMSE: 10.44661436771187\n",
      "City: Bình Phước  _algo:lstm  -RMSE: 9.465950168206325\n"
     ]
    },
    {
     "name": "stderr",
     "output_type": "stream",
     "text": [
      "\u001b[32m[I 2023-02-07 12:07:41,040]\u001b[0m Trial 9 finished with value: 10.44661436771187 and parameters: {'Epochs': 190, 'Hidden size': 202, 'n layers': 6, 'Learning rate': 0.0012380841782176472}. Best is trial 11 with value: 8.41631087573058.\u001b[0m\n"
     ]
    },
    {
     "name": "stdout",
     "output_type": "stream",
     "text": [
      "City: Bình Phước  _algo:lstm  -RMSE: 9.89556956337352\n",
      "Epoch: 300/400 - train_loss: 0.3700 - test_loss: 0.379270\n",
      "Epoch: 300/400 - train_loss: 0.2832 - test_loss: 0.268155\n",
      "Epoch: 399/400 - train_loss: 0.3220 - test_loss: 0.423516\n",
      "City: Bình Phước  _algo:lstm  -RMSE: 20.79266888434582\n",
      "City: Bình Phước  _algo:lstm  -RMSE: 23.346499428202854\n"
     ]
    },
    {
     "name": "stderr",
     "output_type": "stream",
     "text": [
      "\u001b[32m[I 2023-02-07 12:08:02,731]\u001b[0m Trial 2 finished with value: 20.79266888434582 and parameters: {'Epochs': 150, 'Hidden size': 112, 'n layers': 10, 'Learning rate': 0.005004519596155269}. Best is trial 11 with value: 8.41631087573058.\u001b[0m\n"
     ]
    },
    {
     "name": "stdout",
     "output_type": "stream",
     "text": [
      "City: Bình Phước  _algo:lstm  -RMSE: 16.470038092930793\n",
      "Epoch: 200/400 - train_loss: 0.3382 - test_loss: 0.313805\n",
      "Epoch: 300/400 - train_loss: 0.2977 - test_loss: 0.253759\n",
      "Epoch: 399/400 - train_loss: 0.2691 - test_loss: 0.281599\n",
      "City: Bình Phước  _algo:lstm  -RMSE: 11.70982945854346\n",
      "City: Bình Phước  _algo:lstm  -RMSE: 10.997022179528066\n"
     ]
    },
    {
     "name": "stderr",
     "output_type": "stream",
     "text": [
      "\u001b[32m[I 2023-02-07 12:08:49,127]\u001b[0m Trial 19 finished with value: 11.70982945854346 and parameters: {'Epochs': 400, 'Hidden size': 101, 'n layers': 6, 'Learning rate': 0.0002283241427218127}. Best is trial 11 with value: 8.41631087573058.\u001b[0m\n"
     ]
    },
    {
     "name": "stdout",
     "output_type": "stream",
     "text": [
      "City: Bình Phước  _algo:lstm  -RMSE: 11.70697109460226\n",
      "Epoch: 399/400 - train_loss: 0.3530 - test_loss: 0.391568\n",
      "City: Bình Phước  _algo:lstm  -RMSE: 22.928217042613234\n",
      "City: Bình Phước  _algo:lstm  -RMSE: 24.124744878172198\n"
     ]
    },
    {
     "name": "stderr",
     "output_type": "stream",
     "text": [
      "\u001b[32m[I 2023-02-07 12:08:59,915]\u001b[0m Trial 15 finished with value: 22.928217042613234 and parameters: {'Epochs': 240, 'Hidden size': 5, 'n layers': 10, 'Learning rate': 0.007045563707455214}. Best is trial 11 with value: 8.41631087573058.\u001b[0m\n"
     ]
    },
    {
     "name": "stdout",
     "output_type": "stream",
     "text": [
      "City: Bình Phước  _algo:lstm  -RMSE: 23.152049905013204\n",
      "Epoch: 399/400 - train_loss: 0.2838 - test_loss: 0.282688\n",
      "City: Bình Phước  _algo:lstm  -RMSE: 11.975842170216682\n",
      "City: Bình Phước  _algo:lstm  -RMSE: 13.27230473656194\n"
     ]
    },
    {
     "name": "stderr",
     "output_type": "stream",
     "text": [
      "\u001b[32m[I 2023-02-07 12:09:19,082]\u001b[0m Trial 12 finished with value: 11.975842170216682 and parameters: {'Epochs': 430, 'Hidden size': 46, 'n layers': 8, 'Learning rate': 0.0001572600278259263}. Best is trial 11 with value: 8.41631087573058.\u001b[0m\n"
     ]
    },
    {
     "name": "stdout",
     "output_type": "stream",
     "text": [
      "City: Bình Phước  _algo:lstm  -RMSE: 14.746430559245018\n",
      "Epoch: 300/400 - train_loss: 0.2971 - test_loss: 0.300796\n",
      "Epoch: 399/400 - train_loss: 0.2939 - test_loss: 0.297759\n",
      "City: Bình Phước  _algo:lstm  -RMSE: 18.178501605426693\n"
     ]
    },
    {
     "name": "stderr",
     "output_type": "stream",
     "text": [
      "\u001b[32m[I 2023-02-07 12:09:40,215]\u001b[0m Trial 6 finished with value: 18.178501605426693 and parameters: {'Epochs': 210, 'Hidden size': 18, 'n layers': 10, 'Learning rate': 0.00017199057620785713}. Best is trial 11 with value: 8.41631087573058.\u001b[0m\n",
      "\u001b[32m[I 2023-02-07 12:09:40,267]\u001b[0m A new study created in memory with name: no-name-dfaafdd8-9b29-4823-b824-bb8a5676daa0\u001b[0m\n"
     ]
    },
    {
     "name": "stdout",
     "output_type": "stream",
     "text": [
      "City: Bình Phước  _algo:lstm  -RMSE: 18.939013372273585\n",
      "City: Bình Phước  _algo:lstm  -RMSE: 21.241006314253625\n",
      "Study statistics for : \n",
      "  Number of finished trials:  30\n",
      "Best trial of city:  Bình Phước\n",
      "  Value:  8.41631087573058\n"
     ]
    },
    {
     "name": "stderr",
     "output_type": "stream",
     "text": [
      "<ipython-input-14-8244d6fc4512>:11: FutureWarning: suggest_loguniform has been deprecated in v3.0.0. This feature will be removed in v6.0.0. See https://github.com/optuna/optuna/releases/tag/v3.0.0. Use :func:`~optuna.trial.Trial.suggest_float` instead.\n",
      "  learning_rate = trial.suggest_loguniform('Learning rate', 1e-4, 1e-2)\n"
     ]
    },
    {
     "name": "stdout",
     "output_type": "stream",
     "text": [
      "Epoch:  0/420 - train_loss: 1.0796 - test_loss: 0.731344\n",
      "Epoch:  0/420 - train_loss: 0.9919 - test_loss: 0.695406\n",
      "Epoch:  0/420 - train_loss: 1.2273 - test_loss: 0.924151\n",
      "Epoch:  0/420 - train_loss: 1.1485 - test_loss: 0.815049\n",
      "Epoch:  0/420 - train_loss: 1.0762 - test_loss: 0.785526\n",
      "Epoch:  0/420 - train_loss: 0.8113 - test_loss: 0.650975\n",
      "Epoch:  0/420 - train_loss: 1.1324 - test_loss: 0.855925\n",
      "Epoch:  0/420 - train_loss: 1.0021 - test_loss: 0.791724\n",
      "Epoch: 105/420 - train_loss: 0.2787 - test_loss: 0.258252\n",
      "Epoch: 105/420 - train_loss: 0.3502 - test_loss: 0.359202\n",
      "Epoch: 105/420 - train_loss: 0.2754 - test_loss: 0.322292\n",
      "Epoch: 105/420 - train_loss: 0.3110 - test_loss: 0.261454\n",
      "Epoch: 210/420 - train_loss: 0.2593 - test_loss: 0.214781\n",
      "Epoch: 105/420 - train_loss: 0.3125 - test_loss: 0.254971\n",
      "Epoch: 210/420 - train_loss: 0.3103 - test_loss: 0.239979\n",
      "Epoch: 210/420 - train_loss: 0.2541 - test_loss: 0.282008\n",
      "Epoch: 315/420 - train_loss: 0.2278 - test_loss: 0.238838\n",
      "Epoch: 210/420 - train_loss: 0.2735 - test_loss: 0.303040\n",
      "Epoch: 105/420 - train_loss: 0.3254 - test_loss: 0.397206\n",
      "Epoch: 315/420 - train_loss: 0.2938 - test_loss: 0.239577\n",
      "Epoch: 419/420 - train_loss: 0.1424 - test_loss: 0.520455\n",
      "City: Bình Phước  _algo:lstm  -RMSE: 10.8099940311467\n",
      "City: Bình Phước  _algo:lstm  -RMSE: 11.886937426364334\n"
     ]
    },
    {
     "name": "stderr",
     "output_type": "stream",
     "text": [
      "\u001b[32m[I 2023-02-07 12:12:13,807]\u001b[0m Trial 14 finished with value: 10.8099940311467 and parameters: {'Epochs': 420, 'Hidden size': 34, 'n layers': 3, 'Learning rate': 0.002044732910847268}. Best is trial 14 with value: 10.8099940311467.\u001b[0m\n"
     ]
    },
    {
     "name": "stdout",
     "output_type": "stream",
     "text": [
      "City: Bình Phước  _algo:lstm  -RMSE: 13.119702484084076\n"
     ]
    },
    {
     "name": "stderr",
     "output_type": "stream",
     "text": [
      "<ipython-input-14-8244d6fc4512>:11: FutureWarning: suggest_loguniform has been deprecated in v3.0.0. This feature will be removed in v6.0.0. See https://github.com/optuna/optuna/releases/tag/v3.0.0. Use :func:`~optuna.trial.Trial.suggest_float` instead.\n",
      "  learning_rate = trial.suggest_loguniform('Learning rate', 1e-4, 1e-2)\n"
     ]
    },
    {
     "name": "stdout",
     "output_type": "stream",
     "text": [
      "Epoch:  0/240 - train_loss: 1.0747 - test_loss: 0.750893\n",
      "Epoch: 210/420 - train_loss: 0.2699 - test_loss: 0.315927\n",
      "Epoch: 315/420 - train_loss: 0.2201 - test_loss: 0.561015\n",
      "Epoch: 315/420 - train_loss: 0.2612 - test_loss: 0.416474\n",
      "Epoch: 419/420 - train_loss: 0.2889 - test_loss: 0.235187\n",
      "City: Bình Phước  _algo:lstm  -RMSE: 12.941856507405864\n",
      "City: Bình Phước  _algo:lstm  -RMSE: 13.946785071676802\n"
     ]
    },
    {
     "name": "stderr",
     "output_type": "stream",
     "text": [
      "\u001b[32m[I 2023-02-07 12:12:44,945]\u001b[0m Trial 11 finished with value: 12.941856507405864 and parameters: {'Epochs': 330, 'Hidden size': 5, 'n layers': 4, 'Learning rate': 0.0004153698575917797}. Best is trial 14 with value: 10.8099940311467.\u001b[0m\n"
     ]
    },
    {
     "name": "stdout",
     "output_type": "stream",
     "text": [
      "City: Bình Phước  _algo:lstm  -RMSE: 17.838786104564466\n"
     ]
    },
    {
     "name": "stderr",
     "output_type": "stream",
     "text": [
      "<ipython-input-14-8244d6fc4512>:11: FutureWarning: suggest_loguniform has been deprecated in v3.0.0. This feature will be removed in v6.0.0. See https://github.com/optuna/optuna/releases/tag/v3.0.0. Use :func:`~optuna.trial.Trial.suggest_float` instead.\n",
      "  learning_rate = trial.suggest_loguniform('Learning rate', 1e-4, 1e-2)\n"
     ]
    },
    {
     "name": "stdout",
     "output_type": "stream",
     "text": [
      "Epoch:  0/250 - train_loss: 1.0675 - test_loss: 0.774893\n",
      "Epoch: 60/240 - train_loss: 0.3382 - test_loss: 0.408249\n",
      "Epoch: 419/420 - train_loss: 0.0661 - test_loss: 0.814939\n",
      "City: Bình Phước  _algo:lstm  -RMSE: 12.403124479071256\n",
      "City: Bình Phước  _algo:lstm  -RMSE: 15.832468233347203\n"
     ]
    },
    {
     "name": "stderr",
     "output_type": "stream",
     "text": [
      "\u001b[32m[I 2023-02-07 12:13:26,929]\u001b[0m Trial 3 finished with value: 12.403124479071256 and parameters: {'Epochs': 100, 'Hidden size': 58, 'n layers': 5, 'Learning rate': 0.0019629152715944886}. Best is trial 14 with value: 10.8099940311467.\u001b[0m\n"
     ]
    },
    {
     "name": "stdout",
     "output_type": "stream",
     "text": [
      "City: Bình Phước  _algo:lstm  -RMSE: 14.80476903360877\n"
     ]
    },
    {
     "name": "stderr",
     "output_type": "stream",
     "text": [
      "<ipython-input-14-8244d6fc4512>:11: FutureWarning: suggest_loguniform has been deprecated in v3.0.0. This feature will be removed in v6.0.0. See https://github.com/optuna/optuna/releases/tag/v3.0.0. Use :func:`~optuna.trial.Trial.suggest_float` instead.\n",
      "  learning_rate = trial.suggest_loguniform('Learning rate', 1e-4, 1e-2)\n"
     ]
    },
    {
     "name": "stdout",
     "output_type": "stream",
     "text": [
      "Epoch:  0/270 - train_loss: 1.1759 - test_loss: 0.848826\n",
      "Epoch: 120/240 - train_loss: 0.3222 - test_loss: 0.443868\n",
      "Epoch: 62/250 - train_loss: 0.3296 - test_loss: 0.413794\n",
      "Epoch: 315/420 - train_loss: 0.2651 - test_loss: 0.365067\n",
      "Epoch: 210/420 - train_loss: 0.3299 - test_loss: 0.389138\n",
      "Epoch: 419/420 - train_loss: 0.2411 - test_loss: 0.517682\n",
      "City: Bình Phước  _algo:lstm  -RMSE: 11.369576339913351\n",
      "City: Bình Phước  _algo:lstm  -RMSE: 12.14167673138393\n"
     ]
    },
    {
     "name": "stderr",
     "output_type": "stream",
     "text": [
      "\u001b[32m[I 2023-02-07 12:13:45,632]\u001b[0m Trial 5 finished with value: 11.369576339913351 and parameters: {'Epochs': 380, 'Hidden size': 126, 'n layers': 5, 'Learning rate': 0.0004518344025134597}. Best is trial 14 with value: 10.8099940311467.\u001b[0m\n"
     ]
    },
    {
     "name": "stdout",
     "output_type": "stream",
     "text": [
      "City: Bình Phước  _algo:lstm  -RMSE: 13.500283402344573\n"
     ]
    },
    {
     "name": "stderr",
     "output_type": "stream",
     "text": [
      "<ipython-input-14-8244d6fc4512>:11: FutureWarning: suggest_loguniform has been deprecated in v3.0.0. This feature will be removed in v6.0.0. See https://github.com/optuna/optuna/releases/tag/v3.0.0. Use :func:`~optuna.trial.Trial.suggest_float` instead.\n",
      "  learning_rate = trial.suggest_loguniform('Learning rate', 1e-4, 1e-2)\n"
     ]
    },
    {
     "name": "stdout",
     "output_type": "stream",
     "text": [
      "Epoch:  0/190 - train_loss: 0.7924 - test_loss: 0.646988\n",
      "Epoch: 67/270 - train_loss: 0.4255 - test_loss: 0.356056\n",
      "Epoch: 180/240 - train_loss: 0.3232 - test_loss: 0.409040\n",
      "Epoch: 124/250 - train_loss: 0.3257 - test_loss: 0.413292\n",
      "Epoch: 47/190 - train_loss: 0.3636 - test_loss: 0.335978\n",
      "Epoch: 239/240 - train_loss: 0.3248 - test_loss: 0.396323\n",
      "City: Bình Phước  _algo:lstm  -RMSE: 19.404934826469017\n",
      "City: Bình Phước  _algo:lstm  -RMSE: 21.843555351584186\n"
     ]
    },
    {
     "name": "stderr",
     "output_type": "stream",
     "text": [
      "\u001b[32m[I 2023-02-07 12:15:00,704]\u001b[0m Trial 20 finished with value: 19.404934826469017 and parameters: {'Epochs': 240, 'Hidden size': 22, 'n layers': 7, 'Learning rate': 0.004956588163880815}. Best is trial 14 with value: 10.8099940311467.\u001b[0m\n"
     ]
    },
    {
     "name": "stdout",
     "output_type": "stream",
     "text": [
      "City: Bình Phước  _algo:lstm  -RMSE: 19.406818988106515\n"
     ]
    },
    {
     "name": "stderr",
     "output_type": "stream",
     "text": [
      "<ipython-input-14-8244d6fc4512>:11: FutureWarning: suggest_loguniform has been deprecated in v3.0.0. This feature will be removed in v6.0.0. See https://github.com/optuna/optuna/releases/tag/v3.0.0. Use :func:`~optuna.trial.Trial.suggest_float` instead.\n",
      "  learning_rate = trial.suggest_loguniform('Learning rate', 1e-4, 1e-2)\n"
     ]
    },
    {
     "name": "stdout",
     "output_type": "stream",
     "text": [
      "Epoch:  0/420 - train_loss: 0.9959 - test_loss: 0.735104\n",
      "Epoch: 134/270 - train_loss: 0.3099 - test_loss: 0.330127\n",
      "Epoch: 419/420 - train_loss: 0.2596 - test_loss: 0.424792\n",
      "City: Bình Phước  _algo:lstm  -RMSE: 14.962682360213565\n",
      "City: Bình Phước  _algo:lstm  -RMSE: 17.324041509911797\n"
     ]
    },
    {
     "name": "stderr",
     "output_type": "stream",
     "text": [
      "\u001b[32m[I 2023-02-07 12:15:27,811]\u001b[0m Trial 6 finished with value: 14.962682360213565 and parameters: {'Epochs': 390, 'Hidden size': 85, 'n layers': 7, 'Learning rate': 0.00047956618040219455}. Best is trial 14 with value: 10.8099940311467.\u001b[0m\n"
     ]
    },
    {
     "name": "stdout",
     "output_type": "stream",
     "text": [
      "City: Bình Phước  _algo:lstm  -RMSE: 19.280507113345447\n"
     ]
    },
    {
     "name": "stderr",
     "output_type": "stream",
     "text": [
      "<ipython-input-14-8244d6fc4512>:11: FutureWarning: suggest_loguniform has been deprecated in v3.0.0. This feature will be removed in v6.0.0. See https://github.com/optuna/optuna/releases/tag/v3.0.0. Use :func:`~optuna.trial.Trial.suggest_float` instead.\n",
      "  learning_rate = trial.suggest_loguniform('Learning rate', 1e-4, 1e-2)\n"
     ]
    },
    {
     "name": "stdout",
     "output_type": "stream",
     "text": [
      "Epoch:  0/340 - train_loss: 1.3102 - test_loss: 0.991124\n",
      "Epoch: 186/250 - train_loss: 0.3249 - test_loss: 0.409000\n",
      "Epoch: 94/190 - train_loss: 0.3569 - test_loss: 0.371117\n",
      "Epoch:  0/420 - train_loss: 1.0944 - test_loss: 0.628573\n",
      "Epoch: 201/270 - train_loss: 0.2813 - test_loss: 0.230964\n",
      "Epoch: 315/420 - train_loss: 0.3377 - test_loss: 0.425114\n",
      "Epoch: 141/190 - train_loss: 0.3542 - test_loss: 0.368936\n",
      "Epoch: 248/250 - train_loss: 0.3217 - test_loss: 0.417132\n",
      "Epoch: 105/420 - train_loss: 0.5395 - test_loss: 0.536304\n",
      "Epoch: 249/250 - train_loss: 0.3249 - test_loss: 0.422222\n",
      "City: Bình Phước  _algo:lstm  -RMSE: 22.25215719041973\n",
      "Epoch: 105/420 - train_loss: 0.2823 - test_loss: 0.253170\n",
      "City: Bình Phước  _algo:lstm  -RMSE: 24.416007827516847\n"
     ]
    },
    {
     "name": "stderr",
     "output_type": "stream",
     "text": [
      "\u001b[32m[I 2023-02-07 12:16:48,825]\u001b[0m Trial 21 finished with value: 22.25215719041973 and parameters: {'Epochs': 250, 'Hidden size': 5, 'n layers': 9, 'Learning rate': 0.004374125813886347}. Best is trial 14 with value: 10.8099940311467.\u001b[0m\n"
     ]
    },
    {
     "name": "stdout",
     "output_type": "stream",
     "text": [
      "City: Bình Phước  _algo:lstm  -RMSE: 23.111692761315613\n"
     ]
    },
    {
     "name": "stderr",
     "output_type": "stream",
     "text": [
      "<ipython-input-14-8244d6fc4512>:11: FutureWarning: suggest_loguniform has been deprecated in v3.0.0. This feature will be removed in v6.0.0. See https://github.com/optuna/optuna/releases/tag/v3.0.0. Use :func:`~optuna.trial.Trial.suggest_float` instead.\n",
      "  learning_rate = trial.suggest_loguniform('Learning rate', 1e-4, 1e-2)\n"
     ]
    },
    {
     "name": "stdout",
     "output_type": "stream",
     "text": [
      "Epoch:  0/170 - train_loss: 1.1931 - test_loss: 0.872582\n",
      "Epoch: 85/340 - train_loss: 0.3439 - test_loss: 0.308701\n",
      "Epoch: 268/270 - train_loss: 0.2707 - test_loss: 0.234285\n",
      "Epoch: 269/270 - train_loss: 0.2689 - test_loss: 0.218958\n",
      "City: Bình Phước  _algo:lstm  -RMSE: 13.542232913458339\n",
      "City: Bình Phước  _algo:lstm  -RMSE: 15.78867563463988\n"
     ]
    },
    {
     "name": "stderr",
     "output_type": "stream",
     "text": [
      "\u001b[32m[I 2023-02-07 12:17:15,562]\u001b[0m Trial 22 finished with value: 13.542232913458339 and parameters: {'Epochs': 270, 'Hidden size': 86, 'n layers': 5, 'Learning rate': 0.00038308793729231895}. Best is trial 14 with value: 10.8099940311467.\u001b[0m\n"
     ]
    },
    {
     "name": "stdout",
     "output_type": "stream",
     "text": [
      "City: Bình Phước  _algo:lstm  -RMSE: 16.31786444886929\n"
     ]
    },
    {
     "name": "stderr",
     "output_type": "stream",
     "text": [
      "<ipython-input-14-8244d6fc4512>:11: FutureWarning: suggest_loguniform has been deprecated in v3.0.0. This feature will be removed in v6.0.0. See https://github.com/optuna/optuna/releases/tag/v3.0.0. Use :func:`~optuna.trial.Trial.suggest_float` instead.\n",
      "  learning_rate = trial.suggest_loguniform('Learning rate', 1e-4, 1e-2)\n"
     ]
    },
    {
     "name": "stdout",
     "output_type": "stream",
     "text": [
      "Epoch:  0/220 - train_loss: 1.3765 - test_loss: 0.877511\n",
      "Epoch: 42/170 - train_loss: 0.4690 - test_loss: 0.439844\n",
      "Epoch: 188/190 - train_loss: 0.3598 - test_loss: 0.351543\n",
      "Epoch: 189/190 - train_loss: 0.3612 - test_loss: 0.387483\n",
      "City: Bình Phước  _algo:lstm  -RMSE: 16.921312615363508\n",
      "City: Bình Phước  _algo:lstm  -RMSE: 12.803011779336812\n"
     ]
    },
    {
     "name": "stderr",
     "output_type": "stream",
     "text": [
      "\u001b[32m[I 2023-02-07 12:17:46,909]\u001b[0m Trial 23 finished with value: 16.921312615363508 and parameters: {'Epochs': 190, 'Hidden size': 249, 'n layers': 10, 'Learning rate': 0.005164591130059177}. Best is trial 14 with value: 10.8099940311467.\u001b[0m\n"
     ]
    },
    {
     "name": "stdout",
     "output_type": "stream",
     "text": [
      "City: Bình Phước  _algo:lstm  -RMSE: 13.906188316160804\n"
     ]
    },
    {
     "name": "stderr",
     "output_type": "stream",
     "text": [
      "<ipython-input-14-8244d6fc4512>:11: FutureWarning: suggest_loguniform has been deprecated in v3.0.0. This feature will be removed in v6.0.0. See https://github.com/optuna/optuna/releases/tag/v3.0.0. Use :func:`~optuna.trial.Trial.suggest_float` instead.\n",
      "  learning_rate = trial.suggest_loguniform('Learning rate', 1e-4, 1e-2)\n"
     ]
    },
    {
     "name": "stdout",
     "output_type": "stream",
     "text": [
      "Epoch:  0/460 - train_loss: 1.3854 - test_loss: 1.014738\n",
      "Epoch: 84/170 - train_loss: 0.3436 - test_loss: 0.319990\n",
      "Epoch: 55/220 - train_loss: 0.3274 - test_loss: 0.402849\n",
      "Epoch: 170/340 - train_loss: 0.3142 - test_loss: 0.233117\n",
      "Epoch: 210/420 - train_loss: 0.2648 - test_loss: 0.260219\n",
      "Epoch: 419/420 - train_loss: 0.3232 - test_loss: 0.416937\n",
      "City: Bình Phước  _algo:lstm  -RMSE: 18.259141395473254\n",
      "City: Bình Phước  _algo:lstm  -RMSE: 14.092613894689201\n"
     ]
    },
    {
     "name": "stderr",
     "output_type": "stream",
     "text": [
      "\u001b[32m[I 2023-02-07 12:18:45,089]\u001b[0m Trial 4 finished with value: 18.259141395473254 and parameters: {'Epochs': 330, 'Hidden size': 79, 'n layers': 6, 'Learning rate': 0.006437087012531921}. Best is trial 14 with value: 10.8099940311467.\u001b[0m\n"
     ]
    },
    {
     "name": "stdout",
     "output_type": "stream",
     "text": [
      "City: Bình Phước  _algo:lstm  -RMSE: 13.299052753513552\n"
     ]
    },
    {
     "name": "stderr",
     "output_type": "stream",
     "text": [
      "<ipython-input-14-8244d6fc4512>:11: FutureWarning: suggest_loguniform has been deprecated in v3.0.0. This feature will be removed in v6.0.0. See https://github.com/optuna/optuna/releases/tag/v3.0.0. Use :func:`~optuna.trial.Trial.suggest_float` instead.\n",
      "  learning_rate = trial.suggest_loguniform('Learning rate', 1e-4, 1e-2)\n"
     ]
    },
    {
     "name": "stdout",
     "output_type": "stream",
     "text": [
      "Epoch:  0/500 - train_loss: 1.0649 - test_loss: 0.759232\n",
      "Epoch: 126/170 - train_loss: 0.3009 - test_loss: 0.361710\n",
      "Epoch: 110/220 - train_loss: 0.3296 - test_loss: 0.421792\n",
      "Epoch: 168/170 - train_loss: 0.2944 - test_loss: 0.305677\n",
      "Epoch: 169/170 - train_loss: 0.2938 - test_loss: 0.269207\n",
      "City: Bình Phước  _algo:lstm  -RMSE: 12.862492924467253\n",
      "City: Bình Phước  _algo:lstm  -RMSE: 14.841872630279486\n"
     ]
    },
    {
     "name": "stderr",
     "output_type": "stream",
     "text": [
      "\u001b[32m[I 2023-02-07 12:19:30,879]\u001b[0m Trial 26 finished with value: 12.862492924467253 and parameters: {'Epochs': 170, 'Hidden size': 33, 'n layers': 7, 'Learning rate': 0.0004715796000920916}. Best is trial 14 with value: 10.8099940311467.\u001b[0m\n"
     ]
    },
    {
     "name": "stdout",
     "output_type": "stream",
     "text": [
      "City: Bình Phước  _algo:lstm  -RMSE: 16.954995726306297\n",
      "Epoch: 255/340 - train_loss: 0.3081 - test_loss: 0.219798\n",
      "Epoch: 115/460 - train_loss: 0.3217 - test_loss: 0.406037\n",
      "Epoch: 315/420 - train_loss: 0.2373 - test_loss: 0.285175\n",
      "Epoch: 165/220 - train_loss: 0.3161 - test_loss: 0.446270\n",
      "Epoch: 210/420 - train_loss: 0.4035 - test_loss: 0.366649\n",
      "Epoch:  0/420 - train_loss: 0.9879 - test_loss: 0.809454\n",
      "Epoch: 339/340 - train_loss: 0.3005 - test_loss: 0.210757\n",
      "City: Bình Phước  _algo:lstm  -RMSE: 10.932124589381194\n",
      "City: Bình Phước  _algo:lstm  -RMSE: 13.520961365592099\n"
     ]
    },
    {
     "name": "stderr",
     "output_type": "stream",
     "text": [
      "\u001b[32m[I 2023-02-07 12:20:46,749]\u001b[0m Trial 25 finished with value: 10.932124589381194 and parameters: {'Epochs': 340, 'Hidden size': 7, 'n layers': 3, 'Learning rate': 0.0003936694381221094}. Best is trial 14 with value: 10.8099940311467.\u001b[0m\n"
     ]
    },
    {
     "name": "stdout",
     "output_type": "stream",
     "text": [
      "City: Bình Phước  _algo:lstm  -RMSE: 13.974460935523549\n",
      "Epoch: 219/220 - train_loss: 0.3245 - test_loss: 0.426006\n",
      "City: Bình Phước  _algo:lstm  -RMSE: 18.227235740834036\n",
      "City: Bình Phước  _algo:lstm  -RMSE: 17.427038117974746\n"
     ]
    },
    {
     "name": "stderr",
     "output_type": "stream",
     "text": [
      "\u001b[32m[I 2023-02-07 12:20:54,005]\u001b[0m Trial 27 finished with value: 18.227235740834036 and parameters: {'Epochs': 220, 'Hidden size': 5, 'n layers': 8, 'Learning rate': 0.008376529221067205}. Best is trial 14 with value: 10.8099940311467.\u001b[0m\n"
     ]
    },
    {
     "name": "stdout",
     "output_type": "stream",
     "text": [
      "City: Bình Phước  _algo:lstm  -RMSE: 17.793319260473993\n",
      "Epoch: 125/500 - train_loss: 0.2827 - test_loss: 0.290683\n",
      "Epoch: 105/420 - train_loss: 0.3200 - test_loss: 0.427498\n",
      "Epoch:  0/420 - train_loss: 0.8981 - test_loss: 0.662273\n",
      "Epoch: 419/420 - train_loss: 0.1308 - test_loss: 0.372543\n",
      "City: Bình Phước  _algo:lstm  -RMSE: 13.421030828630608\n",
      "City: Bình Phước  _algo:lstm  -RMSE: 14.491888062950096\n"
     ]
    },
    {
     "name": "stderr",
     "output_type": "stream",
     "text": [
      "\u001b[32m[I 2023-02-07 12:21:21,937]\u001b[0m Trial 24 finished with value: 13.421030828630608 and parameters: {'Epochs': 420, 'Hidden size': 239, 'n layers': 7, 'Learning rate': 0.0006704505112129481}. Best is trial 14 with value: 10.8099940311467.\u001b[0m\n"
     ]
    },
    {
     "name": "stdout",
     "output_type": "stream",
     "text": [
      "City: Bình Phước  _algo:lstm  -RMSE: 14.863152264036119\n",
      "Epoch: 230/460 - train_loss: 0.3046 - test_loss: 0.438129\n",
      "Epoch: 315/420 - train_loss: 0.3353 - test_loss: 0.266940\n",
      "Epoch: 250/500 - train_loss: 0.2799 - test_loss: 0.220000\n",
      "Epoch:  0/420 - train_loss: 1.1758 - test_loss: 0.821090\n",
      "Epoch: 105/420 - train_loss: 0.3095 - test_loss: 0.458215\n",
      "Epoch: 419/420 - train_loss: 0.3236 - test_loss: 0.223725\n",
      "City: Bình Phước  _algo:lstm  -RMSE: 12.250158246749322\n",
      "City: Bình Phước  _algo:lstm  -RMSE: 14.054669860075972\n"
     ]
    },
    {
     "name": "stderr",
     "output_type": "stream",
     "text": [
      "\u001b[32m[I 2023-02-07 12:22:28,920]\u001b[0m Trial 1 finished with value: 12.250158246749322 and parameters: {'Epochs': 150, 'Hidden size': 17, 'n layers': 4, 'Learning rate': 0.0001285786079410164}. Best is trial 14 with value: 10.8099940311467.\u001b[0m\n"
     ]
    },
    {
     "name": "stdout",
     "output_type": "stream",
     "text": [
      "City: Bình Phước  _algo:lstm  -RMSE: 15.79454747572286\n",
      "Epoch: 210/420 - train_loss: 0.3230 - test_loss: 0.433278\n",
      "Epoch: 345/460 - train_loss: 0.2991 - test_loss: 0.415346\n",
      "Epoch: 375/500 - train_loss: 0.2680 - test_loss: 0.254941\n",
      "Epoch: 105/420 - train_loss: 0.2752 - test_loss: 0.220069\n",
      "Epoch:  0/420 - train_loss: 1.1191 - test_loss: 0.842028\n",
      "Epoch: 210/420 - train_loss: 0.3100 - test_loss: 0.439167\n",
      "Epoch: 499/500 - train_loss: 0.2589 - test_loss: 0.256802\n",
      "City: Bình Phước  _algo:lstm  -RMSE: 11.650329873982356\n",
      "City: Bình Phước  _algo:lstm  -RMSE: 13.118456957600152\n"
     ]
    },
    {
     "name": "stderr",
     "output_type": "stream",
     "text": [
      "\u001b[32m[I 2023-02-07 12:23:59,364]\u001b[0m Trial 29 finished with value: 11.650329873982356 and parameters: {'Epochs': 500, 'Hidden size': 18, 'n layers': 4, 'Learning rate': 0.0016141878955874091}. Best is trial 14 with value: 10.8099940311467.\u001b[0m\n"
     ]
    },
    {
     "name": "stdout",
     "output_type": "stream",
     "text": [
      "City: Bình Phước  _algo:lstm  -RMSE: 15.711065210914063\n",
      "Epoch: 459/460 - train_loss: 0.2949 - test_loss: 0.445359\n",
      "City: Bình Phước  _algo:lstm  -RMSE: 22.086103671271317\n",
      "Epoch: 315/420 - train_loss: 0.3060 - test_loss: 0.426272\n",
      "City: Bình Phước  _algo:lstm  -RMSE: 21.236558921764193\n"
     ]
    },
    {
     "name": "stderr",
     "output_type": "stream",
     "text": [
      "\u001b[32m[I 2023-02-07 12:24:01,558]\u001b[0m Trial 28 finished with value: 22.086103671271317 and parameters: {'Epochs': 460, 'Hidden size': 5, 'n layers': 8, 'Learning rate': 0.0035718573322085032}. Best is trial 14 with value: 10.8099940311467.\u001b[0m\n"
     ]
    },
    {
     "name": "stdout",
     "output_type": "stream",
     "text": [
      "City: Bình Phước  _algo:lstm  -RMSE: 21.395019711028045\n",
      "Epoch:  0/420 - train_loss: 1.1387 - test_loss: 0.836020\n",
      "Epoch: 105/420 - train_loss: 0.2981 - test_loss: 0.330555\n",
      "Epoch: 210/420 - train_loss: 0.2594 - test_loss: 0.325969\n",
      "Epoch:  0/420 - train_loss: 0.8958 - test_loss: 0.626407\n",
      "Epoch: 315/420 - train_loss: 0.3076 - test_loss: 0.431740\n",
      "Epoch: 105/420 - train_loss: 0.3282 - test_loss: 0.441430\n",
      "Epoch: 419/420 - train_loss: 0.2960 - test_loss: 0.435790\n",
      "City: Bình Phước  _algo:lstm  -RMSE: 25.019463198667736\n",
      "City: Bình Phước  _algo:lstm  -RMSE: 25.01299921734061\n"
     ]
    },
    {
     "name": "stderr",
     "output_type": "stream",
     "text": [
      "\u001b[32m[I 2023-02-07 12:25:30,951]\u001b[0m Trial 0 finished with value: 25.019463198667736 and parameters: {'Epochs': 490, 'Hidden size': 5, 'n layers': 9, 'Learning rate': 0.002103113953433611}. Best is trial 14 with value: 10.8099940311467.\u001b[0m\n"
     ]
    },
    {
     "name": "stdout",
     "output_type": "stream",
     "text": [
      "City: Bình Phước  _algo:lstm  -RMSE: 25.136679636294506\n",
      "Epoch: 315/420 - train_loss: 0.1941 - test_loss: 0.417702\n",
      "Epoch: 210/420 - train_loss: 0.2611 - test_loss: 0.308260\n",
      "Epoch:  0/420 - train_loss: 1.2327 - test_loss: 0.931350\n",
      "Epoch: 105/420 - train_loss: 0.3370 - test_loss: 0.294212\n",
      "Epoch: 419/420 - train_loss: 0.0680 - test_loss: 0.785611\n",
      "City: Bình Phước  _algo:lstm  -RMSE: 11.49460088337369\n",
      "City: Bình Phước  _algo:lstm  -RMSE: 11.87416917695338\n"
     ]
    },
    {
     "name": "stderr",
     "output_type": "stream",
     "text": [
      "\u001b[32m[I 2023-02-07 12:26:45,339]\u001b[0m Trial 12 finished with value: 11.49460088337369 and parameters: {'Epochs': 100, 'Hidden size': 83, 'n layers': 5, 'Learning rate': 0.001954265082510595}. Best is trial 14 with value: 10.8099940311467.\u001b[0m\n"
     ]
    },
    {
     "name": "stdout",
     "output_type": "stream",
     "text": [
      "City: Bình Phước  _algo:lstm  -RMSE: 11.787766653614046\n",
      "Epoch: 419/420 - train_loss: 0.3060 - test_loss: 0.405095\n",
      "City: Bình Phước  _algo:lstm  -RMSE: 23.526306455129404\n",
      "City: Bình Phước  _algo:lstm  -RMSE: 26.12917749907994\n"
     ]
    },
    {
     "name": "stderr",
     "output_type": "stream",
     "text": [
      "\u001b[32m[I 2023-02-07 12:26:48,301]\u001b[0m Trial 15 finished with value: 23.526306455129404 and parameters: {'Epochs': 330, 'Hidden size': 6, 'n layers': 9, 'Learning rate': 0.008827655690818774}. Best is trial 14 with value: 10.8099940311467.\u001b[0m\n"
     ]
    },
    {
     "name": "stdout",
     "output_type": "stream",
     "text": [
      "City: Bình Phước  _algo:lstm  -RMSE: 23.0647966068718\n",
      "Epoch:  0/420 - train_loss: 1.1029 - test_loss: 0.775491\n",
      "Epoch: 210/420 - train_loss: 0.2776 - test_loss: 0.342051\n",
      "Epoch: 315/420 - train_loss: 0.2230 - test_loss: 0.459076\n",
      "Epoch: 105/420 - train_loss: 0.3348 - test_loss: 0.393239\n",
      "Epoch:  0/420 - train_loss: 0.9674 - test_loss: 0.729381\n",
      "Epoch: 210/420 - train_loss: 0.2999 - test_loss: 0.316733\n",
      "Epoch: 105/420 - train_loss: 0.3632 - test_loss: 0.390510\n",
      "Epoch: 315/420 - train_loss: 0.2644 - test_loss: 0.447865\n",
      "Epoch: 419/420 - train_loss: 0.2291 - test_loss: 0.491045\n",
      "City: Bình Phước  _algo:lstm  -RMSE: 9.002000430905444\n",
      "City: Bình Phước  _algo:lstm  -RMSE: 10.744101155889446\n"
     ]
    },
    {
     "name": "stderr",
     "output_type": "stream",
     "text": [
      "\u001b[32m[I 2023-02-07 12:28:51,939]\u001b[0m Trial 8 finished with value: 9.002000430905444 and parameters: {'Epochs': 350, 'Hidden size': 216, 'n layers': 7, 'Learning rate': 0.0030252822599642053}. Best is trial 8 with value: 9.002000430905444.\u001b[0m\n"
     ]
    },
    {
     "name": "stdout",
     "output_type": "stream",
     "text": [
      "City: Bình Phước  _algo:lstm  -RMSE: 16.92558098320641\n",
      "Epoch: 210/420 - train_loss: 0.3010 - test_loss: 0.337290\n",
      "Epoch: 105/420 - train_loss: 0.3189 - test_loss: 0.265976\n",
      "Epoch:  0/420 - train_loss: 0.7985 - test_loss: 0.761579\n",
      "Epoch: 315/420 - train_loss: 0.2874 - test_loss: 0.329346\n",
      "Epoch: 419/420 - train_loss: 0.2600 - test_loss: 0.489643\n",
      "City: Bình Phước  _algo:lstm  -RMSE: 18.70919396488397\n",
      "City: Bình Phước  _algo:lstm  -RMSE: 16.652949381884582\n"
     ]
    },
    {
     "name": "stderr",
     "output_type": "stream",
     "text": [
      "\u001b[32m[I 2023-02-07 12:30:24,580]\u001b[0m Trial 13 finished with value: 18.70919396488397 and parameters: {'Epochs': 500, 'Hidden size': 13, 'n layers': 8, 'Learning rate': 0.0016495952006782117}. Best is trial 8 with value: 9.002000430905444.\u001b[0m\n"
     ]
    },
    {
     "name": "stdout",
     "output_type": "stream",
     "text": [
      "City: Bình Phước  _algo:lstm  -RMSE: 16.749788911737742\n",
      "Epoch: 210/420 - train_loss: 0.3595 - test_loss: 0.364229\n",
      "Epoch:  0/420 - train_loss: 1.0809 - test_loss: 0.812030\n",
      "Epoch: 105/420 - train_loss: 0.3310 - test_loss: 0.372376\n",
      "Epoch: 315/420 - train_loss: 0.2847 - test_loss: 0.385969\n",
      "Epoch: 210/420 - train_loss: 0.2867 - test_loss: 0.388732\n",
      "Epoch: 419/420 - train_loss: 0.2854 - test_loss: 0.283268\n",
      "City: Bình Phước  _algo:lstm  -RMSE: 14.195107598004622\n",
      "City: Bình Phước  _algo:lstm  -RMSE: 15.154646912353737\n"
     ]
    },
    {
     "name": "stderr",
     "output_type": "stream",
     "text": [
      "\u001b[32m[I 2023-02-07 12:31:57,403]\u001b[0m Trial 7 finished with value: 14.195107598004622 and parameters: {'Epochs': 190, 'Hidden size': 11, 'n layers': 9, 'Learning rate': 0.00041469917174118934}. Best is trial 8 with value: 9.002000430905444.\u001b[0m\n"
     ]
    },
    {
     "name": "stdout",
     "output_type": "stream",
     "text": [
      "City: Bình Phước  _algo:lstm  -RMSE: 16.917075334791413\n",
      "Epoch: 315/420 - train_loss: 0.3546 - test_loss: 0.393239\n",
      "Epoch: 105/420 - train_loss: 0.3213 - test_loss: 0.418604\n",
      "Epoch: 419/420 - train_loss: 0.2920 - test_loss: 0.447180\n",
      "City: Bình Phước  _algo:lstm  -RMSE: 21.966627296809293\n",
      "City: Bình Phước  _algo:lstm  -RMSE: 21.73736814318982\n"
     ]
    },
    {
     "name": "stderr",
     "output_type": "stream",
     "text": [
      "\u001b[32m[I 2023-02-07 12:33:31,520]\u001b[0m Trial 19 finished with value: 21.966627296809293 and parameters: {'Epochs': 420, 'Hidden size': 60, 'n layers': 9, 'Learning rate': 0.00038174169271358783}. Best is trial 8 with value: 9.002000430905444.\u001b[0m\n"
     ]
    },
    {
     "name": "stdout",
     "output_type": "stream",
     "text": [
      "City: Bình Phước  _algo:lstm  -RMSE: 21.424704465845036\n",
      "Epoch: 210/420 - train_loss: 0.2950 - test_loss: 0.432776\n",
      "Epoch: 105/420 - train_loss: 0.2747 - test_loss: 0.264336\n",
      "Epoch: 315/420 - train_loss: 0.2787 - test_loss: 0.429260\n",
      "Epoch: 419/420 - train_loss: 0.3569 - test_loss: 0.378557\n",
      "City: Bình Phước  _algo:lstm  -RMSE: 17.275606032938473\n",
      "City: Bình Phước  _algo:lstm  -RMSE: 17.807163771351025\n"
     ]
    },
    {
     "name": "stderr",
     "output_type": "stream",
     "text": [
      "\u001b[32m[I 2023-02-07 12:34:34,318]\u001b[0m Trial 18 finished with value: 17.275606032938473 and parameters: {'Epochs': 400, 'Hidden size': 211, 'n layers': 8, 'Learning rate': 0.005414663217455575}. Best is trial 8 with value: 9.002000430905444.\u001b[0m\n"
     ]
    },
    {
     "name": "stdout",
     "output_type": "stream",
     "text": [
      "City: Bình Phước  _algo:lstm  -RMSE: 17.919053697306506\n",
      "Epoch: 210/420 - train_loss: 0.3034 - test_loss: 0.429024\n",
      "Epoch: 105/420 - train_loss: 0.5770 - test_loss: 0.549173\n",
      "Epoch: 315/420 - train_loss: 0.2976 - test_loss: 0.455307\n",
      "Epoch: 210/420 - train_loss: 0.2476 - test_loss: 0.270513\n",
      "Epoch: 419/420 - train_loss: 0.2770 - test_loss: 0.427134\n",
      "City: Bình Phước  _algo:lstm  -RMSE: 13.620430102321349\n",
      "City: Bình Phước  _algo:lstm  -RMSE: 14.010414496025557\n"
     ]
    },
    {
     "name": "stderr",
     "output_type": "stream",
     "text": [
      "\u001b[32m[I 2023-02-07 12:35:51,925]\u001b[0m Trial 2 finished with value: 13.620430102321349 and parameters: {'Epochs': 210, 'Hidden size': 11, 'n layers': 10, 'Learning rate': 0.0005205322215237526}. Best is trial 8 with value: 9.002000430905444.\u001b[0m\n"
     ]
    },
    {
     "name": "stdout",
     "output_type": "stream",
     "text": [
      "City: Bình Phước  _algo:lstm  -RMSE: 14.74065904726993\n",
      "Epoch: 315/420 - train_loss: 0.2960 - test_loss: 0.418661\n",
      "Epoch: 210/420 - train_loss: 0.4507 - test_loss: 0.420986\n",
      "Epoch: 419/420 - train_loss: 0.3033 - test_loss: 0.473095\n",
      "City: Bình Phước  _algo:lstm  -RMSE: 19.979818745672876\n",
      "City: Bình Phước  _algo:lstm  -RMSE: 20.083468551612874\n"
     ]
    },
    {
     "name": "stderr",
     "output_type": "stream",
     "text": [
      "\u001b[32m[I 2023-02-07 12:36:38,732]\u001b[0m Trial 17 finished with value: 19.979818745672876 and parameters: {'Epochs': 280, 'Hidden size': 74, 'n layers': 9, 'Learning rate': 0.0007139225378402444}. Best is trial 8 with value: 9.002000430905444.\u001b[0m\n"
     ]
    },
    {
     "name": "stdout",
     "output_type": "stream",
     "text": [
      "City: Bình Phước  _algo:lstm  -RMSE: 20.743312800740256\n",
      "Epoch: 315/420 - train_loss: 0.1969 - test_loss: 0.263225\n",
      "Epoch: 419/420 - train_loss: 0.2947 - test_loss: 0.411892\n",
      "City: Bình Phước  _algo:lstm  -RMSE: 23.32715292139138\n",
      "City: Bình Phước  _algo:lstm  -RMSE: 21.677611123776867\n"
     ]
    },
    {
     "name": "stderr",
     "output_type": "stream",
     "text": [
      "\u001b[32m[I 2023-02-07 12:37:21,713]\u001b[0m Trial 9 finished with value: 23.32715292139138 and parameters: {'Epochs': 250, 'Hidden size': 17, 'n layers': 10, 'Learning rate': 0.001218110462059474}. Best is trial 8 with value: 9.002000430905444.\u001b[0m\n"
     ]
    },
    {
     "name": "stdout",
     "output_type": "stream",
     "text": [
      "Epoch: 315/420 - train_loss: 0.3660 - test_loss: 0.307309\n",
      "City: Bình Phước  _algo:lstm  -RMSE: 19.180656127420846\n",
      "Epoch: 419/420 - train_loss: 0.1095 - test_loss: 0.370864\n",
      "City: Bình Phước  _algo:lstm  -RMSE: 11.36969750344908\n",
      "City: Bình Phước  _algo:lstm  -RMSE: 11.257588244572727\n"
     ]
    },
    {
     "name": "stderr",
     "output_type": "stream",
     "text": [
      "\u001b[32m[I 2023-02-07 12:37:24,095]\u001b[0m Trial 16 finished with value: 11.36969750344908 and parameters: {'Epochs': 310, 'Hidden size': 18, 'n layers': 6, 'Learning rate': 0.007004238829007797}. Best is trial 8 with value: 9.002000430905444.\u001b[0m\n"
     ]
    },
    {
     "name": "stdout",
     "output_type": "stream",
     "text": [
      "City: Bình Phước  _algo:lstm  -RMSE: 11.8516176132266\n",
      "Epoch: 419/420 - train_loss: 0.3008 - test_loss: 0.261588\n",
      "City: Bình Phước  _algo:lstm  -RMSE: 15.5986287280733\n"
     ]
    },
    {
     "name": "stderr",
     "output_type": "stream",
     "text": [
      "\u001b[32m[I 2023-02-07 12:37:43,322]\u001b[0m Trial 10 finished with value: 15.5986287280733 and parameters: {'Epochs': 190, 'Hidden size': 104, 'n layers': 8, 'Learning rate': 0.00010837970355971177}. Best is trial 8 with value: 9.002000430905444.\u001b[0m\n"
     ]
    },
    {
     "name": "stdout",
     "output_type": "stream",
     "text": [
      "City: Bình Phước  _algo:lstm  -RMSE: 15.503367690347478\n",
      "City: Bình Phước  _algo:lstm  -RMSE: 16.12600838367676\n",
      "Study statistics for : \n",
      "  Number of finished trials:  30\n",
      "Best trial of city:  Bình Phước\n",
      "  Value:  9.002000430905444\n"
     ]
    },
    {
     "name": "stderr",
     "output_type": "stream",
     "text": [
      "\u001b[32m[I 2023-02-07 12:37:44,335]\u001b[0m A new study created in memory with name: no-name-ff490662-0b13-4c35-ac0d-99e158d51974\u001b[0m\n"
     ]
    },
    {
     "name": "stdout",
     "output_type": "stream",
     "text": [
      "{\"ok\":true,\"result\":{\"message_id\":298,\"sender_chat\":{\"id\":-1001712314864,\"title\":\"PTN_Announcement\",\"username\":\"ptn_announcement\",\"type\":\"channel\"},\"chat\":{\"id\":-1001712314864,\"title\":\"PTN_Announcement\",\"username\":\"ptn_announcement\",\"type\":\"channel\"},\"date\":1675773464,\"text\":\"B\\u00ecnh Ph\\u01b0\\u1edbc\"}}\n"
     ]
    },
    {
     "name": "stderr",
     "output_type": "stream",
     "text": [
      "<ipython-input-14-8244d6fc4512>:11: FutureWarning: suggest_loguniform has been deprecated in v3.0.0. This feature will be removed in v6.0.0. See https://github.com/optuna/optuna/releases/tag/v3.0.0. Use :func:`~optuna.trial.Trial.suggest_float` instead.\n",
      "  learning_rate = trial.suggest_loguniform('Learning rate', 1e-4, 1e-2)\n"
     ]
    },
    {
     "name": "stdout",
     "output_type": "stream",
     "text": [
      "Epoch:  0/180 - train_loss: 1.3578 - test_loss: 1.113189\n",
      "Epoch:  0/180 - train_loss: 0.9094 - test_loss: 0.684256\n",
      "Epoch:  0/180 - train_loss: 1.1071 - test_loss: 0.771841\n",
      "Epoch:  0/180 - train_loss: 0.8054 - test_loss: 0.635733\n",
      "Epoch:  0/180 - train_loss: 0.7897 - test_loss: 0.708520\n",
      "Epoch:  0/180 - train_loss: 0.7973 - test_loss: 0.626519\n",
      "Epoch:  0/180 - train_loss: 0.8615 - test_loss: 0.708188\n",
      "Epoch: 45/180 - train_loss: 0.3186 - test_loss: 0.264472\n",
      "Epoch:  0/180 - train_loss: 1.0097 - test_loss: 0.798643\n",
      "Epoch: 45/180 - train_loss: 0.8812 - test_loss: 0.709252\n",
      "Epoch: 45/180 - train_loss: 0.2196 - test_loss: 0.119481\n",
      "Epoch: 45/180 - train_loss: 0.2052 - test_loss: 0.116042\n",
      "Epoch: 45/180 - train_loss: 0.2068 - test_loss: 0.116644\n",
      "Epoch: 90/180 - train_loss: 0.2130 - test_loss: 0.136880\n",
      "Epoch: 90/180 - train_loss: 0.4953 - test_loss: 0.470901\n",
      "Epoch: 90/180 - train_loss: 0.2017 - test_loss: 0.112671\n",
      "Epoch: 90/180 - train_loss: 0.1951 - test_loss: 0.103301\n",
      "Epoch: 45/180 - train_loss: 0.2470 - test_loss: 0.124186\n",
      "Epoch: 135/180 - train_loss: 0.2052 - test_loss: 0.101716\n",
      "Epoch: 90/180 - train_loss: 0.1968 - test_loss: 0.105180\n",
      "Epoch: 135/180 - train_loss: 0.4156 - test_loss: 0.389074\n",
      "Epoch: 135/180 - train_loss: 0.1921 - test_loss: 0.109826\n",
      "Epoch: 135/180 - train_loss: 0.1618 - test_loss: 0.127447\n",
      "Epoch: 179/180 - train_loss: 0.1776 - test_loss: 0.107022\n",
      "City: Bình Thuận  _algo:lstm  -RMSE: 5.941056301433769\n",
      "City: Bình Thuận  _algo:lstm  -RMSE: 6.100221218961302\n"
     ]
    },
    {
     "name": "stderr",
     "output_type": "stream",
     "text": [
      "\u001b[32m[I 2023-02-07 12:39:40,938]\u001b[0m Trial 3 finished with value: 5.941056301433769 and parameters: {'Epochs': 340, 'Hidden size': 173, 'n layers': 4, 'Learning rate': 0.0007398067277568989}. Best is trial 3 with value: 5.941056301433769.\u001b[0m\n"
     ]
    },
    {
     "name": "stdout",
     "output_type": "stream",
     "text": [
      "City: Bình Thuận  _algo:lstm  -RMSE: 8.340058326419882\n"
     ]
    },
    {
     "name": "stderr",
     "output_type": "stream",
     "text": [
      "<ipython-input-14-8244d6fc4512>:11: FutureWarning: suggest_loguniform has been deprecated in v3.0.0. This feature will be removed in v6.0.0. See https://github.com/optuna/optuna/releases/tag/v3.0.0. Use :func:`~optuna.trial.Trial.suggest_float` instead.\n",
      "  learning_rate = trial.suggest_loguniform('Learning rate', 1e-4, 1e-2)\n"
     ]
    },
    {
     "name": "stdout",
     "output_type": "stream",
     "text": [
      "Epoch:  0/150 - train_loss: 0.8890 - test_loss: 0.662990\n",
      "Epoch: 179/180 - train_loss: 0.3537 - test_loss: 0.319909\n",
      "City: Bình Thuận  _algo:lstm  -RMSE: 21.37752480078979\n",
      "City: Bình Thuận  _algo:lstm  -RMSE: 19.15384078573659\n"
     ]
    },
    {
     "name": "stderr",
     "output_type": "stream",
     "text": [
      "\u001b[32m[I 2023-02-07 12:39:44,845]\u001b[0m Trial 7 finished with value: 21.37752480078979 and parameters: {'Epochs': 500, 'Hidden size': 6, 'n layers': 4, 'Learning rate': 0.00014590421140233436}. Best is trial 3 with value: 5.941056301433769.\u001b[0m\n"
     ]
    },
    {
     "name": "stdout",
     "output_type": "stream",
     "text": [
      "City: Bình Thuận  _algo:lstm  -RMSE: 24.564171032754505\n"
     ]
    },
    {
     "name": "stderr",
     "output_type": "stream",
     "text": [
      "<ipython-input-14-8244d6fc4512>:11: FutureWarning: suggest_loguniform has been deprecated in v3.0.0. This feature will be removed in v6.0.0. See https://github.com/optuna/optuna/releases/tag/v3.0.0. Use :func:`~optuna.trial.Trial.suggest_float` instead.\n",
      "  learning_rate = trial.suggest_loguniform('Learning rate', 1e-4, 1e-2)\n"
     ]
    },
    {
     "name": "stdout",
     "output_type": "stream",
     "text": [
      "Epoch:  0/390 - train_loss: 0.8657 - test_loss: 0.722177\n",
      "Epoch: 179/180 - train_loss: 0.1783 - test_loss: 0.102975\n",
      "City: Bình Thuận  _algo:lstm  -RMSE: 6.658674879151194\n",
      "City: Bình Thuận  _algo:lstm  -RMSE: 6.558391441893184\n"
     ]
    },
    {
     "name": "stderr",
     "output_type": "stream",
     "text": [
      "\u001b[32m[I 2023-02-07 12:39:51,604]\u001b[0m Trial 6 finished with value: 6.658674879151194 and parameters: {'Epochs': 220, 'Hidden size': 6, 'n layers': 4, 'Learning rate': 0.003258786084493888}. Best is trial 3 with value: 5.941056301433769.\u001b[0m\n"
     ]
    },
    {
     "name": "stdout",
     "output_type": "stream",
     "text": [
      "City: Bình Thuận  _algo:lstm  -RMSE: 9.722702476277574\n"
     ]
    },
    {
     "name": "stderr",
     "output_type": "stream",
     "text": [
      "<ipython-input-14-8244d6fc4512>:11: FutureWarning: suggest_loguniform has been deprecated in v3.0.0. This feature will be removed in v6.0.0. See https://github.com/optuna/optuna/releases/tag/v3.0.0. Use :func:`~optuna.trial.Trial.suggest_float` instead.\n",
      "  learning_rate = trial.suggest_loguniform('Learning rate', 1e-4, 1e-2)\n"
     ]
    },
    {
     "name": "stdout",
     "output_type": "stream",
     "text": [
      "Epoch:  0/400 - train_loss: 0.8403 - test_loss: 0.707743\n",
      "Epoch: 135/180 - train_loss: 0.1661 - test_loss: 0.125494\n",
      "Epoch: 179/180 - train_loss: 0.1261 - test_loss: 0.101623\n",
      "City: Bình Thuận  _algo:lstm  -RMSE: 6.82536025266982\n",
      "City: Bình Thuận  _algo:lstm  -RMSE: 6.652150256025468\n"
     ]
    },
    {
     "name": "stderr",
     "output_type": "stream",
     "text": [
      "\u001b[32m[I 2023-02-07 12:40:02,095]\u001b[0m Trial 16 finished with value: 6.82536025266982 and parameters: {'Epochs': 280, 'Hidden size': 217, 'n layers': 4, 'Learning rate': 0.004217242546460383}. Best is trial 3 with value: 5.941056301433769.\u001b[0m\n"
     ]
    },
    {
     "name": "stdout",
     "output_type": "stream",
     "text": [
      "City: Bình Thuận  _algo:lstm  -RMSE: 9.336863791886456\n"
     ]
    },
    {
     "name": "stderr",
     "output_type": "stream",
     "text": [
      "<ipython-input-14-8244d6fc4512>:11: FutureWarning: suggest_loguniform has been deprecated in v3.0.0. This feature will be removed in v6.0.0. See https://github.com/optuna/optuna/releases/tag/v3.0.0. Use :func:`~optuna.trial.Trial.suggest_float` instead.\n",
      "  learning_rate = trial.suggest_loguniform('Learning rate', 1e-4, 1e-2)\n"
     ]
    },
    {
     "name": "stdout",
     "output_type": "stream",
     "text": [
      "Epoch:  0/430 - train_loss: 1.1896 - test_loss: 0.903809\n",
      "Epoch: 90/180 - train_loss: 0.2123 - test_loss: 0.116706\n",
      "Epoch: 37/150 - train_loss: 0.2472 - test_loss: 0.155640\n",
      "Epoch:  0/180 - train_loss: 0.9340 - test_loss: 0.714756\n",
      "Epoch: 179/180 - train_loss: 0.1417 - test_loss: 0.135510\n",
      "City: Bình Thuận  _algo:lstm  -RMSE: 8.642395907701037\n",
      "City: Bình Thuận  _algo:lstm  -RMSE: 8.153865300968386\n"
     ]
    },
    {
     "name": "stderr",
     "output_type": "stream",
     "text": [
      "\u001b[32m[I 2023-02-07 12:40:33,972]\u001b[0m Trial 14 finished with value: 8.642395907701037 and parameters: {'Epochs': 270, 'Hidden size': 124, 'n layers': 5, 'Learning rate': 0.004697953952102066}. Best is trial 3 with value: 5.941056301433769.\u001b[0m\n"
     ]
    },
    {
     "name": "stdout",
     "output_type": "stream",
     "text": [
      "City: Bình Thuận  _algo:lstm  -RMSE: 11.201184274835086\n"
     ]
    },
    {
     "name": "stderr",
     "output_type": "stream",
     "text": [
      "<ipython-input-14-8244d6fc4512>:11: FutureWarning: suggest_loguniform has been deprecated in v3.0.0. This feature will be removed in v6.0.0. See https://github.com/optuna/optuna/releases/tag/v3.0.0. Use :func:`~optuna.trial.Trial.suggest_float` instead.\n",
      "  learning_rate = trial.suggest_loguniform('Learning rate', 1e-4, 1e-2)\n"
     ]
    },
    {
     "name": "stdout",
     "output_type": "stream",
     "text": [
      "Epoch:  0/190 - train_loss: 0.9705 - test_loss: 0.767351\n",
      "Epoch: 74/150 - train_loss: 0.2111 - test_loss: 0.139849\n",
      "Epoch: 45/180 - train_loss: 0.4094 - test_loss: 0.369400\n",
      "Epoch: 100/400 - train_loss: 0.1746 - test_loss: 0.123302\n",
      "Epoch: 135/180 - train_loss: 0.1925 - test_loss: 0.125604\n",
      "Epoch: 111/150 - train_loss: 0.2011 - test_loss: 0.100219\n",
      "Epoch: 97/390 - train_loss: 0.5268 - test_loss: 0.508363\n",
      "Epoch: 47/190 - train_loss: 0.6300 - test_loss: 0.597458\n",
      "Epoch: 107/430 - train_loss: 0.2150 - test_loss: 0.128604\n",
      "Epoch: 148/150 - train_loss: 0.1765 - test_loss: 0.105709\n",
      "Epoch: 149/150 - train_loss: 0.1736 - test_loss: 0.129219\n",
      "City: Bình Thuận  _algo:lstm  -RMSE: 7.277267509602462\n",
      "City: Bình Thuận  _algo:lstm  -RMSE: 6.242904931726091\n"
     ]
    },
    {
     "name": "stderr",
     "output_type": "stream",
     "text": [
      "\u001b[32m[I 2023-02-07 12:41:49,091]\u001b[0m Trial 20 finished with value: 7.277267509602462 and parameters: {'Epochs': 150, 'Hidden size': 34, 'n layers': 9, 'Learning rate': 0.0024983563828252014}. Best is trial 3 with value: 5.941056301433769.\u001b[0m\n"
     ]
    },
    {
     "name": "stdout",
     "output_type": "stream",
     "text": [
      "City: Bình Thuận  _algo:lstm  -RMSE: 7.495036331622618\n"
     ]
    },
    {
     "name": "stderr",
     "output_type": "stream",
     "text": [
      "<ipython-input-14-8244d6fc4512>:11: FutureWarning: suggest_loguniform has been deprecated in v3.0.0. This feature will be removed in v6.0.0. See https://github.com/optuna/optuna/releases/tag/v3.0.0. Use :func:`~optuna.trial.Trial.suggest_float` instead.\n",
      "  learning_rate = trial.suggest_loguniform('Learning rate', 1e-4, 1e-2)\n"
     ]
    },
    {
     "name": "stdout",
     "output_type": "stream",
     "text": [
      "Epoch:  0/140 - train_loss: 0.9829 - test_loss: 0.795211\n",
      "Epoch: 35/140 - train_loss: 0.5953 - test_loss: 0.573472\n",
      "Epoch: 179/180 - train_loss: 0.2144 - test_loss: 0.117979\n",
      "City: Bình Thuận  _algo:lstm  -RMSE: 7.351426047714888\n",
      "City: Bình Thuận  _algo:lstm  -RMSE: 6.784557247041854\n"
     ]
    },
    {
     "name": "stderr",
     "output_type": "stream",
     "text": [
      "\u001b[32m[I 2023-02-07 12:42:22,123]\u001b[0m Trial 4 finished with value: 7.351426047714888 and parameters: {'Epochs': 210, 'Hidden size': 22, 'n layers': 8, 'Learning rate': 0.005182849983474083}. Best is trial 3 with value: 5.941056301433769.\u001b[0m\n"
     ]
    },
    {
     "name": "stdout",
     "output_type": "stream",
     "text": [
      "City: Bình Thuận  _algo:lstm  -RMSE: 7.626266172118612\n"
     ]
    },
    {
     "name": "stderr",
     "output_type": "stream",
     "text": [
      "<ipython-input-14-8244d6fc4512>:11: FutureWarning: suggest_loguniform has been deprecated in v3.0.0. This feature will be removed in v6.0.0. See https://github.com/optuna/optuna/releases/tag/v3.0.0. Use :func:`~optuna.trial.Trial.suggest_float` instead.\n",
      "  learning_rate = trial.suggest_loguniform('Learning rate', 1e-4, 1e-2)\n"
     ]
    },
    {
     "name": "stdout",
     "output_type": "stream",
     "text": [
      "Epoch:  0/140 - train_loss: 0.9807 - test_loss: 0.753828\n",
      "Epoch: 94/190 - train_loss: 0.5377 - test_loss: 0.506186\n",
      "Epoch: 70/140 - train_loss: 0.4770 - test_loss: 0.440810\n",
      "Epoch: 200/400 - train_loss: 0.1359 - test_loss: 0.092158\n",
      "Epoch: 105/140 - train_loss: 0.3882 - test_loss: 0.341959\n",
      "Epoch: 194/390 - train_loss: 0.3500 - test_loss: 0.307502\n",
      "Epoch: 35/140 - train_loss: 0.4602 - test_loss: 0.417909\n",
      "Epoch: 139/140 - train_loss: 0.3257 - test_loss: 0.273766\n",
      "City: Bình Thuận  _algo:lstm  -RMSE: 9.686813996735598\n",
      "Epoch: 141/190 - train_loss: 0.4594 - test_loss: 0.425208\n",
      "City: Bình Thuận  _algo:lstm  -RMSE: 11.22998568561342\n",
      "Epoch: 90/180 - train_loss: 0.2663 - test_loss: 0.196952\n"
     ]
    },
    {
     "name": "stderr",
     "output_type": "stream",
     "text": [
      "\u001b[32m[I 2023-02-07 12:43:25,646]\u001b[0m Trial 25 finished with value: 9.686813996735598 and parameters: {'Epochs': 140, 'Hidden size': 17, 'n layers': 4, 'Learning rate': 0.00023553207179744564}. Best is trial 3 with value: 5.941056301433769.\u001b[0m\n"
     ]
    },
    {
     "name": "stdout",
     "output_type": "stream",
     "text": [
      "City: Bình Thuận  _algo:lstm  -RMSE: 12.419497867055135\n"
     ]
    },
    {
     "name": "stderr",
     "output_type": "stream",
     "text": [
      "<ipython-input-14-8244d6fc4512>:11: FutureWarning: suggest_loguniform has been deprecated in v3.0.0. This feature will be removed in v6.0.0. See https://github.com/optuna/optuna/releases/tag/v3.0.0. Use :func:`~optuna.trial.Trial.suggest_float` instead.\n",
      "  learning_rate = trial.suggest_loguniform('Learning rate', 1e-4, 1e-2)\n"
     ]
    },
    {
     "name": "stdout",
     "output_type": "stream",
     "text": [
      "Epoch:  0/490 - train_loss: 0.9754 - test_loss: 0.784712\n",
      "Epoch: 214/430 - train_loss: 0.1943 - test_loss: 0.113237\n",
      "Epoch: 70/140 - train_loss: 0.2938 - test_loss: 0.243183\n",
      "Epoch: 300/400 - train_loss: 0.1174 - test_loss: 0.098772\n",
      "Epoch: 188/190 - train_loss: 0.3886 - test_loss: 0.347723\n",
      "Epoch: 189/190 - train_loss: 0.3894 - test_loss: 0.353532\n",
      "City: Bình Thuận  _algo:lstm  -RMSE: 9.015497808601575\n",
      "City: Bình Thuận  _algo:lstm  -RMSE: 10.84194950335232\n"
     ]
    },
    {
     "name": "stderr",
     "output_type": "stream",
     "text": [
      "\u001b[32m[I 2023-02-07 12:44:29,775]\u001b[0m Trial 24 finished with value: 9.015497808601575 and parameters: {'Epochs': 190, 'Hidden size': 132, 'n layers': 9, 'Learning rate': 0.0001323800649179896}. Best is trial 3 with value: 5.941056301433769.\u001b[0m\n"
     ]
    },
    {
     "name": "stdout",
     "output_type": "stream",
     "text": [
      "City: Bình Thuận  _algo:lstm  -RMSE: 11.920252184639088\n"
     ]
    },
    {
     "name": "stderr",
     "output_type": "stream",
     "text": [
      "<ipython-input-14-8244d6fc4512>:11: FutureWarning: suggest_loguniform has been deprecated in v3.0.0. This feature will be removed in v6.0.0. See https://github.com/optuna/optuna/releases/tag/v3.0.0. Use :func:`~optuna.trial.Trial.suggest_float` instead.\n",
      "  learning_rate = trial.suggest_loguniform('Learning rate', 1e-4, 1e-2)\n"
     ]
    },
    {
     "name": "stdout",
     "output_type": "stream",
     "text": [
      "Epoch:  0/270 - train_loss: 1.0047 - test_loss: 0.729809\n",
      "Epoch: 105/140 - train_loss: 0.2274 - test_loss: 0.158814\n",
      "Epoch: 291/390 - train_loss: 0.2599 - test_loss: 0.201936\n",
      "Epoch: 135/180 - train_loss: 0.2157 - test_loss: 0.164554\n",
      "Epoch: 122/490 - train_loss: 0.3973 - test_loss: 0.369205\n",
      "Epoch:  0/180 - train_loss: 0.7998 - test_loss: 0.695644\n",
      "Epoch: 139/140 - train_loss: 0.2101 - test_loss: 0.137699\n",
      "City: Bình Thuận  _algo:lstm  -RMSE: 5.7211487677163415\n",
      "City: Bình Thuận  _algo:lstm  -RMSE: 6.006352092289326\n"
     ]
    },
    {
     "name": "stderr",
     "output_type": "stream",
     "text": [
      "\u001b[32m[I 2023-02-07 12:45:43,663]\u001b[0m Trial 26 finished with value: 5.7211487677163415 and parameters: {'Epochs': 140, 'Hidden size': 84, 'n layers': 3, 'Learning rate': 0.0005219358890528578}. Best is trial 26 with value: 5.7211487677163415.\u001b[0m\n"
     ]
    },
    {
     "name": "stdout",
     "output_type": "stream",
     "text": [
      "City: Bình Thuận  _algo:lstm  -RMSE: 8.278353198346244\n"
     ]
    },
    {
     "name": "stderr",
     "output_type": "stream",
     "text": [
      "<ipython-input-14-8244d6fc4512>:11: FutureWarning: suggest_loguniform has been deprecated in v3.0.0. This feature will be removed in v6.0.0. See https://github.com/optuna/optuna/releases/tag/v3.0.0. Use :func:`~optuna.trial.Trial.suggest_float` instead.\n",
      "  learning_rate = trial.suggest_loguniform('Learning rate', 1e-4, 1e-2)\n"
     ]
    },
    {
     "name": "stdout",
     "output_type": "stream",
     "text": [
      "Epoch: 399/400 - train_loss: 0.1748 - test_loss: 0.137410\n",
      "Epoch:  0/380 - train_loss: 0.8587 - test_loss: 0.700879\n",
      "City: Bình Thuận  _algo:lstm  -RMSE: 6.254819308890609\n",
      "City: Bình Thuận  _algo:lstm  -RMSE: 6.128338199257043\n"
     ]
    },
    {
     "name": "stderr",
     "output_type": "stream",
     "text": [
      "\u001b[32m[I 2023-02-07 12:45:46,829]\u001b[0m Trial 22 finished with value: 6.254819308890609 and parameters: {'Epochs': 400, 'Hidden size': 72, 'n layers': 7, 'Learning rate': 0.0028104316901252876}. Best is trial 26 with value: 5.7211487677163415.\u001b[0m\n"
     ]
    },
    {
     "name": "stdout",
     "output_type": "stream",
     "text": [
      "City: Bình Thuận  _algo:lstm  -RMSE: 7.8904536167417145\n",
      "Epoch: 321/430 - train_loss: 0.1856 - test_loss: 0.113989\n",
      "Epoch: 67/270 - train_loss: 0.2434 - test_loss: 0.149545\n",
      "Epoch: 179/180 - train_loss: 0.1982 - test_loss: 0.120172\n",
      "City: Bình Thuận  _algo:lstm  -RMSE: 7.0264739786362505\n",
      "City: Bình Thuận  _algo:lstm  -RMSE: 8.252388796884654\n"
     ]
    },
    {
     "name": "stderr",
     "output_type": "stream",
     "text": [
      "\u001b[32m[I 2023-02-07 12:46:29,545]\u001b[0m Trial 9 finished with value: 7.0264739786362505 and parameters: {'Epochs': 230, 'Hidden size': 25, 'n layers': 10, 'Learning rate': 0.0005218622186424069}. Best is trial 26 with value: 5.7211487677163415.\u001b[0m\n"
     ]
    },
    {
     "name": "stdout",
     "output_type": "stream",
     "text": [
      "City: Bình Thuận  _algo:lstm  -RMSE: 9.878608733782116\n",
      "Epoch: 45/180 - train_loss: 0.6506 - test_loss: 0.624875\n",
      "Epoch: 388/390 - train_loss: 0.2260 - test_loss: 0.156079\n",
      "Epoch: 389/390 - train_loss: 0.2278 - test_loss: 0.153634\n",
      "City: Bình Thuận  _algo:lstm  -RMSE: 12.41927765026136\n",
      "City: Bình Thuận  _algo:lstm  -RMSE: 13.619954595239953\n"
     ]
    },
    {
     "name": "stderr",
     "output_type": "stream",
     "text": [
      "\u001b[32m[I 2023-02-07 12:46:46,495]\u001b[0m Trial 21 finished with value: 12.41927765026136 and parameters: {'Epochs': 390, 'Hidden size': 14, 'n layers': 10, 'Learning rate': 0.0001537249797641759}. Best is trial 26 with value: 5.7211487677163415.\u001b[0m\n"
     ]
    },
    {
     "name": "stdout",
     "output_type": "stream",
     "text": [
      "City: Bình Thuận  _algo:lstm  -RMSE: 14.406192101455717\n",
      "Epoch:  0/180 - train_loss: 0.9246 - test_loss: 0.722078\n",
      "Epoch: 134/270 - train_loss: 0.1958 - test_loss: 0.100475\n",
      "Epoch: 244/490 - train_loss: 0.2574 - test_loss: 0.178907\n",
      "Epoch: 90/180 - train_loss: 0.5802 - test_loss: 0.549388\n",
      "Epoch: 45/180 - train_loss: 0.2835 - test_loss: 0.211799\n",
      "Epoch: 95/380 - train_loss: 0.2188 - test_loss: 0.143954\n",
      "Epoch: 428/430 - train_loss: 0.1511 - test_loss: 0.106652\n",
      "Epoch: 429/430 - train_loss: 0.1542 - test_loss: 0.100258\n",
      "City: Bình Thuận  _algo:lstm  -RMSE: 6.753034867228372\n",
      "City: Bình Thuận  _algo:lstm  -RMSE: 6.617238322037483\n"
     ]
    },
    {
     "name": "stderr",
     "output_type": "stream",
     "text": [
      "\u001b[32m[I 2023-02-07 12:47:42,138]\u001b[0m Trial 23 finished with value: 6.753034867228372 and parameters: {'Epochs': 430, 'Hidden size': 9, 'n layers': 9, 'Learning rate': 0.00226868212207777}. Best is trial 26 with value: 5.7211487677163415.\u001b[0m\n"
     ]
    },
    {
     "name": "stdout",
     "output_type": "stream",
     "text": [
      "City: Bình Thuận  _algo:lstm  -RMSE: 7.781216567097073\n",
      "Epoch:  0/180 - train_loss: 1.1021 - test_loss: 0.776578\n",
      "Epoch: 135/180 - train_loss: 0.5193 - test_loss: 0.485595\n",
      "Epoch: 45/180 - train_loss: 0.6231 - test_loss: 0.607913\n",
      "Epoch: 201/270 - train_loss: 0.1736 - test_loss: 0.110722\n",
      "Epoch: 90/180 - train_loss: 0.2051 - test_loss: 0.118494\n",
      "Epoch:  0/180 - train_loss: 0.8813 - test_loss: 0.681813\n",
      "Epoch: 179/180 - train_loss: 0.4632 - test_loss: 0.428044\n",
      "City: Bình Thuận  _algo:lstm  -RMSE: 11.119314551639901\n",
      "City: Bình Thuận  _algo:lstm  -RMSE: 11.994885683096372\n"
     ]
    },
    {
     "name": "stderr",
     "output_type": "stream",
     "text": [
      "\u001b[32m[I 2023-02-07 12:48:46,010]\u001b[0m Trial 18 finished with value: 11.119314551639901 and parameters: {'Epochs': 450, 'Hidden size': 80, 'n layers': 5, 'Learning rate': 0.00010160609226123381}. Best is trial 26 with value: 5.7211487677163415.\u001b[0m\n"
     ]
    },
    {
     "name": "stdout",
     "output_type": "stream",
     "text": [
      "City: Bình Thuận  _algo:lstm  -RMSE: 13.02590352880172\n",
      "Epoch: 190/380 - train_loss: 0.1831 - test_loss: 0.114126\n",
      "Epoch: 135/180 - train_loss: 0.1868 - test_loss: 0.114415\n",
      "Epoch: 90/180 - train_loss: 0.4988 - test_loss: 0.466345\n",
      "Epoch: 366/490 - train_loss: 0.2563 - test_loss: 0.155682\n",
      "Epoch: 45/180 - train_loss: 0.3075 - test_loss: 0.254477\n",
      "Epoch: 268/270 - train_loss: 0.1486 - test_loss: 0.093475\n",
      "Epoch: 269/270 - train_loss: 0.1532 - test_loss: 0.095818\n",
      "City: Bình Thuận  _algo:lstm  -RMSE: 8.407639526792096\n",
      "City: Bình Thuận  _algo:lstm  -RMSE: 6.325117619474888\n"
     ]
    },
    {
     "name": "stderr",
     "output_type": "stream",
     "text": [
      "\u001b[32m[I 2023-02-07 12:49:21,509]\u001b[0m Trial 28 finished with value: 8.407639526792096 and parameters: {'Epochs': 270, 'Hidden size': 75, 'n layers': 9, 'Learning rate': 0.0009791734134306966}. Best is trial 26 with value: 5.7211487677163415.\u001b[0m\n"
     ]
    },
    {
     "name": "stdout",
     "output_type": "stream",
     "text": [
      "City: Bình Thuận  _algo:lstm  -RMSE: 8.154688049077677\n",
      "Epoch:  0/180 - train_loss: 0.9465 - test_loss: 0.756873\n",
      "Epoch: 179/180 - train_loss: 0.1798 - test_loss: 0.116706\n",
      "City: Bình Thuận  _algo:lstm  -RMSE: 8.983201114698709\n",
      "City: Bình Thuận  _algo:lstm  -RMSE: 6.815191893888284\n"
     ]
    },
    {
     "name": "stderr",
     "output_type": "stream",
     "text": [
      "\u001b[32m[I 2023-02-07 12:49:38,835]\u001b[0m Trial 13 finished with value: 8.983201114698709 and parameters: {'Epochs': 480, 'Hidden size': 47, 'n layers': 6, 'Learning rate': 0.0009368724015993893}. Best is trial 26 with value: 5.7211487677163415.\u001b[0m\n"
     ]
    },
    {
     "name": "stdout",
     "output_type": "stream",
     "text": [
      "City: Bình Thuận  _algo:lstm  -RMSE: 9.610086396734307\n",
      "Epoch:  0/180 - train_loss: 0.9055 - test_loss: 0.683384\n",
      "Epoch: 45/180 - train_loss: 0.2157 - test_loss: 0.118426\n",
      "Epoch: 135/180 - train_loss: 0.4085 - test_loss: 0.369682\n",
      "Epoch: 90/180 - train_loss: 0.2392 - test_loss: 0.139751\n",
      "Epoch: 285/380 - train_loss: 0.1618 - test_loss: 0.117875\n",
      "Epoch: 45/180 - train_loss: 0.2669 - test_loss: 0.185795\n",
      "Epoch: 90/180 - train_loss: 0.1891 - test_loss: 0.109530\n",
      "Epoch: 179/180 - train_loss: 0.3431 - test_loss: 0.296051\n",
      "City: Bình Thuận  _algo:lstm  -RMSE: 14.039829179901183\n",
      "City: Bình Thuận  _algo:lstm  -RMSE: 14.759851819095593\n"
     ]
    },
    {
     "name": "stderr",
     "output_type": "stream",
     "text": [
      "\u001b[32m[I 2023-02-07 12:50:43,542]\u001b[0m Trial 11 finished with value: 14.039829179901183 and parameters: {'Epochs': 300, 'Hidden size': 14, 'n layers': 9, 'Learning rate': 0.00017722924896554574}. Best is trial 26 with value: 5.7211487677163415.\u001b[0m\n"
     ]
    },
    {
     "name": "stdout",
     "output_type": "stream",
     "text": [
      "City: Bình Thuận  _algo:lstm  -RMSE: 15.184734352091713\n",
      "Epoch:  0/180 - train_loss: 0.7530 - test_loss: 0.600391\n",
      "Epoch: 135/180 - train_loss: 0.2237 - test_loss: 0.144563\n",
      "Epoch: 488/490 - train_loss: 0.2491 - test_loss: 0.155771\n",
      "Epoch: 489/490 - train_loss: 0.2480 - test_loss: 0.154483\n",
      "City: Bình Thuận  _algo:lstm  -RMSE: 13.384634299338291\n",
      "City: Bình Thuận  _algo:lstm  -RMSE: 14.900666639305655\n"
     ]
    },
    {
     "name": "stderr",
     "output_type": "stream",
     "text": [
      "\u001b[32m[I 2023-02-07 12:51:04,183]\u001b[0m Trial 27 finished with value: 13.384634299338291 and parameters: {'Epochs': 490, 'Hidden size': 5, 'n layers': 8, 'Learning rate': 0.00022857967387716885}. Best is trial 26 with value: 5.7211487677163415.\u001b[0m\n"
     ]
    },
    {
     "name": "stdout",
     "output_type": "stream",
     "text": [
      "City: Bình Thuận  _algo:lstm  -RMSE: 14.494102094957581\n",
      "Epoch:  0/180 - train_loss: 0.8459 - test_loss: 0.783744\n",
      "Epoch: 45/180 - train_loss: 0.6214 - test_loss: 0.591748\n",
      "Epoch: 135/180 - train_loss: 0.1809 - test_loss: 0.121817\n",
      "Epoch: 90/180 - train_loss: 0.2003 - test_loss: 0.120294\n",
      "Epoch: 379/380 - train_loss: 0.1187 - test_loss: 0.100094\n",
      "City: Bình Thuận  _algo:lstm  -RMSE: 8.737893543279274\n",
      "City: Bình Thuận  _algo:lstm  -RMSE: 9.850368047421936\n"
     ]
    },
    {
     "name": "stderr",
     "output_type": "stream",
     "text": [
      "\u001b[32m[I 2023-02-07 12:51:28,911]\u001b[0m Trial 29 finished with value: 8.737893543279274 and parameters: {'Epochs': 380, 'Hidden size': 61, 'n layers': 6, 'Learning rate': 0.0006111295367539616}. Best is trial 26 with value: 5.7211487677163415.\u001b[0m\n"
     ]
    },
    {
     "name": "stdout",
     "output_type": "stream",
     "text": [
      "City: Bình Thuận  _algo:lstm  -RMSE: 8.421862423607495\n",
      "Epoch:  0/180 - train_loss: 0.9033 - test_loss: 0.679721\n",
      "Epoch: 179/180 - train_loss: 0.2095 - test_loss: 0.103008\n",
      "City: Bình Thuận  _algo:lstm  -RMSE: 6.140499314541506\n",
      "City: Bình Thuận  _algo:lstm  -RMSE: 7.055133758578184\n"
     ]
    },
    {
     "name": "stderr",
     "output_type": "stream",
     "text": [
      "\u001b[32m[I 2023-02-07 12:51:47,544]\u001b[0m Trial 8 finished with value: 6.140499314541506 and parameters: {'Epochs': 170, 'Hidden size': 41, 'n layers': 10, 'Learning rate': 0.0008257462434523873}. Best is trial 26 with value: 5.7211487677163415.\u001b[0m\n"
     ]
    },
    {
     "name": "stdout",
     "output_type": "stream",
     "text": [
      "Epoch: 45/180 - train_loss: 0.2501 - test_loss: 0.162508\n",
      "City: Bình Thuận  _algo:lstm  -RMSE: 9.078561930535137\n",
      "Epoch:  0/180 - train_loss: 1.1048 - test_loss: 0.860523\n",
      "Epoch: 179/180 - train_loss: 0.1985 - test_loss: 0.190153\n",
      "City: Bình Thuận  _algo:lstm  -RMSE: 6.515551981269698\n",
      "City: Bình Thuận  _algo:lstm  -RMSE: 6.2527332399622235\n"
     ]
    },
    {
     "name": "stderr",
     "output_type": "stream",
     "text": [
      "\u001b[32m[I 2023-02-07 12:51:54,165]\u001b[0m Trial 12 finished with value: 6.515551981269698 and parameters: {'Epochs': 190, 'Hidden size': 11, 'n layers': 5, 'Learning rate': 0.004038335116972358}. Best is trial 26 with value: 5.7211487677163415.\u001b[0m\n"
     ]
    },
    {
     "name": "stdout",
     "output_type": "stream",
     "text": [
      "City: Bình Thuận  _algo:lstm  -RMSE: 9.084463553803639\n",
      "Epoch: 90/180 - train_loss: 0.5311 - test_loss: 0.498206\n",
      "Epoch:  0/180 - train_loss: 1.1225 - test_loss: 0.866749\n",
      "Epoch: 45/180 - train_loss: 0.2049 - test_loss: 0.102817\n",
      "Epoch: 135/180 - train_loss: 0.1821 - test_loss: 0.097843\n",
      "Epoch: 45/180 - train_loss: 0.2435 - test_loss: 0.176214\n",
      "Epoch: 90/180 - train_loss: 0.2442 - test_loss: 0.154450\n",
      "Epoch: 135/180 - train_loss: 0.4516 - test_loss: 0.415758\n",
      "Epoch: 45/180 - train_loss: 0.2272 - test_loss: 0.165709\n",
      "Epoch: 90/180 - train_loss: 0.2018 - test_loss: 0.111997\n",
      "Epoch: 179/180 - train_loss: 0.1679 - test_loss: 0.124038\n",
      "City: Bình Thuận  _algo:lstm  -RMSE: 6.465322248075647\n",
      "City: Bình Thuận  _algo:lstm  -RMSE: 6.126612170539444\n"
     ]
    },
    {
     "name": "stderr",
     "output_type": "stream",
     "text": [
      "\u001b[32m[I 2023-02-07 12:52:54,380]\u001b[0m Trial 0 finished with value: 6.465322248075647 and parameters: {'Epochs': 210, 'Hidden size': 106, 'n layers': 9, 'Learning rate': 0.001139574364830533}. Best is trial 26 with value: 5.7211487677163415.\u001b[0m\n"
     ]
    },
    {
     "name": "stdout",
     "output_type": "stream",
     "text": [
      "City: Bình Thuận  _algo:lstm  -RMSE: 6.124512538166098\n",
      "Epoch: 135/180 - train_loss: 0.2305 - test_loss: 0.127497\n",
      "Epoch: 45/180 - train_loss: 0.5974 - test_loss: 0.577478\n",
      "Epoch: 90/180 - train_loss: 0.2522 - test_loss: 0.162073\n",
      "Epoch: 135/180 - train_loss: 0.1826 - test_loss: 0.123277\n",
      "Epoch: 179/180 - train_loss: 0.3845 - test_loss: 0.343333\n",
      "City: Bình Thuận  _algo:lstm  -RMSE: 11.40929775792557\n",
      "City: Bình Thuận  _algo:lstm  -RMSE: 12.691133531872012\n"
     ]
    },
    {
     "name": "stderr",
     "output_type": "stream",
     "text": [
      "\u001b[32m[I 2023-02-07 12:53:22,965]\u001b[0m Trial 5 finished with value: 11.40929775792557 and parameters: {'Epochs': 230, 'Hidden size': 99, 'n layers': 8, 'Learning rate': 0.0001438862009789295}. Best is trial 26 with value: 5.7211487677163415.\u001b[0m\n"
     ]
    },
    {
     "name": "stdout",
     "output_type": "stream",
     "text": [
      "City: Bình Thuận  _algo:lstm  -RMSE: 13.375627840743574\n",
      "Epoch: 90/180 - train_loss: 0.2081 - test_loss: 0.112367\n",
      "Epoch: 179/180 - train_loss: 0.1101 - test_loss: 0.119250\n",
      "City: Bình Thuận  _algo:lstm  -RMSE: 7.4591527793472885\n",
      "City: Bình Thuận  _algo:lstm  -RMSE: 6.9447642253312605\n"
     ]
    },
    {
     "name": "stderr",
     "output_type": "stream",
     "text": [
      "\u001b[32m[I 2023-02-07 12:53:48,816]\u001b[0m Trial 10 finished with value: 7.4591527793472885 and parameters: {'Epochs': 240, 'Hidden size': 76, 'n layers': 5, 'Learning rate': 0.006177061203696331}. Best is trial 26 with value: 5.7211487677163415.\u001b[0m\n"
     ]
    },
    {
     "name": "stdout",
     "output_type": "stream",
     "text": [
      "City: Bình Thuận  _algo:lstm  -RMSE: 9.34812856143591\n",
      "Epoch: 135/180 - train_loss: 0.1793 - test_loss: 0.124406\n",
      "Epoch: 45/180 - train_loss: 0.5840 - test_loss: 0.553266\n",
      "Epoch: 179/180 - train_loss: 0.1936 - test_loss: 0.110170\n",
      "City: Bình Thuận  _algo:lstm  -RMSE: 7.130228080495922\n",
      "City: Bình Thuận  _algo:lstm  -RMSE: 6.7021596312173894\n"
     ]
    },
    {
     "name": "stderr",
     "output_type": "stream",
     "text": [
      "\u001b[32m[I 2023-02-07 12:53:55,924]\u001b[0m Trial 17 finished with value: 7.130228080495922 and parameters: {'Epochs': 290, 'Hidden size': 23, 'n layers': 9, 'Learning rate': 0.002044060637988659}. Best is trial 26 with value: 5.7211487677163415.\u001b[0m\n"
     ]
    },
    {
     "name": "stdout",
     "output_type": "stream",
     "text": [
      "City: Bình Thuận  _algo:lstm  -RMSE: 8.247873059580625\n",
      "Epoch: 135/180 - train_loss: 0.2541 - test_loss: 0.143043\n",
      "Epoch: 90/180 - train_loss: 0.4757 - test_loss: 0.438706\n",
      "Epoch: 179/180 - train_loss: 0.1564 - test_loss: 0.117306\n",
      "City: Bình Thuận  _algo:lstm  -RMSE: 6.776619718603206\n",
      "City: Bình Thuận  _algo:lstm  -RMSE: 5.453881878810423\n"
     ]
    },
    {
     "name": "stderr",
     "output_type": "stream",
     "text": [
      "\u001b[32m[I 2023-02-07 12:54:13,063]\u001b[0m Trial 15 finished with value: 6.776619718603206 and parameters: {'Epochs': 150, 'Hidden size': 97, 'n layers': 4, 'Learning rate': 0.0011607606883651336}. Best is trial 26 with value: 5.7211487677163415.\u001b[0m\n"
     ]
    },
    {
     "name": "stdout",
     "output_type": "stream",
     "text": [
      "City: Bình Thuận  _algo:lstm  -RMSE: 8.931345465066508\n",
      "Epoch: 90/180 - train_loss: 0.4720 - test_loss: 0.432677\n",
      "Epoch: 179/180 - train_loss: 0.3160 - test_loss: 0.262622\n",
      "City: Bình Thuận  _algo:lstm  -RMSE: 9.775779628052678\n",
      "City: Bình Thuận  _algo:lstm  -RMSE: 10.536092223134942\n"
     ]
    },
    {
     "name": "stderr",
     "output_type": "stream",
     "text": [
      "\u001b[32m[I 2023-02-07 12:54:26,273]\u001b[0m Trial 1 finished with value: 9.775779628052678 and parameters: {'Epochs': 380, 'Hidden size': 67, 'n layers': 10, 'Learning rate': 0.0028287943101204267}. Best is trial 26 with value: 5.7211487677163415.\u001b[0m\n"
     ]
    },
    {
     "name": "stdout",
     "output_type": "stream",
     "text": [
      "City: Bình Thuận  _algo:lstm  -RMSE: 10.89008398462964\n",
      "Epoch: 135/180 - train_loss: 0.3864 - test_loss: 0.343331\n",
      "Epoch: 135/180 - train_loss: 0.3822 - test_loss: 0.336144\n",
      "Epoch: 179/180 - train_loss: 0.3145 - test_loss: 0.265088\n",
      "City: Bình Thuận  _algo:lstm  -RMSE: 9.694680024087813\n",
      "City: Bình Thuận  _algo:lstm  -RMSE: 10.849463030078509\n"
     ]
    },
    {
     "name": "stderr",
     "output_type": "stream",
     "text": [
      "\u001b[32m[I 2023-02-07 12:54:42,049]\u001b[0m Trial 2 finished with value: 9.694680024087813 and parameters: {'Epochs': 380, 'Hidden size': 39, 'n layers': 10, 'Learning rate': 0.00018196496604292153}. Best is trial 26 with value: 5.7211487677163415.\u001b[0m\n"
     ]
    },
    {
     "name": "stdout",
     "output_type": "stream",
     "text": [
      "City: Bình Thuận  _algo:lstm  -RMSE: 11.474484829428674\n",
      "Epoch: 179/180 - train_loss: 0.3170 - test_loss: 0.263066\n",
      "City: Bình Thuận  _algo:lstm  -RMSE: 10.607043707393805\n",
      "City: Bình Thuận  _algo:lstm  -RMSE: 12.010594529219071\n"
     ]
    },
    {
     "name": "stderr",
     "output_type": "stream",
     "text": [
      "\u001b[32m[I 2023-02-07 12:54:42,559]\u001b[0m Trial 19 finished with value: 10.607043707393805 and parameters: {'Epochs': 180, 'Hidden size': 34, 'n layers': 5, 'Learning rate': 0.0001864598050876321}. Best is trial 26 with value: 5.7211487677163415.\u001b[0m\n",
      "\u001b[32m[I 2023-02-07 12:54:42,599]\u001b[0m A new study created in memory with name: no-name-a3d2e264-1d4e-495c-a992-31ef1ac63f81\u001b[0m\n"
     ]
    },
    {
     "name": "stdout",
     "output_type": "stream",
     "text": [
      "City: Bình Thuận  _algo:lstm  -RMSE: 12.546192196653552\n",
      "Study statistics for : \n",
      "  Number of finished trials:  30\n",
      "Best trial of city:  Bình Thuận\n",
      "  Value:  5.7211487677163415\n"
     ]
    },
    {
     "name": "stderr",
     "output_type": "stream",
     "text": [
      "<ipython-input-14-8244d6fc4512>:11: FutureWarning: suggest_loguniform has been deprecated in v3.0.0. This feature will be removed in v6.0.0. See https://github.com/optuna/optuna/releases/tag/v3.0.0. Use :func:`~optuna.trial.Trial.suggest_float` instead.\n",
      "  learning_rate = trial.suggest_loguniform('Learning rate', 1e-4, 1e-2)\n"
     ]
    },
    {
     "name": "stdout",
     "output_type": "stream",
     "text": [
      "Epoch:  0/250 - train_loss: 0.7264 - test_loss: 0.544243\n",
      "Epoch:  0/250 - train_loss: 0.8929 - test_loss: 0.686836\n",
      "Epoch:  0/250 - train_loss: 1.1716 - test_loss: 0.949724\n",
      "Epoch:  0/250 - train_loss: 0.8858 - test_loss: 0.706144\n",
      "Epoch:  0/250 - train_loss: 1.0213 - test_loss: 0.790184\n",
      "Epoch:  0/250 - train_loss: 0.9929 - test_loss: 0.767686\n",
      "Epoch:  0/250 - train_loss: 0.7681 - test_loss: 0.745126\n",
      "Epoch:  0/250 - train_loss: 0.7460 - test_loss: 0.688526\n",
      "Epoch: 62/250 - train_loss: 0.1910 - test_loss: 0.112886\n",
      "Epoch: 62/250 - train_loss: 0.2156 - test_loss: 0.108733\n",
      "Epoch: 62/250 - train_loss: 0.2959 - test_loss: 0.233503\n",
      "Epoch: 62/250 - train_loss: 0.2206 - test_loss: 0.146328\n",
      "Epoch: 62/250 - train_loss: 0.5151 - test_loss: 0.480122\n",
      "Epoch: 124/250 - train_loss: 0.1269 - test_loss: 0.140018\n",
      "Epoch: 124/250 - train_loss: 0.2069 - test_loss: 0.111522\n",
      "Epoch: 62/250 - train_loss: 0.2805 - test_loss: 0.222323\n",
      "Epoch: 124/250 - train_loss: 0.2356 - test_loss: 0.138793\n",
      "Epoch: 186/250 - train_loss: 0.0559 - test_loss: 0.225898\n",
      "Epoch: 186/250 - train_loss: 0.2080 - test_loss: 0.114758\n",
      "Epoch: 124/250 - train_loss: 0.2140 - test_loss: 0.111287\n",
      "Epoch: 124/250 - train_loss: 0.3664 - test_loss: 0.319185\n",
      "Epoch: 186/250 - train_loss: 0.2195 - test_loss: 0.120380\n",
      "Epoch: 248/250 - train_loss: 0.0260 - test_loss: 0.356057\n",
      "Epoch: 249/250 - train_loss: 0.0271 - test_loss: 0.370098\n",
      "City: Bình Thuận  _algo:lstm  -RMSE: 7.877988431369123\n",
      "City: Bình Thuận  _algo:lstm  -RMSE: 7.871541198207569\n"
     ]
    },
    {
     "name": "stderr",
     "output_type": "stream",
     "text": [
      "\u001b[32m[I 2023-02-07 12:56:45,303]\u001b[0m Trial 16 finished with value: 7.877988431369123 and parameters: {'Epochs': 300, 'Hidden size': 45, 'n layers': 3, 'Learning rate': 0.009669523819022936}. Best is trial 16 with value: 7.877988431369123.\u001b[0m\n"
     ]
    },
    {
     "name": "stdout",
     "output_type": "stream",
     "text": [
      "City: Bình Thuận  _algo:lstm  -RMSE: 8.000664456637535\n"
     ]
    },
    {
     "name": "stderr",
     "output_type": "stream",
     "text": [
      "<ipython-input-14-8244d6fc4512>:11: FutureWarning: suggest_loguniform has been deprecated in v3.0.0. This feature will be removed in v6.0.0. See https://github.com/optuna/optuna/releases/tag/v3.0.0. Use :func:`~optuna.trial.Trial.suggest_float` instead.\n",
      "  learning_rate = trial.suggest_loguniform('Learning rate', 1e-4, 1e-2)\n"
     ]
    },
    {
     "name": "stdout",
     "output_type": "stream",
     "text": [
      "Epoch:  0/160 - train_loss: 0.8728 - test_loss: 0.777946\n",
      "Epoch: 248/250 - train_loss: 0.2021 - test_loss: 0.102740\n",
      "Epoch: 249/250 - train_loss: 0.1993 - test_loss: 0.110496\n",
      "City: Bình Thuận  _algo:lstm  -RMSE: 6.4227596521065635\n",
      "City: Bình Thuận  _algo:lstm  -RMSE: 6.776204418245051\n"
     ]
    },
    {
     "name": "stderr",
     "output_type": "stream",
     "text": [
      "\u001b[32m[I 2023-02-07 12:56:52,885]\u001b[0m Trial 11 finished with value: 6.4227596521065635 and parameters: {'Epochs': 400, 'Hidden size': 8, 'n layers': 3, 'Learning rate': 0.002281821598665956}. Best is trial 11 with value: 6.4227596521065635.\u001b[0m\n"
     ]
    },
    {
     "name": "stdout",
     "output_type": "stream",
     "text": [
      "City: Bình Thuận  _algo:lstm  -RMSE: 8.650330362511237\n"
     ]
    },
    {
     "name": "stderr",
     "output_type": "stream",
     "text": [
      "<ipython-input-14-8244d6fc4512>:11: FutureWarning: suggest_loguniform has been deprecated in v3.0.0. This feature will be removed in v6.0.0. See https://github.com/optuna/optuna/releases/tag/v3.0.0. Use :func:`~optuna.trial.Trial.suggest_float` instead.\n",
      "  learning_rate = trial.suggest_loguniform('Learning rate', 1e-4, 1e-2)\n"
     ]
    },
    {
     "name": "stdout",
     "output_type": "stream",
     "text": [
      "Epoch:  0/490 - train_loss: 0.9556 - test_loss: 0.731027\n",
      "Epoch:  0/250 - train_loss: 0.9918 - test_loss: 0.779705\n",
      "Epoch: 124/250 - train_loss: 0.2179 - test_loss: 0.115026\n",
      "Epoch: 248/250 - train_loss: 0.2111 - test_loss: 0.116404\n",
      "Epoch: 249/250 - train_loss: 0.2118 - test_loss: 0.113718\n",
      "City: Bình Thuận  _algo:lstm  -RMSE: 6.682428795118935\n",
      "City: Bình Thuận  _algo:lstm  -RMSE: 8.155979604017562\n",
      "Epoch: 40/160 - train_loss: 0.2328 - test_loss: 0.140450\n"
     ]
    },
    {
     "name": "stderr",
     "output_type": "stream",
     "text": [
      "\u001b[32m[I 2023-02-07 12:57:16,752]\u001b[0m Trial 5 finished with value: 6.682428795118935 and parameters: {'Epochs': 390, 'Hidden size': 5, 'n layers': 4, 'Learning rate': 0.0006086921501746246}. Best is trial 11 with value: 6.4227596521065635.\u001b[0m\n"
     ]
    },
    {
     "name": "stdout",
     "output_type": "stream",
     "text": [
      "City: Bình Thuận  _algo:lstm  -RMSE: 10.478162347216927\n"
     ]
    },
    {
     "name": "stderr",
     "output_type": "stream",
     "text": [
      "<ipython-input-14-8244d6fc4512>:11: FutureWarning: suggest_loguniform has been deprecated in v3.0.0. This feature will be removed in v6.0.0. See https://github.com/optuna/optuna/releases/tag/v3.0.0. Use :func:`~optuna.trial.Trial.suggest_float` instead.\n",
      "  learning_rate = trial.suggest_loguniform('Learning rate', 1e-4, 1e-2)\n"
     ]
    },
    {
     "name": "stdout",
     "output_type": "stream",
     "text": [
      "Epoch:  0/370 - train_loss: 0.7810 - test_loss: 0.657258\n",
      "Epoch: 186/250 - train_loss: 0.2423 - test_loss: 0.127098\n",
      "Epoch: 62/250 - train_loss: 0.2031 - test_loss: 0.111666\n",
      "Epoch: 186/250 - train_loss: 0.2665 - test_loss: 0.203897\n",
      "Epoch: 80/160 - train_loss: 0.2041 - test_loss: 0.110714\n",
      "Epoch: 248/250 - train_loss: 0.1491 - test_loss: 0.121268\n",
      "Epoch: 249/250 - train_loss: 0.1525 - test_loss: 0.107630\n",
      "City: Bình Thuận  _algo:lstm  -RMSE: 8.090387934146028\n",
      "City: Bình Thuận  _algo:lstm  -RMSE: 8.180651036966161\n"
     ]
    },
    {
     "name": "stderr",
     "output_type": "stream",
     "text": [
      "\u001b[32m[I 2023-02-07 12:58:17,110]\u001b[0m Trial 4 finished with value: 8.090387934146028 and parameters: {'Epochs': 500, 'Hidden size': 31, 'n layers': 7, 'Learning rate': 0.006624181995672307}. Best is trial 11 with value: 6.4227596521065635.\u001b[0m\n"
     ]
    },
    {
     "name": "stdout",
     "output_type": "stream",
     "text": [
      "City: Bình Thuận  _algo:lstm  -RMSE: 8.72383230800778\n"
     ]
    },
    {
     "name": "stderr",
     "output_type": "stream",
     "text": [
      "<ipython-input-14-8244d6fc4512>:11: FutureWarning: suggest_loguniform has been deprecated in v3.0.0. This feature will be removed in v6.0.0. See https://github.com/optuna/optuna/releases/tag/v3.0.0. Use :func:`~optuna.trial.Trial.suggest_float` instead.\n",
      "  learning_rate = trial.suggest_loguniform('Learning rate', 1e-4, 1e-2)\n"
     ]
    },
    {
     "name": "stdout",
     "output_type": "stream",
     "text": [
      "Epoch: 120/160 - train_loss: 0.2035 - test_loss: 0.124146\n",
      "Epoch: 92/370 - train_loss: 0.1853 - test_loss: 0.103606\n",
      "Epoch:  0/240 - train_loss: 1.1638 - test_loss: 0.922698\n",
      "Epoch: 186/250 - train_loss: 0.2063 - test_loss: 0.115836\n",
      "Epoch: 122/490 - train_loss: 0.2122 - test_loss: 0.119152\n",
      "Epoch: 248/250 - train_loss: 0.2195 - test_loss: 0.157376\n",
      "Epoch: 249/250 - train_loss: 0.2188 - test_loss: 0.137120\n",
      "City: Bình Thuận  _algo:lstm  -RMSE: 6.339850500196881\n",
      "City: Bình Thuận  _algo:lstm  -RMSE: 7.026131758709814\n"
     ]
    },
    {
     "name": "stderr",
     "output_type": "stream",
     "text": [
      "\u001b[32m[I 2023-02-07 12:58:30,764]\u001b[0m Trial 14 finished with value: 6.339850500196881 and parameters: {'Epochs': 220, 'Hidden size': 127, 'n layers': 6, 'Learning rate': 0.00022545972133290572}. Best is trial 14 with value: 6.339850500196881.\u001b[0m\n"
     ]
    },
    {
     "name": "stdout",
     "output_type": "stream",
     "text": [
      "City: Bình Thuận  _algo:lstm  -RMSE: 9.323294848743549\n"
     ]
    },
    {
     "name": "stderr",
     "output_type": "stream",
     "text": [
      "<ipython-input-14-8244d6fc4512>:11: FutureWarning: suggest_loguniform has been deprecated in v3.0.0. This feature will be removed in v6.0.0. See https://github.com/optuna/optuna/releases/tag/v3.0.0. Use :func:`~optuna.trial.Trial.suggest_float` instead.\n",
      "  learning_rate = trial.suggest_loguniform('Learning rate', 1e-4, 1e-2)\n"
     ]
    },
    {
     "name": "stdout",
     "output_type": "stream",
     "text": [
      "Epoch:  0/160 - train_loss: 0.8380 - test_loss: 0.676141\n",
      "Epoch: 159/160 - train_loss: 0.1894 - test_loss: 0.107084\n",
      "City: Bình Thuận  _algo:lstm  -RMSE: 6.910162010048397\n",
      "City: Bình Thuận  _algo:lstm  -RMSE: 6.914795071484857\n"
     ]
    },
    {
     "name": "stderr",
     "output_type": "stream",
     "text": [
      "\u001b[32m[I 2023-02-07 12:58:48,411]\u001b[0m Trial 20 finished with value: 6.910162010048397 and parameters: {'Epochs': 160, 'Hidden size': 138, 'n layers': 7, 'Learning rate': 0.0014338314504176988}. Best is trial 14 with value: 6.339850500196881.\u001b[0m\n"
     ]
    },
    {
     "name": "stdout",
     "output_type": "stream",
     "text": [
      "City: Bình Thuận  _algo:lstm  -RMSE: 8.348869336034419\n"
     ]
    },
    {
     "name": "stderr",
     "output_type": "stream",
     "text": [
      "<ipython-input-14-8244d6fc4512>:11: FutureWarning: suggest_loguniform has been deprecated in v3.0.0. This feature will be removed in v6.0.0. See https://github.com/optuna/optuna/releases/tag/v3.0.0. Use :func:`~optuna.trial.Trial.suggest_float` instead.\n",
      "  learning_rate = trial.suggest_loguniform('Learning rate', 1e-4, 1e-2)\n"
     ]
    },
    {
     "name": "stdout",
     "output_type": "stream",
     "text": [
      "Epoch:  0/430 - train_loss: 0.7285 - test_loss: 0.670845\n",
      "Epoch: 40/160 - train_loss: 0.2436 - test_loss: 0.158229\n",
      "Epoch: 60/240 - train_loss: 0.4059 - test_loss: 0.382930\n",
      "Epoch: 184/370 - train_loss: 0.0942 - test_loss: 0.130513\n",
      "Epoch: 80/160 - train_loss: 0.2081 - test_loss: 0.117150\n",
      "Epoch: 248/250 - train_loss: 0.2010 - test_loss: 0.111297\n",
      "Epoch: 249/250 - train_loss: 0.2030 - test_loss: 0.106444\n",
      "City: Bình Thuận  _algo:lstm  -RMSE: 6.5504088604887425\n",
      "City: Bình Thuận  _algo:lstm  -RMSE: 7.8301703273086805\n"
     ]
    },
    {
     "name": "stderr",
     "output_type": "stream",
     "text": [
      "\u001b[32m[I 2023-02-07 12:59:37,211]\u001b[0m Trial 19 finished with value: 6.5504088604887425 and parameters: {'Epochs': 250, 'Hidden size': 40, 'n layers': 4, 'Learning rate': 0.0006683704205300983}. Best is trial 14 with value: 6.339850500196881.\u001b[0m\n"
     ]
    },
    {
     "name": "stdout",
     "output_type": "stream",
     "text": [
      "City: Bình Thuận  _algo:lstm  -RMSE: 10.503225786571782\n"
     ]
    },
    {
     "name": "stderr",
     "output_type": "stream",
     "text": [
      "<ipython-input-14-8244d6fc4512>:11: FutureWarning: suggest_loguniform has been deprecated in v3.0.0. This feature will be removed in v6.0.0. See https://github.com/optuna/optuna/releases/tag/v3.0.0. Use :func:`~optuna.trial.Trial.suggest_float` instead.\n",
      "  learning_rate = trial.suggest_loguniform('Learning rate', 1e-4, 1e-2)\n"
     ]
    },
    {
     "name": "stdout",
     "output_type": "stream",
     "text": [
      "Epoch:  0/450 - train_loss: 0.9905 - test_loss: 0.753312\n",
      "Epoch: 107/430 - train_loss: 0.1907 - test_loss: 0.115682\n",
      "Epoch: 244/490 - train_loss: 0.1805 - test_loss: 0.108972\n",
      "Epoch: 276/370 - train_loss: 0.0434 - test_loss: 0.237121\n",
      "Epoch: 120/240 - train_loss: 0.2573 - test_loss: 0.183880\n",
      "Epoch: 120/160 - train_loss: 0.2036 - test_loss: 0.107752\n",
      "Epoch: 159/160 - train_loss: 0.1974 - test_loss: 0.109575\n",
      "City: Bình Thuận  _algo:lstm  -RMSE: 6.943901781673788\n",
      "City: Bình Thuận  _algo:lstm  -RMSE: 6.82681533631997\n"
     ]
    },
    {
     "name": "stderr",
     "output_type": "stream",
     "text": [
      "\u001b[32m[I 2023-02-07 13:00:26,475]\u001b[0m Trial 24 finished with value: 6.943901781673788 and parameters: {'Epochs': 160, 'Hidden size': 25, 'n layers': 4, 'Learning rate': 0.0014226733736819883}. Best is trial 14 with value: 6.339850500196881.\u001b[0m\n"
     ]
    },
    {
     "name": "stdout",
     "output_type": "stream",
     "text": [
      "City: Bình Thuận  _algo:lstm  -RMSE: 9.08309880508639\n"
     ]
    },
    {
     "name": "stderr",
     "output_type": "stream",
     "text": [
      "<ipython-input-14-8244d6fc4512>:11: FutureWarning: suggest_loguniform has been deprecated in v3.0.0. This feature will be removed in v6.0.0. See https://github.com/optuna/optuna/releases/tag/v3.0.0. Use :func:`~optuna.trial.Trial.suggest_float` instead.\n",
      "  learning_rate = trial.suggest_loguniform('Learning rate', 1e-4, 1e-2)\n"
     ]
    },
    {
     "name": "stdout",
     "output_type": "stream",
     "text": [
      "Epoch:  0/170 - train_loss: 0.8066 - test_loss: 0.733566\n",
      "Epoch: 214/430 - train_loss: 0.1187 - test_loss: 0.135097\n",
      "Epoch: 368/370 - train_loss: 0.0161 - test_loss: 0.406531\n",
      "Epoch: 369/370 - train_loss: 0.0145 - test_loss: 0.365956\n",
      "City: Bình Thuận  _algo:lstm  -RMSE: 9.965920775707225\n",
      "City: Bình Thuận  _algo:lstm  -RMSE: 10.679794224301626\n"
     ]
    },
    {
     "name": "stderr",
     "output_type": "stream",
     "text": [
      "\u001b[32m[I 2023-02-07 13:00:42,437]\u001b[0m Trial 22 finished with value: 9.965920775707225 and parameters: {'Epochs': 370, 'Hidden size': 183, 'n layers': 4, 'Learning rate': 0.004797745531212999}. Best is trial 14 with value: 6.339850500196881.\u001b[0m\n"
     ]
    },
    {
     "name": "stdout",
     "output_type": "stream",
     "text": [
      "City: Bình Thuận  _algo:lstm  -RMSE: 10.732347799622504\n"
     ]
    },
    {
     "name": "stderr",
     "output_type": "stream",
     "text": [
      "<ipython-input-14-8244d6fc4512>:11: FutureWarning: suggest_loguniform has been deprecated in v3.0.0. This feature will be removed in v6.0.0. See https://github.com/optuna/optuna/releases/tag/v3.0.0. Use :func:`~optuna.trial.Trial.suggest_float` instead.\n",
      "  learning_rate = trial.suggest_loguniform('Learning rate', 1e-4, 1e-2)\n"
     ]
    },
    {
     "name": "stdout",
     "output_type": "stream",
     "text": [
      "Epoch:  0/190 - train_loss: 0.7620 - test_loss: 0.568482\n",
      "Epoch: 180/240 - train_loss: 0.2255 - test_loss: 0.138930\n",
      "Epoch: 42/170 - train_loss: 0.2140 - test_loss: 0.111837\n",
      "Epoch: 124/250 - train_loss: 0.1961 - test_loss: 0.102477\n",
      "Epoch: 47/190 - train_loss: 0.3262 - test_loss: 0.245583\n",
      "Epoch: 321/430 - train_loss: 0.0910 - test_loss: 0.135299\n",
      "Epoch: 366/490 - train_loss: 0.1686 - test_loss: 0.111181\n",
      "Epoch: 84/170 - train_loss: 0.2171 - test_loss: 0.102215\n",
      "Epoch: 239/240 - train_loss: 0.2131 - test_loss: 0.120043\n",
      "City: Bình Thuận  _algo:lstm  -RMSE: 7.741278322398232\n",
      "City: Bình Thuận  _algo:lstm  -RMSE: 9.875280313576308\n"
     ]
    },
    {
     "name": "stderr",
     "output_type": "stream",
     "text": [
      "\u001b[32m[I 2023-02-07 13:01:36,087]\u001b[0m Trial 23 finished with value: 7.741278322398232 and parameters: {'Epochs': 240, 'Hidden size': 9, 'n layers': 8, 'Learning rate': 0.0004045243131525378}. Best is trial 14 with value: 6.339850500196881.\u001b[0m\n"
     ]
    },
    {
     "name": "stdout",
     "output_type": "stream",
     "text": [
      "City: Bình Thuận  _algo:lstm  -RMSE: 11.767563143129186\n"
     ]
    },
    {
     "name": "stderr",
     "output_type": "stream",
     "text": [
      "<ipython-input-14-8244d6fc4512>:11: FutureWarning: suggest_loguniform has been deprecated in v3.0.0. This feature will be removed in v6.0.0. See https://github.com/optuna/optuna/releases/tag/v3.0.0. Use :func:`~optuna.trial.Trial.suggest_float` instead.\n",
      "  learning_rate = trial.suggest_loguniform('Learning rate', 1e-4, 1e-2)\n"
     ]
    },
    {
     "name": "stdout",
     "output_type": "stream",
     "text": [
      "Epoch:  0/130 - train_loss: 0.9234 - test_loss: 0.749377\n",
      "Epoch: 94/190 - train_loss: 0.3179 - test_loss: 0.288384\n",
      "Epoch: 126/170 - train_loss: 0.1780 - test_loss: 0.131453\n",
      "Epoch: 112/450 - train_loss: 0.2104 - test_loss: 0.134375\n",
      "Epoch: 428/430 - train_loss: 0.0670 - test_loss: 0.163348\n",
      "Epoch: 429/430 - train_loss: 0.0580 - test_loss: 0.152658\n",
      "City: Bình Thuận  _algo:lstm  -RMSE: 8.577008868352214\n",
      "City: Bình Thuận  _algo:lstm  -RMSE: 8.063818828508817\n"
     ]
    },
    {
     "name": "stderr",
     "output_type": "stream",
     "text": [
      "\u001b[32m[I 2023-02-07 13:02:04,749]\u001b[0m Trial 25 finished with value: 8.577008868352214 and parameters: {'Epochs': 430, 'Hidden size': 9, 'n layers': 4, 'Learning rate': 0.007154141134339996}. Best is trial 14 with value: 6.339850500196881.\u001b[0m\n"
     ]
    },
    {
     "name": "stdout",
     "output_type": "stream",
     "text": [
      "City: Bình Thuận  _algo:lstm  -RMSE: 9.967121612235113\n",
      "Epoch: 32/130 - train_loss: 0.6832 - test_loss: 0.669118\n",
      "Epoch: 141/190 - train_loss: 0.3177 - test_loss: 0.257138\n",
      "Epoch: 168/170 - train_loss: 0.1939 - test_loss: 0.104061\n",
      "Epoch: 169/170 - train_loss: 0.2192 - test_loss: 0.103736\n",
      "City: Bình Thuận  _algo:lstm  -RMSE: 7.864623286482147\n",
      "City: Bình Thuận  _algo:lstm  -RMSE: 7.466775896118495\n"
     ]
    },
    {
     "name": "stderr",
     "output_type": "stream",
     "text": [
      "\u001b[32m[I 2023-02-07 13:02:25,194]\u001b[0m Trial 27 finished with value: 7.864623286482147 and parameters: {'Epochs': 170, 'Hidden size': 40, 'n layers': 7, 'Learning rate': 0.002845551523980713}. Best is trial 14 with value: 6.339850500196881.\u001b[0m\n"
     ]
    },
    {
     "name": "stdout",
     "output_type": "stream",
     "text": [
      "City: Bình Thuận  _algo:lstm  -RMSE: 8.255938138029336\n",
      "Epoch: 64/130 - train_loss: 0.6106 - test_loss: 0.582044\n",
      "Epoch: 488/490 - train_loss: 0.1607 - test_loss: 0.099748\n",
      "Epoch: 489/490 - train_loss: 0.1559 - test_loss: 0.095805\n",
      "City: Bình Thuận  _algo:lstm  -RMSE: 9.236938797899134\n",
      "City: Bình Thuận  _algo:lstm  -RMSE: 7.651155396340419\n"
     ]
    },
    {
     "name": "stderr",
     "output_type": "stream",
     "text": [
      "\u001b[32m[I 2023-02-07 13:02:40,154]\u001b[0m Trial 21 finished with value: 9.236938797899134 and parameters: {'Epochs': 490, 'Hidden size': 8, 'n layers': 7, 'Learning rate': 0.00270322208114383}. Best is trial 14 with value: 6.339850500196881.\u001b[0m\n"
     ]
    },
    {
     "name": "stdout",
     "output_type": "stream",
     "text": [
      "City: Bình Thuận  _algo:lstm  -RMSE: 7.385473388650552\n",
      "Epoch:  0/250 - train_loss: 0.8298 - test_loss: 0.821819\n",
      "Epoch: 188/190 - train_loss: 0.3164 - test_loss: 0.274006\n",
      "Epoch: 189/190 - train_loss: 0.3139 - test_loss: 0.255364\n",
      "Epoch: 186/250 - train_loss: 0.1669 - test_loss: 0.115780\n",
      "City: Bình Thuận  _algo:lstm  -RMSE: 8.561639838608862\n",
      "City: Bình Thuận  _algo:lstm  -RMSE: 9.392215698921895\n"
     ]
    },
    {
     "name": "stderr",
     "output_type": "stream",
     "text": [
      "\u001b[32m[I 2023-02-07 13:02:52,438]\u001b[0m Trial 28 finished with value: 8.561639838608862 and parameters: {'Epochs': 190, 'Hidden size': 91, 'n layers': 8, 'Learning rate': 0.008404193745357315}. Best is trial 14 with value: 6.339850500196881.\u001b[0m\n"
     ]
    },
    {
     "name": "stdout",
     "output_type": "stream",
     "text": [
      "City: Bình Thuận  _algo:lstm  -RMSE: 8.916244393947732\n",
      "Epoch:  0/250 - train_loss: 1.0489 - test_loss: 0.882593\n",
      "Epoch: 62/250 - train_loss: 0.2438 - test_loss: 0.138897\n",
      "Epoch: 96/130 - train_loss: 0.5604 - test_loss: 0.528436\n",
      "Epoch:  0/250 - train_loss: 1.2013 - test_loss: 0.941114\n",
      "Epoch: 224/450 - train_loss: 0.1788 - test_loss: 0.111814\n",
      "Epoch: 128/130 - train_loss: 0.5108 - test_loss: 0.476846\n",
      "Epoch: 129/130 - train_loss: 0.5098 - test_loss: 0.478611\n",
      "City: Bình Thuận  _algo:lstm  -RMSE: 11.766112137650651\n",
      "City: Bình Thuận  _algo:lstm  -RMSE: 11.881086935979173\n"
     ]
    },
    {
     "name": "stderr",
     "output_type": "stream",
     "text": [
      "\u001b[32m[I 2023-02-07 13:03:30,240]\u001b[0m Trial 29 finished with value: 11.766112137650651 and parameters: {'Epochs': 130, 'Hidden size': 92, 'n layers': 10, 'Learning rate': 0.00011327937169518155}. Best is trial 14 with value: 6.339850500196881.\u001b[0m\n"
     ]
    },
    {
     "name": "stdout",
     "output_type": "stream",
     "text": [
      "City: Bình Thuận  _algo:lstm  -RMSE: 13.399406938102668\n",
      "Epoch: 62/250 - train_loss: 0.2362 - test_loss: 0.145167\n",
      "Epoch: 248/250 - train_loss: 0.1283 - test_loss: 0.104618\n",
      "Epoch: 249/250 - train_loss: 0.1262 - test_loss: 0.096269\n",
      "City: Bình Thuận  _algo:lstm  -RMSE: 6.897295957217777\n",
      "Epoch:  0/250 - train_loss: 1.0797 - test_loss: 0.803930\n",
      "City: Bình Thuận  _algo:lstm  -RMSE: 7.139319880647136\n"
     ]
    },
    {
     "name": "stderr",
     "output_type": "stream",
     "text": [
      "\u001b[32m[I 2023-02-07 13:03:38,225]\u001b[0m Trial 9 finished with value: 6.897295957217777 and parameters: {'Epochs': 470, 'Hidden size': 35, 'n layers': 7, 'Learning rate': 0.003034966746966674}. Best is trial 14 with value: 6.339850500196881.\u001b[0m\n"
     ]
    },
    {
     "name": "stdout",
     "output_type": "stream",
     "text": [
      "City: Bình Thuận  _algo:lstm  -RMSE: 7.393988781812173\n",
      "Epoch: 124/250 - train_loss: 0.2969 - test_loss: 0.230893\n",
      "Epoch: 62/250 - train_loss: 0.3250 - test_loss: 0.255811\n",
      "Epoch:  0/250 - train_loss: 1.0134 - test_loss: 0.682671\n",
      "Epoch: 62/250 - train_loss: 0.3156 - test_loss: 0.278077\n",
      "Epoch: 124/250 - train_loss: 0.2173 - test_loss: 0.136517\n",
      "Epoch: 186/250 - train_loss: 0.2958 - test_loss: 0.243626\n",
      "Epoch: 336/450 - train_loss: 0.1390 - test_loss: 0.117341\n",
      "Epoch: 62/250 - train_loss: 0.3711 - test_loss: 0.341220\n",
      "Epoch: 124/250 - train_loss: 0.2139 - test_loss: 0.114074\n",
      "Epoch: 124/250 - train_loss: 0.3129 - test_loss: 0.271967\n",
      "Epoch: 186/250 - train_loss: 0.2163 - test_loss: 0.119186\n",
      "Epoch: 248/250 - train_loss: 0.2969 - test_loss: 0.237460\n",
      "Epoch: 249/250 - train_loss: 0.2991 - test_loss: 0.236531\n",
      "City: Bình Thuận  _algo:lstm  -RMSE: 8.227681750671579\n",
      "City: Bình Thuận  _algo:lstm  -RMSE: 9.209372469548493\n"
     ]
    },
    {
     "name": "stderr",
     "output_type": "stream",
     "text": [
      "\u001b[32m[I 2023-02-07 13:05:18,025]\u001b[0m Trial 2 finished with value: 8.227681750671579 and parameters: {'Epochs': 400, 'Hidden size': 11, 'n layers': 8, 'Learning rate': 0.008675938251306851}. Best is trial 14 with value: 6.339850500196881.\u001b[0m\n"
     ]
    },
    {
     "name": "stdout",
     "output_type": "stream",
     "text": [
      "City: Bình Thuận  _algo:lstm  -RMSE: 10.572284807244179\n",
      "Epoch:  0/250 - train_loss: 0.8401 - test_loss: 0.676632\n",
      "Epoch: 186/250 - train_loss: 0.2015 - test_loss: 0.134109\n",
      "Epoch: 448/450 - train_loss: 0.1202 - test_loss: 0.110888\n",
      "Epoch: 449/450 - train_loss: 0.1171 - test_loss: 0.120565\n",
      "Epoch: 124/250 - train_loss: 0.2446 - test_loss: 0.160268\n",
      "City: Bình Thuận  _algo:lstm  -RMSE: 7.545122396135335\n",
      "City: Bình Thuận  _algo:lstm  -RMSE: 8.17697558349056\n"
     ]
    },
    {
     "name": "stderr",
     "output_type": "stream",
     "text": [
      "\u001b[32m[I 2023-02-07 13:05:49,073]\u001b[0m Trial 26 finished with value: 7.545122396135335 and parameters: {'Epochs': 450, 'Hidden size': 44, 'n layers': 7, 'Learning rate': 0.0007987233921990108}. Best is trial 14 with value: 6.339850500196881.\u001b[0m\n"
     ]
    },
    {
     "name": "stdout",
     "output_type": "stream",
     "text": [
      "City: Bình Thuận  _algo:lstm  -RMSE: 8.908176726291872\n",
      "Epoch: 62/250 - train_loss: 0.2910 - test_loss: 0.237464\n",
      "Epoch: 186/250 - train_loss: 0.2374 - test_loss: 0.137029\n",
      "Epoch: 248/250 - train_loss: 0.2078 - test_loss: 0.112996\n",
      "Epoch: 249/250 - train_loss: 0.2031 - test_loss: 0.114431\n",
      "Epoch:  0/250 - train_loss: 0.9864 - test_loss: 0.748734\n",
      "City: Bình Thuận  _algo:lstm  -RMSE: 6.332055084484641\n",
      "City: Bình Thuận  _algo:lstm  -RMSE: 7.673043445342034\n"
     ]
    },
    {
     "name": "stderr",
     "output_type": "stream",
     "text": [
      "\u001b[32m[I 2023-02-07 13:06:02,062]\u001b[0m Trial 3 finished with value: 6.332055084484641 and parameters: {'Epochs': 290, 'Hidden size': 10, 'n layers': 9, 'Learning rate': 0.0012804020183216093}. Best is trial 3 with value: 6.332055084484641.\u001b[0m\n"
     ]
    },
    {
     "name": "stdout",
     "output_type": "stream",
     "text": [
      "City: Bình Thuận  _algo:lstm  -RMSE: 10.46188035909194\n",
      "Epoch:  0/250 - train_loss: 0.9067 - test_loss: 0.666241\n",
      "Epoch: 186/250 - train_loss: 0.2377 - test_loss: 0.136368\n",
      "Epoch: 248/250 - train_loss: 0.2090 - test_loss: 0.109284\n",
      "Epoch: 249/250 - train_loss: 0.2093 - test_loss: 0.125467\n",
      "City: Bình Thuận  _algo:lstm  -RMSE: 6.541462803734797\n",
      "City: Bình Thuận  _algo:lstm  -RMSE: 7.077257380557952\n"
     ]
    },
    {
     "name": "stderr",
     "output_type": "stream",
     "text": [
      "\u001b[32m[I 2023-02-07 13:06:32,321]\u001b[0m Trial 17 finished with value: 6.541462803734797 and parameters: {'Epochs': 360, 'Hidden size': 5, 'n layers': 6, 'Learning rate': 0.001008125204146973}. Best is trial 3 with value: 6.332055084484641.\u001b[0m\n"
     ]
    },
    {
     "name": "stdout",
     "output_type": "stream",
     "text": [
      "City: Bình Thuận  _algo:lstm  -RMSE: 7.748271000780111\n",
      "Epoch: 248/250 - train_loss: 0.1884 - test_loss: 0.125123\n",
      "Epoch: 62/250 - train_loss: 0.2483 - test_loss: 0.148098\n",
      "Epoch: 249/250 - train_loss: 0.1786 - test_loss: 0.120435\n",
      "City: Bình Thuận  _algo:lstm  -RMSE: 8.189471898792359\n",
      "City: Bình Thuận  _algo:lstm  -RMSE: 6.841503066258801\n",
      "Epoch:  0/250 - train_loss: 1.0084 - test_loss: 0.770995\n"
     ]
    },
    {
     "name": "stderr",
     "output_type": "stream",
     "text": [
      "\u001b[32m[I 2023-02-07 13:06:37,337]\u001b[0m Trial 0 finished with value: 8.189471898792359 and parameters: {'Epochs': 340, 'Hidden size': 120, 'n layers': 10, 'Learning rate': 0.001509210622568215}. Best is trial 3 with value: 6.332055084484641.\u001b[0m\n"
     ]
    },
    {
     "name": "stdout",
     "output_type": "stream",
     "text": [
      "City: Bình Thuận  _algo:lstm  -RMSE: 8.955887213061354\n",
      "Epoch: 124/250 - train_loss: 0.2126 - test_loss: 0.115661\n",
      "Epoch:  0/250 - train_loss: 0.9487 - test_loss: 0.688136\n",
      "Epoch: 62/250 - train_loss: 0.2073 - test_loss: 0.107185\n",
      "Epoch: 248/250 - train_loss: 0.2298 - test_loss: 0.131211\n",
      "Epoch: 249/250 - train_loss: 0.2311 - test_loss: 0.130409\n",
      "City: Bình Thuận  _algo:lstm  -RMSE: 9.702563479182913\n",
      "City: Bình Thuận  _algo:lstm  -RMSE: 11.192273820515625\n"
     ]
    },
    {
     "name": "stderr",
     "output_type": "stream",
     "text": [
      "\u001b[32m[I 2023-02-07 13:07:00,553]\u001b[0m Trial 18 finished with value: 9.702563479182913 and parameters: {'Epochs': 400, 'Hidden size': 5, 'n layers': 5, 'Learning rate': 0.0004380247959484644}. Best is trial 3 with value: 6.332055084484641.\u001b[0m\n"
     ]
    },
    {
     "name": "stdout",
     "output_type": "stream",
     "text": [
      "City: Bình Thuận  _algo:lstm  -RMSE: 11.397570984983046\n",
      "Epoch: 62/250 - train_loss: 0.2528 - test_loss: 0.178876\n",
      "Epoch:  0/250 - train_loss: 0.9696 - test_loss: 0.776153\n",
      "Epoch: 124/250 - train_loss: 0.1715 - test_loss: 0.113585\n",
      "Epoch: 124/250 - train_loss: 0.2919 - test_loss: 0.184973\n",
      "Epoch: 62/250 - train_loss: 0.2043 - test_loss: 0.134852\n",
      "Epoch: 186/250 - train_loss: 0.1967 - test_loss: 0.104129\n",
      "Epoch: 124/250 - train_loss: 0.2059 - test_loss: 0.115517\n",
      "Epoch: 186/250 - train_loss: 0.1051 - test_loss: 0.130439\n",
      "Epoch: 62/250 - train_loss: 0.2759 - test_loss: 0.212276\n",
      "Epoch: 186/250 - train_loss: 0.2003 - test_loss: 0.122375\n",
      "Epoch: 124/250 - train_loss: 0.1761 - test_loss: 0.114602\n",
      "Epoch: 248/250 - train_loss: 0.1920 - test_loss: 0.113082\n",
      "Epoch: 249/250 - train_loss: 0.1811 - test_loss: 0.104741\n",
      "Epoch: 248/250 - train_loss: 0.0675 - test_loss: 0.158272\n",
      "City: Bình Thuận  _algo:lstm  -RMSE: 8.142537359188628\n",
      "Epoch: 249/250 - train_loss: 0.0675 - test_loss: 0.311952\n",
      "City: Bình Thuận  _algo:lstm  -RMSE: 6.580880767025724\n",
      "City: Bình Thuận  _algo:lstm  -RMSE: 8.033191207243634\n"
     ]
    },
    {
     "name": "stderr",
     "output_type": "stream",
     "text": [
      "\u001b[32m[I 2023-02-07 13:08:25,990]\u001b[0m Trial 1 finished with value: 8.142537359188628 and parameters: {'Epochs': 430, 'Hidden size': 60, 'n layers': 10, 'Learning rate': 0.0006459119736472098}. Best is trial 3 with value: 6.332055084484641.\u001b[0m\n"
     ]
    },
    {
     "name": "stdout",
     "output_type": "stream",
     "text": [
      "City: Bình Thuận  _algo:lstm  -RMSE: 9.373130313657962\n",
      "City: Bình Thuận  _algo:lstm  -RMSE: 9.36244876304232\n"
     ]
    },
    {
     "name": "stderr",
     "output_type": "stream",
     "text": [
      "\u001b[32m[I 2023-02-07 13:08:26,368]\u001b[0m Trial 6 finished with value: 8.033191207243634 and parameters: {'Epochs': 400, 'Hidden size': 219, 'n layers': 4, 'Learning rate': 0.0015327645371966082}. Best is trial 3 with value: 6.332055084484641.\u001b[0m\n"
     ]
    },
    {
     "name": "stdout",
     "output_type": "stream",
     "text": [
      "City: Bình Thuận  _algo:lstm  -RMSE: 10.487608561727717\n",
      "Epoch: 186/250 - train_loss: 0.2001 - test_loss: 0.113963\n",
      "Epoch: 62/250 - train_loss: 0.2045 - test_loss: 0.137120\n",
      "Epoch: 124/250 - train_loss: 0.2185 - test_loss: 0.151389\n",
      "Epoch: 186/250 - train_loss: 0.1149 - test_loss: 0.101718\n",
      "Epoch: 248/250 - train_loss: 0.1878 - test_loss: 0.115568\n",
      "Epoch: 249/250 - train_loss: 0.1862 - test_loss: 0.116320\n",
      "City: Bình Thuận  _algo:lstm  -RMSE: 6.880178171660928\n",
      "City: Bình Thuận  _algo:lstm  -RMSE: 6.24689833425337\n"
     ]
    },
    {
     "name": "stderr",
     "output_type": "stream",
     "text": [
      "\u001b[32m[I 2023-02-07 13:09:01,102]\u001b[0m Trial 7 finished with value: 6.880178171660928 and parameters: {'Epochs': 350, 'Hidden size': 42, 'n layers': 5, 'Learning rate': 0.0008052234438803863}. Best is trial 3 with value: 6.332055084484641.\u001b[0m\n"
     ]
    },
    {
     "name": "stdout",
     "output_type": "stream",
     "text": [
      "City: Bình Thuận  _algo:lstm  -RMSE: 8.70856203242943\n",
      "Epoch: 248/250 - train_loss: 0.1809 - test_loss: 0.128526\n",
      "Epoch: 249/250 - train_loss: 0.1986 - test_loss: 0.126092\n",
      "City: Bình Thuận  _algo:lstm  -RMSE: 9.817350668595143\n",
      "City: Bình Thuận  _algo:lstm  -RMSE: 8.572501950733402\n"
     ]
    },
    {
     "name": "stderr",
     "output_type": "stream",
     "text": [
      "\u001b[32m[I 2023-02-07 13:09:06,845]\u001b[0m Trial 13 finished with value: 9.817350668595143 and parameters: {'Epochs': 120, 'Hidden size': 21, 'n layers': 10, 'Learning rate': 0.0033003393996557918}. Best is trial 3 with value: 6.332055084484641.\u001b[0m\n"
     ]
    },
    {
     "name": "stdout",
     "output_type": "stream",
     "text": [
      "City: Bình Thuận  _algo:lstm  -RMSE: 8.886143469666651\n",
      "Epoch: 62/250 - train_loss: 0.3880 - test_loss: 0.359265\n",
      "Epoch: 186/250 - train_loss: 0.2057 - test_loss: 0.111718\n",
      "Epoch: 124/250 - train_loss: 0.1814 - test_loss: 0.108021\n",
      "Epoch: 248/250 - train_loss: 0.1263 - test_loss: 0.112731\n",
      "Epoch: 249/250 - train_loss: 0.1252 - test_loss: 0.132263\n",
      "City: Bình Thuận  _algo:lstm  -RMSE: 7.031352669322964\n",
      "City: Bình Thuận  _algo:lstm  -RMSE: 8.36913798150621\n"
     ]
    },
    {
     "name": "stderr",
     "output_type": "stream",
     "text": [
      "\u001b[32m[I 2023-02-07 13:09:25,807]\u001b[0m Trial 8 finished with value: 7.031352669322964 and parameters: {'Epochs': 130, 'Hidden size': 33, 'n layers': 6, 'Learning rate': 0.0026718525051442122}. Best is trial 3 with value: 6.332055084484641.\u001b[0m\n"
     ]
    },
    {
     "name": "stdout",
     "output_type": "stream",
     "text": [
      "City: Bình Thuận  _algo:lstm  -RMSE: 9.594628603378993\n",
      "Epoch: 248/250 - train_loss: 0.2084 - test_loss: 0.110781\n",
      "Epoch: 249/250 - train_loss: 0.2043 - test_loss: 0.112696\n",
      "City: Bình Thuận  _algo:lstm  -RMSE: 6.70213964574124\n"
     ]
    },
    {
     "name": "stderr",
     "output_type": "stream",
     "text": [
      "\u001b[32m[I 2023-02-07 13:09:35,752]\u001b[0m Trial 15 finished with value: 6.70213964574124 and parameters: {'Epochs': 300, 'Hidden size': 43, 'n layers': 4, 'Learning rate': 0.000689438286305655}. Best is trial 3 with value: 6.332055084484641.\u001b[0m\n"
     ]
    },
    {
     "name": "stdout",
     "output_type": "stream",
     "text": [
      "City: Bình Thuận  _algo:lstm  -RMSE: 6.982606101523166\n",
      "City: Bình Thuận  _algo:lstm  -RMSE: 8.745171285896339\n",
      "Epoch: 124/250 - train_loss: 0.2537 - test_loss: 0.171118\n",
      "Epoch: 186/250 - train_loss: 0.1832 - test_loss: 0.101186\n",
      "Epoch: 186/250 - train_loss: 0.2466 - test_loss: 0.151044\n",
      "Epoch: 248/250 - train_loss: 0.1484 - test_loss: 0.095510\n",
      "Epoch: 249/250 - train_loss: 0.1498 - test_loss: 0.094457\n",
      "City: Bình Thuận  _algo:lstm  -RMSE: 8.106281735025581\n",
      "City: Bình Thuận  _algo:lstm  -RMSE: 7.159389929605568\n"
     ]
    },
    {
     "name": "stderr",
     "output_type": "stream",
     "text": [
      "\u001b[32m[I 2023-02-07 13:10:01,173]\u001b[0m Trial 12 finished with value: 8.106281735025581 and parameters: {'Epochs': 110, 'Hidden size': 62, 'n layers': 8, 'Learning rate': 0.0014598251951960528}. Best is trial 3 with value: 6.332055084484641.\u001b[0m\n"
     ]
    },
    {
     "name": "stdout",
     "output_type": "stream",
     "text": [
      "City: Bình Thuận  _algo:lstm  -RMSE: 7.313888393160113\n",
      "Epoch: 248/250 - train_loss: 0.2429 - test_loss: 0.144683\n",
      "Epoch: 249/250 - train_loss: 0.2381 - test_loss: 0.141217\n",
      "City: Bình Thuận  _algo:lstm  -RMSE: 11.883121805280968\n"
     ]
    },
    {
     "name": "stderr",
     "output_type": "stream",
     "text": [
      "\u001b[32m[I 2023-02-07 13:10:11,238]\u001b[0m Trial 10 finished with value: 11.883121805280968 and parameters: {'Epochs': 400, 'Hidden size': 7, 'n layers': 9, 'Learning rate': 0.00046278143793415796}. Best is trial 3 with value: 6.332055084484641.\u001b[0m\n"
     ]
    },
    {
     "name": "stdout",
     "output_type": "stream",
     "text": [
      "City: Bình Thuận  _algo:lstm  -RMSE: 12.495951878728793\n",
      "City: Bình Thuận  _algo:lstm  -RMSE: 13.697103297570195\n",
      "Study statistics for : \n",
      "  Number of finished trials:  30\n",
      "Best trial of city:  Bình Thuận\n",
      "  Value:  6.332055084484641\n"
     ]
    },
    {
     "name": "stderr",
     "output_type": "stream",
     "text": [
      "\u001b[32m[I 2023-02-07 13:10:11,284]\u001b[0m A new study created in memory with name: no-name-53225917-c842-4f11-9bb1-8f1bbacc05f4\u001b[0m\n",
      "<ipython-input-13-c88f81b1749c>:4: FutureWarning: suggest_loguniform has been deprecated in v3.0.0. This feature will be removed in v6.0.0. See https://github.com/optuna/optuna/releases/tag/v3.0.0. Use :func:`~optuna.trial.Trial.suggest_float` instead.\n",
      "  learning_rate = trial.suggest_loguniform('Learning rate', 1e-4, 1e-2)\n",
      "<ipython-input-13-c88f81b1749c>:6: FutureWarning: suggest_uniform has been deprecated in v3.0.0. This feature will be removed in v6.0.0. See https://github.com/optuna/optuna/releases/tag/v3.0.0. Use :func:`~optuna.trial.Trial.suggest_float` instead.\n",
      "  dropout = trial.suggest_uniform('Dropout rate', 0.01, 0.80)\n"
     ]
    },
    {
     "name": "stdout",
     "output_type": "stream",
     "text": [
      "Epoch:  0/460 - train_loss: 0.7974 - test_loss: 0.661868\n",
      "Epoch:  0/460 - train_loss: 0.8728 - test_loss: 0.712539\n",
      "Epoch:  0/460 - train_loss: 0.9050 - test_loss: 0.736425\n",
      "Epoch:  0/460 - train_loss: 0.9178 - test_loss: 0.661131\n",
      "Epoch:  0/460 - train_loss: 0.8569 - test_loss: 0.681194\n",
      "Epoch:  0/100 - train_loss: 0.8487 - test_loss: 0.688861\n",
      "Epoch:  0/460 - train_loss: 1.1750 - test_loss: 0.833695\n",
      "Epoch:  0/460 - train_loss: 0.7592 - test_loss: 0.567802\n",
      "Epoch:  0/460 - train_loss: 1.0241 - test_loss: 0.742697\n",
      "Epoch:  0/460 - train_loss: 0.8998 - test_loss: 0.707012\n",
      "Epoch:  0/430 - train_loss: 0.8233 - test_loss: 0.681984\n",
      "Epoch:  0/460 - train_loss: 1.0248 - test_loss: 0.783497\n",
      "Epoch:  0/430 - train_loss: 0.9512 - test_loss: 0.685985\n",
      "Epoch:  0/460 - train_loss: 0.8756 - test_loss: 0.611879\n",
      "Epoch:  0/460 - train_loss: 0.7983 - test_loss: 0.690216\n",
      "Epoch:  0/460 - train_loss: 0.8290 - test_loss: 0.697329\n",
      "Epoch:  0/460 - train_loss: 0.8310 - test_loss: 0.564023\n",
      "Epoch: 25/100 - train_loss: 0.3880 - test_loss: 0.329154\n",
      "Epoch: 50/100 - train_loss: 0.2381 - test_loss: 0.160639\n",
      "Epoch: 115/460 - train_loss: 0.1820 - test_loss: 0.099433\n",
      "Epoch: 75/100 - train_loss: 0.2143 - test_loss: 0.117490\n",
      "Epoch: 115/460 - train_loss: 0.2035 - test_loss: 0.111786\n",
      "Epoch: 115/460 - train_loss: 0.5411 - test_loss: 0.501816\n",
      "Epoch: 115/460 - train_loss: 0.1798 - test_loss: 0.104761\n",
      "Epoch: 99/100 - train_loss: 0.2095 - test_loss: 0.112756\n",
      "City: Bình Thuận  _algo:cnn  -RMSE: 7.036368109421807\n",
      "City: Bình Thuận  _algo:cnn  -RMSE: 6.945222030138956\n"
     ]
    },
    {
     "name": "stderr",
     "output_type": "stream",
     "text": [
      "\u001b[32m[I 2023-02-07 13:11:12,995]\u001b[0m Trial 5 finished with value: 7.036368109421807 and parameters: {'Epochs': 440, 'Learning rate': 0.0010224717275793623, 'Num. filters': [16, 32, 64], 'Dropout rate': 0.4528649085664606}. Best is trial 5 with value: 7.036368109421807.\u001b[0m\n"
     ]
    },
    {
     "name": "stdout",
     "output_type": "stream",
     "text": [
      "City: Bình Thuận  _algo:cnn  -RMSE: 8.194065390464782\n"
     ]
    },
    {
     "name": "stderr",
     "output_type": "stream",
     "text": [
      "<ipython-input-13-c88f81b1749c>:4: FutureWarning: suggest_loguniform has been deprecated in v3.0.0. This feature will be removed in v6.0.0. See https://github.com/optuna/optuna/releases/tag/v3.0.0. Use :func:`~optuna.trial.Trial.suggest_float` instead.\n",
      "  learning_rate = trial.suggest_loguniform('Learning rate', 1e-4, 1e-2)\n",
      "<ipython-input-13-c88f81b1749c>:6: FutureWarning: suggest_uniform has been deprecated in v3.0.0. This feature will be removed in v6.0.0. See https://github.com/optuna/optuna/releases/tag/v3.0.0. Use :func:`~optuna.trial.Trial.suggest_float` instead.\n",
      "  dropout = trial.suggest_uniform('Dropout rate', 0.01, 0.80)\n"
     ]
    },
    {
     "name": "stdout",
     "output_type": "stream",
     "text": [
      "Epoch:  0/450 - train_loss: 0.9117 - test_loss: 0.692478\n",
      "Epoch: 230/460 - train_loss: 0.1794 - test_loss: 0.108981\n",
      "Epoch: 230/460 - train_loss: 0.2046 - test_loss: 0.109058\n",
      "Epoch: 115/460 - train_loss: 0.1831 - test_loss: 0.106544\n",
      "Epoch: 230/460 - train_loss: 0.3824 - test_loss: 0.340536\n",
      "Epoch: 230/460 - train_loss: 0.1690 - test_loss: 0.102852\n",
      "Epoch: 112/450 - train_loss: 0.2078 - test_loss: 0.112481\n",
      "Epoch: 345/460 - train_loss: 0.1775 - test_loss: 0.098935\n",
      "Epoch: 345/460 - train_loss: 0.1940 - test_loss: 0.107714\n",
      "Epoch: 345/460 - train_loss: 0.2738 - test_loss: 0.226973\n",
      "Epoch: 115/460 - train_loss: 0.3232 - test_loss: 0.266523\n",
      "Epoch: 345/460 - train_loss: 0.1630 - test_loss: 0.098911\n",
      "Epoch: 459/460 - train_loss: 0.1726 - test_loss: 0.098451\n",
      "City: Bình Thuận  _algo:cnn  -RMSE: 7.112314219250491\n",
      "City: Bình Thuận  _algo:cnn  -RMSE: 6.705304344930447\n"
     ]
    },
    {
     "name": "stderr",
     "output_type": "stream",
     "text": [
      "\u001b[32m[I 2023-02-07 13:13:07,752]\u001b[0m Trial 2 finished with value: 7.112314219250491 and parameters: {'Epochs': 470, 'Learning rate': 0.003390577843335717, 'Num. filters': [16, 32, 64], 'Dropout rate': 0.33156709589818534}. Best is trial 5 with value: 7.036368109421807.\u001b[0m\n"
     ]
    },
    {
     "name": "stdout",
     "output_type": "stream",
     "text": [
      "City: Bình Thuận  _algo:cnn  -RMSE: 6.397080926034258\n"
     ]
    },
    {
     "name": "stderr",
     "output_type": "stream",
     "text": [
      "<ipython-input-13-c88f81b1749c>:4: FutureWarning: suggest_loguniform has been deprecated in v3.0.0. This feature will be removed in v6.0.0. See https://github.com/optuna/optuna/releases/tag/v3.0.0. Use :func:`~optuna.trial.Trial.suggest_float` instead.\n",
      "  learning_rate = trial.suggest_loguniform('Learning rate', 1e-4, 1e-2)\n",
      "<ipython-input-13-c88f81b1749c>:6: FutureWarning: suggest_uniform has been deprecated in v3.0.0. This feature will be removed in v6.0.0. See https://github.com/optuna/optuna/releases/tag/v3.0.0. Use :func:`~optuna.trial.Trial.suggest_float` instead.\n",
      "  dropout = trial.suggest_uniform('Dropout rate', 0.01, 0.80)\n"
     ]
    },
    {
     "name": "stdout",
     "output_type": "stream",
     "text": [
      "Epoch:  0/190 - train_loss: 0.9396 - test_loss: 0.718773\n",
      "Epoch: 459/460 - train_loss: 0.1885 - test_loss: 0.105571\n",
      "City: Bình Thuận  _algo:cnn  -RMSE: 6.61451386251905\n",
      "City: Bình Thuận  _algo:cnn  -RMSE: 6.045780244058575\n"
     ]
    },
    {
     "name": "stderr",
     "output_type": "stream",
     "text": [
      "\u001b[32m[I 2023-02-07 13:13:17,916]\u001b[0m Trial 7 finished with value: 6.61451386251905 and parameters: {'Epochs': 130, 'Learning rate': 0.000735301859270019, 'Num. filters': [16, 32, 64], 'Dropout rate': 0.5083057042334349}. Best is trial 7 with value: 6.61451386251905.\u001b[0m\n"
     ]
    },
    {
     "name": "stdout",
     "output_type": "stream",
     "text": [
      "City: Bình Thuận  _algo:cnn  -RMSE: 6.622297652269406\n"
     ]
    },
    {
     "name": "stderr",
     "output_type": "stream",
     "text": [
      "<ipython-input-13-c88f81b1749c>:4: FutureWarning: suggest_loguniform has been deprecated in v3.0.0. This feature will be removed in v6.0.0. See https://github.com/optuna/optuna/releases/tag/v3.0.0. Use :func:`~optuna.trial.Trial.suggest_float` instead.\n",
      "  learning_rate = trial.suggest_loguniform('Learning rate', 1e-4, 1e-2)\n",
      "<ipython-input-13-c88f81b1749c>:6: FutureWarning: suggest_uniform has been deprecated in v3.0.0. This feature will be removed in v6.0.0. See https://github.com/optuna/optuna/releases/tag/v3.0.0. Use :func:`~optuna.trial.Trial.suggest_float` instead.\n",
      "  dropout = trial.suggest_uniform('Dropout rate', 0.01, 0.80)\n"
     ]
    },
    {
     "name": "stdout",
     "output_type": "stream",
     "text": [
      "Epoch:  0/490 - train_loss: 1.0374 - test_loss: 0.716577\n",
      "Epoch: 230/460 - train_loss: 0.1618 - test_loss: 0.100223\n",
      "Epoch: 224/450 - train_loss: 0.1979 - test_loss: 0.101679\n",
      "Epoch: 47/190 - train_loss: 0.5835 - test_loss: 0.543346\n",
      "Epoch: 459/460 - train_loss: 0.2156 - test_loss: 0.150127\n",
      "City: Bình Thuận  _algo:cnn  -RMSE: 6.1613587202268505\n",
      "City: Bình Thuận  _algo:cnn  -RMSE: 6.655639628530161\n"
     ]
    },
    {
     "name": "stderr",
     "output_type": "stream",
     "text": [
      "\u001b[32m[I 2023-02-07 13:13:32,809]\u001b[0m Trial 9 finished with value: 6.1613587202268505 and parameters: {'Epochs': 290, 'Learning rate': 0.00010936173670634289, 'Num. filters': [100, 100, 100], 'Dropout rate': 0.4789967478868027}. Best is trial 9 with value: 6.1613587202268505.\u001b[0m\n"
     ]
    },
    {
     "name": "stdout",
     "output_type": "stream",
     "text": [
      "City: Bình Thuận  _algo:cnn  -RMSE: 8.741229143450596\n"
     ]
    },
    {
     "name": "stderr",
     "output_type": "stream",
     "text": [
      "<ipython-input-13-c88f81b1749c>:4: FutureWarning: suggest_loguniform has been deprecated in v3.0.0. This feature will be removed in v6.0.0. See https://github.com/optuna/optuna/releases/tag/v3.0.0. Use :func:`~optuna.trial.Trial.suggest_float` instead.\n",
      "  learning_rate = trial.suggest_loguniform('Learning rate', 1e-4, 1e-2)\n",
      "<ipython-input-13-c88f81b1749c>:6: FutureWarning: suggest_uniform has been deprecated in v3.0.0. This feature will be removed in v6.0.0. See https://github.com/optuna/optuna/releases/tag/v3.0.0. Use :func:`~optuna.trial.Trial.suggest_float` instead.\n",
      "  dropout = trial.suggest_uniform('Dropout rate', 0.01, 0.80)\n"
     ]
    },
    {
     "name": "stdout",
     "output_type": "stream",
     "text": [
      "Epoch:  0/460 - train_loss: 1.1540 - test_loss: 0.761755\n",
      "Epoch: 94/190 - train_loss: 0.4502 - test_loss: 0.413990\n",
      "Epoch: 459/460 - train_loss: 0.1587 - test_loss: 0.098649\n",
      "City: Bình Thuận  _algo:cnn  -RMSE: 7.716762154350431\n",
      "City: Bình Thuận  _algo:cnn  -RMSE: 7.687211012302039\n"
     ]
    },
    {
     "name": "stderr",
     "output_type": "stream",
     "text": [
      "\u001b[32m[I 2023-02-07 13:13:53,847]\u001b[0m Trial 10 finished with value: 7.716762154350431 and parameters: {'Epochs': 380, 'Learning rate': 0.001084396934040909, 'Num. filters': [32, 64, 128], 'Dropout rate': 0.21705699211986743}. Best is trial 9 with value: 6.1613587202268505.\u001b[0m\n"
     ]
    },
    {
     "name": "stdout",
     "output_type": "stream",
     "text": [
      "City: Bình Thuận  _algo:cnn  -RMSE: 7.749339549259669\n"
     ]
    },
    {
     "name": "stderr",
     "output_type": "stream",
     "text": [
      "<ipython-input-13-c88f81b1749c>:4: FutureWarning: suggest_loguniform has been deprecated in v3.0.0. This feature will be removed in v6.0.0. See https://github.com/optuna/optuna/releases/tag/v3.0.0. Use :func:`~optuna.trial.Trial.suggest_float` instead.\n",
      "  learning_rate = trial.suggest_loguniform('Learning rate', 1e-4, 1e-2)\n",
      "<ipython-input-13-c88f81b1749c>:6: FutureWarning: suggest_uniform has been deprecated in v3.0.0. This feature will be removed in v6.0.0. See https://github.com/optuna/optuna/releases/tag/v3.0.0. Use :func:`~optuna.trial.Trial.suggest_float` instead.\n",
      "  dropout = trial.suggest_uniform('Dropout rate', 0.01, 0.80)\n"
     ]
    },
    {
     "name": "stdout",
     "output_type": "stream",
     "text": [
      "Epoch:  0/370 - train_loss: 0.8398 - test_loss: 0.692542\n",
      "Epoch: 141/190 - train_loss: 0.3496 - test_loss: 0.308589\n",
      "Epoch: 122/490 - train_loss: 0.2241 - test_loss: 0.152890\n",
      "Epoch: 188/190 - train_loss: 0.2803 - test_loss: 0.225477\n",
      "Epoch: 189/190 - train_loss: 0.2727 - test_loss: 0.224952\n",
      "City: Bình Thuận  _algo:cnn  -RMSE: 6.424469258804045\n",
      "City: Bình Thuận  _algo:cnn  -RMSE: 7.2791730192757305\n"
     ]
    },
    {
     "name": "stderr",
     "output_type": "stream",
     "text": [
      "\u001b[32m[I 2023-02-07 13:14:20,044]\u001b[0m Trial 21 finished with value: 6.424469258804045 and parameters: {'Epochs': 190, 'Learning rate': 0.00020190153716292828, 'Num. filters': [128, 128, 128], 'Dropout rate': 0.360404841636418}. Best is trial 9 with value: 6.1613587202268505.\u001b[0m\n"
     ]
    },
    {
     "name": "stdout",
     "output_type": "stream",
     "text": [
      "City: Bình Thuận  _algo:cnn  -RMSE: 9.450722912158188\n"
     ]
    },
    {
     "name": "stderr",
     "output_type": "stream",
     "text": [
      "<ipython-input-13-c88f81b1749c>:4: FutureWarning: suggest_loguniform has been deprecated in v3.0.0. This feature will be removed in v6.0.0. See https://github.com/optuna/optuna/releases/tag/v3.0.0. Use :func:`~optuna.trial.Trial.suggest_float` instead.\n",
      "  learning_rate = trial.suggest_loguniform('Learning rate', 1e-4, 1e-2)\n",
      "<ipython-input-13-c88f81b1749c>:6: FutureWarning: suggest_uniform has been deprecated in v3.0.0. This feature will be removed in v6.0.0. See https://github.com/optuna/optuna/releases/tag/v3.0.0. Use :func:`~optuna.trial.Trial.suggest_float` instead.\n",
      "  dropout = trial.suggest_uniform('Dropout rate', 0.01, 0.80)\n"
     ]
    },
    {
     "name": "stdout",
     "output_type": "stream",
     "text": [
      "Epoch:  0/230 - train_loss: 0.7746 - test_loss: 0.603555\n",
      "Epoch: 115/460 - train_loss: 0.3342 - test_loss: 0.262633\n",
      "Epoch: 336/450 - train_loss: 0.1861 - test_loss: 0.106631\n",
      "Epoch: 92/370 - train_loss: 0.3247 - test_loss: 0.278280\n",
      "Epoch: 57/230 - train_loss: 0.1765 - test_loss: 0.103977\n",
      "Epoch: 345/460 - train_loss: 0.1609 - test_loss: 0.101360\n",
      "Epoch: 244/490 - train_loss: 0.1884 - test_loss: 0.107188\n",
      "Epoch: 115/460 - train_loss: 0.1730 - test_loss: 0.120645\n",
      "Epoch: 114/230 - train_loss: 0.1742 - test_loss: 0.107368\n",
      "Epoch: 230/460 - train_loss: 0.2266 - test_loss: 0.132260\n",
      "Epoch: 230/460 - train_loss: 0.2082 - test_loss: 0.128848\n",
      "Epoch: 184/370 - train_loss: 0.1991 - test_loss: 0.124703\n",
      "Epoch: 171/230 - train_loss: 0.1668 - test_loss: 0.102749\n",
      "Epoch: 448/450 - train_loss: 0.1832 - test_loss: 0.103535\n",
      "Epoch: 449/450 - train_loss: 0.1896 - test_loss: 0.106594\n",
      "City: Bình Thuận  _algo:cnn  -RMSE: 7.430781690990532\n",
      "City: Bình Thuận  _algo:cnn  -RMSE: 7.332044171530561\n"
     ]
    },
    {
     "name": "stderr",
     "output_type": "stream",
     "text": [
      "\u001b[32m[I 2023-02-07 13:15:34,915]\u001b[0m Trial 20 finished with value: 7.430781690990532 and parameters: {'Epochs': 450, 'Learning rate': 0.0007713173242016089, 'Num. filters': [128, 128, 128], 'Dropout rate': 0.6526990268664185}. Best is trial 9 with value: 6.1613587202268505.\u001b[0m\n"
     ]
    },
    {
     "name": "stdout",
     "output_type": "stream",
     "text": [
      "City: Bình Thuận  _algo:cnn  -RMSE: 7.253541588675229\n"
     ]
    },
    {
     "name": "stderr",
     "output_type": "stream",
     "text": [
      "<ipython-input-13-c88f81b1749c>:4: FutureWarning: suggest_loguniform has been deprecated in v3.0.0. This feature will be removed in v6.0.0. See https://github.com/optuna/optuna/releases/tag/v3.0.0. Use :func:`~optuna.trial.Trial.suggest_float` instead.\n",
      "  learning_rate = trial.suggest_loguniform('Learning rate', 1e-4, 1e-2)\n",
      "<ipython-input-13-c88f81b1749c>:6: FutureWarning: suggest_uniform has been deprecated in v3.0.0. This feature will be removed in v6.0.0. See https://github.com/optuna/optuna/releases/tag/v3.0.0. Use :func:`~optuna.trial.Trial.suggest_float` instead.\n",
      "  dropout = trial.suggest_uniform('Dropout rate', 0.01, 0.80)\n"
     ]
    },
    {
     "name": "stdout",
     "output_type": "stream",
     "text": [
      "Epoch:  0/140 - train_loss: 1.1310 - test_loss: 0.764568\n",
      "Epoch: 366/490 - train_loss: 0.1797 - test_loss: 0.102501\n",
      "Epoch: 228/230 - train_loss: 0.1638 - test_loss: 0.104715\n",
      "Epoch: 229/230 - train_loss: 0.1644 - test_loss: 0.106086\n",
      "City: Bình Thuận  _algo:cnn  -RMSE: 7.592542537439417\n",
      "City: Bình Thuận  _algo:cnn  -RMSE: 7.303642177869514\n"
     ]
    },
    {
     "name": "stderr",
     "output_type": "stream",
     "text": [
      "\u001b[32m[I 2023-02-07 13:15:48,746]\u001b[0m Trial 25 finished with value: 7.592542537439417 and parameters: {'Epochs': 230, 'Learning rate': 0.006012138348423762, 'Num. filters': [32, 64, 128], 'Dropout rate': 0.23474603051552437}. Best is trial 9 with value: 6.1613587202268505.\u001b[0m\n"
     ]
    },
    {
     "name": "stdout",
     "output_type": "stream",
     "text": [
      "City: Bình Thuận  _algo:cnn  -RMSE: 7.194335113731735\n"
     ]
    },
    {
     "name": "stderr",
     "output_type": "stream",
     "text": [
      "<ipython-input-13-c88f81b1749c>:4: FutureWarning: suggest_loguniform has been deprecated in v3.0.0. This feature will be removed in v6.0.0. See https://github.com/optuna/optuna/releases/tag/v3.0.0. Use :func:`~optuna.trial.Trial.suggest_float` instead.\n",
      "  learning_rate = trial.suggest_loguniform('Learning rate', 1e-4, 1e-2)\n",
      "<ipython-input-13-c88f81b1749c>:6: FutureWarning: suggest_uniform has been deprecated in v3.0.0. This feature will be removed in v6.0.0. See https://github.com/optuna/optuna/releases/tag/v3.0.0. Use :func:`~optuna.trial.Trial.suggest_float` instead.\n",
      "  dropout = trial.suggest_uniform('Dropout rate', 0.01, 0.80)\n"
     ]
    },
    {
     "name": "stdout",
     "output_type": "stream",
     "text": [
      "Epoch:  0/220 - train_loss: 0.8991 - test_loss: 0.687295\n",
      "Epoch: 35/140 - train_loss: 0.6764 - test_loss: 0.598296\n",
      "Epoch: 345/460 - train_loss: 0.2274 - test_loss: 0.116002\n",
      "Epoch: 276/370 - train_loss: 0.1877 - test_loss: 0.101069\n",
      "Epoch: 55/220 - train_loss: 0.2147 - test_loss: 0.142762\n",
      "Epoch: 70/140 - train_loss: 0.5565 - test_loss: 0.505260\n",
      "Epoch: 459/460 - train_loss: 0.1525 - test_loss: 0.101244\n",
      "City: Bình Thuận  _algo:cnn  -RMSE: 7.0667513801676956\n",
      "City: Bình Thuận  _algo:cnn  -RMSE: 6.318767027882487\n"
     ]
    },
    {
     "name": "stderr",
     "output_type": "stream",
     "text": [
      "\u001b[32m[I 2023-02-07 13:16:25,712]\u001b[0m Trial 3 finished with value: 7.0667513801676956 and parameters: {'Epochs': 460, 'Learning rate': 0.0008248344776082887, 'Num. filters': [16, 32, 64], 'Dropout rate': 0.03741487603768736}. Best is trial 9 with value: 6.1613587202268505.\u001b[0m\n"
     ]
    },
    {
     "name": "stdout",
     "output_type": "stream",
     "text": [
      "City: Bình Thuận  _algo:cnn  -RMSE: 5.94525687201413\n"
     ]
    },
    {
     "name": "stderr",
     "output_type": "stream",
     "text": [
      "<ipython-input-13-c88f81b1749c>:4: FutureWarning: suggest_loguniform has been deprecated in v3.0.0. This feature will be removed in v6.0.0. See https://github.com/optuna/optuna/releases/tag/v3.0.0. Use :func:`~optuna.trial.Trial.suggest_float` instead.\n",
      "  learning_rate = trial.suggest_loguniform('Learning rate', 1e-4, 1e-2)\n",
      "<ipython-input-13-c88f81b1749c>:6: FutureWarning: suggest_uniform has been deprecated in v3.0.0. This feature will be removed in v6.0.0. See https://github.com/optuna/optuna/releases/tag/v3.0.0. Use :func:`~optuna.trial.Trial.suggest_float` instead.\n",
      "  dropout = trial.suggest_uniform('Dropout rate', 0.01, 0.80)\n"
     ]
    },
    {
     "name": "stdout",
     "output_type": "stream",
     "text": [
      "Epoch:  0/250 - train_loss: 0.9077 - test_loss: 0.690935\n",
      "Epoch: 110/220 - train_loss: 0.1868 - test_loss: 0.104057\n",
      "Epoch: 488/490 - train_loss: 0.1832 - test_loss: 0.102183\n",
      "Epoch: 489/490 - train_loss: 0.1701 - test_loss: 0.103579\n",
      "City: Bình Thuận  _algo:cnn  -RMSE: 7.022079864055832\n",
      "City: Bình Thuận  _algo:cnn  -RMSE: 6.57724284918723\n"
     ]
    },
    {
     "name": "stderr",
     "output_type": "stream",
     "text": [
      "\u001b[32m[I 2023-02-07 13:16:35,348]\u001b[0m Trial 22 finished with value: 7.022079864055832 and parameters: {'Epochs': 490, 'Learning rate': 0.0004281863612081282, 'Num. filters': [128, 128, 128], 'Dropout rate': 0.564047358779619}. Best is trial 9 with value: 6.1613587202268505.\u001b[0m\n"
     ]
    },
    {
     "name": "stdout",
     "output_type": "stream",
     "text": [
      "City: Bình Thuận  _algo:cnn  -RMSE: 6.735166901595181\n"
     ]
    },
    {
     "name": "stderr",
     "output_type": "stream",
     "text": [
      "<ipython-input-13-c88f81b1749c>:4: FutureWarning: suggest_loguniform has been deprecated in v3.0.0. This feature will be removed in v6.0.0. See https://github.com/optuna/optuna/releases/tag/v3.0.0. Use :func:`~optuna.trial.Trial.suggest_float` instead.\n",
      "  learning_rate = trial.suggest_loguniform('Learning rate', 1e-4, 1e-2)\n",
      "<ipython-input-13-c88f81b1749c>:6: FutureWarning: suggest_uniform has been deprecated in v3.0.0. This feature will be removed in v6.0.0. See https://github.com/optuna/optuna/releases/tag/v3.0.0. Use :func:`~optuna.trial.Trial.suggest_float` instead.\n",
      "  dropout = trial.suggest_uniform('Dropout rate', 0.01, 0.80)\n"
     ]
    },
    {
     "name": "stdout",
     "output_type": "stream",
     "text": [
      "Epoch:  0/320 - train_loss: 1.2892 - test_loss: 0.876473\n",
      "Epoch: 105/140 - train_loss: 0.4735 - test_loss: 0.423274\n",
      "Epoch: 459/460 - train_loss: 0.2251 - test_loss: 0.116566\n",
      "City: Bình Thuận  _algo:cnn  -RMSE: 6.985800148664975\n",
      "Epoch: 368/370 - train_loss: 0.1847 - test_loss: 0.102133\n",
      "City: Bình Thuận  _algo:cnn  -RMSE: 8.089782388228251\n"
     ]
    },
    {
     "name": "stderr",
     "output_type": "stream",
     "text": [
      "\u001b[32m[I 2023-02-07 13:16:50,892]\u001b[0m Trial 23 finished with value: 6.985800148664975 and parameters: {'Epochs': 460, 'Learning rate': 0.0002815056241178742, 'Num. filters': [64, 64, 64], 'Dropout rate': 0.784907184701707}. Best is trial 9 with value: 6.1613587202268505.\u001b[0m\n"
     ]
    },
    {
     "name": "stdout",
     "output_type": "stream",
     "text": [
      "Epoch: 369/370 - train_loss: 0.1784 - test_loss: 0.103332\n",
      "City: Bình Thuận  _algo:cnn  -RMSE: 9.951652800478023\n",
      "City: Bình Thuận  _algo:cnn  -RMSE: 6.757220285044136\n",
      "City: Bình Thuận  _algo:cnn  -RMSE: 6.061748778404926\n"
     ]
    },
    {
     "name": "stderr",
     "output_type": "stream",
     "text": [
      "\u001b[32m[I 2023-02-07 13:16:51,769]\u001b[0m Trial 24 finished with value: 6.757220285044136 and parameters: {'Epochs': 370, 'Learning rate': 0.0003466075711325979, 'Num. filters': [100, 100, 100], 'Dropout rate': 0.4446593453405024}. Best is trial 9 with value: 6.1613587202268505.\u001b[0m\n"
     ]
    },
    {
     "name": "stdout",
     "output_type": "stream",
     "text": [
      "City: Bình Thuận  _algo:cnn  -RMSE: 5.7462997920689345\n",
      "Epoch: 165/220 - train_loss: 0.1868 - test_loss: 0.103752\n",
      "Epoch: 139/140 - train_loss: 0.4047 - test_loss: 0.354028\n",
      "City: Bình Thuận  _algo:cnn  -RMSE: 7.433360293101806\n",
      "City: Bình Thuận  _algo:cnn  -RMSE: 9.443803409714372\n"
     ]
    },
    {
     "name": "stderr",
     "output_type": "stream",
     "text": [
      "\u001b[32m[I 2023-02-07 13:16:55,481]\u001b[0m Trial 26 finished with value: 7.433360293101806 and parameters: {'Epochs': 140, 'Learning rate': 0.0001674564807035531, 'Num. filters': [128, 128, 128], 'Dropout rate': 0.7253020330723057}. Best is trial 9 with value: 6.1613587202268505.\u001b[0m\n"
     ]
    },
    {
     "name": "stdout",
     "output_type": "stream",
     "text": [
      "City: Bình Thuận  _algo:cnn  -RMSE: 10.839471903953644\n",
      "Epoch: 62/250 - train_loss: 0.2551 - test_loss: 0.179751\n",
      "Epoch: 80/320 - train_loss: 0.6298 - test_loss: 0.554056\n",
      "Epoch: 345/460 - train_loss: 0.2027 - test_loss: 0.112536\n",
      "Epoch: 219/220 - train_loss: 0.1832 - test_loss: 0.105274\n",
      "City: Bình Thuận  _algo:cnn  -RMSE: 6.258503293656138\n",
      "City: Bình Thuận  _algo:cnn  -RMSE: 5.4882975209837666\n"
     ]
    },
    {
     "name": "stderr",
     "output_type": "stream",
     "text": [
      "\u001b[32m[I 2023-02-07 13:17:13,097]\u001b[0m Trial 27 finished with value: 6.258503293656138 and parameters: {'Epochs': 220, 'Learning rate': 0.0010573036725038912, 'Num. filters': [64, 64, 64], 'Dropout rate': 0.39573522858369337}. Best is trial 9 with value: 6.1613587202268505.\u001b[0m\n"
     ]
    },
    {
     "name": "stdout",
     "output_type": "stream",
     "text": [
      "City: Bình Thuận  _algo:cnn  -RMSE: 6.317227211325392\n",
      "Epoch: 115/460 - train_loss: 0.1802 - test_loss: 0.100341\n",
      "Epoch: 230/460 - train_loss: 0.1729 - test_loss: 0.112373\n",
      "Epoch: 124/250 - train_loss: 0.2051 - test_loss: 0.112904\n",
      "Epoch: 160/320 - train_loss: 0.4874 - test_loss: 0.432748\n",
      "Epoch: 186/250 - train_loss: 0.1990 - test_loss: 0.113855\n",
      "Epoch: 459/460 - train_loss: 0.2016 - test_loss: 0.107432\n",
      "City: Bình Thuận  _algo:cnn  -RMSE: 6.374728729438115\n",
      "City: Bình Thuận  _algo:cnn  -RMSE: 7.623524130653064\n"
     ]
    },
    {
     "name": "stderr",
     "output_type": "stream",
     "text": [
      "\u001b[32m[I 2023-02-07 13:17:54,646]\u001b[0m Trial 17 finished with value: 6.374728729438115 and parameters: {'Epochs': 100, 'Learning rate': 0.00028171442916443144, 'Num. filters': [16, 32, 64], 'Dropout rate': 0.38975137039369584}. Best is trial 9 with value: 6.1613587202268505.\u001b[0m\n"
     ]
    },
    {
     "name": "stdout",
     "output_type": "stream",
     "text": [
      "City: Bình Thuận  _algo:cnn  -RMSE: 9.653434487727266\n",
      "Epoch: 107/430 - train_loss: 0.1792 - test_loss: 0.104868\n",
      "Epoch: 240/320 - train_loss: 0.3865 - test_loss: 0.331597\n",
      "Epoch: 248/250 - train_loss: 0.2024 - test_loss: 0.108749\n",
      "Epoch: 249/250 - train_loss: 0.1963 - test_loss: 0.114573\n",
      "City: Bình Thuận  _algo:cnn  -RMSE: 7.524633760272262\n",
      "City: Bình Thuận  _algo:cnn  -RMSE: 7.0337349355032215\n"
     ]
    },
    {
     "name": "stderr",
     "output_type": "stream",
     "text": [
      "\u001b[32m[I 2023-02-07 13:18:13,302]\u001b[0m Trial 28 finished with value: 7.524633760272262 and parameters: {'Epochs': 250, 'Learning rate': 0.0007415920927383137, 'Num. filters': [100, 100, 100], 'Dropout rate': 0.6870344803393984}. Best is trial 9 with value: 6.1613587202268505.\u001b[0m\n"
     ]
    },
    {
     "name": "stdout",
     "output_type": "stream",
     "text": [
      "City: Bình Thuận  _algo:cnn  -RMSE: 8.004935262885825\n",
      "Epoch: 345/460 - train_loss: 0.1559 - test_loss: 0.103605\n",
      "Epoch: 230/460 - train_loss: 0.1512 - test_loss: 0.104901\n",
      "Epoch: 319/320 - train_loss: 0.3213 - test_loss: 0.252709\n",
      "City: Bình Thuận  _algo:cnn  -RMSE: 7.1569454095452825\n",
      "City: Bình Thuận  _algo:cnn  -RMSE: 8.609192416625365\n"
     ]
    },
    {
     "name": "stderr",
     "output_type": "stream",
     "text": [
      "\u001b[32m[I 2023-02-07 13:18:30,376]\u001b[0m Trial 29 finished with value: 7.1569454095452825 and parameters: {'Epochs': 320, 'Learning rate': 0.00010366743323996141, 'Num. filters': [100, 100, 100], 'Dropout rate': 0.7841685385061099}. Best is trial 9 with value: 6.1613587202268505.\u001b[0m\n"
     ]
    },
    {
     "name": "stdout",
     "output_type": "stream",
     "text": [
      "City: Bình Thuận  _algo:cnn  -RMSE: 10.515842486647788\n",
      "Epoch: 115/460 - train_loss: 0.1824 - test_loss: 0.100404\n",
      "Epoch:  0/460 - train_loss: 0.8505 - test_loss: 0.710125\n",
      "Epoch:  0/460 - train_loss: 0.8563 - test_loss: 0.662448\n",
      "Epoch: 214/430 - train_loss: 0.1681 - test_loss: 0.108278\n",
      "Epoch: 459/460 - train_loss: 0.1599 - test_loss: 0.112321\n",
      "City: Bình Thuận  _algo:cnn  -RMSE: 8.045080040972698\n"
     ]
    },
    {
     "name": "stderr",
     "output_type": "stream",
     "text": [
      "\u001b[32m[I 2023-02-07 13:18:51,888]\u001b[0m Trial 16 finished with value: 8.045080040972698 and parameters: {'Epochs': 440, 'Learning rate': 0.008542624318496098, 'Num. filters': [16, 32, 64], 'Dropout rate': 0.06282544847801655}. Best is trial 9 with value: 6.1613587202268505.\u001b[0m\n"
     ]
    },
    {
     "name": "stdout",
     "output_type": "stream",
     "text": [
      "City: Bình Thuận  _algo:cnn  -RMSE: 7.366685294444874\n",
      "City: Bình Thuận  _algo:cnn  -RMSE: 7.6334373609746375\n",
      "Epoch: 345/460 - train_loss: 0.1619 - test_loss: 0.100613\n",
      "Epoch: 115/460 - train_loss: 0.1652 - test_loss: 0.103708\n",
      "Epoch:  0/460 - train_loss: 0.8698 - test_loss: 0.691305\n",
      "Epoch: 230/460 - train_loss: 0.1777 - test_loss: 0.103457\n",
      "Epoch: 115/460 - train_loss: 0.2325 - test_loss: 0.131069\n",
      "Epoch: 321/430 - train_loss: 0.1577 - test_loss: 0.101090\n",
      "Epoch: 459/460 - train_loss: 0.1479 - test_loss: 0.099574\n",
      "City: Bình Thuận  _algo:cnn  -RMSE: 8.43515869444952\n",
      "City: Bình Thuận  _algo:cnn  -RMSE: 8.120536508749273\n"
     ]
    },
    {
     "name": "stderr",
     "output_type": "stream",
     "text": [
      "\u001b[32m[I 2023-02-07 13:19:27,358]\u001b[0m Trial 8 finished with value: 8.43515869444952 and parameters: {'Epochs': 210, 'Learning rate': 0.0024835053456060065, 'Num. filters': [16, 32, 64], 'Dropout rate': 0.10632497585925345}. Best is trial 9 with value: 6.1613587202268505.\u001b[0m\n"
     ]
    },
    {
     "name": "stdout",
     "output_type": "stream",
     "text": [
      "City: Bình Thuận  _algo:cnn  -RMSE: 7.28773685594355\n",
      "Epoch: 230/460 - train_loss: 0.1461 - test_loss: 0.102961\n",
      "Epoch: 115/460 - train_loss: 0.2342 - test_loss: 0.129122\n",
      "Epoch: 428/430 - train_loss: 0.1501 - test_loss: 0.096563\n",
      "Epoch: 429/430 - train_loss: 0.1584 - test_loss: 0.097994\n",
      "City: Bình Thuận  _algo:cnn  -RMSE: 7.60262104881214\n",
      "City: Bình Thuận  _algo:cnn  -RMSE: 7.263277054489332\n"
     ]
    },
    {
     "name": "stderr",
     "output_type": "stream",
     "text": [
      "\u001b[32m[I 2023-02-07 13:19:46,065]\u001b[0m Trial 0 finished with value: 7.60262104881214 and parameters: {'Epochs': 450, 'Learning rate': 0.002024936164644048, 'Num. filters': [128, 128, 128], 'Dropout rate': 0.33026916986566146}. Best is trial 9 with value: 6.1613587202268505.\u001b[0m\n"
     ]
    },
    {
     "name": "stdout",
     "output_type": "stream",
     "text": [
      "City: Bình Thuận  _algo:cnn  -RMSE: 8.086416897791352\n",
      "Epoch: 345/460 - train_loss: 0.1621 - test_loss: 0.102658\n",
      "Epoch: 230/460 - train_loss: 0.2220 - test_loss: 0.147312\n",
      "Epoch: 115/460 - train_loss: 0.4816 - test_loss: 0.441757\n",
      "Epoch: 345/460 - train_loss: 0.1461 - test_loss: 0.106302\n",
      "Epoch: 230/460 - train_loss: 0.2328 - test_loss: 0.135952\n",
      "Epoch: 459/460 - train_loss: 0.1578 - test_loss: 0.104481\n",
      "City: Bình Thuận  _algo:cnn  -RMSE: 7.751714750992658\n",
      "City: Bình Thuận  _algo:cnn  -RMSE: 7.686217866225735\n"
     ]
    },
    {
     "name": "stderr",
     "output_type": "stream",
     "text": [
      "\u001b[32m[I 2023-02-07 13:20:17,057]\u001b[0m Trial 19 finished with value: 7.751714750992658 and parameters: {'Epochs': 460, 'Learning rate': 0.0011911693164657928, 'Num. filters': [100, 100, 100], 'Dropout rate': 0.3724795535841676}. Best is trial 9 with value: 6.1613587202268505.\u001b[0m\n"
     ]
    },
    {
     "name": "stdout",
     "output_type": "stream",
     "text": [
      "City: Bình Thuận  _algo:cnn  -RMSE: 7.987821492851605\n",
      "Epoch: 115/460 - train_loss: 0.1972 - test_loss: 0.129441\n",
      "Epoch: 345/460 - train_loss: 0.2251 - test_loss: 0.140587\n",
      "Epoch: 459/460 - train_loss: 0.1311 - test_loss: 0.105233\n",
      "City: Bình Thuận  _algo:cnn  -RMSE: 6.966410115284129\n",
      "City: Bình Thuận  _algo:cnn  -RMSE: 7.333191936300873\n"
     ]
    },
    {
     "name": "stderr",
     "output_type": "stream",
     "text": [
      "\u001b[32m[I 2023-02-07 13:20:37,716]\u001b[0m Trial 14 finished with value: 6.966410115284129 and parameters: {'Epochs': 130, 'Learning rate': 0.0008186943613904256, 'Num. filters': [100, 100, 100], 'Dropout rate': 0.05438743937683646}. Best is trial 9 with value: 6.1613587202268505.\u001b[0m\n"
     ]
    },
    {
     "name": "stdout",
     "output_type": "stream",
     "text": [
      "City: Bình Thuận  _algo:cnn  -RMSE: 6.977059609603773\n",
      "Epoch: 230/460 - train_loss: 0.3136 - test_loss: 0.262724\n",
      "Epoch: 107/430 - train_loss: 0.1926 - test_loss: 0.101386\n",
      "Epoch: 345/460 - train_loss: 0.2301 - test_loss: 0.136758\n",
      "Epoch: 459/460 - train_loss: 0.2235 - test_loss: 0.152430\n",
      "City: Bình Thuận  _algo:cnn  -RMSE: 6.907981288330808\n"
     ]
    },
    {
     "name": "stderr",
     "output_type": "stream",
     "text": [
      "\u001b[32m[I 2023-02-07 13:20:56,620]\u001b[0m Trial 4 finished with value: 6.907981288330808 and parameters: {'Epochs': 200, 'Learning rate': 0.006550097706141249, 'Num. filters': [128, 128, 128], 'Dropout rate': 0.7798874072671317}. Best is trial 9 with value: 6.1613587202268505.\u001b[0m\n"
     ]
    },
    {
     "name": "stdout",
     "output_type": "stream",
     "text": [
      "City: Bình Thuận  _algo:cnn  -RMSE: 7.390580429145416\n",
      "City: Bình Thuận  _algo:cnn  -RMSE: 9.326065587630865\n",
      "Epoch: 230/460 - train_loss: 0.1738 - test_loss: 0.098199\n",
      "Epoch: 345/460 - train_loss: 0.2222 - test_loss: 0.159003\n",
      "Epoch: 115/460 - train_loss: 0.1678 - test_loss: 0.114938\n",
      "Epoch: 459/460 - train_loss: 0.2470 - test_loss: 0.168758\n",
      "City: Bình Thuận  _algo:cnn  -RMSE: 6.335166106199077\n"
     ]
    },
    {
     "name": "stderr",
     "output_type": "stream",
     "text": [
      "\u001b[32m[I 2023-02-07 13:21:17,657]\u001b[0m Trial 18 finished with value: 6.335166106199077 and parameters: {'Epochs': 360, 'Learning rate': 0.009736737378261303, 'Num. filters': [32, 64, 128], 'Dropout rate': 0.6547781737414305}. Best is trial 9 with value: 6.1613587202268505.\u001b[0m\n"
     ]
    },
    {
     "name": "stdout",
     "output_type": "stream",
     "text": [
      "City: Bình Thuận  _algo:cnn  -RMSE: 5.799675270675759\n",
      "City: Bình Thuận  _algo:cnn  -RMSE: 6.888138354648908\n",
      "Epoch: 214/430 - train_loss: 0.1764 - test_loss: 0.101763\n",
      "Epoch: 115/460 - train_loss: 0.1896 - test_loss: 0.122089\n",
      "Epoch: 345/460 - train_loss: 0.1685 - test_loss: 0.098462\n",
      "Epoch: 459/460 - train_loss: 0.2021 - test_loss: 0.111928\n",
      "City: Bình Thuận  _algo:cnn  -RMSE: 6.276343092627959\n",
      "City: Bình Thuận  _algo:cnn  -RMSE: 6.6512400965194605\n"
     ]
    },
    {
     "name": "stderr",
     "output_type": "stream",
     "text": [
      "\u001b[32m[I 2023-02-07 13:21:40,918]\u001b[0m Trial 6 finished with value: 6.276343092627959 and parameters: {'Epochs': 500, 'Learning rate': 0.0001440723474472535, 'Num. filters': [128, 128, 128], 'Dropout rate': 0.5748308901758065}. Best is trial 9 with value: 6.1613587202268505.\u001b[0m\n"
     ]
    },
    {
     "name": "stdout",
     "output_type": "stream",
     "text": [
      "City: Bình Thuận  _algo:cnn  -RMSE: 8.59859988783248\n",
      "Epoch: 230/460 - train_loss: 0.1608 - test_loss: 0.110739\n",
      "Epoch: 321/430 - train_loss: 0.1644 - test_loss: 0.098270\n",
      "Epoch: 115/460 - train_loss: 0.2105 - test_loss: 0.117589\n",
      "Epoch: 459/460 - train_loss: 0.1675 - test_loss: 0.099776\n",
      "City: Bình Thuận  _algo:cnn  -RMSE: 6.4032642209962125\n",
      "City: Bình Thuận  _algo:cnn  -RMSE: 6.054486458543383\n"
     ]
    },
    {
     "name": "stderr",
     "output_type": "stream",
     "text": [
      "\u001b[32m[I 2023-02-07 13:22:03,452]\u001b[0m Trial 15 finished with value: 6.4032642209962125 and parameters: {'Epochs': 430, 'Learning rate': 0.0005219950511667325, 'Num. filters': [32, 64, 128], 'Dropout rate': 0.17133516172083857}. Best is trial 9 with value: 6.1613587202268505.\u001b[0m\n"
     ]
    },
    {
     "name": "stdout",
     "output_type": "stream",
     "text": [
      "City: Bình Thuận  _algo:cnn  -RMSE: 6.711315093305578\n",
      "Epoch: 230/460 - train_loss: 0.1796 - test_loss: 0.108646\n",
      "Epoch: 428/430 - train_loss: 0.1707 - test_loss: 0.098293\n",
      "Epoch: 429/430 - train_loss: 0.1624 - test_loss: 0.100082\n",
      "City: Bình Thuận  _algo:cnn  -RMSE: 7.2712491215801025\n"
     ]
    },
    {
     "name": "stderr",
     "output_type": "stream",
     "text": [
      "\u001b[32m[I 2023-02-07 13:22:17,424]\u001b[0m Trial 1 finished with value: 7.2712491215801025 and parameters: {'Epochs': 440, 'Learning rate': 0.001439488030413875, 'Num. filters': [16, 32, 64], 'Dropout rate': 0.2330665529489083}. Best is trial 9 with value: 6.1613587202268505.\u001b[0m\n"
     ]
    },
    {
     "name": "stdout",
     "output_type": "stream",
     "text": [
      "City: Bình Thuận  _algo:cnn  -RMSE: 6.014968167784995\n",
      "City: Bình Thuận  _algo:cnn  -RMSE: 6.941596266924484\n",
      "Epoch: 345/460 - train_loss: 0.1410 - test_loss: 0.098143\n",
      "Epoch: 230/460 - train_loss: 0.1885 - test_loss: 0.111264\n",
      "Epoch: 345/460 - train_loss: 0.1725 - test_loss: 0.103950\n",
      "Epoch: 459/460 - train_loss: 0.1306 - test_loss: 0.099054\n",
      "City: Bình Thuận  _algo:cnn  -RMSE: 8.634361075920435\n"
     ]
    },
    {
     "name": "stderr",
     "output_type": "stream",
     "text": [
      "\u001b[32m[I 2023-02-07 13:22:41,173]\u001b[0m Trial 12 finished with value: 8.634361075920435 and parameters: {'Epochs': 220, 'Learning rate': 0.0022623620308999583, 'Num. filters': [32, 64, 128], 'Dropout rate': 0.09858504875078355}. Best is trial 9 with value: 6.1613587202268505.\u001b[0m\n"
     ]
    },
    {
     "name": "stdout",
     "output_type": "stream",
     "text": [
      "City: Bình Thuận  _algo:cnn  -RMSE: 8.916649656233481\n",
      "City: Bình Thuận  _algo:cnn  -RMSE: 7.728501143565028\n",
      "Epoch: 345/460 - train_loss: 0.1921 - test_loss: 0.114142\n",
      "Epoch: 459/460 - train_loss: 0.1822 - test_loss: 0.110734\n",
      "City: Bình Thuận  _algo:cnn  -RMSE: 7.6838841338028425\n"
     ]
    },
    {
     "name": "stderr",
     "output_type": "stream",
     "text": [
      "\u001b[32m[I 2023-02-07 13:22:55,609]\u001b[0m Trial 13 finished with value: 7.6838841338028425 and parameters: {'Epochs': 180, 'Learning rate': 0.004550368476496575, 'Num. filters': [64, 64, 64], 'Dropout rate': 0.41939843756473044}. Best is trial 9 with value: 6.1613587202268505.\u001b[0m\n"
     ]
    },
    {
     "name": "stdout",
     "output_type": "stream",
     "text": [
      "City: Bình Thuận  _algo:cnn  -RMSE: 7.495948941310001\n",
      "City: Bình Thuận  _algo:cnn  -RMSE: 7.830087515298156\n",
      "Epoch: 459/460 - train_loss: 0.1821 - test_loss: 0.105972\n",
      "City: Bình Thuận  _algo:cnn  -RMSE: 7.2769458334558195\n"
     ]
    },
    {
     "name": "stderr",
     "output_type": "stream",
     "text": [
      "\u001b[32m[I 2023-02-07 13:23:07,862]\u001b[0m Trial 11 finished with value: 7.2769458334558195 and parameters: {'Epochs': 110, 'Learning rate': 0.0006458204363267771, 'Num. filters': [100, 100, 100], 'Dropout rate': 0.5659321148908291}. Best is trial 9 with value: 6.1613587202268505.\u001b[0m\n",
      "\u001b[32m[I 2023-02-07 13:23:07,890]\u001b[0m A new study created in memory with name: no-name-f6e40c09-95af-4f43-81e8-20e942058fb9\u001b[0m\n"
     ]
    },
    {
     "name": "stdout",
     "output_type": "stream",
     "text": [
      "City: Bình Thuận  _algo:cnn  -RMSE: 7.08493228861388\n",
      "City: Bình Thuận  _algo:cnn  -RMSE: 7.927450438983304\n",
      "Study statistics for : \n",
      "  Number of finished trials:  30\n",
      "Best trial of city:  Bình Thuận\n",
      "  Value:  6.1613587202268505\n"
     ]
    },
    {
     "name": "stderr",
     "output_type": "stream",
     "text": [
      "<ipython-input-14-8244d6fc4512>:11: FutureWarning: suggest_loguniform has been deprecated in v3.0.0. This feature will be removed in v6.0.0. See https://github.com/optuna/optuna/releases/tag/v3.0.0. Use :func:`~optuna.trial.Trial.suggest_float` instead.\n",
      "  learning_rate = trial.suggest_loguniform('Learning rate', 1e-4, 1e-2)\n"
     ]
    },
    {
     "name": "stdout",
     "output_type": "stream",
     "text": [
      "Epoch:  0/110 - train_loss: 1.1053 - test_loss: 0.867934\n",
      "Epoch:  0/110 - train_loss: 1.0973 - test_loss: 0.852302\n",
      "Epoch:  0/110 - train_loss: 1.2169 - test_loss: 0.940926\n",
      "Epoch:  0/110 - train_loss: 0.8703 - test_loss: 0.718745\n",
      "Epoch:  0/110 - train_loss: 1.0453 - test_loss: 0.740153\n",
      "Epoch:  0/110 - train_loss: 0.9245 - test_loss: 0.748568\n",
      "Epoch:  0/110 - train_loss: 0.8747 - test_loss: 0.683123\n",
      "Epoch:  0/110 - train_loss: 0.7847 - test_loss: 0.637011\n",
      "Epoch: 27/110 - train_loss: 0.4546 - test_loss: 0.421694\n",
      "Epoch: 27/110 - train_loss: 0.7412 - test_loss: 0.588499\n",
      "Epoch: 27/110 - train_loss: 0.2937 - test_loss: 0.224218\n",
      "Epoch: 27/110 - train_loss: 0.6443 - test_loss: 0.618095\n",
      "Epoch: 27/110 - train_loss: 0.2461 - test_loss: 0.167683\n",
      "Epoch: 54/110 - train_loss: 0.2990 - test_loss: 0.237182\n",
      "Epoch: 54/110 - train_loss: 0.5143 - test_loss: 0.494260\n",
      "Epoch: 27/110 - train_loss: 0.6441 - test_loss: 0.619083\n",
      "Epoch: 54/110 - train_loss: 0.2135 - test_loss: 0.117475\n",
      "Epoch: 54/110 - train_loss: 0.5721 - test_loss: 0.539766\n",
      "Epoch: 81/110 - train_loss: 0.2423 - test_loss: 0.163462\n",
      "Epoch: 81/110 - train_loss: 0.4346 - test_loss: 0.407975\n",
      "Epoch: 54/110 - train_loss: 0.2379 - test_loss: 0.113203\n",
      "Epoch: 81/110 - train_loss: 0.2032 - test_loss: 0.112286\n",
      "Epoch: 108/110 - train_loss: 0.2235 - test_loss: 0.140065\n",
      "Epoch: 109/110 - train_loss: 0.2243 - test_loss: 0.130303\n",
      "City: Bình Thuận  _algo:lstm  -RMSE: 9.156056826414995\n",
      "City: Bình Thuận  _algo:lstm  -RMSE: 10.555074209661171\n"
     ]
    },
    {
     "name": "stderr",
     "output_type": "stream",
     "text": [
      "\u001b[32m[I 2023-02-07 13:24:14,648]\u001b[0m Trial 4 finished with value: 9.156056826414995 and parameters: {'Epochs': 410, 'Hidden size': 11, 'n layers': 4, 'Learning rate': 0.0006542929078882376}. Best is trial 4 with value: 9.156056826414995.\u001b[0m\n"
     ]
    },
    {
     "name": "stdout",
     "output_type": "stream",
     "text": [
      "City: Bình Thuận  _algo:lstm  -RMSE: 11.448978644760729\n"
     ]
    },
    {
     "name": "stderr",
     "output_type": "stream",
     "text": [
      "<ipython-input-14-8244d6fc4512>:11: FutureWarning: suggest_loguniform has been deprecated in v3.0.0. This feature will be removed in v6.0.0. See https://github.com/optuna/optuna/releases/tag/v3.0.0. Use :func:`~optuna.trial.Trial.suggest_float` instead.\n",
      "  learning_rate = trial.suggest_loguniform('Learning rate', 1e-4, 1e-2)\n"
     ]
    },
    {
     "name": "stdout",
     "output_type": "stream",
     "text": [
      "Epoch: 108/110 - train_loss: 0.3646 - test_loss: 0.326941\n",
      "Epoch:  0/140 - train_loss: 1.0209 - test_loss: 0.796624\n",
      "Epoch: 81/110 - train_loss: 0.5091 - test_loss: 0.471870\n",
      "Epoch: 109/110 - train_loss: 0.3620 - test_loss: 0.322565\n",
      "City: Bình Thuận  _algo:lstm  -RMSE: 20.43678788094483\n",
      "City: Bình Thuận  _algo:lstm  -RMSE: 18.887859861931638\n"
     ]
    },
    {
     "name": "stderr",
     "output_type": "stream",
     "text": [
      "\u001b[32m[I 2023-02-07 13:24:18,335]\u001b[0m Trial 11 finished with value: 20.43678788094483 and parameters: {'Epochs': 180, 'Hidden size': 5, 'n layers': 4, 'Learning rate': 0.00024322969734347496}. Best is trial 4 with value: 9.156056826414995.\u001b[0m\n"
     ]
    },
    {
     "name": "stdout",
     "output_type": "stream",
     "text": [
      "City: Bình Thuận  _algo:lstm  -RMSE: 20.418930705126826\n"
     ]
    },
    {
     "name": "stderr",
     "output_type": "stream",
     "text": [
      "<ipython-input-14-8244d6fc4512>:11: FutureWarning: suggest_loguniform has been deprecated in v3.0.0. This feature will be removed in v6.0.0. See https://github.com/optuna/optuna/releases/tag/v3.0.0. Use :func:`~optuna.trial.Trial.suggest_float` instead.\n",
      "  learning_rate = trial.suggest_loguniform('Learning rate', 1e-4, 1e-2)\n"
     ]
    },
    {
     "name": "stdout",
     "output_type": "stream",
     "text": [
      "Epoch:  0/500 - train_loss: 0.9288 - test_loss: 0.748168\n",
      "Epoch: 54/110 - train_loss: 0.5654 - test_loss: 0.534329\n",
      "Epoch: 108/110 - train_loss: 0.1992 - test_loss: 0.111574\n",
      "Epoch: 27/110 - train_loss: 0.2811 - test_loss: 0.203213\n",
      "Epoch: 109/110 - train_loss: 0.1924 - test_loss: 0.111009\n",
      "City: Bình Thuận  _algo:lstm  -RMSE: 7.164873600472773\n",
      "City: Bình Thuận  _algo:lstm  -RMSE: 7.142485550074189\n"
     ]
    },
    {
     "name": "stderr",
     "output_type": "stream",
     "text": [
      "\u001b[32m[I 2023-02-07 13:24:35,874]\u001b[0m Trial 8 finished with value: 7.164873600472773 and parameters: {'Epochs': 130, 'Hidden size': 171, 'n layers': 5, 'Learning rate': 0.0014616901399694163}. Best is trial 8 with value: 7.164873600472773.\u001b[0m\n"
     ]
    },
    {
     "name": "stdout",
     "output_type": "stream",
     "text": [
      "City: Bình Thuận  _algo:lstm  -RMSE: 8.161666654153999\n"
     ]
    },
    {
     "name": "stderr",
     "output_type": "stream",
     "text": [
      "<ipython-input-14-8244d6fc4512>:11: FutureWarning: suggest_loguniform has been deprecated in v3.0.0. This feature will be removed in v6.0.0. See https://github.com/optuna/optuna/releases/tag/v3.0.0. Use :func:`~optuna.trial.Trial.suggest_float` instead.\n",
      "  learning_rate = trial.suggest_loguniform('Learning rate', 1e-4, 1e-2)\n"
     ]
    },
    {
     "name": "stdout",
     "output_type": "stream",
     "text": [
      "Epoch:  0/410 - train_loss: 0.7206 - test_loss: 0.650996\n",
      "Epoch: 81/110 - train_loss: 0.1988 - test_loss: 0.115004\n",
      "Epoch: 108/110 - train_loss: 0.4524 - test_loss: 0.411099\n",
      "Epoch: 109/110 - train_loss: 0.4499 - test_loss: 0.412533\n",
      "City: Bình Thuận  _algo:lstm  -RMSE: 10.121264698958566\n",
      "City: Bình Thuận  _algo:lstm  -RMSE: 11.552293372402328\n"
     ]
    },
    {
     "name": "stderr",
     "output_type": "stream",
     "text": [
      "\u001b[32m[I 2023-02-07 13:24:52,599]\u001b[0m Trial 0 finished with value: 10.121264698958566 and parameters: {'Epochs': 350, 'Hidden size': 62, 'n layers': 6, 'Learning rate': 0.00017422979568084768}. Best is trial 8 with value: 7.164873600472773.\u001b[0m\n"
     ]
    },
    {
     "name": "stdout",
     "output_type": "stream",
     "text": [
      "City: Bình Thuận  _algo:lstm  -RMSE: 12.120062773457366\n"
     ]
    },
    {
     "name": "stderr",
     "output_type": "stream",
     "text": [
      "<ipython-input-14-8244d6fc4512>:11: FutureWarning: suggest_loguniform has been deprecated in v3.0.0. This feature will be removed in v6.0.0. See https://github.com/optuna/optuna/releases/tag/v3.0.0. Use :func:`~optuna.trial.Trial.suggest_float` instead.\n",
      "  learning_rate = trial.suggest_loguniform('Learning rate', 1e-4, 1e-2)\n"
     ]
    },
    {
     "name": "stdout",
     "output_type": "stream",
     "text": [
      "Epoch:  0/260 - train_loss: 1.0432 - test_loss: 0.871099\n",
      "Epoch: 35/140 - train_loss: 0.6536 - test_loss: 0.625775\n",
      "Epoch: 81/110 - train_loss: 0.4991 - test_loss: 0.462157\n",
      "Epoch: 108/110 - train_loss: 0.1982 - test_loss: 0.118233\n",
      "Epoch: 109/110 - train_loss: 0.1906 - test_loss: 0.119201\n",
      "City: Bình Thuận  _algo:lstm  -RMSE: 6.202614348140796\n",
      "City: Bình Thuận  _algo:lstm  -RMSE: 7.136665038346183\n"
     ]
    },
    {
     "name": "stderr",
     "output_type": "stream",
     "text": [
      "\u001b[32m[I 2023-02-07 13:25:15,923]\u001b[0m Trial 2 finished with value: 6.202614348140796 and parameters: {'Epochs': 180, 'Hidden size': 14, 'n layers': 7, 'Learning rate': 0.0029875818793975713}. Best is trial 2 with value: 6.202614348140796.\u001b[0m\n"
     ]
    },
    {
     "name": "stdout",
     "output_type": "stream",
     "text": [
      "City: Bình Thuận  _algo:lstm  -RMSE: 8.052711374557836\n"
     ]
    },
    {
     "name": "stderr",
     "output_type": "stream",
     "text": [
      "<ipython-input-14-8244d6fc4512>:11: FutureWarning: suggest_loguniform has been deprecated in v3.0.0. This feature will be removed in v6.0.0. See https://github.com/optuna/optuna/releases/tag/v3.0.0. Use :func:`~optuna.trial.Trial.suggest_float` instead.\n",
      "  learning_rate = trial.suggest_loguniform('Learning rate', 1e-4, 1e-2)\n"
     ]
    },
    {
     "name": "stdout",
     "output_type": "stream",
     "text": [
      "Epoch:  0/500 - train_loss: 0.9963 - test_loss: 0.780958\n",
      "Epoch: 70/140 - train_loss: 0.5880 - test_loss: 0.557611\n",
      "Epoch:  0/110 - train_loss: 0.9764 - test_loss: 0.759878\n",
      "Epoch: 54/110 - train_loss: 0.2186 - test_loss: 0.119784\n",
      "Epoch: 108/110 - train_loss: 0.4396 - test_loss: 0.399360\n",
      "Epoch: 109/110 - train_loss: 0.4375 - test_loss: 0.400431\n",
      "City: Bình Thuận  _algo:lstm  -RMSE: 10.696146764115621\n",
      "City: Bình Thuận  _algo:lstm  -RMSE: 11.744831815398003\n"
     ]
    },
    {
     "name": "stderr",
     "output_type": "stream",
     "text": [
      "\u001b[32m[I 2023-02-07 13:26:00,200]\u001b[0m Trial 5 finished with value: 10.696146764115621 and parameters: {'Epochs': 390, 'Hidden size': 51, 'n layers': 6, 'Learning rate': 0.0001885428800571197}. Best is trial 2 with value: 6.202614348140796.\u001b[0m\n"
     ]
    },
    {
     "name": "stdout",
     "output_type": "stream",
     "text": [
      "City: Bình Thuận  _algo:lstm  -RMSE: 13.080245581468095\n"
     ]
    },
    {
     "name": "stderr",
     "output_type": "stream",
     "text": [
      "<ipython-input-14-8244d6fc4512>:11: FutureWarning: suggest_loguniform has been deprecated in v3.0.0. This feature will be removed in v6.0.0. See https://github.com/optuna/optuna/releases/tag/v3.0.0. Use :func:`~optuna.trial.Trial.suggest_float` instead.\n",
      "  learning_rate = trial.suggest_loguniform('Learning rate', 1e-4, 1e-2)\n"
     ]
    },
    {
     "name": "stdout",
     "output_type": "stream",
     "text": [
      "Epoch:  0/490 - train_loss: 1.0561 - test_loss: 0.833142\n",
      "Epoch: 102/410 - train_loss: 0.1913 - test_loss: 0.119945\n",
      "Epoch: 65/260 - train_loss: 0.2444 - test_loss: 0.160399\n",
      "Epoch: 105/140 - train_loss: 0.5270 - test_loss: 0.496466\n",
      "Epoch: 125/500 - train_loss: 0.5108 - test_loss: 0.476638\n",
      "Epoch: 139/140 - train_loss: 0.4743 - test_loss: 0.438552\n",
      "City: Bình Thuận  _algo:lstm  -RMSE: 12.052049267793352\n",
      "City: Bình Thuận  _algo:lstm  -RMSE: 12.503252915685886\n"
     ]
    },
    {
     "name": "stderr",
     "output_type": "stream",
     "text": [
      "\u001b[32m[I 2023-02-07 13:27:16,166]\u001b[0m Trial 20 finished with value: 12.052049267793352 and parameters: {'Epochs': 140, 'Hidden size': 196, 'n layers': 9, 'Learning rate': 0.00012572566724820296}. Best is trial 2 with value: 6.202614348140796.\u001b[0m\n"
     ]
    },
    {
     "name": "stdout",
     "output_type": "stream",
     "text": [
      "City: Bình Thuận  _algo:lstm  -RMSE: 13.844638516821995\n"
     ]
    },
    {
     "name": "stderr",
     "output_type": "stream",
     "text": [
      "<ipython-input-14-8244d6fc4512>:11: FutureWarning: suggest_loguniform has been deprecated in v3.0.0. This feature will be removed in v6.0.0. See https://github.com/optuna/optuna/releases/tag/v3.0.0. Use :func:`~optuna.trial.Trial.suggest_float` instead.\n",
      "  learning_rate = trial.suggest_loguniform('Learning rate', 1e-4, 1e-2)\n"
     ]
    },
    {
     "name": "stdout",
     "output_type": "stream",
     "text": [
      "Epoch: 81/110 - train_loss: 0.2005 - test_loss: 0.122159\n",
      "Epoch:  0/420 - train_loss: 0.9566 - test_loss: 0.763224\n",
      "Epoch: 204/410 - train_loss: 0.1001 - test_loss: 0.149402\n",
      "Epoch: 130/260 - train_loss: 0.2440 - test_loss: 0.151880\n",
      "Epoch: 125/500 - train_loss: 0.4088 - test_loss: 0.368402\n",
      "Epoch: 27/110 - train_loss: 0.3211 - test_loss: 0.219309\n",
      "Epoch: 306/410 - train_loss: 0.0936 - test_loss: 0.126340\n",
      "Epoch: 108/110 - train_loss: 0.1965 - test_loss: 0.125184\n",
      "Epoch: 109/110 - train_loss: 0.1944 - test_loss: 0.117155\n",
      "City: Bình Thuận  _algo:lstm  -RMSE: 8.082720828418383\n",
      "City: Bình Thuận  _algo:lstm  -RMSE: 7.514266373335285\n"
     ]
    },
    {
     "name": "stderr",
     "output_type": "stream",
     "text": [
      "\u001b[32m[I 2023-02-07 13:28:37,342]\u001b[0m Trial 7 finished with value: 8.082720828418383 and parameters: {'Epochs': 400, 'Hidden size': 26, 'n layers': 6, 'Learning rate': 0.0015961339413236902}. Best is trial 2 with value: 6.202614348140796.\u001b[0m\n"
     ]
    },
    {
     "name": "stdout",
     "output_type": "stream",
     "text": [
      "City: Bình Thuận  _algo:lstm  -RMSE: 10.23816839386422\n"
     ]
    },
    {
     "name": "stderr",
     "output_type": "stream",
     "text": [
      "<ipython-input-14-8244d6fc4512>:11: FutureWarning: suggest_loguniform has been deprecated in v3.0.0. This feature will be removed in v6.0.0. See https://github.com/optuna/optuna/releases/tag/v3.0.0. Use :func:`~optuna.trial.Trial.suggest_float` instead.\n",
      "  learning_rate = trial.suggest_loguniform('Learning rate', 1e-4, 1e-2)\n"
     ]
    },
    {
     "name": "stdout",
     "output_type": "stream",
     "text": [
      "Epoch:  0/430 - train_loss: 0.8409 - test_loss: 0.676989\n",
      "Epoch: 195/260 - train_loss: 0.2292 - test_loss: 0.132707\n",
      "Epoch: 105/420 - train_loss: 0.4064 - test_loss: 0.362903\n",
      "Epoch: 122/490 - train_loss: 0.4448 - test_loss: 0.404471\n",
      "Epoch: 250/500 - train_loss: 0.3410 - test_loss: 0.307392\n",
      "Epoch: 408/410 - train_loss: 0.0514 - test_loss: 0.179835\n",
      "Epoch: 409/410 - train_loss: 0.0502 - test_loss: 0.188670\n",
      "City: Bình Thuận  _algo:lstm  -RMSE: 7.558819107556644\n",
      "City: Bình Thuận  _algo:lstm  -RMSE: 9.367890066450883\n"
     ]
    },
    {
     "name": "stderr",
     "output_type": "stream",
     "text": [
      "\u001b[32m[I 2023-02-07 13:29:45,901]\u001b[0m Trial 22 finished with value: 7.558819107556644 and parameters: {'Epochs': 410, 'Hidden size': 9, 'n layers': 4, 'Learning rate': 0.007965763045325955}. Best is trial 2 with value: 6.202614348140796.\u001b[0m\n"
     ]
    },
    {
     "name": "stdout",
     "output_type": "stream",
     "text": [
      "City: Bình Thuận  _algo:lstm  -RMSE: 8.162603986573972\n"
     ]
    },
    {
     "name": "stderr",
     "output_type": "stream",
     "text": [
      "<ipython-input-14-8244d6fc4512>:11: FutureWarning: suggest_loguniform has been deprecated in v3.0.0. This feature will be removed in v6.0.0. See https://github.com/optuna/optuna/releases/tag/v3.0.0. Use :func:`~optuna.trial.Trial.suggest_float` instead.\n",
      "  learning_rate = trial.suggest_loguniform('Learning rate', 1e-4, 1e-2)\n"
     ]
    },
    {
     "name": "stdout",
     "output_type": "stream",
     "text": [
      "Epoch:  0/190 - train_loss: 0.9713 - test_loss: 0.765514\n",
      "Epoch: 259/260 - train_loss: 0.2150 - test_loss: 0.116879\n",
      "City: Bình Thuận  _algo:lstm  -RMSE: 6.476265223031373\n",
      "City: Bình Thuận  _algo:lstm  -RMSE: 7.0711338490420745\n"
     ]
    },
    {
     "name": "stderr",
     "output_type": "stream",
     "text": [
      "\u001b[32m[I 2023-02-07 13:29:57,062]\u001b[0m Trial 23 finished with value: 6.476265223031373 and parameters: {'Epochs': 260, 'Hidden size': 5, 'n layers': 7, 'Learning rate': 0.0009957636280446059}. Best is trial 2 with value: 6.202614348140796.\u001b[0m\n"
     ]
    },
    {
     "name": "stdout",
     "output_type": "stream",
     "text": [
      "City: Bình Thuận  _algo:lstm  -RMSE: 9.339819459364335\n"
     ]
    },
    {
     "name": "stderr",
     "output_type": "stream",
     "text": [
      "<ipython-input-14-8244d6fc4512>:11: FutureWarning: suggest_loguniform has been deprecated in v3.0.0. This feature will be removed in v6.0.0. See https://github.com/optuna/optuna/releases/tag/v3.0.0. Use :func:`~optuna.trial.Trial.suggest_float` instead.\n",
      "  learning_rate = trial.suggest_loguniform('Learning rate', 1e-4, 1e-2)\n"
     ]
    },
    {
     "name": "stdout",
     "output_type": "stream",
     "text": [
      "Epoch:  0/240 - train_loss: 0.7798 - test_loss: 0.758315\n",
      "Epoch: 250/500 - train_loss: 0.2399 - test_loss: 0.177140\n",
      "Epoch: 210/420 - train_loss: 0.2453 - test_loss: 0.182732\n",
      "Epoch: 47/190 - train_loss: 0.5392 - test_loss: 0.504764\n",
      "Epoch: 60/240 - train_loss: 0.2798 - test_loss: 0.143478\n",
      "Epoch: 94/190 - train_loss: 0.3963 - test_loss: 0.357710\n",
      "Epoch: 375/500 - train_loss: 0.2434 - test_loss: 0.203451\n",
      "Epoch: 315/420 - train_loss: 0.2004 - test_loss: 0.127405\n",
      "Epoch: 244/490 - train_loss: 0.2886 - test_loss: 0.231026\n",
      "Epoch: 375/500 - train_loss: 0.2014 - test_loss: 0.115010\n",
      "Epoch: 141/190 - train_loss: 0.2965 - test_loss: 0.243141\n",
      "Epoch: 120/240 - train_loss: 0.2834 - test_loss: 0.192654\n",
      "Epoch: 188/190 - train_loss: 0.2338 - test_loss: 0.185264\n",
      "Epoch: 189/190 - train_loss: 0.2301 - test_loss: 0.171235\n",
      "City: Bình Thuận  _algo:lstm  -RMSE: 6.16786086659162\n",
      "City: Bình Thuận  _algo:lstm  -RMSE: 7.058568573523877\n"
     ]
    },
    {
     "name": "stderr",
     "output_type": "stream",
     "text": [
      "\u001b[32m[I 2023-02-07 13:32:53,653]\u001b[0m Trial 28 finished with value: 6.16786086659162 and parameters: {'Epochs': 190, 'Hidden size': 78, 'n layers': 8, 'Learning rate': 0.0002585628685605784}. Best is trial 28 with value: 6.16786086659162.\u001b[0m\n"
     ]
    },
    {
     "name": "stdout",
     "output_type": "stream",
     "text": [
      "City: Bình Thuận  _algo:lstm  -RMSE: 11.88173146000447\n",
      "Epoch: 419/420 - train_loss: 0.1927 - test_loss: 0.111636\n",
      "City: Bình Thuận  _algo:lstm  -RMSE: 8.615297966756833\n",
      "City: Bình Thuận  _algo:lstm  -RMSE: 6.321514776370108\n",
      "Epoch: 54/110 - train_loss: 0.3279 - test_loss: 0.251422\n"
     ]
    },
    {
     "name": "stderr",
     "output_type": "stream",
     "text": [
      "\u001b[32m[I 2023-02-07 13:33:20,893]\u001b[0m Trial 26 finished with value: 8.615297966756833 and parameters: {'Epochs': 420, 'Hidden size': 69, 'n layers': 6, 'Learning rate': 0.00022413868518773777}. Best is trial 28 with value: 6.16786086659162.\u001b[0m\n"
     ]
    },
    {
     "name": "stdout",
     "output_type": "stream",
     "text": [
      "City: Bình Thuận  _algo:lstm  -RMSE: 8.836610450727427\n",
      "Epoch: 107/430 - train_loss: 0.2059 - test_loss: 0.118543\n",
      "Epoch:  0/110 - train_loss: 0.8733 - test_loss: 0.717171\n",
      "Epoch: 499/500 - train_loss: 0.2023 - test_loss: 0.115226\n",
      "City: Bình Thuận  _algo:lstm  -RMSE: 6.066372241376853\n",
      "City: Bình Thuận  _algo:lstm  -RMSE: 8.660770412556664\n"
     ]
    },
    {
     "name": "stderr",
     "output_type": "stream",
     "text": [
      "\u001b[32m[I 2023-02-07 13:33:40,959]\u001b[0m Trial 24 finished with value: 6.066372241376853 and parameters: {'Epochs': 500, 'Hidden size': 137, 'n layers': 4, 'Learning rate': 0.00018489912008378925}. Best is trial 24 with value: 6.066372241376853.\u001b[0m\n"
     ]
    },
    {
     "name": "stdout",
     "output_type": "stream",
     "text": [
      "City: Bình Thuận  _algo:lstm  -RMSE: 11.594956199331222\n",
      "Epoch: 180/240 - train_loss: 0.2737 - test_loss: 0.177393\n",
      "Epoch: 499/500 - train_loss: 0.2231 - test_loss: 0.129656\n",
      "Epoch:  0/110 - train_loss: 0.8373 - test_loss: 0.629996\n",
      "City: Bình Thuận  _algo:lstm  -RMSE: 7.338327039884184\n",
      "Epoch: 81/110 - train_loss: 0.2633 - test_loss: 0.152279\n",
      "City: Bình Thuận  _algo:lstm  -RMSE: 6.898058073292039\n"
     ]
    },
    {
     "name": "stderr",
     "output_type": "stream",
     "text": [
      "\u001b[32m[I 2023-02-07 13:33:59,680]\u001b[0m Trial 21 finished with value: 7.338327039884184 and parameters: {'Epochs': 500, 'Hidden size': 164, 'n layers': 9, 'Learning rate': 0.00011659604709865301}. Best is trial 24 with value: 6.066372241376853.\u001b[0m\n"
     ]
    },
    {
     "name": "stdout",
     "output_type": "stream",
     "text": [
      "City: Bình Thuận  _algo:lstm  -RMSE: 10.025918265861812\n",
      "Epoch: 27/110 - train_loss: 0.6194 - test_loss: 0.588459\n",
      "Epoch: 366/490 - train_loss: 0.2191 - test_loss: 0.145421\n",
      "Epoch: 108/110 - train_loss: 0.2669 - test_loss: 0.164513\n",
      "Epoch: 109/110 - train_loss: 0.2722 - test_loss: 0.169613\n",
      "Epoch:  0/110 - train_loss: 1.1492 - test_loss: 0.896382\n",
      "City: Bình Thuận  _algo:lstm  -RMSE: 7.364840620334461\n",
      "Epoch: 27/110 - train_loss: 0.5748 - test_loss: 0.545101\n",
      "City: Bình Thuận  _algo:lstm  -RMSE: 9.16754353080953\n"
     ]
    },
    {
     "name": "stderr",
     "output_type": "stream",
     "text": [
      "\u001b[32m[I 2023-02-07 13:34:26,179]\u001b[0m Trial 12 finished with value: 7.364840620334461 and parameters: {'Epochs': 440, 'Hidden size': 86, 'n layers': 10, 'Learning rate': 0.0038339683654988787}. Best is trial 24 with value: 6.066372241376853.\u001b[0m\n"
     ]
    },
    {
     "name": "stdout",
     "output_type": "stream",
     "text": [
      "City: Bình Thuận  _algo:lstm  -RMSE: 11.010934178647096\n",
      "Epoch: 54/110 - train_loss: 0.5288 - test_loss: 0.494719\n",
      "Epoch: 239/240 - train_loss: 0.3178 - test_loss: 0.255877\n",
      "City: Bình Thuận  _algo:lstm  -RMSE: 9.93424031135198\n",
      "City: Bình Thuận  _algo:lstm  -RMSE: 9.992014181397142\n"
     ]
    },
    {
     "name": "stderr",
     "output_type": "stream",
     "text": [
      "\u001b[32m[I 2023-02-07 13:34:36,160]\u001b[0m Trial 29 finished with value: 9.93424031135198 and parameters: {'Epochs': 240, 'Hidden size': 19, 'n layers': 10, 'Learning rate': 0.005076415516075292}. Best is trial 24 with value: 6.066372241376853.\u001b[0m\n"
     ]
    },
    {
     "name": "stdout",
     "output_type": "stream",
     "text": [
      "City: Bình Thuận  _algo:lstm  -RMSE: 12.558808429174977\n",
      "Epoch:  0/110 - train_loss: 0.9196 - test_loss: 0.760719\n",
      "Epoch: 27/110 - train_loss: 0.2565 - test_loss: 0.152827\n",
      "Epoch: 81/110 - train_loss: 0.4494 - test_loss: 0.406246\n",
      "Epoch: 54/110 - train_loss: 0.4532 - test_loss: 0.416972\n",
      "Epoch: 214/430 - train_loss: 0.1918 - test_loss: 0.111197\n",
      "Epoch: 108/110 - train_loss: 0.3811 - test_loss: 0.334891\n",
      "Epoch: 109/110 - train_loss: 0.3762 - test_loss: 0.337512\n",
      "City: Bình Thuận  _algo:lstm  -RMSE: 9.564178068035442\n",
      "City: Bình Thuận  _algo:lstm  -RMSE: 10.954749810270545\n"
     ]
    },
    {
     "name": "stderr",
     "output_type": "stream",
     "text": [
      "\u001b[32m[I 2023-02-07 13:35:01,647]\u001b[0m Trial 1 finished with value: 9.564178068035442 and parameters: {'Epochs': 140, 'Hidden size': 136, 'n layers': 6, 'Learning rate': 0.0002427440944775608}. Best is trial 24 with value: 6.066372241376853.\u001b[0m\n"
     ]
    },
    {
     "name": "stdout",
     "output_type": "stream",
     "text": [
      "City: Bình Thuận  _algo:lstm  -RMSE: 12.129214334139096\n",
      "Epoch: 54/110 - train_loss: 0.2213 - test_loss: 0.111754\n",
      "Epoch: 81/110 - train_loss: 0.3592 - test_loss: 0.314043\n",
      "Epoch: 27/110 - train_loss: 0.4956 - test_loss: 0.471706\n",
      "Epoch:  0/110 - train_loss: 0.9656 - test_loss: 0.781997\n",
      "Epoch: 488/490 - train_loss: 0.2110 - test_loss: 0.121060\n",
      "Epoch: 489/490 - train_loss: 0.2102 - test_loss: 0.124103\n",
      "City: Bình Thuận  _algo:lstm  -RMSE: 6.456036187398388\n",
      "City: Bình Thuận  _algo:lstm  -RMSE: 8.329719512662928\n"
     ]
    },
    {
     "name": "stderr",
     "output_type": "stream",
     "text": [
      "\u001b[32m[I 2023-02-07 13:35:17,122]\u001b[0m Trial 25 finished with value: 6.456036187398388 and parameters: {'Epochs': 490, 'Hidden size': 26, 'n layers': 6, 'Learning rate': 0.00015519623877986656}. Best is trial 24 with value: 6.066372241376853.\u001b[0m\n"
     ]
    },
    {
     "name": "stdout",
     "output_type": "stream",
     "text": [
      "City: Bình Thuận  _algo:lstm  -RMSE: 9.692115702884454\n",
      "Epoch: 108/110 - train_loss: 0.2933 - test_loss: 0.241463\n",
      "Epoch: 81/110 - train_loss: 0.2038 - test_loss: 0.147790\n",
      "Epoch: 109/110 - train_loss: 0.2981 - test_loss: 0.231690\n",
      "Epoch:  0/110 - train_loss: 0.9729 - test_loss: 0.635426\n",
      "City: Bình Thuận  _algo:lstm  -RMSE: 8.664097288455519\n",
      "Epoch: 54/110 - train_loss: 0.3272 - test_loss: 0.280543\n",
      "City: Bình Thuận  _algo:lstm  -RMSE: 10.444694649043845\n"
     ]
    },
    {
     "name": "stderr",
     "output_type": "stream",
     "text": [
      "\u001b[32m[I 2023-02-07 13:35:20,609]\u001b[0m Trial 18 finished with value: 8.664097288455519 and parameters: {'Epochs': 100, 'Hidden size': 40, 'n layers': 7, 'Learning rate': 0.00035481107481594675}. Best is trial 24 with value: 6.066372241376853.\u001b[0m\n"
     ]
    },
    {
     "name": "stdout",
     "output_type": "stream",
     "text": [
      "City: Bình Thuận  _algo:lstm  -RMSE: 12.684342061111968\n",
      "Epoch: 27/110 - train_loss: 0.4663 - test_loss: 0.443205\n",
      "Epoch:  0/110 - train_loss: 1.1643 - test_loss: 0.905911\n",
      "Epoch: 27/110 - train_loss: 0.4416 - test_loss: 0.399237\n",
      "Epoch: 108/110 - train_loss: 0.1867 - test_loss: 0.113289\n",
      "Epoch: 109/110 - train_loss: 0.1853 - test_loss: 0.111680\n",
      "City: Bình Thuận  _algo:lstm  -RMSE: 6.506437411428839\n",
      "City: Bình Thuận  _algo:lstm  -RMSE: 6.527714459573327\n"
     ]
    },
    {
     "name": "stderr",
     "output_type": "stream",
     "text": [
      "\u001b[32m[I 2023-02-07 13:35:35,225]\u001b[0m Trial 17 finished with value: 6.506437411428839 and parameters: {'Epochs': 300, 'Hidden size': 6, 'n layers': 7, 'Learning rate': 0.00977537356726363}. Best is trial 24 with value: 6.066372241376853.\u001b[0m\n"
     ]
    },
    {
     "name": "stdout",
     "output_type": "stream",
     "text": [
      "City: Bình Thuận  _algo:lstm  -RMSE: 8.927678014341275\n",
      "Epoch: 81/110 - train_loss: 0.2613 - test_loss: 0.199041\n",
      "Epoch:  0/110 - train_loss: 0.8223 - test_loss: 0.575470\n",
      "Epoch: 54/110 - train_loss: 0.2909 - test_loss: 0.230689\n",
      "Epoch: 27/110 - train_loss: 0.3187 - test_loss: 0.273915\n",
      "Epoch: 54/110 - train_loss: 0.2912 - test_loss: 0.231600\n",
      "Epoch: 108/110 - train_loss: 0.2444 - test_loss: 0.163335\n",
      "Epoch: 109/110 - train_loss: 0.2424 - test_loss: 0.155638\n",
      "City: Bình Thuận  _algo:lstm  -RMSE: 12.638787857290922\n",
      "City: Bình Thuận  _algo:lstm  -RMSE: 12.48959631171946\n"
     ]
    },
    {
     "name": "stderr",
     "output_type": "stream",
     "text": [
      "\u001b[32m[I 2023-02-07 13:35:50,807]\u001b[0m Trial 14 finished with value: 12.638787857290922 and parameters: {'Epochs': 260, 'Hidden size': 8, 'n layers': 7, 'Learning rate': 0.0005605200624901019}. Best is trial 24 with value: 6.066372241376853.\u001b[0m\n"
     ]
    },
    {
     "name": "stdout",
     "output_type": "stream",
     "text": [
      "City: Bình Thuận  _algo:lstm  -RMSE: 14.167308598355204\n",
      "Epoch: 81/110 - train_loss: 0.2501 - test_loss: 0.170850\n",
      "Epoch:  0/110 - train_loss: 0.9770 - test_loss: 0.775213\n",
      "Epoch: 27/110 - train_loss: 0.6138 - test_loss: 0.585137\n",
      "Epoch: 321/430 - train_loss: 0.1679 - test_loss: 0.124730\n",
      "Epoch: 81/110 - train_loss: 0.2329 - test_loss: 0.149916\n",
      "Epoch: 54/110 - train_loss: 0.3144 - test_loss: 0.286464\n",
      "Epoch: 108/110 - train_loss: 0.2472 - test_loss: 0.148846\n",
      "Epoch: 109/110 - train_loss: 0.2446 - test_loss: 0.163170\n",
      "City: Bình Thuận  _algo:lstm  -RMSE: 12.939562361459894\n",
      "City: Bình Thuận  _algo:lstm  -RMSE: 13.89750699731773\n"
     ]
    },
    {
     "name": "stderr",
     "output_type": "stream",
     "text": [
      "\u001b[32m[I 2023-02-07 13:36:08,068]\u001b[0m Trial 13 finished with value: 12.939562361459894 and parameters: {'Epochs': 340, 'Hidden size': 8, 'n layers': 7, 'Learning rate': 0.0007325866757059077}. Best is trial 24 with value: 6.066372241376853.\u001b[0m\n"
     ]
    },
    {
     "name": "stdout",
     "output_type": "stream",
     "text": [
      "City: Bình Thuận  _algo:lstm  -RMSE: 13.86829727168365\n",
      "Epoch: 27/110 - train_loss: 0.2784 - test_loss: 0.231135\n",
      "Epoch:  0/110 - train_loss: 0.9333 - test_loss: 0.769201\n",
      "Epoch: 54/110 - train_loss: 0.5041 - test_loss: 0.484275\n",
      "Epoch: 108/110 - train_loss: 0.2149 - test_loss: 0.128793\n",
      "Epoch: 109/110 - train_loss: 0.2202 - test_loss: 0.125710\n",
      "City: Bình Thuận  _algo:lstm  -RMSE: 6.758724436889705\n",
      "City: Bình Thuận  _algo:lstm  -RMSE: 8.810029436804218\n"
     ]
    },
    {
     "name": "stderr",
     "output_type": "stream",
     "text": [
      "\u001b[32m[I 2023-02-07 13:36:18,732]\u001b[0m Trial 10 finished with value: 6.758724436889705 and parameters: {'Epochs': 270, 'Hidden size': 17, 'n layers': 6, 'Learning rate': 0.0007190894350663974}. Best is trial 24 with value: 6.066372241376853.\u001b[0m\n"
     ]
    },
    {
     "name": "stdout",
     "output_type": "stream",
     "text": [
      "City: Bình Thuận  _algo:lstm  -RMSE: 11.08009932867874\n",
      "Epoch: 81/110 - train_loss: 0.3183 - test_loss: 0.284030\n",
      "Epoch:  0/110 - train_loss: 1.0006 - test_loss: 0.722254\n",
      "Epoch: 27/110 - train_loss: 0.6708 - test_loss: 0.650653\n",
      "Epoch: 81/110 - train_loss: 0.4228 - test_loss: 0.394637\n",
      "Epoch: 54/110 - train_loss: 0.2876 - test_loss: 0.168874\n",
      "Epoch: 108/110 - train_loss: 0.3206 - test_loss: 0.275274\n",
      "Epoch: 109/110 - train_loss: 0.3220 - test_loss: 0.256654\n",
      "City: Bình Thuận  _algo:lstm  -RMSE: 14.402521483082312\n",
      "City: Bình Thuận  _algo:lstm  -RMSE: 13.261571776095582\n"
     ]
    },
    {
     "name": "stderr",
     "output_type": "stream",
     "text": [
      "\u001b[32m[I 2023-02-07 13:36:40,915]\u001b[0m Trial 9 finished with value: 14.402521483082312 and parameters: {'Epochs': 190, 'Hidden size': 18, 'n layers': 10, 'Learning rate': 0.0047857125436096505}. Best is trial 24 with value: 6.066372241376853.\u001b[0m\n"
     ]
    },
    {
     "name": "stdout",
     "output_type": "stream",
     "text": [
      "City: Bình Thuận  _algo:lstm  -RMSE: 13.22240350946733\n",
      "Epoch: 108/110 - train_loss: 0.3359 - test_loss: 0.289630\n",
      "Epoch: 109/110 - train_loss: 0.3357 - test_loss: 0.286532\n",
      "City: Bình Thuận  _algo:lstm  -RMSE: 13.683913973931727\n",
      "City: Bình Thuận  _algo:lstm  -RMSE: 18.114432703892497\n"
     ]
    },
    {
     "name": "stderr",
     "output_type": "stream",
     "text": [
      "\u001b[32m[I 2023-02-07 13:36:46,995]\u001b[0m Trial 15 finished with value: 13.683913973931727 and parameters: {'Epochs': 440, 'Hidden size': 7, 'n layers': 7, 'Learning rate': 0.0002726765589082009}. Best is trial 24 with value: 6.066372241376853.\u001b[0m\n"
     ]
    },
    {
     "name": "stdout",
     "output_type": "stream",
     "text": [
      "City: Bình Thuận  _algo:lstm  -RMSE: 13.970297870899334\n",
      "Epoch: 54/110 - train_loss: 0.6101 - test_loss: 0.580151\n",
      "Epoch: 81/110 - train_loss: 0.2835 - test_loss: 0.168376\n",
      "Epoch: 27/110 - train_loss: 0.6749 - test_loss: 0.620477\n",
      "Epoch: 27/110 - train_loss: 0.2680 - test_loss: 0.171658\n",
      "Epoch: 81/110 - train_loss: 0.5588 - test_loss: 0.525584\n",
      "Epoch: 428/430 - train_loss: 0.1725 - test_loss: 0.129481\n",
      "Epoch: 108/110 - train_loss: 0.3139 - test_loss: 0.284478\n",
      "Epoch: 429/430 - train_loss: 0.1566 - test_loss: 0.127662\n",
      "Epoch: 109/110 - train_loss: 0.3160 - test_loss: 0.260323\n",
      "City: Bình Thuận  _algo:lstm  -RMSE: 8.173795462174663\n",
      "City: Bình Thuận  _algo:lstm  -RMSE: 8.869545831551955\n",
      "City: Bình Thuận  _algo:lstm  -RMSE: 7.71739892761136\n",
      "City: Bình Thuận  _algo:lstm  -RMSE: 8.573313121681517\n"
     ]
    },
    {
     "name": "stderr",
     "output_type": "stream",
     "text": [
      "\u001b[32m[I 2023-02-07 13:37:04,872]\u001b[0m Trial 27 finished with value: 8.173795462174663 and parameters: {'Epochs': 430, 'Hidden size': 110, 'n layers': 9, 'Learning rate': 0.002483725593023479}. Best is trial 24 with value: 6.066372241376853.\u001b[0m\n",
      "\u001b[32m[I 2023-02-07 13:37:04,939]\u001b[0m Trial 19 finished with value: 8.869545831551955 and parameters: {'Epochs': 110, 'Hidden size': 93, 'n layers': 9, 'Learning rate': 0.0079281013645317}. Best is trial 24 with value: 6.066372241376853.\u001b[0m\n"
     ]
    },
    {
     "name": "stdout",
     "output_type": "stream",
     "text": [
      "Epoch: 54/110 - train_loss: 0.5722 - test_loss: 0.555623\n",
      "City: Bình Thuận  _algo:lstm  -RMSE: 7.428593713815688\n",
      "City: Bình Thuận  _algo:lstm  -RMSE: 9.615516471018601\n",
      "Epoch: 54/110 - train_loss: 0.2528 - test_loss: 0.169591\n",
      "Epoch: 108/110 - train_loss: 0.5107 - test_loss: 0.479527\n",
      "Epoch: 109/110 - train_loss: 0.5099 - test_loss: 0.474506\n",
      "City: Bình Thuận  _algo:lstm  -RMSE: 11.576988134889552\n",
      "City: Bình Thuận  _algo:lstm  -RMSE: 12.39747662509185\n"
     ]
    },
    {
     "name": "stderr",
     "output_type": "stream",
     "text": [
      "\u001b[32m[I 2023-02-07 13:37:12,410]\u001b[0m Trial 16 finished with value: 11.576988134889552 and parameters: {'Epochs': 300, 'Hidden size': 81, 'n layers': 8, 'Learning rate': 0.00013301275019521992}. Best is trial 24 with value: 6.066372241376853.\u001b[0m\n"
     ]
    },
    {
     "name": "stdout",
     "output_type": "stream",
     "text": [
      "City: Bình Thuận  _algo:lstm  -RMSE: 12.793578282455194\n",
      "Epoch: 81/110 - train_loss: 0.5041 - test_loss: 0.485576\n",
      "Epoch: 81/110 - train_loss: 0.2564 - test_loss: 0.164806\n",
      "Epoch: 108/110 - train_loss: 0.4483 - test_loss: 0.425098\n",
      "Epoch: 109/110 - train_loss: 0.4442 - test_loss: 0.425319\n",
      "City: Bình Thuận  _algo:lstm  -RMSE: 26.419385791138048\n"
     ]
    },
    {
     "name": "stderr",
     "output_type": "stream",
     "text": [
      "\u001b[32m[I 2023-02-07 13:37:20,003]\u001b[0m Trial 6 finished with value: 26.419385791138048 and parameters: {'Epochs': 190, 'Hidden size': 6, 'n layers': 10, 'Learning rate': 0.00020539393298119719}. Best is trial 24 with value: 6.066372241376853.\u001b[0m\n"
     ]
    },
    {
     "name": "stdout",
     "output_type": "stream",
     "text": [
      "City: Bình Thuận  _algo:lstm  -RMSE: 26.147003061106787\n",
      "City: Bình Thuận  _algo:lstm  -RMSE: 25.666153421370634\n",
      "Epoch: 108/110 - train_loss: 0.2522 - test_loss: 0.156111\n",
      "Epoch: 109/110 - train_loss: 0.2548 - test_loss: 0.158772\n",
      "City: Bình Thuận  _algo:lstm  -RMSE: 7.956699306771809\n"
     ]
    },
    {
     "name": "stderr",
     "output_type": "stream",
     "text": [
      "\u001b[32m[I 2023-02-07 13:37:21,613]\u001b[0m Trial 3 finished with value: 7.956699306771809 and parameters: {'Epochs': 260, 'Hidden size': 9, 'n layers': 8, 'Learning rate': 0.003986133260308311}. Best is trial 24 with value: 6.066372241376853.\u001b[0m\n",
      "\u001b[32m[I 2023-02-07 13:37:21,664]\u001b[0m A new study created in memory with name: no-name-951b86ad-fd06-4f88-936c-00e4ed826008\u001b[0m\n"
     ]
    },
    {
     "name": "stdout",
     "output_type": "stream",
     "text": [
      "City: Bình Thuận  _algo:lstm  -RMSE: 7.848991106204722\n",
      "City: Bình Thuận  _algo:lstm  -RMSE: 9.545867567118878\n",
      "Study statistics for : \n",
      "  Number of finished trials:  30\n",
      "Best trial of city:  Bình Thuận\n",
      "  Value:  6.066372241376853\n"
     ]
    },
    {
     "name": "stderr",
     "output_type": "stream",
     "text": [
      "<ipython-input-13-c88f81b1749c>:4: FutureWarning: suggest_loguniform has been deprecated in v3.0.0. This feature will be removed in v6.0.0. See https://github.com/optuna/optuna/releases/tag/v3.0.0. Use :func:`~optuna.trial.Trial.suggest_float` instead.\n",
      "  learning_rate = trial.suggest_loguniform('Learning rate', 1e-4, 1e-2)\n",
      "<ipython-input-13-c88f81b1749c>:6: FutureWarning: suggest_uniform has been deprecated in v3.0.0. This feature will be removed in v6.0.0. See https://github.com/optuna/optuna/releases/tag/v3.0.0. Use :func:`~optuna.trial.Trial.suggest_float` instead.\n",
      "  dropout = trial.suggest_uniform('Dropout rate', 0.01, 0.80)\n"
     ]
    },
    {
     "name": "stdout",
     "output_type": "stream",
     "text": [
      "Epoch:  0/400 - train_loss: 0.7554 - test_loss: 0.568317\n",
      "Epoch:  0/270 - train_loss: 0.8365 - test_loss: 0.654888\n",
      "Epoch:  0/400 - train_loss: 0.9077 - test_loss: 0.652720\n",
      "Epoch:  0/460 - train_loss: 0.9790 - test_loss: 0.716130\n",
      "Epoch:  0/270 - train_loss: 0.8474 - test_loss: 0.715999\n",
      "Epoch:  0/270 - train_loss: 0.8190 - test_loss: 0.630543\n",
      "Epoch:  0/270 - train_loss: 0.8088 - test_loss: 0.622387\n",
      "Epoch:  0/270 - train_loss: 0.9269 - test_loss: 0.723074\n",
      "Epoch:  0/270 - train_loss: 0.9299 - test_loss: 0.734972\n",
      "Epoch:  0/270 - train_loss: 1.0973 - test_loss: 0.793621\n",
      "Epoch:  0/270 - train_loss: 1.0510 - test_loss: 0.757755\n",
      "Epoch:  0/250 - train_loss: 0.7423 - test_loss: 0.642783\n",
      "Epoch:  0/270 - train_loss: 0.9503 - test_loss: 0.693755\n",
      "Epoch:  0/270 - train_loss: 1.0072 - test_loss: 0.749910\n",
      "Epoch:  0/270 - train_loss: 0.7992 - test_loss: 0.672374\n",
      "Epoch:  0/270 - train_loss: 0.7521 - test_loss: 0.563027\n",
      "Epoch:  0/270 - train_loss: 0.9943 - test_loss: 0.759037\n",
      "Epoch:  0/270 - train_loss: 0.8401 - test_loss: 0.690035\n",
      "Epoch:  0/270 - train_loss: 0.8387 - test_loss: 0.704389\n",
      "Epoch:  0/270 - train_loss: 0.9469 - test_loss: 0.740286\n",
      "Epoch: 67/270 - train_loss: 0.1776 - test_loss: 0.110152\n",
      "Epoch: 100/400 - train_loss: 0.1808 - test_loss: 0.111635\n",
      "Epoch: 67/270 - train_loss: 0.2082 - test_loss: 0.113281\n",
      "Epoch: 100/400 - train_loss: 0.2265 - test_loss: 0.124059\n",
      "Epoch: 115/460 - train_loss: 0.1909 - test_loss: 0.127866\n",
      "Epoch: 134/270 - train_loss: 0.1698 - test_loss: 0.103104\n",
      "Epoch: 67/270 - train_loss: 0.6624 - test_loss: 0.575094\n",
      "Epoch: 200/400 - train_loss: 0.1869 - test_loss: 0.127897\n",
      "Epoch: 201/270 - train_loss: 0.1549 - test_loss: 0.106062\n",
      "Epoch: 134/270 - train_loss: 0.1964 - test_loss: 0.107775\n",
      "Epoch: 200/400 - train_loss: 0.2049 - test_loss: 0.121039\n",
      "Epoch: 230/460 - train_loss: 0.1671 - test_loss: 0.096446\n",
      "Epoch: 268/270 - train_loss: 0.1593 - test_loss: 0.112655\n",
      "Epoch: 269/270 - train_loss: 0.1554 - test_loss: 0.111730\n",
      "City: Bình Thuận  _algo:cnn  -RMSE: 6.670424118846041\n"
     ]
    },
    {
     "name": "stderr",
     "output_type": "stream",
     "text": [
      "\u001b[32m[I 2023-02-07 13:38:15,280]\u001b[0m Trial 10 finished with value: 6.670424118846041 and parameters: {'Epochs': 320, 'Learning rate': 0.003447037357299285, 'Num. filters': [16, 32, 64], 'Dropout rate': 0.0902963783285783}. Best is trial 10 with value: 6.670424118846041.\u001b[0m\n"
     ]
    },
    {
     "name": "stdout",
     "output_type": "stream",
     "text": [
      "City: Bình Thuận  _algo:cnn  -RMSE: 6.5210362000885995\n",
      "City: Bình Thuận  _algo:cnn  -RMSE: 6.43937124681248\n"
     ]
    },
    {
     "name": "stderr",
     "output_type": "stream",
     "text": [
      "<ipython-input-13-c88f81b1749c>:4: FutureWarning: suggest_loguniform has been deprecated in v3.0.0. This feature will be removed in v6.0.0. See https://github.com/optuna/optuna/releases/tag/v3.0.0. Use :func:`~optuna.trial.Trial.suggest_float` instead.\n",
      "  learning_rate = trial.suggest_loguniform('Learning rate', 1e-4, 1e-2)\n",
      "<ipython-input-13-c88f81b1749c>:6: FutureWarning: suggest_uniform has been deprecated in v3.0.0. This feature will be removed in v6.0.0. See https://github.com/optuna/optuna/releases/tag/v3.0.0. Use :func:`~optuna.trial.Trial.suggest_float` instead.\n",
      "  dropout = trial.suggest_uniform('Dropout rate', 0.01, 0.80)\n"
     ]
    },
    {
     "name": "stdout",
     "output_type": "stream",
     "text": [
      "Epoch:  0/150 - train_loss: 0.9153 - test_loss: 0.767079\n",
      "Epoch: 67/270 - train_loss: 0.5748 - test_loss: 0.535897\n",
      "Epoch: 300/400 - train_loss: 0.1965 - test_loss: 0.102310\n",
      "Epoch: 201/270 - train_loss: 0.1930 - test_loss: 0.111704\n",
      "Epoch: 134/270 - train_loss: 0.5358 - test_loss: 0.467396\n",
      "Epoch: 37/150 - train_loss: 0.6523 - test_loss: 0.622108\n",
      "Epoch: 74/150 - train_loss: 0.5829 - test_loss: 0.552794\n",
      "Epoch: 300/400 - train_loss: 0.2153 - test_loss: 0.126771\n",
      "Epoch: 345/460 - train_loss: 0.1566 - test_loss: 0.093256\n",
      "Epoch: 111/150 - train_loss: 0.5165 - test_loss: 0.488850\n",
      "Epoch: 399/400 - train_loss: 0.1857 - test_loss: 0.123472\n",
      "City: Bình Thuận  _algo:cnn  -RMSE: 6.905632980390572\n"
     ]
    },
    {
     "name": "stderr",
     "output_type": "stream",
     "text": [
      "\u001b[32m[I 2023-02-07 13:38:39,683]\u001b[0m Trial 0 finished with value: 6.905632980390572 and parameters: {'Epochs': 220, 'Learning rate': 0.00816823715623744, 'Num. filters': [100, 100, 100], 'Dropout rate': 0.3616002355468032}. Best is trial 10 with value: 6.670424118846041.\u001b[0m\n"
     ]
    },
    {
     "name": "stdout",
     "output_type": "stream",
     "text": [
      "City: Bình Thuận  _algo:cnn  -RMSE: 6.712043929189247\n",
      "City: Bình Thuận  _algo:cnn  -RMSE: 6.6779793540977135\n"
     ]
    },
    {
     "name": "stderr",
     "output_type": "stream",
     "text": [
      "<ipython-input-13-c88f81b1749c>:4: FutureWarning: suggest_loguniform has been deprecated in v3.0.0. This feature will be removed in v6.0.0. See https://github.com/optuna/optuna/releases/tag/v3.0.0. Use :func:`~optuna.trial.Trial.suggest_float` instead.\n",
      "  learning_rate = trial.suggest_loguniform('Learning rate', 1e-4, 1e-2)\n",
      "<ipython-input-13-c88f81b1749c>:6: FutureWarning: suggest_uniform has been deprecated in v3.0.0. This feature will be removed in v6.0.0. See https://github.com/optuna/optuna/releases/tag/v3.0.0. Use :func:`~optuna.trial.Trial.suggest_float` instead.\n",
      "  dropout = trial.suggest_uniform('Dropout rate', 0.01, 0.80)\n"
     ]
    },
    {
     "name": "stdout",
     "output_type": "stream",
     "text": [
      "Epoch:  0/490 - train_loss: 1.0757 - test_loss: 0.728249\n",
      "Epoch: 268/270 - train_loss: 0.1934 - test_loss: 0.109404\n",
      "Epoch: 269/270 - train_loss: 0.1886 - test_loss: 0.110101\n",
      "City: Bình Thuận  _algo:cnn  -RMSE: 7.172758661602185\n"
     ]
    },
    {
     "name": "stderr",
     "output_type": "stream",
     "text": [
      "\u001b[32m[I 2023-02-07 13:38:42,139]\u001b[0m Trial 15 finished with value: 7.172758661602185 and parameters: {'Epochs': 440, 'Learning rate': 0.0020576227009058766, 'Num. filters': [100, 100, 100], 'Dropout rate': 0.6704340389323198}. Best is trial 10 with value: 6.670424118846041.\u001b[0m\n"
     ]
    },
    {
     "name": "stdout",
     "output_type": "stream",
     "text": [
      "City: Bình Thuận  _algo:cnn  -RMSE: 6.741751810202369\n",
      "City: Bình Thuận  _algo:cnn  -RMSE: 7.796611354980352\n"
     ]
    },
    {
     "name": "stderr",
     "output_type": "stream",
     "text": [
      "<ipython-input-13-c88f81b1749c>:4: FutureWarning: suggest_loguniform has been deprecated in v3.0.0. This feature will be removed in v6.0.0. See https://github.com/optuna/optuna/releases/tag/v3.0.0. Use :func:`~optuna.trial.Trial.suggest_float` instead.\n",
      "  learning_rate = trial.suggest_loguniform('Learning rate', 1e-4, 1e-2)\n",
      "<ipython-input-13-c88f81b1749c>:6: FutureWarning: suggest_uniform has been deprecated in v3.0.0. This feature will be removed in v6.0.0. See https://github.com/optuna/optuna/releases/tag/v3.0.0. Use :func:`~optuna.trial.Trial.suggest_float` instead.\n",
      "  dropout = trial.suggest_uniform('Dropout rate', 0.01, 0.80)\n"
     ]
    },
    {
     "name": "stdout",
     "output_type": "stream",
     "text": [
      "Epoch:  0/180 - train_loss: 0.8177 - test_loss: 0.547507\n",
      "Epoch: 148/150 - train_loss: 0.4606 - test_loss: 0.427909\n",
      "Epoch: 149/150 - train_loss: 0.4566 - test_loss: 0.426428\n",
      "City: Bình Thuận  _algo:cnn  -RMSE: 6.714651339777264\n"
     ]
    },
    {
     "name": "stderr",
     "output_type": "stream",
     "text": [
      "\u001b[32m[I 2023-02-07 13:38:47,803]\u001b[0m Trial 20 finished with value: 6.714651339777264 and parameters: {'Epochs': 150, 'Learning rate': 0.00012155058746094762, 'Num. filters': [32, 64, 128], 'Dropout rate': 0.10115802487806011}. Best is trial 10 with value: 6.670424118846041.\u001b[0m\n"
     ]
    },
    {
     "name": "stdout",
     "output_type": "stream",
     "text": [
      "City: Bình Thuận  _algo:cnn  -RMSE: 9.227725171306565\n",
      "City: Bình Thuận  _algo:cnn  -RMSE: 11.219785048287191\n"
     ]
    },
    {
     "name": "stderr",
     "output_type": "stream",
     "text": [
      "<ipython-input-13-c88f81b1749c>:4: FutureWarning: suggest_loguniform has been deprecated in v3.0.0. This feature will be removed in v6.0.0. See https://github.com/optuna/optuna/releases/tag/v3.0.0. Use :func:`~optuna.trial.Trial.suggest_float` instead.\n",
      "  learning_rate = trial.suggest_loguniform('Learning rate', 1e-4, 1e-2)\n",
      "<ipython-input-13-c88f81b1749c>:6: FutureWarning: suggest_uniform has been deprecated in v3.0.0. This feature will be removed in v6.0.0. See https://github.com/optuna/optuna/releases/tag/v3.0.0. Use :func:`~optuna.trial.Trial.suggest_float` instead.\n",
      "  dropout = trial.suggest_uniform('Dropout rate', 0.01, 0.80)\n"
     ]
    },
    {
     "name": "stdout",
     "output_type": "stream",
     "text": [
      "Epoch:  0/120 - train_loss: 0.7603 - test_loss: 0.621359\n",
      "Epoch: 201/270 - train_loss: 0.4335 - test_loss: 0.375138\n",
      "Epoch: 30/120 - train_loss: 0.1959 - test_loss: 0.140597\n",
      "Epoch: 45/180 - train_loss: 0.2629 - test_loss: 0.147465\n",
      "Epoch: 399/400 - train_loss: 0.2022 - test_loss: 0.125146\n",
      "City: Bình Thuận  _algo:cnn  -RMSE: 7.413369030950656\n"
     ]
    },
    {
     "name": "stderr",
     "output_type": "stream",
     "text": [
      "\u001b[32m[I 2023-02-07 13:38:59,052]\u001b[0m Trial 3 finished with value: 7.413369030950656 and parameters: {'Epochs': 250, 'Learning rate': 0.004105560817555584, 'Num. filters': [16, 32, 64], 'Dropout rate': 0.7428119062482947}. Best is trial 10 with value: 6.670424118846041.\u001b[0m\n"
     ]
    },
    {
     "name": "stdout",
     "output_type": "stream",
     "text": [
      "City: Bình Thuận  _algo:cnn  -RMSE: 8.66540008280306\n",
      "City: Bình Thuận  _algo:cnn  -RMSE: 10.7388440518292\n"
     ]
    },
    {
     "name": "stderr",
     "output_type": "stream",
     "text": [
      "<ipython-input-13-c88f81b1749c>:4: FutureWarning: suggest_loguniform has been deprecated in v3.0.0. This feature will be removed in v6.0.0. See https://github.com/optuna/optuna/releases/tag/v3.0.0. Use :func:`~optuna.trial.Trial.suggest_float` instead.\n",
      "  learning_rate = trial.suggest_loguniform('Learning rate', 1e-4, 1e-2)\n",
      "<ipython-input-13-c88f81b1749c>:6: FutureWarning: suggest_uniform has been deprecated in v3.0.0. This feature will be removed in v6.0.0. See https://github.com/optuna/optuna/releases/tag/v3.0.0. Use :func:`~optuna.trial.Trial.suggest_float` instead.\n",
      "  dropout = trial.suggest_uniform('Dropout rate', 0.01, 0.80)\n"
     ]
    },
    {
     "name": "stdout",
     "output_type": "stream",
     "text": [
      "Epoch:  0/180 - train_loss: 0.9218 - test_loss: 0.752689\n",
      "Epoch: 60/120 - train_loss: 0.1797 - test_loss: 0.123086\n",
      "Epoch: 459/460 - train_loss: 0.1525 - test_loss: 0.093363\n",
      "City: Bình Thuận  _algo:cnn  -RMSE: 7.270498602877785\n"
     ]
    },
    {
     "name": "stderr",
     "output_type": "stream",
     "text": [
      "\u001b[32m[I 2023-02-07 13:39:03,829]\u001b[0m Trial 2 finished with value: 7.270498602877785 and parameters: {'Epochs': 180, 'Learning rate': 0.0005362834247063186, 'Num. filters': [64, 64, 64], 'Dropout rate': 0.021641724289394204}. Best is trial 10 with value: 6.670424118846041.\u001b[0m\n"
     ]
    },
    {
     "name": "stdout",
     "output_type": "stream",
     "text": [
      "City: Bình Thuận  _algo:cnn  -RMSE: 6.890003171042325\n",
      "City: Bình Thuận  _algo:cnn  -RMSE: 7.06739691510626\n"
     ]
    },
    {
     "name": "stderr",
     "output_type": "stream",
     "text": [
      "<ipython-input-13-c88f81b1749c>:4: FutureWarning: suggest_loguniform has been deprecated in v3.0.0. This feature will be removed in v6.0.0. See https://github.com/optuna/optuna/releases/tag/v3.0.0. Use :func:`~optuna.trial.Trial.suggest_float` instead.\n",
      "  learning_rate = trial.suggest_loguniform('Learning rate', 1e-4, 1e-2)\n",
      "<ipython-input-13-c88f81b1749c>:6: FutureWarning: suggest_uniform has been deprecated in v3.0.0. This feature will be removed in v6.0.0. See https://github.com/optuna/optuna/releases/tag/v3.0.0. Use :func:`~optuna.trial.Trial.suggest_float` instead.\n",
      "  dropout = trial.suggest_uniform('Dropout rate', 0.01, 0.80)\n"
     ]
    },
    {
     "name": "stdout",
     "output_type": "stream",
     "text": [
      "Epoch:  0/150 - train_loss: 0.7728 - test_loss: 0.697124\n",
      "Epoch: 122/490 - train_loss: 0.2667 - test_loss: 0.164850\n",
      "Epoch: 90/120 - train_loss: 0.1624 - test_loss: 0.102772\n",
      "Epoch: 134/270 - train_loss: 0.4366 - test_loss: 0.400287\n",
      "Epoch: 45/180 - train_loss: 0.5361 - test_loss: 0.503634\n",
      "Epoch: 90/180 - train_loss: 0.2554 - test_loss: 0.167106\n",
      "Epoch: 37/150 - train_loss: 0.2243 - test_loss: 0.136053\n",
      "Epoch: 67/270 - train_loss: 0.1991 - test_loss: 0.116377\n",
      "Epoch: 119/120 - train_loss: 0.1859 - test_loss: 0.109508\n",
      "City: Bình Thuận  _algo:cnn  -RMSE: 7.494119495893457\n"
     ]
    },
    {
     "name": "stderr",
     "output_type": "stream",
     "text": [
      "\u001b[32m[I 2023-02-07 13:39:14,973]\u001b[0m Trial 23 finished with value: 7.494119495893457 and parameters: {'Epochs': 120, 'Learning rate': 0.004636277411398825, 'Num. filters': [64, 64, 64], 'Dropout rate': 0.12044128503128809}. Best is trial 10 with value: 6.670424118846041.\u001b[0m\n"
     ]
    },
    {
     "name": "stdout",
     "output_type": "stream",
     "text": [
      "City: Bình Thuận  _algo:cnn  -RMSE: 6.318825672318387\n",
      "City: Bình Thuận  _algo:cnn  -RMSE: 6.322987748810186\n"
     ]
    },
    {
     "name": "stderr",
     "output_type": "stream",
     "text": [
      "<ipython-input-13-c88f81b1749c>:4: FutureWarning: suggest_loguniform has been deprecated in v3.0.0. This feature will be removed in v6.0.0. See https://github.com/optuna/optuna/releases/tag/v3.0.0. Use :func:`~optuna.trial.Trial.suggest_float` instead.\n",
      "  learning_rate = trial.suggest_loguniform('Learning rate', 1e-4, 1e-2)\n",
      "<ipython-input-13-c88f81b1749c>:6: FutureWarning: suggest_uniform has been deprecated in v3.0.0. This feature will be removed in v6.0.0. See https://github.com/optuna/optuna/releases/tag/v3.0.0. Use :func:`~optuna.trial.Trial.suggest_float` instead.\n",
      "  dropout = trial.suggest_uniform('Dropout rate', 0.01, 0.80)\n"
     ]
    },
    {
     "name": "stdout",
     "output_type": "stream",
     "text": [
      "Epoch:  0/450 - train_loss: 1.0207 - test_loss: 0.719865\n",
      "Epoch: 74/150 - train_loss: 0.1869 - test_loss: 0.102089\n",
      "Epoch: 90/180 - train_loss: 0.3893 - test_loss: 0.351456\n",
      "Epoch: 268/270 - train_loss: 0.3653 - test_loss: 0.297556\n",
      "Epoch: 269/270 - train_loss: 0.3601 - test_loss: 0.295790\n",
      "City: Bình Thuận  _algo:cnn  -RMSE: 7.214535929309097\n"
     ]
    },
    {
     "name": "stderr",
     "output_type": "stream",
     "text": [
      "\u001b[32m[I 2023-02-07 13:39:24,559]\u001b[0m Trial 9 finished with value: 7.214535929309097 and parameters: {'Epochs': 200, 'Learning rate': 0.0001073805370075517, 'Num. filters': [64, 64, 64], 'Dropout rate': 0.7572985468974434}. Best is trial 10 with value: 6.670424118846041.\u001b[0m\n"
     ]
    },
    {
     "name": "stdout",
     "output_type": "stream",
     "text": [
      "City: Bình Thuận  _algo:cnn  -RMSE: 8.873310643544766\n",
      "City: Bình Thuận  _algo:cnn  -RMSE: 10.17990560884995\n"
     ]
    },
    {
     "name": "stderr",
     "output_type": "stream",
     "text": [
      "<ipython-input-13-c88f81b1749c>:4: FutureWarning: suggest_loguniform has been deprecated in v3.0.0. This feature will be removed in v6.0.0. See https://github.com/optuna/optuna/releases/tag/v3.0.0. Use :func:`~optuna.trial.Trial.suggest_float` instead.\n",
      "  learning_rate = trial.suggest_loguniform('Learning rate', 1e-4, 1e-2)\n",
      "<ipython-input-13-c88f81b1749c>:6: FutureWarning: suggest_uniform has been deprecated in v3.0.0. This feature will be removed in v6.0.0. See https://github.com/optuna/optuna/releases/tag/v3.0.0. Use :func:`~optuna.trial.Trial.suggest_float` instead.\n",
      "  dropout = trial.suggest_uniform('Dropout rate', 0.01, 0.80)\n"
     ]
    },
    {
     "name": "stdout",
     "output_type": "stream",
     "text": [
      "Epoch:  0/170 - train_loss: 0.8254 - test_loss: 0.611289\n",
      "Epoch: 135/180 - train_loss: 0.2590 - test_loss: 0.176251\n",
      "Epoch: 111/150 - train_loss: 0.1752 - test_loss: 0.101764\n",
      "Epoch: 244/490 - train_loss: 0.2302 - test_loss: 0.121976\n",
      "Epoch: 135/180 - train_loss: 0.2871 - test_loss: 0.241748\n",
      "Epoch: 148/150 - train_loss: 0.1799 - test_loss: 0.100814\n",
      "Epoch: 149/150 - train_loss: 0.1772 - test_loss: 0.102037\n",
      "City: Bình Thuận  _algo:cnn  -RMSE: 7.3862682179491275\n"
     ]
    },
    {
     "name": "stderr",
     "output_type": "stream",
     "text": [
      "\u001b[32m[I 2023-02-07 13:39:39,613]\u001b[0m Trial 25 finished with value: 7.3862682179491275 and parameters: {'Epochs': 150, 'Learning rate': 0.001712157602013084, 'Num. filters': [100, 100, 100], 'Dropout rate': 0.4191553167542512}. Best is trial 10 with value: 6.670424118846041.\u001b[0m\n"
     ]
    },
    {
     "name": "stdout",
     "output_type": "stream",
     "text": [
      "City: Bình Thuận  _algo:cnn  -RMSE: 6.9347476769795175\n",
      "City: Bình Thuận  _algo:cnn  -RMSE: 5.960976210487463\n"
     ]
    },
    {
     "name": "stderr",
     "output_type": "stream",
     "text": [
      "<ipython-input-13-c88f81b1749c>:4: FutureWarning: suggest_loguniform has been deprecated in v3.0.0. This feature will be removed in v6.0.0. See https://github.com/optuna/optuna/releases/tag/v3.0.0. Use :func:`~optuna.trial.Trial.suggest_float` instead.\n",
      "  learning_rate = trial.suggest_loguniform('Learning rate', 1e-4, 1e-2)\n",
      "<ipython-input-13-c88f81b1749c>:6: FutureWarning: suggest_uniform has been deprecated in v3.0.0. This feature will be removed in v6.0.0. See https://github.com/optuna/optuna/releases/tag/v3.0.0. Use :func:`~optuna.trial.Trial.suggest_float` instead.\n",
      "  dropout = trial.suggest_uniform('Dropout rate', 0.01, 0.80)\n"
     ]
    },
    {
     "name": "stdout",
     "output_type": "stream",
     "text": [
      "Epoch: 179/180 - train_loss: 0.2657 - test_loss: 0.156286\n",
      "City: Bình Thuận  _algo:cnn  -RMSE: 8.698984212106767\n"
     ]
    },
    {
     "name": "stderr",
     "output_type": "stream",
     "text": [
      "\u001b[32m[I 2023-02-07 13:39:40,165]\u001b[0m Trial 22 finished with value: 8.698984212106767 and parameters: {'Epochs': 180, 'Learning rate': 0.009991849278752784, 'Num. filters': [64, 64, 64], 'Dropout rate': 0.7875236103619818}. Best is trial 10 with value: 6.670424118846041.\u001b[0m\n"
     ]
    },
    {
     "name": "stdout",
     "output_type": "stream",
     "text": [
      "Epoch:  0/210 - train_loss: 0.9587 - test_loss: 0.789122\n",
      "City: Bình Thuận  _algo:cnn  -RMSE: 9.862146092757916\n",
      "City: Bình Thuận  _algo:cnn  -RMSE: 10.691302557174222\n"
     ]
    },
    {
     "name": "stderr",
     "output_type": "stream",
     "text": [
      "<ipython-input-13-c88f81b1749c>:4: FutureWarning: suggest_loguniform has been deprecated in v3.0.0. This feature will be removed in v6.0.0. See https://github.com/optuna/optuna/releases/tag/v3.0.0. Use :func:`~optuna.trial.Trial.suggest_float` instead.\n",
      "  learning_rate = trial.suggest_loguniform('Learning rate', 1e-4, 1e-2)\n",
      "<ipython-input-13-c88f81b1749c>:6: FutureWarning: suggest_uniform has been deprecated in v3.0.0. This feature will be removed in v6.0.0. See https://github.com/optuna/optuna/releases/tag/v3.0.0. Use :func:`~optuna.trial.Trial.suggest_float` instead.\n",
      "  dropout = trial.suggest_uniform('Dropout rate', 0.01, 0.80)\n"
     ]
    },
    {
     "name": "stdout",
     "output_type": "stream",
     "text": [
      "Epoch:  0/380 - train_loss: 0.9031 - test_loss: 0.717828\n",
      "Epoch: 112/450 - train_loss: 0.2765 - test_loss: 0.211390\n",
      "Epoch: 42/170 - train_loss: 0.2234 - test_loss: 0.120647\n",
      "Epoch: 179/180 - train_loss: 0.2339 - test_loss: 0.170578\n",
      "City: Bình Thuận  _algo:cnn  -RMSE: 6.767907928556117\n"
     ]
    },
    {
     "name": "stderr",
     "output_type": "stream",
     "text": [
      "\u001b[32m[I 2023-02-07 13:39:47,697]\u001b[0m Trial 24 finished with value: 6.767907928556117 and parameters: {'Epochs': 180, 'Learning rate': 0.00026888841123833267, 'Num. filters': [16, 32, 64], 'Dropout rate': 0.06802324699029132}. Best is trial 10 with value: 6.670424118846041.\u001b[0m\n"
     ]
    },
    {
     "name": "stdout",
     "output_type": "stream",
     "text": [
      "City: Bình Thuận  _algo:cnn  -RMSE: 7.9320795797095265\n",
      "City: Bình Thuận  _algo:cnn  -RMSE: 10.267913209489151\n",
      "Epoch: 52/210 - train_loss: 0.6181 - test_loss: 0.590138\n",
      "Epoch: 201/270 - train_loss: 0.3333 - test_loss: 0.291729\n",
      "Epoch: 84/170 - train_loss: 0.2162 - test_loss: 0.126441\n",
      "Epoch: 366/490 - train_loss: 0.2197 - test_loss: 0.117833\n",
      "Epoch: 104/210 - train_loss: 0.5232 - test_loss: 0.494380\n",
      "Epoch: 224/450 - train_loss: 0.2141 - test_loss: 0.117540\n",
      "Epoch: 95/380 - train_loss: 0.2269 - test_loss: 0.154466\n",
      "Epoch: 126/170 - train_loss: 0.2117 - test_loss: 0.115569\n",
      "Epoch: 156/210 - train_loss: 0.4402 - test_loss: 0.409565\n",
      "Epoch: 134/270 - train_loss: 0.2051 - test_loss: 0.118775\n",
      "Epoch: 488/490 - train_loss: 0.2175 - test_loss: 0.118596\n",
      "Epoch: 489/490 - train_loss: 0.2187 - test_loss: 0.118030\n",
      "City: Bình Thuận  _algo:cnn  -RMSE: 7.7451245565566085\n",
      "Epoch: 268/270 - train_loss: 0.2616 - test_loss: 0.210654\n",
      "City: Bình Thuận  _algo:cnn  -RMSE: 8.666634373110764\n"
     ]
    },
    {
     "name": "stderr",
     "output_type": "stream",
     "text": [
      "\u001b[32m[I 2023-02-07 13:40:38,324]\u001b[0m Trial 21 finished with value: 7.7451245565566085 and parameters: {'Epochs': 490, 'Learning rate': 0.0004328097833317305, 'Num. filters': [64, 64, 64], 'Dropout rate': 0.7790694848320198}. Best is trial 10 with value: 6.670424118846041.\u001b[0m\n"
     ]
    },
    {
     "name": "stdout",
     "output_type": "stream",
     "text": [
      "City: Bình Thuận  _algo:cnn  -RMSE: 10.062386404493665\n",
      "Epoch: 67/270 - train_loss: 0.1838 - test_loss: 0.100148\n",
      "Epoch: 269/270 - train_loss: 0.2564 - test_loss: 0.209824\n",
      "City: Bình Thuận  _algo:cnn  -RMSE: 6.877494768476009\n",
      "City: Bình Thuận  _algo:cnn  -RMSE: 8.035254560173398\n"
     ]
    },
    {
     "name": "stderr",
     "output_type": "stream",
     "text": [
      "\u001b[32m[I 2023-02-07 13:40:39,215]\u001b[0m Trial 14 finished with value: 6.877494768476009 and parameters: {'Epochs': 280, 'Learning rate': 0.00014940144431086828, 'Num. filters': [128, 128, 128], 'Dropout rate': 0.3371816425278827}. Best is trial 10 with value: 6.670424118846041.\u001b[0m\n"
     ]
    },
    {
     "name": "stdout",
     "output_type": "stream",
     "text": [
      "City: Bình Thuận  _algo:cnn  -RMSE: 9.955432805650391\n",
      "Epoch: 168/170 - train_loss: 0.2113 - test_loss: 0.115424\n",
      "Epoch: 169/170 - train_loss: 0.2262 - test_loss: 0.147748\n",
      "City: Bình Thuận  _algo:cnn  -RMSE: 7.399024337320605\n",
      "City: Bình Thuận  _algo:cnn  -RMSE: 7.011181930225092\n"
     ]
    },
    {
     "name": "stderr",
     "output_type": "stream",
     "text": [
      "\u001b[32m[I 2023-02-07 13:40:40,569]\u001b[0m Trial 27 finished with value: 7.399024337320605 and parameters: {'Epochs': 170, 'Learning rate': 0.006550236386465787, 'Num. filters': [128, 128, 128], 'Dropout rate': 0.6864417711698225}. Best is trial 10 with value: 6.670424118846041.\u001b[0m\n"
     ]
    },
    {
     "name": "stdout",
     "output_type": "stream",
     "text": [
      "City: Bình Thuận  _algo:cnn  -RMSE: 7.192372259670824\n",
      "Epoch: 208/210 - train_loss: 0.3692 - test_loss: 0.334489\n",
      "Epoch: 209/210 - train_loss: 0.3668 - test_loss: 0.333958\n",
      "City: Bình Thuận  _algo:cnn  -RMSE: 6.747063123461183\n",
      "City: Bình Thuận  _algo:cnn  -RMSE: 8.430786288600814\n"
     ]
    },
    {
     "name": "stderr",
     "output_type": "stream",
     "text": [
      "\u001b[32m[I 2023-02-07 13:40:46,017]\u001b[0m Trial 28 finished with value: 6.747063123461183 and parameters: {'Epochs': 210, 'Learning rate': 0.0001234355799528926, 'Num. filters': [64, 64, 64], 'Dropout rate': 0.024149281976827475}. Best is trial 10 with value: 6.670424118846041.\u001b[0m\n"
     ]
    },
    {
     "name": "stdout",
     "output_type": "stream",
     "text": [
      "City: Bình Thuận  _algo:cnn  -RMSE: 10.012405252565356\n",
      "Epoch: 336/450 - train_loss: 0.1988 - test_loss: 0.112710\n",
      "Epoch: 190/380 - train_loss: 0.1926 - test_loss: 0.103573\n",
      "Epoch: 67/270 - train_loss: 0.3759 - test_loss: 0.316460\n",
      "Epoch: 201/270 - train_loss: 0.2024 - test_loss: 0.114265\n",
      "Epoch: 134/270 - train_loss: 0.1731 - test_loss: 0.101849\n",
      "Epoch: 285/380 - train_loss: 0.1877 - test_loss: 0.099342\n",
      "Epoch: 67/270 - train_loss: 0.5743 - test_loss: 0.535101\n",
      "Epoch: 448/450 - train_loss: 0.2078 - test_loss: 0.106078\n",
      "Epoch: 449/450 - train_loss: 0.1975 - test_loss: 0.106914\n",
      "City: Bình Thuận  _algo:cnn  -RMSE: 6.692801392803724\n",
      "City: Bình Thuận  _algo:cnn  -RMSE: 6.726376326577442\n"
     ]
    },
    {
     "name": "stderr",
     "output_type": "stream",
     "text": [
      "\u001b[32m[I 2023-02-07 13:41:26,324]\u001b[0m Trial 26 finished with value: 6.692801392803724 and parameters: {'Epochs': 450, 'Learning rate': 0.0003574628416701008, 'Num. filters': [128, 128, 128], 'Dropout rate': 0.6609008135371781}. Best is trial 10 with value: 6.670424118846041.\u001b[0m\n"
     ]
    },
    {
     "name": "stdout",
     "output_type": "stream",
     "text": [
      "City: Bình Thuận  _algo:cnn  -RMSE: 7.3023844413172005\n",
      "Epoch: 268/270 - train_loss: 0.2098 - test_loss: 0.129014\n",
      "Epoch: 269/270 - train_loss: 0.2066 - test_loss: 0.118267\n",
      "City: Bình Thuận  _algo:cnn  -RMSE: 7.543088004026914\n",
      "City: Bình Thuận  _algo:cnn  -RMSE: 7.186843744526807\n"
     ]
    },
    {
     "name": "stderr",
     "output_type": "stream",
     "text": [
      "\u001b[32m[I 2023-02-07 13:41:29,973]\u001b[0m Trial 4 finished with value: 7.543088004026914 and parameters: {'Epochs': 350, 'Learning rate': 0.006634605472820472, 'Num. filters': [128, 128, 128], 'Dropout rate': 0.6312031821679022}. Best is trial 10 with value: 6.670424118846041.\u001b[0m\n"
     ]
    },
    {
     "name": "stdout",
     "output_type": "stream",
     "text": [
      "City: Bình Thuận  _algo:cnn  -RMSE: 7.39709908701445\n",
      "Epoch: 134/270 - train_loss: 0.2396 - test_loss: 0.150030\n",
      "Epoch: 201/270 - train_loss: 0.1661 - test_loss: 0.099041\n",
      "Epoch: 67/270 - train_loss: 0.2534 - test_loss: 0.169918\n",
      "Epoch: 379/380 - train_loss: 0.1840 - test_loss: 0.099731\n",
      "Epoch: 134/270 - train_loss: 0.4324 - test_loss: 0.393104\n",
      "City: Bình Thuận  _algo:cnn  -RMSE: 7.147228388308303\n",
      "City: Bình Thuận  _algo:cnn  -RMSE: 6.339235491710157\n"
     ]
    },
    {
     "name": "stderr",
     "output_type": "stream",
     "text": [
      "\u001b[32m[I 2023-02-07 13:41:55,981]\u001b[0m Trial 29 finished with value: 7.147228388308303 and parameters: {'Epochs': 380, 'Learning rate': 0.0005736115839270723, 'Num. filters': [16, 32, 64], 'Dropout rate': 0.26303999165022696}. Best is trial 10 with value: 6.670424118846041.\u001b[0m\n"
     ]
    },
    {
     "name": "stdout",
     "output_type": "stream",
     "text": [
      "City: Bình Thuận  _algo:cnn  -RMSE: 7.209715100075419\n",
      "Epoch: 67/270 - train_loss: 0.2075 - test_loss: 0.110800\n",
      "Epoch: 201/270 - train_loss: 0.2127 - test_loss: 0.119548\n",
      "Epoch: 268/270 - train_loss: 0.1617 - test_loss: 0.104117\n",
      "Epoch: 269/270 - train_loss: 0.1615 - test_loss: 0.091401\n",
      "City: Bình Thuận  _algo:cnn  -RMSE: 6.9812714768641575\n",
      "City: Bình Thuận  _algo:cnn  -RMSE: 6.2825645851611105\n"
     ]
    },
    {
     "name": "stderr",
     "output_type": "stream",
     "text": [
      "\u001b[32m[I 2023-02-07 13:42:01,495]\u001b[0m Trial 18 finished with value: 6.9812714768641575 and parameters: {'Epochs': 150, 'Learning rate': 0.004050238296104771, 'Num. filters': [16, 32, 64], 'Dropout rate': 0.18086341064814546}. Best is trial 10 with value: 6.670424118846041.\u001b[0m\n"
     ]
    },
    {
     "name": "stdout",
     "output_type": "stream",
     "text": [
      "City: Bình Thuận  _algo:cnn  -RMSE: 6.642824664979623\n",
      "Epoch: 134/270 - train_loss: 0.2107 - test_loss: 0.122887\n",
      "Epoch: 67/270 - train_loss: 0.5970 - test_loss: 0.541598\n",
      "Epoch: 201/270 - train_loss: 0.3289 - test_loss: 0.282970\n",
      "Epoch: 268/270 - train_loss: 0.2106 - test_loss: 0.109474\n",
      "Epoch: 269/270 - train_loss: 0.2151 - test_loss: 0.110137\n",
      "City: Bình Thuận  _algo:cnn  -RMSE: 7.010322656213937\n",
      "City: Bình Thuận  _algo:cnn  -RMSE: 7.328438372103925\n"
     ]
    },
    {
     "name": "stderr",
     "output_type": "stream",
     "text": [
      "\u001b[32m[I 2023-02-07 13:42:26,115]\u001b[0m Trial 16 finished with value: 7.010322656213937 and parameters: {'Epochs': 250, 'Learning rate': 0.00040960580389222455, 'Num. filters': [16, 32, 64], 'Dropout rate': 0.5902314209324826}. Best is trial 10 with value: 6.670424118846041.\u001b[0m\n"
     ]
    },
    {
     "name": "stdout",
     "output_type": "stream",
     "text": [
      "City: Bình Thuận  _algo:cnn  -RMSE: 9.330656670495836\n",
      "Epoch: 134/270 - train_loss: 0.2116 - test_loss: 0.139581\n",
      "Epoch: 67/270 - train_loss: 0.2112 - test_loss: 0.115687\n",
      "Epoch: 201/270 - train_loss: 0.1997 - test_loss: 0.111310\n",
      "Epoch: 268/270 - train_loss: 0.2569 - test_loss: 0.200537\n",
      "Epoch: 269/270 - train_loss: 0.2539 - test_loss: 0.201847\n",
      "City: Bình Thuận  _algo:cnn  -RMSE: 6.816049245404567\n",
      "City: Bình Thuận  _algo:cnn  -RMSE: 6.652552390508335\n"
     ]
    },
    {
     "name": "stderr",
     "output_type": "stream",
     "text": [
      "\u001b[32m[I 2023-02-07 13:42:49,786]\u001b[0m Trial 19 finished with value: 6.816049245404567 and parameters: {'Epochs': 270, 'Learning rate': 0.00015509761205524146, 'Num. filters': [128, 128, 128], 'Dropout rate': 0.3841978986654985}. Best is trial 10 with value: 6.670424118846041.\u001b[0m\n"
     ]
    },
    {
     "name": "stdout",
     "output_type": "stream",
     "text": [
      "City: Bình Thuận  _algo:cnn  -RMSE: 7.8496815038848835\n",
      "Epoch: 134/270 - train_loss: 0.4578 - test_loss: 0.410578\n",
      "Epoch: 62/250 - train_loss: 0.1663 - test_loss: 0.133771\n",
      "Epoch: 201/270 - train_loss: 0.2112 - test_loss: 0.130412\n",
      "Epoch: 268/270 - train_loss: 0.1997 - test_loss: 0.108142\n",
      "Epoch: 269/270 - train_loss: 0.2034 - test_loss: 0.105454\n",
      "City: Bình Thuận  _algo:cnn  -RMSE: 6.699701112213086\n",
      "City: Bình Thuận  _algo:cnn  -RMSE: 6.1918814701110945\n"
     ]
    },
    {
     "name": "stderr",
     "output_type": "stream",
     "text": [
      "\u001b[32m[I 2023-02-07 13:43:08,242]\u001b[0m Trial 6 finished with value: 6.699701112213086 and parameters: {'Epochs': 410, 'Learning rate': 0.0007290986449944518, 'Num. filters': [64, 64, 64], 'Dropout rate': 0.6001948251179675}. Best is trial 10 with value: 6.670424118846041.\u001b[0m\n"
     ]
    },
    {
     "name": "stdout",
     "output_type": "stream",
     "text": [
      "City: Bình Thuận  _algo:cnn  -RMSE: 7.329476076437163\n",
      "Epoch: 134/270 - train_loss: 0.1989 - test_loss: 0.116556\n",
      "Epoch: 67/270 - train_loss: 0.5966 - test_loss: 0.558464\n",
      "Epoch: 201/270 - train_loss: 0.3507 - test_loss: 0.304415\n",
      "Epoch: 124/250 - train_loss: 0.1432 - test_loss: 0.120442\n",
      "Epoch: 268/270 - train_loss: 0.1998 - test_loss: 0.116197\n",
      "Epoch: 269/270 - train_loss: 0.1919 - test_loss: 0.117489\n",
      "City: Bình Thuận  _algo:cnn  -RMSE: 6.687186231035382\n",
      "City: Bình Thuận  _algo:cnn  -RMSE: 6.536988812948336\n"
     ]
    },
    {
     "name": "stderr",
     "output_type": "stream",
     "text": [
      "\u001b[32m[I 2023-02-07 13:43:27,670]\u001b[0m Trial 17 finished with value: 6.687186231035382 and parameters: {'Epochs': 460, 'Learning rate': 0.008767910007478308, 'Num. filters': [16, 32, 64], 'Dropout rate': 0.5038027532304399}. Best is trial 10 with value: 6.670424118846041.\u001b[0m\n"
     ]
    },
    {
     "name": "stdout",
     "output_type": "stream",
     "text": [
      "City: Bình Thuận  _algo:cnn  -RMSE: 6.8325163555056125\n",
      "Epoch: 67/270 - train_loss: 0.6212 - test_loss: 0.578813\n",
      "Epoch: 201/270 - train_loss: 0.2009 - test_loss: 0.121834\n",
      "Epoch: 268/270 - train_loss: 0.2780 - test_loss: 0.223548\n",
      "Epoch: 269/270 - train_loss: 0.2828 - test_loss: 0.223433\n",
      "City: Bình Thuận  _algo:cnn  -RMSE: 6.945321491691617\n",
      "City: Bình Thuận  _algo:cnn  -RMSE: 8.46066920053601\n"
     ]
    },
    {
     "name": "stderr",
     "output_type": "stream",
     "text": [
      "\u001b[32m[I 2023-02-07 13:43:47,293]\u001b[0m Trial 12 finished with value: 6.945321491691617 and parameters: {'Epochs': 400, 'Learning rate': 0.0001418127831592528, 'Num. filters': [100, 100, 100], 'Dropout rate': 0.6390358033512576}. Best is trial 10 with value: 6.670424118846041.\u001b[0m\n"
     ]
    },
    {
     "name": "stdout",
     "output_type": "stream",
     "text": [
      "City: Bình Thuận  _algo:cnn  -RMSE: 10.60596486918025\n",
      "Epoch: 134/270 - train_loss: 0.4720 - test_loss: 0.436296\n",
      "Epoch: 186/250 - train_loss: 0.1272 - test_loss: 0.115567\n",
      "Epoch: 67/270 - train_loss: 0.5130 - test_loss: 0.472812\n",
      "Epoch: 268/270 - train_loss: 0.1904 - test_loss: 0.110740\n",
      "Epoch: 269/270 - train_loss: 0.1952 - test_loss: 0.123701\n",
      "City: Bình Thuận  _algo:cnn  -RMSE: 6.765685438435634\n",
      "City: Bình Thuận  _algo:cnn  -RMSE: 6.593412720968036\n"
     ]
    },
    {
     "name": "stderr",
     "output_type": "stream",
     "text": [
      "\u001b[32m[I 2023-02-07 13:44:05,003]\u001b[0m Trial 8 finished with value: 6.765685438435634 and parameters: {'Epochs': 300, 'Learning rate': 0.005695544417464001, 'Num. filters': [128, 128, 128], 'Dropout rate': 0.6160910688390697}. Best is trial 10 with value: 6.670424118846041.\u001b[0m\n"
     ]
    },
    {
     "name": "stdout",
     "output_type": "stream",
     "text": [
      "City: Bình Thuận  _algo:cnn  -RMSE: 6.453280433862043\n",
      "Epoch: 134/270 - train_loss: 0.5086 - test_loss: 0.472110\n",
      "Epoch: 67/270 - train_loss: 0.2144 - test_loss: 0.120687\n",
      "Epoch: 248/250 - train_loss: 0.1286 - test_loss: 0.118199\n",
      "Epoch: 249/250 - train_loss: 0.1287 - test_loss: 0.134406\n",
      "City: Bình Thuận  _algo:cnn  -RMSE: 8.929420334194718\n",
      "City: Bình Thuận  _algo:cnn  -RMSE: 8.628823820472576\n"
     ]
    },
    {
     "name": "stderr",
     "output_type": "stream",
     "text": [
      "\u001b[32m[I 2023-02-07 13:44:16,696]\u001b[0m Trial 1 finished with value: 8.929420334194718 and parameters: {'Epochs': 490, 'Learning rate': 0.0032977503745886504, 'Num. filters': [128, 128, 128], 'Dropout rate': 0.03399160815140348}. Best is trial 10 with value: 6.670424118846041.\u001b[0m\n"
     ]
    },
    {
     "name": "stdout",
     "output_type": "stream",
     "text": [
      "City: Bình Thuận  _algo:cnn  -RMSE: 9.305873720061797\n",
      "Epoch: 201/270 - train_loss: 0.3774 - test_loss: 0.335964\n",
      "Epoch: 134/270 - train_loss: 0.3453 - test_loss: 0.304106\n",
      "Epoch: 201/270 - train_loss: 0.4144 - test_loss: 0.376778\n",
      "Epoch: 268/270 - train_loss: 0.3012 - test_loss: 0.253334\n",
      "Epoch: 269/270 - train_loss: 0.2994 - test_loss: 0.251509\n",
      "City: Bình Thuận  _algo:cnn  -RMSE: 6.728257068349047\n",
      "City: Bình Thuận  _algo:cnn  -RMSE: 7.468487881735255\n"
     ]
    },
    {
     "name": "stderr",
     "output_type": "stream",
     "text": [
      "\u001b[32m[I 2023-02-07 13:44:37,451]\u001b[0m Trial 7 finished with value: 6.728257068349047 and parameters: {'Epochs': 310, 'Learning rate': 0.0001279110045642067, 'Num. filters': [32, 64, 128], 'Dropout rate': 0.30573242444821963}. Best is trial 10 with value: 6.670424118846041.\u001b[0m\n"
     ]
    },
    {
     "name": "stdout",
     "output_type": "stream",
     "text": [
      "City: Bình Thuận  _algo:cnn  -RMSE: 9.596297928471838\n",
      "Epoch: 134/270 - train_loss: 0.1792 - test_loss: 0.100886\n",
      "Epoch: 201/270 - train_loss: 0.2450 - test_loss: 0.194067\n",
      "Epoch: 268/270 - train_loss: 0.3442 - test_loss: 0.297336\n",
      "Epoch: 269/270 - train_loss: 0.3426 - test_loss: 0.294950\n",
      "City: Bình Thuận  _algo:cnn  -RMSE: 5.709058717598775\n",
      "City: Bình Thuận  _algo:cnn  -RMSE: 6.535725905648187\n"
     ]
    },
    {
     "name": "stderr",
     "output_type": "stream",
     "text": [
      "\u001b[32m[I 2023-02-07 13:44:51,409]\u001b[0m Trial 13 finished with value: 5.709058717598775 and parameters: {'Epochs': 400, 'Learning rate': 0.00010943749590777531, 'Num. filters': [32, 64, 128], 'Dropout rate': 0.3048336535924578}. Best is trial 13 with value: 5.709058717598775.\u001b[0m\n"
     ]
    },
    {
     "name": "stdout",
     "output_type": "stream",
     "text": [
      "City: Bình Thuận  _algo:cnn  -RMSE: 8.243045601975576\n",
      "Epoch: 201/270 - train_loss: 0.1822 - test_loss: 0.099758\n",
      "Epoch: 268/270 - train_loss: 0.1994 - test_loss: 0.133684\n",
      "Epoch: 269/270 - train_loss: 0.2026 - test_loss: 0.133173\n",
      "City: Bình Thuận  _algo:cnn  -RMSE: 6.692061909951552\n",
      "City: Bình Thuận  _algo:cnn  -RMSE: 6.9061596164256525\n"
     ]
    },
    {
     "name": "stderr",
     "output_type": "stream",
     "text": [
      "\u001b[32m[I 2023-02-07 13:45:01,999]\u001b[0m Trial 11 finished with value: 6.692061909951552 and parameters: {'Epochs': 310, 'Learning rate': 0.00021470525984769345, 'Num. filters': [128, 128, 128], 'Dropout rate': 0.300656467411957}. Best is trial 13 with value: 5.709058717598775.\u001b[0m\n"
     ]
    },
    {
     "name": "stdout",
     "output_type": "stream",
     "text": [
      "City: Bình Thuận  _algo:cnn  -RMSE: 7.815147563713555\n",
      "Epoch: 268/270 - train_loss: 0.1841 - test_loss: 0.103098\n",
      "Epoch: 269/270 - train_loss: 0.1806 - test_loss: 0.098421\n",
      "City: Bình Thuận  _algo:cnn  -RMSE: 6.545547667831506\n",
      "City: Bình Thuận  _algo:cnn  -RMSE: 6.427560683228921\n"
     ]
    },
    {
     "name": "stderr",
     "output_type": "stream",
     "text": [
      "\u001b[32m[I 2023-02-07 13:45:10,270]\u001b[0m Trial 5 finished with value: 6.545547667831506 and parameters: {'Epochs': 450, 'Learning rate': 0.000983147503767489, 'Num. filters': [64, 64, 64], 'Dropout rate': 0.24920121235192175}. Best is trial 13 with value: 5.709058717598775.\u001b[0m\n",
      "\u001b[32m[I 2023-02-07 13:45:10,316]\u001b[0m A new study created in memory with name: no-name-bce761bd-0b14-4135-9283-2b770928976e\u001b[0m\n"
     ]
    },
    {
     "name": "stdout",
     "output_type": "stream",
     "text": [
      "City: Bình Thuận  _algo:cnn  -RMSE: 6.081854736679033\n",
      "Study statistics for : \n",
      "  Number of finished trials:  30\n",
      "Best trial of city:  Bình Thuận\n",
      "  Value:  5.709058717598775\n"
     ]
    },
    {
     "name": "stderr",
     "output_type": "stream",
     "text": [
      "<ipython-input-14-8244d6fc4512>:11: FutureWarning: suggest_loguniform has been deprecated in v3.0.0. This feature will be removed in v6.0.0. See https://github.com/optuna/optuna/releases/tag/v3.0.0. Use :func:`~optuna.trial.Trial.suggest_float` instead.\n",
      "  learning_rate = trial.suggest_loguniform('Learning rate', 1e-4, 1e-2)\n"
     ]
    },
    {
     "name": "stdout",
     "output_type": "stream",
     "text": [
      "Epoch:  0/310 - train_loss: 1.0979 - test_loss: 0.801221\n",
      "Epoch:  0/310 - train_loss: 0.8013 - test_loss: 0.623183\n",
      "Epoch:  0/310 - train_loss: 1.0211 - test_loss: 0.807436\n",
      "Epoch:  0/310 - train_loss: 0.8240 - test_loss: 0.674735\n",
      "Epoch:  0/310 - train_loss: 0.9338 - test_loss: 0.759992\n",
      "Epoch:  0/310 - train_loss: 0.7646 - test_loss: 0.638331\n",
      "Epoch:  0/310 - train_loss: 1.1409 - test_loss: 0.889469\n",
      "Epoch:  0/310 - train_loss: 0.9957 - test_loss: 0.787469\n",
      "Epoch: 77/310 - train_loss: 0.2086 - test_loss: 0.114777\n",
      "Epoch: 77/310 - train_loss: 0.2077 - test_loss: 0.118882\n",
      "Epoch: 77/310 - train_loss: 0.5578 - test_loss: 0.526216\n",
      "Epoch: 77/310 - train_loss: 0.1880 - test_loss: 0.104511\n",
      "Epoch: 77/310 - train_loss: 0.2264 - test_loss: 0.146189\n",
      "Epoch: 154/310 - train_loss: 0.2051 - test_loss: 0.114689\n",
      "Epoch: 154/310 - train_loss: 0.1512 - test_loss: 0.126007\n",
      "Epoch: 77/310 - train_loss: 0.1920 - test_loss: 0.121605\n",
      "Epoch: 154/310 - train_loss: 0.4313 - test_loss: 0.387754\n",
      "Epoch: 154/310 - train_loss: 0.1631 - test_loss: 0.124205\n",
      "Epoch: 231/310 - train_loss: 0.1898 - test_loss: 0.114902\n",
      "Epoch: 154/310 - train_loss: 0.2032 - test_loss: 0.124172\n",
      "Epoch: 231/310 - train_loss: 0.0491 - test_loss: 0.176398\n",
      "Epoch:  0/310 - train_loss: 0.9748 - test_loss: 0.774852\n",
      "Epoch: 231/310 - train_loss: 0.3309 - test_loss: 0.278775\n",
      "Epoch: 231/310 - train_loss: 0.0782 - test_loss: 0.138878\n",
      "Epoch: 308/310 - train_loss: 0.1614 - test_loss: 0.118635\n",
      "Epoch: 309/310 - train_loss: 0.1657 - test_loss: 0.114845\n",
      "City: Bình Thuận  _algo:lstm  -RMSE: 6.434913908660344\n",
      "City: Bình Thuận  _algo:lstm  -RMSE: 5.899516356961004\n"
     ]
    },
    {
     "name": "stderr",
     "output_type": "stream",
     "text": [
      "\u001b[32m[I 2023-02-07 13:48:53,362]\u001b[0m Trial 7 finished with value: 6.434913908660344 and parameters: {'Epochs': 230, 'Hidden size': 23, 'n layers': 3, 'Learning rate': 0.0016411218532837743}. Best is trial 7 with value: 6.434913908660344.\u001b[0m\n"
     ]
    },
    {
     "name": "stdout",
     "output_type": "stream",
     "text": [
      "City: Bình Thuận  _algo:lstm  -RMSE: 7.004810034905024\n"
     ]
    },
    {
     "name": "stderr",
     "output_type": "stream",
     "text": [
      "<ipython-input-14-8244d6fc4512>:11: FutureWarning: suggest_loguniform has been deprecated in v3.0.0. This feature will be removed in v6.0.0. See https://github.com/optuna/optuna/releases/tag/v3.0.0. Use :func:`~optuna.trial.Trial.suggest_float` instead.\n",
      "  learning_rate = trial.suggest_loguniform('Learning rate', 1e-4, 1e-2)\n"
     ]
    },
    {
     "name": "stdout",
     "output_type": "stream",
     "text": [
      "Epoch:  0/340 - train_loss: 1.0375 - test_loss: 0.822184\n",
      "Epoch: 154/310 - train_loss: 0.1794 - test_loss: 0.146543\n",
      "Epoch: 308/310 - train_loss: 0.0126 - test_loss: 0.327213\n",
      "Epoch: 309/310 - train_loss: 0.0162 - test_loss: 0.309630\n",
      "City: Bình Thuận  _algo:lstm  -RMSE: 7.548532668498917\n",
      "City: Bình Thuận  _algo:lstm  -RMSE: 7.754530681299377\n"
     ]
    },
    {
     "name": "stderr",
     "output_type": "stream",
     "text": [
      "\u001b[32m[I 2023-02-07 13:49:02,775]\u001b[0m Trial 6 finished with value: 7.548532668498917 and parameters: {'Epochs': 350, 'Hidden size': 156, 'n layers': 3, 'Learning rate': 0.004518703905793868}. Best is trial 7 with value: 6.434913908660344.\u001b[0m\n"
     ]
    },
    {
     "name": "stdout",
     "output_type": "stream",
     "text": [
      "City: Bình Thuận  _algo:lstm  -RMSE: 7.729632680703311\n"
     ]
    },
    {
     "name": "stderr",
     "output_type": "stream",
     "text": [
      "<ipython-input-14-8244d6fc4512>:11: FutureWarning: suggest_loguniform has been deprecated in v3.0.0. This feature will be removed in v6.0.0. See https://github.com/optuna/optuna/releases/tag/v3.0.0. Use :func:`~optuna.trial.Trial.suggest_float` instead.\n",
      "  learning_rate = trial.suggest_loguniform('Learning rate', 1e-4, 1e-2)\n"
     ]
    },
    {
     "name": "stdout",
     "output_type": "stream",
     "text": [
      "Epoch: 77/310 - train_loss: 0.5691 - test_loss: 0.537470\n",
      "Epoch:  0/380 - train_loss: 0.7617 - test_loss: 0.697138\n",
      "Epoch: 231/310 - train_loss: 0.2016 - test_loss: 0.111226\n",
      "Epoch: 308/310 - train_loss: 0.2661 - test_loss: 0.201919\n",
      "Epoch: 309/310 - train_loss: 0.2654 - test_loss: 0.201666\n",
      "City: Bình Thuận  _algo:lstm  -RMSE: 8.514722187907829\n",
      "City: Bình Thuận  _algo:lstm  -RMSE: 9.645550172279783\n"
     ]
    },
    {
     "name": "stderr",
     "output_type": "stream",
     "text": [
      "\u001b[32m[I 2023-02-07 13:49:44,519]\u001b[0m Trial 0 finished with value: 8.514722187907829 and parameters: {'Epochs': 430, 'Hidden size': 68, 'n layers': 4, 'Learning rate': 0.00013794561590148603}. Best is trial 7 with value: 6.434913908660344.\u001b[0m\n"
     ]
    },
    {
     "name": "stdout",
     "output_type": "stream",
     "text": [
      "City: Bình Thuận  _algo:lstm  -RMSE: 11.445945898143536\n"
     ]
    },
    {
     "name": "stderr",
     "output_type": "stream",
     "text": [
      "<ipython-input-14-8244d6fc4512>:11: FutureWarning: suggest_loguniform has been deprecated in v3.0.0. This feature will be removed in v6.0.0. See https://github.com/optuna/optuna/releases/tag/v3.0.0. Use :func:`~optuna.trial.Trial.suggest_float` instead.\n",
      "  learning_rate = trial.suggest_loguniform('Learning rate', 1e-4, 1e-2)\n"
     ]
    },
    {
     "name": "stdout",
     "output_type": "stream",
     "text": [
      "Epoch:  0/120 - train_loss: 1.0125 - test_loss: 0.808095\n",
      "Epoch: 85/340 - train_loss: 0.5759 - test_loss: 0.544993\n",
      "Epoch: 308/310 - train_loss: 0.0235 - test_loss: 0.181367\n",
      "Epoch: 309/310 - train_loss: 0.0265 - test_loss: 0.148714\n",
      "City: Bình Thuận  _algo:lstm  -RMSE: 7.307768307432462\n",
      "City: Bình Thuận  _algo:lstm  -RMSE: 9.406923797601538\n"
     ]
    },
    {
     "name": "stderr",
     "output_type": "stream",
     "text": [
      "\u001b[32m[I 2023-02-07 13:50:07,850]\u001b[0m Trial 19 finished with value: 7.307768307432462 and parameters: {'Epochs': 310, 'Hidden size': 240, 'n layers': 4, 'Learning rate': 0.0015066243554594145}. Best is trial 7 with value: 6.434913908660344.\u001b[0m\n"
     ]
    },
    {
     "name": "stdout",
     "output_type": "stream",
     "text": [
      "City: Bình Thuận  _algo:lstm  -RMSE: 8.318668132013405\n"
     ]
    },
    {
     "name": "stderr",
     "output_type": "stream",
     "text": [
      "<ipython-input-14-8244d6fc4512>:11: FutureWarning: suggest_loguniform has been deprecated in v3.0.0. This feature will be removed in v6.0.0. See https://github.com/optuna/optuna/releases/tag/v3.0.0. Use :func:`~optuna.trial.Trial.suggest_float` instead.\n",
      "  learning_rate = trial.suggest_loguniform('Learning rate', 1e-4, 1e-2)\n"
     ]
    },
    {
     "name": "stdout",
     "output_type": "stream",
     "text": [
      "Epoch:  0/210 - train_loss: 0.9484 - test_loss: 0.752189\n",
      "Epoch: 30/120 - train_loss: 0.5317 - test_loss: 0.511607\n",
      "Epoch: 60/120 - train_loss: 0.3747 - test_loss: 0.332659\n",
      "Epoch: 308/310 - train_loss: 0.1990 - test_loss: 0.114699\n",
      "Epoch: 309/310 - train_loss: 0.1974 - test_loss: 0.112270\n",
      "Epoch: 231/310 - train_loss: 0.1374 - test_loss: 0.101930\n",
      "City: Bình Thuận  _algo:lstm  -RMSE: 6.665255755330436\n",
      "City: Bình Thuận  _algo:lstm  -RMSE: 8.127713297223874\n"
     ]
    },
    {
     "name": "stderr",
     "output_type": "stream",
     "text": [
      "\u001b[32m[I 2023-02-07 13:50:44,785]\u001b[0m Trial 11 finished with value: 6.665255755330436 and parameters: {'Epochs': 210, 'Hidden size': 15, 'n layers': 4, 'Learning rate': 0.0008405075361383397}. Best is trial 7 with value: 6.434913908660344.\u001b[0m\n"
     ]
    },
    {
     "name": "stdout",
     "output_type": "stream",
     "text": [
      "City: Bình Thuận  _algo:lstm  -RMSE: 10.86602603709209\n"
     ]
    },
    {
     "name": "stderr",
     "output_type": "stream",
     "text": [
      "<ipython-input-14-8244d6fc4512>:11: FutureWarning: suggest_loguniform has been deprecated in v3.0.0. This feature will be removed in v6.0.0. See https://github.com/optuna/optuna/releases/tag/v3.0.0. Use :func:`~optuna.trial.Trial.suggest_float` instead.\n",
      "  learning_rate = trial.suggest_loguniform('Learning rate', 1e-4, 1e-2)\n"
     ]
    },
    {
     "name": "stdout",
     "output_type": "stream",
     "text": [
      "Epoch: 95/380 - train_loss: 0.1869 - test_loss: 0.136406\n",
      "Epoch:  0/120 - train_loss: 1.0628 - test_loss: 0.830103\n",
      "Epoch: 170/340 - train_loss: 0.4564 - test_loss: 0.418393\n",
      "Epoch: 90/120 - train_loss: 0.2838 - test_loss: 0.219047\n",
      "Epoch: 52/210 - train_loss: 0.2678 - test_loss: 0.199218\n",
      "Epoch: 30/120 - train_loss: 0.6400 - test_loss: 0.625302\n",
      "Epoch: 119/120 - train_loss: 0.2514 - test_loss: 0.169277\n",
      "City: Bình Thuận  _algo:lstm  -RMSE: 11.000296947295665\n",
      "City: Bình Thuận  _algo:lstm  -RMSE: 11.715062438276393\n"
     ]
    },
    {
     "name": "stderr",
     "output_type": "stream",
     "text": [
      "\u001b[32m[I 2023-02-07 13:51:31,500]\u001b[0m Trial 22 finished with value: 11.000296947295665 and parameters: {'Epochs': 120, 'Hidden size': 8, 'n layers': 5, 'Learning rate': 0.00044495910538676115}. Best is trial 7 with value: 6.434913908660344.\u001b[0m\n"
     ]
    },
    {
     "name": "stdout",
     "output_type": "stream",
     "text": [
      "City: Bình Thuận  _algo:lstm  -RMSE: 11.583430096174977\n"
     ]
    },
    {
     "name": "stderr",
     "output_type": "stream",
     "text": [
      "<ipython-input-14-8244d6fc4512>:11: FutureWarning: suggest_loguniform has been deprecated in v3.0.0. This feature will be removed in v6.0.0. See https://github.com/optuna/optuna/releases/tag/v3.0.0. Use :func:`~optuna.trial.Trial.suggest_float` instead.\n",
      "  learning_rate = trial.suggest_loguniform('Learning rate', 1e-4, 1e-2)\n"
     ]
    },
    {
     "name": "stdout",
     "output_type": "stream",
     "text": [
      "Epoch:  0/260 - train_loss: 0.7841 - test_loss: 0.683024\n",
      "Epoch: 255/340 - train_loss: 0.3664 - test_loss: 0.315682\n",
      "Epoch: 154/310 - train_loss: 0.4480 - test_loss: 0.407584\n",
      "Epoch: 60/120 - train_loss: 0.5542 - test_loss: 0.535466\n",
      "Epoch: 104/210 - train_loss: 0.2465 - test_loss: 0.157181\n",
      "Epoch: 190/380 - train_loss: 0.1792 - test_loss: 0.114611\n",
      "Epoch: 308/310 - train_loss: 0.0930 - test_loss: 0.144233\n",
      "Epoch: 309/310 - train_loss: 0.0883 - test_loss: 0.142072\n",
      "City: Bình Thuận  _algo:lstm  -RMSE: 8.589329361764484\n",
      "City: Bình Thuận  _algo:lstm  -RMSE: 8.217497605490072\n",
      "Epoch: 65/260 - train_loss: 0.1967 - test_loss: 0.128674\n"
     ]
    },
    {
     "name": "stderr",
     "output_type": "stream",
     "text": [
      "\u001b[32m[I 2023-02-07 13:52:42,269]\u001b[0m Trial 4 finished with value: 8.589329361764484 and parameters: {'Epochs': 190, 'Hidden size': 8, 'n layers': 3, 'Learning rate': 0.00871531102094919}. Best is trial 7 with value: 6.434913908660344.\u001b[0m\n"
     ]
    },
    {
     "name": "stdout",
     "output_type": "stream",
     "text": [
      "City: Bình Thuận  _algo:lstm  -RMSE: 8.486351469313695\n"
     ]
    },
    {
     "name": "stderr",
     "output_type": "stream",
     "text": [
      "<ipython-input-14-8244d6fc4512>:11: FutureWarning: suggest_loguniform has been deprecated in v3.0.0. This feature will be removed in v6.0.0. See https://github.com/optuna/optuna/releases/tag/v3.0.0. Use :func:`~optuna.trial.Trial.suggest_float` instead.\n",
      "  learning_rate = trial.suggest_loguniform('Learning rate', 1e-4, 1e-2)\n"
     ]
    },
    {
     "name": "stdout",
     "output_type": "stream",
     "text": [
      "Epoch:  0/160 - train_loss: 1.0058 - test_loss: 0.810469\n",
      "Epoch: 90/120 - train_loss: 0.4575 - test_loss: 0.419209\n",
      "Epoch: 339/340 - train_loss: 0.2989 - test_loss: 0.240102\n",
      "City: Bình Thuận  _algo:lstm  -RMSE: 9.582037304093499\n",
      "City: Bình Thuận  _algo:lstm  -RMSE: 10.71401995897602\n"
     ]
    },
    {
     "name": "stderr",
     "output_type": "stream",
     "text": [
      "\u001b[32m[I 2023-02-07 13:53:20,961]\u001b[0m Trial 20 finished with value: 9.582037304093499 and parameters: {'Epochs': 340, 'Hidden size': 43, 'n layers': 4, 'Learning rate': 0.00010890699690997694}. Best is trial 7 with value: 6.434913908660344.\u001b[0m\n"
     ]
    },
    {
     "name": "stdout",
     "output_type": "stream",
     "text": [
      "City: Bình Thuận  _algo:lstm  -RMSE: 12.374246595250195\n"
     ]
    },
    {
     "name": "stderr",
     "output_type": "stream",
     "text": [
      "<ipython-input-14-8244d6fc4512>:11: FutureWarning: suggest_loguniform has been deprecated in v3.0.0. This feature will be removed in v6.0.0. See https://github.com/optuna/optuna/releases/tag/v3.0.0. Use :func:`~optuna.trial.Trial.suggest_float` instead.\n",
      "  learning_rate = trial.suggest_loguniform('Learning rate', 1e-4, 1e-2)\n"
     ]
    },
    {
     "name": "stdout",
     "output_type": "stream",
     "text": [
      "Epoch:  0/130 - train_loss: 0.9258 - test_loss: 0.690118\n",
      "Epoch: 156/210 - train_loss: 0.2467 - test_loss: 0.156901\n",
      "Epoch: 40/160 - train_loss: 0.6129 - test_loss: 0.592485\n",
      "Epoch: 130/260 - train_loss: 0.2091 - test_loss: 0.118399\n",
      "Epoch: 119/120 - train_loss: 0.3927 - test_loss: 0.352720\n",
      "City: Bình Thuận  _algo:lstm  -RMSE: 12.600531905673304\n",
      "City: Bình Thuận  _algo:lstm  -RMSE: 13.88168906266997\n"
     ]
    },
    {
     "name": "stderr",
     "output_type": "stream",
     "text": [
      "\u001b[32m[I 2023-02-07 13:53:58,583]\u001b[0m Trial 24 finished with value: 12.600531905673304 and parameters: {'Epochs': 120, 'Hidden size': 19, 'n layers': 10, 'Learning rate': 0.0001998830370775461}. Best is trial 7 with value: 6.434913908660344.\u001b[0m\n"
     ]
    },
    {
     "name": "stdout",
     "output_type": "stream",
     "text": [
      "City: Bình Thuận  _algo:lstm  -RMSE: 15.121140060364258\n"
     ]
    },
    {
     "name": "stderr",
     "output_type": "stream",
     "text": [
      "<ipython-input-14-8244d6fc4512>:11: FutureWarning: suggest_loguniform has been deprecated in v3.0.0. This feature will be removed in v6.0.0. See https://github.com/optuna/optuna/releases/tag/v3.0.0. Use :func:`~optuna.trial.Trial.suggest_float` instead.\n",
      "  learning_rate = trial.suggest_loguniform('Learning rate', 1e-4, 1e-2)\n"
     ]
    },
    {
     "name": "stdout",
     "output_type": "stream",
     "text": [
      "Epoch: 32/130 - train_loss: 0.2980 - test_loss: 0.236829\n",
      "Epoch:  0/110 - train_loss: 0.8189 - test_loss: 0.741451\n",
      "Epoch: 285/380 - train_loss: 0.1230 - test_loss: 0.131763\n",
      "Epoch: 64/130 - train_loss: 0.1973 - test_loss: 0.127375\n",
      "Epoch: 27/110 - train_loss: 0.2809 - test_loss: 0.199294\n",
      "Epoch: 77/310 - train_loss: 0.3697 - test_loss: 0.325370\n",
      "Epoch: 80/160 - train_loss: 0.5049 - test_loss: 0.471066\n",
      "Epoch: 208/210 - train_loss: 0.2444 - test_loss: 0.156118\n",
      "Epoch: 209/210 - train_loss: 0.2451 - test_loss: 0.156495\n",
      "City: Bình Thuận  _algo:lstm  -RMSE: 13.360530076214005\n",
      "City: Bình Thuận  _algo:lstm  -RMSE: 14.040284121064984\n"
     ]
    },
    {
     "name": "stderr",
     "output_type": "stream",
     "text": [
      "\u001b[32m[I 2023-02-07 13:55:00,623]\u001b[0m Trial 23 finished with value: 13.360530076214005 and parameters: {'Epochs': 210, 'Hidden size': 7, 'n layers': 9, 'Learning rate': 0.0009638174298889204}. Best is trial 7 with value: 6.434913908660344.\u001b[0m\n"
     ]
    },
    {
     "name": "stdout",
     "output_type": "stream",
     "text": [
      "City: Bình Thuận  _algo:lstm  -RMSE: 14.68969022291084\n"
     ]
    },
    {
     "name": "stderr",
     "output_type": "stream",
     "text": [
      "<ipython-input-14-8244d6fc4512>:11: FutureWarning: suggest_loguniform has been deprecated in v3.0.0. This feature will be removed in v6.0.0. See https://github.com/optuna/optuna/releases/tag/v3.0.0. Use :func:`~optuna.trial.Trial.suggest_float` instead.\n",
      "  learning_rate = trial.suggest_loguniform('Learning rate', 1e-4, 1e-2)\n"
     ]
    },
    {
     "name": "stdout",
     "output_type": "stream",
     "text": [
      "Epoch:  0/500 - train_loss: 0.8126 - test_loss: 0.703962\n",
      "Epoch: 195/260 - train_loss: 0.1240 - test_loss: 0.126542\n",
      "Epoch: 96/130 - train_loss: 0.1840 - test_loss: 0.106678\n",
      "Epoch: 54/110 - train_loss: 0.2502 - test_loss: 0.152213\n",
      "Epoch: 231/310 - train_loss: 0.3560 - test_loss: 0.306508\n",
      "Epoch: 128/130 - train_loss: 0.1759 - test_loss: 0.111039\n",
      "Epoch: 129/130 - train_loss: 0.1788 - test_loss: 0.107859\n",
      "City: Bình Thuận  _algo:lstm  -RMSE: 9.088210580697417\n",
      "City: Bình Thuận  _algo:lstm  -RMSE: 7.194260133744826\n"
     ]
    },
    {
     "name": "stderr",
     "output_type": "stream",
     "text": [
      "\u001b[32m[I 2023-02-07 13:56:00,464]\u001b[0m Trial 27 finished with value: 9.088210580697417 and parameters: {'Epochs': 130, 'Hidden size': 68, 'n layers': 7, 'Learning rate': 0.0011663929156530354}. Best is trial 7 with value: 6.434913908660344.\u001b[0m\n"
     ]
    },
    {
     "name": "stdout",
     "output_type": "stream",
     "text": [
      "City: Bình Thuận  _algo:lstm  -RMSE: 8.085813097331247\n",
      "Epoch: 120/160 - train_loss: 0.4223 - test_loss: 0.378303\n",
      "Epoch:  0/310 - train_loss: 0.9100 - test_loss: 0.705452\n",
      "Epoch: 81/110 - train_loss: 0.2404 - test_loss: 0.149204\n",
      "Epoch: 379/380 - train_loss: 0.1004 - test_loss: 0.132176\n",
      "City: Bình Thuận  _algo:lstm  -RMSE: 8.216933043281047\n",
      "City: Bình Thuận  _algo:lstm  -RMSE: 7.422572404128916\n"
     ]
    },
    {
     "name": "stderr",
     "output_type": "stream",
     "text": [
      "\u001b[32m[I 2023-02-07 13:56:20,633]\u001b[0m Trial 21 finished with value: 8.216933043281047 and parameters: {'Epochs': 380, 'Hidden size': 139, 'n layers': 7, 'Learning rate': 0.005304738278357633}. Best is trial 7 with value: 6.434913908660344.\u001b[0m\n"
     ]
    },
    {
     "name": "stdout",
     "output_type": "stream",
     "text": [
      "City: Bình Thuận  _algo:lstm  -RMSE: 8.33013946748597\n",
      "Epoch: 259/260 - train_loss: 0.0775 - test_loss: 0.167119\n",
      "City: Bình Thuận  _algo:lstm  -RMSE: 6.556075664770515\n",
      "City: Bình Thuận  _algo:lstm  -RMSE: 8.795784043223385\n"
     ]
    },
    {
     "name": "stderr",
     "output_type": "stream",
     "text": [
      "\u001b[32m[I 2023-02-07 13:56:26,393]\u001b[0m Trial 25 finished with value: 6.556075664770515 and parameters: {'Epochs': 260, 'Hidden size': 224, 'n layers': 5, 'Learning rate': 0.00311306374529937}. Best is trial 7 with value: 6.434913908660344.\u001b[0m\n"
     ]
    },
    {
     "name": "stdout",
     "output_type": "stream",
     "text": [
      "City: Bình Thuận  _algo:lstm  -RMSE: 9.802029515509085\n",
      "Epoch:  0/310 - train_loss: 1.0422 - test_loss: 0.782288\n",
      "Epoch: 159/160 - train_loss: 0.3563 - test_loss: 0.306518\n",
      "City: Bình Thuận  _algo:lstm  -RMSE: 10.06669179679943\n",
      "City: Bình Thuận  _algo:lstm  -RMSE: 11.287760888020923\n"
     ]
    },
    {
     "name": "stderr",
     "output_type": "stream",
     "text": [
      "\u001b[32m[I 2023-02-07 13:56:44,228]\u001b[0m Trial 26 finished with value: 10.06669179679943 and parameters: {'Epochs': 160, 'Hidden size': 19, 'n layers': 3, 'Learning rate': 0.00017720849560212194}. Best is trial 7 with value: 6.434913908660344.\u001b[0m\n"
     ]
    },
    {
     "name": "stdout",
     "output_type": "stream",
     "text": [
      "City: Bình Thuận  _algo:lstm  -RMSE: 12.623359067193489\n",
      "Epoch:  0/310 - train_loss: 0.9243 - test_loss: 0.720071\n",
      "Epoch: 108/110 - train_loss: 0.2271 - test_loss: 0.132056\n",
      "Epoch: 109/110 - train_loss: 0.2274 - test_loss: 0.151542\n",
      "City: Bình Thuận  _algo:lstm  -RMSE: 9.015840934261806\n",
      "City: Bình Thuận  _algo:lstm  -RMSE: 10.060942894019577\n"
     ]
    },
    {
     "name": "stderr",
     "output_type": "stream",
     "text": [
      "\u001b[32m[I 2023-02-07 13:56:56,570]\u001b[0m Trial 28 finished with value: 9.015840934261806 and parameters: {'Epochs': 110, 'Hidden size': 40, 'n layers': 9, 'Learning rate': 0.00444705754162109}. Best is trial 7 with value: 6.434913908660344.\u001b[0m\n"
     ]
    },
    {
     "name": "stdout",
     "output_type": "stream",
     "text": [
      "City: Bình Thuận  _algo:lstm  -RMSE: 11.362598629715356\n",
      "Epoch:  0/310 - train_loss: 0.7632 - test_loss: 0.613575\n",
      "Epoch: 308/310 - train_loss: 0.2933 - test_loss: 0.231802\n",
      "Epoch: 309/310 - train_loss: 0.2912 - test_loss: 0.228414\n",
      "City: Bình Thuận  _algo:lstm  -RMSE: 9.690498593732183\n",
      "City: Bình Thuận  _algo:lstm  -RMSE: 10.647786149757271\n"
     ]
    },
    {
     "name": "stderr",
     "output_type": "stream",
     "text": [
      "\u001b[32m[I 2023-02-07 13:57:17,326]\u001b[0m Trial 16 finished with value: 9.690498593732183 and parameters: {'Epochs': 280, 'Hidden size': 29, 'n layers': 3, 'Learning rate': 0.00012072590333461304}. Best is trial 7 with value: 6.434913908660344.\u001b[0m\n"
     ]
    },
    {
     "name": "stdout",
     "output_type": "stream",
     "text": [
      "City: Bình Thuận  _algo:lstm  -RMSE: 11.8112603528668\n",
      "Epoch:  0/310 - train_loss: 0.8440 - test_loss: 0.733244\n",
      "Epoch: 125/500 - train_loss: 0.1909 - test_loss: 0.132003\n",
      "Epoch: 154/310 - train_loss: 0.2276 - test_loss: 0.170481\n",
      "Epoch: 77/310 - train_loss: 0.5702 - test_loss: 0.540028\n",
      "Epoch: 77/310 - train_loss: 0.2067 - test_loss: 0.132858\n",
      "Epoch: 77/310 - train_loss: 0.2109 - test_loss: 0.110536\n",
      "Epoch:  0/310 - train_loss: 0.9900 - test_loss: 0.787449\n",
      "Epoch: 77/310 - train_loss: 0.4273 - test_loss: 0.398596\n",
      "Epoch: 231/310 - train_loss: 0.1997 - test_loss: 0.122879\n",
      "Epoch: 154/310 - train_loss: 0.4425 - test_loss: 0.408100\n",
      "Epoch: 250/500 - train_loss: 0.0964 - test_loss: 0.108625\n",
      "Epoch: 154/310 - train_loss: 0.1644 - test_loss: 0.110394\n",
      "Epoch: 154/310 - train_loss: 0.1973 - test_loss: 0.111074\n",
      "Epoch: 77/310 - train_loss: 0.1946 - test_loss: 0.107330\n",
      "Epoch: 308/310 - train_loss: 0.1962 - test_loss: 0.111604\n",
      "Epoch: 309/310 - train_loss: 0.1933 - test_loss: 0.123409\n",
      "City: Bình Thuận  _algo:lstm  -RMSE: 6.329621302943821\n",
      "City: Bình Thuận  _algo:lstm  -RMSE: 7.312779308035267\n"
     ]
    },
    {
     "name": "stderr",
     "output_type": "stream",
     "text": [
      "\u001b[32m[I 2023-02-07 14:02:22,943]\u001b[0m Trial 8 finished with value: 6.329621302943821 and parameters: {'Epochs': 490, 'Hidden size': 21, 'n layers': 10, 'Learning rate': 0.0003483994798798929}. Best is trial 8 with value: 6.329621302943821.\u001b[0m\n"
     ]
    },
    {
     "name": "stdout",
     "output_type": "stream",
     "text": [
      "City: Bình Thuận  _algo:lstm  -RMSE: 8.908633117281687\n",
      "Epoch: 154/310 - train_loss: 0.2505 - test_loss: 0.211790\n",
      "Epoch: 231/310 - train_loss: 0.3370 - test_loss: 0.293137\n",
      "Epoch: 231/310 - train_loss: 0.1591 - test_loss: 0.108098\n",
      "Epoch: 231/310 - train_loss: 0.1719 - test_loss: 0.121065\n",
      "Epoch: 375/500 - train_loss: 0.0698 - test_loss: 0.104705\n",
      "Epoch: 308/310 - train_loss: 0.2612 - test_loss: 0.211761\n",
      "Epoch: 309/310 - train_loss: 0.2610 - test_loss: 0.216029\n",
      "Epoch: 231/310 - train_loss: 0.1674 - test_loss: 0.132032\n",
      "City: Bình Thuận  _algo:lstm  -RMSE: 6.073796533173351\n",
      "City: Bình Thuận  _algo:lstm  -RMSE: 5.916206981733921\n"
     ]
    },
    {
     "name": "stderr",
     "output_type": "stream",
     "text": [
      "\u001b[32m[I 2023-02-07 14:04:57,691]\u001b[0m Trial 2 finished with value: 6.073796533173351 and parameters: {'Epochs': 220, 'Hidden size': 129, 'n layers': 10, 'Learning rate': 0.0001296667863548154}. Best is trial 2 with value: 6.073796533173351.\u001b[0m\n"
     ]
    },
    {
     "name": "stdout",
     "output_type": "stream",
     "text": [
      "City: Bình Thuận  _algo:lstm  -RMSE: 8.115677962404552\n",
      "Epoch: 154/310 - train_loss: 0.1749 - test_loss: 0.109725\n",
      "Epoch: 308/310 - train_loss: 0.1605 - test_loss: 0.118129\n",
      "Epoch: 309/310 - train_loss: 0.1562 - test_loss: 0.126561\n",
      "City: Bình Thuận  _algo:lstm  -RMSE: 7.625943680395347\n",
      "Epoch:  0/310 - train_loss: 1.1780 - test_loss: 0.888223\n",
      "City: Bình Thuận  _algo:lstm  -RMSE: 6.069999298500176\n"
     ]
    },
    {
     "name": "stderr",
     "output_type": "stream",
     "text": [
      "\u001b[32m[I 2023-02-07 14:05:08,487]\u001b[0m Trial 17 finished with value: 7.625943680395347 and parameters: {'Epochs': 320, 'Hidden size': 12, 'n layers': 6, 'Learning rate': 0.0017674024267152794}. Best is trial 2 with value: 6.073796533173351.\u001b[0m\n"
     ]
    },
    {
     "name": "stdout",
     "output_type": "stream",
     "text": [
      "City: Bình Thuận  _algo:lstm  -RMSE: 8.651796432854022\n",
      "Epoch:  0/310 - train_loss: 0.9503 - test_loss: 0.766843\n",
      "Epoch: 308/310 - train_loss: 0.1974 - test_loss: 0.116178\n",
      "Epoch: 309/310 - train_loss: 0.2389 - test_loss: 0.108488\n",
      "City: Bình Thuận  _algo:lstm  -RMSE: 7.689694114564023\n",
      "City: Bình Thuận  _algo:lstm  -RMSE: 6.67203863702941\n"
     ]
    },
    {
     "name": "stderr",
     "output_type": "stream",
     "text": [
      "\u001b[32m[I 2023-02-07 14:05:24,747]\u001b[0m Trial 9 finished with value: 7.689694114564023 and parameters: {'Epochs': 230, 'Hidden size': 84, 'n layers': 9, 'Learning rate': 0.0008244723753582531}. Best is trial 2 with value: 6.073796533173351.\u001b[0m\n"
     ]
    },
    {
     "name": "stdout",
     "output_type": "stream",
     "text": [
      "City: Bình Thuận  _algo:lstm  -RMSE: 8.27176353608875\n",
      "Epoch: 77/310 - train_loss: 0.3181 - test_loss: 0.257370\n",
      "Epoch:  0/310 - train_loss: 0.8363 - test_loss: 0.713602\n",
      "Epoch: 499/500 - train_loss: 0.1237 - test_loss: 0.108030\n",
      "City: Bình Thuận  _algo:lstm  -RMSE: 8.603646954793389\n",
      "City: Bình Thuận  _algo:lstm  -RMSE: 7.942024577197915\n"
     ]
    },
    {
     "name": "stderr",
     "output_type": "stream",
     "text": [
      "\u001b[32m[I 2023-02-07 14:06:03,149]\u001b[0m Trial 29 finished with value: 8.603646954793389 and parameters: {'Epochs': 500, 'Hidden size': 68, 'n layers': 7, 'Learning rate': 0.0031187490822223774}. Best is trial 2 with value: 6.073796533173351.\u001b[0m\n"
     ]
    },
    {
     "name": "stdout",
     "output_type": "stream",
     "text": [
      "City: Bình Thuận  _algo:lstm  -RMSE: 8.683144463540838\n",
      "Epoch:  0/310 - train_loss: 1.0346 - test_loss: 0.808680\n",
      "Epoch: 308/310 - train_loss: 0.1326 - test_loss: 0.110258\n",
      "Epoch: 309/310 - train_loss: 0.1316 - test_loss: 0.107962\n",
      "City: Bình Thuận  _algo:lstm  -RMSE: 8.17817700955965\n",
      "City: Bình Thuận  _algo:lstm  -RMSE: 7.82663245454612\n"
     ]
    },
    {
     "name": "stderr",
     "output_type": "stream",
     "text": [
      "\u001b[32m[I 2023-02-07 14:06:40,919]\u001b[0m Trial 14 finished with value: 8.17817700955965 and parameters: {'Epochs': 350, 'Hidden size': 252, 'n layers': 8, 'Learning rate': 0.0002722610843448789}. Best is trial 2 with value: 6.073796533173351.\u001b[0m\n"
     ]
    },
    {
     "name": "stdout",
     "output_type": "stream",
     "text": [
      "Epoch: 231/310 - train_loss: 0.1665 - test_loss: 0.115582\n",
      "City: Bình Thuận  _algo:lstm  -RMSE: 7.563049375703887\n",
      "Epoch:  0/310 - train_loss: 0.9602 - test_loss: 0.770359\n",
      "Epoch: 77/310 - train_loss: 0.6013 - test_loss: 0.570531\n",
      "Epoch: 77/310 - train_loss: 0.2186 - test_loss: 0.147360\n",
      "Epoch: 154/310 - train_loss: 0.2599 - test_loss: 0.172898\n",
      "Epoch: 77/310 - train_loss: 0.4290 - test_loss: 0.390777\n",
      "Epoch: 308/310 - train_loss: 0.1560 - test_loss: 0.090082\n",
      "Epoch: 309/310 - train_loss: 0.1737 - test_loss: 0.105883\n",
      "City: Bình Thuận  _algo:lstm  -RMSE: 6.743117639199454\n",
      "City: Bình Thuận  _algo:lstm  -RMSE: 7.288289484867593\n"
     ]
    },
    {
     "name": "stderr",
     "output_type": "stream",
     "text": [
      "\u001b[32m[I 2023-02-07 14:07:56,458]\u001b[0m Trial 1 finished with value: 6.743117639199454 and parameters: {'Epochs': 400, 'Hidden size': 108, 'n layers': 7, 'Learning rate': 0.005446595140326518}. Best is trial 2 with value: 6.073796533173351.\u001b[0m\n"
     ]
    },
    {
     "name": "stdout",
     "output_type": "stream",
     "text": [
      "City: Bình Thuận  _algo:lstm  -RMSE: 6.809895123177712\n",
      "Epoch: 154/310 - train_loss: 0.4969 - test_loss: 0.461001\n",
      "Epoch: 77/310 - train_loss: 0.2204 - test_loss: 0.159235\n",
      "Epoch: 154/310 - train_loss: 0.1977 - test_loss: 0.121014\n",
      "Epoch: 231/310 - train_loss: 0.2834 - test_loss: 0.178245\n",
      "Epoch: 154/310 - train_loss: 0.2730 - test_loss: 0.212012\n",
      "Epoch: 77/310 - train_loss: 0.3904 - test_loss: 0.345229\n",
      "Epoch: 231/310 - train_loss: 0.4068 - test_loss: 0.365715\n",
      "Epoch: 154/310 - train_loss: 0.1763 - test_loss: 0.130068\n",
      "Epoch: 231/310 - train_loss: 0.1842 - test_loss: 0.114258\n",
      "Epoch: 308/310 - train_loss: 0.2072 - test_loss: 0.121248\n",
      "Epoch: 309/310 - train_loss: 0.2037 - test_loss: 0.146816\n",
      "City: Bình Thuận  _algo:lstm  -RMSE: 7.713390931972391\n",
      "City: Bình Thuận  _algo:lstm  -RMSE: 8.225053519479042\n"
     ]
    },
    {
     "name": "stderr",
     "output_type": "stream",
     "text": [
      "\u001b[32m[I 2023-02-07 14:10:21,979]\u001b[0m Trial 18 finished with value: 7.713390931972391 and parameters: {'Epochs': 440, 'Hidden size': 35, 'n layers': 10, 'Learning rate': 0.0039147630578040635}. Best is trial 2 with value: 6.073796533173351.\u001b[0m\n"
     ]
    },
    {
     "name": "stdout",
     "output_type": "stream",
     "text": [
      "City: Bình Thuận  _algo:lstm  -RMSE: 9.9368336554208\n",
      "Epoch: 231/310 - train_loss: 0.2185 - test_loss: 0.136915\n",
      "Epoch: 308/310 - train_loss: 0.3349 - test_loss: 0.286679\n",
      "Epoch: 309/310 - train_loss: 0.3329 - test_loss: 0.282390\n",
      "City: Bình Thuận  _algo:lstm  -RMSE: 9.017193831805074\n",
      "City: Bình Thuận  _algo:lstm  -RMSE: 10.59364872007568\n"
     ]
    },
    {
     "name": "stderr",
     "output_type": "stream",
     "text": [
      "\u001b[32m[I 2023-02-07 14:10:37,473]\u001b[0m Trial 3 finished with value: 9.017193831805074 and parameters: {'Epochs': 120, 'Hidden size': 98, 'n layers': 7, 'Learning rate': 0.00010164709416691528}. Best is trial 2 with value: 6.073796533173351.\u001b[0m\n"
     ]
    },
    {
     "name": "stdout",
     "output_type": "stream",
     "text": [
      "City: Bình Thuận  _algo:lstm  -RMSE: 12.058052016086231\n",
      "Epoch: 154/310 - train_loss: 0.2361 - test_loss: 0.166569\n",
      "Epoch: 77/310 - train_loss: 0.5048 - test_loss: 0.468282\n",
      "Epoch: 231/310 - train_loss: 0.1275 - test_loss: 0.183226\n",
      "Epoch: 308/310 - train_loss: 0.1808 - test_loss: 0.116665\n",
      "Epoch: 309/310 - train_loss: 0.1752 - test_loss: 0.114596\n",
      "City: Bình Thuận  _algo:lstm  -RMSE: 6.261563322507948\n",
      "City: Bình Thuận  _algo:lstm  -RMSE: 7.621169116668883\n"
     ]
    },
    {
     "name": "stderr",
     "output_type": "stream",
     "text": [
      "\u001b[32m[I 2023-02-07 14:10:59,670]\u001b[0m Trial 10 finished with value: 6.261563322507948 and parameters: {'Epochs': 330, 'Hidden size': 12, 'n layers': 7, 'Learning rate': 0.0009741254885276188}. Best is trial 2 with value: 6.073796533173351.\u001b[0m\n"
     ]
    },
    {
     "name": "stdout",
     "output_type": "stream",
     "text": [
      "City: Bình Thuận  _algo:lstm  -RMSE: 8.474338458100394\n",
      "Epoch: 308/310 - train_loss: 0.2083 - test_loss: 0.113007\n",
      "Epoch: 309/310 - train_loss: 0.2054 - test_loss: 0.118398\n",
      "City: Bình Thuận  _algo:lstm  -RMSE: 6.4751941899990895\n",
      "City: Bình Thuận  _algo:lstm  -RMSE: 7.74098629727613\n"
     ]
    },
    {
     "name": "stderr",
     "output_type": "stream",
     "text": [
      "\u001b[32m[I 2023-02-07 14:11:18,489]\u001b[0m Trial 5 finished with value: 6.4751941899990895 and parameters: {'Epochs': 290, 'Hidden size': 17, 'n layers': 7, 'Learning rate': 0.00027249039960059964}. Best is trial 2 with value: 6.073796533173351.\u001b[0m\n"
     ]
    },
    {
     "name": "stdout",
     "output_type": "stream",
     "text": [
      "City: Bình Thuận  _algo:lstm  -RMSE: 9.616172903741589\n",
      "Epoch: 308/310 - train_loss: 0.1602 - test_loss: 0.134200\n",
      "Epoch: 309/310 - train_loss: 0.1071 - test_loss: 0.140524\n",
      "City: Bình Thuận  _algo:lstm  -RMSE: 7.567008652614745\n",
      "City: Bình Thuận  _algo:lstm  -RMSE: 7.522778377093294\n"
     ]
    },
    {
     "name": "stderr",
     "output_type": "stream",
     "text": [
      "\u001b[32m[I 2023-02-07 14:11:27,651]\u001b[0m Trial 15 finished with value: 7.567008652614745 and parameters: {'Epochs': 420, 'Hidden size': 190, 'n layers': 5, 'Learning rate': 0.0007408527199460421}. Best is trial 2 with value: 6.073796533173351.\u001b[0m\n"
     ]
    },
    {
     "name": "stdout",
     "output_type": "stream",
     "text": [
      "City: Bình Thuận  _algo:lstm  -RMSE: 7.564665236780998\n",
      "Epoch: 231/310 - train_loss: 0.1994 - test_loss: 0.132979\n",
      "Epoch: 154/310 - train_loss: 0.3457 - test_loss: 0.297901\n",
      "Epoch: 308/310 - train_loss: 0.1913 - test_loss: 0.119696\n",
      "Epoch: 309/310 - train_loss: 0.1933 - test_loss: 0.102569\n",
      "City: Bình Thuận  _algo:lstm  -RMSE: 7.209633378938291\n"
     ]
    },
    {
     "name": "stderr",
     "output_type": "stream",
     "text": [
      "\u001b[32m[I 2023-02-07 14:11:51,492]\u001b[0m Trial 12 finished with value: 7.209633378938291 and parameters: {'Epochs': 390, 'Hidden size': 43, 'n layers': 9, 'Learning rate': 0.00031849265325458197}. Best is trial 2 with value: 6.073796533173351.\u001b[0m\n"
     ]
    },
    {
     "name": "stdout",
     "output_type": "stream",
     "text": [
      "City: Bình Thuận  _algo:lstm  -RMSE: 6.785037413386019\n",
      "City: Bình Thuận  _algo:lstm  -RMSE: 8.94388209089792\n",
      "Epoch: 231/310 - train_loss: 0.2462 - test_loss: 0.193617\n",
      "Epoch: 308/310 - train_loss: 0.2095 - test_loss: 0.136443\n",
      "Epoch: 309/310 - train_loss: 0.2092 - test_loss: 0.138767\n"
     ]
    },
    {
     "name": "stderr",
     "output_type": "stream",
     "text": [
      "\u001b[32m[I 2023-02-07 14:12:07,197]\u001b[0m Trial 13 finished with value: 7.611147783464711 and parameters: {'Epochs': 470, 'Hidden size': 34, 'n layers': 10, 'Learning rate': 0.00019118185632741448}. Best is trial 2 with value: 6.073796533173351.\u001b[0m\n"
     ]
    },
    {
     "name": "stdout",
     "output_type": "stream",
     "text": [
      "City: Bình Thuận  _algo:lstm  -RMSE: 7.611147783464711\n",
      "City: Bình Thuận  _algo:lstm  -RMSE: 9.696325019770681\n",
      "City: Bình Thuận  _algo:lstm  -RMSE: 10.854683513665435\n",
      "Study statistics for : \n",
      "  Number of finished trials:  30\n",
      "Best trial of city:  Bình Thuận\n",
      "  Value:  6.073796533173351\n"
     ]
    },
    {
     "name": "stderr",
     "output_type": "stream",
     "text": [
      "\u001b[32m[I 2023-02-07 14:12:07,254]\u001b[0m A new study created in memory with name: no-name-2e01e70e-79e5-41d5-9c4e-ade9ca90078a\u001b[0m\n",
      "<ipython-input-14-8244d6fc4512>:11: FutureWarning: suggest_loguniform has been deprecated in v3.0.0. This feature will be removed in v6.0.0. See https://github.com/optuna/optuna/releases/tag/v3.0.0. Use :func:`~optuna.trial.Trial.suggest_float` instead.\n",
      "  learning_rate = trial.suggest_loguniform('Learning rate', 1e-4, 1e-2)\n"
     ]
    },
    {
     "name": "stdout",
     "output_type": "stream",
     "text": [
      "Epoch:  0/500 - train_loss: 0.8631 - test_loss: 0.738597\n",
      "Epoch:  0/500 - train_loss: 0.9555 - test_loss: 0.795861\n",
      "Epoch:  0/500 - train_loss: 0.7511 - test_loss: 0.622903\n",
      "Epoch:  0/500 - train_loss: 0.9030 - test_loss: 0.687178\n",
      "Epoch:  0/500 - train_loss: 0.8380 - test_loss: 0.666189\n",
      "Epoch:  0/500 - train_loss: 0.9179 - test_loss: 0.722810\n",
      "Epoch:  0/500 - train_loss: 1.0380 - test_loss: 0.815602\n",
      "Epoch:  0/500 - train_loss: 1.0677 - test_loss: 0.834097\n",
      "Epoch: 125/500 - train_loss: 0.2527 - test_loss: 0.180089\n",
      "Epoch: 125/500 - train_loss: 0.4809 - test_loss: 0.455430\n",
      "Epoch: 125/500 - train_loss: 0.1917 - test_loss: 0.108199\n",
      "Epoch: 125/500 - train_loss: 0.1939 - test_loss: 0.128852\n",
      "Epoch: 250/500 - train_loss: 0.2097 - test_loss: 0.118761\n",
      "Epoch: 125/500 - train_loss: 0.1986 - test_loss: 0.116273\n",
      "Epoch: 250/500 - train_loss: 0.3105 - test_loss: 0.256689\n",
      "Epoch: 375/500 - train_loss: 0.2030 - test_loss: 0.116157\n",
      "Epoch: 125/500 - train_loss: 0.2435 - test_loss: 0.171200\n",
      "Epoch: 250/500 - train_loss: 0.1819 - test_loss: 0.135121\n",
      "Epoch: 250/500 - train_loss: 0.1176 - test_loss: 0.107741\n",
      "Epoch: 499/500 - train_loss: 0.2021 - test_loss: 0.116863\n",
      "City: Bình Thuận  _algo:lstm  -RMSE: 6.627247115874793\n",
      "City: Bình Thuận  _algo:lstm  -RMSE: 8.288473666615271\n"
     ]
    },
    {
     "name": "stderr",
     "output_type": "stream",
     "text": [
      "\u001b[32m[I 2023-02-07 14:15:38,104]\u001b[0m Trial 13 finished with value: 6.627247115874793 and parameters: {'Epochs': 120, 'Hidden size': 10, 'n layers': 3, 'Learning rate': 0.0003955785194335529}. Best is trial 13 with value: 6.627247115874793.\u001b[0m\n"
     ]
    },
    {
     "name": "stdout",
     "output_type": "stream",
     "text": [
      "City: Bình Thuận  _algo:lstm  -RMSE: 10.48553676723909\n"
     ]
    },
    {
     "name": "stderr",
     "output_type": "stream",
     "text": [
      "<ipython-input-14-8244d6fc4512>:11: FutureWarning: suggest_loguniform has been deprecated in v3.0.0. This feature will be removed in v6.0.0. See https://github.com/optuna/optuna/releases/tag/v3.0.0. Use :func:`~optuna.trial.Trial.suggest_float` instead.\n",
      "  learning_rate = trial.suggest_loguniform('Learning rate', 1e-4, 1e-2)\n"
     ]
    },
    {
     "name": "stdout",
     "output_type": "stream",
     "text": [
      "Epoch:  0/110 - train_loss: 0.7509 - test_loss: 0.625789\n",
      "Epoch: 375/500 - train_loss: 0.2459 - test_loss: 0.165886\n",
      "Epoch: 250/500 - train_loss: 0.1898 - test_loss: 0.114799\n",
      "Epoch: 27/110 - train_loss: 0.2094 - test_loss: 0.114200\n",
      "Epoch: 54/110 - train_loss: 0.1883 - test_loss: 0.113529\n",
      "Epoch: 81/110 - train_loss: 0.1721 - test_loss: 0.106426\n",
      "Epoch: 108/110 - train_loss: 0.1563 - test_loss: 0.133399\n",
      "Epoch: 109/110 - train_loss: 0.1744 - test_loss: 0.131258\n",
      "City: Bình Thuận  _algo:lstm  -RMSE: 6.455684062384748\n",
      "City: Bình Thuận  _algo:lstm  -RMSE: 6.349833549581662\n"
     ]
    },
    {
     "name": "stderr",
     "output_type": "stream",
     "text": [
      "\u001b[32m[I 2023-02-07 14:16:35,588]\u001b[0m Trial 20 finished with value: 6.455684062384748 and parameters: {'Epochs': 110, 'Hidden size': 76, 'n layers': 4, 'Learning rate': 0.00504365429215434}. Best is trial 20 with value: 6.455684062384748.\u001b[0m\n"
     ]
    },
    {
     "name": "stdout",
     "output_type": "stream",
     "text": [
      "City: Bình Thuận  _algo:lstm  -RMSE: 7.3958103945680715\n"
     ]
    },
    {
     "name": "stderr",
     "output_type": "stream",
     "text": [
      "<ipython-input-14-8244d6fc4512>:11: FutureWarning: suggest_loguniform has been deprecated in v3.0.0. This feature will be removed in v6.0.0. See https://github.com/optuna/optuna/releases/tag/v3.0.0. Use :func:`~optuna.trial.Trial.suggest_float` instead.\n",
      "  learning_rate = trial.suggest_loguniform('Learning rate', 1e-4, 1e-2)\n"
     ]
    },
    {
     "name": "stdout",
     "output_type": "stream",
     "text": [
      "Epoch:  0/150 - train_loss: 0.7694 - test_loss: 0.657103\n",
      "Epoch: 37/150 - train_loss: 0.2067 - test_loss: 0.108420\n",
      "Epoch: 499/500 - train_loss: 0.2371 - test_loss: 0.136230\n",
      "City: Bình Thuận  _algo:lstm  -RMSE: 10.469011902577979\n",
      "City: Bình Thuận  _algo:lstm  -RMSE: 11.256889268246258\n"
     ]
    },
    {
     "name": "stderr",
     "output_type": "stream",
     "text": [
      "\u001b[32m[I 2023-02-07 14:17:00,687]\u001b[0m Trial 9 finished with value: 10.469011902577979 and parameters: {'Epochs': 250, 'Hidden size': 8, 'n layers': 5, 'Learning rate': 0.000138952998285869}. Best is trial 20 with value: 6.455684062384748.\u001b[0m\n"
     ]
    },
    {
     "name": "stdout",
     "output_type": "stream",
     "text": [
      "City: Bình Thuận  _algo:lstm  -RMSE: 12.724651628236897\n"
     ]
    },
    {
     "name": "stderr",
     "output_type": "stream",
     "text": [
      "<ipython-input-14-8244d6fc4512>:11: FutureWarning: suggest_loguniform has been deprecated in v3.0.0. This feature will be removed in v6.0.0. See https://github.com/optuna/optuna/releases/tag/v3.0.0. Use :func:`~optuna.trial.Trial.suggest_float` instead.\n",
      "  learning_rate = trial.suggest_loguniform('Learning rate', 1e-4, 1e-2)\n"
     ]
    },
    {
     "name": "stdout",
     "output_type": "stream",
     "text": [
      "Epoch:  0/340 - train_loss: 0.8676 - test_loss: 0.629594\n",
      "Epoch: 375/500 - train_loss: 0.1623 - test_loss: 0.104629\n",
      "Epoch: 74/150 - train_loss: 0.1762 - test_loss: 0.108825\n",
      "Epoch: 375/500 - train_loss: 0.0945 - test_loss: 0.102484\n",
      "Epoch: 111/150 - train_loss: 0.1823 - test_loss: 0.122844\n",
      "Epoch: 375/500 - train_loss: 0.1615 - test_loss: 0.104750\n",
      "Epoch: 148/150 - train_loss: 0.1669 - test_loss: 0.129261\n",
      "Epoch: 149/150 - train_loss: 0.1527 - test_loss: 0.119621\n",
      "City: Bình Thuận  _algo:lstm  -RMSE: 7.2980387096201245\n",
      "City: Bình Thuận  _algo:lstm  -RMSE: 7.49471524303783\n"
     ]
    },
    {
     "name": "stderr",
     "output_type": "stream",
     "text": [
      "\u001b[32m[I 2023-02-07 14:17:50,324]\u001b[0m Trial 21 finished with value: 7.2980387096201245 and parameters: {'Epochs': 150, 'Hidden size': 210, 'n layers': 3, 'Learning rate': 0.0027735520336665794}. Best is trial 20 with value: 6.455684062384748.\u001b[0m\n"
     ]
    },
    {
     "name": "stdout",
     "output_type": "stream",
     "text": [
      "City: Bình Thuận  _algo:lstm  -RMSE: 6.789838975533238\n"
     ]
    },
    {
     "name": "stderr",
     "output_type": "stream",
     "text": [
      "<ipython-input-14-8244d6fc4512>:11: FutureWarning: suggest_loguniform has been deprecated in v3.0.0. This feature will be removed in v6.0.0. See https://github.com/optuna/optuna/releases/tag/v3.0.0. Use :func:`~optuna.trial.Trial.suggest_float` instead.\n",
      "  learning_rate = trial.suggest_loguniform('Learning rate', 1e-4, 1e-2)\n"
     ]
    },
    {
     "name": "stdout",
     "output_type": "stream",
     "text": [
      "Epoch:  0/160 - train_loss: 0.9109 - test_loss: 0.684614\n",
      "Epoch: 250/500 - train_loss: 0.2435 - test_loss: 0.144597\n",
      "Epoch: 85/340 - train_loss: 0.2000 - test_loss: 0.136117\n",
      "Epoch: 40/160 - train_loss: 0.2389 - test_loss: 0.124964\n",
      "Epoch: 80/160 - train_loss: 0.1891 - test_loss: 0.120866\n",
      "Epoch: 499/500 - train_loss: 0.1337 - test_loss: 0.097661\n",
      "City: Bình Thuận  _algo:lstm  -RMSE: 6.432107742327936\n",
      "City: Bình Thuận  _algo:lstm  -RMSE: 5.958050576792691\n"
     ]
    },
    {
     "name": "stderr",
     "output_type": "stream",
     "text": [
      "\u001b[32m[I 2023-02-07 14:18:48,466]\u001b[0m Trial 0 finished with value: 6.432107742327936 and parameters: {'Epochs': 120, 'Hidden size': 7, 'n layers': 8, 'Learning rate': 0.005499256283580132}. Best is trial 0 with value: 6.432107742327936.\u001b[0m\n"
     ]
    },
    {
     "name": "stdout",
     "output_type": "stream",
     "text": [
      "City: Bình Thuận  _algo:lstm  -RMSE: 6.620903422203126\n"
     ]
    },
    {
     "name": "stderr",
     "output_type": "stream",
     "text": [
      "<ipython-input-14-8244d6fc4512>:11: FutureWarning: suggest_loguniform has been deprecated in v3.0.0. This feature will be removed in v6.0.0. See https://github.com/optuna/optuna/releases/tag/v3.0.0. Use :func:`~optuna.trial.Trial.suggest_float` instead.\n",
      "  learning_rate = trial.suggest_loguniform('Learning rate', 1e-4, 1e-2)\n"
     ]
    },
    {
     "name": "stdout",
     "output_type": "stream",
     "text": [
      "Epoch:  0/430 - train_loss: 0.9765 - test_loss: 0.696520\n",
      "Epoch: 170/340 - train_loss: 0.1767 - test_loss: 0.110543\n",
      "Epoch: 120/160 - train_loss: 0.1779 - test_loss: 0.116329\n",
      "Epoch: 499/500 - train_loss: 0.0876 - test_loss: 0.096418\n",
      "City: Bình Thuận  _algo:lstm  -RMSE: 6.5154932493899205\n",
      "City: Bình Thuận  _algo:lstm  -RMSE: 6.784731363589912\n"
     ]
    },
    {
     "name": "stderr",
     "output_type": "stream",
     "text": [
      "\u001b[32m[I 2023-02-07 14:19:11,049]\u001b[0m Trial 11 finished with value: 6.5154932493899205 and parameters: {'Epochs': 370, 'Hidden size': 155, 'n layers': 8, 'Learning rate': 0.000677291014541483}. Best is trial 0 with value: 6.432107742327936.\u001b[0m\n"
     ]
    },
    {
     "name": "stdout",
     "output_type": "stream",
     "text": [
      "City: Bình Thuận  _algo:lstm  -RMSE: 7.645739734248715\n"
     ]
    },
    {
     "name": "stderr",
     "output_type": "stream",
     "text": [
      "<ipython-input-14-8244d6fc4512>:11: FutureWarning: suggest_loguniform has been deprecated in v3.0.0. This feature will be removed in v6.0.0. See https://github.com/optuna/optuna/releases/tag/v3.0.0. Use :func:`~optuna.trial.Trial.suggest_float` instead.\n",
      "  learning_rate = trial.suggest_loguniform('Learning rate', 1e-4, 1e-2)\n"
     ]
    },
    {
     "name": "stdout",
     "output_type": "stream",
     "text": [
      "Epoch:  0/190 - train_loss: 0.8788 - test_loss: 0.703657\n",
      "Epoch: 159/160 - train_loss: 0.1762 - test_loss: 0.121675\n",
      "City: Bình Thuận  _algo:lstm  -RMSE: 7.078142289437556\n",
      "City: Bình Thuận  _algo:lstm  -RMSE: 6.94150459846882\n"
     ]
    },
    {
     "name": "stderr",
     "output_type": "stream",
     "text": [
      "\u001b[32m[I 2023-02-07 14:19:24,539]\u001b[0m Trial 23 finished with value: 7.078142289437556 and parameters: {'Epochs': 160, 'Hidden size': 30, 'n layers': 6, 'Learning rate': 0.0019792367981913564}. Best is trial 0 with value: 6.432107742327936.\u001b[0m\n"
     ]
    },
    {
     "name": "stdout",
     "output_type": "stream",
     "text": [
      "City: Bình Thuận  _algo:lstm  -RMSE: 9.524597500083079\n"
     ]
    },
    {
     "name": "stderr",
     "output_type": "stream",
     "text": [
      "<ipython-input-14-8244d6fc4512>:11: FutureWarning: suggest_loguniform has been deprecated in v3.0.0. This feature will be removed in v6.0.0. See https://github.com/optuna/optuna/releases/tag/v3.0.0. Use :func:`~optuna.trial.Trial.suggest_float` instead.\n",
      "  learning_rate = trial.suggest_loguniform('Learning rate', 1e-4, 1e-2)\n"
     ]
    },
    {
     "name": "stdout",
     "output_type": "stream",
     "text": [
      "Epoch:  0/290 - train_loss: 0.8756 - test_loss: 0.656210\n",
      "Epoch: 499/500 - train_loss: 0.1586 - test_loss: 0.120969\n",
      "City: Bình Thuận  _algo:lstm  -RMSE: 8.644294897225514\n",
      "City: Bình Thuận  _algo:lstm  -RMSE: 7.939249241635236\n"
     ]
    },
    {
     "name": "stderr",
     "output_type": "stream",
     "text": [
      "\u001b[32m[I 2023-02-07 14:19:28,427]\u001b[0m Trial 17 finished with value: 8.644294897225514 and parameters: {'Epochs': 290, 'Hidden size': 6, 'n layers': 6, 'Learning rate': 0.003308932347220869}. Best is trial 0 with value: 6.432107742327936.\u001b[0m\n"
     ]
    },
    {
     "name": "stdout",
     "output_type": "stream",
     "text": [
      "City: Bình Thuận  _algo:lstm  -RMSE: 9.132091183241833\n"
     ]
    },
    {
     "name": "stderr",
     "output_type": "stream",
     "text": [
      "<ipython-input-14-8244d6fc4512>:11: FutureWarning: suggest_loguniform has been deprecated in v3.0.0. This feature will be removed in v6.0.0. See https://github.com/optuna/optuna/releases/tag/v3.0.0. Use :func:`~optuna.trial.Trial.suggest_float` instead.\n",
      "  learning_rate = trial.suggest_loguniform('Learning rate', 1e-4, 1e-2)\n"
     ]
    },
    {
     "name": "stdout",
     "output_type": "stream",
     "text": [
      "Epoch:  0/310 - train_loss: 0.7611 - test_loss: 0.590114\n",
      "Epoch: 47/190 - train_loss: 0.2487 - test_loss: 0.159906\n",
      "Epoch: 255/340 - train_loss: 0.1485 - test_loss: 0.138440\n",
      "Epoch: 72/290 - train_loss: 0.1917 - test_loss: 0.107299\n",
      "Epoch: 107/430 - train_loss: 0.2246 - test_loss: 0.154211\n",
      "Epoch: 94/190 - train_loss: 0.2269 - test_loss: 0.136660\n",
      "Epoch: 77/310 - train_loss: 0.1963 - test_loss: 0.128512\n",
      "Epoch: 375/500 - train_loss: 0.1974 - test_loss: 0.109831\n",
      "Epoch: 144/290 - train_loss: 0.1628 - test_loss: 0.132982\n",
      "Epoch: 339/340 - train_loss: 0.1822 - test_loss: 0.120707\n",
      "City: Bình Thuận  _algo:lstm  -RMSE: 8.669904359013737\n",
      "City: Bình Thuận  _algo:lstm  -RMSE: 7.046760084061102\n"
     ]
    },
    {
     "name": "stderr",
     "output_type": "stream",
     "text": [
      "\u001b[32m[I 2023-02-07 14:21:01,204]\u001b[0m Trial 22 finished with value: 8.669904359013737 and parameters: {'Epochs': 340, 'Hidden size': 14, 'n layers': 7, 'Learning rate': 0.006042436627020109}. Best is trial 0 with value: 6.432107742327936.\u001b[0m\n"
     ]
    },
    {
     "name": "stdout",
     "output_type": "stream",
     "text": [
      "City: Bình Thuận  _algo:lstm  -RMSE: 11.28382536071999\n"
     ]
    },
    {
     "name": "stderr",
     "output_type": "stream",
     "text": [
      "<ipython-input-14-8244d6fc4512>:11: FutureWarning: suggest_loguniform has been deprecated in v3.0.0. This feature will be removed in v6.0.0. See https://github.com/optuna/optuna/releases/tag/v3.0.0. Use :func:`~optuna.trial.Trial.suggest_float` instead.\n",
      "  learning_rate = trial.suggest_loguniform('Learning rate', 1e-4, 1e-2)\n"
     ]
    },
    {
     "name": "stdout",
     "output_type": "stream",
     "text": [
      "Epoch:  0/280 - train_loss: 0.9351 - test_loss: 0.678248\n",
      "Epoch: 141/190 - train_loss: 0.1978 - test_loss: 0.143533\n",
      "Epoch: 216/290 - train_loss: 0.1233 - test_loss: 0.124593\n",
      "Epoch: 214/430 - train_loss: 0.2115 - test_loss: 0.113731\n",
      "Epoch: 70/280 - train_loss: 0.2555 - test_loss: 0.155209\n",
      "Epoch: 154/310 - train_loss: 0.1680 - test_loss: 0.104988\n",
      "Epoch: 188/190 - train_loss: 0.1860 - test_loss: 0.133921\n",
      "Epoch: 189/190 - train_loss: 0.1881 - test_loss: 0.144901\n",
      "City: Bình Thuận  _algo:lstm  -RMSE: 6.724219720868924\n",
      "City: Bình Thuận  _algo:lstm  -RMSE: 9.044293948278405\n"
     ]
    },
    {
     "name": "stderr",
     "output_type": "stream",
     "text": [
      "\u001b[32m[I 2023-02-07 14:22:11,394]\u001b[0m Trial 25 finished with value: 6.724219720868924 and parameters: {'Epochs': 190, 'Hidden size': 10, 'n layers': 10, 'Learning rate': 0.001579351885009851}. Best is trial 0 with value: 6.432107742327936.\u001b[0m\n"
     ]
    },
    {
     "name": "stdout",
     "output_type": "stream",
     "text": [
      "City: Bình Thuận  _algo:lstm  -RMSE: 10.692603235157675\n"
     ]
    },
    {
     "name": "stderr",
     "output_type": "stream",
     "text": [
      "<ipython-input-14-8244d6fc4512>:11: FutureWarning: suggest_loguniform has been deprecated in v3.0.0. This feature will be removed in v6.0.0. See https://github.com/optuna/optuna/releases/tag/v3.0.0. Use :func:`~optuna.trial.Trial.suggest_float` instead.\n",
      "  learning_rate = trial.suggest_loguniform('Learning rate', 1e-4, 1e-2)\n"
     ]
    },
    {
     "name": "stdout",
     "output_type": "stream",
     "text": [
      "Epoch:  0/490 - train_loss: 0.7431 - test_loss: 0.579501\n",
      "Epoch: 288/290 - train_loss: 0.1642 - test_loss: 0.126222\n",
      "Epoch: 289/290 - train_loss: 0.1594 - test_loss: 0.121429\n",
      "City: Bình Thuận  _algo:lstm  -RMSE: 6.558839743255729\n",
      "City: Bình Thuận  _algo:lstm  -RMSE: 6.39556657752421\n"
     ]
    },
    {
     "name": "stderr",
     "output_type": "stream",
     "text": [
      "\u001b[32m[I 2023-02-07 14:22:28,022]\u001b[0m Trial 26 finished with value: 6.558839743255729 and parameters: {'Epochs': 290, 'Hidden size': 137, 'n layers': 6, 'Learning rate': 0.004472247166816179}. Best is trial 0 with value: 6.432107742327936.\u001b[0m\n"
     ]
    },
    {
     "name": "stdout",
     "output_type": "stream",
     "text": [
      "City: Bình Thuận  _algo:lstm  -RMSE: 9.831011158715839\n",
      "Epoch:  0/500 - train_loss: 0.8125 - test_loss: 0.668389\n",
      "Epoch: 125/500 - train_loss: 0.5334 - test_loss: 0.500941\n",
      "Epoch: 140/280 - train_loss: 0.2513 - test_loss: 0.159260\n",
      "Epoch: 231/310 - train_loss: 0.1785 - test_loss: 0.116135\n",
      "Epoch: 499/500 - train_loss: 0.1691 - test_loss: 0.115337\n",
      "City: Bình Thuận  _algo:lstm  -RMSE: 7.364191673858541\n",
      "City: Bình Thuận  _algo:lstm  -RMSE: 7.703058712772638\n"
     ]
    },
    {
     "name": "stderr",
     "output_type": "stream",
     "text": [
      "\u001b[32m[I 2023-02-07 14:23:14,809]\u001b[0m Trial 1 finished with value: 7.364191673858541 and parameters: {'Epochs': 230, 'Hidden size': 43, 'n layers': 9, 'Learning rate': 0.003315082792467499}. Best is trial 0 with value: 6.432107742327936.\u001b[0m\n"
     ]
    },
    {
     "name": "stdout",
     "output_type": "stream",
     "text": [
      "City: Bình Thuận  _algo:lstm  -RMSE: 6.887888980729375\n",
      "Epoch: 321/430 - train_loss: 0.1568 - test_loss: 0.148585\n",
      "Epoch: 210/280 - train_loss: 0.1861 - test_loss: 0.161188\n",
      "Epoch: 122/490 - train_loss: 0.3172 - test_loss: 0.285015\n",
      "Epoch: 308/310 - train_loss: 0.1662 - test_loss: 0.100395\n",
      "Epoch: 309/310 - train_loss: 0.1622 - test_loss: 0.124553\n",
      "City: Bình Thuận  _algo:lstm  -RMSE: 8.177200884523003\n",
      "City: Bình Thuận  _algo:lstm  -RMSE: 7.253883751285888\n"
     ]
    },
    {
     "name": "stderr",
     "output_type": "stream",
     "text": [
      "\u001b[32m[I 2023-02-07 14:24:02,672]\u001b[0m Trial 27 finished with value: 8.177200884523003 and parameters: {'Epochs': 310, 'Hidden size': 60, 'n layers': 8, 'Learning rate': 0.007132861115274949}. Best is trial 0 with value: 6.432107742327936.\u001b[0m\n"
     ]
    },
    {
     "name": "stdout",
     "output_type": "stream",
     "text": [
      "City: Bình Thuận  _algo:lstm  -RMSE: 6.843093151768751\n",
      "Epoch:  0/500 - train_loss: 0.9395 - test_loss: 0.723410\n",
      "Epoch: 279/280 - train_loss: 0.1668 - test_loss: 0.123072\n",
      "Epoch: 250/500 - train_loss: 0.3903 - test_loss: 0.347538\n",
      "City: Bình Thuận  _algo:lstm  -RMSE: 6.574633904548306\n",
      "City: Bình Thuận  _algo:lstm  -RMSE: 6.796766953364183\n",
      "Epoch:  0/500 - train_loss: 0.8281 - test_loss: 0.684219\n"
     ]
    },
    {
     "name": "stderr",
     "output_type": "stream",
     "text": [
      "\u001b[32m[I 2023-02-07 14:24:39,360]\u001b[0m Trial 28 finished with value: 6.574633904548306 and parameters: {'Epochs': 280, 'Hidden size': 23, 'n layers': 10, 'Learning rate': 0.0024080382471667132}. Best is trial 0 with value: 6.432107742327936.\u001b[0m\n"
     ]
    },
    {
     "name": "stdout",
     "output_type": "stream",
     "text": [
      "City: Bình Thuận  _algo:lstm  -RMSE: 10.008214949636873\n",
      "Epoch: 428/430 - train_loss: 0.1756 - test_loss: 0.111649\n",
      "Epoch: 429/430 - train_loss: 0.1756 - test_loss: 0.104144\n",
      "City: Bình Thuận  _algo:lstm  -RMSE: 7.372072643724475\n",
      "City: Bình Thuận  _algo:lstm  -RMSE: 7.226215583753007\n"
     ]
    },
    {
     "name": "stderr",
     "output_type": "stream",
     "text": [
      "\u001b[32m[I 2023-02-07 14:24:46,912]\u001b[0m Trial 24 finished with value: 7.372072643724475 and parameters: {'Epochs': 430, 'Hidden size': 19, 'n layers': 10, 'Learning rate': 0.0034783161165749294}. Best is trial 0 with value: 6.432107742327936.\u001b[0m\n"
     ]
    },
    {
     "name": "stdout",
     "output_type": "stream",
     "text": [
      "City: Bình Thuận  _algo:lstm  -RMSE: 8.882637378406855\n",
      "Epoch:  0/500 - train_loss: 0.9500 - test_loss: 0.758545\n",
      "Epoch:  0/500 - train_loss: 0.7638 - test_loss: 0.537940\n",
      "Epoch: 125/500 - train_loss: 0.3120 - test_loss: 0.260310\n",
      "Epoch: 244/490 - train_loss: 0.3127 - test_loss: 0.285046\n",
      "Epoch: 125/500 - train_loss: 0.2027 - test_loss: 0.110577\n",
      "Epoch: 375/500 - train_loss: 0.2818 - test_loss: 0.225452\n",
      "Epoch: 125/500 - train_loss: 0.2322 - test_loss: 0.188196\n",
      "Epoch: 250/500 - train_loss: 0.2160 - test_loss: 0.128627\n",
      "Epoch: 366/490 - train_loss: 0.3173 - test_loss: 0.268833\n",
      "Epoch: 125/500 - train_loss: 0.3177 - test_loss: 0.260936\n",
      "Epoch: 499/500 - train_loss: 0.2183 - test_loss: 0.155058\n",
      "City: Bình Thuận  _algo:lstm  -RMSE: 6.1070206384796615\n",
      "City: Bình Thuận  _algo:lstm  -RMSE: 7.918739168627748\n"
     ]
    },
    {
     "name": "stderr",
     "output_type": "stream",
     "text": [
      "\u001b[32m[I 2023-02-07 14:28:44,013]\u001b[0m Trial 4 finished with value: 6.1070206384796615 and parameters: {'Epochs': 490, 'Hidden size': 99, 'n layers': 7, 'Learning rate': 0.00010036773010594837}. Best is trial 4 with value: 6.1070206384796615.\u001b[0m\n"
     ]
    },
    {
     "name": "stdout",
     "output_type": "stream",
     "text": [
      "City: Bình Thuận  _algo:lstm  -RMSE: 10.453964678506496\n",
      "Epoch: 250/500 - train_loss: 0.2039 - test_loss: 0.130764\n",
      "Epoch:  0/500 - train_loss: 1.0662 - test_loss: 0.784336\n",
      "Epoch: 250/500 - train_loss: 0.1551 - test_loss: 0.132885\n",
      "Epoch: 375/500 - train_loss: 0.2094 - test_loss: 0.119300\n",
      "Epoch: 488/490 - train_loss: 0.3154 - test_loss: 0.261202\n",
      "Epoch: 489/490 - train_loss: 0.3167 - test_loss: 0.258730\n",
      "City: Bình Thuận  _algo:lstm  -RMSE: 10.287798922943066\n",
      "City: Bình Thuận  _algo:lstm  -RMSE: 13.190350442885332\n"
     ]
    },
    {
     "name": "stderr",
     "output_type": "stream",
     "text": [
      "\u001b[32m[I 2023-02-07 14:30:32,774]\u001b[0m Trial 29 finished with value: 10.287798922943066 and parameters: {'Epochs': 490, 'Hidden size': 24, 'n layers': 10, 'Learning rate': 0.008200475782506812}. Best is trial 4 with value: 6.1070206384796615.\u001b[0m\n"
     ]
    },
    {
     "name": "stdout",
     "output_type": "stream",
     "text": [
      "City: Bình Thuận  _algo:lstm  -RMSE: 12.88108836535887\n",
      "Epoch:  0/500 - train_loss: 0.9794 - test_loss: 0.745356\n",
      "Epoch: 125/500 - train_loss: 0.3821 - test_loss: 0.340495\n",
      "Epoch: 375/500 - train_loss: 0.0884 - test_loss: 0.131258\n",
      "Epoch: 250/500 - train_loss: 0.3164 - test_loss: 0.250661\n",
      "Epoch: 375/500 - train_loss: 0.1354 - test_loss: 0.230395\n",
      "Epoch: 499/500 - train_loss: 0.1979 - test_loss: 0.120270\n",
      "City: Bình Thuận  _algo:lstm  -RMSE: 7.385590316707379\n",
      "City: Bình Thuận  _algo:lstm  -RMSE: 8.404762141222784\n"
     ]
    },
    {
     "name": "stderr",
     "output_type": "stream",
     "text": [
      "\u001b[32m[I 2023-02-07 14:32:36,266]\u001b[0m Trial 3 finished with value: 7.385590316707379 and parameters: {'Epochs': 500, 'Hidden size': 19, 'n layers': 9, 'Learning rate': 0.00026913141608950116}. Best is trial 4 with value: 6.1070206384796615.\u001b[0m\n"
     ]
    },
    {
     "name": "stdout",
     "output_type": "stream",
     "text": [
      "City: Bình Thuận  _algo:lstm  -RMSE: 10.935384236874864\n",
      "Epoch:  0/500 - train_loss: 1.0092 - test_loss: 0.776168\n",
      "Epoch: 125/500 - train_loss: 0.3092 - test_loss: 0.255980\n",
      "Epoch: 499/500 - train_loss: 0.1762 - test_loss: 0.103502\n",
      "City: Bình Thuận  _algo:lstm  -RMSE: 6.32163084922908\n",
      "City: Bình Thuận  _algo:lstm  -RMSE: 6.681441564408734\n"
     ]
    },
    {
     "name": "stderr",
     "output_type": "stream",
     "text": [
      "\u001b[32m[I 2023-02-07 14:33:28,178]\u001b[0m Trial 6 finished with value: 6.32163084922908 and parameters: {'Epochs': 110, 'Hidden size': 211, 'n layers': 7, 'Learning rate': 0.0018703562701547396}. Best is trial 4 with value: 6.1070206384796615.\u001b[0m\n"
     ]
    },
    {
     "name": "stdout",
     "output_type": "stream",
     "text": [
      "City: Bình Thuận  _algo:lstm  -RMSE: 7.669526918615613\n",
      "Epoch:  0/500 - train_loss: 1.1399 - test_loss: 0.943386\n",
      "Epoch: 250/500 - train_loss: 0.2225 - test_loss: 0.163153\n",
      "Epoch: 375/500 - train_loss: 0.2464 - test_loss: 0.159358\n",
      "Epoch: 499/500 - train_loss: 0.1440 - test_loss: 0.106815\n",
      "City: Bình Thuận  _algo:lstm  -RMSE: 7.9103614618219265\n",
      "City: Bình Thuận  _algo:lstm  -RMSE: 8.581449009294392\n"
     ]
    },
    {
     "name": "stderr",
     "output_type": "stream",
     "text": [
      "\u001b[32m[I 2023-02-07 14:34:41,594]\u001b[0m Trial 16 finished with value: 7.9103614618219265 and parameters: {'Epochs': 480, 'Hidden size': 174, 'n layers': 8, 'Learning rate': 0.00037481230277015403}. Best is trial 4 with value: 6.1070206384796615.\u001b[0m\n"
     ]
    },
    {
     "name": "stdout",
     "output_type": "stream",
     "text": [
      "City: Bình Thuận  _algo:lstm  -RMSE: 10.513579800843493\n",
      "Epoch:  0/500 - train_loss: 1.0625 - test_loss: 0.836100\n",
      "Epoch: 125/500 - train_loss: 0.2026 - test_loss: 0.112005\n",
      "Epoch: 250/500 - train_loss: 0.3061 - test_loss: 0.244470\n",
      "Epoch: 125/500 - train_loss: 0.3055 - test_loss: 0.272291\n",
      "Epoch: 375/500 - train_loss: 0.2014 - test_loss: 0.106488\n",
      "Epoch: 499/500 - train_loss: 0.2490 - test_loss: 0.154180\n",
      "City: Bình Thuận  _algo:lstm  -RMSE: 11.862655136830393\n",
      "City: Bình Thuận  _algo:lstm  -RMSE: 13.195209206892393\n"
     ]
    },
    {
     "name": "stderr",
     "output_type": "stream",
     "text": [
      "\u001b[32m[I 2023-02-07 14:36:54,374]\u001b[0m Trial 2 finished with value: 11.862655136830393 and parameters: {'Epochs': 280, 'Hidden size': 129, 'n layers': 10, 'Learning rate': 0.0022589730335754316}. Best is trial 4 with value: 6.1070206384796615.\u001b[0m\n"
     ]
    },
    {
     "name": "stdout",
     "output_type": "stream",
     "text": [
      "City: Bình Thuận  _algo:lstm  -RMSE: 12.928289203320674\n",
      "Epoch:  0/500 - train_loss: 1.0300 - test_loss: 0.797422\n",
      "Epoch: 250/500 - train_loss: 0.1569 - test_loss: 0.119100\n",
      "Epoch: 125/500 - train_loss: 0.2667 - test_loss: 0.210274\n",
      "Epoch: 375/500 - train_loss: 0.3131 - test_loss: 0.255314\n",
      "Epoch: 499/500 - train_loss: 0.1705 - test_loss: 0.109169\n",
      "City: Bình Thuận  _algo:lstm  -RMSE: 8.75581778349072\n",
      "City: Bình Thuận  _algo:lstm  -RMSE: 6.436732983578804\n"
     ]
    },
    {
     "name": "stderr",
     "output_type": "stream",
     "text": [
      "\u001b[32m[I 2023-02-07 14:37:59,983]\u001b[0m Trial 19 finished with value: 8.75581778349072 and parameters: {'Epochs': 500, 'Hidden size': 88, 'n layers': 8, 'Learning rate': 0.00020848136831997852}. Best is trial 4 with value: 6.1070206384796615.\u001b[0m\n"
     ]
    },
    {
     "name": "stdout",
     "output_type": "stream",
     "text": [
      "City: Bình Thuận  _algo:lstm  -RMSE: 7.442013461307497\n",
      "Epoch: 250/500 - train_loss: 0.1877 - test_loss: 0.134839\n",
      "Epoch:  0/500 - train_loss: 1.1462 - test_loss: 0.915368\n",
      "Epoch: 125/500 - train_loss: 0.2550 - test_loss: 0.173694\n",
      "Epoch: 375/500 - train_loss: 0.1631 - test_loss: 0.173167\n",
      "Epoch: 250/500 - train_loss: 0.1893 - test_loss: 0.116003\n",
      "Epoch: 499/500 - train_loss: 0.3084 - test_loss: 0.252225\n",
      "City: Bình Thuận  _algo:lstm  -RMSE: 7.444598084812127\n",
      "City: Bình Thuận  _algo:lstm  -RMSE: 7.218139755634484\n"
     ]
    },
    {
     "name": "stderr",
     "output_type": "stream",
     "text": [
      "\u001b[32m[I 2023-02-07 14:39:37,204]\u001b[0m Trial 15 finished with value: 7.444598084812127 and parameters: {'Epochs': 320, 'Hidden size': 36, 'n layers': 9, 'Learning rate': 0.009994442438820625}. Best is trial 4 with value: 6.1070206384796615.\u001b[0m\n"
     ]
    },
    {
     "name": "stdout",
     "output_type": "stream",
     "text": [
      "City: Bình Thuận  _algo:lstm  -RMSE: 10.794524931424638\n",
      "Epoch: 375/500 - train_loss: 0.1257 - test_loss: 0.106186\n",
      "Epoch: 125/500 - train_loss: 0.5338 - test_loss: 0.517915\n",
      "Epoch: 499/500 - train_loss: 0.1573 - test_loss: 0.151717\n",
      "City: Bình Thuận  _algo:lstm  -RMSE: 7.852750000023119\n",
      "City: Bình Thuận  _algo:lstm  -RMSE: 6.204303124195381\n"
     ]
    },
    {
     "name": "stderr",
     "output_type": "stream",
     "text": [
      "\u001b[32m[I 2023-02-07 14:40:17,030]\u001b[0m Trial 10 finished with value: 7.852750000023119 and parameters: {'Epochs': 370, 'Hidden size': 27, 'n layers': 7, 'Learning rate': 0.0011898167321209637}. Best is trial 4 with value: 6.1070206384796615.\u001b[0m\n"
     ]
    },
    {
     "name": "stdout",
     "output_type": "stream",
     "text": [
      "City: Bình Thuận  _algo:lstm  -RMSE: 8.096834830271442\n",
      "Epoch: 250/500 - train_loss: 0.2430 - test_loss: 0.160745\n",
      "Epoch: 375/500 - train_loss: 0.1561 - test_loss: 0.106715\n",
      "Epoch: 499/500 - train_loss: 0.0861 - test_loss: 0.098958\n",
      "City: Bình Thuận  _algo:lstm  -RMSE: 5.625135782035674\n",
      "City: Bình Thuận  _algo:lstm  -RMSE: 6.303675865943657\n"
     ]
    },
    {
     "name": "stderr",
     "output_type": "stream",
     "text": [
      "\u001b[32m[I 2023-02-07 14:41:06,561]\u001b[0m Trial 14 finished with value: 5.625135782035674 and parameters: {'Epochs': 390, 'Hidden size': 224, 'n layers': 7, 'Learning rate': 0.000269463267740613}. Best is trial 14 with value: 5.625135782035674.\u001b[0m\n"
     ]
    },
    {
     "name": "stdout",
     "output_type": "stream",
     "text": [
      "City: Bình Thuận  _algo:lstm  -RMSE: 7.419669541663484\n",
      "Epoch: 125/500 - train_loss: 0.4815 - test_loss: 0.442046\n",
      "Epoch: 499/500 - train_loss: 0.1220 - test_loss: 0.104058\n",
      "City: Bình Thuận  _algo:lstm  -RMSE: 7.455871248378351\n",
      "City: Bình Thuận  _algo:lstm  -RMSE: 8.006437753514241\n"
     ]
    },
    {
     "name": "stderr",
     "output_type": "stream",
     "text": [
      "\u001b[32m[I 2023-02-07 14:41:44,885]\u001b[0m Trial 5 finished with value: 7.455871248378351 and parameters: {'Epochs': 480, 'Hidden size': 106, 'n layers': 7, 'Learning rate': 0.00032717216835475785}. Best is trial 14 with value: 5.625135782035674.\u001b[0m\n"
     ]
    },
    {
     "name": "stdout",
     "output_type": "stream",
     "text": [
      "Epoch: 375/500 - train_loss: 0.2398 - test_loss: 0.154806\n",
      "City: Bình Thuận  _algo:lstm  -RMSE: 9.85741134575276\n",
      "Epoch: 250/500 - train_loss: 0.3665 - test_loss: 0.325978\n",
      "Epoch: 125/500 - train_loss: 0.2426 - test_loss: 0.159763\n",
      "Epoch: 250/500 - train_loss: 0.3009 - test_loss: 0.258023\n",
      "Epoch: 499/500 - train_loss: 0.2231 - test_loss: 0.137203\n",
      "City: Bình Thuận  _algo:lstm  -RMSE: 9.10058477106377\n",
      "City: Bình Thuận  _algo:lstm  -RMSE: 10.097319199012476\n"
     ]
    },
    {
     "name": "stderr",
     "output_type": "stream",
     "text": [
      "\u001b[32m[I 2023-02-07 14:42:47,092]\u001b[0m Trial 7 finished with value: 9.10058477106377 and parameters: {'Epochs': 390, 'Hidden size': 6, 'n layers': 8, 'Learning rate': 0.0004251057811209889}. Best is trial 14 with value: 5.625135782035674.\u001b[0m\n"
     ]
    },
    {
     "name": "stdout",
     "output_type": "stream",
     "text": [
      "City: Bình Thuận  _algo:lstm  -RMSE: 11.044736054742046\n",
      "Epoch: 375/500 - train_loss: 0.2789 - test_loss: 0.216591\n",
      "Epoch: 250/500 - train_loss: 0.2024 - test_loss: 0.124508\n",
      "Epoch: 375/500 - train_loss: 0.2192 - test_loss: 0.156618\n",
      "Epoch: 499/500 - train_loss: 0.2327 - test_loss: 0.156590\n",
      "City: Bình Thuận  _algo:lstm  -RMSE: 12.191820288438615\n",
      "City: Bình Thuận  _algo:lstm  -RMSE: 12.617832550675084\n"
     ]
    },
    {
     "name": "stderr",
     "output_type": "stream",
     "text": [
      "\u001b[32m[I 2023-02-07 14:43:47,238]\u001b[0m Trial 12 finished with value: 12.191820288438615 and parameters: {'Epochs': 490, 'Hidden size': 10, 'n layers': 9, 'Learning rate': 0.00010707734166306079}. Best is trial 14 with value: 5.625135782035674.\u001b[0m\n"
     ]
    },
    {
     "name": "stdout",
     "output_type": "stream",
     "text": [
      "City: Bình Thuận  _algo:lstm  -RMSE: 13.48786768295393\n",
      "Epoch: 499/500 - train_loss: 0.1839 - test_loss: 0.116923\n",
      "City: Bình Thuận  _algo:lstm  -RMSE: 9.185855699314267\n"
     ]
    },
    {
     "name": "stderr",
     "output_type": "stream",
     "text": [
      "\u001b[32m[I 2023-02-07 14:43:58,592]\u001b[0m Trial 8 finished with value: 9.185855699314267 and parameters: {'Epochs': 250, 'Hidden size': 210, 'n layers': 6, 'Learning rate': 0.00013599054424903506}. Best is trial 14 with value: 5.625135782035674.\u001b[0m\n"
     ]
    },
    {
     "name": "stdout",
     "output_type": "stream",
     "text": [
      "City: Bình Thuận  _algo:lstm  -RMSE: 6.503021978980187\n",
      "City: Bình Thuận  _algo:lstm  -RMSE: 7.395662031343177\n",
      "Epoch: 375/500 - train_loss: 0.1946 - test_loss: 0.119964\n",
      "Epoch: 499/500 - train_loss: 0.1880 - test_loss: 0.104056\n",
      "City: Bình Thuận  _algo:lstm  -RMSE: 6.598574859907335\n",
      "City: Bình Thuận  _algo:lstm  -RMSE: 7.8685191875994365\n"
     ]
    },
    {
     "name": "stderr",
     "output_type": "stream",
     "text": [
      "\u001b[32m[I 2023-02-07 14:44:19,708]\u001b[0m Trial 18 finished with value: 6.598574859907335 and parameters: {'Epochs': 350, 'Hidden size': 8, 'n layers': 10, 'Learning rate': 0.0005419128553346694}. Best is trial 14 with value: 5.625135782035674.\u001b[0m\n"
     ]
    },
    {
     "name": "stdout",
     "output_type": "stream",
     "text": [
      "City: Bình Thuận  _algo:lstm  -RMSE: 9.377114603943227\n",
      "Study statistics for : \n",
      "  Number of finished trials:  30\n",
      "Best trial of city:  Bình Thuận\n",
      "  Value:  5.625135782035674\n"
     ]
    },
    {
     "name": "stderr",
     "output_type": "stream",
     "text": [
      "\u001b[32m[I 2023-02-07 14:44:20,715]\u001b[0m A new study created in memory with name: no-name-4acae8f6-27cb-44ad-8b3a-28fb32b95c9b\u001b[0m\n"
     ]
    },
    {
     "name": "stdout",
     "output_type": "stream",
     "text": [
      "{\"ok\":true,\"result\":{\"message_id\":312,\"sender_chat\":{\"id\":-1001712314864,\"title\":\"PTN_Announcement\",\"username\":\"ptn_announcement\",\"type\":\"channel\"},\"chat\":{\"id\":-1001712314864,\"title\":\"PTN_Announcement\",\"username\":\"ptn_announcement\",\"type\":\"channel\"},\"date\":1675781060,\"text\":\"B\\u00ecnh Thu\\u1eadn\"}}\n"
     ]
    },
    {
     "name": "stderr",
     "output_type": "stream",
     "text": [
      "<ipython-input-14-8244d6fc4512>:11: FutureWarning: suggest_loguniform has been deprecated in v3.0.0. This feature will be removed in v6.0.0. See https://github.com/optuna/optuna/releases/tag/v3.0.0. Use :func:`~optuna.trial.Trial.suggest_float` instead.\n",
      "  learning_rate = trial.suggest_loguniform('Learning rate', 1e-4, 1e-2)\n"
     ]
    },
    {
     "name": "stdout",
     "output_type": "stream",
     "text": [
      "Epoch:  0/340 - train_loss: 0.6937 - test_loss: 0.676412\n",
      "Epoch:  0/340 - train_loss: 0.7103 - test_loss: 0.690976\n",
      "Epoch:  0/340 - train_loss: 0.7227 - test_loss: 0.690047\n",
      "Epoch:  0/340 - train_loss: 0.7157 - test_loss: 0.698453\n",
      "Epoch:  0/340 - train_loss: 0.8368 - test_loss: 0.761249\n",
      "Epoch:  0/340 - train_loss: 0.7387 - test_loss: 0.704291\n",
      "Epoch:  0/340 - train_loss: 0.6908 - test_loss: 0.645148\n",
      "Epoch:  0/340 - train_loss: 0.8118 - test_loss: 0.739268\n",
      "Epoch: 85/340 - train_loss: 0.0672 - test_loss: 0.036691\n",
      "Epoch: 85/340 - train_loss: 0.0891 - test_loss: 0.074132\n",
      "Epoch: 85/340 - train_loss: 0.1793 - test_loss: 0.145012\n",
      "Epoch: 85/340 - train_loss: 0.1719 - test_loss: 0.138008\n",
      "Epoch: 85/340 - train_loss: 0.5198 - test_loss: 0.512991\n",
      "Epoch: 170/340 - train_loss: 0.0549 - test_loss: 0.044613\n",
      "Epoch: 170/340 - train_loss: 0.0605 - test_loss: 0.034621\n",
      "Epoch: 170/340 - train_loss: 0.1183 - test_loss: 0.055674\n",
      "Epoch: 85/340 - train_loss: 0.5373 - test_loss: 0.533143\n",
      "Epoch:  0/340 - train_loss: 0.7189 - test_loss: 0.688482\n",
      "Epoch: 255/340 - train_loss: 0.0534 - test_loss: 0.036443\n",
      "Epoch: 170/340 - train_loss: 0.1149 - test_loss: 0.054065\n",
      "Epoch: 255/340 - train_loss: 0.0537 - test_loss: 0.037710\n",
      "Epoch: 170/340 - train_loss: 0.3625 - test_loss: 0.344624\n",
      "Epoch: 255/340 - train_loss: 0.1136 - test_loss: 0.053449\n",
      "Epoch: 339/340 - train_loss: 0.0485 - test_loss: 0.042579\n",
      "City: Bình Định  _algo:lstm  -RMSE: 3.65732305728879\n",
      "City: Bình Định  _algo:lstm  -RMSE: 4.053995606161209\n"
     ]
    },
    {
     "name": "stderr",
     "output_type": "stream",
     "text": [
      "\u001b[32m[I 2023-02-07 14:47:01,794]\u001b[0m Trial 9 finished with value: 3.65732305728879 and parameters: {'Epochs': 260, 'Hidden size': 28, 'n layers': 3, 'Learning rate': 0.002674577056017789}. Best is trial 9 with value: 3.65732305728879.\u001b[0m\n"
     ]
    },
    {
     "name": "stdout",
     "output_type": "stream",
     "text": [
      "City: Bình Định  _algo:lstm  -RMSE: 4.7154494328934735\n"
     ]
    },
    {
     "name": "stderr",
     "output_type": "stream",
     "text": [
      "<ipython-input-14-8244d6fc4512>:11: FutureWarning: suggest_loguniform has been deprecated in v3.0.0. This feature will be removed in v6.0.0. See https://github.com/optuna/optuna/releases/tag/v3.0.0. Use :func:`~optuna.trial.Trial.suggest_float` instead.\n",
      "  learning_rate = trial.suggest_loguniform('Learning rate', 1e-4, 1e-2)\n"
     ]
    },
    {
     "name": "stdout",
     "output_type": "stream",
     "text": [
      "Epoch:  0/260 - train_loss: 0.6802 - test_loss: 0.594923\n",
      "Epoch: 255/340 - train_loss: 0.1133 - test_loss: 0.051284\n",
      "Epoch: 339/340 - train_loss: 0.0503 - test_loss: 0.035631\n",
      "City: Bình Định  _algo:lstm  -RMSE: 3.6567539217983116\n",
      "City: Bình Định  _algo:lstm  -RMSE: 3.3478215769501816\n"
     ]
    },
    {
     "name": "stderr",
     "output_type": "stream",
     "text": [
      "\u001b[32m[I 2023-02-07 14:47:32,944]\u001b[0m Trial 10 finished with value: 3.6567539217983116 and parameters: {'Epochs': 100, 'Hidden size': 214, 'n layers': 4, 'Learning rate': 0.0011094863881041073}. Best is trial 10 with value: 3.6567539217983116.\u001b[0m\n"
     ]
    },
    {
     "name": "stdout",
     "output_type": "stream",
     "text": [
      "City: Bình Định  _algo:lstm  -RMSE: 4.612454903962828\n"
     ]
    },
    {
     "name": "stderr",
     "output_type": "stream",
     "text": [
      "<ipython-input-14-8244d6fc4512>:11: FutureWarning: suggest_loguniform has been deprecated in v3.0.0. This feature will be removed in v6.0.0. See https://github.com/optuna/optuna/releases/tag/v3.0.0. Use :func:`~optuna.trial.Trial.suggest_float` instead.\n",
      "  learning_rate = trial.suggest_loguniform('Learning rate', 1e-4, 1e-2)\n"
     ]
    },
    {
     "name": "stdout",
     "output_type": "stream",
     "text": [
      "Epoch:  0/430 - train_loss: 0.8014 - test_loss: 0.793553\n",
      "Epoch: 339/340 - train_loss: 0.1105 - test_loss: 0.057468\n",
      "City: Bình Định  _algo:lstm  -RMSE: 3.0238664488221736\n",
      "City: Bình Định  _algo:lstm  -RMSE: 4.134195076573724\n"
     ]
    },
    {
     "name": "stderr",
     "output_type": "stream",
     "text": [
      "\u001b[32m[I 2023-02-07 14:47:44,243]\u001b[0m Trial 13 finished with value: 3.0238664488221736 and parameters: {'Epochs': 490, 'Hidden size': 12, 'n layers': 4, 'Learning rate': 0.0005731259162294631}. Best is trial 13 with value: 3.0238664488221736.\u001b[0m\n"
     ]
    },
    {
     "name": "stdout",
     "output_type": "stream",
     "text": [
      "City: Bình Định  _algo:lstm  -RMSE: 4.616945248047552\n",
      "Epoch: 170/340 - train_loss: 0.3892 - test_loss: 0.373299\n"
     ]
    },
    {
     "name": "stderr",
     "output_type": "stream",
     "text": [
      "<ipython-input-14-8244d6fc4512>:11: FutureWarning: suggest_loguniform has been deprecated in v3.0.0. This feature will be removed in v6.0.0. See https://github.com/optuna/optuna/releases/tag/v3.0.0. Use :func:`~optuna.trial.Trial.suggest_float` instead.\n",
      "  learning_rate = trial.suggest_loguniform('Learning rate', 1e-4, 1e-2)\n"
     ]
    },
    {
     "name": "stdout",
     "output_type": "stream",
     "text": [
      "Epoch:  0/210 - train_loss: 0.8409 - test_loss: 0.760706\n",
      "Epoch: 65/260 - train_loss: 0.1085 - test_loss: 0.052347\n",
      "Epoch: 255/340 - train_loss: 0.2479 - test_loss: 0.224226\n",
      "Epoch: 85/340 - train_loss: 0.0612 - test_loss: 0.035083\n",
      "Epoch: 339/340 - train_loss: 0.1018 - test_loss: 0.045453\n",
      "City: Bình Định  _algo:lstm  -RMSE: 3.143875592509313\n",
      "City: Bình Định  _algo:lstm  -RMSE: 3.1722972345462646\n"
     ]
    },
    {
     "name": "stderr",
     "output_type": "stream",
     "text": [
      "\u001b[32m[I 2023-02-07 14:48:18,882]\u001b[0m Trial 5 finished with value: 3.143875592509313 and parameters: {'Epochs': 470, 'Hidden size': 12, 'n layers': 5, 'Learning rate': 0.0006029693382658486}. Best is trial 13 with value: 3.0238664488221736.\u001b[0m\n"
     ]
    },
    {
     "name": "stdout",
     "output_type": "stream",
     "text": [
      "City: Bình Định  _algo:lstm  -RMSE: 3.2613048459206433\n"
     ]
    },
    {
     "name": "stderr",
     "output_type": "stream",
     "text": [
      "<ipython-input-14-8244d6fc4512>:11: FutureWarning: suggest_loguniform has been deprecated in v3.0.0. This feature will be removed in v6.0.0. See https://github.com/optuna/optuna/releases/tag/v3.0.0. Use :func:`~optuna.trial.Trial.suggest_float` instead.\n",
      "  learning_rate = trial.suggest_loguniform('Learning rate', 1e-4, 1e-2)\n"
     ]
    },
    {
     "name": "stdout",
     "output_type": "stream",
     "text": [
      "Epoch:  0/100 - train_loss: 0.7829 - test_loss: 0.683486\n",
      "Epoch: 107/430 - train_loss: 0.5208 - test_loss: 0.517158\n",
      "Epoch: 130/260 - train_loss: 0.0647 - test_loss: 0.042823\n",
      "Epoch: 52/210 - train_loss: 0.5770 - test_loss: 0.571524\n",
      "Epoch: 25/100 - train_loss: 0.1455 - test_loss: 0.095989\n",
      "Epoch: 50/100 - train_loss: 0.1221 - test_loss: 0.061378\n",
      "Epoch: 339/340 - train_loss: 0.1725 - test_loss: 0.141735\n",
      "City: Bình Định  _algo:lstm  -RMSE: 3.6269118210430586\n",
      "Epoch: 195/260 - train_loss: 0.0580 - test_loss: 0.035064\n",
      "City: Bình Định  _algo:lstm  -RMSE: 4.396679446481087\n"
     ]
    },
    {
     "name": "stderr",
     "output_type": "stream",
     "text": [
      "\u001b[32m[I 2023-02-07 14:49:04,951]\u001b[0m Trial 4 finished with value: 3.6269118210430586 and parameters: {'Epochs': 160, 'Hidden size': 21, 'n layers': 6, 'Learning rate': 0.00014400235294670654}. Best is trial 13 with value: 3.0238664488221736.\u001b[0m\n"
     ]
    },
    {
     "name": "stdout",
     "output_type": "stream",
     "text": [
      "City: Bình Định  _algo:lstm  -RMSE: 5.990360670786401\n"
     ]
    },
    {
     "name": "stderr",
     "output_type": "stream",
     "text": [
      "<ipython-input-14-8244d6fc4512>:11: FutureWarning: suggest_loguniform has been deprecated in v3.0.0. This feature will be removed in v6.0.0. See https://github.com/optuna/optuna/releases/tag/v3.0.0. Use :func:`~optuna.trial.Trial.suggest_float` instead.\n",
      "  learning_rate = trial.suggest_loguniform('Learning rate', 1e-4, 1e-2)\n"
     ]
    },
    {
     "name": "stdout",
     "output_type": "stream",
     "text": [
      "Epoch:  0/190 - train_loss: 0.7591 - test_loss: 0.681113\n",
      "Epoch: 75/100 - train_loss: 0.1199 - test_loss: 0.057613\n",
      "Epoch: 214/430 - train_loss: 0.3705 - test_loss: 0.366225\n",
      "Epoch: 255/340 - train_loss: 0.2765 - test_loss: 0.253175\n",
      "Epoch: 104/210 - train_loss: 0.4611 - test_loss: 0.457073\n",
      "Epoch: 99/100 - train_loss: 0.1146 - test_loss: 0.054589\n",
      "City: Bình Định  _algo:lstm  -RMSE: 2.5706044160062187\n",
      "City: Bình Định  _algo:lstm  -RMSE: 2.8900521735814353\n"
     ]
    },
    {
     "name": "stderr",
     "output_type": "stream",
     "text": [
      "\u001b[32m[I 2023-02-07 14:49:23,508]\u001b[0m Trial 23 finished with value: 2.5706044160062187 and parameters: {'Epochs': 100, 'Hidden size': 5, 'n layers': 5, 'Learning rate': 0.0024310473705254866}. Best is trial 23 with value: 2.5706044160062187.\u001b[0m\n"
     ]
    },
    {
     "name": "stdout",
     "output_type": "stream",
     "text": [
      "City: Bình Định  _algo:lstm  -RMSE: 3.0465129022350883\n"
     ]
    },
    {
     "name": "stderr",
     "output_type": "stream",
     "text": [
      "<ipython-input-14-8244d6fc4512>:11: FutureWarning: suggest_loguniform has been deprecated in v3.0.0. This feature will be removed in v6.0.0. See https://github.com/optuna/optuna/releases/tag/v3.0.0. Use :func:`~optuna.trial.Trial.suggest_float` instead.\n",
      "  learning_rate = trial.suggest_loguniform('Learning rate', 1e-4, 1e-2)\n"
     ]
    },
    {
     "name": "stdout",
     "output_type": "stream",
     "text": [
      "Epoch:  0/210 - train_loss: 0.6905 - test_loss: 0.654627\n",
      "Epoch: 47/190 - train_loss: 0.1243 - test_loss: 0.058647\n",
      "Epoch: 259/260 - train_loss: 0.0602 - test_loss: 0.046332\n",
      "City: Bình Định  _algo:lstm  -RMSE: 4.1911628323126955\n",
      "City: Bình Định  _algo:lstm  -RMSE: 3.8917892787795316\n"
     ]
    },
    {
     "name": "stderr",
     "output_type": "stream",
     "text": [
      "\u001b[32m[I 2023-02-07 14:49:46,341]\u001b[0m Trial 20 finished with value: 4.1911628323126955 and parameters: {'Epochs': 260, 'Hidden size': 12, 'n layers': 6, 'Learning rate': 0.008529574959718476}. Best is trial 23 with value: 2.5706044160062187.\u001b[0m\n"
     ]
    },
    {
     "name": "stdout",
     "output_type": "stream",
     "text": [
      "City: Bình Định  _algo:lstm  -RMSE: 3.2847631538991315\n"
     ]
    },
    {
     "name": "stderr",
     "output_type": "stream",
     "text": [
      "<ipython-input-14-8244d6fc4512>:11: FutureWarning: suggest_loguniform has been deprecated in v3.0.0. This feature will be removed in v6.0.0. See https://github.com/optuna/optuna/releases/tag/v3.0.0. Use :func:`~optuna.trial.Trial.suggest_float` instead.\n",
      "  learning_rate = trial.suggest_loguniform('Learning rate', 1e-4, 1e-2)\n"
     ]
    },
    {
     "name": "stdout",
     "output_type": "stream",
     "text": [
      "Epoch:  0/140 - train_loss: 0.7714 - test_loss: 0.707774\n",
      "Epoch: 52/210 - train_loss: 0.0780 - test_loss: 0.051875\n",
      "Epoch: 156/210 - train_loss: 0.3664 - test_loss: 0.360919\n",
      "Epoch: 321/430 - train_loss: 0.2611 - test_loss: 0.254622\n",
      "Epoch: 94/190 - train_loss: 0.1085 - test_loss: 0.052674\n",
      "Epoch: 35/140 - train_loss: 0.5848 - test_loss: 0.579925\n",
      "Epoch: 104/210 - train_loss: 0.0593 - test_loss: 0.038822\n",
      "Epoch: 339/340 - train_loss: 0.1977 - test_loss: 0.167494\n",
      "City: Bình Định  _algo:lstm  -RMSE: 3.5165676241036024\n",
      "City: Bình Định  _algo:lstm  -RMSE: 4.199000145649291\n"
     ]
    },
    {
     "name": "stderr",
     "output_type": "stream",
     "text": [
      "\u001b[32m[I 2023-02-07 14:50:36,424]\u001b[0m Trial 2 finished with value: 3.5165676241036024 and parameters: {'Epochs': 270, 'Hidden size': 12, 'n layers': 5, 'Learning rate': 0.00013018021924997}. Best is trial 23 with value: 2.5706044160062187.\u001b[0m\n"
     ]
    },
    {
     "name": "stdout",
     "output_type": "stream",
     "text": [
      "City: Bình Định  _algo:lstm  -RMSE: 5.0628737746695816\n"
     ]
    },
    {
     "name": "stderr",
     "output_type": "stream",
     "text": [
      "<ipython-input-14-8244d6fc4512>:11: FutureWarning: suggest_loguniform has been deprecated in v3.0.0. This feature will be removed in v6.0.0. See https://github.com/optuna/optuna/releases/tag/v3.0.0. Use :func:`~optuna.trial.Trial.suggest_float` instead.\n",
      "  learning_rate = trial.suggest_loguniform('Learning rate', 1e-4, 1e-2)\n"
     ]
    },
    {
     "name": "stdout",
     "output_type": "stream",
     "text": [
      "Epoch:  0/210 - train_loss: 0.6834 - test_loss: 0.620453\n",
      "Epoch: 428/430 - train_loss: 0.1936 - test_loss: 0.180598\n",
      "Epoch: 208/210 - train_loss: 0.2901 - test_loss: 0.284113\n",
      "Epoch: 429/430 - train_loss: 0.1907 - test_loss: 0.180933\n",
      "City: Bình Định  _algo:lstm  -RMSE: 18.691383305111092\n",
      "Epoch: 209/210 - train_loss: 0.2887 - test_loss: 0.282487\n",
      "City: Bình Định  _algo:lstm  -RMSE: 16.870171667706185\n",
      "Epoch:  0/340 - train_loss: 0.7555 - test_loss: 0.741004\n",
      "City: Bình Định  _algo:lstm  -RMSE: 17.715450092974873\n",
      "City: Bình Định  _algo:lstm  -RMSE: 14.902004750566313\n"
     ]
    },
    {
     "name": "stderr",
     "output_type": "stream",
     "text": [
      "\u001b[32m[I 2023-02-07 14:50:41,141]\u001b[0m Trial 21 finished with value: 18.691383305111092 and parameters: {'Epochs': 430, 'Hidden size': 7, 'n layers': 3, 'Learning rate': 0.00011214514330781454}. Best is trial 23 with value: 2.5706044160062187.\u001b[0m\n",
      "<ipython-input-14-8244d6fc4512>:11: FutureWarning: suggest_loguniform has been deprecated in v3.0.0. This feature will be removed in v6.0.0. See https://github.com/optuna/optuna/releases/tag/v3.0.0. Use :func:`~optuna.trial.Trial.suggest_float` instead.\n",
      "  learning_rate = trial.suggest_loguniform('Learning rate', 1e-4, 1e-2)\n"
     ]
    },
    {
     "name": "stdout",
     "output_type": "stream",
     "text": [
      "Epoch: 156/210 - train_loss: 0.0570 - test_loss: 0.034714\n",
      "Epoch: 70/140 - train_loss: 0.4724 - test_loss: 0.456005\n",
      "City: Bình Định  _algo:lstm  -RMSE: 17.500137939582604\n",
      "Epoch:  0/360 - train_loss: 0.7068 - test_loss: 0.667979\n"
     ]
    },
    {
     "name": "stderr",
     "output_type": "stream",
     "text": [
      "\u001b[32m[I 2023-02-07 14:50:42,239]\u001b[0m Trial 22 finished with value: 17.715450092974873 and parameters: {'Epochs': 210, 'Hidden size': 7, 'n layers': 9, 'Learning rate': 0.0001549569046100434}. Best is trial 23 with value: 2.5706044160062187.\u001b[0m\n"
     ]
    },
    {
     "name": "stdout",
     "output_type": "stream",
     "text": [
      "Epoch: 141/190 - train_loss: 0.1016 - test_loss: 0.047314\n",
      "City: Bình Định  _algo:lstm  -RMSE: 17.576506346388886\n"
     ]
    },
    {
     "name": "stderr",
     "output_type": "stream",
     "text": [
      "<ipython-input-14-8244d6fc4512>:11: FutureWarning: suggest_loguniform has been deprecated in v3.0.0. This feature will be removed in v6.0.0. See https://github.com/optuna/optuna/releases/tag/v3.0.0. Use :func:`~optuna.trial.Trial.suggest_float` instead.\n",
      "  learning_rate = trial.suggest_loguniform('Learning rate', 1e-4, 1e-2)\n"
     ]
    },
    {
     "name": "stdout",
     "output_type": "stream",
     "text": [
      "Epoch:  0/360 - train_loss: 0.6693 - test_loss: 0.612259\n",
      "Epoch: 208/210 - train_loss: 0.0524 - test_loss: 0.035748\n",
      "Epoch: 209/210 - train_loss: 0.0521 - test_loss: 0.037795\n",
      "City: Bình Định  _algo:lstm  -RMSE: 4.248349925166656\n",
      "City: Bình Định  _algo:lstm  -RMSE: 4.006059741628009\n"
     ]
    },
    {
     "name": "stderr",
     "output_type": "stream",
     "text": [
      "\u001b[32m[I 2023-02-07 14:51:06,342]\u001b[0m Trial 25 finished with value: 4.248349925166656 and parameters: {'Epochs': 210, 'Hidden size': 189, 'n layers': 3, 'Learning rate': 0.003321754320501938}. Best is trial 23 with value: 2.5706044160062187.\u001b[0m\n"
     ]
    },
    {
     "name": "stdout",
     "output_type": "stream",
     "text": [
      "City: Bình Định  _algo:lstm  -RMSE: 3.921394711018175\n",
      "Epoch: 105/140 - train_loss: 0.3773 - test_loss: 0.359272\n",
      "Epoch: 188/190 - train_loss: 0.0954 - test_loss: 0.048696\n",
      "Epoch: 189/190 - train_loss: 0.0952 - test_loss: 0.044429\n",
      "City: Bình Định  _algo:lstm  -RMSE: 3.9484985304791542\n",
      "City: Bình Định  _algo:lstm  -RMSE: 3.7774290425409305\n"
     ]
    },
    {
     "name": "stderr",
     "output_type": "stream",
     "text": [
      "\u001b[32m[I 2023-02-07 14:51:11,181]\u001b[0m Trial 24 finished with value: 3.9484985304791542 and parameters: {'Epochs': 190, 'Hidden size': 11, 'n layers': 3, 'Learning rate': 0.0019329400135257404}. Best is trial 23 with value: 2.5706044160062187.\u001b[0m\n"
     ]
    },
    {
     "name": "stdout",
     "output_type": "stream",
     "text": [
      "City: Bình Định  _algo:lstm  -RMSE: 3.5611617367215844\n",
      "Epoch: 170/340 - train_loss: 0.0565 - test_loss: 0.036532\n",
      "Epoch: 90/360 - train_loss: 0.0657 - test_loss: 0.044393\n",
      "Epoch: 52/210 - train_loss: 0.1093 - test_loss: 0.053609\n",
      "Epoch: 139/140 - train_loss: 0.3012 - test_loss: 0.279796\n",
      "City: Bình Định  _algo:lstm  -RMSE: 3.8064128862329434\n",
      "City: Bình Định  _algo:lstm  -RMSE: 4.3711049808108315\n"
     ]
    },
    {
     "name": "stderr",
     "output_type": "stream",
     "text": [
      "\u001b[32m[I 2023-02-07 14:51:33,288]\u001b[0m Trial 26 finished with value: 3.8064128862329434 and parameters: {'Epochs': 140, 'Hidden size': 37, 'n layers': 8, 'Learning rate': 0.0002192050441154939}. Best is trial 23 with value: 2.5706044160062187.\u001b[0m\n"
     ]
    },
    {
     "name": "stdout",
     "output_type": "stream",
     "text": [
      "City: Bình Định  _algo:lstm  -RMSE: 5.409486926926569\n",
      "Epoch: 85/340 - train_loss: 0.1213 - test_loss: 0.066249\n",
      "Epoch: 90/360 - train_loss: 0.1120 - test_loss: 0.062023\n",
      "Epoch: 180/360 - train_loss: 0.0555 - test_loss: 0.039467\n",
      "Epoch: 104/210 - train_loss: 0.1220 - test_loss: 0.070570\n",
      "Epoch:  0/340 - train_loss: 0.7517 - test_loss: 0.708910\n",
      "Epoch: 255/340 - train_loss: 0.0482 - test_loss: 0.046882\n",
      "Epoch: 156/210 - train_loss: 0.0766 - test_loss: 0.047518\n",
      "Epoch: 270/360 - train_loss: 0.0533 - test_loss: 0.028417\n",
      "Epoch: 170/340 - train_loss: 0.1096 - test_loss: 0.057262\n",
      "Epoch: 85/340 - train_loss: 0.1376 - test_loss: 0.097458\n",
      "Epoch: 339/340 - train_loss: 0.0415 - test_loss: 0.064084\n",
      "City: Bình Định  _algo:lstm  -RMSE: 3.4146656549618286\n",
      "City: Bình Định  _algo:lstm  -RMSE: 3.90846917708086\n"
     ]
    },
    {
     "name": "stderr",
     "output_type": "stream",
     "text": [
      "\u001b[32m[I 2023-02-07 14:52:46,444]\u001b[0m Trial 3 finished with value: 3.4146656549618286 and parameters: {'Epochs': 290, 'Hidden size': 105, 'n layers': 3, 'Learning rate': 0.0033207034678058504}. Best is trial 23 with value: 2.5706044160062187.\u001b[0m\n"
     ]
    },
    {
     "name": "stdout",
     "output_type": "stream",
     "text": [
      "City: Bình Định  _algo:lstm  -RMSE: 4.63184068950232\n",
      "Epoch: 180/360 - train_loss: 0.1158 - test_loss: 0.060425\n",
      "Epoch: 208/210 - train_loss: 0.0571 - test_loss: 0.029080\n",
      "Epoch: 209/210 - train_loss: 0.0565 - test_loss: 0.031288\n",
      "City: Bình Định  _algo:lstm  -RMSE: 3.67270554984231\n",
      "City: Bình Định  _algo:lstm  -RMSE: 3.983213514005786\n"
     ]
    },
    {
     "name": "stderr",
     "output_type": "stream",
     "text": [
      "\u001b[32m[I 2023-02-07 14:52:53,715]\u001b[0m Trial 27 finished with value: 3.67270554984231 and parameters: {'Epochs': 210, 'Hidden size': 38, 'n layers': 5, 'Learning rate': 0.005131431955454845}. Best is trial 23 with value: 2.5706044160062187.\u001b[0m\n"
     ]
    },
    {
     "name": "stdout",
     "output_type": "stream",
     "text": [
      "Epoch:  0/340 - train_loss: 0.6614 - test_loss: 0.587814\n",
      "City: Bình Định  _algo:lstm  -RMSE: 3.1547165616216377\n",
      "Epoch:  0/340 - train_loss: 0.7021 - test_loss: 0.611489\n",
      "Epoch: 359/360 - train_loss: 0.0473 - test_loss: 0.032510\n",
      "City: Bình Định  _algo:lstm  -RMSE: 3.375836778584215\n",
      "City: Bình Định  _algo:lstm  -RMSE: 3.199637037078682\n"
     ]
    },
    {
     "name": "stderr",
     "output_type": "stream",
     "text": [
      "\u001b[32m[I 2023-02-07 14:53:02,333]\u001b[0m Trial 28 finished with value: 3.375836778584215 and parameters: {'Epochs': 360, 'Hidden size': 32, 'n layers': 3, 'Learning rate': 0.0026464106651818953}. Best is trial 23 with value: 2.5706044160062187.\u001b[0m\n"
     ]
    },
    {
     "name": "stdout",
     "output_type": "stream",
     "text": [
      "City: Bình Định  _algo:lstm  -RMSE: 3.784615094946133\n",
      "Epoch:  0/340 - train_loss: 0.8882 - test_loss: 0.749608\n",
      "Epoch: 170/340 - train_loss: 0.1023 - test_loss: 0.052206\n",
      "Epoch: 255/340 - train_loss: 0.1066 - test_loss: 0.048485\n",
      "Epoch: 85/340 - train_loss: 0.3279 - test_loss: 0.321814\n",
      "Epoch: 85/340 - train_loss: 0.1276 - test_loss: 0.074306\n",
      "Epoch: 270/360 - train_loss: 0.0816 - test_loss: 0.038445\n",
      "Epoch: 255/340 - train_loss: 0.0874 - test_loss: 0.051857\n",
      "Epoch: 85/340 - train_loss: 0.1064 - test_loss: 0.051393\n",
      "Epoch:  0/340 - train_loss: 0.7128 - test_loss: 0.678377\n",
      "Epoch: 339/340 - train_loss: 0.1029 - test_loss: 0.049002\n",
      "City: Bình Định  _algo:lstm  -RMSE: 3.8770469138352617\n",
      "City: Bình Định  _algo:lstm  -RMSE: 3.6674718056000337\n"
     ]
    },
    {
     "name": "stderr",
     "output_type": "stream",
     "text": [
      "\u001b[32m[I 2023-02-07 14:54:29,087]\u001b[0m Trial 6 finished with value: 3.8770469138352617 and parameters: {'Epochs': 220, 'Hidden size': 7, 'n layers': 6, 'Learning rate': 0.0010051060749081842}. Best is trial 23 with value: 2.5706044160062187.\u001b[0m\n"
     ]
    },
    {
     "name": "stdout",
     "output_type": "stream",
     "text": [
      "City: Bình Định  _algo:lstm  -RMSE: 3.6041459611988844\n",
      "Epoch: 170/340 - train_loss: 0.1171 - test_loss: 0.052756\n",
      "Epoch: 170/340 - train_loss: 0.1782 - test_loss: 0.165550\n",
      "Epoch: 359/360 - train_loss: 0.0851 - test_loss: 0.037438\n",
      "City: Bình Định  _algo:lstm  -RMSE: 3.3586133611699514\n",
      "City: Bình Định  _algo:lstm  -RMSE: 3.0110979703515253\n"
     ]
    },
    {
     "name": "stderr",
     "output_type": "stream",
     "text": [
      "\u001b[32m[I 2023-02-07 14:55:00,145]\u001b[0m Trial 29 finished with value: 3.3586133611699514 and parameters: {'Epochs': 360, 'Hidden size': 104, 'n layers': 8, 'Learning rate': 0.006133947624004309}. Best is trial 23 with value: 2.5706044160062187.\u001b[0m\n"
     ]
    },
    {
     "name": "stdout",
     "output_type": "stream",
     "text": [
      "City: Bình Định  _algo:lstm  -RMSE: 2.9052122589613734\n",
      "Epoch: 339/340 - train_loss: 0.0600 - test_loss: 0.042196\n",
      "City: Bình Định  _algo:lstm  -RMSE: 4.884251201030623\n",
      "City: Bình Định  _algo:lstm  -RMSE: 4.221655253260682\n"
     ]
    },
    {
     "name": "stderr",
     "output_type": "stream",
     "text": [
      "\u001b[32m[I 2023-02-07 14:55:08,015]\u001b[0m Trial 0 finished with value: 4.884251201030623 and parameters: {'Epochs': 450, 'Hidden size': 32, 'n layers': 4, 'Learning rate': 0.0007348725386034415}. Best is trial 23 with value: 2.5706044160062187.\u001b[0m\n"
     ]
    },
    {
     "name": "stdout",
     "output_type": "stream",
     "text": [
      "City: Bình Định  _algo:lstm  -RMSE: 4.507550571961957\n",
      "Epoch:  0/340 - train_loss: 0.6621 - test_loss: 0.590408\n",
      "Epoch: 85/340 - train_loss: 0.1143 - test_loss: 0.055291\n",
      "Epoch: 170/340 - train_loss: 0.0985 - test_loss: 0.053495\n",
      "Epoch: 255/340 - train_loss: 0.1130 - test_loss: 0.052790\n",
      "Epoch: 255/340 - train_loss: 0.1550 - test_loss: 0.138545\n",
      "Epoch: 85/340 - train_loss: 0.1181 - test_loss: 0.050394\n",
      "Epoch: 339/340 - train_loss: 0.1098 - test_loss: 0.052534\n",
      "City: Bình Định  _algo:lstm  -RMSE: 3.2104891750550753\n",
      "City: Bình Định  _algo:lstm  -RMSE: 3.6838779677921236\n",
      "Epoch:  0/340 - train_loss: 0.9564 - test_loss: 0.816169\n"
     ]
    },
    {
     "name": "stderr",
     "output_type": "stream",
     "text": [
      "\u001b[32m[I 2023-02-07 14:56:11,111]\u001b[0m Trial 18 finished with value: 3.2104891750550753 and parameters: {'Epochs': 340, 'Hidden size': 5, 'n layers': 4, 'Learning rate': 0.0008856775225252888}. Best is trial 23 with value: 2.5706044160062187.\u001b[0m\n"
     ]
    },
    {
     "name": "stdout",
     "output_type": "stream",
     "text": [
      "City: Bình Định  _algo:lstm  -RMSE: 4.551101020121865\n",
      "Epoch: 255/340 - train_loss: 0.0750 - test_loss: 0.047944\n",
      "Epoch: 170/340 - train_loss: 0.0939 - test_loss: 0.042985\n",
      "Epoch: 85/340 - train_loss: 0.1136 - test_loss: 0.056648\n",
      "Epoch:  0/340 - train_loss: 0.7358 - test_loss: 0.688761\n",
      "Epoch: 170/340 - train_loss: 0.1074 - test_loss: 0.049021\n",
      "Epoch: 339/340 - train_loss: 0.0580 - test_loss: 0.031679\n",
      "City: Bình Định  _algo:lstm  -RMSE: 3.6618312331857132\n",
      "City: Bình Định  _algo:lstm  -RMSE: 4.408105649897643\n"
     ]
    },
    {
     "name": "stderr",
     "output_type": "stream",
     "text": [
      "\u001b[32m[I 2023-02-07 14:57:07,792]\u001b[0m Trial 11 finished with value: 3.6618312331857132 and parameters: {'Epochs': 320, 'Hidden size': 148, 'n layers': 5, 'Learning rate': 0.008256196739828572}. Best is trial 23 with value: 2.5706044160062187.\u001b[0m\n"
     ]
    },
    {
     "name": "stdout",
     "output_type": "stream",
     "text": [
      "City: Bình Định  _algo:lstm  -RMSE: 3.9763618555426095\n",
      "Epoch: 339/340 - train_loss: 0.1240 - test_loss: 0.064539\n",
      "City: Bình Định  _algo:lstm  -RMSE: 4.717167098909453\n",
      "City: Bình Định  _algo:lstm  -RMSE: 5.6254434899101255\n"
     ]
    },
    {
     "name": "stderr",
     "output_type": "stream",
     "text": [
      "\u001b[32m[I 2023-02-07 14:57:10,664]\u001b[0m Trial 12 finished with value: 4.717167098909453 and parameters: {'Epochs': 290, 'Hidden size': 7, 'n layers': 9, 'Learning rate': 0.0003378195968001288}. Best is trial 23 with value: 2.5706044160062187.\u001b[0m\n"
     ]
    },
    {
     "name": "stdout",
     "output_type": "stream",
     "text": [
      "City: Bình Định  _algo:lstm  -RMSE: 6.735012045499091\n",
      "Epoch:  0/340 - train_loss: 0.7225 - test_loss: 0.697601\n",
      "Epoch: 255/340 - train_loss: 0.0557 - test_loss: 0.029332\n",
      "Epoch:  0/340 - train_loss: 0.8800 - test_loss: 0.815059\n",
      "Epoch: 85/340 - train_loss: 0.1570 - test_loss: 0.146107\n",
      "Epoch: 339/340 - train_loss: 0.0525 - test_loss: 0.029662\n",
      "City: Bình Định  _algo:lstm  -RMSE: 3.1219162570703216\n",
      "City: Bình Định  _algo:lstm  -RMSE: 3.0326794012503817\n",
      "Epoch: 170/340 - train_loss: 0.0683 - test_loss: 0.051052\n"
     ]
    },
    {
     "name": "stderr",
     "output_type": "stream",
     "text": [
      "\u001b[32m[I 2023-02-07 14:58:03,606]\u001b[0m Trial 15 finished with value: 3.1219162570703216 and parameters: {'Epochs': 270, 'Hidden size': 8, 'n layers': 5, 'Learning rate': 0.005234354646760379}. Best is trial 23 with value: 2.5706044160062187.\u001b[0m\n"
     ]
    },
    {
     "name": "stdout",
     "output_type": "stream",
     "text": [
      "City: Bình Định  _algo:lstm  -RMSE: 2.9509623852814677\n",
      "Epoch: 255/340 - train_loss: 0.1024 - test_loss: 0.048057\n",
      "Epoch: 85/340 - train_loss: 0.1277 - test_loss: 0.080175\n",
      "Epoch: 85/340 - train_loss: 0.3516 - test_loss: 0.343999\n",
      "Epoch: 339/340 - train_loss: 0.1017 - test_loss: 0.046195\n",
      "Epoch: 170/340 - train_loss: 0.1438 - test_loss: 0.061514\n",
      "City: Bình Định  _algo:lstm  -RMSE: 2.900661448271766\n",
      "City: Bình Định  _algo:lstm  -RMSE: 3.1527629210403347\n"
     ]
    },
    {
     "name": "stderr",
     "output_type": "stream",
     "text": [
      "\u001b[32m[I 2023-02-07 14:59:00,072]\u001b[0m Trial 17 finished with value: 2.900661448271766 and parameters: {'Epochs': 210, 'Hidden size': 11, 'n layers': 6, 'Learning rate': 0.0016845663763904808}. Best is trial 23 with value: 2.5706044160062187.\u001b[0m\n"
     ]
    },
    {
     "name": "stdout",
     "output_type": "stream",
     "text": [
      "City: Bình Định  _algo:lstm  -RMSE: 3.660838974082059\n",
      "Epoch: 255/340 - train_loss: 0.0543 - test_loss: 0.030578\n",
      "Epoch: 170/340 - train_loss: 0.1123 - test_loss: 0.053848\n",
      "Epoch: 85/340 - train_loss: 0.1078 - test_loss: 0.056574\n",
      "Epoch: 170/340 - train_loss: 0.1870 - test_loss: 0.174709\n",
      "Epoch: 255/340 - train_loss: 0.1404 - test_loss: 0.065846\n",
      "Epoch: 339/340 - train_loss: 0.0557 - test_loss: 0.041235\n",
      "City: Bình Định  _algo:lstm  -RMSE: 3.7658679806211146\n",
      "City: Bình Định  _algo:lstm  -RMSE: 3.1742940877520835\n"
     ]
    },
    {
     "name": "stderr",
     "output_type": "stream",
     "text": [
      "\u001b[32m[I 2023-02-07 15:00:27,110]\u001b[0m Trial 14 finished with value: 3.7658679806211146 and parameters: {'Epochs': 120, 'Hidden size': 34, 'n layers': 9, 'Learning rate': 0.0014137567482252905}. Best is trial 23 with value: 2.5706044160062187.\u001b[0m\n"
     ]
    },
    {
     "name": "stdout",
     "output_type": "stream",
     "text": [
      "City: Bình Định  _algo:lstm  -RMSE: 2.8263469407976936\n",
      "Epoch: 85/340 - train_loss: 0.5675 - test_loss: 0.557355\n",
      "Epoch: 255/340 - train_loss: 0.1056 - test_loss: 0.047892\n",
      "Epoch: 170/340 - train_loss: 0.0621 - test_loss: 0.057849\n",
      "Epoch: 339/340 - train_loss: 0.1558 - test_loss: 0.149569\n",
      "City: Bình Định  _algo:lstm  -RMSE: 4.081315169715128\n",
      "City: Bình Định  _algo:lstm  -RMSE: 4.6276900892434485\n"
     ]
    },
    {
     "name": "stderr",
     "output_type": "stream",
     "text": [
      "\u001b[32m[I 2023-02-07 15:01:14,723]\u001b[0m Trial 8 finished with value: 4.081315169715128 and parameters: {'Epochs': 300, 'Hidden size': 14, 'n layers': 9, 'Learning rate': 0.008249163131309259}. Best is trial 23 with value: 2.5706044160062187.\u001b[0m\n"
     ]
    },
    {
     "name": "stdout",
     "output_type": "stream",
     "text": [
      "City: Bình Định  _algo:lstm  -RMSE: 5.17662064555426\n",
      "Epoch: 255/340 - train_loss: 0.1574 - test_loss: 0.142348\n",
      "Epoch: 170/340 - train_loss: 0.4440 - test_loss: 0.438792\n",
      "Epoch: 339/340 - train_loss: 0.1039 - test_loss: 0.047622\n",
      "City: Bình Định  _algo:lstm  -RMSE: 2.7545555967356155\n",
      "City: Bình Định  _algo:lstm  -RMSE: 2.474679410034546\n"
     ]
    },
    {
     "name": "stderr",
     "output_type": "stream",
     "text": [
      "\u001b[32m[I 2023-02-07 15:01:28,393]\u001b[0m Trial 7 finished with value: 2.7545555967356155 and parameters: {'Epochs': 150, 'Hidden size': 10, 'n layers': 7, 'Learning rate': 0.0008170654697407303}. Best is trial 23 with value: 2.5706044160062187.\u001b[0m\n"
     ]
    },
    {
     "name": "stdout",
     "output_type": "stream",
     "text": [
      "City: Bình Định  _algo:lstm  -RMSE: 2.8864286566285102\n",
      "Epoch: 255/340 - train_loss: 0.0577 - test_loss: 0.042908\n",
      "Epoch: 255/340 - train_loss: 0.3439 - test_loss: 0.338457\n",
      "Epoch: 339/340 - train_loss: 0.1549 - test_loss: 0.151006\n",
      "City: Bình Định  _algo:lstm  -RMSE: 16.233804544758577\n"
     ]
    },
    {
     "name": "stderr",
     "output_type": "stream",
     "text": [
      "\u001b[32m[I 2023-02-07 15:01:59,687]\u001b[0m Trial 1 finished with value: 16.233804544758577 and parameters: {'Epochs': 440, 'Hidden size': 236, 'n layers': 10, 'Learning rate': 0.00031214426963147707}. Best is trial 23 with value: 2.5706044160062187.\u001b[0m\n"
     ]
    },
    {
     "name": "stdout",
     "output_type": "stream",
     "text": [
      "City: Bình Định  _algo:lstm  -RMSE: 16.73118104311653\n",
      "City: Bình Định  _algo:lstm  -RMSE: 15.387561176273397\n",
      "Epoch: 339/340 - train_loss: 0.0466 - test_loss: 0.040705\n",
      "City: Bình Định  _algo:lstm  -RMSE: 2.828943939002113\n",
      "City: Bình Định  _algo:lstm  -RMSE: 2.9550447665248822\n"
     ]
    },
    {
     "name": "stderr",
     "output_type": "stream",
     "text": [
      "\u001b[32m[I 2023-02-07 15:02:00,942]\u001b[0m Trial 16 finished with value: 2.828943939002113 and parameters: {'Epochs': 180, 'Hidden size': 89, 'n layers': 6, 'Learning rate': 0.0011433501356097676}. Best is trial 23 with value: 2.5706044160062187.\u001b[0m\n"
     ]
    },
    {
     "name": "stdout",
     "output_type": "stream",
     "text": [
      "City: Bình Định  _algo:lstm  -RMSE: 3.9217091528724763\n"
     ]
    },
    {
     "name": "stderr",
     "output_type": "stream",
     "text": [
      "\u001b[32m[I 2023-02-07 15:02:08,849]\u001b[0m Trial 19 finished with value: 18.014026143112737 and parameters: {'Epochs': 340, 'Hidden size': 6, 'n layers': 5, 'Learning rate': 0.0001018281027731796}. Best is trial 23 with value: 2.5706044160062187.\u001b[0m\n",
      "\u001b[32m[I 2023-02-07 15:02:08,901]\u001b[0m A new study created in memory with name: no-name-f7d0b64b-d0d5-487e-831d-d34846cdcc0e\u001b[0m\n"
     ]
    },
    {
     "name": "stdout",
     "output_type": "stream",
     "text": [
      "Epoch: 339/340 - train_loss: 0.2665 - test_loss: 0.260049\n",
      "City: Bình Định  _algo:lstm  -RMSE: 18.014026143112737\n",
      "City: Bình Định  _algo:lstm  -RMSE: 17.407399983520637\n",
      "City: Bình Định  _algo:lstm  -RMSE: 16.998307485924496\n",
      "Study statistics for : \n",
      "  Number of finished trials:  30\n",
      "Best trial of city:  Bình Định\n",
      "  Value:  2.5706044160062187\n"
     ]
    },
    {
     "name": "stderr",
     "output_type": "stream",
     "text": [
      "<ipython-input-14-8244d6fc4512>:11: FutureWarning: suggest_loguniform has been deprecated in v3.0.0. This feature will be removed in v6.0.0. See https://github.com/optuna/optuna/releases/tag/v3.0.0. Use :func:`~optuna.trial.Trial.suggest_float` instead.\n",
      "  learning_rate = trial.suggest_loguniform('Learning rate', 1e-4, 1e-2)\n"
     ]
    },
    {
     "name": "stdout",
     "output_type": "stream",
     "text": [
      "Epoch:  0/140 - train_loss: 1.0307 - test_loss: 0.898707\n",
      "Epoch:  0/140 - train_loss: 0.6887 - test_loss: 0.636010\n",
      "Epoch:  0/140 - train_loss: 0.7306 - test_loss: 0.694291\n",
      "Epoch:  0/140 - train_loss: 0.6908 - test_loss: 0.643544\n",
      "Epoch:  0/140 - train_loss: 0.7728 - test_loss: 0.708427\n",
      "Epoch:  0/140 - train_loss: 0.7211 - test_loss: 0.687754\n",
      "Epoch:  0/140 - train_loss: 0.7680 - test_loss: 0.644631\n",
      "Epoch: 35/140 - train_loss: 0.2537 - test_loss: 0.243061\n",
      "Epoch: 35/140 - train_loss: 0.1239 - test_loss: 0.054293\n",
      "Epoch: 35/140 - train_loss: 0.6332 - test_loss: 0.625579\n",
      "Epoch: 35/140 - train_loss: 0.1183 - test_loss: 0.054291\n",
      "Epoch: 70/140 - train_loss: 0.1310 - test_loss: 0.081546\n",
      "Epoch: 70/140 - train_loss: 0.1075 - test_loss: 0.049420\n",
      "Epoch: 70/140 - train_loss: 0.5657 - test_loss: 0.553571\n",
      "Epoch:  0/140 - train_loss: 0.6744 - test_loss: 0.602277\n",
      "Epoch: 35/140 - train_loss: 0.5507 - test_loss: 0.544119\n",
      "Epoch: 70/140 - train_loss: 0.1110 - test_loss: 0.052900\n",
      "Epoch: 105/140 - train_loss: 0.1205 - test_loss: 0.054541\n",
      "Epoch: 105/140 - train_loss: 0.0920 - test_loss: 0.055491\n",
      "Epoch: 105/140 - train_loss: 0.5026 - test_loss: 0.490006\n",
      "Epoch: 35/140 - train_loss: 0.4824 - test_loss: 0.465880\n",
      "Epoch: 139/140 - train_loss: 0.1206 - test_loss: 0.054690\n",
      "City: Bình Định  _algo:lstm  -RMSE: 2.8976574455670696\n",
      "City: Bình Định  _algo:lstm  -RMSE: 3.619781912195989\n"
     ]
    },
    {
     "name": "stderr",
     "output_type": "stream",
     "text": [
      "\u001b[32m[I 2023-02-07 15:03:04,273]\u001b[0m Trial 10 finished with value: 2.8976574455670696 and parameters: {'Epochs': 240, 'Hidden size': 5, 'n layers': 3, 'Learning rate': 0.0009536405211025457}. Best is trial 10 with value: 2.8976574455670696.\u001b[0m\n"
     ]
    },
    {
     "name": "stdout",
     "output_type": "stream",
     "text": [
      "City: Bình Định  _algo:lstm  -RMSE: 4.24432118726725\n"
     ]
    },
    {
     "name": "stderr",
     "output_type": "stream",
     "text": [
      "<ipython-input-14-8244d6fc4512>:11: FutureWarning: suggest_loguniform has been deprecated in v3.0.0. This feature will be removed in v6.0.0. See https://github.com/optuna/optuna/releases/tag/v3.0.0. Use :func:`~optuna.trial.Trial.suggest_float` instead.\n",
      "  learning_rate = trial.suggest_loguniform('Learning rate', 1e-4, 1e-2)\n"
     ]
    },
    {
     "name": "stdout",
     "output_type": "stream",
     "text": [
      "Epoch:  0/270 - train_loss: 0.9888 - test_loss: 0.858865\n",
      "Epoch: 139/140 - train_loss: 0.0785 - test_loss: 0.044190\n",
      "City: Bình Định  _algo:lstm  -RMSE: 4.153444065411174\n",
      "City: Bình Định  _algo:lstm  -RMSE: 5.516608618051984\n"
     ]
    },
    {
     "name": "stderr",
     "output_type": "stream",
     "text": [
      "\u001b[32m[I 2023-02-07 15:03:06,652]\u001b[0m Trial 4 finished with value: 4.153444065411174 and parameters: {'Epochs': 490, 'Hidden size': 99, 'n layers': 3, 'Learning rate': 0.004276663637798045}. Best is trial 10 with value: 2.8976574455670696.\u001b[0m\n"
     ]
    },
    {
     "name": "stdout",
     "output_type": "stream",
     "text": [
      "City: Bình Định  _algo:lstm  -RMSE: 4.3559553101319235\n"
     ]
    },
    {
     "name": "stderr",
     "output_type": "stream",
     "text": [
      "<ipython-input-14-8244d6fc4512>:11: FutureWarning: suggest_loguniform has been deprecated in v3.0.0. This feature will be removed in v6.0.0. See https://github.com/optuna/optuna/releases/tag/v3.0.0. Use :func:`~optuna.trial.Trial.suggest_float` instead.\n",
      "  learning_rate = trial.suggest_loguniform('Learning rate', 1e-4, 1e-2)\n"
     ]
    },
    {
     "name": "stdout",
     "output_type": "stream",
     "text": [
      "Epoch:  0/490 - train_loss: 0.7146 - test_loss: 0.702418\n",
      "Epoch: 139/140 - train_loss: 0.4460 - test_loss: 0.431733\n",
      "City: Bình Định  _algo:lstm  -RMSE: 5.239558276117568\n",
      "City: Bình Định  _algo:lstm  -RMSE: 6.040556397869915\n"
     ]
    },
    {
     "name": "stderr",
     "output_type": "stream",
     "text": [
      "\u001b[32m[I 2023-02-07 15:03:11,481]\u001b[0m Trial 13 finished with value: 5.239558276117568 and parameters: {'Epochs': 150, 'Hidden size': 93, 'n layers': 3, 'Learning rate': 0.00012533804873054224}. Best is trial 10 with value: 2.8976574455670696.\u001b[0m\n"
     ]
    },
    {
     "name": "stdout",
     "output_type": "stream",
     "text": [
      "Epoch: 105/140 - train_loss: 0.1051 - test_loss: 0.050410\n",
      "City: Bình Định  _algo:lstm  -RMSE: 6.735822746130778\n"
     ]
    },
    {
     "name": "stderr",
     "output_type": "stream",
     "text": [
      "<ipython-input-14-8244d6fc4512>:11: FutureWarning: suggest_loguniform has been deprecated in v3.0.0. This feature will be removed in v6.0.0. See https://github.com/optuna/optuna/releases/tag/v3.0.0. Use :func:`~optuna.trial.Trial.suggest_float` instead.\n",
      "  learning_rate = trial.suggest_loguniform('Learning rate', 1e-4, 1e-2)\n"
     ]
    },
    {
     "name": "stdout",
     "output_type": "stream",
     "text": [
      "Epoch:  0/390 - train_loss: 0.7090 - test_loss: 0.695880\n",
      "Epoch: 70/140 - train_loss: 0.4144 - test_loss: 0.404973\n",
      "Epoch: 139/140 - train_loss: 0.1043 - test_loss: 0.048630\n",
      "City: Bình Định  _algo:lstm  -RMSE: 3.8361555672695338\n",
      "City: Bình Định  _algo:lstm  -RMSE: 4.528022922942098\n"
     ]
    },
    {
     "name": "stderr",
     "output_type": "stream",
     "text": [
      "\u001b[32m[I 2023-02-07 15:03:37,914]\u001b[0m Trial 16 finished with value: 3.8361555672695338 and parameters: {'Epochs': 450, 'Hidden size': 198, 'n layers': 4, 'Learning rate': 0.004308696333063093}. Best is trial 10 with value: 2.8976574455670696.\u001b[0m\n"
     ]
    },
    {
     "name": "stdout",
     "output_type": "stream",
     "text": [
      "City: Bình Định  _algo:lstm  -RMSE: 3.6112537795609043\n",
      "Epoch:  0/140 - train_loss: 0.7090 - test_loss: 0.691976\n"
     ]
    },
    {
     "name": "stderr",
     "output_type": "stream",
     "text": [
      "<ipython-input-14-8244d6fc4512>:11: FutureWarning: suggest_loguniform has been deprecated in v3.0.0. This feature will be removed in v6.0.0. See https://github.com/optuna/optuna/releases/tag/v3.0.0. Use :func:`~optuna.trial.Trial.suggest_float` instead.\n",
      "  learning_rate = trial.suggest_loguniform('Learning rate', 1e-4, 1e-2)\n"
     ]
    },
    {
     "name": "stdout",
     "output_type": "stream",
     "text": [
      "Epoch:  0/220 - train_loss: 0.6916 - test_loss: 0.640221\n",
      "Epoch: 105/140 - train_loss: 0.3040 - test_loss: 0.285492\n",
      "Epoch: 70/140 - train_loss: 0.3131 - test_loss: 0.292902\n",
      "Epoch: 67/270 - train_loss: 0.1230 - test_loss: 0.055982\n",
      "Epoch: 139/140 - train_loss: 0.2289 - test_loss: 0.202935\n",
      "City: Bình Định  _algo:lstm  -RMSE: 5.541213693763501\n",
      "City: Bình Định  _algo:lstm  -RMSE: 6.004564020248753\n"
     ]
    },
    {
     "name": "stderr",
     "output_type": "stream",
     "text": [
      "\u001b[32m[I 2023-02-07 15:04:20,265]\u001b[0m Trial 1 finished with value: 5.541213693763501 and parameters: {'Epochs': 460, 'Hidden size': 13, 'n layers': 7, 'Learning rate': 0.00028642491046947197}. Best is trial 10 with value: 2.8976574455670696.\u001b[0m\n"
     ]
    },
    {
     "name": "stdout",
     "output_type": "stream",
     "text": [
      "City: Bình Định  _algo:lstm  -RMSE: 6.896048748171817\n"
     ]
    },
    {
     "name": "stderr",
     "output_type": "stream",
     "text": [
      "<ipython-input-14-8244d6fc4512>:11: FutureWarning: suggest_loguniform has been deprecated in v3.0.0. This feature will be removed in v6.0.0. See https://github.com/optuna/optuna/releases/tag/v3.0.0. Use :func:`~optuna.trial.Trial.suggest_float` instead.\n",
      "  learning_rate = trial.suggest_loguniform('Learning rate', 1e-4, 1e-2)\n"
     ]
    },
    {
     "name": "stdout",
     "output_type": "stream",
     "text": [
      "Epoch:  0/130 - train_loss: 0.6627 - test_loss: 0.575073\n",
      "Epoch: 55/220 - train_loss: 0.1172 - test_loss: 0.052323\n",
      "Epoch: 97/390 - train_loss: 0.1095 - test_loss: 0.063338\n",
      "Epoch: 105/140 - train_loss: 0.2034 - test_loss: 0.179250\n",
      "Epoch: 32/130 - train_loss: 0.1563 - test_loss: 0.155345\n",
      "Epoch: 134/270 - train_loss: 0.1254 - test_loss: 0.051849\n",
      "Epoch: 122/490 - train_loss: 0.1634 - test_loss: 0.136416\n",
      "Epoch: 110/220 - train_loss: 0.1119 - test_loss: 0.061721\n",
      "Epoch: 64/130 - train_loss: 0.1611 - test_loss: 0.145181\n",
      "Epoch: 139/140 - train_loss: 0.1398 - test_loss: 0.109420\n",
      "Epoch: 201/270 - train_loss: 0.1222 - test_loss: 0.053983\n",
      "City: Bình Định  _algo:lstm  -RMSE: 4.853151337564746\n",
      "Epoch: 35/140 - train_loss: 0.1239 - test_loss: 0.066231\n",
      "City: Bình Định  _algo:lstm  -RMSE: 4.444422422963949\n"
     ]
    },
    {
     "name": "stderr",
     "output_type": "stream",
     "text": [
      "\u001b[32m[I 2023-02-07 15:05:55,117]\u001b[0m Trial 2 finished with value: 4.853151337564746 and parameters: {'Epochs': 260, 'Hidden size': 83, 'n layers': 8, 'Learning rate': 0.0004187955535642473}. Best is trial 10 with value: 2.8976574455670696.\u001b[0m\n"
     ]
    },
    {
     "name": "stdout",
     "output_type": "stream",
     "text": [
      "Epoch: 194/390 - train_loss: 0.1057 - test_loss: 0.053016\n",
      "City: Bình Định  _algo:lstm  -RMSE: 5.102553213554677\n"
     ]
    },
    {
     "name": "stderr",
     "output_type": "stream",
     "text": [
      "<ipython-input-14-8244d6fc4512>:11: FutureWarning: suggest_loguniform has been deprecated in v3.0.0. This feature will be removed in v6.0.0. See https://github.com/optuna/optuna/releases/tag/v3.0.0. Use :func:`~optuna.trial.Trial.suggest_float` instead.\n",
      "  learning_rate = trial.suggest_loguniform('Learning rate', 1e-4, 1e-2)\n"
     ]
    },
    {
     "name": "stdout",
     "output_type": "stream",
     "text": [
      "Epoch:  0/410 - train_loss: 0.7734 - test_loss: 0.712761\n",
      "Epoch: 96/130 - train_loss: 0.1553 - test_loss: 0.141640\n",
      "Epoch: 165/220 - train_loss: 0.1225 - test_loss: 0.052433\n",
      "Epoch: 128/130 - train_loss: 0.1613 - test_loss: 0.145750\n",
      "Epoch: 129/130 - train_loss: 0.1564 - test_loss: 0.146101\n",
      "City: Bình Định  _algo:lstm  -RMSE: 12.580902823083003\n",
      "City: Bình Định  _algo:lstm  -RMSE: 12.26614029995219\n"
     ]
    },
    {
     "name": "stderr",
     "output_type": "stream",
     "text": [
      "\u001b[32m[I 2023-02-07 15:06:35,363]\u001b[0m Trial 24 finished with value: 12.580902823083003 and parameters: {'Epochs': 130, 'Hidden size': 22, 'n layers': 10, 'Learning rate': 0.007850933998964877}. Best is trial 10 with value: 2.8976574455670696.\u001b[0m\n"
     ]
    },
    {
     "name": "stdout",
     "output_type": "stream",
     "text": [
      "City: Bình Định  _algo:lstm  -RMSE: 17.541032549791133\n"
     ]
    },
    {
     "name": "stderr",
     "output_type": "stream",
     "text": [
      "<ipython-input-14-8244d6fc4512>:11: FutureWarning: suggest_loguniform has been deprecated in v3.0.0. This feature will be removed in v6.0.0. See https://github.com/optuna/optuna/releases/tag/v3.0.0. Use :func:`~optuna.trial.Trial.suggest_float` instead.\n",
      "  learning_rate = trial.suggest_loguniform('Learning rate', 1e-4, 1e-2)\n"
     ]
    },
    {
     "name": "stdout",
     "output_type": "stream",
     "text": [
      "Epoch:  0/160 - train_loss: 0.7557 - test_loss: 0.699548\n",
      "Epoch: 268/270 - train_loss: 0.1150 - test_loss: 0.059421\n",
      "Epoch: 269/270 - train_loss: 0.1137 - test_loss: 0.056735\n",
      "City: Bình Định  _algo:lstm  -RMSE: 3.037962305273156\n",
      "City: Bình Định  _algo:lstm  -RMSE: 2.31623992357442\n"
     ]
    },
    {
     "name": "stderr",
     "output_type": "stream",
     "text": [
      "\u001b[32m[I 2023-02-07 15:06:52,717]\u001b[0m Trial 20 finished with value: 3.037962305273156 and parameters: {'Epochs': 270, 'Hidden size': 6, 'n layers': 9, 'Learning rate': 0.0014822163466061042}. Best is trial 10 with value: 2.8976574455670696.\u001b[0m\n"
     ]
    },
    {
     "name": "stdout",
     "output_type": "stream",
     "text": [
      "City: Bình Định  _algo:lstm  -RMSE: 2.698356749753115\n"
     ]
    },
    {
     "name": "stderr",
     "output_type": "stream",
     "text": [
      "<ipython-input-14-8244d6fc4512>:11: FutureWarning: suggest_loguniform has been deprecated in v3.0.0. This feature will be removed in v6.0.0. See https://github.com/optuna/optuna/releases/tag/v3.0.0. Use :func:`~optuna.trial.Trial.suggest_float` instead.\n",
      "  learning_rate = trial.suggest_loguniform('Learning rate', 1e-4, 1e-2)\n"
     ]
    },
    {
     "name": "stdout",
     "output_type": "stream",
     "text": [
      "Epoch:  0/270 - train_loss: 0.7339 - test_loss: 0.699975\n",
      "Epoch: 244/490 - train_loss: 0.1547 - test_loss: 0.146104\n",
      "Epoch: 219/220 - train_loss: 0.1012 - test_loss: 0.062405\n",
      "City: Bình Định  _algo:lstm  -RMSE: 5.136583598649648\n",
      "City: Bình Định  _algo:lstm  -RMSE: 4.158517843509015\n"
     ]
    },
    {
     "name": "stderr",
     "output_type": "stream",
     "text": [
      "\u001b[32m[I 2023-02-07 15:07:02,636]\u001b[0m Trial 23 finished with value: 5.136583598649648 and parameters: {'Epochs': 220, 'Hidden size': 98, 'n layers': 9, 'Learning rate': 0.0035895235177165305}. Best is trial 10 with value: 2.8976574455670696.\u001b[0m\n"
     ]
    },
    {
     "name": "stdout",
     "output_type": "stream",
     "text": [
      "City: Bình Định  _algo:lstm  -RMSE: 3.990006137511716\n"
     ]
    },
    {
     "name": "stderr",
     "output_type": "stream",
     "text": [
      "<ipython-input-14-8244d6fc4512>:11: FutureWarning: suggest_loguniform has been deprecated in v3.0.0. This feature will be removed in v6.0.0. See https://github.com/optuna/optuna/releases/tag/v3.0.0. Use :func:`~optuna.trial.Trial.suggest_float` instead.\n",
      "  learning_rate = trial.suggest_loguniform('Learning rate', 1e-4, 1e-2)\n"
     ]
    },
    {
     "name": "stdout",
     "output_type": "stream",
     "text": [
      "Epoch:  0/410 - train_loss: 0.8874 - test_loss: 0.760905\n",
      "Epoch: 40/160 - train_loss: 0.5641 - test_loss: 0.550965\n",
      "Epoch: 291/390 - train_loss: 0.1002 - test_loss: 0.055444\n",
      "Epoch: 67/270 - train_loss: 0.2556 - test_loss: 0.228601\n",
      "Epoch: 80/160 - train_loss: 0.4430 - test_loss: 0.426956\n",
      "Epoch: 134/270 - train_loss: 0.1273 - test_loss: 0.075600\n",
      "Epoch: 102/410 - train_loss: 0.3491 - test_loss: 0.330025\n",
      "Epoch: 70/140 - train_loss: 0.1114 - test_loss: 0.062372\n",
      "Epoch: 120/160 - train_loss: 0.3433 - test_loss: 0.323001\n",
      "Epoch: 102/410 - train_loss: 0.1126 - test_loss: 0.058543\n",
      "Epoch: 388/390 - train_loss: 0.1055 - test_loss: 0.056739\n",
      "Epoch: 389/390 - train_loss: 0.1023 - test_loss: 0.061535\n",
      "City: Bình Định  _algo:lstm  -RMSE: 3.3375184062895182\n",
      "City: Bình Định  _algo:lstm  -RMSE: 3.6332094127516656\n"
     ]
    },
    {
     "name": "stderr",
     "output_type": "stream",
     "text": [
      "\u001b[32m[I 2023-02-07 15:08:30,299]\u001b[0m Trial 22 finished with value: 3.3375184062895182 and parameters: {'Epochs': 390, 'Hidden size': 52, 'n layers': 8, 'Learning rate': 0.002130949146459536}. Best is trial 10 with value: 2.8976574455670696.\u001b[0m\n"
     ]
    },
    {
     "name": "stdout",
     "output_type": "stream",
     "text": [
      "City: Bình Định  _algo:lstm  -RMSE: 3.5236820953448316\n"
     ]
    },
    {
     "name": "stderr",
     "output_type": "stream",
     "text": [
      "<ipython-input-14-8244d6fc4512>:11: FutureWarning: suggest_loguniform has been deprecated in v3.0.0. This feature will be removed in v6.0.0. See https://github.com/optuna/optuna/releases/tag/v3.0.0. Use :func:`~optuna.trial.Trial.suggest_float` instead.\n",
      "  learning_rate = trial.suggest_loguniform('Learning rate', 1e-4, 1e-2)\n"
     ]
    },
    {
     "name": "stdout",
     "output_type": "stream",
     "text": [
      "Epoch:  0/360 - train_loss: 0.8420 - test_loss: 0.784620\n",
      "Epoch: 201/270 - train_loss: 0.1164 - test_loss: 0.053403\n",
      "Epoch: 366/490 - train_loss: 0.1548 - test_loss: 0.148232\n",
      "Epoch: 159/160 - train_loss: 0.2634 - test_loss: 0.240314\n",
      "City: Bình Định  _algo:lstm  -RMSE: 3.031841368101296\n",
      "City: Bình Định  _algo:lstm  -RMSE: 3.787884486017087\n"
     ]
    },
    {
     "name": "stderr",
     "output_type": "stream",
     "text": [
      "\u001b[32m[I 2023-02-07 15:08:52,631]\u001b[0m Trial 26 finished with value: 3.031841368101296 and parameters: {'Epochs': 160, 'Hidden size': 81, 'n layers': 5, 'Learning rate': 0.00021960810342587563}. Best is trial 10 with value: 2.8976574455670696.\u001b[0m\n"
     ]
    },
    {
     "name": "stdout",
     "output_type": "stream",
     "text": [
      "City: Bình Định  _algo:lstm  -RMSE: 5.624989408191376\n",
      "Epoch: 268/270 - train_loss: 0.1125 - test_loss: 0.052544\n",
      "Epoch: 269/270 - train_loss: 0.1123 - test_loss: 0.050302\n",
      "City: Bình Định  _algo:lstm  -RMSE: 2.7249724825939223\n",
      "City: Bình Định  _algo:lstm  -RMSE: 3.021475623006664\n"
     ]
    },
    {
     "name": "stderr",
     "output_type": "stream",
     "text": [
      "\u001b[32m[I 2023-02-07 15:09:07,776]\u001b[0m Trial 27 finished with value: 2.7249724825939223 and parameters: {'Epochs': 270, 'Hidden size': 22, 'n layers': 4, 'Learning rate': 0.0005406737205682689}. Best is trial 27 with value: 2.7249724825939223.\u001b[0m\n"
     ]
    },
    {
     "name": "stdout",
     "output_type": "stream",
     "text": [
      "City: Bình Định  _algo:lstm  -RMSE: 3.894196064750175\n",
      "Epoch:  0/140 - train_loss: 0.7617 - test_loss: 0.689780\n",
      "Epoch: 105/140 - train_loss: 0.1085 - test_loss: 0.051443\n",
      "Epoch: 35/140 - train_loss: 0.1192 - test_loss: 0.069636\n",
      "Epoch: 90/360 - train_loss: 0.1448 - test_loss: 0.099535\n",
      "Epoch: 139/140 - train_loss: 0.1055 - test_loss: 0.057006\n",
      "City: Bình Định  _algo:lstm  -RMSE: 5.307533427075992\n",
      "City: Bình Định  _algo:lstm  -RMSE: 5.355945071434068\n"
     ]
    },
    {
     "name": "stderr",
     "output_type": "stream",
     "text": [
      "\u001b[32m[I 2023-02-07 15:09:46,691]\u001b[0m Trial 17 finished with value: 5.307533427075992 and parameters: {'Epochs': 500, 'Hidden size': 15, 'n layers': 4, 'Learning rate': 0.0035168200111836394}. Best is trial 27 with value: 2.7249724825939223.\u001b[0m\n"
     ]
    },
    {
     "name": "stdout",
     "output_type": "stream",
     "text": [
      "City: Bình Định  _algo:lstm  -RMSE: 3.8155596244258425\n",
      "Epoch: 204/410 - train_loss: 0.1058 - test_loss: 0.056734\n",
      "Epoch:  0/140 - train_loss: 0.7004 - test_loss: 0.666200\n",
      "Epoch: 204/410 - train_loss: 0.1681 - test_loss: 0.134143\n",
      "Epoch: 70/140 - train_loss: 0.1101 - test_loss: 0.052339\n",
      "Epoch: 35/140 - train_loss: 0.1410 - test_loss: 0.101690\n",
      "Epoch: 180/360 - train_loss: 0.1218 - test_loss: 0.057132\n",
      "Epoch: 105/140 - train_loss: 0.1102 - test_loss: 0.050173\n",
      "Epoch: 488/490 - train_loss: 0.1544 - test_loss: 0.145520\n",
      "Epoch: 489/490 - train_loss: 0.1560 - test_loss: 0.143851\n",
      "City: Bình Định  _algo:lstm  -RMSE: 15.738269899350284\n",
      "City: Bình Định  _algo:lstm  -RMSE: 16.126223737180464\n"
     ]
    },
    {
     "name": "stderr",
     "output_type": "stream",
     "text": [
      "\u001b[32m[I 2023-02-07 15:10:39,148]\u001b[0m Trial 21 finished with value: 15.738269899350284 and parameters: {'Epochs': 490, 'Hidden size': 143, 'n layers': 10, 'Learning rate': 0.0006434506567055738}. Best is trial 27 with value: 2.7249724825939223.\u001b[0m\n"
     ]
    },
    {
     "name": "stdout",
     "output_type": "stream",
     "text": [
      "City: Bình Định  _algo:lstm  -RMSE: 15.941088055612768\n",
      "Epoch: 70/140 - train_loss: 0.1102 - test_loss: 0.049417\n",
      "Epoch: 139/140 - train_loss: 0.1025 - test_loss: 0.054850\n",
      "City: Bình Định  _algo:lstm  -RMSE: 3.600124764993821\n",
      "City: Bình Định  _algo:lstm  -RMSE: 2.6473153770846167\n"
     ]
    },
    {
     "name": "stderr",
     "output_type": "stream",
     "text": [
      "\u001b[32m[I 2023-02-07 15:10:54,996]\u001b[0m Trial 7 finished with value: 3.600124764993821 and parameters: {'Epochs': 130, 'Hidden size': 75, 'n layers': 5, 'Learning rate': 0.006430214749435268}. Best is trial 27 with value: 2.7249724825939223.\u001b[0m\n"
     ]
    },
    {
     "name": "stdout",
     "output_type": "stream",
     "text": [
      "City: Bình Định  _algo:lstm  -RMSE: 2.4883988990523327\n",
      "Epoch:  0/140 - train_loss: 0.7283 - test_loss: 0.690875\n",
      "Epoch: 35/140 - train_loss: 0.2073 - test_loss: 0.195555\n",
      "Epoch: 306/410 - train_loss: 0.1003 - test_loss: 0.050198\n",
      "Epoch: 270/360 - train_loss: 0.1178 - test_loss: 0.054920\n",
      "Epoch: 105/140 - train_loss: 0.1146 - test_loss: 0.048065\n",
      "Epoch: 306/410 - train_loss: 0.1198 - test_loss: 0.065667\n",
      "Epoch:  0/140 - train_loss: 0.6664 - test_loss: 0.560597\n",
      "Epoch: 70/140 - train_loss: 0.1273 - test_loss: 0.077522\n",
      "Epoch: 35/140 - train_loss: 0.1298 - test_loss: 0.074074\n",
      "Epoch: 139/140 - train_loss: 0.1112 - test_loss: 0.050088\n",
      "City: Bình Định  _algo:lstm  -RMSE: 3.18724765508635\n",
      "City: Bình Định  _algo:lstm  -RMSE: 3.138629687384373\n"
     ]
    },
    {
     "name": "stderr",
     "output_type": "stream",
     "text": [
      "\u001b[32m[I 2023-02-07 15:11:39,997]\u001b[0m Trial 18 finished with value: 3.18724765508635 and parameters: {'Epochs': 440, 'Hidden size': 73, 'n layers': 7, 'Learning rate': 0.0017675905616147773}. Best is trial 27 with value: 2.7249724825939223.\u001b[0m\n"
     ]
    },
    {
     "name": "stdout",
     "output_type": "stream",
     "text": [
      "City: Bình Định  _algo:lstm  -RMSE: 4.340822566746271\n",
      "Epoch: 359/360 - train_loss: 0.1173 - test_loss: 0.055726\n",
      "Epoch:  0/140 - train_loss: 0.7815 - test_loss: 0.715930\n",
      "City: Bình Định  _algo:lstm  -RMSE: 3.6651395027924263\n",
      "City: Bình Định  _algo:lstm  -RMSE: 4.220579110232532\n"
     ]
    },
    {
     "name": "stderr",
     "output_type": "stream",
     "text": [
      "\u001b[32m[I 2023-02-07 15:11:58,449]\u001b[0m Trial 29 finished with value: 3.6651395027924263 and parameters: {'Epochs': 360, 'Hidden size': 5, 'n layers': 5, 'Learning rate': 0.0006900586249074785}. Best is trial 27 with value: 2.7249724825939223.\u001b[0m\n"
     ]
    },
    {
     "name": "stdout",
     "output_type": "stream",
     "text": [
      "City: Bình Định  _algo:lstm  -RMSE: 4.850995988008652\n",
      "Epoch: 105/140 - train_loss: 0.1219 - test_loss: 0.057725\n",
      "Epoch: 70/140 - train_loss: 0.1165 - test_loss: 0.051607\n",
      "Epoch: 35/140 - train_loss: 0.4629 - test_loss: 0.444389\n",
      "Epoch: 408/410 - train_loss: 0.0964 - test_loss: 0.049523\n",
      "Epoch: 409/410 - train_loss: 0.0973 - test_loss: 0.053799\n",
      "City: Bình Định  _algo:lstm  -RMSE: 3.0500313697034853\n",
      "Epoch:  0/140 - train_loss: 0.6727 - test_loss: 0.559204\n",
      "City: Bình Định  _algo:lstm  -RMSE: 4.669085079264055\n"
     ]
    },
    {
     "name": "stderr",
     "output_type": "stream",
     "text": [
      "\u001b[32m[I 2023-02-07 15:12:17,953]\u001b[0m Trial 28 finished with value: 3.0500313697034853 and parameters: {'Epochs': 410, 'Hidden size': 9, 'n layers': 7, 'Learning rate': 0.00229797550025061}. Best is trial 27 with value: 2.7249724825939223.\u001b[0m\n"
     ]
    },
    {
     "name": "stdout",
     "output_type": "stream",
     "text": [
      "City: Bình Định  _algo:lstm  -RMSE: 3.9218456350230766\n",
      "Epoch: 408/410 - train_loss: 0.1060 - test_loss: 0.047881\n",
      "Epoch: 409/410 - train_loss: 0.1052 - test_loss: 0.049809\n",
      "City: Bình Định  _algo:lstm  -RMSE: 3.060269063333564\n",
      "City: Bình Định  _algo:lstm  -RMSE: 2.6190666331899686\n"
     ]
    },
    {
     "name": "stderr",
     "output_type": "stream",
     "text": [
      "\u001b[32m[I 2023-02-07 15:12:29,962]\u001b[0m Trial 25 finished with value: 3.060269063333564 and parameters: {'Epochs': 410, 'Hidden size': 39, 'n layers': 7, 'Learning rate': 0.00025051449768003094}. Best is trial 27 with value: 2.7249724825939223.\u001b[0m\n"
     ]
    },
    {
     "name": "stdout",
     "output_type": "stream",
     "text": [
      "Epoch: 35/140 - train_loss: 0.1139 - test_loss: 0.066675\n",
      "City: Bình Định  _algo:lstm  -RMSE: 3.034937861989808\n",
      "Epoch:  0/140 - train_loss: 0.8217 - test_loss: 0.689337\n",
      "Epoch: 105/140 - train_loss: 0.1070 - test_loss: 0.051196\n",
      "Epoch: 139/140 - train_loss: 0.1198 - test_loss: 0.057878\n",
      "City: Bình Định  _algo:lstm  -RMSE: 2.7272747979705314\n",
      "City: Bình Định  _algo:lstm  -RMSE: 3.5712152971734388\n"
     ]
    },
    {
     "name": "stderr",
     "output_type": "stream",
     "text": [
      "\u001b[32m[I 2023-02-07 15:12:37,198]\u001b[0m Trial 6 finished with value: 2.7272747979705314 and parameters: {'Epochs': 120, 'Hidden size': 8, 'n layers': 9, 'Learning rate': 0.0013375615220376509}. Best is trial 27 with value: 2.7249724825939223.\u001b[0m\n"
     ]
    },
    {
     "name": "stdout",
     "output_type": "stream",
     "text": [
      "Epoch: 70/140 - train_loss: 0.2869 - test_loss: 0.265903\n",
      "City: Bình Định  _algo:lstm  -RMSE: 3.7815209527324223\n",
      "Epoch:  0/140 - train_loss: 0.7601 - test_loss: 0.707389\n",
      "Epoch: 35/140 - train_loss: 0.5612 - test_loss: 0.555148\n",
      "Epoch: 70/140 - train_loss: 0.1137 - test_loss: 0.060665\n",
      "Epoch:  0/140 - train_loss: 0.8308 - test_loss: 0.757808\n",
      "Epoch: 139/140 - train_loss: 0.1182 - test_loss: 0.051351\n",
      "City: Bình Định  _algo:lstm  -RMSE: 3.412386894277779\n",
      "City: Bình Định  _algo:lstm  -RMSE: 2.4412346735528465\n"
     ]
    },
    {
     "name": "stderr",
     "output_type": "stream",
     "text": [
      "\u001b[32m[I 2023-02-07 15:13:00,967]\u001b[0m Trial 5 finished with value: 3.412386894277779 and parameters: {'Epochs': 390, 'Hidden size': 239, 'n layers': 6, 'Learning rate': 0.002120183191491807}. Best is trial 27 with value: 2.7249724825939223.\u001b[0m\n"
     ]
    },
    {
     "name": "stdout",
     "output_type": "stream",
     "text": [
      "City: Bình Định  _algo:lstm  -RMSE: 2.410962331113658\n",
      "Epoch: 35/140 - train_loss: 0.1284 - test_loss: 0.057698\n",
      "Epoch: 105/140 - train_loss: 0.1807 - test_loss: 0.153394\n",
      "Epoch:  0/140 - train_loss: 0.7319 - test_loss: 0.686504\n",
      "Epoch: 105/140 - train_loss: 0.1066 - test_loss: 0.058568\n",
      "Epoch: 35/140 - train_loss: 0.1603 - test_loss: 0.130370\n",
      "Epoch: 70/140 - train_loss: 0.4370 - test_loss: 0.431549\n",
      "Epoch: 139/140 - train_loss: 0.1300 - test_loss: 0.095619\n",
      "City: Bình Định  _algo:lstm  -RMSE: 5.333876556266009\n",
      "City: Bình Định  _algo:lstm  -RMSE: 6.247757847021747\n"
     ]
    },
    {
     "name": "stderr",
     "output_type": "stream",
     "text": [
      "\u001b[32m[I 2023-02-07 15:13:25,720]\u001b[0m Trial 9 finished with value: 5.333876556266009 and parameters: {'Epochs': 370, 'Hidden size': 180, 'n layers': 5, 'Learning rate': 0.00045884017644496125}. Best is trial 27 with value: 2.7249724825939223.\u001b[0m\n"
     ]
    },
    {
     "name": "stdout",
     "output_type": "stream",
     "text": [
      "City: Bình Định  _algo:lstm  -RMSE: 6.134369988580741\n",
      "Epoch:  0/140 - train_loss: 0.6727 - test_loss: 0.583412\n",
      "Epoch: 70/140 - train_loss: 0.1285 - test_loss: 0.058238\n",
      "Epoch: 35/140 - train_loss: 0.3931 - test_loss: 0.381429\n",
      "Epoch: 139/140 - train_loss: 0.1112 - test_loss: 0.065223\n",
      "City: Bình Định  _algo:lstm  -RMSE: 3.2931367563173732\n",
      "City: Bình Định  _algo:lstm  -RMSE: 3.0785631349519886\n"
     ]
    },
    {
     "name": "stderr",
     "output_type": "stream",
     "text": [
      "\u001b[32m[I 2023-02-07 15:13:38,387]\u001b[0m Trial 19 finished with value: 3.2931367563173732 and parameters: {'Epochs': 140, 'Hidden size': 40, 'n layers': 4, 'Learning rate': 0.008609886537193526}. Best is trial 27 with value: 2.7249724825939223.\u001b[0m\n"
     ]
    },
    {
     "name": "stdout",
     "output_type": "stream",
     "text": [
      "City: Bình Định  _algo:lstm  -RMSE: 3.790254528471881\n",
      "Epoch: 105/140 - train_loss: 0.3368 - test_loss: 0.330523\n",
      "Epoch: 35/140 - train_loss: 0.5518 - test_loss: 0.546784\n",
      "Epoch: 70/140 - train_loss: 0.1260 - test_loss: 0.070074\n",
      "Epoch: 105/140 - train_loss: 0.1226 - test_loss: 0.059125\n",
      "Epoch: 70/140 - train_loss: 0.2068 - test_loss: 0.177320\n",
      "Epoch: 35/140 - train_loss: 0.4173 - test_loss: 0.398546\n",
      "Epoch: 139/140 - train_loss: 0.2639 - test_loss: 0.254421\n",
      "City: Bình Định  _algo:lstm  -RMSE: 17.226480754659907\n",
      "City: Bình Định  _algo:lstm  -RMSE: 17.27962877529767\n"
     ]
    },
    {
     "name": "stderr",
     "output_type": "stream",
     "text": [
      "\u001b[32m[I 2023-02-07 15:14:18,854]\u001b[0m Trial 8 finished with value: 17.226480754659907 and parameters: {'Epochs': 380, 'Hidden size': 6, 'n layers': 8, 'Learning rate': 0.0002625582159464447}. Best is trial 27 with value: 2.7249724825939223.\u001b[0m\n"
     ]
    },
    {
     "name": "stdout",
     "output_type": "stream",
     "text": [
      "City: Bình Định  _algo:lstm  -RMSE: 17.02789624489757\n",
      "Epoch: 139/140 - train_loss: 0.1451 - test_loss: 0.064948\n",
      "City: Bình Định  _algo:lstm  -RMSE: 2.3219390808173888\n",
      "City: Bình Định  _algo:lstm  -RMSE: 2.578542701881\n"
     ]
    },
    {
     "name": "stderr",
     "output_type": "stream",
     "text": [
      "\u001b[32m[I 2023-02-07 15:14:21,490]\u001b[0m Trial 0 finished with value: 2.3219390808173888 and parameters: {'Epochs': 110, 'Hidden size': 223, 'n layers': 6, 'Learning rate': 0.009342184466997625}. Best is trial 0 with value: 2.3219390808173888.\u001b[0m\n"
     ]
    },
    {
     "name": "stdout",
     "output_type": "stream",
     "text": [
      "City: Bình Định  _algo:lstm  -RMSE: 4.9106860798524625\n",
      "Epoch: 70/140 - train_loss: 0.4216 - test_loss: 0.416500\n",
      "Epoch: 105/140 - train_loss: 0.1294 - test_loss: 0.065341\n",
      "Epoch: 105/140 - train_loss: 0.1370 - test_loss: 0.092439\n",
      "Epoch: 35/140 - train_loss: 0.1127 - test_loss: 0.056746\n",
      "Epoch: 70/140 - train_loss: 0.2348 - test_loss: 0.208309\n",
      "Epoch: 105/140 - train_loss: 0.3180 - test_loss: 0.309158\n",
      "Epoch: 139/140 - train_loss: 0.1195 - test_loss: 0.061347\n",
      "City: Bình Định  _algo:lstm  -RMSE: 3.146492729972847\n",
      "City: Bình Định  _algo:lstm  -RMSE: 3.4550678388968414\n"
     ]
    },
    {
     "name": "stderr",
     "output_type": "stream",
     "text": [
      "\u001b[32m[I 2023-02-07 15:14:48,315]\u001b[0m Trial 3 finished with value: 3.146492729972847 and parameters: {'Epochs': 110, 'Hidden size': 16, 'n layers': 7, 'Learning rate': 0.0006219756075180985}. Best is trial 0 with value: 2.3219390808173888.\u001b[0m\n"
     ]
    },
    {
     "name": "stdout",
     "output_type": "stream",
     "text": [
      "City: Bình Định  _algo:lstm  -RMSE: 4.6688150571352525\n",
      "Epoch: 139/140 - train_loss: 0.1214 - test_loss: 0.057764\n",
      "City: Bình Định  _algo:lstm  -RMSE: 3.393767803928971\n",
      "City: Bình Định  _algo:lstm  -RMSE: 3.9167698394160486\n"
     ]
    },
    {
     "name": "stderr",
     "output_type": "stream",
     "text": [
      "\u001b[32m[I 2023-02-07 15:14:50,284]\u001b[0m Trial 12 finished with value: 3.393767803928971 and parameters: {'Epochs': 340, 'Hidden size': 5, 'n layers': 10, 'Learning rate': 0.0031961387596238047}. Best is trial 0 with value: 2.3219390808173888.\u001b[0m\n"
     ]
    },
    {
     "name": "stdout",
     "output_type": "stream",
     "text": [
      "City: Bình Định  _algo:lstm  -RMSE: 4.949360209911856\n",
      "Epoch: 70/140 - train_loss: 0.1100 - test_loss: 0.049693\n",
      "Epoch: 105/140 - train_loss: 0.1480 - test_loss: 0.113185\n",
      "Epoch: 139/140 - train_loss: 0.2371 - test_loss: 0.218209\n",
      "City: Bình Định  _algo:lstm  -RMSE: 2.4991125657679656\n"
     ]
    },
    {
     "name": "stderr",
     "output_type": "stream",
     "text": [
      "\u001b[32m[I 2023-02-07 15:14:54,832]\u001b[0m Trial 11 finished with value: 2.4991125657679656 and parameters: {'Epochs': 420, 'Hidden size': 7, 'n layers': 5, 'Learning rate': 0.0002742192732124957}. Best is trial 0 with value: 2.3219390808173888.\u001b[0m\n"
     ]
    },
    {
     "name": "stdout",
     "output_type": "stream",
     "text": [
      "City: Bình Định  _algo:lstm  -RMSE: 9.83421212413186\n",
      "City: Bình Định  _algo:lstm  -RMSE: 14.723389651989836\n",
      "Epoch: 139/140 - train_loss: 0.1195 - test_loss: 0.067974\n",
      "City: Bình Định  _algo:lstm  -RMSE: 2.6417770092461765\n"
     ]
    },
    {
     "name": "stderr",
     "output_type": "stream",
     "text": [
      "\u001b[32m[I 2023-02-07 15:14:59,277]\u001b[0m Trial 14 finished with value: 2.6417770092461765 and parameters: {'Epochs': 410, 'Hidden size': 61, 'n layers': 4, 'Learning rate': 0.0005589165797424448}. Best is trial 0 with value: 2.3219390808173888.\u001b[0m\n"
     ]
    },
    {
     "name": "stdout",
     "output_type": "stream",
     "text": [
      "City: Bình Định  _algo:lstm  -RMSE: 2.7693716999189495\n",
      "City: Bình Định  _algo:lstm  -RMSE: 5.12390809754461\n",
      "Epoch: 105/140 - train_loss: 0.1111 - test_loss: 0.051629\n"
     ]
    },
    {
     "ename": "KeyboardInterrupt",
     "evalue": "",
     "output_type": "error",
     "traceback": [
      "\u001b[0;31m---------------------------------------------------------------------------\u001b[0m",
      "\u001b[0;31mKeyboardInterrupt\u001b[0m                         Traceback (most recent call last)",
      "Cell \u001b[0;32mIn[16], line 67\u001b[0m\n\u001b[1;32m     61\u001b[0m     one_cnn_opt_result\u001b[38;5;241m.\u001b[39mto_excel(prj_path_opt\u001b[38;5;241m+\u001b[39m\u001b[38;5;124m'\u001b[39m\u001b[38;5;124mopt_combination/\u001b[39m\u001b[38;5;124m'\u001b[39m\u001b[38;5;241m+\u001b[39mcity\u001b[38;5;241m+\u001b[39m\u001b[38;5;124m'\u001b[39m\u001b[38;5;124m_opt_CNN_with_\u001b[39m\u001b[38;5;124m'\u001b[39m\u001b[38;5;241m+\u001b[39ms_selected_features\u001b[38;5;241m+\u001b[39m\u001b[38;5;124m'\u001b[39m\u001b[38;5;124m.xlsx\u001b[39m\u001b[38;5;124m'\u001b[39m) \n\u001b[1;32m     63\u001b[0m   \u001b[38;5;28;01mif\u001b[39;00m(is_in_Selected_combination(\u001b[38;5;124m'\u001b[39m\u001b[38;5;124mLSTM*\u001b[39m\u001b[38;5;124m'\u001b[39m\u001b[38;5;241m+\u001b[39ms_selected_features)\u001b[38;5;241m==\u001b[39m\u001b[38;5;28;01mTrue\u001b[39;00m):\n\u001b[1;32m     64\u001b[0m     \u001b[38;5;66;03m########################################\u001b[39;00m\n\u001b[1;32m     65\u001b[0m     \u001b[38;5;66;03m########## LSTM \u001b[39;00m\n\u001b[1;32m     66\u001b[0m     \u001b[38;5;66;03m########################################\u001b[39;00m\n\u001b[0;32m---> 67\u001b[0m     one_lstm_opt_result \u001b[38;5;241m=\u001b[39m \u001b[43mdo_optimize\u001b[49m\u001b[43m(\u001b[49m\u001b[43mcity\u001b[49m\u001b[43m \u001b[49m\u001b[38;5;241;43m=\u001b[39;49m\u001b[43mcity\u001b[49m\u001b[43m,\u001b[49m\u001b[43m \u001b[49m\u001b[43malgo\u001b[49m\u001b[38;5;241;43m=\u001b[39;49m\u001b[38;5;124;43m'\u001b[39;49m\u001b[38;5;124;43mlstm\u001b[39;49m\u001b[38;5;124;43m'\u001b[39;49m\u001b[43m,\u001b[49m\u001b[43m \u001b[49m\u001b[43mlist_selected_features\u001b[49m\u001b[43m \u001b[49m\u001b[38;5;241;43m=\u001b[39;49m\u001b[43m \u001b[49m\u001b[43mlist_selected_features\u001b[49m\u001b[43m,\u001b[49m\n\u001b[1;32m     68\u001b[0m \u001b[43m                                        \u001b[49m\u001b[43morigin_city_meta_test_set\u001b[49m\u001b[38;5;241;43m=\u001b[39;49m\u001b[43m \u001b[49m\u001b[43morigin_city_meta_test_set\u001b[49m\u001b[43m,\u001b[49m\u001b[43m \u001b[49m\u001b[43my_scaler\u001b[49m\u001b[43m \u001b[49m\u001b[38;5;241;43m=\u001b[39;49m\u001b[43m \u001b[49m\u001b[43my_scaler\u001b[49m\u001b[43m,\u001b[49m\u001b[43m \u001b[49m\n\u001b[1;32m     69\u001b[0m \u001b[43m                                        \u001b[49m\u001b[43ms_selected_features\u001b[49m\u001b[38;5;241;43m=\u001b[39;49m\u001b[43m \u001b[49m\u001b[43ms_selected_features\u001b[49m\u001b[43m,\u001b[49m\u001b[43m \u001b[49m\u001b[43mtrain\u001b[49m\u001b[43m \u001b[49m\u001b[38;5;241;43m=\u001b[39;49m\u001b[43m \u001b[49m\u001b[43mtrain\u001b[49m\u001b[43m,\u001b[49m\u001b[43m \u001b[49m\u001b[43mtest\u001b[49m\u001b[43m \u001b[49m\u001b[38;5;241;43m=\u001b[39;49m\u001b[43m \u001b[49m\u001b[43mtest\u001b[49m\u001b[43m,\u001b[49m\u001b[43m \u001b[49m\n\u001b[1;32m     70\u001b[0m \u001b[43m                                        \u001b[49m\u001b[43msample_idx\u001b[49m\u001b[43m \u001b[49m\u001b[38;5;241;43m=\u001b[39;49m\u001b[43m \u001b[49m\u001b[43msample_index\u001b[49m\u001b[43m,\u001b[49m\u001b[43mcombination_idx\u001b[49m\u001b[38;5;241;43m=\u001b[39;49m\u001b[43m \u001b[49m\u001b[43mcombination_idx\u001b[49m\u001b[43m)\u001b[49m\n\u001b[1;32m     71\u001b[0m     one_lstm_opt_result\u001b[38;5;241m.\u001b[39mto_excel(prj_path_opt\u001b[38;5;241m+\u001b[39m\u001b[38;5;124m'\u001b[39m\u001b[38;5;124mopt_combination/\u001b[39m\u001b[38;5;124m'\u001b[39m\u001b[38;5;241m+\u001b[39mcity\u001b[38;5;241m+\u001b[39m\u001b[38;5;124m'\u001b[39m\u001b[38;5;124m_opt_hyperparam_LSTM_with_\u001b[39m\u001b[38;5;124m'\u001b[39m\u001b[38;5;241m+\u001b[39ms_selected_features\u001b[38;5;241m+\u001b[39m\u001b[38;5;124m'\u001b[39m\u001b[38;5;124m.xlsx\u001b[39m\u001b[38;5;124m'\u001b[39m)           \n\u001b[1;32m     73\u001b[0m \u001b[38;5;28;01mexcept\u001b[39;00m \u001b[38;5;167;01mException\u001b[39;00m \u001b[38;5;28;01mas\u001b[39;00m e:\n",
      "Cell \u001b[0;32mIn[15], line 61\u001b[0m, in \u001b[0;36mdo_optimize\u001b[0;34m(city, algo, list_selected_features, origin_city_meta_test_set, y_scaler, s_selected_features, train, test, sample_idx, combination_idx)\u001b[0m\n\u001b[1;32m     57\u001b[0m obj_func \u001b[38;5;241m=\u001b[39m \u001b[38;5;28;01mlambda\u001b[39;00m trial: objective_LSTM(trial, city, important_features,train_loader,test_tensor,test,y_scaler)\n\u001b[1;32m     59\u001b[0m \u001b[38;5;28;01mtry\u001b[39;00m:\n\u001b[1;32m     60\u001b[0m     \u001b[38;5;66;03m# Optimise over 100 trials\u001b[39;00m\n\u001b[0;32m---> 61\u001b[0m     \u001b[43mstudy\u001b[49m\u001b[38;5;241;43m.\u001b[39;49m\u001b[43moptimize\u001b[49m\u001b[43m(\u001b[49m\u001b[43mobj_func\u001b[49m\u001b[43m,\u001b[49m\u001b[43m \u001b[49m\u001b[43mn_trials\u001b[49m\u001b[38;5;241;43m=\u001b[39;49m\u001b[43mntry\u001b[49m\u001b[43m,\u001b[49m\u001b[43m \u001b[49m\u001b[43mn_jobs\u001b[49m\u001b[38;5;241;43m=\u001b[39;49m\u001b[43mnjob\u001b[49m\u001b[43m)\u001b[49m\n\u001b[1;32m     63\u001b[0m     \u001b[38;5;66;03m# Print results\u001b[39;00m\n\u001b[1;32m     64\u001b[0m     \u001b[38;5;28mprint\u001b[39m(\u001b[38;5;124m\"\u001b[39m\u001b[38;5;124mStudy statistics for : \u001b[39m\u001b[38;5;124m\"\u001b[39m)\n",
      "File \u001b[0;32m~/anaconda3/envs/climate_diseases_py39/lib/python3.9/site-packages/optuna/study/study.py:419\u001b[0m, in \u001b[0;36mStudy.optimize\u001b[0;34m(self, func, n_trials, timeout, n_jobs, catch, callbacks, gc_after_trial, show_progress_bar)\u001b[0m\n\u001b[1;32m    315\u001b[0m \u001b[38;5;28;01mdef\u001b[39;00m \u001b[38;5;21moptimize\u001b[39m(\n\u001b[1;32m    316\u001b[0m     \u001b[38;5;28mself\u001b[39m,\n\u001b[1;32m    317\u001b[0m     func: ObjectiveFuncType,\n\u001b[0;32m   (...)\u001b[0m\n\u001b[1;32m    324\u001b[0m     show_progress_bar: \u001b[38;5;28mbool\u001b[39m \u001b[38;5;241m=\u001b[39m \u001b[38;5;28;01mFalse\u001b[39;00m,\n\u001b[1;32m    325\u001b[0m ) \u001b[38;5;241m-\u001b[39m\u001b[38;5;241m>\u001b[39m \u001b[38;5;28;01mNone\u001b[39;00m:\n\u001b[1;32m    326\u001b[0m     \u001b[38;5;124;03m\"\"\"Optimize an objective function.\u001b[39;00m\n\u001b[1;32m    327\u001b[0m \n\u001b[1;32m    328\u001b[0m \u001b[38;5;124;03m    Optimization is done by choosing a suitable set of hyperparameter values from a given\u001b[39;00m\n\u001b[0;32m   (...)\u001b[0m\n\u001b[1;32m    416\u001b[0m \u001b[38;5;124;03m            If nested invocation of this method occurs.\u001b[39;00m\n\u001b[1;32m    417\u001b[0m \u001b[38;5;124;03m    \"\"\"\u001b[39;00m\n\u001b[0;32m--> 419\u001b[0m     \u001b[43m_optimize\u001b[49m\u001b[43m(\u001b[49m\n\u001b[1;32m    420\u001b[0m \u001b[43m        \u001b[49m\u001b[43mstudy\u001b[49m\u001b[38;5;241;43m=\u001b[39;49m\u001b[38;5;28;43mself\u001b[39;49m\u001b[43m,\u001b[49m\n\u001b[1;32m    421\u001b[0m \u001b[43m        \u001b[49m\u001b[43mfunc\u001b[49m\u001b[38;5;241;43m=\u001b[39;49m\u001b[43mfunc\u001b[49m\u001b[43m,\u001b[49m\n\u001b[1;32m    422\u001b[0m \u001b[43m        \u001b[49m\u001b[43mn_trials\u001b[49m\u001b[38;5;241;43m=\u001b[39;49m\u001b[43mn_trials\u001b[49m\u001b[43m,\u001b[49m\n\u001b[1;32m    423\u001b[0m \u001b[43m        \u001b[49m\u001b[43mtimeout\u001b[49m\u001b[38;5;241;43m=\u001b[39;49m\u001b[43mtimeout\u001b[49m\u001b[43m,\u001b[49m\n\u001b[1;32m    424\u001b[0m \u001b[43m        \u001b[49m\u001b[43mn_jobs\u001b[49m\u001b[38;5;241;43m=\u001b[39;49m\u001b[43mn_jobs\u001b[49m\u001b[43m,\u001b[49m\n\u001b[1;32m    425\u001b[0m \u001b[43m        \u001b[49m\u001b[43mcatch\u001b[49m\u001b[38;5;241;43m=\u001b[39;49m\u001b[43mcatch\u001b[49m\u001b[43m,\u001b[49m\n\u001b[1;32m    426\u001b[0m \u001b[43m        \u001b[49m\u001b[43mcallbacks\u001b[49m\u001b[38;5;241;43m=\u001b[39;49m\u001b[43mcallbacks\u001b[49m\u001b[43m,\u001b[49m\n\u001b[1;32m    427\u001b[0m \u001b[43m        \u001b[49m\u001b[43mgc_after_trial\u001b[49m\u001b[38;5;241;43m=\u001b[39;49m\u001b[43mgc_after_trial\u001b[49m\u001b[43m,\u001b[49m\n\u001b[1;32m    428\u001b[0m \u001b[43m        \u001b[49m\u001b[43mshow_progress_bar\u001b[49m\u001b[38;5;241;43m=\u001b[39;49m\u001b[43mshow_progress_bar\u001b[49m\u001b[43m,\u001b[49m\n\u001b[1;32m    429\u001b[0m \u001b[43m    \u001b[49m\u001b[43m)\u001b[49m\n",
      "File \u001b[0;32m~/anaconda3/envs/climate_diseases_py39/lib/python3.9/site-packages/optuna/study/_optimize.py:105\u001b[0m, in \u001b[0;36m_optimize\u001b[0;34m(study, func, n_trials, timeout, n_jobs, catch, callbacks, gc_after_trial, show_progress_bar)\u001b[0m\n\u001b[1;32m    102\u001b[0m                     \u001b[38;5;28;01mfor\u001b[39;00m f \u001b[38;5;129;01min\u001b[39;00m completed:\n\u001b[1;32m    103\u001b[0m                         f\u001b[38;5;241m.\u001b[39mresult()\n\u001b[0;32m--> 105\u001b[0m                 futures\u001b[38;5;241m.\u001b[39madd(\n\u001b[1;32m    106\u001b[0m                     executor\u001b[38;5;241m.\u001b[39msubmit(\n\u001b[1;32m    107\u001b[0m                         _optimize_sequential,\n\u001b[1;32m    108\u001b[0m                         study,\n\u001b[1;32m    109\u001b[0m                         func,\n\u001b[1;32m    110\u001b[0m                         \u001b[38;5;241m1\u001b[39m,\n\u001b[1;32m    111\u001b[0m                         timeout,\n\u001b[1;32m    112\u001b[0m                         catch,\n\u001b[1;32m    113\u001b[0m                         callbacks,\n\u001b[1;32m    114\u001b[0m                         gc_after_trial,\n\u001b[1;32m    115\u001b[0m                         \u001b[38;5;28;01mTrue\u001b[39;00m,\n\u001b[1;32m    116\u001b[0m                         time_start,\n\u001b[1;32m    117\u001b[0m                         progress_bar,\n\u001b[1;32m    118\u001b[0m                     )\n\u001b[1;32m    119\u001b[0m                 )\n\u001b[1;32m    120\u001b[0m \u001b[38;5;28;01mfinally\u001b[39;00m:\n\u001b[1;32m    121\u001b[0m     study\u001b[38;5;241m.\u001b[39m_optimize_lock\u001b[38;5;241m.\u001b[39mrelease()\n",
      "File \u001b[0;32m~/anaconda3/envs/climate_diseases_py39/lib/python3.9/concurrent/futures/_base.py:637\u001b[0m, in \u001b[0;36mExecutor.__exit__\u001b[0;34m(self, exc_type, exc_val, exc_tb)\u001b[0m\n\u001b[1;32m    636\u001b[0m \u001b[38;5;28;01mdef\u001b[39;00m \u001b[38;5;21m__exit__\u001b[39m(\u001b[38;5;28mself\u001b[39m, exc_type, exc_val, exc_tb):\n\u001b[0;32m--> 637\u001b[0m     \u001b[38;5;28;43mself\u001b[39;49m\u001b[38;5;241;43m.\u001b[39;49m\u001b[43mshutdown\u001b[49m\u001b[43m(\u001b[49m\u001b[43mwait\u001b[49m\u001b[38;5;241;43m=\u001b[39;49m\u001b[38;5;28;43;01mTrue\u001b[39;49;00m\u001b[43m)\u001b[49m\n\u001b[1;32m    638\u001b[0m     \u001b[38;5;28;01mreturn\u001b[39;00m \u001b[38;5;28;01mFalse\u001b[39;00m\n",
      "File \u001b[0;32m~/anaconda3/envs/climate_diseases_py39/lib/python3.9/concurrent/futures/thread.py:235\u001b[0m, in \u001b[0;36mThreadPoolExecutor.shutdown\u001b[0;34m(self, wait, cancel_futures)\u001b[0m\n\u001b[1;32m    233\u001b[0m \u001b[38;5;28;01mif\u001b[39;00m wait:\n\u001b[1;32m    234\u001b[0m     \u001b[38;5;28;01mfor\u001b[39;00m t \u001b[38;5;129;01min\u001b[39;00m \u001b[38;5;28mself\u001b[39m\u001b[38;5;241m.\u001b[39m_threads:\n\u001b[0;32m--> 235\u001b[0m         \u001b[43mt\u001b[49m\u001b[38;5;241;43m.\u001b[39;49m\u001b[43mjoin\u001b[49m\u001b[43m(\u001b[49m\u001b[43m)\u001b[49m\n",
      "File \u001b[0;32m~/anaconda3/envs/climate_diseases_py39/lib/python3.9/threading.py:1060\u001b[0m, in \u001b[0;36mThread.join\u001b[0;34m(self, timeout)\u001b[0m\n\u001b[1;32m   1057\u001b[0m     \u001b[38;5;28;01mraise\u001b[39;00m \u001b[38;5;167;01mRuntimeError\u001b[39;00m(\u001b[38;5;124m\"\u001b[39m\u001b[38;5;124mcannot join current thread\u001b[39m\u001b[38;5;124m\"\u001b[39m)\n\u001b[1;32m   1059\u001b[0m \u001b[38;5;28;01mif\u001b[39;00m timeout \u001b[38;5;129;01mis\u001b[39;00m \u001b[38;5;28;01mNone\u001b[39;00m:\n\u001b[0;32m-> 1060\u001b[0m     \u001b[38;5;28;43mself\u001b[39;49m\u001b[38;5;241;43m.\u001b[39;49m\u001b[43m_wait_for_tstate_lock\u001b[49m\u001b[43m(\u001b[49m\u001b[43m)\u001b[49m\n\u001b[1;32m   1061\u001b[0m \u001b[38;5;28;01melse\u001b[39;00m:\n\u001b[1;32m   1062\u001b[0m     \u001b[38;5;66;03m# the behavior of a negative timeout isn't documented, but\u001b[39;00m\n\u001b[1;32m   1063\u001b[0m     \u001b[38;5;66;03m# historically .join(timeout=x) for x<0 has acted as if timeout=0\u001b[39;00m\n\u001b[1;32m   1064\u001b[0m     \u001b[38;5;28mself\u001b[39m\u001b[38;5;241m.\u001b[39m_wait_for_tstate_lock(timeout\u001b[38;5;241m=\u001b[39m\u001b[38;5;28mmax\u001b[39m(timeout, \u001b[38;5;241m0\u001b[39m))\n",
      "File \u001b[0;32m~/anaconda3/envs/climate_diseases_py39/lib/python3.9/threading.py:1080\u001b[0m, in \u001b[0;36mThread._wait_for_tstate_lock\u001b[0;34m(self, block, timeout)\u001b[0m\n\u001b[1;32m   1077\u001b[0m     \u001b[38;5;28;01mreturn\u001b[39;00m\n\u001b[1;32m   1079\u001b[0m \u001b[38;5;28;01mtry\u001b[39;00m:\n\u001b[0;32m-> 1080\u001b[0m     \u001b[38;5;28;01mif\u001b[39;00m \u001b[43mlock\u001b[49m\u001b[38;5;241;43m.\u001b[39;49m\u001b[43macquire\u001b[49m\u001b[43m(\u001b[49m\u001b[43mblock\u001b[49m\u001b[43m,\u001b[49m\u001b[43m \u001b[49m\u001b[43mtimeout\u001b[49m\u001b[43m)\u001b[49m:\n\u001b[1;32m   1081\u001b[0m         lock\u001b[38;5;241m.\u001b[39mrelease()\n\u001b[1;32m   1082\u001b[0m         \u001b[38;5;28mself\u001b[39m\u001b[38;5;241m.\u001b[39m_stop()\n",
      "\u001b[0;31mKeyboardInterrupt\u001b[0m: "
     ]
    }
   ],
   "source": [
    "dt_started = datetime.now()\n",
    "\n",
    "l_errCity = {} # có lỗi sẽ lưu vào đây, kiểm tra ngay cell sau\n",
    "\n",
    "# city_list = ['An Giang']\n",
    "# Với mỗi thành phố, loop qua từng bộ tr/validation, cho train/predict N tổ hợp models\n",
    "for city in cities:\n",
    "  pd_all_rows_new_meta_data = pd.DataFrame()\n",
    "\n",
    "  for sample_index in  range(0,len(l_train_indices)):\n",
    "\n",
    "    pd_one_row_new_meta_data = pd.DataFrame()\n",
    "    combination_idx = 0\n",
    "    for combination_features in combs_features:            \n",
    "      list_selected_features = [x for x in combination_features] +['Observed'] # Lấy danh sách tên các features + cột Observed \n",
    "      s_selected_features = '-'.join([str(elem) for elem in list_selected_features])      \n",
    "\n",
    "      # Có trong danh sách chọn lựa thì thực hiện optimize\n",
    "      if((is_in_Selected_combination('CNN*'+s_selected_features)==True) or (is_in_Selected_combination('LSTM*'+s_selected_features) == True)):        \n",
    "        args.n_features = len(list_selected_features) \n",
    "        args.look_back = meta_lookback_window  \n",
    "        cnn_metrics = pd.DataFrame()\n",
    "        lstm_metrics = pd.DataFrame()\n",
    "\n",
    "        try:\n",
    "          # Lấy data từ train set và chia ra theo valiation\n",
    "          origin_city_meta_train_set = meta_train_set_city[city]\n",
    "          origin_city_meta_test_set = meta_test_set_city[city]\n",
    "          \n",
    "          train = origin_city_meta_train_set.iloc[l_train_indices[sample_index]]\n",
    "          test = origin_city_meta_train_set.iloc[l_test_indices[sample_index]]        \n",
    "\n",
    "          # Data train/test processing for all Meta model\n",
    "          train = train.astype(float)\n",
    "          test = test.astype(float)\n",
    "\n",
    "          train = train.replace((np.inf, -np.inf, np.nan), 0)\n",
    "          test = test.replace((np.inf, -np.inf, np.nan), 0) \n",
    "        \n",
    "          # Đoạn này impute các trường hợp rỗng\n",
    "          train = impute_missing_value(train)\n",
    "          test = impute_missing_value(test)\n",
    "\n",
    "          # Fit data scaler to training data\n",
    "          full_scaler = MinMaxScaler().fit(train)\n",
    "          y_scaler = MinMaxScaler().fit(train.values[:, -1].reshape(-1, 1))\n",
    "\n",
    "          # Scale train and test data\n",
    "          train = full_scaler.transform(train)\n",
    "          test = full_scaler.transform(test)\n",
    "\n",
    "          if(is_in_Selected_combination('CNN*'+s_selected_features)==True):\n",
    "            ########################################\n",
    "            ########## làm optimize cho CNN \n",
    "            ########################################\n",
    "\n",
    "            one_cnn_opt_result = do_optimize(city =city, algo='cnn', list_selected_features = list_selected_features,\n",
    "                                                origin_city_meta_test_set= origin_city_meta_test_set, y_scaler = y_scaler, \n",
    "                                                s_selected_features= s_selected_features, train = train, test = test, \n",
    "                                                sample_idx = sample_index,combination_idx= combination_idx)\n",
    "            one_cnn_opt_result.to_excel(prj_path_opt+'opt_combination/'+city+'_opt_CNN_with_'+s_selected_features+'.xlsx') \n",
    "\n",
    "          if(is_in_Selected_combination('LSTM*'+s_selected_features)==True):\n",
    "            ########################################\n",
    "            ########## LSTM \n",
    "            ########################################\n",
    "            one_lstm_opt_result = do_optimize(city =city, algo='lstm', list_selected_features = list_selected_features,\n",
    "                                                origin_city_meta_test_set= origin_city_meta_test_set, y_scaler = y_scaler, \n",
    "                                                s_selected_features= s_selected_features, train = train, test = test, \n",
    "                                                sample_idx = sample_index,combination_idx= combination_idx)\n",
    "            one_lstm_opt_result.to_excel(prj_path_opt+'opt_combination/'+city+'_opt_hyperparam_LSTM_with_'+s_selected_features+'.xlsx')           \n",
    "\n",
    "        except Exception as e:\n",
    "          l_errCity[city] = e\n",
    "          break    \n",
    "    send_to_telegram(city)\n",
    "print(l_errCity)\n",
    "# Telegram vào"
   ]
  },
  {
   "cell_type": "code",
   "execution_count": null,
   "metadata": {},
   "outputs": [],
   "source": []
  }
 ],
 "metadata": {
  "accelerator": "GPU",
  "colab": {
   "collapsed_sections": [],
   "machine_shape": "hm",
   "provenance": []
  },
  "gpuClass": "premium",
  "kernelspec": {
   "display_name": "Python 3",
   "language": "python",
   "name": "python3"
  },
  "language_info": {
   "codemirror_mode": {
    "name": "ipython",
    "version": 3
   },
   "file_extension": ".py",
   "mimetype": "text/x-python",
   "name": "python",
   "nbconvert_exporter": "python",
   "pygments_lexer": "ipython3",
   "version": "3.9.13"
  },
  "toc": {
   "base_numbering": 1,
   "nav_menu": {},
   "number_sections": true,
   "sideBar": true,
   "skip_h1_title": false,
   "title_cell": "Table of Contents",
   "title_sidebar": "Contents",
   "toc_cell": false,
   "toc_position": {},
   "toc_section_display": true,
   "toc_window_display": false
  },
  "vscode": {
   "interpreter": {
    "hash": "fe0c8757cd5c56d3f14ea3dfb2cdcbe263e0c7c6548ba4aed616ce8d5c9e5f40"
   }
  }
 },
 "nbformat": 4,
 "nbformat_minor": 1
}
